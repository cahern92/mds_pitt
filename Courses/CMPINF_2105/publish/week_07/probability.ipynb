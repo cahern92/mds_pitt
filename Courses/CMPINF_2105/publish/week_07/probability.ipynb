{
 "cells": [
  {
   "cell_type": "code",
   "execution_count": 1,
   "metadata": {
    "slideshow": {
     "slide_type": "skip"
    }
   },
   "outputs": [],
   "source": [
    "import numpy as np\n",
    "import matplotlib.pyplot as plt\n",
    "%matplotlib inline\n",
    "import ipywidgets as widgets\n",
    "import pandas as pd\n",
    "import sympy,scipy\n",
    "from fractions import Fraction"
   ]
  },
  {
   "cell_type": "markdown",
   "metadata": {
    "slideshow": {
     "slide_type": "skip"
    }
   },
   "source": [
    "$$\n",
    "\\newcommand{\\gap}{\\hspace{.25cm}}\n",
    "\\newcommand{\\gmath}{\\hspace{.25cm}\\displaystyle}\n",
    "$$"
   ]
  },
  {
   "cell_type": "markdown",
   "metadata": {
    "slideshow": {
     "slide_type": "slide"
    }
   },
   "source": [
    "# Intro to Probability Theory\n",
    "\n",
    "What is probability? "
   ]
  },
  {
   "cell_type": "markdown",
   "metadata": {
    "slideshow": {
     "slide_type": "fragment"
    }
   },
   "source": [
    "**Probability** is a type of mathematics for describing the odds of different outcomes.\n",
    "\n",
    "**Probability theory** tells us how to apply different probabilistic models to real-world situations."
   ]
  },
  {
   "cell_type": "markdown",
   "metadata": {
    "slideshow": {
     "slide_type": "subslide"
    }
   },
   "source": [
    "Consider flipping a fair coin. Typicallly, we expect the coin will land heads half of the time and tails half of the time.\n",
    "\n",
    "Meanwhile, physicists completely understand the physics behind flipping a coin and, with enough resources, we could design a coin-flipping device that produces any desired coin-flip outcome every time.\n",
    "\n",
    "But such a device is impractical and so we instead <i>model</i> coin flips as random events with outcomes determined by probabilities.\n",
    "\n",
    "Efforts to predict the weather are similar. Meterologists understand the phyiscs governing the weather, but computational constraints limit our ability to predict weather too far in advance. This leads to probability-based weather predictions; for example, \"there is a 30% chance of rain today\""
   ]
  },
  {
   "cell_type": "markdown",
   "metadata": {
    "slideshow": {
     "slide_type": "subslide"
    }
   },
   "source": [
    "The ***probability*** of an outcome is a number between 0 and 1 with larger numbers indicating more likely outcomes.\n",
    "\n",
    "Usually, we are considering a complete set of all possible outcomes from some event and comparing the probability of each outcome.\n",
    "\n",
    "For example, the event of flipping a coin has two possible outcomes $C=\\{H,T\\}$ where denote the probability of getting heads as $p(C=H)$ or, if context is clear, then simply $p(H)$.\n",
    "\n",
    "No other outcomes are possible for this event, and so, it must be the $p(H)+p(T)=1$\n",
    "\n",
    "If $p(H)+p(T)<1$, then there is some probability of an outcome from the coin flip besides $C=H$ or $C=T$. \n",
    "\n",
    "Thus, if $C=H$ and $C=T$ are the only possible outcomes, then $p(H)+p(T)=1$"
   ]
  },
  {
   "cell_type": "markdown",
   "metadata": {
    "slideshow": {
     "slide_type": "subslide"
    }
   },
   "source": [
    "Similarly, if the event is rolling a 6-sided die, then the possible outcomes are $D=\\{1,2,3,4,5,6\\}$ and, just as before, $\\hspace{.5cm}\\displaystyle1=\\sum_{d\\in D} p(D=d)$\n",
    "\n",
    "But how do we determine the probabilities for each outcome; for example, what is $p(D=1)$?"
   ]
  },
  {
   "cell_type": "markdown",
   "metadata": {
    "slideshow": {
     "slide_type": "fragment"
    }
   },
   "source": [
    "The most common strategy is called the <i>frequentist approach</i> which states that the probability of an outcome is the relative frequency of that outcome following many independent trials of the event in question.\n",
    "\n",
    "Here, **independent** means that previous trials in no way effect future trials. For example, flipping a coin now does not change the probability of a future coin flip yielding heads.\n",
    "\n",
    "If we roll a fair 6-sided dice enough times, then we will see that $D=1$ occurs roughly $1/6$ of the time so say $p(D=1)=1/6$."
   ]
  },
  {
   "cell_type": "markdown",
   "metadata": {
    "slideshow": {
     "slide_type": "subslide"
    }
   },
   "source": [
    "But what if the die is not fair? What if the die is weighted to favor certain outcomes?"
   ]
  },
  {
   "cell_type": "code",
   "execution_count": 2,
   "metadata": {
    "hideCode": false,
    "hidePrompt": false,
    "slideshow": {
     "slide_type": "fragment"
    }
   },
   "outputs": [
    {
     "data": {
      "application/vnd.jupyter.widget-view+json": {
       "model_id": "9fe8b9b256334227a5d235f302f25997",
       "version_major": 2,
       "version_minor": 0
      },
      "text/plain": [
       "HBox(children=(VBox(children=(IntSlider(value=100, description='Rolls:', max=10000, min=10, step=10), FloatSli…"
      ]
     },
     "execution_count": 2,
     "metadata": {},
     "output_type": "execute_result"
    }
   ],
   "source": [
    "# hide\n",
    "def roll_dice(num_rolls, bias):\n",
    "    \"\"\"\n",
    "    Simulates rolling a six-sided dice multiple times with a given bias.\n",
    "\n",
    "    Inputs:\n",
    "    - num_rolls (int): Number of dice rolls to perform.\n",
    "    - bias (float): A value between 0 and 1 indicating the bias in the dice.\n",
    "                    0 means lower rolls are more likely, 1 means higher rolls are more likely,\n",
    "                    and 0.5 means all outcomes are equally likely (fair dice).\n",
    "\n",
    "    Outputs:\n",
    "    - outcomes (list): List of dice roll outcomes.\n",
    "    \"\"\"\n",
    "    B = np.arange(1,7).astype(float)\n",
    "    B /= np.sum(B)\n",
    "    b = 1/6*np.ones(6)\n",
    "    w = 2*(bias-.5)*(B-b)\n",
    "    weights = b+w\n",
    "    outcomes = np.random.choice([1, 2, 3, 4, 5, 6], size=num_rolls, p=weights)\n",
    "    return outcomes\n",
    "\n",
    "def plot_dice_rolls(num_rolls, bias,showProbability=False):\n",
    "    outcomes = roll_dice(num_rolls, bias)\n",
    "    plt.figure(figsize=(10,6))\n",
    "    plt.hist(outcomes, bins=np.arange(1, 8)-0.5, edgecolor='black',density=showProbability)\n",
    "    plt.xticks(range(1, 7),fontsize=15)\n",
    "    plt.yticks(fontsize=15)\n",
    "    plt.xlabel(\"Dice Roll Outcome\",fontsize=15)\n",
    "    if showProbability:\n",
    "        plt.ylabel(\"Probability\",fontsize=15)\n",
    "    else:\n",
    "        plt.ylabel(\"Frequency\",fontsize=15)\n",
    "    plt.title(\"Histogram of Dice Roll Outcomes\",fontsize=15)\n",
    "\n",
    "roll_slider = widgets.IntSlider(value=100, min=10, max=10_000, step=10, description='Rolls:')\n",
    "bias_slider = widgets.FloatSlider(value=0.5, min=0, max=1, step=0.01, description='Bias:')\n",
    "showProbDice_check = widgets.Checkbox(value=False,description=\"Show Probabilities:\")\n",
    "\n",
    "widgets.HBox([\n",
    "    widgets.VBox([roll_slider, bias_slider,showProbDice_check]),\n",
    "    widgets.interactive_output(plot_dice_rolls, {\n",
    "        'num_rolls': roll_slider, \n",
    "        'bias': bias_slider,\n",
    "        \"showProbability\":showProbDice_check}),\n",
    "])"
   ]
  },
  {
   "cell_type": "markdown",
   "metadata": {
    "slideshow": {
     "slide_type": "subslide"
    }
   },
   "source": [
    "This bar plot is called a ***histogram*** which visualizes the number of trials yielding each outcome after many trials.\n",
    "\n",
    "Dividing these counts by the number of trials gives the probabilities that each outcome will occur.\n",
    "\n",
    "These probabilities will vary if the number of trials is small but stabilize as the number of trials increases.\n",
    "\n",
    "These stable probabilities define a ***probability distribution*** which is the set of probabilities associated with every possible outcome from an event. \n",
    "\n",
    "Probability distributions take many shapes, but always they sum to 1."
   ]
  },
  {
   "cell_type": "markdown",
   "metadata": {
    "hideCode": false,
    "slideshow": {
     "slide_type": "subslide"
    }
   },
   "source": [
    "Since we use probability to model real-world events (e.g., saying \"this race is like a coin flip\" or probability-based weather predictions), picking the right probability distribution is critical both for prediction and for detecting outcomes that are surprising.\n",
    "\n",
    "For example, imagine we are trying to assess if a basket ball player is an exceptional free-throw shooter. For each free-throw, the possible outcomes are $X=\\{\\text{makes it},\\text{misses it}\\}$ and we can look at the players statistics to see the historical probabilities $p(\\text{makes it})$ and $p(\\text{misses it})$.\n",
    "\n",
    "Because there are two possible outcomes with each free-throw, we might compare the players performance to a coin flip which also has two possible outcomes.\n",
    "\n",
    "However, most basketball players make their free-throws more often than 50%. This means that modeling free-throws as a random fair coin flip might not be the right choice. \n",
    "\n",
    "Instead, we might consider flipping a weighted unfair coin with weights so that the probability of heads is similar to the average rate of good free-throw shots across the entire basketball league."
   ]
  },
  {
   "cell_type": "markdown",
   "metadata": {
    "slideshow": {
     "slide_type": "slide"
    }
   },
   "source": [
    "# Probability is Area \n",
    "\n",
    "This statement may be strange at first. I previously told you that probability is a number between 0 and 1.\n",
    "\n",
    "But look again at the dice roll histogram.\n",
    "\n",
    "Previously, we focused on the heights of each bar to tell us the probabilities associated with each outcome.\n",
    "\n",
    "But, because each bar has the same width, we could equivalently use the area contained in each bar to represent the probability of each outcome.\n",
    "\n",
    "Interpreting probability as area will prove to be more useful."
   ]
  },
  {
   "cell_type": "code",
   "execution_count": 3,
   "metadata": {
    "hideCode": false,
    "hidePrompt": false,
    "slideshow": {
     "slide_type": "subslide"
    }
   },
   "outputs": [
    {
     "data": {
      "application/vnd.jupyter.widget-view+json": {
       "model_id": "34bdc292b22b48929be5742fe8d229ee",
       "version_major": 2,
       "version_minor": 0
      },
      "text/plain": [
       "HBox(children=(VBox(children=(IntSlider(value=100, description='Rolls:', max=10000, min=10, step=10), FloatSli…"
      ]
     },
     "execution_count": 3,
     "metadata": {},
     "output_type": "execute_result"
    }
   ],
   "source": [
    "# hide\n",
    "widgets.HBox([\n",
    "    widgets.VBox([roll_slider, bias_slider,showProbDice_check]),\n",
    "    widgets.interactive_output(plot_dice_rolls, {\n",
    "        'num_rolls': roll_slider, \n",
    "        'bias': bias_slider,\n",
    "        \"showProbability\":showProbDice_check}),\n",
    "])"
   ]
  },
  {
   "cell_type": "markdown",
   "metadata": {
    "slideshow": {
     "slide_type": "subslide"
    }
   },
   "source": [
    "But here is an alternative view based on the area interpretation of the probability associated with each dice roll outcome."
   ]
  },
  {
   "cell_type": "code",
   "execution_count": 4,
   "metadata": {
    "slideshow": {
     "slide_type": "skip"
    }
   },
   "outputs": [],
   "source": [
    "from matplotlib.colors import ListedColormap\n",
    "import matplotlib\n",
    "\n",
    "def discreteRectPlot(outcomes,width,height,cmap=\"viridis\",cbarLabel=\"\",showCells=True):\n",
    "    outcomes = np.sort(outcomes)\n",
    "    outcomes = np.reshape(outcomes,(width,height))\n",
    "    plt.figure(figsize=(10,6))\n",
    "    m,M = np.min(outcomes),np.max(outcomes)\n",
    "    plt.pcolormesh(\n",
    "        outcomes,\n",
    "       cmap= plt.get_cmap(cmap, M - m + 1),\n",
    "       vmin= m - 0.5, \n",
    "       vmax= M + 0.5,\n",
    "        edgecolors='k', \n",
    "        linewidth=2 if showCells else 0,\n",
    "    )\n",
    "    plt.xticks([])\n",
    "    plt.yticks([])\n",
    "    C = plt.colorbar(ticks=np.arange(m,M+1),)\n",
    "    C.ax.tick_params(labelsize=15)\n",
    "    C.set_label(cbarLabel,fontsize=15)"
   ]
  },
  {
   "cell_type": "code",
   "execution_count": 5,
   "metadata": {
    "hideCode": true,
    "hidePrompt": true,
    "slideshow": {
     "slide_type": "fragment"
    }
   },
   "outputs": [
    {
     "data": {
      "application/vnd.jupyter.widget-view+json": {
       "model_id": "37a3866b3cee4d729c170eb24f770b21",
       "version_major": 2,
       "version_minor": 0
      },
      "text/plain": [
       "HBox(children=(VBox(children=(IntSlider(value=5, description='Rolls:', max=50, min=5, step=10), FloatSlider(va…"
      ]
     },
     "execution_count": 5,
     "metadata": {},
     "output_type": "execute_result"
    }
   ],
   "source": [
    "# hide\n",
    "def plot_dice_rolls_rect(rolls,bias,showCells=True):\n",
    "    outcomes = roll_dice(rolls**2, bias)\n",
    "    discreteRectPlot(outcomes,rolls,rolls,cbarLabel=\"Dice Roll Outcome\",showCells=showCells)\n",
    "    plt.title(\"Each Cell is a Dice Roll\",fontsize=15)\n",
    "    \n",
    "roll_rect_slider = widgets.IntSlider(value=5, min=5, max=50, step=10, description='Rolls:')\n",
    "# bias_slider = widgets.FloatSlider(value=0.5, min=0, max=1, step=0.01, description='Bias:')\n",
    "showCell_check = widgets.Checkbox(value=False,description=\"Show Each Cell:\")\n",
    "    \n",
    "widgets.HBox([\n",
    "    widgets.VBox([roll_rect_slider, bias_slider,showCell_check]),\n",
    "    widgets.interactive_output(plot_dice_rolls_rect, {\n",
    "        'rolls': roll_rect_slider, \n",
    "        'bias': bias_slider,\n",
    "        \"showCells\":showCell_check}),\n",
    "])"
   ]
  },
  {
   "cell_type": "code",
   "execution_count": 6,
   "metadata": {
    "slideshow": {
     "slide_type": "skip"
    }
   },
   "outputs": [],
   "source": [
    "def probDistRect(probs,labels=None,dim=100,cmap=\"viridis\",cbarLabel=\"Categories\"):\n",
    "    n = len(probs)\n",
    "    if labels is None:\n",
    "        labels = np.arange(n)\n",
    "    sampleSize = dim**2\n",
    "    data = np.zeros(sampleSize)\n",
    "    index = 0\n",
    "    for i in range(n):\n",
    "        p = probs[i]\n",
    "        s = int(np.ceil(p*sampleSize))\n",
    "        data[index:np.min([sampleSize,index+s])] = i\n",
    "        index += s\n",
    "    data = np.reshape(data,(dim,dim))\n",
    "    plt.imshow(\n",
    "        data,aspect=\"auto\",interpolation=\"nearest\",\n",
    "        cmap= plt.get_cmap(cmap, n),\n",
    "        vmin= -0.5, \n",
    "        vmax= n-.5,\n",
    "        origin=\"lower\",\n",
    "    )\n",
    "    plt.xticks([])\n",
    "    plt.yticks([])\n",
    "    C = plt.colorbar(ticks=np.arange(0,n),)\n",
    "    C.ax.tick_params(labelsize=15)\n",
    "    C.ax.set_yticklabels(labels)\n",
    "    C.set_label(cbarLabel,fontsize=15)"
   ]
  },
  {
   "cell_type": "markdown",
   "metadata": {
    "slideshow": {
     "slide_type": "subslide"
    }
   },
   "source": [
    "Here is another example using a coin flip. \n",
    "\n",
    "As we change the weight of the coin (e.g., making heads more or less likely), we see the area associated with each outcome changes."
   ]
  },
  {
   "cell_type": "code",
   "execution_count": 9,
   "metadata": {
    "hideCode": false,
    "hidePrompt": false,
    "slideshow": {
     "slide_type": "fragment"
    }
   },
   "outputs": [
    {
     "data": {
      "application/vnd.jupyter.widget-view+json": {
       "model_id": "33ce0f545e7c4e9689371bfb2ba2ef28",
       "version_major": 2,
       "version_minor": 0
      },
      "text/plain": [
       "interactive(children=(FloatSlider(value=0.5, description='headsProbability', max=1.0, step=0.01), Output()), _…"
      ]
     },
     "execution_count": 9,
     "metadata": {},
     "output_type": "execute_result"
    }
   ],
   "source": [
    "# hide\n",
    "def coinFlip(headsProbability=.5):\n",
    "    probDistRect([headsProbability,1-headsProbability],['Heads','Tails'],cbarLabel=\"Coin Flip Outcome\")\n",
    "    \n",
    "widgets.interactive(coinFlip,headsProbability=(0,1,.01))"
   ]
  },
  {
   "cell_type": "markdown",
   "metadata": {
    "slideshow": {
     "slide_type": "subslide"
    }
   },
   "source": [
    "With this area visualization, it's easy to see that, for outcomes $A$ and $B$, the probability of $A$ ***or*** $B$ occuring is the sum of areas $p(A)$ and $p(B)$ (so long as $A$ and $B$ are independent).\n",
    "\n",
    "That is, if $A$ and $B$ are independent, then\n",
    "$\n",
    "\\hspace{.5cm}\n",
    "\\displaystyle\n",
    "p(A\\cup B) = p(A)+p(B)\n",
    "$\n",
    "\n",
    "Consider the dice roll example. The probability of rolling a 1 or a 2 is the sum of the areas $p(D=1)$ and $p(D=2)$."
   ]
  },
  {
   "cell_type": "code",
   "execution_count": 10,
   "metadata": {
    "hideCode": true,
    "hidePrompt": true,
    "slideshow": {
     "slide_type": "fragment"
    }
   },
   "outputs": [
    {
     "data": {
      "application/vnd.jupyter.widget-view+json": {
       "model_id": "30e1b61db1004aaf93f803823e05e0de",
       "version_major": 2,
       "version_minor": 0
      },
      "text/plain": [
       "HBox(children=(VBox(children=(IntSlider(value=5, description='Rolls:', max=50, min=5, step=10), FloatSlider(va…"
      ]
     },
     "execution_count": 10,
     "metadata": {},
     "output_type": "execute_result"
    }
   ],
   "source": [
    "# hide\n",
    "widgets.HBox([\n",
    "    widgets.VBox([roll_rect_slider, bias_slider,showCell_check]),\n",
    "    widgets.interactive_output(plot_dice_rolls_rect, {\n",
    "        'rolls': roll_rect_slider, \n",
    "        'bias': bias_slider,\n",
    "        \"showCells\":showCell_check}),\n",
    "])"
   ]
  },
  {
   "cell_type": "markdown",
   "metadata": {
    "slideshow": {
     "slide_type": "slide"
    }
   },
   "source": [
    "# Conditional Probability\n",
    "\n",
    "Previously, we discussed that if $A$ and $B$ are independent, then\n",
    "$\n",
    "\\hspace{.5cm}\n",
    "\\displaystyle\n",
    "p(A\\cup B) = p(A)+p(B)\n",
    "$\n",
    "\n",
    "But what is outcomes $A$ and $B$ are not independent?\n",
    "\n",
    "This means that having the outcome $A$ changes the probability of having the outcome $B$."
   ]
  },
  {
   "cell_type": "code",
   "execution_count": 57,
   "metadata": {
    "hideCode": false,
    "hidePrompt": false,
    "slideshow": {
     "slide_type": "skip"
    }
   },
   "outputs": [
    {
     "data": {
      "application/vnd.jupyter.widget-view+json": {
       "model_id": "24b71c644a924ac18f6da083e5b29dbe",
       "version_major": 2,
       "version_minor": 0
      },
      "text/plain": [
       "HBox(children=(VBox(children=(FloatSlider(value=0.4, description='P_A:', max=1.0, step=0.01), FloatSlider(valu…"
      ]
     },
     "execution_count": 57,
     "metadata": {},
     "output_type": "execute_result"
    }
   ],
   "source": [
    "# hide\n",
    "from matplotlib_venn import venn2,venn3\n",
    "\n",
    "def plotVenn(P_A,P_B,P_A_and_B):\n",
    "    plt.figure(figsize=(8,6),linewidth=10, edgecolor=\"black\", facecolor=\"white\")\n",
    "    venn2(subsets=(P_A, P_B, P_A_and_B), set_labels=('A', 'B'),set_colors=('yellow','b'))\n",
    "\n",
    "# Display the plot\n",
    "# plt.show()\n",
    "P_A_slider = widgets.FloatSlider(min=0,max=1,step=.01,value=.4,description=\"P_A:\")\n",
    "P_B_slider = widgets.FloatSlider(min=0,max=1,step=.01,value=.4,description=\"P_B:\")\n",
    "P_AB_slider = widgets.FloatSlider(min=0,max=1,step=.01,value=.4,description=\"P_A_and_B:\")\n",
    "\n",
    "widgets.HBox(\n",
    "    [\n",
    "        widgets.VBox([P_A_slider,P_B_slider,P_AB_slider,]),\n",
    "        widgets.interactive_output(\n",
    "            plotVenn, {\n",
    "        'P_A': P_A_slider , \n",
    "        'P_B': P_B_slider ,\n",
    "        \"P_A_and_B\":P_AB_slider }),\n",
    "    ]\n",
    ")"
   ]
  },
  {
   "cell_type": "markdown",
   "metadata": {
    "slideshow": {
     "slide_type": "subslide"
    }
   },
   "source": [
    "Imagine a scenario where outcomes $A$ and $B$ can occur at the same time (i.e., $A\\cap B$)\n",
    "\n",
    "For example, imagine a two-step random process where we first flip coin with probabilities $p(H)$ for heads and $p(T)$ for tails.\n",
    "\n",
    "If we get heads, then we roll a fair 6-sided dice.\n",
    "\n",
    "If we get tails, then we roll a fair 20-sided dice."
   ]
  },
  {
   "cell_type": "markdown",
   "metadata": {
    "slideshow": {
     "slide_type": "subslide"
    }
   },
   "source": [
    "Probability distribution across dice outcomes.\n",
    "\n",
    "We see that low dice rolls are more likely because they can occur under either coin flip outcome.\n",
    "\n",
    "Use the slider to change $p(H)$"
   ]
  },
  {
   "cell_type": "code",
   "execution_count": 11,
   "metadata": {
    "hideCode": false,
    "hidePrompt": false,
    "slideshow": {
     "slide_type": "fragment"
    }
   },
   "outputs": [
    {
     "data": {
      "application/vnd.jupyter.widget-view+json": {
       "model_id": "64315114c1dd49948af5332381a80f21",
       "version_major": 2,
       "version_minor": 0
      },
      "text/plain": [
       "interactive(children=(FloatSlider(value=0.5, description='pH', max=1.0, step=0.01), Output()), _dom_classes=('…"
      ]
     },
     "execution_count": 11,
     "metadata": {},
     "output_type": "execute_result"
    }
   ],
   "source": [
    "# hide\n",
    "def coinFlipDiceGame(pH = .5):\n",
    "    pT = 1-pH\n",
    "    outcomes = np.arange(0,20)+1\n",
    "    p = np.zeros(len(outcomes))\n",
    "    p[:6] = pH/6 + pT/20\n",
    "    p[6:] = pT/20\n",
    "    plt.figure(figsize=(20,8))\n",
    "    plt.subplot(1,2,1)\n",
    "    plt.bar(np.arange(1, 21),height=p, edgecolor='black',align=\"center\")\n",
    "    plt.xticks(np.arange(1,21,2),fontsize=15)\n",
    "    plt.xlabel(\"Dice Outcome\",fontsize=15)\n",
    "    plt.yticks(fontsize=15)\n",
    "    plt.ylabel(\"Probability\",fontsize=15)\n",
    "    plt.ylim((0,0.17))\n",
    "    plt.subplot(1,2,2)\n",
    "    probDistRect(p,outcomes,cbarLabel=\"Dice Outcome\")\n",
    "    \n",
    "widgets.interactive(coinFlipDiceGame,pH=(0,1,.01))"
   ]
  },
  {
   "cell_type": "markdown",
   "metadata": {
    "slideshow": {
     "slide_type": "subslide"
    }
   },
   "source": [
    "***What is the probability that the outcome of my dice roll is 5?***\n",
    "\n",
    "<font color=\"red\">**Case 1:**</font> With probability $p(H)$, my coin flip came up heads and I rolled a 6-sided dice. Thus, the probability of $D=5$ <u>\"conditional on\"</u>, or <u>\"given,\"</u> a heads is $p(D=5 | H) = 1/6$\n",
    "\n",
    "The probability of this outcome is $\\color{red}{p(\\text{Case}_1)=p(H)\\cdot p(D=5 | H) = p(H)\\cdot 1/6}$\n",
    "\n",
    "<font color=\"blue\">**Case 2:**</font> Similarly, with probability $p(T)$, my coin flip came up tails and I rolled a 20-sided dice. Thus, the probability of $D=5$ \"given\" a tails is $p(D=5 | T) = 1/20$\n",
    "\n",
    "The probability of this outcome is $\\color{blue}{p(\\text{Case}_2) = p(T)\\cdot p(D=5 | T) = p(T)\\cdot 1/20}$\n",
    "\n",
    "A dice outcome of 5 can occur under Case 1 **or** Case 2, so we add the probabilities together:\n",
    "$$\n",
    "p(D=5) = \\color{red}{p(\\text{Case}_1)}+\\color{blue}{p(\\text{Case}_2)} = \\color{red}{p(H)\\cdot 1/6}+\\color{blue}{p(T)\\cdot 1/20}\n",
    "$$"
   ]
  },
  {
   "cell_type": "markdown",
   "metadata": {
    "slideshow": {
     "slide_type": "subslide"
    }
   },
   "source": [
    "You can see this outcome in the histogram. The probability of $D=5$ is larger than that of higher dice outcomes because $D=5$ is possible under either coin flip outcome.\n",
    "\n",
    "One way to see this is to divide the area of the bar for each dice outcome to show how much of that probability is associated with the coin flip yielding heads or tails.\n",
    "\n",
    "Here, again, use the slider to chane $p(H)$."
   ]
  },
  {
   "cell_type": "code",
   "execution_count": 12,
   "metadata": {
    "hideCode": false,
    "hidePrompt": false,
    "slideshow": {
     "slide_type": "fragment"
    }
   },
   "outputs": [
    {
     "data": {
      "application/vnd.jupyter.widget-view+json": {
       "model_id": "383d7f9f57f748de8ae61b569db813e1",
       "version_major": 2,
       "version_minor": 0
      },
      "text/plain": [
       "interactive(children=(FloatSlider(value=0.5, description='pH', max=1.0, step=0.01), Output()), _dom_classes=('…"
      ]
     },
     "execution_count": 12,
     "metadata": {},
     "output_type": "execute_result"
    }
   ],
   "source": [
    "# hide\n",
    "def coinFlipDiceGame_1(pH=.5):\n",
    "    pT = 1-pH\n",
    "    outcomes = np.arange(0,20)+1\n",
    "    # p = np.zeros(len(outcomes))\n",
    "    # p[:6] = pH/6 + pT/20\n",
    "    # p[6:] = pT/20\n",
    "    probs_given_heads = np.zeros(len(outcomes))\n",
    "    probs_given_heads[:6] = 1/6\n",
    "    probs_given_heads *= pH\n",
    "    probs_given_tails = np.ones(len(outcomes))/20\n",
    "    probs_given_tails *= pT\n",
    "    plt.figure(figsize=(10,8))\n",
    "    # plt.subplot(1,2,1)\n",
    "    plt.bar(np.arange(1, 21),height=probs_given_tails, edgecolor='black',align=\"center\",label=\"Prob. Given Tails\")\n",
    "    plt.bar(np.arange(1, 21),height=probs_given_heads,\n",
    "            bottom = probs_given_tails,\n",
    "            edgecolor='black',align=\"center\",label=\"Prob. Given Heads\")\n",
    "    plt.xticks(np.arange(1,21,2),fontsize=15)\n",
    "    plt.xlabel(\"Dice Outcome\",fontsize=15)\n",
    "    plt.yticks(fontsize=15)\n",
    "    plt.ylabel(\"Probability\",fontsize=15)\n",
    "    plt.ylim((0,0.17))\n",
    "    plt.legend(fontsize=12)\n",
    "    # plt.subplot(1,2,2)\n",
    "    # probDistRect(p,outcomes,cbarLabel=\"Dice Outcome\")\n",
    "\n",
    "widgets.interactive(coinFlipDiceGame_1,pH=(0,1,.01))"
   ]
  },
  {
   "cell_type": "markdown",
   "metadata": {
    "slideshow": {
     "slide_type": "subslide"
    }
   },
   "source": [
    "Let's consider the problem more generally.\n",
    "\n",
    "Consider outcomes $A$ and $B$ with probabilities $p(A)$ and $p(B)$.\n",
    "\n",
    "What is the conditional probability $\\hspace{.25cm}p(A|B)$?\n",
    "\n",
    "That is, given $B$ happened, how likely is it for $A$ to happen?\n",
    "\n",
    "$p(A|B)$ is the area associated with \"$A$ and $B$ happen\", denoted $A\\cap B$, divided by the area that $B$ happens."
   ]
  },
  {
   "cell_type": "code",
   "execution_count": 13,
   "metadata": {
    "hideCode": false,
    "hidePrompt": false,
    "slideshow": {
     "slide_type": "fragment"
    }
   },
   "outputs": [
    {
     "data": {
      "image/png": "[encoded data removed]",
      "text/plain": [
       "<Figure size 576x432 with 2 Axes>"
      ]
     },
     "metadata": {
      "needs_background": "light"
     },
     "output_type": "display_data"
    }
   ],
   "source": [
    "plt.figure(figsize=(8,6))\n",
    "probDistRect([.2,.2,.6],['$A$','$A\\\\cap B$','$B$'],cbarLabel=\"\")"
   ]
  },
  {
   "cell_type": "markdown",
   "metadata": {
    "slideshow": {
     "slide_type": "subslide"
    }
   },
   "source": [
    "Let's use this intuition to solve: **What is the probability that my coin flip was heads or my dice roll was 5?**\n",
    "\n",
    "That is, what is $\\hspace{.25cm} p(H \\cup D_5)$? \n",
    "\n",
    "The probability of heads is just $p(H)$, and we don't know more than that.\n",
    "\n",
    "And, $p(D_5) = p(H)\\cdot \\frac{1}{6} + p(T)\\cdot \\frac{1}{20}$\n",
    "\n",
    "$p(H \\cap D_5) = p(H)\\cdot \\frac{1}{6}$\n",
    "\n",
    "From both the plot and the equation for $p(D_5)$, you can see that we would be double counting $p(H)\\cdot \\frac{1}{6}$ if we concluded that \n",
    "$\n",
    "\\hspace{.25cm}\n",
    "p(H \\cup D_5) = p(H) + p(D_5)\n",
    "$\n",
    "\n",
    "Instead, the correct answer accounts for the double counting of the green area in the plot:\n",
    "$$\n",
    "p(H \\cup D_5) = p(H) + p(D_5)-p(H\\cap D_5)\n",
    "$$\n",
    "\n",
    "Or, <font color=\"blue\">more generally, for any two outcomes $A$ and $B$, $\\hspace{.25cm}p(A\\cup B)=p(A)+p(B)-p(A\\cap B)$</font>"
   ]
  },
  {
   "cell_type": "markdown",
   "metadata": {
    "slideshow": {
     "slide_type": "slide"
    }
   },
   "source": [
    "# Bayes' Theorem\n",
    "\n",
    "Consider the same two-step random process from before where we first flip coin with probabilities $p(H)$ for heads and $p(T)$ for tails.\n",
    "\n",
    "If we get heads, then we roll a fair 6-sided dice.\n",
    "\n",
    "If we get tails, then we roll a fair 20-sided dice."
   ]
  },
  {
   "cell_type": "markdown",
   "metadata": {
    "slideshow": {
     "slide_type": "subslide"
    }
   },
   "source": [
    "Originally, I asked: What is $p(D=5)$?\n",
    "\n",
    "Now, instead, I tell you t$\\gap D=5.\\gap$ **What is the probability that the coin flip came up heads?**\n",
    "\n",
    "That is, I want to know the probability of $C=H$ given $D=5$:  $\\hspace{.25cm}p(H |D=5)$?"
   ]
  },
  {
   "cell_type": "markdown",
   "metadata": {
    "slideshow": {
     "slide_type": "fragment"
    }
   },
   "source": [
    "We can look at the dice outcome histogram and consider bar for $D=5$, but we see that $\\gap p(D=5)\\gap$ depends on $p(H)$ which does not answer our question."
   ]
  },
  {
   "cell_type": "code",
   "execution_count": 14,
   "metadata": {
    "hideCode": false,
    "hidePrompt": false,
    "slideshow": {
     "slide_type": "fragment"
    }
   },
   "outputs": [
    {
     "data": {
      "application/vnd.jupyter.widget-view+json": {
       "model_id": "60fa026de7b44f5a8552abd5d39d8804",
       "version_major": 2,
       "version_minor": 0
      },
      "text/plain": [
       "interactive(children=(FloatSlider(value=0.5, description='pH', max=1.0, step=0.01), Output()), _dom_classes=('…"
      ]
     },
     "execution_count": 14,
     "metadata": {},
     "output_type": "execute_result"
    }
   ],
   "source": [
    "# hide\n",
    "widgets.interactive(coinFlipDiceGame_1,pH=(0,1,.01))"
   ]
  },
  {
   "cell_type": "markdown",
   "metadata": {
    "slideshow": {
     "slide_type": "subslide"
    }
   },
   "source": [
    "Let's consider the problem more generally.\n",
    "\n",
    "Consider outcomes $A$ and $B$ with probabilities $p(A)$ and $p(B)$.\n",
    "\n",
    "What is the conditional probability $\\hspace{.25cm}p(A|B)$?\n",
    "\n",
    "That is, given $B$ happened, how likely is it for $A$ to happen?\n",
    "\n",
    "$p(A|B)$ is the area associated with \"$A$ and $B$ happen\", denoted $A\\cap B$, divided by the area that $B$ happens."
   ]
  },
  {
   "cell_type": "code",
   "execution_count": 15,
   "metadata": {
    "hideCode": false,
    "hidePrompt": false,
    "slideshow": {
     "slide_type": "fragment"
    }
   },
   "outputs": [
    {
     "data": {
      "image/png": "[encoded data removed]",
      "text/plain": [
       "<Figure size 576x432 with 2 Axes>"
      ]
     },
     "metadata": {
      "needs_background": "light"
     },
     "output_type": "display_data"
    }
   ],
   "source": [
    "# hide\n",
    "plt.figure(figsize=(8,6))\n",
    "probDistRect([.2,.2,.6],['$A$','$A\\\\cap B$','$B$'],cbarLabel=\"\")"
   ]
  },
  {
   "cell_type": "code",
   "execution_count": 15,
   "metadata": {
    "hideCode": false,
    "hidePrompt": false,
    "slideshow": {
     "slide_type": "subslide"
    }
   },
   "outputs": [
    {
     "data": {
      "image/png": "[encoded data removed]",
      "text/plain": [
       "<Figure size 576x432 with 2 Axes>"
      ]
     },
     "metadata": {
      "needs_background": "light"
     },
     "output_type": "display_data"
    }
   ],
   "source": [
    "# hide\n",
    "plt.figure(figsize=(8,6))\n",
    "probDistRect([.2,.2,.6],['$A$','$A\\\\cap B$','$B$'],cbarLabel=\"\")"
   ]
  },
  {
   "cell_type": "markdown",
   "metadata": {
    "slideshow": {
     "slide_type": "fragment"
    }
   },
   "source": [
    "From the plot, we see that \n",
    "$\n",
    "\\hspace{.25cm}\n",
    "\\displaystyle\n",
    "p(A|B)=\\frac{\\color{darkgreen}{p(A\\cap B)}}{\\color{orange}{p(B)}}\n",
    "\\hspace{.25cm}\n",
    "$\n",
    "and, similarly,\n",
    "$\n",
    "\\hspace{.25cm}\n",
    "\\displaystyle\n",
    "p(B|A)=\\frac{\\color{darkgreen}{p(A\\cap B)}}{\\color{darkmagenta}{p(A)}}\n",
    "$\n",
    "\n",
    "Using these two equations, we have\n",
    "$$\n",
    "\\color{darkgreen}{p(A\\cap B)} = p(A|B)\\cdot \\color{orange}{p(B)} = p(B|A)\\cdot \\color{darkmagenta}{p(A)}\n",
    "$$\n",
    "\n",
    "Which yields\n",
    "$\n",
    "\\hspace{.25cm}\n",
    "\\displaystyle\n",
    "p(A|B) = \\frac{p(B|A)\\cdot \\color{darkmagenta}{p(A)}}{\\color{orange}{p(B)}}\n",
    "$"
   ]
  },
  {
   "cell_type": "markdown",
   "metadata": {
    "slideshow": {
     "slide_type": "subslide"
    }
   },
   "source": [
    "This derivation gives us ***Bayes' Theorem***\n",
    "$$\n",
    "   p(A|B) = \\frac{p(B|A)\\cdot p(A)}{p(B)}\n",
    "$$\n",
    "\n",
    "Bayes' Theorem is immensely important in probability theory and in machine learning. "
   ]
  },
  {
   "cell_type": "markdown",
   "metadata": {
    "slideshow": {
     "slide_type": "subslide"
    }
   },
   "source": [
    "We can use it to quickly solve our coinflip-dice roll game: I tell you that I rolled a die and got a 5, what is the probability that the coin flip came up heads?\n",
    "\n",
    "Let $B$ denote the outcome that the dice roll was 5, and let $A$ denote the outcome that the coin flip was heads.\n",
    "\n",
    "Our question becomes: What is $\\hspace{.25cm}p(A|B)$?\n",
    "\n",
    "Bayes' Theorem tells us: $\\hspace{.25cm}\\displaystyle p(A|B) = \\frac{p(B|A)\\cdot p(A)}{p(B)}$\n",
    "\n",
    "And we know:\n",
    "<ul>\n",
    "    <li>$p(A)=p(H)$, the probability that the coin flip is heads (exact value is currently unknown)</li>\n",
    "    <li>$p(B)=p(H)/6+p(T)/20$, the probability that the dice roll yielded 5</li>\n",
    "    <li>$p(B|A)=1/6$, the probability that the dice roll was 5 given a coin flip of heads</li>\n",
    "</ul>\n",
    "\n",
    "$\n",
    "\\displaystyle\n",
    "p(A|B) = \\frac{p(B|A)\\cdot p(A)}{p(B)}\n",
    "= \\frac{\\frac{1}{6}\\cdot p(H)}{p(H)/6+p(T)/20}\n",
    "% =\\frac{p(H)}{p(H)+3p(T)/10}\n",
    "=\\frac{p(H)}{p(H)+3(1-p(H))/10}\n",
    "% =\\frac{p(H)}{7p(H)/10+3/10}\n",
    "=\\frac{10p(H)}{7p(H)+3}\n",
    "$"
   ]
  },
  {
   "cell_type": "markdown",
   "metadata": {
    "slideshow": {
     "slide_type": "subslide"
    }
   },
   "source": [
    "$\n",
    "\\displaystyle\n",
    "p(A|B) = \\frac{p(B|A)\\cdot p(A)}{p(B)}\n",
    "=\\frac{10p(H)}{7p(H)+3}\n",
    "$\n",
    "\n",
    "Is not an immediately satisfying solution because we don't know the value of $p(H)$.\n",
    "\n",
    "We have general relationship between $p(A|B)$ and $p(H)$ using the equation.\n",
    "\n",
    "Thus, if we repeat this coinflip-dice roll game many times, we can begin to estimate $p(A|B)=p(H|D_5)$ by counting the number of times we observe a heads and a dice roll of 5 during the same trial.\n",
    "\n",
    "In the plot below, as we become more confident in $p(A|B)$ (the position on the y-axis), we also become more confident in our estimate for $p(H)$ (the location on the x-axis)"
   ]
  },
  {
   "cell_type": "code",
   "execution_count": 16,
   "metadata": {
    "hideCode": false,
    "hidePrompt": false,
    "slideshow": {
     "slide_type": "fragment"
    }
   },
   "outputs": [
    {
     "data": {
      "image/png": "[encoded data removed]",
      "text/plain": [
       "<Figure size 576x432 with 1 Axes>"
      ]
     },
     "metadata": {
      "needs_background": "light"
     },
     "output_type": "display_data"
    }
   ],
   "source": [
    "# hide\n",
    "x = np.linspace(0,1,30)\n",
    "y = 10*x/(7*x+3)\n",
    "plt.figure(figsize=(8,6))\n",
    "plt.plot(x,y,linewidth=3)\n",
    "plt.xticks(fontsize=15)\n",
    "plt.yticks(fontsize=15)\n",
    "plt.xlabel(\"$p(H)$\",fontsize=15)\n",
    "plt.ylabel(\"$p(H | D_5)$\",fontsize=15);\n",
    "plt.xlim((0,1))\n",
    "plt.ylim((0,1));"
   ]
  },
  {
   "cell_type": "markdown",
   "metadata": {
    "slideshow": {
     "slide_type": "subslide"
    }
   },
   "source": [
    "Bayes' Theorem is useful for machine learning because this equation allows us to estimate $p(A|B)$ with an initial guess and then update our estimate of $p(A|B)$ as we collect new data.\n",
    "\n",
    "Here, let $H$ denote a hypothesis and $E$ denote the evidence collected so far.\n",
    "\n",
    "$\n",
    "\\displaystyle\n",
    "p(H|E) = \\frac{p(E|H)\\cdot p(H)}{p(E)}=\\frac{p(E|H)\\cdot p(H)}{p(E|H)\\cdot p(H)+p(E|\\neg H)\\cdot p(\\neg H)}\n",
    "\\hspace{.25cm}\n",
    "$\n",
    "where $\\neg H$ represents \"not $H$\"\n",
    "\n",
    "$p(H|E)$ is called the <i>posterior probability</i> and represents the probability that our $H$ hypothesis is correct given the evidence $E$.\n",
    "\n",
    "<ul>\n",
    "    <li>$p(H)$ is the <i>prior probability</i> that the hypothesis is correct without additional evidence</li>\n",
    "    <li>$p(E)$ is the <i>marginal likelihood</i> </li>\n",
    "    <li>$p(E|H)$ is the <i>likelihood</i> representing the probability of the observed evidence $E$ if we assume the hypothesis $H$ is true</li>\n",
    "</ul>"
   ]
  },
  {
   "cell_type": "markdown",
   "metadata": {
    "slideshow": {
     "slide_type": "subslide"
    }
   },
   "source": [
    "We can write Bayes' Theorem differently to make it more useful for hypothesis testing and learning\n",
    "\n",
    "$\n",
    "\\displaystyle\n",
    "p(H|E) = \\frac{p(E|H)\\cdot p(H)}{p(E)}=\\frac{p(E|H)\\cdot p(H)}{p(E|H)\\cdot p(H)+p(E|\\neg H)\\cdot p(\\neg H)}\n",
    "\\hspace{.25cm}\n",
    "$\n",
    "where $\\neg H$ represents \"not $H$\"\n",
    "\n",
    "Or, if we test multiple hypotheses $H_1,H_2,\\dots,H_n$, then the probability to hypothesis $H_i$ given the current evidence $E$ is\n",
    "\n",
    "$\n",
    "\\displaystyle\n",
    "p(H_i|E) = \\frac{p(E|H_i)\\cdot p(H_i)}{p(E)}=\\frac{p(E|H_i)\\cdot p(H_i)}{\\sum_{j=1}^n p(E|H_j)\\cdot p(H_j)}\n",
    "\\hspace{.25cm}\n",
    "$"
   ]
  },
  {
   "cell_type": "markdown",
   "metadata": {
    "slideshow": {
     "slide_type": "subslide"
    }
   },
   "source": [
    "Let's put Bayes' Theorem to use.\n",
    "\n",
    "Imagine there is a COVID-19 test that is widely used across the US. In general, the test is positive 80% of the time; the event of a positive test result has probability $\\hspace{.25cm}\\color{blue}{p(\\text{test positive})}=0.80.\\gap$ Some of these positive outcomes will be false positives and some will be true postives.\n",
    "\n",
    "However, in controlled lab experiments, pharmaceutical companies show that the test correctly detects a COVID infection 90% of the time. That is, $\\hspace{.25cm}\\color{red}{p(\\text{test positive}|\\text{COVID infected})} = 0.90$ \n",
    "\n",
    "You guess that there is a 70% chance that you have COVID. That is, you currently believe $\\hspace{.25cm}\\color{orange}{p(\\text{COVID infected})}=0.70$\n",
    "\n",
    "So, you take the COVID test, and it comes back positive. **What is the probability that you actually have a COVID infection (i.e., what is $\\color{darkmagenta}{p(\\text{COVID infected}|\\text{test positive})}$)?**"
   ]
  },
  {
   "cell_type": "markdown",
   "metadata": {
    "slideshow": {
     "slide_type": "subslide"
    }
   },
   "source": [
    "Here, your hypotheses are $H=\\text{COVID positive}$ and $\\neg H=\\text{not COVID positive}$, and your evidence $E$ is the positive COVID test.\n",
    "\n",
    "We can solve the problem by plugging in the information to Bayes' Theore:\n",
    "\n",
    "$\n",
    "\\displaystyle\n",
    "p(H|E) = \\frac{p(E|H)\\cdot p(H)}{p(E)}\n",
    "$\n",
    "\n",
    "$\n",
    "\\displaystyle\n",
    "\\rightarrow\n",
    "\\color{darkmagenta}{p(\\text{COVID infected}|\\text{test positive})}\n",
    "= \\frac{ \\color{red}{p(\\text{test positive}|\\text{COVID infected})}\\cdot \\color{orange}{p(\\text{COVID infected})} }{  \\color{blue}{p(\\text{test positive})}}\n",
    "= \\frac{0.90\\cdot0.70}{0.80}\n",
    "=0.7875\n",
    "$\n",
    "\n",
    "Moving forward, your belief that you have COVID increases from $\\hspace{.25cm}\\color{orange}{p(\\text{COVID infected})}=0.70\\hspace{.25cm}$ to $\\hspace{.25cm}\\color{darkmagenta}{p(\\text{COVID infected}|\\text{test positive})}=0.7875\\hspace{.25cm}$ with the evidence of a positive COVID test."
   ]
  },
  {
   "cell_type": "markdown",
   "metadata": {
    "slideshow": {
     "slide_type": "subslide"
    }
   },
   "source": [
    "If your roommate has been in contact with you and also tests positive, then they might repeat this process with the prior belief of $\\hspace{.25cm}\\color{orange}{p(\\text{COVID infected})}=0.7875\\hspace{.25cm}$ instead of your initial prior belief.\n",
    "\n",
    "These additional positive tests are additional evidence that can be used to again update beliefs of a COVID infection.\n",
    "\n",
    "$\n",
    "\\displaystyle\n",
    "\\color{darkmagenta}{p(\\text{COVID infected}|\\text{test positive})}\n",
    "= \\frac{ \\color{red}{p(\\text{test positive}|\\text{COVID infected})}\\cdot \\color{orange}{p(\\text{COVID infected})} }{  \\color{blue}{p(\\text{test positive})}}\n",
    "= \\frac{0.90\\cdot0.7875}{0.80}\n",
    "=0.8859\n",
    "$\n",
    "\n",
    "From this example, you can see how additional evidence allows us to ***learn*** and update our beliefs about the probability of an outcome (here, a COVID infection given a positive test)."
   ]
  },
  {
   "cell_type": "markdown",
   "metadata": {
    "slideshow": {
     "slide_type": "slide"
    }
   },
   "source": [
    "# Programming Bayesian Inference to Learn from Data\n",
    "\n",
    "I have two coins. One is fair (unweighted) and the other is weighted so that a coin flip yields heads 60% of the time.\n",
    "\n",
    "I hand you a coin but you do not know if it is fair or weighted.\n",
    "\n",
    "You inspect the coin and don't notice anything strange. It's feels like a normal coin.\n",
    "\n",
    "So, your initial hypothesis $H$ is that the coin is fair and, because there were two possible coins, your belief in $H$ is $\\hspace{.25cm}p(\\text{heads}|H)=1/2$\n",
    "\n",
    "The alternative hypothesis $\\neg H$ is that the coin is weighted and $p(\\text{heads}|\\neg H)=6/10$"
   ]
  },
  {
   "cell_type": "code",
   "execution_count": 17,
   "metadata": {
    "slideshow": {
     "slide_type": "skip"
    }
   },
   "outputs": [
    {
     "data": {
      "text/plain": [
       "array([0, 1, 1, 1, 1, 0, 0, 1, 1, 1, 0, 1, 1, 1, 0, 1, 1, 0, 1, 1, 0, 1,\n",
       "       0, 0, 1, 1, 0, 1, 0, 1, 1, 1, 1, 0, 1, 1, 0, 1, 1, 1, 0, 0, 0, 1,\n",
       "       1, 1, 0, 1, 0, 1, 0, 1, 1, 0, 1, 1, 1, 1, 1, 1, 0, 1, 1, 0, 0, 0,\n",
       "       1, 1, 0, 0, 1, 1, 1, 0, 0, 1, 1, 1, 0, 0, 1, 1, 1, 1, 1, 0, 1, 1,\n",
       "       1, 1, 0, 1, 1, 1, 1, 1, 1, 1, 0, 1])"
      ]
     },
     "execution_count": 17,
     "metadata": {},
     "output_type": "execute_result"
    }
   ],
   "source": [
    "# hide\n",
    "# seed the random number generator so that data is reproducible\n",
    "R = np.random.RandomState(1234)\n",
    "coinFlips = R.choice([0,1],size=100,p=[.4,.6])\n",
    "coinFlips"
   ]
  },
  {
   "cell_type": "markdown",
   "metadata": {
    "slideshow": {
     "slide_type": "subslide"
    }
   },
   "source": [
    "You conduct a series of coin flip outcomes (1 for heads) and we can use Bayes' Theorem to update our belief in the hypothesis $H$ that the coin is fair."
   ]
  },
  {
   "cell_type": "code",
   "execution_count": 18,
   "metadata": {
    "slideshow": {
     "slide_type": "fragment"
    }
   },
   "outputs": [
    {
     "data": {
      "text/plain": [
       "array([0, 1, 1])"
      ]
     },
     "execution_count": 18,
     "metadata": {},
     "output_type": "execute_result"
    }
   ],
   "source": [
    "coinFlips[:3]"
   ]
  },
  {
   "cell_type": "markdown",
   "metadata": {
    "slideshow": {
     "slide_type": "subslide"
    }
   },
   "source": [
    "Our current belief is that $\\hspace{.25cm}p(H)=1/2\\hspace{.25cm}$ and $\\hspace{.25cm}p(\\neg H)=1/2$\n",
    "\n",
    "The first coin flip outcome gives us the current evidence $E=[0]$\n",
    "\n",
    "Under the hypothesis $H$, we have $\\hspace{.25cm}p(\\text{heads}|H)=1/2$, \n",
    "$\n",
    "\\hspace{.25cm}\n",
    "\\displaystyle \n",
    "p(E|H)=\\frac{1}{2}\n",
    "$\n",
    "\n",
    "Across $H$ and $\\neg H$, we have\n",
    "$\n",
    "\\hspace{.25cm}\n",
    "\\displaystyle\n",
    "p(E) = p(H)\\cdot\\frac{1}{2}+p(\\neg H)\\cdot\\frac{4}{10} = \\frac{1}{2}\\cdot\\frac{1}{2}+\\frac{1}{2}\\cdot\\frac{4}{10}=\\frac{9}{20}\n",
    "$\n",
    "\n",
    "Using Bayes' Theorem, we have\n",
    "$$\n",
    "p(H|E) \n",
    "= \\frac{p(E|H)\\cdot p(H)}{p(E)}\n",
    "= \\frac{ \\frac{1}{2}\\cdot\\frac{1}{2} }{\\frac{9}{20}}\n",
    "=\\frac{5}{9}\n",
    "$$\n",
    "\n",
    "Thus, moving forward, we believe the probability that hypothesis $H$ is correct is $\\hspace{.25cm}p(H)=5/9$"
   ]
  },
  {
   "cell_type": "markdown",
   "metadata": {
    "slideshow": {
     "slide_type": "subslide"
    }
   },
   "source": [
    "We can repeat this process to **<i>update our belief</i>** in hypothesis $H$ with each new coin flip.\n",
    "\n",
    "If we flip the coin many times, then our belief will converge to a final answer."
   ]
  },
  {
   "cell_type": "code",
   "execution_count": 19,
   "metadata": {
    "slideshow": {
     "slide_type": "subslide"
    }
   },
   "outputs": [],
   "source": [
    "# coinFlips\n",
    "PHs = np.zeros((len(coinFlips)+1,3))\n",
    "# initial belief in H\n",
    "ph = np.array([1/2,1/4,.75])\n",
    "PHs[0,:] = ph\n",
    "for i in range(len(coinFlips)):\n",
    "    outcome = coinFlips[i]\n",
    "    p_e_given_H = 1/2\n",
    "    p_e_given_not_H = 6/10 if outcome == 1 else 4/10\n",
    "    p_e = ph*p_e_given_H  + (1-ph)*p_e_given_not_H\n",
    "    # Bayes' Theorem\n",
    "    p_h_given_e = p_e_given_H * ph / p_e\n",
    "    ph = p_h_given_e \n",
    "    PHs[i+1,:] = ph"
   ]
  },
  {
   "cell_type": "code",
   "execution_count": 20,
   "metadata": {
    "hideCode": false,
    "hidePrompt": false,
    "slideshow": {
     "slide_type": "fragment"
    }
   },
   "outputs": [
    {
     "data": {
      "application/vnd.jupyter.widget-view+json": {
       "model_id": "78d41e734bcd41458e1f6c194a9b9b70",
       "version_major": 2,
       "version_minor": 0
      },
      "text/plain": [
       "interactive(children=(IntSlider(value=50, description='n', max=101), Output()), _dom_classes=('widget-interact…"
      ]
     },
     "execution_count": 20,
     "metadata": {},
     "output_type": "execute_result"
    }
   ],
   "source": [
    "# hide\n",
    "def plotBayesInference(n):\n",
    "    plt.figure(figsize=(8,6))\n",
    "    if n == 0:\n",
    "        for i in range(PHs.shape[1]):\n",
    "            plt.plot(0,PHs[0,i],'o')\n",
    "    else:\n",
    "        p = PHs[:(n+1),:]\n",
    "        for i in range(PHs.shape[1]):\n",
    "            plt.plot(np.arange(len(p)),p[:,i],'-',linewidth=5)\n",
    "    plt.ylim((0,1))\n",
    "    plt.xticks(fontsize=15)\n",
    "    plt.yticks(fontsize=15)\n",
    "    plt.xlabel(\"Coin Flips in Evidence\",fontsize=15)\n",
    "    plt.ylabel(\"Belief in $H$ ($p(H|E)$)\",fontsize=15)\n",
    "    \n",
    "widgets.interactive(plotBayesInference,n=(0,len(PHs),1))"
   ]
  },
  {
   "cell_type": "markdown",
   "metadata": {
    "slideshow": {
     "slide_type": "skip"
    }
   },
   "source": [
    "# Discrete Probability Distributions"
   ]
  },
  {
   "cell_type": "markdown",
   "metadata": {
    "slideshow": {
     "slide_type": "slide"
    }
   },
   "source": [
    "## Bernoulli Distribution \n",
    "\n",
    "Previously, I handed you a potentially weighted coin and we observed several flips of the coin to determine if the coin was fair or weighted.\n",
    "\n",
    "Another approach to solving this problem is to consider the distribution of heads and tails we observe through experimentation compared to the distribution we expect to see if we use a fair coin.\n",
    "\n",
    "In the Bayes' Theorem approach, we learn about the likelihood that the coin is fair with each coin flip one at a time.\n",
    "\n",
    "Here, we will imagine that we have conducted all of the coin flips already and examine the complete data set all at once."
   ]
  },
  {
   "cell_type": "markdown",
   "metadata": {
    "slideshow": {
     "slide_type": "subslide"
    }
   },
   "source": [
    "But what should our \"expected\" distribution be?\n",
    "\n",
    "The **Bernoulli Distribution** is one of the simplest and most fundamental distributions in probability theory and statistics. \n",
    "\n",
    "It models the outcome of a single experiment or trial that has exactly two possible outcomes: success (\"heads\" in our case) and failure (\"tails\"). \n",
    "\n",
    "Named after the Swiss mathematician Jacob Bernoulli, this distribution serves as the building block for more complex distributions and models."
   ]
  },
  {
   "cell_type": "markdown",
   "metadata": {
    "slideshow": {
     "slide_type": "subslide"
    }
   },
   "source": [
    "A Bernoulli random variable $X$ is defined as follows:\n",
    "\n",
    "$$\n",
    "X = \n",
    "\\begin{cases} \n",
    "1 & \\text{with probability } p \\\\\n",
    "0 & \\text{with probability } 1-p \n",
    "\\end{cases}\n",
    "$$\n",
    "where $0 \\leq p \\leq 1$ is the probability of success."
   ]
  },
  {
   "cell_type": "markdown",
   "metadata": {
    "slideshow": {
     "slide_type": "subslide"
    }
   },
   "source": [
    "The ***Probability Mass Function (PMF)*** of a Bernoulli distribution can be written compactly as:\n",
    "\n",
    "$\n",
    "P(X = x) = p^x (1 - p)^{1 - x}, \\quad x \\in \\{0, 1\\}\n",
    "$\n"
   ]
  },
  {
   "cell_type": "code",
   "execution_count": 21,
   "metadata": {
    "hideCode": false,
    "hidePrompt": false,
    "slideshow": {
     "slide_type": "fragment"
    }
   },
   "outputs": [
    {
     "data": {
      "application/vnd.jupyter.widget-view+json": {
       "model_id": "79fcbdc107924f7dadcdf913cb6b52dd",
       "version_major": 2,
       "version_minor": 0
      },
      "text/plain": [
       "interactive(children=(FloatSlider(value=0.0, description='p', max=1.0, step=0.05), Checkbox(value=False, descr…"
      ]
     },
     "execution_count": 21,
     "metadata": {},
     "output_type": "execute_result"
    }
   ],
   "source": [
    "# hide\n",
    "def plotBernoulliDist(p,showExpValue=False):\n",
    "    plt.bar([0,1],[1-p,p],width=.1,)\n",
    "    plt.text(1,p,\"$p$\",ha=\"center\",va=\"bottom\",fontsize=20)\n",
    "    plt.text(0,1-p,\"$1-p$\",ha=\"center\",va=\"bottom\",fontsize=20)\n",
    "    if showExpValue:\n",
    "        plt.plot([p,p],[0,1],'k--',linewidth=3)\n",
    "        plt.text(p,.95,\"Expected\\nValue\",ha=\"left\",va=\"top\",fontsize=15)\n",
    "    plt.ylim((0,1))\n",
    "    plt.xticks([0,1],[\"Tails (0)\",\"Heads (1)\"],fontsize=15)\n",
    "    plt.xlabel(\"Coin Flip Outcome\",fontsize=15)\n",
    "    plt.yticks(fontsize=15)\n",
    "    plt.ylabel(\"Probability Mass Function (PMF)\",fontsize=15)\n",
    "    plt.title(\"Bernoulli Distribution\",fontsize=15)\n",
    "\n",
    "def plotBernoulli(p,showExpValue=False):\n",
    "    plt.figure(figsize=(8,6))\n",
    "    plotBernoulliDist(p,showExpValue)\n",
    "    \n",
    "# plotBernoulli(.2)\n",
    "widgets.interactive(plotBernoulli,p=(0,1,.05),showExpValue=False)"
   ]
  },
  {
   "cell_type": "markdown",
   "metadata": {
    "slideshow": {
     "slide_type": "subslide"
    }
   },
   "source": [
    "We can compare random processes through their long-term expected values which represent the average outcome after many trials of the random process.\n",
    "\n",
    "I introduced expected values in the module on random sampling and the Normal Distribution.\n",
    "\n",
    "If a random variable takes on the possible values $Z=\\{z_1,z_2,\\dots,\\}$ each probability $p(z_0),p(z_1),\\dots$, then \n",
    "$\n",
    "\\hspace{.25cm}\n",
    "\\displaystyle\n",
    "E[Z] = \\sum_{z\\in Z}z\\cdot p(z)\n",
    "$"
   ]
  },
  {
   "cell_type": "markdown",
   "metadata": {
    "slideshow": {
     "slide_type": "fragment"
    }
   },
   "source": [
    "For the Bernoulli Distribution, $\\hspace{.25cm}X=\\{0,1\\}\\hspace{.25cm}$ with probabilities $\\hspace{.25cm}P(X=1)=p, P(X=0)=1-p$\n",
    "\n",
    "Therefore,\n",
    "$\n",
    "\\hspace{.25cm}\n",
    "E[X] = p\\cdot1+(1-p)\\cdot0 = p\n",
    "$"
   ]
  },
  {
   "cell_type": "code",
   "execution_count": 22,
   "metadata": {
    "hideCode": false,
    "hidePrompt": false,
    "slideshow": {
     "slide_type": "fragment"
    }
   },
   "outputs": [
    {
     "data": {
      "application/vnd.jupyter.widget-view+json": {
       "model_id": "a3a6267ad36e4a50b61baf5129054164",
       "version_major": 2,
       "version_minor": 0
      },
      "text/plain": [
       "interactive(children=(FloatSlider(value=0.0, description='p', max=1.0, step=0.05), Checkbox(value=True, descri…"
      ]
     },
     "execution_count": 22,
     "metadata": {},
     "output_type": "execute_result"
    }
   ],
   "source": [
    "# hide\n",
    "widgets.interactive(plotBernoulli,p=(0,1,.05),showExpValue=True)"
   ]
  },
  {
   "cell_type": "markdown",
   "metadata": {
    "slideshow": {
     "slide_type": "subslide"
    }
   },
   "source": [
    "Also from the Random Sampling module, we measure how \"wide\" a probability distribution using it's **variance**.\n",
    "\n",
    "If $D$ is some probability distribution, it's variance is\n",
    "\n",
    "$\n",
    "\\hspace{1cm}\n",
    "Var(D) = E\\left[\\left(D-E[D]\\right)^2\\right] = \\displaystyle\\sum_{d\\in D} \\left(d-E[D]\\right)^2\\cdot p(D=d)\n",
    "$\n",
    "\n",
    "You can think about this as the \"expected distance between outcomes in the distribution and the distribution's expected value.\"\n",
    "\n",
    "If $Var(D)$ is small, then the distribution is very bunched around $E[D]$.\n",
    "\n",
    "IF $Var(D)$ is large, then the distribution is spread out around it's center $E[D]$."
   ]
  },
  {
   "cell_type": "markdown",
   "metadata": {
    "slideshow": {
     "slide_type": "fragment"
    }
   },
   "source": [
    "For the Bernoulli Distribution, \n",
    "$\n",
    "\\hspace{.25cm}\n",
    "\\displaystyle\n",
    "Var(X) = \\color{blue}{p\\cdot(1-p)^2}+\\color{red}{(1-p)\\cdot(0-p)^2} \n",
    "= \\color{blue}{p-2p^2+p^3}+\\color{red}{p^2-p^3}\n",
    "=p(1-p)\n",
    "$"
   ]
  },
  {
   "cell_type": "code",
   "execution_count": 23,
   "metadata": {
    "hideCode": false,
    "hidePrompt": false,
    "slideshow": {
     "slide_type": "fragment"
    }
   },
   "outputs": [
    {
     "data": {
      "application/vnd.jupyter.widget-view+json": {
       "model_id": "552e5bd821424d699d0d7c34f150b360",
       "version_major": 2,
       "version_minor": 0
      },
      "text/plain": [
       "interactive(children=(FloatSlider(value=0.0, description='P', max=1.0, step=0.05), Output()), _dom_classes=('w…"
      ]
     },
     "execution_count": 23,
     "metadata": {},
     "output_type": "execute_result"
    }
   ],
   "source": [
    "# hide\n",
    "def bernoulliVarPlot(P):\n",
    "    p = np.linspace(0,1,30)\n",
    "    plt.figure(figsize=(16,6))\n",
    "    plt.subplot(1,2,1)\n",
    "    plt.plot(p,p*(1-p),'-',linewidth=5)\n",
    "    plt.plot(P,P*(1-P),'ro',markersize=15)\n",
    "    plt.xticks(fontsize=15)\n",
    "    plt.yticks(fontsize=15)\n",
    "    plt.xlabel(\"Heads Probability ($p$)\",fontsize=15)\n",
    "    plt.ylabel(\"Bernoulli Variance ($Var(X)$)\",fontsize=15)\n",
    "    plt.subplot(1,2,2)\n",
    "    plotBernoulliDist(P,True)\n",
    "    \n",
    "widgets.interactive(bernoulliVarPlot,P=(0,1,.05))"
   ]
  },
  {
   "cell_type": "markdown",
   "metadata": {
    "slideshow": {
     "slide_type": "slide"
    }
   },
   "source": [
    "## Binomial Distribution\n",
    "\n",
    "How do we use the Bernoulli Distribution to check if our coin is fair or weighted?\n",
    "\n",
    "Testing if a coin is fair or weighted using the Bernoulli distribution involves performing a hypothesis test. \n",
    "\n",
    "A generalization of the hypotheses in the Bayes' Theorem example, our current hypotheses are:\n",
    "1. **Null Hypothesis ($H_0$)**: The coin is fair. $p = 0.5$\n",
    "2. **Alternative Hypothesis ($H_1$)**: The coin is not fair. $ p \\neq 0.5$\n",
    "\n"
   ]
  },
  {
   "cell_type": "markdown",
   "metadata": {
    "slideshow": {
     "slide_type": "subslide"
    }
   },
   "source": [
    "Next, we toss the coin $n$ times. Let $X_i$ be the outcome of the $i$-th toss where $X_i = 1$ if heads and  $X_i = 0$ if tails.\n",
    "\n",
    "\n",
    "We sum the outcomes to determine the number of heads:\n",
    "$\n",
    "\\gmath\n",
    "S = \\sum_{i=1}^{n} X_i\n",
    "$"
   ]
  },
  {
   "cell_type": "markdown",
   "metadata": {
    "slideshow": {
     "slide_type": "fragment"
    }
   },
   "source": [
    "This sum $S$ ranges in possible values from $S=0$ to $S=n.\\gap$ But what is the probability of each outcome?\n",
    "\n",
    "For example, assume $S=0$. How many different series of $n$ coin flips could produce this result?"
   ]
  },
  {
   "cell_type": "markdown",
   "metadata": {
    "slideshow": {
     "slide_type": "fragment"
    }
   },
   "source": [
    "For $S=0$, there is only one possible series of coin flips where every coin flip comes up tails. $X_i=0$ for each $i$.\n",
    "\n",
    "How likely is this series of outcomes?"
   ]
  },
  {
   "cell_type": "markdown",
   "metadata": {
    "slideshow": {
     "slide_type": "fragment"
    }
   },
   "source": [
    "$P(X=0)=1-p$ and $n$ coin flips each yielded tails, so $\\gap P(S=0)=P(X_1=0\\,\\cap\\, X_2=0 \\cap\\dots\\cap X_n=0)=(1-p)^n$"
   ]
  },
  {
   "cell_type": "markdown",
   "metadata": {
    "slideshow": {
     "slide_type": "subslide"
    }
   },
   "source": [
    "For $S=1$, exactly one coin flip out of $n$ was heads and each other coin flip was tails.\n",
    "\n",
    "It's tempting to conclude that $\\gap P(S=1)=p(1-p)^{n-1}\\gap$ but this is missing that the single heads outcome could have been the first coin flip, or second, or third, etc.\n",
    "\n",
    "In other words \n",
    "$$\n",
    "P(\\color{red}{X_1=1}\\cap X_1=0 \\cap\\dots\\cap X_n=0)=P(X_1=0\\cap \\color{red}{X_1=1} \\cap\\dots\\cap X_n=0)=\\cdots=P(X_1=0\\cap X_1=0 \\cap\\dots\\cap \\color{red}{X_n=1})\n",
    "=p(1-p)^{n-1}\n",
    "$$\n",
    "\n",
    "There are $n$ possible series that each yield $S=1$ so we need to sum the probabilities across each of these cases:\n",
    "$$\n",
    "P(S=1) = n\\cdot p(1-p)^{n-1}\n",
    "$$"
   ]
  },
  {
   "cell_type": "markdown",
   "metadata": {
    "slideshow": {
     "slide_type": "subslide"
    }
   },
   "source": [
    "In general, what is $\\gap P(S=s)\\gap$ for $\\gap s=0,1,2,\\dots,n$?\n",
    "\n",
    "$S=s$ means that, out of $n$ coin flips, exactly $s$ of them were heads and $n-s$ of them were tails.\n",
    "\n",
    "So it's tempting to think $\\gap P(S=s)=p^s(1-p)^{n-s}\\gap$... but this is again missing that there are multiple different series of $n$ coin flips satisfying $S=s$!"
   ]
  },
  {
   "cell_type": "markdown",
   "metadata": {
    "slideshow": {
     "slide_type": "fragment"
    }
   },
   "source": [
    "To count how many different coin flip series meet our conditions, we use the ***choose operator***\n",
    "$$\n",
    "{n \\choose s} = \\frac{n\\cdot(n-1)\\cdots2\\cdot1}{\\left( (n-s)(n-s-1)\\cdots2\\cdot1 \\right)\\left( s(s-1)(s-2)\\cdots 2\\cdot1 \\right)} = \\frac{n!}{(n-s)!\\cdot s!}\n",
    "$$\n",
    "\n",
    "$n!=n(n-1)(n-2)\\cdots2\\cdot1$ is called \"$n$ factorial\" and represents the number of ways to reorder a series of $n$ coin flips.\n",
    "\n",
    "$(n-s)!$ is the number of reorderings that are duplicates based on the placement of the tails outcomes and, similarly, $s!$ is the number of reorderings that are duplicates based on the placement of the heads outcomes.\n",
    "\n",
    "Dividing by $(n-s)!\\cdot s!$ controls for double counting identical series of coin flip outcomes after reordering."
   ]
  },
  {
   "cell_type": "markdown",
   "metadata": {
    "slideshow": {
     "slide_type": "subslide"
    }
   },
   "source": [
    "So, putting it all together: \n",
    "$\n",
    "\\gmath\n",
    "P(S=s) = {n \\choose s} p^s (1-p)^{n-s}\n",
    "$\n",
    "\n",
    "This gives us yet another probability distribution called the ***Binomial Distribution***\n",
    "\n",
    "The Binomial Distribution represents the probability of a number of successes in a sequence of $n$ independent experiments, each asking a yes–no question.\n"
   ]
  },
  {
   "cell_type": "code",
   "execution_count": 24,
   "metadata": {
    "hideCode": false,
    "hidePrompt": false,
    "slideshow": {
     "slide_type": "fragment"
    }
   },
   "outputs": [
    {
     "data": {
      "application/vnd.jupyter.widget-view+json": {
       "model_id": "68651e079b504f11b6adcc9db3bbe0c5",
       "version_major": 2,
       "version_minor": 0
      },
      "text/plain": [
       "HBox(children=(VBox(children=(IntSlider(value=10, description='Trials (n)', min=1), FloatSlider(value=0.5, des…"
      ]
     },
     "execution_count": 24,
     "metadata": {},
     "output_type": "execute_result"
    }
   ],
   "source": [
    "# hide\n",
    "import scipy.stats as stats\n",
    "\n",
    "# Slider for number of trials (n)\n",
    "n_slider = widgets.IntSlider(value=10, min=1, max=100, step=1, description='Trials (n)')\n",
    "\n",
    "# Slider for probability of success (p)\n",
    "p_slider = widgets.FloatSlider(value=0.5, min=0.0, max=1.0, step=0.01, description='Probability (p)')\n",
    "\n",
    "showCountBinom = widgets.Checkbox(value=True,description=\"Show Number of Heads:\")\n",
    "\n",
    "def plot_binomial_distribution(n, p,counts=True):\n",
    "    \"\"\"Plots a binomial distribution based on number of trials (n) and probability of success (p).\"\"\"\n",
    "    x = np.arange(0, n + 1)\n",
    "    binom_pmf = stats.binom.pmf(x, n, p)\n",
    "    if not counts:\n",
    "        x = x.astype(float)/n\n",
    "    plt.figure(figsize=(10, 6))    \n",
    "    plt.bar(x, binom_pmf,\n",
    "           width=.9 if counts else .9*(x[1]-x[0]),\n",
    "           )\n",
    "    \n",
    "    plt.xticks(fontsize=15)\n",
    "    plt.yticks(fontsize=15)\n",
    "    if counts:\n",
    "        plt.xlabel('Number of Successes',fontsize=15)\n",
    "    else:\n",
    "        plt.xlabel(\"Proportion of Successes\",fontsize=15)\n",
    "    plt.ylabel('Probability',fontsize=15)\n",
    "    plt.title(f'Binomial Distribution (n={n}, p={p})',fontsize=15)\n",
    "\n",
    "# widgets.interactive(plot_binomial_distribution, n=n_slider, p=p_slider)\n",
    "widgets.HBox(\n",
    "[\n",
    "    widgets.VBox([n_slider,p_slider,showCountBinom]),\n",
    "    widgets.interactive_output(\n",
    "        plot_binomial_distribution, {\n",
    "        'n': n_slider, \n",
    "        'p': p_slider,\n",
    "            \"counts\":showCountBinom,\n",
    "        }),\n",
    "])"
   ]
  },
  {
   "cell_type": "markdown",
   "metadata": {
    "slideshow": {
     "slide_type": "subslide"
    }
   },
   "source": [
    "Our hypotheses:\n",
    "1. **Null Hypothesis ($H_0$)**: The coin is fair. $p = 0.5$\n",
    "2. **Alternative Hypothesis ($H_1$)**: The coin is not fair. $ p \\neq 0.5$\n",
    "\n",
    "We test the hypotheses by tossing our coin $n$ times and counting the number of heads $S$ through the infered $\\widehat{p}$ given our data: $\\gap \\widehat{p}=S/n$\n",
    "\n",
    "What is $\\gap p(\\widehat{p}|H_0)$?"
   ]
  },
  {
   "cell_type": "markdown",
   "metadata": {
    "slideshow": {
     "slide_type": "fragment"
    }
   },
   "source": [
    "We know $\\gap p(\\widehat{p}|H_0)$ using the Binomial Distribution: $\\gmath P(S=s) = {n \\choose s} p^s (1-p)^{n-s}\\gap$ with $\\gap p=1/2\\gap$ and converting the counts predicted by the Binomial Distribution to proportions of heads instead.\n",
    "\n",
    "This gives us a **Null Model** with which to test if our observation occured by chance given the assumption of a fair coin."
   ]
  },
  {
   "cell_type": "code",
   "execution_count": 25,
   "metadata": {
    "hideCode": false,
    "hidePrompt": false,
    "slideshow": {
     "slide_type": "subslide"
    }
   },
   "outputs": [
    {
     "data": {
      "application/vnd.jupyter.widget-view+json": {
       "model_id": "a95f47df92a44b698bedbd43dac5bfd6",
       "version_major": 2,
       "version_minor": 0
      },
      "text/plain": [
       "HBox(children=(VBox(children=(FloatSlider(value=0.2, description='Prop. of Observed Heads (p_hat):', max=1.0, …"
      ]
     },
     "execution_count": 25,
     "metadata": {},
     "output_type": "execute_result"
    }
   ],
   "source": [
    "# hide\n",
    "def plotBinomialAndS(phat,n):\n",
    "    plot_binomial_distribution(n,.5,False)\n",
    "    y = plt.ylim()\n",
    "    plt.plot([phat,phat],y,'r-',linewidth=5)\n",
    "    plt.text(phat,y[1]*.95,\"$\\\\widehat{p}$\",ha=\"right\",va=\"top\",fontsize=20,color='r')\n",
    "    plt.ylim(y)\n",
    "    \n",
    "# plotBinomialAndS(10,100)\n",
    "phat_slider = widgets.FloatSlider(min=0,max=1,step=.01,value=.2,description=\"Prop. of Observed Heads (p_hat):\")\n",
    "widgets.HBox(\n",
    "[\n",
    "    widgets.VBox([phat_slider,n_slider]),\n",
    "    widgets.interactive_output(\n",
    "        plotBinomialAndS, {\n",
    "            'phat':phat_slider,\n",
    "        'n': n_slider, \n",
    "        }),\n",
    "])"
   ]
  },
  {
   "cell_type": "markdown",
   "metadata": {
    "slideshow": {
     "slide_type": "subslide"
    }
   },
   "source": [
    "The **Binomial Test Statistic** is calculated according to the Z-score for the sample proportion:\n",
    "\n",
    "$$\n",
    "Z = \\frac{\\widehat{p} - 0.5}{\\sqrt{\\frac{0.25}{n}}} = \\frac{\\widehat{p} - 0.5}{\\frac{1}{2\\sqrt{n}}} = 2\\sqrt{n}(\\widehat{p} - 0.5)\n",
    "$$\n",
    "\n",
    "This **Z score** is then compared to a Normal Distribution with $\\gap\\mu=0,\\sigma=1\\gap$ to calculate the probability (called p-value) of an outcome at least as rare as Z. Z is measuring the number of standard deviations $\\sigma$ away from the mean.\n",
    "\n",
    "With the test statistic, we:\n",
    "\n",
    "1. First choose a significance threshold $\\alpha$, commonly 0.05 for a 5% significance level, that we will use to determine if our data is surprising given the null model.\n",
    "2. Determine the critical value for the chosen $\\alpha$. For a two-tailed test, the critical values are $\\gap\\pm Z_{\\alpha/2}$. For $\\alpha = 0.05$, the critical values are approximately $\\pm 1.96$.\n",
    "3. Compare the calculated Z-score with the critical values.\n",
    "\n",
    "If the Z-score falls outside the range of $\\gap -1.96\\gap$ to $\\gap1.96\\gap$, you reject the null hypothesis $H_0$ as incorrect. Otherwise, you fail to reject $H_0$.\n",
    "\n",
    "Note, with this process, you never show that the null hypothesis is wrong; just that your data is surprising given the null hypothesis (i.e., $\\gap P(\\widehat{p}|H_0) < 0.05\\gap$)."
   ]
  },
  {
   "cell_type": "code",
   "execution_count": 59,
   "metadata": {
    "slideshow": {
     "slide_type": "subslide"
    }
   },
   "outputs": [
    {
     "name": "stdout",
     "output_type": "stream",
     "text": [
      "Is 0.000 less than alpha=0.05?\n"
     ]
    },
    {
     "data": {
      "image/png": "[encoded data removed]",
      "text/plain": [
       "<Figure size 720x432 with 1 Axes>"
      ]
     },
     "metadata": {
      "needs_background": "light"
     },
     "output_type": "display_data"
    }
   ],
   "source": [
    "import scipy.stats as stats\n",
    "# let's create some data using a weighted coin\n",
    "coinFlips = np.random.choice([0,1],size=100,p=[.3,.7])\n",
    "# now pretend we do not know if the coin is fair or weighted.\n",
    "# Use the Binomial Test to statistically test if our data\n",
    "# leads us reject the null hypothesis that the coin is actually fair\n",
    "S = np.sum(coinFlips)\n",
    "n = len(coinFlips)\n",
    "test_result = stats.binomtest(\n",
    "    S, # number of heads in data\n",
    "    n, # number of coin flips in data\n",
    "    p=0.5, # null hypothesis for fair coin\n",
    "    # test if coin is weighted to increase or decrease likelihood of heads\n",
    "    alternative='two-sided', \n",
    ")\n",
    "test_pvalue = test_result.pvalue\n",
    "print(\"Is %0.3f less than alpha=0.05?\" % test_pvalue)\n",
    "# if not, try increasing the number of coin flips in the data\n",
    "plotBinomialAndS(S/n,n)"
   ]
  },
  {
   "cell_type": "markdown",
   "metadata": {
    "slideshow": {
     "slide_type": "slide"
    }
   },
   "source": [
    "## Geometric Distribution\n",
    "\n",
    "Imagine you are single and looking for a dating partner. You go on dates with random potential partners from the dating pool unitl you find a winner. How many dates will you need to go before you find a winner?\n",
    "\n",
    "You can model this problem like flipping a weighted coin where $p$ is the probability of getting a heads or dating a winner. \n",
    "\n",
    "If $\\gap P(C=\\text{heads})=p,\\gap$ then what is the probability that the first heads occurs on the $n$th coin flip?"
   ]
  },
  {
   "cell_type": "markdown",
   "metadata": {
    "slideshow": {
     "slide_type": "subslide"
    }
   },
   "source": [
    "The ***Geometric Distribution*** models this probability. Let $X$ be the random variable denoting the number of coin flips until the first heads:\n",
    "$\n",
    "\\gmath\n",
    "P(X=n) = (1-p)^{n-1}p\n",
    "$\n",
    "\n",
    "In the visualization, use the slider to vary to probability that the coin flip is heads."
   ]
  },
  {
   "cell_type": "code",
   "execution_count": 60,
   "metadata": {
    "hideCode": false,
    "hidePrompt": false,
    "slideshow": {
     "slide_type": "fragment"
    }
   },
   "outputs": [
    {
     "data": {
      "application/vnd.jupyter.widget-view+json": {
       "model_id": "6f556d24442c418b945e6e660728efea",
       "version_major": 2,
       "version_minor": 0
      },
      "text/plain": [
       "interactive(children=(FloatSlider(value=0.0, description='p', max=1.0, step=0.05), Output()), _dom_classes=('w…"
      ]
     },
     "execution_count": 60,
     "metadata": {},
     "output_type": "execute_result"
    }
   ],
   "source": [
    "# hide \n",
    "def plotGeometricDist(p):\n",
    "    plt.figure(figsize=(10,7))\n",
    "    N = np.arange(20)\n",
    "    P = (1-p)**N*p\n",
    "    plt.bar(N+1,P)\n",
    "    plt.ylim((0,1))\n",
    "    plt.xticks(fontsize=15)\n",
    "    plt.yticks(fontsize=15)\n",
    "    plt.xlabel(\"Num. Coin Flips to First Heads ($n$)\",fontsize=15)\n",
    "    plt.ylabel(\"Probability $P(X=n)$\",fontsize=15)\n",
    "    \n",
    "widgets.interactive(plotGeometricDist,p=(0,1,.05))"
   ]
  },
  {
   "cell_type": "markdown",
   "metadata": {
    "slideshow": {
     "slide_type": "subslide"
    }
   },
   "source": [
    "So, many dates will you need to go on? We can answer this question using expected values.\n",
    "\n",
    "But we will need to use the geometric series:\n",
    "\n",
    "$\n",
    "\\gmath\n",
    "\\sum_{i=0}^\\infty a\\cdot x^i\n",
    "=\n",
    "\\begin{cases}\n",
    "\\frac{a}{1-x}, & |x|<1 \\\\\n",
    "\\infty, & |x|>1 \\\\\n",
    "\\infty, & x=1 \\\\\n",
    "\\text{alternates }a\\text{ and }0, & x=-1 \\\\\n",
    "\\end{cases}\n",
    "$"
   ]
  },
  {
   "cell_type": "code",
   "execution_count": 28,
   "metadata": {
    "hideCode": false,
    "hidePrompt": false,
    "slideshow": {
     "slide_type": "fragment"
    }
   },
   "outputs": [
    {
     "data": {
      "application/vnd.jupyter.widget-view+json": {
       "model_id": "33ebeaf241a8408c8d9ed5b45d97602b",
       "version_major": 2,
       "version_minor": 0
      },
      "text/plain": [
       "HBox(children=(VBox(children=(IntSlider(value=10, description='number of terms (n)', max=50, min=1), FloatSlid…"
      ]
     },
     "execution_count": 28,
     "metadata": {},
     "output_type": "execute_result"
    }
   ],
   "source": [
    "#hide \n",
    "n_slider = widgets.IntSlider(value=10, min=1, max=50, step=1, description='number of terms (n)')\n",
    "r_slider = widgets.FloatSlider(value=0.5, min=0.1, max=1.3, step=0.01, description='x')\n",
    "\n",
    "def plot_geometric_sum(n, r):\n",
    "    terms = [r**i for i in range(n)]\n",
    "    partial_sums = [sum(terms[:i+1]) for i in range(n)]\n",
    "    \n",
    "    plt.figure(figsize=(10, 6))\n",
    "    plt.plot(range(n), partial_sums, marker='o', linestyle='-', color='b',linewidth=3,markersize=15)\n",
    "    plt.xticks(fontsize=15)\n",
    "    plt.yticks(fontsize=15)\n",
    "    plt.title(f'Convergence of Geometric Sum for $x = {r}$',fontsize=15)\n",
    "    plt.xlabel('Number of Terms ($n$)',fontsize=15)\n",
    "    plt.ylabel('Partial Sum',fontsize=15)\n",
    "    plt.grid(True)\n",
    "\n",
    "# widgets.interactive(plot_geometric_sum, n=n_slider, r=r_slider)\n",
    "widgets.HBox(\n",
    "[\n",
    "    widgets.VBox([n_slider,r_slider]),\n",
    "    widgets.interactive_output(\n",
    "        plot_geometric_sum, {\n",
    "        'n': n_slider, \n",
    "            'r': r_slider, \n",
    "        }),\n",
    "])"
   ]
  },
  {
   "cell_type": "markdown",
   "metadata": {
    "slideshow": {
     "slide_type": "subslide"
    }
   },
   "source": [
    "The expected value for the Geometric Distribution is\n",
    "\n",
    "$\n",
    "\\gmath\n",
    "\\begin{align}\n",
    "E[X] &= \\sum_{n=1}^\\infty n\\cdot (1-p)^{n-1}p\n",
    "= p\\color{red}{\\sum_{n=1}^\\infty n\\cdot (1-p)^{n-1}}\n",
    "\\\\\\\\\n",
    "&= p\\cdot\\color{red}{\\frac{d}{dp}\\left(-\\sum_{n=1}^\\infty (1-p)^n\\right)}\n",
    "= p\\cdot\\color{red}{\\frac{d}{dp}\\left(-\\frac{1}{p}\\right)}\n",
    "\\hspace{.5cm}\n",
    "\\text{using the convergence of the Geometric Series}\n",
    "\\\\\\\\\n",
    "&= p\\cdot\\color{red}{\\frac{1}{p^2}} = \\frac{1}{p}\n",
    "\\end{align}\n",
    "$"
   ]
  },
  {
   "cell_type": "code",
   "execution_count": 29,
   "metadata": {
    "hideCode": false,
    "hidePrompt": false,
    "slideshow": {
     "slide_type": "subslide"
    }
   },
   "outputs": [
    {
     "data": {
      "image/png": "[encoded data removed]",
      "text/plain": [
       "<Figure size 576x432 with 1 Axes>"
      ]
     },
     "metadata": {
      "needs_background": "light"
     },
     "output_type": "display_data"
    }
   ],
   "source": [
    "# hide\n",
    "p = np.linspace(.01,1,30)\n",
    "E = 1/p\n",
    "plt.figure(figsize=(8,6))\n",
    "plt.plot(p,E,'-o',linewidth=3,markersize=10)\n",
    "plt.xticks(fontsize=15)\n",
    "plt.yticks(fontsize=15)\n",
    "plt.xlabel(\"Proportion of Winners in Dating Pool ($p$)\",fontsize=15)\n",
    "plt.ylabel(\"Expected Number of Dates\\nto Find Winner ($E[X]$)\",fontsize=15)\n",
    "plt.tight_layout()"
   ]
  },
  {
   "cell_type": "markdown",
   "metadata": {
    "slideshow": {
     "slide_type": "slide"
    }
   },
   "source": [
    "## Poisson Distribution\n",
    "\n",
    "The Poisson distribution is a discrete probability distribution that expresses the probability of a given number of events occurring in a fixed interval of time or space, provided these events occur with a known constant mean rate and are independent of the time since the last event.\n",
    "\n",
    "Let $\\gap X\\gap$ be a random variable representing the number of events in a fixed interval. The probability mass function (PMF) of $X$ is:\n",
    "$\n",
    "\\gmath\n",
    "P(X = k) = \\frac{\\lambda^k e^{-\\lambda}}{k!}\n",
    "$\n",
    "\n",
    "where:\n",
    "- $\\lambda\\gap$ is the average number of events in the interval (rate parameter),\n",
    "- $k\\gap$ is the actual number of events,\n",
    "- $e\\gap$ is the base of the natural logarithm ($\\gap e\\approx 2.71828\\gap$)\n",
    "\n"
   ]
  },
  {
   "cell_type": "code",
   "execution_count": 46,
   "metadata": {
    "hideCode": false,
    "hidePrompt": false,
    "slideshow": {
     "slide_type": "fragment"
    }
   },
   "outputs": [
    {
     "data": {
      "application/vnd.jupyter.widget-view+json": {
       "model_id": "31a276c12a28427cba2dd34e85fb478e",
       "version_major": 2,
       "version_minor": 0
      },
      "text/plain": [
       "interactive(children=(FloatSlider(value=5.0, description='λ', max=15.0, min=0.1, step=0.5), Output()), _dom_cl…"
      ]
     },
     "execution_count": 46,
     "metadata": {},
     "output_type": "execute_result"
    }
   ],
   "source": [
    "# hide\n",
    "from scipy.stats import poisson\n",
    "\n",
    "def plot_poisson(lambda_value):\n",
    "    \"\"\"\n",
    "    Plots the Poisson distribution for a given lambda value.\n",
    "\n",
    "    Args:\n",
    "        lambda_value (float): The lambda parameter for the Poisson distribution.\n",
    "\n",
    "    Returns:\n",
    "        None\n",
    "    \"\"\"\n",
    "    x = np.arange(0, 30)\n",
    "    y = poisson.pmf(x, lambda_value)\n",
    "\n",
    "    plt.figure(figsize=(10, 6))\n",
    "    plt.bar(x, y, width=0.8, )\n",
    "    plt.ylim((0,.4))\n",
    "    plt.title(f'Poisson Distribution (λ={lambda_value})',fontsize=15)\n",
    "    plt.xlabel('Number of Events ($k$)',fontsize=15)\n",
    "    plt.ylabel('Probability $P(X=k)$',fontsize=15)\n",
    "    plt.xticks(fontsize=15)\n",
    "    plt.yticks(fontsize=15)\n",
    "\n",
    "lambda_slider = widgets.FloatSlider(value=5, min=.1, max=15, step=0.5, description='λ')\n",
    "widgets.interactive(plot_poisson, lambda_value=lambda_slider)"
   ]
  },
  {
   "cell_type": "markdown",
   "metadata": {
    "slideshow": {
     "slide_type": "subslide"
    }
   },
   "source": [
    "Deriving the Expected Value\n",
    "\n",
    "1. **Substitute the PMF into the Formula for Expected Value**:\n",
    "   $$\n",
    "   E[X] = \\sum_{k=0}^{\\infty} k \\cdot \\frac{\\lambda^k e^{-\\lambda}}{k!}\n",
    "   $$\n",
    "\n",
    "2. **Simplify the Summation**:\n",
    "   Note that for $k = 0$, the term is 0 since $\\gap k \\cdot P(X = k) = 0.\\gap$ Therefore, we can start the summation from $k = 1$:\n",
    "   $$\n",
    "   E[X] = \\sum_{k=1}^{\\infty} k \\cdot \\frac{\\lambda^k e^{-\\lambda}}{k!}\n",
    "   $$\n",
    "\n",
    "3. **Rearrange the Summation**:\n",
    "   We can express $k$ as $\\gap k = (k-1) + 1\\gap$ and then break the sum into two parts. However, notice that we can factor out $\\gap\\lambda e^{-\\lambda}\\gap$ and use the following trick:\n",
    "   $$\n",
    "   E[X] = \\sum_{k=1}^{\\infty} \\frac{k \\lambda^k e^{-\\lambda}}{k!} = \\lambda e^{-\\lambda} \\sum_{k=1}^{\\infty} \\frac{\\lambda^{k-1}}{(k-1)!}\n",
    "   $$\n",
    "\n",
    "4. **Change the Index of Summation**:\n",
    "   Let $\\gap j = k-1.\\gap$ When $k = 1$, \\$j = 0$, and as $k\\rightarrow\\infty$, so does $j$:\n",
    "   $\n",
    "   \\gmath\n",
    "   E[X] = \\lambda e^{-\\lambda} \\sum_{j=0}^{\\infty} \\frac{\\lambda^j}{j!}\n",
    "   $\n",
    "\n",
    "5. **Recognize the Exponential Series**:\n",
    "   The series inside the summation is the [Taylor series expansion](https://en.wikipedia.org/wiki/Taylor_series) of $e^\\lambda$:\n",
    "   $\n",
    "   \\gmath\n",
    "   e^\\lambda = \\sum_{j=0}^{\\infty} \\frac{\\lambda^j}{j!}\n",
    "   $\n",
    "\n",
    "6. **Complete the Calculation**:\n",
    "   Since the series sums to $\\gap e^\\lambda$:\n",
    "   $\n",
    "   \\gmath\n",
    "   E[X] = \\lambda e^{-\\lambda} \\cdot e^\\lambda = \\lambda\n",
    "   $"
   ]
  },
  {
   "cell_type": "markdown",
   "metadata": {
    "slideshow": {
     "slide_type": "subslide"
    }
   },
   "source": [
    "The Poisson distribution is particularly useful for modeling rare events when the events are independent and the average rate is known. \n",
    "\n",
    "For example, a common real-world application of the Poisson distribution is modeling the number of incoming calls at a call center over a given period of time.\n",
    "\n",
    "**Scenario**: Suppose a call center receives an average of 10 calls per hour. We want to find the probability that exactly 7 calls will be received in the next hour.\n",
    "\n",
    "**Parameters**:\n",
    "- Average rate $\\lambda$: 10 calls per hour\n",
    "- Number of events ($k$): 7 calls\n",
    "\n",
    "**Calculation**:\n",
    "$\n",
    "\\gmath\n",
    "P(X = 7) = \\frac{10^7 e^{-10}}{7!} \\approx \\frac{453.9992976}{5040} \\approx 0.090\n",
    "$\n",
    "\n",
    "Therefore, the probability that exactly 7 calls will be received in the next hour is approximately 0.090, or 9\\%."
   ]
  },
  {
   "cell_type": "markdown",
   "metadata": {
    "slideshow": {
     "slide_type": "slide"
    }
   },
   "source": [
    "## Discrete Uniform Distribution\n",
    "\n",
    "The discrete uniform distribution is a probability distribution where a finite number of outcomes are equally likely to occur. If there are $n$ possible outcomes (e.g., 6 sides of a fair dice), each outcome has a probability $\\gap P(X=x)=\\frac{1}{n}$\n",
    "\n",
    "Let $X$ be a discrete random variable that takes on one of $n$ possible values: $\\gap\\{x_1, x_2, \\ldots, x_n\\} \\gap$. The probability mass function (PMF) of $X$ is given by:\n",
    "$$\n",
    "P(X = x_i) = \\frac{1}{n} \\quad \\text{for } i = 1, 2, \\ldots, n\n",
    "$$"
   ]
  },
  {
   "cell_type": "code",
   "execution_count": 31,
   "metadata": {
    "hideCode": false,
    "hidePrompt": false,
    "slideshow": {
     "slide_type": "fragment"
    }
   },
   "outputs": [
    {
     "data": {
      "application/vnd.jupyter.widget-view+json": {
       "model_id": "57fea5f2364d4168b7c85b0d81d30ba4",
       "version_major": 2,
       "version_minor": 0
      },
      "text/plain": [
       "interactive(children=(IntSlider(value=10, description='n', max=20, min=1), Output()), _dom_classes=('widget-in…"
      ]
     },
     "execution_count": 31,
     "metadata": {},
     "output_type": "execute_result"
    }
   ],
   "source": [
    "# hide\n",
    "def plotUniform(n):\n",
    "    p = 1/n*np.ones(n)\n",
    "    plt.bar(np.arange(n)+1,p)\n",
    "    plt.ylim((0,1))\n",
    "    plt.xticks(fontsize=15)\n",
    "    plt.yticks(fontsize=15)\n",
    "    plt.xlabel(\"Outcome $x$\",fontsize=15)\n",
    "    plt.ylabel(\"Probability $P(X=x)$\",fontsize=15)\n",
    "    plt.tight_layout()\n",
    "    \n",
    "widgets.interactive(plotUniform,n=(1,20,1))"
   ]
  },
  {
   "cell_type": "markdown",
   "metadata": {
    "slideshow": {
     "slide_type": "subslide"
    }
   },
   "source": [
    "Some useful properties of the Uniform distribution:\n",
    "1. **Equal Probabilities**: Every outcome has the same probability:\n",
    "   $\n",
    "   \\gmath\n",
    "   P(X = x_i) = \\frac{1}{n}\n",
    "   $\n",
    "2. **Sum of Probabilities**:\n",
    "   Since the probabilities must sum to 1 for a valid probability distribution:\n",
    "   $\n",
    "   \\gmath\n",
    "   \\sum_{i=1}^n P(X = x_i) = \\sum_{i=1}^n \\frac{1}{n} = 1\n",
    "   $\n",
    "3. **Mean (Expected Value)**:\n",
    "   The mean of a discrete uniform distribution is given by:\n",
    "   $\n",
    "   \\gmath\n",
    "   E[X] = \\frac{1}{n} \\sum_{i=1}^n x_i\n",
    "   $\n",
    "4. **Variance**:\n",
    "   The variance of a discrete uniform distribution is:\n",
    "   $\n",
    "   \\gmath\n",
    "   \\sigma^2 = \\frac{1}{n} \\sum_{i=1}^n (x_i - E[X])^2\n",
    "   $"
   ]
  },
  {
   "cell_type": "markdown",
   "metadata": {
    "slideshow": {
     "slide_type": "subslide"
    }
   },
   "source": [
    "A classic example of a discrete uniform distribution is rolling a fair six-sided die. Each face of the die has an equal probability of landing face up.\n",
    "\n",
    "- **Possible Outcomes**: $\\gap\\{1, 2, 3, 4, 5, 6\\} $\n",
    "- **Number of Outcomes**: $\\gap n = 6$\n",
    "- **Probability of Each Outcome**:\n",
    "    $\n",
    "    \\gmath\n",
    "  P(X = x) = \\frac{1}{6} \\quad \\text{for } x = 1, 2, 3, 4, 5, 6\n",
    "  $\n",
    "\n",
    "**Expected Value (Mean)**:\n",
    "$\n",
    "\\gmath\n",
    "\\color{red}{E[X] = \\frac{1}{6} (1 + 2 + 3 + 4 + 5 + 6) = \\frac{7}{2} = 3.5}\n",
    "$\n",
    "\n",
    "**Variance**:\n",
    "\n",
    "$\n",
    "\\gmath\n",
    "\\sigma^2 = \\color{blue}{E[X^2]} - (\\color{red}{E[X]})^2\n",
    "\\hspace{.25cm}\n",
    "$\n",
    "by definition.\n",
    "\n",
    "$\n",
    "\\gmath\n",
    "\\color{blue}{E[X^2] = \\frac{1}{6} (1^2 + 2^2 + 3^2 + 4^2 + 5^2 + 6^2) = \\frac{91}{6}}\n",
    "\\gap\n",
    "$\n",
    "\n",
    "And so\n",
    "$\n",
    "\\gmath\n",
    "\\sigma^2 = \\color{blue}{\\frac{91}{6}} - \\left(\\color{red}{\\frac{7}{2}}\\right)^2 =  \\frac{35}{12}\n",
    "\\gap\n",
    "$\n",
    "\n"
   ]
  },
  {
   "cell_type": "markdown",
   "metadata": {
    "slideshow": {
     "slide_type": "subslide"
    }
   },
   "source": [
    "### Application in Practice: Equal Likelihood for Tasks\n",
    "\n",
    "In a classroom setting, suppose a teacher wants to randomly assign homework problems from a set of 10 problems, ensuring each problem has an equal chance of being assigned. This is an example of using a discrete uniform distribution.\n",
    "\n",
    "- **Possible Outcomes**: $\\gap \\{1, 2, 3, \\dots, 10\\}$\n",
    "- **Number of Outcomes**: $\\gap n = 10$\n",
    "- **Probability of Each Outcome**:\n",
    "  $\n",
    "  \\gmath\n",
    "  P(X = x) = \\frac{1}{10} \\quad \\text{for } x = 1, 2, 3, \\dots, 10\n",
    "  $\n",
    "\n",
    "**Expected Value (Mean)**:\n",
    "$\n",
    "\\gmath\n",
    "E[X] = \\frac{1}{10}(1 + 2 + 3 + \\dots + 10) = \\frac{11}{2} \n",
    "$\n",
    "\n",
    "**Variance**:\n",
    "Using the formula for the variance of the discrete uniform distribution,\n",
    "$\n",
    "\\gmath\n",
    "\\sigma^2 = E[X^2] - (E[X])^2\n",
    "$\n",
    "\n",
    "$\n",
    "\\gmath\n",
    "E[X^2] = \\frac{1}{10} (1^2 + 2^2 + 3^2 + \\dots + 10^2) = \\frac{77}{2} \n",
    "$\n",
    "\n",
    "\n",
    "$\n",
    "\\gmath\n",
    "\\sigma^2 = \\frac{77}{2} - \\left( \\frac{11}{2}\\right)^2 = \\frac{33}{4}\n",
    "$\n"
   ]
  },
  {
   "cell_type": "markdown",
   "metadata": {
    "slideshow": {
     "slide_type": "subslide"
    }
   },
   "source": [
    "Instead of discrete outcomes, what if outcomes are continuous?\n",
    "\n",
    "For example, Numpy's default random number generator generates random numbers from the continuous real-number interval $\\gap [0,1)$\n",
    "\n",
    "The ***Continuous Uniform Distribution*** describes a random variable $\\gap X\\in[a,b)\\gap$ such that $P(X=x)=p$ for all $\\gap x\\in[a,b)$\n",
    "\n",
    "This means that $X$ can be any real-number between $a$ and $b$ and each real-number on the interval $\\gap [a,b)\\gap$ is equally likely.\n",
    "\n",
    "We will use $\\gap U_{[a,b)}\\gap$ to denote the continuous uniform distribution and it's interval."
   ]
  },
  {
   "cell_type": "code",
   "execution_count": 85,
   "metadata": {
    "slideshow": {
     "slide_type": "fragment"
    }
   },
   "outputs": [
    {
     "data": {
      "text/plain": [
       "array([0.68912689, 0.47625027, 0.27296202, 0.69683118, 0.46873962,\n",
       "       0.97321516, 0.3938037 , 0.3910308 , 0.64391257, 0.88466435])"
      ]
     },
     "execution_count": 85,
     "metadata": {},
     "output_type": "execute_result"
    }
   ],
   "source": [
    "# generate 10 random numbers using numpy\n",
    "np.random.random(10)"
   ]
  },
  {
   "cell_type": "markdown",
   "metadata": {
    "slideshow": {
     "slide_type": "subslide"
    }
   },
   "source": [
    "Here is a plot what this looks like. First, let's look at $\\gap U_{[0,1)}$"
   ]
  },
  {
   "cell_type": "code",
   "execution_count": 68,
   "metadata": {
    "hideCode": false,
    "hidePrompt": false,
    "slideshow": {
     "slide_type": "fragment"
    }
   },
   "outputs": [
    {
     "data": {
      "application/vnd.jupyter.widget-view+json": {
       "model_id": "cd28ec3e76314b8999b11b3f62d5fe61",
       "version_major": 2,
       "version_minor": 0
      },
      "text/plain": [
       "HBox(children=(VBox(children=(FloatSlider(value=0.0, description='a:', max=1.0, min=-0.5), FloatSlider(value=1…"
      ]
     },
     "execution_count": 68,
     "metadata": {},
     "output_type": "execute_result"
    }
   ],
   "source": [
    "# hide\n",
    "def uniformDistUpper(a,b):\n",
    "    c = 1/(b-a)\n",
    "    plt.figure(figsize=(8,6))\n",
    "    plt.fill_between([a,b],[c,c])\n",
    "    plt.ylim((0,3))\n",
    "    plt.xlim((-.51,1.1))\n",
    "    plt.xticks(fontsize=15)\n",
    "    plt.yticks(fontsize=15)\n",
    "    plt.xlabel(\"Random Number\",fontsize=15)\n",
    "    plt.ylabel(\"Probability Density Function (PMF)\",fontsize=15)\n",
    "    plt.title(\"Continuous Uniform Distribution\",fontsize=15)\n",
    "    plt.tight_layout()\n",
    "    \n",
    "# widgets.interactive(uniformDistUpper,a=(-.5,1,.1),b=(-.5,1,.1))\n",
    "uniform_a_slider = widgets.FloatSlider(min=-.5,max=1,step=.1,value=0,description=\"a:\")\n",
    "uniform_b_slider = widgets.FloatSlider(min=-.5,max=1,step=.1,value=1,description=\"b:\")\n",
    "widgets.HBox(\n",
    "    [\n",
    "        widgets.VBox([uniform_a_slider,uniform_b_slider,]),\n",
    "        widgets.interactive_output(\n",
    "        uniformDistUpper, {\n",
    "        'a': uniform_a_slider, \n",
    "            'b': uniform_b_slider, \n",
    "        }),\n",
    "    ]\n",
    ")"
   ]
  },
  {
   "cell_type": "markdown",
   "metadata": {
    "slideshow": {
     "slide_type": "fragment"
    }
   },
   "source": [
    "Notice that the y-axis is now the **Probability Density Function (PDF)** instead of a probability mass function (PMF). \n",
    "\n",
    "You might be confused to see that $\\gap P(X=x)=1\\gap$ for all $\\gap x\\in[a,b),\\gap$ but this is where it's useful to think about probability as area.\n",
    "\n",
    "The total area under the continuous distribution must equal 1: \n",
    "$\n",
    "\\gmath\n",
    "1=\\int_a^b P(X=x)\\,dx =\\int_a^b p\\,dx = pb-pa \\gap\\Rightarrow\\gap p=\\frac{1}{b-a}\n",
    "$"
   ]
  },
  {
   "cell_type": "markdown",
   "metadata": {
    "slideshow": {
     "slide_type": "subslide"
    }
   },
   "source": [
    "For discrete probability distributions, $\\gmath E[X] = \\sum_{x\\in X} x\\cdot P(X=x)$\n",
    "\n",
    "For continuous probability distributions, we replace the sum with and integral: $\\gmath E[X] = \\int_{x\\in X} x\\cdot P(X=x)\\,dx$"
   ]
  },
  {
   "cell_type": "markdown",
   "metadata": {
    "slideshow": {
     "slide_type": "fragment"
    }
   },
   "source": [
    "For $\\gap U_{[a,b)}:\\gap$ \n",
    "\n",
    "$$\n",
    "\\color{blue}{E[X]} \n",
    "= \\int_a^b x\\cdot \\color{red}{P(X=x)}\\,dx \n",
    "= \\color{red}{\\frac{1}{b-a}}\\int_a^b x \\,dx \n",
    "= \\color{red}{\\frac{1}{b-a}}\\cdot \\frac{x^2}{2}\\Big|_a^b\n",
    "= \\frac{b^2-a^2}{2(b-a)}\n",
    "=\\frac{(b-a)(b+a)}{2(b-a)}\n",
    "=\\color{blue}{\\frac{b+a}{2}}\n",
    "$$\n",
    "\n",
    "Similarly, we calculate variance using integrals instead of sums:\n",
    "$$\n",
    "Var(X) = E[X^2]-\\left(\\color{blue}{E[X]}\\right)^2\n",
    "% =\\int_a^b x^2\\cdot P(X=x)\\,dx  - \\left(\\frac{b+a}{2}\\right)^2\n",
    "=\\frac{1}{b-a}\\int_a^b x^2\\,dx  - \\left(\\color{blue}{\\frac{b+a}{2}}\\right)^2\n",
    "=\\frac{1}{b-a}\\cdot\\frac{x^3}{3}\\Big|_a^b  - \\left(\\frac{b+a}{2}\\right)^2\n",
    "=\\frac{b^3-a^3}{3(b-a)}  - \\left(\\frac{b+a}{2}\\right)^2\n",
    "$$\n",
    "\n",
    "$$\n",
    "=\\frac{a^{2}}{3} + \\frac{a b}{3} + \\frac{b^{2}}{3} -\\frac{a^{2}}{4} - \\frac{a b}{2} - \\frac{b^{2}}{4}\n",
    "=\\frac{1}{12}(b-a)^2\n",
    "$$"
   ]
  },
  {
   "cell_type": "markdown",
   "metadata": {
    "slideshow": {
     "slide_type": "subslide"
    }
   },
   "source": [
    "$U_{[a,b)}\\gap$ is used to generate random samples from other probability distributions.\n",
    "\n",
    "If we want to generate data that respects the probability distribution $\\gap P(X=x),\\gap$ \n",
    "- if $\\gap P(X=x)\\gap$ is discrete, then we consider the **Cumulative Mass Function (CMF)**: $\\gmath CMF(X=x) = \\sum_{k=a}^x P(X=k)$\n",
    "- if $\\gap P(X=x)\\gap$ is continuous, then we consider the **Cumulative Density Function (CDF)**: $\\gmath CDF(X=x) = \\int_{a}^x P(X=k)\\,dk$"
   ]
  },
  {
   "cell_type": "code",
   "execution_count": 34,
   "metadata": {
    "slideshow": {
     "slide_type": "subslide"
    }
   },
   "outputs": [
    {
     "name": "stdout",
     "output_type": "stream",
     "text": [
      "(0.2706705664732254, 3.818985064877964e-05, 5.0099794781991344e-51)\n"
     ]
    }
   ],
   "source": [
    "# example: generate random numbers drawn from a Poisson distribution with lambda=2\n",
    "poisson = lambda x: (2**x * np.exp(-2)) / np.exp(np.sum(np.log(np.arange(1,x+1))))\n",
    "# note the possible values for Poisson distribution range from [0,\\infty)\n",
    "print((poisson(2),poisson(10),poisson(50)))\n",
    "# Poisson CMF approximation for [1,50]\n",
    "poisson_CMF = np.cumsum([poisson(i) for i in range(0,50)])\n",
    "# use Numpy random to generate random numbers uniformly from [0,50)\n",
    "unif_numbers = np.random.random(1000)"
   ]
  },
  {
   "cell_type": "code",
   "execution_count": 35,
   "metadata": {
    "hideCode": false,
    "hidePrompt": false,
    "slideshow": {
     "slide_type": "fragment"
    }
   },
   "outputs": [
    {
     "data": {
      "image/png": "[encoded data removed]",
      "text/plain": [
       "<Figure size 576x432 with 1 Axes>"
      ]
     },
     "metadata": {
      "needs_background": "light"
     },
     "output_type": "display_data"
    }
   ],
   "source": [
    "#hide\n",
    "plt.figure(figsize=(8,6))\n",
    "plt.plot(poisson_CMF,linewidth=3)\n",
    "plt.xticks(fontsize=15)\n",
    "plt.yticks(fontsize=15)\n",
    "plt.ylabel('Cumulative Mass Function',fontsize=15)\n",
    "plt.xlabel(\"X\",fontsize=15);"
   ]
  },
  {
   "cell_type": "code",
   "execution_count": 54,
   "metadata": {
    "slideshow": {
     "slide_type": "subslide"
    }
   },
   "outputs": [
    {
     "data": {
      "text/plain": [
       "array([4., 4., 0., 4., 5., 2., 3., 2., 0., 2.])"
      ]
     },
     "execution_count": 54,
     "metadata": {},
     "output_type": "execute_result"
    }
   ],
   "source": [
    "# generate Poisson-distributed data\n",
    "data = np.zeros(len(unif_numbers))\n",
    "for i in range(len(unif_numbers)):\n",
    "    unum = unif_numbers[i]\n",
    "    num = None\n",
    "    for j in range(len(poisson_CMF)):\n",
    "        if poisson_CMF[j] >= unum:\n",
    "            num = j\n",
    "            break\n",
    "    if num is None:\n",
    "        num = len(poisson_CMF)\n",
    "    data[i] = num\n",
    "data[:10]"
   ]
  },
  {
   "cell_type": "code",
   "execution_count": 56,
   "metadata": {
    "hideCode": false,
    "hidePrompt": false,
    "slideshow": {
     "slide_type": "fragment"
    }
   },
   "outputs": [
    {
     "data": {
      "image/png": "[encoded data removed]",
      "text/plain": [
       "<Figure size 576x432 with 1 Axes>"
      ]
     },
     "metadata": {
      "needs_background": "light"
     },
     "output_type": "display_data"
    }
   ],
   "source": [
    "# hide\n",
    "plt.figure(figsize=(8,6));\n",
    "plt.hist(data,bins=np.arange(np.min(data),np.max(data)+1),width=.9,align=\"left\")\n",
    "plt.xticks(fontsize=15);plt.yticks(fontsize=15)\n",
    "plt.ylabel('Count',fontsize=15);plt.xlabel(\"X\",fontsize=15);"
   ]
  },
  {
   "cell_type": "markdown",
   "metadata": {
    "slideshow": {
     "slide_type": "slide"
    }
   },
   "source": [
    "## Normal Distribution\n",
    "\n",
    "We saw the Normal Distribution in a previous module. But let's revisit it here.\n",
    "\n",
    "The Normal Distribution is described by the continuous probability distribution:\n",
    "$$\n",
    "P(X=x)={\\frac {1}{\\sqrt {2\\pi \\sigma ^{2}}}}e^{-{\\frac {(x-\\mu )^{2}}{2\\sigma ^{2}}}}\n",
    "$$\n",
    "where $\\gap\\mu\\gap$ is the distribution's expected value and $\\gap\\sigma\\gap$ is the distribution's standard deviation (i.e., the square root of the variance).\n",
    "\n",
    "The Normal Distribution allows us to prescribe the expected value and the variation around that value by picking $\\gap\\mu,\\sigma$\n",
    "\n",
    "For the **standard Normal Distribution,** $\\gap\\mu=0,\\sigma=1$"
   ]
  },
  {
   "cell_type": "code",
   "execution_count": 38,
   "metadata": {
    "hideCode": false,
    "hidePrompt": false,
    "slideshow": {
     "slide_type": "subslide"
    }
   },
   "outputs": [
    {
     "data": {
      "application/vnd.jupyter.widget-view+json": {
       "model_id": "cf172a74b099494c83a188f11c7b0590",
       "version_major": 2,
       "version_minor": 0
      },
      "text/plain": [
       "HBox(children=(VBox(children=(FloatSlider(value=0.0, description='mu:', max=5.0, min=-5.0), FloatSlider(value=…"
      ]
     },
     "execution_count": 38,
     "metadata": {},
     "output_type": "execute_result"
    }
   ],
   "source": [
    "#hide \n",
    "\n",
    "def normal(mu,sigma):\n",
    "    x = np.linspace(-20,20,500)\n",
    "    y = np.exp(-(x-mu)**2/(2*sigma**2)) / np.sqrt(2*np.pi*sigma**2)\n",
    "    return x,y\n",
    "\n",
    "def plotNormal(mu,sigma):\n",
    "    x,y = normal(mu,sigma)\n",
    "    plt.figure(figsize=(8,6))\n",
    "    plt.fill_between(x,y,)\n",
    "#     plt.ylim((0,np.max(y)))\n",
    "    plt.ylim((0,.5))\n",
    "    plt.xticks(fontsize=15)\n",
    "    plt.yticks(fontsize=15)\n",
    "    plt.xlabel(\"$x$\",fontsize=15)\n",
    "    plt.ylabel(\"$P(X=x)$\",fontsize=15)\n",
    "    plt.title(\"N(%0.2f,%0.2f)\" % (mu,sigma),fontsize=15)\n",
    "    plt.tight_layout()\n",
    "\n",
    "# plotNormal(2,3)\n",
    "sigma_slider = widgets.FloatSlider(min=.01,max=5,step=.1,value=1,description=\"sigma:\")\n",
    "mu_slider = widgets.FloatSlider(min=-5,max=5,step=.1,value=0,description=\"mu:\")\n",
    "\n",
    "widgets.HBox(\n",
    "    [\n",
    "        widgets.VBox([mu_slider,sigma_slider,]),\n",
    "        widgets.interactive_output(\n",
    "        plotNormal, {\n",
    "            \"mu\":mu_slider,\n",
    "            \"sigma\":sigma_slider,\n",
    "        }),\n",
    "    ]\n",
    ")"
   ]
  },
  {
   "cell_type": "markdown",
   "metadata": {
    "slideshow": {
     "slide_type": "subslide"
    }
   },
   "source": [
    "Let's prove that $\\gap\\mu\\gap$ is the expected value\n",
    "\n",
    "$\n",
    "\\gmath\n",
    "E[X] = \\int_{-\\infty}^\\infty x\\cdot\\frac{1}{\\sqrt{2\\pi}\\sigma}e^{\\frac{-(x-\\mu)^2}{2\\sigma^2}}\\,dx\n",
    "= \\frac{1}{\\sqrt{2\\pi}\\sigma}\\int_{-\\infty}^\\infty x\\cdot e^{-\\frac{1}{2}\\left(\\color{blue}{\\frac{x-\\mu}{\\sigma}}\\right)^2}\\,dx\n",
    "$\n",
    "\n",
    "Next, we use the change in variables: $\\gap u=\\color{blue}{(x-\\mu)/\\sigma}\\gap$ and $\\gap \\color{red}{\\sigma} du=dx$:\n",
    "\n",
    "$\n",
    "\\gmath\n",
    "E[X] = \\frac{\\color{red}{\\sigma}}{\\sqrt{2\\pi}\\sigma}\\int_{-\\infty}^\\infty (\\sigma u+\\mu)\\cdot e^{-\\frac{u^2}{2}}\\,du\n",
    "= \\frac{\\sigma}{\\sqrt{2\\pi}}\\color{orange}{\\int_{-\\infty}^\\infty u\\cdot e^{-\\frac{u^2}{2}}\\,du} + \\mu\\cdot\\left(\\color{darkmagenta}{\\frac{1}{\\sqrt{2\\pi}}\\int_{-\\infty}^\\infty  e^{-\\frac{u^2}{2}}\\,du} \\right)\n",
    "$\n",
    "\n",
    "Note that second integral is just the standard Normal Distribution (i.e., $\\gap\\mu=0,\\sigma=1\\gap$), and so:\n",
    "$\n",
    "\\gmath\n",
    "\\color{darkmagenta}{\\frac{1}{\\sqrt{2\\pi}}\\int_{-\\infty}^\\infty  e^{-\\frac{u^2}{2}}\\,du} = 1\n",
    "$\n",
    "\n",
    "To solve, the first integral, use the change in variables: $\\gap z=u^2/2\\gap$ and $\\gap u\\,du=dz$\n",
    "\n",
    "$\n",
    "\\gmath\n",
    "\\color{orange}{\\int_{-\\infty}^\\infty e^{-\\frac{u^2}{2}}\\cdot u \\,du}\n",
    "= \\int_{\\infty}^\\infty e^{-z} \\,dz\n",
    "=-e^{-z}\\Big|_{\\infty}^\\infty = 0\n",
    "$\n",
    "\n",
    "Thus,\n",
    "$\n",
    "\\gmath\n",
    "E[X] = \\frac{\\sigma}{\\sqrt{2\\pi}}\\cdot\\color{orange}{0}+\\mu\\cdot(\\color{darkmagenta}{1}) = \\mu\n",
    "$"
   ]
  },
  {
   "cell_type": "markdown",
   "metadata": {
    "slideshow": {
     "slide_type": "subslide"
    }
   },
   "source": [
    "What about Variance?\n",
    "\n",
    "$\n",
    "\\gmath\n",
    "Var(X) = E[(X-\\mu)^2] \n",
    "= \\frac{1}{\\sqrt{2\\pi}\\sigma}\\int_{-\\infty}^\\infty (x-\\mu)^2\\cdot e^{-(x-\\mu)^2/(2\\sigma^2)}\\,dx\n",
    "$\n",
    "\n",
    "Letting $\\gap u= \\frac{x-\\mu}{\\sigma}\\gap$, then $\\gap du=\\frac{1}{\\sigma}dx\\gap$ and $\\gap dx = \\sigma du \\gap$ and $\\gap x = \\sigma u+\\mu\\gap$, we have \n",
    "\n",
    "$\n",
    "\\gmath\n",
    "= \\frac{1}{\\sqrt{2\\pi}\\sigma}\\int_{-\\infty}^\\infty (\\sigma u)^2\\cdot e^{-u^2/2}\\,(\\sigma du)\n",
    "= \\sigma^2\\cdot\\color{darkmagenta}{\\frac{1}{\\sqrt{2\\pi}}\\int_{-\\infty}^\\infty u^2\\cdot e^{-u^2/2}\\,du}\n",
    "$\n",
    "\n",
    "where the integral is the variance of the standard Normal Distribution and is equal to 1.\n",
    "\n",
    "Thus, $\\gap Var(X)=\\sigma^2,\\gap$ which is the standard deviation squared."
   ]
  },
  {
   "cell_type": "markdown",
   "metadata": {
    "slideshow": {
     "slide_type": "slide"
    }
   },
   "source": [
    "## Student's t Distribution\n",
    "\n",
    "The Student's t-distribution is a probability distribution that arises when estimating the mean of a normally distributed population in situations where the sample size is small and the population standard deviation is unknown. It is widely used in inferential statistics, particularly in hypothesis testing and constructing confidence intervals.\n",
    "\n",
    "The **t-distribution** is a family of distributions, each determined by a parameter called the degrees of freedom (df) which is typically the number of observations in the sample minus 1.\n",
    "\n",
    "The probability density function (pdf) of the t-distribution with $\\gap\\nu\\gap$ degrees of freedom is given by:\n",
    "\n",
    "$\n",
    "\\gmath\n",
    "f(t) = \\frac{\\Gamma\\left(\\frac{\\nu + 1}{2}\\right)}{\\sqrt{\\nu \\pi} \\, \\Gamma\\left(\\frac{\\nu}{2}\\right)} \\left(1 + \\frac{t^2}{\\nu}\\right)^{-\\frac{\\nu + 1}{2}}\n",
    "$\n",
    "\n",
    "where:\n",
    "- $\\Gamma\\gap$ is the Gamma function (i.e., the continuous version of the factorial function),\n",
    "- $\\nu\\gap$ is the degrees of freedom,\n",
    "- $t\\gap$ is the t-score."
   ]
  },
  {
   "cell_type": "markdown",
   "metadata": {
    "slideshow": {
     "slide_type": "subslide"
    }
   },
   "source": [
    "I want to explore the t-distribution for different parameters.\n",
    "\n",
    "But first, we will need that $\\gap1+x\\approx e^x\\gap$ for $\\gap|x|\\approx0$"
   ]
  },
  {
   "cell_type": "code",
   "execution_count": 39,
   "metadata": {
    "hideCode": false,
    "hidePrompt": false,
    "slideshow": {
     "slide_type": "fragment"
    }
   },
   "outputs": [
    {
     "data": {
      "image/png": "[encoded data removed]",
      "text/plain": [
       "<Figure size 576x432 with 1 Axes>"
      ]
     },
     "metadata": {
      "needs_background": "light"
     },
     "output_type": "display_data"
    }
   ],
   "source": [
    "# hide\n",
    "x = np.linspace(-1,1,100)\n",
    "plt.figure(figsize=(8,6))\n",
    "plt.plot(x,1+x,linewidth=3,label=\"$y=1+x$\")\n",
    "plt.plot(x,np.exp(x),linewidth=3,label=\"$y=e^x$\")\n",
    "plt.xticks(np.arange(-1,1.1,.5),fontsize=15)\n",
    "plt.yticks(fontsize=15)\n",
    "plt.xlabel(\"x\",fontsize=15)\n",
    "plt.ylabel(\"y\",fontsize=15)\n",
    "plt.legend(fontsize=15)\n",
    "plt.grid(\"on\")"
   ]
  },
  {
   "cell_type": "markdown",
   "metadata": {
    "slideshow": {
     "slide_type": "subslide"
    }
   },
   "source": [
    "The t-distribution is a generalization of the Normal Distribution. We can see this by examining $\\gap \\nu\\rightarrow\\infty$\n",
    "\n",
    "$\n",
    "\\gmath\n",
    "\\begin{align}\n",
    "\\lim_{\\nu\\rightarrow\\infty}f(t) \n",
    "    &= \\lim_{\\nu\\rightarrow\\infty}\\frac{\\color{red}{\\Gamma\\left(\\frac{\\nu + 1}{2}\\right)/\\Gamma\\left(\\frac{\\nu}{2}\\right)}}{\\sqrt{\\nu \\pi} } \\left(\\color{blue}{1 + \\frac{t^2}{\\nu}}\\right)^{-\\frac{\\nu + 1}{2}}\n",
    "= \\lim_{\\nu\\rightarrow\\infty}\\frac{\\color{red}{\\sqrt{\\nu}/\\sqrt{2}}}{\\sqrt{\\nu}\\cdot \\sqrt{\\pi} } \\left(\\color{blue}{1 + \\frac{t^2}{\\nu}}\\right)^{-\\frac{\\nu + 1}{2}}\n",
    "% \\hspace{.5cm}\n",
    "&\\text{using }\\color{red}{\\Gamma(z) = \\int_0^\\infty t^{z-1}e^{-t}\\,dt}\n",
    "\\\\\\\\\n",
    "&= \\lim_{\\nu\\rightarrow\\infty}\\frac{1}{\\sqrt{2 \\pi} } \\left(\\color{blue}{e^{t^2/\\nu}}\\right)^{-\\frac{\\nu + 1}{2}}\n",
    "= \\lim_{\\nu\\rightarrow\\infty}\\frac{1}{\\sqrt{2 \\pi} } e^{-t^2(\\nu+1)/(2\\nu)}\n",
    "% \\hspace{.5cm}\n",
    "&\\text{using }\\color{blue}{1+x \\approx e^x}\\text{ for }|x|\\approx0\n",
    "\\\\\\\\\n",
    "&= \\frac{1}{\\sqrt{2 \\pi} } e^{-t^2/2}\n",
    "\\end{align}\n",
    "$\n",
    "\n",
    "which is the standard Normal Distribution with $\\gap\\mu=0,\\sigma=1$"
   ]
  },
  {
   "cell_type": "markdown",
   "metadata": {
    "slideshow": {
     "slide_type": "subslide"
    }
   },
   "source": [
    "Properties of the t-Distribution:\n",
    "- The t-distribution is symmetric and bell-shaped, similar to the standard normal distribution, but has heavier tails.\n",
    "- As the degrees of freedom increase, the t-distribution approaches the standard normal distribution.\n",
    "\n",
    "Below, use the slider to plot the t-distribution while varying the degrees of freedom (df) $\\gap\\nu$"
   ]
  },
  {
   "cell_type": "code",
   "execution_count": 40,
   "metadata": {
    "hideCode": false,
    "hidePrompt": false,
    "slideshow": {
     "slide_type": "fragment"
    }
   },
   "outputs": [
    {
     "data": {
      "application/vnd.jupyter.widget-view+json": {
       "model_id": "7e69b516f7c64415a0d042ac145dd0c0",
       "version_major": 2,
       "version_minor": 0
      },
      "text/plain": [
       "HBox(children=(VBox(children=(IntSlider(value=1, description='DoF:', max=30, min=1), Checkbox(value=False, des…"
      ]
     },
     "execution_count": 40,
     "metadata": {},
     "output_type": "execute_result"
    }
   ],
   "source": [
    "# hide\n",
    "import scipy\n",
    "\n",
    "# Function to update plot\n",
    "def plotTDist(df,compareNormal=False):\n",
    "    t = np.linspace(-10, 10, 500)\n",
    "    y = scipy.stats.t.pdf(t, df)\n",
    "    plt.figure(figsize=(8, 6))\n",
    "    plt.fill_between(t, y, label=f't-distribution (df={df})')\n",
    "    if compareNormal:\n",
    "        x,y = normal(0,1)\n",
    "        plt.plot(x,y,'r-',label=\"standard Normal Dist.\",lw=4)\n",
    "    plt.ylim((0,0.4))\n",
    "    plt.xlim((-10,10))\n",
    "    plt.xlabel('t',fontsize=15)\n",
    "    plt.ylabel('Probability Density',fontsize=15)\n",
    "    plt.title('Student\\'s t-Distribution',fontsize=15)\n",
    "    plt.xticks(fontsize=15)\n",
    "    plt.yticks(fontsize=15)\n",
    "    plt.legend()\n",
    "    plt.grid(True)\n",
    "#     plt.show()\n",
    "\n",
    "# Slider widgets for degrees of freedom\n",
    "df_slider = widgets.IntSlider(value=1, min=1, max=30, step=1, description='DoF:')\n",
    "compareNormal_checkbox = widgets.Checkbox(value=False,description=\"Plot Normal:\")\n",
    "\n",
    "# Observe changes in sliders and update plot accordingly\n",
    "# widgets.interactive(plotTDist, df=df_slider,compareNormal=False)\n",
    "widgets.HBox([\n",
    "    widgets.VBox([df_slider,compareNormal_checkbox,]),\n",
    "    widgets.interactive_output(\n",
    "        plotTDist, {\n",
    "            \"df\":df_slider,\n",
    "            \"compareNormal\":compareNormal_checkbox,\n",
    "        }),\n",
    "])"
   ]
  },
  {
   "cell_type": "markdown",
   "metadata": {
    "slideshow": {
     "slide_type": "subslide"
    }
   },
   "source": [
    "What's the expected value of the t-distribution?\n",
    "\n",
    "$\n",
    "\\gmath\n",
    "E[T] = \\int_{-\\infty}^\\infty t\\cdot P(T=t)\\,dt\n",
    "= \\frac{\\Gamma\\left(\\frac{\\nu + 1}{2}\\right)}{\\sqrt{\\nu \\pi} \\, \\Gamma\\left(\\frac{\\nu}{2}\\right)}\\int_{-\\infty}^\\infty t\\cdot \\left(1 + \\frac{t^2}{\\nu}\\right)^{-\\frac{\\nu + 1}{2}}\\, dt\n",
    "$\n",
    "\n",
    "Now, let $\\gap u=t^2,\\gap$ then $\\gap du=2t\\,dt$, giving us\n",
    "\n",
    "$\n",
    "\\gmath\n",
    "\\frac{\\Gamma\\left(\\frac{\\nu + 1}{2}\\right)}{2\\sqrt{\\nu \\pi} \\, \\Gamma\\left(\\frac{\\nu}{2}\\right)}\\int_{\\infty}^\\infty\\left(1 + \\frac{u}{\\nu}\\right)^{-\\frac{\\nu + 1}{2}}\\, du\n",
    "$\n",
    "\n",
    "Note that the limits of the integral need to change as we change variables from $t$ to $u$. With the new limits of integration, it's clear that the answer is $\\gap E[T]=0\\gap$ because, if $F(u)$ is the antiderivative to the integral, then the solution accounting for integration limits will be $\\gap F(\\infty)-F(\\infty)$"
   ]
  },
  {
   "cell_type": "markdown",
   "metadata": {
    "slideshow": {
     "slide_type": "subslide"
    }
   },
   "source": [
    "### Real-World Application: Comparing Means\n",
    "\n",
    "**Motivating Example**: Suppose you are a quality control manager at a factory that produces light bulbs. You are interested in determining whether a new manufacturing process produces bulbs with a different average lifespan compared to the current process. You have a small sample of data:\n",
    "- Current process: sample mean lifespan = 1000 hours, standard deviation = 30 hours, sample size = 10.\n",
    "- New process: sample mean lifespan = 1020 hours, standard deviation = 25 hours, sample size = 10.\n",
    "\n",
    "You want to test whether the new process significantly improves the product's lifespan. Given the small sample size and unknown population standard deviation, the t-distribution is appropriate.\n",
    "\n"
   ]
  },
  {
   "cell_type": "markdown",
   "metadata": {
    "slideshow": {
     "slide_type": "fragment"
    }
   },
   "source": [
    "**Setting up the hypothesis test**:\n",
    "- Null hypothesis $\\gap H_0: \\gap$ $\\gap\\mu = 1000 \\gap$ hours (the mean lifespan of the bulbs is 1000 hours, as with the current process).\n",
    "- Alternative hypothesis $\\gap H_1: \\gap$ $\\gap \\mu > 1000 \\gap$ hours (the new process produces bulbs with a longer lifespan)."
   ]
  },
  {
   "cell_type": "markdown",
   "metadata": {
    "slideshow": {
     "slide_type": "subslide"
    }
   },
   "source": [
    "**Test statistic**: The test statistic for a one-sample t-test is given by:\n",
    "$\n",
    "\\gmath\n",
    "t = \\frac{\\bar{x} - \\mu}{s / \\sqrt{n}}\n",
    "$\n",
    "\n",
    "where:\n",
    "- $\\gap\\bar{x}\\gap$ is the sample mean,\n",
    "- $\\gap\\mu\\gap$ is the population mean under the null hypothesis,\n",
    "- $\\gap s \\gap$ is the sample standard deviation,\n",
    "- $\\gap n \\gap$ is the sample size.\n",
    "\n",
    "The numerator is shifting the center of the sample distribution to be zero so that we can compare the sample distribution to the t-distribution.\n",
    "\n",
    "The denominator is called the **standard error** and estimates the standard deviation of the true underlying process."
   ]
  },
  {
   "cell_type": "markdown",
   "metadata": {
    "slideshow": {
     "slide_type": "subslide"
    }
   },
   "source": [
    "test statistic for a one-sample t-test: \n",
    "$\n",
    "\\gmath\n",
    "t = \\frac{\\bar{x} - \\mu}{s / \\sqrt{n}}\n",
    "$\n",
    "\n",
    "For the new process:\n",
    "$\n",
    "\\gmath\n",
    "t = \\frac{1020 - 1000}{25 / \\sqrt{10}} = \\frac{20}{7.91} \\approx 2.53\n",
    "$\n",
    "\n",
    "With a sample size of $\\gap n = 10,\\gap$ the degrees of freedom $\\gap\\nu = n - 1 = 9$\n",
    "\n",
    "Using a t-table or calculator, find the critical value for a one-tailed test with $\\gap \\nu = 9 \\gap$ degrees of freedom at a significance level $\\gap \\alpha = 0.05\\gap$. The critical t-value is approximately $1.833$\n",
    "\n",
    "Since $\\gap2.53 > 1.833,\\gap$ we reject the null hypothesis. This suggests that the new process significantly increases the lifespan of the bulbs."
   ]
  },
  {
   "cell_type": "code",
   "execution_count": 41,
   "metadata": {
    "hideCode": false,
    "hidePrompt": false,
    "slideshow": {
     "slide_type": "fragment"
    }
   },
   "outputs": [
    {
     "data": {
      "image/png": "[encoded data removed]",
      "text/plain": [
       "<Figure size 576x432 with 1 Axes>"
      ]
     },
     "metadata": {
      "needs_background": "light"
     },
     "output_type": "display_data"
    }
   ],
   "source": [
    "# hide\n",
    "plotTDist(df=9,compareNormal=False)\n",
    "y = plt.ylim()\n",
    "t = (1020-1000)/(25/np.sqrt(10))\n",
    "plt.plot([t,t],y,'r--',lw=3,label=\"test statistic\")\n",
    "plt.plot([1.833,1.833],y,'k--',lw=3,label=\"$\\\\alpha=0.05$ threshold\")\n",
    "plt.ylim(y)\n",
    "plt.legend();"
   ]
  },
  {
   "cell_type": "code",
   "execution_count": 86,
   "metadata": {
    "slideshow": {
     "slide_type": "subslide"
    }
   },
   "outputs": [
    {
     "name": "stdout",
     "output_type": "stream",
     "text": [
      "Old Process mean: 1010.94 and standard deviation: 22.81\n",
      "New Process mean: 1018.98 and standard deviation: 21.38\n"
     ]
    },
    {
     "data": {
      "text/plain": [
       "Ttest_indResult(statistic=0.7714132656059083, pvalue=0.22523545992560268)"
      ]
     },
     "execution_count": 86,
     "metadata": {},
     "output_type": "execute_result"
    }
   ],
   "source": [
    "# Let's try this programmatically\n",
    "import scipy\n",
    "# create synthetic data for old process\n",
    "oldProcess_data = np.random.normal(1000, 30, 10)\n",
    "newProcess_data = np.random.normal(1020, 25, 10)\n",
    "\n",
    "print(\"Old Process mean: %0.2f and standard deviation: %0.2f\" % (np.mean(oldProcess_data),np.std(oldProcess_data)))\n",
    "print(\"New Process mean: %0.2f and standard deviation: %0.2f\" % (np.mean(newProcess_data),np.std(newProcess_data)))\n",
    "\n",
    "# use the t-test statistic to see if the average of the old process is statistically \n",
    "# significantly greater than the average of the old process.\n",
    "scipy.stats.ttest_ind(newProcess_data,oldProcess_data,alternative=\"greater\")"
   ]
  },
  {
   "cell_type": "markdown",
   "metadata": {
    "slideshow": {
     "slide_type": "slide"
    }
   },
   "source": [
    "# Hypothesis Testing"
   ]
  },
  {
   "cell_type": "markdown",
   "metadata": {
    "slideshow": {
     "slide_type": "subslide"
    }
   },
   "source": [
    "Hypothesis testing is a critical aspect of statistical analysis, allowing us to make decisions based on data. It involves formulating hypotheses, conducting tests, and interpreting the results. The process provides a framework for making inferences about populations based on sample data. We've seen some examples of hypothesis testing already in this module.\n",
    "\n",
    "First, you define your hypotheses. As part of this, you need to pick which probability distribution most closely describes the process that generates the data:\n",
    "- **Null Hypothesis ($H_0$)**: A statement that there is no effect or no difference. It serves as the default assumption.\n",
    "- **Alternative Hypothesis ($H_1$)**: A statement that there is an effect or a difference. It is what you aim to support."
   ]
  },
  {
   "cell_type": "markdown",
   "metadata": {
    "slideshow": {
     "slide_type": "subslide"
    }
   },
   "source": [
    "Second, you analyze your data and test if the resulting data (e.g., the sample mean) is suprising given the null hypothesis:\n",
    "- A test statistic is a standardized value calculated from sample data. It is used to decide whether to reject the null hypothesis.\n",
    "- Examples: \n",
    "  - $t$-statistic for t-tests.\n",
    "  - $z$-statistic for z-tests.\n"
   ]
  },
  {
   "cell_type": "markdown",
   "metadata": {
    "slideshow": {
     "slide_type": "subslide"
    }
   },
   "source": [
    "Third, you define the threshold for \"surprising.\" That is, how rare should the empirical outcome be given the null hypothesis for us to conclude that the null hypothesis is <u>wrong</u>:\n",
    "- The probability of rejecting the null hypothesis when it is actually true (Type I error)\n",
    "- Common choices: $\\alpha = 0.05, \\alpha = 0.01$\n",
    "- The **p-value** is the probability of obtaining a test statistic at least as extreme as the one observed, given the null hypothesis.\n",
    "- If the p-value$<\\alpha,$ reject the null hypothesis.\n"
   ]
  },
  {
   "cell_type": "code",
   "execution_count": 87,
   "metadata": {
    "slideshow": {
     "slide_type": "skip"
    }
   },
   "outputs": [],
   "source": [
    "# carBatteryData = np.random.normal(98,2,10)\n",
    "# carBatteryData.tofile(\"./carBatteryData.csv\")\n",
    "carBatteryData = np.fromfile(\"./carBatteryData.csv\")"
   ]
  },
  {
   "cell_type": "markdown",
   "metadata": {
    "slideshow": {
     "slide_type": "subslide"
    }
   },
   "source": [
    "**Scenario**: A company claims that their battery life is 100 hours on average. You collect a sample of 10 batteries."
   ]
  },
  {
   "cell_type": "code",
   "execution_count": 89,
   "metadata": {
    "slideshow": {
     "slide_type": "fragment"
    }
   },
   "outputs": [
    {
     "data": {
      "text/plain": [
       "(97.77902805859637, 1.790860110627259, 10)"
      ]
     },
     "execution_count": 89,
     "metadata": {},
     "output_type": "execute_result"
    }
   ],
   "source": [
    "np.mean(carBatteryData),np.std(carBatteryData),len(carBatteryData)"
   ]
  },
  {
   "cell_type": "markdown",
   "metadata": {
    "slideshow": {
     "slide_type": "fragment"
    }
   },
   "source": [
    "Batteries in your sample have an average lifespan of only 97 hours. Is this significantly lower than the lifespan reported by the company?"
   ]
  },
  {
   "cell_type": "markdown",
   "metadata": {
    "slideshow": {
     "slide_type": "subslide"
    }
   },
   "source": [
    "We have a small sample of 10 for which we know the sample's mean and standard deviation.\n",
    "\n",
    "Our Null Hypothesis ($H_0$) is that car batteries indeed have an average lifespan of 100 hours, as reported by the company.\n",
    "\n",
    "The alternative Hypothesis ($H_1$) is that the company is misrepresnting their batteries' lifespan.\n",
    "\n",
    "The one-sided t-test is appropriate to see if the sample outcome is suprisingly low compared to the reported mean. Let's use $\\gap\\alpha=0.05$"
   ]
  },
  {
   "cell_type": "code",
   "execution_count": 90,
   "metadata": {
    "slideshow": {
     "slide_type": "fragment"
    }
   },
   "outputs": [
    {
     "data": {
      "text/plain": [
       "TtestResult(statistic=-3.7205116048272324, pvalue=0.002383426395158007, df=9)"
      ]
     },
     "execution_count": 90,
     "metadata": {},
     "output_type": "execute_result"
    }
   ],
   "source": [
    "scipy.stats.ttest_1samp(carBatteryData,100,alternative=\"less\")"
   ]
  },
  {
   "cell_type": "markdown",
   "metadata": {
    "slideshow": {
     "slide_type": "fragment"
    }
   },
   "source": [
    "The p-value of $0.00238<0.05,\\gap$ so we reject the Null Hypothesis."
   ]
  },
  {
   "cell_type": "markdown",
   "metadata": {
    "slideshow": {
     "slide_type": "subslide"
    }
   },
   "source": [
    "**Scenario**: A call center receives an average of 2 calls per minute. In one minute, the center receives 5 calls. Has the average call rate increased?\n",
    "\n",
    "The Null Hypothesis ($H_0$) is that the average call rate is 2 calls per minute.\n",
    "\n",
    "The Alternative Hypothesis ($H_1$) is that the average call rate is not 2 calls per minute.\n",
    "\n",
    "Let's use the threshold $\\gap\\alpha=0.05$"
   ]
  },
  {
   "cell_type": "markdown",
   "metadata": {
    "slideshow": {
     "slide_type": "subslide"
    }
   },
   "source": [
    "Use the Poisson distribution and find the p-value for receiving 5 or more calls:\n",
    "\n",
    "$\n",
    "\\gmath\n",
    "P(X \\geq 5) = 1 - P(X < 5) = 1 - \\left( P(X = 0) + P(X = 1) + P(X = 2) + P(X = 3) + P(X = 4) \\right)\n",
    "$\n",
    "\n",
    "Where:\n",
    "$\n",
    "\\gmath\n",
    "P(X = k) = \\frac{e^{-\\lambda} \\lambda^k}{k!}\n",
    "$\n",
    "\n",
    "with $\\gap\\lambda=2$\n",
    "\n",
    "Using the formula, we have:\n",
    "\n",
    "$\n",
    "\\gmath\n",
    "P(X < 5) \\approx 0.1353 + 0.2707 + 0.2707 + 0.1804 + 0.0902 = 0.9473\n",
    "$\n",
    "\n",
    "$\n",
    "\\gmath\n",
    "\\Rightarrow\\gap\n",
    "P(X \\geq 5) = 1-0.9473 = 0.0527\n",
    "$"
   ]
  },
  {
   "cell_type": "markdown",
   "metadata": {
    "slideshow": {
     "slide_type": "fragment"
    }
   },
   "source": [
    "The p-value of $0.0525 \\not<0.05,$ so we fail to reject the Null Hypothesis.\n",
    "\n",
    "Note the language here. We are not concluding that the Null Hypothesis is correct. We are just saying that we cannot rule it out."
   ]
  }
 ],
 "metadata": {
  "celltoolbar": "Hide code",
  "kernelspec": {
   "display_name": "Python 3 (ipykernel)",
   "language": "python",
   "name": "python3"
  },
  "language_info": {
   "codemirror_mode": {
    "name": "ipython",
    "version": 3
   },
   "file_extension": ".py",
   "mimetype": "text/x-python",
   "name": "python",
   "nbconvert_exporter": "python",
   "pygments_lexer": "ipython3",
   "version": "3.9.7"
  },
  "varInspector": {
   "cols": {
    "lenName": 16,
    "lenType": 16,
    "lenVar": 40
   },
   "kernels_config": {
    "python": {
     "delete_cmd_postfix": "",
     "delete_cmd_prefix": "del ",
     "library": "var_list.py",
     "varRefreshCmd": "print(var_dic_list())"
    },
    "r": {
     "delete_cmd_postfix": ") ",
     "delete_cmd_prefix": "rm(",
     "library": "var_list.r",
     "varRefreshCmd": "cat(var_dic_list()) "
    }
   },
   "types_to_exclude": [
    "module",
    "function",
    "builtin_function_or_method",
    "instance",
    "_Feature"
   ],
   "window_display": false
  }
 },
 "nbformat": 4,
 "nbformat_minor": 2
}
