{
 "cells": [
  {
   "cell_type": "markdown",
   "id": "486510f5-a6a9-40dd-90bc-24747dab5257",
   "metadata": {},
   "source": [
    "## CMPINF 2105 Math and Stats\n",
    "### Pen and Paper Homework Module 1 and 2\n",
    "### Import Modules"
   ]
  },
  {
   "cell_type": "code",
   "execution_count": 3,
   "id": "729ec89a-8e6f-461f-9fba-ee046234b640",
   "metadata": {},
   "outputs": [],
   "source": [
    "import numpy as np\n",
    "import pandas as pd\n",
    "import seaborn as sns\n",
    "\n",
    "import matplotlib.pyplot\n",
    "import sympy"
   ]
  },
  {
   "cell_type": "markdown",
   "id": "826e98fd-4ea3-44e4-85c3-c09185c530e0",
   "metadata": {},
   "source": [
    "#### Question 1: Given vectors a and b, what is a+b, a-b, 2a-2b?"
   ]
  },
  {
   "cell_type": "code",
   "execution_count": 39,
   "id": "41b9ae33-2b88-4e29-b436-825df99a9d07",
   "metadata": {},
   "outputs": [
    {
     "data": {
      "text/latex": [
       "$\\displaystyle \\left[\\begin{matrix}2\\\\-1\\end{matrix}\\right]$"
      ],
      "text/plain": [
       "Matrix([\n",
       "[ 2],\n",
       "[-1]])"
      ]
     },
     "execution_count": 39,
     "metadata": {},
     "output_type": "execute_result"
    }
   ],
   "source": [
    "a = sympy.Matrix(\n",
    "    [\n",
    "        [2], [-1]\n",
    "    ]\n",
    ")\n",
    "a"
   ]
  },
  {
   "cell_type": "code",
   "execution_count": 41,
   "id": "bb0bbfe2-c0fd-49e0-94ef-4c3bd121014b",
   "metadata": {},
   "outputs": [
    {
     "data": {
      "text/latex": [
       "$\\displaystyle \\left[\\begin{matrix}-3\\\\4\\end{matrix}\\right]$"
      ],
      "text/plain": [
       "Matrix([\n",
       "[-3],\n",
       "[ 4]])"
      ]
     },
     "execution_count": 41,
     "metadata": {},
     "output_type": "execute_result"
    }
   ],
   "source": [
    "b = sympy.Matrix(\n",
    "    [\n",
    "        [-3], [4]\n",
    "    ]\n",
    ")\n",
    "b"
   ]
  },
  {
   "cell_type": "code",
   "execution_count": 46,
   "id": "fd18b189-c2c4-465f-a057-d583235a6c22",
   "metadata": {},
   "outputs": [
    {
     "data": {
      "text/latex": [
       "$\\displaystyle \\left[\\begin{matrix}-1\\\\3\\end{matrix}\\right]$"
      ],
      "text/plain": [
       "Matrix([\n",
       "[-1],\n",
       "[ 3]])"
      ]
     },
     "execution_count": 46,
     "metadata": {},
     "output_type": "execute_result"
    }
   ],
   "source": [
    "a+b"
   ]
  },
  {
   "cell_type": "code",
   "execution_count": 47,
   "id": "4b8956ef-83de-482e-894f-d87f0a4a69a1",
   "metadata": {},
   "outputs": [
    {
     "data": {
      "text/latex": [
       "$\\displaystyle \\left[\\begin{matrix}5\\\\-5\\end{matrix}\\right]$"
      ],
      "text/plain": [
       "Matrix([\n",
       "[ 5],\n",
       "[-5]])"
      ]
     },
     "execution_count": 47,
     "metadata": {},
     "output_type": "execute_result"
    }
   ],
   "source": [
    "a-b"
   ]
  },
  {
   "cell_type": "code",
   "execution_count": 48,
   "id": "bda87c66-eed7-4583-97ad-820e5a1e9da4",
   "metadata": {},
   "outputs": [
    {
     "data": {
      "text/latex": [
       "$\\displaystyle \\left[\\begin{matrix}10\\\\-10\\end{matrix}\\right]$"
      ],
      "text/plain": [
       "Matrix([\n",
       "[ 10],\n",
       "[-10]])"
      ]
     },
     "execution_count": 48,
     "metadata": {},
     "output_type": "execute_result"
    }
   ],
   "source": [
    "2*a-2*b"
   ]
  },
  {
   "cell_type": "markdown",
   "id": "d4f3204a-51c0-40a2-90e3-5f98eea68097",
   "metadata": {},
   "source": [
    "#### Question 2: Find the dot product of vectors c and d"
   ]
  },
  {
   "cell_type": "code",
   "execution_count": 49,
   "id": "ed37e13f-e896-4a07-97e9-8d554ae02785",
   "metadata": {},
   "outputs": [
    {
     "data": {
      "text/latex": [
       "$\\displaystyle \\left[\\begin{matrix}6\\\\0\\\\-2\\end{matrix}\\right]$"
      ],
      "text/plain": [
       "Matrix([\n",
       "[ 6],\n",
       "[ 0],\n",
       "[-2]])"
      ]
     },
     "execution_count": 49,
     "metadata": {},
     "output_type": "execute_result"
    }
   ],
   "source": [
    "c = sympy.Matrix(\n",
    "    [\n",
    "        [6], [0], [-2]\n",
    "    ]\n",
    ")\n",
    "c"
   ]
  },
  {
   "cell_type": "code",
   "execution_count": 50,
   "id": "337781a0-6dcc-4905-99c6-ccdcee4650fd",
   "metadata": {},
   "outputs": [
    {
     "data": {
      "text/latex": [
       "$\\displaystyle \\left[\\begin{matrix}-1\\\\4\\\\-1\\end{matrix}\\right]$"
      ],
      "text/plain": [
       "Matrix([\n",
       "[-1],\n",
       "[ 4],\n",
       "[-1]])"
      ]
     },
     "execution_count": 50,
     "metadata": {},
     "output_type": "execute_result"
    }
   ],
   "source": [
    "d = sympy.Matrix(\n",
    "    [\n",
    "        [-1], [4], [-1]\n",
    "    ]\n",
    ")\n",
    "d"
   ]
  },
  {
   "cell_type": "code",
   "execution_count": 52,
   "id": "9623fb00-14cd-4db2-84ee-a87f9cab80ed",
   "metadata": {},
   "outputs": [
    {
     "data": {
      "text/latex": [
       "$\\displaystyle -4$"
      ],
      "text/plain": [
       "-4"
      ]
     },
     "execution_count": 52,
     "metadata": {},
     "output_type": "execute_result"
    }
   ],
   "source": [
    "c.dot(d)"
   ]
  },
  {
   "cell_type": "markdown",
   "id": "65fcc2aa-94d3-4901-b058-3755cd7c4098",
   "metadata": {},
   "source": [
    "#### Question 3: The sum of matrix M + matrix N"
   ]
  },
  {
   "cell_type": "code",
   "execution_count": 54,
   "id": "88b6e388-f197-4fcc-bf8f-a8c08f69e52e",
   "metadata": {},
   "outputs": [
    {
     "data": {
      "text/latex": [
       "$\\displaystyle \\left[\\begin{matrix}2 & 3\\\\5 & -1\\end{matrix}\\right]$"
      ],
      "text/plain": [
       "Matrix([\n",
       "[2,  3],\n",
       "[5, -1]])"
      ]
     },
     "execution_count": 54,
     "metadata": {},
     "output_type": "execute_result"
    }
   ],
   "source": [
    "M = sympy.Matrix(\n",
    "    [\n",
    "        [2, 3], [5, -1]\n",
    "    ]\n",
    ")\n",
    "M"
   ]
  },
  {
   "cell_type": "code",
   "execution_count": 55,
   "id": "197cfc18-37e8-4a02-8346-435812fb3513",
   "metadata": {},
   "outputs": [
    {
     "data": {
      "text/latex": [
       "$\\displaystyle \\left[\\begin{matrix}1 & 0\\\\-3 & 4\\end{matrix}\\right]$"
      ],
      "text/plain": [
       "Matrix([\n",
       "[ 1, 0],\n",
       "[-3, 4]])"
      ]
     },
     "execution_count": 55,
     "metadata": {},
     "output_type": "execute_result"
    }
   ],
   "source": [
    "N = sympy.Matrix(\n",
    "    [\n",
    "        [1, 0], [-3, 4]\n",
    "    ]\n",
    ")\n",
    "N"
   ]
  },
  {
   "cell_type": "code",
   "execution_count": 56,
   "id": "c44c486a-0b22-447c-81fe-1f977c94e307",
   "metadata": {},
   "outputs": [
    {
     "data": {
      "text/latex": [
       "$\\displaystyle \\left[\\begin{matrix}3 & 3\\\\2 & 3\\end{matrix}\\right]$"
      ],
      "text/plain": [
       "Matrix([\n",
       "[3, 3],\n",
       "[2, 3]])"
      ]
     },
     "execution_count": 56,
     "metadata": {},
     "output_type": "execute_result"
    }
   ],
   "source": [
    "M+N"
   ]
  },
  {
   "cell_type": "markdown",
   "id": "3a51857b-6878-4882-81f8-886675dc6ab8",
   "metadata": {},
   "source": [
    "#### Question 4: Calculate 3 times the matrix P"
   ]
  },
  {
   "cell_type": "code",
   "execution_count": 58,
   "id": "5dd45716-b547-4148-9de4-97963c904607",
   "metadata": {},
   "outputs": [
    {
     "data": {
      "text/latex": [
       "$\\displaystyle \\left[\\begin{matrix}7 & -2\\\\-6 & 3\\end{matrix}\\right]$"
      ],
      "text/plain": [
       "Matrix([\n",
       "[ 7, -2],\n",
       "[-6,  3]])"
      ]
     },
     "execution_count": 58,
     "metadata": {},
     "output_type": "execute_result"
    }
   ],
   "source": [
    "P = sympy.Matrix(\n",
    "    [\n",
    "        [7, -2], [-6, 3]\n",
    "    ]\n",
    ")\n",
    "P"
   ]
  },
  {
   "cell_type": "code",
   "execution_count": 59,
   "id": "5f8052f2-e25f-4cf7-be05-9be4e3e171f0",
   "metadata": {},
   "outputs": [
    {
     "data": {
      "text/latex": [
       "$\\displaystyle \\left[\\begin{matrix}21 & -6\\\\-18 & 9\\end{matrix}\\right]$"
      ],
      "text/plain": [
       "Matrix([\n",
       "[ 21, -6],\n",
       "[-18,  9]])"
      ]
     },
     "execution_count": 59,
     "metadata": {},
     "output_type": "execute_result"
    }
   ],
   "source": [
    "3*P"
   ]
  },
  {
   "cell_type": "markdown",
   "id": "91c34027-c3c5-4a48-b5f5-ad754051e730",
   "metadata": {},
   "source": [
    "#### Question 5: Find the product of a matrix A with vector b"
   ]
  },
  {
   "cell_type": "code",
   "execution_count": 60,
   "id": "6ba63faa-70ee-44d0-a4e0-823c6959c3db",
   "metadata": {},
   "outputs": [
    {
     "data": {
      "text/latex": [
       "$\\displaystyle \\left[\\begin{matrix}2 & 1\\\\-1 & 3\\end{matrix}\\right]$"
      ],
      "text/plain": [
       "Matrix([\n",
       "[ 2, 1],\n",
       "[-1, 3]])"
      ]
     },
     "execution_count": 60,
     "metadata": {},
     "output_type": "execute_result"
    }
   ],
   "source": [
    "A = sympy.Matrix(\n",
    "    [\n",
    "        [2, 1], [-1, 3]\n",
    "    ]\n",
    ")\n",
    "A"
   ]
  },
  {
   "cell_type": "code",
   "execution_count": 61,
   "id": "4a6c5034-0905-4273-910a-7375c04bf446",
   "metadata": {},
   "outputs": [
    {
     "data": {
      "text/latex": [
       "$\\displaystyle \\left[\\begin{matrix}3\\\\-1\\end{matrix}\\right]$"
      ],
      "text/plain": [
       "Matrix([\n",
       "[ 3],\n",
       "[-1]])"
      ]
     },
     "execution_count": 61,
     "metadata": {},
     "output_type": "execute_result"
    }
   ],
   "source": [
    "B = sympy.Matrix(\n",
    "    [\n",
    "        [3], [-1]\n",
    "    ]\n",
    ")\n",
    "B"
   ]
  },
  {
   "cell_type": "code",
   "execution_count": 63,
   "id": "23ea7ec7-b5ea-4e4d-af44-ae2686a4015d",
   "metadata": {},
   "outputs": [
    {
     "data": {
      "text/latex": [
       "$\\displaystyle \\left[\\begin{matrix}5\\\\-6\\end{matrix}\\right]$"
      ],
      "text/plain": [
       "Matrix([\n",
       "[ 5],\n",
       "[-6]])"
      ]
     },
     "execution_count": 63,
     "metadata": {},
     "output_type": "execute_result"
    }
   ],
   "source": [
    "A@B"
   ]
  },
  {
   "cell_type": "markdown",
   "id": "5b9b38e3-fe08-4137-9b62-d9374dbd8900",
   "metadata": {},
   "source": [
    "#### Question 6: Take the matrix dot product of two matrices A and B"
   ]
  },
  {
   "cell_type": "code",
   "execution_count": 64,
   "id": "7e709aa1-1973-4192-82a1-44dfb3ac4bd5",
   "metadata": {},
   "outputs": [
    {
     "data": {
      "text/latex": [
       "$\\displaystyle \\left[\\begin{matrix}1 & 2\\\\3 & 4\\end{matrix}\\right]$"
      ],
      "text/plain": [
       "Matrix([\n",
       "[1, 2],\n",
       "[3, 4]])"
      ]
     },
     "execution_count": 64,
     "metadata": {},
     "output_type": "execute_result"
    }
   ],
   "source": [
    "A = sympy.Matrix(\n",
    "    [\n",
    "        [1, 2], [3, 4]\n",
    "    ]\n",
    ")\n",
    "A"
   ]
  },
  {
   "cell_type": "code",
   "execution_count": 65,
   "id": "1681a010-104b-47be-b5ab-1cf0b95a5ef4",
   "metadata": {},
   "outputs": [
    {
     "data": {
      "text/latex": [
       "$\\displaystyle \\left[\\begin{matrix}-1 & 3\\\\4 & -2\\end{matrix}\\right]$"
      ],
      "text/plain": [
       "Matrix([\n",
       "[-1,  3],\n",
       "[ 4, -2]])"
      ]
     },
     "execution_count": 65,
     "metadata": {},
     "output_type": "execute_result"
    }
   ],
   "source": [
    "B = sympy.Matrix(\n",
    "    [\n",
    "        [-1, 3], [4, -2]\n",
    "    ]\n",
    ")\n",
    "B"
   ]
  },
  {
   "cell_type": "code",
   "execution_count": 66,
   "id": "c8b855a7-92e8-45e3-a5dd-da781a5245c5",
   "metadata": {},
   "outputs": [
    {
     "data": {
      "text/latex": [
       "$\\displaystyle \\left[\\begin{matrix}7 & -1\\\\13 & 1\\end{matrix}\\right]$"
      ],
      "text/plain": [
       "Matrix([\n",
       "[ 7, -1],\n",
       "[13,  1]])"
      ]
     },
     "execution_count": 66,
     "metadata": {},
     "output_type": "execute_result"
    }
   ],
   "source": [
    "A@B"
   ]
  },
  {
   "cell_type": "markdown",
   "id": "5c71f42f-2b6a-4475-80c1-92f046ed2073",
   "metadata": {},
   "source": [
    "#### Question 7: Find the eigenvalues, vectors of matrix M"
   ]
  },
  {
   "cell_type": "code",
   "execution_count": 71,
   "id": "a30c3587-237e-47c6-9427-fe8d11465e88",
   "metadata": {},
   "outputs": [
    {
     "data": {
      "text/latex": [
       "$\\displaystyle \\left[\\begin{matrix}2 & 1\\\\1 & 2\\end{matrix}\\right]$"
      ],
      "text/plain": [
       "Matrix([\n",
       "[2, 1],\n",
       "[1, 2]])"
      ]
     },
     "execution_count": 71,
     "metadata": {},
     "output_type": "execute_result"
    }
   ],
   "source": [
    "M = sympy.Matrix(\n",
    "    [\n",
    "        [2, 1], [1, 2]\n",
    "    ]\n",
    ")\n",
    "M"
   ]
  },
  {
   "cell_type": "code",
   "execution_count": 72,
   "id": "e77bc6bc-57ac-4f9c-b8c2-c6630fd59026",
   "metadata": {},
   "outputs": [
    {
     "data": {
      "text/plain": [
       "array([[2, 1],\n",
       "       [1, 2]])"
      ]
     },
     "execution_count": 72,
     "metadata": {},
     "output_type": "execute_result"
    }
   ],
   "source": [
    "Mh = np.array(\n",
    "    [\n",
    "        [2, 1], [1, 2]\n",
    "    ]\n",
    ")\n",
    "Mh"
   ]
  },
  {
   "cell_type": "code",
   "execution_count": 73,
   "id": "adbea993-db85-4f30-9137-686ce2dfe5b3",
   "metadata": {},
   "outputs": [],
   "source": [
    "eigval, eigvect = np.linalg.eig(Mh)"
   ]
  },
  {
   "cell_type": "code",
   "execution_count": 74,
   "id": "7f04db8e-303f-4e20-a1cc-e0c678c4cbed",
   "metadata": {},
   "outputs": [
    {
     "data": {
      "text/plain": [
       "array([3., 1.])"
      ]
     },
     "execution_count": 74,
     "metadata": {},
     "output_type": "execute_result"
    }
   ],
   "source": [
    "eigval"
   ]
  },
  {
   "cell_type": "code",
   "execution_count": 75,
   "id": "5c6e8944-e462-48fc-b32d-a0e6a09cece6",
   "metadata": {},
   "outputs": [
    {
     "data": {
      "text/plain": [
       "array([[ 0.70710678, -0.70710678],\n",
       "       [ 0.70710678,  0.70710678]])"
      ]
     },
     "execution_count": 75,
     "metadata": {},
     "output_type": "execute_result"
    }
   ],
   "source": [
    "eigvect"
   ]
  },
  {
   "cell_type": "code",
   "execution_count": 76,
   "id": "2e6a8f89-6861-4fae-ac69-343f97ca1079",
   "metadata": {},
   "outputs": [
    {
     "data": {
      "text/plain": [
       "{3: 1, 1: 1}"
      ]
     },
     "execution_count": 76,
     "metadata": {},
     "output_type": "execute_result"
    }
   ],
   "source": [
    "M.eigenvals()"
   ]
  },
  {
   "cell_type": "code",
   "execution_count": 77,
   "id": "ef3de855-3767-4f8b-8c62-f58ba9e0c8ee",
   "metadata": {},
   "outputs": [
    {
     "data": {
      "text/plain": [
       "[(1,\n",
       "  1,\n",
       "  [Matrix([\n",
       "   [-1],\n",
       "   [ 1]])]),\n",
       " (3,\n",
       "  1,\n",
       "  [Matrix([\n",
       "   [1],\n",
       "   [1]])])]"
      ]
     },
     "execution_count": 77,
     "metadata": {},
     "output_type": "execute_result"
    }
   ],
   "source": [
    "M.eigenvects()"
   ]
  },
  {
   "cell_type": "markdown",
   "id": "a60e3578-f66c-4c70-8a55-7f8246a76280",
   "metadata": {},
   "source": [
    "#### Question 8: Solve the linear system of equations"
   ]
  },
  {
   "cell_type": "code",
   "execution_count": 79,
   "id": "3f26a755-48f1-4b15-a89d-c32961f516e2",
   "metadata": {},
   "outputs": [
    {
     "data": {
      "text/latex": [
       "$\\displaystyle \\left[\\begin{matrix}3 & 5\\\\7 & 2\\end{matrix}\\right]$"
      ],
      "text/plain": [
       "Matrix([\n",
       "[3, 5],\n",
       "[7, 2]])"
      ]
     },
     "execution_count": 79,
     "metadata": {},
     "output_type": "execute_result"
    }
   ],
   "source": [
    "lol = sympy.Matrix(\n",
    "    [\n",
    "        [3, 5], [7, 2]\n",
    "    ]\n",
    ")\n",
    "lol"
   ]
  },
  {
   "cell_type": "code",
   "execution_count": 89,
   "id": "49443d87-4615-4e3c-a3cf-f1eb90ae4218",
   "metadata": {},
   "outputs": [
    {
     "data": {
      "text/latex": [
       "$\\displaystyle \\left[\\begin{matrix}59\\\\99\\end{matrix}\\right]$"
      ],
      "text/plain": [
       "Matrix([\n",
       "[59],\n",
       "[99]])"
      ]
     },
     "execution_count": 89,
     "metadata": {},
     "output_type": "execute_result"
    }
   ],
   "source": [
    "ok = sympy.Matrix(\n",
    "    [\n",
    "        [59], [99]\n",
    "    ]\n",
    ")\n",
    "ok"
   ]
  },
  {
   "cell_type": "code",
   "execution_count": 90,
   "id": "79289beb-c0b5-4c0f-983d-aa469f74cab4",
   "metadata": {},
   "outputs": [
    {
     "data": {
      "text/latex": [
       "$\\displaystyle -29$"
      ],
      "text/plain": [
       "-29"
      ]
     },
     "execution_count": 90,
     "metadata": {},
     "output_type": "execute_result"
    }
   ],
   "source": [
    "lol.det()"
   ]
  },
  {
   "cell_type": "code",
   "execution_count": 88,
   "id": "00175139-4367-41ab-b7c2-39b32e309660",
   "metadata": {},
   "outputs": [
    {
     "data": {
      "text/latex": [
       "$\\displaystyle \\left[\\begin{matrix}13\\\\4\\end{matrix}\\right]$"
      ],
      "text/plain": [
       "Matrix([\n",
       "[13],\n",
       "[ 4]])"
      ]
     },
     "execution_count": 88,
     "metadata": {},
     "output_type": "execute_result"
    }
   ],
   "source": [
    "sympy.Matrix.solve_least_squares(lol, ok)"
   ]
  },
  {
   "cell_type": "markdown",
   "id": "f9d9546d-cc38-425a-9e4e-641c94b74d8b",
   "metadata": {},
   "source": [
    "#### Question 9: Solve the linear system of equations"
   ]
  },
  {
   "cell_type": "code",
   "execution_count": 85,
   "id": "45071e46-d13d-490a-bdd0-5723e8a7e83f",
   "metadata": {},
   "outputs": [
    {
     "data": {
      "text/latex": [
       "$\\displaystyle \\left[\\begin{matrix}9 & 9 & -7\\\\3 & -2 & -9\\\\6 & 0 & 1\\end{matrix}\\right]$"
      ],
      "text/plain": [
       "Matrix([\n",
       "[9,  9, -7],\n",
       "[3, -2, -9],\n",
       "[6,  0,  1]])"
      ]
     },
     "execution_count": 85,
     "metadata": {},
     "output_type": "execute_result"
    }
   ],
   "source": [
    "pip = sympy.Matrix(\n",
    "    [\n",
    "        [9, 9, -7], [3, -2, -9], [6, 0, 1]\n",
    "    ]\n",
    ")\n",
    "pip"
   ]
  },
  {
   "cell_type": "code",
   "execution_count": 86,
   "id": "bb0831e4-f43b-4cb7-b1a0-b7f13c3ccf98",
   "metadata": {},
   "outputs": [
    {
     "data": {
      "text/latex": [
       "$\\displaystyle \\left[\\begin{matrix}6\\\\3\\\\-10\\end{matrix}\\right]$"
      ],
      "text/plain": [
       "Matrix([\n",
       "[  6],\n",
       "[  3],\n",
       "[-10]])"
      ]
     },
     "execution_count": 86,
     "metadata": {},
     "output_type": "execute_result"
    }
   ],
   "source": [
    "nana = sympy.Matrix(\n",
    "    [\n",
    "        [6], [3], [-10]\n",
    "    ]\n",
    ")\n",
    "nana"
   ]
  },
  {
   "cell_type": "code",
   "execution_count": 87,
   "id": "9c5e08d9-8b3d-4585-ab72-666fdaaada7f",
   "metadata": {},
   "outputs": [
    {
     "data": {
      "text/latex": [
       "$\\displaystyle \\left[\\begin{matrix}- \\frac{911}{615}\\\\\\frac{263}{205}\\\\- \\frac{228}{205}\\end{matrix}\\right]$"
      ],
      "text/plain": [
       "Matrix([\n",
       "[-911/615],\n",
       "[ 263/205],\n",
       "[-228/205]])"
      ]
     },
     "execution_count": 87,
     "metadata": {},
     "output_type": "execute_result"
    }
   ],
   "source": [
    "sympy.Matrix.solve_least_squares(pip, nana)"
   ]
  },
  {
   "cell_type": "markdown",
   "id": "232c9f78-3ba9-40a1-9a32-3192e2fba3d1",
   "metadata": {},
   "source": [
    "#### Question 10: Solve the linear system of equations"
   ]
  },
  {
   "cell_type": "code",
   "execution_count": 91,
   "id": "0abd5b4f-4e15-4f32-a1b7-93e92e2e40f1",
   "metadata": {},
   "outputs": [
    {
     "data": {
      "text/latex": [
       "$\\displaystyle \\left[\\begin{matrix}11 & 3 & 9\\\\5 & 4 & 2\\\\37 & 18 & 24\\end{matrix}\\right]$"
      ],
      "text/plain": [
       "Matrix([\n",
       "[11,  3,  9],\n",
       "[ 5,  4,  2],\n",
       "[37, 18, 24]])"
      ]
     },
     "execution_count": 91,
     "metadata": {},
     "output_type": "execute_result"
    }
   ],
   "source": [
    "meel = sympy.Matrix(\n",
    "    [\n",
    "        [11, 3, 9], [5, 4, 2], [37, 18, 24]\n",
    "    ]\n",
    ")\n",
    "meel"
   ]
  },
  {
   "cell_type": "code",
   "execution_count": 92,
   "id": "e65ec9f1-4119-422b-abaa-178aca7e9110",
   "metadata": {},
   "outputs": [
    {
     "data": {
      "text/latex": [
       "$\\displaystyle \\left[\\begin{matrix}237\\\\101\\\\-777\\end{matrix}\\right]$"
      ],
      "text/plain": [
       "Matrix([\n",
       "[ 237],\n",
       "[ 101],\n",
       "[-777]])"
      ]
     },
     "execution_count": 92,
     "metadata": {},
     "output_type": "execute_result"
    }
   ],
   "source": [
    "ces = sympy.Matrix(\n",
    "    [\n",
    "        [237], [101], [-777]\n",
    "    ]\n",
    ")\n",
    "ces"
   ]
  },
  {
   "cell_type": "code",
   "execution_count": 93,
   "id": "3a01f2c5-7d56-445a-b35a-be125f0b21ba",
   "metadata": {},
   "outputs": [
    {
     "ename": "TypeError",
     "evalue": "Matrix must be non-singular.",
     "output_type": "error",
     "traceback": [
      "\u001b[0;31m---------------------------------------------------------------------------\u001b[0m",
      "\u001b[0;31mTypeError\u001b[0m                                 Traceback (most recent call last)",
      "Cell \u001b[0;32mIn[93], line 1\u001b[0m\n\u001b[0;32m----> 1\u001b[0m \u001b[43msympy\u001b[49m\u001b[38;5;241;43m.\u001b[39;49m\u001b[43mMatrix\u001b[49m\u001b[38;5;241;43m.\u001b[39;49m\u001b[43msolve_least_squares\u001b[49m\u001b[43m(\u001b[49m\u001b[43mmeel\u001b[49m\u001b[43m,\u001b[49m\u001b[43m \u001b[49m\u001b[43mces\u001b[49m\u001b[43m)\u001b[49m\n",
      "File \u001b[0;32m/Applications/anaconda3/envs/cmpinf2105/lib/python3.8/site-packages/sympy/matrices/matrices.py:2147\u001b[0m, in \u001b[0;36mMatrixBase.solve_least_squares\u001b[0;34m(self, rhs, method)\u001b[0m\n\u001b[1;32m   2146\u001b[0m \u001b[38;5;28;01mdef\u001b[39;00m \u001b[38;5;21msolve_least_squares\u001b[39m(\u001b[38;5;28mself\u001b[39m, rhs, method\u001b[38;5;241m=\u001b[39m\u001b[38;5;124m'\u001b[39m\u001b[38;5;124mCH\u001b[39m\u001b[38;5;124m'\u001b[39m):\n\u001b[0;32m-> 2147\u001b[0m     \u001b[38;5;28;01mreturn\u001b[39;00m \u001b[43m_solve_least_squares\u001b[49m\u001b[43m(\u001b[49m\u001b[38;5;28;43mself\u001b[39;49m\u001b[43m,\u001b[49m\u001b[43m \u001b[49m\u001b[43mrhs\u001b[49m\u001b[43m,\u001b[49m\u001b[43m \u001b[49m\u001b[43mmethod\u001b[49m\u001b[38;5;241;43m=\u001b[39;49m\u001b[43mmethod\u001b[49m\u001b[43m)\u001b[49m\n",
      "File \u001b[0;32m/Applications/anaconda3/envs/cmpinf2105/lib/python3.8/site-packages/sympy/matrices/solvers.py:853\u001b[0m, in \u001b[0;36m_solve_least_squares\u001b[0;34m(M, rhs, method)\u001b[0m\n\u001b[1;32m    777\u001b[0m \u001b[38;5;250m\u001b[39m\u001b[38;5;124;03m\"\"\"Return the least-square fit to the data.\u001b[39;00m\n\u001b[1;32m    778\u001b[0m \n\u001b[1;32m    779\u001b[0m \u001b[38;5;124;03mParameters\u001b[39;00m\n\u001b[0;32m   (...)\u001b[0m\n\u001b[1;32m    849\u001b[0m \n\u001b[1;32m    850\u001b[0m \u001b[38;5;124;03m\"\"\"\u001b[39;00m\n\u001b[1;32m    852\u001b[0m \u001b[38;5;28;01mif\u001b[39;00m method \u001b[38;5;241m==\u001b[39m \u001b[38;5;124m'\u001b[39m\u001b[38;5;124mCH\u001b[39m\u001b[38;5;124m'\u001b[39m:\n\u001b[0;32m--> 853\u001b[0m     \u001b[38;5;28;01mreturn\u001b[39;00m \u001b[43mM\u001b[49m\u001b[38;5;241;43m.\u001b[39;49m\u001b[43mcholesky_solve\u001b[49m\u001b[43m(\u001b[49m\u001b[43mrhs\u001b[49m\u001b[43m)\u001b[49m\n\u001b[1;32m    854\u001b[0m \u001b[38;5;28;01melif\u001b[39;00m method \u001b[38;5;241m==\u001b[39m \u001b[38;5;124m'\u001b[39m\u001b[38;5;124mQR\u001b[39m\u001b[38;5;124m'\u001b[39m:\n\u001b[1;32m    855\u001b[0m     \u001b[38;5;28;01mreturn\u001b[39;00m M\u001b[38;5;241m.\u001b[39mQRsolve(rhs)\n",
      "File \u001b[0;32m/Applications/anaconda3/envs/cmpinf2105/lib/python3.8/site-packages/sympy/matrices/matrices.py:2126\u001b[0m, in \u001b[0;36mMatrixBase.cholesky_solve\u001b[0;34m(self, rhs)\u001b[0m\n\u001b[1;32m   2125\u001b[0m \u001b[38;5;28;01mdef\u001b[39;00m \u001b[38;5;21mcholesky_solve\u001b[39m(\u001b[38;5;28mself\u001b[39m, rhs):\n\u001b[0;32m-> 2126\u001b[0m     \u001b[38;5;28;01mreturn\u001b[39;00m \u001b[43m_cholesky_solve\u001b[49m\u001b[43m(\u001b[49m\u001b[38;5;28;43mself\u001b[39;49m\u001b[43m,\u001b[49m\u001b[43m \u001b[49m\u001b[43mrhs\u001b[49m\u001b[43m)\u001b[49m\n",
      "File \u001b[0;32m/Applications/anaconda3/envs/cmpinf2105/lib/python3.8/site-packages/sympy/matrices/solvers.py:243\u001b[0m, in \u001b[0;36m_cholesky_solve\u001b[0;34m(M, rhs)\u001b[0m\n\u001b[1;32m    240\u001b[0m     hermitian \u001b[38;5;241m=\u001b[39m \u001b[38;5;129;01mnot\u001b[39;00m M\u001b[38;5;241m.\u001b[39mis_symmetric()\n\u001b[1;32m    242\u001b[0m L \u001b[38;5;241m=\u001b[39m M\u001b[38;5;241m.\u001b[39mcholesky(hermitian\u001b[38;5;241m=\u001b[39mhermitian)\n\u001b[0;32m--> 243\u001b[0m Y \u001b[38;5;241m=\u001b[39m \u001b[43mL\u001b[49m\u001b[38;5;241;43m.\u001b[39;49m\u001b[43mlower_triangular_solve\u001b[49m\u001b[43m(\u001b[49m\u001b[43mrhs\u001b[49m\u001b[43m)\u001b[49m\n\u001b[1;32m    245\u001b[0m \u001b[38;5;28;01mif\u001b[39;00m hermitian:\n\u001b[1;32m    246\u001b[0m     \u001b[38;5;28;01mreturn\u001b[39;00m (L\u001b[38;5;241m.\u001b[39mH)\u001b[38;5;241m.\u001b[39mupper_triangular_solve(Y)\n",
      "File \u001b[0;32m/Applications/anaconda3/envs/cmpinf2105/lib/python3.8/site-packages/sympy/matrices/dense.py:86\u001b[0m, in \u001b[0;36mDenseMatrix.lower_triangular_solve\u001b[0;34m(self, rhs)\u001b[0m\n\u001b[1;32m     85\u001b[0m \u001b[38;5;28;01mdef\u001b[39;00m \u001b[38;5;21mlower_triangular_solve\u001b[39m(\u001b[38;5;28mself\u001b[39m, rhs):\n\u001b[0;32m---> 86\u001b[0m     \u001b[38;5;28;01mreturn\u001b[39;00m \u001b[43m_lower_triangular_solve\u001b[49m\u001b[43m(\u001b[49m\u001b[38;5;28;43mself\u001b[39;49m\u001b[43m,\u001b[49m\u001b[43m \u001b[49m\u001b[43mrhs\u001b[49m\u001b[43m)\u001b[49m\n",
      "File \u001b[0;32m/Applications/anaconda3/envs/cmpinf2105/lib/python3.8/site-packages/sympy/matrices/solvers.py:76\u001b[0m, in \u001b[0;36m_lower_triangular_solve\u001b[0;34m(M, rhs)\u001b[0m\n\u001b[1;32m     74\u001b[0m     \u001b[38;5;28;01mfor\u001b[39;00m i \u001b[38;5;129;01min\u001b[39;00m \u001b[38;5;28mrange\u001b[39m(M\u001b[38;5;241m.\u001b[39mrows):\n\u001b[1;32m     75\u001b[0m         \u001b[38;5;28;01mif\u001b[39;00m M[i, i] \u001b[38;5;241m==\u001b[39m \u001b[38;5;241m0\u001b[39m:\n\u001b[0;32m---> 76\u001b[0m             \u001b[38;5;28;01mraise\u001b[39;00m \u001b[38;5;167;01mTypeError\u001b[39;00m(\u001b[38;5;124m\"\u001b[39m\u001b[38;5;124mMatrix must be non-singular.\u001b[39m\u001b[38;5;124m\"\u001b[39m)\n\u001b[1;32m     78\u001b[0m         X[i, j] \u001b[38;5;241m=\u001b[39m dps((rhs[i, j] \u001b[38;5;241m-\u001b[39m \u001b[38;5;28msum\u001b[39m(M[i, k]\u001b[38;5;241m*\u001b[39mX[k, j]\n\u001b[1;32m     79\u001b[0m                                     \u001b[38;5;28;01mfor\u001b[39;00m k \u001b[38;5;129;01min\u001b[39;00m \u001b[38;5;28mrange\u001b[39m(i))) \u001b[38;5;241m/\u001b[39m M[i, i])\n\u001b[1;32m     81\u001b[0m \u001b[38;5;28;01mreturn\u001b[39;00m M\u001b[38;5;241m.\u001b[39m_new(X)\n",
      "\u001b[0;31mTypeError\u001b[0m: Matrix must be non-singular."
     ]
    }
   ],
   "source": [
    "sympy.Matrix.solve_least_squares(meel, ces)"
   ]
  },
  {
   "cell_type": "markdown",
   "id": "fd721d1d-9029-4644-a8c6-24b287fea483",
   "metadata": {},
   "source": [
    "There is no solution to this linear system of equations."
   ]
  },
  {
   "cell_type": "code",
   "execution_count": null,
   "id": "764cd490-23a1-4430-adb7-308e880036ee",
   "metadata": {},
   "outputs": [],
   "source": []
  }
 ],
 "metadata": {
  "kernelspec": {
   "display_name": "Python 3 (ipykernel)",
   "language": "python",
   "name": "python3"
  },
  "language_info": {
   "codemirror_mode": {
    "name": "ipython",
    "version": 3
   },
   "file_extension": ".py",
   "mimetype": "text/x-python",
   "name": "python",
   "nbconvert_exporter": "python",
   "pygments_lexer": "ipython3",
   "version": "3.8.19"
  }
 },
 "nbformat": 4,
 "nbformat_minor": 5
}
