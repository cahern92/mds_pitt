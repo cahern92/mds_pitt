{
 "cells": [
  {
   "cell_type": "code",
   "execution_count": 1,
   "id": "e3d49ee7",
   "metadata": {
    "slideshow": {
     "slide_type": "skip"
    }
   },
   "outputs": [],
   "source": [
    "import plainEnglishCoding\n",
    "import warnings\n",
    "warnings.filterwarnings(\"ignore\")\n",
    "import numpy as np\n",
    "import matplotlib.pyplot as plt\n",
    "import matplotlib\n",
    "import ipywidgets as widgets"
   ]
  },
  {
   "cell_type": "code",
   "execution_count": 2,
   "id": "214a4f8e",
   "metadata": {
    "slideshow": {
     "slide_type": "skip"
    }
   },
   "outputs": [
    {
     "name": "stdout",
     "output_type": "stream",
     "text": [
      "[15.16204133  2.41626789 -6.57830922]\n",
      "[34 69 48]\n"
     ]
    }
   ],
   "source": [
    "M = np.array(\n",
    "    [\n",
    "        [3,6,2],\n",
    "        [10,3,8],\n",
    "        [1,7,5],\n",
    "    ]\n",
    ")\n",
    "costs = np.array([2,3,5])\n",
    "totals = np.dot(M,costs)\n",
    "eigvals,eigvec = np.linalg.eig(M)\n",
    "print(eigvals)\n",
    "print(totals)"
   ]
  },
  {
   "cell_type": "markdown",
   "id": "ff37f377",
   "metadata": {
    "slideshow": {
     "slide_type": "slide"
    }
   },
   "source": [
    "# Systems of Linear Equations\n",
    "\n",
    "The last module taught us linear algebra, vectors, and matrices from a mathematical perspective.\n",
    "\n",
    "Let's see how to use these concepts in data science work to work with data and to solve a problem."
   ]
  },
  {
   "cell_type": "markdown",
   "id": "9ca99407",
   "metadata": {
    "slideshow": {
     "slide_type": "subslide"
    }
   },
   "source": [
    "Let's say that the matrix\n",
    "\n",
    "$\n",
    "    M = \\begin{bmatrix}\n",
    "        3 & 6 & 2 \\\\\n",
    "        10 & 3 & 8 \\\\\n",
    "        1 & 7 & 5 \\\\\n",
    "    \\end{bmatrix}\n",
    "$\n",
    "\n",
    "represents the number of apples, oranges, and bread (i.e., the columns) purchased by Bob, Alice, and Tim (i.e., the rows).\n",
    "\n",
    "This matrix is storing data about individuals' purchasing behavior."
   ]
  },
  {
   "cell_type": "markdown",
   "id": "0818f375",
   "metadata": {
    "slideshow": {
     "slide_type": "subslide"
    }
   },
   "source": [
    "$\n",
    "    M = \\begin{bmatrix}\n",
    "        3 & 6 & 2 \\\\\n",
    "        10 & 3 & 8 \\\\\n",
    "        1 & 7 & 5 \\\\\n",
    "    \\end{bmatrix}\n",
    "$\n",
    "\n",
    "Now, let's say we have the final receipts of each person's purchase (in row order):\n",
    "- Bob paid \\$34\n",
    "- Alice paid \\$69\n",
    "- Tim paid \\$48\n",
    "\n",
    "We can represent this information as a cost vector $\\hspace{1cm}\\vec{c} = \\begin{bmatrix} 34 \\\\ 69 \\\\ 48 \\\\ \\end{bmatrix}$."
   ]
  },
  {
   "cell_type": "markdown",
   "id": "a6e16eb4",
   "metadata": {
    "slideshow": {
     "slide_type": "subslide"
    }
   },
   "source": [
    "$$\n",
    "    M = \\begin{bmatrix}\n",
    "        3 & 6 & 2 \\\\\n",
    "        10 & 3 & 8 \\\\\n",
    "        1 & 2 & 5 \\\\\n",
    "    \\end{bmatrix},\n",
    "    \\hspace{1cm}\\vec{c} = \\begin{bmatrix} 34 \\\\ 69 \\\\ 48 \\\\ \\end{bmatrix}\n",
    "$$\n",
    "\n",
    "Now the question is how much does each grocery item cost?\n",
    "\n",
    "Let's use $\\vec{p}=\\begin{bmatrix} \\color{red}{p_1} \\\\ \\color{orange}{p_2} \\\\ \\color{blue}{p_3} \\end{bmatrix}$ to represent the vector of grocery item prices (i.e., $\\color{red}{p_1}$ is the price of apples, $\\color{orange}{p_2}$ is the price of oranges, etc). \n",
    "\n",
    "We have $\\hspace{1cm}M\\cdot\\vec{p} = \\vec{c}\\hspace{1cm}$ and we want to know what is in $\\vec{p}$."
   ]
  },
  {
   "cell_type": "markdown",
   "id": "c6ef15b6",
   "metadata": {
    "slideshow": {
     "slide_type": "subslide"
    }
   },
   "source": [
    "We have $\\hspace{1cm}M\\cdot\\vec{p} = \\vec{c}\\hspace{1cm}$ and we want to know what is in $\\vec{p}$.\n",
    "\n",
    "$\n",
    "    M\\cdot\\vec{p} = \\vec{c} \\hspace{1cm}\\Rightarrow\\hspace{1cm} \n",
    "    \\begin{bmatrix}\n",
    "        3 & 6 & 2 \\\\\\\n",
    "        10 & 3 & 8 \\\\\n",
    "        1 & 7 & 5 \\\\\n",
    "    \\end{bmatrix}\n",
    "    \\cdot\n",
    "    \\begin{bmatrix} \\color{red}{p_1} \\\\ \\color{orange}{p_2} \\\\ \\color{blue}{p_3} \\end{bmatrix}\n",
    "    =\\begin{bmatrix} 34 \\\\ 69 \\\\ 48 \\\\ \\end{bmatrix}\n",
    "    \\hspace{2cm}\n",
    "$\n",
    "\n",
    "which we yields a **system of linear equations** based on each individual's purchases (i.e., each row of $M$)."
   ]
  },
  {
   "cell_type": "markdown",
   "id": "795fa1f1",
   "metadata": {
    "slideshow": {
     "slide_type": "subslide"
    }
   },
   "source": [
    "$\n",
    "    \\begin{bmatrix}\n",
    "        3 & 6 & 2 \\\\\\\n",
    "        10 & 3 & 8 \\\\\n",
    "        1 & 7 & 5 \\\\\n",
    "    \\end{bmatrix}\n",
    "    \\cdot\n",
    "    \\begin{bmatrix} \\color{red}{p_1} \\\\ \\color{orange}{p_2} \\\\ \\color{blue}{p_3} \\end{bmatrix}\n",
    "    =\\begin{bmatrix} 34 \\\\ 69 \\\\ 48 \\\\  \\end{bmatrix}\n",
    "$\n",
    "\n",
    "becomes\n",
    "\n",
    "$\n",
    "\\begin{align}\n",
    "    3\\color{red}{p_1}  + 6\\color{orange}{p_2} + 2\\color{blue}{p_3}  &= 34 \\\\\n",
    "    10\\color{red}{p_1} + 3\\color{orange}{p_2} + 8\\color{blue}{p_3}  &= 69 \\\\\n",
    "    1\\color{red}{p_1}  + 7\\color{orange}{p_2} + 5\\color{blue}{p_3}  &= 48 \\\\\n",
    "\\end{align}\n",
    "$"
   ]
  },
  {
   "cell_type": "markdown",
   "id": "7e2e3d62",
   "metadata": {
    "slideshow": {
     "slide_type": "subslide"
    }
   },
   "source": [
    "$\n",
    "\\begin{align}\n",
    "    3\\color{red}{p_1}  + 6\\color{orange}{p_2} + 2\\color{blue}{p_3}  &= 34 \\\\\n",
    "    10\\color{red}{p_1} + 3\\color{orange}{p_2} + 8\\color{blue}{p_3}  &= 69 \\\\\n",
    "    1\\color{red}{p_1}  + 7\\color{orange}{p_2} + 5\\color{blue}{p_3}  &= 48 \\\\\n",
    "\\end{align}\n",
    "$\n",
    "\n",
    "This is a system of **three** equations containing **three** unknown variables (i.e., $\\color{red}{p_1},\\,\\color{orange}{p_2},\\,\\color{blue}{p_3}$) and our task is to find solutions for the unknowns. "
   ]
  },
  {
   "cell_type": "markdown",
   "id": "9e8ef9e7",
   "metadata": {
    "slideshow": {
     "slide_type": "subslide"
    }
   },
   "source": [
    "The strategy is to take one variable at a time (let's start with $\\color{red}{p_1}$) and use the system of equations to find a formula for that variable that uses the other variables.\n",
    "\n",
    "$\n",
    "    3\\color{red}{p_1}  + 6\\color{orange}{p_2} + 2\\color{blue}{p_3}  = 34\n",
    "    \\hspace{1cm}\\Rightarrow\\hspace{1cm}\n",
    "    \\color{red}{p_1} =\\frac{34}{3}-2\\color{orange}{p_2}-\\frac{2}{3}\\color{blue}{p_3}\n",
    "$\n",
    "\n",
    "Next, we replace $\\color{red}{p_1}$ with this formula throughout the system of equations and then group like terms:\n",
    "\n",
    "$\n",
    "\\bbox[border: 1pt solid black]{\n",
    "\\begin{align}\n",
    "    3\\color{red}{p_1}  + 6\\color{orange}{p_2} + 2\\color{blue}{p_3}  &= 34 \\\\\n",
    "    10\\color{red}{p_1} + 3\\color{orange}{p_2} + 8\\color{blue}{p_3}  &= 69 \\\\\n",
    "    1\\color{red}{p_1}  + 7\\color{orange}{p_2} + 5\\color{blue}{p_3}  &= 48 \\\\\n",
    "\\end{align}\n",
    "}$\n",
    "$\\hspace{1cm}\\Rightarrow\\hspace{1cm}\n",
    "\\bbox[border: 1pt solid black]{\n",
    "\\begin{align}\n",
    "    3\\color{red}{p_1}  + 6\\color{orange}{p_2} + 2\\color{blue}{p_3}  &= 34 \\\\\n",
    "    10\\left(\\frac{34}{3}-2\\color{orange}{p_2}-\\frac{2}{3}\\color{blue}{p_3}\\right) + 3\\color{orange}{p_2} + 8\\color{blue}{p_3}  &= 69 \\\\\n",
    "    1\\left(\\frac{34}{3}-2\\color{orange}{p_2}-\\frac{2}{3}\\color{blue}{p_3}\\right)  + 7\\color{orange}{p_2} + 5\\color{blue}{p_3}  &= 48\\\\\n",
    "\\end{align}\n",
    "}\n",
    "$\n",
    "$\\hspace{1cm}\\Rightarrow\\hspace{1cm}\n",
    "\\bbox[border: 1pt solid black]{\n",
    "\\begin{align}\n",
    "    3\\color{red}{p_1}  + 6\\color{orange}{p_2} + 2\\color{blue}{p_3}  &= 34 \\\\\n",
    "    -17\\color{orange}{p_2} + \\frac{4}{3}\\color{blue}{p_3}  &= \\frac{-133}{3} \\\\\n",
    "    5\\color{orange}{p_2} + \\frac{13}{3}\\color{blue}{p_3}  &= \\frac{110}{3} \\\\\n",
    "\\end{align}\n",
    "}\n",
    "$"
   ]
  },
  {
   "cell_type": "markdown",
   "id": "fecf088f",
   "metadata": {
    "slideshow": {
     "slide_type": "subslide"
    }
   },
   "source": [
    "Now we repeat the process by finding a formula $\\color{orange}{p_2}$ using the remaining unknown variables\n",
    "\n",
    "$\n",
    "    -17\\color{orange}{p_2} + \\frac{4}{3}\\color{blue}{p_3}  = \\frac{-133}{3}\n",
    "    \\hspace{1cm}\\Rightarrow\\hspace{1cm}\n",
    "    \\color{orange}{p_2} = \\frac{133}{17\\cdot3}+\\frac{4}{17\\cdot3}\\color{blue}{p_3} \n",
    "    =\n",
    "     \\frac{133}{51}+\\frac{4}{51}\\color{blue}{p_3} \n",
    "$\n",
    "\n",
    "and replace $\\color{orange}{p_2}$ throughout the system of equations:\n",
    "\n",
    "$\n",
    "\\bbox[border: 1pt solid black]{\n",
    "\\begin{align}\n",
    "    3\\color{red}{p_1}  + 6\\color{orange}{p_2} + 2\\color{blue}{p_3}  &= 34 \\\\\n",
    "    -17\\color{orange}{p_2} + \\frac{4}{3}\\color{blue}{p_3}  &= \\frac{-133}{3} \\\\\n",
    "    5\\color{orange}{p_2} + \\frac{13}{3}\\color{blue}{p_3}  &= \\frac{110}{3} \\\\\n",
    "\\end{align}\n",
    "}\n",
    "$\n",
    "$\n",
    "\\hspace{1cm}\\Rightarrow\\hspace{1cm}\n",
    "\\bbox[border: 1pt solid black]{\n",
    "\\begin{align}\n",
    "    3\\color{red}{p_1}  + 6\\color{orange}{p_2} + 2\\color{blue}{p_3}  &= 34 \\\\\n",
    "    -17\\color{orange}{p_2} + \\frac{4}{3}\\color{blue}{p_3}  &= \\frac{-133}{3} \\\\\n",
    "    5\\left(\\frac{133}{51}+\\frac{4}{51}\\color{blue}{p_3} \\right) + \\frac{13}{3}\\color{blue}{p_3}  &= \\frac{110}{3} \\\\\n",
    "\\end{align}\n",
    "}\n",
    "$\n",
    "$\n",
    "\\hspace{1cm}\\Rightarrow\\hspace{1cm}\n",
    "\\bbox[border: 1pt solid black]{\n",
    "\\begin{align}\n",
    "    3\\color{red}{p_1}  + 6\\color{orange}{p_2} + 2\\color{blue}{p_3}  &= 34 \\\\\n",
    "    -17\\color{orange}{p_2} + \\frac{4}{3}\\color{blue}{p_3}  &= \\frac{-133}{3} \\\\\n",
    "    \\frac{723}{153}\\color{blue}{p_3}  &= \\frac{3615}{153} \\\\\n",
    "\\end{align}\n",
    "}\n",
    "$\n",
    "\n",
    "Or, simplifying a bit more, $\\color{blue}{p_3} = \\frac{3615}{153}\\cdot\\frac{153}{723} = 5$."
   ]
  },
  {
   "cell_type": "markdown",
   "id": "380cb089",
   "metadata": {
    "slideshow": {
     "slide_type": "subslide"
    }
   },
   "source": [
    "We know one of the prices! $\\color{blue}{p_3} = 5$ which we can use to substitute back up into the system of equations:\n",
    "\n",
    "$\n",
    "\\bbox[border: 1pt solid black]{\n",
    "\\begin{align}\n",
    "    3\\color{red}{p_1}  + 6\\color{orange}{p_2} + 2\\color{blue}{p_3}  &= 34 \\\\\n",
    "    -17\\color{orange}{p_2} + \\frac{4}{3}\\color{blue}{p_3}  &= \\frac{-133}{3} \\\\\n",
    "    \\color{blue}{p_3}  &= 5 \\\\\n",
    "\\end{align}\n",
    "}\n",
    "$\n",
    "$\n",
    "\\hspace{1cm}\\Rightarrow\\hspace{1cm}\n",
    "\\bbox[border: 1pt solid black]{\n",
    "\\begin{align}\n",
    "    3\\color{red}{p_1}  + 6\\color{orange}{p_2} + 2\\cdot\\color{blue}{5}  &= 34 \\\\\n",
    "    -17\\color{orange}{p_2} + \\frac{4}{3}\\cdot\\color{blue}{5}  &= \\frac{-133}{3} \\\\\n",
    "    \\color{blue}{p_3}  &= 5 \\\\\n",
    "\\end{align}\n",
    "}\n",
    "$\n",
    "$\n",
    "\\hspace{1cm}\\Rightarrow\\hspace{1cm}\n",
    "\\bbox[border: 1pt solid black]{\n",
    "\\begin{align}\n",
    "    3\\color{red}{p_1}  + 6\\color{orange}{p_2} + 2\\cdot\\color{blue}{5}  &= 34 \\\\\n",
    "    \\color{orange}{p_2} &= \\frac{1}{-17}\\left(\\frac{-133}{3}-\\frac{4}{3}\\cdot\\color{blue}{5}\\right) = 3 \\\\\n",
    "    \\color{blue}{p_3}  &= 5 \\\\\n",
    "\\end{align}\n",
    "}\n",
    "$\n",
    "\n"
   ]
  },
  {
   "cell_type": "markdown",
   "id": "a3802cb5",
   "metadata": {
    "slideshow": {
     "slide_type": "subslide"
    }
   },
   "source": [
    "So now we know $\\color{blue}{p_3}=5$ and $\\color{orange}{p_2}=3$. Once more...\n",
    "\n",
    "$\n",
    "\\bbox[border: 1pt solid black]{\n",
    "\\begin{align}\n",
    "    3\\color{red}{p_1}  + 6\\color{orange}{p_2} + 2\\cdot\\color{blue}{5}  &= 34 \\\\\n",
    "    \\color{orange}{p_2} &= 3 \\\\\n",
    "    \\color{blue}{p_3}  &= 5 \\\\\n",
    "\\end{align}\n",
    "}\n",
    "$\n",
    "$\n",
    "\\hspace{1cm}\\Rightarrow\\hspace{1cm}\n",
    "\\bbox[border: 1pt solid black]{\n",
    "\\begin{align}\n",
    "    3\\color{red}{p_1}  + 6\\cdot\\color{orange}{3} + 2\\cdot\\color{blue}{5}  &= 34 \\\\\n",
    "    \\color{orange}{p_2} &= 3 \\\\\n",
    "    \\color{blue}{p_3}  &= 5 \\\\\n",
    "\\end{align}\n",
    "}\n",
    "$\n",
    "$\n",
    "\\hspace{1cm}\\Rightarrow\\hspace{1cm}\n",
    "\\bbox[border: 1pt solid black]{\n",
    "\\begin{align}\n",
    "    \\color{red}{p_1} &= \\frac{1}{3}\\left(34-\\color{orange}{18}-\\color{blue}{10}\\right) = 2 \\\\\n",
    "    \\color{orange}{p_2} &= 3 \\\\\n",
    "    \\color{blue}{p_3}  &= 5 \\\\\n",
    "\\end{align}\n",
    "}\n",
    "$"
   ]
  },
  {
   "cell_type": "markdown",
   "id": "5b4337d1",
   "metadata": {
    "slideshow": {
     "slide_type": "subslide"
    }
   },
   "source": [
    "Finally, let's check our solution:\n",
    "$\n",
    "    \\hspace{1cm}\n",
    "    M\\cdot\\vec{p} = \\vec{c}\n",
    "    \\hspace{1cm}\\Rightarrow\\hspace{1cm}\n",
    "    \\begin{align}\n",
    "        3\\cdot\\color{red}{2}  + 6\\cdot\\color{orange}{3} + 2\\cdot\\color{blue}{5}  &= 34 \\\\\n",
    "        10\\cdot\\color{red}{2} + 3\\cdot\\color{orange}{3} + 8\\cdot\\color{blue}{5}  &= 69 \\\\\n",
    "        1\\cdot\\color{red}{2}  + 7\\cdot\\color{orange}{3} + 5\\cdot\\color{blue}{5}  &= 48 \\\\\n",
    "    \\end{align}\n",
    "$"
   ]
  },
  {
   "cell_type": "code",
   "execution_count": 19,
   "id": "78197c63",
   "metadata": {
    "slideshow": {
     "slide_type": "fragment"
    }
   },
   "outputs": [
    {
     "data": {
      "text/plain": [
       "array([34, 69, 48])"
      ]
     },
     "execution_count": 19,
     "metadata": {},
     "output_type": "execute_result"
    }
   ],
   "source": [
    "M = np.array(\n",
    "    [\n",
    "        [3,6,2],\n",
    "        [10,3,8],\n",
    "        [1,7,5],\n",
    "    ]\n",
    ")\n",
    "p = np.array([2,3,5])\n",
    "np.dot(M,p)"
   ]
  },
  {
   "cell_type": "markdown",
   "id": "3c9ed53a",
   "metadata": {
    "slideshow": {
     "slide_type": "slide"
    }
   },
   "source": [
    "# Backsolving and Inverting Matrices\n",
    "In the last video, we solved\n",
    "$\n",
    "    \\hspace{1cm}\n",
    "    M\\cdot\\vec{p}=\\vec{c}\n",
    "    \\hspace{1cm}\n",
    "    \\Rightarrow\n",
    "    \\hspace{1cm}\n",
    "    \\begin{bmatrix}\n",
    "        3 & 6 & 2 \\\\\\\n",
    "        10 & 3 & 8 \\\\\n",
    "        1 & 7 & 5 \\\\\n",
    "    \\end{bmatrix}\n",
    "    \\cdot\n",
    "    \\begin{bmatrix} \\color{red}{p_1} \\\\ \\color{orange}{p_2} \\\\ \\color{blue}{p_3} \\end{bmatrix}\n",
    "    =\\begin{bmatrix} 34 \\\\ 69 \\\\ 48 \\\\  \\end{bmatrix}\n",
    "    \\hspace{1cm}\n",
    "$\n",
    "finding $\\hspace{1cm}\\vec{p} = \\begin{bmatrix} \\color{red}{2} \\\\ \\color{orange}{3} \\\\ \\color{blue}{5} \\end{bmatrix}$\n",
    "\n",
    "The algorithm we used to find formulas for variables and then substituting those formulas into later equations is called **Gaussian elimination** or **row reduction** or **backsolving**.\n",
    "\n",
    "Effectively, if we think about $M$ acting on $\\vec{p}$ as a function, then, implicitly, we calculated the matrix that undoes the action of $M$.\n",
    "\n",
    "This matrix that can act on $\\vec{c}$ and give us $\\vec{p}$ is called $M$'s **inverse** and we denote it as $M^{-1}$ because $$M^{-1}M\\vec{p}=M^{-1}\\vec{c}\\hspace{1cm}\\Rightarrow\\hspace{1cm}\\vec{p}=M^{-1}\\vec{c}$$\n",
    "\n",
    "If $M$ were a number instead of a matrix, then we would see $M^{-1}\\cdot M = M/M = 1$ which explains the notation, and, indeed, for the matrix version $M^{-1}M= I$."
   ]
  },
  {
   "cell_type": "markdown",
   "id": "f673a89f",
   "metadata": {
    "slideshow": {
     "slide_type": "subslide"
    }
   },
   "source": [
    "To find $M^{-1}$, we can represent the problem from before using a special matrix representation called an **augmented matrix** where we concatenate the identity matrix onto the original matrix.\n",
    "\n",
    "$\n",
    "    \\begin{bmatrix}\n",
    "        3 & 6 & 2 \\\\\n",
    "        10 & 3 & 8 \\\\\n",
    "        1 & 7 & 5 \\\\\n",
    "    \\end{bmatrix}\n",
    "    \\hspace{1cm}\n",
    "    \\Rightarrow\n",
    "    \\hspace{1cm}\n",
    "    \\begin{bmatrix}\n",
    "        \\begin{array}{ccc|ccc}\n",
    "            3  & 6 & 2  & 1 & 0 & 0\\\\\n",
    "            10 & 3 & 8  & 0 & 1 & 0\\\\\n",
    "            1  & 7 & 5  & 0 & 0 & 1\\\\\n",
    "        \\end{array}\n",
    "    \\end{bmatrix}\n",
    "$\n",
    "\n",
    "We now perform linear operations on the rows of the augmented matrix until we transform the original matrix on the left of the line in to the identity matrix.\n",
    "The matrix on the right of the line will be $M^{-1}$."
   ]
  },
  {
   "cell_type": "markdown",
   "id": "66bf989f",
   "metadata": {
    "slideshow": {
     "slide_type": "subslide"
    }
   },
   "source": [
    "Starting with\n",
    "$\n",
    "    \\begin{bmatrix}\n",
    "        \\begin{array}{ccc|ccc}\n",
    "            3  & 6 & 2  & 1 & 0 & 0\\\\\n",
    "            10 & 3 & 8  & 0 & 1 & 0\\\\\n",
    "            1  & 7 & 5  & 0 & 0 & 1\\\\\n",
    "        \\end{array}\n",
    "    \\end{bmatrix}\n",
    "$\n",
    "\n",
    "We first divide the first row ($R_1$) by 3 to make the left side look more like the identity matrix. \n",
    "\n",
    "$\n",
    "    \\begin{bmatrix}\n",
    "        \\begin{array}{ccc|ccc}\n",
    "            3  & 6 & 2  & 1 & 0 & 0\\\\\n",
    "            10 & 3 & 8  & 0 & 1 & 0\\\\\n",
    "            1  & 7 & 5  & 0 & 0 & 1\\\\\n",
    "        \\end{array}\n",
    "    \\end{bmatrix}\n",
    "    \\hspace{1cm}\n",
    "    \\Rightarrow R_1 / 3 \\Rightarrow\n",
    "    \\hspace{1cm}\n",
    "    \\begin{bmatrix}\n",
    "        \\begin{array}{ccc|ccc}\n",
    "            1  & 2 & 2/3  & 1/3 & 0 & 0\\\\\n",
    "            10 & 3 & 8  & 0 & 1 & 0\\\\\n",
    "            1  & 7 & 5  & 0 & 0 & 1\\\\\n",
    "        \\end{array}\n",
    "    \\end{bmatrix}\n",
    "$"
   ]
  },
  {
   "cell_type": "markdown",
   "id": "f1f7e8f8",
   "metadata": {
    "slideshow": {
     "slide_type": "subslide"
    }
   },
   "source": [
    "Then, for each remaining row, we subtract $R_1$ multiplied by the value in the first column. \n",
    "\n",
    "Remember, our goal is to make the left of the line look like the identity matrix.\n",
    "\n",
    "$\n",
    "\\begin{bmatrix}\n",
    "    \\begin{array}{ccc|ccc}\n",
    "        1  & 2 & 2/3  & 1/3 & 0 & 0\\\\\n",
    "        10 & 3 & 8  & 0 & 1 & 0\\\\\n",
    "        1  & 7 & 5  & 0 & 0 & 1\\\\\n",
    "    \\end{array}\n",
    "\\end{bmatrix}\n",
    "\\hspace{1cm}\n",
    "\\Rightarrow R_2-10\\cdot R_1,\\,R_3-1\\cdot R_1 \\Rightarrow\n",
    "\\hspace{1cm}\n",
    "\\begin{bmatrix}\n",
    "    \\begin{array}{ccc|ccc}\n",
    "        1  & 2 & 2/3  & 1/3 & 0 & 0\\\\\n",
    "        0 & -17 & 4/3  & -10/3 & 1 & 0\\\\\n",
    "        0  & 5 & 13/3  & -1/3 & 0 & 1\\\\\n",
    "    \\end{array}\n",
    "\\end{bmatrix}\n",
    "$"
   ]
  },
  {
   "cell_type": "markdown",
   "id": "baae450f",
   "metadata": {
    "slideshow": {
     "slide_type": "subslide"
    }
   },
   "source": [
    "Next, we divide $R_2$ by $-17$ and substract the appropriate multiple of $R_2$ from $R_3$.\n",
    "\n",
    "$\n",
    "\\begin{bmatrix}\n",
    "    \\begin{array}{ccc|ccc}\n",
    "        1  & 2 & 2/3  & 1/3 & 0 & 0\\\\\n",
    "        0 & -17 & 4/3  & -10/3 & 1 & 0\\\\\n",
    "        0  & 5 & 13/3  & -1/3 & 0 & 1\\\\\n",
    "    \\end{array}\n",
    "\\end{bmatrix}\n",
    "\\hspace{1cm}\n",
    "\\Rightarrow R_2 / (-17),\\, R_3-5\\cdot R_2 \\Rightarrow\n",
    "\\hspace{1cm}\n",
    "\\begin{bmatrix}\n",
    "    \\begin{array}{ccc|ccc}\n",
    "        1  & 2 & 2/3  & 1/3 & 0 & 0\\\\\n",
    "        0 & 1 & -4/51  & 10/51 & -1/17 & 0\\\\\n",
    "        0  & 0 & 241/51  & -67/51 & 5/17 & 1\\\\\n",
    "    \\end{array}\n",
    "\\end{bmatrix}\n",
    "$\n",
    "\n",
    "Already, we are starting to see some of the same fractions that we encountered when we solved the system of equations before.\n",
    "\n",
    "By multiplying the last row by $51/241$, we get\n",
    "\n",
    "$\n",
    "\\begin{bmatrix}\n",
    "    \\begin{array}{ccc|ccc}\n",
    "        1  & 2 & 2/3  & 1/3 & 0 & 0\\\\\n",
    "        0 & 1 & -4/51  & 10/51 & -1/17 & 0\\\\\n",
    "        0  & 0 & 1  & -67/241 & 15/241 & 51/241\\\\\n",
    "    \\end{array}\n",
    "\\end{bmatrix}\n",
    "$"
   ]
  },
  {
   "cell_type": "markdown",
   "id": "c083fe69",
   "metadata": {
    "slideshow": {
     "slide_type": "subslide"
    }
   },
   "source": [
    "Now, we subtract multiples of $R_3$ from $R_2$ and $R_1$\n",
    "\n",
    "$\n",
    "\\begin{bmatrix}\n",
    "    \\begin{array}{ccc|ccc}\n",
    "        1  & 2 & 2/3  & 1/3 & 0 & 0\\\\\n",
    "        0 & 1 & -4/51  & 10/51 & -1/17 & 0\\\\\n",
    "        0  & 0 & 1  & -67/241 & 15/241 & 51/241\\\\\n",
    "    \\end{array}\n",
    "\\end{bmatrix}\n",
    "\\hspace{1cm}\n",
    "\\Rightarrow R_2-(-4/51)R_3,\\, R_1-(2/3)R_3 \\Rightarrow\n",
    "\\hspace{1cm}\n",
    "\\begin{bmatrix}\n",
    "    \\begin{array}{ccc|ccc}\n",
    "        1  & 2 & 0  & \\frac{125}{241} & \\frac{-10}{241} & \\frac{-34}{241}\\\\\n",
    "        0 & 1 & 0  & \\frac{42}{241} & \\frac{-13}{241} & \\frac{4}{241}\\\\\n",
    "        0  & 0 & 1  & \\frac{-67}{241} & \\frac{15}{241} & \\frac{51}{241}\\\\\n",
    "    \\end{array}\n",
    "\\end{bmatrix}\n",
    "$\n",
    "\n",
    "and, finally, subrtracting multiples of $R_2$\n",
    "\n",
    "$\n",
    "\\begin{bmatrix}\n",
    "    \\begin{array}{ccc|ccc}\n",
    "        1  & 2 & 0  & \\frac{125}{241} & \\frac{-10}{241} & \\frac{-34}{241}\\\\\n",
    "        0 & 1 & 0  & \\frac{42}{241} & \\frac{-13}{241} & \\frac{4}{241}\\\\\n",
    "        0  & 0 & 1  & \\frac{-67}{241} & \\frac{15}{241} & \\frac{51}{241}\\\\\n",
    "    \\end{array}\n",
    "\\end{bmatrix}\n",
    "\\hspace{1cm}\n",
    "\\Rightarrow R_1-2R_2 \\Rightarrow\n",
    "\\hspace{1cm}\n",
    "\\begin{bmatrix}\n",
    "    \\begin{array}{ccc|ccc}\n",
    "        1 & 0 & 0 & \\frac{41}{241} & \\frac{16}{241} & - \\frac{42}{241}\\\\\n",
    "        0 & 1 & 0 & \\frac{42}{241} & - \\frac{13}{241} & \\frac{4}{241} \\\\\n",
    "        0 & 0 & 1 & - \\frac{67}{241} & \\frac{15}{241} & \\frac{51}{241} \\\\\n",
    "    \\end{array}\n",
    "\\end{bmatrix}\n",
    "$"
   ]
  },
  {
   "cell_type": "markdown",
   "id": "9ae417b2",
   "metadata": {
    "slideshow": {
     "slide_type": "subslide"
    }
   },
   "source": [
    "This gives us $\\hspace{1cm}M^{-1}=\\begin{bmatrix}\n",
    "    \\begin{array}{ccc|ccc}\n",
    "        1 & 0 & 0 & \\frac{41}{241} & \\frac{16}{241} & - \\frac{42}{241}\\\\\n",
    "        0 & 1 & 0 & \\frac{42}{241} & - \\frac{13}{241} & \\frac{4}{241} \\\\\n",
    "        0 & 0 & 1 & - \\frac{67}{241} & \\frac{15}{241} & \\frac{51}{241} \\\\\n",
    "    \\end{array}\n",
    "\\end{bmatrix}\n",
    "$\n",
    "\n",
    "We can test it out by solving \n",
    "\n",
    "$\n",
    "M^{-1}\\vec{c} \n",
    "\\hspace{1cm}= \\hspace{1cm}\n",
    "\\begin{bmatrix}\n",
    "    \\frac{41}{241} & \\frac{16}{241} & - \\frac{42}{241}\\\\\n",
    "    \\frac{42}{241} & - \\frac{13}{241} & \\frac{4}{241} \\\\\n",
    "    - \\frac{67}{241} & \\frac{15}{241} & \\frac{51}{241} \\\\\n",
    "\\end{bmatrix}\\cdot\\begin{bmatrix} 34 \\\\ 69 \\\\ 48 \\\\  \\end{bmatrix} \n",
    "\\hspace{1cm}= \\hspace{1cm}\n",
    "\\begin{bmatrix} \\color{red}{2}\\\\ \\color{orange}{3}\\\\ \\color{blue}{5}\\\\ \\end{bmatrix}=\\vec{p}\n",
    "$"
   ]
  },
  {
   "cell_type": "code",
   "execution_count": 20,
   "id": "6fe3f3c2",
   "metadata": {
    "slideshow": {
     "slide_type": "fragment"
    }
   },
   "outputs": [
    {
     "data": {
      "text/plain": [
       "array([2., 3., 5.])"
      ]
     },
     "execution_count": 20,
     "metadata": {},
     "output_type": "execute_result"
    }
   ],
   "source": [
    "M = np.array(\n",
    "    [\n",
    "        [3,6,2],\n",
    "        [10,3,8],\n",
    "        [1,7,5],\n",
    "    ]\n",
    ")\n",
    "M1 = np.array(\n",
    "    [\n",
    "        [41/241,16/241,-42/241],\n",
    "        [42/241,-13/241,4/241],\n",
    "        [-67/241,15/241,51/241],\n",
    "    ]\n",
    ")\n",
    "c = np.array([34,69,48])\n",
    "np.dot(M1,c)"
   ]
  },
  {
   "cell_type": "markdown",
   "id": "36734dbc",
   "metadata": {
    "slideshow": {
     "slide_type": "subslide"
    }
   },
   "source": [
    "But, also, we can check $M^{-1}M=I$\n",
    "\n",
    "$\n",
    "\\begin{bmatrix}\n",
    "    \\frac{41}{241} & \\frac{16}{241} & - \\frac{42}{241}\\\\\n",
    "    \\frac{42}{241} & - \\frac{13}{241} & \\frac{4}{241} \\\\\n",
    "    - \\frac{67}{241} & \\frac{15}{241} & \\frac{51}{241} \\\\\n",
    "\\end{bmatrix}\n",
    "\\cdot\n",
    "\\begin{bmatrix}\n",
    "    3 & 6 & 2 \\\\\n",
    "    10 & 3 & 8 \\\\\n",
    "    1 & 7 & 5 \\\\\n",
    "\\end{bmatrix}\n",
    "= \n",
    "\\begin{bmatrix}\n",
    "    1 & 0 & 0 \\\\\n",
    "    0 & 1 & 0 \\\\\n",
    "    0 & 0 & 1 \\\\\n",
    "\\end{bmatrix}\n",
    "$"
   ]
  },
  {
   "cell_type": "code",
   "execution_count": 22,
   "id": "dd138b7a",
   "metadata": {
    "slideshow": {
     "slide_type": "fragment"
    }
   },
   "outputs": [
    {
     "data": {
      "text/plain": [
       "array([[ 1., -0.,  0.],\n",
       "       [-0.,  1., -0.],\n",
       "       [-0., -0.,  1.]])"
      ]
     },
     "execution_count": 22,
     "metadata": {},
     "output_type": "execute_result"
    }
   ],
   "source": [
    "# np.dot(M1,M)\n",
    "np.round(np.dot(M1,M),decimals=10)"
   ]
  },
  {
   "cell_type": "code",
   "execution_count": 6,
   "id": "bc2034d8",
   "metadata": {
    "slideshow": {
     "slide_type": "skip"
    }
   },
   "outputs": [
    {
     "name": "stdout",
     "output_type": "stream",
     "text": [
      "\\left[\\begin{matrix}1 & 0 & 0 & \\frac{41}{241} & \\frac{16}{241} & - \\frac{42}{241}\\\\0 & 1 & 0 & \\frac{42}{241} & - \\frac{13}{241} & \\frac{4}{241}\\\\0 & 0 & 1 & - \\frac{67}{241} & \\frac{15}{241} & \\frac{51}{241}\\end{matrix}\\right]\n",
      "Matrix([[2], [3], [5]])\n"
     ]
    },
    {
     "data": {
      "text/latex": [
       "$\\displaystyle \\left[\\begin{matrix}1 & 0 & 0\\\\0 & 1 & 0\\\\0 & 0 & 1\\end{matrix}\\right]$"
      ],
      "text/plain": [
       "Matrix([\n",
       "[1, 0, 0],\n",
       "[0, 1, 0],\n",
       "[0, 0, 1]])"
      ]
     },
     "execution_count": 6,
     "metadata": {},
     "output_type": "execute_result"
    }
   ],
   "source": [
    "# using symbolic programming to check my work throughout\n",
    "from sympy import *\n",
    "M = Matrix(\n",
    "    [\n",
    "        [3,6,2,1,0,0],\n",
    "        [10,3,8,0,1,0],\n",
    "        [1,7,5,0,0,1]\n",
    "    ])\n",
    "M[0,:] /= 3\n",
    "M[1,:] = M[1,:]-10*M[0,:]\n",
    "M[2,:] = M[2,:]-1*M[0,:]\n",
    "M[1,:] /= -17\n",
    "M[2,:] = M[2,:]-5*M[1,:]\n",
    "M[2,:] /= M[2,2]\n",
    "M[1,:] -= M[1,2]*M[2,:]\n",
    "M[0,:] -= M[0,2]*M[2,:]\n",
    "M[0,:] -= M[0,1]*M[1,:]\n",
    "# M\n",
    "print(latex(M))\n",
    "print(M[:,3:]*Matrix([34,69,48]))\n",
    "M[:,3:]*Matrix([[3,6,2],[10,3,8],[1,7,5]])"
   ]
  },
  {
   "cell_type": "markdown",
   "id": "0b2737ff",
   "metadata": {
    "slideshow": {
     "slide_type": "slide"
    }
   },
   "source": [
    "# Perils in Backsolving\n",
    "\n",
    "Backsolving gives us exact solutions to unknown variables. \n",
    "\n",
    "But backsolving only works for specific types of matrices.\n",
    "\n",
    "Let's cover some of the restrictions.\n",
    "\n"
   ]
  },
  {
   "cell_type": "markdown",
   "id": "71792979",
   "metadata": {
    "slideshow": {
     "slide_type": "subslide"
    }
   },
   "source": [
    "$\n",
    "\\begin{align}\n",
    "    3\\color{red}{p_1}  + 6\\color{orange}{p_2} + 2\\color{blue}{p_3}  &= 34 \\\\\n",
    "    10\\color{red}{p_1} + 3\\color{orange}{p_2} + 8\\color{blue}{p_3}  &= 69 \\\\\n",
    "    1\\color{red}{p_1}  + 7\\color{orange}{p_2} + 5\\color{blue}{p_3}  &= 48 \\\\\n",
    "\\end{align}\n",
    "$\n",
    "\n",
    "This is a system of **three** equations containing **three** unknown variables.\n",
    "\n",
    "But what if we ignore the last equation yielding **two** equations and **three** unknown variables?"
   ]
  },
  {
   "cell_type": "markdown",
   "id": "92004d3e",
   "metadata": {
    "slideshow": {
     "slide_type": "subslide"
    }
   },
   "source": [
    "In solving this smaller system of equations, \n",
    "\n",
    "$\n",
    "\\begin{align}\n",
    "    3\\color{red}{p_1}  + 6\\color{orange}{p_2} + 2\\color{blue}{p_3}  &= 34 \\\\\n",
    "    10\\color{red}{p_1} + 3\\color{orange}{p_2} + 8\\color{blue}{p_3}  &= 69 \\\\\n",
    "%     1\\color{red}{p_1}  + 7\\color{orange}{p_2} + 5\\color{blue}{p_3}  &= 48 \\\\\n",
    "\\end{align}\n",
    "$\n",
    "\n",
    "we follow the same process as in the original case."
   ]
  },
  {
   "cell_type": "markdown",
   "id": "64ea626f",
   "metadata": {
    "slideshow": {
     "slide_type": "subslide"
    }
   },
   "source": [
    "Eventually, we arrive at the step where we attempt to solve for $\\color{blue}{p_3}$.\n",
    "\n",
    "Instead of \n",
    "\n",
    "$\n",
    "\\begin{align}\n",
    "    3\\color{red}{p_1}  + 6\\color{orange}{p_2} + 2\\color{blue}{p_3}  &= 34 \\\\\n",
    "    -17\\color{orange}{p_2} + \\frac{4}{3}\\color{blue}{p_3}  &= \\frac{-133}{3} \\\\\n",
    "    \\frac{723}{153}\\color{blue}{p_3}  &= \\frac{3615}{153} \\\\\n",
    "\\end{align}\n",
    "$\n",
    "\n",
    "we have \n",
    "\n",
    "$\n",
    "% \\hspace{1cm}\\Rightarrow\\hspace{1cm}\n",
    "\\begin{align}\n",
    "    3\\color{red}{p_1}  + 6\\color{orange}{p_2} + 2\\color{blue}{p_3}  &= 34 \\\\\n",
    "    -17\\color{orange}{p_2} + \\frac{4}{3}\\color{blue}{p_3}  &= \\frac{-133}{3} \\\\\n",
    "%     \\frac{723}{153}\\color{blue}{p_3}  &= \\frac{3615}{153} \\\\\n",
    "\\end{align}\n",
    "$\n",
    "\n",
    "and we are stuck!"
   ]
  },
  {
   "cell_type": "markdown",
   "id": "b002b47f",
   "metadata": {
    "slideshow": {
     "slide_type": "subslide"
    }
   },
   "source": [
    "$\n",
    "% \\hspace{1cm}\\Rightarrow\\hspace{1cm}\n",
    "\\begin{align}\n",
    "    3\\color{red}{p_1}  + 6\\color{orange}{p_2} + 2\\color{blue}{p_3}  &= 34 \\\\\n",
    "    -17\\color{orange}{p_2} + \\frac{4}{3}\\color{blue}{p_3}  &= \\frac{-133}{3} \\\\\n",
    "%     \\frac{723}{153}\\color{blue}{p_3}  &= \\frac{3615}{153} \\\\\n",
    "\\end{align}\n",
    "$\n",
    "\n",
    "Instead of a unique solution for $\\color{orange}{p_2}$ and $\\color{blue}{p_3}$, we end up with infinite possible solutions.\n",
    "\n",
    "The second equation defines a plane in 3-dimensional space and any point on that plane is a possible solution.\n",
    "\n",
    "To solve a system of linear equations, you must have at least as many equations as variables."
   ]
  },
  {
   "cell_type": "markdown",
   "id": "e58364a2",
   "metadata": {
    "slideshow": {
     "slide_type": "subslide"
    }
   },
   "source": [
    "But, even with three equations, we can still run into problems if one equation is a \"linear combination\" of the other rows.\n",
    "\n",
    "For example, in the following system of linear equations, the coefficients in the third equation are double the coefficients in the second equation (including the RHS):\n",
    "\n",
    "$\n",
    "M\\cdot\\vec{p}=\\vec{c}\n",
    "    \\hspace{1cm}\n",
    "    \\Rightarrow\n",
    "    \\hspace{1cm}\n",
    "    \\begin{bmatrix}\n",
    "        3 & 6 & 2 \\\\\\\n",
    "        10 & 3 & 8 \\\\\n",
    "        20 & 6 & 16 \\\\\n",
    "    \\end{bmatrix}\n",
    "    \\cdot\n",
    "    \\begin{bmatrix} \\color{red}{p_1} \\\\ \\color{orange}{p_2} \\\\ \\color{blue}{p_3} \\end{bmatrix}\n",
    "    =\\begin{bmatrix} 34 \\\\ 69 \\\\ 138 \\\\  \\end{bmatrix}\n",
    "$\n",
    "\n",
    "\n",
    "Here again, we have three equations and three unknown variables."
   ]
  },
  {
   "cell_type": "markdown",
   "id": "7a40002f",
   "metadata": {
    "slideshow": {
     "slide_type": "subslide"
    }
   },
   "source": [
    "Let's try to invert the matrix $M$ (remember, this is an equivalent process to solving the system of lienar equations).\n",
    "\n",
    "Following the same process from before (since the first two rows of $M$ are unchanged), we get to\n",
    "\n",
    "$\n",
    "\\begin{bmatrix}\n",
    "    \\begin{array}{ccc|ccc}\n",
    "        1 & 2 & \\frac{2}{3} & \\frac{1}{3} & 0 & 0\\\\0 & 1 & - \\frac{4}{51} & \\frac{10}{51} & - \\frac{1}{17} & 0\\\\0 & 0 & 0 & 0 & -2 & 1\n",
    "    \\end{array}\n",
    "\\end{bmatrix}\n",
    "$\n",
    "\n",
    "and now you are again stuck! \n",
    "\n",
    "You're ability to solve for $\\color{blue}{p_3}$ in the third row has disappeared!"
   ]
  },
  {
   "cell_type": "markdown",
   "id": "98f75c25",
   "metadata": {
    "slideshow": {
     "slide_type": "subslide"
    }
   },
   "source": [
    "This result indicates that $M$ is **not invertible**; that is, $M^{-1}$ does not exist.\n",
    "\n",
    "We can actually test for this by measuring $\\hspace{1cm}\\det\\left(M\\right)=0\\hspace{1cm}$ which indicates that the volume of the 3-dimensional parallelogram produced by $M$ acting in the unit cube is $volume=0$.\n",
    "\n",
    "This is a problem because multiple points on the unit cube map to the same point on the 3D parallelogram.\n",
    "\n",
    "If $M^{-1}$ exists, then $M^{-1}$ acting on the parallelogram should recover the unit cube.\n",
    "\n",
    "This means we cannot invert the $M$ transformation on the unit cube because one point on the parallelogram cannot map to multiple different points when $M^{-1}$ acts on the parallelogram."
   ]
  },
  {
   "cell_type": "code",
   "execution_count": 7,
   "id": "656279f6",
   "metadata": {
    "slideshow": {
     "slide_type": "skip"
    }
   },
   "outputs": [
    {
     "name": "stdout",
     "output_type": "stream",
     "text": [
      "\\left[\\begin{matrix}1 & 2 & \\frac{2}{3} & \\frac{1}{3} & 0 & 0\\\\0 & 1 & - \\frac{4}{51} & \\frac{10}{51} & - \\frac{1}{17} & 0\\\\0 & 0 & 0 & 0 & -2 & 1\\end{matrix}\\right]\n"
     ]
    },
    {
     "data": {
      "text/latex": [
       "$\\displaystyle \\left[\\begin{matrix}1 & 2 & \\frac{2}{3} & \\frac{1}{3} & 0 & 0\\\\0 & 1 & - \\frac{4}{51} & \\frac{10}{51} & - \\frac{1}{17} & 0\\\\0 & 0 & 0 & 0 & -2 & 1\\end{matrix}\\right]$"
      ],
      "text/plain": [
       "Matrix([\n",
       "[1, 2,   2/3,   1/3,     0, 0],\n",
       "[0, 1, -4/51, 10/51, -1/17, 0],\n",
       "[0, 0,     0,     0,    -2, 1]])"
      ]
     },
     "execution_count": 7,
     "metadata": {},
     "output_type": "execute_result"
    }
   ],
   "source": [
    "# using symbolic programming to check check my work throughout\n",
    "from sympy import *\n",
    "M = Matrix(\n",
    "    [\n",
    "        [3,6,2,1,0,0],\n",
    "        [10,3,8,0,1,0],\n",
    "        [20,6,16,0,0,1]\n",
    "    ])\n",
    "M[0,:] /= M[0,0]\n",
    "M[1,:] = M[1,:]-M[1,0]*M[0,:]\n",
    "M[2,:] = M[2,:]-M[2,0]*M[0,:]\n",
    "# M[3,:] = M[3,:]-M[3,0]*M[0,:]\n",
    "M[1,:] /= M[1,1]\n",
    "M[2,:] = M[2,:]-M[2,1]*M[1,:]\n",
    "print(latex(M))\n",
    "M\n",
    "# print(M[:,3:]*Matrix([34,69,48]))\n",
    "# M[:,3:]*Matrix([[3,6,2],[10,3,8],[1,7,5]])"
   ]
  },
  {
   "cell_type": "code",
   "execution_count": 8,
   "id": "bd5ccffb",
   "metadata": {
    "slideshow": {
     "slide_type": "skip"
    }
   },
   "outputs": [
    {
     "data": {
      "text/latex": [
       "$\\displaystyle 0$"
      ],
      "text/plain": [
       "0"
      ]
     },
     "execution_count": 8,
     "metadata": {},
     "output_type": "execute_result"
    }
   ],
   "source": [
    "M = Matrix(\n",
    "    [\n",
    "        [3,6,2,1,0,0],\n",
    "        [10,3,8,0,1,0],\n",
    "        [20,6,16,0,0,1]\n",
    "    ])\n",
    "M = M[:,:3]\n",
    "M.det()"
   ]
  },
  {
   "cell_type": "markdown",
   "id": "bc32aef6",
   "metadata": {
    "slideshow": {
     "slide_type": "subslide"
    }
   },
   "source": [
    "However, if we add the original third equation back in as a fourth equation, we can still solve for the three unknowns.\n",
    "\n",
    "$\n",
    "\\begin{bmatrix}\n",
    "    \\begin{array}{ccc|ccc}\n",
    "        3 & 6 & 2 & 1 & 0 & 0\\\\10 & 3 & 8 & 0 & 1 & 0\\\\20 & 6 & 16 & 0 & 0 & 1\\\\1 & 7 & 5 & 0 & 0 & 1\n",
    "    \\end{array}\n",
    "\\end{bmatrix}\n",
    "\\hspace{1cm}\n",
    "$\n",
    "we arrive at \n",
    "$\n",
    "\\hspace{1cm}\n",
    "\\begin{bmatrix}\n",
    "    \\begin{array}{ccc|ccc}\n",
    "        1 & 2 & \\frac{2}{3} & \\frac{1}{3} & 0 & 0\\\\0 & 1 & - \\frac{4}{51} & \\frac{10}{51} & - \\frac{1}{17} & 0\\\\0 & 0 & 0 & 0 & -2 & 1\\\\0 & 0 & 1 & - \\frac{67}{241} & \\frac{15}{241} & \\frac{51}{241}\n",
    "    \\end{array}\n",
    "\\end{bmatrix}\n",
    "$\n",
    "\n",
    "Here, the problematic third row is \"zero-ed out\" on the left side of the line.\n",
    "\n",
    "And we can still solve for $\\color{blue}{p_3}$ in the fourth row which we can then use to solve for the other unknown variables following our original process."
   ]
  },
  {
   "cell_type": "code",
   "execution_count": 9,
   "id": "53ef019d",
   "metadata": {
    "slideshow": {
     "slide_type": "skip"
    }
   },
   "outputs": [
    {
     "name": "stdout",
     "output_type": "stream",
     "text": [
      "\\left[\\begin{matrix}3 & 6 & 2 & 1 & 0 & 0\\\\10 & 3 & 8 & 0 & 1 & 0\\\\20 & 6 & 16 & 0 & 0 & 1\\\\1 & 7 & 5 & 0 & 0 & 1\\end{matrix}\\right]\n",
      "\\left[\\begin{matrix}1 & 2 & \\frac{2}{3} & \\frac{1}{3} & 0 & 0\\\\0 & 1 & - \\frac{4}{51} & \\frac{10}{51} & - \\frac{1}{17} & 0\\\\0 & 0 & 0 & 0 & -2 & 1\\\\0 & 0 & 1 & - \\frac{67}{241} & \\frac{15}{241} & \\frac{51}{241}\\end{matrix}\\right]\n"
     ]
    },
    {
     "data": {
      "text/latex": [
       "$\\displaystyle \\left[\\begin{matrix}1 & 2 & \\frac{2}{3} & \\frac{1}{3} & 0 & 0\\\\0 & 1 & - \\frac{4}{51} & \\frac{10}{51} & - \\frac{1}{17} & 0\\\\0 & 0 & 0 & 0 & -2 & 1\\\\0 & 0 & 1 & - \\frac{67}{241} & \\frac{15}{241} & \\frac{51}{241}\\end{matrix}\\right]$"
      ],
      "text/plain": [
       "Matrix([\n",
       "[1, 2,   2/3,     1/3,      0,      0],\n",
       "[0, 1, -4/51,   10/51,  -1/17,      0],\n",
       "[0, 0,     0,       0,     -2,      1],\n",
       "[0, 0,     1, -67/241, 15/241, 51/241]])"
      ]
     },
     "execution_count": 9,
     "metadata": {},
     "output_type": "execute_result"
    }
   ],
   "source": [
    "M = Matrix(\n",
    "    [\n",
    "        [3,6,2,1,0,0],\n",
    "        [10,3,8,0,1,0],\n",
    "        [20,6,16,0,0,1],\n",
    "        [1,7,5,0,0,1],\n",
    "    ])\n",
    "print(latex(M))\n",
    "M[0,:] /= M[0,0]\n",
    "M[1,:] = M[1,:]-M[1,0]*M[0,:]\n",
    "M[2,:] = M[2,:]-M[2,0]*M[0,:]\n",
    "M[3,:] = M[3,:]-M[3,0]*M[0,:]\n",
    "M[1,:] /= M[1,1]\n",
    "M[2,:] = M[2,:]-M[2,1]*M[1,:]\n",
    "M[3,:] -= M[3,1]*M[1,:]\n",
    "M[3,:] /= M[3,2]\n",
    "# M[2,:] /= M[2,2]\n",
    "# M[1,:] -= M[1,2]*M[2,:]\n",
    "# M[0,:] -= M[0,2]*M[2,:]\n",
    "# M[0,:] -= M[0,1]*M[1,:]\n",
    "print(latex(M))\n",
    "M"
   ]
  },
  {
   "cell_type": "markdown",
   "id": "807eeb46",
   "metadata": {
    "slideshow": {
     "slide_type": "subslide"
    }
   },
   "source": [
    "A third consideration is that we are assuming each grocery item has a single price.\n",
    "\n",
    "However, in the real-world, the price of an apple might vary from store to store.\n",
    "\n",
    "In this case, the true price of an apple is actually a distribution of prices.\n",
    "\n",
    "Backsolving is too rigid to handle this scenario and probabilistic approaches are required instead. \n",
    "\n",
    "We will cover this later in the course."
   ]
  },
  {
   "cell_type": "markdown",
   "id": "9efd34ba",
   "metadata": {
    "slideshow": {
     "slide_type": "slide"
    }
   },
   "source": [
    "# Python Programming and Inverting Matrices\n",
    "\n",
    "We can use Numpy to invert matrices"
   ]
  },
  {
   "cell_type": "code",
   "execution_count": 146,
   "id": "920d178a",
   "metadata": {
    "slideshow": {
     "slide_type": "fragment"
    }
   },
   "outputs": [
    {
     "data": {
      "text/plain": [
       "array([34, 69, 48])"
      ]
     },
     "execution_count": 146,
     "metadata": {},
     "output_type": "execute_result"
    }
   ],
   "source": [
    "# problem setup\n",
    "# matrix of individuals' purchasing quantities\n",
    "M = np.array(\n",
    "    [\n",
    "        [3,6,2],\n",
    "        [10,3,8],\n",
    "        [1,7,5],\n",
    "    ]\n",
    ")\n",
    "# prices per item\n",
    "prices = np.array([2,3,5])\n",
    "# calculate total costs per individual\n",
    "totalCosts = np.dot(M,prices)\n",
    "totalCosts"
   ]
  },
  {
   "cell_type": "code",
   "execution_count": 147,
   "id": "2792e787",
   "metadata": {
    "slideshow": {
     "slide_type": "subslide"
    }
   },
   "outputs": [
    {
     "name": "stdout",
     "output_type": "stream",
     "text": [
      "[[ 0.17012448  0.06639004 -0.17427386]\n",
      " [ 0.17427386 -0.05394191  0.01659751]\n",
      " [-0.2780083   0.06224066  0.21161826]]\n",
      "[[ 1.00000000e+00  1.66533454e-16  5.55111512e-17]\n",
      " [-2.39391840e-16  1.00000000e+00 -1.14491749e-16]\n",
      " [ 1.66533454e-16 -2.77555756e-16  1.00000000e+00]]\n",
      "[[ 1.  0.  0.]\n",
      " [-0.  1. -0.]\n",
      " [ 0. -0.  1.]]\n"
     ]
    },
    {
     "data": {
      "text/plain": [
       "array([2., 3., 5.])"
      ]
     },
     "execution_count": 147,
     "metadata": {},
     "output_type": "execute_result"
    }
   ],
   "source": [
    "# using Numpy to invert a matrix\n",
    "Minv = np.linalg.inv(M)\n",
    "print(Minv)\n",
    "\n",
    "# test that Minv*M yields identity matrix\n",
    "# note '@' is an alias for np.dot\n",
    "# so A@B is equivalent to np.dot(A,B)\n",
    "print(Minv@M)\n",
    "\n",
    "# same thing but round resulting matrix components\n",
    "print(np.round(Minv@M,decimals=10)) \n",
    "\n",
    "# use Minv to solve for grocery prices\n",
    "prices2 = np.dot(Minv,totalCosts)\n",
    "prices2"
   ]
  },
  {
   "cell_type": "code",
   "execution_count": 148,
   "id": "66341c10",
   "metadata": {
    "slideshow": {
     "slide_type": "subslide"
    }
   },
   "outputs": [
    {
     "data": {
      "text/plain": [
       "array([2., 3., 5.])"
      ]
     },
     "execution_count": 148,
     "metadata": {},
     "output_type": "execute_result"
    }
   ],
   "source": [
    "# another option is the Numpy solve() function to \n",
    "# treat the same problem in it's original form.\n",
    "# Behind this scenes, this approach is still inverting M.\n",
    "prices3 = np.linalg.solve(M,totalCosts)\n",
    "prices3"
   ]
  },
  {
   "cell_type": "markdown",
   "id": "02af2010",
   "metadata": {
    "slideshow": {
     "slide_type": "subslide"
    }
   },
   "source": [
    "Numpy is highly optimized from a computational perspective  and is ideal for solving these linear algebra problems on computers. \n",
    "\n",
    "However, the Python package SymPy is more useful for understanding these linear algebra problems from a human-readable perspective.\n",
    "\n",
    "SymPy does **symbolic** arithmetic. This type of computing is not a focus for this course, so I will not cover too many details. But, it's essentially a tool for performing human-readable math."
   ]
  },
  {
   "cell_type": "code",
   "execution_count": 149,
   "id": "b6cbacef",
   "metadata": {
    "slideshow": {
     "slide_type": "subslide"
    }
   },
   "outputs": [
    {
     "name": "stdout",
     "output_type": "stream",
     "text": [
      "a+b = 12\n",
      "bit_a: 0000000000001010\n",
      "bit_b: 0000000000000010\n",
      "bit_c: 0000000000001100\n",
      "bit_c as an integer: 12\n"
     ]
    }
   ],
   "source": [
    "# Numpy does calculations on binary objects\n",
    "a,b = 10,2\n",
    "print(\"a+b = %d\" % int(a+b))\n",
    "\n",
    "# equivalent calculation for simple unsigned bit strings\n",
    "import bitstring\n",
    "bit_a = bitstring.Bits(uint=a,length=16)\n",
    "bit_b = bitstring.Bits(uint=b,length=16)\n",
    "print(\"bit_a: %s\" % bit_a.b)\n",
    "print(\"bit_b: %s\" % bit_b.b)\n",
    "\n",
    "def addBitStrings(b1,b2):\n",
    "    # function for adding two binary strings\n",
    "    # using bitwise operations.\n",
    "    # This mimics how CPUs perform calculations.\n",
    "    carry = 0\n",
    "    Z = bitstring.Bits(uint=0,length=16)\n",
    "    while b2 != Z:\n",
    "        carry = b1 & b2\n",
    "        b1 = b1 ^ b2\n",
    "        b2 = carry << 1\n",
    "    return b1\n",
    "\n",
    "bit_c = addBitStrings(bit_a,bit_b)\n",
    "print(\"bit_c: %s\" % bit_c.b)\n",
    "print(\"bit_c as an integer: %d\" % bit_c.i)"
   ]
  },
  {
   "cell_type": "code",
   "execution_count": 150,
   "id": "46f45bf8",
   "metadata": {
    "slideshow": {
     "slide_type": "subslide"
    }
   },
   "outputs": [
    {
     "name": "stdout",
     "output_type": "stream",
     "text": [
      "1.1666666666666665\n",
      "7/6\n",
      "1.1666666666666667\n"
     ]
    }
   ],
   "source": [
    "# normal calculations of fractions results in decimals\n",
    "a = 1/2\n",
    "b = 2/3\n",
    "print(a+b)\n",
    "\n",
    "# import SymPy\n",
    "import sympy,fractions\n",
    "# define symbols instead of variables\n",
    "x = fractions.Fraction(1,2)\n",
    "y = fractions.Fraction(2,3)\n",
    "e = x+y\n",
    "print(e)\n",
    "print(7/6)"
   ]
  },
  {
   "cell_type": "code",
   "execution_count": 151,
   "id": "ee235e0d",
   "metadata": {
    "slideshow": {
     "slide_type": "subslide"
    }
   },
   "outputs": [
    {
     "name": "stdout",
     "output_type": "stream",
     "text": [
      "Going down the rows!\n",
      "Matrix([\n",
      "[1,   2,  2/3,   1/3, 0, 0],\n",
      "[0, -17,  4/3, -10/3, 1, 0],\n",
      "[0,   5, 13/3,  -1/3, 0, 1]])\n",
      "Matrix([\n",
      "[1, 2,    2/3,    1/3,     0, 0],\n",
      "[0, 1,  -4/51,  10/51, -1/17, 0],\n",
      "[0, 0, 241/51, -67/51,  5/17, 1]])\n",
      "Matrix([\n",
      "[1, 2,   2/3,     1/3,      0,      0],\n",
      "[0, 1, -4/51,   10/51,  -1/17,      0],\n",
      "[0, 0,     1, -67/241, 15/241, 51/241]])\n",
      "Going back up the rows!\n",
      "Matrix([\n",
      "[1, 2, 0, 125/241, -10/241, -34/241],\n",
      "[0, 1, 0,  42/241, -13/241,   4/241],\n",
      "[0, 0, 1, -67/241,  15/241,  51/241]])\n",
      "Matrix([\n",
      "[1, 0, 0,  41/241,  16/241, -42/241],\n",
      "[0, 1, 0,  42/241, -13/241,   4/241],\n",
      "[0, 0, 1, -67/241,  15/241,  51/241]])\n",
      "Matrix([\n",
      "[1, 0, 0,  41/241,  16/241, -42/241],\n",
      "[0, 1, 0,  42/241, -13/241,   4/241],\n",
      "[0, 0, 1, -67/241,  15/241,  51/241]])\n"
     ]
    }
   ],
   "source": [
    "import pprint\n",
    "def symbolicGaussianElimination(M):\n",
    "    n = M.shape[0]\n",
    "    aM = M.row_join(sympy.eye(n))\n",
    "    # From top to bottom\n",
    "    print(\"Going down the rows!\")\n",
    "    for i in range(n):\n",
    "        # normalize the ith row to create 1 in the (i,i) position\n",
    "        aM[i,:] /= aM[i,i]\n",
    "        for j in range(i+1,n):\n",
    "            # remove multiple of row i from all subsequent rows\n",
    "            aM[j,:] -= aM[j,i]*aM[i,:]\n",
    "        #print current step\n",
    "        pprint.pp(aM)\n",
    "    print(\"Going back up the rows!\")\n",
    "    for i in range(n,0,-1):\n",
    "        i -= 1\n",
    "        for j in range(0,i):\n",
    "            # for row above the ith row, subtract multiple of row i\n",
    "            aM[j,:] -= aM[j,i]*aM[i,:]\n",
    "        #print current step\n",
    "        pprint.pp(aM)\n",
    "    return aM\n",
    "        \n",
    "        \n",
    "M = sympy.Matrix(\n",
    "    [\n",
    "        [3,6,2],\n",
    "        [10,3,8],\n",
    "        [1,7,5],\n",
    "    ]\n",
    ")\n",
    "symbolicGaussianElimination(M);"
   ]
  },
  {
   "cell_type": "code",
   "execution_count": 152,
   "id": "1e7b5889",
   "metadata": {
    "slideshow": {
     "slide_type": "subslide"
    }
   },
   "outputs": [
    {
     "data": {
      "text/latex": [
       "$\\displaystyle \\left[\\begin{matrix}m_{11} & m_{12}\\\\m_{21} & m_{22}\\end{matrix}\\right]$"
      ],
      "text/plain": [
       "Matrix([\n",
       "[m11, m12],\n",
       "[m21, m22]])"
      ]
     },
     "execution_count": 152,
     "metadata": {},
     "output_type": "execute_result"
    }
   ],
   "source": [
    "# Use Sympy to represent a symbolic matrix\n",
    "m11,m12,m21,m22 = sympy.symbols(\"m11 m12 m21 m22\")\n",
    "M = sympy.Matrix(\n",
    "    [\n",
    "        [m11,m12],\n",
    "        [m21,m22]\n",
    "    ]\n",
    ")\n",
    "M"
   ]
  },
  {
   "cell_type": "code",
   "execution_count": 153,
   "id": "cb59db52",
   "metadata": {
    "slideshow": {
     "slide_type": "fragment"
    }
   },
   "outputs": [
    {
     "data": {
      "text/latex": [
       "$\\displaystyle \\left[\\begin{matrix}\\frac{m_{22}}{m_{11} m_{22} - m_{12} m_{21}} & - \\frac{m_{12}}{m_{11} m_{22} - m_{12} m_{21}}\\\\- \\frac{m_{21}}{m_{11} m_{22} - m_{12} m_{21}} & \\frac{m_{11}}{m_{11} m_{22} - m_{12} m_{21}}\\end{matrix}\\right]$"
      ],
      "text/plain": [
       "Matrix([\n",
       "[ m22/(m11*m22 - m12*m21), -m12/(m11*m22 - m12*m21)],\n",
       "[-m21/(m11*m22 - m12*m21),  m11/(m11*m22 - m12*m21)]])"
      ]
     },
     "execution_count": 153,
     "metadata": {},
     "output_type": "execute_result"
    }
   ],
   "source": [
    "# use Sympy to symbolically invert 2x2 matrix\n",
    "M1 = M.inv()\n",
    "M1"
   ]
  },
  {
   "cell_type": "code",
   "execution_count": 154,
   "id": "215df584",
   "metadata": {
    "slideshow": {
     "slide_type": "fragment"
    }
   },
   "outputs": [
    {
     "data": {
      "text/plain": [
       "array([[ 3., -7.],\n",
       "       [-2.,  5.]])"
      ]
     },
     "execution_count": 154,
     "metadata": {},
     "output_type": "execute_result"
    }
   ],
   "source": [
    "f = sympy.lambdify([m11,m12,m21,m22],M1)\n",
    "f(5,7,2,3)"
   ]
  },
  {
   "cell_type": "code",
   "execution_count": 155,
   "id": "1342ac23",
   "metadata": {
    "slideshow": {
     "slide_type": "subslide"
    }
   },
   "outputs": [
    {
     "data": {
      "text/latex": [
       "$\\displaystyle \\left[\\begin{matrix}m_{11} & m_{12} & m_{13}\\\\m_{21} & m_{22} & m_{23}\\\\m_{31} & m_{32} & m_{33}\\end{matrix}\\right]$"
      ],
      "text/plain": [
       "Matrix([\n",
       "[m11, m12, m13],\n",
       "[m21, m22, m23],\n",
       "[m31, m32, m33]])"
      ]
     },
     "execution_count": 155,
     "metadata": {},
     "output_type": "execute_result"
    }
   ],
   "source": [
    "# the symbolic solution is nice enough for 2x2 matrices, but what about 3x3?\n",
    "m11,m12,m13,m21,m22,m23,m31,m32,m33 = sympy.symbols(\"m11 m12 m13 m21 m22 m23 m31 m32 m33\")\n",
    "M = sympy.Matrix(\n",
    "    [\n",
    "        [m11,m12,m13],\n",
    "        [m21,m22,m23],\n",
    "        [m31,m32,m33]\n",
    "    ]\n",
    ")\n",
    "M"
   ]
  },
  {
   "cell_type": "code",
   "execution_count": 156,
   "id": "5f5970ef",
   "metadata": {
    "slideshow": {
     "slide_type": "fragment"
    }
   },
   "outputs": [
    {
     "data": {
      "text/latex": [
       "$\\displaystyle \\left[\\begin{matrix}\\frac{m_{22} m_{33} - m_{23} m_{32}}{m_{11} m_{22} m_{33} - m_{11} m_{23} m_{32} - m_{12} m_{21} m_{33} + m_{12} m_{23} m_{31} + m_{13} m_{21} m_{32} - m_{13} m_{22} m_{31}} & \\frac{- m_{12} m_{33} + m_{13} m_{32}}{m_{11} m_{22} m_{33} - m_{11} m_{23} m_{32} - m_{12} m_{21} m_{33} + m_{12} m_{23} m_{31} + m_{13} m_{21} m_{32} - m_{13} m_{22} m_{31}} & \\frac{m_{12} m_{23} - m_{13} m_{22}}{m_{11} m_{22} m_{33} - m_{11} m_{23} m_{32} - m_{12} m_{21} m_{33} + m_{12} m_{23} m_{31} + m_{13} m_{21} m_{32} - m_{13} m_{22} m_{31}}\\\\\\frac{- m_{21} m_{33} + m_{23} m_{31}}{m_{11} m_{22} m_{33} - m_{11} m_{23} m_{32} - m_{12} m_{21} m_{33} + m_{12} m_{23} m_{31} + m_{13} m_{21} m_{32} - m_{13} m_{22} m_{31}} & \\frac{m_{11} m_{33} - m_{13} m_{31}}{m_{11} m_{22} m_{33} - m_{11} m_{23} m_{32} - m_{12} m_{21} m_{33} + m_{12} m_{23} m_{31} + m_{13} m_{21} m_{32} - m_{13} m_{22} m_{31}} & \\frac{- m_{11} m_{23} + m_{13} m_{21}}{m_{11} m_{22} m_{33} - m_{11} m_{23} m_{32} - m_{12} m_{21} m_{33} + m_{12} m_{23} m_{31} + m_{13} m_{21} m_{32} - m_{13} m_{22} m_{31}}\\\\\\frac{m_{21} m_{32} - m_{22} m_{31}}{m_{11} m_{22} m_{33} - m_{11} m_{23} m_{32} - m_{12} m_{21} m_{33} + m_{12} m_{23} m_{31} + m_{13} m_{21} m_{32} - m_{13} m_{22} m_{31}} & \\frac{- m_{11} m_{32} + m_{12} m_{31}}{m_{11} m_{22} m_{33} - m_{11} m_{23} m_{32} - m_{12} m_{21} m_{33} + m_{12} m_{23} m_{31} + m_{13} m_{21} m_{32} - m_{13} m_{22} m_{31}} & \\frac{m_{11} m_{22} - m_{12} m_{21}}{m_{11} m_{22} m_{33} - m_{11} m_{23} m_{32} - m_{12} m_{21} m_{33} + m_{12} m_{23} m_{31} + m_{13} m_{21} m_{32} - m_{13} m_{22} m_{31}}\\end{matrix}\\right]$"
      ],
      "text/plain": [
       "Matrix([\n",
       "[ (m22*m33 - m23*m32)/(m11*m22*m33 - m11*m23*m32 - m12*m21*m33 + m12*m23*m31 + m13*m21*m32 - m13*m22*m31), (-m12*m33 + m13*m32)/(m11*m22*m33 - m11*m23*m32 - m12*m21*m33 + m12*m23*m31 + m13*m21*m32 - m13*m22*m31),  (m12*m23 - m13*m22)/(m11*m22*m33 - m11*m23*m32 - m12*m21*m33 + m12*m23*m31 + m13*m21*m32 - m13*m22*m31)],\n",
       "[(-m21*m33 + m23*m31)/(m11*m22*m33 - m11*m23*m32 - m12*m21*m33 + m12*m23*m31 + m13*m21*m32 - m13*m22*m31),  (m11*m33 - m13*m31)/(m11*m22*m33 - m11*m23*m32 - m12*m21*m33 + m12*m23*m31 + m13*m21*m32 - m13*m22*m31), (-m11*m23 + m13*m21)/(m11*m22*m33 - m11*m23*m32 - m12*m21*m33 + m12*m23*m31 + m13*m21*m32 - m13*m22*m31)],\n",
       "[ (m21*m32 - m22*m31)/(m11*m22*m33 - m11*m23*m32 - m12*m21*m33 + m12*m23*m31 + m13*m21*m32 - m13*m22*m31), (-m11*m32 + m12*m31)/(m11*m22*m33 - m11*m23*m32 - m12*m21*m33 + m12*m23*m31 + m13*m21*m32 - m13*m22*m31),  (m11*m22 - m12*m21)/(m11*m22*m33 - m11*m23*m32 - m12*m21*m33 + m12*m23*m31 + m13*m21*m32 - m13*m22*m31)]])"
      ]
     },
     "execution_count": 156,
     "metadata": {},
     "output_type": "execute_result"
    }
   ],
   "source": [
    "# craziness\n",
    "M.inv()"
   ]
  },
  {
   "cell_type": "markdown",
   "id": "807b6e4c",
   "metadata": {
    "slideshow": {
     "slide_type": "slide"
    }
   },
   "source": [
    "# Backsolving Example: Gravitational Lensing\n",
    "\n",
    "The science of gravitational lensing is based on the theory of general relativity, in which massive objects curving spacetime around them. \n",
    "\n",
    "When light passes near a massive object, the curved spacetime can change the path of that light, bending it. This phenomenon is referred to as gravitational lensing. \n",
    "\n",
    "<table>\n",
    "    <tr>\n",
    "        <td>\n",
    "            <img width='90%' src=\"./A_Horseshoe_Einstein_Ring_from_Hubble.jpeg\"/> \n",
    "        </td>\n",
    "        <td>\n",
    "            <img width='90%' src=\"./Gravitational_lens-full.jpg\"/>\n",
    "        </td>\n",
    "    </tr>\n",
    "    </table>"
   ]
  },
  {
   "cell_type": "markdown",
   "id": "2386c8b7",
   "metadata": {
    "slideshow": {
     "slide_type": "subslide"
    }
   },
   "source": [
    "The simplest form of gravitational lensing is a point mass, also known as Singular Isothermal Sphere (SIS) model, lensing light from a distant galaxy. \n",
    "\n",
    "In this case, the lens equation can often be represented as the following linear equation:\n",
    "\n",
    "$A\\cdot X=Y$\n",
    "\n",
    "where $X$ and $Y$ matrices representing the source and image positions on the sky, respectively\n",
    "\n",
    "$A$ is a 2x2 matrix that represents the lensing effect, which depends on the mass and distance of the lensing object. \n",
    "\n",
    "$A$ encodes both the rotation and tidal forces of the gravitational lensing. "
   ]
  },
  {
   "cell_type": "markdown",
   "id": "5bd58306",
   "metadata": {
    "slideshow": {
     "slide_type": "subslide"
    }
   },
   "source": [
    "To find the source position given the image position (i.e., the real path of light without the presence of a mass), we need to invert the matrix $A$. \n",
    "\n",
    "That is, if we estimate the size and mass of the source of the gravitational lensing (maybe a black hole is the source!), then we can estimate $A$ and calculate it's inverse $A^{-1}$.\n",
    "\n",
    "By multiplying the inverted matrix with image position $Y$, we find the source position $X$.\n",
    "\n",
    "$\n",
    "X = A^{-1}\\cdot Y\n",
    "$\n",
    "\n",
    "The knowledge of the source position and the mass helps us measure deformation on the image, effectively using a massive object as a natural telescope.\n",
    "\n",
    "This \"simple\" case has many assumptions - for example, light is diverted only slightly by the gravitational field and the sizes of the objects involved are smaller than the distances between them. But it shows that gravitational lensing can be described (and inverted) through matrix algebra."
   ]
  },
  {
   "cell_type": "code",
   "execution_count": 160,
   "id": "43fd266f",
   "metadata": {
    "slideshow": {
     "slide_type": "skip"
    }
   },
   "outputs": [
    {
     "data": {
      "application/vnd.jupyter.widget-view+json": {
       "model_id": "2e5201e4f40a4bc4bfed592bf701ba1d",
       "version_major": 2,
       "version_minor": 0
      },
      "text/plain": [
       "interactive(children=(IntSlider(value=100, description='n', max=400, min=10, step=50), FloatSlider(value=0.2, …"
      ]
     },
     "metadata": {},
     "output_type": "display_data"
    }
   ],
   "source": [
    "# using code from https://github.com/adamdempsey90/gravitational-lensing/tree/master\n",
    "from matplotlib import cm\n",
    "import matplotlib.pyplot as plt\n",
    "# from scipy.misc import imread\n",
    "from ipywidgets import interact,fixed,Checkbox,Text\n",
    "import IPython.display as disp\n",
    "import dm_funcs as dm\n",
    "\n",
    "global x,y,galaxy_properties,gal\n",
    "@interact(n=(10,400,50),sigma=(.01,.5,.01),xcen=(-1,1,.1),ycen=(-1,1,.1),axratio=(.2,4,.1),posangle=(0,180,5))\n",
    "def set_number_of_points(n=100,sigma=0.2,xcen=0,ycen=0,axratio=2.0,posangle=30):\n",
    "    \"\"\"Set up a mock galaxy with the input parameters.\n",
    "        n:              sets the number of points in each direction.\n",
    "        sigma:          sets the 'width' of the galaxy.\n",
    "        xcen & ycen:    set the center of the galaxy.\n",
    "        axratio:        sets the ellipticity of the galaxy.\n",
    "        posangle:       sets the orientation of the galaxy. \"\"\"\n",
    "    \n",
    "    global x,y,galaxy_properties,gal\n",
    "    (x,y) = dm.load_grid(n)\n",
    "    galaxy_properties={'peak':1,'sigma':sigma,'xcen':xcen,'ycen':ycen,'axratio':axratio,'posangle':posangle}\n",
    "    gal = dm.create_galaxy(x,y,**galaxy_properties)\n",
    "    plt.imshow(gal);"
   ]
  },
  {
   "cell_type": "code",
   "execution_count": 161,
   "id": "a1eb2a83",
   "metadata": {
    "slideshow": {
     "slide_type": "subslide"
    }
   },
   "outputs": [],
   "source": [
    "def compute_deflection2(x,y,**kwargs):\n",
    "        \"\"\" Compute the deflection and shear from a singular isothermal ellipsoid potential \"\"\"\n",
    "        mass = kwargs['Mass']\n",
    "        xcen = kwargs['xcen']\n",
    "        ycen = kwargs['ycen']\n",
    "        axratio = np.abs(kwargs['axratio'])\n",
    "        posangle = kwargs['posangle']\n",
    "\n",
    "        tol = .001\n",
    "\n",
    "        if axratio>1:\n",
    "                axratio = 1.0/axratio\n",
    "                posangle += 90\n",
    "        phi = np.deg2rad(posangle)\n",
    "        \n",
    "\n",
    "        def rotate(x,y,phi,clockwise=False):\n",
    "            # rotation matrix \n",
    "            if clockwise:\n",
    "                R = np.array(\n",
    "                    [\n",
    "                        [np.cos(phi),np.sin(phi)],\n",
    "                        [-np.sin(phi),np.cos(phi)]\n",
    "                    ]\n",
    "                )\n",
    "            else:\n",
    "                R = np.array(\n",
    "                    [\n",
    "                        [np.cos(phi),np.sin(phi)],\n",
    "                        [-np.sin(phi),np.cos(phi)]\n",
    "                    ]\n",
    "                )\n",
    "            P = np.stack((x.ravel(),y.ravel()))\n",
    "            P = R@P\n",
    "            x_new = P[0,:].reshape(x.shape)\n",
    "            y_new = P[1,:].reshape(y.shape)\n",
    "            return x_new,y_new\n",
    "            \n",
    "        x_new,y_new = rotate(x-xcen,y-ycen,phi,clockwise=True)\n",
    "\n",
    "        r = np.sqrt(axratio*x_new*x_new + y_new * y_new /axratio)\n",
    "\n",
    "        q = np.sqrt(1./axratio - axratio)\n",
    "        softening = (r == 0).astype(float)\n",
    "        fac_x = x_new/(r + softening)\n",
    "        fac_y = y_new/(r + softening)\n",
    "\n",
    "\n",
    "\n",
    "        if q>=tol:\n",
    "                x_def = (mass/q)*np.arctan(q*fac_x)\n",
    "                y_def = (mass/q)*np.arctanh(q*fac_y)\n",
    "        else:\n",
    "                x_def = mass*fac_x\n",
    "                y_def = mass*fac_y\n",
    "\n",
    "        x_out,y_out = rotate(x_def,y_def,phi,clockwise=False)\n",
    "\n",
    "        return x_out,y_out"
   ]
  },
  {
   "cell_type": "code",
   "execution_count": 163,
   "id": "3c6a2882",
   "metadata": {
    "slideshow": {
     "slide_type": "subslide"
    }
   },
   "outputs": [
    {
     "data": {
      "application/vnd.jupyter.widget-view+json": {
       "model_id": "d3b377ff69b949ea85dcf7e9dc3b265c",
       "version_major": 2,
       "version_minor": 0
      },
      "text/plain": [
       "interactive(children=(FloatSlider(value=0.1, description='DarkMatterSize', max=3.0), FloatSlider(value=0.0, de…"
      ]
     },
     "metadata": {},
     "output_type": "display_data"
    }
   ],
   "source": [
    "@interact(\n",
    "    DarkMatterSize=(0,3,.1), \n",
    "    DarkMatterXCenter=(-1,1,.01),\n",
    "    DarkMatterYCenter=(-1,1,.01),\n",
    "    DarkMatterAxisRatio=(.01,4,.03),\n",
    "    DarkMatterPositionAngle=(0,180,5)\n",
    ")\n",
    "def plot_galaxy(DarkMatterSize=.1,DarkMatterXCenter=0,DarkMatterYCenter=0,DarkMatterAxisRatio=1,DarkMatterPositionAngle=0):\n",
    "        global x,y,galaxy_properties,gal\n",
    "       \n",
    "        plt.close();\n",
    "#         xl,yl = dm.compute_deflection(x,y,Mass=DarkMatterSize,xcen=DarkMatterXCenter, \n",
    "#                                       ycen=DarkMatterYCenter,axratio=DarkMatterAxisRatio,\n",
    "#                                       posangle=DarkMatterPositionAngle)\n",
    "        xl,yl = compute_deflection2(x,y,Mass=DarkMatterSize,xcen=DarkMatterXCenter, \n",
    "                                      ycen=DarkMatterYCenter,axratio=DarkMatterAxisRatio,\n",
    "                                      posangle=DarkMatterPositionAngle)\n",
    "        gal = dm.create_galaxy(x-xl,y-yl,**galaxy_properties)\n",
    " \n",
    "        plt.imshow(gal)\n"
   ]
  },
  {
   "cell_type": "code",
   "execution_count": null,
   "id": "e2ae8b0a",
   "metadata": {},
   "outputs": [],
   "source": []
  }
 ],
 "metadata": {
  "celltoolbar": "Slideshow",
  "kernelspec": {
   "display_name": "Python 3 (ipykernel)",
   "language": "python",
   "name": "python3"
  },
  "language_info": {
   "codemirror_mode": {
    "name": "ipython",
    "version": 3
   },
   "file_extension": ".py",
   "mimetype": "text/x-python",
   "name": "python",
   "nbconvert_exporter": "python",
   "pygments_lexer": "ipython3",
   "version": "3.8.19"
  },
  "varInspector": {
   "cols": {
    "lenName": 16,
    "lenType": 16,
    "lenVar": 40
   },
   "kernels_config": {
    "python": {
     "delete_cmd_postfix": "",
     "delete_cmd_prefix": "del ",
     "library": "var_list.py",
     "varRefreshCmd": "print(var_dic_list())"
    },
    "r": {
     "delete_cmd_postfix": ") ",
     "delete_cmd_prefix": "rm(",
     "library": "var_list.r",
     "varRefreshCmd": "cat(var_dic_list()) "
    }
   },
   "types_to_exclude": [
    "module",
    "function",
    "builtin_function_or_method",
    "instance",
    "_Feature"
   ],
   "window_display": false
  }
 },
 "nbformat": 4,
 "nbformat_minor": 5
}
