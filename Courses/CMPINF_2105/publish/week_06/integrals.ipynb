{
 "cells": [
  {
   "cell_type": "code",
   "execution_count": 1,
   "metadata": {
    "slideshow": {
     "slide_type": "skip"
    }
   },
   "outputs": [],
   "source": [
    "import numpy as np\n",
    "import matplotlib.pyplot as plt\n",
    "%matplotlib inline\n",
    "import ipywidgets as widgets\n",
    "import pandas as pd\n",
    "import sympy"
   ]
  },
  {
   "cell_type": "code",
   "execution_count": 2,
   "metadata": {
    "slideshow": {
     "slide_type": "skip"
    }
   },
   "outputs": [],
   "source": [
    "isnumeric = lambda x: isinstance(x, (int, float, complex)) and not isinstance(x, bool)"
   ]
  },
  {
   "cell_type": "markdown",
   "metadata": {
    "slideshow": {
     "slide_type": "slide"
    }
   },
   "source": [
    "# Intro to Integrals\n",
    "\n",
    "In learning about the Normal Distribution, we used this chart to bound the probability that the population expected value is within certain bounds (i.e., a number of standard errors $\\sigma$) around the expected value of sample expected values based on the number of standard errors.\n",
    "\n",
    "<img src=\"Standard_deviation_diagram.svg.png\" width=\"40%\"/>\n",
    "\n",
    "But how do we know these percentages? And what if we choose bounds that are not integer multiples of $\\sigma$?"
   ]
  },
  {
   "cell_type": "markdown",
   "metadata": {
    "slideshow": {
     "slide_type": "fragment"
    }
   },
   "source": [
    "In the Derivatives module, I mentioned that the answer is ***integrals***!"
   ]
  },
  {
   "cell_type": "markdown",
   "metadata": {
    "slideshow": {
     "slide_type": "subslide"
    }
   },
   "source": [
    "Previously, I used an example of a car's distance travelled over time to explore the relationship between the car's speed (i.e., rate of change) and the ***integral*** of the speed function.\n",
    "\n",
    "If we track a car's speed over time (i.e., a rate of change), then we can calculate how far the car has traveled (i.e., accumulated distance).\n",
    "\n",
    "- the car traveled 5 miles per hour (mph) for 2 hours,\n",
    "- then traveled 10 mph for 1 hour,\n",
    "- and then traveleld 15 mph for 3 hours.\n",
    "\n",
    "This means the car traveled \n",
    "\n",
    "$\n",
    "\\begin{align}\n",
    "\\left(2\\text{ hour}\\right)\\left(5\\frac{\\text{miles}}{\\text{hour}}\\right) &+ \\left(1\\text{ hour}\\right)\\left(10\\frac{\\text{miles}}{\\text{hour}}\\right) + \\left(3\\text{ hour}\\right)\\left(15\\frac{\\text{miles}}{\\text{hour}}\\right) \\\\\n",
    "&= 2\\cdot5\\text{ miles} + 1\\cdot10\\text{ miles} + 3\\cdot15\\text{ miles} \\\\\n",
    "&= 65\\text{ miles}\n",
    "\\end{align}\n",
    "$\n",
    "\n",
    "This calculation is taking an <font color=\"blue\">integral</font> using rates of change to find the accumulated distance traveled."
   ]
  },
  {
   "cell_type": "code",
   "execution_count": 3,
   "metadata": {
    "hideCode": false,
    "hidePrompt": false,
    "slideshow": {
     "slide_type": "subslide"
    }
   },
   "outputs": [
    {
     "data": {
      "application/vnd.jupyter.widget-view+json": {
       "model_id": "62c264375de54d6caab669245740dcae",
       "version_major": 2,
       "version_minor": 0
      },
      "text/plain": [
       "interactive(children=(FloatSlider(value=2.9000000000000004, description='time', max=5.9), Output()), _dom_clas…"
      ]
     },
     "metadata": {},
     "output_type": "display_data"
    }
   ],
   "source": [
    "#hide\n",
    "def exploreCarDerivative(time):\n",
    "    xx = time\n",
    "    x = np.arange(7)\n",
    "    y = np.array([5,5,5,10,15,15,15])\n",
    "    cy = np.cumsum(y)\n",
    "#     plt.figure(figsize=(8,6))\n",
    "    plt.plot(x,cy,'k-',linewidth=3)\n",
    "    yy = plt.ylim()\n",
    "#     plt.plot([2,2],yy,'b--')\n",
    "#     plt.plot([3,3],yy,'b--')\n",
    "    plt.ylim(yy)\n",
    "    plt.xticks(fontsize=15)\n",
    "    plt.yticks(fontsize=15)\n",
    "    plt.xlabel(\"Hours\",fontsize=15)\n",
    "    plt.ylabel(\"Distance Travelled (miles)\",fontsize=15);\n",
    "    for i in range(len(x)-1):\n",
    "        if xx >= x[i] and xx < x[i+1]:\n",
    "            f = (xx-x[i])/(x[i+1]-x[i])\n",
    "            yy = cy[i]+(cy[i+1]-cy[i])*f\n",
    "            s = y[i+1]\n",
    "            break\n",
    "    plt.plot(xx,yy,'ro',markersize=15)\n",
    "    plt.text(xx,yy,\"%d mph\" % s,va=\"bottom\",ha=\"right\",fontsize=15)\n",
    "    plt.title(\"Rate of change from distance travelled\",fontsize=15);\n",
    "    plt.tight_layout()\n",
    "    \n",
    "def exploreCarIntegral(time,):\n",
    "    x = [0,2,2,3,3,6]\n",
    "    y = [5,5,10,10,15,15]\n",
    "    x = np.array(x)\n",
    "    y = np.array(y)\n",
    "    A = 0.0\n",
    "    for i in range(len(x)-1):\n",
    "        if time >= x[i] and time < x[i+1]:\n",
    "            f = (x[i+1]-time)/(x[i+1]-x[i])\n",
    "            s = y[i]\n",
    "            I = i\n",
    "            A += (time-x[i])*y[i]\n",
    "            break\n",
    "        else:\n",
    "            A += (x[i+1]-x[i])*y[i]\n",
    "#     plt.figure(figsize=(8,6))\n",
    "    plt.plot(x,y,'k-',linewidth=3)\n",
    "    plt.fill_between(x[:I],y[:I],color='blue',alpha=.5,linewidth=0)\n",
    "    plt.fill_between([x[I],time],[s,s],color='blue',alpha=.5,linewidth=0)\n",
    "    plt.plot(time,s,'ro',markersize=15)\n",
    "    plt.text(time,s,\"%d mph\" % s,va=\"bottom\",ha=\"right\",fontsize=15)\n",
    "    plt.ylim((0,16))\n",
    "    plt.xticks(fontsize=15)\n",
    "    plt.yticks(fontsize=15)\n",
    "    plt.xlabel(\"Hours\",fontsize=15)\n",
    "    plt.ylabel(\"Speed (mph)\",fontsize=15)\n",
    "    plt.title(\"Distance travelled from rate of change: %0.2f miles\" % A,fontsize=15);\n",
    "    plt.tight_layout()\n",
    "    \n",
    "    \n",
    "def plotCarDerivInt(time):\n",
    "    plt.figure(figsize=(12,6))\n",
    "    plt.subplot(1,2,1)\n",
    "    exploreCarDerivative(time)\n",
    "    plt.subplot(1,2,2)\n",
    "    exploreCarIntegral(time)\n",
    "\n",
    "widgets.interact(plotCarDerivInt,time=(0,5.9,.1));"
   ]
  },
  {
   "cell_type": "markdown",
   "metadata": {
    "slideshow": {
     "slide_type": "subslide"
    }
   },
   "source": [
    "The car's (unrealistic) instantaneous change in speed makes it easy to calculate the integral because the area under the curve of the speed-over-time function can easily be broken up into rectangles.\n",
    "\n",
    "But what about more complicated speed-over-time functions?"
   ]
  },
  {
   "cell_type": "code",
   "execution_count": 4,
   "metadata": {
    "hideCode": false,
    "hidePrompt": false,
    "slideshow": {
     "slide_type": "fragment"
    }
   },
   "outputs": [
    {
     "data": {
      "application/vnd.jupyter.widget-view+json": {
       "model_id": "146d6a46148240ce85dd1b699a14548a",
       "version_major": 2,
       "version_minor": 0
      },
      "text/plain": [
       "HBox(children=(VBox(children=(FloatSlider(value=0.0, description='Time:', max=6.0), Checkbox(value=False, desc…"
      ]
     },
     "execution_count": 4,
     "metadata": {},
     "output_type": "execute_result"
    }
   ],
   "source": [
    "#hide \n",
    "def trapSpeed(time):\n",
    "    if isnumeric(time):\n",
    "        if time < 3:\n",
    "            return 5\n",
    "        else:\n",
    "            return 5+(time-3)*2\n",
    "    else:\n",
    "        speeds = 5*np.ones(len(time))\n",
    "        I = time >= 3\n",
    "        speeds[I] += 2*(time[I]-3)\n",
    "        return speeds\n",
    "\n",
    "def plotSpeed(F,time):\n",
    "    times = np.linspace(0,6)\n",
    "    speed = F(times)\n",
    "    plt.figure(figsize=(8,6))\n",
    "    plt.plot(times,speed,'k-',linewidth=3)\n",
    "    times2 = np.linspace(0,time,)\n",
    "    plt.fill_between(times2,0,F(times2),color='b',alpha=.4)\n",
    "    plt.plot(time,F(time),'ro',markersize=15)\n",
    "    plt.xticks(fontsize=15)\n",
    "    plt.yticks(fontsize=15)\n",
    "    plt.xlabel(\"Time (hours)\",fontsize=15)\n",
    "    plt.ylabel(\"Speed (mph)\",fontsize=15)\n",
    "    plt.ylim((0,plt.ylim()[1]))\n",
    "    plt.tight_layout()\n",
    "    \n",
    "    \n",
    "def trapDemo(time,showTriangle=False):\n",
    "    plotSpeed(trapSpeed,time)\n",
    "    if showTriangle:\n",
    "        plt.plot([3,3],[0,5],'k--',linewidth=3)\n",
    "        plt.plot([3,6],[5,5],'k--',linewidth=3)\n",
    "        plt.plot([6,6],[0,trapSpeed(6)],'k--',linewidth=3)\n",
    "\n",
    "# widgets.interact(plotSpeed,time=(0,6,.1),showTriangle=False);\n",
    "timeSlider = widgets.FloatSlider(min=0, max=6, step=0.1, value=0, description=\"Time:\")\n",
    "showTriangleCheckBox = widgets.Checkbox(value=False,description=\"Show Geometry\")\n",
    "widgets.HBox(\n",
    "    [\n",
    "        widgets.VBox([timeSlider,showTriangleCheckBox]),\n",
    "            widgets.interactive_output(\n",
    "                trapDemo,\n",
    "                {\n",
    "                    'time': timeSlider,\n",
    "                    'showTriangle':showTriangleCheckBox,\n",
    "                })\n",
    "    ]\n",
    ")"
   ]
  },
  {
   "cell_type": "markdown",
   "metadata": {
    "slideshow": {
     "slide_type": "fragment"
    }
   },
   "source": [
    "Here, we can again find the area under the curve geometrically by adding areas of rectangles to areas of triangles."
   ]
  },
  {
   "cell_type": "markdown",
   "metadata": {
    "slideshow": {
     "slide_type": "subslide"
    }
   },
   "source": [
    "However, functions are not always so simple!\n",
    "\n",
    "How do we find the area under this curvy function?"
   ]
  },
  {
   "cell_type": "code",
   "execution_count": 5,
   "metadata": {
    "hideCode": false,
    "hidePrompt": false,
    "slideshow": {
     "slide_type": "fragment"
    }
   },
   "outputs": [
    {
     "data": {
      "application/vnd.jupyter.widget-view+json": {
       "model_id": "82780e349a2d44bebe73e01813199c30",
       "version_major": 2,
       "version_minor": 0
      },
      "text/plain": [
       "HBox(children=(VBox(children=(FloatSlider(value=0.0, description='Time:', max=6.0),)), Output()))"
      ]
     },
     "execution_count": 5,
     "metadata": {},
     "output_type": "execute_result"
    }
   ],
   "source": [
    "# hide\n",
    "def curvySpeed(time):\n",
    "    return (time-0)*(time-3)*(time-5)+5\n",
    "def curvyDemo(time):\n",
    "    plotSpeed(curvySpeed,time)\n",
    "    \n",
    "timeSlider = widgets.FloatSlider(min=0, max=6, step=0.1, value=0, description=\"Time:\")\n",
    "# showTriangleCheckBox = widgets.Checkbox(value=False,description=\"Show Geometry\")\n",
    "widgets.HBox(\n",
    "    [\n",
    "        widgets.VBox([timeSlider,]),\n",
    "            widgets.interactive_output(\n",
    "                curvyDemo,\n",
    "                {\n",
    "                    'time': timeSlider,\n",
    "#                     'showTriangle':showTriangleCheckBox,\n",
    "                })\n",
    "    ]\n",
    ")"
   ]
  },
  {
   "cell_type": "markdown",
   "metadata": {
    "slideshow": {
     "slide_type": "fragment"
    }
   },
   "source": [
    "In this module, we will explore how to find integrals and areas under a function no matter how curvy. "
   ]
  },
  {
   "cell_type": "markdown",
   "metadata": {
    "slideshow": {
     "slide_type": "slide"
    }
   },
   "source": [
    "# Approximating the Area Under the Curve\n",
    "\n",
    "In general, how do we calculate the area under a function $f(x)$?\n",
    "\n",
    "We looked an example where we could quickly divide the space into rectangles and sum the areas of those rectangles."
   ]
  },
  {
   "cell_type": "code",
   "execution_count": 6,
   "metadata": {
    "hideCode": false,
    "hidePrompt": false,
    "slideshow": {
     "slide_type": "fragment"
    }
   },
   "outputs": [
    {
     "data": {
      "application/vnd.jupyter.widget-view+json": {
       "model_id": "eea5cb68775d4a1bbe3c31cddf50ae5f",
       "version_major": 2,
       "version_minor": 0
      },
      "text/plain": [
       "interactive(children=(FloatSlider(value=2.9000000000000004, description='time', max=5.9), Output()), _dom_clas…"
      ]
     },
     "metadata": {},
     "output_type": "display_data"
    }
   ],
   "source": [
    "#hide\n",
    "widgets.interact(plotCarDerivInt,time=(0,5.9,.1));"
   ]
  },
  {
   "cell_type": "markdown",
   "metadata": {
    "slideshow": {
     "slide_type": "fragment"
    }
   },
   "source": [
    "It may not be possible to divide the area under $f(x)$ into rectangles so obviously.\n",
    "\n",
    "But the actual solution is not too different!"
   ]
  },
  {
   "cell_type": "markdown",
   "metadata": {
    "slideshow": {
     "slide_type": "subslide"
    }
   },
   "source": [
    "We will ***partition*** the domain of $f(x)$ into equally spaced bins (i.e., all bins have the same width).\n",
    "\n",
    "A partition $P$ breaks up the domain (i.e., possible inputs to $f(x)$) into smaller ***sub-intervals*** that cover the complete domain without overlapping.\n",
    "\n",
    "For example, let's say we are interested in the area under $f(x)$ on the domain $x\\in(0,10)$.\n",
    "\n",
    "Here are some ways to partition $(0,10)$ into equal-width sub-intervals."
   ]
  },
  {
   "cell_type": "code",
   "execution_count": 7,
   "metadata": {
    "hideCode": false,
    "hidePrompt": false,
    "slideshow": {
     "slide_type": "fragment"
    }
   },
   "outputs": [
    {
     "data": {
      "application/vnd.jupyter.widget-view+json": {
       "model_id": "3b93f1fd2c864085b992dfb32295947b",
       "version_major": 2,
       "version_minor": 0
      },
      "text/plain": [
       "interactive(children=(IntSlider(value=1, description='n_bins', max=50, min=1), Output()), _dom_classes=('widge…"
      ]
     },
     "execution_count": 7,
     "metadata": {},
     "output_type": "execute_result"
    }
   ],
   "source": [
    "#hide\n",
    "def plot_number_line(n_bins):\n",
    "    \"\"\"\n",
    "    Plots the real number line from 0 to 10 and partitions it into n_bins equal width bins.\n",
    "\n",
    "    Args:\n",
    "    n_bins: int - Number of equal width bins to partition the number line.\n",
    "    \"\"\"\n",
    "    # Generate the bin edges\n",
    "    bin_edges = np.linspace(0, 10, n_bins + 1)\n",
    "    \n",
    "    # Create the plot\n",
    "    plt.figure(figsize=(10,1))\n",
    "    plt.plot([0, 10], [0, 0], 'k-', lw=2)  # Draw the number line\n",
    "    \n",
    "    # Draw the bins\n",
    "    for edge in bin_edges:\n",
    "        plt.plot([edge, edge], [-0.1, 0.1], 'r-', lw=2)  # Draw bin edges\n",
    "\n",
    "    plt.xlim((-1, 11))\n",
    "    plt.ylim((-.2, .2))\n",
    "    plt.yticks([])\n",
    "    plt.xticks(fontsize=15)\n",
    "    plt.xlabel(\"x\",fontsize=15)\n",
    "#     ax.axis('off')  # Turn off the axis\n",
    "#     plt.show()\n",
    "\n",
    "widgets.interactive(plot_number_line, n_bins=widgets.IntSlider(min=1, max=50, step=1, value=1))"
   ]
  },
  {
   "cell_type": "markdown",
   "metadata": {
    "slideshow": {
     "slide_type": "subslide"
    }
   },
   "source": [
    "Recall that we specified that each sub-interval in $P$ has the same width. \n",
    "\n",
    "Therefore, if sub-intervals $(a,b),\\,(c,d)\\in P$, then $\\hspace{.5cm}b-a = d-c$.\n",
    "\n",
    "So let's just represent the widths with a constant representing a <font color=\"red\">\"change in $x$\"</font>: $\\hspace{.5cm}b-a=d-c=\\,\\color{red}{dx}$\n",
    "\n",
    "Uncoincidentally, $\\color{red}{dx}$ here represents the same thing as in the derivative notation: \n",
    "$\n",
    "\\hspace{.5cm}\n",
    "\\displaystyle\n",
    "\\frac{d\\,f(x)}{\\color{red}{dx}}\n",
    "$"
   ]
  },
  {
   "cell_type": "markdown",
   "metadata": {
    "slideshow": {
     "slide_type": "subslide"
    }
   },
   "source": [
    "## Riemann Summations\n",
    "Using partition $P$ of some domain of $f(x)$, we break up the area under $f(x)$ into little rectangles by evaluating $f$ at either the left or right endpoints of each sub-interval within $P$.\n",
    "\n",
    "If $(a,b)$ is a sub-interval in $P$, then we calculate $\\hspace{.5cm}f(a)\\cdot (b-a)\\hspace{.5cm}$ or $\\hspace{.5cm}f(b)\\cdot(b-a)\\hspace{.5cm}$\n",
    "\n",
    "If evaluating from the left:\n",
    "$\n",
    "\\hspace{.5cm}\n",
    "\\displaystyle\n",
    "\\begin{align}\n",
    "&\\\\\n",
    "\\sum_{(a,b)\\in P}f(a)\\cdot (b-a)  &= \\sum_{(a,b)\\in P}f(a)\\,dx\n",
    "\\\\\\\\\n",
    "\\end{align}\n",
    "$\n",
    "<br/>\n",
    "\n",
    "or, if evaluating from the right:\n",
    "$\n",
    "\\hspace{.5cm}\n",
    "\\displaystyle\n",
    "\\begin{align}\n",
    "\\sum_{(a,b)\\in P}f(b)\\cdot (b-a)  = \\sum_{(a,b)\\in P}f(b)\\,dx\n",
    "\\end{align}\n",
    "$\n",
    "\n",
    "Note that $f(a)<0$ implies that a negative area is added to the sum."
   ]
  },
  {
   "cell_type": "code",
   "execution_count": 8,
   "metadata": {
    "hideCode": false,
    "hidePrompt": false,
    "slideshow": {
     "slide_type": "skip"
    }
   },
   "outputs": [],
   "source": [
    "from ipywidgets import interact, FloatSlider,Checkbox\n",
    "\n",
    "def getRiemann(f, width,domain,left=True):\n",
    "    x = np.arange(np.min(domain), np.max(domain), width)\n",
    "    if left:\n",
    "        y = f(x)\n",
    "    else:\n",
    "        y = f(x+width)\n",
    "    S = width*np.sum(y)\n",
    "    return x,y,S\n",
    "\n",
    "def plotRiemann(f,width,domain,left=True):\n",
    "    x,y,S = getRiemann(f,width,domain,left)\n",
    "    plt.bar(x, y, width=width, edgecolor='black', alpha=0.5, label='Riemann Rectangles',align=\"edge\")\n",
    "    return x,y,S\n",
    "    \n",
    "    \n",
    "def plotRiemannExample(f,width,domain,left=True,ylim=None,highlightSubInterval=False,subIntervalId=1,):\n",
    "    y = f(domain)\n",
    "    plt.plot(domain, y, 'k', label='f(x)')\n",
    "    \n",
    "    P,Py,S = plotRiemann(f,width,domain,left)\n",
    "    plt.xlabel('x',fontsize=15)\n",
    "    plt.ylabel('f(x)',fontsize=15)\n",
    "    plt.title('Riemann Sum Approximation: %0.2f' % S, fontsize=15)\n",
    "    plt.legend(fontsize=15,frameon=False)\n",
    "    \n",
    "    if highlightSubInterval and subIntervalId < len(P):\n",
    "        p = P[subIntervalId]\n",
    "        py = Py[subIntervalId]\n",
    "        lw = 3\n",
    "        plt.plot([p,p+width],[0,0],'r-',linewidth=lw)\n",
    "        plt.plot([p,p],[0,py],'r-',linewidth=lw)\n",
    "        plt.plot([p+width,p+width],[0,py],'r-',linewidth=lw)\n",
    "        plt.plot([p,p+width],[py,py],'r-',linewidth=lw)\n",
    "        X = .01*(domain[-1]-domain[0])\n",
    "        Y = .05*(np.max(y)-np.min(y))\n",
    "        plt.text(p+width/2,\n",
    "                 -Y if py > 0 else Y,\n",
    "                 \"(a,b)\",\n",
    "                 ha=\"center\",\n",
    "                 va=\"top\" if py > 0 else \"bottom\",\n",
    "                 fontsize=20,color='r',\n",
    "                )\n",
    "        plt.text(\n",
    "            p-X if left else p+width+X,\n",
    "            py/2,\n",
    "            \"f(a)\" if left else \"f(b)\",\n",
    "            ha=\"right\" if left else \"left\",\n",
    "            va=\"center\",\n",
    "            fontsize=20,color='r',\n",
    "        )\n",
    "    \n",
    "    if ylim is None:\n",
    "        plt.ylim((0,np.max(y)))\n",
    "    else:\n",
    "        plt.ylim(ylim)\n",
    "    return P,Py,S\n",
    "    \n",
    "    \n",
    "def sineRiemann(width,domain,left=True,highlightSubInterval=False,subIntervalId=1,):\n",
    "    plt.figure(figsize=(10,5))\n",
    "    P,Py,S = plotRiemannExample(np.sin,width,domain,left,\n",
    "                                ylim=(-1.05,1.05),\n",
    "                                highlightSubInterval=highlightSubInterval,\n",
    "                                subIntervalId=subIntervalId,\n",
    "                               )\n",
    "    plt.xlim((domain[0],domain[-1]))"
   ]
  },
  {
   "cell_type": "markdown",
   "metadata": {
    "slideshow": {
     "slide_type": "subslide"
    }
   },
   "source": [
    "For example, consider the Riemann sum of $\\hspace{.5cm}f(x)=\\sin(x)$ "
   ]
  },
  {
   "cell_type": "code",
   "execution_count": 9,
   "metadata": {
    "hideCode": false,
    "hidePrompt": false,
    "scrolled": false,
    "slideshow": {
     "slide_type": "fragment"
    }
   },
   "outputs": [
    {
     "data": {
      "application/vnd.jupyter.widget-view+json": {
       "model_id": "370a048a86a84c098365ba2fae430c98",
       "version_major": 2,
       "version_minor": 0
      },
      "text/plain": [
       "HBox(children=(VBox(children=(FloatSlider(value=2.0, description='width:', max=2.0, min=0.05, step=0.05), Chec…"
      ]
     },
     "execution_count": 9,
     "metadata": {},
     "output_type": "execute_result"
    }
   ],
   "source": [
    "#hide \n",
    "sineWidthSlider = FloatSlider(min=0.05, max=2.0, step=0.05, value=2,description=\"width:\")\n",
    "sineLR = Checkbox(value=True,description=\"Evaluate Left?\")\n",
    "sineSubIntervalCheckBox = Checkbox(value=False,description=\"Show Sub-Interval:\")\n",
    "sineSubIntervalSlider = widgets.IntSlider(min=0,max=100,step=1,value=1,description=\"Select Sub-Interval:\")\n",
    "widgets.HBox(\n",
    "    [\n",
    "        widgets.VBox([sineWidthSlider,sineLR,sineSubIntervalCheckBox,sineSubIntervalSlider,]),\n",
    "            widgets.interactive_output(\n",
    "                sineRiemann,\n",
    "                {\n",
    "                    'width': sineWidthSlider,\n",
    "                    'domain':widgets.fixed(np.linspace(0,10,100)),\n",
    "                    'left':sineLR,\n",
    "                    'highlightSubInterval':sineSubIntervalCheckBox,\n",
    "                    'subIntervalId':sineSubIntervalSlider,\n",
    "                })\n",
    "    ]\n",
    ")"
   ]
  },
  {
   "cell_type": "markdown",
   "metadata": {
    "slideshow": {
     "slide_type": "subslide"
    }
   },
   "source": [
    "Let's return to our curvy polynomial."
   ]
  },
  {
   "cell_type": "code",
   "execution_count": 10,
   "metadata": {
    "hideCode": false,
    "hidePrompt": false,
    "slideshow": {
     "slide_type": "fragment"
    }
   },
   "outputs": [
    {
     "data": {
      "application/vnd.jupyter.widget-view+json": {
       "model_id": "15375b78ff5e433b8dba572af4eeb7b1",
       "version_major": 2,
       "version_minor": 0
      },
      "text/plain": [
       "HBox(children=(VBox(children=(FloatSlider(value=0.0, description='Time:', max=6.0),)), Output()))"
      ]
     },
     "execution_count": 10,
     "metadata": {},
     "output_type": "execute_result"
    }
   ],
   "source": [
    "timeSlider = widgets.FloatSlider(min=0, max=6, step=0.1, value=0, description=\"Time:\")\n",
    "# showTriangleCheckBox = widgets.Checkbox(value=False,description=\"Show Geometry\")\n",
    "widgets.HBox(\n",
    "    [\n",
    "        widgets.VBox([timeSlider,]),\n",
    "            widgets.interactive_output(\n",
    "                curvyDemo,\n",
    "                {\n",
    "                    'time': timeSlider,\n",
    "#                     'showTriangle':showTriangleCheckBox,\n",
    "                })\n",
    "    ]\n",
    ")"
   ]
  },
  {
   "cell_type": "markdown",
   "metadata": {
    "slideshow": {
     "slide_type": "subslide"
    }
   },
   "source": [
    "What happens if we use the Riemann summation approach and evalute from the left or the right?"
   ]
  },
  {
   "cell_type": "code",
   "execution_count": 11,
   "metadata": {
    "hideCode": false,
    "hidePrompt": false,
    "slideshow": {
     "slide_type": "fragment"
    }
   },
   "outputs": [
    {
     "data": {
      "application/vnd.jupyter.widget-view+json": {
       "model_id": "4c7643eb4b45406face89abc037ee33e",
       "version_major": 2,
       "version_minor": 0
      },
      "text/plain": [
       "HBox(children=(VBox(children=(FloatSlider(value=2.0, description='width:', max=2.0, min=0.1), Checkbox(value=T…"
      ]
     },
     "execution_count": 11,
     "metadata": {},
     "output_type": "execute_result"
    }
   ],
   "source": [
    "# hide\n",
    "def curvyRiemann(*args,**kwargs):\n",
    "    plt.figure(figsize=(10,5))\n",
    "    plotRiemannExample(*args,**kwargs)\n",
    "    plt.xlim((0,6))\n",
    "\n",
    "widthSlider=FloatSlider(min=0.1, max=2.0, step=0.1, value=2,description=\"width:\")\n",
    "leftCheckBox=Checkbox(value=True,description=\"Evaluate Left?\")\n",
    "widgets.HBox(\n",
    "    [\n",
    "        widgets.VBox([widthSlider,leftCheckBox,]),\n",
    "            widgets.interactive_output(\n",
    "#                 plotRiemannExample,\n",
    "                curvyRiemann,\n",
    "                {\n",
    "                    'f':widgets.fixed(curvySpeed),\n",
    "                    'width': widthSlider,\n",
    "                    'domain':widgets.fixed(np.linspace(0,6,100)),\n",
    "                    'left':leftCheckBox,\n",
    "                    'ylim':widgets.fixed(None),\n",
    "                })\n",
    "    ]\n",
    ")"
   ]
  },
  {
   "cell_type": "code",
   "execution_count": 12,
   "metadata": {
    "hideCode": false,
    "hidePrompt": false,
    "slideshow": {
     "slide_type": "fragment"
    }
   },
   "outputs": [
    {
     "data": {
      "application/vnd.jupyter.widget-view+json": {
       "model_id": "6c3b0a8336634626a8e0cd1e17108fa5",
       "version_major": 2,
       "version_minor": 0
      },
      "text/plain": [
       "HBox(children=(VBox(children=(FloatSlider(value=2.0, description='width:', max=2.0, min=0.05, step=0.05),)), O…"
      ]
     },
     "execution_count": 12,
     "metadata": {},
     "output_type": "execute_result"
    }
   ],
   "source": [
    "# hide\n",
    "def leftAndRight(f,width,domain):\n",
    "    plt.figure(figsize=(10,5))\n",
    "    y = f(domain)\n",
    "    plt.plot(domain, y, 'r', label='f(x)')\n",
    "    _,_,S_left = plotRiemann(f,width,domain,left=True)\n",
    "    _,_,S_right = plotRiemann(f,width,domain,left=False)\n",
    "    plt.xlabel('x',fontsize=15)\n",
    "    plt.ylabel('f(x)',fontsize=15)\n",
    "    plt.title('Riemann Sum Evaluating Left (blue): %0.2f, or Right (orange): %0.2f' % (S_left,S_right), fontsize=15)\n",
    "#     plt.legend(fontsize=15,frameon=False)\n",
    "    plt.xlim((domain[0],domain[-1]))\n",
    "    plt.ylim((0,np.max(y)))\n",
    "\n",
    "widthSliderLR = FloatSlider(min=0.05, max=2.0, step=0.05, value=2,description=\"width:\")\n",
    "widgets.HBox(\n",
    "    [\n",
    "        widgets.VBox([widthSliderLR,]),\n",
    "            widgets.interactive_output(\n",
    "                leftAndRight,\n",
    "                {\n",
    "                    'f':widgets.fixed(curvySpeed),\n",
    "                    'width': widthSliderLR,\n",
    "                    'domain':widgets.fixed(np.linspace(0,6,100)),\n",
    "                })\n",
    "    ]\n",
    ")"
   ]
  },
  {
   "cell_type": "markdown",
   "metadata": {
    "slideshow": {
     "slide_type": "subslide"
    }
   },
   "source": [
    "Does it matter if we evaluate on the left or the right of each sub-interval?\n",
    "\n",
    "If functions are ***continuous***, then the two approaches will converge on the same value as $dx\\rightarrow0$.\n",
    "\n",
    "And we will say that the integral of $f(x)$ on the partitioned interval is equal to the area converged to by both the left and the right.\n",
    "\n",
    "If these two evaluation approaches do not converge, then we say the integral does not exist. But this situation is rare.\n",
    "\n",
    "Proving these statements to be true is extremely involved! So we will skip it. Integrability is typically covered in a Real Analysis course as part of an upper-level mathematics curriculum."
   ]
  },
  {
   "cell_type": "markdown",
   "metadata": {
    "slideshow": {
     "slide_type": "slide"
    }
   },
   "source": [
    "# Relating Integrals to Derivatives\n",
    "\n",
    "In the example using a car's speed over time to calculate its distance travelled over time, the relationship between the <font color=\"red\">integral (distance)</font> and the <font color=\"blue\">derivative (speed)</font> can be understood from the units of measure.\n",
    "\n",
    "If $f(t)$ is the car's <font color=\"blue\">speed in miles per hour</font> at time $t$ and $(a,b)$ is an interval of time in hours, then the Riemann sum of the <font color=\"blue\">speed function</font> will have units in miles thus telling us about the <font color=\"red\">distance</font> travelled:\n",
    "\n",
    "Each term in the Riemann sum will look like:\n",
    "\n",
    "$\n",
    "f(a)\\cdot(b-a)=\\left(f(a)\\hspace{.1cm}\\frac{\\text{miles}}{\\text{hour}}\\right)\\cdot \\left(dt\\hspace{.1cm}\\text{hour}\\right)\n",
    "=f(a)\\,dt\\hspace{.1cm}\\text{miles}\n",
    "\\hspace{.5cm}\n",
    "$ where the \"hour\" in the units cancel."
   ]
  },
  {
   "cell_type": "code",
   "execution_count": 13,
   "metadata": {
    "hideCode": false,
    "hidePrompt": false,
    "slideshow": {
     "slide_type": "fragment"
    }
   },
   "outputs": [
    {
     "data": {
      "application/vnd.jupyter.widget-view+json": {
       "model_id": "6d78ce86864b4063bf5a5204784945fd",
       "version_major": 2,
       "version_minor": 0
      },
      "text/plain": [
       "interactive(children=(FloatSlider(value=2.9000000000000004, description='time', max=5.9), Output()), _dom_clas…"
      ]
     },
     "metadata": {},
     "output_type": "display_data"
    }
   ],
   "source": [
    "widgets.interact(plotCarDerivInt,time=(0,5.9,.1));"
   ]
  },
  {
   "cell_type": "markdown",
   "metadata": {
    "slideshow": {
     "slide_type": "subslide"
    }
   },
   "source": [
    "More generally, consider a continuous function $f(x)$ on the domain $[a,b]$ with partition $P_{[a,b]}$\n",
    "\n",
    "\n",
    "Using Riemann sums, we approximate the area under $f(x)$ using \n",
    "$\n",
    "\\hspace{.5cm}\n",
    "\\displaystyle\n",
    "\\sum_{(c,d)\\in P}f(c)\\cdot (d-c)  = \\sum_{(c,d)\\in P_{[a,b]}}f(c)\\,dx\n",
    "\\hspace{.5cm}\n",
    "$\n",
    "as $dx$ gets smaller and smaller.\n",
    "\n",
    "If $f(x)$ is continuous almost everywhere, then this sum converges as $dx$ decreases.\n",
    "\n",
    "We denote the <font color=\"blue\">***integral***</font> of $f(x)$ on the domain $(a,b)$ as \n",
    "$\n",
    "\\displaystyle\n",
    "\\color{blue}{\n",
    "\\int_a^b f(x)\\,dx = \\lim_{dx\\rightarrow0}\\sum_{(c,d)\\in P_{a,b]}}f(c)\\,dx\n",
    "}\n",
    "$\n",
    "\n",
    "The integral symbol $\\displaystyle\\int$ is a script \"S\" for \"sum\".\n",
    "\n",
    "The limit in this equation requires increasingly refined partitions of the domain (i.e., $P$ changes as $dx$ gets smaller) rather than $dx$ decreasing directly."
   ]
  },
  {
   "cell_type": "code",
   "execution_count": 14,
   "metadata": {
    "hideCode": false,
    "hidePrompt": false,
    "slideshow": {
     "slide_type": "fragment"
    }
   },
   "outputs": [
    {
     "data": {
      "application/vnd.jupyter.widget-view+json": {
       "model_id": "bc829e75da9a4b19abc62194ed4df160",
       "version_major": 2,
       "version_minor": 0
      },
      "text/plain": [
       "HBox(children=(VBox(children=(FloatSlider(value=2.0, description='width:', max=2.0, min=0.05, step=0.05),)), O…"
      ]
     },
     "execution_count": 14,
     "metadata": {},
     "output_type": "execute_result"
    }
   ],
   "source": [
    "#hide\n",
    "widthSliderLR = FloatSlider(min=0.05, max=2.0, step=0.05, value=2,description=\"width:\")\n",
    "widgets.HBox(\n",
    "    [\n",
    "        widgets.VBox([widthSliderLR,]),\n",
    "            widgets.interactive_output(\n",
    "                leftAndRight,\n",
    "                {\n",
    "                    'f':widgets.fixed(curvySpeed),\n",
    "                    'width': widthSliderLR,\n",
    "                    'domain':widgets.fixed(np.linspace(0,6,100)),\n",
    "                })\n",
    "    ]\n",
    ")"
   ]
  },
  {
   "cell_type": "markdown",
   "metadata": {
    "slideshow": {
     "slide_type": "subslide"
    }
   },
   "source": [
    "In the integral equation\n",
    "$\n",
    "\\hspace{.5cm}\n",
    "\\displaystyle\n",
    "\\int_a^b f(x)\\,\\color{red}{dx}= \\lim_{\\color{red}{dx}\\rightarrow0}\\sum_{(c,d)\\in P_{[a,b]}}f(c)\\,\\color{red}{dx}\n",
    "$\n",
    "\n",
    "and in the derivative equation\n",
    "$\n",
    "\\hspace{.5cm}\n",
    "\\displaystyle\n",
    "F'(x) = \\lim_{\\color{blue}{h}\\rightarrow0}\\frac{F(x+h)-F(x)}{\\color{blue}{h}}\n",
    "$\n",
    "\n",
    "the $\\color{red}{dx}$ and $\\color{blue}{h}$ are both being pushed towards zero. \n",
    "\n",
    "We are <u>dividing</u> by $\\color{blue}{h}$ in the derviative equation and <u>multiplying</u> by $\\color{red}{dx}$ in the integral equation.\n",
    "\n",
    "$\\color{blue}{h}$ and $\\color{red}{dx}$ are actually analogous to each other and, in a way, represent the same quantity."
   ]
  },
  {
   "cell_type": "markdown",
   "metadata": {
    "slideshow": {
     "slide_type": "subslide"
    }
   },
   "source": [
    "Now imagine that $f(x)$ is the derivative function of some other function.\n",
    "\n",
    "For example, maybe $f(x)$ is speed and we want to find the distance function.\n",
    "\n",
    "Riemann sums allow us to approximate the distance over time.\n",
    "\n",
    "But, as the partitions get infinitely refined, can we use Riemann sums to relate $f(x)$ to its ***antiderivative $F(x)$***?\n",
    "\n",
    "Answering this question requires 3 steps."
   ]
  },
  {
   "cell_type": "markdown",
   "metadata": {
    "slideshow": {
     "slide_type": "subslide"
    }
   },
   "source": [
    "## Step 1: Additive property of integrals\n",
    "\n",
    "Recall the Riemann sum of the continuous function $f(x)$ on the domain $[a,b]$ gives the integral\n",
    "$\n",
    "\\hspace{.5cm}\n",
    "\\displaystyle\n",
    "\\int_a^b f(x)\\,dx = \\lim_{dx\\rightarrow0}\\sum_{(c,d)\\in P_{[a,b]}}f(c)\\,dx\n",
    "\\hspace{.5cm}\n",
    "$\n",
    "\n",
    "For any point $b^*\\in[a,b]$, we can break up the integral into two parts over the intervals $[a,b^*]$ and $[b^*,b]$ such that\n",
    "$\n",
    "\\hspace{.5cm}\n",
    "\\displaystyle\n",
    "\\color{red}{\\int_a^b f(x)\\,dx}=\\color{blue}{\\int_a^{b^*} f(x)\\,dx}+\\color{orange}{\\int_{b^*}^b f(x)\\,dx}\n",
    "\\hspace{.5cm}\n",
    "$\n",
    "\n",
    "because \n",
    "\n",
    "$\n",
    "\\hspace{.5cm}\n",
    "\\displaystyle\n",
    "\\color{red}{\\lim_{dx\\rightarrow0}\\sum_{(c,d)\\in P_{[a,b]}}f(c)\\,dx}\n",
    "=\n",
    "\\color{blue}{\\lim_{dx\\rightarrow0}\\sum_{(c,d)\\in P_{[a,b^*]}}f(c)\\,dx}\n",
    "+\n",
    "\\color{orange}{\\lim_{dx\\rightarrow0}\\sum_{(c,d)\\in P_{[b^*,b]}}f(c)\\,dx}\n",
    "$ \n",
    "\n",
    "for sufficiently refined partitions which should be the case because $dx\\rightarrow0$.\n",
    "\n",
    "Effectively, we can break up the Riemann sum on $[a,b]$ into Riemann sums over sub-intervals of $[a,b]$."
   ]
  },
  {
   "cell_type": "code",
   "execution_count": 15,
   "metadata": {
    "hideCode": false,
    "hidePrompt": false,
    "slideshow": {
     "slide_type": "subslide"
    }
   },
   "outputs": [
    {
     "data": {
      "application/vnd.jupyter.widget-view+json": {
       "model_id": "06d0235e34454fa7ab2e0fc3da69cf9a",
       "version_major": 2,
       "version_minor": 0
      },
      "text/plain": [
       "HBox(children=(VBox(children=(FloatSlider(value=0.0, description='b*:', max=6.0), FloatSlider(value=2.0, descr…"
      ]
     },
     "execution_count": 15,
     "metadata": {},
     "output_type": "execute_result"
    }
   ],
   "source": [
    "# hide\n",
    "t = sympy.symbols('t')\n",
    "symf = (t-0)*(t-3)*(t-5)+5\n",
    "symf1 = sympy.diff(symf,t)\n",
    "f = sympy.lambdify(t,symf,\"numpy\")\n",
    "f_prime = sympy.lambdify(t,symf1,\"numpy\")\n",
    "domain = np.linspace(0,6,100)\n",
    "\n",
    "def additiveIntegral(B,dx):\n",
    "    plt.figure(figsize=(8,6))\n",
    "    Y = f(domain)\n",
    "#     plt.plot(domain,Y,'k-',linewidth=3,label=\"$f(x)=%s$\" % sympy.latex(symf))\n",
    "    plotRiemannExample(f,dx,np.linspace(domain[0],B,50),ylim=(0,np.max(Y)))\n",
    "    plotRiemannExample(f,dx,np.linspace(B,domain[-1],50),ylim=(0,np.max(Y)))\n",
    "    plt.plot(B,f(B),'ro',markersize=20)\n",
    "    plt.text(B,f(B)+.5,\"$b^*$\",ha=\"center\",va=\"bottom\",fontsize=15)\n",
    "    \n",
    "    plt.xticks(fontsize=15)\n",
    "    plt.yticks(fontsize=15)\n",
    "    plt.xlabel(\"x\",fontsize=15)\n",
    "    plt.ylabel(\"f(x)\",fontsize=15)\n",
    "#     plt.legend(fontsize=15)\n",
    "    plt.ylim((0,np.max(Y)))\n",
    "    plt.xlim((domain[0],domain[-1]))\n",
    "    \n",
    "widthSliderAddInt = FloatSlider(min=0.05, max=2.0, step=0.05, value=2,description=\"dx:\")\n",
    "bSliderAddInt = FloatSlider(min=domain[0], max=domain[-1], step=0.1, value=0,description=\"b*:\")\n",
    "widgets.HBox(\n",
    "    [\n",
    "        widgets.VBox([bSliderAddInt,widthSliderAddInt]),\n",
    "            widgets.interactive_output(\n",
    "                additiveIntegral,\n",
    "                {\n",
    "                    'B':bSliderAddInt,\n",
    "                    'dx': widthSliderAddInt,\n",
    "                })\n",
    "    ]\n",
    ")"
   ]
  },
  {
   "cell_type": "markdown",
   "metadata": {
    "slideshow": {
     "slide_type": "subslide"
    }
   },
   "source": [
    "## Step 2: Mean value theorem\n",
    "\n",
    "To help us, we will need the following observation:\n",
    "\n",
    "The ***mean value theorem*** states that if a function $F$ is smooth and continuous on the domain $[x_1,x_1+\\Delta x]$, then there exists a point $c\\in[x_1,x_1+\\Delta x]$ such that \n",
    "\n",
    "$\\displaystyle F'(c)=\\frac{F(x_1+\\Delta x)-F(x_1)}{x_1+\\Delta x-x_1}=\\frac{F(x_1+\\Delta x)-F(x_1)}{\\Delta x}$\n",
    "\n",
    "This is easy to see visually. But requires a couple of steps to prove mathematically, so we will skip the proof."
   ]
  },
  {
   "cell_type": "code",
   "execution_count": 16,
   "metadata": {
    "hideCode": false,
    "hidePrompt": false,
    "slideshow": {
     "slide_type": "fragment"
    }
   },
   "outputs": [
    {
     "data": {
      "application/vnd.jupyter.widget-view+json": {
       "model_id": "75fad3af5ec74f33ac136af27026ddc3",
       "version_major": 2,
       "version_minor": 0
      },
      "text/plain": [
       "HBox(children=(VBox(children=(FloatSlider(value=0.0, description='x1', max=6.0), FloatSlider(value=5.0, descri…"
      ]
     },
     "execution_count": 16,
     "metadata": {},
     "output_type": "execute_result"
    }
   ],
   "source": [
    "# hide\n",
    "\n",
    "\n",
    "\n",
    "def mean_value_theorem(\n",
    "    x1, dx,\n",
    "    showTangent=False,\n",
    "):\n",
    "\n",
    "    t = sympy.symbols('t')\n",
    "    symf = (t-0)*(t-3)*(t-5)+5\n",
    "    symf1 = sympy.diff(symf,t)\n",
    "    f = sympy.lambdify(t,symf,\"numpy\")\n",
    "    f_prime = sympy.lambdify(t,symf1,\"numpy\")\n",
    "    x = np.linspace(0,6,100)\n",
    "    \n",
    "    # Calculate the value of the function at endpoints\n",
    "    a=x1\n",
    "    b = x1+dx\n",
    "    f_a = f(a)\n",
    "    f_b = f(b)\n",
    "    \n",
    "    # Calculate c using the Mean Value Theorem\n",
    "    c = (f_b - f_a) / (b - a)\n",
    "    xc = sympy.solve(symf1-c)\n",
    "    \n",
    "    \n",
    "    # Plot the function f(x)\n",
    "    plt.plot(x, f(x), label='$F(x) = %s$' % sympy.latex(symf), color='blue')\n",
    "    xlim = plt.xlim()\n",
    "    ylim = plt.ylim()\n",
    "    \n",
    "    # Plot the secant line\n",
    "    plt.plot([a, b], [f_a, f_b], label='Secant line', linestyle='--', color='orange')\n",
    "    \n",
    "    \n",
    "    if showTangent:\n",
    "        for xx in xc:\n",
    "            if xx >= a and xx <= b:\n",
    "                yy = f(xx)\n",
    "                plt.plot(xx,yy,'ro')\n",
    "                B = yy-c*xx\n",
    "                plt.plot(x,c*x+B,'r--',label=\"Tangent line\")\n",
    "    \n",
    "    # Adding labels and legend\n",
    "    plt.scatter([a, b], [f_a, f_b], color='black')  # Points at a and b\n",
    "    plt.text(a,f_a+.5,\"$x_1$\",ha=\"center\",va=\"bottom\",fontsize=15)\n",
    "    plt.text(b,f_b+.5,\"$x_1+\\\\Delta x$\",ha=\"center\",va=\"bottom\",fontsize=15)\n",
    "    plt.title(\"Mean Value Theorem\")\n",
    "    plt.xlabel(\"x\",fontsize=15)\n",
    "    plt.ylabel(\"F(x)\",fontsize=15)\n",
    "    plt.xticks(fontsize=15)\n",
    "    plt.yticks(fontsize=15)\n",
    "    plt.legend()\n",
    "#     plt.grid(True)\n",
    "    plt.xlim(xlim)\n",
    "    plt.ylim(ylim)\n",
    "\n",
    "\n",
    "aMvtSlider = FloatSlider(value=0, min=0, max=6, step=0.1, description='x1')\n",
    "bMvtSlider = FloatSlider(value=5, min=0, max=6, step=0.1, description='dx')\n",
    "showTangentMvt = Checkbox(value=False,description=\"Show Tangent:\")\n",
    "widgets.HBox(\n",
    "    [\n",
    "        widgets.VBox([aMvtSlider,bMvtSlider,showTangentMvt,]),\n",
    "            widgets.interactive_output(\n",
    "                mean_value_theorem,\n",
    "                {\n",
    "                    'x1':aMvtSlider,\n",
    "                    'dx':bMvtSlider,\n",
    "                    'showTangent':showTangentMvt,\n",
    "                })\n",
    "    ]\n",
    ")"
   ]
  },
  {
   "cell_type": "markdown",
   "metadata": {
    "slideshow": {
     "slide_type": "subslide"
    }
   },
   "source": [
    "## Step 3: The fundamental theorem of calculus\n",
    "\n",
    "We assumed $f(x)$ is differentiable (i.e., smooth and continuous) on the interval $[a,b]$\n",
    "\n",
    "Let \n",
    "$\n",
    "\\hspace{.5cm}\n",
    "\\displaystyle\n",
    "\\color{orange}{\n",
    "F(x) = \\int_a^x f(t)\\,dt\n",
    "}\n",
    "\\hspace{.5cm}\n",
    "$\n",
    "and let $\\hspace{.5cm}x_1,x_1+\\Delta x\\in[a,b]\\hspace{.5cm}$ be two points on the interval.\n",
    "\n",
    "**Observation 1:** Using the ***additivity of integrals***, we have \n",
    "$\n",
    "\\hspace{.5cm}\n",
    "\\displaystyle\n",
    "\\color{green}{\\int_{x_1}^{x_1+\\Delta x}f(t)\\,dt} = \\color{orange}{\\int_a^{x_1+\\Delta x}f(t)\\,dt}-\\color{orange}{\\int_a^{x_1}f(t)\\,dt} = \\color{blue}{F(x_1+\\Delta x)-F(x_1)}\n",
    "$\n",
    "\n",
    "**Observation 2:** Using the ***mean value theorem***, there must be some point $\\hspace{.5cm}c\\in[x_1,x_1+\\Delta x]\\hspace{.5cm}$ such that \n",
    "\n",
    "$\n",
    "\\hspace{.5cm}\n",
    "\\displaystyle\n",
    "\\color{green}{\\int_{x_1}^{x_1+\\Delta x}f(t)\\,dt} = \\color{red}{f(c)\\cdot\\Delta x}\n",
    "$\n",
    "\n",
    "Thus, combining these two solutions for $\\hspace{.5cm}\\displaystyle\\color{green}{\\int_{x_1}^{x_1+\\Delta x}f(t)\\,dt}\\hspace{.5cm}$ we have \n",
    "$\n",
    "\\hspace{.5cm}\n",
    "\\displaystyle\n",
    "\\color{red}{f(c)}=\\frac{\\color{blue}{F(x_1+\\Delta x)-F(x_1)}}{\\color{red}{\\Delta x}}\n",
    "$"
   ]
  },
  {
   "cell_type": "markdown",
   "metadata": {
    "slideshow": {
     "slide_type": "subslide"
    }
   },
   "source": [
    "From last slide: \n",
    "$\n",
    "\\hspace{.5cm}\n",
    "\\displaystyle\n",
    "\\color{red}{f(c)}=\\frac{\\color{blue}{F(x_1+\\Delta x)-F(x_1)}}{\\color{red}{\\Delta x}}\n",
    "$\n",
    "\n",
    "As $\\Delta x$ gets very small, we have \n",
    "$\n",
    "\\hspace{.5cm}\n",
    "\\displaystyle\n",
    "\\color{darkmagenta}{\n",
    "\\lim_{\\Delta x\\rightarrow0}f(c) = \\lim_{\\Delta x\\rightarrow0}\\frac{F(x_1+\\Delta x)-F(x_1)}{\\Delta x}\n",
    "}\n",
    "\\hspace{.5cm}\n",
    "$\n",
    "which is the definition for $F'(x_1)$!\n",
    "\n",
    "Since $\\hspace{.5cm}c\\in[x_1,x_1+\\Delta x]\\hspace{.5cm}$ and $\\hspace{.5cm}\\Delta x\\rightarrow0,\\hspace{.5cm}$ it must be that \n",
    "$\n",
    "\\hspace{.5cm}\n",
    "\\displaystyle\n",
    "\\color{green}{\n",
    "\\lim_{\\Delta x\\rightarrow0}c=x_1\n",
    "}\n",
    "$\n",
    "\n",
    "Thus, we have \n",
    "$\n",
    "\\hspace{.5cm}\n",
    "\\displaystyle\n",
    "\\color{green}{\\lim_{\\Delta x\\rightarrow0}f(c)=f(x_1)} \\color{darkmagenta}{= \\lim_{\\Delta x\\rightarrow0}\\frac{F(x_1+\\Delta x)-F(x_1)}{\\Delta x}}\n",
    "\\hspace{.5cm}\n",
    "$\n",
    "and, finally, \n",
    "$\\hspace{.5cm}\\color{red}{F'(x_1)=f(x_1)}\\hspace{.5cm}$ for each $x_1\\in[a,b]$ "
   ]
  },
  {
   "cell_type": "markdown",
   "metadata": {
    "slideshow": {
     "slide_type": "subslide"
    }
   },
   "source": [
    "We can verify this visually by plotting $f(x)$, picking a point $a$, and consider as $dx\\rightarrow0$"
   ]
  },
  {
   "cell_type": "code",
   "execution_count": 17,
   "metadata": {
    "hideCode": false,
    "hidePrompt": false,
    "slideshow": {
     "slide_type": "fragment"
    }
   },
   "outputs": [
    {
     "data": {
      "application/vnd.jupyter.widget-view+json": {
       "model_id": "ff56a7b007ab47e290ec10dd881b1bbc",
       "version_major": 2,
       "version_minor": 0
      },
      "text/plain": [
       "HBox(children=(VBox(children=(FloatSlider(value=1.0, description='dx', max=3.0), FloatSlider(value=1.0, descri…"
      ]
     },
     "execution_count": 17,
     "metadata": {},
     "output_type": "execute_result"
    }
   ],
   "source": [
    "#hide\n",
    "t = sympy.symbols('t')\n",
    "symf = (t-0)*(t-3)*(t-5)+5\n",
    "symf1 = sympy.diff(symf,t)\n",
    "f = sympy.lambdify(t,symf,\"numpy\")\n",
    "# f_prime = sympy.lambdify(t,symf1,\"numpy\")\n",
    "domain = np.linspace(0,6,100)\n",
    "\n",
    "def fundamentalTheorem(dx,x1,showMeanValueTheorem=False):\n",
    "    plt.figure(figsize=(10,6))\n",
    "    Y = f(domain)\n",
    "    a = x1\n",
    "    ya = f(a)\n",
    "    ydx = f(a+dx)\n",
    "    plt.plot(domain,Y,'k-',linewidth=3,label=\"$f(x)=%s $\" % sympy.latex(symf),zorder=3)\n",
    "    plt.scatter([a,a+dx],[ya,ydx],color='r',s=200,label=\"_a\",zorder=5,edgecolor='k')\n",
    "    plt.text(a,ya+1,'$x_1$',ha=\"center\",va=\"bottom\",fontsize=15,zorder=5)\n",
    "    \n",
    "    if dx > 0:\n",
    "        x = np.linspace(a,a+dx,100)\n",
    "        plt.fill_between(x,0,f(x),color='red',label=\"$\\\\int_a^{a+\\\\Delta x}f(t)\\\\,dt$\",zorder=4)\n",
    "        plt.text(a+dx,ydx+1,'$x_1+\\\\Delta x$',ha=\"center\",va=\"bottom\",fontsize=15,zorder=5)\n",
    "        \n",
    "    if showMeanValueTheorem:\n",
    "        slope = (ydx-ya)/dx\n",
    "        b = ya-slope*a\n",
    "        plt.plot(domain,slope*domain+b,'b--',linewidth=3,label=\"Secant Line\",zorder=4)\n",
    "        \n",
    "        cx = sympy.solve(symf1-slope)\n",
    "        for xx in cx:\n",
    "            if xx >= a and xx <= a+dx:\n",
    "                yc = f(xx)\n",
    "                plt.plot(xx,yc,'b^',markersize=10,zorder=5)\n",
    "                bc = yc-slope*xx\n",
    "                plt.plot(domain,slope*domain+bc,'--',linewidth=3,color='cyan',label=\"Tangent Line\",zorder=4)\n",
    "            \n",
    "    \n",
    "    plt.xticks(fontsize=15)\n",
    "    plt.yticks(fontsize=15)\n",
    "    plt.xlabel(\"x\",fontsize=15)\n",
    "    plt.ylabel(\"f(x)\",fontsize=15)\n",
    "    plt.legend(fontsize=15,ncols=2)\n",
    "    plt.xlim((domain[0],domain[-1]))\n",
    "    plt.ylim((0,np.max(Y)))\n",
    "    \n",
    "dxSliderFundTheorem = FloatSlider(value=1, min=0, max=3, step=0.1, description='dx')\n",
    "aSliderFundTheorem = FloatSlider(value=1, min=domain[0], max=domain[-1], step=0.1, description='x1')\n",
    "showMvtFundCalc = Checkbox(value=False,description=\"Show Tangent:\")\n",
    "widgets.HBox(\n",
    "    [\n",
    "        widgets.VBox([dxSliderFundTheorem,aSliderFundTheorem,showMvtFundCalc,]),\n",
    "            widgets.interactive_output(\n",
    "                fundamentalTheorem,\n",
    "                {\n",
    "                    'dx':dxSliderFundTheorem,\n",
    "                    'x1':aSliderFundTheorem,\n",
    "                    'showMeanValueTheorem':showMvtFundCalc,\n",
    "                })\n",
    "    ]\n",
    ")"
   ]
  },
  {
   "cell_type": "markdown",
   "metadata": {
    "slideshow": {
     "slide_type": "subslide"
    }
   },
   "source": [
    "The fundamental theorem of calculus is a useful tool for simplifying integrals and skipping the limited Riemann sum.\n",
    "\n",
    "For example, let $\\hspace{.5cm}F'(x)=f(x)\\hspace{.5cm}$ and let\n",
    "$\n",
    "\\hspace{.5cm}\n",
    "\\displaystyle\n",
    "\\color{orange}{\n",
    "G(x) = \\int_a^x f(t)\\,dt\n",
    "}\n",
    "\\hspace{.5cm}\n",
    "$\n",
    "then $\\hspace{.5cm}G'(x)=f(x)\\hspace{.5cm}$ as well.\n",
    "\n",
    "But does $\\hspace{.5cm}F(x)=G(x)$?"
   ]
  },
  {
   "cell_type": "markdown",
   "metadata": {
    "slideshow": {
     "slide_type": "fragment"
    }
   },
   "source": [
    "We know $\\hspace{.5cm}F'(x)-G'(x)=f(x)-f(x)=0\\hspace{.5cm}$ which implies the $F(x)-G(x)$ must be a constant function.\n",
    "\n",
    "That is, $\\hspace{.5cm}\\color{blue}{F(x)-G(x)=c}\\hspace{.5cm}$ for some constant $c$ and all $x\\in[a,b]$.\n",
    "\n",
    "If we let $\\hspace{.5cm}x=a,\\hspace{.5cm}$ then \n",
    "$\n",
    "\\hspace{.5cm}\n",
    "\\displaystyle \n",
    "\\color{red}{F(a)+c}=G(a)=\\int _{a}^{a}f(t)\\,dt=\\color{red}{0}\n",
    "\\hspace{.5cm}\\Rightarrow\\hspace{.5cm}\n",
    "\\color{red}{c=-F(a)}\n",
    "\\hspace{.5cm}\\Rightarrow\\hspace{.5cm}\n",
    "\\color{blue}{G(x)=F(x)-c}=F(x)-F(a)\n",
    "$\n",
    "\n",
    "Finally,\n",
    "$\n",
    "\\hspace{.5cm}\n",
    "\\displaystyle\n",
    "\\color{orange}{G(b) = \\int_a^b f(t)\\,dt} = F(b)-F(a)\n",
    "$"
   ]
  },
  {
   "cell_type": "markdown",
   "metadata": {
    "slideshow": {
     "slide_type": "subslide"
    }
   },
   "source": [
    "This gives us a way to calculate a specific number $F(b)-F(a)$ for the integral of $f(x)$ on the domain $[a,b]$ representing the exact area under the curve.\n",
    "\n",
    "But this process also highlights how to handle integrals when the domain is not finite.\n",
    "\n",
    "For example, for $f(x)$ on the interval $[a,x]$, we have \n",
    "$\n",
    "\\hspace{.5cm}\n",
    "\\displaystyle\n",
    "G(x)=\\int_a^x f(t)\\,dt = F(x)-c\n",
    "\\hspace{.5cm}\n",
    "$\n",
    "for any constant $c$"
   ]
  },
  {
   "cell_type": "markdown",
   "metadata": {
    "slideshow": {
     "slide_type": "fragment"
    }
   },
   "source": [
    "What if no domain is given? This is a scenario where we want to functional form of a antiderivative rather than the exact number value for the area under the curve.\n",
    "\n",
    "We write this by excluding the limits from the integral:\n",
    "$\n",
    "\\hspace{.5cm}\n",
    "\\displaystyle\n",
    "\\int f(x)\\,dx = F(x)+c\n",
    "\\hspace{.5cm}\n",
    "$\n",
    "where, again, $c$ is any constant! \n",
    "\n",
    "Therefore, without specifying the limits of the integral, there are infinitely many antiderivatives of $f(x)$ each separated from the others by a constant."
   ]
  },
  {
   "cell_type": "markdown",
   "metadata": {
    "slideshow": {
     "slide_type": "subslide"
    }
   },
   "source": [
    "Let's use this knowledge in an example. Let $\\hspace{.5cm}f(x)=3x^4$."
   ]
  },
  {
   "cell_type": "markdown",
   "metadata": {
    "slideshow": {
     "slide_type": "fragment"
    }
   },
   "source": [
    "<font color=\"purple\">**Question 1:** What is $\\displaystyle\\int f(x)\\,dx$?</font>\n",
    "\n",
    "Remembering the Power Rule for deriviatives, we see that $F(x)=\\frac{3}{5}x^5$ is an antiderivative of $f(x)$ because $F'(x)=f(x)$. \n",
    "\n",
    "Because limits of integration are not specified, we know that any solution to $\\displaystyle\\int f(x)\\,dx$ must differ from $F(x)$ by a constant. \n",
    "\n",
    "So, we conclude $\\displaystyle\\int f(x)\\,dx=F(x)+c=\\frac{3}{5}x^5+c$"
   ]
  },
  {
   "cell_type": "markdown",
   "metadata": {
    "slideshow": {
     "slide_type": "fragment"
    }
   },
   "source": [
    "<font color=\"purple\">**Question 2:** What is $\\displaystyle\\int_a^b f(x)\\,dx$?</font>\n",
    "\n",
    "Using the fundamental theorem of calculus, we conclude that $\\displaystyle\\int_a^b f(x)\\,dx=F(b)+c-\\left(F(a)+c\\right)=F(b)-F(a)=\\frac{3}{5}b^5-\\frac{3}{5}a^5$"
   ]
  },
  {
   "cell_type": "markdown",
   "metadata": {
    "slideshow": {
     "slide_type": "slide"
    }
   },
   "source": [
    "# Techniques for Solving Integrals\n",
    "\n",
    "In general, you solve integrals by remembering functions derivatives and trying to map possible derivatives onto the integral that you are currently solving.\n",
    "\n",
    "For example, let $\\hspace{.5cm}F'(x) = f(x)\\hspace{.5cm}$ and consider\n",
    "$\n",
    "\\hspace{.5cm}\n",
    "\\displaystyle\n",
    "\\int_a^b f(x)\\,dx\n",
    "$\n",
    "\n",
    "If $f(x)$ is a simple functions (e.g., a polynomial or $e^x$ or $1/x$), then you can easily solve the integral\n",
    "$\n",
    "\\hspace{.5cm}\n",
    "\\displaystyle\n",
    "\\int_a^b f(x)\\,dx\n",
    "= F(b)-F(a)\n",
    "\\hspace{.5cm}\n",
    "$\n",
    "using the fundamental theorem of calculus.\n",
    "\n",
    "For example,\n",
    "- if $\\hspace{.5cm}f(x)=1/x,\\hspace{.5cm}$ then $\\hspace{.5cm}F(x)=\\ln(x)\\hspace{.5cm}$ because $\\hspace{.5cm}\\frac{d}{dx}\\ln(x)=1/x$\n",
    "- if $\\hspace{.5cm}f(x)=e^x,\\hspace{.5cm}$ then $\\hspace{.5cm}F(x)=e^x\\hspace{.5cm}$ because $\\hspace{.5cm}\\frac{d}{dx}e^x=e^x$\n",
    "- if $\\hspace{.5cm}f(x)=6x^2,\\hspace{.5cm}$ then $\\hspace{.5cm}F(x)=2x^3\\hspace{.5cm}$ because $\\hspace{.5cm}\\frac{d}{dx}2x^3=6x^2$"
   ]
  },
  {
   "cell_type": "markdown",
   "metadata": {
    "slideshow": {
     "slide_type": "subslide"
    }
   },
   "source": [
    "## Integration by Substitution\n",
    "\n",
    "In the derivative section, we discussed taking the derivative of large complex functions of the form $\\hspace{.5cm}F(x)=H(G(x))\\hspace{.5cm}$ using the <font color=\"purple\">Chain Rule</font>:\n",
    "\n",
    "$$\n",
    "\\color{darkmagenta}{\n",
    "F'(x) = \\frac{d\\,H(G(x))}{dx}=H'(G(x))\\cdot G'(x)\n",
    "}\n",
    "$$"
   ]
  },
  {
   "cell_type": "markdown",
   "metadata": {
    "slideshow": {
     "slide_type": "subslide"
    }
   },
   "source": [
    "***Integration by Substitution*** is the inverse of the Chain Rule:\n",
    "$\n",
    "\\hspace{.25cm}\n",
    "\\color{darkmagenta}{\n",
    "F'(x) = \\frac{d\\,H(G(x))}{dx}=H'(G(x))\\cdot G'(x)\n",
    "}\n",
    "$\n",
    "\n",
    "If $f(x)$ is a large, complicated function composed of smaller, simple functions of the form \n",
    "$\n",
    "\\hspace{.5cm}\n",
    "\\color{orange}{f(x)=h\\left(g(x)\\right)\\cdot g'(x)},\n",
    "\\hspace{.5cm}\n",
    "$\n",
    "then how do we solve\n",
    "\n",
    "$\n",
    "\\hspace{.5cm}\n",
    "\\displaystyle\n",
    "\\int_a^b f(x)\\,dx = \\int_a^b \\color{orange}{h(g(x))\\cdot g'(x)}\\,dx?\n",
    "\\hspace{.5cm}\n",
    "$"
   ]
  },
  {
   "cell_type": "markdown",
   "metadata": {
    "slideshow": {
     "slide_type": "fragment"
    }
   },
   "source": [
    "If $\\hspace{.5cm}h(x)=H'(x)\\hspace{.5cm}$ and $\\hspace{.5cm}g(x)=G(x),\\hspace{.5cm}$ then we can invert the Chain Rule to see the $\\hspace{.5cm}F'(x)=f(x)\\hspace{.5cm}$\n",
    "\n",
    "$\n",
    "\\displaystyle\n",
    "\\begin{align}\n",
    "\\int_a^b f(x)\\,dx &= \\int_a^b \\color{orange}{h(g(x))\\cdot g'(x)}\\,dx\n",
    "= \\int_a^b \\color{darkmagenta}{H'(G(x))\\cdot G'(x)}\\,dx\n",
    "= \\int_a^b \\color{darkmagenta}{F'(x)}\\,dx \n",
    "\\\\\\\\\n",
    "&=F(b)-F(a) = H(G(b))-H(G(a))\n",
    "\\end{align}\n",
    "$\n",
    "\n",
    "using the fundamental theorem of calculus"
   ]
  },
  {
   "cell_type": "markdown",
   "metadata": {
    "slideshow": {
     "slide_type": "subslide"
    }
   },
   "source": [
    "For example, consider $\\hspace{.25cm}f(x) = \\frac{\\color{red}{2x}}{\\color{blue}{x^2}}.\\hspace{.25cm}$ If we let $\\hspace{.5cm}\\color{blue}{g(x)=x^2},\\hspace{.25cm}$ then we see that $\\hspace{.25cm}f(x) = \\frac{\\color{red}{2x}}{\\color{blue}{g(x)}}$\n",
    "\n",
    "Further, it so happens that the numerator $\\hspace{.25cm}\\color{red}{2x=g'(x)}\\hspace{.25cm}$ and so we have $\\hspace{.25cm}f(x)=\\frac{1}{\\color{blue}{g(x)}}\\cdot \\color{red}{g'(x)}$.\n",
    "\n",
    "Let $\\hspace{.5cm}\\color{darkmagenta}{h(x)=1/x},\\hspace{.5cm}$ and we have\n",
    "$\n",
    "\\hspace{.5cm}\n",
    "\\displaystyle\n",
    "f(x)=\\frac{2x}{g(x)} = \\frac{1}{g(x)}\\cdot g'(x)=\\color{orange}{h(g(x))\\cdot g'(x)}\n",
    "$\n",
    "\n",
    "And so, we can use Integration by Substitution to solve \n",
    "$\n",
    "\\hspace{.5cm}\n",
    "\\displaystyle\n",
    "\\int_a^b f(x)\\,dx\n",
    "$\n",
    "\n",
    "Recalling that \n",
    "$\n",
    "\\hspace{.5cm}\n",
    "\\displaystyle\n",
    "\\color{darkmagenta}{\\frac{d}{dx}\\ln(x) = 1/x}\n",
    "\\hspace{.5cm}\n",
    "\\Rightarrow\n",
    "\\hspace{.5cm}\n",
    "\\color{darkmagenta}{H(x) = \\ln(x)},\n",
    "\\hspace{.5cm}\n",
    "$\n",
    "we let $\\hspace{.5cm}u=x^2\\hspace{.5cm}$ so that $\\hspace{.5cm}\\color{green}{du = 2x\\,dx}\\hspace{.5cm}$ and plug all of that in to find\n",
    "$$\n",
    "\\int_a^b f(x)\\,dx = \\int_a^b \\frac{1}{x^2}\\cdot\\color{green}{2x\\,dx} = \\int_{a^2}^{b^2}\\color{darkmagenta}{\\frac{1}{u}}\\,\\color{green}{du} = \\color{darkmagenta}{\\ln}(b^2)-\\color{darkmagenta}{\\ln}(a^2)\n",
    "$$"
   ]
  },
  {
   "cell_type": "markdown",
   "metadata": {
    "slideshow": {
     "slide_type": "subslide"
    }
   },
   "source": [
    "## Integration by Parts\n",
    "\n",
    "In the derivative section, we discussed taking the derivative of the product of functions $\\hspace{.5cm}F(x)=u(x)\\cdot v(x)\\hspace{.5cm}$ using the <font color=\"purple\">Product Rule</font>:\n",
    "\n",
    "$\n",
    "\\displaystyle\n",
    "\\begin{align}\n",
    "\\color{darkmagenta}{F'(x)} &\\color{darkmagenta}{= \\frac{d\\,\\left(u(x)\\cdot v(x)\\right)}{dx}=u'(x)\\cdot v(x)+ u(x)\\cdot v'(x)}\n",
    "\\\\\\\\\n",
    "\\Rightarrow \\color{red}{\\int_a^b F'(x)\\,dx} &= \\int_a^b u'(x)\\cdot v(x)\\,dx+ \\color{blue}{\\int_a^b u(x)\\cdot v'(x)\\,dx}\n",
    "\\hspace{.5cm}\\text{integrating both sides and using Integral Additivity}\n",
    "\\\\\\\\\n",
    "\\Rightarrow \\color{blue}{\\int_a^b u(x)\\cdot v'(x)\\,dx} &= \\color{red}{\\int_a^b F'(x)\\,dx} - \\int_a^b u'(x)\\cdot v(x)\\,dx\n",
    "\\hspace{.5cm}\\text{after reorganizing}\n",
    "\\\\\\\\\n",
    "\\Rightarrow \\color{blue}{\\int_a^b u(x)\\cdot v'(x)\\,dx} &= \\color{red}{F(b)-F(a)} - \\int_a^b u'(x)\\cdot v(x)\\,dx\n",
    "\\hspace{.5cm}\\text{using the fundamental theorem of calculus}\n",
    "\\\\\\\\\n",
    "\\Rightarrow \\color{blue}{\\int_a^b u(x)\\cdot v'(x)\\,dx}&= \\color{red}{u(b)\\cdot v(b)-u(a)\\cdot v(a)} - \\int_a^b u'(x)\\cdot v(x)\\,dx\n",
    "\\end{align}\n",
    "$"
   ]
  },
  {
   "cell_type": "markdown",
   "metadata": {
    "slideshow": {
     "slide_type": "subslide"
    }
   },
   "source": [
    "Integration by Parts:\n",
    "$\n",
    "\\hspace{.5cm}\n",
    "\\displaystyle\n",
    "\\color{blue}{\\int_a^b u(x)\\cdot v'(x)\\,dx} = \\color{red}{u(b)\\cdot v(b)-u(a)\\cdot v(a)} - \\color{green}{\\int_a^b u'(x)\\cdot v(x)\\,dx}\n",
    "$\n",
    "\n",
    "Integration by parts offers a strategy to carefully separate a single function into a product of two functions $u(x),\\,v(x)$ such that the residual integral from the integration by parts formula is easier to evaluate than the single function. \n",
    "\n",
    "For example, consider $\\hspace{.25cm}\\displaystyle\\int_a^b \\frac{\\ln(x)}{x^2}\\,dx\\hspace{.25cm}$ where $\\hspace{.25cm}u(x) = \\ln(x)\\hspace{.25cm}$ and $\\hspace{.25cm}v'(x) = 1/x^2.$\n",
    "\n",
    "Note that $\\hspace{.5cm}\\displaystyle\\int v'(x)\\,dx=\\int \\frac{1}{x^2}\\,dx=-\\frac{1}{x}+c\\hspace{.5cm}$ following the Power Rule of Derivatives.\n",
    "\n",
    "Using integration by parts:\n",
    "\n",
    "$\n",
    "\\displaystyle\n",
    "\\begin{align}\n",
    "\\color{blue}{\\int_a^b \\frac{\\ln(x)}{x^2}\\,dx}\n",
    "&= \\color{red}{\\frac{-\\ln(b)}{b}+\\frac{\\ln(a)}{a}}-\\color{green}{\\int_a^b \\left(\\frac{1}{x}\\right)\\cdot\\left(-\\frac{1}{x}\\right)\\,dx}\n",
    "= \\frac{-\\ln(b)}{b}+\\frac{\\ln(a)}{a}-\\int_a^b \\frac{-1}{x^2}\\,dx \n",
    "\\\\\\\\\n",
    "&= \\frac{-\\ln(b)}{b}+\\frac{\\ln(a)}{a}-\\frac{1}{b}+\\frac{1}{a}\n",
    "= \\left(\\frac{1}{a}+\\frac{\\ln(a)}{a}\\right)-\\left(\\frac{1}{b}+\\frac{\\ln(b)}{b}\\right)\n",
    "\\end{align}\n",
    "$"
   ]
  },
  {
   "cell_type": "markdown",
   "metadata": {
    "slideshow": {
     "slide_type": "slide"
    }
   },
   "source": [
    "# Multiple Integral, Partial Integrals, & Programming Integrals\n",
    "\n",
    "As with derivatives, we can take ***multiple integrals*** (e.g., to find a distance function from an acceleration function) and we can find ***partial integrals*** related to a single variable even if a function depends on multiple variables.\n",
    "\n",
    "First, let's cover symbolic programming techniques for calculating integrals using SymPy.\n",
    "\n",
    "SymPy uses various approaches to definite integration. One method is to\n",
    "find an antiderivative for the integrand, and then use the fundamental\n",
    "theorem of calculus."
   ]
  },
  {
   "cell_type": "markdown",
   "metadata": {
    "slideshow": {
     "slide_type": "subslide"
    }
   },
   "source": [
    "Let $f_2(t)$ represent a car's acceleration over time.\n",
    "\n",
    "Recall that the acceleration function is the derivative of the car's speed-over-time function, which is itself the derivative of the car's distance-over-time function.\n",
    "\n",
    "Thus, the speed-over-time function is $\\hspace{.5cm}\\displaystyle f_1(t) = \\int f_2(t)\\,dt$\n",
    "\n",
    "And, the distance-over-time function is $\\hspace{.5cm}\\displaystyle F(t)=\\int f_1(t)\\,dt= \\int\\left(\\int f_2(t)\\,dt\\right)\\,dt$"
   ]
  },
  {
   "cell_type": "code",
   "execution_count": 39,
   "metadata": {
    "slideshow": {
     "slide_type": "subslide"
    }
   },
   "outputs": [
    {
     "data": {
      "text/latex": [
       "$\\displaystyle a t$"
      ],
      "text/plain": [
       "a*t"
      ]
     },
     "execution_count": 39,
     "metadata": {},
     "output_type": "execute_result"
    }
   ],
   "source": [
    "import sympy\n",
    "t,a = sympy.symbols('t a')\n",
    "# define an acceration function where a car accelerates at a constant rate a over time\n",
    "f2 = a*t\n",
    "f2"
   ]
  },
  {
   "cell_type": "code",
   "execution_count": 41,
   "metadata": {
    "slideshow": {
     "slide_type": "fragment"
    }
   },
   "outputs": [
    {
     "data": {
      "text/latex": [
       "$\\displaystyle \\frac{a t^{2}}{2}$"
      ],
      "text/plain": [
       "a*t**2/2"
      ]
     },
     "execution_count": 41,
     "metadata": {},
     "output_type": "execute_result"
    }
   ],
   "source": [
    "# calculate the integral of ff to find the speed-over-time function \n",
    "f1 = sympy.integrate(f2,t)\n",
    "f1"
   ]
  },
  {
   "cell_type": "code",
   "execution_count": 42,
   "metadata": {
    "slideshow": {
     "slide_type": "fragment"
    }
   },
   "outputs": [
    {
     "data": {
      "text/latex": [
       "$\\displaystyle \\frac{a t^{3}}{6}$"
      ],
      "text/plain": [
       "a*t**3/6"
      ]
     },
     "execution_count": 42,
     "metadata": {},
     "output_type": "execute_result"
    }
   ],
   "source": [
    "# calculate the integral of f to identify the distance-over-time function\n",
    "F = sympy.integrate(f1,t)\n",
    "F "
   ]
  },
  {
   "cell_type": "code",
   "execution_count": 43,
   "metadata": {
    "slideshow": {
     "slide_type": "subslide"
    }
   },
   "outputs": [
    {
     "data": {
      "text/latex": [
       "$\\displaystyle \\frac{a t^{2}}{2}$"
      ],
      "text/plain": [
       "a*t**2/2"
      ]
     },
     "execution_count": 43,
     "metadata": {},
     "output_type": "execute_result"
    }
   ],
   "source": [
    "# Let's verify that taking derivatives returns us to our starting position\n",
    "sympy.diff(F,t)"
   ]
  },
  {
   "cell_type": "code",
   "execution_count": 44,
   "metadata": {
    "slideshow": {
     "slide_type": "fragment"
    }
   },
   "outputs": [
    {
     "data": {
      "text/latex": [
       "$\\displaystyle a t$"
      ],
      "text/plain": [
       "a*t"
      ]
     },
     "execution_count": 44,
     "metadata": {},
     "output_type": "execute_result"
    }
   ],
   "source": [
    "# take the second derivative of F(t) with respect to t\n",
    "sympy.diff(F,t,2)"
   ]
  },
  {
   "cell_type": "markdown",
   "metadata": {
    "slideshow": {
     "slide_type": "subslide"
    }
   },
   "source": [
    "## Partial Integrals\n",
    "\n",
    "Let's consider a function on multiple variables.\n",
    "\n",
    "$\n",
    "\\displaystyle\n",
    "f(x,y) = x^2-y^2\n",
    "\\hspace{.5cm}\n",
    "$\n",
    "which is called a \"saddle function\" because the plot looks like a horse's saddle (as we will see).\n",
    "\n",
    "Similar to partial derivatives, we calculate partial integrals with respect to one variable at a time while treating other variables like constants. For example, the integral of $f(x,y)$ with respect to $x$ is identified by the used of $dx$ in the integral.\n",
    "\n",
    "$\n",
    "\\displaystyle\n",
    "\\int f(x,y)\\,dx = \\int \\color{red}{x^2} - \\color{blue}{y^2}\\,dx = \\color{red}{\\int x^2\\,dx}-\\color{blue}{\\int y^2\\,dx} = \\color{red}{\\frac{1}{3}x^3}-\\color{blue}{xy^2}+c\n",
    "$\n",
    "\n",
    "Let's see this using SymPy."
   ]
  },
  {
   "cell_type": "code",
   "execution_count": 45,
   "metadata": {
    "slideshow": {
     "slide_type": "subslide"
    }
   },
   "outputs": [
    {
     "data": {
      "text/latex": [
       "$\\displaystyle x^{2} - y^{2}$"
      ],
      "text/plain": [
       "x**2 - y**2"
      ]
     },
     "execution_count": 45,
     "metadata": {},
     "output_type": "execute_result"
    }
   ],
   "source": [
    "x,y = sympy.symbols('x y')\n",
    "f_saddle = x**2-y**2\n",
    "f_saddle"
   ]
  },
  {
   "cell_type": "code",
   "execution_count": 46,
   "metadata": {
    "hideCode": false,
    "hidePrompt": false,
    "slideshow": {
     "slide_type": "fragment"
    }
   },
   "outputs": [
    {
     "data": {
      "application/vnd.jupyter.widget-view+json": {
       "model_id": "84c6ce26dfe049c5ab7a273f2280f645",
       "version_major": 2,
       "version_minor": 0
      },
      "text/plain": [
       "HBox(children=(VBox(children=(FloatSlider(value=0.0, description='Rotate X', max=180.0, min=-180.0, step=1.0),…"
      ]
     },
     "execution_count": 46,
     "metadata": {},
     "output_type": "execute_result"
    }
   ],
   "source": [
    "#hide\n",
    "from mpl_toolkits.mplot3d import Axes3D\n",
    "\n",
    "f = sympy.lambdify([x,y],f_saddle,\"numpy\")\n",
    "\n",
    "def plot_saddle_point(AX,AY):\n",
    "    \"\"\"\n",
    "    Creates a widget that plots a saddle point in 3D space. \n",
    "    The plot can be rotated in all 3 dimensions using sliders.\n",
    "    \"\"\"\n",
    "    fig = plt.figure(figsize=(10,8))\n",
    "    ax = fig.add_subplot(111, projection='3d')\n",
    "    \n",
    "    x = np.linspace(-5, 5, 50)\n",
    "    y = np.linspace(-5, 5, 50)\n",
    "    x, y = np.meshgrid(x, y)\n",
    "    z = f(x,y)\n",
    "    \n",
    "    ax.plot_surface(x, y, z, cmap='viridis')\n",
    "#     ax.plot(0,0,0,'ro',markersize=20)\n",
    "    ax.view_init(AX, AY)\n",
    "    ax.set_xlabel(\"X\",fontsize=15)\n",
    "    ax.set_ylabel(\"Y\",fontsize=15)\n",
    "    ax.set_zlabel(\"Z\",fontsize=15)\n",
    "    fig.tight_layout()\n",
    "#         plt.draw()\n",
    "    \n",
    "    \n",
    "slider_ax = widgets.FloatSlider(min=-180, max=180, step=1, description='Rotate X')\n",
    "slider_ay = widgets.FloatSlider(min=-180, max=180, step=1, description='Rotate Y')\n",
    "\n",
    "widgets.HBox(\n",
    "    [\n",
    "        widgets.VBox([slider_ax,slider_ay,]),\n",
    "            widgets.interactive_output(\n",
    "                plot_saddle_point,\n",
    "                {\n",
    "                    'AX':slider_ax,\n",
    "                    'AY':slider_ay,\n",
    "                })\n",
    "    ]\n",
    ")\n"
   ]
  },
  {
   "cell_type": "code",
   "execution_count": 47,
   "metadata": {
    "slideshow": {
     "slide_type": "subslide"
    }
   },
   "outputs": [
    {
     "data": {
      "text/latex": [
       "$\\displaystyle \\frac{x^{3}}{3} - x y^{2}$"
      ],
      "text/plain": [
       "x**3/3 - x*y**2"
      ]
     },
     "execution_count": 47,
     "metadata": {},
     "output_type": "execute_result"
    }
   ],
   "source": [
    "# integrate with respect to x\n",
    "sympy.integrate(f_saddle,x)"
   ]
  },
  {
   "cell_type": "code",
   "execution_count": 48,
   "metadata": {
    "slideshow": {
     "slide_type": "fragment"
    }
   },
   "outputs": [
    {
     "data": {
      "text/latex": [
       "$\\displaystyle x^{2} y - \\frac{y^{3}}{3}$"
      ],
      "text/plain": [
       "x**2*y - y**3/3"
      ]
     },
     "execution_count": 48,
     "metadata": {},
     "output_type": "execute_result"
    }
   ],
   "source": [
    "# integrate with respect to y\n",
    "sympy.integrate(f_saddle,y)"
   ]
  },
  {
   "cell_type": "markdown",
   "metadata": {
    "slideshow": {
     "slide_type": "subslide"
    }
   },
   "source": [
    "# Coding Integrals with Limits\n",
    "\n",
    "Let's say you want to solve the integral \n",
    "$\n",
    "\\hspace{.5cm}\n",
    "\\displaystyle\n",
    "\\int_a^b \\sin(x)\\,dx\n",
    "$"
   ]
  },
  {
   "cell_type": "code",
   "execution_count": 50,
   "metadata": {
    "slideshow": {
     "slide_type": "fragment"
    }
   },
   "outputs": [
    {
     "data": {
      "text/latex": [
       "$\\displaystyle \\cos{\\left(5 \\right)} - \\cos{\\left(10 \\right)}$"
      ],
      "text/plain": [
       "cos(5) - cos(10)"
      ]
     },
     "execution_count": 50,
     "metadata": {},
     "output_type": "execute_result"
    }
   ],
   "source": [
    "# add example of integration with limits\n",
    "# sympy.integrate(f,(x,-1,1))\n",
    "a,b,x = sympy.symbols('a b x')\n",
    "f = sympy.sin(x)\n",
    "sympy.integrate(f,(x,5,10))"
   ]
  },
  {
   "cell_type": "markdown",
   "metadata": {
    "slideshow": {
     "slide_type": "slide"
    }
   },
   "source": [
    "# Numerical Integration, Chaos, and the Butterfly Effect\n",
    "\n",
    "The ***butterfly effect*** refers to the concept that small, seemingly insignificant events can have a profound impact on a larger system or event. \n",
    "\n",
    "The term originated from the idea that the flapping of a butterfly's wings can cause a hurricane on the other side of the world. \n",
    "\n",
    "This concept was first proposed by American meteorologist Edward Lorenz and is often used to describe the unpredictable nature of complex systems, such as weather patterns or financial markets.\n",
    "\n",
    "Lorenz proposed many mathematical \"toy\" models that exhibit <font color=\"purple\">\"sensitive dependence on initial conditions\" (SDIC)</font>.\n",
    "\n",
    "Here, a \"toy\" model is a model that does not actually predict the weather or any real-world outcome but captures certain characteristics of larger complicated real-world systems (like the weather).\n",
    "\n",
    "In systems with SDIC, changing the setup of a problem just a tiny bit (e.g., altered by the small fluttering of a butterfly's wings) can lead to dramatically different outcomes (e.g., a hurricane miles away from the butterfly).\n",
    "\n",
    "Systems with SDIC are called ***Chaotic systems***."
   ]
  },
  {
   "cell_type": "markdown",
   "metadata": {
    "slideshow": {
     "slide_type": "subslide"
    }
   },
   "source": [
    "## Chaos Example 1: The Logistic Map\n",
    "\n",
    "The logistic map is a discrete version of the logistic function which is used to model population growth in an environment with fixed carrying capacity (i.e., fixed resources).\n",
    "\n",
    "The **logistic map** instead models the ratio of existing population to the maximum possible population. \n",
    "\n",
    "At time $t$, this ratio is denoted $x_t$\n",
    "\n",
    "With an initial population value $x_0$ at the starting time of $t=0$, we take one discrete step forward in time to $t=1$ and calculate the new population value $x_1$ following the equation:\n",
    "\n",
    "$\n",
    "x_{t+1} = r\\cdot x_t\\cdot (1-x_t)\n",
    "\\hspace{.5cm}\n",
    "$\n",
    "where $r$ is a model parameter representing the population's reproduction rate. "
   ]
  },
  {
   "cell_type": "markdown",
   "metadata": {
    "slideshow": {
     "slide_type": "subslide"
    }
   },
   "source": [
    "\n",
    "- $r=2.5,\\,x_0=0.20$ and vary $x_0,\\, n$\n",
    "- $r=3.2,\\,x_0=0.20$ and vary $x_0,\\, n$\n",
    "- $x_0=0.20,\\, n=100$ and vary $r=3.2$ to $r=3.6$\n",
    "- $x_0=0.50$ and $r=3.45$. Increase to $r=3.55$, and then increase until $r= 3.63$"
   ]
  },
  {
   "cell_type": "code",
   "execution_count": 28,
   "metadata": {
    "hideCode": false,
    "hidePrompt": false,
    "slideshow": {
     "slide_type": "fragment"
    }
   },
   "outputs": [
    {
     "data": {
      "application/vnd.jupyter.widget-view+json": {
       "model_id": "b5961ee7f64b48e69c1ecc2954d991f1",
       "version_major": 2,
       "version_minor": 0
      },
      "text/plain": [
       "HBox(children=(VBox(children=(FloatSlider(value=2.5, description='Parameter r:', max=4.0, min=0.1, step=0.01),…"
      ]
     },
     "execution_count": 28,
     "metadata": {},
     "output_type": "execute_result"
    }
   ],
   "source": [
    "#hide \n",
    "from ipywidgets import interact, FloatSlider,IntSlider\n",
    "\n",
    "def logistic_map(r, x):\n",
    "    return r * x * (1 - x)\n",
    "\n",
    "def cobweb_plot(r, x0, n):\n",
    "    x = np.linspace(0, 1, 50)\n",
    "    fig, ax = plt.subplots()\n",
    "    \n",
    "    # Plot logistic map function\n",
    "    ax.plot(x, logistic_map(r, x), 'k', lw=1)\n",
    "    # Plot y = x line\n",
    "    ax.plot(x, x, 'k', lw=1)\n",
    "    \n",
    "    # Initialize values\n",
    "    y0 = x0\n",
    "    \n",
    "    # Generate the sequence\n",
    "    for i in range(1, n):\n",
    "        y1 = logistic_map(r, y0)\n",
    "        ax.plot([y0, y0], [y0, y1], 'b', lw=2)\n",
    "        ax.plot([y0, y1], [y1, y1], 'b', lw=2)\n",
    "        y0 = y1\n",
    "    \n",
    "    ax.set_xlabel('$x_n$',fontsize=15)\n",
    "    ax.set_ylabel('$x_{n+1}$',fontsize=15)\n",
    "\n",
    "    \n",
    "slider_logistic_r = widgets.FloatSlider(min=0.1, max=4.0, step=0.01, value=2.5, description='Parameter r:')\n",
    "slider_logistic_x0 = widgets.FloatSlider(min=0, max=1, step=0.01, value=0.5, description='Initial x:')\n",
    "slider_logistic_n = widgets.IntSlider(min=1, max=100, step=1, value=5, description='Iterations (n):')\n",
    "\n",
    "widgets.HBox(\n",
    "    [\n",
    "        widgets.VBox([slider_logistic_r,slider_logistic_x0,slider_logistic_n]),\n",
    "            widgets.interactive_output(\n",
    "                cobweb_plot,\n",
    "                {\n",
    "                    'r':slider_logistic_r,\n",
    "                    'x0':slider_logistic_x0,\n",
    "                    'n':slider_logistic_n,\n",
    "                })\n",
    "    ]\n",
    ")\n"
   ]
  },
  {
   "cell_type": "markdown",
   "metadata": {
    "slideshow": {
     "slide_type": "subslide"
    }
   },
   "source": [
    "We saw that small changes in $r$ or $x_0$ lead to dramatic differences in the predictability of the final outcome. We can actually map out this relationship by simulating many cobweb plots for various choices of $x_0,\\, r$ and plotting a small point for each value $x_t$\n",
    "\n",
    "As we vary $r$, we see pockets of chaos and pockets of order."
   ]
  },
  {
   "cell_type": "code",
   "execution_count": 29,
   "metadata": {
    "hideCode": false,
    "hidePrompt": false,
    "slideshow": {
     "slide_type": "fragment"
    }
   },
   "outputs": [
    {
     "data": {
      "text/plain": [
       "[Text(0.5, 0, 'r'), Text(0, 0.5, 'x'), Text(0.5, 1.0, 'logistic map')]"
      ]
     },
     "execution_count": 29,
     "metadata": {},
     "output_type": "execute_result"
    },
    {
     "data": {
      "image/png": "[encoded data removed]",
      "text/plain": [
       "<Figure size 1152x648 with 1 Axes>"
      ]
     },
     "metadata": {
      "needs_background": "light"
     },
     "output_type": "display_data"
    }
   ],
   "source": [
    "# hide\n",
    "interval = (2.8, 4)  # start, end\n",
    "accuracy = 0.0001\n",
    "reps = 600  # number of repetitions\n",
    "numtoplot = 200\n",
    "lims = np.zeros(reps)\n",
    "\n",
    "fig, biax = plt.subplots()\n",
    "fig.set_size_inches(16, 9)\n",
    "\n",
    "lims[0] = np.random.rand()\n",
    "for r in np.arange(interval[0], interval[1], accuracy):\n",
    "    for i in range(reps - 1):\n",
    "        lims[i + 1] = r * lims[i] * (1 - lims[i])\n",
    "\n",
    "    biax.plot([r] * numtoplot, lims[reps - numtoplot :], \"b.\", markersize=0.02)\n",
    "\n",
    "biax.set(xlabel=\"r\", ylabel=\"x\", title=\"logistic map\")"
   ]
  },
  {
   "cell_type": "markdown",
   "metadata": {
    "slideshow": {
     "slide_type": "subslide"
    }
   },
   "source": [
    "## Chaos Example 2: The Butterfly Attractor (Lorenz '63)\n",
    "\n",
    "Lorenz was most interested in toy models that behaved more like weather models, which are NOT discrete in time. Weather models used for forecasting have SDIC.\n",
    "\n",
    "For example, you and I might both go outside with thermometers to measure the current temperature which we could then feed into a weather model to predict future temperatures later in the day. However, although we were outside in the same place at the same time, our temperature measurements might differ slightly. In a system with <font color=\"purple\">SDIC</font>, these slight differences could yield very different weather predictions.\n",
    "\n",
    "SDIC in weather predictions has led to many studies in applied mathematics attempting to manage SDIC in toy models where ground truth is simulated."
   ]
  },
  {
   "cell_type": "markdown",
   "metadata": {
    "slideshow": {
     "slide_type": "subslide"
    }
   },
   "source": [
    "Lorenz described these characteristics in his \"Lorenz '63 model\" which is also commonly known as the \"Butterfly Attractor\". This is a very popular toy model for exploring SDIC in dynamical systems like those used to model weather.\n",
    "\n",
    "$\n",
    "% \\begin{align}\n",
    "\\displaystyle\n",
    "\\frac {\\mathrm {d} x(t)}{\\mathrm {d} t}=\\sigma (y(t)-x(t)),\\hspace{1cm}\n",
    "\\frac {\\mathrm {d} y(t)}{\\mathrm {d} t}=x(t)(\\rho -z(t))-y(t),\\hspace{1cm}\n",
    "\\frac {\\mathrm {d} z(t)}{\\mathrm {d} t}=x(t)\\cdot y(t)-\\beta z(t)\n",
    "% \\end{align}\n",
    "$\n",
    "\n",
    "where $x,\\,y,\\,z$ are functions in time representing \"atmospheric quantities\" (again, this is a toy model) \n",
    "\n",
    "and $\\sigma,\\,\\rho,\\,\\beta$ represent model ***parameters*** which can be adjusted to tune the model to behave differently (like $r$ in the Logistic Map).\n",
    "\n",
    "This set of equations includes three derivatives: $\\displaystyle \\frac {\\mathrm {d} x}{\\mathrm {d} t},\\,\\frac {\\mathrm {d} y}{\\mathrm {d} t},\\,\\frac {\\mathrm {d} z}{\\mathrm {d} t}\\hspace{.25cm}$ with which we simulate system dynamics using only initial starting values: $x_0,\\,y_0,\\,z_0$"
   ]
  },
  {
   "cell_type": "markdown",
   "metadata": {
    "slideshow": {
     "slide_type": "subslide"
    }
   },
   "source": [
    "To simulate dynamics, we need to \"integrate\" these equations. But, if you start writing out integrals and attempting to solve for $x(t),\\,y(t),\\,z(t)$, you will find that you cannot determine a solution.\n",
    "\n",
    "Instead, we ***numerically integrate*** each equation. The strategy works by:\n",
    "<ol>\n",
    "    <li>Breakup time into discrete time step (as in the Logistic Map simulation). Let $t=0$ denote the starting point when $x(0)=x_0,\\,y(0)=y_0,\\,z(0)=z_0$</li>\n",
    "    <li>Use the values of $x,\\,y,\\,z$ at time $t$ and their derivative functions to estimate the values of $x,\\,y,\\,z$ at time $t+1$</li>\n",
    "    <li>Repeat with the new values as many steps into the future as desired</li>\n",
    "</ol>"
   ]
  },
  {
   "cell_type": "markdown",
   "metadata": {
    "slideshow": {
     "slide_type": "subslide"
    }
   },
   "source": [
    "$\n",
    "\\displaystyle\n",
    "\\begin{align}\n",
    "\\frac {\\mathrm {d} x(t)}{\\mathrm {d} t} &=\\sigma (y(t)-x(t))\n",
    "\\\\\\\\\n",
    "\\Rightarrow \\lim_{dt\\rightarrow0}\\frac{x(t+dt)-x(t)}{dt} &=\\sigma (y(t)-x(t))\n",
    "\\hspace{.5cm}\\text{using the derivative equation}\n",
    "\\\\\\\\\n",
    "\\Rightarrow \\frac{x(t+dt)-x(t)}{dt} &\\approx \\sigma (y(t)-x(t))\n",
    "\\hspace{.5cm}\\text{assuming }dt\\text{ is small instead of }dt\\rightarrow0\n",
    "\\\\\\\\\n",
    "\\Rightarrow \\color{blue}{x(t+dt)} &\\approx x(t)+dt\\cdot\\left(\\sigma (y(t)-x(t))\\right)\n",
    "= \\color{blue}{x(t)+dt\\cdot\\frac {\\mathrm {d} x(t)}{\\mathrm {d} t}}\n",
    "\\end{align}\n",
    "$\n",
    "\n",
    "after some algebra and remembering that $dt$ is a small number.\n",
    "\n",
    "Similar math applies to the derivatives for $y(t),\\,z(t)$"
   ]
  },
  {
   "cell_type": "markdown",
   "metadata": {
    "slideshow": {
     "slide_type": "subslide"
    }
   },
   "source": [
    "This gives us ***Euler's Method for Forward Integration***. Given a derivative function $f'(t)$ and an initial value $f(0)=a$, we can use Euler's method to take discrete steps through time each of size $dt$ calculate the next value of $f$ according to \n",
    "$$\n",
    "f(t+dt)\\approx f(t)+dt\\cdot f'(t)\n",
    "$$"
   ]
  },
  {
   "cell_type": "markdown",
   "metadata": {
    "slideshow": {
     "slide_type": "fragment"
    }
   },
   "source": [
    "Let's see this approach in action by considering the derivative function $\\hspace{.25cm}f'(t)=3 t^{2} - 16 t + 15\\hspace{.25cm}$ and $f(0)=5$\n",
    "\n",
    "We know how to integrate this: $\\hspace{.25cm}\\int f'(t)\\,dt = t^{3} - 8 t^{2} + 15 t + 5\\hspace{.25cm}$ which gives a ground truth to compare our method too."
   ]
  },
  {
   "cell_type": "code",
   "execution_count": 30,
   "metadata": {
    "hideCode": false,
    "hidePrompt": false,
    "slideshow": {
     "slide_type": "fragment"
    }
   },
   "outputs": [
    {
     "data": {
      "application/vnd.jupyter.widget-view+json": {
       "model_id": "29568974d34247b7b29941c8f034f9cf",
       "version_major": 2,
       "version_minor": 0
      },
      "text/plain": [
       "HBox(children=(VBox(children=(IntSlider(value=250, description='# Time Steps:', max=500, min=1), FloatSlider(v…"
      ]
     },
     "execution_count": 30,
     "metadata": {},
     "output_type": "execute_result"
    }
   ],
   "source": [
    "# hide\n",
    "t = sympy.symbols('t')\n",
    "f = t*(t-3)*(t-5)+5\n",
    "f1 = sympy.diff(f,t)\n",
    "numpy_f = sympy.lambdify(t,f,\"numpy\")\n",
    "numpy_f1 = sympy.lambdify(t,f1,\"numpy\")\n",
    "\n",
    "def forwardEulerStep(f1,dt,t):\n",
    "    \"\"\"\n",
    "    Use the derivative function, f1, to estimate the integral's change one step forward in time\n",
    "    \"\"\"\n",
    "    return dt*f1(t)\n",
    "\n",
    "def integrator(f1,dt,f0,numTimeSteps):\n",
    "    \"\"\"\n",
    "    f1: derivative function\n",
    "    dt: size of time step to use. Should be small.\n",
    "    f0: initial value to start simulation\n",
    "    numTimeSteps: number of time steps into the future to simulate.\n",
    "    \"\"\"\n",
    "    trajectory = np.zeros(numTimeSteps)\n",
    "    f_old = f0\n",
    "    for t in range(numTimeSteps):\n",
    "        f_new = f_old+forwardEulerStep(f1,dt,t*dt)\n",
    "        trajectory[t] = f_new\n",
    "        f_old = f_new\n",
    "    times = np.arange(numTimeSteps)*dt\n",
    "    return trajectory,times\n",
    "\n",
    "\n",
    "\n",
    "def forwardEulerDemo(numTimeSteps,dt,plotIntegral=False,showNextStep=True):\n",
    "    x = np.linspace(0,6,30)\n",
    "    y = numpy_f(x)\n",
    "    trajectory,times = integrator(numpy_f1,dt,y[0],numTimeSteps)\n",
    "    plt.plot(times,trajectory,'r-',label=\"Simulation\")\n",
    "    if showNextStep:\n",
    "        df = forwardEulerStep(numpy_f1,dt,dt*numTimeSteps)\n",
    "        plt.plot([times[-1],times[-1]+dt],[trajectory[-1],trajectory[-1]+df],'b-',label=\"Next Euler Step\")\n",
    "        plt.text(times[-1]+dt,trajectory[-1]+df,\"$f(t)+dt\\\\cdot f'(t)$\",color='b',fontsize=12)\n",
    "    if plotIntegral:\n",
    "        plt.plot(x,y,'k-',label=\"Ground Truth\")\n",
    "    plt.xlim((x[0],x[-1]))\n",
    "    plt.ylim((np.min(y),np.max(y)))\n",
    "    plt.legend(fontsize=15,frameon=False)\n",
    "    plt.xlabel(\"Time $t$\",fontsize=15)\n",
    "    plt.ylabel(\"f(t)\",fontsize=15)\n",
    "    \n",
    "# widgets.interact(forwardEulerDemo,numTimeSteps=(0,500,1),dt=(.001,.5,.005),plotIntegral=False)\n",
    "\n",
    "slider_euler_steps = IntSlider(min=1,max=500,step=1,value=250,description=\"# Time Steps:\")\n",
    "slider_euler_dt = FloatSlider(min=.001,max=.5,step=.005,value=.25,description=\"dt:\")\n",
    "slider_euler_showAnswer = Checkbox(value=False,description=\"Show Answer:\")\n",
    "slider_euler_showEuler = Checkbox(value=False,description=\"Show Next Euler Step:\")\n",
    "\n",
    "widgets.HBox(\n",
    "    [\n",
    "        widgets.VBox([slider_euler_steps,slider_euler_dt,slider_euler_showEuler,slider_euler_showAnswer]),\n",
    "            widgets.interactive_output(\n",
    "                forwardEulerDemo,\n",
    "                {\n",
    "                    'numTimeSteps':slider_euler_steps,\n",
    "                    'dt':slider_euler_dt,\n",
    "                    'plotIntegral':slider_euler_showAnswer,\n",
    "                    \"showNextStep\":slider_euler_showEuler,\n",
    "                })\n",
    "    ]\n",
    ")"
   ]
  },
  {
   "cell_type": "markdown",
   "metadata": {
    "slideshow": {
     "slide_type": "subslide"
    }
   },
   "source": [
    "Returning to the Lorenz system of equations, Euler's Method tells us $\\hspace{.5cm}x(t+dt)\\approx \\color{blue}{x(t)}+dt\\cdot\\left(\\sigma (\\color{red}{y(t)}-\\color{blue}{x(t)})\\right)\\hspace{.5cm}$ \n",
    "\n",
    "This tells us that calculating the future value of $\\hspace{.25cm}x(t+dt)\\hspace{.25cm}$ requires $\\hspace{.25cm}\\color{red}{y(t)},\\,\\color{blue}{x(t)}\\hspace{.25cm}$ from the current time step.\n",
    "\n",
    "You'll observe a similar outcome for integrating $\\hspace{.25cm}y(t),\\,z(t)\\hspace{.25cm}$ because the derivatives of these functions depend on the other variables too.\n",
    "\n",
    "This means that we need to simulate outcomes for $\\hspace{.25cm}x(t),\\,y(t),\\,z(t)\\hspace{.25cm}$ together at each time step."
   ]
  },
  {
   "cell_type": "code",
   "execution_count": 31,
   "metadata": {
    "slideshow": {
     "slide_type": "subslide"
    }
   },
   "outputs": [],
   "source": [
    "# pick model parameters. Here, standard parameter choices are used.\n",
    "sigma,rho,beta = 10,28,8/3\n",
    "# choose time step. Smaller will be more accurate but require longer runtime\n",
    "dt = .01\n",
    "numTimeSteps = 1000\n",
    "\n",
    "# define derivative functions\n",
    "x1 = lambda x,y,z: sigma*(y-x)\n",
    "y1 = lambda x,y,z: x*(rho-z)-y\n",
    "z1 = lambda x,y,z: x*y-beta*z\n",
    "\n",
    "def lorenzDerivative(state):\n",
    "    x,y,z = state[0],state[1],state[2]\n",
    "    dx = x1(x,y,z)\n",
    "    dy = y1(x,y,z)\n",
    "    dz = z1(x,y,z)\n",
    "    return np.array([dx,dy,dz])\n",
    "\n",
    "def simluateLorenz(xyz,numTimeSteps,dt):\n",
    "    # simulate trajectory\n",
    "    trajectory = np.zeros((numTimeSteps,3))\n",
    "    xyz_old = xyz\n",
    "    for t in range(numTimeSteps):\n",
    "        # use Forward Euler to estimate f at the new time step based on old time step\n",
    "        xyz_new = xyz_old + dt*lorenzDerivative(xyz_old)\n",
    "        trajectory[t,:] = xyz_new\n",
    "        xyz_old = xyz_new\n",
    "    # convert from 'time steps' to 'time'\n",
    "    times = np.arange(numTimeSteps)*dt\n",
    "    return trajectory,times\n",
    "\n",
    "trajectory1,times1 = simluateLorenz(np.array([.1,.1,.1]),numTimeSteps,dt)\n",
    "trajectory2,times2 = simluateLorenz(np.array([.2,.1,.1]),numTimeSteps,dt)"
   ]
  },
  {
   "cell_type": "code",
   "execution_count": 32,
   "metadata": {
    "hideCode": false,
    "hidePrompt": false,
    "slideshow": {
     "slide_type": "subslide"
    }
   },
   "outputs": [
    {
     "data": {
      "text/plain": [
       "Text(0.5, 0, 'Time t')"
      ]
     },
     "execution_count": 32,
     "metadata": {},
     "output_type": "execute_result"
    },
    {
     "data": {
      "image/png": "[encoded data removed]",
      "text/plain": [
       "<Figure size 864x432 with 3 Axes>"
      ]
     },
     "metadata": {
      "needs_background": "light"
     },
     "output_type": "display_data"
    }
   ],
   "source": [
    "# hide\n",
    "l = 3\n",
    "plt.figure(figsize=(12,6))\n",
    "plt.subplot(3,1,1)\n",
    "plt.plot(times1,trajectory1[:,0],lw=l,)\n",
    "plt.ylabel(\"x(t)\",fontsize=15)\n",
    "plt.subplot(3,1,2)\n",
    "plt.plot(times1,trajectory1[:,1],lw=l,)\n",
    "plt.ylabel(\"y(t)\",fontsize=15)\n",
    "plt.subplot(3,1,3)\n",
    "plt.plot(times1,trajectory1[:,2],lw=l,)\n",
    "plt.ylabel(\"z(t)\",fontsize=15)\n",
    "plt.xlabel(\"Time t\",fontsize=15)"
   ]
  },
  {
   "cell_type": "markdown",
   "metadata": {
    "slideshow": {
     "slide_type": "subslide"
    }
   },
   "source": [
    "Let's see the \"Butterfly attractor\" and it's \"folding\" behavior near the middle."
   ]
  },
  {
   "cell_type": "code",
   "execution_count": 33,
   "metadata": {
    "hideCode": false,
    "hidePrompt": false,
    "slideshow": {
     "slide_type": "fragment"
    }
   },
   "outputs": [
    {
     "data": {
      "application/vnd.jupyter.widget-view+json": {
       "model_id": "1215718dcba7443487b7d0f160277522",
       "version_major": 2,
       "version_minor": 0
      },
      "text/plain": [
       "HBox(children=(VBox(children=(IntSlider(value=0, description='Vertical Angle:', max=360), IntSlider(value=0, d…"
      ]
     },
     "execution_count": 33,
     "metadata": {},
     "output_type": "execute_result"
    }
   ],
   "source": [
    "# hide\n",
    "from mpl_toolkits.mplot3d import Axes3D\n",
    "\n",
    "def rotate_butterfly_plot(degree_x=0, degree_y=0, degree_z=0):\n",
    "    fig = plt.figure(figsize=(12,12))\n",
    "    ax = fig.add_subplot(111, projection='3d')\n",
    "    ax.plot(trajectory1[:, 0], trajectory1[:, 1], trajectory1[:, 2])\n",
    "    ax.view_init(elev=degree_x, azim=degree_y)\n",
    "    ax.set_xlabel(\"x(t)\",fontsize=15)\n",
    "    ax.set_ylabel(\"y(t)\",fontsize=15)\n",
    "    ax.set_zlabel(\"z(t)\",fontsize=15)\n",
    "\n",
    "\n",
    "slider_butterfly_x = IntSlider(min=0,max=360,step=1,value=0,description=\"Vertical Angle:\")\n",
    "slider_butterfly_z = IntSlider(min=0,max=360,step=1,value=0,description=\"Horizontal Angle:\")\n",
    "\n",
    "\n",
    "widgets.HBox(\n",
    "    [\n",
    "        widgets.VBox([slider_butterfly_x,slider_butterfly_z,]),\n",
    "            widgets.interactive_output(\n",
    "                rotate_butterfly_plot,\n",
    "                {\n",
    "                    'degree_x':slider_butterfly_x,\n",
    "                    'degree_y':slider_butterfly_z,\n",
    "                })\n",
    "    ]\n",
    ")"
   ]
  },
  {
   "cell_type": "markdown",
   "metadata": {
    "slideshow": {
     "slide_type": "subslide"
    }
   },
   "source": [
    "Let's compare the two simulations with slightly different starting conditions:\n",
    "- Trajectory 1: $\\hspace{.25cm}\\color{red}{x(0)=0.1},\\,y(0)=0.1,\\,z(0)=0.1$\n",
    "- Trajectory 2: $\\hspace{.25cm}\\color{red}{x(0)=0.2},\\,y(0)=0.1,\\,z(0)=0.1$"
   ]
  },
  {
   "cell_type": "code",
   "execution_count": 34,
   "metadata": {
    "hideCode": false,
    "hidePrompt": false,
    "slideshow": {
     "slide_type": "fragment"
    }
   },
   "outputs": [
    {
     "data": {
      "text/plain": [
       "Text(0.5, 0, 'Time t')"
      ]
     },
     "execution_count": 34,
     "metadata": {},
     "output_type": "execute_result"
    },
    {
     "data": {
      "image/png": "[encoded data removed]",
      "text/plain": [
       "<Figure size 864x432 with 3 Axes>"
      ]
     },
     "metadata": {
      "needs_background": "light"
     },
     "output_type": "display_data"
    }
   ],
   "source": [
    "# hide\n",
    "l=2\n",
    "plt.figure(figsize=(12,6))\n",
    "plt.subplot(3,1,1)\n",
    "plt.plot(times1,trajectory1[:,0],lw=l,label=\"Trajectory 1\")\n",
    "plt.plot(times2,trajectory2[:,0],lw=l,label=\"Trajectory 2\")\n",
    "plt.legend(ncols=2,loc=\"upper left\")\n",
    "plt.ylabel(\"x(t)\",fontsize=15)\n",
    "plt.subplot(3,1,2)\n",
    "plt.plot(times1,trajectory1[:,1],lw=l,)\n",
    "plt.plot(times2,trajectory2[:,1],lw=l,)\n",
    "plt.ylabel(\"y(t)\",fontsize=15)\n",
    "plt.subplot(3,1,3)\n",
    "plt.plot(times1,trajectory1[:,2],lw=l,)\n",
    "plt.plot(times2,trajectory2[:,2],lw=l,)\n",
    "plt.ylabel(\"z(t)\",fontsize=15)\n",
    "plt.xlabel(\"Time t\",fontsize=15)"
   ]
  },
  {
   "cell_type": "code",
   "execution_count": 35,
   "metadata": {
    "hideCode": false,
    "hidePrompt": false,
    "slideshow": {
     "slide_type": "subslide"
    }
   },
   "outputs": [
    {
     "data": {
      "application/vnd.jupyter.widget-view+json": {
       "model_id": "54bc104e853e4aa8bbffc1260a9fb54f",
       "version_major": 2,
       "version_minor": 0
      },
      "text/plain": [
       "HBox(children=(VBox(children=(IntSlider(value=0, description='Vertical Angle:', max=360), IntSlider(value=0, d…"
      ]
     },
     "execution_count": 35,
     "metadata": {},
     "output_type": "execute_result"
    }
   ],
   "source": [
    "# hide\n",
    "from mpl_toolkits.mplot3d import Axes3D\n",
    "\n",
    "def rotate_butterfly_plot(degree_x=0, degree_y=0, degree_z=0):\n",
    "    fig = plt.figure(figsize=(12,12))\n",
    "    ax = fig.add_subplot(111, projection='3d')\n",
    "    ax.plot(trajectory1[:, 0], trajectory1[:, 1], trajectory1[:, 2],label=\"Trajectory 1\")\n",
    "    ax.plot(trajectory2[:, 0], trajectory2[:, 1], trajectory2[:, 2],label=\"Trajectory 2\")\n",
    "    ax.legend()\n",
    "    ax.view_init(elev=degree_x, azim=degree_y)\n",
    "    ax.set_xlabel(\"x(t)\",fontsize=15)\n",
    "    ax.set_ylabel(\"y(t)\",fontsize=15)\n",
    "    ax.set_zlabel(\"z(t)\",fontsize=15)\n",
    "\n",
    "\n",
    "slider_butterfly_x = IntSlider(min=0,max=360,step=1,value=0,description=\"Vertical Angle:\")\n",
    "slider_butterfly_z = IntSlider(min=0,max=360,step=1,value=0,description=\"Horizontal Angle:\")\n",
    "\n",
    "\n",
    "widgets.HBox(\n",
    "    [\n",
    "        widgets.VBox([slider_butterfly_x,slider_butterfly_z,]),\n",
    "            widgets.interactive_output(\n",
    "                rotate_butterfly_plot,\n",
    "                {\n",
    "                    'degree_x':slider_butterfly_x,\n",
    "                    'degree_y':slider_butterfly_z,\n",
    "                })\n",
    "    ]\n",
    ")"
   ]
  },
  {
   "cell_type": "code",
   "execution_count": null,
   "metadata": {
    "slideshow": {
     "slide_type": "skip"
    }
   },
   "outputs": [],
   "source": []
  }
 ],
 "metadata": {
  "celltoolbar": "Hide code",
  "kernelspec": {
   "display_name": "Python 3 (ipykernel)",
   "language": "python",
   "name": "python3"
  },
  "language_info": {
   "codemirror_mode": {
    "name": "ipython",
    "version": 3
   },
   "file_extension": ".py",
   "mimetype": "text/x-python",
   "name": "python",
   "nbconvert_exporter": "python",
   "pygments_lexer": "ipython3",
   "version": "3.9.7"
  },
  "varInspector": {
   "cols": {
    "lenName": 16,
    "lenType": 16,
    "lenVar": 40
   },
   "kernels_config": {
    "python": {
     "delete_cmd_postfix": "",
     "delete_cmd_prefix": "del ",
     "library": "var_list.py",
     "varRefreshCmd": "print(var_dic_list())"
    },
    "r": {
     "delete_cmd_postfix": ") ",
     "delete_cmd_prefix": "rm(",
     "library": "var_list.r",
     "varRefreshCmd": "cat(var_dic_list()) "
    }
   },
   "types_to_exclude": [
    "module",
    "function",
    "builtin_function_or_method",
    "instance",
    "_Feature"
   ],
   "window_display": false
  }
 },
 "nbformat": 4,
 "nbformat_minor": 2
}
