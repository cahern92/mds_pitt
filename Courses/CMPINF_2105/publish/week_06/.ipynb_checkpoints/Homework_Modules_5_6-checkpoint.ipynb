{
 "cells": [
  {
   "cell_type": "code",
   "execution_count": 1,
   "id": "41915aec-79ed-424a-86e0-2927b8f14528",
   "metadata": {},
   "outputs": [],
   "source": [
    "import sympy\n",
    "import numpy as np\n",
    "import seaborn as sns\n",
    "import pandas as pd\n",
    "import matplotlib.pyplot as plt"
   ]
  },
  {
   "cell_type": "code",
   "execution_count": 57,
   "id": "b3a2f5b0-f8b6-4654-974e-31c141ddbab5",
   "metadata": {},
   "outputs": [],
   "source": [
    "x, y = sympy.symbols(\"x y\")"
   ]
  },
  {
   "cell_type": "code",
   "execution_count": 60,
   "id": "3595b87a-05e9-40d8-9121-065c5121f207",
   "metadata": {},
   "outputs": [],
   "source": [
    "a1 = sympy.exp(2*x)"
   ]
  },
  {
   "cell_type": "code",
   "execution_count": 61,
   "id": "a7342014-9e79-40c4-92f7-37d756217238",
   "metadata": {},
   "outputs": [
    {
     "data": {
      "text/latex": [
       "$\\displaystyle e^{2 x}$"
      ],
      "text/plain": [
       "exp(2*x)"
      ]
     },
     "execution_count": 61,
     "metadata": {},
     "output_type": "execute_result"
    }
   ],
   "source": [
    "a1"
   ]
  },
  {
   "cell_type": "code",
   "execution_count": 62,
   "id": "196ba7b9-ac14-49ff-a356-ab082f83801e",
   "metadata": {},
   "outputs": [],
   "source": [
    "# Second derivative of a1\n",
    "b1 = sympy.diff(a1, x, x)"
   ]
  },
  {
   "cell_type": "code",
   "execution_count": 63,
   "id": "c1c9952f-15eb-4b00-b138-00d21d2ef685",
   "metadata": {},
   "outputs": [
    {
     "data": {
      "text/latex": [
       "$\\displaystyle 4 e^{2 x}$"
      ],
      "text/plain": [
       "4*exp(2*x)"
      ]
     },
     "execution_count": 63,
     "metadata": {},
     "output_type": "execute_result"
    }
   ],
   "source": [
    "b1"
   ]
  },
  {
   "cell_type": "code",
   "execution_count": 65,
   "id": "fcdb2cee-a127-45a1-bfb1-4eb273e5e94d",
   "metadata": {},
   "outputs": [],
   "source": [
    "a2 = sympy.cos(x)"
   ]
  },
  {
   "cell_type": "code",
   "execution_count": 66,
   "id": "e909c570-9a8b-4a4e-8bae-ff0fd936dd49",
   "metadata": {},
   "outputs": [],
   "source": [
    "b2 = sympy.diff(a2, x)"
   ]
  },
  {
   "cell_type": "code",
   "execution_count": 68,
   "id": "829df142-4588-4f03-a3df-09433dd497c0",
   "metadata": {},
   "outputs": [
    {
     "data": {
      "text/latex": [
       "$\\displaystyle - \\sin{\\left(x \\right)}$"
      ],
      "text/plain": [
       "-sin(x)"
      ]
     },
     "execution_count": 68,
     "metadata": {},
     "output_type": "execute_result"
    }
   ],
   "source": [
    "b2"
   ]
  },
  {
   "cell_type": "code",
   "execution_count": 73,
   "id": "941ab55c-b9bd-4ca1-87e7-b1ad91ac496a",
   "metadata": {},
   "outputs": [],
   "source": [
    "a3 = x**2 + y**2 - 25"
   ]
  },
  {
   "cell_type": "code",
   "execution_count": 74,
   "id": "19335318-9c6f-418b-855f-83d375500eed",
   "metadata": {},
   "outputs": [
    {
     "data": {
      "text/latex": [
       "$\\displaystyle x^{2} + y^{2} - 25$"
      ],
      "text/plain": [
       "x**2 + y**2 - 25"
      ]
     },
     "execution_count": 74,
     "metadata": {},
     "output_type": "execute_result"
    }
   ],
   "source": [
    "a3"
   ]
  },
  {
   "cell_type": "code",
   "execution_count": 75,
   "id": "b9c53a7e-2b7c-40c3-b160-af5799b97b29",
   "metadata": {},
   "outputs": [],
   "source": [
    "b3 = sympy.diff(a3, x)"
   ]
  },
  {
   "cell_type": "code",
   "execution_count": 76,
   "id": "3909bf6a-48ca-41c6-9df3-233d05238331",
   "metadata": {},
   "outputs": [
    {
     "data": {
      "text/latex": [
       "$\\displaystyle 2 x$"
      ],
      "text/plain": [
       "2*x"
      ]
     },
     "execution_count": 76,
     "metadata": {},
     "output_type": "execute_result"
    }
   ],
   "source": [
    "b3"
   ]
  },
  {
   "cell_type": "code",
   "execution_count": 79,
   "id": "7437efce-fa1f-46c3-8438-b9cb03d93a82",
   "metadata": {},
   "outputs": [],
   "source": [
    "b4 = x**3 - 2*x + 1"
   ]
  },
  {
   "cell_type": "code",
   "execution_count": 80,
   "id": "19a6f1d7-1ffc-47f2-93fc-5f5cd4416fa5",
   "metadata": {},
   "outputs": [
    {
     "data": {
      "text/latex": [
       "$\\displaystyle x^{3} - 2 x + 1$"
      ],
      "text/plain": [
       "x**3 - 2*x + 1"
      ]
     },
     "execution_count": 80,
     "metadata": {},
     "output_type": "execute_result"
    }
   ],
   "source": [
    "b4"
   ]
  },
  {
   "cell_type": "code",
   "execution_count": 81,
   "id": "ecb7ba79-6a83-4a82-8413-6f4c5e0886cf",
   "metadata": {},
   "outputs": [],
   "source": [
    "a4 = sympy.integrate(b4, (x, 0, 1))"
   ]
  },
  {
   "cell_type": "code",
   "execution_count": 82,
   "id": "60ec16fd-7f10-4edc-b09e-98cdca398916",
   "metadata": {},
   "outputs": [
    {
     "data": {
      "text/latex": [
       "$\\displaystyle \\frac{1}{4}$"
      ],
      "text/plain": [
       "1/4"
      ]
     },
     "execution_count": 82,
     "metadata": {},
     "output_type": "execute_result"
    }
   ],
   "source": [
    "a4"
   ]
  },
  {
   "cell_type": "code",
   "execution_count": 83,
   "id": "3b079008-fe0a-4cf6-81c9-cd401ae7489e",
   "metadata": {},
   "outputs": [],
   "source": [
    "b5 = x*sympy.exp(x)"
   ]
  },
  {
   "cell_type": "code",
   "execution_count": 84,
   "id": "a2556894-7c52-4fef-8041-186e0bbd4597",
   "metadata": {},
   "outputs": [
    {
     "data": {
      "text/latex": [
       "$\\displaystyle x e^{x}$"
      ],
      "text/plain": [
       "x*exp(x)"
      ]
     },
     "execution_count": 84,
     "metadata": {},
     "output_type": "execute_result"
    }
   ],
   "source": [
    "b5"
   ]
  },
  {
   "cell_type": "code",
   "execution_count": 85,
   "id": "69d6e993-6746-4c95-a419-dfae5ec6b929",
   "metadata": {},
   "outputs": [],
   "source": [
    "a5 = sympy.integrate(b5, x)"
   ]
  },
  {
   "cell_type": "code",
   "execution_count": 86,
   "id": "daad7373-4330-4261-85e1-ef3b9fc9d357",
   "metadata": {},
   "outputs": [
    {
     "data": {
      "text/latex": [
       "$\\displaystyle \\left(x - 1\\right) e^{x}$"
      ],
      "text/plain": [
       "(x - 1)*exp(x)"
      ]
     },
     "execution_count": 86,
     "metadata": {},
     "output_type": "execute_result"
    }
   ],
   "source": [
    "a5"
   ]
  },
  {
   "cell_type": "code",
   "execution_count": 87,
   "id": "1b4e103b-c88c-4f60-a4c1-3d144ad3611f",
   "metadata": {},
   "outputs": [],
   "source": [
    "b6 = 2*x*(x**2+1)**.5"
   ]
  },
  {
   "cell_type": "code",
   "execution_count": 89,
   "id": "8a9459ea-7cc5-4824-b350-ffdb70ae023b",
   "metadata": {},
   "outputs": [
    {
     "data": {
      "text/latex": [
       "$\\displaystyle 2 x \\left(x^{2} + 1\\right)^{0.5}$"
      ],
      "text/plain": [
       "2*x*(x**2 + 1)**0.5"
      ]
     },
     "execution_count": 89,
     "metadata": {},
     "output_type": "execute_result"
    }
   ],
   "source": [
    "b6"
   ]
  },
  {
   "cell_type": "code",
   "execution_count": 90,
   "id": "087a6501-88cc-4db9-9d52-2a8ebeedca6a",
   "metadata": {},
   "outputs": [],
   "source": [
    "a6 = sympy.integrate(b6, x)"
   ]
  },
  {
   "cell_type": "code",
   "execution_count": 91,
   "id": "690ca7c7-83a3-4f5c-ae38-261409d956c1",
   "metadata": {},
   "outputs": [
    {
     "data": {
      "text/latex": [
       "$\\displaystyle 0.666666666666667 \\left(x^{2} + 1\\right)^{1.5}$"
      ],
      "text/plain": [
       "0.666666666666667*(x**2 + 1)**1.5"
      ]
     },
     "execution_count": 91,
     "metadata": {},
     "output_type": "execute_result"
    }
   ],
   "source": [
    "a6"
   ]
  }
 ],
 "metadata": {
  "kernelspec": {
   "display_name": "Python 3 (ipykernel)",
   "language": "python",
   "name": "python3"
  },
  "language_info": {
   "codemirror_mode": {
    "name": "ipython",
    "version": 3
   },
   "file_extension": ".py",
   "mimetype": "text/x-python",
   "name": "python",
   "nbconvert_exporter": "python",
   "pygments_lexer": "ipython3",
   "version": "3.8.19"
  }
 },
 "nbformat": 4,
 "nbformat_minor": 5
}
