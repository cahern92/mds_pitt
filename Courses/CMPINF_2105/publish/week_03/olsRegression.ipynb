{
 "cells": [
  {
   "cell_type": "code",
   "execution_count": 1,
   "id": "e3d49ee7",
   "metadata": {
    "slideshow": {
     "slide_type": "skip"
    }
   },
   "outputs": [],
   "source": [
    "import plainEnglishCoding\n",
    "import pprint,sympy\n",
    "import warnings\n",
    "warnings.filterwarnings(\"ignore\")\n",
    "import numpy as np\n",
    "import matplotlib.pyplot as plt\n",
    "import matplotlib,sympy\n",
    "import ipywidgets as widgets"
   ]
  },
  {
   "cell_type": "markdown",
   "id": "1f6c447d",
   "metadata": {
    "slideshow": {
     "slide_type": "skip"
    }
   },
   "source": [
    "https://en.wikipedia.org/wiki/Ordinary_least_squares "
   ]
  },
  {
   "cell_type": "markdown",
   "id": "1fc78bbf",
   "metadata": {
    "heading_collapsed": true,
    "slideshow": {
     "slide_type": "slide"
    }
   },
   "source": [
    "# Failure to Backsolve\n",
    "\n",
    "In the previous module, we discussed using backsolving  \n",
    "\n",
    "$\n",
    "    M\\cdot\\vec{p}=\\vec{c}\n",
    "$\n",
    "\n",
    "where the matrix $M$ and vector $\\vec{c}$ are known but $\\vec{p}$ is unknown.\n",
    "\n",
    "This process effectively finds the inverse matrix, $M^{-1}$, which acts on $\\vec{c}$ to find $\\vec{p}$:\n",
    "\n",
    "$\n",
    "    \\vec{p} = M^{-1}\\vec{c}\n",
    "    \\hspace{1cm}\n",
    "$\n",
    "and\n",
    "$\n",
    "    \\hspace{1cm}\n",
    "    M^{-1} M = I\n",
    "$"
   ]
  },
  {
   "cell_type": "markdown",
   "id": "6af05fde",
   "metadata": {
    "hidden": true,
    "slideshow": {
     "slide_type": "subslide"
    }
   },
   "source": [
    "Backsolving is great if each component in $\\vec{p}=\\begin{bmatrix}p_1 \\\\ p_2 \\\\ \\vdots \\\\ p_n \\end{bmatrix}$ has a single solution.\n",
    "\n",
    "In our previous example, the $\\$2$ price for an apple and $\\$3$ price for an orange was fixed to a single value for every shopper.\n",
    "\n",
    "But what if the individual shoppers shop at different grocery stores? \n",
    "\n",
    "This assumption of a fixed price across different grocery stores is pretty rigid and unrealistic."
   ]
  },
  {
   "cell_type": "markdown",
   "id": "f5f6effd",
   "metadata": {
    "hidden": true,
    "slideshow": {
     "slide_type": "subslide"
    }
   },
   "source": [
    "Let's consider a system of linear equations where several individuals each purchase some number of apples from different stores where prices might differ.\n",
    "\n",
    "Let's assume $\\color{orange}{p_{\\text{orange}}}=\\$3$ always but $\\color{red}{p_{\\text{apple}}}=\\$2$ for the first person and $\\color{red}{p_{\\text{apple}}}=\\$2.2$ for the second person.\n",
    "\n",
    "$\n",
    "    \\begin{align}\n",
    "        2\\cdot \\color{red}{p_{\\text{apple}}} +3\\cdot \\color{orange}{p_{\\text{orange}}}\n",
    "            &= 2\\cdot\\color{red}{2} + 3\\cdot\\color{orange}{3}\n",
    "            = 13 \\\\\n",
    "        3\\cdot \\color{red}{p_{\\text{apple}}} +5\\cdot \\color{orange}{p_{\\text{orange}}} \n",
    "            &= 3\\cdot \\color{red}{2.2}+ 5\\cdot\\color{orange}{3}\n",
    "            = 21.6 \\\\\n",
    "    \\end{align}\n",
    "$\n",
    "\n",
    "There are two equations and two unknown variables, and no equation is a multiple of another.\n",
    "\n",
    "This system appear to pass our requirements for backsolving. So let's try backsolving."
   ]
  },
  {
   "cell_type": "markdown",
   "id": "a545f391",
   "metadata": {
    "hidden": true,
    "slideshow": {
     "slide_type": "subslide"
    }
   },
   "source": [
    "$\n",
    "2\\cdot \\color{red}{p_{\\text{apple}}} +3\\cdot \\color{orange}{p_{\\text{orange}}}= 13\n",
    "\\hspace{1cm}\n",
    "$\n",
    "implies\n",
    "$\n",
    "\\hspace{1cm}\n",
    "\\color{red}{p_{\\text{apple}}} = \\frac{13}{2} - \\frac{3}{2}\\cdot \\color{orange}{p_{\\text{orange}}}\n",
    "$\n",
    "\n",
    "So our system becomes \n",
    "\n",
    "$\n",
    "\\bbox[border: 1pt solid black]{\n",
    "\\begin{align}\n",
    "    2\\cdot \\color{red}{p_{\\text{apple}}} +3\\cdot \\color{orange}{p_{\\text{orange}}} &= 13 \\\\\n",
    "    3\\cdot \\color{red}{p_{\\text{apple}}} +5\\cdot \\color{orange}{p_{\\text{orange}}} &= 21.6 \\\\\n",
    "\\end{align}\n",
    "}\n",
    "$\n",
    "$\n",
    "\\hspace{1cm}\\Rightarrow\\hspace{1cm}\n",
    "\\bbox[border: 1pt solid black]{\n",
    "\\begin{align}\n",
    "    2\\cdot \\color{red}{p_{\\text{apple}}} +3\\cdot \\color{orange}{p_{\\text{orange}}} &= 13 \\\\\n",
    "    3\\cdot \\left(\\frac{13}{2} - \\frac{3}{2}\\cdot \\color{orange}{p_{\\text{orange}}}\\right) +5\\cdot \\color{orange}{p_{\\text{orange}}}&= 21.6 \\\\\n",
    "\\end{align}\n",
    "}\n",
    "$\n",
    "$\n",
    "\\hspace{1cm}\\Rightarrow\\hspace{1cm}\n",
    "\\bbox[border: 1pt solid black]{\n",
    "\\begin{align}\n",
    "    2\\cdot \\color{red}{p_{\\text{apple}}} +3\\cdot \\color{orange}{p_{\\text{orange}}} &= 13 \\\\\n",
    "      \\color{orange}{p_{\\text{orange}}}&= 4.2 \\\\\n",
    "\\end{align}\n",
    "}\n",
    "$"
   ]
  },
  {
   "cell_type": "markdown",
   "id": "d33d4561",
   "metadata": {
    "hidden": true,
    "slideshow": {
     "slide_type": "fragment"
    }
   },
   "source": [
    "And then plugging in \n",
    "$\\hspace{1cm}\\color{orange}{p_{\\text{orange}}}= 4.2\\hspace{1cm}$\n",
    "into the first equation, we get\n",
    "\n",
    "$\n",
    "\\bbox[border: 1pt solid black]{\n",
    "\\begin{align}\n",
    "    2\\cdot \\color{red}{p_{\\text{apple}}} +3\\cdot \\color{orange}{p_{\\text{orange}}} &= 13 \\\\\n",
    "      \\color{orange}{p_{\\text{orange}}}&= 4.2 \\\\\n",
    "\\end{align}\n",
    "}\n",
    "$\n",
    "$\n",
    "\\hspace{1cm}\\Rightarrow\\hspace{1cm}\n",
    "\\bbox[border: 1pt solid black]{\n",
    "\\begin{align}\n",
    "    2\\cdot \\color{red}{p_{\\text{apple}}} +3\\cdot 4.2 &= 13 \\\\\n",
    "      \\color{orange}{p_{\\text{orange}}}&= 4.2 \\\\\n",
    "\\end{align}\n",
    "}\n",
    "$\n",
    "$\n",
    "\\hspace{1cm}\\Rightarrow\\hspace{1cm}\n",
    "\\bbox[border: 1pt solid black]{\n",
    "\\begin{align}\n",
    "    \\color{red}{p_{\\text{apple}}}&= 0.2 \\\\\n",
    "    \\color{orange}{p_{\\text{orange}}}&= 4.2 \\\\\n",
    "\\end{align}\n",
    "}\n",
    "$\n",
    "\n",
    "**But this solution is nothing like our original prices!**"
   ]
  },
  {
   "cell_type": "markdown",
   "id": "b68a7c85",
   "metadata": {
    "hidden": true,
    "slideshow": {
     "slide_type": "subslide"
    }
   },
   "source": [
    "This problem will create issues programatically too."
   ]
  },
  {
   "cell_type": "code",
   "execution_count": 2,
   "id": "959d752d",
   "metadata": {
    "hidden": true,
    "slideshow": {
     "slide_type": "fragment"
    }
   },
   "outputs": [
    {
     "data": {
      "text/plain": [
       "array([13. , 21.6])"
      ]
     },
     "execution_count": 2,
     "metadata": {},
     "output_type": "execute_result"
    }
   ],
   "source": [
    "# Create our system of equations.\n",
    "# Need to run slightly different code to accommodate the different prices among individuals.\n",
    "p = np.array([\n",
    "    [2,  3,],\n",
    "    [2.2,3,],\n",
    "])\n",
    "M = np.array([\n",
    "    [2,3,],\n",
    "    [3,5],\n",
    "])\n",
    "c = np.sum(M*p,axis=1)\n",
    "c"
   ]
  },
  {
   "cell_type": "code",
   "execution_count": 3,
   "id": "95ce3e02",
   "metadata": {
    "hidden": true,
    "slideshow": {
     "slide_type": "subslide"
    }
   },
   "outputs": [
    {
     "data": {
      "text/plain": [
       "array([0.2, 4.2])"
      ]
     },
     "execution_count": 3,
     "metadata": {},
     "output_type": "execute_result"
    }
   ],
   "source": [
    "# attempt to backsolve\n",
    "p2 = np.linalg.solve(M,c)\n",
    "p2"
   ]
  },
  {
   "cell_type": "code",
   "execution_count": 4,
   "id": "2fc862e3",
   "metadata": {
    "hidden": true,
    "slideshow": {
     "slide_type": "fragment"
    }
   },
   "outputs": [
    {
     "name": "stdout",
     "output_type": "stream",
     "text": [
      "[13.  21.6]\n"
     ]
    },
    {
     "data": {
      "text/plain": [
       "array([13. , 21.6])"
      ]
     },
     "execution_count": 4,
     "metadata": {},
     "output_type": "execute_result"
    }
   ],
   "source": [
    "# is this alternative answer 'correct'?\n",
    "print(c)\n",
    "M@p2"
   ]
  },
  {
   "cell_type": "markdown",
   "id": "63e8d710",
   "metadata": {
    "heading_collapsed": true,
    "slideshow": {
     "slide_type": "slide"
    }
   },
   "source": [
    "# Solving Overdetermined Linear Systems with Matrix Transpose\n",
    "\n",
    "Consider an **overdetermined** system with more equations than unknown variables\n",
    "\n",
    "$\n",
    "M = \\begin{bmatrix}\n",
    "    m_{11} & m_{12} & \\cdots & m_{1p} \\\\\n",
    "    m_{21} & m_{22} & \\cdots & m_{2p} \\\\\n",
    "    \\vdots & \\vdots & \\ddots & \\vdots \\\\\n",
    "    m_{n1} & m_{n2} & \\cdots & m_{np} \\\\\n",
    "\\end{bmatrix},\n",
    "\\hspace{1cm}\n",
    "\\vec{x} = \\begin{bmatrix}\n",
    "    x_1 \\\\ x_2 \\\\ \\vdots \\\\ x_p\n",
    "\\end{bmatrix},\n",
    "\\hspace{1cm}\n",
    "\\vec{y} = \\begin{bmatrix}\n",
    "    y_1 \\\\ y_2 \\\\ \\vdots \\\\ y_n\n",
    "\\end{bmatrix},\n",
    "$\n",
    "\n",
    "such that $\\hspace{1cm}M\\cdot\\vec{x}\\approx\\vec{y}\\hspace{1cm}$ and $n>p$.\n",
    "\n",
    "As before, we can think about $\\vec{x}$ as prices for $p$ different grocery items, $M$ as the purchases of $n$ individuals, and $\\vec{y}$ as the total costs for each individual.\n",
    "\n",
    "$M$ is effectively a **data set** of purchasing behaviors across individuals.\n",
    "\n",
    "However, because $M$ is an $n\\times p$ rectangular matrix, $M^{-1}$ does not exist. So, we cannot backsolve this system."
   ]
  },
  {
   "cell_type": "markdown",
   "id": "f5b4ac43",
   "metadata": {
    "hidden": true,
    "slideshow": {
     "slide_type": "subslide"
    }
   },
   "source": [
    "Since $M^{-1}$ does not exist because $M$ is not a square matrix, we cannot solve the system as \n",
    "\n",
    "$\n",
    "\\left(M^{-1}M\\right)\\vec{x} = M^{-1}\\vec{y} \n",
    "\\hspace{1cm}\\Rightarrow\\hspace{1cm}\n",
    "\\vec{x} = M^{-1}\\vec{y}\n",
    "$\n",
    "\n",
    "<font color='red'>Instead we will use the **transpose** of $M$ denoted $M^T$. </font>\n",
    "\n",
    "You transpose a matrix by reflecting the components of the matrix about the main diagnol from the top-left to the bottom right.\n",
    "\n",
    "Here are some examples:\n",
    "\n",
    "<table>\n",
    "    <tr>\n",
    "        <td>\n",
    "            <img src=\"//upload.wikimedia.org/wikipedia/commons/thumb/e/e4/Matrix_transpose.gif/200px-Matrix_transpose.gif\" decoding=\"async\" width=\"200\" height=\"257\" srcset=\"//upload.wikimedia.org/wikipedia/commons/e/e4/Matrix_transpose.gif 1.5x\" data-file-width=\"210\" data-file-height=\"270\">\n",
    "        </td>\n",
    "        <td>\n",
    "            <ul style=\"line-height: 75px;\">\n",
    "                <li>\n",
    "                    $\n",
    "                    \\begin{bmatrix}\n",
    "                        1 & 2\n",
    "                      \\end{bmatrix}^{\\operatorname{T}}\n",
    "                      = \\,\n",
    "                      \\begin{bmatrix}\n",
    "                        1   \\\\\n",
    "                        2\n",
    "                      \\end{bmatrix}\n",
    "                    $\n",
    "                </li>\n",
    "                <li>\n",
    "                    $\n",
    "                    \\begin{bmatrix}\n",
    "                        1 & 2  \\\\\n",
    "                        3 & 4\n",
    "                      \\end{bmatrix}^{\\operatorname{T}}\n",
    "                      =\n",
    "                      \\begin{bmatrix}\n",
    "                        1 & 3  \\\\\n",
    "                        2 & 4\n",
    "                      \\end{bmatrix}\n",
    "                    $\n",
    "                </li>\n",
    "                <li>\n",
    "                    $\n",
    "                      \\begin{bmatrix}\n",
    "                        1 & 2 \\\\\n",
    "                        3 & 4 \\\\\n",
    "                        5 & 6\n",
    "                      \\end{bmatrix}^{\\operatorname{T}}\n",
    "                      =\n",
    "                      \\begin{bmatrix}\n",
    "                         1 & 3 & 5\\\\\n",
    "                         2 & 4 & 6\n",
    "                      \\end{bmatrix}\n",
    "                    $\n",
    "                </li>\n",
    "            </ul>\n",
    "        </td>\n",
    "    </tr>\n",
    "</table>\n",
    "    \n",
    "\n"
   ]
  },
  {
   "cell_type": "markdown",
   "id": "d9d0eb5b",
   "metadata": {
    "hidden": true,
    "slideshow": {
     "slide_type": "subslide"
    }
   },
   "source": [
    "If $M$ is an $n\\times p\\,$ matrix, then $M^T$ will be a $p\\times n$.\n",
    "\n",
    "What about $M^TM$? "
   ]
  },
  {
   "cell_type": "markdown",
   "id": "52377044",
   "metadata": {
    "hidden": true,
    "slideshow": {
     "slide_type": "fragment"
    }
   },
   "source": [
    "Here is an example for $M$ a $3\\times2$ matrix.\n",
    "$\n",
    "M^TM = \n",
    "\\begin{bmatrix}m_{11} & m_{21} & m_{31}\\\\m_{12} & m_{22} & m_{32}\\end{bmatrix}\n",
    "\\cdot\n",
    "\\begin{bmatrix}m_{11} & m_{12}\\\\m_{21} & m_{22}\\\\m_{31} & m_{32}\\end{bmatrix}\n",
    "=\n",
    "\\begin{bmatrix}m_{11}^{2} + m_{21}^{2} + m_{31}^{2} & m_{11} m_{12} + m_{21} m_{22} + m_{31} m_{32}\\\\m_{11} m_{12} + m_{21} m_{22} + m_{31} m_{32} & m_{12}^{2} + m_{22}^{2} + m_{32}^{2}\\end{bmatrix}\n",
    "$\n",
    "\n",
    "$M^TM$ is a $2\\times2$ matrix. "
   ]
  },
  {
   "cell_type": "markdown",
   "id": "63ca13b5",
   "metadata": {
    "hidden": true,
    "slideshow": {
     "slide_type": "fragment"
    }
   },
   "source": [
    "And in general, for $M$ a $n\\times p$ matrix\n",
    "\n",
    "$\n",
    "M^TM = \n",
    "\\begin{bmatrix}\n",
    "    m_{11} & m_{21} & \\cdots & \\cdots & m_{n1} \\\\\n",
    "    %m_{12} & m_{22} & \\cdots & \\cdots & m_{n2} \\\\\n",
    "    \\vdots & \\vdots & \\ddots & \\ddots & \\vdots \\\\\n",
    "    m_{1p} & m_{2p} & \\cdots & \\cdots & m_{np} \\\\\n",
    "\\end{bmatrix}\n",
    "\\cdot\n",
    "\\begin{bmatrix}\n",
    "    m_{11} & \\cdots & m_{1p} \\\\\n",
    "    m_{21} &  \\cdots & m_{2p} \\\\\n",
    "    \\vdots &  \\ddots & \\vdots \\\\\n",
    "    \\vdots &  \\ddots & \\vdots \\\\\n",
    "    m_{n1} &  \\cdots & m_{np} \\\\\n",
    "\\end{bmatrix}\n",
    "=\n",
    "\\begin{bmatrix}\n",
    "    \\sum_{i=1}^n m_{i1}^2 & \n",
    "        \\sum_{i=1}^n m_{i1}m_{i2} &\n",
    "        \\cdots & \n",
    "        \\sum_{i=1}^n m_{i1}m_{ip} \\\\\n",
    "    \\sum_{i=1}^n m_{i2}m_{i1} &\n",
    "        \\sum_{i=1}^n m_{i2}^2 &\n",
    "        \\cdots & \n",
    "        \\sum_{i=1}^n m_{i2}m_{ip} \\\\\n",
    "    \\vdots &\n",
    "        \\vdots &\n",
    "        \\ddots & \n",
    "        \\vdots \\\\\n",
    "    \\sum_{i=1}^n m_{ip}m_{i1} &\n",
    "        \\sum_{i=1}^n m_{ip}m_{i2} &\n",
    "        \\cdots &\n",
    "        \\sum_{i=1}^n m_{ip}^2 \\\\\n",
    "\\end{bmatrix}\n",
    "$\n",
    "\n",
    "yielding a square $p\\times p$ matrix."
   ]
  },
  {
   "cell_type": "markdown",
   "id": "04cf8f38",
   "metadata": {
    "hidden": true,
    "slideshow": {
     "slide_type": "subslide"
    }
   },
   "source": [
    "Instead of \n",
    "$\n",
    "\\hspace{1cm}\n",
    "M\\vec{x}\\approx\\vec{y}\n",
    "\\hspace{1cm}\n",
    "$\n",
    "for which $M^{-1}$ does not exist because $M$ is rectangular $n\\times p$, \n",
    "\n",
    "consider\n",
    "$\n",
    "\\hspace{1cm}\n",
    "\\left(M^TM\\right)\\vec{x} \\approx M^T\\vec{y}\n",
    "\\hspace{1cm}\n",
    "$\n",
    "\n",
    "\n",
    "Does the square $p\\times p$ matrix $\\left(M^TM\\right)$ have an inverse $\\left(M^TM\\right)^{-1}$? "
   ]
  },
  {
   "cell_type": "markdown",
   "id": "595e2e39",
   "metadata": {
    "hidden": true,
    "slideshow": {
     "slide_type": "fragment"
    }
   },
   "source": [
    "If the inverse $\\left(M^TM\\right)^{-1}$ exists, then we can solve for $\\vec{x}$ by backsolving the following system:\n",
    "\n",
    "$\n",
    "\\left(M^TM\\right)\\vec{x} = M^T\\vec{y}\n",
    "\\hspace{1cm}\\Rightarrow\\hspace{1cm}\n",
    "\\vec{x} = \\left(M^TM\\right)^{-1}M^T\\vec{y}\n",
    "$\n"
   ]
  },
  {
   "cell_type": "markdown",
   "id": "f6c1630d",
   "metadata": {
    "hidden": true,
    "slideshow": {
     "slide_type": "subslide"
    }
   },
   "source": [
    "The same criteria for successful backsolving applies here too.\n",
    "\n",
    "In particular, if each of the columns of $\\left(M^TM\\right)$ are linearly independent, then $\\left(M^TM\\right)^{-1}$ exists."
   ]
  },
  {
   "cell_type": "markdown",
   "id": "ffc1c0b7",
   "metadata": {
    "hidden": true,
    "slideshow": {
     "slide_type": "fragment"
    }
   },
   "source": [
    "We can determine if $\\left(M^TM\\right)$ his linearly independent columns by testing the columns of $M$.\n",
    "\n",
    "Here is an example where columns are **not** linearly indepedent.\n",
    "\n",
    "Let\n",
    "$\n",
    "\\hspace{1cm}\n",
    "M = \\begin{bmatrix}m_{11} & 2 m_{11}\\\\m_{21} & 2 m_{21}\\\\m_{31} & 2 m_{31}\\end{bmatrix},\n",
    "\\hspace{1cm}\n",
    "$\n",
    "then\n",
    "\n",
    "$\n",
    "M^TM = \\begin{bmatrix}m_{11}^{2} + m_{21}^{2} + m_{31}^{2} & 2 m_{11}^{2} + 2 m_{21}^{2} + 2 m_{31}^{2}\\\\2 m_{11}^{2} + 2 m_{21}^{2} + 2 m_{31}^{2} & 4 m_{11}^{2} + 4 m_{21}^{2} + 4 m_{31}^{2}\\end{bmatrix}\n",
    "$\n",
    "\n",
    "The second column of $M^TM$ is $2\\times$ the first column and $M^TM$ is not invertible.\n",
    "\n",
    "Therefore, in this example, we cannot solve $\\, \\left(M^TM\\right)\\vec{x} \\approx M^T\\vec{y}\\,$ by inverting $\\left(M^TM\\right)$."
   ]
  },
  {
   "cell_type": "code",
   "execution_count": 5,
   "id": "60adb95b",
   "metadata": {
    "hidden": true,
    "slideshow": {
     "slide_type": "subslide"
    }
   },
   "outputs": [
    {
     "name": "stdout",
     "output_type": "stream",
     "text": [
      "[[1 2]\n",
      " [3 4]\n",
      " [5 6]]\n",
      "\n",
      "[[1 3 5]\n",
      " [2 4 6]]\n"
     ]
    }
   ],
   "source": [
    "# programmatically, you can take the transpose of a matrix in Numpy or SymPy using M.T\n",
    "M = np.reshape(np.arange(6)+1,(3,2))\n",
    "print(M)\n",
    "print(\"\")\n",
    "# transpose M\n",
    "print(M.T)"
   ]
  },
  {
   "cell_type": "code",
   "execution_count": 6,
   "id": "1d77302f",
   "metadata": {
    "hidden": true,
    "slideshow": {
     "slide_type": "fragment"
    }
   },
   "outputs": [
    {
     "data": {
      "text/latex": [
       "$\\displaystyle \\left[\\begin{matrix}m_{11} & m_{12}\\\\m_{21} & m_{22}\\\\m_{31} & m_{32}\\end{matrix}\\right]$"
      ],
      "text/plain": [
       "Matrix([\n",
       "[m_{11}, m_{12}],\n",
       "[m_{21}, m_{22}],\n",
       "[m_{31}, m_{32}]])"
      ]
     },
     "execution_count": 6,
     "metadata": {},
     "output_type": "execute_result"
    }
   ],
   "source": [
    "a,b,c,d,e,f = sympy.symbols(\"m_{11} m_{12} m_{21} m_{22} m_{31} m_{32}\")\n",
    "M = sympy.Matrix([\n",
    "    [a,b],\n",
    "    [c,d],\n",
    "    [e,f]\n",
    "])\n",
    "M"
   ]
  },
  {
   "cell_type": "code",
   "execution_count": 7,
   "id": "d6192309",
   "metadata": {
    "hidden": true,
    "slideshow": {
     "slide_type": "fragment"
    }
   },
   "outputs": [
    {
     "data": {
      "text/latex": [
       "$\\displaystyle \\left[\\begin{matrix}m_{11} & m_{21} & m_{31}\\\\m_{12} & m_{22} & m_{32}\\end{matrix}\\right]$"
      ],
      "text/plain": [
       "Matrix([\n",
       "[m_{11}, m_{21}, m_{31}],\n",
       "[m_{12}, m_{22}, m_{32}]])"
      ]
     },
     "execution_count": 7,
     "metadata": {},
     "output_type": "execute_result"
    }
   ],
   "source": [
    "# transpose M\n",
    "M.T"
   ]
  },
  {
   "cell_type": "code",
   "execution_count": 8,
   "id": "4993c90f",
   "metadata": {
    "hidden": true,
    "slideshow": {
     "slide_type": "fragment"
    }
   },
   "outputs": [
    {
     "data": {
      "text/latex": [
       "$\\displaystyle \\left[\\begin{matrix}m_{11}^{2} + m_{21}^{2} + m_{31}^{2} & m_{11} m_{12} + m_{21} m_{22} + m_{31} m_{32}\\\\m_{11} m_{12} + m_{21} m_{22} + m_{31} m_{32} & m_{12}^{2} + m_{22}^{2} + m_{32}^{2}\\end{matrix}\\right]$"
      ],
      "text/plain": [
       "Matrix([\n",
       "[            m_{11}**2 + m_{21}**2 + m_{31}**2, m_{11}*m_{12} + m_{21}*m_{22} + m_{31}*m_{32}],\n",
       "[m_{11}*m_{12} + m_{21}*m_{22} + m_{31}*m_{32},             m_{12}**2 + m_{22}**2 + m_{32}**2]])"
      ]
     },
     "execution_count": 8,
     "metadata": {},
     "output_type": "execute_result"
    }
   ],
   "source": [
    "M.T@M"
   ]
  },
  {
   "cell_type": "code",
   "execution_count": 9,
   "id": "d22e773f",
   "metadata": {
    "hidden": true,
    "slideshow": {
     "slide_type": "subslide"
    }
   },
   "outputs": [],
   "source": [
    "# Python Numpy for solving system with matrix tranpose\n",
    "\n",
    "# generate example prices \\vec{x}\n",
    "x = np.random.randint(0,20,size=5)\n",
    "p = len(x)\n",
    "# should be n > p\n",
    "n = p+20\n",
    "# generate example purchasing behavior for n individuals\n",
    "M = np.random.randint(0,50,size=(n,p))\n",
    "# calculate true total costs \\vec{y}\n",
    "y = M@x"
   ]
  },
  {
   "cell_type": "code",
   "execution_count": 11,
   "id": "69b7bc14",
   "metadata": {
    "hidden": true,
    "slideshow": {
     "slide_type": "fragment"
    }
   },
   "outputs": [
    {
     "ename": "LinAlgError",
     "evalue": "Last 2 dimensions of the array must be square",
     "output_type": "error",
     "traceback": [
      "\u001b[0;31m---------------------------------------------------------------------------\u001b[0m",
      "\u001b[0;31mLinAlgError\u001b[0m                               Traceback (most recent call last)",
      "\u001b[0;32m/var/folders/1_/mlqp4_wx2_54k9cswn2_f0qr0000gn/T/ipykernel_92453/588746993.py\u001b[0m in \u001b[0;36m<module>\u001b[0;34m\u001b[0m\n\u001b[1;32m      1\u001b[0m \u001b[0;31m# attempt to backsolve, but expect error because M is not square\u001b[0m\u001b[0;34m\u001b[0m\u001b[0;34m\u001b[0m\u001b[0;34m\u001b[0m\u001b[0m\n\u001b[0;32m----> 2\u001b[0;31m \u001b[0mx\u001b[0m \u001b[0;34m=\u001b[0m \u001b[0mnp\u001b[0m\u001b[0;34m.\u001b[0m\u001b[0mlinalg\u001b[0m\u001b[0;34m.\u001b[0m\u001b[0msolve\u001b[0m\u001b[0;34m(\u001b[0m\u001b[0mM\u001b[0m\u001b[0;34m,\u001b[0m\u001b[0my\u001b[0m\u001b[0;34m)\u001b[0m\u001b[0;34m\u001b[0m\u001b[0;34m\u001b[0m\u001b[0m\n\u001b[0m",
      "\u001b[0;32m/opt/miniconda3/lib/python3.9/site-packages/numpy/linalg/linalg.py\u001b[0m in \u001b[0;36msolve\u001b[0;34m(a, b)\u001b[0m\n\u001b[1;32m    394\u001b[0m     \u001b[0ma\u001b[0m\u001b[0;34m,\u001b[0m \u001b[0m_\u001b[0m \u001b[0;34m=\u001b[0m \u001b[0m_makearray\u001b[0m\u001b[0;34m(\u001b[0m\u001b[0ma\u001b[0m\u001b[0;34m)\u001b[0m\u001b[0;34m\u001b[0m\u001b[0;34m\u001b[0m\u001b[0m\n\u001b[1;32m    395\u001b[0m     \u001b[0m_assert_stacked_2d\u001b[0m\u001b[0;34m(\u001b[0m\u001b[0ma\u001b[0m\u001b[0;34m)\u001b[0m\u001b[0;34m\u001b[0m\u001b[0;34m\u001b[0m\u001b[0m\n\u001b[0;32m--> 396\u001b[0;31m     \u001b[0m_assert_stacked_square\u001b[0m\u001b[0;34m(\u001b[0m\u001b[0ma\u001b[0m\u001b[0;34m)\u001b[0m\u001b[0;34m\u001b[0m\u001b[0;34m\u001b[0m\u001b[0m\n\u001b[0m\u001b[1;32m    397\u001b[0m     \u001b[0mb\u001b[0m\u001b[0;34m,\u001b[0m \u001b[0mwrap\u001b[0m \u001b[0;34m=\u001b[0m \u001b[0m_makearray\u001b[0m\u001b[0;34m(\u001b[0m\u001b[0mb\u001b[0m\u001b[0;34m)\u001b[0m\u001b[0;34m\u001b[0m\u001b[0;34m\u001b[0m\u001b[0m\n\u001b[1;32m    398\u001b[0m     \u001b[0mt\u001b[0m\u001b[0;34m,\u001b[0m \u001b[0mresult_t\u001b[0m \u001b[0;34m=\u001b[0m \u001b[0m_commonType\u001b[0m\u001b[0;34m(\u001b[0m\u001b[0ma\u001b[0m\u001b[0;34m,\u001b[0m \u001b[0mb\u001b[0m\u001b[0;34m)\u001b[0m\u001b[0;34m\u001b[0m\u001b[0;34m\u001b[0m\u001b[0m\n",
      "\u001b[0;32m/opt/miniconda3/lib/python3.9/site-packages/numpy/linalg/linalg.py\u001b[0m in \u001b[0;36m_assert_stacked_square\u001b[0;34m(*arrays)\u001b[0m\n\u001b[1;32m    211\u001b[0m         \u001b[0mm\u001b[0m\u001b[0;34m,\u001b[0m \u001b[0mn\u001b[0m \u001b[0;34m=\u001b[0m \u001b[0ma\u001b[0m\u001b[0;34m.\u001b[0m\u001b[0mshape\u001b[0m\u001b[0;34m[\u001b[0m\u001b[0;34m-\u001b[0m\u001b[0;36m2\u001b[0m\u001b[0;34m:\u001b[0m\u001b[0;34m]\u001b[0m\u001b[0;34m\u001b[0m\u001b[0;34m\u001b[0m\u001b[0m\n\u001b[1;32m    212\u001b[0m         \u001b[0;32mif\u001b[0m \u001b[0mm\u001b[0m \u001b[0;34m!=\u001b[0m \u001b[0mn\u001b[0m\u001b[0;34m:\u001b[0m\u001b[0;34m\u001b[0m\u001b[0;34m\u001b[0m\u001b[0m\n\u001b[0;32m--> 213\u001b[0;31m             \u001b[0;32mraise\u001b[0m \u001b[0mLinAlgError\u001b[0m\u001b[0;34m(\u001b[0m\u001b[0;34m'Last 2 dimensions of the array must be square'\u001b[0m\u001b[0;34m)\u001b[0m\u001b[0;34m\u001b[0m\u001b[0;34m\u001b[0m\u001b[0m\n\u001b[0m\u001b[1;32m    214\u001b[0m \u001b[0;34m\u001b[0m\u001b[0m\n\u001b[1;32m    215\u001b[0m \u001b[0;32mdef\u001b[0m \u001b[0m_assert_finite\u001b[0m\u001b[0;34m(\u001b[0m\u001b[0;34m*\u001b[0m\u001b[0marrays\u001b[0m\u001b[0;34m)\u001b[0m\u001b[0;34m:\u001b[0m\u001b[0;34m\u001b[0m\u001b[0;34m\u001b[0m\u001b[0m\n",
      "\u001b[0;31mLinAlgError\u001b[0m: Last 2 dimensions of the array must be square"
     ]
    }
   ],
   "source": [
    "# attempt to backsolve, but expect error because M is not square\n",
    "x = np.linalg.solve(M,y)"
   ]
  },
  {
   "cell_type": "code",
   "execution_count": 12,
   "id": "51ac0e14",
   "metadata": {
    "hidden": true,
    "slideshow": {
     "slide_type": "subslide"
    }
   },
   "outputs": [],
   "source": [
    "# instead, using M.T\n",
    "y2 = M.T@y\n",
    "# estimate prices \n",
    "xhat = np.linalg.solve(M.T@M,y2)\n",
    "# simulate total costs with estimated prices\n",
    "yhat = M@xhat"
   ]
  },
  {
   "cell_type": "code",
   "execution_count": 13,
   "id": "335f2689",
   "metadata": {
    "hidden": true,
    "slideshow": {
     "slide_type": "subslide"
    }
   },
   "outputs": [
    {
     "data": {
      "image/png": "[encoded data removed]",
      "text/plain": [
       "<Figure size 432x288 with 1 Axes>"
      ]
     },
     "metadata": {
      "needs_background": "light"
     },
     "output_type": "display_data"
    }
   ],
   "source": [
    "# plot comparison of actual and estimated prices\n",
    "plt.plot(x,xhat,'o',zorder=4,label=\"_data\")\n",
    "xx,yy = plt.xlim(),plt.ylim()\n",
    "plt.plot(xx,xx,zorder=3,label=\"$x_i=\\\\hat{x}_i$\",linewidth=3)\n",
    "plt.legend(fontsize=15)\n",
    "plt.xlim(xx)\n",
    "plt.ylim(yy)\n",
    "plt.xlabel(\"Actual Price ($x_i$)\",fontsize=15)\n",
    "plt.ylabel(\"Estimated Price ($\\\\hat{x}_i$)\",fontsize=15);"
   ]
  },
  {
   "cell_type": "code",
   "execution_count": 14,
   "id": "1d36b1c6",
   "metadata": {
    "hidden": true,
    "slideshow": {
     "slide_type": "subslide"
    }
   },
   "outputs": [
    {
     "data": {
      "image/png": "[encoded data removed]",
      "text/plain": [
       "<Figure size 432x288 with 1 Axes>"
      ]
     },
     "metadata": {
      "needs_background": "light"
     },
     "output_type": "display_data"
    }
   ],
   "source": [
    "# plot comparison of actual and estimated total costs\n",
    "plt.plot(y,yhat,'o',zorder=4,label=\"_data\")\n",
    "xx,yy = plt.xlim(),plt.ylim()\n",
    "plt.plot(xx,xx,zorder=3,label=\"$y_i=\\\\hat{y}_i$\",linewidth=3)\n",
    "plt.legend(fontsize=15)\n",
    "plt.xlim(xx)\n",
    "plt.ylim(yy)\n",
    "plt.xlabel(\"Actual Total Cost ($y_i$)\",fontsize=15)\n",
    "plt.ylabel(\"Estimated Total Cost ($\\\\hat{y}_i$)\",fontsize=15);"
   ]
  },
  {
   "cell_type": "code",
   "execution_count": 15,
   "id": "7058a687",
   "metadata": {
    "hidden": true,
    "slideshow": {
     "slide_type": "subslide"
    }
   },
   "outputs": [],
   "source": [
    "# Another option is to use the sklearn Python package\n",
    "# https://scikit-learn.org/stable/modules/generated/sklearn.linear_model.LinearRegression.html\n",
    "\n",
    "from sklearn.linear_model import LinearRegression\n",
    "\n",
    "# Create a Linear Regression object\n",
    "ols = LinearRegression(fit_intercept=False)\n",
    "# fit the linear regression to our data\n",
    "ols.fit(M,y)\n",
    "\n",
    "# get estimated costs\n",
    "xhat = np.round(ols.coef_,decimals=10)\n",
    "# get estimated total costs\n",
    "yhat = ols.predict(M)"
   ]
  },
  {
   "cell_type": "code",
   "execution_count": 16,
   "id": "b95bd8dd",
   "metadata": {
    "hidden": true,
    "slideshow": {
     "slide_type": "subslide"
    }
   },
   "outputs": [
    {
     "data": {
      "image/png": "[encoded data removed]",
      "text/plain": [
       "<Figure size 432x288 with 1 Axes>"
      ]
     },
     "metadata": {
      "needs_background": "light"
     },
     "output_type": "display_data"
    }
   ],
   "source": [
    "# plot comparison of actual and estimated prices\n",
    "plt.plot(x,xhat,'o',zorder=4,label=\"_data\")\n",
    "xx,yy = plt.xlim(),plt.ylim()\n",
    "plt.plot(xx,xx,zorder=3,label=\"$x_i=\\\\hat{x}_i$\",linewidth=3)\n",
    "plt.legend(fontsize=15)\n",
    "plt.xlim(xx)\n",
    "plt.ylim(yy)\n",
    "plt.xlabel(\"Actual Price ($x_i$)\",fontsize=15)\n",
    "plt.ylabel(\"Estimated Price ($\\\\hat{x}_i$)\",fontsize=15);"
   ]
  },
  {
   "cell_type": "code",
   "execution_count": 17,
   "id": "7741ab9b",
   "metadata": {
    "hidden": true,
    "scrolled": true,
    "slideshow": {
     "slide_type": "subslide"
    }
   },
   "outputs": [
    {
     "data": {
      "image/png": "[encoded data removed]",
      "text/plain": [
       "<Figure size 432x288 with 1 Axes>"
      ]
     },
     "metadata": {
      "needs_background": "light"
     },
     "output_type": "display_data"
    }
   ],
   "source": [
    "# plot comparison of actual and estimated total costs\n",
    "plt.plot(y,yhat,'o',zorder=4,label=\"_data\")\n",
    "xx,yy = plt.xlim(),plt.ylim()\n",
    "plt.plot(xx,xx,zorder=3,label=\"$y_i=\\\\hat{y}_i$\",linewidth=3)\n",
    "plt.legend(fontsize=15)\n",
    "plt.xlim(xx)\n",
    "plt.ylim(yy)\n",
    "plt.xlabel(\"Actual Total Cost ($y_i$)\",fontsize=15)\n",
    "plt.ylabel(\"Estimated Total Cost ($\\\\hat{y}_i$)\",fontsize=15);"
   ]
  },
  {
   "cell_type": "markdown",
   "id": "345b1108",
   "metadata": {
    "heading_collapsed": true,
    "slideshow": {
     "slide_type": "slide"
    }
   },
   "source": [
    "# Solving Linear Systems Probabilistically with OLS\n",
    "\n",
    "As before, consider an **overdetermined** system with more equations than unknown variables\n",
    "\n",
    "$\n",
    "M = \\begin{bmatrix}\n",
    "    m_{11} & m_{12} & \\cdots & m_{1p} \\\\\n",
    "    m_{21} & m_{22} & \\cdots & m_{2p} \\\\\n",
    "    \\vdots & \\vdots & \\ddots & \\vdots \\\\\n",
    "    m_{n1} & m_{n2} & \\cdots & m_{np} \\\\\n",
    "\\end{bmatrix},\n",
    "\\hspace{1cm}\n",
    "\\vec{x} = \\begin{bmatrix}\n",
    "    x_1 \\\\ x_2 \\\\ \\vdots \\\\ x_p\n",
    "\\end{bmatrix},\n",
    "\\hspace{1cm}\n",
    "\\color{blue}{\n",
    "\\vec{y} = \\begin{bmatrix}\n",
    "    y_1 \\\\ y_2 \\\\ \\vdots \\\\ y_n\n",
    "\\end{bmatrix}},\n",
    "$\n",
    "\n",
    "such that $\\hspace{1cm}M\\cdot\\vec{x}\\approx\\color{blue}{\\vec{y}}\\hspace{1cm}$ and $n>p$.\n",
    "\n",
    "As before, we can think about $\\vec{x}$ as prices for $p$ different grocery items, $M$ as the purchases of $n$ individuals, and $\\color{blue}{\\vec{y}}$ as the total costs for each individual.\n",
    "\n",
    "Unlike before, $M$ is a **data set** of purchasing behaviors across individuals <font color=\"red\">which includes real-world randomness and variation.</font>\n",
    "\n",
    "We will find a probabilistic solution for $\\vec{x}$.\n",
    "\n",
    "Unlike before, we expect that $x_1,\\,x_2,\\,\\cdots,\\,x_p$ will represent some average prices.\n",
    "\n",
    "Specifically, we want to estimate prices $\\hat{x}$ such that our estimated total costs $M\\cdot\\hat{x}=\\color{red}{\\hat{y}}$ are as close to the true $\\color{blue}{\\vec{y}}$ as possible.\n",
    "\n",
    "That is, we want to minimize the **norm of the difference vector**: $\\hspace{1cm}||\\color{blue}{\\vec{y}}-\\color{red}{\\hat{y}}||=\\sqrt{\\sum_{i=1}^n \\left(\\color{blue}{y_i}-\\color{red}{\\hat{y}_i}\\right)^2}$\n"
   ]
  },
  {
   "cell_type": "markdown",
   "id": "8bec1f2e",
   "metadata": {
    "hidden": true,
    "slideshow": {
     "slide_type": "subslide"
    }
   },
   "source": [
    "The overarching strategy is called **ordinary least squares (OLS) regression**.\n",
    "\n",
    "Instead of $\\hspace{1cm}M\\vec{x}\\approx\\color{blue}{\\vec{y}}$\n",
    "\n",
    "we multiply both sides of the equation by $M^T$ and solve the following for $\\color{red}{\\hat{x}}$\n",
    "\n",
    "$\n",
    "\\left(M^TM\\right)\\vec{x} \\approx M^T\\color{blue}{\\vec{y}}\n",
    "\\hspace{1cm}\\Rightarrow\\hspace{1cm}\n",
    "\\color{red}{\\hat{x}} \\approx \\left(M^TM\\right)^{-1}\\cdot M^T\\vec{y}\n",
    "$\n",
    "\n",
    "The solution we get will be an **estimate** $\\color{red}{\\hat{x}}$ for the true vector $\\vec{x}$. The components $\\color{red}{\\hat{x}_i}$ of $\\color{red}{\\hat{x}}$ are called **coefficients**."
   ]
  },
  {
   "cell_type": "markdown",
   "id": "33416bb7",
   "metadata": {
    "hidden": true,
    "slideshow": {
     "slide_type": "fragment"
    }
   },
   "source": [
    "We then see how well our estimate performs by calculating an estimate of $\\color{blue}{\\vec{y}}$ using $\\color{red}{\\hat{x}}$ according to \n",
    "$\n",
    "\\hspace{1cm}\n",
    "M\\color{red}{\\hat{x}}=\\color{red}{\\hat{y}}\n",
    "$\n",
    "\n",
    "And we measure our performance using $\\,||\\color{blue}{\\vec{y}}-\\color{red}{\\hat{y}}||$"
   ]
  },
  {
   "cell_type": "markdown",
   "id": "563d030a",
   "metadata": {
    "hidden": true,
    "slideshow": {
     "slide_type": "fragment"
    }
   },
   "source": [
    "Note that the end result may not perfectly reproduce $\\color{blue}{\\vec{y}}$ and our estimate $\\color{red}{\\hat{x}}$ is only an approximation of the true $\\vec{x}$."
   ]
  },
  {
   "cell_type": "markdown",
   "id": "fe85c208",
   "metadata": {
    "hidden": true,
    "slideshow": {
     "slide_type": "subslide"
    }
   },
   "source": [
    "How good is our estimate $\\hat{x}$? \n",
    "\n",
    "There are a few options for assessing this question. "
   ]
  },
  {
   "cell_type": "markdown",
   "id": "3d51bbed",
   "metadata": {
    "hidden": true,
    "slideshow": {
     "slide_type": "fragment"
    }
   },
   "source": [
    "As mentioned, we can compare $\\,M\\hat{x}=\\hat{y}\\,$ to the true $\\vec{y}$ using \n",
    "$\n",
    "\\hspace{1cm}\n",
    "||\\vec{y}-\\hat{y}|| = \\sum_{i=1}^n \\left(y_i-\\hat{y}_i\\right)^2\n",
    "$"
   ]
  },
  {
   "cell_type": "markdown",
   "id": "47185e46",
   "metadata": {
    "hidden": true,
    "slideshow": {
     "slide_type": "fragment"
    }
   },
   "source": [
    "Another common option is to calculate the **coefficient of determination** $\\hspace{1cm} R^2 = \\frac{\\sum_{i=1}^n \\left(\\hat{y}_i-\\bar{y}\\right)^2}{\\sum_{i=1}^n \\left(y_i-\\bar{y}\\right)^2}\\hspace{1cm}$\n",
    "where $\\bar{y}$ is the average value of $\\vec{y}$.\n",
    "\n",
    "You can treate $R^2$ as the variance in $\\vec{y}$ that is \"explained\" by $\\hat{y}$.\n",
    "\n",
    "$R^2$ ranges from 0 to 1 where $R^2=1$ indicates that all of the variation in $\\vec{y}$ is recovered in $\\hat{y}$.\n",
    "\n",
    "We will discuss this measure more later, but $R^2=1$ means that there exists $m,\\,b$ such that $\\hspace{1cm}\\vec{y}=m\\cdot\\hat{y}+b$"
   ]
  },
  {
   "cell_type": "markdown",
   "id": "dc00fbe9",
   "metadata": {
    "hidden": true,
    "slideshow": {
     "slide_type": "subslide"
    }
   },
   "source": [
    "What do these calculation say about the ability of our approach to explain the purchases of each of the $n$ individuals?\n",
    "\n",
    "Each term in \n",
    "$\n",
    "\\hspace{1cm}\n",
    "\\sum_{i=1}^n \\left(y_i-\\hat{y}_i\\right)^2\n",
    "\\hspace{1cm}\n",
    "$\n",
    "corresponds to one of the $n$ individuals (i.e., each row of $M$).\n",
    "\n",
    "The difference between the estimated total cost $\\,\\hat{y}_i\\,$ and the actual total cost $\\,y_i\\,$ is called the **$i$th residual**. \n",
    "\n",
    "If we plot the total cost data $\\left(1,y_1\\right),\\,\\left(2,y_2\\right),\\,\\dots,\\,\\left(n,y_n\\right)\\,$ compared to the estimated total costs $\\left(1,\\hat{y}_1\\right),\\,\\left(2,\\hat{y}_2\\right),\\,\\dots,\\,\\left(n,\\hat{y}_n\\right)\\,$ then the $i$th residual is the vertical distance between points."
   ]
  },
  {
   "cell_type": "markdown",
   "id": "f9cbb517",
   "metadata": {
    "hidden": true,
    "slideshow": {
     "slide_type": "subslide"
    }
   },
   "source": [
    "In this example, we consider 9 grocery items and the purchasing information of 450 individuals who potentially shopped at different stores for the same grocery items. Therefore, the price for a specific grocery item may vary across individuals\n",
    "\n",
    "Matrix $M$ is $450\\times9$ and represents individuals purchasing data. \n",
    "\n",
    "Use the slider to change the variability in the prices for the same grocery items across individuals, but $M$ remains unchanged. \n",
    "\n",
    "We attempt to estimate the prices $\\hat{x}$ and use these estimates to recalculate individuals' total cost $\\hat{y}$ which we compare to their acutal total costs $\\vec{y}$."
   ]
  },
  {
   "cell_type": "code",
   "execution_count": 18,
   "id": "78b7820f",
   "metadata": {
    "hidden": true,
    "hideCode": false,
    "hidePrompt": false,
    "slideshow": {
     "slide_type": "fragment"
    }
   },
   "outputs": [
    {
     "data": {
      "application/vnd.jupyter.widget-view+json": {
       "model_id": "5de54d983e594f16bd8baff19471ae27",
       "version_major": 2,
       "version_minor": 0
      },
      "text/plain": [
       "interactive(children=(IntSlider(value=0, description='priceVariation', max=50), Output()), _dom_classes=('widg…"
      ]
     },
     "metadata": {},
     "output_type": "display_data"
    }
   ],
   "source": [
    "from scipy.stats import pearsonr\n",
    "# generate true data\n",
    "x = np.array([1,4,20,5,3,6,3,7,2])\n",
    "# number of grocery item prices (one price per item)\n",
    "p = len(x)\n",
    "# number of individuals with purchasing data (here just want n > p)\n",
    "n = 50*p\n",
    "x = np.tile(x,(n,1))\n",
    "M = np.random.randint(0,15,(n,p))\n",
    "# precalculate stuff for widget\n",
    "MT = M.T\n",
    "G = MT@M\n",
    "y = np.sum(M*x,axis=1)\n",
    "# # generate noise to be added to the prices (x)\n",
    "# # Here, the noise represents variation in prices for the same grocery item across different stores.\n",
    "# # Prices are normally distributed about some average price.\n",
    "noise = np.random.normal(size=x.shape)\n",
    "\n",
    "def plotResiduals(priceVariation=0):\n",
    "    noisyx = x+priceVariation*noise\n",
    "    ynoisy = np.sum(M*noisyx,axis=1)\n",
    "    y2 = MT@ynoisy\n",
    "    xhat = np.linalg.solve(G,y2)\n",
    "    yhat = M@xhat\n",
    "    \n",
    "    # plot outcomes\n",
    "#     plt.figure(figsize=(12,6));\n",
    "    fig, ((ax1, ax2), (ax3, ax4)) = plt.subplots(2, 2,figsize=(14,8));\n",
    "    n2 = np.min([10,n])\n",
    "    for i in range(n2):\n",
    "        ax1.plot([i+1,i+1],[y[i],yhat[i]],'k-',label=\"_residual\")\n",
    "    \n",
    "    a = np.arange(n2)+1\n",
    "    ax1.plot(a,y[:n2],'o',label=\"Actual Cost ($y_i$)\",markersize=8)\n",
    "    ax1.plot(a,yhat[:n2],'^',label=\"Estimated Cost ($\\\\hat{y}_i$)\",markersize=8)\n",
    "    ax1.set_ylim((-500,1000))\n",
    "    xx,yy = ax1.get_xlim(),ax1.get_ylim()\n",
    "    ax1.plot([0,0],[1,2],\"k-\",label=\"Residual\",linewidth=3)\n",
    "    ax1.set_xlim(xx)\n",
    "    ax1.set_ylim(yy)\n",
    "    ax1.legend(fontsize=15,ncol=2,loc=\"lower left\")\n",
    "    ax1.set_xticks(list(map(int,a)))\n",
    "    ax1.set_xlabel(\"Individual ($i$)\",fontsize=15)\n",
    "    ax1.set_yticklabels(ax1.get_yticks(),fontsize=15)\n",
    "    ax1.set_ylabel(\"Total Cost ($)\",fontsize=15)\n",
    "\n",
    "    \n",
    "    ax2.plot(y,yhat,'o',zorder=4,label=\"_data\")\n",
    "    r,p = pearsonr(y,yhat)\n",
    "    xx,yy = ax2.get_xlim(),ax2.get_ylim()\n",
    "    ax2.plot(xx,xx,'-',zorder=3,label=\"$\\\\hat{y}_i = y_i$\",linewidth=3)\n",
    "    ax2.set_title(\"$R^2=%0.2f$\" % (r**2),fontsize=15)\n",
    "    ax2.set_xlim(xx)\n",
    "    ax2.set_ylim(yy)\n",
    "    ax2.set_xlabel(\"Actual Total Cost ($y_i$)\",fontsize=15)\n",
    "    ax2.set_ylabel(\"Estimated Total Cost ($\\\\hat{y}_i$)\",fontsize=15)\n",
    "    ax2.legend(fontsize=12)\n",
    "    \n",
    "    C = ['r','b','g']\n",
    "    for i in range(3):\n",
    "        counts,bins = np.histogram(noisyx[:,i],bins=20)\n",
    "        ax3.plot(bins[:-1],counts,'-o',label=\"grocery %d\" % (i+1),color=C[i])\n",
    "    yy = ax3.get_ylim()[1]\n",
    "    for i in range(3):\n",
    "        ax3.plot([xhat[i],xhat[i]],[0,yy],'--',color=C[i],label=\"_xhat\",linewidth=3)\n",
    "    ax3.plot([0,0],[-1,-2],'k--',label=\"Estmated Cost ($\\\\hat{x}_i$)\")\n",
    "    ax3.set_ylim((0,yy))\n",
    "    ax3.legend(fontsize=12)\n",
    "    ax3.set_xlabel(\"Observed Grocery Item Price ($)\",fontsize=15)\n",
    "    ax3.set_ylabel(\"Number of Observations\",fontsize=15)\n",
    "    ax3.set_yticklabels(ax2.get_yticks(),fontsize=15)\n",
    "    \n",
    "    ax4.plot(x[0,:],xhat,'o',zorder=4,label=\"_data\")\n",
    "    xx,yy = ax4.get_xlim(),ax4.get_ylim()\n",
    "    ax4.plot(xx,xx,'-',zorder=3,label=\"$\\\\hat{x}_i = x_i$\",linewidth=3)\n",
    "    ax4.set_xlim(xx)\n",
    "    ax4.set_ylim(yy)\n",
    "    ax4.set_xlabel(\"Actual Grocery Price ($x_i$)\",fontsize=15)\n",
    "    ax4.set_ylabel(\"Estimated Grocery Price ($\\\\hat{x}_i$)\",fontsize=15)\n",
    "    ax4.legend(fontsize=12)\n",
    "    \n",
    "    \n",
    "    plt.tight_layout();\n",
    "    return None\n",
    "\n",
    "widgets.interact(plotResiduals,priceVariation=(0,50,1));"
   ]
  },
  {
   "cell_type": "markdown",
   "id": "98b9264f",
   "metadata": {
    "slideshow": {
     "slide_type": "slide"
    }
   },
   "source": [
    "# Fitting Linear Equations to Data\n",
    "\n",
    "Our approach to solving overdetermined linear systems can be used to describe data.\n",
    "\n",
    "Imagine the following data\n",
    "\n",
    "$\\begin{array}{c|c} \\hline x & y \\\\  \\hline 1 & 7\\\\2 & 11\\\\3 & 15\\\\4 & 19\\\\5 & 23\\end{array}$\n",
    "\n",
    "If we assume that $x$ and $y$ are **linearly related**, then there exists coefficients $\\beta_0$ and $\\beta_1$ such that \n",
    "$\n",
    "\\quad\n",
    "y = \\beta_0 + \\beta_1\\cdot x\n",
    "$\n",
    "\n",
    "Can we determine $\\beta_0,\\, \\beta_1$?"
   ]
  },
  {
   "cell_type": "code",
   "execution_count": 19,
   "id": "23b72b92",
   "metadata": {
    "slideshow": {
     "slide_type": "skip"
    }
   },
   "outputs": [
    {
     "name": "stdout",
     "output_type": "stream",
     "text": [
      "\\left[\\begin{matrix}1 & 7\\\\2 & 11\\\\3 & 15\\\\4 & 19\\\\5 & 23\\end{matrix}\\right]\n"
     ]
    }
   ],
   "source": [
    "x = np.arange(5)+1\n",
    "y = 3+4*x\n",
    "d = sympy.Matrix(np.vstack((x,y)).T)\n",
    "print(sympy.latex(d))"
   ]
  },
  {
   "cell_type": "code",
   "execution_count": 20,
   "id": "32ccb877",
   "metadata": {
    "hideCode": true,
    "hidePrompt": true,
    "slideshow": {
     "slide_type": "subslide"
    }
   },
   "outputs": [
    {
     "data": {
      "image/png": "[encoded data removed]",
      "text/plain": [
       "<Figure size 432x288 with 1 Axes>"
      ]
     },
     "metadata": {
      "needs_background": "light"
     },
     "output_type": "display_data"
    }
   ],
   "source": [
    "plt.plot(x,y,'o')\n",
    "plt.xlabel(\"x\",fontsize=15)\n",
    "plt.ylabel(\"y\",fontsize=15);\n",
    "plt.title(\"What does the data look like?\",fontsize=15);"
   ]
  },
  {
   "cell_type": "markdown",
   "id": "54e3b4ac",
   "metadata": {
    "slideshow": {
     "slide_type": "subslide"
    }
   },
   "source": [
    "Starting with \n",
    "$\n",
    "\\quad\n",
    "y = \\beta_0 + \\beta_1\\cdot x\n",
    "\\quad\n",
    "$\n",
    "instead consider \n",
    "$\n",
    "\\quad\n",
    "y = \\beta_0\\cdot \\color{red}{1} + \\beta_1\\cdot x\n",
    "$\n",
    "\n",
    "This is a small change and, of course, the two equations are equivalent."
   ]
  },
  {
   "cell_type": "markdown",
   "id": "e0a49580",
   "metadata": {
    "slideshow": {
     "slide_type": "fragment"
    }
   },
   "source": [
    "But, written this way we see that our problem can also be written as\n",
    "\n",
    "$\n",
    "M\\vec{\\beta} = \n",
    "\\begin{bmatrix} \n",
    "x_1 & 1 \\\\\n",
    "x_2 & 1 \\\\\n",
    "\\vdots & \\vdots \\\\ \n",
    "x_n & 1 \\\\\n",
    "\\end{bmatrix} \n",
    "\\cdot \n",
    "\\begin{bmatrix}\n",
    "\\beta_1 \\\\ \n",
    "\\beta_0 \\\\\n",
    "\\end{bmatrix}\n",
    "= \\vec{y}\n",
    "$\n",
    "\n",
    "This is an overdetermined system of linear equations. We know how to solve this!"
   ]
  },
  {
   "cell_type": "markdown",
   "id": "3e4f11ec",
   "metadata": {
    "slideshow": {
     "slide_type": "subslide"
    }
   },
   "source": [
    "As before, we use $M^T$ and solve \n",
    "\n",
    "$\n",
    "\\begin{bmatrix} \\beta_1 \\\\ \\beta_0 \\\\ \\end{bmatrix}\n",
    "=\n",
    "\\left(\n",
    "\\begin{bmatrix}\n",
    "x1 & x2 & \\cdots & x_n \\\\\n",
    "1 & 1 & \\cdots & 1 \\\\\n",
    "\\end{bmatrix}\n",
    "\\begin{bmatrix} \n",
    "x_1 & 1 \\\\\n",
    "x_2 & 1 \\\\\n",
    "\\vdots & \\vdots \\\\ \n",
    "x_n & 1 \\\\\n",
    "\\end{bmatrix} \n",
    "\\right)^{-1}\n",
    "\\begin{bmatrix}\n",
    "x1 & x2 & \\cdots & x_n \\\\\n",
    "1 & 1 & \\cdots & 1 \\\\\n",
    "\\end{bmatrix}\n",
    "\\vec{y}\n",
    "$"
   ]
  },
  {
   "cell_type": "code",
   "execution_count": 21,
   "id": "2ee25e43",
   "metadata": {
    "hideCode": false,
    "slideshow": {
     "slide_type": "subslide"
    }
   },
   "outputs": [
    {
     "data": {
      "text/plain": [
       "array([[1., 1.],\n",
       "       [2., 1.],\n",
       "       [3., 1.],\n",
       "       [4., 1.],\n",
       "       [5., 1.]])"
      ]
     },
     "execution_count": 21,
     "metadata": {},
     "output_type": "execute_result"
    }
   ],
   "source": [
    "# our data\n",
    "x = np.arange(5)+1\n",
    "y = np.array([7,11,15,19,23])\n",
    "\n",
    "# create the matrix containing the data\n",
    "M = np.vstack((x,np.ones(len(x)))).T\n",
    "M"
   ]
  },
  {
   "cell_type": "code",
   "execution_count": 22,
   "id": "39ea6ffc",
   "metadata": {
    "slideshow": {
     "slide_type": "fragment"
    }
   },
   "outputs": [
    {
     "data": {
      "text/plain": [
       "array([4., 3.])"
      ]
     },
     "execution_count": 22,
     "metadata": {},
     "output_type": "execute_result"
    }
   ],
   "source": [
    "# use the transpose of M to solve the system of linear equations\n",
    "G = M.T@M\n",
    "yy = M.T@y\n",
    "b = np.linalg.solve(G,yy)\n",
    "b"
   ]
  },
  {
   "cell_type": "markdown",
   "id": "3855d67c",
   "metadata": {
    "slideshow": {
     "slide_type": "subslide"
    }
   },
   "source": [
    "Our solution is $\\beta_0=3$ and $\\beta_1=4$ so that $\\quad y = 3 + 4x$"
   ]
  },
  {
   "cell_type": "code",
   "execution_count": 23,
   "id": "b46a6ab3",
   "metadata": {
    "slideshow": {
     "slide_type": "fragment"
    }
   },
   "outputs": [
    {
     "name": "stdout",
     "output_type": "stream",
     "text": [
      "[ 7. 11. 15. 19. 23.]\n",
      "[ 7 11 15 19 23]\n"
     ]
    }
   ],
   "source": [
    "# Let's test our solution\n",
    "yhat = M@b\n",
    "print(yhat)\n",
    "print(y)"
   ]
  },
  {
   "cell_type": "markdown",
   "id": "1622555f",
   "metadata": {
    "slideshow": {
     "slide_type": "subslide"
    }
   },
   "source": [
    "In this first case, $y$ and $x$ were **perfectly** linearly related. The linear equation yielded an exact solution. The scatter plot relating $x$ and $y$ hinted at this visually.\n",
    "\n",
    "But what if $x$ and $y$ are **imperfectly** linearly related?\n",
    "\n",
    "Consider the following scatter plot for a new data set of $x$ and $y$."
   ]
  },
  {
   "cell_type": "code",
   "execution_count": 24,
   "id": "892238d4",
   "metadata": {
    "slideshow": {
     "slide_type": "skip"
    }
   },
   "outputs": [],
   "source": [
    "x2 = np.arange(10)+1\n",
    "n2 = len(x2)\n",
    "e2 = 5\n",
    "y2 = 3 + 4*x2 +e2*np.random.normal(size=n2)"
   ]
  },
  {
   "cell_type": "code",
   "execution_count": 25,
   "id": "17fe7b95",
   "metadata": {
    "hideCode": true,
    "hidePrompt": true,
    "slideshow": {
     "slide_type": "fragment"
    }
   },
   "outputs": [
    {
     "data": {
      "image/png": "[encoded data removed]",
      "text/plain": [
       "<Figure size 432x288 with 1 Axes>"
      ]
     },
     "metadata": {
      "needs_background": "light"
     },
     "output_type": "display_data"
    }
   ],
   "source": [
    "plt.plot(x2,y2,'o')\n",
    "plt.xlabel(\"x\",fontsize=15)\n",
    "plt.ylabel(\"y\",fontsize=15);\n",
    "plt.title(\"Does the data look like a line?\",fontsize=15);"
   ]
  },
  {
   "cell_type": "markdown",
   "id": "c8270d19",
   "metadata": {
    "slideshow": {
     "slide_type": "fragment"
    }
   },
   "source": [
    "There is no straight line that intersects all of the points, but, still, perhaps there is a straight line that captures the general relationship between $x$ and $y$.\n",
    "\n",
    "This line is called the **line of best fit**."
   ]
  },
  {
   "cell_type": "markdown",
   "id": "96f09427",
   "metadata": {
    "slideshow": {
     "slide_type": "subslide"
    }
   },
   "source": [
    "The **line of best fit** is the \"best\" line in that it minimizes the sum of the residuals between the data points and the line."
   ]
  },
  {
   "cell_type": "code",
   "execution_count": 26,
   "id": "85429a60",
   "metadata": {
    "hideCode": true,
    "hidePrompt": true,
    "slideshow": {
     "slide_type": "fragment"
    }
   },
   "outputs": [
    {
     "data": {
      "application/vnd.jupyter.widget-view+json": {
       "model_id": "3d30dc2d83694f0f8eb3c3ad6dac5a40",
       "version_major": 2,
       "version_minor": 0
      },
      "text/plain": [
       "interactive(children=(FloatSlider(value=1.0, description='b0', max=5.0, step=0.2), FloatSlider(value=1.0, desc…"
      ]
     },
     "metadata": {},
     "output_type": "display_data"
    }
   ],
   "source": [
    "def lineWidget(b0=1,b1=1):\n",
    "    x,y = x2,y2\n",
    "    plt.plot(x,y,'o',label=\"Data\",zorder=4)\n",
    "    plt.xlabel(\"x\",fontsize=15)\n",
    "    plt.ylabel(\"y\",fontsize=15);\n",
    "    xx = np.array(plt.xlim())\n",
    "    yy = plt.ylim()\n",
    "    z = b0 + b1*x\n",
    "#     R = pearsonr(y,z)[0]**2\n",
    "    R = np.sum(np.abs(y-z))\n",
    "    plt.title(\"Try to minimize $|y-\\\\hat{y}|=%0.1f$\" % R,fontsize=15)\n",
    "    for i in range(len(x)):\n",
    "        plt.plot([x[i],x[i]],[y[i],z[i]],'k-',zorder=3,label=\"_residual\")\n",
    "    zz = b0 + b1*xx\n",
    "    plt.plot(xx,zz,'r-',label=\"$\\\\beta_0+\\\\beta_1 x$\",zorder=5)\n",
    "    plt.plot([-10,-5],[0,0],'k-',label=\"Residual\")\n",
    "    plt.xlim(xx)\n",
    "    plt.ylim(yy)\n",
    "    plt.legend(loc=\"lower right\",fontsize=12)\n",
    "    plt.xlabel(\"x\",fontsize=15)\n",
    "    plt.ylabel(\"y\",fontsize=15)\n",
    "    \n",
    "    \n",
    "widgets.interact(lineWidget,b0=(0,5,.2),b1=(0,5,.2));"
   ]
  },
  {
   "cell_type": "markdown",
   "id": "0c415012",
   "metadata": {
    "slideshow": {
     "slide_type": "subslide"
    }
   },
   "source": [
    "We approach this problem the exact same way as before and solve\n",
    "\n",
    "$\n",
    "\\begin{bmatrix} \\beta_1 \\\\ \\beta_0 \\\\ \\end{bmatrix}\n",
    "=\n",
    "\\left(\n",
    "\\begin{bmatrix}\n",
    "x_1 & x_2 & \\cdots & x_n \\\\\n",
    "1 & 1 & \\cdots & 1 \\\\\n",
    "\\end{bmatrix}\n",
    "\\begin{bmatrix} \n",
    "x_1 & 1 \\\\\n",
    "x_2 & 1 \\\\\n",
    "\\vdots & \\vdots \\\\ \n",
    "x_n & 1 \\\\\n",
    "\\end{bmatrix} \n",
    "\\right)^{-1}\n",
    "\\begin{bmatrix}\n",
    "x_1 & x_2 & \\cdots & x_n \\\\\n",
    "1 & 1 & \\cdots & 1 \\\\\n",
    "\\end{bmatrix}\n",
    "\\vec{y}\n",
    "$\n",
    "\n",
    "but, in this case, our solution for $\\hat{y} = \\beta_0 + \\beta_1x$ will only approximate $\\vec{y}$.\n",
    "\n",
    "However, this approximation will be the \"best\" in that it minimizes the residuals."
   ]
  },
  {
   "cell_type": "markdown",
   "id": "b5f87ffe",
   "metadata": {
    "slideshow": {
     "slide_type": "subslide"
    }
   },
   "source": [
    "For this data, the best coefficients are actually the same as the original problem: $\\quad \\beta_0=3,\\,\\beta_1=4$."
   ]
  },
  {
   "cell_type": "code",
   "execution_count": 27,
   "id": "54ffd4b9",
   "metadata": {
    "hideCode": true,
    "hidePrompt": true,
    "slideshow": {
     "slide_type": "fragment"
    }
   },
   "outputs": [
    {
     "data": {
      "application/vnd.jupyter.widget-view+json": {
       "model_id": "74b29530bae7472495655ed1e70cacb2",
       "version_major": 2,
       "version_minor": 0
      },
      "text/plain": [
       "interactive(children=(FloatSlider(value=1.0, description='b0', max=5.0, step=0.2), FloatSlider(value=1.0, desc…"
      ]
     },
     "metadata": {},
     "output_type": "display_data"
    }
   ],
   "source": [
    "def lineWidget(b0=1,b1=1):\n",
    "    x,y = x2,y2\n",
    "    plt.plot(x,y,'o',label=\"Data\",zorder=4)\n",
    "    plt.xlabel(\"x\",fontsize=15)\n",
    "    plt.ylabel(\"y\",fontsize=15);\n",
    "    xx = np.array(plt.xlim())\n",
    "    yy = plt.ylim()\n",
    "    z = b0 + b1*x\n",
    "#     R = pearsonr(y,z)[0]**2\n",
    "    R = np.sum(np.abs(y-z))\n",
    "    plt.title(\"Try to minimize $|y-\\\\hat{y}|=%0.1f$\" % R,fontsize=15)\n",
    "    for i in range(len(x)):\n",
    "        plt.plot([x[i],x[i]],[y[i],z[i]],'k-',zorder=3,label=\"_residual\")\n",
    "    zz = b0 + b1*xx\n",
    "    plt.plot(xx,zz,'r-',label=\"$\\\\beta_0+\\\\beta_1 x$\",zorder=5)\n",
    "    plt.plot([-10,-5],[0,0],'k-',label=\"Residual\")\n",
    "    plt.xlim(xx)\n",
    "    plt.ylim(yy)\n",
    "    plt.legend(loc=\"lower right\",fontsize=12)\n",
    "    plt.xlabel(\"x\",fontsize=15)\n",
    "    plt.ylabel(\"y\",fontsize=15)\n",
    "    \n",
    "    \n",
    "widgets.interact(lineWidget,b0=(0,5,.2),b1=(0,5,.2));"
   ]
  },
  {
   "cell_type": "markdown",
   "id": "40b3a3fd",
   "metadata": {
    "slideshow": {
     "slide_type": "subslide"
    }
   },
   "source": [
    "Given a data set containing $x$ and $y$, a similar approach can find **best fit** approximations assuming other functional forms that minimize the residuals between the data and the approximation.\n",
    "\n",
    "Instead of fitting a straight line to $x$ and $y$, we can assume that the variables are related by any polynomial:\n",
    "\n",
    "$\n",
    "\\quad\n",
    "y = \\displaystyle\\sum_{i=1}^n \\beta_i\\cdot x^i\n",
    "$\n",
    "\n",
    "For example, let's consider some new data and assume the following relationship\n",
    "$\n",
    "\\quad\n",
    "y = \\beta_2\\cdot x^2 + \\beta_1\\cdot x + \\beta_0\n",
    "\\quad\n",
    "$"
   ]
  },
  {
   "cell_type": "code",
   "execution_count": 28,
   "id": "2da06cb6",
   "metadata": {
    "slideshow": {
     "slide_type": "skip"
    }
   },
   "outputs": [],
   "source": [
    "x3 = np.arange(15)\n",
    "y3 = 2*x3**2 + 3*x3 + 1"
   ]
  },
  {
   "cell_type": "code",
   "execution_count": 29,
   "id": "379157a8",
   "metadata": {
    "hideCode": true,
    "hidePrompt": true,
    "slideshow": {
     "slide_type": "fragment"
    }
   },
   "outputs": [
    {
     "data": {
      "application/vnd.jupyter.widget-view+json": {
       "model_id": "460d19b39d43412490d332d1566bc4fb",
       "version_major": 2,
       "version_minor": 0
      },
      "text/plain": [
       "interactive(children=(FloatSlider(value=1.0, description='b0', max=5.0, step=0.2), FloatSlider(value=1.0, desc…"
      ]
     },
     "metadata": {},
     "output_type": "display_data"
    }
   ],
   "source": [
    "def quadWidget(b0=1,b1=1,b2=1):\n",
    "    x2,y2 = x3,y3\n",
    "    plt.plot(x2,y2,'o',label=\"Data\",zorder=4)\n",
    "    plt.xlabel(\"x\",fontsize=15)\n",
    "    plt.ylabel(\"y\",fontsize=15);\n",
    "    xx = np.array(plt.xlim())\n",
    "    yy = plt.ylim()\n",
    "    z = b0 + b1*x2 + b2*x2**2\n",
    "#     R = pearsonr(y,z)[0]**2\n",
    "    R = np.sum(np.abs(y2-z))\n",
    "    plt.title(\"Try to minimize $|y-\\\\hat{y}|=%0.1f$\" % R,fontsize=15)\n",
    "    for i in range(len(x)):\n",
    "        plt.plot([x2[i],x2[i]],[y2[i],z[i]],'k-',zorder=3,label=\"_residual\")\n",
    "    plt.plot(x2,z,'r-',label=\"$\\\\beta_0+\\\\beta_1 x + \\\\beta_2 x^2$\",zorder=5)\n",
    "    plt.plot([-10,-5],[0,0],'k-',label=\"Residual\")\n",
    "    plt.xlim(xx)\n",
    "    plt.ylim(yy)\n",
    "    plt.legend(loc=\"lower right\",fontsize=12)\n",
    "    plt.xlabel(\"x\",fontsize=15)\n",
    "    plt.ylabel(\"y\",fontsize=15)\n",
    "    \n",
    "    \n",
    "widgets.interact(quadWidget,b0=(0,5,.2),b1=(0,5,.2),b2=(0,5,.2));"
   ]
  },
  {
   "cell_type": "markdown",
   "id": "1767123a",
   "metadata": {
    "slideshow": {
     "slide_type": "subslide"
    }
   },
   "source": [
    "We change our previous approach by adding a column to $M$ for each order of the polynomial and we add a corresponding coefficient to $\\vec{\\beta}$.\n",
    "\n",
    "$\n",
    "M\\vec{\\beta} = \n",
    "\\begin{bmatrix} \n",
    "x_1^2 & x_1 & 1 \\\\\n",
    "x_2^2 & x_2 & 1 \\\\\n",
    "\\vdots & \\vdots & \\vdots \\\\ \n",
    "x_n^2 & x_n & 1 \\\\\n",
    "\\end{bmatrix} \n",
    "\\cdot \n",
    "\\begin{bmatrix}\n",
    "\\beta_2 \\\\\n",
    "\\beta_1 \\\\ \n",
    "\\beta_0 \\\\\n",
    "\\end{bmatrix}\n",
    "= \\vec{y}\n",
    "$\n",
    "\n",
    "and, just as before, we use $M^T$ to solve the overdetermined system using $\\left(M^TM\\right)^{-1}$:\n",
    "\n",
    "$\n",
    "\\begin{bmatrix} \\beta_2 \\\\ \\beta_1 \\\\ \\beta_0 \\\\ \\end{bmatrix}\n",
    "=\n",
    "\\left(\n",
    "\\begin{bmatrix}\n",
    "x_1^2 & x_2^2 & \\cdots & x_n^2 \\\\\n",
    "x_1 & x_2 & \\cdots & x_n \\\\\n",
    "1 & 1 & \\cdots & 1 \\\\\n",
    "\\end{bmatrix}\n",
    "\\begin{bmatrix} \n",
    "x_1^2 & x_1 & 1 \\\\\n",
    "x_2^2 & x_2 & 1 \\\\\n",
    "\\vdots & \\vdots & \\vdots \\\\ \n",
    "x_n^2 & x_n & 1 \\\\\n",
    "\\end{bmatrix} \n",
    "\\right)^{-1}\n",
    "\\begin{bmatrix}\n",
    "x_1^2 & x_2^2 & \\cdots & x_n^2 \\\\\n",
    "x_1 & x_2 & \\cdots & x_n \\\\\n",
    "1 & 1 & \\cdots & 1 \\\\\n",
    "\\end{bmatrix}\n",
    "\\vec{y}\n",
    "$\n",
    "\n",
    "In this case, we get $\\vec{\\beta} = \\begin{bmatrix} 2 \\\\ 3 \\\\ 1 \\\\ \\end{bmatrix}$."
   ]
  },
  {
   "cell_type": "code",
   "execution_count": 30,
   "id": "1aade5ab",
   "metadata": {
    "hideCode": true,
    "hidePrompt": true,
    "slideshow": {
     "slide_type": "subslide"
    }
   },
   "outputs": [
    {
     "data": {
      "application/vnd.jupyter.widget-view+json": {
       "model_id": "92664eb86d4c49fa99ca2ae5dc7897cc",
       "version_major": 2,
       "version_minor": 0
      },
      "text/plain": [
       "interactive(children=(FloatSlider(value=1.0, description='b0', max=5.0, step=0.2), FloatSlider(value=1.0, desc…"
      ]
     },
     "metadata": {},
     "output_type": "display_data"
    }
   ],
   "source": [
    "widgets.interact(quadWidget,b0=(0,5,.2),b1=(0,5,.2),b2=(0,5,.2));"
   ]
  },
  {
   "cell_type": "markdown",
   "id": "168d874f",
   "metadata": {
    "slideshow": {
     "slide_type": "slide"
    }
   },
   "source": [
    "# Regression Example: Home sales and amenities\n",
    "\n",
    "Data from the Kaggle Machine Learning Challenge (https://www.kaggle.com/c/house-prices-advanced-regression-techniques/overview).\n",
    "\n",
    "Here we will analyze a real world data set of home features and the home's sales price ($\\vec{y}$).\n",
    "\n",
    "Each of $n$ homes and their $p$ features will be represented by an $n\\times p$ matrix $M$. This matrix is our data set.\n",
    "\n",
    "The goal is to predict the sales price of each house from its features which requires that we estimate the dollar value of each home feature ($\\vec{x}$)."
   ]
  },
  {
   "cell_type": "code",
   "execution_count": 31,
   "id": "22904d03",
   "metadata": {
    "slideshow": {
     "slide_type": "subslide"
    }
   },
   "outputs": [
    {
     "data": {
      "text/html": [
       "<div>\n",
       "<style scoped>\n",
       "    .dataframe tbody tr th:only-of-type {\n",
       "        vertical-align: middle;\n",
       "    }\n",
       "\n",
       "    .dataframe tbody tr th {\n",
       "        vertical-align: top;\n",
       "    }\n",
       "\n",
       "    .dataframe thead th {\n",
       "        text-align: right;\n",
       "    }\n",
       "</style>\n",
       "<table border=\"1\" class=\"dataframe\">\n",
       "  <thead>\n",
       "    <tr style=\"text-align: right;\">\n",
       "      <th></th>\n",
       "      <th>Id</th>\n",
       "      <th>MSSubClass</th>\n",
       "      <th>MSZoning</th>\n",
       "      <th>LotFrontage</th>\n",
       "      <th>LotArea</th>\n",
       "      <th>Street</th>\n",
       "      <th>Alley</th>\n",
       "      <th>LotShape</th>\n",
       "      <th>LandContour</th>\n",
       "      <th>Utilities</th>\n",
       "      <th>...</th>\n",
       "      <th>PoolArea</th>\n",
       "      <th>PoolQC</th>\n",
       "      <th>Fence</th>\n",
       "      <th>MiscFeature</th>\n",
       "      <th>MiscVal</th>\n",
       "      <th>MoSold</th>\n",
       "      <th>YrSold</th>\n",
       "      <th>SaleType</th>\n",
       "      <th>SaleCondition</th>\n",
       "      <th>SalePrice</th>\n",
       "    </tr>\n",
       "  </thead>\n",
       "  <tbody>\n",
       "    <tr>\n",
       "      <th>0</th>\n",
       "      <td>1</td>\n",
       "      <td>60</td>\n",
       "      <td>RL</td>\n",
       "      <td>65.0</td>\n",
       "      <td>8450</td>\n",
       "      <td>Pave</td>\n",
       "      <td>NaN</td>\n",
       "      <td>Reg</td>\n",
       "      <td>Lvl</td>\n",
       "      <td>AllPub</td>\n",
       "      <td>...</td>\n",
       "      <td>0</td>\n",
       "      <td>NaN</td>\n",
       "      <td>NaN</td>\n",
       "      <td>NaN</td>\n",
       "      <td>0</td>\n",
       "      <td>2</td>\n",
       "      <td>2008</td>\n",
       "      <td>WD</td>\n",
       "      <td>Normal</td>\n",
       "      <td>208500</td>\n",
       "    </tr>\n",
       "    <tr>\n",
       "      <th>1</th>\n",
       "      <td>2</td>\n",
       "      <td>20</td>\n",
       "      <td>RL</td>\n",
       "      <td>80.0</td>\n",
       "      <td>9600</td>\n",
       "      <td>Pave</td>\n",
       "      <td>NaN</td>\n",
       "      <td>Reg</td>\n",
       "      <td>Lvl</td>\n",
       "      <td>AllPub</td>\n",
       "      <td>...</td>\n",
       "      <td>0</td>\n",
       "      <td>NaN</td>\n",
       "      <td>NaN</td>\n",
       "      <td>NaN</td>\n",
       "      <td>0</td>\n",
       "      <td>5</td>\n",
       "      <td>2007</td>\n",
       "      <td>WD</td>\n",
       "      <td>Normal</td>\n",
       "      <td>181500</td>\n",
       "    </tr>\n",
       "    <tr>\n",
       "      <th>2</th>\n",
       "      <td>3</td>\n",
       "      <td>60</td>\n",
       "      <td>RL</td>\n",
       "      <td>68.0</td>\n",
       "      <td>11250</td>\n",
       "      <td>Pave</td>\n",
       "      <td>NaN</td>\n",
       "      <td>IR1</td>\n",
       "      <td>Lvl</td>\n",
       "      <td>AllPub</td>\n",
       "      <td>...</td>\n",
       "      <td>0</td>\n",
       "      <td>NaN</td>\n",
       "      <td>NaN</td>\n",
       "      <td>NaN</td>\n",
       "      <td>0</td>\n",
       "      <td>9</td>\n",
       "      <td>2008</td>\n",
       "      <td>WD</td>\n",
       "      <td>Normal</td>\n",
       "      <td>223500</td>\n",
       "    </tr>\n",
       "    <tr>\n",
       "      <th>3</th>\n",
       "      <td>4</td>\n",
       "      <td>70</td>\n",
       "      <td>RL</td>\n",
       "      <td>60.0</td>\n",
       "      <td>9550</td>\n",
       "      <td>Pave</td>\n",
       "      <td>NaN</td>\n",
       "      <td>IR1</td>\n",
       "      <td>Lvl</td>\n",
       "      <td>AllPub</td>\n",
       "      <td>...</td>\n",
       "      <td>0</td>\n",
       "      <td>NaN</td>\n",
       "      <td>NaN</td>\n",
       "      <td>NaN</td>\n",
       "      <td>0</td>\n",
       "      <td>2</td>\n",
       "      <td>2006</td>\n",
       "      <td>WD</td>\n",
       "      <td>Abnorml</td>\n",
       "      <td>140000</td>\n",
       "    </tr>\n",
       "    <tr>\n",
       "      <th>4</th>\n",
       "      <td>5</td>\n",
       "      <td>60</td>\n",
       "      <td>RL</td>\n",
       "      <td>84.0</td>\n",
       "      <td>14260</td>\n",
       "      <td>Pave</td>\n",
       "      <td>NaN</td>\n",
       "      <td>IR1</td>\n",
       "      <td>Lvl</td>\n",
       "      <td>AllPub</td>\n",
       "      <td>...</td>\n",
       "      <td>0</td>\n",
       "      <td>NaN</td>\n",
       "      <td>NaN</td>\n",
       "      <td>NaN</td>\n",
       "      <td>0</td>\n",
       "      <td>12</td>\n",
       "      <td>2008</td>\n",
       "      <td>WD</td>\n",
       "      <td>Normal</td>\n",
       "      <td>250000</td>\n",
       "    </tr>\n",
       "  </tbody>\n",
       "</table>\n",
       "<p>5 rows × 81 columns</p>\n",
       "</div>"
      ],
      "text/plain": [
       "   Id  MSSubClass MSZoning  LotFrontage  LotArea Street Alley LotShape  \\\n",
       "0   1          60       RL         65.0     8450   Pave   NaN      Reg   \n",
       "1   2          20       RL         80.0     9600   Pave   NaN      Reg   \n",
       "2   3          60       RL         68.0    11250   Pave   NaN      IR1   \n",
       "3   4          70       RL         60.0     9550   Pave   NaN      IR1   \n",
       "4   5          60       RL         84.0    14260   Pave   NaN      IR1   \n",
       "\n",
       "  LandContour Utilities  ... PoolArea PoolQC Fence MiscFeature MiscVal MoSold  \\\n",
       "0         Lvl    AllPub  ...        0    NaN   NaN         NaN       0      2   \n",
       "1         Lvl    AllPub  ...        0    NaN   NaN         NaN       0      5   \n",
       "2         Lvl    AllPub  ...        0    NaN   NaN         NaN       0      9   \n",
       "3         Lvl    AllPub  ...        0    NaN   NaN         NaN       0      2   \n",
       "4         Lvl    AllPub  ...        0    NaN   NaN         NaN       0     12   \n",
       "\n",
       "  YrSold  SaleType  SaleCondition  SalePrice  \n",
       "0   2008        WD         Normal     208500  \n",
       "1   2007        WD         Normal     181500  \n",
       "2   2008        WD         Normal     223500  \n",
       "3   2006        WD        Abnorml     140000  \n",
       "4   2008        WD         Normal     250000  \n",
       "\n",
       "[5 rows x 81 columns]"
      ]
     },
     "execution_count": 31,
     "metadata": {},
     "output_type": "execute_result"
    }
   ],
   "source": [
    "# import that Pandas Python package for working with dataframes\n",
    "import pandas as pd\n",
    "\n",
    "# read in housing price data as a dataframe\n",
    "data = pd.read_csv(\"./kaggleHousingPrices/train.csv\")\n",
    "data.head()"
   ]
  },
  {
   "cell_type": "code",
   "execution_count": 32,
   "id": "aa7d9378",
   "metadata": {
    "slideshow": {
     "slide_type": "subslide"
    }
   },
   "outputs": [
    {
     "data": {
      "text/plain": [
       "Index(['Id', 'MSSubClass', 'MSZoning', 'LotFrontage', 'LotArea', 'Street',\n",
       "       'Alley', 'LotShape', 'LandContour', 'Utilities', 'LotConfig',\n",
       "       'LandSlope', 'Neighborhood', 'Condition1', 'Condition2', 'BldgType',\n",
       "       'HouseStyle', 'OverallQual', 'OverallCond', 'YearBuilt', 'YearRemodAdd',\n",
       "       'RoofStyle', 'RoofMatl', 'Exterior1st', 'Exterior2nd', 'MasVnrType',\n",
       "       'MasVnrArea', 'ExterQual', 'ExterCond', 'Foundation', 'BsmtQual',\n",
       "       'BsmtCond', 'BsmtExposure', 'BsmtFinType1', 'BsmtFinSF1',\n",
       "       'BsmtFinType2', 'BsmtFinSF2', 'BsmtUnfSF', 'TotalBsmtSF', 'Heating',\n",
       "       'HeatingQC', 'CentralAir', 'Electrical', '1stFlrSF', '2ndFlrSF',\n",
       "       'LowQualFinSF', 'GrLivArea', 'BsmtFullBath', 'BsmtHalfBath', 'FullBath',\n",
       "       'HalfBath', 'BedroomAbvGr', 'KitchenAbvGr', 'KitchenQual',\n",
       "       'TotRmsAbvGrd', 'Functional', 'Fireplaces', 'FireplaceQu', 'GarageType',\n",
       "       'GarageYrBlt', 'GarageFinish', 'GarageCars', 'GarageArea', 'GarageQual',\n",
       "       'GarageCond', 'PavedDrive', 'WoodDeckSF', 'OpenPorchSF',\n",
       "       'EnclosedPorch', '3SsnPorch', 'ScreenPorch', 'PoolArea', 'PoolQC',\n",
       "       'Fence', 'MiscFeature', 'MiscVal', 'MoSold', 'YrSold', 'SaleType',\n",
       "       'SaleCondition', 'SalePrice'],\n",
       "      dtype='object')"
      ]
     },
     "execution_count": 32,
     "metadata": {},
     "output_type": "execute_result"
    }
   ],
   "source": [
    "data.columns"
   ]
  },
  {
   "cell_type": "code",
   "execution_count": 33,
   "id": "13c27f7c",
   "metadata": {
    "slideshow": {
     "slide_type": "fragment"
    }
   },
   "outputs": [
    {
     "data": {
      "text/html": [
       "<div>\n",
       "<style scoped>\n",
       "    .dataframe tbody tr th:only-of-type {\n",
       "        vertical-align: middle;\n",
       "    }\n",
       "\n",
       "    .dataframe tbody tr th {\n",
       "        vertical-align: top;\n",
       "    }\n",
       "\n",
       "    .dataframe thead th {\n",
       "        text-align: right;\n",
       "    }\n",
       "</style>\n",
       "<table border=\"1\" class=\"dataframe\">\n",
       "  <thead>\n",
       "    <tr style=\"text-align: right;\">\n",
       "      <th></th>\n",
       "      <th>Id</th>\n",
       "      <th>MSSubClass</th>\n",
       "      <th>LotFrontage</th>\n",
       "      <th>LotArea</th>\n",
       "      <th>OverallQual</th>\n",
       "      <th>OverallCond</th>\n",
       "      <th>YearBuilt</th>\n",
       "      <th>YearRemodAdd</th>\n",
       "      <th>MasVnrArea</th>\n",
       "      <th>BsmtFinSF1</th>\n",
       "      <th>...</th>\n",
       "      <th>WoodDeckSF</th>\n",
       "      <th>OpenPorchSF</th>\n",
       "      <th>EnclosedPorch</th>\n",
       "      <th>3SsnPorch</th>\n",
       "      <th>ScreenPorch</th>\n",
       "      <th>PoolArea</th>\n",
       "      <th>MiscVal</th>\n",
       "      <th>MoSold</th>\n",
       "      <th>YrSold</th>\n",
       "      <th>SalePrice</th>\n",
       "    </tr>\n",
       "  </thead>\n",
       "  <tbody>\n",
       "    <tr>\n",
       "      <th>count</th>\n",
       "      <td>1460.000000</td>\n",
       "      <td>1460.000000</td>\n",
       "      <td>1201.000000</td>\n",
       "      <td>1460.000000</td>\n",
       "      <td>1460.000000</td>\n",
       "      <td>1460.000000</td>\n",
       "      <td>1460.000000</td>\n",
       "      <td>1460.000000</td>\n",
       "      <td>1452.000000</td>\n",
       "      <td>1460.000000</td>\n",
       "      <td>...</td>\n",
       "      <td>1460.000000</td>\n",
       "      <td>1460.000000</td>\n",
       "      <td>1460.000000</td>\n",
       "      <td>1460.000000</td>\n",
       "      <td>1460.000000</td>\n",
       "      <td>1460.000000</td>\n",
       "      <td>1460.000000</td>\n",
       "      <td>1460.000000</td>\n",
       "      <td>1460.000000</td>\n",
       "      <td>1460.000000</td>\n",
       "    </tr>\n",
       "    <tr>\n",
       "      <th>mean</th>\n",
       "      <td>730.500000</td>\n",
       "      <td>56.897260</td>\n",
       "      <td>70.049958</td>\n",
       "      <td>10516.828082</td>\n",
       "      <td>6.099315</td>\n",
       "      <td>5.575342</td>\n",
       "      <td>1971.267808</td>\n",
       "      <td>1984.865753</td>\n",
       "      <td>103.685262</td>\n",
       "      <td>443.639726</td>\n",
       "      <td>...</td>\n",
       "      <td>94.244521</td>\n",
       "      <td>46.660274</td>\n",
       "      <td>21.954110</td>\n",
       "      <td>3.409589</td>\n",
       "      <td>15.060959</td>\n",
       "      <td>2.758904</td>\n",
       "      <td>43.489041</td>\n",
       "      <td>6.321918</td>\n",
       "      <td>2007.815753</td>\n",
       "      <td>180921.195890</td>\n",
       "    </tr>\n",
       "    <tr>\n",
       "      <th>std</th>\n",
       "      <td>421.610009</td>\n",
       "      <td>42.300571</td>\n",
       "      <td>24.284752</td>\n",
       "      <td>9981.264932</td>\n",
       "      <td>1.382997</td>\n",
       "      <td>1.112799</td>\n",
       "      <td>30.202904</td>\n",
       "      <td>20.645407</td>\n",
       "      <td>181.066207</td>\n",
       "      <td>456.098091</td>\n",
       "      <td>...</td>\n",
       "      <td>125.338794</td>\n",
       "      <td>66.256028</td>\n",
       "      <td>61.119149</td>\n",
       "      <td>29.317331</td>\n",
       "      <td>55.757415</td>\n",
       "      <td>40.177307</td>\n",
       "      <td>496.123024</td>\n",
       "      <td>2.703626</td>\n",
       "      <td>1.328095</td>\n",
       "      <td>79442.502883</td>\n",
       "    </tr>\n",
       "    <tr>\n",
       "      <th>min</th>\n",
       "      <td>1.000000</td>\n",
       "      <td>20.000000</td>\n",
       "      <td>21.000000</td>\n",
       "      <td>1300.000000</td>\n",
       "      <td>1.000000</td>\n",
       "      <td>1.000000</td>\n",
       "      <td>1872.000000</td>\n",
       "      <td>1950.000000</td>\n",
       "      <td>0.000000</td>\n",
       "      <td>0.000000</td>\n",
       "      <td>...</td>\n",
       "      <td>0.000000</td>\n",
       "      <td>0.000000</td>\n",
       "      <td>0.000000</td>\n",
       "      <td>0.000000</td>\n",
       "      <td>0.000000</td>\n",
       "      <td>0.000000</td>\n",
       "      <td>0.000000</td>\n",
       "      <td>1.000000</td>\n",
       "      <td>2006.000000</td>\n",
       "      <td>34900.000000</td>\n",
       "    </tr>\n",
       "    <tr>\n",
       "      <th>25%</th>\n",
       "      <td>365.750000</td>\n",
       "      <td>20.000000</td>\n",
       "      <td>59.000000</td>\n",
       "      <td>7553.500000</td>\n",
       "      <td>5.000000</td>\n",
       "      <td>5.000000</td>\n",
       "      <td>1954.000000</td>\n",
       "      <td>1967.000000</td>\n",
       "      <td>0.000000</td>\n",
       "      <td>0.000000</td>\n",
       "      <td>...</td>\n",
       "      <td>0.000000</td>\n",
       "      <td>0.000000</td>\n",
       "      <td>0.000000</td>\n",
       "      <td>0.000000</td>\n",
       "      <td>0.000000</td>\n",
       "      <td>0.000000</td>\n",
       "      <td>0.000000</td>\n",
       "      <td>5.000000</td>\n",
       "      <td>2007.000000</td>\n",
       "      <td>129975.000000</td>\n",
       "    </tr>\n",
       "    <tr>\n",
       "      <th>50%</th>\n",
       "      <td>730.500000</td>\n",
       "      <td>50.000000</td>\n",
       "      <td>69.000000</td>\n",
       "      <td>9478.500000</td>\n",
       "      <td>6.000000</td>\n",
       "      <td>5.000000</td>\n",
       "      <td>1973.000000</td>\n",
       "      <td>1994.000000</td>\n",
       "      <td>0.000000</td>\n",
       "      <td>383.500000</td>\n",
       "      <td>...</td>\n",
       "      <td>0.000000</td>\n",
       "      <td>25.000000</td>\n",
       "      <td>0.000000</td>\n",
       "      <td>0.000000</td>\n",
       "      <td>0.000000</td>\n",
       "      <td>0.000000</td>\n",
       "      <td>0.000000</td>\n",
       "      <td>6.000000</td>\n",
       "      <td>2008.000000</td>\n",
       "      <td>163000.000000</td>\n",
       "    </tr>\n",
       "    <tr>\n",
       "      <th>75%</th>\n",
       "      <td>1095.250000</td>\n",
       "      <td>70.000000</td>\n",
       "      <td>80.000000</td>\n",
       "      <td>11601.500000</td>\n",
       "      <td>7.000000</td>\n",
       "      <td>6.000000</td>\n",
       "      <td>2000.000000</td>\n",
       "      <td>2004.000000</td>\n",
       "      <td>166.000000</td>\n",
       "      <td>712.250000</td>\n",
       "      <td>...</td>\n",
       "      <td>168.000000</td>\n",
       "      <td>68.000000</td>\n",
       "      <td>0.000000</td>\n",
       "      <td>0.000000</td>\n",
       "      <td>0.000000</td>\n",
       "      <td>0.000000</td>\n",
       "      <td>0.000000</td>\n",
       "      <td>8.000000</td>\n",
       "      <td>2009.000000</td>\n",
       "      <td>214000.000000</td>\n",
       "    </tr>\n",
       "    <tr>\n",
       "      <th>max</th>\n",
       "      <td>1460.000000</td>\n",
       "      <td>190.000000</td>\n",
       "      <td>313.000000</td>\n",
       "      <td>215245.000000</td>\n",
       "      <td>10.000000</td>\n",
       "      <td>9.000000</td>\n",
       "      <td>2010.000000</td>\n",
       "      <td>2010.000000</td>\n",
       "      <td>1600.000000</td>\n",
       "      <td>5644.000000</td>\n",
       "      <td>...</td>\n",
       "      <td>857.000000</td>\n",
       "      <td>547.000000</td>\n",
       "      <td>552.000000</td>\n",
       "      <td>508.000000</td>\n",
       "      <td>480.000000</td>\n",
       "      <td>738.000000</td>\n",
       "      <td>15500.000000</td>\n",
       "      <td>12.000000</td>\n",
       "      <td>2010.000000</td>\n",
       "      <td>755000.000000</td>\n",
       "    </tr>\n",
       "  </tbody>\n",
       "</table>\n",
       "<p>8 rows × 38 columns</p>\n",
       "</div>"
      ],
      "text/plain": [
       "                Id   MSSubClass  LotFrontage        LotArea  OverallQual  \\\n",
       "count  1460.000000  1460.000000  1201.000000    1460.000000  1460.000000   \n",
       "mean    730.500000    56.897260    70.049958   10516.828082     6.099315   \n",
       "std     421.610009    42.300571    24.284752    9981.264932     1.382997   \n",
       "min       1.000000    20.000000    21.000000    1300.000000     1.000000   \n",
       "25%     365.750000    20.000000    59.000000    7553.500000     5.000000   \n",
       "50%     730.500000    50.000000    69.000000    9478.500000     6.000000   \n",
       "75%    1095.250000    70.000000    80.000000   11601.500000     7.000000   \n",
       "max    1460.000000   190.000000   313.000000  215245.000000    10.000000   \n",
       "\n",
       "       OverallCond    YearBuilt  YearRemodAdd   MasVnrArea   BsmtFinSF1  ...  \\\n",
       "count  1460.000000  1460.000000   1460.000000  1452.000000  1460.000000  ...   \n",
       "mean      5.575342  1971.267808   1984.865753   103.685262   443.639726  ...   \n",
       "std       1.112799    30.202904     20.645407   181.066207   456.098091  ...   \n",
       "min       1.000000  1872.000000   1950.000000     0.000000     0.000000  ...   \n",
       "25%       5.000000  1954.000000   1967.000000     0.000000     0.000000  ...   \n",
       "50%       5.000000  1973.000000   1994.000000     0.000000   383.500000  ...   \n",
       "75%       6.000000  2000.000000   2004.000000   166.000000   712.250000  ...   \n",
       "max       9.000000  2010.000000   2010.000000  1600.000000  5644.000000  ...   \n",
       "\n",
       "        WoodDeckSF  OpenPorchSF  EnclosedPorch    3SsnPorch  ScreenPorch  \\\n",
       "count  1460.000000  1460.000000    1460.000000  1460.000000  1460.000000   \n",
       "mean     94.244521    46.660274      21.954110     3.409589    15.060959   \n",
       "std     125.338794    66.256028      61.119149    29.317331    55.757415   \n",
       "min       0.000000     0.000000       0.000000     0.000000     0.000000   \n",
       "25%       0.000000     0.000000       0.000000     0.000000     0.000000   \n",
       "50%       0.000000    25.000000       0.000000     0.000000     0.000000   \n",
       "75%     168.000000    68.000000       0.000000     0.000000     0.000000   \n",
       "max     857.000000   547.000000     552.000000   508.000000   480.000000   \n",
       "\n",
       "          PoolArea       MiscVal       MoSold       YrSold      SalePrice  \n",
       "count  1460.000000   1460.000000  1460.000000  1460.000000    1460.000000  \n",
       "mean      2.758904     43.489041     6.321918  2007.815753  180921.195890  \n",
       "std      40.177307    496.123024     2.703626     1.328095   79442.502883  \n",
       "min       0.000000      0.000000     1.000000  2006.000000   34900.000000  \n",
       "25%       0.000000      0.000000     5.000000  2007.000000  129975.000000  \n",
       "50%       0.000000      0.000000     6.000000  2008.000000  163000.000000  \n",
       "75%       0.000000      0.000000     8.000000  2009.000000  214000.000000  \n",
       "max     738.000000  15500.000000    12.000000  2010.000000  755000.000000  \n",
       "\n",
       "[8 rows x 38 columns]"
      ]
     },
     "execution_count": 33,
     "metadata": {},
     "output_type": "execute_result"
    }
   ],
   "source": [
    "# summary statistics of each column\n",
    "data.describe()"
   ]
  },
  {
   "cell_type": "code",
   "execution_count": 34,
   "id": "324a9e71",
   "metadata": {
    "slideshow": {
     "slide_type": "subslide"
    }
   },
   "outputs": [
    {
     "data": {
      "text/plain": [
       "0        8450\n",
       "1        9600\n",
       "2       11250\n",
       "3        9550\n",
       "4       14260\n",
       "        ...  \n",
       "1455     7917\n",
       "1456    13175\n",
       "1457     9042\n",
       "1458     9717\n",
       "1459     9937\n",
       "Name: LotArea, Length: 1460, dtype: int64"
      ]
     },
     "execution_count": 34,
     "metadata": {},
     "output_type": "execute_result"
    }
   ],
   "source": [
    "# Access specific column\n",
    "# Each column is like a Numpy array \n",
    "# and can be thought of as a vector.\n",
    "data[\"LotArea\"]"
   ]
  },
  {
   "cell_type": "code",
   "execution_count": 35,
   "id": "c920c67a",
   "metadata": {
    "slideshow": {
     "slide_type": "fragment"
    }
   },
   "outputs": [
    {
     "data": {
      "text/plain": [
       "<AxesSubplot:>"
      ]
     },
     "execution_count": 35,
     "metadata": {},
     "output_type": "execute_result"
    },
    {
     "data": {
      "image/png": "[encoded data removed]",
      "text/plain": [
       "<Figure size 432x288 with 1 Axes>"
      ]
     },
     "metadata": {
      "needs_background": "light"
     },
     "output_type": "display_data"
    }
   ],
   "source": [
    "# visualize a column\n",
    "data[\"LotArea\"].hist()"
   ]
  },
  {
   "cell_type": "code",
   "execution_count": 36,
   "id": "5b64ee30",
   "metadata": {
    "slideshow": {
     "slide_type": "subslide"
    }
   },
   "outputs": [
    {
     "name": "stdout",
     "output_type": "stream",
     "text": [
      "(1460, 81)\n"
     ]
    },
    {
     "data": {
      "text/plain": [
       "array([[1, 60, 'RL', ..., 'WD', 'Normal', 208500],\n",
       "       [2, 20, 'RL', ..., 'WD', 'Normal', 181500],\n",
       "       [3, 60, 'RL', ..., 'WD', 'Normal', 223500],\n",
       "       ...,\n",
       "       [1458, 70, 'RL', ..., 'WD', 'Normal', 266500],\n",
       "       [1459, 20, 'RL', ..., 'WD', 'Normal', 142125],\n",
       "       [1460, 20, 'RL', ..., 'WD', 'Normal', 147500]], dtype=object)"
      ]
     },
     "execution_count": 36,
     "metadata": {},
     "output_type": "execute_result"
    }
   ],
   "source": [
    "# dataframes are matrices underneath\n",
    "M = data.values\n",
    "print(M.shape)\n",
    "M"
   ]
  },
  {
   "cell_type": "markdown",
   "id": "5c7f8d73",
   "metadata": {
    "slideshow": {
     "slide_type": "subslide"
    }
   },
   "source": [
    "Fields of interest:\n",
    "- LotFrontage: Linear feet of street connected to property\n",
    "- LotArea: Lot size in square feet\n",
    "- OverallQual: Rates the overall material and finish of the house (1 to 10)\n",
    "- OverallCond: Rates the overall condition of the house (1 to 10)\n",
    "- GarageArea: Size of garage in square feet\n",
    "- PoolArea: Pool area in square feet\n",
    "- GrLivArea: Above grade (ground) living area square feet\n",
    "- BedroomAbvGr: Number of bedrooms above basement level"
   ]
  },
  {
   "cell_type": "code",
   "execution_count": 37,
   "id": "d28073b8",
   "metadata": {
    "slideshow": {
     "slide_type": "fragment"
    }
   },
   "outputs": [
    {
     "data": {
      "text/html": [
       "<div>\n",
       "<style scoped>\n",
       "    .dataframe tbody tr th:only-of-type {\n",
       "        vertical-align: middle;\n",
       "    }\n",
       "\n",
       "    .dataframe tbody tr th {\n",
       "        vertical-align: top;\n",
       "    }\n",
       "\n",
       "    .dataframe thead th {\n",
       "        text-align: right;\n",
       "    }\n",
       "</style>\n",
       "<table border=\"1\" class=\"dataframe\">\n",
       "  <thead>\n",
       "    <tr style=\"text-align: right;\">\n",
       "      <th></th>\n",
       "      <th>SalePrice</th>\n",
       "      <th>LotArea</th>\n",
       "      <th>GarageArea</th>\n",
       "      <th>PoolArea</th>\n",
       "      <th>GrLivArea</th>\n",
       "      <th>BedroomAbvGr</th>\n",
       "    </tr>\n",
       "  </thead>\n",
       "  <tbody>\n",
       "    <tr>\n",
       "      <th>0</th>\n",
       "      <td>208500</td>\n",
       "      <td>8450</td>\n",
       "      <td>548</td>\n",
       "      <td>0</td>\n",
       "      <td>1710</td>\n",
       "      <td>3</td>\n",
       "    </tr>\n",
       "    <tr>\n",
       "      <th>1</th>\n",
       "      <td>181500</td>\n",
       "      <td>9600</td>\n",
       "      <td>460</td>\n",
       "      <td>0</td>\n",
       "      <td>1262</td>\n",
       "      <td>3</td>\n",
       "    </tr>\n",
       "    <tr>\n",
       "      <th>2</th>\n",
       "      <td>223500</td>\n",
       "      <td>11250</td>\n",
       "      <td>608</td>\n",
       "      <td>0</td>\n",
       "      <td>1786</td>\n",
       "      <td>3</td>\n",
       "    </tr>\n",
       "    <tr>\n",
       "      <th>3</th>\n",
       "      <td>140000</td>\n",
       "      <td>9550</td>\n",
       "      <td>642</td>\n",
       "      <td>0</td>\n",
       "      <td>1717</td>\n",
       "      <td>3</td>\n",
       "    </tr>\n",
       "    <tr>\n",
       "      <th>4</th>\n",
       "      <td>250000</td>\n",
       "      <td>14260</td>\n",
       "      <td>836</td>\n",
       "      <td>0</td>\n",
       "      <td>2198</td>\n",
       "      <td>4</td>\n",
       "    </tr>\n",
       "  </tbody>\n",
       "</table>\n",
       "</div>"
      ],
      "text/plain": [
       "   SalePrice  LotArea  GarageArea  PoolArea  GrLivArea  BedroomAbvGr\n",
       "0     208500     8450         548         0       1710             3\n",
       "1     181500     9600         460         0       1262             3\n",
       "2     223500    11250         608         0       1786             3\n",
       "3     140000     9550         642         0       1717             3\n",
       "4     250000    14260         836         0       2198             4"
      ]
     },
     "execution_count": 37,
     "metadata": {},
     "output_type": "execute_result"
    }
   ],
   "source": [
    "# Dataframe columns can contain any data type.\n",
    "# Filter dataframe to numerical columns of interest.\n",
    "data = pd.read_csv(\"./kaggleHousingPrices/train.csv\")\n",
    "data = data[[\"SalePrice\",\"LotArea\",\"GarageArea\",\"PoolArea\",\"GrLivArea\",\"BedroomAbvGr\"]]\n",
    "data.head()"
   ]
  },
  {
   "cell_type": "code",
   "execution_count": 38,
   "id": "a7e17b65",
   "metadata": {
    "slideshow": {
     "slide_type": "subslide"
    }
   },
   "outputs": [
    {
     "name": "stdout",
     "output_type": "stream",
     "text": [
      "(1460, 4)\n"
     ]
    },
    {
     "data": {
      "text/html": [
       "<div>\n",
       "<style scoped>\n",
       "    .dataframe tbody tr th:only-of-type {\n",
       "        vertical-align: middle;\n",
       "    }\n",
       "\n",
       "    .dataframe tbody tr th {\n",
       "        vertical-align: top;\n",
       "    }\n",
       "\n",
       "    .dataframe thead th {\n",
       "        text-align: right;\n",
       "    }\n",
       "</style>\n",
       "<table border=\"1\" class=\"dataframe\">\n",
       "  <thead>\n",
       "    <tr style=\"text-align: right;\">\n",
       "      <th></th>\n",
       "      <th>LotArea</th>\n",
       "      <th>GarageArea</th>\n",
       "      <th>PoolArea</th>\n",
       "      <th>BedroomAbvGr</th>\n",
       "    </tr>\n",
       "  </thead>\n",
       "  <tbody>\n",
       "    <tr>\n",
       "      <th>count</th>\n",
       "      <td>1460.000000</td>\n",
       "      <td>1460.000000</td>\n",
       "      <td>1460.000000</td>\n",
       "      <td>1460.000000</td>\n",
       "    </tr>\n",
       "    <tr>\n",
       "      <th>mean</th>\n",
       "      <td>10516.828082</td>\n",
       "      <td>472.980137</td>\n",
       "      <td>2.758904</td>\n",
       "      <td>2.866438</td>\n",
       "    </tr>\n",
       "    <tr>\n",
       "      <th>std</th>\n",
       "      <td>9981.264932</td>\n",
       "      <td>213.804841</td>\n",
       "      <td>40.177307</td>\n",
       "      <td>0.815778</td>\n",
       "    </tr>\n",
       "    <tr>\n",
       "      <th>min</th>\n",
       "      <td>1300.000000</td>\n",
       "      <td>0.000000</td>\n",
       "      <td>0.000000</td>\n",
       "      <td>0.000000</td>\n",
       "    </tr>\n",
       "    <tr>\n",
       "      <th>25%</th>\n",
       "      <td>7553.500000</td>\n",
       "      <td>334.500000</td>\n",
       "      <td>0.000000</td>\n",
       "      <td>2.000000</td>\n",
       "    </tr>\n",
       "    <tr>\n",
       "      <th>50%</th>\n",
       "      <td>9478.500000</td>\n",
       "      <td>480.000000</td>\n",
       "      <td>0.000000</td>\n",
       "      <td>3.000000</td>\n",
       "    </tr>\n",
       "    <tr>\n",
       "      <th>75%</th>\n",
       "      <td>11601.500000</td>\n",
       "      <td>576.000000</td>\n",
       "      <td>0.000000</td>\n",
       "      <td>3.000000</td>\n",
       "    </tr>\n",
       "    <tr>\n",
       "      <th>max</th>\n",
       "      <td>215245.000000</td>\n",
       "      <td>1418.000000</td>\n",
       "      <td>738.000000</td>\n",
       "      <td>8.000000</td>\n",
       "    </tr>\n",
       "  </tbody>\n",
       "</table>\n",
       "</div>"
      ],
      "text/plain": [
       "             LotArea   GarageArea     PoolArea  BedroomAbvGr\n",
       "count    1460.000000  1460.000000  1460.000000   1460.000000\n",
       "mean    10516.828082   472.980137     2.758904      2.866438\n",
       "std      9981.264932   213.804841    40.177307      0.815778\n",
       "min      1300.000000     0.000000     0.000000      0.000000\n",
       "25%      7553.500000   334.500000     0.000000      2.000000\n",
       "50%      9478.500000   480.000000     0.000000      3.000000\n",
       "75%     11601.500000   576.000000     0.000000      3.000000\n",
       "max    215245.000000  1418.000000   738.000000      8.000000"
      ]
     },
     "execution_count": 38,
     "metadata": {},
     "output_type": "execute_result"
    }
   ],
   "source": [
    "# get matrix M and sale price vector y\n",
    "y = data[\"SalePrice\"]\n",
    "M = data[[\"LotArea\",\"GarageArea\",\"PoolArea\",\"BedroomAbvGr\"]]\n",
    "n,p = M.shape\n",
    "# number of observations (home sales), number of home features \n",
    "print((n,p))\n",
    "M.describe() "
   ]
  },
  {
   "cell_type": "code",
   "execution_count": 39,
   "id": "953ee65c",
   "metadata": {
    "slideshow": {
     "slide_type": "subslide"
    }
   },
   "outputs": [
    {
     "ename": "LinAlgError",
     "evalue": "Last 2 dimensions of the array must be square",
     "output_type": "error",
     "traceback": [
      "\u001b[0;31m---------------------------------------------------------------------------\u001b[0m",
      "\u001b[0;31mLinAlgError\u001b[0m                               Traceback (most recent call last)",
      "\u001b[0;32m/var/folders/1_/mlqp4_wx2_54k9cswn2_f0qr0000gn/T/ipykernel_92453/2762337710.py\u001b[0m in \u001b[0;36m<module>\u001b[0;34m\u001b[0m\n\u001b[1;32m      1\u001b[0m \u001b[0;31m# attempt to solve for feature values, but expect error because M is not square\u001b[0m\u001b[0;34m\u001b[0m\u001b[0;34m\u001b[0m\u001b[0;34m\u001b[0m\u001b[0m\n\u001b[0;32m----> 2\u001b[0;31m \u001b[0mxhat\u001b[0m \u001b[0;34m=\u001b[0m \u001b[0mnp\u001b[0m\u001b[0;34m.\u001b[0m\u001b[0mlinalg\u001b[0m\u001b[0;34m.\u001b[0m\u001b[0msolve\u001b[0m\u001b[0;34m(\u001b[0m\u001b[0mM\u001b[0m\u001b[0;34m,\u001b[0m\u001b[0my\u001b[0m\u001b[0;34m)\u001b[0m\u001b[0;34m\u001b[0m\u001b[0;34m\u001b[0m\u001b[0m\n\u001b[0m",
      "\u001b[0;32m/opt/miniconda3/lib/python3.9/site-packages/numpy/linalg/linalg.py\u001b[0m in \u001b[0;36msolve\u001b[0;34m(a, b)\u001b[0m\n\u001b[1;32m    394\u001b[0m     \u001b[0ma\u001b[0m\u001b[0;34m,\u001b[0m \u001b[0m_\u001b[0m \u001b[0;34m=\u001b[0m \u001b[0m_makearray\u001b[0m\u001b[0;34m(\u001b[0m\u001b[0ma\u001b[0m\u001b[0;34m)\u001b[0m\u001b[0;34m\u001b[0m\u001b[0;34m\u001b[0m\u001b[0m\n\u001b[1;32m    395\u001b[0m     \u001b[0m_assert_stacked_2d\u001b[0m\u001b[0;34m(\u001b[0m\u001b[0ma\u001b[0m\u001b[0;34m)\u001b[0m\u001b[0;34m\u001b[0m\u001b[0;34m\u001b[0m\u001b[0m\n\u001b[0;32m--> 396\u001b[0;31m     \u001b[0m_assert_stacked_square\u001b[0m\u001b[0;34m(\u001b[0m\u001b[0ma\u001b[0m\u001b[0;34m)\u001b[0m\u001b[0;34m\u001b[0m\u001b[0;34m\u001b[0m\u001b[0m\n\u001b[0m\u001b[1;32m    397\u001b[0m     \u001b[0mb\u001b[0m\u001b[0;34m,\u001b[0m \u001b[0mwrap\u001b[0m \u001b[0;34m=\u001b[0m \u001b[0m_makearray\u001b[0m\u001b[0;34m(\u001b[0m\u001b[0mb\u001b[0m\u001b[0;34m)\u001b[0m\u001b[0;34m\u001b[0m\u001b[0;34m\u001b[0m\u001b[0m\n\u001b[1;32m    398\u001b[0m     \u001b[0mt\u001b[0m\u001b[0;34m,\u001b[0m \u001b[0mresult_t\u001b[0m \u001b[0;34m=\u001b[0m \u001b[0m_commonType\u001b[0m\u001b[0;34m(\u001b[0m\u001b[0ma\u001b[0m\u001b[0;34m,\u001b[0m \u001b[0mb\u001b[0m\u001b[0;34m)\u001b[0m\u001b[0;34m\u001b[0m\u001b[0;34m\u001b[0m\u001b[0m\n",
      "\u001b[0;32m/opt/miniconda3/lib/python3.9/site-packages/numpy/linalg/linalg.py\u001b[0m in \u001b[0;36m_assert_stacked_square\u001b[0;34m(*arrays)\u001b[0m\n\u001b[1;32m    211\u001b[0m         \u001b[0mm\u001b[0m\u001b[0;34m,\u001b[0m \u001b[0mn\u001b[0m \u001b[0;34m=\u001b[0m \u001b[0ma\u001b[0m\u001b[0;34m.\u001b[0m\u001b[0mshape\u001b[0m\u001b[0;34m[\u001b[0m\u001b[0;34m-\u001b[0m\u001b[0;36m2\u001b[0m\u001b[0;34m:\u001b[0m\u001b[0;34m]\u001b[0m\u001b[0;34m\u001b[0m\u001b[0;34m\u001b[0m\u001b[0m\n\u001b[1;32m    212\u001b[0m         \u001b[0;32mif\u001b[0m \u001b[0mm\u001b[0m \u001b[0;34m!=\u001b[0m \u001b[0mn\u001b[0m\u001b[0;34m:\u001b[0m\u001b[0;34m\u001b[0m\u001b[0;34m\u001b[0m\u001b[0m\n\u001b[0;32m--> 213\u001b[0;31m             \u001b[0;32mraise\u001b[0m \u001b[0mLinAlgError\u001b[0m\u001b[0;34m(\u001b[0m\u001b[0;34m'Last 2 dimensions of the array must be square'\u001b[0m\u001b[0;34m)\u001b[0m\u001b[0;34m\u001b[0m\u001b[0;34m\u001b[0m\u001b[0m\n\u001b[0m\u001b[1;32m    214\u001b[0m \u001b[0;34m\u001b[0m\u001b[0m\n\u001b[1;32m    215\u001b[0m \u001b[0;32mdef\u001b[0m \u001b[0m_assert_finite\u001b[0m\u001b[0;34m(\u001b[0m\u001b[0;34m*\u001b[0m\u001b[0marrays\u001b[0m\u001b[0;34m)\u001b[0m\u001b[0;34m:\u001b[0m\u001b[0;34m\u001b[0m\u001b[0;34m\u001b[0m\u001b[0m\n",
      "\u001b[0;31mLinAlgError\u001b[0m: Last 2 dimensions of the array must be square"
     ]
    }
   ],
   "source": [
    "# attempt to solve for feature values, but expect error because M is not square\n",
    "xhat = np.linalg.solve(M,y)"
   ]
  },
  {
   "cell_type": "code",
   "execution_count": 40,
   "id": "be210eb1",
   "metadata": {
    "slideshow": {
     "slide_type": "subslide"
    }
   },
   "outputs": [],
   "source": [
    "# use M transpose approach\n",
    "xhat = np.linalg.solve(M.T@M,M.T@y)\n",
    "yhat = M@xhat"
   ]
  },
  {
   "cell_type": "code",
   "execution_count": 41,
   "id": "676e99ec",
   "metadata": {
    "slideshow": {
     "slide_type": "fragment"
    }
   },
   "outputs": [
    {
     "data": {
      "image/png": "[encoded data removed]",
      "text/plain": [
       "<Figure size 576x432 with 1 Axes>"
      ]
     },
     "metadata": {
      "needs_background": "light"
     },
     "output_type": "display_data"
    }
   ],
   "source": [
    "# did we do a good job?\n",
    "plt.figure(figsize=(8,6))\n",
    "plt.plot(y,yhat,'o',alpha=.5,label=\"_data\",zorder=3)\n",
    "xx,yy = plt.xlim(),plt.ylim()\n",
    "plt.plot(xx,xx,'--',zorder=4,label=\"$\\\\hat{y}_i = y_i$\",linewidth=3)\n",
    "plt.xticks(fontsize=15,rotation=35)\n",
    "plt.yticks(fontsize=15)\n",
    "plt.xlabel(\"Actual Sales Price ($y_i$)\",fontsize=15)\n",
    "plt.ylabel(\"Estimated Sales Price ($\\hat{y}_i$)\",fontsize=15)\n",
    "\n",
    "ybar = y.mean()\n",
    "R2 = np.sum((yhat-ybar)**2) / np.sum((y-ybar)**2)\n",
    "plt.title(\"$R^2=%0.2f$\" % R2,fontsize=15);\n",
    "plt.legend(fontsize=15);"
   ]
  },
  {
   "cell_type": "markdown",
   "id": "c76be3cd",
   "metadata": {
    "slideshow": {
     "slide_type": "subslide"
    }
   },
   "source": [
    "Remember we are essentially solving $\\hspace{1cm}M\\cdot\\vec{x}=\\vec{y}\\hspace{1cm}$ which, in a real-world setting is equivalent to\n",
    "\n",
    "$\n",
    "\\begin{align}\n",
    "    \\$cost_1 &= \\$price_{11}\\cdot amount_{11}+ \\$price_{12}\\cdot amount_{12}+\\dots+ \\$price_{1p}\\cdot amount_{1p} \\\\\n",
    "    \\$cost_2 &= \\$price_{21}\\cdot amount_{21}+ \\$price_{22}\\cdot amount_{22}+\\dots+ \\$price_{2p}\\cdot amount_{2p} \\\\\n",
    "    \\vdots &= \\hspace{3cm}\\vdots \\\\\n",
    "    \\$cost_n &= \\$price_{n1}\\cdot amount_{n1}+ \\$price_{n2}\\cdot amount_{n2}+\\dots+ \\$price_{np}\\cdot amount_{np} \\\\\n",
    "\\end{align}\n",
    "$\n",
    "\n",
    "Let $\\hat{\\$price}_j = \\langle \\$price_{ji}\\rangle_i$ be the average price for grocery item $j$.\n",
    "\n",
    "Then our estimated price vector $\\hspace{1cm}\\hat{x}=\\begin{bmatrix}\\hat{\\$price}_1 \\\\ \\hat{\\$price}_2 \\\\ \\vdots \\\\ \\hat{\\$price}_p \\\\ \\end{bmatrix}\\hspace{1cm}$ has components with units in dollars. \n",
    "\n",
    "That is, $\\hat{\\$price}_i$ is the estimated increase in the home sale price if $amenity_i$ is increased by 1 unit of measure (e.g., the Lot Size is increased by 1 square meter)."
   ]
  },
  {
   "cell_type": "code",
   "execution_count": 42,
   "id": "7c3c1066",
   "metadata": {
    "slideshow": {
     "slide_type": "subslide"
    }
   },
   "outputs": [
    {
     "data": {
      "text/plain": [
       "LotArea             1.190920\n",
       "PoolArea           59.027950\n",
       "GarageArea        236.762178\n",
       "BedroomAbvGr    18931.625535\n",
       "dtype: float64"
      ]
     },
     "execution_count": 42,
     "metadata": {},
     "output_type": "execute_result"
    }
   ],
   "source": [
    "# summarize the amenity cost estimates as a Pandas Series object\n",
    "xhat1_series = pd.Series(\n",
    "    data = xhat,\n",
    "    index = M.columns,\n",
    ").sort_values()\n",
    "xhat1_series"
   ]
  },
  {
   "cell_type": "markdown",
   "id": "aaeb6ab3",
   "metadata": {
    "slideshow": {
     "slide_type": "subslide"
    }
   },
   "source": [
    "Estimating the value added of each homer amenity is very valuable.\n",
    "\n",
    "However, estimating these prices confidently is very tricky.\n",
    "\n",
    "Let's see what happens if I add in more home amenities."
   ]
  },
  {
   "cell_type": "code",
   "execution_count": 45,
   "id": "a18350d6",
   "metadata": {
    "slideshow": {
     "slide_type": "fragment"
    }
   },
   "outputs": [
    {
     "name": "stdout",
     "output_type": "stream",
     "text": [
      "(1460, 7)\n"
     ]
    }
   ],
   "source": [
    "data = pd.read_csv(\"./kaggleHousingPrices/train.csv\")\n",
    "\n",
    "# get matrix M and sale price vector y\n",
    "y = data[\"SalePrice\"]\n",
    "\n",
    "# originally  M = data[[\"LotArea\",\"GarageArea\",\"PoolArea\",\"BedroomAbvGr\"]]\n",
    "M = data[[\"LotArea\",\"GarageArea\",\"PoolArea\",\"GrLivArea\",\"BedroomAbvGr\",\"OverallCond\",\"OverallQual\",]]\n",
    "n,p = M.shape\n",
    "# number of observations (home sales), number of home features \n",
    "print((n,p))\n",
    "\n",
    "# use M transpose approach\n",
    "xhat = np.linalg.solve(M.T@M,M.T@y)\n",
    "yhat = M@xhat"
   ]
  },
  {
   "cell_type": "code",
   "execution_count": 46,
   "id": "4ed56b37",
   "metadata": {
    "slideshow": {
     "slide_type": "subslide"
    }
   },
   "outputs": [
    {
     "data": {
      "image/png": "[encoded data removed]",
      "text/plain": [
       "<Figure size 576x432 with 1 Axes>"
      ]
     },
     "metadata": {
      "needs_background": "light"
     },
     "output_type": "display_data"
    }
   ],
   "source": [
    "# did we do a good job?\n",
    "plt.figure(figsize=(8,6))\n",
    "plt.plot(y,yhat,'o',alpha=.5,label=\"_data\",zorder=3)\n",
    "xx,yy = plt.xlim(),plt.ylim()\n",
    "plt.plot(xx,xx,'--',zorder=4,label=\"$\\\\hat{y}_i = y_i$\",linewidth=3)\n",
    "plt.xlim(xx)\n",
    "plt.ylim(yy)\n",
    "plt.xticks(fontsize=15,rotation=35)\n",
    "plt.yticks(fontsize=15)\n",
    "plt.xlabel(\"Actual Sales Price ($y_i$)\",fontsize=15)\n",
    "plt.ylabel(\"Estimated Sales Price ($\\hat{y}_i$)\",fontsize=15)\n",
    "\n",
    "ybar = y.mean()\n",
    "R2 = np.sum((yhat-ybar)**2) / np.sum((y-ybar)**2)\n",
    "plt.title(\"$R^2=%0.2f$\" % R2,fontsize=15);\n",
    "plt.legend(fontsize=15);"
   ]
  },
  {
   "cell_type": "code",
   "execution_count": 47,
   "id": "0f7492b8",
   "metadata": {
    "slideshow": {
     "slide_type": "subslide"
    }
   },
   "outputs": [
    {
     "data": {
      "text/plain": [
       "BedroomAbvGr   -17117.597699\n",
       "OverallCond     -5463.293108\n",
       "PoolArea          -18.799606\n",
       "LotArea             0.681247\n",
       "GarageArea         59.607438\n",
       "GrLivArea          64.353832\n",
       "OverallQual     21165.914665\n",
       "dtype: float64"
      ]
     },
     "execution_count": 47,
     "metadata": {},
     "output_type": "execute_result"
    }
   ],
   "source": [
    "# summarize the amenity cost estimates as a Pandas Series object\n",
    "pd.Series(\n",
    "    data = xhat,\n",
    "    index = M.columns,\n",
    ").sort_values()"
   ]
  },
  {
   "cell_type": "code",
   "execution_count": 48,
   "id": "1c9a1ede",
   "metadata": {
    "slideshow": {
     "slide_type": "fragment"
    }
   },
   "outputs": [
    {
     "data": {
      "text/plain": [
       "LotArea             1.190920\n",
       "PoolArea           59.027950\n",
       "GarageArea        236.762178\n",
       "BedroomAbvGr    18931.625535\n",
       "dtype: float64"
      ]
     },
     "execution_count": 48,
     "metadata": {},
     "output_type": "execute_result"
    }
   ],
   "source": [
    "# result from before\n",
    "xhat1_series"
   ]
  },
  {
   "cell_type": "markdown",
   "id": "6630fa3b",
   "metadata": {
    "slideshow": {
     "slide_type": "fragment"
    }
   },
   "source": [
    "The amenity value estimates are completely different! \n",
    "\n",
    "We will discuss why this happens in a later module.\n",
    "\n",
    "For now, it's just something to be aware of."
   ]
  }
 ],
 "metadata": {
  "celltoolbar": "Hide code",
  "kernelspec": {
   "display_name": "Python 3 (ipykernel)",
   "language": "python",
   "name": "python3"
  },
  "language_info": {
   "codemirror_mode": {
    "name": "ipython",
    "version": 3
   },
   "file_extension": ".py",
   "mimetype": "text/x-python",
   "name": "python",
   "nbconvert_exporter": "python",
   "pygments_lexer": "ipython3",
   "version": "3.8.19"
  },
  "varInspector": {
   "cols": {
    "lenName": 16,
    "lenType": 16,
    "lenVar": 40
   },
   "kernels_config": {
    "python": {
     "delete_cmd_postfix": "",
     "delete_cmd_prefix": "del ",
     "library": "var_list.py",
     "varRefreshCmd": "print(var_dic_list())"
    },
    "r": {
     "delete_cmd_postfix": ") ",
     "delete_cmd_prefix": "rm(",
     "library": "var_list.r",
     "varRefreshCmd": "cat(var_dic_list()) "
    }
   },
   "types_to_exclude": [
    "module",
    "function",
    "builtin_function_or_method",
    "instance",
    "_Feature"
   ],
   "window_display": false
  }
 },
 "nbformat": 4,
 "nbformat_minor": 5
}
