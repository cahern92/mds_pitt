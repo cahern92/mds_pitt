{
 "cells": [
  {
   "cell_type": "code",
   "execution_count": 1,
   "id": "008b7096-f401-4a78-b34f-8b2c184f1ce8",
   "metadata": {
    "slideshow": {
     "slide_type": "skip"
    }
   },
   "outputs": [],
   "source": [
    "import numpy as np\n",
    "import matplotlib.pyplot as plt\n",
    "%matplotlib inline\n",
    "import ipywidgets as widgets\n",
    "import pandas as pd\n",
    "idx = pd.IndexSlice"
   ]
  },
  {
   "cell_type": "markdown",
   "metadata": {
    "slideshow": {
     "slide_type": "skip"
    }
   },
   "source": [
    "$$\n",
    "\\newcommand{\\gap}{\\hspace{.25cm}}\n",
    "\\newcommand{\\gmath}{\\hspace{.25cm}\\displaystyle}\n",
    "$$"
   ]
  },
  {
   "cell_type": "markdown",
   "metadata": {
    "slideshow": {
     "slide_type": "slide"
    }
   },
   "source": [
    "# Covariance and Correlation\n",
    "\n",
    "Have you ever noticed that taller people tend to wear larger shoe sizes?\n",
    "\n",
    "Put another way, this statement suggests that shorter people will have smaller shoe sizes and shoe size will increase as we study taller and taller people.\n",
    "\n",
    "That is, as we vary people's heights, we expect their shoe size to vary as well and to vary in the same direction (i.e., increasing height corresponds to increasing shoe size).\n",
    "\n",
    "Across people, height and shoe size tend to **covary**."
   ]
  },
  {
   "cell_type": "markdown",
   "metadata": {
    "slideshow": {
     "slide_type": "subslide"
    }
   },
   "source": [
    "Let $X$ and $Y$ be two variables.\n",
    "\n",
    "***Covariance*** is <font color='blue'>the expected value of the product of their deviations from their individual expected values</font>:\n",
    "\n",
    "$\n",
    "\\gmath\n",
    "\\begin{align}\n",
    "cov(X,Y) \n",
    "&= \\color{blue}{E[(X-E[X])(Y-E[Y])]}\n",
    "= E[XY-XE[Y]-YE[X]+E[X]E[Y]]\n",
    "\\\\\\\\\n",
    "&= E[XY]-2E[X]E[Y]+E[X]E[Y]\n",
    "=E[XY]-E[X]E[Y]\n",
    "\\\\\\\\\n",
    "\\end{align}\n",
    "$\n",
    "\n",
    "Remember \n",
    "$\n",
    "\\gmath\n",
    "E[X\\cdot\\color{red}{E[Y]}] = \\sum_{x\\in X}x\\cdot P(X=x)\\cdot \\color{red}{E[Y]} = \\color{red}{E[Y]}\\cdot\\sum_{x\\in X}x\\cdot P(X=x) = \\color{red}{E[Y]}E[X]\n",
    "$"
   ]
  },
  {
   "cell_type": "markdown",
   "metadata": {
    "slideshow": {
     "slide_type": "fragment"
    }
   },
   "source": [
    "The $\\gap(X-E[X])\\gap$ and $\\gap(Y-E[Y])\\gap$ terms center the variables $X,Y$ \n",
    "\n",
    "And the product $\\gap(X-E[X])(Y-E[Y])\\gap$ exaggerates when $X,Y$ are both large together."
   ]
  },
  {
   "cell_type": "markdown",
   "metadata": {
    "slideshow": {
     "slide_type": "subslide"
    }
   },
   "source": [
    "Note that the units of $\\gap cov(X,Y)=E[XY]-E[X]E[Y]\\gap$ will be the units of $X$ times the units of $Y$ which might be hard to interpret.\n",
    "\n",
    "For example, if $X$ is a person's height measured in feet and $Y$ is shoe size measured in inches, then $\\gap cov(X,Y)\\gap$ will have units $\\gap(\\text{height in feet})(\\text{shoe size in inches})$\n",
    "\n",
    "To measure covariance without units, we can normalize $\\gap cov(X,Y)\\gap$ by the standard deviation of each variable. \n",
    "\n",
    "This gives us the ***Pearson correlation coefficient***:\n",
    "$\n",
    "\\gmath\n",
    "\\rho_{XY}=corr(X,Y) \n",
    "= \\frac{cov(X,Y)}{\\sigma_X\\sigma_Y}\n",
    "= \\frac{cov(X,Y)}{\\sqrt{Var(X)}\\cdot\\sqrt{Var(Y)}}\n",
    "$\n",
    "\n",
    "While $\\gap cov(X,Y)\\gap$ is unbounded, $\\gap \\rho_{XY}\\in[-1,1]\\gap$ with \n",
    "- $\\rho_{XY}=1\\gap$ indicating perfect covariance (i.e., $X,Y$ increase and decrease together), and \n",
    "-$\\rho_{XY}=-1\\gap$ indicating perfect negative covariance (i.e., if $X$ increases, then $Y$ decreases, and vice versa), and\n",
    "- $\\rho_{XY}=0\\gap$ indicates no covariance.\n"
   ]
  },
  {
   "cell_type": "markdown",
   "metadata": {
    "slideshow": {
     "slide_type": "subslide"
    }
   },
   "source": [
    "Imagine $\\gap X,Y\\gap$ are two columns from data set of $n$ observations (e.g., $X$ is height and $Y$ is shoe size).\n",
    "\n",
    "We can calculate the correlation according to \n",
    "\n",
    "$\n",
    "\\gmath\n",
    "\\rho_{XY} = \\frac{\\displaystyle\\sum_{i=1}^n \\left(x_i-\\langle x\\rangle\\right)\\left(y_i-\\langle y\\rangle\\right)}{\\sqrt{ \\displaystyle\\sum_{i=1}^n \\left(x_i-\\langle x\\rangle\\right)^2\\cdot \\sum_{i=1}^n \\left(y_i-\\langle y\\rangle\\right)^2 }}\n",
    "$\n",
    "\n",
    "where $x_i$ is the $i$th data point in column $X$ and $\\langle x\\rangle$ is the average of the data in column $X$ (similarly for the $y$ variables)"
   ]
  },
  {
   "cell_type": "code",
   "execution_count": 108,
   "metadata": {
    "hideCode": false,
    "hidePrompt": false,
    "slideshow": {
     "slide_type": "subslide"
    }
   },
   "outputs": [
    {
     "data": {
      "application/vnd.jupyter.widget-view+json": {
       "model_id": "adf08c6eb0f44a2daf7b98c9eba88c5a",
       "version_major": 2,
       "version_minor": 0
      },
      "text/plain": [
       "interactive(children=(FloatSlider(value=0.5, continuous_update=False, description='Relationship:', max=1.0, mi…"
      ]
     },
     "execution_count": 108,
     "metadata": {},
     "output_type": "execute_result"
    }
   ],
   "source": [
    "#hide \n",
    "from scipy.stats import pearsonr\n",
    "import ipywidgets as widgets\n",
    "from IPython.display import display\n",
    "\n",
    "corr_noise = np.random.normal(0, 1, 100)\n",
    "corr_x = np.random.normal(0, 1, 100)\n",
    "\n",
    "def update_plot(correlation):\n",
    "    # Generate correlated data\n",
    "    y = correlation * corr_x + np.sqrt(1 - correlation**2) * corr_noise\n",
    "\n",
    "    # Compute regression line\n",
    "    slope, intercept, rho, pvalue, stderr = linregress(corr_x, y)\n",
    "    line_x = np.linspace(min(corr_x), max(corr_x), 100)\n",
    "    line_y = slope * line_x + intercept\n",
    "\n",
    "    # Create plot\n",
    "    plt.figure(figsize=(10,8))\n",
    "    plt.plot(corr_x, y,'o',markersize=10,label=\"Data\")\n",
    "    plt.plot(line_x, line_y, 'r', alpha=1,lw=5,label=\"Line of Best Fit\")\n",
    "    plt.xlabel('X',fontsize=15)\n",
    "    plt.ylabel('Y',fontsize=15)\n",
    "    plt.xticks(fontsize=15)\n",
    "    plt.yticks(fontsize=15)\n",
    "    plt.legend(fontsize=13)\n",
    "    plt.tight_layout()\n",
    "    plt.title(f'Pearson Correlation: {rho:.2f}',fontsize=15)\n",
    "#     plt.grid(True, alpha=0.3)\n",
    "    plt.show()\n",
    "\n",
    "correlation_slider = widgets.FloatSlider(\n",
    "    value=0.5,\n",
    "    min=-1.0,\n",
    "    max=1.0,\n",
    "    step=0.01,\n",
    "    description='Relationship:',\n",
    "    continuous_update=False\n",
    ")\n",
    "\n",
    "widgets.interactive(update_plot, correlation=correlation_slider)"
   ]
  },
  {
   "cell_type": "markdown",
   "metadata": {
    "slideshow": {
     "slide_type": "subslide"
    }
   },
   "source": [
    "$\\rho_{XY}\\gap$ is measuring the <i>linear</i> relationship between variables $X$ and $Y$, and we can see this from $\\gap cov(X,Y)$\n",
    "\n",
    "Imagine $\\gap Y=m\\cdot X+b\\gap$ for some constants $\\gap m,b\\gap$\n",
    "\n",
    "$\n",
    "\\gmath\n",
    "\\color{blue}{Var(Y) = Var(mX+b) = m^2\\cdot Var(X)}\n",
    "$\n",
    "\n",
    "$\n",
    "\\gmath\n",
    "\\begin{align}\n",
    "\\color{orange}{cov(X,Y)} \n",
    "&= E[XY]-E[X]E[Y]\n",
    "= E[mX^2+bX]-E[X]E[mX+b]\n",
    "\\\\\\\\\n",
    "&= m\\cdot E[X^2]+b\\cdot E[X]-E[X]\\left(m\\cdot E[X]+b\\right)\n",
    "\\\\\\\\\n",
    "&= m\\cdot E[X^2]\\color{red}{+b\\cdot E[X]}-m\\cdot E[X]^2\\color{red}{-b\\cdot E[X]}\n",
    "\\\\\\\\\n",
    "&= m\\left(E[X^2]-E[X]^2\\right)\n",
    "=\\color{orange}{m\\cdot Var(X)}\n",
    "\\end{align}\n",
    "$\n",
    "\n",
    "Thus\n",
    "$\n",
    "\\gmath\n",
    "\\rho_{XY} \n",
    "= \\frac{\\color{orange}{cov(X,Y)}}{\\sigma_X\\color{blue}{\\sigma_Y}} \n",
    "= \\frac{\\color{orange}{cov(X,Y)}}{\\sqrt{Var(X)}\\color{blue}{\\sqrt{Var(Y)}}} \n",
    "= \\frac{\\color{orange}{m\\cdot Var(X)}}{\\sqrt{Var(X)}\\cdot\\color{blue}{m\\cdot\\sqrt{Var(X)}}} = 1\n",
    "$"
   ]
  },
  {
   "cell_type": "markdown",
   "metadata": {
    "slideshow": {
     "slide_type": "subslide"
    }
   },
   "source": [
    "## Caution when interpreting correlation\n",
    "$\\rho_{XY}\\gap$ measures the strength of a linear relationship between variables $X$ and $Y$, but there are lots of relationships between $X,Y$ that are not linear but appear linear using correlations.\n",
    "\n",
    "These example scatter plots each have the same correlation $\\gap\\rho_{XY}=0.816$\n",
    "\n",
    "<img src=\"./Anscombe's_quartet_3.svg.png\" width=70% />"
   ]
  },
  {
   "cell_type": "markdown",
   "metadata": {
    "slideshow": {
     "slide_type": "subslide"
    }
   },
   "source": [
    "Often data is merely a sample taken from some underlying population. And so, we might wonder if our measured $\\rho_{XY}$ based on data is statistically significant enough to suggest that the relationship applies to $X_{\\text{population}}$ and $Y_{\\text{population}}$\n",
    "\n",
    "We can check this using hypothesis testing:\n",
    "- **Null Hypothesis ($H_0$)**: The population $\\gap\\rho_{XY}=0$\n",
    "- **Alternative Hypothesis ($H_1$)**: The population $\\gap\\rho_{XY}\\neq0$\n",
    "\n",
    "We compare $\\rho_{XY}$ from the sample to a Student's t-distribution with $n-2$ degrees of freedom.\n",
    "\n",
    "(Skipping the derivation) The standard error for sample $\\rho_{XY}$ is $\\gmath\\sigma_{\\rho_{XY}}=\\sqrt{\\frac{1-\\rho_{XY}^2}{n-2}}$\n",
    "\n",
    "and our statistic is $\\gmath t= \\frac{\\rho_{XY}}{\\sigma_{\\rho_{XY}}} = \\rho_{XY}\\sqrt{\\frac{n-2}{1-\\rho_{XY}^2}}\\gap$ which we compare to the t-distribution to identify a probability, called a **p-value**, for this outcome or something more extreme."
   ]
  },
  {
   "cell_type": "code",
   "execution_count": 112,
   "metadata": {
    "slideshow": {
     "slide_type": "subslide"
    }
   },
   "outputs": [
    {
     "name": "stdout",
     "output_type": "stream",
     "text": [
      "Pearson rho=-0.37 with pvalue=0.000\n"
     ]
    }
   ],
   "source": [
    "# programmatically calculate Pearson correlation\n",
    "import scipy\n",
    "# create synthetic data with a prescribed correlation\n",
    "correlation = -.4\n",
    "x = np.random.randn(100)\n",
    "y = correlation * x + np.sqrt(1 - correlation**2) * np.random.normal(0, 1, 100)\n",
    "# measure Pearson correlation\n",
    "rho,pvalue = scipy.stats.pearsonr(x,y)\n",
    "print(\"Pearson rho=%0.2f with pvalue=%0.3f\" % (rho,pvalue))"
   ]
  },
  {
   "cell_type": "markdown",
   "metadata": {
    "slideshow": {
     "slide_type": "slide"
    }
   },
   "source": [
    "# Correlation Vs. Causation\n",
    "\n",
    "Ice cream sales and drowning incidents both increase in summer months; they are correlated.\n",
    "\n",
    "Does this mean that ice cream sales **cause** drowning incidence?\n",
    "\n",
    "Why might these be correlated?"
   ]
  },
  {
   "cell_type": "markdown",
   "metadata": {
    "slideshow": {
     "slide_type": "fragment"
    }
   },
   "source": [
    "In this case, a third variable, namely the <i>temperature</i>, may actually cause both sales and drownings to increase and decrease in tandem.\n",
    "\n",
    "As temperature increases, more people buy ice cream and more people want to go swimming, which creates more opportunities for drowning.\n",
    "\n",
    "A third variable that explains the correlation between two other variables is sometimes called a **confounder**"
   ]
  },
  {
   "cell_type": "markdown",
   "metadata": {
    "slideshow": {
     "slide_type": "subslide"
    }
   },
   "source": [
    "In general, correlation between variables $X$ and $Y$ does not mean that $X$ causes $Y$.\n",
    "\n",
    "Many of these correlations are **spurious**, meaning that they occured by chance.\n",
    "\n",
    "That is, spurious correlations do not mean $X$ causes $Y$ and may occur even without a third variable causing both.\n",
    "\n",
    "There are many examples: https://tylervigen.com/spurious-correlations"
   ]
  },
  {
   "cell_type": "markdown",
   "metadata": {
    "slideshow": {
     "slide_type": "subslide"
    }
   },
   "source": [
    "## What is Causation?\n",
    "\n",
    "Causation implies that one event is the result of the occurrence of another event. This is a cause-and-effect relationship.\n",
    "\n",
    "A cause must precede the outcome and, often, changes in the cause are correlated with changes in the outcome (i.e., they co-vary).\n",
    "\n",
    "Co-variation between cause and outcome may not be perfect.\n",
    "\n",
    "**Examples** where $X$ causes $Y$:\n",
    "- Pushing a ball causes it to roll.\n",
    "    - $X$ is the force applied to the ball, $Y$ is the ball's distance traveled\n",
    "    - $\\rho_{XY}$ should be very high\n",
    "- Studying leads to better exam scores.\n",
    "    - $X$ is the time spent studying, $Y$ is the exam score.\n",
    "    - $\\rho_{XY}$ should be positive but may not be perfect. For example, there may be diminishing returns to more hours studying.\n"
   ]
  },
  {
   "cell_type": "code",
   "execution_count": 116,
   "metadata": {
    "slideshow": {
     "slide_type": "subslide"
    }
   },
   "outputs": [],
   "source": [
    "# number of data points\n",
    "n = 100\n",
    "# define causal variable\n",
    "X = np.random.random(n)\n",
    "e = .5 # parameter for tuning strength of random noise\n",
    "Y = .3*X+2 + e*np.random.random(n)"
   ]
  },
  {
   "cell_type": "code",
   "execution_count": 115,
   "metadata": {
    "hideCode": true,
    "hidePrompt": true,
    "slideshow": {
     "slide_type": "fragment"
    }
   },
   "outputs": [
    {
     "data": {
      "application/vnd.jupyter.widget-view+json": {
       "model_id": "8499ad09c0bd4d80a3f1efd303884239",
       "version_major": 2,
       "version_minor": 0
      },
      "text/plain": [
       "interactive(children=(FloatSlider(value=0.0, description='e', max=1.0, step=0.05), Output()), _dom_classes=('w…"
      ]
     },
     "metadata": {},
     "output_type": "display_data"
    }
   ],
   "source": [
    "# hide\n",
    "def causationDemo(e):\n",
    "    # e is the scale of the noise\n",
    "    # define outcome variable + random noise\n",
    "    Y = .3*X+2 + e*np.random.random(n)\n",
    "    plt.figure(figsize=(8,6))\n",
    "    plt.plot(X,Y,'o',markersize=10)\n",
    "    plt.ylim((1.5,3))\n",
    "    plt.xticks(fontsize=15)\n",
    "    plt.yticks(fontsize=15)\n",
    "    plt.xlabel(\"X\",fontsize=15)\n",
    "    plt.ylabel(\"Y\",fontsize=15)\n",
    "    R,p = scipy.stats.pearsonr(X,Y)\n",
    "    plt.title(\"Pearson $\\\\rho=%0.2f$\" % R,fontsize=15)\n",
    "    plt.tight_layout()\n",
    "    \n",
    "widgets.interact(causationDemo,e=(0,1,.05));"
   ]
  },
  {
   "cell_type": "code",
   "execution_count": 63,
   "metadata": {
    "slideshow": {
     "slide_type": "subslide"
    }
   },
   "outputs": [],
   "source": [
    "# number of data points\n",
    "n = 100\n",
    "# define causal variable\n",
    "Z = np.random.random(n)\n",
    "e = .5 # parameter for tuning strength of random noise\n",
    "Y = .3*Z+2 + e*np.random.random(n)\n",
    "X = -.2*Z-1 + e*np.random.random(n)"
   ]
  },
  {
   "cell_type": "code",
   "execution_count": 64,
   "metadata": {
    "hideCode": true,
    "hidePrompt": true,
    "slideshow": {
     "slide_type": "fragment"
    }
   },
   "outputs": [
    {
     "data": {
      "application/vnd.jupyter.widget-view+json": {
       "model_id": "782c7bc5225d4e4d85d430ae53f641a4",
       "version_major": 2,
       "version_minor": 0
      },
      "text/plain": [
       "interactive(children=(FloatSlider(value=0.0, description='e', max=1.0, step=0.05), Output()), _dom_classes=('w…"
      ]
     },
     "metadata": {},
     "output_type": "display_data"
    }
   ],
   "source": [
    "# hide\n",
    "def causationDemoWithCounfounder(e):\n",
    "    # e is the scale of the noise\n",
    "    # define outcome variable + random noise\n",
    "    Y = .3*Z+2 + e*np.random.random(n)\n",
    "    X = -.2*Z-1 + e*np.random.random(n)\n",
    "    # X & Y will be correlated, but X does not cause Y\n",
    "    plt.figure(figsize=(8,6))\n",
    "    plt.plot(X,Y,'o',markersize=10)\n",
    "    plt.ylim((1.8,3.5))\n",
    "    plt.xticks(fontsize=15)\n",
    "    plt.yticks(fontsize=15)\n",
    "    plt.xlabel(\"X\",fontsize=15)\n",
    "    plt.ylabel(\"Y\",fontsize=15)\n",
    "    R,p = scipy.stats.pearsonr(X,Y)\n",
    "    plt.title(\"Pearson $\\\\rho=%0.2f$\" % R,fontsize=15)\n",
    "    plt.tight_layout()\n",
    "    \n",
    "widgets.interact(causationDemoWithCounfounder,e=(0,1,.05));"
   ]
  },
  {
   "cell_type": "markdown",
   "metadata": {
    "slideshow": {
     "slide_type": "slide"
    }
   },
   "source": [
    "# Refresher on OLS Regression\n",
    "\n",
    "Let $\\vec{y}$ be an outcome we want to predict using a linear combination of the variables encoded into the columns of matrix $M$\n",
    "\n",
    "Instead of $\\hspace{1cm}M\\vec{\\beta}\\approx\\color{blue}{\\vec{y}}$\n",
    "\n",
    "we multiply both sides of the equation by $M^T$ and solve the following for $\\color{red}{\\vec{\\beta}}$\n",
    "\n",
    "$\n",
    "\\left(M^TM\\right)\\vec{\\beta} \\approx M^T\\color{blue}{\\vec{y}}\n",
    "\\hspace{1cm}\\Rightarrow\\hspace{1cm}\n",
    "\\color{red}{\\hat{\\beta}} \\approx \\left(M^TM\\right)^{-1}\\cdot M^T\\vec{y}\n",
    "$\n",
    "\n",
    "The solution we get will be an **estimate** $\\color{red}{\\hat{\\beta}}$ for the true vector $\\vec{\\beta}$. The components $\\color{red}{\\hat{\\beta}_i}$ of $\\color{red}{\\hat{\\beta}}$ are called **coefficients**."
   ]
  },
  {
   "cell_type": "markdown",
   "metadata": {
    "slideshow": {
     "slide_type": "subslide"
    }
   },
   "source": [
    "During the module on OLS Regression, we looked at predicting housing prices based on the characteristics of the property for sale. We saw that predictive performance improved with more variables in the model (i.e., more columns of $M$), but the coefficients associated with each variable changed dramatically."
   ]
  },
  {
   "cell_type": "code",
   "execution_count": 118,
   "metadata": {
    "slideshow": {
     "slide_type": "fragment"
    }
   },
   "outputs": [
    {
     "data": {
      "text/plain": [
       "LotArea             1.190920\n",
       "PoolArea           59.027950\n",
       "GarageArea        236.762178\n",
       "BedroomAbvGr    18931.625535\n",
       "dtype: float64"
      ]
     },
     "execution_count": 118,
     "metadata": {},
     "output_type": "execute_result"
    }
   ],
   "source": [
    "# read in housing price data as a dataframe\n",
    "data = pd.read_csv(\"./kaggleHousingPrices/train.csv\")\n",
    "# get matrix M and sale price vector y\n",
    "y = data[\"SalePrice\"]\n",
    "M = data[[\"LotArea\",\"GarageArea\",\"PoolArea\",\"BedroomAbvGr\"]]\n",
    "# use M transpose approach\n",
    "beta_hat = np.linalg.solve(M.T@M,M.T@y)\n",
    "pd.Series(data = beta_hat,index = M.columns,).sort_values()"
   ]
  },
  {
   "cell_type": "code",
   "execution_count": 7,
   "metadata": {
    "slideshow": {
     "slide_type": "fragment"
    }
   },
   "outputs": [
    {
     "data": {
      "text/plain": [
       "BedroomAbvGr   -17117.597699\n",
       "OverallCond     -5463.293108\n",
       "PoolArea          -18.799606\n",
       "LotArea             0.681247\n",
       "GarageArea         59.607438\n",
       "GrLivArea          64.353832\n",
       "OverallQual     21165.914665\n",
       "dtype: float64"
      ]
     },
     "execution_count": 7,
     "metadata": {},
     "output_type": "execute_result"
    }
   ],
   "source": [
    "M = data[[\"LotArea\",\"GarageArea\",\"PoolArea\",\"GrLivArea\",\"BedroomAbvGr\",\"OverallCond\",\"OverallQual\",]]\n",
    "pd.Series(data = np.linalg.solve(M.T@M,M.T@y),index = M.columns,).sort_values()"
   ]
  },
  {
   "cell_type": "markdown",
   "metadata": {
    "slideshow": {
     "slide_type": "subslide"
    }
   },
   "source": [
    "PoolArea was positively associated with sales price in the first model, but negatively associated with sales price in the second model.\n",
    "\n",
    "So, does having a larger pool cause a property to sell at a higher price? This is a <i>causal</i> question.\n",
    "\n",
    "Intuitively, I think it should increase the price. But what why then do we have variable regression results?"
   ]
  },
  {
   "cell_type": "markdown",
   "metadata": {
    "slideshow": {
     "slide_type": "slide"
    }
   },
   "source": [
    "# Measuring Regression Coefficients\n",
    "\n",
    "Let $\\vec{y}$ be an outcome we want to predict using a linear combination of the variables encoded into the columns of matrix $M$\n",
    "\n",
    "We then use OLS regression to estimate $\\hat{\\beta}$ which captures the regression **coefficients**.\n",
    "\n",
    "Each component $\\hat{\\beta}_i$ in the vector $\\hat{\\beta}$ is the regression coefficient associated with the $i$th variable (i.e., the $i$th column of $M$).\n",
    "\n",
    "In the housing sales price example, we saw that one of the coefficients $\\hat{\\beta}_i$ changed dramatically when we included an additional column of $M$ (i.e., an additional variable) in the OLS regression."
   ]
  },
  {
   "cell_type": "markdown",
   "metadata": {
    "slideshow": {
     "slide_type": "subslide"
    }
   },
   "source": [
    "We can understand regression coefficients for a simple linear model with one variable: $\\gmath \\vec{y}\\sim\\beta_0+\\beta_1\\vec{x}$\n",
    "\n",
    "After fitting $\\beta_0,\\beta_1$ with OLS regression, we use the model to predict $\\hat{y}$ and we know that $\\color{red}{\\beta_0=\\langle\\vec{y}\\rangle-\\beta_1\\langle\\vec{x}\\rangle}$\n",
    "\n",
    "From this, we see that if we fit the model using only the $\\beta_0$ (i.e., setting $\\beta_1=0$), then $\\beta_0=\\langle\\vec{y}\\rangle$"
   ]
  },
  {
   "cell_type": "markdown",
   "metadata": {
    "slideshow": {
     "slide_type": "subslide"
    }
   },
   "source": [
    "What about $\\beta_1$? We know that $\\beta_1$ minimizes the residuals squared. That is, it minimizes\n",
    "$\n",
    "\\gmath\n",
    "\\sum_{i=1}^{n} (y_i - \\hat{y}_i)^2 = \\sum_{i=1}^{n} (y_i - \\beta_0 - \\beta_1 x_i)^2\n",
    "\\gap\n",
    "$\n",
    "\n",
    "\n",
    "So, to pick $\\beta_1$, we take the partial derivative of the residual calculation with respect to $\\beta_1$ and set that equal to 0:\n",
    "\n",
    "$\n",
    "\\gmath\n",
    "\\begin{align}\n",
    "0 \n",
    "&=\\frac{d}{d \\beta_1} \\left[ \\sum_{i=1}^{n} (y_i - \\beta_0 - \\beta_1 x_i)^2 \\right] \n",
    "= -2 \\sum_{i=1}^{n} x_i \\cdot (y_i - \\beta_0 - \\beta_1x_i)\n",
    "\\gap\\gap\\text{using the Chain Rule}\n",
    "\\\\\\\\\n",
    "&= \\sum_{i=1}^{n} x_i y_i - \\color{red}{\\beta_0} \\sum_{i=1}^{n} x_i - \\beta_1 \\sum_{i=1}^{n} x_i^2\n",
    "= \\sum_{i=1}^{n} x_i y_i - \\left(\\color{red}{\\langle\\vec{y}\\rangle-\\beta_1\\langle\\vec{x}\\rangle}\\right) \\sum_{i=1}^{n} x_i - \\beta_1 \\sum_{i=1}^{n} x_i^2\n",
    "\\hspace{.5cm}\\text{using the previous slide}\n",
    "\\\\\\\\\n",
    "&\\Rightarrow\\gap\n",
    "\\beta_1 \\left( \\sum_{i=1}^{n} x_i^2 - \\sum_{i=1}^{n} \\langle\\vec{x}\\rangle x_i \\right) = \\sum_{i=1}^{n} x_i y_i - n \\langle \\vec{x}\\rangle \\langle\\vec{y}\\rangle\n",
    "\\\\\\\\\n",
    "&\\gap\\Rightarrow\\gap\n",
    "\\beta_1 = \\frac{\\color{blue}{\\frac{1}{n}}\\left(\\sum_{i=1}^{n} x_i y_i - n \\langle\\vec{x}\\rangle \\langle\\vec{y}\\rangle\\right)}{\\color{blue}{\\frac{1}{n}}\\left(\\sum_{i=1}^{n} x_i^2 - n \\langle\\vec{x}\\rangle^2\\right)}\n",
    "=\\frac{E[\\vec{x}\\vec{y}]-E[\\vec{x}]E[\\vec{y}]}{E[\\vec{x}^2]-E[\\vec{x}]^2}\n",
    "=\\frac{\\text{Cov}(\\vec{x}, \\vec{y})}{\\text{Var}(\\vec{x})}\n",
    "\\end{align}\n",
    "$"
   ]
  },
  {
   "cell_type": "markdown",
   "metadata": {
    "slideshow": {
     "slide_type": "fragment"
    }
   },
   "source": [
    "For a more complicated linear model with more than one variable, the math is much more involved. But the coefficients $\\beta_i$ are the covariance of $\\vec{x}_i$ and $\\vec{y}$ while holding each other variable constant."
   ]
  },
  {
   "cell_type": "markdown",
   "metadata": {
    "slideshow": {
     "slide_type": "subslide"
    }
   },
   "source": [
    "We have coefficient estimates $\\hat{\\beta}$ that we hope approximate the true underlying relationship between variables (i.e., $\\vec{\\beta}$), but are they <i>statistically significant</i>? \n",
    "\n",
    "Usually, we cannot test if the $\\hat{\\beta}\\approx\\vec{\\beta}$ because, if we knew $\\vec{\\beta}$, then why approximate it with $\\hat{\\beta}$?\n",
    "\n",
    "We test a simpler question: Which coefficients are nonzero? \n",
    "\n",
    "Coefficients that are nonzero have a nontrivial correlation with the dependent variable (i.e., the variable being predicted). \n",
    "\n",
    "For each $\\hat{\\beta}_i$, we have the following hypotheses:\n",
    "- **Null Hypothesis ($H_0$):** The estimated coefficient $\\hat{\\beta}_i$ is not significantly different from zero (i.e., $|\\hat{\\beta}_i|\\approx0$), implying no effect.\n",
    "- **Alternative Hypothesis ($H_1$):** The estimated coefficient $\\hat{\\beta_i}$ is significantly different from zero (i.e., $|\\hat{\\beta}_i|>0$), implying an effect."
   ]
  },
  {
   "cell_type": "markdown",
   "metadata": {
    "slideshow": {
     "slide_type": "subslide"
    }
   },
   "source": [
    "We need a test statistic for these hypotheses, but what is the right choice? How much uncertainty is there around our estimated $\\hat{\\beta}_i$? \n",
    "\n",
    "Remember that $\\hat{\\beta}$ is the solution that produces a predicted line $M\\hat{\\beta}=\\hat{y}$ of best fit in the sense that it minimizes residuals (i.e., $\\hat{y}_j-\\vec{y}_j$ for each observation $j$).\n",
    "\n",
    "The **standard error of a coefficient estimate** provides a measure of variability in the estimate due to sampling variability:\n",
    "\n",
    "1. **Estimate Residuals**: First find the residuals ($\\hat{\\varepsilon}$) of the model:\n",
    "   $\n",
    "   \\hat{\\varepsilon} = \\vec{y} - M\\hat{\\beta} = \\vec{y}-\\hat{y}\n",
    "   $\n",
    "\n",
    "2. **Estimate Residual Variance**: Calculate the variance of the residuals, often referred to as the mean squared error (MSE):\n",
    "   $\n",
    "   \\text{MSE} = \\frac{\\hat{\\varepsilon}' \\cdot\\hat{\\varepsilon}}{n - k - 1}\n",
    "   $\n",
    "\n",
    "   where $n$ is the number of observations (i.e., rows in $M$) and $k$ is the number of variables (i.e., columns in $M$)\n",
    "\n",
    "3. **Calculate Variance-Covariance Matrix**: The variance-covariance matrix of the coefficient estimates is:\n",
    "   $\n",
    "   \\text{Var}(\\hat{\\boldsymbol{\\beta}}) = \\text{MSE} \\cdot (M^T\\cdot M)^{-1}\n",
    "   $\n",
    "\n",
    "4. **Standard Error of Coefficient**: The standard error for each coefficient $\\hat{\\beta}_i$ is the square root of the diagonal elements of the variance-covariance matrix:\n",
    "   $\n",
    "   SE(\\hat{\\beta}_i) = \\sqrt{\\text{Var}(\\hat{\\beta}_i)}\n",
    "   $"
   ]
  },
  {
   "cell_type": "code",
   "execution_count": 119,
   "metadata": {
    "slideshow": {
     "slide_type": "subslide"
    }
   },
   "outputs": [
    {
     "data": {
      "text/plain": [
       "LotArea             1.190920\n",
       "PoolArea           59.027950\n",
       "GarageArea        236.762178\n",
       "BedroomAbvGr    18931.625535\n",
       "dtype: float64"
      ]
     },
     "execution_count": 119,
     "metadata": {},
     "output_type": "execute_result"
    }
   ],
   "source": [
    "# read in housing price data as a dataframe\n",
    "data = pd.read_csv(\"./kaggleHousingPrices/train.csv\")\n",
    "# get matrix M and sale price vector y\n",
    "y = data[\"SalePrice\"]\n",
    "M = data[[\"LotArea\",\"GarageArea\",\"PoolArea\",\"BedroomAbvGr\"]]\n",
    "# use M transpose approach\n",
    "beta_hat = np.linalg.solve(M.T@M,M.T@y)\n",
    "pd.Series(data = beta_hat,index = M.columns,).sort_values()"
   ]
  },
  {
   "cell_type": "code",
   "execution_count": 120,
   "metadata": {
    "slideshow": {
     "slide_type": "subslide"
    }
   },
   "outputs": [
    {
     "name": "stdout",
     "output_type": "stream",
     "text": [
      "[[ 2.65840027e-02 -2.54902510e-01 -3.61374353e-01 -5.34937238e+01]\n",
      " [-2.54902510e-01  4.54703762e+01 -3.35838524e+00 -6.10229936e+03]\n",
      " [-3.61374353e-01 -3.35838524e+00  1.58121937e+03 -3.70518682e+01]\n",
      " [-5.34937238e+01 -6.10229936e+03 -3.70518682e+01  1.41217708e+06]]\n",
      "Just main diagonal:\n",
      "[2.65840027e-02 4.54703762e+01 1.58121937e+03 1.41217708e+06]\n"
     ]
    }
   ],
   "source": [
    "# Calculate residuals\n",
    "y_hat = M@beta_hat\n",
    "e_hat = y-y_hat\n",
    "# calculate MSE of estimate residuals\n",
    "MSE = (e_hat.T @ e_hat) / (M.shape[0]-M.shape[1]-1)\n",
    "# estimate variance-covariance matrix\n",
    "# main diagonal is variance associated with each coefficient estimate\n",
    "# off-diagonals are covariance estimates between pairs of coefficient estimates\n",
    "var_beta = MSE * np.linalg.inv(M.T@M)\n",
    "print(var_beta)\n",
    "print(\"Just main diagonal:\")\n",
    "print(np.diag(var_beta))"
   ]
  },
  {
   "cell_type": "code",
   "execution_count": 10,
   "metadata": {
    "slideshow": {
     "slide_type": "fragment"
    }
   },
   "outputs": [
    {
     "data": {
      "text/plain": [
       "array([1.63046014e-01, 6.74317256e+00, 3.97645491e+01, 1.18835057e+03])"
      ]
     },
     "execution_count": 10,
     "metadata": {},
     "output_type": "execute_result"
    }
   ],
   "source": [
    "# calculate standard error of coefficient estimates\n",
    "se_beta_hat = np.sqrt(np.diag(var_beta))\n",
    "se_beta_hat"
   ]
  },
  {
   "cell_type": "markdown",
   "metadata": {
    "slideshow": {
     "slide_type": "subslide"
    }
   },
   "source": [
    "We statistically test our hypotheses using the **t-Statistic for Individual Coefficients:**\n",
    "$\\gmath t_i = \\frac{\\hat{\\beta}_i}{SE(\\hat{\\beta}_i)} $\n",
    "\n",
    "**Decision Rule**\n",
    "  - Compare the calculated $ t $-statistic to the critical value from the t-distribution with $ n - k - 1 $ degrees of freedom.\n",
    "  - Alternatively, use the p-value: if $ \\text{p-value} < \\alpha $ (often $ \\alpha = 0.05 $), reject $H_0 $"
   ]
  },
  {
   "cell_type": "code",
   "execution_count": 11,
   "metadata": {
    "slideshow": {
     "slide_type": "fragment"
    }
   },
   "outputs": [
    {
     "data": {
      "text/plain": [
       "array([ 7.30419542, 35.11139236,  1.48443655, 15.93101059])"
      ]
     },
     "execution_count": 11,
     "metadata": {},
     "output_type": "execute_result"
    }
   ],
   "source": [
    "t_beta_hat = beta_hat / se_beta_hat\n",
    "t_beta_hat"
   ]
  },
  {
   "cell_type": "code",
   "execution_count": 12,
   "metadata": {
    "slideshow": {
     "slide_type": "fragment"
    }
   },
   "outputs": [
    {
     "data": {
      "text/plain": [
       "array([4.57633931e-13, 0.00000000e+00, 1.37909742e-01, 0.00000000e+00])"
      ]
     },
     "execution_count": 12,
     "metadata": {},
     "output_type": "execute_result"
    }
   ],
   "source": [
    "from scipy.stats import t\n",
    "degreesOfFreedom = M.shape[0]-M.shape[1]-1\n",
    "p_values = 2 * (1 - t.cdf(abs(t_beta_hat), df=degreesOfFreedom))\n",
    "p_values"
   ]
  },
  {
   "cell_type": "markdown",
   "metadata": {
    "slideshow": {
     "slide_type": "subslide"
    }
   },
   "source": [
    "Another way to understand our confidence in our coefficient estimates is to report the **Confidence Intervals for Coefficients:** $\\gmath\\hat{\\beta}_i \\color{red}{\\pm} \\color{blue}{t^*} \\cdot SE(\\hat{\\beta}_i) $\n",
    "\n",
    "This approach provides the interval $\\gap[\\hat{\\beta}_i \\color{red}{-} \\color{blue}{t^*} \\cdot SE(\\hat{\\beta}_i),\\hat{\\beta}_i \\color{red}{+} \\color{blue}{t^*} \\cdot SE(\\hat{\\beta}_i)]\\gap$ within which we think the true population parameter $\\beta_i$ likely falls.\n",
    "\n",
    "$\\color{blue}{t^*}$ is the t-statistic associated with $\\alpha=0.05$, so we are 95% confident that the true population coefficient lies within the interval."
   ]
  },
  {
   "cell_type": "code",
   "execution_count": 13,
   "metadata": {
    "slideshow": {
     "slide_type": "subslide"
    }
   },
   "outputs": [
    {
     "name": "stdout",
     "output_type": "stream",
     "text": [
      "[[ 9.22562259e-01  1.45927764e+00]\n",
      " [ 2.25663579e+02  2.47860776e+02]\n",
      " [-6.42058339e+00  1.24476484e+02]\n",
      " [ 1.69757175e+04  2.08875336e+04]]\n"
     ]
    }
   ],
   "source": [
    "t_star = t.ppf(0.95, degreesOfFreedom)\n",
    "CI = np.stack((\n",
    "    beta_hat - t_star*se_beta_hat,\n",
    "    beta_hat + t_star*se_beta_hat,\n",
    ")).T\n",
    "print(CI)"
   ]
  },
  {
   "cell_type": "code",
   "execution_count": 14,
   "metadata": {
    "hideCode": false,
    "hidePrompt": false,
    "slideshow": {
     "slide_type": "fragment"
    }
   },
   "outputs": [
    {
     "data": {
      "image/png": "[encoded data removed]",
      "text/plain": [
       "<Figure size 576x288 with 1 Axes>"
      ]
     },
     "metadata": {
      "needs_background": "light"
     },
     "output_type": "display_data"
    }
   ],
   "source": [
    "# hide\n",
    "plt.figure(figsize=(8,4))\n",
    "x = np.arange(M.shape[1])\n",
    "plt.errorbar(x[:-1],beta_hat[:-1],yerr = t_star*se_beta_hat[:-1],fmt='o',markersize=10,label=\"95% CI\")\n",
    "xx = plt.xlim()\n",
    "plt.plot(xx,[0,0],'k--')\n",
    "plt.xlim(xx)\n",
    "plt.xticks(x[:-1],M.columns[:-1],fontsize=15)\n",
    "plt.yticks(fontsize=15)\n",
    "plt.xlabel(\"Model Variable\",fontsize=15)\n",
    "plt.ylabel(\"Coefficient Estimate ($\\\\hat{\\\\beta}_i$)\",fontsize=15)\n",
    "plt.legend(fontsize=15)\n",
    "plt.title(\"Note: Omitting 4th Variable because it's large\")\n",
    "plt.tight_layout()"
   ]
  },
  {
   "cell_type": "code",
   "execution_count": 15,
   "metadata": {
    "slideshow": {
     "slide_type": "subslide"
    }
   },
   "outputs": [
    {
     "data": {
      "text/plain": [
       "(array([1.19091995e+00, 2.36762178e+02, 5.90279501e+01, 1.89316255e+04]),\n",
       " array([1.19091995e+00, 2.36762178e+02, 5.90279501e+01, 1.89316255e+04]))"
      ]
     },
     "execution_count": 15,
     "metadata": {},
     "output_type": "execute_result"
    }
   ],
   "source": [
    "# scikit-learn is a Python library for doing machine learning\n",
    "# It includes an implementation of OLS Regression\n",
    "from sklearn.linear_model import LinearRegression\n",
    "ols = LinearRegression(fit_intercept=False).fit(M,y)\n",
    "ols.coef_,beta_hat"
   ]
  },
  {
   "cell_type": "markdown",
   "metadata": {
    "slideshow": {
     "slide_type": "slide"
    }
   },
   "source": [
    "# Interpreting Regression Coefficients\n",
    "We discussed how to measure our <i>statistical confidence</i> that our coefficient estimates are close to true population coefficients. \n",
    "\n",
    "But what about interpreting these coefficients in a real-world sense?\n",
    "\n",
    "Let's continue working with the home sales data."
   ]
  },
  {
   "cell_type": "code",
   "execution_count": 16,
   "metadata": {
    "slideshow": {
     "slide_type": "subslide"
    }
   },
   "outputs": [
    {
     "data": {
      "text/html": [
       "<div>\n",
       "<style scoped>\n",
       "    .dataframe tbody tr th:only-of-type {\n",
       "        vertical-align: middle;\n",
       "    }\n",
       "\n",
       "    .dataframe tbody tr th {\n",
       "        vertical-align: top;\n",
       "    }\n",
       "\n",
       "    .dataframe thead th {\n",
       "        text-align: right;\n",
       "    }\n",
       "</style>\n",
       "<table border=\"1\" class=\"dataframe\">\n",
       "  <thead>\n",
       "    <tr style=\"text-align: right;\">\n",
       "      <th></th>\n",
       "      <th>LotArea</th>\n",
       "      <th>GarageArea</th>\n",
       "      <th>PoolArea</th>\n",
       "      <th>BedroomAbvGr</th>\n",
       "    </tr>\n",
       "  </thead>\n",
       "  <tbody>\n",
       "    <tr>\n",
       "      <th>0</th>\n",
       "      <td>8450</td>\n",
       "      <td>548</td>\n",
       "      <td>0</td>\n",
       "      <td>3</td>\n",
       "    </tr>\n",
       "    <tr>\n",
       "      <th>1</th>\n",
       "      <td>9600</td>\n",
       "      <td>460</td>\n",
       "      <td>0</td>\n",
       "      <td>3</td>\n",
       "    </tr>\n",
       "    <tr>\n",
       "      <th>2</th>\n",
       "      <td>11250</td>\n",
       "      <td>608</td>\n",
       "      <td>0</td>\n",
       "      <td>3</td>\n",
       "    </tr>\n",
       "  </tbody>\n",
       "</table>\n",
       "</div>"
      ],
      "text/plain": [
       "   LotArea  GarageArea  PoolArea  BedroomAbvGr\n",
       "0     8450         548         0             3\n",
       "1     9600         460         0             3\n",
       "2    11250         608         0             3"
      ]
     },
     "execution_count": 16,
     "metadata": {},
     "output_type": "execute_result"
    }
   ],
   "source": [
    "M.head(3)"
   ]
  },
  {
   "cell_type": "markdown",
   "metadata": {
    "slideshow": {
     "slide_type": "fragment"
    }
   },
   "source": [
    "At first, it's tempting to conclude that the variables with the larger coefficients are more important to the model because we are more confident that these coefficients are non-zero.\n",
    "\n",
    "But our current estimates of regression coefficients have units associated with them.\n",
    "\n",
    "For example, LotArea is measured in feet-squared, while the outcome variable, SalesPrice, is measured in dollars. The BedroomAbvGr variable is some positive integer.\n",
    "\n",
    "Our regression model says $\\gmath \\text{SalesPrice} \\sim \\beta_0\\cdot\\text{LotArea}+\\beta_1\\cdot\\text{GarageArea}+\\beta_2\\cdot\\text{PoolArea}+\\beta_3\\cdot\\text{BedroomAbvGr}$\n",
    "\n",
    "Which means that $\\beta_0$ should have the units \"dollars per square foot\" and $\\beta_3$ should have the units \"dollars per room.\"\n",
    "\n",
    "It's hard to directly compare \"dollars per square foot\" to \"dollars per room.\""
   ]
  },
  {
   "cell_type": "markdown",
   "metadata": {
    "slideshow": {
     "slide_type": "subslide"
    }
   },
   "source": [
    "One option is to **center and standardize each variable** which means to translate each variable into a Z-score so that the resulting variable is unit-less (i.e., it's units are standard deviations from zero).\n",
    "\n",
    "Note that this approach implicitly assumes that each variable is roughly normally distributed, but this need not be the case."
   ]
  },
  {
   "cell_type": "code",
   "execution_count": 17,
   "metadata": {
    "slideshow": {
     "slide_type": "fragment"
    }
   },
   "outputs": [],
   "source": [
    "# center each column of M by translating to a z-score\n",
    "M_centered = (M-np.mean(M,axis=0)) / np.std(M,axis=0)"
   ]
  },
  {
   "cell_type": "code",
   "execution_count": 18,
   "metadata": {
    "hideCode": false,
    "hidePrompt": false,
    "slideshow": {
     "slide_type": "fragment"
    }
   },
   "outputs": [
    {
     "data": {
      "text/html": [
       "<div>\n",
       "<style scoped>\n",
       "    .dataframe tbody tr th:only-of-type {\n",
       "        vertical-align: middle;\n",
       "    }\n",
       "\n",
       "    .dataframe tbody tr th {\n",
       "        vertical-align: top;\n",
       "    }\n",
       "\n",
       "    .dataframe thead th {\n",
       "        text-align: right;\n",
       "    }\n",
       "</style>\n",
       "<table border=\"1\" class=\"dataframe\">\n",
       "  <thead>\n",
       "    <tr style=\"text-align: right;\">\n",
       "      <th></th>\n",
       "      <th>Centered Mean</th>\n",
       "      <th>Original Mean</th>\n",
       "    </tr>\n",
       "  </thead>\n",
       "  <tbody>\n",
       "    <tr>\n",
       "      <th>LotArea</th>\n",
       "      <td>0.0</td>\n",
       "      <td>10516.82808</td>\n",
       "    </tr>\n",
       "    <tr>\n",
       "      <th>GarageArea</th>\n",
       "      <td>0.0</td>\n",
       "      <td>472.98014</td>\n",
       "    </tr>\n",
       "    <tr>\n",
       "      <th>PoolArea</th>\n",
       "      <td>0.0</td>\n",
       "      <td>2.75890</td>\n",
       "    </tr>\n",
       "    <tr>\n",
       "      <th>BedroomAbvGr</th>\n",
       "      <td>0.0</td>\n",
       "      <td>2.86644</td>\n",
       "    </tr>\n",
       "  </tbody>\n",
       "</table>\n",
       "</div>"
      ],
      "text/plain": [
       "              Centered Mean  Original Mean\n",
       "LotArea                 0.0    10516.82808\n",
       "GarageArea              0.0      472.98014\n",
       "PoolArea                0.0        2.75890\n",
       "BedroomAbvGr            0.0        2.86644"
      ]
     },
     "execution_count": 18,
     "metadata": {},
     "output_type": "execute_result"
    }
   ],
   "source": [
    "# hide\n",
    "a = np.mean(M_centered,axis=0)\n",
    "b = np.mean(M,axis=0)\n",
    "a.name = \"Centered Mean\"\n",
    "b.name = \"Original Mean\"\n",
    "# means after centering are roughly zero\n",
    "pd.concat([a,b],axis=1).round(5).abs()"
   ]
  },
  {
   "cell_type": "code",
   "execution_count": 19,
   "metadata": {
    "hideCode": false,
    "hidePrompt": false,
    "slideshow": {
     "slide_type": "fragment"
    }
   },
   "outputs": [
    {
     "data": {
      "image/png": "[encoded data removed]",
      "text/plain": [
       "<Figure size 1008x288 with 2 Axes>"
      ]
     },
     "metadata": {
      "needs_background": "light"
     },
     "output_type": "display_data"
    }
   ],
   "source": [
    "# hide\n",
    "plt.figure(figsize=(14,4))\n",
    "plt.subplot(1,2,1)\n",
    "for i in range(M.shape[1]):\n",
    "    M.iloc[:,i].hist()\n",
    "plt.title(\"Original Variable Distributions\")\n",
    "plt.subplot(1,2,2)\n",
    "for i in range(M.shape[1]):\n",
    "    M_centered.iloc[:,i].hist()\n",
    "plt.title(\"Centered Variable Distributions\");"
   ]
  },
  {
   "cell_type": "code",
   "execution_count": 20,
   "metadata": {
    "slideshow": {
     "slide_type": "subslide"
    }
   },
   "outputs": [
    {
     "data": {
      "text/plain": [
       "array([11243.30106773, 46727.81416465,  2993.55012125,  8752.22725726])"
      ]
     },
     "execution_count": 20,
     "metadata": {},
     "output_type": "execute_result"
    }
   ],
   "source": [
    "from sklearn.linear_model import LinearRegression\n",
    "ols = LinearRegression(fit_intercept=False).fit(M_centered,y)\n",
    "ols.coef_"
   ]
  },
  {
   "cell_type": "markdown",
   "metadata": {
    "slideshow": {
     "slide_type": "subslide"
    }
   },
   "source": [
    "We have different coefficient estimates now (although the sign should be unchanged), and we follow the same process as before to test the statistical significance of our coefficient estimates but we also center the dependent variable SalesPrice.\n",
    "\n",
    "Now the coefficients tell us how a standard deviation change in one variable (e.g., LotArea) relates to a standard deviation change in the outcome variable (i.e., SalesPrice)."
   ]
  },
  {
   "cell_type": "code",
   "execution_count": 121,
   "metadata": {
    "slideshow": {
     "slide_type": "subslide"
    }
   },
   "outputs": [
    {
     "name": "stdout",
     "output_type": "stream",
     "text": [
      "Coef. Est. p-values:\n",
      "[4.57633931e-13 0.00000000e+00 1.37909742e-01 0.00000000e+00]\n",
      "95% Confidence Intervals for each Coef. Est.\n",
      "[[1.15742429e+00 1.75071678e-01]\n",
      " [2.36728880e+02 6.21696162e-01]\n",
      " [5.89950687e+01 7.05762579e-02]\n",
      " [1.89315925e+04 1.43222751e-01]]\n"
     ]
    }
   ],
   "source": [
    "# Calculate residuals\n",
    "y_centered = (y - np.mean(y)) / np.std(y)\n",
    "ols = LinearRegression(fit_intercept=False).fit(M_centered,y_centered)\n",
    "beta_hat_centered = ols.coef_\n",
    "y_hat = M_centered@beta_hat_centered\n",
    "e_hat = y_centered-y_hat\n",
    "# calculate MSE of estimate residuals\n",
    "MSE = (e_hat.T @ e_hat) / (M_centered.shape[0]-M_centered.shape[1]-1)\n",
    "# estimate variance-covariance matrix\n",
    "var_beta = MSE * np.linalg.inv(M_centered.T@M_centered)\n",
    "degreesOfFreedom = M_centered.shape[0]-M_centered.shape[1]-1\n",
    "# calculate standard error of coefficient estimates\n",
    "se_beta_hat_centered = np.sqrt(np.diag(var_beta))\n",
    "t_beta_hat_centered = beta_hat_centered / se_beta_hat_centered\n",
    "p_values = 2 * (1 - t.cdf(abs(t_beta_hat), df=degreesOfFreedom))\n",
    "# exactly the same as before\n",
    "print(\"Coef. Est. p-values:\")\n",
    "print(p_values)\n",
    "t_star = t.ppf(0.95, degreesOfFreedom)\n",
    "CI = np.stack((beta_hat - t_star*se_beta_hat_centered,beta_hat_centered + t_star*se_beta_hat_centered,)).T\n",
    "print(\"95% Confidence Intervals for each Coef. Est.\")\n",
    "print(CI)"
   ]
  },
  {
   "cell_type": "code",
   "execution_count": 122,
   "metadata": {
    "hideCode": false,
    "hidePrompt": false,
    "slideshow": {
     "slide_type": "subslide"
    }
   },
   "outputs": [
    {
     "data": {
      "image/png": "[encoded data removed]",
      "text/plain": [
       "<Figure size 1152x288 with 2 Axes>"
      ]
     },
     "metadata": {
      "needs_background": "light"
     },
     "output_type": "display_data"
    }
   ],
   "source": [
    "# hide\n",
    "plt.figure(figsize=(16,4))\n",
    "plt.subplot(1,2,1)\n",
    "x = np.arange(M.shape[1])\n",
    "plt.errorbar(x,beta_hat,yerr = t_star*se_beta_hat,fmt='o',markersize=10,label=\"95% CI\")\n",
    "xx = plt.xlim()\n",
    "plt.plot(xx,[0,0],'k--')\n",
    "plt.xlim(xx)\n",
    "plt.xticks(x,M.columns,fontsize=15)\n",
    "plt.yticks(fontsize=15)\n",
    "plt.xlabel(\"Model Variable\",fontsize=15)\n",
    "plt.ylabel(\"Coefficient Estimate ($\\\\hat{\\\\beta}_i$)\",fontsize=15)\n",
    "plt.legend(fontsize=15)\n",
    "plt.title(\"Coefficients for Original Variables\",fontsize=15)\n",
    "plt.tight_layout()\n",
    "\n",
    "plt.subplot(1,2,2)\n",
    "x = np.arange(M.shape[1])\n",
    "plt.errorbar(x,beta_hat_centered,yerr = t_star*se_beta_hat_centered,fmt='o',markersize=10,label=\"95% CI\")\n",
    "xx = plt.xlim()\n",
    "plt.plot(xx,[0,0],'k--')\n",
    "plt.xlim(xx)\n",
    "plt.xticks(x,M.columns,fontsize=15)\n",
    "plt.yticks(fontsize=15)\n",
    "plt.xlabel(\"Model Variable\",fontsize=15)\n",
    "plt.ylabel(\"Coefficient Estimate ($\\\\hat{\\\\beta}_i$)\",fontsize=15)\n",
    "plt.legend(fontsize=15)\n",
    "plt.title(\"Coefficients for Z-score Variables\",fontsize=15)\n",
    "plt.tight_layout()"
   ]
  },
  {
   "cell_type": "markdown",
   "metadata": {
    "slideshow": {
     "slide_type": "fragment"
    }
   },
   "source": [
    "Now the coefficients are directly comparable because they have the same units: $\\hat{\\beta}_i$ has units \"standard deviation change in SalesPrice for a standard deviation change in variable $i$.\"\n",
    "\n",
    "One standard deviation change in GarageArea corresponds to the largest change in SalesPrice."
   ]
  },
  {
   "cell_type": "markdown",
   "metadata": {
    "slideshow": {
     "slide_type": "slide"
    }
   },
   "source": [
    "# Is the OLS regression model correct?\n",
    "\n",
    "Our regression model says $\\gmath \\text{SalesPrice} \\sim \\beta_0\\cdot\\text{LotArea}+\\beta_1\\cdot\\text{GarageArea}+\\beta_2\\cdot\\text{PoolArea}+\\beta_3\\cdot\\text{BedroomAbvGr}\\gap$ but there are some potential problems with this forumla.\n",
    "\n",
    "First, this model assumes that a home with no yard, no garage, no pool, and no bedrooms should have a sales price of \\$0, but this need not be true! A building without these features is still worth something."
   ]
  },
  {
   "cell_type": "markdown",
   "metadata": {
    "slideshow": {
     "slide_type": "fragment"
    }
   },
   "source": [
    "We update our model to include an **intercept** ($\\color{red}{I}$) which is just an additional variable that always has the value of 1 (i.e., $\\color{red}{I=\\vec{1}}$).\n",
    "\n",
    "Our regression model becomes $\\gmath \\text{SalesPrice} \\sim \\color{red}{\\beta_0\\cdot I}+ \\beta_1\\cdot\\text{LotArea}+\\beta_2\\cdot\\text{GarageArea}+\\beta_3\\cdot\\text{PoolArea}+\\beta_4\\cdot\\text{BedroomAbvGr}$\n",
    "\n",
    "The coefficient for the intercept term ($\\color{red}{\\beta_0}$) will equal the average of the dependent variable because the average is the single number with the smallest residuals on average."
   ]
  },
  {
   "cell_type": "code",
   "execution_count": 125,
   "metadata": {
    "hideCode": false,
    "hidePrompt": false,
    "slideshow": {
     "slide_type": "subslide"
    }
   },
   "outputs": [
    {
     "data": {
      "application/vnd.jupyter.widget-view+json": {
       "model_id": "69bc81b35ba0490a860e562627838cb5",
       "version_major": 2,
       "version_minor": 0
      },
      "text/plain": [
       "interactive(children=(Checkbox(value=False, description='fit_intercept'), Output()), _dom_classes=('widget-int…"
      ]
     },
     "metadata": {},
     "output_type": "display_data"
    }
   ],
   "source": [
    "# hide\n",
    "x = np.linspace(0,1,20)\n",
    "y = 2+3*x+.5*np.random.normal(0,1,len(x))\n",
    "\n",
    "def compareIntercept(fit_intercept):\n",
    "    ols = LinearRegression(fit_intercept=fit_intercept).fit(x[:,np.newaxis],y)\n",
    "    yhat1 = ols.predict(x[:,np.newaxis])\n",
    "    # ols = LinearRegression(fit_intercept=True).fit(x[:,np.newaxis],y)\n",
    "    # yhat2 = ols.predict(x[:,np.newaxis])\n",
    "    plt.figure(figsize=(8,6))\n",
    "    plt.plot(x,y,'o',color='k',label=\"Ground Truth\",markersize=10)\n",
    "    plt.plot(x,yhat1,'o',color='r',markersize=10,\n",
    "             label=\"Prediction w/ Intercept\" if fit_intercept else \"Prediction w/o Intercept\")\n",
    "    # plt.plot(x,yhat2,'o',color='b',label=\"Prediction w/ Intercept\")\n",
    "    xx = plt.xlim()\n",
    "    plt.plot([0,1],np.mean(y)*np.ones(2),'--',color='k',lw=4,label=\"$\\\\langle y \\\\rangle$\")\n",
    "    plt.plot([0,1],np.mean(yhat1)*np.ones(2),'--',color='r',lw=3,alpha=.7,label=\"$\\\\langle \\\\hat{y}\\\\rangle$\")\n",
    "    # plt.plot([0,1],np.mean(yhat2)*np.ones(2),'--',color='b',lw=3,alpha=.7)\n",
    "    plt.xlim(xx)\n",
    "    plt.ylim((0,6.5))\n",
    "    plt.legend(fontsize=12,loc=\"upper left\")\n",
    "    plt.xticks(fontsize=15)\n",
    "    plt.yticks(fontsize=15)\n",
    "    plt.xlabel(\"$x$\",fontsize=15)\n",
    "    plt.ylabel(\"$y$\",fontsize=15)\n",
    "    plt.tight_layout()\n",
    "    \n",
    "widgets.interact(compareIntercept,fit_intercept=False);"
   ]
  },
  {
   "cell_type": "code",
   "execution_count": 126,
   "metadata": {
    "slideshow": {
     "slide_type": "subslide"
    }
   },
   "outputs": [
    {
     "name": "stdout",
     "output_type": "stream",
     "text": [
      "Regression Coefficients:\n",
      "[1.12682647e+00 2.18628469e+02 7.45340110e+01 1.07323630e+04]\n",
      "Intercept Coefficient (est. sales price if all variables are zero):\n",
      "34694.34335850473\n"
     ]
    }
   ],
   "source": [
    "# read in housing price data as a dataframe\n",
    "data = pd.read_csv(\"./kaggleHousingPrices/train.csv\")\n",
    "# get matrix M and sale price vector y\n",
    "y = data[\"SalePrice\"]\n",
    "M = data[[\"LotArea\",\"GarageArea\",\"PoolArea\",\"BedroomAbvGr\"]]\n",
    "# set fit_intercept=True\n",
    "ols = LinearRegression(fit_intercept=True).fit(M,y)\n",
    "print(\"Regression Coefficients:\")\n",
    "print(ols.coef_)\n",
    "print(\"Intercept Coefficient (est. sales price if all variables are zero):\")\n",
    "print(ols.intercept_)"
   ]
  },
  {
   "cell_type": "markdown",
   "metadata": {
    "slideshow": {
     "slide_type": "subslide"
    }
   },
   "source": [
    "Note that fitting a regression with centered and standardized variables does **not** require an intercept because the intercept will be estimated to be zero."
   ]
  },
  {
   "cell_type": "code",
   "execution_count": 127,
   "metadata": {
    "slideshow": {
     "slide_type": "fragment"
    }
   },
   "outputs": [
    {
     "name": "stdout",
     "output_type": "stream",
     "text": [
      "Regression Coefficy_centered = (y - np.mean(y)) / np.std(y)ients:\n",
      "[0.14157602 0.58839819 0.03769488 0.11020834]\n",
      "Intercept Coefficient (est. sales price if all variables are zero):\n",
      "0.0\n"
     ]
    }
   ],
   "source": [
    "M_centered = (M-np.mean(M,axis=0)) / np.std(M,axis=0)\n",
    "y_centered = (y-np.mean(y)) / np.std(y)\n",
    "ols = LinearRegression(fit_intercept=True).fit(M_centered,y_centered)\n",
    "print(\"Regression Coefficy_centered = (y - np.mean(y)) / np.std(y)ients:\")\n",
    "print(ols.coef_)\n",
    "print(\"Intercept Coefficient (est. sales price if all variables are zero):\")\n",
    "print(np.round(ols.intercept_,10))"
   ]
  },
  {
   "cell_type": "markdown",
   "metadata": {
    "slideshow": {
     "slide_type": "subslide"
    }
   },
   "source": [
    "Our current model is $\\gmath \\text{SalesPrice} \\sim \\beta_0\\cdot I+ \\beta_1\\cdot\\text{LotArea}+\\beta_2\\cdot\\text{GarageArea}+\\beta_3\\cdot\\text{PoolArea}+\\beta_4\\cdot\\text{BedroomAbvGr}\\gap$ which assumes that variables are linearly related to SalesPrice.\n",
    "\n",
    "Another possibility is that certain variables are more valuable when combined then if you consider them separately."
   ]
  },
  {
   "cell_type": "markdown",
   "metadata": {
    "slideshow": {
     "slide_type": "fragment"
    }
   },
   "source": [
    "Here is my favorite example: Imagine modeling my happiness based on the food I eat: \n",
    "\n",
    "$$\\gmath \\text{Happiness}\\sim \\beta_0\\cdot I + \\beta_1\\cdot\\text{pizza} + \\beta_2\\cdot\\text{chocolate}$$\n",
    "\n",
    "I like chocolate and I pizza, so we can expected $\\beta_1,\\beta_2 > 0$.\n",
    "\n",
    "However, I do **not** like pizza **topped with** chocolate. We can capture this by including an **<font color=\"red\">interaction variable</font>** to the model:\n",
    "$$\n",
    "\\gmath \\text{Happiness}\\sim \\beta_0\\cdot I + \\beta_1\\cdot\\text{pizza} + \\beta_2\\cdot\\text{chocolate} + \\color{red}{\\beta_3\\cdot\\text{pizza}\\cdot\\text{chocolate}}\n",
    "$$\n",
    "\n",
    "As before, meals with just pizza or just chocolate are favorable on average, so we expect $\\beta_1,\\beta_2 > 0$.\n",
    "\n",
    "But, pizza topped with chocolate is bad, so we expect $\\color{red}{\\beta_3}<0$"
   ]
  },
  {
   "cell_type": "markdown",
   "metadata": {
    "slideshow": {
     "slide_type": "subslide"
    }
   },
   "source": [
    "Returning to our home sales data, let's <font color=\"red\">test if homes with large garages **and** large lots sell for higher prices</font> using a simplified model:\n",
    "$$\\gmath \\text{SalesPrice} \\sim \\beta_0\\cdot I+ \\beta_1\\cdot\\text{GarageArea} + \\color{red}{\\beta_2\\cdot\\text{GarageArea}\\cdot\\text{LotArea}}$$\n",
    "\n",
    "Standardizing the regression should make the interaction more understandable because GarageArea and LotArea have different scales of values."
   ]
  },
  {
   "cell_type": "code",
   "execution_count": 25,
   "metadata": {
    "hideCode": false,
    "hidePrompt": false,
    "slideshow": {
     "slide_type": "fragment"
    }
   },
   "outputs": [
    {
     "data": {
      "application/vnd.jupyter.widget-view+json": {
       "model_id": "b32e335c7ba940b9aa15dd66879aafd4",
       "version_major": 2,
       "version_minor": 0
      },
      "text/plain": [
       "interactive(children=(Checkbox(value=False, description='standardize'), Output()), _dom_classes=('widget-inter…"
      ]
     },
     "metadata": {},
     "output_type": "display_data"
    }
   ],
   "source": [
    "# hide\n",
    "def getRegressionCoefs(data,y,addIntercept=False,standardize=False):\n",
    "    if standardize:\n",
    "        data = data.copy()\n",
    "        if \"intercept\" in data.columns:\n",
    "            data.drop(columns=\"intercept\")\n",
    "        data = (data - np.mean(data,axis=0)) / np.std(data,axis=0)\n",
    "        data[\"intercept\"] = 1\n",
    "        y = y.copy()\n",
    "        y = (y - np.mean(y)) / np.std(y)\n",
    "    if addIntercept:\n",
    "        data = data.copy()\n",
    "        data[\"intercept\"] = 1\n",
    "    beta = np.linalg.solve(data.T@data,data.T@y)\n",
    "    yhat = data@beta\n",
    "    e_hat = y-yhat\n",
    "    dof = data.shape[0]-data.shape[1]-1\n",
    "    # calculate MSE of estimate residuals\n",
    "    MSE = (e_hat.T @ e_hat) / dof\n",
    "    # estimate variance-covariance matrix\n",
    "    var_beta = MSE * np.linalg.inv(data.T@data)\n",
    "    se_beta = np.sqrt(np.diag(var_beta))\n",
    "    t_beta = beta / se_beta\n",
    "    p_values = 2 * (1 - t.cdf(abs(t_beta), df=dof))\n",
    "    t_star = t.ppf(0.95, dof)\n",
    "    CI = np.stack((beta - t_star*se_beta,beta + t_star*se_beta,)).T\n",
    "    R2 = scipy.stats.pearsonr(y,yhat)[0]**2\n",
    "    return beta,CI,p_values,data,R2\n",
    "\n",
    "def coefPlot(data=None,y=None,beta=None,CI=None,p_values=None,label=None,**kwargs):\n",
    "    if beta is None:\n",
    "        beta,CI,p_values,data,R2 = getRegressionCoefs(data,y,**kwargs)\n",
    "    x = np.arange(len(beta))\n",
    "    yerr = beta-CI[:,0]\n",
    "    plt.errorbar(x,beta,yerr=yerr,fmt='o',markersize=10,label=label,lw=3)\n",
    "    plt.xticks(x,data.columns,fontsize=15,rotation=35,ha=\"right\")\n",
    "    plt.yticks(fontsize=15)\n",
    "    plt.xlabel(\"Model Variable\",fontsize=15)\n",
    "    plt.ylabel(\"Coefficient Estimate ($\\\\hat{\\\\beta}_i$)\",fontsize=15)\n",
    "    plt.tight_layout()\n",
    "    return p_values\n",
    "\n",
    "\n",
    "def interactionCoefPlot(standardize=False):\n",
    "    data = pd.read_csv(\"./kaggleHousingPrices/train.csv\")\n",
    "    y = data[\"SalePrice\"]\n",
    "    M = data[[\"LotArea\",\"GarageArea\",\"PoolArea\",\"BedroomAbvGr\"]].copy()\n",
    "    M[\"lot x garage\"] = M[\"LotArea\"] * M[\"GarageArea\"]\n",
    "    M[\"intercept\"] = 1\n",
    "    plt.figure(figsize=(8,4))\n",
    "    p_values1 = coefPlot(M[[\"GarageArea\",\"LotArea\",\"intercept\"]],y,\n",
    "             addIntercept=False,standardize=standardize,label=\"OLS w/o interaction\")\n",
    "    p_values2 = coefPlot(M[[\"GarageArea\",\"LotArea\",\"intercept\",\"lot x garage\",]],y,\n",
    "             addIntercept=False,standardize=standardize,label=\"OLS w/ interaction\")\n",
    "    xx = plt.xlim()\n",
    "    plt.plot(xx,[0,0],'k--')\n",
    "    plt.xlim(xx)\n",
    "    plt.legend(fontsize=13,loc=\"upper right\")\n",
    "#     p_values1 = np.hstack((p_values1,[np.nan]))\n",
    "#     p = pd.DataFrame(\n",
    "#         data = np.stack((p_values1,p_values2)).T,\n",
    "#         columns=[\"p-values w/o interaction\",\"p-values w/ interaction\"],\n",
    "#         index = [\"GarageArea\",\"intercept\",\"lot x garage\",],\n",
    "#     )\n",
    "#     print(p)\n",
    "    \n",
    "widgets.interact(interactionCoefPlot,standardize=False);"
   ]
  },
  {
   "cell_type": "code",
   "execution_count": 26,
   "metadata": {
    "hideCode": false,
    "hidePrompt": false,
    "slideshow": {
     "slide_type": "subslide"
    }
   },
   "outputs": [
    {
     "data": {
      "application/vnd.jupyter.widget-view+json": {
       "model_id": "554a7fa2cfdf4ad597d30621caf60822",
       "version_major": 2,
       "version_minor": 0
      },
      "text/plain": [
       "interactive(children=(Checkbox(value=False, description='addSlope'), Output()), _dom_classes=('widget-interact…"
      ]
     },
     "metadata": {},
     "output_type": "display_data"
    }
   ],
   "source": [
    "# hide\n",
    "\n",
    "def labelTupleVariable(var):\n",
    "    #print((var,type(var)))\n",
    "    if type(var) in [str,np.str_]:\n",
    "        return var\n",
    "    s = \"(\"+str(var[0])\n",
    "    for a in var[1:]:\n",
    "        s += \",\"+str(a)\n",
    "    s += \")\"\n",
    "    return s\n",
    "\n",
    "def interactionScatterPlot(df,dependent,independent,interaction,q=10,q2=5,cm=plt.cm.Blues,\n",
    "                           addSlope=False,addScatter=False,\n",
    "                    legendLabels = lambda x: \"Quantile %d\" % x,\n",
    "                    addAggregate=False,relativeChange=False,\n",
    "                    independentVariableBins=None,\n",
    "                    independentLabel=\"median\",\n",
    "                    **kwargs):\n",
    "    def se(x): return 1.96*np.std(x)/np.sqrt(len(x))\n",
    "    if addScatter: plt.plot(df[independent],df[dependent],'o',color=.8*np.ones(3),zorder=4,label=\"_data\")\n",
    "    if addAggregate:\n",
    "        x = df.copy()\n",
    "        x[\"q\"] = pd.qcut(x[dependent],q=q)\n",
    "        temp = x.groupby(\"q\").agg({dependent:[np.mean,np.median,se],independent:[np.mean,np.median,se]})\n",
    "        P = np.polyfit(x[independent],x[dependent],1)\n",
    "        plt.errorbar(\n",
    "            temp[independent][\"median\"],temp[dependent][\"median\"],\n",
    "                     yerr=temp[dependent][\"se\"],\n",
    "#                      xerr=temp[dependent][\"se\"],\n",
    "                     fmt='-o',\n",
    "#                      label=\"Quantile %d (Avg. Slope: %0.2f)\" % (count,P[0]),\n",
    "                     label=\"_data\",\n",
    "                    alpha = 1,\n",
    "                     color=.8*np.ones(3),\n",
    "            zorder=5,**kwargs)\n",
    "    f = \"%s quantile\" % labelTupleVariable(interaction)\n",
    "    df[f] = pd.qcut(df[interaction],q=q)\n",
    "    Cs = cm(np.linspace(0,1,q+1))\n",
    "    count =1\n",
    "    for ff in np.sort(df[f].unique()):\n",
    "        x = df[df[f] == ff].copy()\n",
    "        if independentVariableBins is None:\n",
    "            x[\"q\"] = pd.qcut(x[independent],q=q2)\n",
    "        else:\n",
    "            x[\"q\"] = pd.cut(x[independent],independentVariableBins)\n",
    "        temp = x.groupby(\"q\",observed=False).agg({dependent:[\"mean\",\"median\",se],\n",
    "                                   independent:[\"mean\",\"median\",se,\"min\",\"max\"],}).copy()\n",
    "        y = np.array(temp[dependent][\"median\"])\n",
    "        y0 = y[0]\n",
    "        if relativeChange:\n",
    "            y = 100*(y-y[0])/y0\n",
    "            #temp[dependent][\"se\"] = 100*temp[dependent][\"se\"]/y[0]\n",
    "        plt.errorbar(\n",
    "            temp[independent][independentLabel],y,\n",
    "                     yerr=100*temp[dependent][\"se\"]/y0 if relativeChange else temp[dependent][\"se\"],\n",
    "#                      xerr=temp[dependent][\"se\"],\n",
    "                     fmt='-o',\n",
    "#                      label=\"Quantile %d (Avg. Slope: %0.2f)\" % (count,P[0]),\n",
    "                     label=legendLabels(count),\n",
    "                    alpha = .4 if addSlope else 1,\n",
    "                     color=Cs[count],zorder=5,**kwargs)\n",
    "        if addSlope:\n",
    "            P = np.polyfit(x[independent],x[dependent],1)\n",
    "            xx = np.linspace(temp[independent][\"median\"].min(),temp[independent][\"median\"].max(),2)\n",
    "            plt.plot(xx,P[0]*xx+P[1],'--',lw=5,color=Cs[count],zorder=6,label=\"_fit_\")\n",
    "        count += 1\n",
    "    return df\n",
    "\n",
    "def interactiveInteractionPlot(addSlope=False):\n",
    "    data = pd.read_csv(\"./kaggleHousingPrices/train.csv\")\n",
    "    M = data[[\"LotArea\",\"GarageArea\",\"PoolArea\",\"BedroomAbvGr\",\"SalePrice\"]].copy()\n",
    "    # M[\"SalePrice\"] = np.log10(M[\"SalePrice\"])\n",
    "    plt.figure(figsize=(8,6))\n",
    "    interactionScatterPlot(M,\"SalePrice\",\"GarageArea\",\"LotArea\",q=3,q2=3,lw=5,markersize=15,\n",
    "                           addSlope=addSlope,);\n",
    "    plt.legend(title=\"LotArea Quantile\",title_fontproperties={\"size\":13},fontsize=13)\n",
    "    plt.xticks(fontsize=15)\n",
    "    plt.yticks(fontsize=15)\n",
    "    plt.xlabel(\"GarageArea\",fontsize=15)\n",
    "    plt.ylabel(\"SalePrice\",fontsize=15)\n",
    "    plt.tight_layout()\n",
    "    \n",
    "widgets.interact(interactiveInteractionPlot,addSlope=False);"
   ]
  },
  {
   "cell_type": "markdown",
   "metadata": {
    "slideshow": {
     "slide_type": "slide"
    }
   },
   "source": [
    "# Multicollinearity in OLS Regression\n",
    "Let's consider data from the US Bureau of Labor Statistics (BLS) including the Annual Wages for over 800 occupations.\n",
    "\n",
    "The BLS also includes skill profiles for each occupation indicating a real-valued importance of each of 230 different skills to each occupation."
   ]
  },
  {
   "cell_type": "code",
   "execution_count": 129,
   "metadata": {
    "slideshow": {
     "slide_type": "skip"
    }
   },
   "outputs": [],
   "source": [
    "def readSkillsWageData():\n",
    "    data = pd.read_csv(\"./nationalOews.csv\")\n",
    "    data = data[data[\"OCC_CODE\"].apply(lambda s: s[-1] != '0')]\n",
    "    data = data[~data[\"OCC_CODE\"].isin([\"11-1031\"])]\n",
    "    data = data[[\"OCC_CODE\",\"OCC_TITLE\",\"year\",\"A_MEAN\"]].set_index([\"year\",\"OCC_CODE\",\"OCC_TITLE\"])\n",
    "    data = data.join(pd.read_csv(\"./onetData.csv\").set_index([\"year\",\"OCC_CODE\",\"ONET VARIABLE\"]))\n",
    "    wages = data[[\"A_MEAN\"]]\n",
    "    data = data.drop(columns=\"A_MEAN\")\\\n",
    "            .unstack(\"ONET VARIABLE\")[\"ONET VALUE\"]\\\n",
    "            .drop(columns=np.nan)\\\n",
    "            .fillna(0)\\\n",
    "            .join(wages)\\\n",
    "            .rename(columns={\"A_MEAN\":\"Annual Wage\"})\\\n",
    "            .droplevel(\"ONET VARIABLE\")\n",
    "    data = data.groupby([\"year\",\"OCC_CODE\",\"OCC_TITLE\"]).first()\\\n",
    "        .rename_axis(index={\"OCC_CODE\":\"Occupation\",\"OCC_TITLE\":\"Title\"})\n",
    "    data = data[[\"Annual Wage\",]+list(data.columns)[:-1]]\n",
    "    data = data[~np.isnan(data[\"Annual Wage\"])]\n",
    "    return data\n",
    "\n",
    "data = readSkillsWageData()"
   ]
  },
  {
   "cell_type": "code",
   "execution_count": 130,
   "metadata": {
    "slideshow": {
     "slide_type": "subslide"
    }
   },
   "outputs": [
    {
     "data": {
      "text/html": [
       "<div>\n",
       "<style scoped>\n",
       "    .dataframe tbody tr th:only-of-type {\n",
       "        vertical-align: middle;\n",
       "    }\n",
       "\n",
       "    .dataframe tbody tr th {\n",
       "        vertical-align: top;\n",
       "    }\n",
       "\n",
       "    .dataframe thead th {\n",
       "        text-align: right;\n",
       "    }\n",
       "</style>\n",
       "<table border=\"1\" class=\"dataframe\">\n",
       "  <thead>\n",
       "    <tr style=\"text-align: right;\">\n",
       "      <th></th>\n",
       "      <th></th>\n",
       "      <th></th>\n",
       "      <th>Annual Wage</th>\n",
       "      <th>Active Learning</th>\n",
       "      <th>Active Listening</th>\n",
       "      <th>Administration and Management</th>\n",
       "      <th>Analyzing Data or Information</th>\n",
       "      <th>Apprenticeship</th>\n",
       "      <th>Arm-Hand Steadiness</th>\n",
       "      <th>Artistic</th>\n",
       "      <th>Assisting and Caring for Others</th>\n",
       "      <th>Auditory Attention</th>\n",
       "      <th>...</th>\n",
       "      <th>Visual Color Discrimination</th>\n",
       "      <th>Visualization</th>\n",
       "      <th>Wear Common Protective or Safety Equipment such as Safety Shoes, Glasses, Gloves, Hearing Protection, Hard Hats, or Life Jackets</th>\n",
       "      <th>Wear Specialized Protective or Safety Equipment such as Breathing Apparatus, Safety Harness, Full Protection Suits, or Radiation Protection</th>\n",
       "      <th>Work Schedules</th>\n",
       "      <th>Work With Work Group or Team</th>\n",
       "      <th>Wrist-Finger Speed</th>\n",
       "      <th>Writing</th>\n",
       "      <th>Written Comprehension</th>\n",
       "      <th>Written Expression</th>\n",
       "    </tr>\n",
       "    <tr>\n",
       "      <th>year</th>\n",
       "      <th>Occupation</th>\n",
       "      <th>Title</th>\n",
       "      <th></th>\n",
       "      <th></th>\n",
       "      <th></th>\n",
       "      <th></th>\n",
       "      <th></th>\n",
       "      <th></th>\n",
       "      <th></th>\n",
       "      <th></th>\n",
       "      <th></th>\n",
       "      <th></th>\n",
       "      <th></th>\n",
       "      <th></th>\n",
       "      <th></th>\n",
       "      <th></th>\n",
       "      <th></th>\n",
       "      <th></th>\n",
       "      <th></th>\n",
       "      <th></th>\n",
       "      <th></th>\n",
       "      <th></th>\n",
       "      <th></th>\n",
       "    </tr>\n",
       "  </thead>\n",
       "  <tbody>\n",
       "    <tr>\n",
       "      <th rowspan=\"3\" valign=\"top\">2017</th>\n",
       "      <th>11-1011</th>\n",
       "      <th>Chief Executives</th>\n",
       "      <td>196050.0</td>\n",
       "      <td>0.647321</td>\n",
       "      <td>0.696429</td>\n",
       "      <td>0.803571</td>\n",
       "      <td>0.742411</td>\n",
       "      <td>0.0</td>\n",
       "      <td>0.000000</td>\n",
       "      <td>0.278333</td>\n",
       "      <td>0.313125</td>\n",
       "      <td>0.258571</td>\n",
       "      <td>...</td>\n",
       "      <td>0.233214</td>\n",
       "      <td>0.491875</td>\n",
       "      <td>0.213325</td>\n",
       "      <td>0.182717</td>\n",
       "      <td>0.290625</td>\n",
       "      <td>0.317083</td>\n",
       "      <td>0.011786</td>\n",
       "      <td>0.680357</td>\n",
       "      <td>0.712054</td>\n",
       "      <td>0.696429</td>\n",
       "    </tr>\n",
       "    <tr>\n",
       "      <th>11-1021</th>\n",
       "      <th>General and Operations Managers</th>\n",
       "      <td>123460.0</td>\n",
       "      <td>0.571071</td>\n",
       "      <td>0.660714</td>\n",
       "      <td>0.790893</td>\n",
       "      <td>0.598750</td>\n",
       "      <td>0.0</td>\n",
       "      <td>0.232143</td>\n",
       "      <td>0.000000</td>\n",
       "      <td>0.453214</td>\n",
       "      <td>0.282857</td>\n",
       "      <td>...</td>\n",
       "      <td>0.285714</td>\n",
       "      <td>0.397321</td>\n",
       "      <td>0.243750</td>\n",
       "      <td>0.182500</td>\n",
       "      <td>0.268750</td>\n",
       "      <td>0.324583</td>\n",
       "      <td>0.091786</td>\n",
       "      <td>0.558393</td>\n",
       "      <td>0.660714</td>\n",
       "      <td>0.660714</td>\n",
       "    </tr>\n",
       "    <tr>\n",
       "      <th>11-2011</th>\n",
       "      <th>Advertising and Promotions Managers</th>\n",
       "      <td>123880.0</td>\n",
       "      <td>0.566964</td>\n",
       "      <td>0.669286</td>\n",
       "      <td>0.702321</td>\n",
       "      <td>0.399107</td>\n",
       "      <td>0.0</td>\n",
       "      <td>0.199286</td>\n",
       "      <td>0.638333</td>\n",
       "      <td>0.273929</td>\n",
       "      <td>0.217143</td>\n",
       "      <td>...</td>\n",
       "      <td>0.467143</td>\n",
       "      <td>0.472857</td>\n",
       "      <td>0.172483</td>\n",
       "      <td>0.166667</td>\n",
       "      <td>0.255000</td>\n",
       "      <td>0.291267</td>\n",
       "      <td>0.058393</td>\n",
       "      <td>0.620893</td>\n",
       "      <td>0.645714</td>\n",
       "      <td>0.645714</td>\n",
       "    </tr>\n",
       "  </tbody>\n",
       "</table>\n",
       "<p>3 rows × 233 columns</p>\n",
       "</div>"
      ],
      "text/plain": [
       "                                                     Annual Wage  \\\n",
       "year Occupation Title                                              \n",
       "2017 11-1011    Chief Executives                        196050.0   \n",
       "     11-1021    General and Operations Managers         123460.0   \n",
       "     11-2011    Advertising and Promotions Managers     123880.0   \n",
       "\n",
       "                                                     Active Learning  \\\n",
       "year Occupation Title                                                  \n",
       "2017 11-1011    Chief Executives                            0.647321   \n",
       "     11-1021    General and Operations Managers             0.571071   \n",
       "     11-2011    Advertising and Promotions Managers         0.566964   \n",
       "\n",
       "                                                     Active Listening  \\\n",
       "year Occupation Title                                                   \n",
       "2017 11-1011    Chief Executives                             0.696429   \n",
       "     11-1021    General and Operations Managers              0.660714   \n",
       "     11-2011    Advertising and Promotions Managers          0.669286   \n",
       "\n",
       "                                                     Administration and Management  \\\n",
       "year Occupation Title                                                                \n",
       "2017 11-1011    Chief Executives                                          0.803571   \n",
       "     11-1021    General and Operations Managers                           0.790893   \n",
       "     11-2011    Advertising and Promotions Managers                       0.702321   \n",
       "\n",
       "                                                     Analyzing Data or Information  \\\n",
       "year Occupation Title                                                                \n",
       "2017 11-1011    Chief Executives                                          0.742411   \n",
       "     11-1021    General and Operations Managers                           0.598750   \n",
       "     11-2011    Advertising and Promotions Managers                       0.399107   \n",
       "\n",
       "                                                     Apprenticeship  \\\n",
       "year Occupation Title                                                 \n",
       "2017 11-1011    Chief Executives                                0.0   \n",
       "     11-1021    General and Operations Managers                 0.0   \n",
       "     11-2011    Advertising and Promotions Managers             0.0   \n",
       "\n",
       "                                                     Arm-Hand Steadiness  \\\n",
       "year Occupation Title                                                      \n",
       "2017 11-1011    Chief Executives                                0.000000   \n",
       "     11-1021    General and Operations Managers                 0.232143   \n",
       "     11-2011    Advertising and Promotions Managers             0.199286   \n",
       "\n",
       "                                                     Artistic  \\\n",
       "year Occupation Title                                           \n",
       "2017 11-1011    Chief Executives                     0.278333   \n",
       "     11-1021    General and Operations Managers      0.000000   \n",
       "     11-2011    Advertising and Promotions Managers  0.638333   \n",
       "\n",
       "                                                     Assisting and Caring for Others  \\\n",
       "year Occupation Title                                                                  \n",
       "2017 11-1011    Chief Executives                                            0.313125   \n",
       "     11-1021    General and Operations Managers                             0.453214   \n",
       "     11-2011    Advertising and Promotions Managers                         0.273929   \n",
       "\n",
       "                                                     Auditory Attention  ...  \\\n",
       "year Occupation Title                                                    ...   \n",
       "2017 11-1011    Chief Executives                               0.258571  ...   \n",
       "     11-1021    General and Operations Managers                0.282857  ...   \n",
       "     11-2011    Advertising and Promotions Managers            0.217143  ...   \n",
       "\n",
       "                                                     Visual Color Discrimination  \\\n",
       "year Occupation Title                                                              \n",
       "2017 11-1011    Chief Executives                                        0.233214   \n",
       "     11-1021    General and Operations Managers                         0.285714   \n",
       "     11-2011    Advertising and Promotions Managers                     0.467143   \n",
       "\n",
       "                                                     Visualization  \\\n",
       "year Occupation Title                                                \n",
       "2017 11-1011    Chief Executives                          0.491875   \n",
       "     11-1021    General and Operations Managers           0.397321   \n",
       "     11-2011    Advertising and Promotions Managers       0.472857   \n",
       "\n",
       "                                                     Wear Common Protective or Safety Equipment such as Safety Shoes, Glasses, Gloves, Hearing Protection, Hard Hats, or Life Jackets  \\\n",
       "year Occupation Title                                                                                                                                                                   \n",
       "2017 11-1011    Chief Executives                                                              0.213325                                                                                  \n",
       "     11-1021    General and Operations Managers                                               0.243750                                                                                  \n",
       "     11-2011    Advertising and Promotions Managers                                           0.172483                                                                                  \n",
       "\n",
       "                                                     Wear Specialized Protective or Safety Equipment such as Breathing Apparatus, Safety Harness, Full Protection Suits, or Radiation Protection  \\\n",
       "year Occupation Title                                                                                                                                                                              \n",
       "2017 11-1011    Chief Executives                                                              0.182717                                                                                             \n",
       "     11-1021    General and Operations Managers                                               0.182500                                                                                             \n",
       "     11-2011    Advertising and Promotions Managers                                           0.166667                                                                                             \n",
       "\n",
       "                                                     Work Schedules  \\\n",
       "year Occupation Title                                                 \n",
       "2017 11-1011    Chief Executives                           0.290625   \n",
       "     11-1021    General and Operations Managers            0.268750   \n",
       "     11-2011    Advertising and Promotions Managers        0.255000   \n",
       "\n",
       "                                                     Work With Work Group or Team  \\\n",
       "year Occupation Title                                                               \n",
       "2017 11-1011    Chief Executives                                         0.317083   \n",
       "     11-1021    General and Operations Managers                          0.324583   \n",
       "     11-2011    Advertising and Promotions Managers                      0.291267   \n",
       "\n",
       "                                                     Wrist-Finger Speed  \\\n",
       "year Occupation Title                                                     \n",
       "2017 11-1011    Chief Executives                               0.011786   \n",
       "     11-1021    General and Operations Managers                0.091786   \n",
       "     11-2011    Advertising and Promotions Managers            0.058393   \n",
       "\n",
       "                                                      Writing  \\\n",
       "year Occupation Title                                           \n",
       "2017 11-1011    Chief Executives                     0.680357   \n",
       "     11-1021    General and Operations Managers      0.558393   \n",
       "     11-2011    Advertising and Promotions Managers  0.620893   \n",
       "\n",
       "                                                     Written Comprehension  \\\n",
       "year Occupation Title                                                        \n",
       "2017 11-1011    Chief Executives                                  0.712054   \n",
       "     11-1021    General and Operations Managers                   0.660714   \n",
       "     11-2011    Advertising and Promotions Managers               0.645714   \n",
       "\n",
       "                                                     Written Expression  \n",
       "year Occupation Title                                                    \n",
       "2017 11-1011    Chief Executives                               0.696429  \n",
       "     11-1021    General and Operations Managers                0.660714  \n",
       "     11-2011    Advertising and Promotions Managers            0.645714  \n",
       "\n",
       "[3 rows x 233 columns]"
      ]
     },
     "execution_count": 130,
     "metadata": {},
     "output_type": "execute_result"
    }
   ],
   "source": [
    "data.head(3)"
   ]
  },
  {
   "cell_type": "markdown",
   "metadata": {
    "slideshow": {
     "slide_type": "subslide"
    }
   },
   "source": [
    "230 different skills are a lot of different skills. <i>Which skills lead to higher annual wages?</i>\n",
    "\n",
    "First, this question is a causal one: Which skills will cause a worker's annual wage to increase?\n",
    "\n",
    "We can't answer this causal question directly with regression analysis. But we can use OLS regression to see which skills predict higher annual wages (i.e., which skills are correlated with higher wages)."
   ]
  },
  {
   "cell_type": "code",
   "execution_count": 131,
   "metadata": {
    "slideshow": {
     "slide_type": "fragment"
    }
   },
   "outputs": [
    {
     "name": "stdout",
     "output_type": "stream",
     "text": [
      "Deductive Reasoning\n",
      "PearsonRResult(statistic=0.3542859926116266, pvalue=6.0874189202341815e-71)\n",
      "Critical Thinking\n",
      "PearsonRResult(statistic=0.34647478621022937, pvalue=9.967816125934052e-68)\n",
      "Complex Problem Solving\n",
      "PearsonRResult(statistic=0.4008839155545901, pvalue=4.3479143517273816e-92)\n",
      "Manual Dexterity\n",
      "PearsonRResult(statistic=-0.29151154885233216, pvalue=1.3823203025775256e-47)\n"
     ]
    }
   ],
   "source": [
    "for skill in [\"Deductive Reasoning\",\"Critical Thinking\",\"Complex Problem Solving\",\"Manual Dexterity\"]:\n",
    "    print(skill)\n",
    "    print(scipy.stats.pearsonr(data[skill],data[\"Annual Wage\"]))"
   ]
  },
  {
   "cell_type": "markdown",
   "metadata": {
    "slideshow": {
     "slide_type": "subslide"
    }
   },
   "source": [
    "The cognitive skills are positively correlated with annual wage while Manual Dexterity, a physical skill, is negatively correlated with annual wages.\n",
    "\n",
    "This is nice for individual skills, but workers usually use more than a single skill during their work. Further, the cognitive skills seem closely related; maybe a worker with one of the cognitive skills does not necessarily need the others because it would be redundant.\n",
    "\n",
    "We use OLS regression to test if these skill combine to better predict annual wages."
   ]
  },
  {
   "cell_type": "code",
   "execution_count": 132,
   "metadata": {
    "hideCode": false,
    "hidePrompt": false,
    "slideshow": {
     "slide_type": "skip"
    }
   },
   "outputs": [
    {
     "data": {
      "text/html": [
       "<div>\n",
       "<style scoped>\n",
       "    .dataframe tbody tr th:only-of-type {\n",
       "        vertical-align: middle;\n",
       "    }\n",
       "\n",
       "    .dataframe tbody tr th {\n",
       "        vertical-align: top;\n",
       "    }\n",
       "\n",
       "    .dataframe thead th {\n",
       "        text-align: right;\n",
       "    }\n",
       "</style>\n",
       "<table border=\"1\" class=\"dataframe\">\n",
       "  <thead>\n",
       "    <tr style=\"text-align: right;\">\n",
       "      <th></th>\n",
       "      <th></th>\n",
       "      <th>coef</th>\n",
       "      <th>95% low</th>\n",
       "      <th>95% high</th>\n",
       "      <th>p-value</th>\n",
       "    </tr>\n",
       "    <tr>\n",
       "      <th>model</th>\n",
       "      <th>variable</th>\n",
       "      <th></th>\n",
       "      <th></th>\n",
       "      <th></th>\n",
       "      <th></th>\n",
       "    </tr>\n",
       "  </thead>\n",
       "  <tbody>\n",
       "    <tr>\n",
       "      <th rowspan=\"4\" valign=\"top\">1</th>\n",
       "      <th>Critical Thinking</th>\n",
       "      <td>0.396</td>\n",
       "      <td>0.366</td>\n",
       "      <td>0.426</td>\n",
       "      <td>0.000</td>\n",
       "    </tr>\n",
       "    <tr>\n",
       "      <th>Manual Dexterity</th>\n",
       "      <td>-0.348</td>\n",
       "      <td>-0.377</td>\n",
       "      <td>-0.318</td>\n",
       "      <td>0.000</td>\n",
       "    </tr>\n",
       "    <tr>\n",
       "      <th>intercept</th>\n",
       "      <td>0.000</td>\n",
       "      <td>-0.030</td>\n",
       "      <td>0.030</td>\n",
       "      <td>1.000</td>\n",
       "    </tr>\n",
       "    <tr>\n",
       "      <th>R2</th>\n",
       "      <td>0.238</td>\n",
       "      <td></td>\n",
       "      <td></td>\n",
       "      <td></td>\n",
       "    </tr>\n",
       "    <tr>\n",
       "      <th rowspan=\"3\" valign=\"top\">2</th>\n",
       "      <th>Critical Thinking</th>\n",
       "      <td>0.346</td>\n",
       "      <td>0.315</td>\n",
       "      <td>0.378</td>\n",
       "      <td>0.000</td>\n",
       "    </tr>\n",
       "    <tr>\n",
       "      <th>intercept</th>\n",
       "      <td>-0.000</td>\n",
       "      <td>-0.032</td>\n",
       "      <td>0.032</td>\n",
       "      <td>1.000</td>\n",
       "    </tr>\n",
       "    <tr>\n",
       "      <th>R2</th>\n",
       "      <td>0.120</td>\n",
       "      <td></td>\n",
       "      <td></td>\n",
       "      <td></td>\n",
       "    </tr>\n",
       "    <tr>\n",
       "      <th rowspan=\"4\" valign=\"top\">3</th>\n",
       "      <th>Complex Problem Solving</th>\n",
       "      <td>0.408</td>\n",
       "      <td>0.380</td>\n",
       "      <td>0.436</td>\n",
       "      <td>0.000</td>\n",
       "    </tr>\n",
       "    <tr>\n",
       "      <th>Stamina</th>\n",
       "      <td>-0.399</td>\n",
       "      <td>-0.426</td>\n",
       "      <td>-0.371</td>\n",
       "      <td>0.000</td>\n",
       "    </tr>\n",
       "    <tr>\n",
       "      <th>intercept</th>\n",
       "      <td>0.000</td>\n",
       "      <td>-0.028</td>\n",
       "      <td>0.028</td>\n",
       "      <td>1.000</td>\n",
       "    </tr>\n",
       "    <tr>\n",
       "      <th>R2</th>\n",
       "      <td>0.319</td>\n",
       "      <td></td>\n",
       "      <td></td>\n",
       "      <td></td>\n",
       "    </tr>\n",
       "  </tbody>\n",
       "</table>\n",
       "</div>"
      ],
      "text/plain": [
       "                                 coef 95% low 95% high p-value\n",
       "model variable                                                \n",
       "1     Critical Thinking         0.396   0.366    0.426   0.000\n",
       "      Manual Dexterity         -0.348  -0.377   -0.318   0.000\n",
       "      intercept                 0.000  -0.030    0.030   1.000\n",
       "      R2                        0.238                         \n",
       "2     Critical Thinking         0.346   0.315    0.378   0.000\n",
       "      intercept                -0.000  -0.032    0.032   1.000\n",
       "      R2                        0.120                         \n",
       "3     Complex Problem Solving   0.408   0.380    0.436   0.000\n",
       "      Stamina                  -0.399  -0.426   -0.371   0.000\n",
       "      intercept                 0.000  -0.028    0.028   1.000\n",
       "      R2                        0.319                         "
      ]
     },
     "execution_count": 132,
     "metadata": {},
     "output_type": "execute_result"
    }
   ],
   "source": [
    "def regRelabel(z):\n",
    "    if type(z) == tuple:\n",
    "        if np.isnan(z[0]):\n",
    "            return \"\"\n",
    "        return (\"%0.3f\" % z[0],\"%0.3f\" % z[1])\n",
    "    elif np.isnan(z):\n",
    "        return \"\"\n",
    "    else:\n",
    "        return \"%0.3f\" % z\n",
    "\n",
    "def runOLS(data,target,model,addIntercept=False,**kwargs):\n",
    "    y = data[target]\n",
    "    beta,CI,p_values,_,R2 = getRegressionCoefs(data[model],y,addIntercept=addIntercept,**kwargs)\n",
    "    result = []\n",
    "    if addIntercept:\n",
    "        model = model + [\"intercept\",]\n",
    "    for i in range(len(model)):\n",
    "        result.append(\n",
    "            pd.Series(\n",
    "                data=[beta[i],CI[i,0],CI[i,1],p_values[i],],\n",
    "                index=[\"coef\",\"95% low\",\"95% high\",\"p-value\",],\n",
    "                name=model[i]\n",
    "            )\n",
    "        )\n",
    "    result = pd.DataFrame(result)\n",
    "    return result,R2\n",
    "    \n",
    "\n",
    "def runMultiOLS(data,target,models,**kwargs):\n",
    "    result = []\n",
    "    for i in range(len(models)):\n",
    "        model = models[i]\n",
    "        ols,R2 = runOLS(data,target,model,**kwargs)\n",
    "        ols = ols.reset_index(names=\"variable\")\n",
    "        r = pd.DataFrame([{\"variable\":\"R2\",\"coef\":R2,}])\n",
    "        ols = pd.concat([ols,r])\n",
    "        ols[\"model\"] = i+1\n",
    "        ols = ols.set_index([\"model\",\"variable\",])\n",
    "        result.append(ols)\n",
    "        \n",
    "    result = pd.concat(result)\n",
    "    return result\n",
    "\n",
    "def printMultiOLS(*args,**kwargs):\n",
    "    return runMultiOLS(*args,**kwargs).map(regRelabel)\n",
    "\n",
    "models = [\n",
    "    [\"Critical Thinking\",\"Manual Dexterity\",],\n",
    "    [\"Critical Thinking\",],\n",
    "    [\"Complex Problem Solving\",\"Stamina\",],\n",
    "]\n",
    "\n",
    "printMultiOLS(data,\"Annual Wage\",models,addIntercept=True,standardize=True)"
   ]
  },
  {
   "cell_type": "code",
   "execution_count": 133,
   "metadata": {
    "hideCode": false,
    "hidePrompt": false,
    "scrolled": false,
    "slideshow": {
     "slide_type": "fragment"
    }
   },
   "outputs": [
    {
     "data": {
      "application/vnd.jupyter.widget-view+json": {
       "model_id": "739f65fffd6c409a97bdc72161199db3",
       "version_major": 2,
       "version_minor": 0
      },
      "text/plain": [
       "interactive(children=(Checkbox(value=False, description='standardize'), Output()), _dom_classes=('widget-inter…"
      ]
     },
     "metadata": {},
     "output_type": "display_data"
    }
   ],
   "source": [
    "# hide\n",
    "def visualizeMultiOLS(data=None,target=None,models=None,regData=None,**kwargs):\n",
    "    if regData is None:\n",
    "        regData = runMultiOLS(data,target,models,**kwargs)\n",
    "    fig,(ax1,ax2) = plt.subplots(1,2,width_ratios=[3,1],figsize=(15,6))\n",
    "    temp = regData.unstack(\"model\")[[\"coef\",\"95% low\"]].T.drop(columns=\"R2\")\n",
    "    for m in temp.index.unique(\"model\"):\n",
    "        x = temp.loc[\"coef\",m]\n",
    "        y = temp.loc[\"95% low\",m]\n",
    "        ax1.errorbar(np.arange(len(x)),x,yerr=x-y,fmt='o',\n",
    "                     label=\"Model %d\" % m,\n",
    "            markersize=10,lw=5,zorder=4,\n",
    "                    )\n",
    "    xx = ax1.get_xlim()\n",
    "    ax1.plot(xx,[0,0],'k--',lw=3,zorder=3)\n",
    "    ax1.set_xlim(xx)\n",
    "    ax1.set_xticks(np.arange(len(models[-1])+1),\n",
    "               list(map(lambda s: s.replace(' ',\"\\n\"),models[-1]+[\"intercept\",])),\n",
    "                fontsize=15,\n",
    "               )\n",
    "    ax1.set_yticks(ax1.get_yticks(),ax1.get_yticks(),fontsize=15)\n",
    "    ax1.set_xlabel(\"Regression Variable\",fontsize=15)\n",
    "    ax1.set_ylabel(\"Regression Coefficient\",fontsize=15)\n",
    "\n",
    "    temp = 100*regData.loc[(idx[:],\"R2\"),\"coef\"].droplevel(\"variable\")\n",
    "    for i in range(len(temp)):\n",
    "        ax2.bar(i+1,temp.loc[i+1])\n",
    "    ax2.set_xticks(temp.index,temp.index,fontsize=15)\n",
    "    ax2.set_xlabel(\"Model\",fontsize=15)\n",
    "    y = ax2.get_yticks()\n",
    "    ax2.set_yticks(y,list(map(lambda z: \"%0.2f\" % z,y)),fontsize=15)\n",
    "    ax2.set_ylabel(\"Variance Explained (%)\",fontsize=15)\n",
    "    fig.tight_layout()\n",
    "    \n",
    "def wrapVizMultiOLS(standardize=False):\n",
    "    visualizeMultiOLS(data,\"Annual Wage\",models,addIntercept=True,standardize=standardize)\n",
    "#     plt.gca().set_title(\"Standardize? %s\" % standardize,fontsize=15)\n",
    "\n",
    "models = [\n",
    "        [\"Critical Thinking\",],\n",
    "        [\"Manual Dexterity\",],\n",
    "        [\"Critical Thinking\",\"Manual Dexterity\",],\n",
    "        [\"Critical Thinking\",\"Manual Dexterity\",\"Complex Problem Solving\",\"Deductive Reasoning\",],\n",
    "]\n",
    "\n",
    "\n",
    "widgets.interact(wrapVizMultiOLS,standardize=False);"
   ]
  },
  {
   "cell_type": "markdown",
   "metadata": {
    "slideshow": {
     "slide_type": "subslide"
    }
   },
   "source": [
    "Here is another way to view the same information as a table. It's more common to view regression results in a table form."
   ]
  },
  {
   "cell_type": "code",
   "execution_count": 134,
   "metadata": {
    "hideCode": false,
    "hidePrompt": false,
    "slideshow": {
     "slide_type": "fragment"
    }
   },
   "outputs": [
    {
     "data": {
      "text/html": [
       "<div>\n",
       "<style scoped>\n",
       "    .dataframe tbody tr th:only-of-type {\n",
       "        vertical-align: middle;\n",
       "    }\n",
       "\n",
       "    .dataframe tbody tr th {\n",
       "        vertical-align: top;\n",
       "    }\n",
       "\n",
       "    .dataframe thead th {\n",
       "        text-align: right;\n",
       "    }\n",
       "</style>\n",
       "<table border=\"1\" class=\"dataframe\">\n",
       "  <thead>\n",
       "    <tr style=\"text-align: right;\">\n",
       "      <th></th>\n",
       "      <th></th>\n",
       "      <th>coef</th>\n",
       "      <th>95% low</th>\n",
       "      <th>95% high</th>\n",
       "      <th>p-value</th>\n",
       "    </tr>\n",
       "    <tr>\n",
       "      <th>model</th>\n",
       "      <th>variable</th>\n",
       "      <th></th>\n",
       "      <th></th>\n",
       "      <th></th>\n",
       "      <th></th>\n",
       "    </tr>\n",
       "  </thead>\n",
       "  <tbody>\n",
       "    <tr>\n",
       "      <th rowspan=\"2\" valign=\"top\">1</th>\n",
       "      <th>Critical Thinking</th>\n",
       "      <td>0.346</td>\n",
       "      <td>0.315</td>\n",
       "      <td>0.378</td>\n",
       "      <td>0.000</td>\n",
       "    </tr>\n",
       "    <tr>\n",
       "      <th>R2</th>\n",
       "      <td>0.120</td>\n",
       "      <td></td>\n",
       "      <td></td>\n",
       "      <td></td>\n",
       "    </tr>\n",
       "    <tr>\n",
       "      <th rowspan=\"2\" valign=\"top\">2</th>\n",
       "      <th>Manual Dexterity</th>\n",
       "      <td>-0.292</td>\n",
       "      <td>-0.324</td>\n",
       "      <td>-0.259</td>\n",
       "      <td>0.000</td>\n",
       "    </tr>\n",
       "    <tr>\n",
       "      <th>R2</th>\n",
       "      <td>0.085</td>\n",
       "      <td></td>\n",
       "      <td></td>\n",
       "      <td></td>\n",
       "    </tr>\n",
       "    <tr>\n",
       "      <th rowspan=\"3\" valign=\"top\">3</th>\n",
       "      <th>Critical Thinking</th>\n",
       "      <td>0.396</td>\n",
       "      <td>0.366</td>\n",
       "      <td>0.426</td>\n",
       "      <td>0.000</td>\n",
       "    </tr>\n",
       "    <tr>\n",
       "      <th>Manual Dexterity</th>\n",
       "      <td>-0.348</td>\n",
       "      <td>-0.377</td>\n",
       "      <td>-0.318</td>\n",
       "      <td>0.000</td>\n",
       "    </tr>\n",
       "    <tr>\n",
       "      <th>R2</th>\n",
       "      <td>0.238</td>\n",
       "      <td></td>\n",
       "      <td></td>\n",
       "      <td></td>\n",
       "    </tr>\n",
       "    <tr>\n",
       "      <th rowspan=\"5\" valign=\"top\">4</th>\n",
       "      <th>Critical Thinking</th>\n",
       "      <td>-0.823</td>\n",
       "      <td>-1.008</td>\n",
       "      <td>-0.637</td>\n",
       "      <td>0.000</td>\n",
       "    </tr>\n",
       "    <tr>\n",
       "      <th>Manual Dexterity</th>\n",
       "      <td>-0.339</td>\n",
       "      <td>-0.367</td>\n",
       "      <td>-0.310</td>\n",
       "      <td>0.000</td>\n",
       "    </tr>\n",
       "    <tr>\n",
       "      <th>Complex Problem Solving</th>\n",
       "      <td>1.076</td>\n",
       "      <td>0.948</td>\n",
       "      <td>1.203</td>\n",
       "      <td>0.000</td>\n",
       "    </tr>\n",
       "    <tr>\n",
       "      <th>Deductive Reasoning</th>\n",
       "      <td>0.173</td>\n",
       "      <td>-0.008</td>\n",
       "      <td>0.355</td>\n",
       "      <td>0.116</td>\n",
       "    </tr>\n",
       "    <tr>\n",
       "      <th>R2</th>\n",
       "      <td>0.306</td>\n",
       "      <td></td>\n",
       "      <td></td>\n",
       "      <td></td>\n",
       "    </tr>\n",
       "  </tbody>\n",
       "</table>\n",
       "</div>"
      ],
      "text/plain": [
       "                                 coef 95% low 95% high p-value\n",
       "model variable                                                \n",
       "1     Critical Thinking         0.346   0.315    0.378   0.000\n",
       "      R2                        0.120                         \n",
       "2     Manual Dexterity         -0.292  -0.324   -0.259   0.000\n",
       "      R2                        0.085                         \n",
       "3     Critical Thinking         0.396   0.366    0.426   0.000\n",
       "      Manual Dexterity         -0.348  -0.377   -0.318   0.000\n",
       "      R2                        0.238                         \n",
       "4     Critical Thinking        -0.823  -1.008   -0.637   0.000\n",
       "      Manual Dexterity         -0.339  -0.367   -0.310   0.000\n",
       "      Complex Problem Solving   1.076   0.948    1.203   0.000\n",
       "      Deductive Reasoning       0.173  -0.008    0.355   0.116\n",
       "      R2                        0.306                         "
      ]
     },
     "execution_count": 134,
     "metadata": {},
     "output_type": "execute_result"
    }
   ],
   "source": [
    "# hide\n",
    "\n",
    "models = [\n",
    "        [\"Critical Thinking\",],\n",
    "        [\"Manual Dexterity\",],\n",
    "        [\"Critical Thinking\",\"Manual Dexterity\",],\n",
    "        [\"Critical Thinking\",\"Manual Dexterity\",\"Complex Problem Solving\",\"Deductive Reasoning\",],\n",
    "]\n",
    "\n",
    "printMultiOLS(data,\"Annual Wage\",models,addIntercept=False,standardize=True)"
   ]
  },
  {
   "cell_type": "markdown",
   "metadata": {
    "slideshow": {
     "slide_type": "fragment"
    }
   },
   "source": [
    "When handled individually, <font color=\"darkmagenta\">Critical Thinking</font> is positively associated with wages (see Model 2), but the coefficient statistically significantly negative in the full model (see Model 5)!"
   ]
  },
  {
   "cell_type": "markdown",
   "metadata": {
    "slideshow": {
     "slide_type": "subslide"
    }
   },
   "source": [
    "Why would a coefficient for the same variable change so dramatically from one regression model to the next?\n",
    "\n",
    "This dramatic change in regression coefficients is a possible symptom of **multicollinearity** which occurs when one variable can be written as a linear equation using the other variables.\n",
    "\n",
    "In our case, Critical Thinking is conceptually similar to Deductive Reasoning and Complex Problem Solving, and so, they all have similar importance scores across occupations."
   ]
  },
  {
   "cell_type": "code",
   "execution_count": 135,
   "metadata": {
    "hidePrompt": false,
    "slideshow": {
     "slide_type": "fragment"
    }
   },
   "outputs": [
    {
     "name": "stdout",
     "output_type": "stream",
     "text": [
      "Pearson Correlations:\n"
     ]
    },
    {
     "data": {
      "text/html": [
       "<div>\n",
       "<style scoped>\n",
       "    .dataframe tbody tr th:only-of-type {\n",
       "        vertical-align: middle;\n",
       "    }\n",
       "\n",
       "    .dataframe tbody tr th {\n",
       "        vertical-align: top;\n",
       "    }\n",
       "\n",
       "    .dataframe thead th {\n",
       "        text-align: right;\n",
       "    }\n",
       "</style>\n",
       "<table border=\"1\" class=\"dataframe\">\n",
       "  <thead>\n",
       "    <tr style=\"text-align: right;\">\n",
       "      <th></th>\n",
       "      <th>Critical Thinking</th>\n",
       "      <th>Deductive Reasoning</th>\n",
       "      <th>Complex Problem Solving</th>\n",
       "      <th>Manual Dexterity</th>\n",
       "    </tr>\n",
       "  </thead>\n",
       "  <tbody>\n",
       "    <tr>\n",
       "      <th>Critical Thinking</th>\n",
       "      <td>1.000000</td>\n",
       "      <td>0.986445</td>\n",
       "      <td>0.972470</td>\n",
       "      <td>0.141740</td>\n",
       "    </tr>\n",
       "    <tr>\n",
       "      <th>Deductive Reasoning</th>\n",
       "      <td>0.986445</td>\n",
       "      <td>1.000000</td>\n",
       "      <td>0.970825</td>\n",
       "      <td>0.153318</td>\n",
       "    </tr>\n",
       "    <tr>\n",
       "      <th>Complex Problem Solving</th>\n",
       "      <td>0.972470</td>\n",
       "      <td>0.970825</td>\n",
       "      <td>1.000000</td>\n",
       "      <td>0.127402</td>\n",
       "    </tr>\n",
       "    <tr>\n",
       "      <th>Manual Dexterity</th>\n",
       "      <td>0.141740</td>\n",
       "      <td>0.153318</td>\n",
       "      <td>0.127402</td>\n",
       "      <td>1.000000</td>\n",
       "    </tr>\n",
       "  </tbody>\n",
       "</table>\n",
       "</div>"
      ],
      "text/plain": [
       "                         Critical Thinking  Deductive Reasoning  \\\n",
       "Critical Thinking                 1.000000             0.986445   \n",
       "Deductive Reasoning               0.986445             1.000000   \n",
       "Complex Problem Solving           0.972470             0.970825   \n",
       "Manual Dexterity                  0.141740             0.153318   \n",
       "\n",
       "                         Complex Problem Solving  Manual Dexterity  \n",
       "Critical Thinking                       0.972470          0.141740  \n",
       "Deductive Reasoning                     0.970825          0.153318  \n",
       "Complex Problem Solving                 1.000000          0.127402  \n",
       "Manual Dexterity                        0.127402          1.000000  "
      ]
     },
     "execution_count": 135,
     "metadata": {},
     "output_type": "execute_result"
    }
   ],
   "source": [
    "print(\"Pearson Correlations:\")\n",
    "data[[\"Critical Thinking\",\"Deductive Reasoning\",\"Complex Problem Solving\",\"Manual Dexterity\"]].corr()"
   ]
  },
  {
   "cell_type": "markdown",
   "metadata": {
    "slideshow": {
     "slide_type": "subslide"
    }
   },
   "source": [
    "We can understand this problem by remembering that OLS regression is really a matrix inversion problem. \n",
    "\n",
    "OLS regression is solving the problem\n",
    "$\n",
    "\\gmath\n",
    "\\left(M^TM\\right)\\vec{\\beta} \\approx M^T\\vec{y}\n",
    "\\hspace{1cm}\\Rightarrow\\hspace{1cm}\n",
    "\\hat{\\beta} \\approx \\left(M^TM\\right)^{-1}\\cdot M^T\\vec{y}\n",
    "$\n",
    "\n",
    "But $M^TM$ will **not** be invertible if a column of $M$ can be written as a linear combination of other columns of $M$. We covered this in Module 2."
   ]
  },
  {
   "cell_type": "markdown",
   "metadata": {
    "slideshow": {
     "slide_type": "fragment"
    }
   },
   "source": [
    "Our case is similar, but not exactly the same. Critical Thinking is strongly correlated with Deductive Reasoning (i.e. Pearson $\\rho=0.986$), but not perfectly correlated.\n",
    "\n",
    "This means that Critical Thinking is well-approximated by a linear function of Deductive Reasoning, but not perfectly described by it. \n",
    "\n",
    "Still, this is enough to **bias** the regression coefficient estimates."
   ]
  },
  {
   "cell_type": "markdown",
   "metadata": {
    "slideshow": {
     "slide_type": "subslide"
    }
   },
   "source": [
    "Recalling that we don't want columns of matrix $M$ to linearly depend on other columns yields a test for multicollinearity.\n",
    "\n",
    "Given an OLS regression model containing variables $V = \\{\\vec{v}_1,\\vec{v}_2,\\vec{v}_3,\\dots,\\vec{v}_n\\}$, a variable's **Variance Inflation Factor (VIF)** is\n",
    "$\n",
    "\\gmath\n",
    "\\text{VIF}(\\vec{v}_i) = \\frac{1}{1-\\rho_i^2}\n",
    "$\n",
    "\n",
    "where $\\rho_i^2$ is the Pearson correlation of the OLS regression predicting $\\vec{v}_i$ using the remaining variables:\n",
    "$\n",
    "\\gmath\n",
    "\\vec{v}_i\\sim \\sum_{j=1,j\\neq i}^n \\beta_j\\cdot\\vec{v}_j\n",
    "$\n",
    "\n",
    "After running this regression to identify the $\\beta$, we predict $\\hat{v}_i$ and measure the Pearson Correlation between $\\hat{v}_i$ and $\\vec{v}_i$.\n",
    "\n",
    "We square the correlation to account for potentially negative correlations.\n",
    "\n",
    "Generally, $\\text{VIF}(\\vec{v}_i)>5$ indicates problematic multicollinearity."
   ]
  },
  {
   "cell_type": "code",
   "execution_count": 34,
   "metadata": {
    "slideshow": {
     "slide_type": "subslide"
    }
   },
   "outputs": [
    {
     "name": "stdout",
     "output_type": "stream",
     "text": [
      "VIF(Critical Thinking) = 43.294\n",
      "VIF(Deductive Reasoning) = 41.284\n",
      "VIF(Complex Problem Solving) = 20.371\n",
      "VIF(Manual Dexterity) = 1.033\n"
     ]
    }
   ],
   "source": [
    "from sklearn.linear_model import LinearRegression\n",
    "M = data[[\n",
    "    \"Critical Thinking\",\n",
    "    \"Deductive Reasoning\",\n",
    "    \"Complex Problem Solving\",\n",
    "    \"Manual Dexterity\"\n",
    "]].copy()\n",
    "def VIF(v,data):\n",
    "    r = LinearRegression(fit_intercept=True).fit(data,v)\n",
    "    vhat = r.predict(data)\n",
    "    rho,_ = scipy.stats.pearsonr(v,vhat)\n",
    "    return 1/(1-rho**2)\n",
    "for f in M.columns:\n",
    "    vif = VIF(M[f],M.drop(columns=f))\n",
    "    print(\"VIF(%s) = %0.3f\" % (f,vif))"
   ]
  },
  {
   "cell_type": "code",
   "execution_count": 35,
   "metadata": {
    "hideCode": false,
    "hidePrompt": false,
    "slideshow": {
     "slide_type": "subslide"
    }
   },
   "outputs": [
    {
     "data": {
      "text/html": [
       "<div>\n",
       "<style scoped>\n",
       "    .dataframe tbody tr th:only-of-type {\n",
       "        vertical-align: middle;\n",
       "    }\n",
       "\n",
       "    .dataframe tbody tr th {\n",
       "        vertical-align: top;\n",
       "    }\n",
       "\n",
       "    .dataframe thead th {\n",
       "        text-align: right;\n",
       "    }\n",
       "</style>\n",
       "<table border=\"1\" class=\"dataframe\">\n",
       "  <thead>\n",
       "    <tr style=\"text-align: right;\">\n",
       "      <th></th>\n",
       "      <th></th>\n",
       "      <th>coef</th>\n",
       "      <th>95% low</th>\n",
       "      <th>95% high</th>\n",
       "      <th>p-value</th>\n",
       "    </tr>\n",
       "    <tr>\n",
       "      <th>model</th>\n",
       "      <th>variable</th>\n",
       "      <th></th>\n",
       "      <th></th>\n",
       "      <th></th>\n",
       "      <th></th>\n",
       "    </tr>\n",
       "  </thead>\n",
       "  <tbody>\n",
       "    <tr>\n",
       "      <th rowspan=\"3\" valign=\"top\">1</th>\n",
       "      <th>Critical Thinking</th>\n",
       "      <td>0.346</td>\n",
       "      <td>0.315</td>\n",
       "      <td>0.378</td>\n",
       "      <td>0.000</td>\n",
       "    </tr>\n",
       "    <tr>\n",
       "      <th>intercept</th>\n",
       "      <td>-0.000</td>\n",
       "      <td>-0.032</td>\n",
       "      <td>0.032</td>\n",
       "      <td>1.000</td>\n",
       "    </tr>\n",
       "    <tr>\n",
       "      <th>R2</th>\n",
       "      <td>0.120</td>\n",
       "      <td></td>\n",
       "      <td></td>\n",
       "      <td></td>\n",
       "    </tr>\n",
       "    <tr>\n",
       "      <th rowspan=\"3\" valign=\"top\">2</th>\n",
       "      <th>Manual Dexterity</th>\n",
       "      <td>-0.292</td>\n",
       "      <td>-0.324</td>\n",
       "      <td>-0.259</td>\n",
       "      <td>0.000</td>\n",
       "    </tr>\n",
       "    <tr>\n",
       "      <th>intercept</th>\n",
       "      <td>0.000</td>\n",
       "      <td>-0.032</td>\n",
       "      <td>0.032</td>\n",
       "      <td>1.000</td>\n",
       "    </tr>\n",
       "    <tr>\n",
       "      <th>R2</th>\n",
       "      <td>0.085</td>\n",
       "      <td></td>\n",
       "      <td></td>\n",
       "      <td></td>\n",
       "    </tr>\n",
       "    <tr>\n",
       "      <th rowspan=\"4\" valign=\"top\">3</th>\n",
       "      <th>Critical Thinking</th>\n",
       "      <td>0.396</td>\n",
       "      <td>0.366</td>\n",
       "      <td>0.426</td>\n",
       "      <td>0.000</td>\n",
       "    </tr>\n",
       "    <tr>\n",
       "      <th>Manual Dexterity</th>\n",
       "      <td>-0.348</td>\n",
       "      <td>-0.377</td>\n",
       "      <td>-0.318</td>\n",
       "      <td>0.000</td>\n",
       "    </tr>\n",
       "    <tr>\n",
       "      <th>intercept</th>\n",
       "      <td>0.000</td>\n",
       "      <td>-0.030</td>\n",
       "      <td>0.030</td>\n",
       "      <td>1.000</td>\n",
       "    </tr>\n",
       "    <tr>\n",
       "      <th>R2</th>\n",
       "      <td>0.238</td>\n",
       "      <td></td>\n",
       "      <td></td>\n",
       "      <td></td>\n",
       "    </tr>\n",
       "    <tr>\n",
       "      <th rowspan=\"6\" valign=\"top\">4</th>\n",
       "      <th>Critical Thinking</th>\n",
       "      <td>-0.823</td>\n",
       "      <td>-1.008</td>\n",
       "      <td>-0.637</td>\n",
       "      <td>0.000</td>\n",
       "    </tr>\n",
       "    <tr>\n",
       "      <th>Manual Dexterity</th>\n",
       "      <td>-0.339</td>\n",
       "      <td>-0.367</td>\n",
       "      <td>-0.310</td>\n",
       "      <td>0.000</td>\n",
       "    </tr>\n",
       "    <tr>\n",
       "      <th>Complex Problem Solving</th>\n",
       "      <td>1.076</td>\n",
       "      <td>0.948</td>\n",
       "      <td>1.203</td>\n",
       "      <td>0.000</td>\n",
       "    </tr>\n",
       "    <tr>\n",
       "      <th>Deductive Reasoning</th>\n",
       "      <td>0.173</td>\n",
       "      <td>-0.008</td>\n",
       "      <td>0.355</td>\n",
       "      <td>0.116</td>\n",
       "    </tr>\n",
       "    <tr>\n",
       "      <th>intercept</th>\n",
       "      <td>0.000</td>\n",
       "      <td>-0.028</td>\n",
       "      <td>0.028</td>\n",
       "      <td>1.000</td>\n",
       "    </tr>\n",
       "    <tr>\n",
       "      <th>R2</th>\n",
       "      <td>0.306</td>\n",
       "      <td></td>\n",
       "      <td></td>\n",
       "      <td></td>\n",
       "    </tr>\n",
       "  </tbody>\n",
       "</table>\n",
       "</div>"
      ],
      "text/plain": [
       "                                 coef 95% low 95% high p-value\n",
       "model variable                                                \n",
       "1     Critical Thinking         0.346   0.315    0.378   0.000\n",
       "      intercept                -0.000  -0.032    0.032   1.000\n",
       "      R2                        0.120                         \n",
       "2     Manual Dexterity         -0.292  -0.324   -0.259   0.000\n",
       "      intercept                 0.000  -0.032    0.032   1.000\n",
       "      R2                        0.085                         \n",
       "3     Critical Thinking         0.396   0.366    0.426   0.000\n",
       "      Manual Dexterity         -0.348  -0.377   -0.318   0.000\n",
       "      intercept                 0.000  -0.030    0.030   1.000\n",
       "      R2                        0.238                         \n",
       "4     Critical Thinking        -0.823  -1.008   -0.637   0.000\n",
       "      Manual Dexterity         -0.339  -0.367   -0.310   0.000\n",
       "      Complex Problem Solving   1.076   0.948    1.203   0.000\n",
       "      Deductive Reasoning       0.173  -0.008    0.355   0.116\n",
       "      intercept                 0.000  -0.028    0.028   1.000\n",
       "      R2                        0.306                         "
      ]
     },
     "execution_count": 35,
     "metadata": {},
     "output_type": "execute_result"
    }
   ],
   "source": [
    "#hide\n",
    "printMultiOLS(\n",
    "    data,\"Annual Wage\",\n",
    "    [\n",
    "        [\"Critical Thinking\",],\n",
    "        [\"Manual Dexterity\",],\n",
    "        [\"Critical Thinking\",\"Manual Dexterity\",],\n",
    "        [\"Critical Thinking\",\"Manual Dexterity\",\"Complex Problem Solving\",\"Deductive Reasoning\",],\n",
    "    ],\n",
    "    addIntercept=True,standardize=True\n",
    ")"
   ]
  },
  {
   "cell_type": "markdown",
   "metadata": {
    "slideshow": {
     "slide_type": "slide"
    }
   },
   "source": [
    "# Measuring Model Performance\n",
    "\n",
    "Previously, we considered a data set of 230 skills across 800 occupations and used OLS regression on just a few of those skills to predict occupations' annual wage.\n",
    "\n",
    "Let's continue with that example."
   ]
  },
  {
   "cell_type": "markdown",
   "metadata": {
    "slideshow": {
     "slide_type": "subslide"
    }
   },
   "source": [
    "How do we measure an OLS regression's predictive performance? We use the coefficient estimates $\\hat{\\beta}$ with the data to estimate the outcome variable: $\\gmath M\\cdot\\hat{\\beta}=\\hat{y}\\gap$\n",
    "\n",
    "And we measure the Pearson Correlation between $\\hat{y}$ and the actual outcome variable $\\vec{y}$: \n",
    "$\n",
    "\\gmath \n",
    "\\rho_{\\hat{y}\\vec{y}}\n",
    "=\\frac{cov(\\hat{y},\\vec{y})}{\\sigma_{\\hat{y}}\\sigma_{\\vec{y}}}\n",
    "$\n",
    "\n",
    "However, $\\rho_{\\hat{y}\\vec{y}}\\in[-1,1]$ and we want a measure of absolute predictive performance.\n",
    "\n",
    "Instead, we use the ***Coefficient of Determination*** $\\gap R^2=\\left(\\rho_{\\hat{y}\\vec{y}}\\right)^2$\n",
    "\n",
    "$R^2=\\left(\\rho_{\\hat{y}\\vec{y}}\\right)^2\\gap$ is especially useful because, as I will show, it captures the **fraction of variation in $\\vec{y}$ explained by $\\hat{y}$**\n",
    "\n",
    "To see this, we first need two observations.\n"
   ]
  },
  {
   "cell_type": "markdown",
   "metadata": {
    "slideshow": {
     "slide_type": "subslide"
    }
   },
   "source": [
    "First, for $$\\beta_0+\\beta_1\\cdot\\vec{x}_1+\\cdots+\\beta_n\\cdot\\vec{x}_n=\\hat{y}$$ where **the model includes an intercept term,** we have that the data $\\vec{y}$ and the model's predictions $\\hat{y}$ have the same expected value: $\\gmath E[\\vec{y}]=E[\\hat{y}]$\n",
    "\n",
    "For example, this is why the intercept term can disappear when we run the regression with centered and standardized variables; in this case, $\\beta_0=E[\\vec{y}]=0$"
   ]
  },
  {
   "cell_type": "code",
   "execution_count": 152,
   "metadata": {
    "slideshow": {
     "slide_type": "fragment"
    }
   },
   "outputs": [
    {
     "data": {
      "text/plain": [
       "(60887.29193071398, 60887.291930713975)"
      ]
     },
     "execution_count": 152,
     "metadata": {},
     "output_type": "execute_result"
    }
   ],
   "source": [
    "temp = data[[\"Annual Wage\",\"Active Learning\",\"Manual Dexterity\",\"Complex Problem Solving\"]].copy()\n",
    "model = [\"Active Learning\",\"Manual Dexterity\",\"Complex Problem Solving\",]\n",
    "y = temp[\"Annual Wage\"]\n",
    "yhat = LinearRegression(fit_intercept=True).fit(temp[model],y).predict(temp[model])\n",
    "np.mean(y),np.mean(yhat)"
   ]
  },
  {
   "cell_type": "markdown",
   "metadata": {
    "slideshow": {
     "slide_type": "subslide"
    }
   },
   "source": [
    "Second, we will use\n",
    "$$\n",
    "\\color{red}{\\hat{y}}\\cdot\\hat{y}\n",
    "=\\color{red}{M}\\color{pink}{\\hat{\\beta}}\\cdot\\hat{y}\n",
    "= M\\color{pink}{(M^TM)^{-1}M^T\\vec{y}}\\cdot\\hat{y}\n",
    "= \\color{pink}{(M^TM)^{-1}(M^T}M\\color{pink}{)\\vec{y}}\\cdot\\hat{y}\n",
    "=\\color{pink}{\\vec{y}}\\cdot\\hat{y}\n",
    "$$"
   ]
  },
  {
   "cell_type": "code",
   "execution_count": 138,
   "metadata": {
    "slideshow": {
     "slide_type": "fragment"
    }
   },
   "outputs": [
    {
     "data": {
      "text/plain": [
       "(9537388509154.568, 9537388509154.56)"
      ]
     },
     "execution_count": 138,
     "metadata": {},
     "output_type": "execute_result"
    }
   ],
   "source": [
    "model = [\"Active Learning\",\"Manual Dexterity\",\"Complex Problem Solving\",]\n",
    "y = temp[\"Annual Wage\"]\n",
    "yhat = LinearRegression(fit_intercept=True).fit(temp[model],y).predict(temp[model])\n",
    "yhat@yhat,y@yhat"
   ]
  },
  {
   "cell_type": "markdown",
   "metadata": {
    "slideshow": {
     "slide_type": "subslide"
    }
   },
   "source": [
    "Now let's show that $R^2=\\left(\\rho_{\\hat{y}\\vec{y}}\\right)^2\\gap$ is the **fraction of variation in $\\vec{y}$ explained by $\\hat{y}$**\n",
    "\n",
    "$$\n",
    "\\color{red}{\\text{Total Variance}} = \\color{blue}{\\text{Explained Variance}} + \\color{orange}{\\text{Unexplained Variance}}\n",
    "\\gap\\Rightarrow\\gap\n",
    "\\color{red}{\\frac{1}{n}\\sum_{i=1}^n (\\vec{y}_i - E[\\vec{y}])^2} = \n",
    "\\color{blue}{\\frac{1}{n}\\sum_{i=1}^n (\\hat{y}_i - E[\\vec{y}])^2} + \\color{orange}{\\frac{1}{n}\\sum_{i=1}^n (\\vec{y}_i - \\hat{y}_i)^2}\n",
    "$$\n",
    "\n",
    "\n",
    "$\n",
    "\\gmath\n",
    "\\begin{align}\n",
    "\\text{Fraction Variance Explained} \n",
    "&= \\frac{\\color{blue}{\\frac{1}{n}\\sum_{i=1}^n (\\hat{y}_i - \\langle\\vec{y}\\rangle)^2}}{\\color{red}{\\frac{1}{n}\\sum_{i=1}^n (\\vec{y}_i - E[\\vec{y}])^2}}\n",
    "=\\frac{\\color{blue}{E[(\\hat{y}-E[\\vec{y}])^2]}}{\\color{red}{Var(\\vec{y})}}\n",
    "=\\frac{\\color{blue}{E[\\hat{y}^2-2E[\\vec{y}]\\hat{y}+E[\\vec{y}]^2]}}{\\color{red}{Var(\\vec{y})}}\n",
    "=\\frac{\\color{blue}{E[\\hat{y}^2]-2E[\\vec{y}]E[\\hat{y}]+E[\\vec{y}]^2}}{\\color{red}{Var(\\vec{y})}}\n",
    "\\\\\\\\\n",
    "&=\\frac{E[\\hat{y}^2]-2E[\\vec{y}]E[\\hat{y}]+E[\\vec{y}]^2}{Var(\\vec{y})}\\cdot\\color{orange}{\\frac{Var(\\hat{y})}{Var(\\hat{y})}}\n",
    "=\\frac{(E[\\hat{y}^2]-2E[\\vec{y}]E[\\hat{y}]+E[\\vec{y}]^2)(\\color{orange}{E[\\hat{y}^2]-E[\\hat{y}]^2})}{Var(\\vec{y})\\color{orange}{Var(\\hat{y})}}\n",
    "\\\\\\\\\n",
    "&=\\frac{E[\\hat{y}^2]^\\color{orange}{2}-2E[\\vec{y}]E[\\hat{y}]\\color{orange}{E[\\hat{y}^2]}+E[\\vec{y}]^2\\color{orange}{E[\\hat{y}^2]}\n",
    "-E[\\hat{y}^2]\\color{orange}{E[\\hat{y}]^2}+2E[\\vec{y}]E[\\hat{y}]\\color{orange}{E[\\hat{y}]^2}-E[\\vec{y}]^2\\color{orange}{E[\\hat{y}]^2}\n",
    "}{Var(\\vec{y})\\color{orange}{Var(\\hat{y})}}\n",
    "% \\\\\\\\\n",
    "% &=\\frac{E[\\hat{y}^2]^2+E[\\vec{y}]^2E[\\hat{y}^2]\n",
    "% -E[\\hat{y}^2]E[\\hat{y}]^2-E[\\vec{y}]^2E[\\hat{y}]^2\n",
    "% }{Var(\\vec{y})Var(\\hat{y})}\n",
    "\\end{align}\n",
    "$"
   ]
  },
  {
   "cell_type": "markdown",
   "metadata": {
    "hideCode": true,
    "slideshow": {
     "slide_type": "subslide"
    }
   },
   "source": [
    "Next we use $\\hat{y}\\cdot\\hat{y}=\\vec{y}\\cdot\\hat{y}$ to simplify\n",
    "$$\n",
    "\\frac{E[\\color{red}{\\hat{y}^2}]^2-2E[\\vec{y}]E[\\hat{y}]E[\\color{red}{\\hat{y}^2}]+E[\\vec{y}]^2E[\\color{red}{\\hat{y}^2}]\n",
    "-E[\\color{red}{\\hat{y}^2}]E[\\hat{y}]^2+2E[\\vec{y}]E[\\hat{y}]E[\\hat{y}]^2-E[\\vec{y}]^2E[\\hat{y}]^2\n",
    "}{Var(\\vec{y})Var(\\hat{y})}\n",
    "=\\frac{E[\\color{red}{\\vec{y}\\hat{y}}]^2-2E[\\vec{y}]E[\\hat{y}]E[\\color{red}{\\vec{y}\\hat{y}}]+E[\\vec{y}]^2E[\\color{red}{\\vec{y}\\hat{y}}]\n",
    "-E[\\color{red}{\\vec{y}\\hat{y}}]E[\\hat{y}]^2+2E[\\vec{y}]E[\\hat{y}]E[\\hat{y}]^2-E[\\vec{y}]^2E[\\hat{y}]^2\n",
    "}{Var(\\vec{y})Var(\\hat{y})}\n",
    "=\\frac{\n",
    "E[\\vec{y}\\hat{y}]^2\n",
    "+E[\\vec{y}\\hat{y}](\\color{green}{E[\\vec{y}]^2}-2E[\\vec{y}]E[\\hat{y}]-\\color{green}{E[\\hat{y}]^2})\n",
    "+2E[\\vec{y}]\\color{green}{E[\\hat{y}]}E[\\hat{y}]^2-E[\\vec{y}]^2E[\\hat{y}]^2\n",
    "}{Var(\\vec{y})Var(\\hat{y})}\n",
    "$$\n",
    "\n",
    "Now we use $E[\\vec{y}]=E[\\hat{y}]$ if we assume that the regression model includes an intercept\n",
    "$$\n",
    "\\frac{\n",
    "E[\\vec{y}\\hat{y}]^2\n",
    "-2E[\\vec{y}\\hat{y}]E[\\vec{y}]E[\\hat{y}]\n",
    "+2\\color{green}{E[\\vec{y}]^2}E[\\hat{y}]^2-E[\\vec{y}]^2E[\\hat{y}]^2\n",
    "}{Var(\\vec{y})Var(\\hat{y})}\n",
    "=\\frac{\n",
    "E[\\vec{y}\\hat{y}]^2\n",
    "-2E[\\vec{y}\\hat{y}]E[\\vec{y}]E[\\hat{y}]\n",
    "+E[\\vec{y}]^2E[\\hat{y}]^2\n",
    "}{Var(\\vec{y})Var(\\hat{y})}\n",
    "$$\n",
    "Factoring the numerator, we get\n",
    "$$\n",
    "\\frac{\\left(E[\\vec{y}\\hat{y}]-E[\\vec{y}]E[\\hat{y}]\\right)^2}{Var(\\vec{y})Var(\\hat{y})}\n",
    "=\\left(\\frac{cov(\\vec{y},\\hat{y})}{\\sqrt{Var(\\vec{y})}\\cdot\\sqrt{Var(\\hat{y})}}\\right)^2\n",
    "=\\left(\\rho_{\\hat{y}\\vec{y}}\\right)^2\n",
    "$$\n",
    "\n",
    "Note I showed this for OLS regressoin, but it's actually true for any prediction (i.e., for any method for producing $\\hat{y}$)."
   ]
  },
  {
   "cell_type": "markdown",
   "metadata": {
    "slideshow": {
     "slide_type": "subslide"
    }
   },
   "source": [
    "Let's combine $R^2$ with our discussion of multicollinearity to understand our predictions of annual wages.\n",
    "\n",
    "Previously, we considered a data set of 230 skills across 800 occupations and used OLS regression on just a few of those skills to predict occupations' annual wage.\n",
    "\n",
    "We saw that some pairs of skills are strongly correlated with each other (e.g., Deductive Reasoning and Critical Thinking) and including those skills in the OLS regression model biased coefficient estimates (e.g., changing the sign from positive to negative).\n",
    "\n",
    "However, despite potentially misleading coefficient estimates, the model containing more skills predicts annual wages better then the models with fewer variables (see purple bar on right)."
   ]
  },
  {
   "cell_type": "code",
   "execution_count": 38,
   "metadata": {
    "slideshow": {
     "slide_type": "fragment"
    }
   },
   "outputs": [
    {
     "data": {
      "image/png": "[encoded data removed]",
      "text/plain": [
       "<Figure size 1080x432 with 2 Axes>"
      ]
     },
     "metadata": {
      "needs_background": "light"
     },
     "output_type": "display_data"
    }
   ],
   "source": [
    "models = [\n",
    "        [\"Critical Thinking\",],\n",
    "        [\"Manual Dexterity\",],\n",
    "        [\"Critical Thinking\",\"Manual Dexterity\",],\n",
    "        [\"Critical Thinking\",\"Manual Dexterity\",\"Complex Problem Solving\",\"Deductive Reasoning\",],\n",
    "]\n",
    "visualizeMultiOLS(data,\"Annual Wage\",models,addIntercept=True,standardize=True)"
   ]
  },
  {
   "cell_type": "markdown",
   "metadata": {
    "slideshow": {
     "slide_type": "subslide"
    }
   },
   "source": [
    "Adding an additional variable to an OLS regression model will always increase or, at worst, not change the model's $R^2$.\n",
    "\n",
    "$$\n",
    "R^2 = \\frac{\\text{Explained Variance}}{\\text{Total Variance}}\n",
    "$$\n",
    "\n",
    "If the new variable does contribute some new information, it will help increase the Explained Variance since the model can fit the data better.\n",
    "\n",
    "If the new variable doesn't contribute new information, it might not increase the Explained Variance  but it won't increase it either."
   ]
  },
  {
   "cell_type": "code",
   "execution_count": 143,
   "metadata": {
    "slideshow": {
     "slide_type": "skip"
    }
   },
   "outputs": [
    {
     "name": "stdout",
     "output_type": "stream",
     "text": [
      "VIF(Complex Problem Solving) = 1.016\n",
      "VIF(Manual Dexterity) = 1.016\n"
     ]
    }
   ],
   "source": [
    "# from before. Start with all variables and experiment with removing them\n",
    "temp = data[[\n",
    "    \"Critical Thinking\",\n",
    "    \"Deductive Reasoning\",\n",
    "    \"Complex Problem Solving\",\n",
    "    \"Manual Dexterity\"\n",
    "]].copy()\n",
    "for f in temp.columns:\n",
    "    print(\"VIF(%s) = %0.3f\" % (f,VIF(temp[f],temp.drop(columns=f))))"
   ]
  },
  {
   "cell_type": "code",
   "execution_count": 40,
   "metadata": {
    "slideshow": {
     "slide_type": "fragment"
    }
   },
   "outputs": [
    {
     "data": {
      "image/png": "[encoded data removed]",
      "text/plain": [
       "<Figure size 1080x432 with 2 Axes>"
      ]
     },
     "metadata": {
      "needs_background": "light"
     },
     "output_type": "display_data"
    }
   ],
   "source": [
    "models = [\n",
    "    [\"Deductive Reasoning\",\"Manual Dexterity\",],\n",
    "    [\"Deductive Reasoning\",\"Critical Thinking\",\"Complex Problem Solving\",\"Manual Dexterity\",],\n",
    "]\n",
    "visualizeMultiOLS(data,\"Annual Wage\",models,addIntercept=True,standardize=True)"
   ]
  },
  {
   "cell_type": "markdown",
   "metadata": {
    "slideshow": {
     "slide_type": "subslide"
    }
   },
   "source": [
    "If the new variable is collinear with existing variables, then it is not actually increasing the information available to the model, but it will still increase $R^2$\n",
    "\n",
    "This motivates **Adjusted $R^2$** that penalizes models with extra variables. `\n",
    "\n",
    "There are multiple ways to penalize large models. But the most common is \n",
    "$$\n",
    "\\text{adj }R^2 = 1-\\left(1-R^2\\right)\\frac{n-1}{n-p-1}\n",
    "$$\n",
    "where $n$ is the number of rows of data and $p$ is the number of variables in the model.\n",
    "\n",
    "Note that adj $R^2$ can actually be negative if $n< p+1$"
   ]
  },
  {
   "cell_type": "code",
   "execution_count": 146,
   "metadata": {
    "slideshow": {
     "slide_type": "subslide"
    }
   },
   "outputs": [],
   "source": [
    "# Generate synthetic data with increasing number of variables\n",
    "np.random.seed(42)\n",
    "n = 200  # number of samples\n",
    "k_list = np.arange(1, 50, 5)  # different numbers of predictors\n",
    "r2_data = np.zeros((len(k_list),2))\n",
    "\n",
    "for i in range(len(k_list)):\n",
    "    k = k_list[i]\n",
    "    X = np.random.randn(n, k)\n",
    "    # True relationship only depends on first variable\n",
    "    y = X[:, 0] + np.random.randn(n) * 0.5\n",
    "    \n",
    "    # Fit model\n",
    "    model = LinearRegression().fit(X, y)\n",
    "    \n",
    "    # Calculate R2 and adjusted R2\n",
    "    r2 = model.score(X, y)\n",
    "    adj_r2 = 1 - (1 - r2) * (n - 1) / (n - k - 1)\n",
    "    r2_data[i,:] = [r2,adj_r2]"
   ]
  },
  {
   "cell_type": "code",
   "execution_count": 147,
   "metadata": {
    "hideCode": false,
    "hidePrompt": false,
    "slideshow": {
     "slide_type": "subslide"
    }
   },
   "outputs": [
    {
     "data": {
      "image/png": "[encoded data removed]",
      "text/plain": [
       "<Figure size 720x432 with 1 Axes>"
      ]
     },
     "metadata": {
      "needs_background": "light"
     },
     "output_type": "display_data"
    }
   ],
   "source": [
    "# hide\n",
    "plt.figure(figsize=(10, 6))\n",
    "plt.plot(k_list, r2_data[:,0], 'b-', label='R²',lw=3)\n",
    "plt.plot(k_list, r2_data[:,1], 'r--', label='Adjusted R²',lw=3)\n",
    "plt.xlabel('Number of Predictors',fontsize=15)\n",
    "plt.ylabel('R² Value',fontsize=15)\n",
    "plt.title('R² vs Adjusted R² with Increasing Number of Predictors',fontsize=15)\n",
    "plt.xticks(fontsize=15)\n",
    "plt.yticks(fontsize=15)\n",
    "plt.legend(fontsize=15);"
   ]
  },
  {
   "cell_type": "code",
   "execution_count": 148,
   "metadata": {
    "slideshow": {
     "slide_type": "subslide"
    }
   },
   "outputs": [
    {
     "data": {
      "text/html": [
       "<div>\n",
       "<style scoped>\n",
       "    .dataframe tbody tr th:only-of-type {\n",
       "        vertical-align: middle;\n",
       "    }\n",
       "\n",
       "    .dataframe tbody tr th {\n",
       "        vertical-align: top;\n",
       "    }\n",
       "\n",
       "    .dataframe thead th {\n",
       "        text-align: right;\n",
       "    }\n",
       "</style>\n",
       "<table border=\"1\" class=\"dataframe\">\n",
       "  <thead>\n",
       "    <tr style=\"text-align: right;\">\n",
       "      <th>Model</th>\n",
       "      <th>1.0</th>\n",
       "      <th>2.0</th>\n",
       "      <th>3.0</th>\n",
       "      <th>4.0</th>\n",
       "      <th>5.0</th>\n",
       "    </tr>\n",
       "  </thead>\n",
       "  <tbody>\n",
       "    <tr>\n",
       "      <th>R2</th>\n",
       "      <td>0.126</td>\n",
       "      <td>0.248</td>\n",
       "      <td>0.250</td>\n",
       "      <td>0.306</td>\n",
       "      <td>0.727</td>\n",
       "    </tr>\n",
       "    <tr>\n",
       "      <th>adj R2</th>\n",
       "      <td>0.125</td>\n",
       "      <td>0.247</td>\n",
       "      <td>0.248</td>\n",
       "      <td>0.305</td>\n",
       "      <td>0.697</td>\n",
       "    </tr>\n",
       "    <tr>\n",
       "      <th>variable count</th>\n",
       "      <td>2.000</td>\n",
       "      <td>3.000</td>\n",
       "      <td>4.000</td>\n",
       "      <td>5.000</td>\n",
       "      <td>233.000</td>\n",
       "    </tr>\n",
       "  </tbody>\n",
       "</table>\n",
       "</div>"
      ],
      "text/plain": [
       "Model             1.0    2.0    3.0    4.0      5.0\n",
       "R2              0.126  0.248  0.250  0.306    0.727\n",
       "adj R2          0.125  0.247  0.248  0.305    0.697\n",
       "variable count  2.000  3.000  4.000  5.000  233.000"
      ]
     },
     "execution_count": 148,
     "metadata": {},
     "output_type": "execute_result"
    }
   ],
   "source": [
    "# What about our skills/wage data?\n",
    "models = [\n",
    "    [\"Deductive Reasoning\",],\n",
    "    [\"Deductive Reasoning\",\"Manual Dexterity\",],\n",
    "    [\"Deductive Reasoning\",\"Manual Dexterity\",\"Critical Thinking\",],\n",
    "    [\"Deductive Reasoning\",\"Manual Dexterity\",\"Critical Thinking\",\"Complex Problem Solving\",],\n",
    "    list(data.drop(columns=\"Annual Wage\").columns),\n",
    "]\n",
    "y = data[\"Annual Wage\"]\n",
    "z = np.zeros((len(models),4))\n",
    "for i in range(len(models)):\n",
    "    model = models[i]\n",
    "    n,p = len(data),len(model)+1\n",
    "    yhat = LinearRegression(fit_intercept=True).fit(data[model],y).predict(data[model])\n",
    "    R2 = scipy.stats.pearsonr(yhat,y)[0]**2\n",
    "    adjR2 = 1-(1-R2)*(n-1)/(n-p-1)\n",
    "    z[i,:] = i+1,R2,adjR2,p\n",
    "pd.DataFrame(data=z,columns=[\"Model\",\"R2\",\"adj R2\",'variable count']).set_index('Model').map(regRelabel).T"
   ]
  },
  {
   "cell_type": "markdown",
   "metadata": {
    "slideshow": {
     "slide_type": "fragment"
    }
   },
   "source": [
    "Many skills contribute to the model's annual wage prediction, but some skills are redundant. And other factors not captured by skills may explain the remaining variance in annual wages that is not explained by skills alone."
   ]
  },
  {
   "cell_type": "markdown",
   "metadata": {
    "slideshow": {
     "slide_type": "slide"
    }
   },
   "source": [
    "# LASSO Regression\n",
    "\n",
    "Another option for handling models with many variables is to consider alternatives to OLS regression.\n",
    "\n",
    "**LASSO regression** adds a penalty equal to the absolute value of the magnitude of the coefficients to the model's predictive performance, thus promoting sparsity in the coefficients.\n",
    "\n",
    "As with OLS, LASSO regression solves the problem \n",
    "$\n",
    "\\gmath\n",
    "M\\vec{x}=\\vec{y}\n",
    "\\gap\n",
    "$\n",
    "by calculating\n",
    "$\n",
    "\\gmath\n",
    "\\hat{\\beta}=(M^TM)^{-1}M^T\\vec{y}\n",
    "\\gap\n",
    "$\n",
    "so that $M\\hat{\\beta}=\\hat{y}\\approx\\vec{y}$"
   ]
  },
  {
   "cell_type": "markdown",
   "metadata": {
    "slideshow": {
     "slide_type": "subslide"
    }
   },
   "source": [
    "But, instead of minimizing residuals squared, LASSO additionally penalizes for the magnitude of the estimated coefficients:\n",
    "$$\n",
    "    \\frac{1}{2n} \\sum_{i=1}^{n} (\\vec{y}_i - \\hat{y}_i)^2 + \\alpha \\sum_{j=1}^{p} |\\hat{\\beta}_j|\n",
    "$$\n",
    "where $\\alpha$ is the tuning parameter that controls the strength of the penalty.\n",
    "\n",
    "The $\\gmath \\alpha \\sum_{j=1}^{p} |\\hat{\\beta}_j|$ term is minimized either \n",
    "1. by finding smaller coefficients (but coefficients are determined by the data!)\n",
    "2. or removing variables from the model (i.e., setting coefficients to $\\hat{\\beta}_j=0$)\n",
    "\n",
    "As $\\alpha$ increases, more coefficients are pushed towards zero, effectively performing variable selection."
   ]
  },
  {
   "cell_type": "markdown",
   "metadata": {
    "slideshow": {
     "slide_type": "subslide"
    }
   },
   "source": [
    "Let's again use the skills-wage data to explore this."
   ]
  },
  {
   "cell_type": "code",
   "execution_count": 44,
   "metadata": {
    "slideshow": {
     "slide_type": "fragment"
    }
   },
   "outputs": [],
   "source": [
    "from sklearn.linear_model import LinearRegression,Lasso\n",
    "y = data[\"Annual Wage\"]\n",
    "x = data.drop(columns=\"Annual Wage\")\n",
    "ols = LinearRegression(fit_intercept=True).fit(x,y)\n",
    "yhat_ols = ols.predict(x)\n",
    "lasso = Lasso(\n",
    "    alpha=1,\n",
    "    fit_intercept=True,\n",
    "    max_iter=100_000, # the calculation needs to run extra iterations for our data\n",
    ").fit(x,y)\n",
    "yhat_lasso = lasso.predict(x) "
   ]
  },
  {
   "cell_type": "code",
   "execution_count": 45,
   "metadata": {
    "slideshow": {
     "slide_type": "subslide"
    }
   },
   "outputs": [
    {
     "data": {
      "text/plain": [
       "(0.7267812167540603, 0.7257723736655329)"
      ]
     },
     "execution_count": 45,
     "metadata": {},
     "output_type": "execute_result"
    }
   ],
   "source": [
    "r2_ols = scipy.stats.pearsonr(y,yhat_ols)[0]**2\n",
    "r2_lasso = scipy.stats.pearsonr(y,yhat_lasso)[0]**2\n",
    "r2_ols,r2_lasso"
   ]
  },
  {
   "cell_type": "code",
   "execution_count": 46,
   "metadata": {
    "hideCode": false,
    "hidePrompt": false,
    "slideshow": {
     "slide_type": "fragment"
    }
   },
   "outputs": [
    {
     "data": {
      "application/vnd.jupyter.widget-view+json": {
       "model_id": "b360a44b9a7e41bd83ebce23471e5348",
       "version_major": 2,
       "version_minor": 0
      },
      "text/plain": [
       "interactive(children=(FloatSlider(value=0.0, description='w', max=0.0, min=-4.0, step=0.01), Output()), _dom_c…"
      ]
     },
     "metadata": {},
     "output_type": "display_data"
    }
   ],
   "source": [
    "#hide \n",
    "beta_ols = ols.coef_\n",
    "beta_lasso = lasso.coef_\n",
    "\n",
    "def scaledCoefCompare(w=1):\n",
    "    plt.figure(figsize=(10,4))\n",
    "    plt.plot(beta_ols,'o',label=\"OLS\")\n",
    "    plt.plot(beta_lasso,'o',label=\"LASSO\")\n",
    "    yy = plt.ylim()\n",
    "    plt.ylim(((10**w)*yy[0],(10**w)*yy[1]))\n",
    "    plt.legend(ncols=2,fontsize=15)\n",
    "    plt.xticks(fontsize=15)\n",
    "    plt.yticks(fontsize=15)\n",
    "    plt.xlabel(\"Coefficient Index ($j$)\",fontsize=15)\n",
    "    plt.ylabel(\"Regression Coefficient ($\\\\hat{\\\\beta}_j$)\",fontsize=15)\n",
    "    plt.tight_layout()\n",
    "\n",
    "    \n",
    "# W = np.hstack((np.linspace(.0001,.02,10),np.arange(.02,1,.01)))\n",
    "# W = [,.02,.03,1]\n",
    "widgets.interact(scaledCoefCompare,\n",
    "#                  w=(0,1,.01),\n",
    "#                  w=W,\n",
    "                 w = (-4,0,.01)\n",
    "                );"
   ]
  },
  {
   "cell_type": "code",
   "execution_count": 47,
   "metadata": {
    "slideshow": {
     "slide_type": "subslide"
    }
   },
   "outputs": [],
   "source": [
    "n = 100\n",
    "np.random.seed(123)\n",
    "\n",
    "true_beta = np.array([1, 0.5, 0.1, 0])  # True coefficients with one being exactly 0\n",
    "X = np.random.random((n,4))\n",
    "X[:,1] = .1*X[:,0] # create correlated data\n",
    "\n",
    "epsilon = np.random.normal(0, 0.5, n)  # Generate noise\n",
    "y = X @ true_beta + epsilon  # Generate response variable\n",
    "\n",
    "# Standardize X \n",
    "X = (X - X.mean(0)) / X.std(0)\n",
    "y = (y - y.mean()) / y.std()\n",
    "\n",
    "# Fit OLS\n",
    "ols = LinearRegression()\n",
    "ols.fit(X, y)\n",
    "\n",
    "# Fit LASSO with different alphas\n",
    "alphas = [0.01, 0.1, 1.0]\n",
    "lasso_models = []\n",
    "for alpha in alphas:\n",
    "    lasso = Lasso(alpha=alpha,fit_intercept=False)\n",
    "    lasso.fit(X, y)\n",
    "    lasso_models.append(lasso)"
   ]
  },
  {
   "cell_type": "code",
   "execution_count": 48,
   "metadata": {
    "hideCode": false,
    "hidePrompt": false,
    "slideshow": {
     "slide_type": "subslide"
    }
   },
   "outputs": [
    {
     "data": {
      "text/plain": [
       "Text(0, 0.5, 'Value')"
      ]
     },
     "execution_count": 48,
     "metadata": {},
     "output_type": "execute_result"
    },
    {
     "data": {
      "image/png": "[encoded data removed]",
      "text/plain": [
       "<Figure size 720x432 with 1 Axes>"
      ]
     },
     "metadata": {
      "needs_background": "light"
     },
     "output_type": "display_data"
    }
   ],
   "source": [
    "#hide\n",
    "# Plot results\n",
    "fig, ax = plt.subplots(figsize=(10, 6))\n",
    "\n",
    "x = np.arange(4)\n",
    "width = 0.15\n",
    "\n",
    "ax.bar(x - 2*width, true_beta, width, label='True Beta', color='black')\n",
    "ax.bar(x - width, ols.coef_, width, label='OLS', color='blue', alpha=0.7)\n",
    "\n",
    "colors = ['lightgreen', 'green', 'darkgreen']\n",
    "for i, (alpha, lasso) in enumerate(zip(alphas, lasso_models)):\n",
    "    ax.bar(x + i*width, lasso.coef_, width, \n",
    "           label=f'LASSO α={alpha}', color=colors[i], alpha=0.7)\n",
    "\n",
    "ax.set_xticks(x)\n",
    "ax.set_xticklabels(\n",
    "    ['$\\\\hat{\\\\beta}_1$', '$\\\\hat{\\\\beta}_2$', '$\\\\hat{\\\\beta}_3$', '$\\\\hat{\\\\beta}_4$'],\n",
    "    fontsize=15\n",
    ")\n",
    "ax.axhline(y=0, color='black', linestyle='-', alpha=0.3)\n",
    "\n",
    "plt.legend()\n",
    "plt.title('Coefficient Estimates: True vs OLS vs LASSO',fontsize=15)\n",
    "plt.xlabel('Coefficients',fontsize=15)\n",
    "plt.ylabel('Value',fontsize=15)"
   ]
  },
  {
   "cell_type": "markdown",
   "metadata": {
    "slideshow": {
     "slide_type": "subslide"
    }
   },
   "source": [
    "Which approach is most predictive?"
   ]
  },
  {
   "cell_type": "code",
   "execution_count": 49,
   "metadata": {
    "hideCode": false,
    "hidePrompt": false,
    "slideshow": {
     "slide_type": "fragment"
    }
   },
   "outputs": [
    {
     "data": {
      "text/html": [
       "<div>\n",
       "<style scoped>\n",
       "    .dataframe tbody tr th:only-of-type {\n",
       "        vertical-align: middle;\n",
       "    }\n",
       "\n",
       "    .dataframe tbody tr th {\n",
       "        vertical-align: top;\n",
       "    }\n",
       "\n",
       "    .dataframe thead th {\n",
       "        text-align: right;\n",
       "    }\n",
       "</style>\n",
       "<table border=\"1\" class=\"dataframe\">\n",
       "  <thead>\n",
       "    <tr style=\"text-align: right;\">\n",
       "      <th></th>\n",
       "      <th>R2</th>\n",
       "      <th>adj R2</th>\n",
       "    </tr>\n",
       "  </thead>\n",
       "  <tbody>\n",
       "    <tr>\n",
       "      <th>OLS</th>\n",
       "      <td>0.366560</td>\n",
       "      <td>0.339889</td>\n",
       "    </tr>\n",
       "    <tr>\n",
       "      <th>LASSO a=.01</th>\n",
       "      <td>0.366314</td>\n",
       "      <td>0.346511</td>\n",
       "    </tr>\n",
       "    <tr>\n",
       "      <th>LASSO a=.1</th>\n",
       "      <td>0.358977</td>\n",
       "      <td>0.352436</td>\n",
       "    </tr>\n",
       "    <tr>\n",
       "      <th>LASSO a=1</th>\n",
       "      <td>NaN</td>\n",
       "      <td>NaN</td>\n",
       "    </tr>\n",
       "  </tbody>\n",
       "</table>\n",
       "</div>"
      ],
      "text/plain": [
       "                   R2    adj R2\n",
       "OLS          0.366560  0.339889\n",
       "LASSO a=.01  0.366314  0.346511\n",
       "LASSO a=.1   0.358977  0.352436\n",
       "LASSO a=1         NaN       NaN"
      ]
     },
     "execution_count": 49,
     "metadata": {},
     "output_type": "execute_result"
    }
   ],
   "source": [
    "import warnings\n",
    "r2 = [ols.score(X,y),]+[lasso.score(X,y) for lasso in lasso_models]\n",
    "\n",
    "def getR2(model):\n",
    "    warnings.simplefilter(\"ignore\")\n",
    "    yhat = model.predict(X)\n",
    "    r2 = scipy.stats.pearsonr(y,yhat)[0]**2\n",
    "    p = np.sum(model.coef_ != 0)\n",
    "    adjR2 = 1-(1-r2)*(n-1)/(n-p-1)\n",
    "    return r2,adjR2\n",
    "\n",
    "r = []\n",
    "for model in [ols,]+lasso_models:\n",
    "    r2,adjR2 = getR2(model)\n",
    "    r.append([r2,adjR2])\n",
    "pd.DataFrame(\n",
    "    data = r,\n",
    "    columns = [\"R2\",\"adj R2\"],\n",
    "    index = [\"OLS\",\"LASSO a=.01\",\"LASSO a=.1\",\"LASSO a=1\"],\n",
    ")"
   ]
  },
  {
   "cell_type": "markdown",
   "metadata": {
    "slideshow": {
     "slide_type": "slide"
    }
   },
   "source": [
    "# Logistic Regression\n",
    "\n",
    "OLS and LASSO regression assume a model with the same functional form:\n",
    "$$\n",
    "    y\\sim \\beta_0+\\sum_{i=1}^n \\beta_i\\cdot x_i\n",
    "$$\n",
    "\n",
    "But the method for estimating the coefficients $\\hat{\\beta}_i$ is applicable in many other problems. "
   ]
  },
  {
   "cell_type": "markdown",
   "metadata": {
    "slideshow": {
     "slide_type": "subslide"
    }
   },
   "source": [
    "For example, we can use a similar methodological approach to model a binary variable. \n",
    "\n",
    "To demonstrate this, we will use a publicly-available data set from <a href=\"https://www.kaggle.com/competitions/titanic\">Kaggle</a> describing the demographics of Titanic passengers and a binary variable indicating if the person passed away (i.e., $\\vec{y}_i=0$) or survived (i.e., $\\vec{y}_i=1$).\n",
    "\n",
    "Additional variables include the passengers' age, gender, ticket number, ticket class (e.g., first class ticket holders), number of family onboard, the amount paid for the ticket, cabin number, and their port of embarkment.\n",
    "\n"
   ]
  },
  {
   "cell_type": "code",
   "execution_count": 153,
   "metadata": {
    "slideshow": {
     "slide_type": "subslide"
    }
   },
   "outputs": [
    {
     "data": {
      "text/html": [
       "<div>\n",
       "<style scoped>\n",
       "    .dataframe tbody tr th:only-of-type {\n",
       "        vertical-align: middle;\n",
       "    }\n",
       "\n",
       "    .dataframe tbody tr th {\n",
       "        vertical-align: top;\n",
       "    }\n",
       "\n",
       "    .dataframe thead th {\n",
       "        text-align: right;\n",
       "    }\n",
       "</style>\n",
       "<table border=\"1\" class=\"dataframe\">\n",
       "  <thead>\n",
       "    <tr style=\"text-align: right;\">\n",
       "      <th></th>\n",
       "      <th>PassengerId</th>\n",
       "      <th>Survived</th>\n",
       "      <th>Pclass</th>\n",
       "      <th>Name</th>\n",
       "      <th>Sex</th>\n",
       "      <th>Age</th>\n",
       "      <th>SibSp</th>\n",
       "      <th>Parch</th>\n",
       "      <th>Ticket</th>\n",
       "      <th>Fare</th>\n",
       "      <th>Cabin</th>\n",
       "      <th>Embarked</th>\n",
       "    </tr>\n",
       "  </thead>\n",
       "  <tbody>\n",
       "    <tr>\n",
       "      <th>0</th>\n",
       "      <td>1</td>\n",
       "      <td>0</td>\n",
       "      <td>3</td>\n",
       "      <td>Braund, Mr. Owen Harris</td>\n",
       "      <td>True</td>\n",
       "      <td>22.0</td>\n",
       "      <td>1</td>\n",
       "      <td>0</td>\n",
       "      <td>A/5 21171</td>\n",
       "      <td>7.2500</td>\n",
       "      <td>NaN</td>\n",
       "      <td>S</td>\n",
       "    </tr>\n",
       "    <tr>\n",
       "      <th>1</th>\n",
       "      <td>2</td>\n",
       "      <td>1</td>\n",
       "      <td>1</td>\n",
       "      <td>Cumings, Mrs. John Bradley (Florence Briggs Th...</td>\n",
       "      <td>False</td>\n",
       "      <td>38.0</td>\n",
       "      <td>1</td>\n",
       "      <td>0</td>\n",
       "      <td>PC 17599</td>\n",
       "      <td>71.2833</td>\n",
       "      <td>C85</td>\n",
       "      <td>C</td>\n",
       "    </tr>\n",
       "    <tr>\n",
       "      <th>2</th>\n",
       "      <td>3</td>\n",
       "      <td>1</td>\n",
       "      <td>3</td>\n",
       "      <td>Heikkinen, Miss. Laina</td>\n",
       "      <td>False</td>\n",
       "      <td>26.0</td>\n",
       "      <td>0</td>\n",
       "      <td>0</td>\n",
       "      <td>STON/O2. 3101282</td>\n",
       "      <td>7.9250</td>\n",
       "      <td>NaN</td>\n",
       "      <td>S</td>\n",
       "    </tr>\n",
       "    <tr>\n",
       "      <th>3</th>\n",
       "      <td>4</td>\n",
       "      <td>1</td>\n",
       "      <td>1</td>\n",
       "      <td>Futrelle, Mrs. Jacques Heath (Lily May Peel)</td>\n",
       "      <td>False</td>\n",
       "      <td>35.0</td>\n",
       "      <td>1</td>\n",
       "      <td>0</td>\n",
       "      <td>113803</td>\n",
       "      <td>53.1000</td>\n",
       "      <td>C123</td>\n",
       "      <td>S</td>\n",
       "    </tr>\n",
       "    <tr>\n",
       "      <th>4</th>\n",
       "      <td>5</td>\n",
       "      <td>0</td>\n",
       "      <td>3</td>\n",
       "      <td>Allen, Mr. William Henry</td>\n",
       "      <td>True</td>\n",
       "      <td>35.0</td>\n",
       "      <td>0</td>\n",
       "      <td>0</td>\n",
       "      <td>373450</td>\n",
       "      <td>8.0500</td>\n",
       "      <td>NaN</td>\n",
       "      <td>S</td>\n",
       "    </tr>\n",
       "  </tbody>\n",
       "</table>\n",
       "</div>"
      ],
      "text/plain": [
       "   PassengerId  Survived  Pclass  \\\n",
       "0            1         0       3   \n",
       "1            2         1       1   \n",
       "2            3         1       3   \n",
       "3            4         1       1   \n",
       "4            5         0       3   \n",
       "\n",
       "                                                Name    Sex   Age  SibSp  \\\n",
       "0                            Braund, Mr. Owen Harris   True  22.0      1   \n",
       "1  Cumings, Mrs. John Bradley (Florence Briggs Th...  False  38.0      1   \n",
       "2                             Heikkinen, Miss. Laina  False  26.0      0   \n",
       "3       Futrelle, Mrs. Jacques Heath (Lily May Peel)  False  35.0      1   \n",
       "4                           Allen, Mr. William Henry   True  35.0      0   \n",
       "\n",
       "   Parch            Ticket     Fare Cabin Embarked  \n",
       "0      0         A/5 21171   7.2500   NaN        S  \n",
       "1      0          PC 17599  71.2833   C85        C  \n",
       "2      0  STON/O2. 3101282   7.9250   NaN        S  \n",
       "3      0            113803  53.1000  C123        S  \n",
       "4      0            373450   8.0500   NaN        S  "
      ]
     },
     "execution_count": 153,
     "metadata": {},
     "output_type": "execute_result"
    }
   ],
   "source": [
    "data = pd.read_csv(\"./titanic/train.csv\")\n",
    "data[\"Sex\"] = data[\"Sex\"].apply(lambda s: s == \"male\")\n",
    "data.head()"
   ]
  },
  {
   "cell_type": "markdown",
   "metadata": {
    "slideshow": {
     "slide_type": "subslide"
    }
   },
   "source": [
    "The approach is to fit a logistic curve \n",
    "$\n",
    "\\gmath\n",
    "y \\sim  \\frac{1}{1 + e^{-x}}\n",
    "\\gap\n",
    "$\n",
    "to the data.\n",
    "\n",
    "After fitting the logistic curve to the binary variable, we can apply the model to other data where the outcome is unknown. In this case, the model gives us a probability that the outcome is 1."
   ]
  },
  {
   "cell_type": "code",
   "execution_count": 154,
   "metadata": {
    "hideCode": false,
    "hidePrompt": false,
    "slideshow": {
     "slide_type": "fragment"
    }
   },
   "outputs": [
    {
     "data": {
      "image/png": "[encoded data removed]",
      "text/plain": [
       "<Figure size 576x432 with 1 Axes>"
      ]
     },
     "metadata": {
      "needs_background": "light"
     },
     "output_type": "display_data"
    }
   ],
   "source": [
    "# hide\n",
    "from sklearn.linear_model import LogisticRegression\n",
    "n = 1000\n",
    "x = np.hstack((.4*np.random.rand(n),.4*np.random.rand(n)+.6))\n",
    "y = np.hstack((np.zeros(n),np.ones(n)))\n",
    "\n",
    "\n",
    "L = LogisticRegression(fit_intercept=True).fit(x[:,np.newaxis],y)\n",
    "xx = np.linspace(0,1,20)\n",
    "yy = L.predict_proba(xx[:,np.newaxis])[:,1]\n",
    "plt.figure(figsize=(8,6))\n",
    "plt.plot(x[:10],y[:10],'o',color='b',markersize=10,alpha=1,label=\"Data\")\n",
    "plt.plot(x[-10:],y[-10:],'o',color='b',markersize=10,alpha=1,label=\"_Data\")\n",
    "plt.plot(xx,yy,lw=3,color='r',label=\"Fitted\\nLogistic\\nCurve\")\n",
    "plt.xticks(fontsize=15)\n",
    "plt.yticks(fontsize=15)\n",
    "plt.xlabel(\"$x$\",fontsize=15)\n",
    "plt.ylabel(\"$y$\",fontsize=15)\n",
    "plt.legend(fontsize=15);"
   ]
  },
  {
   "cell_type": "markdown",
   "metadata": {
    "slideshow": {
     "slide_type": "subslide"
    }
   },
   "source": [
    "The visualization demonstrates the approach for a model containing a single variable, but we need to expand it to be able to include multiple independent variables.\n",
    "\n",
    "This approach is called **Logistic Regression** and it requires a small transformation of the logistic curve to turn it into a regression model.\n",
    "\n",
    "For simplicity, let's represent a linear model containing multiple variables using \n",
    "$$\n",
    "M = \\beta_0+\\sum_{i=1}^n \\beta_i\\cdot x_i\n",
    "$$\n",
    "\n",
    "Then we want to fit the logistic curve:\n",
    "$\n",
    "\\gmath\n",
    "y\\sim \\frac{1}{1+e^{-M}}\n",
    "$"
   ]
  },
  {
   "cell_type": "markdown",
   "metadata": {
    "slideshow": {
     "slide_type": "subslide"
    }
   },
   "source": [
    "Let's see this for a simple model $\\gmath M=\\beta_0 + \\beta_1\\cdot x_1$"
   ]
  },
  {
   "cell_type": "code",
   "execution_count": 162,
   "metadata": {
    "hideCode": false,
    "hidePrompt": false,
    "slideshow": {
     "slide_type": "fragment"
    }
   },
   "outputs": [
    {
     "data": {
      "application/vnd.jupyter.widget-view+json": {
       "model_id": "5f5247e3b0a94383ae76aec9e4b59fc0",
       "version_major": 2,
       "version_minor": 0
      },
      "text/plain": [
       "interactive(children=(FloatSlider(value=0.0, description='b', max=10.0, min=-10.0, step=0.05), FloatSlider(val…"
      ]
     },
     "metadata": {},
     "output_type": "display_data"
    }
   ],
   "source": [
    "# hide\n",
    "np.random.seed(534)\n",
    "n = 1000\n",
    "x = np.hstack((.4*np.random.rand(n),.4*np.random.rand(n)+.6))\n",
    "y = np.hstack((np.zeros(n),np.ones(n)))\n",
    "\n",
    "\n",
    "def logisticFitDemo(b,m):\n",
    "    L = lambda x: 1/(1+np.exp(-(b+m*x)))\n",
    "    xx = np.linspace(0,1,20)\n",
    "    yy = L(xx)\n",
    "    plt.figure(figsize=(8,6))\n",
    "    plt.plot(x[:10],y[:10],'o',color='b',markersize=10,alpha=1,label=\"Data\")\n",
    "    plt.plot(x[-10:],y[-10:],'o',color='b',markersize=10,alpha=1,label=\"_Data\")\n",
    "    plt.plot(xx,yy,lw=3,color='r',label=\"Fitted\\nLogistic\\nCurve\")\n",
    "    plt.xticks(fontsize=15)\n",
    "    plt.yticks(fontsize=15)\n",
    "    plt.xlabel(\"$x$\",fontsize=15)\n",
    "    plt.ylabel(\"$y$\",fontsize=15)\n",
    "#     plt.legend(fontsize=15);\n",
    "    plt.title(\"$y\\\\sim 1/(1+e^{%0.2f+%.2f\\\\cdot x})$\" % (b,m),fontsize=15)\n",
    "    plt.tight_layout()\n",
    "    \n",
    "# logisticFitDemo(0,3)\n",
    "widgets.interact(logisticFitDemo,b=(-10,10,.05),m=(0,10,.05));"
   ]
  },
  {
   "cell_type": "markdown",
   "metadata": {
    "slideshow": {
     "slide_type": "subslide"
    }
   },
   "source": [
    "Here is how it works. First, remember that the dependent variable $y$ is a binary variable in the data, but predictions $\\hat{y}$ are the probabilities of an outcome of 1.\n",
    "\n",
    "$$\n",
    "\\color{orange}{y} \n",
    "\\approx \\color{orange}{p(\\text{outcome})}=\\frac{1}{1+e^{-M}}\n",
    "\\gap\\Rightarrow\\gap\n",
    "1+e^{-M} = \\frac{1}{p(\\text{outcome})}\n",
    "\\gap\\Rightarrow\\gap\n",
    "M = -\\ln\\left(\\frac{1}{p(\\text{outcome})}-1\\right)\n",
    "$$\n",
    "\n",
    "$$\n",
    "\\Rightarrow\\gap\n",
    "M = -\\ln\\left(\\frac{1}{p(\\text{outcome})}-\\frac{p(\\text{outcome})}{p(\\text{outcome})}\\right)\n",
    "=\\color{red}{-}\\ln\\left(\\frac{1-p(\\text{outcome})}{p(\\text{outcome})}\\right)\n",
    "=\\ln\\left(\\left(\\frac{1-p(\\text{outcome})}{p(\\text{outcome})}\\right)^{\\color{red}{-1}}\\right)\n",
    "=\\ln\\left(\\frac{p(\\text{outcome})}{1-p(\\text{outcome})}\\right)\n",
    "$$\n",
    "\n",
    "In other words, we transform the problem into\n",
    "$\n",
    "\\gmath\n",
    "\\color{blue}{\\ln\\left(\\frac{p(\\text{outcome})}{1-p(\\text{outcome})}\\right)}\\sim M=\\beta_0+\\sum_{i=1}^n \\beta_i\\cdot x_i\n",
    "$\n",
    "\n",
    "The left-hand side is called the <font color=\"blue\">**log odds**</font> just like when you here odds in a gambling situtation (e.g., betting on the a sports team winning a game).\n",
    "\n",
    "If winning the game is $y=1$ and losing is $y=0$, then $p(\\text{outcome})$ is the probability of winning the game and $1-p(\\text{outcome})$ is the probability of losing the game. \n",
    "\n",
    "If $p(\\text{outcome})=2/3$, then $1-p(\\text{outcome})=1/3$ and $p(\\text{outcome})/(1-p(\\text{outcome})) = 2/1$ so we say you have \"2-to-1 odds\" of winning the bet."
   ]
  },
  {
   "cell_type": "markdown",
   "metadata": {
    "slideshow": {
     "slide_type": "subslide"
    }
   },
   "source": [
    "Let's try logistic regression on our Titanic data"
   ]
  },
  {
   "cell_type": "code",
   "execution_count": 156,
   "metadata": {
    "slideshow": {
     "slide_type": "fragment"
    }
   },
   "outputs": [
    {
     "data": {
      "text/html": [
       "<div>\n",
       "<style scoped>\n",
       "    .dataframe tbody tr th:only-of-type {\n",
       "        vertical-align: middle;\n",
       "    }\n",
       "\n",
       "    .dataframe tbody tr th {\n",
       "        vertical-align: top;\n",
       "    }\n",
       "\n",
       "    .dataframe thead th {\n",
       "        text-align: right;\n",
       "    }\n",
       "</style>\n",
       "<table border=\"1\" class=\"dataframe\">\n",
       "  <thead>\n",
       "    <tr style=\"text-align: right;\">\n",
       "      <th></th>\n",
       "      <th>prediction</th>\n",
       "      <th>Survived</th>\n",
       "      <th>predict Survive</th>\n",
       "    </tr>\n",
       "  </thead>\n",
       "  <tbody>\n",
       "    <tr>\n",
       "      <th>0</th>\n",
       "      <td>0.128649</td>\n",
       "      <td>0.0</td>\n",
       "      <td>False</td>\n",
       "    </tr>\n",
       "    <tr>\n",
       "      <th>1</th>\n",
       "      <td>0.820594</td>\n",
       "      <td>1.0</td>\n",
       "      <td>True</td>\n",
       "    </tr>\n",
       "    <tr>\n",
       "      <th>2</th>\n",
       "      <td>0.727612</td>\n",
       "      <td>1.0</td>\n",
       "      <td>True</td>\n",
       "    </tr>\n",
       "    <tr>\n",
       "      <th>3</th>\n",
       "      <td>0.779151</td>\n",
       "      <td>1.0</td>\n",
       "      <td>True</td>\n",
       "    </tr>\n",
       "    <tr>\n",
       "      <th>4</th>\n",
       "      <td>0.167321</td>\n",
       "      <td>0.0</td>\n",
       "      <td>False</td>\n",
       "    </tr>\n",
       "  </tbody>\n",
       "</table>\n",
       "</div>"
      ],
      "text/plain": [
       "   prediction  Survived  predict Survive\n",
       "0    0.128649       0.0            False\n",
       "1    0.820594       1.0             True\n",
       "2    0.727612       1.0             True\n",
       "3    0.779151       1.0             True\n",
       "4    0.167321       0.0            False"
      ]
     },
     "execution_count": 156,
     "metadata": {},
     "output_type": "execute_result"
    }
   ],
   "source": [
    "from sklearn.linear_model import LogisticRegression\n",
    "X = data[[\"Sex\",\"Age\",\"Fare\",\"SibSp\",\"Parch\"]].fillna(0)\n",
    "y = data[\"Survived\"].fillna(0)\n",
    "L = LogisticRegression(fit_intercept=True).fit(X,y)\n",
    "yhat = L.predict_proba(X)[:,1]\n",
    "outcome = pd.DataFrame(\n",
    "    data = np.vstack((yhat,y)).T,\n",
    "    columns=[\"prediction\",\"Survived\"]\n",
    ")\n",
    "outcome[\"predict Survive\"] = outcome[\"prediction\"] > .5\n",
    "outcome.head()"
   ]
  },
  {
   "cell_type": "code",
   "execution_count": 157,
   "metadata": {
    "hideCode": false,
    "hidePrompt": false,
    "slideshow": {
     "slide_type": "subslide"
    }
   },
   "outputs": [
    {
     "data": {
      "image/png": "[encoded data removed]",
      "text/plain": [
       "<Figure size 576x432 with 1 Axes>"
      ]
     },
     "metadata": {
      "needs_background": "light"
     },
     "output_type": "display_data"
    }
   ],
   "source": [
    "# hide\n",
    "xx = np.arange(len(y))\n",
    "I = np.argsort(y)\n",
    "plt.figure(figsize=(8,6))\n",
    "plt.plot(xx,y[I],'o',alpha=.7,label=\"$y$\")\n",
    "plt.plot(xx,yhat[I],'^',alpha=.7,label=\"$\\\\hat{y}$\")\n",
    "plt.legend(ncols=2,fontsize=15)\n",
    "plt.xticks(fontsize=15)\n",
    "plt.yticks(fontsize=15)\n",
    "plt.xlabel(\"Data Index (Sorted)\",fontsize=15)\n",
    "plt.ylabel(\"Probability Survived Titanic\",fontsize=15)\n",
    "plt.tight_layout()"
   ]
  },
  {
   "cell_type": "code",
   "execution_count": 158,
   "metadata": {
    "hideCode": false,
    "hidePrompt": false,
    "slideshow": {
     "slide_type": "subslide"
    }
   },
   "outputs": [
    {
     "data": {
      "text/html": [
       "<div>\n",
       "<style scoped>\n",
       "    .dataframe tbody tr th:only-of-type {\n",
       "        vertical-align: middle;\n",
       "    }\n",
       "\n",
       "    .dataframe tbody tr th {\n",
       "        vertical-align: top;\n",
       "    }\n",
       "\n",
       "    .dataframe thead th {\n",
       "        text-align: right;\n",
       "    }\n",
       "</style>\n",
       "<table border=\"1\" class=\"dataframe\">\n",
       "  <thead>\n",
       "    <tr style=\"text-align: right;\">\n",
       "      <th></th>\n",
       "      <th></th>\n",
       "      <th>count</th>\n",
       "      <th>rate</th>\n",
       "    </tr>\n",
       "    <tr>\n",
       "      <th>predict Survive</th>\n",
       "      <th>Survived</th>\n",
       "      <th></th>\n",
       "      <th></th>\n",
       "    </tr>\n",
       "  </thead>\n",
       "  <tbody>\n",
       "    <tr>\n",
       "      <th rowspan=\"2\" valign=\"top\">False</th>\n",
       "      <th>0.0</th>\n",
       "      <td>471</td>\n",
       "      <td>0.807890</td>\n",
       "    </tr>\n",
       "    <tr>\n",
       "      <th>1.0</th>\n",
       "      <td>112</td>\n",
       "      <td>0.192110</td>\n",
       "    </tr>\n",
       "    <tr>\n",
       "      <th rowspan=\"2\" valign=\"top\">True</th>\n",
       "      <th>0.0</th>\n",
       "      <td>78</td>\n",
       "      <td>0.253247</td>\n",
       "    </tr>\n",
       "    <tr>\n",
       "      <th>1.0</th>\n",
       "      <td>230</td>\n",
       "      <td>0.746753</td>\n",
       "    </tr>\n",
       "  </tbody>\n",
       "</table>\n",
       "</div>"
      ],
      "text/plain": [
       "                          count      rate\n",
       "predict Survive Survived                 \n",
       "False           0.0         471  0.807890\n",
       "                1.0         112  0.192110\n",
       "True            0.0          78  0.253247\n",
       "                1.0         230  0.746753"
      ]
     },
     "execution_count": 158,
     "metadata": {},
     "output_type": "execute_result"
    }
   ],
   "source": [
    "# Count the data points in each quadrant\n",
    "temp = outcome.groupby([\"predict Survive\",\"Survived\"]).count().rename(columns={\"prediction\":\"count\"})\n",
    "temp = temp.join(temp.groupby(\"predict Survive\").sum().rename(columns={\"count\":\"total\"}))\n",
    "temp[\"rate\"] = temp[\"count\"]/temp[\"total\"]\n",
    "temp.drop(columns={\"total\"})"
   ]
  },
  {
   "cell_type": "markdown",
   "metadata": {
    "slideshow": {
     "slide_type": "subslide"
    }
   },
   "source": [
    "What are the regression coefficients $\\hat{\\beta}_i$?\n",
    "\n",
    "Note the \"Sex\" variable is a 1 if male and 0 if female."
   ]
  },
  {
   "cell_type": "code",
   "execution_count": 159,
   "metadata": {
    "slideshow": {
     "slide_type": "fragment"
    }
   },
   "outputs": [
    {
     "data": {
      "text/plain": [
       "Sex     -2.545384\n",
       "Age     -0.004864\n",
       "Fare     0.015082\n",
       "SibSp   -0.359388\n",
       "Parch   -0.184787\n",
       "Name: coeff, dtype: float64"
      ]
     },
     "execution_count": 159,
     "metadata": {},
     "output_type": "execute_result"
    }
   ],
   "source": [
    "pd.Series(data = L.coef_[0], index = X.columns, name=\"coeff\")"
   ]
  },
  {
   "cell_type": "markdown",
   "metadata": {
    "slideshow": {
     "slide_type": "subslide"
    }
   },
   "source": [
    "$\\hat{\\beta}_{\\text{Sex}}\\approx -2.5$ means that the log-odds of survival decreases by 2.5 for males on the Titanic compared to females.\n",
    "\n",
    "$$\n",
    "\\ln\\left(\\frac{p(\\text{survive}|\\text{male})}{1-p(\\text{survive}|\\text{male})}\\right)\n",
    "- \\ln\\left(\\frac{p(\\text{survive}|\\text{female})}{1-p(\\text{survive}|\\text{female})}\\right)\n",
    "\\approx-2.5\n",
    "$$\n",
    "\n",
    "But log odds is hard to interpret. However, we can equivalently write\n",
    "$$\n",
    "\\frac{p(\\text{survive}|\\text{male})}{1-p(\\text{survive}|\\text{male})}\n",
    "\\Big/\n",
    "\\frac{p(\\text{survive}|\\text{female})}{1-p(\\text{survive}|\\text{female})}\n",
    "\\approx e^{-2.5} \\approx0.0821\n",
    "$$\n",
    "\n",
    "which indicates that the odds of survival for males are approximately 0.082 times the odds of survival for females.\n",
    "\n",
    "In other words, males have an 91.79% decrease in the odds of survival compared to females, controlling for other variables in the model.\n",
    "\n",
    "This results make sense when you remember that the Titanic evacuation prioritized women and childrens' access to life boats."
   ]
  },
  {
   "cell_type": "markdown",
   "metadata": {
    "slideshow": {
     "slide_type": "subslide"
    }
   },
   "source": [
    "How do we assess the predictive performance of a logistic regression model?\n",
    "\n",
    "Because the dependent variable $\\vec{y}$ is a binary variable, measuring the Pearson correlation or $R^2$ will not work because both of these measures expect that $\\vec{y}$ and $\\hat{y}$ are distributed according to a t-distribution. "
   ]
  },
  {
   "cell_type": "code",
   "execution_count": 160,
   "metadata": {
    "hideCode": false,
    "hidePrompt": false,
    "slideshow": {
     "slide_type": "fragment"
    }
   },
   "outputs": [
    {
     "data": {
      "image/png": "[encoded data removed]",
      "text/plain": [
       "<Figure size 1008x432 with 2 Axes>"
      ]
     },
     "metadata": {
      "needs_background": "light"
     },
     "output_type": "display_data"
    }
   ],
   "source": [
    "# hide\n",
    "plt.figure(figsize=(14,6))\n",
    "plt.subplot(1,2,1)\n",
    "outcome[\"Survived\"].hist()\n",
    "plt.yticks(fontsize=15)\n",
    "plt.xticks([.05,.95],[\"Deceased\",\"Survived\"],fontsize=15)\n",
    "plt.xlabel(\"Outcome ($\\\\vec{y}$)\",fontsize=15)\n",
    "plt.ylabel(\"Count\",fontsize=15)\n",
    "plt.tight_layout()\n",
    "\n",
    "plt.subplot(1,2,2)\n",
    "outcome[\"prediction\"].hist()\n",
    "plt.yticks(fontsize=15)\n",
    "# plt.xticks([.05,.95],[\"Deceased\",\"Survived\"],fontsize=15)\n",
    "plt.xlabel(\"Predicted Probability of Survival ($\\\\hat{y}$)\",fontsize=15)\n",
    "plt.ylabel(\"Count\",fontsize=15)\n",
    "plt.tight_layout()"
   ]
  },
  {
   "cell_type": "markdown",
   "metadata": {
    "slideshow": {
     "slide_type": "subslide"
    }
   },
   "source": [
    "Instead, there are a number of **pseduo-$R^2$** methods that can be applied. \n",
    "\n",
    "For example, McFadden's $R^2$ compares the model's predictive performance to the performance of a null model using only an intercept term (i.e., the null model always predicts to overall log odds).\n",
    "\n",
    "Specifically, McFadden's $R^2$ compare the log-likelihood of $\\hat{y}$ given $\\vec{y}$ when $\\hat{y}$ is given by the full model compared to when $\\hat{y}_{null}$ is given by the null model.\n",
    "\n",
    "Likelihood is calculated according to\n",
    "$$\n",
    "\\mathcal{L}(\\hat{y}|\\vec{y}) = \\prod_{i=1}^{n} P(\\hat{y}_i | \\vec{y}_i)\n",
    "= \\prod_{i=1}^{n} \\color{red}{\\hat{y}_i^{\\vec{y}_i}}\\cdot\\color{blue}{(1-\\hat{y}_i)^{1-\\vec{y}_i}}\n",
    "$$\n",
    "\n",
    "Thus the log-likelihood is $\\gmath\\log(\\mathcal{L}(\\hat{y}|\\vec{y}))=\\sum_{i=0}^n \\color{red}{\\vec{y}_i\\cdot\\log(\\hat{y}_i)}+\\color{blue}{(1-\\vec{y}_i)\\cdot\\log(1-\\hat{y}_i)}$\n",
    "\n",
    "Remember that $\\vec{y}_i\\in\\{0,1\\}$ while $\\hat{y}_i\\in[0,1]$, so this equation is summing the log probabilities $\\hat{y}_i$ associated with the actual outcome in the data $\\vec{y}_i$.\n",
    "\n",
    "For example, if $\\vec{y}_i=1$ then the $i$th term in the sum will be $\\color{red}{\\log(\\hat{y}_i)}$. \n",
    "If $\\vec{y}_i=0$ then the $i$th term in the sum will be $\\color{blue}{\\log(1-\\hat{y}_i)}$."
   ]
  },
  {
   "cell_type": "markdown",
   "metadata": {
    "slideshow": {
     "slide_type": "subslide"
    }
   },
   "source": [
    "McFadden's $R^2$ is given by \n",
    "$\n",
    "\\gmath\n",
    "R^2_{\\text{McFadden}} = 1-\\frac{\\ln(\\mathcal{L}(\\hat{y}|\\vec{y}))}{\\ln(\\mathcal{L}(\\hat{y}_{null}|\\vec{y}))}\n",
    "$\n",
    "\n",
    "The ratio of the log-likelihood of the fitted model to the log-likelihood of the null model tells us how much the incorporation of predictors improves the fit of the model compared to the simplest model. \n",
    "\n",
    "A ratio closer to 1 indicates little improvement, while a lower ratio indicates substantial improvement.\n",
    "\n",
    "By subtracting this ratio from 1, McFadden's $R^2$ provides a measure where values closer to 1 indicate a better fit of the model with predictors compared to the null model. \n",
    "\n",
    "$R^2=0$ implies the model fits no better than the null model, while higher values indicate better performance."
   ]
  },
  {
   "cell_type": "code",
   "execution_count": 161,
   "metadata": {
    "slideshow": {
     "slide_type": "subslide"
    }
   },
   "outputs": [
    {
     "name": "stdout",
     "output_type": "stream",
     "text": [
      "McFadden's R^2: 0.277\n"
     ]
    }
   ],
   "source": [
    "# create the null model prediction\n",
    "p_survive = outcome[\"Survived\"].mean()\n",
    "# estimate model intercept term using overall log odds of survival\n",
    "beta_0 = np.log(p_survive/(1-p_survive))\n",
    "# plug in the linear model to the logistic function to predict yhat\n",
    "null_yhat = 1/(1+np.exp(-beta_0))\n",
    "\n",
    "# define the calculation of log-likelihood\n",
    "logLikelihood = lambda yhat,y: np.sum( y*np.log(yhat) + (1-y)*np.log(1-yhat) ) \n",
    "\n",
    "null_log_likelihood = logLikelihood(null_yhat,outcome[\"Survived\"])\n",
    "full_log_likelihood = logLikelihood(outcome[\"prediction\"],outcome[\"Survived\"])\n",
    "\n",
    "\n",
    "mcfadden_rsquare = 1.0 - (full_log_likelihood / null_log_likelihood)\n",
    "print(\"McFadden's R^2: %0.3f\" % mcfadden_rsquare)"
   ]
  }
 ],
 "metadata": {
  "celltoolbar": "Hide code",
  "kernelspec": {
   "display_name": "Python 3 (ipykernel)",
   "language": "python",
   "name": "python3"
  },
  "language_info": {
   "codemirror_mode": {
    "name": "ipython",
    "version": 3
   },
   "file_extension": ".py",
   "mimetype": "text/x-python",
   "name": "python",
   "nbconvert_exporter": "python",
   "pygments_lexer": "ipython3",
   "version": "3.9.7"
  },
  "varInspector": {
   "cols": {
    "lenName": 16,
    "lenType": 16,
    "lenVar": 40
   },
   "kernels_config": {
    "python": {
     "delete_cmd_postfix": "",
     "delete_cmd_prefix": "del ",
     "library": "var_list.py",
     "varRefreshCmd": "print(var_dic_list())"
    },
    "r": {
     "delete_cmd_postfix": ") ",
     "delete_cmd_prefix": "rm(",
     "library": "var_list.r",
     "varRefreshCmd": "cat(var_dic_list()) "
    }
   },
   "types_to_exclude": [
    "module",
    "function",
    "builtin_function_or_method",
    "instance",
    "_Feature"
   ],
   "window_display": false
  }
 },
 "nbformat": 4,
 "nbformat_minor": 5
}
