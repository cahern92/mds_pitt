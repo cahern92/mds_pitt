{
 "cells": [
  {
   "cell_type": "code",
   "execution_count": 1,
   "metadata": {
    "slideshow": {
     "slide_type": "skip"
    }
   },
   "outputs": [],
   "source": [
    "import numpy as np\n",
    "import matplotlib.pyplot as plt\n",
    "%matplotlib inline\n",
    "import ipywidgets as widgets\n",
    "import pandas as pd\n",
    "import sympy"
   ]
  },
  {
   "cell_type": "markdown",
   "metadata": {
    "slideshow": {
     "slide_type": "slide"
    }
   },
   "source": [
    "# Calculus: Core Concepts\n",
    "\n",
    "In learning about the Normal Distribution, we used this chart to bound the probability that the population expected value is within certain bounds (i.e., a number of standard errors $\\sigma$) around the expected value of sample expected values based on the number of standard errors.\n",
    "\n",
    "<img src=\"Standard_deviation_diagram.svg.png\" width=\"40%\"/>\n",
    "\n",
    "But how do we know these percentages? And what if we choose bounds that are not integer multiples of $\\sigma$?"
   ]
  },
  {
   "cell_type": "markdown",
   "metadata": {
    "slideshow": {
     "slide_type": "subslide"
    }
   },
   "source": [
    "<img src=\"Standard_deviation_diagram.svg.png\" width=\"40%\"/>\n",
    "\n",
    "The answer is ***calculus***\n",
    "\n",
    "The probabilities in this plot are actually the <i>area under the curve</i>\n",
    "\n",
    "For example, 34.1% of the area under the curve falls between 0 and $1\\sigma$.\n",
    "\n",
    "13.6% of the total area under the curve falls between $1\\sigma$ and $2\\sigma$.\n",
    "\n",
    "The area under the entire curve (i.e., from $-\\infty$ to $+\\infty$) is 1, which makes sense because this is a probability distribution and \"summing\" the probabilities over all possible outcomes should equal 1."
   ]
  },
  {
   "cell_type": "markdown",
   "metadata": {
    "slideshow": {
     "slide_type": "subslide"
    }
   },
   "source": [
    "## Core concepts of calculus\n",
    "\n",
    "Calculus covers two core concepts:\n",
    "\n",
    "First, <font color=\"red\">***derivatives***</font> are the mathematical concept for <font color=\"red\"><u>rate of change</u></font> \n",
    "(e.g., a car's speed, cost per item, birth/death rates)\n",
    "\n",
    "Second, <font color=\"blue\">***integrals***</font> are the mathematical concept for <font color=\"blue\"><u>accumulation</u></font>\n",
    "(e.g., distance traveled, total cost, population dynamics, and <font color=\"green\">probabilities!</font>)"
   ]
  },
  {
   "cell_type": "markdown",
   "metadata": {
    "slideshow": {
     "slide_type": "fragment"
    }
   },
   "source": [
    "<font color=\"red\">Derivatives</font> and <font color=\"blue\">integrals</font> are two-sides of the same coin and, in fact, opposites. "
   ]
  },
  {
   "cell_type": "markdown",
   "metadata": {
    "slideshow": {
     "slide_type": "subslide"
    }
   },
   "source": [
    "On one hand, if we track a car's speed over time (i.e., a rate of change), then we can calculate how far the car has traveled (i.e., accumulated distance).\n",
    "\n",
    "- the car traveled 5 miles per hour (mph) for 2 hours,\n",
    "- then traveled 10 mph for 1 hour,\n",
    "- and then traveleld 15 mph for 3 hours.\n",
    "\n",
    "This means the car traveled \n",
    "\n",
    "$\\left(2\\text{ hour}\\right)\\left(5\\frac{\\text{miles}}{\\text{hour}}\\right) + \\left(1\\text{ hour}\\right)\\left(10\\frac{\\text{miles}}{\\text{hour}}\\right) + \\left(3\\text{ hour}\\right)\\left(15\\frac{\\text{miles}}{\\text{hour}}\\right) \n",
    "= 2\\cdot5\\text{ miles} + 1\\cdot10\\text{ miles} + 3\\cdot15\\text{ miles} = 65\\text{ miles}$\n",
    "\n",
    "This calculation is taking an <font color=\"blue\">integral</font> using rates of change to find the accumulated distance traveled."
   ]
  },
  {
   "cell_type": "markdown",
   "metadata": {
    "slideshow": {
     "slide_type": "subslide"
    }
   },
   "source": [
    "On the other hand, if I tell you the car traveled 10 miles in the first 2 hours, then the car averaged $\\hspace{1cm}\\frac{10\\text{ miles}}{2\\text{ hour}} = 5 \\frac{\\text{miles}}{\\text{hour}}$ \n",
    "\n",
    "If you know that the car then traveled 10 miles in 1 hour, then you know the average speed was 10 mph.\n",
    "\n",
    "And, finally, if you then hear that the car travels 45 miles in 3 hours, then the car averaged 15 mph.\n",
    "\n",
    "This calculation is taking <font color=\"red\">derivatives</font> using distance traveled to calculate average rates of change."
   ]
  },
  {
   "cell_type": "code",
   "execution_count": 3,
   "metadata": {
    "hideCode": false,
    "hidePrompt": false,
    "slideshow": {
     "slide_type": "subslide"
    }
   },
   "outputs": [
    {
     "data": {
      "application/vnd.jupyter.widget-view+json": {
       "model_id": "b231fde2488c431db8da74fa801a9c6f",
       "version_major": 2,
       "version_minor": 0
      },
      "text/plain": [
       "HBox(children=(FloatSlider(value=5.0, description='Time (Hours):', max=5.9), Output()))"
      ]
     },
     "metadata": {},
     "output_type": "display_data"
    }
   ],
   "source": [
    "# hide\n",
    "def exploreCarDerivative(time):\n",
    "    xx = time\n",
    "    x = np.arange(7)\n",
    "    y = np.array([5,5,5,10,15,15,15])\n",
    "    cy = np.cumsum(y)\n",
    "    plt.figure(figsize=(8,4))\n",
    "    plt.plot(x,cy,'k-',linewidth=3)\n",
    "    yy = plt.ylim()\n",
    "#     plt.plot([2,2],yy,'b--')\n",
    "#     plt.plot([3,3],yy,'b--')\n",
    "    plt.ylim(yy)\n",
    "    plt.xticks(fontsize=15)\n",
    "    plt.yticks(fontsize=15)\n",
    "    plt.xlabel(\"Hours\",fontsize=15)\n",
    "    plt.ylabel(\"Distance Travelled (miles)\",fontsize=15);\n",
    "    for i in range(len(x)-1):\n",
    "        if xx >= x[i] and xx < x[i+1]:\n",
    "            f = (xx-x[i])/(x[i+1]-x[i])\n",
    "            yy = cy[i]+(cy[i+1]-cy[i])*f\n",
    "            s = y[i+1]\n",
    "            break\n",
    "    plt.plot(xx,yy,'ro',markersize=15)\n",
    "    plt.text(xx,yy,\"%d mph\" % s,va=\"bottom\",ha=\"right\",fontsize=15)\n",
    "    plt.title(\"Rate of change from distance travelled\",fontsize=15);\n",
    "    plt.tight_layout()\n",
    "    \n",
    "# widgets.interact(exploreCarDerivative,time=(0,5.9,.1));\n",
    "\n",
    "timeSlider1 = widgets.FloatSlider(min=0, max=5.9, step=0.1, value=5, description=\"Time (Hours):\")\n",
    "widgets.HBox([timeSlider1,widgets.interactive_output(exploreCarDerivative, {'time': timeSlider1})])"
   ]
  },
  {
   "cell_type": "code",
   "execution_count": 4,
   "metadata": {
    "slideshow": {
     "slide_type": "subslide"
    }
   },
   "outputs": [
    {
     "data": {
      "application/vnd.jupyter.widget-view+json": {
       "model_id": "794e13993a7542f9a3447401b3139a94",
       "version_major": 2,
       "version_minor": 0
      },
      "text/plain": [
       "HBox(children=(FloatSlider(value=5.0, description='Time (Hours):', max=5.9), Output()))"
      ]
     },
     "metadata": {},
     "output_type": "display_data"
    }
   ],
   "source": [
    "# hide\n",
    "def exploreCarIntegral(time):\n",
    "    x = [0,2,2,3,3,6]\n",
    "    y = [5,5,10,10,15,15]\n",
    "    x = np.array(x)\n",
    "    y = np.array(y)\n",
    "    A = 0.0\n",
    "    for i in range(len(x)-1):\n",
    "        if time >= x[i] and time < x[i+1]:\n",
    "            f = (x[i+1]-time)/(x[i+1]-x[i])\n",
    "            s = y[i]\n",
    "            I = i\n",
    "            A += (time-x[i])*y[i]\n",
    "            break\n",
    "        else:\n",
    "            A += (x[i+1]-x[i])*y[i]\n",
    "    plt.figure(figsize=(8,4))\n",
    "    plt.plot(x,y,'k-',linewidth=3)\n",
    "    plt.fill_between(x[:I],y[:I],color='blue',alpha=.5,linewidth=0)\n",
    "    plt.fill_between([x[I],time],[s,s],color='blue',alpha=.5,linewidth=0)\n",
    "    plt.plot(time,s,'ro',markersize=15)\n",
    "    plt.text(time,s,\"%d mph\" % s,va=\"bottom\",ha=\"right\",fontsize=15)\n",
    "    plt.ylim((0,16))\n",
    "    plt.xticks(fontsize=15)\n",
    "    plt.yticks(fontsize=15)\n",
    "    plt.xlabel(\"Hours\",fontsize=15)\n",
    "    plt.ylabel(\"Speed (mph)\",fontsize=15)\n",
    "    plt.title(\"Distance travelled from rate of change: %0.2f miles\" % A,fontsize=15);\n",
    "    plt.tight_layout()\n",
    "    \n",
    "timeSlider2 = widgets.FloatSlider(min=0, max=5.9, step=0.1, value=5, description=\"Time (Hours):\")\n",
    "widgets.HBox([timeSlider2,widgets.interactive_output(exploreCarIntegral, {'time': timeSlider2})])"
   ]
  },
  {
   "cell_type": "markdown",
   "metadata": {
    "slideshow": {
     "slide_type": "subslide"
    }
   },
   "source": [
    "This car-driving example is nice to highlight the relationship between derivatives and integrals.\n",
    "\n",
    "However, this example is unrealistic!\n",
    "\n",
    "The car ***instantaneously*** changes speeds at $t=2$ and $t=3$ which is not physically possible.\n",
    "\n",
    "Instead, a car would realisticly ***smoothly*** and ***continuously*** accelerate from one speed to the next.\n",
    "\n",
    "Instead of a step-wise derivative, the car's rate of change plot should be curvy! But we will need some new tools to handle this more realistic scenario."
   ]
  },
  {
   "cell_type": "markdown",
   "metadata": {
    "slideshow": {
     "slide_type": "slide"
    }
   },
   "source": [
    "# Approximating Derivatives\n",
    "\n",
    "In the previous video, we considered an example where a car instantaneously changes from one speed to another speed.\n",
    "\n",
    "This cannot occur in the real-world because the car must gradually accelerate or decelerate in order to change speeds and these changes take some amount of time.\n",
    "\n",
    "If we assume that a function $f$ is ***smooth*** and ***continuous*** than we can estimate the ***instantaneous rate of change*** at a specific time $t$ using\n",
    "\n",
    "$\n",
    "\\displaystyle\\frac{\\color{blue}{df(t)}}{\\color{red}{dt}}\\approx\\frac{\\color{blue}{f(t+h)-f(t)}}{\\color{red}{h}}\n",
    "$\n",
    "\n",
    "where $\\color{red}{h}$ is some number representing the period of time before or after time $t$ that we will use to estimate the speed. \n",
    "\n",
    "Here, we are estimating the <font color=\"blue\"><i>\"rise\"</i></font> of a function (vertical change denoted $\\color{blue}{df}$) over a certain <font color=\"red\"><i>\"run\"</i></font> (horizontal change denoted $\\color{red}{dt}$), and we call $df(t)/dt$ the <font color=\"green\">\"derivative of $f$ with respect to $t$\"</font>.\n",
    "\n",
    "So, let's examine an example of a car smoothly and continuously accelerating over time."
   ]
  },
  {
   "cell_type": "code",
   "execution_count": 12,
   "metadata": {
    "scrolled": false,
    "slideshow": {
     "slide_type": "fragment"
    }
   },
   "outputs": [
    {
     "data": {
      "application/vnd.jupyter.widget-view+json": {
       "model_id": "8f1bd85cdcdb448490a5fefb23e1f9f3",
       "version_major": 2,
       "version_minor": 0
      },
      "text/plain": [
       "HBox(children=(VBox(children=(FloatSlider(value=5.0, description='Time (Hours):', max=5.9, step=0.01), Checkbo…"
      ]
     },
     "execution_count": 12,
     "metadata": {},
     "output_type": "execute_result"
    }
   ],
   "source": [
    "#hide\n",
    "# these functions are solved using calculus. \n",
    "# We will learn techniques to solve them.\n",
    "# Here, I am using them for demonstration.\n",
    "derivative = lambda x: x**2\n",
    "integral = lambda x: (1/3)*x**3\n",
    "\n",
    "def exploreCarDerivativeSmooth(time,derivative,integral,times,showTangent=False,pltSpeed=False,h=1,showSpeed=False,):\n",
    "    xx = time\n",
    "    if type(times) != tuple:\n",
    "        times = (times,)\n",
    "    plt.figure(figsize=(6,4))\n",
    "    for x in times:\n",
    "        plt.plot(x,integral(x),'k-',linewidth=3)\n",
    "    yy = plt.ylim()\n",
    "    plt.ylim(yy)\n",
    "    plt.xticks(fontsize=15)\n",
    "    plt.yticks(fontsize=15)\n",
    "    plt.xlabel(\"Hours\",fontsize=15)\n",
    "    plt.ylabel(\"Distance Travelled (miles)\",fontsize=15)\n",
    "    ty = integral(time)\n",
    "    plt.plot(time,ty,'ro',markersize=15)\n",
    "    if showTangent:\n",
    "        xx = plt.xlim()\n",
    "        yy = plt.ylim()\n",
    "        d = derivative(time)\n",
    "        b = ty-d*time\n",
    "        plt.plot(xx,d*np.array(xx)+b,'--',color=\"grey\",linewidth=2)\n",
    "        plt.xlim(xx)\n",
    "        plt.ylim(yy)\n",
    "    if pltSpeed:\n",
    "        plt.text(plt.xlim()[0],plt.ylim()[1],\"Speed Estimate:\\n$\\\\frac{f(time+h)-f(t)}{h}$\",\n",
    "                 ha=\"left\",va=\"top\",fontsize=15,color='r')\n",
    "        if h == 0:\n",
    "            speed = np.nan\n",
    "            thx = time\n",
    "            thy = ty\n",
    "            plt.text(time,ty,\"Estimated Speed: Unknown\",va=\"bottom\",ha=\"right\",fontsize=15)\n",
    "        elif time+h > 0 and time+h < 6:\n",
    "            thx = time+h\n",
    "            thy = integral(thx)\n",
    "            speed = np.abs((thy-ty)/h)\n",
    "            xx = np.array([time,thx])\n",
    "            b = speed*time-ty\n",
    "            plt.plot(xx,integral(xx),'r-',linewidth=3)\n",
    "            plt.plot(thx,integral(thx),'ro',markersize=5)\n",
    "            plt.text(time,ty,\"Estimated %0.2f mph\" % speed,va=\"bottom\",ha=\"right\",fontsize=15)\n",
    "            plt.plot([time,thx],[ty,ty],'r--')\n",
    "            plt.plot([thx,thx],[ty,thy],'r--')\n",
    "            plt.text(time+.5*h,ty,\"$h$\",ha=\"center\",va=\"top\",fontsize=10,color=\"r\")\n",
    "            plt.text(thx,ty+.5*(thy-ty),\"$f(time+h)-f(time)$\",ha=\"left\",va=\"center\",fontsize=10,color=\"r\")\n",
    "    if showSpeed:\n",
    "        plt.title(\"Actual Speed (obtained by magic): %0.2f\" % derivative(time),fontsize=15)\n",
    "    plt.tight_layout()\n",
    "    \n",
    "\n",
    "def derivativeWidget(F,derivative,integral,times,timeSliderLimits=(0,5.9)):\n",
    "    timeSlider3 = widgets.FloatSlider(min=timeSliderLimits[0], \n",
    "                                      max=timeSliderLimits[1], step=0.01, value=5, description=\"Time (Hours):\")\n",
    "    hSlider = widgets.FloatSlider(min=-2, max=2, step=0.1, value=1.5, description=\"h:\")\n",
    "    showTangentCheckBox = widgets.Checkbox(value=False,description=\"Show Tangent Line\")\n",
    "    speedEstCheckBox = widgets.Checkbox(value=False,description=\"Estimate Speed\")\n",
    "    trueSpeedCheckBox = widgets.Checkbox(value=False,description=\"Show Actual Speed\")\n",
    "    w = widgets.HBox(\n",
    "        [\n",
    "            widgets.VBox([timeSlider3,showTangentCheckBox,speedEstCheckBox,hSlider,trueSpeedCheckBox]),\n",
    "                widgets.interactive_output(\n",
    "#                     exploreCarDerivativeSmooth, \n",
    "                    F,\n",
    "                    {\n",
    "                        'time': timeSlider3,\n",
    "                        'derivative':widgets.fixed(derivative),\n",
    "                        'integral':widgets.fixed(integral),\n",
    "#                         'times':widgets.fixed(np.linspace(0,6,100)),\\\n",
    "                        'times':widgets.fixed(times),\n",
    "                        'showTangent':showTangentCheckBox,\n",
    "                        'pltSpeed':speedEstCheckBox,\n",
    "                        'h':hSlider,\n",
    "                        'showSpeed':trueSpeedCheckBox,\n",
    "                    })\n",
    "        ]\n",
    "    )\n",
    "    return w\n",
    "\n",
    "derivativeWidget(exploreCarDerivativeSmooth,derivative,integral,np.linspace(0,6,100))"
   ]
  },
  {
   "cell_type": "markdown",
   "metadata": {
    "slideshow": {
     "slide_type": "subslide"
    }
   },
   "source": [
    "What happens if the curve is not continuous?"
   ]
  },
  {
   "cell_type": "code",
   "execution_count": 6,
   "metadata": {
    "scrolled": false,
    "slideshow": {
     "slide_type": "fragment"
    }
   },
   "outputs": [
    {
     "data": {
      "application/vnd.jupyter.widget-view+json": {
       "model_id": "53b6b9d10a0e4f1784d8f77b6323615a",
       "version_major": 2,
       "version_minor": 0
      },
      "text/plain": [
       "HBox(children=(VBox(children=(FloatSlider(value=4.0, description='Time (Hours):', max=4.0, min=2.0, step=0.01)…"
      ]
     },
     "metadata": {},
     "output_type": "display_data"
    }
   ],
   "source": [
    "#hide\n",
    "\n",
    "isnumeric = lambda x: isinstance(x, (int, float, complex)) and not isinstance(x, bool)\n",
    "\n",
    "step = 5\n",
    "def derivativeStep(x):\n",
    "    y = x**2\n",
    "    return y\n",
    "\n",
    "def integralStep(x):\n",
    "    y = (1/3)*x**3\n",
    "    if isnumeric(x):\n",
    "        if x >= 3:\n",
    "            y += step\n",
    "    else:\n",
    "        I = (x >= 3)\n",
    "        y[I] += step\n",
    "    return y\n",
    "\n",
    "    \n",
    "derivativeWidget(exploreCarDerivativeSmooth,derivativeStep,integralStep,\n",
    "                 (np.linspace(2,2.99,50),np.linspace(3,4,50)),\n",
    "                 (2,4),\n",
    "                )"
   ]
  },
  {
   "cell_type": "markdown",
   "metadata": {
    "slideshow": {
     "slide_type": "subslide"
    }
   },
   "source": [
    "The example had a discontinuity at time $t^*=3$ where the curve suddenly jumped.\n",
    "\n",
    "In this case, estimating \n",
    "\n",
    "$\n",
    "\\hspace{.5cm}\n",
    "\\displaystyle\\frac{\\color{blue}{df(t^*)}}{\\color{red}{dt}}\\approx\\frac{\\color{blue}{f(t^*+h)-f(t*)}}{\\color{red}{h}}=\\frac{f(3+h)-f(3)}{h}\n",
    "\\hspace{.5cm}\n",
    "$\n",
    "\n",
    "yields two different answers depending on if you approach the estimate from the right side (i.e., $h>0$) or from the left side (i.e., $h<0$)."
   ]
  },
  {
   "cell_type": "markdown",
   "metadata": {
    "slideshow": {
     "slide_type": "subslide"
    }
   },
   "source": [
    "What happens if the curve is not smooth?"
   ]
  },
  {
   "cell_type": "code",
   "execution_count": 7,
   "metadata": {
    "slideshow": {
     "slide_type": "fragment"
    }
   },
   "outputs": [
    {
     "data": {
      "application/vnd.jupyter.widget-view+json": {
       "model_id": "dfd3301d9e204d40a38807b8fe1214fe",
       "version_major": 2,
       "version_minor": 0
      },
      "text/plain": [
       "HBox(children=(VBox(children=(FloatSlider(value=4.0, description='Time (Hours):', max=4.0, min=2.0, step=0.01)…"
      ]
     },
     "metadata": {},
     "output_type": "display_data"
    }
   ],
   "source": [
    "#hide\n",
    "def derivative3(x):\n",
    "    if isnumeric(x):\n",
    "        # treat as number\n",
    "        if x < 3:\n",
    "            y = 2\n",
    "        else:\n",
    "            y = 7\n",
    "    else:\n",
    "        # treat as np.array\n",
    "        y = 2*np.ones(len(x))\n",
    "        y[(x >= 3)] = 7 \n",
    "    return y\n",
    "\n",
    "def integral3(x):\n",
    "    if isnumeric(x):\n",
    "        if x < 3:\n",
    "            y = 2*x\n",
    "        else:\n",
    "            y = 2*x+5*(x-3)\n",
    "    else:\n",
    "        y = 2*x\n",
    "        I = (x >= 3)\n",
    "        y[I] += 5*(x[I]-3)\n",
    "    return y\n",
    "\n",
    "\n",
    "derivativeWidget(exploreCarDerivativeSmooth,derivative3,integral3,np.linspace(2,4,100),(2,4))"
   ]
  },
  {
   "cell_type": "markdown",
   "metadata": {
    "slideshow": {
     "slide_type": "subslide"
    }
   },
   "source": [
    "The example was continuous but had an instantaneous change in speed at time $t^*=3$.\n",
    "\n",
    "Again, estimating \n",
    "\n",
    "$\n",
    "\\hspace{.5cm}\n",
    "\\displaystyle\\frac{\\color{blue}{df(t^*)}}{\\color{red}{dt}}\\approx\\frac{\\color{blue}{f(t^*+h)-f(t*)}}{\\color{red}{h}}=\\frac{f(3+h)-f(3)}{h}\n",
    "\\hspace{.5cm}\n",
    "$\n",
    "\n",
    "yields two different answers depending on if you approach the estimate from the right side (i.e., $h>0$) or from the left side (i.e., $h<0$)."
   ]
  },
  {
   "cell_type": "markdown",
   "metadata": {
    "slideshow": {
     "slide_type": "slide"
    }
   },
   "source": [
    "# Calculating exact instantaneous derivatives \n",
    "\n",
    "Assuming the function $f(t)$ is smooth and continuous at time $t$, then we can estimate the instantaneous rate of change at time $t$ using\n",
    "\n",
    "$\n",
    "\\displaystyle\\frac{\\color{blue}{df(t)}}{\\color{red}{dt}}\\approx\\frac{\\color{blue}{f(t+h)-f(t)}}{\\color{red}{h}}\n",
    "$\n",
    "\n",
    "where the estimate improves as $h$ gets smaller.|"
   ]
  },
  {
   "cell_type": "code",
   "execution_count": 8,
   "metadata": {
    "slideshow": {
     "slide_type": "fragment"
    }
   },
   "outputs": [
    {
     "data": {
      "application/vnd.jupyter.widget-view+json": {
       "model_id": "b042631c1adb43a2aaf2f0455e42ad97",
       "version_major": 2,
       "version_minor": 0
      },
      "text/plain": [
       "HBox(children=(VBox(children=(FloatSlider(value=5.0, description='Time (Hours):', max=5.9, step=0.01), Checkbo…"
      ]
     },
     "metadata": {},
     "output_type": "display_data"
    }
   ],
   "source": [
    "derivativeWidget(exploreCarDerivativeSmooth,derivative,integral,np.linspace(0,6,100))"
   ]
  },
  {
   "cell_type": "markdown",
   "metadata": {
    "slideshow": {
     "slide_type": "subslide"
    }
   },
   "source": [
    "Since the estimates improve as $h\\rightarrow0$, what happens if $h=0$?\n",
    "\n",
    "$\n",
    "\\displaystyle\\frac{\\color{blue}{df(t)}}{\\color{red}{dt}}\\approx\\frac{\\color{blue}{f(t+h)-f(t)}}{\\color{red}{h}}\n",
    "$\n",
    "\n",
    "It's not obivous that a solution exists because we divide by zero!"
   ]
  },
  {
   "cell_type": "markdown",
   "metadata": {
    "slideshow": {
     "slide_type": "fragment"
    }
   },
   "source": [
    "Instead, we are interested in the ***limiting value*** of \n",
    "$\n",
    "\\hspace{.5cm}\n",
    "\\displaystyle\n",
    "\\frac{df(t)}{dt}\\approx\\frac{f(t+h)-f(t)}{h}\n",
    "\\hspace{.5cm}\n",
    "$\n",
    "as $h\\rightarrow0$.\n",
    "\n",
    "That is, we want to solve\n",
    "$\n",
    "\\hspace{.5cm}\n",
    "\\displaystyle\\frac{df(t)}{dt}=\\displaystyle\\color{darkmagenta}{\\lim_{h\\rightarrow0}\\frac{f(t+h)-f(t)}{h}}\n",
    "\\hspace{.5cm}\n",
    "$\n",
    "\n",
    "Once a function $f(t)$ is defined, we can use this equation to calculate the derivative of $f$ at any time $t$ so long as the neighborhood of $t$ is smooth and continuous."
   ]
  },
  {
   "cell_type": "markdown",
   "metadata": {
    "slideshow": {
     "slide_type": "subslide"
    }
   },
   "source": [
    "Let's try an example where $\\color{green}{f(t)=t^2}$\n",
    "\n",
    "$$\n",
    "\\frac{df(t)}{dt}\n",
    "= \\lim_{h\\rightarrow0}\\frac{\\color{green}{f(t+h)}-\\color{green}{f(t)}}{h} \n",
    "= \\lim_{h\\rightarrow0}\\frac{(t+h)^2-t^2}{h}\n",
    "= \\lim_{h\\rightarrow0}\\frac{(t+h)(t+h)-t^2}{h}\n",
    "= \\lim_{h\\rightarrow0}\\frac{\\color{blue}{t^2}+2th+h^2-\\color{blue}{t^2}}{h}\n",
    "= \\lim_{h\\rightarrow0}\\frac{\\color{red}{h}\\cdot(2t+h)}{\\color{red}{h}}\n",
    "= \\color{darkmagenta}{\\lim_{h\\rightarrow0}}2t+\\color{darkmagenta}{h}\n",
    "=2t\n",
    "$$"
   ]
  },
  {
   "cell_type": "code",
   "execution_count": 9,
   "metadata": {
    "slideshow": {
     "slide_type": "skip"
    }
   },
   "outputs": [
    {
     "data": {
      "text/latex": [
       "$\\displaystyle 2 t$"
      ],
      "text/plain": [
       "2*t"
      ]
     },
     "execution_count": 9,
     "metadata": {},
     "output_type": "execute_result"
    }
   ],
   "source": [
    "t,h = sympy.symbols(\"t h\")\n",
    "sympy.diff(t**2,t)"
   ]
  },
  {
   "cell_type": "code",
   "execution_count": 10,
   "metadata": {
    "slideshow": {
     "slide_type": "fragment"
    }
   },
   "outputs": [
    {
     "data": {
      "application/vnd.jupyter.widget-view+json": {
       "model_id": "a02e796ec0224e99b42f644ee3c53df1",
       "version_major": 2,
       "version_minor": 0
      },
      "text/plain": [
       "HBox(children=(VBox(children=(FloatSlider(value=5.0, description='Time (Hours):', max=5.9, step=0.01), Checkbo…"
      ]
     },
     "metadata": {},
     "output_type": "display_data"
    }
   ],
   "source": [
    "#hide \n",
    "derivativeWidget(exploreCarDerivativeSmooth,lambda x: 2*x,lambda x: x**2,np.linspace(0,6,100))"
   ]
  },
  {
   "cell_type": "markdown",
   "metadata": {
    "slideshow": {
     "slide_type": "slide"
    }
   },
   "source": [
    "# Derivatives for Simple Polynomials\n",
    "To calculate derviatives, we need to solve \n",
    "$\n",
    "\\hspace{.5cm}\n",
    "\\displaystyle\n",
    "\\frac{df(t)}{dt}=\\lim_{h\\rightarrow0}\\frac{f(t+h)-f(t)}{h}\n",
    "\\hspace{.5cm}\n",
    "$\n",
    "for each function $f(t)$ which is pretty cumbersome.\n",
    "\n",
    "Instead, we try to identify some common patterns that functions take and solve the derivative for those generic patterns.\n",
    "\n",
    "In particular, let's solve the derivative for any polynial of the form \n",
    "$\n",
    "\\hspace{.5cm}\n",
    "\\displaystyle\n",
    "f(t)=\\sum_{n=0}^n a_n\\cdot t^n\n",
    "\\hspace{.5cm}\n",
    "$\n",
    "where $a_n$ are constants.\n",
    "\n",
    "To start, we already considered $f(t)=t^2$, so consider a more generic $f(t)=t^n$ for some integer $n$."
   ]
  },
  {
   "cell_type": "markdown",
   "metadata": {
    "slideshow": {
     "slide_type": "subslide"
    }
   },
   "source": [
    "To find $\\displaystyle\\frac{d\\,t^n}{dt}$, we will need to expand something like \n",
    "$\n",
    "\\hspace{.5cm}\n",
    "(x+y)^n\n",
    "=\\overbrace{(x+y)(x+y)\\cdots(x+y)}^{n\\text{ times}}\n",
    "\\hspace{.5cm}\n",
    "$ into it's longer form."
   ]
  },
  {
   "cell_type": "markdown",
   "metadata": {
    "slideshow": {
     "slide_type": "fragment"
    }
   },
   "source": [
    "To do this, we will need the <a href=\"https://en.wikipedia.org/wiki/Binomial_theorem\">Binomial Theorem</a> which states:\n",
    "\n",
    "$$\n",
    "\\displaystyle (x+y)^{n}\n",
    "= \\sum_{i=0}^n \\color{red}{{n \\choose i}}x^{n-i}y^i\n",
    "={n \\choose 0}x^{n}y^{0}+{n \\choose 1}x^{n-1}y^{1}+{n \\choose 2}x^{n-2}y^{2}+\\cdots +{n \\choose n-1}x^{1}y^{n-1}+{n \\choose n}x^{0}y^{n}\n",
    "$$\n",
    "\n",
    "where $\\displaystyle\\color{red}{{n \\choose i}}=\\frac{n!}{(n-i)!\\cdot i!}=\\frac{n\\cdot(n-1)\\cdot(n-2)\\cdots2\\cdot1}{\\left((n-i)\\cdot(n-i-1)\\cdots2\\cdot1\\right)\\left(i\\cdot(i-1)\\cdot(i-2)\\cdots2\\cdot1\\right)}$ is called \"$n$ choose $i$.\" \n",
    "\n",
    "\"$n$ choose $i$\" represents the number of way to choose a set of $i$ unique things from a total collection of $n$ unique things.\n",
    "\n"
   ]
  },
  {
   "cell_type": "markdown",
   "metadata": {
    "slideshow": {
     "slide_type": "subslide"
    }
   },
   "source": [
    "For example, how many 5 card hands are possible from a standard 52 playing card deck?\n",
    "\n",
    "$\n",
    "\\hspace{.5cm}\n",
    "\\displaystyle\n",
    "{n \\choose i} \n",
    "= {52 \\choose 5} \n",
    "= \\frac{52!}{(52-5)!\\cdot 5!}\n",
    "=\\frac{52\\cdot51\\cdot50\\cdots2\\cdot1}{\\left(47\\cdot46\\cdots2\\cdot1\\right)\\left(5\\cdot4\\cdot3\\cdot2\\cdot1\\right)}\n",
    "=2,598,960\n",
    "$\n",
    "\n",
    "For our purposes, <font color=\"blue\">$\\displaystyle{n \\choose i}$ is always a constant integer</font>, <font color=\"magenta\">$\\displaystyle{n \\choose 0}=1$</font>, and <font color=\"green\">$\\displaystyle{n \\choose 1}=n$</font>."
   ]
  },
  {
   "cell_type": "code",
   "execution_count": 11,
   "metadata": {
    "slideshow": {
     "slide_type": "fragment"
    }
   },
   "outputs": [
    {
     "data": {
      "text/plain": [
       "2598960"
      ]
     },
     "execution_count": 11,
     "metadata": {},
     "output_type": "execute_result"
    }
   ],
   "source": [
    "import math\n",
    "math.comb(52,5)"
   ]
  },
  {
   "cell_type": "markdown",
   "metadata": {
    "slideshow": {
     "slide_type": "subslide"
    }
   },
   "source": [
    "Let $f(t)=t^n$ for some integer $n$\n",
    "\\begin{align}\n",
    "\\frac{df(t)}{dt}\n",
    "&=\\lim_{h\\rightarrow0}\\frac{f(t+h)-f(t)}{h}\n",
    "=\\lim_{h\\rightarrow0}\\frac{\\color{blue}{(t+h)^n}-t^n}{h}\n",
    "=\\lim_{h\\rightarrow0}\\frac{\\color{blue}{\\overbrace{(t+h)(t+h)\\cdots(t+h)}^{n\\text{ times}}}-t^n}{h} \n",
    "\\\\ \\\\ \n",
    "&=\\lim_{h\\rightarrow0}\\frac{\\left(\\color{blue}{\\displaystyle\\sum_{i=0}^n {n \\choose i} t^{n-i}h^{i}}\\right)-t^n}{h}\\hspace{2cm}\\text{using the Binomial Theorem} \n",
    "\\\\ \\\\\n",
    "&=\\lim_{h\\rightarrow0}\\frac{\\color{red}{t^n}+\\color{orange}{h}\\displaystyle\\sum_{\\color{red}{i=1}}^n {n \\choose i}\\cdot t^{n-i}\\color{orange}{h^{i-1}}-t^n}{h}\n",
    "=\\lim_{h\\rightarrow0}\\displaystyle\\sum_{i=1}^n {n \\choose i}\\cdot t^{n-i}\\color{orange}{h^{i-1}}\n",
    "= \\lim_{h\\rightarrow0}{n \\choose 1}\\cdot t^{n-1}\\color{orange}{h^{1-1}}\n",
    "\\\\ \\\\\n",
    "&= n\\cdot t^{n-1}\n",
    "\\end{align}"
   ]
  },
  {
   "cell_type": "markdown",
   "metadata": {
    "slideshow": {
     "slide_type": "slide"
    }
   },
   "source": [
    "## Derivatives: Additivity, Mulitplication by Constants, and the Power Rule\n",
    "\n",
    "We saw that\n",
    "$\n",
    "\\hspace{.5cm}\n",
    "\\frac{d\\,t^n}{dt}=n\\cdot t^{n-1}\n",
    "\\hspace{.5cm}\n",
    "$\n",
    "which gives us the derivative of a simple polynomial.\n",
    "\n",
    "But how do we use this knowledge to calculate the derivative of a more complex polynomial of the form:\n",
    "$$\n",
    "F(t) = \\displaystyle\\sum_{i=0}^n a_i\\cdot t^i\n",
    "=a_0+a_1\\cdot t + a_2\\cdot t^2+\\cdots+a_n\\cdot t^n\n",
    "$$\n",
    "\n",
    "where each $a_i$ is a constant.\n",
    "\n",
    "Let's discuss some ways to combine derivatives of simple functions."
   ]
  },
  {
   "cell_type": "markdown",
   "metadata": {
    "slideshow": {
     "slide_type": "subslide"
    }
   },
   "source": [
    "## Derivative Additivity\n",
    "Let's imagine I have two functions $f(t)$ and $g(t)$.\n",
    "\n",
    "What is the derivative of the function $\\hspace{.5cm}H(t)= f(t)+g(t)$?"
   ]
  },
  {
   "cell_type": "markdown",
   "metadata": {
    "slideshow": {
     "slide_type": "fragment"
    }
   },
   "source": [
    "\\begin{align}\n",
    "\\frac{dH(t)}{dt} \n",
    "&= \\lim_{h\\rightarrow0}\\frac{H(t+h)-H(t)}{h}\n",
    "= \\lim_{h\\rightarrow0}\\frac{f(t+h)+g(t+h)-f(t)-g(t)}{h}\n",
    "\\\\\\\\\n",
    "&= \\color{blue}{\\lim_{h\\rightarrow0}\\frac{f(t+h)-f(t)}{h}}+\\color{red}{\\lim_{h\\rightarrow0}\\frac{g(t+h)-g(t)}{h}}\n",
    "\\\\ \\\\\n",
    "&= \\color{blue}{\\frac{df(t)}{dt}}+\\color{red}{\\frac{dg(t)}{dt}}\n",
    "\\end{align}"
   ]
  },
  {
   "cell_type": "markdown",
   "metadata": {
    "slideshow": {
     "slide_type": "subslide"
    }
   },
   "source": [
    "### Derivatives with Multiplication by a Constant\n",
    "If we know $\\frac{df}{dt}$, then what happens if we multiply $f(t)$ by a scalar a constant $a$?\n",
    "\n",
    "$$\n",
    "\\begin{align}\n",
    "\\frac{d\\left(a\\cdot f(t)\\right)}{dt} \n",
    "&= \\lim_{h\\rightarrow0}\\frac{a\\cdot f(t+h)-a\\cdot f(t)}{h}\n",
    "= \\lim_{h\\rightarrow0}\\frac{a\\left( f(t+h)-f(t)\\right)}{h}\n",
    "\\\\\\\\\n",
    "&= a\\left(\\lim_{h\\rightarrow0}\\frac{f(t+h)-f(t)}{h}\\right)\n",
    "=a\\cdot\\frac{df(t)}{dt}\n",
    "\\end{align}\n",
    "$$"
   ]
  },
  {
   "cell_type": "markdown",
   "metadata": {
    "slideshow": {
     "slide_type": "fragment"
    }
   },
   "source": [
    "For example, let $f(t)=t^n$\n",
    "$$\n",
    "\\frac{d\\left(a\\cdot f(t)\\right)}{dt}\n",
    "= a\\cdot\\frac{df(t)}{dt}\n",
    "= a\\cdot\\left(\\frac{d}{dt}t^n\\right)\n",
    "= a\\cdot n\\cdot t^{n-1}\n",
    "$$"
   ]
  },
  {
   "cell_type": "markdown",
   "metadata": {
    "slideshow": {
     "slide_type": "subslide"
    }
   },
   "source": [
    "## Derivative Power Rule\n",
    "We saw that\n",
    "$\n",
    "\\hspace{.5cm}\n",
    "\\frac{d\\,t^n}{dt}=n\\cdot t^{n-1}\n",
    "\\hspace{.5cm}\n",
    "$\n",
    "which we can combine with the additive and constant multiplication properties of derivatives to find the derivative of any polynomial\n",
    "\n",
    "$\n",
    "F(t) = \\displaystyle\\sum_{i=0}^n a_i\\cdot t^i\n",
    "=a_0+a_1\\cdot t + a_2\\cdot t^2+\\cdots+a_n\\cdot t^n\n",
    "$\n",
    "\n",
    "where each $a_i$ is a constant."
   ]
  },
  {
   "cell_type": "markdown",
   "metadata": {
    "slideshow": {
     "slide_type": "subslide"
    }
   },
   "source": [
    "\n",
    "We know the derivative for each of $t,\\,t^2,\\,t^3,\\,\\dots,t^{n-1},\\,t^n$, and we can write\n",
    "\n",
    "$\n",
    "F(t)\n",
    "=a_0+a_1\\cdot \\color{blue}{t} + a_2\\cdot \\color{red}{t^2}+\\cdots+a_n\\cdot \\color{darkmagenta}{t^n}\n",
    "= a_0+a_1\\cdot \\color{blue}{f_1(t)}+a_2\\cdot \\color{red}{f_2(t)}+\\cdots+a_n\\cdot \\color{darkmagenta}{f_n(t)}\n",
    "$\n",
    "\n",
    "where $\\hspace{.5cm}f_i(t)=t^i\\hspace{.5cm}$ and we know that $\\hspace{.5cm}\\displaystyle\\frac{d\\,f_i(t)}{dt}=i\\cdot t^{i-1}\\hspace{.5cm}$ for each $i$."
   ]
  },
  {
   "cell_type": "markdown",
   "metadata": {
    "slideshow": {
     "slide_type": "subslide"
    }
   },
   "source": [
    "\\begin{align}\n",
    "\\frac{d\\,F(t)}{dt} \n",
    "&= \\color{red}{\\frac{d\\,a_0}{dt}} + \\color{blue}{\\frac{d\\,\\left(a_1f_1(t)\\right)}{dt}}+\\color{orange}{\\frac{d\\,\\left(a_2f_2(t)\\right)}{dt}}+\\cdots+\\frac{d\\,\\left(a_nf_n(t)\\right)}{dt}\n",
    "\\hspace{.5cm}\\text{ using derivative additivity} \\\\\\\\\n",
    "&= \\color{red}{0} + \\color{blue}{a_1\\frac{d\\,f_1(t)}{dt}}+\\color{orange}{a_2\\frac{d\\,f_2(t)}{dt}}+\\cdots+a_n\\frac{d\\,f_n(t)}{dt}\n",
    "\\hspace{.5cm}\\text{ using derivative mulitplication by a constant} \\\\\\\\\n",
    "&= \\color{blue}{a_1\\cdot 1} + \\color{orange}{a_2\\cdot2\\cdot t}+\\cdots+a_n\\cdot n\\cdot t^{n-1}\n",
    "\\hspace{.5cm}\\text{ using $\\hspace{.5cm}\\displaystyle\\frac{d\\,t^n}{dt}=nt^{n-1}$}\n",
    "\\end{align}"
   ]
  },
  {
   "cell_type": "code",
   "execution_count": 4,
   "metadata": {
    "hideCode": false,
    "hidePrompt": false,
    "slideshow": {
     "slide_type": "subslide"
    }
   },
   "outputs": [
    {
     "data": {
      "application/vnd.jupyter.widget-view+json": {
       "model_id": "e3ce162987064c139e51e666d40a95f6",
       "version_major": 2,
       "version_minor": 0
      },
      "text/plain": [
       "VBox(children=(interactive(children=(FloatSlider(value=1.0, description='Degree:', max=10.0, step=1.0), FloatS…"
      ]
     },
     "execution_count": 4,
     "metadata": {},
     "output_type": "execute_result"
    }
   ],
   "source": [
    "# hide\n",
    "\n",
    "from ipywidgets import interactive, FloatSlider, VBox\n",
    "\n",
    "# Function to plot polynomial and its derivative\n",
    "def plot_polynomial_and_derivative(degree, x_value):\n",
    "    x = np.linspace(-10, 10, 400)\n",
    "    poly = np.poly1d([1 for _ in range(int(degree) + 1)])\n",
    "    derivative = np.polyder(poly)\n",
    "    y = poly(x)\n",
    "    dy = derivative(x)\n",
    "\n",
    "    fig, (ax1, ax2) = plt.subplots(1, 2, figsize=(14, 6))\n",
    "    s = '1'\n",
    "    for i in range(int(degree)):\n",
    "        s += \"+$t^{%d}$\" % (i+1)\n",
    "    ax1.plot(x, y, label=f'Polynomial degree {int(degree)}',linewidth=3)\n",
    "    ax1.plot(x_value, poly(x_value), 'ro', label='Selected point',markersize=12)\n",
    "    ax1.legend()\n",
    "    ax1.set_title('Polynomial: '+s)\n",
    "    ax1.set_xlabel(\"t\",fontsize=15)\n",
    "    ax1.grid(\"on\")\n",
    "    \n",
    "    ax2.plot(x, dy, label='Derivative',linewidth=3)\n",
    "    ax2.plot(x_value, derivative(x_value), 'ro', label='Selected point',markersize=12)\n",
    "    ax2.legend()\n",
    "    ax2.set_title('Derivative')\n",
    "    ax2.set_xlabel(\"t\",fontsize=15)\n",
    "    ax2.grid(\"on\")\n",
    "    \n",
    "#     plt.show()\n",
    "\n",
    "# Sliders\n",
    "degree_slider = FloatSlider(value=1, min=0, max=10, step=1, description='Degree:')\n",
    "x_slider = FloatSlider(value=0, min=-10, max=10, step=0.05, description='x value:')\n",
    "\n",
    "# Interactive widget\n",
    "interactive_plot = interactive(plot_polynomial_and_derivative, degree=degree_slider, x_value=x_slider)\n",
    "VBox([interactive_plot])"
   ]
  },
  {
   "cell_type": "markdown",
   "metadata": {
    "slideshow": {
     "slide_type": "slide"
    }
   },
   "source": [
    "# Derivative Chain Rule\n",
    "\n",
    "Previously, we identified a simple heuristic for finding the derivative for any polynomial of the form \n",
    "$\n",
    "\\hspace{.5cm}\n",
    "F(t)=\\displaystyle\\sum_{i=0}^n a_i\\cdot t^i\n",
    "$\n",
    "\n",
    "Specifically,\n",
    "$\n",
    "\\hspace{.5cm}\n",
    "\\displaystyle\n",
    "\\frac{d\\,F(t)}{dt}\n",
    "=\\color{blue}{F'(t)}\n",
    "=\\sum_{i=1}^n a_i\\cdot i \\cdot t^{i-1}\n",
    "$ \n",
    "\n",
    "For convenience, I am introducing a commonly-used shorthand $\\color{blue}{F'}$ for representing derivatives.\n",
    "\n",
    "Applying this heuristic when we encounter a polynomial enables us to skip calculating the polynomial's derivative from the limit \n",
    "\n",
    "$\n",
    "\\displaystyle\n",
    "\\color{blue}{F'(t)}=\\lim_{h\\rightarrow0}\\frac{F(t+h)-F(t)}{h}\n",
    "$"
   ]
  },
  {
   "cell_type": "markdown",
   "metadata": {
    "slideshow": {
     "slide_type": "skip"
    }
   },
   "source": [
    "Similarly, once you know the derivative of enough common functions, then you can skip the need to solve the limit each time and instead apply the heuristic. \n",
    "\n",
    "Let's find the derivatives for a few common functions so that we can use them to learn how to handle derivatives of more complicated functions made of up simpler functions."
   ]
  },
  {
   "cell_type": "markdown",
   "metadata": {
    "slideshow": {
     "slide_type": "skip"
    }
   },
   "source": [
    "For example, what is $\\hspace{.5cm}\\displaystyle\\frac{d\\,\\ln(x)}{dx}$?\n",
    "\n",
    "$\\ln(x)$ is the \"natural logarithm\" and is the inverse of $e^x$. That is, $\\hspace{.5cm}\\ln(e^x)=x$\n",
    "\n",
    "$\n",
    "\\begin{align}\n",
    "\\frac{d\\,\\ln(x)}{dx}  \n",
    "&= \\lim_{h \\to 0} \\frac{\\ln(x+h)-\\ln(x)}{h} \n",
    "= \\lim_{h \\to 0} \\frac{\\ln\\left(\\frac{x+h}{x}\\right)}{h} \n",
    "\\hspace{1cm}\\text{using logarithm rules}\n",
    "\\\\\\\\\n",
    "&= \\lim_{h \\to 0} \\frac{\\ln\\left(1 + \\frac{h}{x}\\right)}{h}\n",
    "\\end{align}\n",
    "$\n",
    " \n",
    "Let $\\color{blue}{u = \\frac{h}{x}} $. Note $u\\rightarrow0$ as $h\\rightarrow0$ and $\\color{red}{h = ux}$. Now we substitute $u$ in:\n",
    "\n",
    "$\n",
    "\\begin{align}\n",
    "\\lim_{h \\to 0} \\frac{\\ln\\left(1 + \\color{blue}{\\frac{h}{x}}\\right)}{\\color{red}{h}}\n",
    "&=\\lim_{u \\to 0} \\frac{\\ln\\left(1 + \\color{blue}{u}\\right)}{\\color{red}{ux}} \n",
    "=\\frac{1}{x}\\cdot\\lim_{u \\to 0} \\frac{\\ln\\left(1 + u\\right)}{u} \n",
    "\\end{align}\n",
    "$"
   ]
  },
  {
   "cell_type": "markdown",
   "metadata": {
    "slideshow": {
     "slide_type": "skip"
    }
   },
   "source": [
    "Now it's not clear what $\\hspace{.5cm}\\displaystyle\\lim_{u \\to 0} \\frac{\\ln\\left(1 + u\\right)}{u}\\hspace{.5cm}$ should be because of the potential division by zero.\n",
    "\n",
    "But we can check graphically that the fraction goes to 1 as $h\\rightarrow0$."
   ]
  },
  {
   "cell_type": "code",
   "execution_count": 10,
   "metadata": {
    "hideCode": false,
    "hidePrompt": false,
    "slideshow": {
     "slide_type": "skip"
    }
   },
   "outputs": [
    {
     "name": "stderr",
     "output_type": "stream",
     "text": [
      "/tmp/ipykernel_1564860/1711845374.py:3: RuntimeWarning: divide by zero encountered in log\n",
      "  y = np.log(1+u)/u\n"
     ]
    },
    {
     "data": {
      "image/png": "[encoded data removed]",
      "text/plain": [
       "<Figure size 576x432 with 1 Axes>"
      ]
     },
     "metadata": {
      "needs_background": "light"
     },
     "output_type": "display_data"
    }
   ],
   "source": [
    "# hide\n",
    "u = np.linspace(-1,-.05,50)\n",
    "y = np.log(1+u)/u\n",
    "plt.figure(figsize=(8,6))\n",
    "plt.plot(u,y,label=\"$\\\\frac{\\\\ln(1+u)}{u}$\",linewidth=3,color='k')\n",
    "u = np.linspace(.05,3,50)\n",
    "y = np.log(1+u)/u\n",
    "plt.plot(u,y,label=\"_data\",linewidth=3,color='k')\n",
    "plt.plot(0,1,'wo',markeredgecolor='k',markersize=15,label=\"Does Not Exist\")\n",
    "plt.xticks(fontsize=15)\n",
    "plt.yticks(fontsize=15)\n",
    "plt.xlabel(\"$u$\",fontsize=15)\n",
    "# plt.ylabel(\"$\\\\frac{e^h-1}{h}$\",fontsize=15,rotate=90)\n",
    "plt.legend(fontsize=20,frameon=False);"
   ]
  },
  {
   "cell_type": "markdown",
   "metadata": {
    "slideshow": {
     "slide_type": "skip"
    }
   },
   "source": [
    "and so $\\hspace{.5cm}\\displaystyle\\frac{d\\,\\ln(x)}{dx}=\\frac{1}{x}\\cdot\\left(\\lim_{u \\to 0} \\frac{\\ln\\left(1 + u\\right)}{u}\\right) = \\frac{1}{x}\\cdot(1)$"
   ]
  },
  {
   "cell_type": "markdown",
   "metadata": {
    "slideshow": {
     "slide_type": "subslide"
    }
   },
   "source": [
    "Another example is finding the derivative of the normal distribution function $\\hspace{.5cm}\\displaystyle N(x)={\\frac {1}{\\sqrt {2\\pi \\sigma ^{2}}}}e^{-{\\frac {(x-\\mu )^{2}}{2\\sigma ^{2}}}}=A\\cdot e^{B\\cdot(x-\\mu)^2}\\hspace{.5cm}$ where $A$ and $B$ are constants that do not change with $x$.\n",
    "\n",
    "To find $N'(x)$, we need the derivative of $e^{g(x)}$ where $g(x)=B\\cdot(x-\\mu)^2=Bx^2-(2B\\mu)x+(B\\mu^2)$ is a polynomial when $\\mu$ and $\\sigma$ are treated as constants.\n",
    "\n",
    "Using the Power Rule, we know\n",
    "$\n",
    "\\hspace{.5cm}\n",
    "g'(x)=2Bx-2B\\mu\n",
    "$\n",
    "\n",
    "But what about\n",
    "$\n",
    "\\hspace{.5cm}\n",
    "\\displaystyle\n",
    "\\frac{d\\,e^{g(x)}}{dx}\n",
    "$?"
   ]
  },
  {
   "cell_type": "markdown",
   "metadata": {
    "slideshow": {
     "slide_type": "subslide"
    }
   },
   "source": [
    "First, a simpler question. Let $f(x)=e^x$. Can we find $f'(x)$?\n",
    "\n",
    "\\begin{align}\n",
    "f'(x) \n",
    "&= \\lim_{h\\rightarrow0}\\frac{f(x+h)-f(x)}{h}\n",
    "= \\lim_{h\\rightarrow0}\\frac{\\color{blue}{e^{x+h}}-e^x}{h}\n",
    "= \\lim_{h\\rightarrow0}\\frac{\\color{blue}{e^xe^h}-e^x}{h}\n",
    "\\hspace{.5cm}\\text{using exponent rules $\\color{blue}{a^{b+c}=a^ba^c}$}\n",
    "\\\\ \\\\\n",
    "&= e^x \\left(\\lim_{h\\rightarrow0}\\frac{e^h-1}{h}\\right)\n",
    "\\end{align}\n",
    "\n",
    "At which point it's not obvious how to solve the limit \n",
    "$\n",
    "\\hspace{.5cm}\n",
    "\\displaystyle\n",
    "\\lim_{h\\rightarrow0}\\frac{e^h-1}{h}\n",
    "\\hspace{.5cm}\n",
    "$\n",
    "because of the potential division by zero.\n"
   ]
  },
  {
   "cell_type": "markdown",
   "metadata": {
    "slideshow": {
     "slide_type": "subslide"
    }
   },
   "source": [
    "However, graphically, it's clear that \n",
    "$\n",
    "\\hspace{.5cm}\n",
    "\\displaystyle\n",
    "\\lim_{h\\rightarrow0}\\frac{e^h-1}{h}\n",
    "=1\n",
    "$"
   ]
  },
  {
   "cell_type": "code",
   "execution_count": 9,
   "metadata": {
    "hideCode": false,
    "hidePrompt": false,
    "slideshow": {
     "slide_type": "fragment"
    }
   },
   "outputs": [
    {
     "data": {
      "image/png": "[encoded data removed]",
      "text/plain": [
       "<Figure size 576x432 with 1 Axes>"
      ]
     },
     "metadata": {
      "needs_background": "light"
     },
     "output_type": "display_data"
    }
   ],
   "source": [
    "# hide\n",
    "h = np.linspace(-1,-.05,50)\n",
    "y = (np.exp(h)-1)/h\n",
    "plt.figure(figsize=(8,6))\n",
    "plt.plot(h,y,label=\"$\\\\frac{e^h-1}{h}$\",linewidth=3,color='k')\n",
    "h = np.linspace(.05,3,50)\n",
    "y = (np.exp(h)-1)/h\n",
    "plt.plot(h,y,label=\"_data\",linewidth=3,color='k')\n",
    "plt.plot(0,1,'wo',markeredgecolor='k',markersize=15,label=\"Does Not Exist\")\n",
    "plt.xticks(fontsize=15)\n",
    "plt.yticks(fontsize=15)\n",
    "plt.xlabel(\"$h$\",fontsize=15)\n",
    "# plt.ylabel(\"$\\\\frac{e^h-1}{h}$\",fontsize=15,rotate=90)\n",
    "plt.legend(fontsize=20,frameon=False);"
   ]
  },
  {
   "cell_type": "markdown",
   "metadata": {
    "slideshow": {
     "slide_type": "subslide"
    }
   },
   "source": [
    "Therefore, \n",
    "\\begin{align}\n",
    "f'(x) \n",
    "&= \\lim_{h\\rightarrow0}\\frac{f(x+h)-f(x)}{h}\n",
    "= \\lim_{h\\rightarrow0}\\frac{\\color{blue}{e^{x+h}}-e^x}{h}\n",
    "= \\lim_{h\\rightarrow0}\\frac{\\color{blue}{e^xe^h}-e^x}{h}\n",
    "\\hspace{.5cm}\\text{using exponent rules $\\color{blue}{a^{b+c}=a^ba^c}$}\n",
    "\\\\ \\\\\n",
    "&= e^x \\left(\\lim_{h\\rightarrow0}\\frac{e^h-1}{h}\\right)\n",
    "= e^x\\cdot(1)\n",
    "\\color{red}{= e^x}\n",
    "\\end{align}\n",
    "\n",
    "<font color=\"magenta\">Interestingly, when $f(x)=e^x$ we have $f'(x)=f(x)$</font>"
   ]
  },
  {
   "cell_type": "markdown",
   "metadata": {
    "slideshow": {
     "slide_type": "subslide"
    }
   },
   "source": [
    "Next, continuing to let $f(x)=e^x$ and $g(x)=Bx^2-2B\\mu\\cdot x+B\\mu^2$, how do we find \n",
    "$\n",
    "\\hspace{.5cm}\n",
    "\\displaystyle\n",
    "\\frac{d\\,e^{g(x)}}{dx}\n",
    "$\n",
    "?\n",
    "\n",
    "First, notice that $f\\left(g(x)\\right)=e^{g(x)}$, so a more general question is \n",
    "\n",
    "<font color=\"orange\">if $f'(x)$ and $g'(x)$ are known (i.e., both functions are smooth and continuous), then what is\n",
    "$\n",
    "\\hspace{.5cm}\n",
    "\\displaystyle\n",
    "\\frac{d\\,f\\left(g(x)\\right)}{dx}\n",
    "$?</font>"
   ]
  },
  {
   "cell_type": "markdown",
   "metadata": {
    "slideshow": {
     "slide_type": "fragment"
    }
   },
   "source": [
    "By definition:\n",
    "$\n",
    "\\hspace{.5cm}\n",
    "\\displaystyle\n",
    "\\frac{d\\,f\\left(g(x)\\right)}{dx}\n",
    "= \\lim_{h\\rightarrow0}\\frac{f\\left(g(x+h)\\right)-f\\left(g(x)\\right)}{h}\n",
    "$\n",
    "\n",
    "Because $g(x)$ is smooth and continuous, we know that $g(x+h)\\approx g(x)$ when $h$ is nearly 0. \n",
    "\n",
    "So let $\\color{darkmagenta}{H=g(x+h) - g(x)}$ represent the small difference between the two. Note that $H\\rightarrow0$ as $h\\rightarrow0$."
   ]
  },
  {
   "cell_type": "markdown",
   "metadata": {
    "slideshow": {
     "slide_type": "subslide"
    }
   },
   "source": [
    "$\\color{darkmagenta}{H=g(x+h) - g(x)}$ and $H\\rightarrow0$ as $h\\rightarrow0$.\n",
    "\n",
    "$\n",
    "\\displaystyle\n",
    "\\frac{d\\,f\\left(g(x)\\right)}{dx}\n",
    "= \\lim_{h\\rightarrow0}\\frac{f\\left(\\color{darkmagenta}{g(x+h)}\\right)-f\\left(g(x)\\right)}{h}\n",
    "=\\lim_{h\\rightarrow0}\\lim_{H\\rightarrow0}\\frac{f\\left(\\color{darkmagenta}{g(x)+H}\\right)-f\\left(g(x)\\right)}{h}\n",
    "\\\\\\\\ \\displaystyle\n",
    "=\\lim_{h\\rightarrow0}\\lim_{H\\rightarrow0}\\frac{f\\left(g(x)+H\\right)-f\\left(g(x)\\right)}{\\color{green}{H}}\\cdot\\color{green}{\\frac{H}{h}}\n",
    "\\\\\\\\ \\displaystyle\n",
    "=\\lim_{h\\rightarrow0}\\lim_{H\\rightarrow0}\\frac{f\\left(g(x)+H\\right)-f\\left(g(x)\\right)}{H}\\cdot\\frac{\\color{darkmagenta}{g(x+h) - g(x)}}{h}\n",
    "\\\\\\\\ \\displaystyle\n",
    "=\\color{blue}{\\lim_{H\\rightarrow0}\\frac{f\\left(g(x)+H\\right)-f\\left(g(x)\\right)}{H}}\\cdot\\color{red}{\\lim_{h\\rightarrow0}\\frac{g(x+h) - g(x)}{h}}\n",
    "=\\color{blue}{f'(g(x))}\\cdot\\color{red}{g'(x)}\n",
    "$"
   ]
  },
  {
   "cell_type": "markdown",
   "metadata": {
    "slideshow": {
     "slide_type": "subslide"
    }
   },
   "source": [
    "This yields the derivative ***Chain Rule***:\n",
    "$\n",
    "\\hspace{.5cm}\n",
    "\\displaystyle\n",
    "\\frac{d\\,f(g(x))}{dx} = f'(g(x))\\cdot g'(x)\n",
    "$"
   ]
  },
  {
   "cell_type": "markdown",
   "metadata": {
    "slideshow": {
     "slide_type": "fragment"
    }
   },
   "source": [
    "Returning to our original question...\n",
    "\n",
    "Let $f(x)=e^x$ and $g(x)=Bx^2-2B\\mu\\cdot x+B\\mu^2$\n",
    "\n",
    "We can use the Chain Rule and the Power Rule to solve\n",
    "$\n",
    "\\begin{align}\n",
    "\\displaystyle\n",
    "\\frac{d\\,e^{Bx^2-2B\\mu\\cdot x+B\\mu^2}}{dx}\n",
    "&= \\frac{d\\,f(g(x))}{dx}\n",
    "= f'(g(x))\\cdot g'(x)\n",
    "\\hspace{.5cm}\\text{using the Chain Rule}\n",
    "\\\\\\\\\n",
    "&= e^{g(x)}\\cdot g'(x)\n",
    "\\hspace{.5cm}\\text{because $\\displaystyle f'(x)=\\frac{d\\,e^x}{dx}=e^x$}\n",
    "\\\\\\\\\n",
    "&= e^{Bx^2-2B\\mu\\cdot x+B\\mu^2}\\cdot \\left(2Bx-2B\\mu\\right)\n",
    "\\end{align}\n",
    "$\n",
    "\n",
    "by inserting $g(x)$ and using the Power Rule to find $g'(x)$"
   ]
  },
  {
   "cell_type": "markdown",
   "metadata": {
    "slideshow": {
     "slide_type": "subslide"
    }
   },
   "source": [
    "## Extended Chain Rule\n",
    "We can recursively apply the Chain Rule to more complicated functions.\n",
    "\n",
    "Let $a(x),\\,b(x)$ and $c(x)$ be ***differentiable*** functions (i.e., they are smooth and continuous), and let $\\color{blue}{F(x) = a(b(c(x)))}$\n",
    "\n",
    "$\n",
    "\\begin{align}\n",
    "\\frac{d\\,F(x)}{dx} \n",
    "&= a'(b(c(x)))\\cdot \\color{red}{\\frac{d\\,b(c(x))}{dx}}\n",
    "\\hspace{1cm}\\text{using the Chain Rule on $a(b(\\dots))$}\n",
    "\\\\\\\\\n",
    "&= a'(b(c(x)))\\cdot \\color{red}{b'(c(x))\\cdot c'(x)}\n",
    "\\hspace{1cm}\\text{using the Chain Rule on $b(c(x))$}\n",
    "\\end{align}\n",
    "$"
   ]
  },
  {
   "cell_type": "markdown",
   "metadata": {
    "slideshow": {
     "slide_type": "slide"
    }
   },
   "source": [
    "# Derivative Products and Quotients\n",
    "\n",
    "As mentioned in the last video, calculus is mostly remembering heuristics for the derivatives of simple function (e.g., $e^x$ or polynomials) and combining those simple derivatives to solve the derivatives of more complex functions that are made up of simpler functions.\n",
    "\n",
    "The Chain Rule allows us to handle when a larger function is <i>composed</i> of smaller functions: $\\hspace{.5cm}\\displaystyle \\frac{d\\,f(g(x))}{dx}=f'(g(x))\\cdot g'(x)$\n",
    "\n",
    "Derviative additivity tells us $\\hspace{.5cm}\\displaystyle \\frac{d\\,\\left(f(x)+g(x)\\right)}{dx}=f'(x)+ g'(x)$\n",
    "\n",
    "What about other combinations of differentiable functions $f(x)$ and $g(x)$?"
   ]
  },
  {
   "cell_type": "markdown",
   "metadata": {
    "slideshow": {
     "slide_type": "subslide"
    }
   },
   "source": [
    "## Product Rule\n",
    "\n",
    "Let $F(x) = f(x)\\cdot g(x)$\n",
    "\n",
    "$\n",
    "\\begin{align}\n",
    "F'(x)\n",
    "&= \\lim_{h\\rightarrow0}\\frac{F(x+h)-F(x)}{h}\n",
    "= \\lim_{h\\rightarrow0}\\frac{f(x+h)\\cdot g(x+h)-f(x)\\cdot g(x)}{h}\n",
    "\\\\\\\\\n",
    "&= \\lim_{h\\rightarrow0}\\frac{f(x+h)\\cdot g(x+h)\\color{red}{+\\left[f(x)\\cdot g(x+h)\\right]-\\left[f(x)\\cdot g(x+h)\\right]}-f(x)\\cdot g(x)}{h}\n",
    "\\hspace{.5cm}\\color{red}{\\text{adding 0 to the numerator}}\n",
    "\\\\\\\\\n",
    "&= \\lim_{h\\rightarrow0}\\frac{\\left(f(x+h)-f(x)\\right)\\cdot g(x+h)\\color{blue}{+}f(x)\\cdot\\left(g(x+h)-g(x)\\right)}{h}\n",
    "\\hspace{.5cm}\\text{regrouping terms}\n",
    "\\\\\\\\\n",
    "&= \\left(\\lim_{h\\rightarrow0}\\frac{f(x+h)-f(x)}{h}\\cdot g(x+h)\\right)\\color{blue}{+}\\left(\\lim_{h\\rightarrow0}f(x)\\cdot\\frac{g(x+h)-g(x)}{h}\\right)\n",
    "\\\\\\\\\n",
    "&= f'(x)\\cdot g(x)+f(x)\\cdot g'(x)\n",
    "\\end{align}\n",
    "$"
   ]
  },
  {
   "cell_type": "markdown",
   "metadata": {
    "slideshow": {
     "slide_type": "subslide"
    }
   },
   "source": [
    "## Quotient Rule\n",
    "\n",
    "Let $F(x)=f(x)/g(x)$. What is $F'(x)$?\n",
    "\n",
    "First note that $F(x)= f(x)\\cdot \\frac{1}{g(x)}$ suggesting that we could use the Product Rule.\n",
    "\n",
    "Next, let $A(x) = 1/x$ and note that $A(g(x)) = 1/g(x)$ suggesting that we could use the Chain Rule.\n",
    "\n",
    "$A(x)=x^{-1}$ is a polynomial and so we can find it's derivative using the Power Rule:\n",
    "$\n",
    "\\hspace{.5cm}\n",
    "\\displaystyle\n",
    "A'(x) = \\frac{d\\,x^{-1}}{dx} = -x^{-2} = \\frac{-1}{x^2}\n",
    "$\n",
    "\n",
    "$\n",
    "\\begin{align}\n",
    "F'(x)\n",
    "&= f'(x)\\cdot \\frac{1}{g(x)}+ f(x)\\cdot\\frac{d\\,\\color{red}{\\left(1/g(x)\\right)}}{dx}\n",
    "\\hspace{.5cm}\\text{using the Product Rule}\n",
    "\\\\\\\\\n",
    "&= f'(x)\\cdot \\frac{1}{g(x)}+ f(x)\\cdot\\frac{d\\,\\color{red}{A(g(x))}}{dx}\n",
    "= f'(x)\\cdot \\frac{1}{g(x)}+ f(x)\\cdot\\left(\\color{red}{A'(g(x))\\cdot g'(x)}\\right)\n",
    "\\hspace{.5cm}\\text{using the Chain Rule}\n",
    "\\\\\\\\\n",
    "&= f'(x)\\cdot \\frac{1}{g(x)}+ f(x)\\cdot\\left(\\color{red}{-g(x)^{-2}\\cdot g'(x)}\\right)\n",
    "= \\frac{f'(x)}{g(x)}-\\frac{f(x)\\cdot g'(x)}{g(x)^2}\n",
    "=\\color{orange}{\\frac{f'(x)\\cdot g(x)-f(x)\\cdot g'(x)}{g(x)^2}}\n",
    "\\end{align}\n",
    "$"
   ]
  },
  {
   "cell_type": "markdown",
   "metadata": {
    "slideshow": {
     "slide_type": "slide"
    }
   },
   "source": [
    "# Symbolically Solving Higher Order Derivatives & Partial Derivatives\n",
    "\n",
    "Derivatives might seem like a purely mathy endeavor, but computers are great at handling them symbolically.\n",
    "\n",
    "The strategy used by symbolic math libraries, including SymPy, include a database of derviatives for simple functions (e.g., for $t^n$ or $e^x$) and recursively applying the Chain Rule, Product Rule, and Quotient Rule.\n",
    "\n",
    "You can learn more about doing calculus with SymPy on their <a href=\"https://docs.sympy.org/latest/tutorials/intro-tutorial/calculus.html\">documentation webpage</a> but I will show you some examples."
   ]
  },
  {
   "cell_type": "markdown",
   "metadata": {
    "slideshow": {
     "slide_type": "subslide"
    }
   },
   "source": [
    "Let's try a polynomial that can be solved using the Power Rule and Derivative Additivity.\n",
    "$\n",
    "\\hspace{.5cm}\n",
    "F(t) = t^3 + 2\\cdot t^2 + 5\\cdot t + 2\n",
    "$"
   ]
  },
  {
   "cell_type": "code",
   "execution_count": 28,
   "metadata": {
    "slideshow": {
     "slide_type": "fragment"
    }
   },
   "outputs": [
    {
     "name": "stdout",
     "output_type": "stream",
     "text": [
      "Derivative:\n"
     ]
    },
    {
     "data": {
      "text/latex": [
       "$\\displaystyle 3 t^{2} + 4 t + 5$"
      ],
      "text/plain": [
       "3*t**2 + 4*t + 5"
      ]
     },
     "execution_count": 28,
     "metadata": {},
     "output_type": "execute_result"
    }
   ],
   "source": [
    "import sympy\n",
    "# define symbolic variables\n",
    "t = sympy.symbols(\"t\")\n",
    "# define a function whose derivative we want to know\n",
    "F = t**3 + 2*t**2 + 5*t + 2\n",
    "# take the derivative of F(t) with respect to t\n",
    "print(\"Derivative:\")\n",
    "sympy.diff(F,t)"
   ]
  },
  {
   "cell_type": "markdown",
   "metadata": {
    "slideshow": {
     "slide_type": "subslide"
    }
   },
   "source": [
    " Another example requiring the Chain Rule: $\\hspace{.5cm}G(t)= e^{F(t)}$"
   ]
  },
  {
   "cell_type": "code",
   "execution_count": 29,
   "metadata": {
    "slideshow": {
     "slide_type": "fragment"
    }
   },
   "outputs": [
    {
     "name": "stdout",
     "output_type": "stream",
     "text": [
      "exp(t**3 + 2*t**2 + 5*t + 2)\n",
      "Derivative:\n"
     ]
    },
    {
     "data": {
      "text/latex": [
       "$\\displaystyle \\left(3 t^{2} + 4 t + 5\\right) e^{t^{3} + 2 t^{2} + 5 t + 2}$"
      ],
      "text/plain": [
       "(3*t**2 + 4*t + 5)*exp(t**3 + 2*t**2 + 5*t + 2)"
      ]
     },
     "execution_count": 29,
     "metadata": {},
     "output_type": "execute_result"
    }
   ],
   "source": [
    "F = t**3 + 2*t**2 + 5*t + 2\n",
    "G = sympy.exp(F)\n",
    "print(G)\n",
    "print(\"Derivative:\")\n",
    "G1 = sympy.diff(G,t)\n",
    "G1"
   ]
  },
  {
   "cell_type": "code",
   "execution_count": 30,
   "metadata": {
    "slideshow": {
     "slide_type": "fragment"
    }
   },
   "outputs": [
    {
     "data": {
      "text/latex": [
       "$\\displaystyle 25 e^{28}$"
      ],
      "text/plain": [
       "25*exp(28)"
      ]
     },
     "execution_count": 30,
     "metadata": {},
     "output_type": "execute_result"
    }
   ],
   "source": [
    "# evaluate derivative function at specific value t=2\n",
    "G1.subs(t,2)"
   ]
  },
  {
   "cell_type": "markdown",
   "metadata": {
    "slideshow": {
     "slide_type": "subslide"
    }
   },
   "source": [
    "## Multiple Derivatives\n",
    "\n",
    "Imagine we have a car starting from a stop and then travelling over time following the function \n",
    "$\n",
    "\\hspace{.5cm}\n",
    "f(t)=\\frac{x^3}{3}+x^2\n",
    "$\n",
    "\n",
    "This is similar to an example we already discussed in this module."
   ]
  },
  {
   "cell_type": "code",
   "execution_count": 70,
   "metadata": {
    "hideCode": false,
    "hidePrompt": false,
    "slideshow": {
     "slide_type": "fragment"
    }
   },
   "outputs": [
    {
     "data": {
      "application/vnd.jupyter.widget-view+json": {
       "model_id": "f8ebeb4a0a984761ae1d864243e9583c",
       "version_major": 2,
       "version_minor": 0
      },
      "text/plain": [
       "HBox(children=(VBox(children=(FloatSlider(value=5.0, description='Time (Hours):', max=5.9, step=0.01), Checkbo…"
      ]
     },
     "execution_count": 70,
     "metadata": {},
     "output_type": "execute_result"
    }
   ],
   "source": [
    "# hide\n",
    "derivativeWidget(exploreCarDerivativeSmooth,lambda x: x**2+2*x,lambda x: (1/3)*x**3+x**2,np.linspace(0,6,100))"
   ]
  },
  {
   "cell_type": "markdown",
   "metadata": {
    "slideshow": {
     "slide_type": "subslide"
    }
   },
   "source": [
    "Since the car's speed is increasing over time, car must be accelerating over time. \n",
    "\n",
    "***Acceleration*** is the rate of change of the rate of change. \n",
    "\n",
    "Or, in calculus terms, it's the derivative of the derivative of $f(t)$.\n",
    "\n",
    "Remember the shorthand $f\\color{red}{'}(t)$ for denoting the derivative of $f(t)$.\n",
    "\n",
    "We do something similar to denote the derivative of the derivative using $f\\color{red}{''}(t)$. That is\n",
    "\n",
    "$\n",
    "\\displaystyle\n",
    "f''(t) = \\frac{d}{dt}\\left(\\frac{d}{dt}f(t)\\right)\n",
    "$"
   ]
  },
  {
   "cell_type": "markdown",
   "metadata": {
    "slideshow": {
     "slide_type": "subslide"
    }
   },
   "source": [
    "Lets find the $f''(t)$ using SymPy."
   ]
  },
  {
   "cell_type": "code",
   "execution_count": 31,
   "metadata": {
    "slideshow": {
     "slide_type": "fragment"
    }
   },
   "outputs": [
    {
     "data": {
      "text/latex": [
       "$\\displaystyle \\frac{t^{3}}{3} + t^{2}$"
      ],
      "text/plain": [
       "t**3/3 + t**2"
      ]
     },
     "execution_count": 31,
     "metadata": {},
     "output_type": "execute_result"
    }
   ],
   "source": [
    "from fractions import Fraction\n",
    "# original function: distance travelled over time\n",
    "f = Fraction(1,3)*t**3+t**2\n",
    "f"
   ]
  },
  {
   "cell_type": "code",
   "execution_count": 32,
   "metadata": {
    "slideshow": {
     "slide_type": "fragment"
    }
   },
   "outputs": [
    {
     "data": {
      "text/latex": [
       "$\\displaystyle t^{2} + 2 t$"
      ],
      "text/plain": [
       "t**2 + 2*t"
      ]
     },
     "execution_count": 32,
     "metadata": {},
     "output_type": "execute_result"
    }
   ],
   "source": [
    "# first derivative: the speed of the car over time\n",
    "f1 = sympy.diff(f,t)\n",
    "f1"
   ]
  },
  {
   "cell_type": "code",
   "execution_count": 33,
   "metadata": {
    "slideshow": {
     "slide_type": "fragment"
    }
   },
   "outputs": [
    {
     "data": {
      "text/latex": [
       "$\\displaystyle 2 t + 2$"
      ],
      "text/plain": [
       "2*t + 2"
      ]
     },
     "execution_count": 33,
     "metadata": {},
     "output_type": "execute_result"
    }
   ],
   "source": [
    "# second derivative: the acceleration of the car over time\n",
    "f2 = sympy.diff(f1,t)\n",
    "f2"
   ]
  },
  {
   "cell_type": "markdown",
   "metadata": {
    "slideshow": {
     "slide_type": "subslide"
    }
   },
   "source": [
    "Another option is to solve for the second derivative directly in SymPy."
   ]
  },
  {
   "cell_type": "code",
   "execution_count": 35,
   "metadata": {
    "slideshow": {
     "slide_type": "fragment"
    }
   },
   "outputs": [
    {
     "data": {
      "text/latex": [
       "$\\displaystyle 2 t + 2$"
      ],
      "text/plain": [
       "2*t + 2"
      ]
     },
     "execution_count": 35,
     "metadata": {},
     "output_type": "execute_result"
    }
   ],
   "source": [
    "sympy.diff(f,t,t).simplify()"
   ]
  },
  {
   "cell_type": "code",
   "execution_count": 36,
   "metadata": {
    "slideshow": {
     "slide_type": "fragment"
    }
   },
   "outputs": [
    {
     "data": {
      "text/latex": [
       "$\\displaystyle 2 t + 2$"
      ],
      "text/plain": [
       "2*t + 2"
      ]
     },
     "execution_count": 36,
     "metadata": {},
     "output_type": "execute_result"
    }
   ],
   "source": [
    "# alternatively\n",
    "sympy.diff(f,t,2).simplify()"
   ]
  },
  {
   "cell_type": "markdown",
   "metadata": {
    "slideshow": {
     "slide_type": "subslide"
    }
   },
   "source": [
    "Let's see $f(t)$, $f'(t)$, and $f''(t)$ together."
   ]
  },
  {
   "cell_type": "code",
   "execution_count": 37,
   "metadata": {
    "slideshow": {
     "slide_type": "fragment"
    }
   },
   "outputs": [],
   "source": [
    "numpy_f = sympy.lambdify(t,f,\"numpy\")\n",
    "numpy_f1 = sympy.lambdify(t,f1,\"numpy\")\n",
    "numpy_f2 = sympy.lambdify(t,f2,\"numpy\")\n",
    "t = np.linspace(0,6,100)\n",
    "distance,speed,acceleration = numpy_f(t),numpy_f1(t),numpy_f2(t) "
   ]
  },
  {
   "cell_type": "code",
   "execution_count": 38,
   "metadata": {
    "hideCode": false,
    "hidePrompt": false,
    "slideshow": {
     "slide_type": "fragment"
    }
   },
   "outputs": [
    {
     "data": {
      "application/vnd.jupyter.widget-view+json": {
       "model_id": "4bad107442834615a571c427fa02f0de",
       "version_major": 2,
       "version_minor": 0
      },
      "text/plain": [
       "interactive(children=(FloatSlider(value=3.0, description='tt', max=6.0), Output()), _dom_classes=('widget-inte…"
      ]
     },
     "metadata": {},
     "output_type": "display_data"
    }
   ],
   "source": [
    "# hide\n",
    "def plotAllF(tt):\n",
    "    plt.figure(figsize=(14,4))\n",
    "    plt.subplot(1,3,1)\n",
    "    plt.plot(t,distance,linewidth=3)\n",
    "    plt.plot(tt,numpy_f(tt),'ro',markersize=10)\n",
    "    plt.xticks(fontsize=15)\n",
    "    plt.yticks(fontsize=15)\n",
    "    plt.xlabel(\"Time ($t$)\",fontsize=15)\n",
    "    plt.ylabel(\"Distance ($f(t)$)\",fontsize=15)\n",
    "    plt.title(\"$f(t)=%s$\" % sympy.latex(f),fontsize=15)\n",
    "    plt.subplot(1,3,2)\n",
    "    plt.plot(t,speed,linewidth=3)\n",
    "    plt.plot(tt,numpy_f1(tt),'ro',markersize=10)\n",
    "    plt.xticks(fontsize=15)\n",
    "    plt.yticks(fontsize=15)\n",
    "    plt.xlabel(\"Time ($t$)\",fontsize=15)\n",
    "    plt.ylabel(\"Speed ($f'(t)$)\",fontsize=15)\n",
    "    plt.title(\"$f'(t)=%s$\" % sympy.latex(f1),fontsize=15)\n",
    "    plt.subplot(1,3,3)\n",
    "    plt.plot(t,acceleration,linewidth=3)\n",
    "    plt.plot(tt,numpy_f2(tt),'ro',markersize=10)\n",
    "    plt.xticks(fontsize=15)\n",
    "    plt.yticks(fontsize=15)\n",
    "    plt.xlabel(\"Time ($t$)\",fontsize=15)\n",
    "    plt.ylabel(\"Acceleration ($f''(t)$)\",fontsize=15)\n",
    "    plt.title(\"$f''(t)=%s$\" % sympy.latex(f2),fontsize=15)\n",
    "    plt.tight_layout()\n",
    "    \n",
    "widgets.interact(plotAllF,tt=(0,6,.1));"
   ]
  },
  {
   "cell_type": "markdown",
   "metadata": {
    "slideshow": {
     "slide_type": "subslide"
    }
   },
   "source": [
    "## Partial Derivatives\n",
    "\n",
    "In economics, a production function describes the relationship between input factors (e.g., workers and technology) and the output of a good or service. Let's denote the production function as $P(L, K)$ where $P$ is the production output, $L$ represents labor, and $K$ represents capital.\n",
    "\n",
    "\n",
    "Assume a factory's production can be modeled by the function:\n",
    "$$P(L, K) = 100\\cdot L^{0.5}\\cdot K^{0.5} $$\n",
    "where $P$ is the number of nails produced, $L$ is the number of labor hours, and $ K$ is the capital investment in machinery.\n",
    "\n",
    "We want to understand how changes in labor or capital alone affect production."
   ]
  },
  {
   "cell_type": "code",
   "execution_count": 27,
   "metadata": {
    "hideCode": false,
    "hidePrompt": false,
    "slideshow": {
     "slide_type": "fragment"
    }
   },
   "outputs": [
    {
     "data": {
      "image/png": "[encoded data removed]",
      "text/plain": [
       "<Figure size 576x432 with 2 Axes>"
      ]
     },
     "metadata": {
      "needs_background": "light"
     },
     "output_type": "display_data"
    }
   ],
   "source": [
    "# hide \n",
    "P = lambda L,K: 100 * L**0.5 * K**0.5\n",
    "Ls = np.arange(0,11)\n",
    "Ks = np.arange(0,11)\n",
    "LL,KK = np.meshgrid(Ls,Ks)\n",
    "pp = P(LL,KK)\n",
    "plt.figure(figsize=(8,6))\n",
    "plt.contourf(Ls,Ks,pp)\n",
    "plt.xticks(fontsize=15)\n",
    "plt.yticks(fontsize=15)\n",
    "plt.xlabel(\"Label ($L$)\",fontsize=15)\n",
    "plt.ylabel(\"Capital ($K$)\",fontsize=15)\n",
    "cb = plt.colorbar()\n",
    "cb.set_label(\"Production ($P(L,K)$)\",fontsize=15);"
   ]
  },
  {
   "cell_type": "markdown",
   "metadata": {
    "slideshow": {
     "slide_type": "subslide"
    }
   },
   "source": [
    "$$P(L, K) = 100\\cdot L^{0.5}\\cdot K^{0.5} $$\n",
    "\n",
    "To explore the impact of changing one variable while keeping the other constant, we calculate the ***partial derivatives*** of the production function with respect to $L$ and $K$.\n",
    "\n",
    "Sometimes functions are comprised of multiple variables. Partial derivatives are the derivatives of functions with respect to one of those variables while the remaining variables are treated as constant.\n",
    "\n",
    "How does increasing the number of labor hours (while keeping capital constant) affect production?"
   ]
  },
  {
   "cell_type": "markdown",
   "metadata": {
    "slideshow": {
     "slide_type": "subslide"
    }
   },
   "source": [
    "The partial derviative of $P(K,L)$ with respect to labor $L$ is\n",
    "\n",
    "$\n",
    "\\displaystyle\n",
    "\\begin{align}\n",
    "\\frac{\\partial\\,P(K,L)}{\\partial L} &= P'_L(K,L) = \\frac{d}{dL}\\left(100\\cdot L^{0.5}\\cdot K^{0.5}\\right)\n",
    "\\\\\\\\\n",
    "&= \\frac{d}{dL}\\left(\\color{red}{C}\\cdot L^{0.5}\\right)\n",
    "\\hspace{.5cm}\\text{where $\\color{red}{C=100\\cdot K^{0.5}}$ is a constant}\n",
    "\\\\\\\\\n",
    "&= 0.5\\cdot \\color{red}{C}\\cdot L^{-0.5}\n",
    "\\hspace{.5cm}\\text{using the Power Rule}\n",
    "\\\\\\\\\n",
    "&= 0.5\\cdot \\color{red}{100\\cdot K^{0.5}} \\cdot L^{-0.5}\n",
    "= 50\\cdot \\sqrt{K/L}\n",
    "\\hspace{.5cm}\\text{substituting in for $C$ and simplifying}\n",
    "\\\\\\\\\n",
    "\\end{align}\n",
    "$"
   ]
  },
  {
   "cell_type": "code",
   "execution_count": 39,
   "metadata": {
    "slideshow": {
     "slide_type": "subslide"
    }
   },
   "outputs": [
    {
     "data": {
      "text/latex": [
       "$\\displaystyle 100 K^{0.5} L^{0.5}$"
      ],
      "text/plain": [
       "100*K**0.5*L**0.5"
      ]
     },
     "execution_count": 39,
     "metadata": {},
     "output_type": "execute_result"
    }
   ],
   "source": [
    "# solving the partial derivative using SymPy\n",
    "K,L = sympy.symbols(\"K L\")\n",
    "P = 100 * L**0.5 * K**0.5\n",
    "P"
   ]
  },
  {
   "cell_type": "code",
   "execution_count": 40,
   "metadata": {
    "slideshow": {
     "slide_type": "fragment"
    }
   },
   "outputs": [
    {
     "data": {
      "text/latex": [
       "$\\displaystyle \\frac{50.0 K^{0.5}}{L^{0.5}}$"
      ],
      "text/plain": [
       "50.0*K**0.5/L**0.5"
      ]
     },
     "execution_count": 40,
     "metadata": {},
     "output_type": "execute_result"
    }
   ],
   "source": [
    "# partial derivative wrt K\n",
    "P_L = sympy.diff(P,L)\n",
    "P_L"
   ]
  },
  {
   "cell_type": "markdown",
   "metadata": {
    "slideshow": {
     "slide_type": "slide"
    }
   },
   "source": [
    "# Example: Population Growth\n",
    "\n",
    "Many factors shape a specie's population growth over time.\n",
    "\n",
    "Partially, population is determined by a specie's reproduction rate $\\color{red}{r}$ representing how many babies are born at time $t$.\n",
    "\n",
    "But, the environment also shapes population growth. For example, the amount of food available in an environment can create a \"carrying capacity\" $\\color{blue}{k}$ limiting the maximum number of animals that can find enough nutrition.\n",
    "\n",
    "In the absence of predators or competition for food, a small population will grow until it reaches the environment's carrying capacity."
   ]
  },
  {
   "cell_type": "markdown",
   "metadata": {
    "slideshow": {
     "slide_type": "subslide"
    }
   },
   "source": [
    "Biologists describe population growth using the ***logistic curve*** (often called an S-curve):\n",
    "$$\n",
    "L(t)={\\frac {\\color{blue}{k}}{1+e^{-\\color{red}{r}\\cdot (t-t_0)}}}\n",
    "$$\n",
    "\n",
    "where $t$ is time and $L$ is the population.\n"
   ]
  },
  {
   "cell_type": "code",
   "execution_count": 44,
   "metadata": {
    "hideCode": false,
    "hidePrompt": false,
    "slideshow": {
     "slide_type": "fragment"
    }
   },
   "outputs": [
    {
     "data": {
      "application/vnd.jupyter.widget-view+json": {
       "model_id": "2135bcf3acdc4e7292896f5d358eb603",
       "version_major": 2,
       "version_minor": 0
      },
      "text/plain": [
       "HBox(children=(VBox(children=(FloatSlider(value=1.0, description='$k$:', max=2.0), FloatSlider(value=1.0, desc…"
      ]
     },
     "execution_count": 44,
     "metadata": {},
     "output_type": "execute_result"
    }
   ],
   "source": [
    "# hide\n",
    "L = lambda t,k,r,t0: k/(1+np.exp(-r*(t-t0)))\n",
    "\n",
    "def plotLogistic(k,r,t0,t=None):\n",
    "    if t is None:\n",
    "        t=np.linspace(0,20,20)\n",
    "    y = L(t,k,r,t0)\n",
    "    plt.plot(t,y,label=\"$L(t)=\\\\frac{%0.1f}{1+e^{-%0.1f(t-%0.1f)}}$\" % (k,r,t0))\n",
    "    plt.xticks(fontsize=15)\n",
    "    plt.yticks(fontsize=15)\n",
    "    plt.xlabel(\"Time ($t$)\",fontsize=15)\n",
    "    plt.ylabel(\"Population Size ($L$)\",fontsize=15)\n",
    "    plt.legend(fontsize=15,frameon=False,loc=\"upper left\")\n",
    "    plt.ylim((0,2))\n",
    "    \n",
    "kSlider = widgets.FloatSlider(min=0, max=2, step=0.1, value=1, description=\"$k$:\")\n",
    "rSlider = widgets.FloatSlider(min=0, max=2, step=0.1, value=1, description=\"$r$:\")\n",
    "toSlider = widgets.FloatSlider(min=0, max=20, step=0.1, value=10, description=\"$t_0$:\")\n",
    "widgets.HBox([\n",
    "    widgets.VBox([kSlider,rSlider,toSlider]),\n",
    "    widgets.interactive_output(plotLogistic,{'k': kSlider,'r':rSlider,'t0':toSlider})\n",
    "])"
   ]
  },
  {
   "cell_type": "markdown",
   "metadata": {
    "slideshow": {
     "slide_type": "subslide"
    }
   },
   "source": [
    "Let's consider the simplifed version where $k=r=1$ and $t_0=0$\n",
    "$$\n",
    "L(t)=\\frac {1}{1+e^{-t}}\n",
    "=\\frac {e^t}{1+e^t}\n",
    "$$"
   ]
  },
  {
   "cell_type": "code",
   "execution_count": 51,
   "metadata": {
    "hideCode": false,
    "hidePrompt": false,
    "slideshow": {
     "slide_type": "fragment"
    }
   },
   "outputs": [
    {
     "data": {
      "image/png": "[encoded data removed]",
      "text/plain": [
       "<Figure size 432x288 with 1 Axes>"
      ]
     },
     "metadata": {
      "needs_background": "light"
     },
     "output_type": "display_data"
    }
   ],
   "source": [
    "#hide \n",
    "plotLogistic(1,1,0,np.linspace(-6,6,100))\n",
    "plt.ylim(0,1.25);"
   ]
  },
  {
   "cell_type": "markdown",
   "metadata": {
    "slideshow": {
     "slide_type": "subslide"
    }
   },
   "source": [
    "$\n",
    "\\displaystyle\n",
    "\\begin{align}\n",
    "L(t)&=\\frac {1}{1+e^{-t}}=\\color{red}{\\frac {e^t}{1+e^t}}\n",
    "\\\\\\\\\\\\\n",
    "L'(t)\n",
    "&=\\frac {e^{t}\\cdot (1+e^{t})-e^{t}\\cdot e^{t}}{(1+e^{t})^{2}}\n",
    "\\hspace{1cm}\\text{using the Quotient Rule}\n",
    "\\\\\\\\\n",
    "&=\\frac {e^{t}+e^{2t}-e^{2t}}{(1+e^{t})^{2}}\n",
    "=\\frac {e^{t}}{(1+e^{t})^{2}}\n",
    "\\\\\\\\\n",
    "&=\\left({\\frac {e^{t}}{1+e^{t}}}\\right)\\left({\\frac {1}{1+e^{t}}}\\right)\n",
    "=\\left({\\color{red}{\\frac {e^{t}}{1+e^{t}}}}\\right)\\left(1-\\color{red}{\\frac {e^{t}}{1+e^{t}}}\\right)\n",
    "=L(t)\\left(1-L(t)\\right)\n",
    "\\end{align}\n",
    "$"
   ]
  },
  {
   "cell_type": "code",
   "execution_count": 52,
   "metadata": {
    "hideCode": false,
    "hidePrompt": false,
    "scrolled": false,
    "slideshow": {
     "slide_type": "subslide"
    }
   },
   "outputs": [
    {
     "data": {
      "application/vnd.jupyter.widget-view+json": {
       "model_id": "240b63096bfd4639a8e024200635d517",
       "version_major": 2,
       "version_minor": 0
      },
      "text/plain": [
       "interactive(children=(FloatSlider(value=0.0, description='xx', max=6.0, min=-6.0), Output()), _dom_classes=('w…"
      ]
     },
     "metadata": {},
     "output_type": "display_data"
    }
   ],
   "source": [
    "# hide\n",
    "def logisticSubplot(xx):\n",
    "    x = np.linspace(-6,6,100)\n",
    "    plt.figure(figsize=(14,6))\n",
    "    plt.subplot(1,2,1)\n",
    "    plotLogistic(1,1,0,x)\n",
    "    plt.plot(xx,L(xx,1,1,0),'ro')\n",
    "    plt.ylim(0,1.25)\n",
    "    plt.title(\"Population Growth\",fontsize=15)\n",
    "    plt.subplot(1,2,2)\n",
    "    l = lambda x,k,r,x0: L(x,k,r,x0)*(1-L(x,k,r,x0))\n",
    "    y = l(x,1,1,0)\n",
    "    plt.plot(x,y)\n",
    "    plt.plot(xx,l(xx,1,1,0),'ro')\n",
    "    plt.title(\"Derivative\",fontsize=15)\n",
    "    plt.xticks(fontsize=15)\n",
    "    plt.ylabel(\"Population Rate of Change\",fontsize=15)\n",
    "    plt.yticks(fontsize=15)\n",
    "    plt.xlabel(\"Time ($t$)\",fontsize=15)\n",
    "    plt.tight_layout()\n",
    "    \n",
    "widgets.interact(logisticSubplot,xx=(-6,6,.1));"
   ]
  },
  {
   "cell_type": "markdown",
   "metadata": {
    "slideshow": {
     "slide_type": "slide"
    }
   },
   "source": [
    "# Derivatives and Stationary Points\n",
    "\n",
    "Imagine a car is moving at a constant speed of <font color=\"blue\">50 miles per hour (mph)</font>.\n",
    "\n",
    "At time $t=0$, the car begins to decelerate (i.e., accelerate negatively) at a constant <font color=\"red\">$5$ miles per hour squared (i.e., $m/h^2$)</font>.\n",
    "\n",
    "At what time will the car stop?"
   ]
  },
  {
   "cell_type": "markdown",
   "metadata": {
    "slideshow": {
     "slide_type": "fragment"
    }
   },
   "source": [
    "We can write the elements of this problem using the tools in this module.\n",
    "- Let $f(t)$ represent the car's distance over time (we don't actually need to know what $f(t)$ looks like).\n",
    "- $\\color{blue}{f'(0)=50\\text{ mph}}$ but we do not know $f'(t)$ for $t>0$\n",
    "- $\\color{red}{f''(t)=-5}$ for all $t\\geq0$\n"
   ]
  },
  {
   "cell_type": "markdown",
   "metadata": {
    "slideshow": {
     "slide_type": "subslide"
    }
   },
   "source": [
    "Since the car has a constant deceleration of $\\color{red}{-5}$, we can write that the car's speed $f'(t)$ is changing from the constant value $\\hspace{.5cm}f'(0)=50\\hspace{.5cm}$ according to \n",
    " \n",
    "$\n",
    "\\displaystyle\n",
    "f'(t) = \\color{blue}{50} + t\\cdot \\color{red}{f''(t)} = 50\\color{red}{-5}\\cdot t\n",
    "$\n",
    "\n",
    "where you might recognize that \n",
    "$\n",
    "\\hspace{.5cm}\n",
    "\\displaystyle\n",
    "    \\frac{d\\,(\\color{red}{-5}\\cdot t)}{dt}  = \\color{red}{-5} = f''(t)\n",
    "$\n",
    "\n",
    "Note that according to this solution $\\hspace{.5cm}f'(0)=50- \\color{red}{5}\\cdot 0=50\\hspace{.5cm}$ as required by the problem statement."
   ]
  },
  {
   "cell_type": "markdown",
   "metadata": {
    "slideshow": {
     "slide_type": "fragment"
    }
   },
   "source": [
    "At what time will the car stop?\n",
    "\n",
    "The car is stopped when the car's speed is 0. In other words, what is the time $t$ when $\\hspace{.5cm}f'(t)=0\\hspace{.5cm}$?\n",
    "\n",
    "$\n",
    "0 = f'(t) = \\color{blue}{50}-\\color{red}{5}t \\hspace{.5cm}\\Rightarrow\\hspace{.5cm}  \\color{red}{5}t=\\color{blue}{50} \\hspace{.5cm}\\Rightarrow\\hspace{.5cm} t=\\color{blue}{50}/\\color{red}{5} = 10\\text{ hours}\n",
    "$"
   ]
  },
  {
   "cell_type": "code",
   "execution_count": 63,
   "metadata": {
    "hideCode": false,
    "hidePrompt": false,
    "slideshow": {
     "slide_type": "subslide"
    }
   },
   "outputs": [
    {
     "data": {
      "application/vnd.jupyter.widget-view+json": {
       "model_id": "14938f991bf348189716a77890316301",
       "version_major": 2,
       "version_minor": 0
      },
      "text/plain": [
       "interactive(children=(FloatSlider(value=7.5, description='tt', max=15.0), Output()), _dom_classes=('widget-int…"
      ]
     },
     "metadata": {},
     "output_type": "display_data"
    }
   ],
   "source": [
    "#hide\n",
    "\n",
    "t,c = sympy.symbols('t c')\n",
    "f1 = 50+c*t\n",
    "f2 = c\n",
    "f = sympy.integrate(f1,t)\n",
    "# print(f)\n",
    "F = sympy.lambdify(t,f.subs(c,-5),\"numpy\")\n",
    "F1 = sympy.lambdify(t,f1.subs(c,-5),\"numpy\")\n",
    "F2 = lambda t: -5*np.ones(len(t))\n",
    "t = np.linspace(0,15,50)\n",
    "\n",
    "def carFixedPoint(tt):\n",
    "    plt.figure(figsize=(12,4))\n",
    "    plt.subplot(1,3,1)\n",
    "    plt.plot(t,F(t))\n",
    "    yy = plt.ylim()\n",
    "    plt.plot([10,10],yy,'--',color=\"grey\")\n",
    "    plt.plot(tt,F(tt),'ro',markersize=10)\n",
    "    plt.ylim(yy)\n",
    "    plt.xticks(fontsize=15)\n",
    "    plt.yticks(fontsize=15)\n",
    "    plt.xlabel(\"Time $t$\",fontsize=15)\n",
    "    plt.ylabel(\"Distance from\\nBeginning of Deceleration\",fontsize=15)\n",
    "    plt.title(\"$f(t)=%s$\" % sympy.latex(f.subs(c,-5)),fontsize=15)\n",
    "    plt.subplot(1,3,2)\n",
    "    plt.plot(t,F1(t))\n",
    "    xx = plt.xlim()\n",
    "    plt.plot(xx,[0,0],'--',color=\"grey\")\n",
    "    plt.plot(tt,F1(tt),'ro',markersize=10)\n",
    "    plt.xlim(xx)\n",
    "    plt.xticks(fontsize=15)\n",
    "    plt.yticks(fontsize=15)\n",
    "    plt.xlabel(\"Time $t$\",fontsize=15)\n",
    "    plt.ylabel(\"Speed\",fontsize=15)\n",
    "    plt.title(\"$f'(t)=%s$\" % sympy.latex(f1.subs(c,-5)),fontsize=15)\n",
    "    plt.subplot(1,3,3)\n",
    "    plt.plot(t,F2(t))\n",
    "    plt.plot(tt,F2(np.array([tt])),'ro',markersize=10)\n",
    "    plt.xticks(fontsize=15)\n",
    "    plt.yticks(fontsize=15)\n",
    "    plt.xlabel(\"Time $t$\",fontsize=15)\n",
    "    plt.ylabel(\"Acceleration\",fontsize=15)\n",
    "    plt.title(\"$f''(t)=%s$\" % sympy.latex(f2.subs(c,-5)),fontsize=15)\n",
    "    plt.tight_layout()\n",
    "    \n",
    "widgets.interact(carFixedPoint,tt=(t[0],t[-1],.1));"
   ]
  },
  {
   "cell_type": "markdown",
   "metadata": {
    "slideshow": {
     "slide_type": "fragment"
    }
   },
   "source": [
    "Note: It might not be clear how I know the solution for $f(t)=\\frac{-5 t^{2}}{2} + 50 t$. We will discuss this in the next module. But you can confirm for yourself that the derivative of $f(t)$ is indeed $f'(t)$"
   ]
  },
  {
   "cell_type": "markdown",
   "metadata": {
    "slideshow": {
     "slide_type": "subslide"
    }
   },
   "source": [
    "In general, derivatives can identify the ***stationary points*** of functions when the function's rate of change is zero.\n",
    "\n",
    "You do this by\n",
    "1. finding the derivative function, \n",
    "2. setting the derivative function equal to zero, and \n",
    "3. solving the resulting equation."
   ]
  },
  {
   "cell_type": "markdown",
   "metadata": {
    "slideshow": {
     "slide_type": "subslide"
    }
   },
   "source": [
    "Here is another example finding stationary points.\n",
    "\n",
    "Imagine a roller coaster with the shape: $\\hspace{.5cm}f(x) = - x^{3} + 11 x^{2} - 34 x + 33$\n",
    "\n",
    "Where are the potential locations that the roller coaster car might get stuck?"
   ]
  },
  {
   "cell_type": "code",
   "execution_count": 62,
   "metadata": {
    "hideCode": false,
    "hidePrompt": false,
    "slideshow": {
     "slide_type": "fragment"
    }
   },
   "outputs": [
    {
     "data": {
      "application/vnd.jupyter.widget-view+json": {
       "model_id": "8728186a140649a2af9918574102f6ab",
       "version_major": 2,
       "version_minor": 0
      },
      "text/plain": [
       "HBox(children=(FloatSlider(value=0.0, description='car:', max=6.5), Output()))"
      ]
     },
     "execution_count": 62,
     "metadata": {},
     "output_type": "execute_result"
    }
   ],
   "source": [
    "# some curvy polynomial with peaks and valleys.\n",
    "# ask where a roller coaster car might get stuck\n",
    "\n",
    "# hide\n",
    "x = sympy.symbols(\"x\")\n",
    "scoaster = -(x-1)*(x-4)*(x-6)+9\n",
    "coaster = sympy.lambdify(x,scoaster,\"numpy\")\n",
    "\n",
    "def plotCoaster():\n",
    "    F = coaster\n",
    "    x = np.linspace(0,6.5,100)\n",
    "    y = F(x)\n",
    "    plt.figure(figsize=(8,5))\n",
    "    plt.plot(x,np.zeros(len(x)),'k-')\n",
    "    plt.plot(x,y,linewidth=3,label=\"Rollercoaster\\nTrack\")\n",
    "    plt.xticks(fontsize=15)\n",
    "    plt.yticks(fontsize=15)\n",
    "    plt.xlabel(\"Distance from Start ($x$)\",fontsize=15)\n",
    "    plt.ylabel(\"Rollercoaster Height\",fontsize=15)\n",
    "    plt.legend(fontsize=15,frameon=False)\n",
    "def coasterWidget(car):\n",
    "    xx = car\n",
    "    plotCoaster()\n",
    "    plt.plot(xx,coaster(xx),'ro',markersize=10)\n",
    "    plt.title(\"Rollercoaster Shape: $%s$\" % sympy.latex(scoaster.expand()),fontsize=15)\n",
    "    \n",
    "# widgets.interact(coasterWidget,car=(x[0],x[-1],.1));\n",
    "carSlider = widgets.FloatSlider(min=0, max=6.5, step=0.1, value=0, description=\"car:\")\n",
    "widgets.HBox([carSlider,widgets.interactive_output(coasterWidget,{'car': carSlider,})])"
   ]
  },
  {
   "cell_type": "markdown",
   "metadata": {
    "slideshow": {
     "slide_type": "subslide"
    }
   },
   "source": [
    "Without seeing the rest of the track, there are two points where the coaster might get stuck: \n",
    "- The bottom of the valley ($x_1$) and\n",
    "- the top of the hill ($x_2$).\n",
    "\n",
    "<font color=\"red\">How do we find the exact locations?</font>"
   ]
  },
  {
   "cell_type": "markdown",
   "metadata": {
    "slideshow": {
     "slide_type": "fragment"
    }
   },
   "source": [
    "We have identified locations where the rollercoaster track is <font color=\"red\">flat</font> which means the rate of the change of the rollercoaster track is zero (i.e., $f'(x_1)=f'(x_2)=0$).\n",
    "\n",
    "So, we can find the exact locations of these stationary points by finding $f'(x)$ and finding the $x$ values so that $f'(x)=0$."
   ]
  },
  {
   "cell_type": "code",
   "execution_count": 64,
   "metadata": {
    "slideshow": {
     "slide_type": "subslide"
    }
   },
   "outputs": [
    {
     "data": {
      "text/latex": [
       "$\\displaystyle - x^{3} + 11 x^{2} - 34 x + 33$"
      ],
      "text/plain": [
       "-x**3 + 11*x**2 - 34*x + 33"
      ]
     },
     "execution_count": 64,
     "metadata": {},
     "output_type": "execute_result"
    }
   ],
   "source": [
    "x = sympy.symbols(\"x\")\n",
    "f = -x**3 + 11*x**2 - 34*x + 33\n",
    "f"
   ]
  },
  {
   "cell_type": "code",
   "execution_count": 65,
   "metadata": {
    "slideshow": {
     "slide_type": "fragment"
    }
   },
   "outputs": [
    {
     "data": {
      "text/latex": [
       "$\\displaystyle - 3 x^{2} + 22 x - 34$"
      ],
      "text/plain": [
       "-3*x**2 + 22*x - 34"
      ]
     },
     "execution_count": 65,
     "metadata": {},
     "output_type": "execute_result"
    }
   ],
   "source": [
    "# can check using Power Rule and Derivative Additivity\n",
    "f1 = sympy.diff(f,x)\n",
    "f1"
   ]
  },
  {
   "cell_type": "code",
   "execution_count": 66,
   "metadata": {
    "slideshow": {
     "slide_type": "fragment"
    }
   },
   "outputs": [
    {
     "data": {
      "text/plain": [
       "[11/3 - sqrt(19)/3, sqrt(19)/3 + 11/3]"
      ]
     },
     "execution_count": 66,
     "metadata": {},
     "output_type": "execute_result"
    }
   ],
   "source": [
    "# could also solve by hand using the Quadratic formula\n",
    "stationaryPoints = sympy.solve(f1,x) # solves when a SymPy function is equal to zero\n",
    "stationaryPoints"
   ]
  },
  {
   "cell_type": "code",
   "execution_count": 69,
   "metadata": {
    "slideshow": {
     "slide_type": "fragment"
    }
   },
   "outputs": [
    {
     "data": {
      "text/latex": [
       "$\\displaystyle 0$"
      ],
      "text/plain": [
       "0"
      ]
     },
     "execution_count": 69,
     "metadata": {},
     "output_type": "execute_result"
    }
   ],
   "source": [
    "# f1.subs(x,value) substitutes the value in for the symbol x in the function f1\n",
    "f1.subs(x,stationaryPoints[1]).simplify()"
   ]
  }
 ],
 "metadata": {
  "celltoolbar": "Hide code",
  "kernelspec": {
   "display_name": "Python 3 (ipykernel)",
   "language": "python",
   "name": "python3"
  },
  "language_info": {
   "codemirror_mode": {
    "name": "ipython",
    "version": 3
   },
   "file_extension": ".py",
   "mimetype": "text/x-python",
   "name": "python",
   "nbconvert_exporter": "python",
   "pygments_lexer": "ipython3",
   "version": "3.9.7"
  },
  "varInspector": {
   "cols": {
    "lenName": 16,
    "lenType": 16,
    "lenVar": 40
   },
   "kernels_config": {
    "python": {
     "delete_cmd_postfix": "",
     "delete_cmd_prefix": "del ",
     "library": "var_list.py",
     "varRefreshCmd": "print(var_dic_list())"
    },
    "r": {
     "delete_cmd_postfix": ") ",
     "delete_cmd_prefix": "rm(",
     "library": "var_list.r",
     "varRefreshCmd": "cat(var_dic_list()) "
    }
   },
   "types_to_exclude": [
    "module",
    "function",
    "builtin_function_or_method",
    "instance",
    "_Feature"
   ],
   "window_display": false
  }
 },
 "nbformat": 4,
 "nbformat_minor": 2
}
