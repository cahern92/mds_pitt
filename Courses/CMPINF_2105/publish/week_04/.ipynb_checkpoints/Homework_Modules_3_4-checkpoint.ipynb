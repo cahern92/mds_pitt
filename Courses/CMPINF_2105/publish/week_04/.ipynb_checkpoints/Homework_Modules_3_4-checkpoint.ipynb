{
 "cells": [
  {
   "cell_type": "markdown",
   "id": "2314d56e-7969-443f-9b82-0c571d9bb2fe",
   "metadata": {},
   "source": [
    "## CMPINF 2105 Math and Stats\n",
    "### Pen and Paper Homework Module 3 and 4\n",
    "### Import Modules"
   ]
  },
  {
   "cell_type": "code",
   "execution_count": 1,
   "id": "0fc77c92-1847-48e2-8f8d-60055e79519c",
   "metadata": {},
   "outputs": [],
   "source": [
    "import numpy as np\n",
    "import pandas as pd\n",
    "import seaborn as sns\n",
    "\n",
    "import matplotlib.pyplot\n",
    "import sympy"
   ]
  },
  {
   "cell_type": "markdown",
   "id": "f250810c-9150-40e5-9e6b-edf619e11318",
   "metadata": {},
   "source": [
    "#### Question 1: Given the overdetermined system of linear equations, use the GRAM Approach to find the least squares solution to the system."
   ]
  },
  {
   "cell_type": "code",
   "execution_count": 12,
   "id": "c1b4ef12-0a0d-46f6-8b1b-ce55deba0898",
   "metadata": {},
   "outputs": [],
   "source": [
    "M = sympy.Matrix([[2, 3], \n",
    "                  [4, 5], \n",
    "                  [6, 7]])"
   ]
  },
  {
   "cell_type": "code",
   "execution_count": 14,
   "id": "63eed6d5-ba39-4e97-addf-065080e9b349",
   "metadata": {},
   "outputs": [
    {
     "data": {
      "text/latex": [
       "$\\displaystyle \\left[\\begin{matrix}2 & 3\\\\4 & 5\\\\6 & 7\\end{matrix}\\right]$"
      ],
      "text/plain": [
       "Matrix([\n",
       "[2, 3],\n",
       "[4, 5],\n",
       "[6, 7]])"
      ]
     },
     "execution_count": 14,
     "metadata": {},
     "output_type": "execute_result"
    }
   ],
   "source": [
    "M"
   ]
  },
  {
   "cell_type": "code",
   "execution_count": 16,
   "id": "346db368-b13d-49b7-9ac8-09499fc37baa",
   "metadata": {},
   "outputs": [],
   "source": [
    "y = sympy.Matrix([[5], \n",
    "                  [11], \n",
    "                  [17]\n",
    "])"
   ]
  },
  {
   "cell_type": "code",
   "execution_count": 17,
   "id": "5bffd5f4-386c-421c-90e7-ff4f9cdcc7e4",
   "metadata": {},
   "outputs": [
    {
     "data": {
      "text/latex": [
       "$\\displaystyle \\left[\\begin{matrix}5\\\\11\\\\17\\end{matrix}\\right]$"
      ],
      "text/plain": [
       "Matrix([\n",
       "[ 5],\n",
       "[11],\n",
       "[17]])"
      ]
     },
     "execution_count": 17,
     "metadata": {},
     "output_type": "execute_result"
    }
   ],
   "source": [
    "y"
   ]
  },
  {
   "cell_type": "code",
   "execution_count": 11,
   "id": "357a3c8d-5c88-4613-82ac-26a185ad2a08",
   "metadata": {},
   "outputs": [],
   "source": [
    "MT = M.T"
   ]
  },
  {
   "cell_type": "code",
   "execution_count": 18,
   "id": "1b624361-e1c6-45f7-acdf-46a60170b94a",
   "metadata": {},
   "outputs": [],
   "source": [
    "MTy = MT*y"
   ]
  },
  {
   "cell_type": "code",
   "execution_count": 19,
   "id": "36ec59f3-1205-4c74-be50-d98803b9a0a3",
   "metadata": {},
   "outputs": [
    {
     "data": {
      "text/latex": [
       "$\\displaystyle \\left[\\begin{matrix}156\\\\189\\end{matrix}\\right]$"
      ],
      "text/plain": [
       "Matrix([\n",
       "[156],\n",
       "[189]])"
      ]
     },
     "execution_count": 19,
     "metadata": {},
     "output_type": "execute_result"
    }
   ],
   "source": [
    "MTy"
   ]
  },
  {
   "cell_type": "code",
   "execution_count": 25,
   "id": "621061e7-0686-46b7-8f36-1d8bd8959e4c",
   "metadata": {},
   "outputs": [],
   "source": [
    "MTM = MT*M"
   ]
  },
  {
   "cell_type": "code",
   "execution_count": 29,
   "id": "8001f959-89d2-4054-82ba-a5fa37767c24",
   "metadata": {},
   "outputs": [
    {
     "data": {
      "text/latex": [
       "$\\displaystyle \\left[\\begin{matrix}\\frac{83}{24} & - \\frac{17}{6}\\\\- \\frac{17}{6} & \\frac{7}{3}\\end{matrix}\\right]$"
      ],
      "text/plain": [
       "Matrix([\n",
       "[83/24, -17/6],\n",
       "[-17/6,   7/3]])"
      ]
     },
     "execution_count": 29,
     "metadata": {},
     "output_type": "execute_result"
    }
   ],
   "source": [
    "MTM.inv()"
   ]
  },
  {
   "cell_type": "code",
   "execution_count": 23,
   "id": "17e4f670-67b6-40b4-94cc-a99fd1277abc",
   "metadata": {},
   "outputs": [],
   "source": [
    "ANS = sympy.Matrix.solve_least_squares(MTM, MTy)"
   ]
  },
  {
   "cell_type": "code",
   "execution_count": 30,
   "id": "3dedd8f2-af81-4514-97f1-f207478a0e8b",
   "metadata": {},
   "outputs": [
    {
     "data": {
      "text/latex": [
       "$\\displaystyle \\left[\\begin{matrix}4\\\\-1\\end{matrix}\\right]$"
      ],
      "text/plain": [
       "Matrix([\n",
       "[ 4],\n",
       "[-1]])"
      ]
     },
     "execution_count": 30,
     "metadata": {},
     "output_type": "execute_result"
    }
   ],
   "source": [
    "ANS"
   ]
  },
  {
   "cell_type": "markdown",
   "id": "9828c2ce-7fee-44ec-949b-5832d77d489d",
   "metadata": {},
   "source": [
    "#### Question 2: Find the best-fit line y= β0 + β1x 3."
   ]
  },
  {
   "cell_type": "code",
   "execution_count": 36,
   "id": "c78f4891-dad2-4d19-aad8-c686da4a6cd6",
   "metadata": {},
   "outputs": [],
   "source": [
    "M2 = sympy.Matrix([[1, 1], \n",
    "                  [2, 1], \n",
    "                  [3, 1],\n",
    "                  [4, 1],\n",
    "                  [5, 1]])"
   ]
  },
  {
   "cell_type": "code",
   "execution_count": 37,
   "id": "a3bf366d-0f6d-4a28-a9f6-4a1d4e8f149e",
   "metadata": {},
   "outputs": [
    {
     "data": {
      "text/latex": [
       "$\\displaystyle \\left[\\begin{matrix}1 & 1\\\\2 & 1\\\\3 & 1\\\\4 & 1\\\\5 & 1\\end{matrix}\\right]$"
      ],
      "text/plain": [
       "Matrix([\n",
       "[1, 1],\n",
       "[2, 1],\n",
       "[3, 1],\n",
       "[4, 1],\n",
       "[5, 1]])"
      ]
     },
     "execution_count": 37,
     "metadata": {},
     "output_type": "execute_result"
    }
   ],
   "source": [
    "M2"
   ]
  },
  {
   "cell_type": "code",
   "execution_count": 38,
   "id": "2af2588d-2957-4ec2-b731-ced2cca795c3",
   "metadata": {},
   "outputs": [],
   "source": [
    "M2T=M2.T"
   ]
  },
  {
   "cell_type": "code",
   "execution_count": 39,
   "id": "1ac014f3-4db0-4d21-9e6b-dc654096a73d",
   "metadata": {},
   "outputs": [
    {
     "data": {
      "text/latex": [
       "$\\displaystyle \\left[\\begin{matrix}1 & 2 & 3 & 4 & 5\\\\1 & 1 & 1 & 1 & 1\\end{matrix}\\right]$"
      ],
      "text/plain": [
       "Matrix([\n",
       "[1, 2, 3, 4, 5],\n",
       "[1, 1, 1, 1, 1]])"
      ]
     },
     "execution_count": 39,
     "metadata": {},
     "output_type": "execute_result"
    }
   ],
   "source": [
    "M2T"
   ]
  },
  {
   "cell_type": "code",
   "execution_count": 40,
   "id": "c01404c4-cd7b-4e65-a6a1-ac134c33ebd2",
   "metadata": {},
   "outputs": [],
   "source": [
    "M2TM2 = M2T*M2"
   ]
  },
  {
   "cell_type": "code",
   "execution_count": 41,
   "id": "b97187ef-585b-46ff-8353-9206f28f693e",
   "metadata": {},
   "outputs": [
    {
     "data": {
      "text/latex": [
       "$\\displaystyle \\left[\\begin{matrix}55 & 15\\\\15 & 5\\end{matrix}\\right]$"
      ],
      "text/plain": [
       "Matrix([\n",
       "[55, 15],\n",
       "[15,  5]])"
      ]
     },
     "execution_count": 41,
     "metadata": {},
     "output_type": "execute_result"
    }
   ],
   "source": [
    "M2TM2"
   ]
  },
  {
   "cell_type": "code",
   "execution_count": 42,
   "id": "b96b3824-db64-4ed7-8270-717689e4b191",
   "metadata": {},
   "outputs": [
    {
     "data": {
      "text/latex": [
       "$\\displaystyle \\left[\\begin{matrix}\\frac{1}{10} & - \\frac{3}{10}\\\\- \\frac{3}{10} & \\frac{11}{10}\\end{matrix}\\right]$"
      ],
      "text/plain": [
       "Matrix([\n",
       "[ 1/10, -3/10],\n",
       "[-3/10, 11/10]])"
      ]
     },
     "execution_count": 42,
     "metadata": {},
     "output_type": "execute_result"
    }
   ],
   "source": [
    "M2TM2.inv()"
   ]
  },
  {
   "cell_type": "code",
   "execution_count": 43,
   "id": "5d831f68-b8f1-4fb9-8275-e9c65d851f68",
   "metadata": {},
   "outputs": [],
   "source": [
    "y2 = sympy.Matrix([[2], \n",
    "                  [3], \n",
    "                  [5],\n",
    "                  [7],\n",
    "                  [8]])"
   ]
  },
  {
   "cell_type": "code",
   "execution_count": 47,
   "id": "b17bea80-eac3-4495-b1c4-59179eb24709",
   "metadata": {},
   "outputs": [
    {
     "data": {
      "text/latex": [
       "$\\displaystyle \\left[\\begin{matrix}91\\\\25\\end{matrix}\\right]$"
      ],
      "text/plain": [
       "Matrix([\n",
       "[91],\n",
       "[25]])"
      ]
     },
     "execution_count": 47,
     "metadata": {},
     "output_type": "execute_result"
    }
   ],
   "source": [
    "M2T@y2"
   ]
  },
  {
   "cell_type": "markdown",
   "id": "cb0cf79a-3a4f-45db-9778-8be001cf4b09",
   "metadata": {},
   "source": [
    "#### Question 3: Solve with decimals"
   ]
  },
  {
   "cell_type": "code",
   "execution_count": 58,
   "id": "29e33929-3fb1-492e-a7d2-411d271dc9dc",
   "metadata": {},
   "outputs": [],
   "source": [
    "M3 = sympy.Matrix([[0, 0, 1], \n",
    "                  [0.01, 0.1, 1], \n",
    "                  [0.04, 0.2, 1],\n",
    "                  [0.09, 0.3, 1],\n",
    "                  [0.16, 0.4, 1],\n",
    "                  [0.25, 0.5, 1],\n",
    "                  [0.36, 0.6, 1],\n",
    "                  [0.49, 0.7, 1],\n",
    "                  [0.64, 0.8, 1],\n",
    "                  [0.81, 0.9, 1]])"
   ]
  },
  {
   "cell_type": "code",
   "execution_count": 59,
   "id": "de42acfa-5607-4525-b76d-3d2c68bf3e68",
   "metadata": {},
   "outputs": [],
   "source": [
    "M3T=M3.T"
   ]
  },
  {
   "cell_type": "code",
   "execution_count": 63,
   "id": "f97cd347-b6b9-4003-8b42-bdf6ddc5cbf8",
   "metadata": {},
   "outputs": [
    {
     "data": {
      "text/latex": [
       "$\\displaystyle \\left[\\begin{matrix}1.5333 & 2.025 & 2.85\\\\2.025 & 2.85 & 4.5\\\\2.85 & 4.5 & 10\\end{matrix}\\right]$"
      ],
      "text/plain": [
       "Matrix([\n",
       "[1.5333, 2.025, 2.85],\n",
       "[ 2.025,  2.85,  4.5],\n",
       "[  2.85,   4.5,   10]])"
      ]
     },
     "execution_count": 63,
     "metadata": {},
     "output_type": "execute_result"
    }
   ],
   "source": [
    "M3T@M3"
   ]
  },
  {
   "cell_type": "code",
   "execution_count": 64,
   "id": "f1434770-0955-4366-8f95-9e399117ba3a",
   "metadata": {},
   "outputs": [],
   "source": [
    "y3 = sympy.Matrix([[2.0], \n",
    "                  [2.12], \n",
    "                  [2.28],\n",
    "                  [2.48],\n",
    "                  [2.72],\n",
    "                  [3.0],\n",
    "                  [3.32],\n",
    "                  [3.68],\n",
    "                  [4.08],\n",
    "                  [4.52]])"
   ]
  },
  {
   "cell_type": "code",
   "execution_count": 65,
   "id": "e2db71d3-488c-4438-947d-715890e8c4ed",
   "metadata": {},
   "outputs": [
    {
     "data": {
      "text/latex": [
       "$\\displaystyle \\left[\\begin{matrix}10.7916\\\\15.9\\\\30.2\\end{matrix}\\right]$"
      ],
      "text/plain": [
       "Matrix([\n",
       "[10.7916],\n",
       "[   15.9],\n",
       "[   30.2]])"
      ]
     },
     "execution_count": 65,
     "metadata": {},
     "output_type": "execute_result"
    }
   ],
   "source": [
    "M3T@y3"
   ]
  },
  {
   "cell_type": "code",
   "execution_count": 66,
   "id": "48cca4fa-d152-49d0-8314-711edb30e793",
   "metadata": {},
   "outputs": [
    {
     "data": {
      "text/latex": [
       "$\\displaystyle \\left[\\begin{matrix}1.5333 & 2.025 & 2.85\\\\2.025 & 2.85 & 4.5\\\\2.85 & 4.5 & 10\\end{matrix}\\right]$"
      ],
      "text/plain": [
       "Matrix([\n",
       "[1.5333, 2.025, 2.85],\n",
       "[ 2.025,  2.85,  4.5],\n",
       "[  2.85,   4.5,   10]])"
      ]
     },
     "execution_count": 66,
     "metadata": {},
     "output_type": "execute_result"
    }
   ],
   "source": [
    "(M3T*M3)"
   ]
  },
  {
   "cell_type": "code",
   "execution_count": 69,
   "id": "49c9389f-9bc5-427b-bf43-8bc5fdd05cd0",
   "metadata": {},
   "outputs": [
    {
     "data": {
      "text/latex": [
       "$\\displaystyle \\left[\\begin{matrix}18.939393939394 & -17.0454545454546 & 2.27272727272728\\\\-17.0454545454546 & 16.5530303030304 & -2.5909090909091\\\\2.27272727272728 & -2.5909090909091 & 0.618181818181819\\end{matrix}\\right]$"
      ],
      "text/plain": [
       "Matrix([\n",
       "[  18.939393939394, -17.0454545454546,  2.27272727272728],\n",
       "[-17.0454545454546,  16.5530303030304,  -2.5909090909091],\n",
       "[ 2.27272727272728,  -2.5909090909091, 0.618181818181819]])"
      ]
     },
     "execution_count": 69,
     "metadata": {},
     "output_type": "execute_result"
    }
   ],
   "source": [
    "(M3T*M3).inv()"
   ]
  },
  {
   "cell_type": "code",
   "execution_count": 68,
   "id": "70f64ca0-9b35-43e4-beaf-12a3713a26f5",
   "metadata": {},
   "outputs": [
    {
     "data": {
      "text/latex": [
       "$\\displaystyle \\left[\\begin{matrix}1.99999999999997\\\\1.00000000000004\\\\2.0\\end{matrix}\\right]$"
      ],
      "text/plain": [
       "Matrix([\n",
       "[1.99999999999997],\n",
       "[1.00000000000004],\n",
       "[             2.0]])"
      ]
     },
     "execution_count": 68,
     "metadata": {},
     "output_type": "execute_result"
    }
   ],
   "source": [
    "(M3T*M3).inv()*M3T@y3"
   ]
  },
  {
   "cell_type": "code",
   "execution_count": null,
   "id": "c8e95d6f-a349-4405-968e-a5246e1f8d73",
   "metadata": {},
   "outputs": [],
   "source": []
  },
  {
   "cell_type": "code",
   "execution_count": null,
   "id": "46a826b6-7585-46a1-b61f-974e48afef80",
   "metadata": {},
   "outputs": [],
   "source": []
  },
  {
   "cell_type": "code",
   "execution_count": 49,
   "id": "165ce3d7-c1ed-4fb0-9bbb-90846bc7dcd7",
   "metadata": {},
   "outputs": [],
   "source": []
  },
  {
   "cell_type": "code",
   "execution_count": null,
   "id": "16ddeffe-adaa-4bd1-bed6-b31445726cea",
   "metadata": {},
   "outputs": [],
   "source": []
  },
  {
   "cell_type": "code",
   "execution_count": null,
   "id": "fc63070a-f97e-45ef-b85f-091e500bd039",
   "metadata": {},
   "outputs": [],
   "source": []
  },
  {
   "cell_type": "code",
   "execution_count": null,
   "id": "a73a4a13-f911-422d-92ec-ec49a6c0680b",
   "metadata": {},
   "outputs": [],
   "source": []
  },
  {
   "cell_type": "code",
   "execution_count": null,
   "id": "89246cf8-3d9d-4be1-9b6b-351e49f6c001",
   "metadata": {},
   "outputs": [],
   "source": []
  },
  {
   "cell_type": "markdown",
   "id": "440d73bd-bf85-419b-bddd-58d6c9e6be9a",
   "metadata": {},
   "source": [
    "#### Question 6: Probability that E[s] is between 720 and 880 hours."
   ]
  },
  {
   "cell_type": "code",
   "execution_count": 46,
   "id": "9f510cda-3dd9-45d1-a25b-a6458151c5fc",
   "metadata": {},
   "outputs": [
    {
     "name": "stdout",
     "output_type": "stream",
     "text": [
      "Standard error: 80.0000\n",
      "Based on our sample, there is a 95% chance that the true population average falls between 643.2000 and 956.8000\n"
     ]
    }
   ],
   "source": [
    "# define function to calculate standard error of a sample distribution\n",
    "se = 80\n",
    "print(\"Standard error: %0.4f\" % se)\n",
    "Es = 800\n",
    "lowerBound = Es - 1.96*se\n",
    "upperBound = Es + 1.96*se\n",
    "print(\n",
    "    \"Based on our sample, there is a 95% chance that the true population \"+\\\n",
    "    \"average falls between %0.4f and %0.4f\" % (lowerBound,upperBound)\n",
    ")"
   ]
  },
  {
   "cell_type": "code",
   "execution_count": null,
   "id": "731e1f5c-d1fb-4ce5-b81b-c49294cd9a40",
   "metadata": {},
   "outputs": [],
   "source": []
  }
 ],
 "metadata": {
  "kernelspec": {
   "display_name": "Python 3 (ipykernel)",
   "language": "python",
   "name": "python3"
  },
  "language_info": {
   "codemirror_mode": {
    "name": "ipython",
    "version": 3
   },
   "file_extension": ".py",
   "mimetype": "text/x-python",
   "name": "python",
   "nbconvert_exporter": "python",
   "pygments_lexer": "ipython3",
   "version": "3.8.19"
  }
 },
 "nbformat": 4,
 "nbformat_minor": 5
}
