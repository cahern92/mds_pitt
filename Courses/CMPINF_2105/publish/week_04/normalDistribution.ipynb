{
 "cells": [
  {
   "cell_type": "code",
   "execution_count": 1,
   "metadata": {
    "hidePrompt": true,
    "slideshow": {
     "slide_type": "skip"
    }
   },
   "outputs": [],
   "source": [
    "import numpy as np\n",
    "import pandas as pd\n",
    "idx = pd.IndexSlice\n",
    "import matplotlib.pyplot as plt\n",
    "%matplotlib inline\n",
    "import sympy\n",
    "import ipywidgets as widgets\n",
    "import warnings,pprint\n",
    "warnings.simplefilter(action='ignore', category=FutureWarning)"
   ]
  },
  {
   "cell_type": "code",
   "execution_count": 2,
   "metadata": {
    "slideshow": {
     "slide_type": "skip"
    }
   },
   "outputs": [],
   "source": [
    "def plotHist(x,bins=15,probability=False,width=None,ec='k',**kwargs):\n",
    "    counts,bins = np.histogram(x,bins=bins)\n",
    "    if width is None:\n",
    "        width=bins[1]-bins[0]\n",
    "    label=\"Counts\"\n",
    "    if probability:\n",
    "        counts = counts.astype(float)/np.sum(counts)\n",
    "        label = \"Probability\"\n",
    "    plt.bar(bins[:-1],counts,width=width,edgecolor=ec,**kwargs)\n",
    "    plt.xticks(fontsize=15)\n",
    "    plt.yticks(fontsize=15)\n",
    "    plt.ylabel(label,fontsize=15)"
   ]
  },
  {
   "cell_type": "markdown",
   "metadata": {
    "heading_collapsed": true,
    "slideshow": {
     "slide_type": "slide"
    }
   },
   "source": [
    "# Expected Values\n",
    "\n",
    "Imagine that I offer you a choice.\n",
    "\n",
    "Either you can roll a six-sided die and get a dollar amount equal to the number you role (i.e., rolling a 2 yields $\\$2$).\n",
    "\n",
    "Or you can flip a coin and receive $\\$6$ if you get heads and $\\$0$ if you get tails.\n",
    "\n",
    "Which option should you choose to maximize your money?"
   ]
  },
  {
   "cell_type": "markdown",
   "metadata": {
    "hidden": true,
    "slideshow": {
     "slide_type": "fragment"
    }
   },
   "source": [
    "We will represent the random process of rolling the with $D$ and the random process of flipping the coin using $C$.\n",
    "\n",
    "These variables $C$ and $D$ are stand-ins for the unknown random outcome of flipping the coin or rolling the die."
   ]
  },
  {
   "cell_type": "markdown",
   "metadata": {
    "hidden": true,
    "slideshow": {
     "slide_type": "subslide"
    }
   },
   "source": [
    "We can choose which game to play by calculating the **expected value** of each scenario.\n",
    "\n",
    "Expected values are the on-average outcome from a random variable $X$ and you calculate them using\n",
    "\n",
    "$\n",
    "    E[X] = \\displaystyle\\sum_{x\\in X}x\\cdot p(x)\n",
    "$\n",
    "\n",
    "where $E[X]$ is the expected value, $x$ is one of the possible outcomes of the random variable $X$, and $p(x)$ is the probability of that outcome.\n",
    "\n",
    "Here we are summing $x\\cdot p(x)$ for each possible outcome $x\\in X$."
   ]
  },
  {
   "cell_type": "markdown",
   "metadata": {
    "hidden": true,
    "slideshow": {
     "slide_type": "subslide"
    }
   },
   "source": [
    "In the first scenario, you can roll a six-sided die and get a dollar amount equal to the number you role (i.e., rolling a 2 yields $\\$2$).\n",
    "\n",
    "Let's assume both the die and the coin are fair.\n",
    "\n",
    "So the possible outcomes are $\\hspace{1cm}D=\\{\\$1,\\,\\$2,\\,\\$3,\\,\\$4,\\,\\$5,\\,\\$6\\}$ and the expected value is \n",
    "\n",
    "$\n",
    "E[D] = \\displaystyle\\sum_{x\\in D} x\\cdot p(x) = \\$1\\frac{1}{6}+\\$2\\frac{1}{6}+\\$3\\frac{1}{6}+\\$4\\frac{1}{6}+\\$5\\frac{1}{6}+\\$6\\frac{1}{6} = \\frac{\\$1 +\\$2 + \\$3 + \\$4 + \\$5 + \\$6}{6} = \\color{blue}{\\$3.5}\n",
    "$"
   ]
  },
  {
   "cell_type": "markdown",
   "metadata": {
    "hidden": true,
    "slideshow": {
     "slide_type": "fragment"
    }
   },
   "source": [
    "In the second scenario, you can flip a coin and receive $\\$6$ if you get heads and $\\$0$ if you get tails.\n",
    "\n",
    "So the possible outcomes are $\\hspace{1cm}C=\\{\\$0,\\,\\$6\\}$ and the expected value is\n",
    "\n",
    "$\n",
    "E[C] = \\displaystyle\\sum_{x\\in C} x\\cdot p(x) = \\$0\\frac{1}{2}+\\$6\\frac{1}{2}=\\frac{\\$0 + \\$6}{2} = \\color{red}{\\$3}\n",
    "$\n",
    "\n",
    "So playing the dice game maximizes your expected earnings!"
   ]
  },
  {
   "cell_type": "markdown",
   "metadata": {
    "hidden": true,
    "slideshow": {
     "slide_type": "subslide"
    }
   },
   "source": [
    "For both $E[D]=\\frac{\\$1 +\\$2 + \\$3 + \\$4 + \\$5 + \\$6}{6}$ and $E[C]=\\frac{\\$0 + \\$6}{2}$, the expected values are simply the average of the possible outcomes.\n",
    "\n",
    "But the calculations are not so simple if different outcomes have different probabilities (e.g., if $p(\\$2)\\neq p(\\$3)$ in the die game).\n",
    "\n",
    "When probabilities vary, we still use the same calculation:$\\hspace{1cm}E[X] = \\displaystyle\\sum_{x\\in X} x\\cdot p(x)$\n",
    "\n",
    "We can also think of $E[X]$ as the vector product $\\hspace{1cm}E[X] = \\vec{x}\\cdot\\vec{p}\\hspace{1cm}$ where $\\vec{x}$ is the vector of possible outcomes and $\\vec{p}$ is the vector of probabilities associated with each outcome."
   ]
  },
  {
   "cell_type": "markdown",
   "metadata": {
    "hidden": true,
    "slideshow": {
     "slide_type": "subslide"
    }
   },
   "source": [
    "In the demo, pretend that you have an unfair weighted die and see how $E[D]$ changes as we change the probabilities of die outcomes."
   ]
  },
  {
   "cell_type": "code",
   "execution_count": 121,
   "metadata": {
    "hidden": true,
    "hideCode": true,
    "hidePrompt": true,
    "slideshow": {
     "slide_type": "fragment"
    }
   },
   "outputs": [
    {
     "data": {
      "application/vnd.jupyter.widget-view+json": {
       "model_id": "a003362a1c9745b5a2d89cbcda4a07a2",
       "version_major": 2,
       "version_minor": 0
      },
      "text/plain": [
       "interactive(children=(FloatSlider(value=0.16666666666666666, description='p1', max=1.0, step=0.05), FloatSlide…"
      ]
     },
     "metadata": {},
     "output_type": "display_data"
    }
   ],
   "source": [
    "def weightedDice(\n",
    "    p1=1/6,\n",
    "    p2=1/6,\n",
    "    p3=1/6,\n",
    "    p4=1/6,\n",
    "    p5=1/6,\n",
    "):\n",
    "    p6 = np.max([0,1-(p1+p2+p3+p4+p5)])\n",
    "    weights = np.array([p1,p2,p3,p4,p5,p6])\n",
    "    s = np.sum(weights)\n",
    "    if np.round(s,decimals=2) != 1:\n",
    "        print(\"Entered probabilities sum to %0.2f\" % s)\n",
    "        print(\"Probabilities must sum to 1.\")\n",
    "        return\n",
    "    x = np.arange(6)+1\n",
    "    e = np.dot(x,weights)\n",
    "    plt.figure()\n",
    "    plt.bar(x,weights,width=1,edgecolor='k',align=\"center\")\n",
    "    plt.xticks(x,x.astype(int),fontsize=15)\n",
    "    plt.xlabel(\"Die Roll Outcome\",fontsize=15)\n",
    "    plt.ylim((0,1))\n",
    "    plt.yticks(fontsize=15)\n",
    "    plt.ylabel(\"Probability\",fontsize=15)\n",
    "    plt.title(\"E[D]= \\\\$1(%0.2f)+\\\\$2(%0.2f)+\\\\$3(%0.2f)\\\\$4(%0.2f)+\\\\$5(%0.2f)+\\\\$6(%0.2f)\\n= \\\\$%0.2f\" % (p1,\n",
    "                                                                                                            p2,\n",
    "                                                                                                            p3,\n",
    "                                                                                                            p4,\n",
    "                                                                                                            p5,\n",
    "                                                                                                            p6,\n",
    "                                                                                                            e),\n",
    "              fontsize=12);\n",
    "    \n",
    "widgets.interact(\n",
    "    weightedDice,\n",
    "    p1 = (0,1,.05),\n",
    "    p2 = (0,1,.05),\n",
    "    p3 = (0,1,.05),\n",
    "    p4 = (0,1,.05),\n",
    "    p5 = (0,1,.05),\n",
    ");"
   ]
  },
  {
   "cell_type": "markdown",
   "metadata": {
    "heading_collapsed": true,
    "slideshow": {
     "slide_type": "slide"
    }
   },
   "source": [
    "# Samples of Dice Rolls\n",
    "\n",
    "Consider again the die roll game with a fair six-sided die where you win an amount of money equal to your die roll (e.g., $1\\rightarrow\\$1,\\,2\\rightarrow\\$2,\\dots,6\\rightarrow\\$6$).\n",
    "\n",
    "Each outcome is equally likely because the die is fair."
   ]
  },
  {
   "cell_type": "code",
   "execution_count": 206,
   "metadata": {
    "hidden": true,
    "slideshow": {
     "slide_type": "fragment"
    }
   },
   "outputs": [
    {
     "data": {
      "image/png": "[encoded data removed]",
      "text/plain": [
       "<Figure size 432x288 with 1 Axes>"
      ]
     },
     "metadata": {
      "needs_background": "light"
     },
     "output_type": "display_data"
    }
   ],
   "source": [
    "n = 100_000\n",
    "diceRolls = np.random.choice([1,2,3,4,5,6],size=n,replace=True)\n",
    "# diceRolls\n",
    "plotHist(diceRolls,bins=[1,2,3,4,5,6,7],probability=True,width=1)\n",
    "plt.xlabel(\"Die Outcome\",fontsize=15);"
   ]
  },
  {
   "cell_type": "markdown",
   "metadata": {
    "hidden": true,
    "slideshow": {
     "slide_type": "subslide"
    }
   },
   "source": [
    "In the case of a fair 6-sided die, we know the expected value is $\\hspace{1cm}E[D]=\\frac{1+\\cdots+6}{6} = 3.5$\n",
    "\n",
    "Let's look at the average outcome of a few sets of dice rolls and calculate the average outcome of the sample.\n",
    "\n",
    "For example, we might investigate 3 samples each containing 4 dice rolls:"
   ]
  },
  {
   "cell_type": "code",
   "execution_count": 212,
   "metadata": {
    "hidden": true,
    "scrolled": true,
    "slideshow": {
     "slide_type": "fragment"
    }
   },
   "outputs": [
    {
     "name": "stdout",
     "output_type": "stream",
     "text": [
      "[[4 3 4 1]\n",
      " [6 6 5 5]\n",
      " [3 2 2 4]]\n",
      "\n",
      "[3.   5.5  2.75]\n"
     ]
    }
   ],
   "source": [
    "sampleSize = 4\n",
    "sampleCount = 3\n",
    "data = np.random.choice(\n",
    "    [1,2,3,4,5,6],                 # possible outcomes  \n",
    "    size=(sampleCount,sampleSize), # number of random selections to make\n",
    "    replace=True,                  # select from outcomes with replacement\n",
    ")\n",
    "print(data)\n",
    "print()\n",
    "print(np.mean(data,axis=1)) # take the average of each row"
   ]
  },
  {
   "cell_type": "markdown",
   "metadata": {
    "hidden": true,
    "slideshow": {
     "slide_type": "subslide"
    }
   },
   "source": [
    "Let's see what happens if we take larger samples or consider more samples."
   ]
  },
  {
   "cell_type": "code",
   "execution_count": 6,
   "metadata": {
    "hidden": true,
    "hideCode": true,
    "hidePrompt": true,
    "slideshow": {
     "slide_type": "fragment"
    }
   },
   "outputs": [
    {
     "data": {
      "application/vnd.jupyter.widget-view+json": {
       "model_id": "bb3dbfe2aaed40e7b14ac398b0a373a5",
       "version_major": 2,
       "version_minor": 0
      },
      "text/plain": [
       "interactive(children=(IntSlider(value=1, description='sampleSize', max=50, min=1), IntSlider(value=10, descrip…"
      ]
     },
     "metadata": {},
     "output_type": "display_data"
    }
   ],
   "source": [
    "# hide\n",
    "def sampleDiceRolls(sampleSize=1,sampleCount=10):\n",
    "    data = np.random.choice([1,2,3,4,5,6],size=(sampleCount,sampleSize),replace=True)\n",
    "    data = np.mean(data,axis=1)\n",
    "    plt.figure(figsize=(10,4))\n",
    "    plotHist(data,bins=np.linspace(1,6,20),probability=True,facecolor='r',label=\"_data\")\n",
    "    plt.xlabel(\"Sample Average (Fair Dice Roll)\",fontsize=15)\n",
    "    plt.title(\"%d samples each containing %d dice rolls\" % (sampleCount,sampleSize),fontsize=15)\n",
    "    yy = plt.ylim()\n",
    "    plt.plot([3.5,3.5],yy,'k--',label=\"$E[D]=3.5$\")\n",
    "    plt.ylim(yy)\n",
    "    plt.legend(frameon=False,fontsize=15,loc=\"upper right\")\n",
    "    \n",
    "widgets.interact(sampleDiceRolls,sampleSize=(1,50,1),sampleCount=(1,10_000,10));"
   ]
  },
  {
   "cell_type": "markdown",
   "metadata": {
    "hidden": true,
    "slideshow": {
     "slide_type": "fragment"
    }
   },
   "source": [
    "This distribution is quite different from the uniform distribution! \n",
    "\n",
    "Instead, as the sample count increases, this distribution centers and bunches around $E[D]=3.5$ roughly in the shape of a bell."
   ]
  },
  {
   "cell_type": "markdown",
   "metadata": {
    "hidden": true,
    "slideshow": {
     "slide_type": "subslide"
    }
   },
   "source": [
    "What if the die is not fair? For example, what if the probability is proportional to the outcome?\n",
    "\n",
    "In this case the new expected value is"
   ]
  },
  {
   "cell_type": "code",
   "execution_count": 14,
   "metadata": {
    "hidden": true,
    "slideshow": {
     "slide_type": "fragment"
    }
   },
   "outputs": [
    {
     "name": "stdout",
     "output_type": "stream",
     "text": [
      "4.333333333333333\n"
     ]
    }
   ],
   "source": [
    "p = np.arange(6).astype(float)+1\n",
    "p /= np.sum(p)\n",
    "print(np.dot(p,np.arange(6)+1))"
   ]
  },
  {
   "cell_type": "code",
   "execution_count": 8,
   "metadata": {
    "hidden": true,
    "hideCode": true,
    "hidePrompt": true,
    "slideshow": {
     "slide_type": "fragment"
    }
   },
   "outputs": [
    {
     "data": {
      "application/vnd.jupyter.widget-view+json": {
       "model_id": "ede420e1b99c4f1d86a06566473797ab",
       "version_major": 2,
       "version_minor": 0
      },
      "text/plain": [
       "interactive(children=(IntSlider(value=10, description='n', max=1000, min=1), Output()), _dom_classes=('widget-…"
      ]
     },
     "metadata": {},
     "output_type": "display_data"
    }
   ],
   "source": [
    "# hide \n",
    "def diceRollDistributionP(n=10,showAvg=True):\n",
    "    p = np.arange(6).astype(float)+1\n",
    "    p /= np.sum(p)\n",
    "    diceRolls = np.random.choice([1,2,3,4,5,6],size=n,replace=True,p=p)\n",
    "    plotHist(diceRolls,bins=[1,2,3,4,5,6,7],probability=True,width=1,label=\"_data\")\n",
    "    plt.xlabel(\"Die Outcome\",fontsize=15);\n",
    "    if showAvg:\n",
    "        e = np.dot(np.arange(6)+1,p)\n",
    "        yy = plt.ylim()\n",
    "        plt.plot([e,e],yy,'k--',linewidth=3,label=\"$E[D]=%0.2f$\" % e)\n",
    "        plt.ylim(yy)\n",
    "        plt.legend(fontsize=15,frameon=False)\n",
    "    \n",
    "    \n",
    "widgets.interact(diceRollDistributionP,n=(1,1000),showAvg=widgets.fixed(True));"
   ]
  },
  {
   "cell_type": "markdown",
   "metadata": {
    "hidden": true,
    "slideshow": {
     "slide_type": "subslide"
    }
   },
   "source": [
    "Again, let's see what happens if we take larger samples or consider more samples."
   ]
  },
  {
   "cell_type": "code",
   "execution_count": 9,
   "metadata": {
    "hidden": true,
    "hideCode": true,
    "hidePrompt": true,
    "slideshow": {
     "slide_type": "fragment"
    }
   },
   "outputs": [
    {
     "data": {
      "application/vnd.jupyter.widget-view+json": {
       "model_id": "c095bf12362a4623be3cc23445d05018",
       "version_major": 2,
       "version_minor": 0
      },
      "text/plain": [
       "interactive(children=(IntSlider(value=1, description='sampleSize', max=50, min=1), IntSlider(value=10, descrip…"
      ]
     },
     "metadata": {},
     "output_type": "display_data"
    }
   ],
   "source": [
    "# hide\n",
    "def sampleDiceRollsP(sampleSize=1,sampleCount=10):\n",
    "    p = np.arange(6).astype(float)+1\n",
    "    p /= np.sum(p)\n",
    "    data = np.random.choice([1,2,3,4,5,6],size=(sampleCount,sampleSize),replace=True,p=p)\n",
    "    data = np.mean(data,axis=1)\n",
    "    plt.figure(figsize=(10,4))\n",
    "    plotHist(data,bins=np.linspace(1,6,20),probability=True,facecolor='r',label=\"_data\")\n",
    "    plt.xlabel(\"Sample Average (Weighted Dice Roll)\",fontsize=15)\n",
    "    plt.title(\"%d samples each containing %d dice rolls\" % (sampleCount,sampleSize),fontsize=15)\n",
    "    yy = plt.ylim()\n",
    "    e = np.dot(p,np.arange(6)+1)\n",
    "    plt.plot([e,e],yy,'k--',label=\"$E[D]=%0.2f$\" % e)\n",
    "    plt.ylim(yy)\n",
    "    plt.legend(frameon=False,fontsize=15,loc=\"upper right\")\n",
    "    \n",
    "widgets.interact(sampleDiceRollsP,sampleSize=(1,50,1),sampleCount=(1,10_000,10));"
   ]
  },
  {
   "cell_type": "markdown",
   "metadata": {
    "hidden": true,
    "slideshow": {
     "slide_type": "fragment"
    }
   },
   "source": [
    "A similar result! The distribution of sample means has a similar shape although centered and bunched around the new expected value."
   ]
  },
  {
   "cell_type": "markdown",
   "metadata": {
    "heading_collapsed": true,
    "slideshow": {
     "slide_type": "slide"
    }
   },
   "source": [
    "# Populations vs. Samples\n",
    "## Example 1: Estimating American adult heights\n",
    "\n",
    "Did you now that the average 19 year old is 67 inches tall (about 5.5 feet)?\n",
    "\n",
    "How could I know that? Did I ask **every** 19 year old their height? No.\n",
    "\n",
    "Commonly researchers ask population-level questions (e.g., \"What is the average height?\") but can only access a sample of the full population. \n",
    "\n",
    "For example, leading up to an election, political pollsters estimate election outcomes by asking a **representative** sample of the population about their voting preferences; however, they do not ask every voters' opinion because that would take too long and many voters might not respond to the survey."
   ]
  },
  {
   "cell_type": "code",
   "execution_count": 3,
   "metadata": {
    "hidden": true,
    "slideshow": {
     "slide_type": "skip"
    }
   },
   "outputs": [],
   "source": [
    "# height statistics from\n",
    "# https://www.who.int/tools/growth-reference-data-for-5to19-years/indicators/height-for-age\n",
    "girls = {\n",
    "    \"Mean height\":164,\n",
    "    \"Standard deviation\":6,\n",
    "}\n",
    "boys = {\n",
    "    \"Mean height\":176,\n",
    "    \"Standard deviation\":8,\n",
    "}\n",
    "girls = pd.Series(girls)\n",
    "boys = pd.Series(boys)\n",
    "# cm to inches\n",
    "girls *= 0.393701\n",
    "boys *= 0.393701"
   ]
  },
  {
   "cell_type": "code",
   "execution_count": 4,
   "metadata": {
    "hidden": true,
    "slideshow": {
     "slide_type": "skip"
    }
   },
   "outputs": [],
   "source": [
    "# simulate \"ground truth\" data based on statistics\n",
    "popSize = 1000\n",
    "boyHeights = np.random.normal(\n",
    "    loc = boys[\"Mean height\"],\n",
    "    scale = boys[\"Standard deviation\"],\n",
    "    size = popSize,\n",
    ")\n",
    "girlHeights = np.random.normal(\n",
    "    loc = girls[\"Mean height\"],\n",
    "    scale = girls[\"Standard deviation\"],\n",
    "    size = popSize,\n",
    ")\n",
    "allHeights = np.hstack((boyHeights,girlHeights))"
   ]
  },
  {
   "cell_type": "markdown",
   "metadata": {
    "hidden": true,
    "slideshow": {
     "slide_type": "subslide"
    }
   },
   "source": [
    "So can we estimate population-level characteristics from samples of the population?\n",
    "\n",
    "We will explore this question using population height data from the <a href='https://www.who.int/tools/growth-reference-data-for-5to19-years/indicators/height-for-age'>World Health Organization (WHO)</a>."
   ]
  },
  {
   "cell_type": "code",
   "execution_count": 5,
   "metadata": {
    "hidden": true,
    "slideshow": {
     "slide_type": "fragment"
    }
   },
   "outputs": [
    {
     "name": "stdout",
     "output_type": "stream",
     "text": [
      "(1000, 1000)\n",
      "[79.15220316 71.31274481 64.05332653 66.90424347 71.45316072 67.4349782\n",
      " 73.39720543 70.48525722 66.13742676 70.82250857]\n",
      "[68.4665428  65.53473764 67.07521739 68.47796783 67.63461823 64.17059955\n",
      " 61.14289806 60.96605835 65.60787326 62.2475199 ]\n"
     ]
    }
   ],
   "source": [
    "# array of heights for 15-19 year old girls and boys\n",
    "print((len(boyHeights),len(girlHeights)))\n",
    "print(boyHeights[:10])\n",
    "print(girlHeights[:10])"
   ]
  },
  {
   "cell_type": "markdown",
   "metadata": {
    "hidden": true,
    "slideshow": {
     "slide_type": "subslide"
    }
   },
   "source": [
    "First, let's use the expected value calculation to estimate the average height $E[H]$ of American 19 year olds. \n",
    "\n",
    "I will need the observed heights of boys $H_b$ and of girls $H_g$.\n",
    "\n",
    "Then, if I know the proportion of 19 year olds that are boys $p(boy)$ or girls $p(girl)$ then I can calculate the average height of a 19 year old according to \n",
    "\n",
    "$\n",
    "   E[H] = p(boy)\\cdot E[H_b] + p(girl)\\cdot E[H_g]\n",
    "$"
   ]
  },
  {
   "cell_type": "code",
   "execution_count": 13,
   "metadata": {
    "hidden": true,
    "slideshow": {
     "slide_type": "fragment"
    }
   },
   "outputs": [
    {
     "name": "stdout",
     "output_type": "stream",
     "text": [
      "Avg Height: 67.08 inches\n"
     ]
    }
   ],
   "source": [
    "# population counts for 15-19 year olds from: \n",
    "# https://www.statista.com/statistics/241488/population-of-the-us-by-sex-and-age/\n",
    "# Counts in millions\n",
    "maleCount = 11.0\n",
    "femaleCount = 10.58\n",
    "totalCount = maleCount + femaleCount\n",
    "maleP = (maleCount/totalCount)\n",
    "femaleP = (femaleCount/totalCount)\n",
    "avgHeight = maleP*np.mean(boyHeights) + femaleP*np.mean(girlHeights)\n",
    "print(\"Avg Height: %0.2f inches\" % avgHeight)"
   ]
  },
  {
   "cell_type": "markdown",
   "metadata": {
    "hidden": true,
    "slideshow": {
     "slide_type": "subslide"
    }
   },
   "source": [
    "I was able to combine the distribution of 19 year old boy heights and girls heights to calculate an overall average height for 19 year olds.\n",
    "\n",
    "So who actually has this average height?"
   ]
  },
  {
   "cell_type": "code",
   "execution_count": 14,
   "metadata": {
    "hidden": true,
    "hideCode": true,
    "hidePrompt": true,
    "slideshow": {
     "slide_type": "fragment"
    }
   },
   "outputs": [
    {
     "data": {
      "image/png": "[encoded data removed]",
      "text/plain": [
       "<Figure size 864x288 with 1 Axes>"
      ]
     },
     "metadata": {
      "needs_background": "light"
     },
     "output_type": "display_data"
    }
   ],
   "source": [
    "# hide\n",
    "bins = np.linspace(55,85,30)\n",
    "plt.figure(figsize=(12,4))\n",
    "plotHist(boyHeights,bins=bins,label=\"Boy Heights\",alpha=.5)\n",
    "plotHist(girlHeights,bins=bins,label=\"Girl Heights\",alpha=.5)\n",
    "yy = plt.ylim()\n",
    "plt.plot([avgHeight,avgHeight],yy,'r--',linewidth=3,label=\"Avg. Height\")\n",
    "plt.ylim(yy)\n",
    "plt.xlim((55,78))\n",
    "plt.legend(fontsize=15)\n",
    "plt.xlabel(\"Height (inches)\",fontsize=15);"
   ]
  },
  {
   "cell_type": "markdown",
   "metadata": {
    "hidden": true,
    "slideshow": {
     "slide_type": "fragment"
    }
   },
   "source": [
    "From the plot, we can see that, on average, boys are actually taller than the overall average height $\\hspace{1cm}E[H_b] > E[H]$\n",
    "\n",
    "Also, on average, girls are shorter than the overall average height $\\hspace{1cm}E[H_g] < E[H]$\n",
    "\n",
    "We can calculate the average heights by gender:"
   ]
  },
  {
   "cell_type": "code",
   "execution_count": 15,
   "metadata": {
    "hidden": true,
    "slideshow": {
     "slide_type": "fragment"
    }
   },
   "outputs": [
    {
     "data": {
      "text/plain": [
       "(69.39746454496027, 64.66157982636437, 67.07560818153374)"
      ]
     },
     "execution_count": 15,
     "metadata": {},
     "output_type": "execute_result"
    }
   ],
   "source": [
    "np.mean(boyHeights),np.mean(girlHeights),avgHeight"
   ]
  },
  {
   "cell_type": "markdown",
   "metadata": {
    "hidden": true,
    "slideshow": {
     "slide_type": "subslide"
    }
   },
   "source": [
    "Let's imagine we are running this survey asking people for their heights.\n",
    "\n",
    "But, because it's a survey, imagine that we can only sample the population and measure heights."
   ]
  },
  {
   "cell_type": "code",
   "execution_count": 16,
   "metadata": {
    "hidden": true,
    "hideCode": true,
    "hidePrompt": true,
    "slideshow": {
     "slide_type": "fragment"
    }
   },
   "outputs": [
    {
     "data": {
      "application/vnd.jupyter.widget-view+json": {
       "model_id": "d1dd8ee7819a4d92a2cba79b2cbf050f",
       "version_major": 2,
       "version_minor": 0
      },
      "text/plain": [
       "interactive(children=(IntSlider(value=1, description='sampleSize', max=50, min=1), IntSlider(value=10, descrip…"
      ]
     },
     "metadata": {},
     "output_type": "display_data"
    }
   ],
   "source": [
    "# hide\n",
    "def sampleHeights(sampleSize=1,sampleCount=10):\n",
    "    allHeights = np.hstack((boyHeights,girlHeights))\n",
    "    boyCount = len(boyHeights)\n",
    "    femaleCount = len(girlHeights)\n",
    "    p = np.hstack((maleP/boyCount*np.ones(boyCount),femaleP/femaleCount*np.ones(femaleCount)))\n",
    "    data = np.random.choice(allHeights,size=(sampleCount,sampleSize),replace=True,p=p)\n",
    "    data = np.mean(data,axis=1)\n",
    "    plt.figure(figsize=(10,4))\n",
    "    bins = np.linspace(np.min(allHeights),np.max(allHeights),50)\n",
    "    plotHist(data,bins=bins,probability=True,facecolor='r',label=\"_data\")\n",
    "    plt.xlabel(\"Sample Average (inches)\",fontsize=15)\n",
    "    plt.title(\"%d samples each containing %d individuals\" % (sampleCount,sampleSize),fontsize=15)\n",
    "    yy = plt.ylim()\n",
    "    plt.plot([avgHeight,avgHeight],yy,'k--',label=\"$E[H]=%0.2f$\" % avgHeight)\n",
    "    plt.ylim(yy)\n",
    "    plt.legend(frameon=False,fontsize=15,loc=\"upper right\")\n",
    "    \n",
    "widgets.interact(sampleHeights,sampleSize=(1,50,1),sampleCount=(1,10_000,10));"
   ]
  },
  {
   "cell_type": "markdown",
   "metadata": {
    "hidden": true,
    "slideshow": {
     "slide_type": "subslide"
    }
   },
   "source": [
    "As in the dice roll example, here we again find that the distribution of sample averages looks nothing like the population's distribution of heights.\n",
    "\n",
    "Instead, this distributions centers and bunches around $E[H]=67.05$\n",
    "\n",
    "This is promising because we can estimate the true population average from samples, especially as the sample get larger."
   ]
  },
  {
   "cell_type": "markdown",
   "metadata": {
    "heading_collapsed": true,
    "slideshow": {
     "slide_type": "slide"
    }
   },
   "source": [
    "# Populations vs. Samples\n",
    "## Example 2: Estimating Annual Wages for US Workers\n",
    "\n",
    "Did you now that the average working Americans annual wage in 2019 was about \\$55,000?\n",
    "\n",
    "How could I know that? Did I ask **every** American about their wage? No.\n",
    "\n",
    "So can we estimate population-level characteristics from samples of the population?"
   ]
  },
  {
   "cell_type": "markdown",
   "metadata": {
    "hidden": true,
    "slideshow": {
     "slide_type": "subslide"
    }
   },
   "source": [
    "To explore this question, I have pulled <a href='https://www.bls.gov/oes/'>national employment and wage data</a> from the US Bureau of Labor Statistics.\n",
    "\n",
    "This data includes employment and average annual wage for over 700 different occupations in the US economy. \n",
    "\n",
    "This data is representative of the US workforce, but does have some limitations. For example, they will not report statistics for occupations with fewer than 30 workers. \n",
    "\n",
    "(note this is not a problem for national employment statistics, but can be a problem for similar employment statistics for smaller areas, such as states or cities)"
   ]
  },
  {
   "cell_type": "code",
   "execution_count": 17,
   "metadata": {
    "hidden": true,
    "slideshow": {
     "slide_type": "subslide"
    }
   },
   "outputs": [
    {
     "name": "stdout",
     "output_type": "stream",
     "text": [
      "(773, 5)\n"
     ]
    },
    {
     "data": {
      "text/html": [
       "<div>\n",
       "<style scoped>\n",
       "    .dataframe tbody tr th:only-of-type {\n",
       "        vertical-align: middle;\n",
       "    }\n",
       "\n",
       "    .dataframe tbody tr th {\n",
       "        vertical-align: top;\n",
       "    }\n",
       "\n",
       "    .dataframe thead th {\n",
       "        text-align: right;\n",
       "    }\n",
       "</style>\n",
       "<table border=\"1\" class=\"dataframe\">\n",
       "  <thead>\n",
       "    <tr style=\"text-align: right;\">\n",
       "      <th></th>\n",
       "      <th>year</th>\n",
       "      <th>occupation code</th>\n",
       "      <th>occupation title</th>\n",
       "      <th>national employment</th>\n",
       "      <th>avg annual wage</th>\n",
       "    </tr>\n",
       "  </thead>\n",
       "  <tbody>\n",
       "    <tr>\n",
       "      <th>2705</th>\n",
       "      <td>2019</td>\n",
       "      <td>11-1011</td>\n",
       "      <td>Chief Executives</td>\n",
       "      <td>205890</td>\n",
       "      <td>193850.0</td>\n",
       "    </tr>\n",
       "    <tr>\n",
       "      <th>2707</th>\n",
       "      <td>2019</td>\n",
       "      <td>11-1021</td>\n",
       "      <td>General and Operations Managers</td>\n",
       "      <td>2400280</td>\n",
       "      <td>123030.0</td>\n",
       "    </tr>\n",
       "    <tr>\n",
       "      <th>2709</th>\n",
       "      <td>2019</td>\n",
       "      <td>11-1031</td>\n",
       "      <td>Legislators</td>\n",
       "      <td>52280</td>\n",
       "      <td>49440.0</td>\n",
       "    </tr>\n",
       "    <tr>\n",
       "      <th>2712</th>\n",
       "      <td>2019</td>\n",
       "      <td>11-2011</td>\n",
       "      <td>Advertising and Promotions Managers</td>\n",
       "      <td>25100</td>\n",
       "      <td>141890.0</td>\n",
       "    </tr>\n",
       "    <tr>\n",
       "      <th>2714</th>\n",
       "      <td>2019</td>\n",
       "      <td>11-2021</td>\n",
       "      <td>Marketing Managers</td>\n",
       "      <td>263680</td>\n",
       "      <td>149200.0</td>\n",
       "    </tr>\n",
       "  </tbody>\n",
       "</table>\n",
       "</div>"
      ],
      "text/plain": [
       "      year occupation code                     occupation title  \\\n",
       "2705  2019         11-1011                     Chief Executives   \n",
       "2707  2019         11-1021      General and Operations Managers   \n",
       "2709  2019         11-1031                          Legislators   \n",
       "2712  2019         11-2011  Advertising and Promotions Managers   \n",
       "2714  2019         11-2021                   Marketing Managers   \n",
       "\n",
       "      national employment  avg annual wage  \n",
       "2705               205890         193850.0  \n",
       "2707              2400280         123030.0  \n",
       "2709                52280          49440.0  \n",
       "2712                25100         141890.0  \n",
       "2714               263680         149200.0  "
      ]
     },
     "execution_count": 17,
     "metadata": {},
     "output_type": "execute_result"
    }
   ],
   "source": [
    "# read in CSV data as a dataframe using Pandas\n",
    "national = pd.read_csv(\"../nationalOews.csv\").drop(columns=[\"total employment\",\"H_MEAN\",\"EMP_SHR\"])\n",
    "# remove occupation aggregations\n",
    "# note: occupation codes follow the Standard Occupation Classification system\n",
    "national = national[\n",
    "    (national[\"OCC_CODE\"].apply(lambda s: s[-1] != '0')) & \\\n",
    "    (~np.isnan(national[\"A_MEAN\"]))\n",
    "]\n",
    "# filter to the year of interest\n",
    "national = national[national[\"year\"] == 2019]\n",
    "# give dataframe columns more intuitive names\n",
    "national = national.rename(columns={\n",
    "    \"OCC_CODE\":\"occupation code\",\n",
    "    \"OCC_TITLE\":\"occupation title\",\n",
    "    \"TOT_EMP\":\"national employment\",\n",
    "#     \"H_MEAN\":\"avg hourly wage\", \n",
    "    \"A_MEAN\":\"avg annual wage\",\n",
    "})\n",
    "# look at data dimensions\n",
    "print(national.shape)\n",
    "national.head()"
   ]
  },
  {
   "cell_type": "markdown",
   "metadata": {
    "hidden": true,
    "slideshow": {
     "slide_type": "subslide"
    }
   },
   "source": [
    "To calculate the average annual wage, $E[W]$, we need wages $W$ associated with each occupation, and the probaility that a worker has a given occupation $p(occupation)$.\n",
    "\n",
    "We can calculate $p(occupation)$ from the employment counts in the dataframe.\n",
    "\n",
    "For example, if their are 100 taxi drivers out of 1,000 workers, then $p(\\text{taxi driver}) = 100/1000$"
   ]
  },
  {
   "cell_type": "code",
   "execution_count": 18,
   "metadata": {
    "hidden": true,
    "slideshow": {
     "slide_type": "fragment"
    }
   },
   "outputs": [
    {
     "name": "stdout",
     "output_type": "stream",
     "text": [
      "sum p(occupation) = 1.00\n"
     ]
    },
    {
     "data": {
      "text/html": [
       "<div>\n",
       "<style scoped>\n",
       "    .dataframe tbody tr th:only-of-type {\n",
       "        vertical-align: middle;\n",
       "    }\n",
       "\n",
       "    .dataframe tbody tr th {\n",
       "        vertical-align: top;\n",
       "    }\n",
       "\n",
       "    .dataframe thead th {\n",
       "        text-align: right;\n",
       "    }\n",
       "</style>\n",
       "<table border=\"1\" class=\"dataframe\">\n",
       "  <thead>\n",
       "    <tr style=\"text-align: right;\">\n",
       "      <th></th>\n",
       "      <th>year</th>\n",
       "      <th>occupation code</th>\n",
       "      <th>occupation title</th>\n",
       "      <th>national employment</th>\n",
       "      <th>avg annual wage</th>\n",
       "      <th>p(occupation)</th>\n",
       "    </tr>\n",
       "  </thead>\n",
       "  <tbody>\n",
       "    <tr>\n",
       "      <th>2705</th>\n",
       "      <td>2019</td>\n",
       "      <td>11-1011</td>\n",
       "      <td>Chief Executives</td>\n",
       "      <td>205890</td>\n",
       "      <td>193850.0</td>\n",
       "      <td>0.001465</td>\n",
       "    </tr>\n",
       "    <tr>\n",
       "      <th>2707</th>\n",
       "      <td>2019</td>\n",
       "      <td>11-1021</td>\n",
       "      <td>General and Operations Managers</td>\n",
       "      <td>2400280</td>\n",
       "      <td>123030.0</td>\n",
       "      <td>0.017074</td>\n",
       "    </tr>\n",
       "    <tr>\n",
       "      <th>2709</th>\n",
       "      <td>2019</td>\n",
       "      <td>11-1031</td>\n",
       "      <td>Legislators</td>\n",
       "      <td>52280</td>\n",
       "      <td>49440.0</td>\n",
       "      <td>0.000372</td>\n",
       "    </tr>\n",
       "    <tr>\n",
       "      <th>2712</th>\n",
       "      <td>2019</td>\n",
       "      <td>11-2011</td>\n",
       "      <td>Advertising and Promotions Managers</td>\n",
       "      <td>25100</td>\n",
       "      <td>141890.0</td>\n",
       "      <td>0.000179</td>\n",
       "    </tr>\n",
       "    <tr>\n",
       "      <th>2714</th>\n",
       "      <td>2019</td>\n",
       "      <td>11-2021</td>\n",
       "      <td>Marketing Managers</td>\n",
       "      <td>263680</td>\n",
       "      <td>149200.0</td>\n",
       "      <td>0.001876</td>\n",
       "    </tr>\n",
       "  </tbody>\n",
       "</table>\n",
       "</div>"
      ],
      "text/plain": [
       "      year occupation code                     occupation title  \\\n",
       "2705  2019         11-1011                     Chief Executives   \n",
       "2707  2019         11-1021      General and Operations Managers   \n",
       "2709  2019         11-1031                          Legislators   \n",
       "2712  2019         11-2011  Advertising and Promotions Managers   \n",
       "2714  2019         11-2021                   Marketing Managers   \n",
       "\n",
       "      national employment  avg annual wage  p(occupation)  \n",
       "2705               205890         193850.0       0.001465  \n",
       "2707              2400280         123030.0       0.017074  \n",
       "2709                52280          49440.0       0.000372  \n",
       "2712                25100         141890.0       0.000179  \n",
       "2714               263680         149200.0       0.001876  "
      ]
     },
     "execution_count": 18,
     "metadata": {},
     "output_type": "execute_result"
    }
   ],
   "source": [
    "# calculate employment share \n",
    "# (ie, the fraction of the total employment associated with each occupation)\n",
    "national[\"p(occupation)\"] = national[\"national employment\"] / national[\"national employment\"].sum()\n",
    "# test that p(occupation) sums to 1\n",
    "print(\"sum p(occupation) = %0.2f\" % national[\"p(occupation)\"].sum())\n",
    "national.head()"
   ]
  },
  {
   "cell_type": "markdown",
   "metadata": {
    "hidden": true,
    "slideshow": {
     "slide_type": "subslide"
    }
   },
   "source": [
    "Now we have the parts needed to calculate the average annual wage of an American worker in 2019.\n",
    "\n",
    "The 'avg annual wage' column represents the possible wage outcomes depending on the occupation. Mathematically, let's denote this column with $\\color{blue}{\\vec{w}}$.\n",
    "\n",
    "The 'p(occupation)' column is the probability that a worker has a given occupation. Mathematically, let's denote this column with $\\color{red}{\\vec{p}}$.\n",
    "\n",
    "Then, $\\hspace{1cm}E[W] = \\color{blue}{\\vec{w}}\\cdot\\color{red}{\\vec{p}}$"
   ]
  },
  {
   "cell_type": "code",
   "execution_count": 19,
   "metadata": {
    "hidden": true,
    "slideshow": {
     "slide_type": "fragment"
    }
   },
   "outputs": [
    {
     "name": "stdout",
     "output_type": "stream",
     "text": [
      "The average annual wage is $54078.05\n"
     ]
    }
   ],
   "source": [
    "E = national[\"avg annual wage\"].dot(national[\"p(occupation)\"])\n",
    "print(\"The average annual wage is $%0.2f\" % E)"
   ]
  },
  {
   "cell_type": "markdown",
   "metadata": {
    "hidden": true,
    "slideshow": {
     "slide_type": "subslide"
    }
   },
   "source": [
    "How well does this expected annual wage represent the full distribution of wages?"
   ]
  },
  {
   "cell_type": "code",
   "execution_count": 20,
   "metadata": {
    "hidden": true,
    "hideCode": true,
    "hidePrompt": true,
    "slideshow": {
     "slide_type": "fragment"
    }
   },
   "outputs": [
    {
     "data": {
      "image/png": "[encoded data removed]",
      "text/plain": [
       "<Figure size 432x288 with 1 Axes>"
      ]
     },
     "metadata": {
      "needs_background": "light"
     },
     "output_type": "display_data"
    }
   ],
   "source": [
    "# identify equally spaced wage bins & place rows into bins\n",
    "wages = national[\"avg annual wage\"]\n",
    "bins = np.linspace(wages.min(),wages.max(),20)\n",
    "national[\"wage bin\"] = pd.cut(wages,bins=bins,)\n",
    "# Count number of people in each bin\n",
    "temp = national.groupby(\"wage bin\").agg({\"national employment\":\"sum\"})\n",
    "# Plot distribution\n",
    "bins /= 1000\n",
    "plt.bar(\n",
    "    bins[:-1],\n",
    "    temp[\"national employment\"]/10**6,\n",
    "    width=bins[1]-bins[0],\n",
    "    edgecolor='k',\n",
    "    label=\"_data\",\n",
    ")\n",
    "yy = plt.ylim()\n",
    "plt.plot([E/1000,E/1000],yy,'r--',linewidth=3,label=\"$E[W]$\")\n",
    "plt.ylim(yy)\n",
    "plt.legend(fontsize=15,frameon=False)\n",
    "plt.xticks(fontsize=15)\n",
    "plt.xlabel(\"Annual Wage (\\$1000)\",fontsize=15)\n",
    "plt.yticks(fontsize=15)\n",
    "plt.ylabel(\"Number of People (millions)\",fontsize=15);"
   ]
  },
  {
   "cell_type": "markdown",
   "metadata": {
    "hidden": true,
    "slideshow": {
     "slide_type": "fragment"
    }
   },
   "source": [
    "Although $E[W] = \\$54,078$, this wage is not the most common.\n",
    "\n",
    "The most common **modal** annual wage is lower than $E[W]$.\n",
    "\n",
    "And many workers earn wages much higher than $E[W]$.\n",
    "\n",
    "Therefore, we say the distribution is **skewed** because the distribution does not bunch around distribution's average."
   ]
  },
  {
   "cell_type": "markdown",
   "metadata": {
    "hidden": true,
    "slideshow": {
     "slide_type": "subslide"
    }
   },
   "source": [
    "How many workers are captured in our dataset?"
   ]
  },
  {
   "cell_type": "code",
   "execution_count": 35,
   "metadata": {
    "hidden": true,
    "slideshow": {
     "slide_type": "fragment"
    }
   },
   "outputs": [
    {
     "name": "stdout",
     "output_type": "stream",
     "text": [
      "Number of Unique Occupations: 773\n",
      "Number of Workers: 140584900\n"
     ]
    }
   ],
   "source": [
    "print(\"Number of Unique Occupations: %d\" % len(national))\n",
    "print(\"Number of Workers: %d\" % national[\"national employment\"].sum())"
   ]
  },
  {
   "cell_type": "markdown",
   "metadata": {
    "hidden": true,
    "slideshow": {
     "slide_type": "subslide"
    }
   },
   "source": [
    "140,584,900 is a lot of people! Without a centralized authority, like the US Bureau of Labor Statistics, it would be very difficult to reach this many people to ask them about their job and earnings.\n",
    "\n",
    "So, let's imagine we can't see the full distribution.\n",
    "\n",
    "In fact, instead of surveying 140 million workers, what if we can only survey 10 workers?\n",
    "\n",
    "Can we still estimate the average annual wage? Let $\\color{green}{\\bar{W}}$ denote the average wage of our sample"
   ]
  },
  {
   "cell_type": "code",
   "execution_count": 63,
   "metadata": {
    "hidden": true,
    "slideshow": {
     "slide_type": "skip"
    }
   },
   "outputs": [],
   "source": [
    "def plotWageSampleDist(sample):\n",
    "    plotHist(sample,label=\"_data\")\n",
    "    yy = plt.ylim()\n",
    "    yy = (0,1.5*yy[1])\n",
    "    plt.plot([E/1000,E/1000],yy,'r--',linewidth=3,label=\"Population Avg: $E[W]=\\$%0.2f$\" % E)\n",
    "    e = np.mean(sample)\n",
    "    plt.plot([e,e],yy,'k--',linewidth=3,label=\"Sample Avg: $\\\\bar{W}=\\$%0.2f$\" % (1000*e))\n",
    "    plt.ylim(yy)\n",
    "    plt.xlim((national[\"avg annual wage\"].min()/1000,national[\"avg annual wage\"].max()/1000))\n",
    "    plt.legend(fontsize=15,frameon=True,loc=\"upper right\") \n",
    "    plt.title(\"Sample Size: %d\" % len(sample),fontsize=15)\n",
    "    plt.xlabel(\"Thousands of Dollars\",fontsize=15);"
   ]
  },
  {
   "cell_type": "code",
   "execution_count": 232,
   "metadata": {
    "hidden": true,
    "slideshow": {
     "slide_type": "subslide"
    }
   },
   "outputs": [
    {
     "data": {
      "image/png": "[encoded data removed]",
      "text/plain": [
       "<Figure size 432x288 with 1 Axes>"
      ]
     },
     "metadata": {
      "needs_background": "light"
     },
     "output_type": "display_data"
    }
   ],
   "source": [
    "# We are randomly surveying workers, not occupations\n",
    "# So we need to choose occupations from the data with probabilities proportional to p(occupation).\n",
    "sample = np.random.choice(\n",
    "    national[\"avg annual wage\"],\n",
    "    size=10,\n",
    "    replace=True,\n",
    "    p=national[\"p(occupation)\"],\n",
    ")\n",
    "# try multiple samples. \n",
    "# Is the average wage of the sample always close to the true average wage?\n",
    "plotWageSampleDist(sample/1000)"
   ]
  },
  {
   "cell_type": "markdown",
   "metadata": {
    "hidden": true,
    "slideshow": {
     "slide_type": "subslide"
    }
   },
   "source": [
    "$\\bar{W}$ calculated from the sample of 10 workers does not always approximate the true population average $E[W]$. \n",
    "\n",
    "However, again, if we take multiple small samples, calculate the average of each sample $\\bar{W_i}$, and look at the distribution of samples, we find a normal distribution with an average approaching the population average.\n",
    "\n",
    "That is, $\\hspace{1cm}\\langle \\bar{W_i}\\rangle \\approx E[W]$."
   ]
  },
  {
   "cell_type": "code",
   "execution_count": 82,
   "metadata": {
    "hidden": true,
    "slideshow": {
     "slide_type": "skip"
    }
   },
   "outputs": [],
   "source": [
    "def plotWageSampleAvgDist(A,trials=1):\n",
    "    sample = A[:trials]/1000\n",
    "    plotHist(sample,label=\"_data\",color='lightgray',alpha=.6)\n",
    "    yy = plt.ylim()\n",
    "    yy = (0,1.5*yy[1])\n",
    "    plt.plot([E/1000,E/1000],yy,'r--',linewidth=3,label=\"$E[W]=\\$%0.2f$\" % E)\n",
    "    e = np.mean(sample)\n",
    "    plt.plot([e,e],yy,'k--',linewidth=3,label=\"Avg $\\\\bar{W}$: $\\$%0.2f$\" % (1000*e))\n",
    "    plt.ylim(yy)\n",
    "    plt.legend(fontsize=15,frameon=True,loc=\"upper right\") \n",
    "    plt.title(\"Number of Sample Averages: %d\" % trials,fontsize=15)\n",
    "    plt.xlabel(\"Thousands of Dollars\",fontsize=15);"
   ]
  },
  {
   "cell_type": "code",
   "execution_count": 25,
   "metadata": {
    "hidden": true,
    "slideshow": {
     "slide_type": "skip"
    }
   },
   "outputs": [],
   "source": [
    "trials = 1000\n",
    "A = np.zeros(trials)\n",
    "for trial in range(trials):\n",
    "    sample = np.random.choice(national[\"avg annual wage\"],size=100,replace=True,\n",
    "                              p=national[\"p(occupation)\"])\n",
    "    A[trial] = np.mean(sample)"
   ]
  },
  {
   "cell_type": "code",
   "execution_count": 83,
   "metadata": {
    "hidden": true,
    "hideCode": true,
    "hidePrompt": true,
    "slideshow": {
     "slide_type": "fragment"
    }
   },
   "outputs": [
    {
     "data": {
      "application/vnd.jupyter.widget-view+json": {
       "model_id": "85a7fdd57292429ebae4402843e768cc",
       "version_major": 2,
       "version_minor": 0
      },
      "text/plain": [
       "interactive(children=(IntSlider(value=1, description='trials', max=1000, min=1, step=5), Output()), _dom_class…"
      ]
     },
     "metadata": {},
     "output_type": "display_data"
    }
   ],
   "source": [
    "# hide \n",
    "widgets.interact(plotWageSampleAvgDist,A=widgets.fixed(A),trials=(1,len(A),5));"
   ]
  },
  {
   "cell_type": "markdown",
   "metadata": {
    "hidden": true,
    "slideshow": {
     "slide_type": "subslide"
    }
   },
   "source": [
    "Again, we find that the distribution of sample averages looks nothing like the population's distribution of wages.\n",
    "\n",
    "Instead, this distributions centers and bunches around $E[W]=\\$54,078$\n",
    "\n",
    "This is promising because we can estimate the true population average from samples, especially as the sample get larger."
   ]
  },
  {
   "cell_type": "markdown",
   "metadata": {
    "slideshow": {
     "slide_type": "slide"
    }
   },
   "source": [
    "# The Central Limit Theorem and the Normal \"Bell Curve\" Distribution\n"
   ]
  },
  {
   "cell_type": "code",
   "execution_count": 27,
   "metadata": {
    "hideCode": true,
    "hidePrompt": true,
    "slideshow": {
     "slide_type": "fragment"
    }
   },
   "outputs": [
    {
     "data": {
      "image/png": "[encoded data removed]",
      "text/plain": [
       "<Figure size 1008x432 with 8 Axes>"
      ]
     },
     "metadata": {
      "needs_background": "light"
     },
     "output_type": "display_data"
    }
   ],
   "source": [
    "# hide\n",
    "plt.figure(figsize=(14,6))\n",
    "plt.subplot(2,4,1)\n",
    "n = 10_000\n",
    "diceRolls = np.random.choice([1,2,3,4,5,6],size=n,replace=True)\n",
    "# diceRolls\n",
    "plotHist(diceRolls,bins=[1,2,3,4,5,6,7],probability=True,width=1)\n",
    "plt.xlabel(\"Die Outcome\",fontsize=15);\n",
    "plt.title(\"Fair Dice Roll\",fontsize=15);\n",
    "\n",
    "plt.subplot(2,4,2)\n",
    "diceRollDistributionP(n=1000,showAvg=False)\n",
    "plt.title(\"Weighted Dice Roll\",fontsize=15)\n",
    "\n",
    "plt.subplot(2,4,3)\n",
    "bins = np.linspace(55,85,30)\n",
    "plotHist(boyHeights,bins=bins,label=\"Boys\",alpha=.5)\n",
    "plotHist(girlHeights,bins=bins,label=\"Girls\",alpha=.5)\n",
    "# yy = plt.ylim()\n",
    "# plt.plot([avgHeight,avgHeight],yy,'r--',linewidth=3,label=\"Avg. Height\")\n",
    "# plt.ylim(yy)\n",
    "plt.xlim((55,78))\n",
    "plt.legend(fontsize=12)\n",
    "plt.xlabel(\"Height (inches)\",fontsize=15);\n",
    "plt.title(\"Boy/Girl Heights\",fontsize=15)\n",
    "\n",
    "plt.subplot(2,4,4)\n",
    "wages = national[\"avg annual wage\"]\n",
    "bins = np.linspace(wages.min(),wages.max(),20)\n",
    "national[\"wage bin\"] = pd.cut(wages,bins=bins,)\n",
    "# Count number of people in each bin\n",
    "temp = national.groupby(\"wage bin\").agg({\"national employment\":\"sum\"})\n",
    "# Plot distribution\n",
    "bins /= 1000\n",
    "plt.bar(\n",
    "    bins[:-1],\n",
    "    temp[\"national employment\"]/10**6,\n",
    "    width=bins[1]-bins[0],\n",
    "    edgecolor='k',\n",
    "    label=\"_data\",\n",
    ")\n",
    "# yy = plt.ylim()\n",
    "# plt.plot([E/1000,E/1000],yy,'r--',linewidth=3,label=\"$E[W]$\")\n",
    "# plt.ylim(yy)\n",
    "# plt.legend(fontsize=15,frameon=False)\n",
    "plt.xticks(fontsize=15)\n",
    "plt.xlabel(\"Annual Wage (\\$1000)\",fontsize=15)\n",
    "plt.yticks(fontsize=15)\n",
    "plt.ylabel(\"Number of People (millions)\",fontsize=15);\n",
    "plt.title(\"Annual Wages\",fontsize=15)\n",
    "\n",
    "plt.subplot(2,4,5)\n",
    "data = np.random.choice([1,2,3,4,5,6],size=(8000,10),replace=True)\n",
    "data = np.mean(data,axis=1)\n",
    "plotHist(data,bins=np.linspace(1,6,20),probability=True,facecolor='r',label=\"_data\")\n",
    "plt.xlabel(\"Sample Average\\n(Fair Dice Roll)\",fontsize=15)\n",
    "# plt.title(\"%d samples each containing %d dice rolls\" % (sampleCount,sampleSize),fontsize=15)\n",
    "yy = plt.ylim()\n",
    "plt.plot([3.5,3.5],yy,'k--',label=\"$E[D]=3.5$\",linewidth=3)\n",
    "plt.ylim(yy)\n",
    "# plt.legend(frameon=False,fontsize=15,loc=\"upper right\")\n",
    "\n",
    "plt.subplot(2,4,6)\n",
    "p = np.arange(6).astype(float)+1\n",
    "p /= np.sum(p)\n",
    "data = np.random.choice([1,2,3,4,5,6],size=(8000,10),replace=True,p=p)\n",
    "data = np.mean(data,axis=1)\n",
    "plotHist(data,bins=np.linspace(1,6,20),probability=True,facecolor='r',label=\"_data\")\n",
    "plt.xlabel(\"Sample Average\\n(Weighted Dice Roll)\",fontsize=15)\n",
    "# plt.title(\"%d samples each containing %d dice rolls\" % (sampleCount,sampleSize),fontsize=15)\n",
    "yy = plt.ylim()\n",
    "e = np.dot(p,np.arange(6)+1)\n",
    "plt.plot([e,e],yy,'k--',label=\"$E[D]=%0.2f$\" % e,linewidth=3)\n",
    "plt.ylim(yy)\n",
    "# plt.legend(frameon=False,fontsize=15,loc=\"upper right\")\n",
    "\n",
    "plt.subplot(2,4,7)\n",
    "boyCount = len(boyHeights)\n",
    "girlCount = len(girlHeights)\n",
    "p = np.hstack((maleP/boyCount*np.ones(boyCount),femaleP/girlCount*np.ones(girlCount)))\n",
    "data = np.random.choice(allHeights,size=(1000,10),replace=True,p=p)\n",
    "data = np.mean(data,axis=1)\n",
    "bins = np.linspace(np.min(allHeights),np.max(allHeights),30)\n",
    "plotHist(data,bins=bins,probability=True,facecolor='r',label=\"_data\")\n",
    "plt.xlabel(\"Sample Average (inches)\",fontsize=15)\n",
    "# plt.title(\"%d samples each containing %d individuals\" % (sampleCount,sampleSize),fontsize=15)\n",
    "yy = plt.ylim()\n",
    "plt.plot([avgHeight,avgHeight],yy,'k--',label=\"$E[H]=%0.2f$\" % avgHeight,linewidth=3)\n",
    "plt.ylim(yy)\n",
    "# plt.legend(frameon=False,fontsize=15,loc=\"upper right\")\n",
    "\n",
    "plt.subplot(2,4,8)\n",
    "trials = 1_000\n",
    "A2 = np.zeros(trials)\n",
    "for trial in range(trials):\n",
    "    sample = np.random.choice(national[\"avg annual wage\"],size=500,replace=True,\n",
    "                              p=national[\"p(occupation)\"])\n",
    "    A2[trial] = np.mean(sample)\n",
    "sample = A2/1000\n",
    "plotHist(sample,label=\"_data\",color='lightgray',alpha=.6)\n",
    "yy = plt.ylim()\n",
    "yy = (0,1.3*yy[1])\n",
    "plt.plot([E/1000,E/1000],yy,'k--',linewidth=3,label=\"Population Avg: $E[W]=\\$%0.2f$\" % E,)\n",
    "# e = np.mean(sample)\n",
    "# plt.plot([e,e],yy,'k--',linewidth=3,label=\"Avg $\\\\bar{W}$: $\\$%0.2f$\" % (1000*e))\n",
    "plt.ylim(yy)\n",
    "# plt.legend(fontsize=15,frameon=True,loc=\"upper right\") \n",
    "# plt.title(\"Number of Sample Averages: %d\" % trials,fontsize=15)\n",
    "plt.xlabel(\"Thousands of Dollars\",fontsize=15);\n",
    "\n",
    "plt.tight_layout()"
   ]
  },
  {
   "cell_type": "markdown",
   "metadata": {
    "slideshow": {
     "slide_type": "fragment"
    }
   },
   "source": [
    "Dice rolls (fair and weighted), population heights, and population wage data produce very different population distributions.\n",
    "\n",
    "But, despite that diversity, distributions of sample averages produce a nearly identical bell shaped distribution.\n",
    "\n",
    "The bells may be shifted around the true population's expected value and exhibit different widths, but still a bell-shaped curve."
   ]
  },
  {
   "cell_type": "markdown",
   "metadata": {
    "slideshow": {
     "slide_type": "subslide"
    }
   },
   "source": [
    "The ***Centeral Limit Theorem (CLT)*** describes this observation.\n",
    "\n",
    "If you have **any** population-level distribution and take many independent samples from that distribution (e.g., survey a portion of a population), the distribution of the averages of those samples converges to same bell-shaped distribution.\n",
    "\n",
    "This resulting sample average distribution is so pervasive that it goes by many names:\n",
    "- the Normal Distribution\n",
    "- the Bell Curve\n",
    "- Gaussian Distribution"
   ]
  },
  {
   "cell_type": "markdown",
   "metadata": {
    "slideshow": {
     "slide_type": "subslide"
    }
   },
   "source": [
    "To say CLT with mathematical formalizism:\n",
    "\n",
    "Let $D$ denote the population distribution.\n",
    "\n",
    "Let $X=\\{d_1,d_2,\\dots,d_n\\}$ represent a random sample of outcomes from $D$ each selected with probability $p(D=d)$ and \n",
    "\n",
    "$\\hspace{1cm}E[X] = \\frac{1}{n}\\displaystyle\\sum_{d\\in X}d\\hspace{1cm}$ denote the sample's expected value.\n",
    "\n",
    "If we have several samples $X_1,\\,X_2,\\dots,\\,X_c$, then the distribution of $E[ X_1],\\,E[ X_2],\\dots,\\,E[ X_c]$ converges to the Normal Distribution centered around $E[D]$."
   ]
  },
  {
   "cell_type": "markdown",
   "metadata": {
    "slideshow": {
     "slide_type": "subslide"
    }
   },
   "source": [
    "Looking at the distributions of sample averages, not only are the centered around different points, but the widths of the distribution vary as well."
   ]
  },
  {
   "cell_type": "code",
   "execution_count": 28,
   "metadata": {
    "hideCode": true,
    "hidePrompt": true,
    "slideshow": {
     "slide_type": "fragment"
    }
   },
   "outputs": [
    {
     "data": {
      "image/png": "[encoded data removed]",
      "text/plain": [
       "<Figure size 864x216 with 4 Axes>"
      ]
     },
     "metadata": {
      "needs_background": "light"
     },
     "output_type": "display_data"
    }
   ],
   "source": [
    "#hide\n",
    "def plotSampleDistsAll():\n",
    "    plt.figure(figsize=(12,3))\n",
    "    plt.subplot(1,4,1)\n",
    "    data = np.random.choice([1,2,3,4,5,6],size=(8000,10),replace=True)\n",
    "    data = np.mean(data,axis=1)\n",
    "    plotHist(data,bins=np.linspace(1,6,20),probability=True,facecolor='r',label=\"_data\")\n",
    "    plt.xlabel(\"Sample Average\",fontsize=15)\n",
    "    plt.title(\"Fair Dice Roll\",fontsize=15)\n",
    "    yy = plt.ylim()\n",
    "    plt.plot([3.5,3.5],yy,'k--',label=\"$E[D]=3.5$\",linewidth=3)\n",
    "    plt.ylim(yy)\n",
    "    # plt.legend(frameon=False,fontsize=15,loc=\"upper right\")\n",
    "\n",
    "    plt.subplot(1,4,2)\n",
    "    p = np.arange(6).astype(float)+1\n",
    "    p /= np.sum(p)\n",
    "    data = np.random.choice([1,2,3,4,5,6],size=(8000,10),replace=True,p=p)\n",
    "    data = np.mean(data,axis=1)\n",
    "    plotHist(data,bins=np.linspace(1,6,20),probability=True,facecolor='r',label=\"_data\")\n",
    "    plt.xlabel(\"Sample Average\",fontsize=15)\n",
    "    plt.title(\"Weighted Dice Roll\",fontsize=15)\n",
    "    yy = plt.ylim()\n",
    "    e = np.dot(p,np.arange(6)+1)\n",
    "    plt.plot([e,e],yy,'k--',label=\"$E[D]=%0.2f$\" % e,linewidth=3)\n",
    "    plt.ylim(yy)\n",
    "    # plt.legend(frameon=False,fontsize=15,loc=\"upper right\")\n",
    "\n",
    "    plt.subplot(1,4,3)\n",
    "    boyCount = len(boyHeights)\n",
    "    girlCount = len(girlHeights)\n",
    "    p = np.hstack((maleP/boyCount*np.ones(boyCount),femaleP/girlCount*np.ones(girlCount)))\n",
    "    data = np.random.choice(allHeights,size=(1000,10),replace=True,p=p)\n",
    "    data = np.mean(data,axis=1)\n",
    "    bins = np.linspace(np.min(allHeights),np.max(allHeights),30)\n",
    "    plotHist(data,bins=bins,probability=True,facecolor='r',label=\"_data\")\n",
    "    plt.xlabel(\"Sample Average\\n(inches)\",fontsize=15)\n",
    "    plt.title(\"Height\",fontsize=15)\n",
    "    yy = plt.ylim()\n",
    "    plt.plot([avgHeight,avgHeight],yy,'k--',label=\"$E[H]=%0.2f$\" % avgHeight,linewidth=3)\n",
    "    plt.ylim(yy)\n",
    "    # plt.legend(frameon=False,fontsize=15,loc=\"upper right\")\n",
    "\n",
    "    plt.subplot(1,4,4)\n",
    "    trials = 1_000\n",
    "    A2 = np.zeros(trials)\n",
    "    for trial in range(trials):\n",
    "        sample = np.random.choice(national[\"avg annual wage\"],size=500,replace=True,\n",
    "                                  p=national[\"p(occupation)\"])\n",
    "        A2[trial] = np.mean(sample)\n",
    "    sample = A2/1000\n",
    "    plotHist(sample,probability=True,label=\"_data\",color='lightgray',alpha=.6)\n",
    "    yy = plt.ylim()\n",
    "    yy = (0,1.3*yy[1])\n",
    "    plt.plot([E/1000,E/1000],yy,'k--',linewidth=3,label=\"Population Avg: $E[W]=\\$%0.2f$\" % E,)\n",
    "#     e = np.mean(sample)\n",
    "#     plt.plot([e,e],yy,'k--',linewidth=3,label=\"Avg $\\\\bar{W}$: $\\$%0.2f$\" % (1000*e))\n",
    "    plt.ylim(yy)\n",
    "    # plt.legend(fontsize=15,frameon=True,loc=\"upper right\") \n",
    "    plt.title(\"Annual Wage\",fontsize=15)\n",
    "    plt.xlabel(\"Sample Average\\n($\\\\times\\$1000$)\",fontsize=15);\n",
    "\n",
    "    plt.tight_layout()\n",
    "    \n",
    "plotSampleDistsAll()"
   ]
  },
  {
   "cell_type": "markdown",
   "metadata": {
    "slideshow": {
     "slide_type": "subslide"
    }
   },
   "source": [
    "Formally, we measure how \"wide\" a probability distribution using it's **variance**.\n",
    "\n",
    "If $D$ is some probability distribution, it's variance is\n",
    "\n",
    "$\n",
    "\\hspace{1cm}\n",
    "Var(D) = E\\left[\\left(D-E[D]\\right)^2\\right] = \\displaystyle\\sum_{d\\in D} \\left(d-E[D]\\right)^2\\cdot p(D=d)\n",
    "$\n",
    "\n",
    "You can think about this as the \"expected distance between outcomes in the distribution and the distribution's expected value.\"\n",
    "\n",
    "If $Var(D)$ is small, then the distribution is very bunched around $E[D]$.\n",
    "\n",
    "IF $Var(D)$ is large, then the distribution is spread out around it's center $E[D]$."
   ]
  },
  {
   "cell_type": "markdown",
   "metadata": {
    "slideshow": {
     "slide_type": "subslide"
    }
   },
   "source": [
    "For convenience, $\\sigma_D^2=Var(D)$ is a common shorthand notation for variance.\n",
    "\n",
    "$\\sigma_D = \\sqrt{Var(D)}=\\sqrt{\\sigma_D^2}$ is called $D$'s **standard deviation**.\n",
    "\n",
    "Standard deviation is related to $Var(D)$ since they both measure the width of the distribution.\n",
    "\n",
    "However, they differ in their units. For example, if $D$ is heights in inches, then\n",
    "- the variance $Var(D)=\\sigma_D^2$ is measured in the units of $D$ squared (i.e., inches$^2$)\n",
    "- the standard deviation $\\sigma_D$ is measured in the same units as $D$ (i.e., inches)"
   ]
  },
  {
   "cell_type": "markdown",
   "metadata": {
    "slideshow": {
     "slide_type": "subslide"
    }
   },
   "source": [
    "With these pieces, we can define the Normal Distribution centered at $E[D]$ for some distribution $D$ as \n",
    "\n",
    "$\n",
    "\\hspace{1cm}\n",
    "\\mathcal{N}(x,D) = \\frac{1}{\\sigma_D\\sqrt{2\\pi}}e^{-\\frac{1}{2}\\left(\\frac{x-E[D]}{\\sigma_D}\\right)^2}\n",
    "$\n",
    "\n",
    "where $e=2.71828\\dots$ is Euler's number. It's an irrational, infinte, non-repeating number similar to $\\pi$.\n",
    "\n",
    "We will skip the mathematical derivation of $\\mathcal{N}(x,D)$. But this equation represents the distribution that has an average value at $E[D]$, a standard deviation of $\\sigma_D$, and is maximally random."
   ]
  },
  {
   "cell_type": "code",
   "execution_count": 251,
   "metadata": {
    "slideshow": {
     "slide_type": "subslide"
    }
   },
   "outputs": [
    {
     "name": "stdout",
     "output_type": "stream",
     "text": [
      "Variance: 0.29\n",
      "Standard Deviation: 0.54\n"
     ]
    },
    {
     "data": {
      "text/plain": [
       "0.54"
      ]
     },
     "execution_count": 251,
     "metadata": {},
     "output_type": "execute_result"
    }
   ],
   "source": [
    "# simulate dice rolls for a fair die\n",
    "sampleSize = 10      # number of dice rolls per sample\n",
    "# number of samples\n",
    "sampleCount = 100 \n",
    "data = np.random.choice([1,2,3,4,5,6],size=(sampleCount,sampleSize),replace=True)\n",
    "# calculate the average die roll of each sample\n",
    "sampleMeans = np.mean(data,axis=1)\n",
    "# calculate variance of the distribution of sample means\n",
    "V = np.var(sampleMeans)\n",
    "# calculate standard deviation of the distribution of sample means\n",
    "SD = np.std(sampleMeans)\n",
    "print(\"Variance: %0.2f\" % V)\n",
    "print(\"Standard Deviation: %0.2f\" % SD)\n",
    "np.round(np.sqrt(V),decimals=2)"
   ]
  },
  {
   "cell_type": "code",
   "execution_count": 252,
   "metadata": {
    "slideshow": {
     "slide_type": "subslide"
    }
   },
   "outputs": [],
   "source": [
    "# Define function to produce normal distribution given a distribution D\n",
    "# The distribution is then evaluated at each value in x\n",
    "def normal(x,D):\n",
    "    sd = np.std(D)\n",
    "    Ed = np.mean(D)\n",
    "    return np.exp(-.5*((x-Ed)/sd)**2) / (sd*np.sqrt(2*np.pi))\n",
    "\n",
    "D = sampleMeans\n",
    "x = np.linspace(np.min(D),np.max(D),100)\n",
    "y = normal(x,D)"
   ]
  },
  {
   "cell_type": "markdown",
   "metadata": {
    "slideshow": {
     "slide_type": "subslide"
    }
   },
   "source": [
    "Does the normal distribution look like the real data?"
   ]
  },
  {
   "cell_type": "code",
   "execution_count": 87,
   "metadata": {
    "hideCode": true,
    "hidePrompt": true,
    "slideshow": {
     "slide_type": "fragment"
    }
   },
   "outputs": [
    {
     "data": {
      "image/png": "[encoded data removed]",
      "text/plain": [
       "<Figure size 576x288 with 2 Axes>"
      ]
     },
     "metadata": {
      "needs_background": "light"
     },
     "output_type": "display_data"
    }
   ],
   "source": [
    "# hide\n",
    "plt.figure(figsize=(8,4))\n",
    "plt.subplot(1,2,1)\n",
    "plotHist(sampleMeans,bins=20,probability=True)\n",
    "plt.xlabel(\"Sample Mean\\n(Fair Dice Rolls)\",fontsize=15)\n",
    "xx = plt.xlim()\n",
    "\n",
    "plt.subplot(1,2,2)\n",
    "plt.plot(x,y,'r-')\n",
    "plt.xlim(xx)\n",
    "plt.ylim((0,plt.ylim()[1]))\n",
    "plt.xticks(fontsize=15)\n",
    "plt.yticks(fontsize=15)\n",
    "plt.xlabel(\"Sample Mean\\n(Fair Dice Rolls)\",fontsize=15)\n",
    "plt.ylabel(\"Probability Mass Function\",fontsize=15);\n",
    "plt.tight_layout()"
   ]
  },
  {
   "cell_type": "markdown",
   "metadata": {},
   "source": [
    "Yes! They have the same mean and variance/standard deviation!\n",
    "\n",
    "However, there are two big differences.\n",
    "- First, the average dice roll distribution is **discrete** meaning only whole numbers are obtained. But the normal distribution is continuous meaning it's defined even for fractional dice rolls (e.g., $d=2.4$) which cannot happen in the real-world.\n",
    "- Second, the scale of the y-axes in the two plots are different. The y-axis for the discrete distribution is called **probability density** while the y-axes for the continuous normal distribution is a **probability mass function**.\n",
    "\n"
   ]
  },
  {
   "cell_type": "code",
   "execution_count": 32,
   "metadata": {
    "hideCode": true,
    "hidePrompt": true,
    "slideshow": {
     "slide_type": "subslide"
    }
   },
   "outputs": [
    {
     "data": {
      "image/png": "[encoded data removed]",
      "text/plain": [
       "<Figure size 864x432 with 8 Axes>"
      ]
     },
     "metadata": {
      "needs_background": "light"
     },
     "output_type": "display_data"
    }
   ],
   "source": [
    "# hide\n",
    "def normal2(D):\n",
    "    x = np.linspace(np.min(D),np.max(D),100)\n",
    "    return x,normal(x,D)\n",
    "\n",
    "plt.figure(figsize=(12,6))\n",
    "plt.subplot(2,4,1)\n",
    "data = np.random.choice([1,2,3,4,5,6],size=(8000,10),replace=True)\n",
    "data = np.mean(data,axis=1)\n",
    "plotHist(data,bins=np.linspace(1,6,20),probability=True,facecolor='r',label=\"_data\")\n",
    "plt.xlabel(\"Sample Average\",fontsize=15)\n",
    "plt.title(\"Fair Dice Roll\",fontsize=15)\n",
    "yy = plt.ylim()\n",
    "plt.plot([3.5,3.5],yy,'k--',label=\"$E[D]=3.5$\",linewidth=3)\n",
    "plt.ylim(yy)\n",
    "# plt.legend(frameon=False,fontsize=15,loc=\"upper right\")\n",
    "xx = plt.xlim()\n",
    "\n",
    "plt.subplot(2,4,5)\n",
    "x,y = normal2(data)\n",
    "plt.plot(x,y,'r-')\n",
    "plt.xlim(xx)\n",
    "plt.ylim((0,plt.ylim()[1]))\n",
    "\n",
    "plt.subplot(2,4,2)\n",
    "p = np.arange(6).astype(float)+1\n",
    "p /= np.sum(p)\n",
    "data = np.random.choice([1,2,3,4,5,6],size=(8000,10),replace=True,p=p)\n",
    "data = np.mean(data,axis=1)\n",
    "plotHist(data,bins=np.linspace(1,6,20),probability=True,facecolor='r',label=\"_data\")\n",
    "plt.xlabel(\"Sample Average\",fontsize=15)\n",
    "plt.title(\"Weighted Dice Roll\",fontsize=15)\n",
    "yy = plt.ylim()\n",
    "e = np.dot(p,np.arange(6)+1)\n",
    "plt.plot([e,e],yy,'k--',label=\"$E[D]=%0.2f$\" % e,linewidth=3)\n",
    "plt.ylim(yy)\n",
    "xx = plt.xlim()\n",
    "# plt.legend(frameon=False,fontsize=15,loc=\"upper right\")\n",
    "\n",
    "plt.subplot(2,4,6)\n",
    "x,y = normal2(data)\n",
    "plt.plot(x,y,'r-')\n",
    "plt.xlim(xx)\n",
    "plt.ylim((0,plt.ylim()[1]))\n",
    "\n",
    "plt.subplot(2,4,3)\n",
    "boyCount = len(boyHeights)\n",
    "girlCount = len(girlHeights)\n",
    "p = np.hstack((maleP/boyCount*np.ones(boyCount),femaleP/girlCount*np.ones(girlCount)))\n",
    "data = np.random.choice(allHeights,size=(1000,10),replace=True,p=p)\n",
    "data = np.mean(data,axis=1)\n",
    "bins = np.linspace(np.min(allHeights),np.max(allHeights),30)\n",
    "plotHist(data,bins=bins,probability=True,facecolor='r',label=\"_data\")\n",
    "plt.xlabel(\"Sample Average\\n(inches)\",fontsize=15)\n",
    "plt.title(\"Height\",fontsize=15)\n",
    "yy = plt.ylim()\n",
    "plt.plot([avgHeight,avgHeight],yy,'k--',label=\"$E[H]=%0.2f$\" % avgHeight,linewidth=3)\n",
    "plt.ylim(yy)\n",
    "xx = plt.xlim()\n",
    "# plt.legend(frameon=False,fontsize=15,loc=\"upper right\")\n",
    "\n",
    "plt.subplot(2,4,7)\n",
    "x,y = normal2(data)\n",
    "plt.plot(x,y,'r-')\n",
    "plt.xlim(xx)\n",
    "plt.ylim((0,plt.ylim()[1]))\n",
    "\n",
    "plt.subplot(2,4,4)\n",
    "trials = 1_000\n",
    "A2 = np.zeros(trials)\n",
    "for trial in range(trials):\n",
    "    sample = np.random.choice(national[\"avg annual wage\"],size=500,replace=True,\n",
    "                              p=national[\"p(occupation)\"])\n",
    "    A2[trial] = np.mean(sample)\n",
    "sample = A2/1000\n",
    "plotHist(sample,probability=True,label=\"_data\",color='lightgray',alpha=.6)\n",
    "yy = plt.ylim()\n",
    "yy = (0,1.3*yy[1])\n",
    "plt.plot([E/1000,E/1000],yy,'k--',linewidth=3,label=\"Population Avg: $E[W]=\\$%0.2f$\" % E,)\n",
    "#     e = np.mean(sample)\n",
    "#     plt.plot([e,e],yy,'k--',linewidth=3,label=\"Avg $\\\\bar{W}$: $\\$%0.2f$\" % (1000*e))\n",
    "plt.ylim(yy)\n",
    "# plt.legend(fontsize=15,frameon=True,loc=\"upper right\") \n",
    "plt.title(\"Annual Wage\",fontsize=15)\n",
    "xx = plt.xlim()\n",
    "plt.xlabel(\"Sample Average\\n($\\\\times\\$1000$)\",fontsize=15);\n",
    "\n",
    "plt.subplot(2,4,8)\n",
    "x,y = normal2(sample)\n",
    "plt.plot(x,y,'r-')\n",
    "plt.xlim(xx)\n",
    "plt.ylim((0,plt.ylim()[1]))\n",
    "\n",
    "plt.tight_layout()"
   ]
  },
  {
   "cell_type": "markdown",
   "metadata": {
    "slideshow": {
     "slide_type": "subslide"
    }
   },
   "source": [
    "In each of these examples, the normal distribution built from $E[D]$ and $\\sigma_D$ looks like the actual data except that the data is discrete while the normal distribution is continuous. \n",
    "\n",
    "In each case, the normal distribution gives a **model** that we can use to generate synthetic data that mimics the real data."
   ]
  },
  {
   "cell_type": "code",
   "execution_count": 253,
   "metadata": {
    "slideshow": {
     "slide_type": "fragment"
    }
   },
   "outputs": [],
   "source": [
    "# Define function to produce normal distribution given a distribution D\n",
    "# The distribution is then evaluated at each value in x\n",
    "def normal(x,D):\n",
    "    sd = np.std(D)\n",
    "    Ed = np.mean(D)\n",
    "    return np.exp(-.5*((x-Ed)/sd)**2) / (sd*np.sqrt(2*np.pi))\n",
    "\n",
    "D = sampleMeans\n",
    "x = np.linspace(np.min(D),np.max(D),100)\n",
    "y = normal(x,D)"
   ]
  },
  {
   "cell_type": "code",
   "execution_count": 254,
   "metadata": {
    "slideshow": {
     "slide_type": "fragment"
    }
   },
   "outputs": [],
   "source": [
    "# using the dice roll data\n",
    "fakeData = np.random.normal(\n",
    "    loc=np.mean(sampleMeans),\n",
    "    scale=np.std(sampleMeans),\n",
    "    size = 500\n",
    ")"
   ]
  },
  {
   "cell_type": "code",
   "execution_count": 102,
   "metadata": {
    "hideCode": true,
    "hidePrompt": true,
    "slideshow": {
     "slide_type": "skip"
    }
   },
   "outputs": [
    {
     "data": {
      "image/png": "[encoded data removed]",
      "text/plain": [
       "<Figure size 864x288 with 3 Axes>"
      ]
     },
     "metadata": {
      "needs_background": "light"
     },
     "output_type": "display_data"
    }
   ],
   "source": [
    "# hide\n",
    "plt.figure(figsize=(12,4))\n",
    "plt.subplot(1,3,1)\n",
    "plotHist(sampleMeans,bins=20,probability=True)\n",
    "plt.xlabel(\"Sample Mean\\n(Fair Dice Rolls)\",fontsize=15)\n",
    "xx = plt.xlim()\n",
    "plt.title(\"Random Dice Rolls Data\",fontsize=15)\n",
    "\n",
    "plt.subplot(1,3,2)\n",
    "x,y = normal2(sampleMeans)\n",
    "plt.plot(x,y,'r-')\n",
    "plt.xlim(xx)\n",
    "plt.ylim((0,plt.ylim()[1]))\n",
    "plt.xticks(fontsize=15)\n",
    "plt.yticks(fontsize=15)\n",
    "plt.xlabel(\"Sample Mean\\n(Fair Dice Rolls)\",fontsize=15)\n",
    "plt.ylabel(\"Probability Mass Function\",fontsize=15);\n",
    "plt.title(\"Normal Distribution fitted to data\",fontsize=15)\n",
    "\n",
    "plt.subplot(1,3,3)\n",
    "plotHist(fakeData,probability=True,alpha=.5)\n",
    "plt.title(\"Synthetic Data\",fontsize=15)\n",
    "\n",
    "plt.tight_layout()"
   ]
  },
  {
   "cell_type": "markdown",
   "metadata": {
    "slideshow": {
     "slide_type": "subslide"
    }
   },
   "source": [
    "Here, \"sampleMeans\" is our ground truth distribution which we are modeling using a Normal Distribution to create synthetic \"fake\" data.\n",
    "\n",
    "Visually, the real dice roll distribution and the synthetic distribution are similar.\n",
    "\n",
    "But how well can I estimate the true $E[D]$ using the expected value of the synthetic data $E[D_s]$?"
   ]
  },
  {
   "cell_type": "code",
   "execution_count": 255,
   "metadata": {
    "slideshow": {
     "slide_type": "fragment"
    }
   },
   "outputs": [
    {
     "data": {
      "text/plain": [
       "3.4666472954463097"
      ]
     },
     "execution_count": 255,
     "metadata": {},
     "output_type": "execute_result"
    }
   ],
   "source": [
    "# compare synthetic data's mean to ground truth expected value of E[D]=3.5 for fair dice rolls\n",
    "np.mean(fakeData) "
   ]
  },
  {
   "cell_type": "markdown",
   "metadata": {
    "slideshow": {
     "slide_type": "subslide"
    }
   },
   "source": [
    "Pretty close!\n",
    "\n",
    "Now imagine we did not know the true population-level distribution. \n",
    "\n",
    "For example, imagine we are running a public-opinion survey and do not know the true distribution of beliefs across the whole population (if we knew the true distribution, then there would be no need for the survey).\n",
    "\n",
    "In this case, can we assess how good our sample's expected value $E[D_s]$ approximates the population's expected value $E[D]$?"
   ]
  },
  {
   "cell_type": "markdown",
   "metadata": {
    "slideshow": {
     "slide_type": "subslide"
    }
   },
   "source": [
    "Let's represent our sample of synthetic dice rolls using $s=\\{d_1,\\,d_2,\\,\\dots,\\,d_n\\}$ and $\\hspace{1cm}\\color{red}{T_s=\\displaystyle\\sum_{i=1}^n d_i}\\hspace{1cm}$ denote the sum of values in our sample.\n",
    "\n",
    "Then, the expected value of the sample is\n",
    "$\n",
    "\\hspace{1cm}\n",
    "E[s] = \\color{red}{T_s}/n\n",
    "$\n",
    "\n",
    "$\\color{red}{T_s}$ is itself a random variable; calculating $\\color{blue}{T}$ for two different samples $s_1$ and $s_2$ might yield two different values (i.e., it may be that $T_{s_1}\\neq T_{s_2}$).\n",
    "\n",
    "The $\\color{blue}{T}$ values across multiple samples will form a distribution which has variance $\\hspace{1cm}Var(\\color{blue}{T})=n\\sigma_s^2\\hspace{1cm}$ because each observation $d_i$ is part of a sample with variance $\\sigma_s^2$.\n",
    "\n",
    "Similarly, across $m$ different samples, $E[s]$ will also form a distribution with variance\n",
    "\n",
    "$\n",
    "Var(E[s]) = Var(\\color{blue}{T}/n) = E\\left[\\left(\\color{blue}{T}/n-E[\\color{blue}{T}/n]\\right)^2\\right]\n",
    "= E\\left[\\left(\\color{blue}{T}/n-\\frac{1}{m}\\displaystyle\\sum_{i=1}^{m}\\color{blue}{T}/n  \\right)^2\\right]\n",
    "= E\\left[\\left(\\color{blue}{T}/n-\\frac{1}{n}\\left(\\frac{1}{m}\\displaystyle\\sum_{i=1}^{m}\\color{blue}{T}\\right)  \\right)^2\\right]\n",
    "$\n",
    "\n",
    "$\n",
    "= \\frac{1}{n^2}E\\left[\\left(\\color{blue}{T}-E[\\color{blue}{T}]\\right)^2\\right]\n",
    "= \\frac{1}{n^2}Var(\\color{blue}{T})\n",
    "= \\frac{1}{n^2}\\cdot n\\sigma_s^2\n",
    "= \\sigma_s^2/n \n",
    "$"
   ]
  },
  {
   "cell_type": "markdown",
   "metadata": {
    "slideshow": {
     "slide_type": "subslide"
    }
   },
   "source": [
    "$Var(E[s]) = \\sigma_s^2/n\\hspace{1cm}$ and, therefore, the standard deviation of our distribution of $E[s]$ estimates, called the **standard error**, is $\\hspace{1cm}\\sigma_{E[s]} = \\sqrt{\\sigma_s^2/n} = \\sigma_s/\\sqrt{n}$\n",
    "\n",
    "In other words, the distribution of expected values across multiple samples is again a normal distribution with expected value $\\hspace{1cm}E\\left[E[s]\\right]=E[D]\\hspace{1cm}$ and standard deviation $\\hspace{1cm}\\sigma_{E[s]}=\\sigma_s/\\sqrt{n}$\n",
    "\n",
    "We will derive this later, but the standard error of our sample allows us to bound our estimate of the true population averge. \n",
    "\n",
    "For example, with 95% probability, $E[D]$ will be between $\\hspace{1cm}E[s]-1.96\\cdot (\\sigma_s/\\sqrt{n})\\hspace{1cm}$ and $\\hspace{1cm}E[s]+1.96\\cdot (\\sigma_s/\\sqrt{n})$ \n",
    "\n",
    "<img src='./Standard_deviation_diagram.svg.png' style=\"width:60%\"/>"
   ]
  },
  {
   "cell_type": "code",
   "execution_count": 256,
   "metadata": {
    "slideshow": {
     "slide_type": "subslide"
    }
   },
   "outputs": [
    {
     "name": "stdout",
     "output_type": "stream",
     "text": [
      "Standard error: 0.0238\n",
      "Based on our sample, there is a 95% chance that the true population average falls between 3.4201 and 3.5132\n"
     ]
    }
   ],
   "source": [
    "# define function to calculate standard error of a sample distribution\n",
    "stdErr = lambda sample: np.std(sample)/np.sqrt(len(sample))\n",
    "# apply the function to the synthetic data\n",
    "se = stdErr(fakeData)\n",
    "print(\"Standard error: %0.4f\" % se)\n",
    "Es = np.mean(fakeData)\n",
    "lowerBound = Es - 1.96*se\n",
    "upperBound = Es + 1.96*se\n",
    "print(\n",
    "    \"Based on our sample, there is a 95% chance that the true population \"+\\\n",
    "    \"average falls between %0.4f and %0.4f\" % (lowerBound,upperBound)\n",
    ")"
   ]
  }
 ],
 "metadata": {
  "celltoolbar": "Slideshow",
  "kernelspec": {
   "display_name": "Python 3 (ipykernel)",
   "language": "python",
   "name": "python3"
  },
  "language_info": {
   "codemirror_mode": {
    "name": "ipython",
    "version": 3
   },
   "file_extension": ".py",
   "mimetype": "text/x-python",
   "name": "python",
   "nbconvert_exporter": "python",
   "pygments_lexer": "ipython3",
   "version": "3.8.19"
  },
  "varInspector": {
   "cols": {
    "lenName": 16,
    "lenType": 16,
    "lenVar": 40
   },
   "kernels_config": {
    "python": {
     "delete_cmd_postfix": "",
     "delete_cmd_prefix": "del ",
     "library": "var_list.py",
     "varRefreshCmd": "print(var_dic_list())"
    },
    "r": {
     "delete_cmd_postfix": ") ",
     "delete_cmd_prefix": "rm(",
     "library": "var_list.r",
     "varRefreshCmd": "cat(var_dic_list()) "
    }
   },
   "types_to_exclude": [
    "module",
    "function",
    "builtin_function_or_method",
    "instance",
    "_Feature"
   ],
   "window_display": false
  }
 },
 "nbformat": 4,
 "nbformat_minor": 4
}
