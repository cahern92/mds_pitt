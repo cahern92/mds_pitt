{
 "cells": [
  {
   "cell_type": "markdown",
   "id": "a07882f9-3552-4bf6-8758-3c97bc728e64",
   "metadata": {},
   "source": [
    "## CMPINF 2100\n",
    "### Introduction to Regularization using Logistic Regression\n",
    "This notebook will build from a starting point and eventually show you how to TUNE regularization methods using scikit-learn from Logistic Regression.\n",
    "## Import Modules"
   ]
  },
  {
   "cell_type": "code",
   "execution_count": 1,
   "id": "431921de-f7dd-4acf-8025-6376e497354a",
   "metadata": {},
   "outputs": [],
   "source": [
    "import numpy as np\n",
    "import pandas as pd\n",
    "import matplotlib.pyplot as plt\n",
    "\n",
    "import seaborn as sns"
   ]
  },
  {
   "cell_type": "markdown",
   "id": "5deda935-f9cd-46d0-bfa5-1b2c90eb0637",
   "metadata": {},
   "source": [
    "## Read data\n",
    "We will continue to use the binary classification example from Week 12."
   ]
  },
  {
   "cell_type": "code",
   "execution_count": 2,
   "id": "a842f4dc-503c-4da4-b8af-13e0077938bf",
   "metadata": {},
   "outputs": [],
   "source": [
    "df = pd.read_csv(\"../week_13/week_12_binary_classification.csv\")"
   ]
  },
  {
   "cell_type": "code",
   "execution_count": 3,
   "id": "36754902-8c77-4a8d-ab00-d2758b0a188c",
   "metadata": {},
   "outputs": [
    {
     "name": "stdout",
     "output_type": "stream",
     "text": [
      "<class 'pandas.core.frame.DataFrame'>\n",
      "RangeIndex: 300 entries, 0 to 299\n",
      "Data columns (total 6 columns):\n",
      " #   Column  Non-Null Count  Dtype  \n",
      "---  ------  --------------  -----  \n",
      " 0   x1      300 non-null    float64\n",
      " 1   x2      300 non-null    float64\n",
      " 2   x3      300 non-null    float64\n",
      " 3   x4      300 non-null    float64\n",
      " 4   x5      300 non-null    object \n",
      " 5   y       300 non-null    int64  \n",
      "dtypes: float64(4), int64(1), object(1)\n",
      "memory usage: 14.2+ KB\n"
     ]
    }
   ],
   "source": [
    "df.info()"
   ]
  },
  {
   "cell_type": "code",
   "execution_count": 4,
   "id": "ab5dbdd1-9ea4-49ec-87bb-f12283805d65",
   "metadata": {},
   "outputs": [
    {
     "data": {
      "text/plain": [
       "x1    300\n",
       "x2    300\n",
       "x3    300\n",
       "x4    300\n",
       "x5      3\n",
       "y       2\n",
       "dtype: int64"
      ]
     },
     "execution_count": 4,
     "metadata": {},
     "output_type": "execute_result"
    }
   ],
   "source": [
    "df.nunique()"
   ]
  },
  {
   "cell_type": "markdown",
   "id": "a9d19e8b-2e3f-49ee-9d86-c3d4ec6af4a2",
   "metadata": {},
   "source": [
    "## Logistic Regression\n",
    "We have fit MANY model from SIMPLE to COMPLEX."
   ]
  },
  {
   "cell_type": "code",
   "execution_count": 5,
   "id": "a3832a1c-f50f-45b3-88c2-e4f2a264b029",
   "metadata": {},
   "outputs": [],
   "source": [
    "formula_list = [\"y ~ 1\",\n",
    "               \"y ~ x5\",\n",
    "               \"y ~ x1 + x2 + x3 + x4\",\n",
    "               \"y ~ x1 + x2 + x3 + x4 + x5\",\n",
    "               \"y ~ x5 * (x1 + x2 + x3 + x4)\",\n",
    "               \"y ~ (x1 + x2 + x3 + x4) ** 2\",\n",
    "               \"y ~ x1 + x2 + x3 + x4 + np.power(x1, 2) + np.power(x2 ,2) + np.power(x3 ,2) + np.power(x4 ,2)\",\n",
    "               \"y ~ x5 + x1 + x2 + x3 + x4 + np.power(x1, 2) + np.power(x2 ,2) + np.power(x3 ,2) + np.power(x4 ,2)\",\n",
    "               \"y ~ x5 * (x1 + x2 + x3 + x4 + np.power(x1, 2) + np.power(x2 ,2) + np.power(x3 ,2) + np.power(x4 ,2))\",\n",
    "               \"y ~ x5 + ((x1 + x2 + x3 + x4) ** 2 + np.power(x1, 2) + np.power(x2 ,2) + np.power(x3 ,2) + np.power(x4 ,2))\",\n",
    "               \"y ~ x5 * ((x1 + x2 + x3 + x4) ** 2 + np.power(x1, 2) + np.power(x2 ,2) + np.power(x3 ,2) + np.power(x4 ,2))\",\n",
    "               \"y ~ x5 + (x1 + x2 + x3 + x4) ** 3\",\n",
    "               \"y ~ x5 + (x1 + x2 + x3 + x4) ** 4\",\n",
    "               \"y ~ (x1 + x2 + x3 + x4 + x5) ** 3\",\n",
    "               \"y ~ (x1 + x2 + x3 + x4 + x5) ** 4\",\n",
    "               \"y ~ x5 * ( (x1 + x2 + x3 + x4) ** 3 + np.power(x1, 2) + np.power(x2 ,2) + np.power(x3 ,2) + np.power(x4 ,2) + np.power(x1, 3) + np.power(x2 ,3) + np.power(x3 ,3) + np.power(x4 ,3))\",\n",
    "               \"y ~ x5 * ( (x1 + x2 + x3 + x4) ** 3 + np.power(x1, 2) + np.power(x2 ,2) + np.power(x3 ,2) + np.power(x4 ,2) + np.power(x1, 3) + np.power(x2 ,3) + np.power(x3 ,3) + np.power(x4 ,3) + np.power(x1, 4) + np.power(x2 ,4) + np.power(x3 ,4) + np.power(x4 ,4))\"\n",
    "               ]"
   ]
  },
  {
   "cell_type": "code",
   "execution_count": 7,
   "id": "2994a631-30fd-4b17-9c45-4c6f87153472",
   "metadata": {},
   "outputs": [
    {
     "data": {
      "text/plain": [
       "'y ~ 1'"
      ]
     },
     "execution_count": 7,
     "metadata": {},
     "output_type": "execute_result"
    }
   ],
   "source": [
    "formula_list[0]"
   ]
  },
  {
   "cell_type": "code",
   "execution_count": 9,
   "id": "cab2ab43-fdcc-4fb5-a20d-4606d1e481d9",
   "metadata": {},
   "outputs": [
    {
     "data": {
      "text/plain": [
       "'y ~ x5 * ( (x1 + x2 + x3 + x4) ** 3 + np.power(x1, 2) + np.power(x2 ,2) + np.power(x3 ,2) + np.power(x4 ,2) + np.power(x1, 3) + np.power(x2 ,3) + np.power(x3 ,3) + np.power(x4 ,3) + np.power(x1, 4) + np.power(x2 ,4) + np.power(x3 ,4) + np.power(x4 ,4))'"
      ]
     },
     "execution_count": 9,
     "metadata": {},
     "output_type": "execute_result"
    }
   ],
   "source": [
    "formula_list[-1]"
   ]
  },
  {
   "cell_type": "markdown",
   "id": "8cc6f5a8-0efb-44cc-8568-6a4d250c62fa",
   "metadata": {},
   "source": [
    "We know how to fit the models with statsmodels."
   ]
  },
  {
   "cell_type": "code",
   "execution_count": 10,
   "id": "95f4af03-e445-494a-a831-46cb1a71c26c",
   "metadata": {},
   "outputs": [],
   "source": [
    "import statsmodels.formula.api as smf"
   ]
  },
  {
   "cell_type": "code",
   "execution_count": 12,
   "id": "fa316f18-72db-4bc0-8e3e-48ee05352339",
   "metadata": {},
   "outputs": [
    {
     "name": "stdout",
     "output_type": "stream",
     "text": [
      "Optimization terminated successfully.\n",
      "         Current function value: 0.335107\n",
      "         Iterations 12\n"
     ]
    }
   ],
   "source": [
    "fit_stats = smf.logit(formula=formula_list[-1], data=df).fit()"
   ]
  },
  {
   "cell_type": "code",
   "execution_count": 13,
   "id": "9899867e-a95f-426e-a4b9-0ea53259c1f9",
   "metadata": {},
   "outputs": [
    {
     "data": {
      "text/plain": [
       "Intercept                  1.320581\n",
       "x5[T.b]                   -1.552826\n",
       "x5[T.c]                   -0.022902\n",
       "x1                        -0.998869\n",
       "x5[T.b]:x1                 1.210213\n",
       "                             ...   \n",
       "x5[T.b]:np.power(x3, 4)    0.416084\n",
       "x5[T.c]:np.power(x3, 4)    0.224892\n",
       "np.power(x4, 4)            0.284632\n",
       "x5[T.b]:np.power(x4, 4)   -0.394857\n",
       "x5[T.c]:np.power(x4, 4)   -1.348794\n",
       "Length: 81, dtype: float64"
      ]
     },
     "execution_count": 13,
     "metadata": {},
     "output_type": "execute_result"
    }
   ],
   "source": [
    "fit_stats.params"
   ]
  },
  {
   "cell_type": "code",
   "execution_count": 14,
   "id": "2dc9405e-9fdc-4455-b20e-55c858382ed3",
   "metadata": {},
   "outputs": [
    {
     "data": {
      "text/plain": [
       "Intercept                  1.372893\n",
       "x5[T.b]                    1.540143\n",
       "x5[T.c]                    1.749245\n",
       "x1                         1.730182\n",
       "x5[T.b]:x1                 1.887524\n",
       "                             ...   \n",
       "x5[T.b]:np.power(x3, 4)    0.301682\n",
       "x5[T.c]:np.power(x3, 4)    0.789798\n",
       "np.power(x4, 4)            0.324309\n",
       "x5[T.b]:np.power(x4, 4)    0.339964\n",
       "x5[T.c]:np.power(x4, 4)    0.870452\n",
       "Length: 81, dtype: float64"
      ]
     },
     "execution_count": 14,
     "metadata": {},
     "output_type": "execute_result"
    }
   ],
   "source": [
    "fit_stats.bse"
   ]
  },
  {
   "cell_type": "code",
   "execution_count": 15,
   "id": "778e1633-9bec-4e4c-b80c-e1c9ba25d7fc",
   "metadata": {},
   "outputs": [
    {
     "data": {
      "text/html": [
       "<div>\n",
       "<style scoped>\n",
       "    .dataframe tbody tr th:only-of-type {\n",
       "        vertical-align: middle;\n",
       "    }\n",
       "\n",
       "    .dataframe tbody tr th {\n",
       "        vertical-align: top;\n",
       "    }\n",
       "\n",
       "    .dataframe thead th {\n",
       "        text-align: right;\n",
       "    }\n",
       "</style>\n",
       "<table border=\"1\" class=\"dataframe\">\n",
       "  <thead>\n",
       "    <tr style=\"text-align: right;\">\n",
       "      <th></th>\n",
       "      <th>0</th>\n",
       "      <th>1</th>\n",
       "    </tr>\n",
       "  </thead>\n",
       "  <tbody>\n",
       "    <tr>\n",
       "      <th>Intercept</th>\n",
       "      <td>-1.370239</td>\n",
       "      <td>4.011401</td>\n",
       "    </tr>\n",
       "    <tr>\n",
       "      <th>x5[T.b]</th>\n",
       "      <td>-4.571452</td>\n",
       "      <td>1.465799</td>\n",
       "    </tr>\n",
       "    <tr>\n",
       "      <th>x5[T.c]</th>\n",
       "      <td>-3.451359</td>\n",
       "      <td>3.405555</td>\n",
       "    </tr>\n",
       "    <tr>\n",
       "      <th>x1</th>\n",
       "      <td>-4.389963</td>\n",
       "      <td>2.392224</td>\n",
       "    </tr>\n",
       "    <tr>\n",
       "      <th>x5[T.b]:x1</th>\n",
       "      <td>-2.489267</td>\n",
       "      <td>4.909692</td>\n",
       "    </tr>\n",
       "    <tr>\n",
       "      <th>...</th>\n",
       "      <td>...</td>\n",
       "      <td>...</td>\n",
       "    </tr>\n",
       "    <tr>\n",
       "      <th>x5[T.b]:np.power(x3, 4)</th>\n",
       "      <td>-0.175201</td>\n",
       "      <td>1.007369</td>\n",
       "    </tr>\n",
       "    <tr>\n",
       "      <th>x5[T.c]:np.power(x3, 4)</th>\n",
       "      <td>-1.323083</td>\n",
       "      <td>1.772867</td>\n",
       "    </tr>\n",
       "    <tr>\n",
       "      <th>np.power(x4, 4)</th>\n",
       "      <td>-0.351002</td>\n",
       "      <td>0.920266</td>\n",
       "    </tr>\n",
       "    <tr>\n",
       "      <th>x5[T.b]:np.power(x4, 4)</th>\n",
       "      <td>-1.061174</td>\n",
       "      <td>0.271460</td>\n",
       "    </tr>\n",
       "    <tr>\n",
       "      <th>x5[T.c]:np.power(x4, 4)</th>\n",
       "      <td>-3.054848</td>\n",
       "      <td>0.357261</td>\n",
       "    </tr>\n",
       "  </tbody>\n",
       "</table>\n",
       "<p>81 rows × 2 columns</p>\n",
       "</div>"
      ],
      "text/plain": [
       "                                0         1\n",
       "Intercept               -1.370239  4.011401\n",
       "x5[T.b]                 -4.571452  1.465799\n",
       "x5[T.c]                 -3.451359  3.405555\n",
       "x1                      -4.389963  2.392224\n",
       "x5[T.b]:x1              -2.489267  4.909692\n",
       "...                           ...       ...\n",
       "x5[T.b]:np.power(x3, 4) -0.175201  1.007369\n",
       "x5[T.c]:np.power(x3, 4) -1.323083  1.772867\n",
       "np.power(x4, 4)         -0.351002  0.920266\n",
       "x5[T.b]:np.power(x4, 4) -1.061174  0.271460\n",
       "x5[T.c]:np.power(x4, 4) -3.054848  0.357261\n",
       "\n",
       "[81 rows x 2 columns]"
      ]
     },
     "execution_count": 15,
     "metadata": {},
     "output_type": "execute_result"
    }
   ],
   "source": [
    "fit_stats.conf_int()"
   ]
  },
  {
   "cell_type": "code",
   "execution_count": 17,
   "id": "e751235b-e2c6-4381-9b44-1a785fd83e6f",
   "metadata": {},
   "outputs": [
    {
     "data": {
      "text/plain": [
       "array([ 1.32058095, -1.55282638, -0.02290171, -0.9988693 ,  1.2102127 ,\n",
       "        4.66947597,  1.90020218, -2.80989522,  0.01302911,  2.48168371,\n",
       "       -0.96904051, -3.70302173, -2.00940075,  2.05631202, -1.42985181,\n",
       "       -1.96785309,  3.25014955, -2.70804585, -0.58525923,  0.05788615,\n",
       "        2.25275043,  0.89524115, -1.68284148,  1.52848922, -1.14562035,\n",
       "        2.31962476,  3.7961458 , -0.50683116,  0.46859127,  1.42882239,\n",
       "        1.31683802, -1.20552019,  1.06433771, -0.34984964,  0.29108868,\n",
       "       -5.68198569,  0.73811828, -0.97567907, -5.31258558,  0.51251628,\n",
       "       -0.23690389, -1.06781236, -0.88103307,  0.95685953, -1.40207326,\n",
       "        0.78548406,  0.32390322, -6.11743806, -0.39173843, -1.41806941,\n",
       "        1.74981065, -2.08533623, -0.07217375, -0.85639912, -1.18932018,\n",
       "        1.95855023,  7.7673739 ,  1.54691021, -0.69605481, -1.9847706 ,\n",
       "       -4.90112106,  3.96307639,  3.21648377, -0.60610656,  0.63119099,\n",
       "        0.994993  ,  0.4187507 , -0.44076032,  1.67639326, -1.16383033,\n",
       "        0.22411703,  1.55291441, -1.85416787,  1.71526835,  0.3571432 ,\n",
       "        0.26337718,  0.41608366,  0.22489186,  0.28463175, -0.39485659,\n",
       "       -1.34879377])"
      ]
     },
     "execution_count": 17,
     "metadata": {},
     "output_type": "execute_result"
    }
   ],
   "source": [
    "fit_stats.params.to_numpy()"
   ]
  },
  {
   "cell_type": "markdown",
   "id": "00507a91-3c5d-48a4-abf2-e5f49cf7f0e3",
   "metadata": {},
   "source": [
    "We also know how to fit the models with sklearn using the ARRAY interface."
   ]
  },
  {
   "cell_type": "code",
   "execution_count": 19,
   "id": "579ca444-a7fb-4751-8c80-bc2e4ca4e4bb",
   "metadata": {},
   "outputs": [],
   "source": [
    "from sklearn.linear_model import LogisticRegression"
   ]
  },
  {
   "cell_type": "code",
   "execution_count": 20,
   "id": "f93a39e5-67ea-40eb-92a1-44df4b535327",
   "metadata": {},
   "outputs": [],
   "source": [
    "from patsy import dmatrices, dmatrix"
   ]
  },
  {
   "cell_type": "markdown",
   "id": "3020e03d-49ac-45be-a8c8-eda5bf247de3",
   "metadata": {},
   "source": [
    "We know about the \"HACK\" for force sklearn to behave like statsmodels. We use the SAME formula as statsmodels to create the FEATURE ARRAY but we must CHANGE the default and typical arguments for sklearn."
   ]
  },
  {
   "cell_type": "markdown",
   "id": "dd6b1c42-6d19-45a9-9424-3d64ee90072e",
   "metadata": {},
   "source": [
    "Lets begin with the INTERCEPT ONLY or the SIMPLEST possible model."
   ]
  },
  {
   "cell_type": "code",
   "execution_count": 21,
   "id": "9cc7fb7b-e011-4312-baee-9a7b30dcbafe",
   "metadata": {},
   "outputs": [],
   "source": [
    "y_0, x_0 = dmatrices(formula_list[0], data=df)"
   ]
  },
  {
   "cell_type": "code",
   "execution_count": 23,
   "id": "8446b049-df98-443f-94ce-25be7327d3fc",
   "metadata": {},
   "outputs": [
    {
     "data": {
      "text/plain": [
       "(300, 1)"
      ]
     },
     "execution_count": 23,
     "metadata": {},
     "output_type": "execute_result"
    }
   ],
   "source": [
    "x_0.shape"
   ]
  },
  {
   "cell_type": "code",
   "execution_count": 24,
   "id": "8570bfa0-f962-420b-996b-8911fdd08620",
   "metadata": {},
   "outputs": [
    {
     "data": {
      "text/plain": [
       "(300, 1)"
      ]
     },
     "execution_count": 24,
     "metadata": {},
     "output_type": "execute_result"
    }
   ],
   "source": [
    "y_0.shape"
   ]
  },
  {
   "cell_type": "code",
   "execution_count": 27,
   "id": "f4082daf-ec0f-4d0d-b864-3461bfafc928",
   "metadata": {},
   "outputs": [
    {
     "data": {
      "text/plain": [
       "array([[1.],\n",
       "       [1.],\n",
       "       [1.],\n",
       "       [1.],\n",
       "       [1.]])"
      ]
     },
     "execution_count": 27,
     "metadata": {},
     "output_type": "execute_result"
    }
   ],
   "source": [
    "x_0[:5]"
   ]
  },
  {
   "cell_type": "code",
   "execution_count": 28,
   "id": "54f84602-c6dc-4417-bda4-a2a0dd1cb0af",
   "metadata": {},
   "outputs": [],
   "source": [
    "fit_sk_0 = LogisticRegression(penalty=None, solver=\"lbfgs\", max_iter=25001, fit_intercept=False).fit(x_0, y_0.ravel())"
   ]
  },
  {
   "cell_type": "code",
   "execution_count": 31,
   "id": "b58a2d11-317d-4bcc-831f-6f088da343e7",
   "metadata": {},
   "outputs": [
    {
     "data": {
      "text/plain": [
       "array([[-0.66329422]])"
      ]
     },
     "execution_count": 31,
     "metadata": {},
     "output_type": "execute_result"
    }
   ],
   "source": [
    "fit_sk_0.coef_"
   ]
  },
  {
   "cell_type": "code",
   "execution_count": 32,
   "id": "8c8a968c-04f6-4a7d-8ea9-11d02ed4bdc1",
   "metadata": {},
   "outputs": [
    {
     "data": {
      "text/plain": [
       "0.66"
      ]
     },
     "execution_count": 32,
     "metadata": {},
     "output_type": "execute_result"
    }
   ],
   "source": [
    "fit_sk_0.score(x_0, y_0.ravel())"
   ]
  },
  {
   "cell_type": "code",
   "execution_count": 33,
   "id": "4791693b-9dd9-4c33-8f6d-b8b8a30e0aa8",
   "metadata": {},
   "outputs": [
    {
     "data": {
      "text/plain": [
       "y\n",
       "0    0.66\n",
       "1    0.34\n",
       "Name: proportion, dtype: float64"
      ]
     },
     "execution_count": 33,
     "metadata": {},
     "output_type": "execute_result"
    }
   ],
   "source": [
    "df.y.value_counts(normalize=True)"
   ]
  },
  {
   "cell_type": "markdown",
   "id": "e558b016-a918-40d1-939a-5fb8c5c43a45",
   "metadata": {},
   "source": [
    "But the MOST COMPLEX model that we FIT did very well on the TRAINING SET!!! It appeared to be the BEST according to the TRAINING SET!!"
   ]
  },
  {
   "cell_type": "code",
   "execution_count": 34,
   "id": "9edb7319-b9b5-4640-8f1a-2b1235f9df35",
   "metadata": {},
   "outputs": [],
   "source": [
    "y_sk, x_sk = dmatrices(formula_list[-1], data=df)"
   ]
  },
  {
   "cell_type": "code",
   "execution_count": 35,
   "id": "a624dd64-5f24-468a-9eb6-467e7ce1a809",
   "metadata": {},
   "outputs": [
    {
     "data": {
      "text/plain": [
       "(300, 81)"
      ]
     },
     "execution_count": 35,
     "metadata": {},
     "output_type": "execute_result"
    }
   ],
   "source": [
    "x_sk.shape"
   ]
  },
  {
   "cell_type": "code",
   "execution_count": 36,
   "id": "7fbc562f-05f5-47f4-baeb-0c4e368362d0",
   "metadata": {},
   "outputs": [
    {
     "data": {
      "text/plain": [
       "(300, 1)"
      ]
     },
     "execution_count": 36,
     "metadata": {},
     "output_type": "execute_result"
    }
   ],
   "source": [
    "y_sk.shape"
   ]
  },
  {
   "cell_type": "code",
   "execution_count": 39,
   "id": "30c5dfc5-49a9-477b-8e25-8f856296fc8c",
   "metadata": {},
   "outputs": [
    {
     "data": {
      "text/plain": [
       "array([[1.],\n",
       "       [0.],\n",
       "       [0.],\n",
       "       [1.],\n",
       "       [0.]])"
      ]
     },
     "execution_count": 39,
     "metadata": {},
     "output_type": "execute_result"
    }
   ],
   "source": [
    "y_sk[:5]"
   ]
  },
  {
   "cell_type": "code",
   "execution_count": 41,
   "id": "33d7b500-00a3-46ca-8c03-72f0c5c95e30",
   "metadata": {},
   "outputs": [],
   "source": [
    "fit_sk_none = LogisticRegression(penalty=None, solver=\"lbfgs\", max_iter=25001, fit_intercept=False).fit(x_sk, y_sk.ravel())"
   ]
  },
  {
   "cell_type": "code",
   "execution_count": 43,
   "id": "545f13d6-bc8e-4bd4-8349-402226312854",
   "metadata": {},
   "outputs": [
    {
     "data": {
      "text/plain": [
       "array([[ 1.32903776e+00, -1.56139051e+00, -3.27902978e-02,\n",
       "        -9.88950601e-01,  1.19989015e+00,  4.65651434e+00,\n",
       "         1.91247533e+00, -2.82302232e+00, -2.72736626e-03,\n",
       "         2.47897384e+00, -9.65756754e-01, -3.69845021e+00,\n",
       "        -2.01122762e+00,  2.05793123e+00, -1.42447577e+00,\n",
       "        -1.96675913e+00,  3.24913479e+00, -2.70460476e+00,\n",
       "        -5.84326984e-01,  5.71266467e-02,  2.25025678e+00,\n",
       "         8.95428711e-01, -1.68319489e+00,  1.52640051e+00,\n",
       "        -1.14058265e+00,  2.31507854e+00,  3.78737356e+00,\n",
       "        -5.03358049e-01,  4.64973628e-01,  1.41966754e+00,\n",
       "         1.31450464e+00, -1.20298447e+00,  1.06428509e+00,\n",
       "        -3.48554814e-01,  2.90291125e-01, -5.67919062e+00,\n",
       "         7.45937589e-01, -9.83142045e-01, -5.31674325e+00,\n",
       "         5.12225332e-01, -2.37217292e-01, -1.06630195e+00,\n",
       "        -8.83520143e-01,  9.59606983e-01, -1.39739532e+00,\n",
       "         7.72561228e-01,  3.36893985e-01, -6.09854713e+00,\n",
       "        -3.90434440e-01, -1.41990750e+00,  1.74538886e+00,\n",
       "        -2.08522325e+00, -7.28171259e-02, -8.54433014e-01,\n",
       "        -1.19203294e+00,  1.96157028e+00,  7.76650349e+00,\n",
       "         1.53927322e+00, -6.87848866e-01, -1.97657129e+00,\n",
       "        -4.91438780e+00,  3.97672416e+00,  3.23162514e+00,\n",
       "        -6.05296423e-01,  6.30231237e-01,  9.93025824e-01,\n",
       "         4.18508939e-01, -4.40476475e-01,  1.67457439e+00,\n",
       "        -1.15776264e+00,  2.17805292e-01,  1.54590959e+00,\n",
       "        -1.85989270e+00,  1.72120422e+00,  3.65203740e-01,\n",
       "         2.63344716e-01,  4.16293439e-01,  2.24490844e-01,\n",
       "         2.84389436e-01, -3.94640012e-01, -1.34826592e+00]])"
      ]
     },
     "execution_count": 43,
     "metadata": {},
     "output_type": "execute_result"
    }
   ],
   "source": [
    "fit_sk_none.coef_"
   ]
  },
  {
   "cell_type": "code",
   "execution_count": 44,
   "id": "1e2f5ffb-2cdf-45ab-9836-d18973b13f53",
   "metadata": {},
   "outputs": [
    {
     "data": {
      "text/plain": [
       "0.8133333333333334"
      ]
     },
     "execution_count": 44,
     "metadata": {},
     "output_type": "execute_result"
    }
   ],
   "source": [
    "fit_sk_none.score(x_sk, y_sk.ravel())"
   ]
  },
  {
   "cell_type": "markdown",
   "id": "9a645449-4696-407c-b0b6-933ba9bf3b15",
   "metadata": {},
   "source": [
    "The MOST complex model APPEARED to be the BEST on the TRAINING set but... CV revealed that shi model was ON AVERAGE **WORSE** than the INTERCEPT-ONLY or SIMPLEST possible model on **NEW** data!!!\n",
    "\n",
    "## Why did we need the \"HACK\"?\n",
    "Or what does the penalty argument mean??\n",
    "\n",
    "Our most COMPLEX model **CONTAINS** the FEATURES from the other simpler models! THe mode complex model is a SUPER SET containing all features from all other models.\n",
    "\n",
    "But our MOST COMPLEX model has SO MANY FEATURES that it **OVERFITS** the training data! It memorizes the \"past\" and does VERY POORLY on the \"future\".\n",
    "\n",
    "However, what if we could REMOVE or TURN OFF features from this most complex mode? What if we could identify the FEATURES that do **NOT** matter and REMOVE THEM by setting their coefficients (slopes) = 0.\n",
    "\n",
    "This idea of using a method to FORCE coefficients to ZERO if the features does NOT matter is known as **REGULARIZATION** OR **PENALIZATION**.\n",
    "\n",
    "How does this work? We fit models by MINIMIZING  A LOSS. The LOSS depends on the COEFFICIENTS.\n",
    "\n",
    "FIND the COEFFICIENTS that MINIMIZE the LOSS.\n",
    "\n",
    "BUT REGULARIZATION **modifies** this approach. Instead of ONLY minimizing the LOSS, REGULARIZATION **adds** a PENALTY!\n",
    "\n",
    "FIND the COEFFICIENTS that MINIMIZE the **sum** of the LOSS and the PENALTY.\n",
    "\n",
    "If large or extreme coefficients cause the LOSS to become SMALL **but** also cause the PENALTY to become LARGE, then those coefficients values will **NOT** be identified."
   ]
  },
  {
   "cell_type": "code",
   "execution_count": null,
   "id": "5911524c-fc38-4674-affa-6d66ae355f2c",
   "metadata": {},
   "outputs": [],
   "source": []
  },
  {
   "cell_type": "code",
   "execution_count": null,
   "id": "f7f152c1-ec30-468b-8f6b-e75f01ae7627",
   "metadata": {},
   "outputs": [],
   "source": []
  },
  {
   "cell_type": "code",
   "execution_count": null,
   "id": "8b83f65d-8fd2-46f9-afb8-eabae1de926a",
   "metadata": {},
   "outputs": [],
   "source": []
  },
  {
   "cell_type": "code",
   "execution_count": null,
   "id": "ef1de3c2-1ae6-47eb-a594-e065a2cf5a35",
   "metadata": {},
   "outputs": [],
   "source": []
  },
  {
   "cell_type": "code",
   "execution_count": null,
   "id": "8fb131a1-78de-4d01-9369-59ba1c0ec477",
   "metadata": {},
   "outputs": [],
   "source": []
  }
 ],
 "metadata": {
  "kernelspec": {
   "display_name": "Python 3 (ipykernel)",
   "language": "python",
   "name": "python3"
  },
  "language_info": {
   "codemirror_mode": {
    "name": "ipython",
    "version": 3
   },
   "file_extension": ".py",
   "mimetype": "text/x-python",
   "name": "python",
   "nbconvert_exporter": "python",
   "pygments_lexer": "ipython3",
   "version": "3.8.19"
  }
 },
 "nbformat": 4,
 "nbformat_minor": 5
}
