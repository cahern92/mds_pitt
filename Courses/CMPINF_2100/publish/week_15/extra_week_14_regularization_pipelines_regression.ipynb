{
 "cells": [
  {
   "cell_type": "markdown",
   "id": "f813f6cf",
   "metadata": {},
   "source": [
    "## CMPINF 2100 Week 14\n",
    "\n",
    "### Extra: Regularization for Regression problems using Pipeline\n",
    "\n",
    "The lecture example focused on Classification but Regularization is also important for regression problems! This notebook shows the functions specific for Lasso, Ridge, and Elastic net for regression.\n",
    "\n",
    "## Import Modules"
   ]
  },
  {
   "cell_type": "code",
   "execution_count": 1,
   "id": "1d3e64a8",
   "metadata": {},
   "outputs": [],
   "source": [
    "import numpy as np\n",
    "import pandas as pd\n",
    "import matplotlib.pyplot as plt\n",
    "\n",
    "import seaborn as sns"
   ]
  },
  {
   "cell_type": "markdown",
   "id": "ed4f0b21",
   "metadata": {},
   "source": [
    "## Read data\n",
    "\n",
    "Let's use the Week 11 linear additive inputs example."
   ]
  },
  {
   "cell_type": "code",
   "execution_count": 2,
   "id": "825bcb50",
   "metadata": {},
   "outputs": [],
   "source": [
    "df11 = pd.read_csv('../week_11/linear_additive_example.csv')"
   ]
  },
  {
   "cell_type": "code",
   "execution_count": 3,
   "id": "14ce959c",
   "metadata": {},
   "outputs": [
    {
     "name": "stdout",
     "output_type": "stream",
     "text": [
      "<class 'pandas.core.frame.DataFrame'>\n",
      "RangeIndex: 35 entries, 0 to 34\n",
      "Data columns (total 4 columns):\n",
      " #   Column  Non-Null Count  Dtype  \n",
      "---  ------  --------------  -----  \n",
      " 0   x1      35 non-null     float64\n",
      " 1   x2      35 non-null     float64\n",
      " 2   trend   35 non-null     float64\n",
      " 3   y       35 non-null     float64\n",
      "dtypes: float64(4)\n",
      "memory usage: 1.2 KB\n"
     ]
    }
   ],
   "source": [
    "df11.info()"
   ]
  },
  {
   "cell_type": "markdown",
   "id": "2a4799ae",
   "metadata": {},
   "source": [
    "Drop the `trend` column so the data only consists of output and inputs."
   ]
  },
  {
   "cell_type": "code",
   "execution_count": 4,
   "id": "650ceda3",
   "metadata": {},
   "outputs": [],
   "source": [
    "df = df11.drop(columns={'trend'}).copy()"
   ]
  },
  {
   "cell_type": "code",
   "execution_count": 5,
   "id": "63eb69d6",
   "metadata": {},
   "outputs": [
    {
     "name": "stdout",
     "output_type": "stream",
     "text": [
      "<class 'pandas.core.frame.DataFrame'>\n",
      "RangeIndex: 35 entries, 0 to 34\n",
      "Data columns (total 3 columns):\n",
      " #   Column  Non-Null Count  Dtype  \n",
      "---  ------  --------------  -----  \n",
      " 0   x1      35 non-null     float64\n",
      " 1   x2      35 non-null     float64\n",
      " 2   y       35 non-null     float64\n",
      "dtypes: float64(3)\n",
      "memory usage: 968.0 bytes\n"
     ]
    }
   ],
   "source": [
    "df.info()"
   ]
  },
  {
   "cell_type": "markdown",
   "id": "b182ba60",
   "metadata": {},
   "source": [
    "## Model training\n",
    "\n",
    "We will use scikit-learn to fit the linear model for regression. Start with the \"regular\" un-regularized linear model."
   ]
  },
  {
   "cell_type": "code",
   "execution_count": 6,
   "id": "d5e1eaff",
   "metadata": {},
   "outputs": [],
   "source": [
    "from sklearn.linear_model import LinearRegression"
   ]
  },
  {
   "cell_type": "code",
   "execution_count": 7,
   "id": "c6331a90",
   "metadata": {},
   "outputs": [],
   "source": [
    "from patsy import dmatrices"
   ]
  },
  {
   "cell_type": "markdown",
   "id": "2a5c5f84",
   "metadata": {},
   "source": [
    "We will use cross-validation to assess the performance."
   ]
  },
  {
   "cell_type": "code",
   "execution_count": 8,
   "id": "cc891fe1",
   "metadata": {},
   "outputs": [],
   "source": [
    "from sklearn.model_selection import KFold"
   ]
  },
  {
   "cell_type": "markdown",
   "id": "1f9679c2",
   "metadata": {},
   "source": [
    "Use 5-fold CV for this example."
   ]
  },
  {
   "cell_type": "code",
   "execution_count": 9,
   "id": "66d3fbd8",
   "metadata": {},
   "outputs": [],
   "source": [
    "kf = KFold(n_splits=5, shuffle=True, random_state=51231)"
   ]
  },
  {
   "cell_type": "code",
   "execution_count": 10,
   "id": "0d69fa60",
   "metadata": {},
   "outputs": [
    {
     "data": {
      "text/plain": [
       "5"
      ]
     },
     "execution_count": 10,
     "metadata": {},
     "output_type": "execute_result"
    }
   ],
   "source": [
    "kf.get_n_splits()"
   ]
  },
  {
   "cell_type": "markdown",
   "id": "e26dab47",
   "metadata": {},
   "source": [
    "Use `cross_val_score()` to manage the cross-validation."
   ]
  },
  {
   "cell_type": "code",
   "execution_count": 11,
   "id": "2dd1d78f",
   "metadata": {},
   "outputs": [],
   "source": [
    "from sklearn.model_selection import cross_val_score"
   ]
  },
  {
   "cell_type": "markdown",
   "id": "748d31a4",
   "metadata": {},
   "source": [
    "### Design matrix or Feature array\n",
    "\n",
    "Let's use `dmatrices()` to create the feature array associated with the complex model we trained back in Week 11. This model derives non-linear features from both continuous inputs and interacts all continuous input features."
   ]
  },
  {
   "cell_type": "code",
   "execution_count": 12,
   "id": "450c99c8",
   "metadata": {},
   "outputs": [],
   "source": [
    "y_sk, X_sk = dmatrices('y ~ ( x1 + np.power(x1, 2) ) * ( x2 + np.power(x2, 2) )', data = df)"
   ]
  },
  {
   "cell_type": "markdown",
   "id": "b621e676",
   "metadata": {},
   "source": [
    "We will use the \"hack\" which instructs scikit-learn to fit the intercept with the rest of the coefficients. The model is FIT on the entire data set below."
   ]
  },
  {
   "cell_type": "code",
   "execution_count": 13,
   "id": "79be1106",
   "metadata": {},
   "outputs": [],
   "source": [
    "fit_sk = LinearRegression(fit_intercept=False).fit( X_sk, y_sk.ravel() )"
   ]
  },
  {
   "cell_type": "code",
   "execution_count": 14,
   "id": "113357cb",
   "metadata": {},
   "outputs": [
    {
     "data": {
      "text/plain": [
       "array([ 0.04839036,  1.35594571, -0.28799167, -0.03034037, -0.06138831,\n",
       "       -0.22969466,  0.64188664, -0.2293035 ,  0.45887393])"
      ]
     },
     "execution_count": 14,
     "metadata": {},
     "output_type": "execute_result"
    }
   ],
   "source": [
    "fit_sk.coef_"
   ]
  },
  {
   "cell_type": "markdown",
   "id": "fd5130a8",
   "metadata": {},
   "source": [
    "We would get the SAME coefficients if we fit the model in statsmodels!"
   ]
  },
  {
   "cell_type": "code",
   "execution_count": 15,
   "id": "bd7b1f67",
   "metadata": {},
   "outputs": [],
   "source": [
    "import statsmodels.formula.api as smf"
   ]
  },
  {
   "cell_type": "code",
   "execution_count": 16,
   "id": "08b1bd80",
   "metadata": {},
   "outputs": [],
   "source": [
    "fit_stats = smf.ols(formula='y ~ ( x1 + np.power(x1, 2) ) * ( x2 + np.power(x2, 2) )', data = df).fit()"
   ]
  },
  {
   "cell_type": "code",
   "execution_count": 17,
   "id": "354eb961",
   "metadata": {},
   "outputs": [
    {
     "data": {
      "text/plain": [
       "Intercept                          0.048390\n",
       "x1                                 1.355946\n",
       "np.power(x1, 2)                   -0.287992\n",
       "x2                                -0.030340\n",
       "np.power(x2, 2)                   -0.061388\n",
       "x1:x2                             -0.229695\n",
       "x1:np.power(x2, 2)                 0.641887\n",
       "np.power(x1, 2):x2                -0.229303\n",
       "np.power(x1, 2):np.power(x2, 2)    0.458874\n",
       "dtype: float64"
      ]
     },
     "execution_count": 17,
     "metadata": {},
     "output_type": "execute_result"
    }
   ],
   "source": [
    "fit_stats.params"
   ]
  },
  {
   "cell_type": "markdown",
   "id": "8e06a882",
   "metadata": {},
   "source": [
    "However, we do NOT know how well the model performs on NEW data! Let's use cross-validation to find out! Initialize the scikit-learn linear model object below."
   ]
  },
  {
   "cell_type": "code",
   "execution_count": 18,
   "id": "ed59133d",
   "metadata": {},
   "outputs": [],
   "source": [
    "sk_like_stats = LinearRegression(fit_intercept=False)"
   ]
  },
  {
   "cell_type": "markdown",
   "id": "7254e1ed",
   "metadata": {},
   "source": [
    "The `cross_val_score()` method is used to estimate the AVERAGE holdout set R-squared for this model."
   ]
  },
  {
   "cell_type": "code",
   "execution_count": 19,
   "id": "7213c399",
   "metadata": {},
   "outputs": [
    {
     "data": {
      "text/plain": [
       "0.6960632715755448"
      ]
     },
     "execution_count": 19,
     "metadata": {},
     "output_type": "execute_result"
    }
   ],
   "source": [
    "cross_val_score( sk_like_stats, X_sk, y_sk.ravel(), cv=kf).mean()"
   ]
  },
  {
   "cell_type": "markdown",
   "id": "df6c2ce9",
   "metadata": {},
   "source": [
    "Alternatively, we can calculate the average holdout set RMSE."
   ]
  },
  {
   "cell_type": "code",
   "execution_count": 20,
   "id": "59683878",
   "metadata": {},
   "outputs": [
    {
     "data": {
      "text/plain": [
       "0.7877461348100824"
      ]
     },
     "execution_count": 20,
     "metadata": {},
     "output_type": "execute_result"
    }
   ],
   "source": [
    "(-cross_val_score( sk_like_stats, X_sk, y_sk.ravel(), cv=kf, scoring='neg_root_mean_squared_error' )).mean()"
   ]
  },
  {
   "cell_type": "markdown",
   "id": "5b3ceb08",
   "metadata": {},
   "source": [
    "## Regularization\n",
    "\n",
    "Without executing cross-validation on OTHER models, we do NOT have context around if this is the BEST we can do! We do NOT know if we need ALL features in this model from cross-validation alone! That's where REGULARIZATION or PENALIZATION helps!\n",
    "\n",
    "We will use RIDGE, LASSO, and Elastic Net just as we used for the classification. There are two main differences for using these approaches for regression compared to classification in scikit-learn. First, the three methods are dictated by the `penalty` argument in `LogisticRegression()` for classification. That is **NOT** how the penalties are applied for regression! The `LinearRegression()` function does NOT penalize! Instead there are dedicated functions. The second major difference is the primary parameter is NOT named `C`. The primary tuning parameter that controls the regularization is named `alpha`. The `alpha` parameter is analogous to the `C` parameter but it is specified slightly differently. It is unfortunate that scikit-learn does this.\n",
    "\n",
    "### Ridge\n",
    "\n",
    "The `Ridge()` function is imported below."
   ]
  },
  {
   "cell_type": "code",
   "execution_count": 21,
   "id": "c4227dec",
   "metadata": {},
   "outputs": [],
   "source": [
    "from sklearn.linear_model import Ridge"
   ]
  },
  {
   "cell_type": "markdown",
   "id": "0b5c99e0",
   "metadata": {},
   "source": [
    "The `alpha` parameter is analogous to the `C` parameter, but it is essentially the INVERSE of `C`. Meaning, large values of `alpha` cause the coefficients to become SMALL while small values of `alpha` allow the coefficients to be LARGE. Small values of `alpha` are analogous to estimating the coefficients to MINIMIZE the LOSS only and thus will be close to the `smf.ols()` estimates. \n",
    "\n",
    "Let's confirm the behavior of the `alpha` parameter by fitting Ridge penalized linear model with 3 different `alpha` values. Let's begin with the DEFAULT behavior which corresponds to an `alpha` of 1. The \"hack\" is used and so the `fit_intercept` argument must be set to `False`."
   ]
  },
  {
   "cell_type": "code",
   "execution_count": 22,
   "id": "ada16bd4",
   "metadata": {},
   "outputs": [],
   "source": [
    "ridge_default_alpha = Ridge(alpha=1, fit_intercept=False).fit( X_sk, y_sk.ravel() )"
   ]
  },
  {
   "cell_type": "code",
   "execution_count": 23,
   "id": "3dbce8a3",
   "metadata": {},
   "outputs": [
    {
     "data": {
      "text/plain": [
       "array([ 0.02266076,  1.32276162, -0.23672364, -0.02123872, -0.06067722,\n",
       "       -0.17060704,  0.595354  , -0.19361659,  0.41174542])"
      ]
     },
     "execution_count": 23,
     "metadata": {},
     "output_type": "execute_result"
    }
   ],
   "source": [
    "ridge_default_alpha.coef_"
   ]
  },
  {
   "cell_type": "markdown",
   "id": "19f280f6",
   "metadata": {},
   "source": [
    "The default score is R-squared. The R-squared for the default `alpha` is below."
   ]
  },
  {
   "cell_type": "code",
   "execution_count": 24,
   "id": "d01b2453",
   "metadata": {},
   "outputs": [
    {
     "data": {
      "text/plain": [
       "0.9198846692216772"
      ]
     },
     "execution_count": 24,
     "metadata": {},
     "output_type": "execute_result"
    }
   ],
   "source": [
    "ridge_default_alpha.score( X_sk, y_sk.ravel() )"
   ]
  },
  {
   "cell_type": "markdown",
   "id": "b493d560",
   "metadata": {},
   "source": [
    "Next, let's use a very small value for `alpha`."
   ]
  },
  {
   "cell_type": "code",
   "execution_count": 25,
   "id": "5ef752ee",
   "metadata": {},
   "outputs": [],
   "source": [
    "ridge_small_alpha = Ridge(alpha=0.0001, fit_intercept=False).fit( X_sk, y_sk.ravel() )"
   ]
  },
  {
   "cell_type": "code",
   "execution_count": 26,
   "id": "25f8da2c",
   "metadata": {},
   "outputs": [
    {
     "data": {
      "text/plain": [
       "array([ 0.048387  ,  1.35594309, -0.2879853 , -0.03033912, -0.06138819,\n",
       "       -0.22968724,  0.6418803 , -0.22929903,  0.45886792])"
      ]
     },
     "execution_count": 26,
     "metadata": {},
     "output_type": "execute_result"
    }
   ],
   "source": [
    "ridge_small_alpha.coef_"
   ]
  },
  {
   "cell_type": "markdown",
   "id": "b5b129b2",
   "metadata": {},
   "source": [
    "These coefficients are VERY close to the `smf.ols()` estimates from before! Thus, small `alpha` values produce estimates similar to estimating the coefficients by MINIMIZING the LOSS (or without a penalty)!"
   ]
  },
  {
   "cell_type": "code",
   "execution_count": 27,
   "id": "56cfb025",
   "metadata": {},
   "outputs": [
    {
     "data": {
      "text/plain": [
       "Intercept                          0.048390\n",
       "x1                                 1.355946\n",
       "np.power(x1, 2)                   -0.287992\n",
       "x2                                -0.030340\n",
       "np.power(x2, 2)                   -0.061388\n",
       "x1:x2                             -0.229695\n",
       "x1:np.power(x2, 2)                 0.641887\n",
       "np.power(x1, 2):x2                -0.229303\n",
       "np.power(x1, 2):np.power(x2, 2)    0.458874\n",
       "dtype: float64"
      ]
     },
     "execution_count": 27,
     "metadata": {},
     "output_type": "execute_result"
    }
   ],
   "source": [
    "fit_stats.params"
   ]
  },
  {
   "cell_type": "markdown",
   "id": "44baf9a4",
   "metadata": {},
   "source": [
    "The R-squared associated with the very small `alpha` is provided below."
   ]
  },
  {
   "cell_type": "code",
   "execution_count": 28,
   "id": "0560b871",
   "metadata": {},
   "outputs": [
    {
     "data": {
      "text/plain": [
       "0.9208033503973827"
      ]
     },
     "execution_count": 28,
     "metadata": {},
     "output_type": "execute_result"
    }
   ],
   "source": [
    "ridge_small_alpha.score( X_sk, y_sk.ravel() )"
   ]
  },
  {
   "cell_type": "markdown",
   "id": "c34e70f0",
   "metadata": {},
   "source": [
    "This R-squared is the same (within rounding error) as the R-squared for statsmodels because very small `alpha` behaves like estimating the coefficients to MINIMIZE the LOSS!"
   ]
  },
  {
   "cell_type": "code",
   "execution_count": 29,
   "id": "12408839",
   "metadata": {},
   "outputs": [
    {
     "data": {
      "text/plain": [
       "0.9208033504088864"
      ]
     },
     "execution_count": 29,
     "metadata": {},
     "output_type": "execute_result"
    }
   ],
   "source": [
    "fit_stats.rsquared"
   ]
  },
  {
   "cell_type": "markdown",
   "id": "753ae49d",
   "metadata": {},
   "source": [
    "Lastly, let's estimate the coefficients with a very LARGE `alpha`."
   ]
  },
  {
   "cell_type": "code",
   "execution_count": 30,
   "id": "cd8852a7",
   "metadata": {},
   "outputs": [],
   "source": [
    "ridge_large_alpha = Ridge(alpha=10000, fit_intercept=False).fit( X_sk, y_sk.ravel() )"
   ]
  },
  {
   "cell_type": "code",
   "execution_count": 31,
   "id": "ee4f468a",
   "metadata": {},
   "outputs": [
    {
     "data": {
      "text/plain": [
       "array([-0.00028153,  0.00606667,  0.00062285, -0.00047348, -0.00298792,\n",
       "        0.00388454,  0.00897516, -0.0006166 , -0.00270906])"
      ]
     },
     "execution_count": 31,
     "metadata": {},
     "output_type": "execute_result"
    }
   ],
   "source": [
    "ridge_large_alpha.coef_"
   ]
  },
  {
   "cell_type": "markdown",
   "id": "8864e859",
   "metadata": {},
   "source": [
    "These coefficients are SMALL! They are close to ZERO in magnitude!\n",
    "\n",
    "The `Ridge()` function therefore behaves just analogously to `LogisticRegression()` with `penalty='l2'`! The impact of `alpha` is the INVERSE of `C` but the ideas are the same!\n",
    "\n",
    "Since the coefficients have been pushes nearly to zero, the model has NO trends with respect to the inputs. The R-squared is therefore very close to zero!"
   ]
  },
  {
   "cell_type": "code",
   "execution_count": 32,
   "id": "bdfbb6bb",
   "metadata": {},
   "outputs": [
    {
     "data": {
      "text/plain": [
       "0.020866757530101587"
      ]
     },
     "execution_count": 32,
     "metadata": {},
     "output_type": "execute_result"
    }
   ],
   "source": [
    "ridge_large_alpha.score( X_sk, y_sk.ravel() )"
   ]
  },
  {
   "cell_type": "markdown",
   "id": "59eabe67",
   "metadata": {},
   "source": [
    "Which value of `alpha` should we use? We don't know! We must **TUNE** `alpha` via cross-validation! There is a built-in CV method for tuning `alpha` for Ridge named `RidgeCV()`."
   ]
  },
  {
   "cell_type": "code",
   "execution_count": 33,
   "id": "65741f96",
   "metadata": {},
   "outputs": [],
   "source": [
    "from sklearn.linear_model import RidgeCV"
   ]
  },
  {
   "cell_type": "markdown",
   "id": "1aa9a4bb",
   "metadata": {},
   "source": [
    "The arguments to `RidgeCV()` are similar to `LogisticRegressionCV()`. However, the `alpha` values can be specified as the NUMBER of `alpha` via the `n_alpha` argument **or** by providing an array of values via the `alphas` argument. Let's specify an array to serve as a grid of values. The cell below uses `np.linspace()` to define an array with 101 evenly spaced values between -5 and 5 and then applies the `np.exp()` function. "
   ]
  },
  {
   "cell_type": "code",
   "execution_count": 34,
   "id": "2aed498d",
   "metadata": {},
   "outputs": [],
   "source": [
    "alpha_grid = np.exp( np.linspace(-5, 5, num=101) )"
   ]
  },
  {
   "cell_type": "code",
   "execution_count": 35,
   "id": "053b4ffb",
   "metadata": {},
   "outputs": [
    {
     "data": {
      "text/plain": [
       "(101,)"
      ]
     },
     "execution_count": 35,
     "metadata": {},
     "output_type": "execute_result"
    }
   ],
   "source": [
    "alpha_grid.shape"
   ]
  },
  {
   "cell_type": "markdown",
   "id": "836f1117",
   "metadata": {},
   "source": [
    "The 5-fold cross-validation scheme is applied to tune the `alpha` parameter."
   ]
  },
  {
   "cell_type": "code",
   "execution_count": 36,
   "id": "6ea4f0b5",
   "metadata": {},
   "outputs": [],
   "source": [
    "ridge_cv = RidgeCV( alphas=alpha_grid, fit_intercept=False, cv=kf).fit( X_sk, y_sk.ravel() )"
   ]
  },
  {
   "cell_type": "markdown",
   "id": "26a93899",
   "metadata": {},
   "source": [
    "The optimal `alpha` value is extracted via the `.alpha_` attribute."
   ]
  },
  {
   "cell_type": "code",
   "execution_count": 37,
   "id": "917605fa",
   "metadata": {},
   "outputs": [
    {
     "data": {
      "text/plain": [
       "0.36787944117144233"
      ]
     },
     "execution_count": 37,
     "metadata": {},
     "output_type": "execute_result"
    }
   ],
   "source": [
    "ridge_cv.alpha_"
   ]
  },
  {
   "cell_type": "markdown",
   "id": "2789f3ab",
   "metadata": {},
   "source": [
    "The default score (performance metric) is R-squared. The best cross-validation AVERAGE R-squared is provided below."
   ]
  },
  {
   "cell_type": "code",
   "execution_count": 38,
   "id": "0ea3f623",
   "metadata": {},
   "outputs": [
    {
     "data": {
      "text/plain": [
       "0.6974526220549084"
      ]
     },
     "execution_count": 38,
     "metadata": {},
     "output_type": "execute_result"
    }
   ],
   "source": [
    "ridge_cv.best_score_"
   ]
  },
  {
   "cell_type": "markdown",
   "id": "e25b6dc4",
   "metadata": {},
   "source": [
    "The coefficients associated with the tuned `alpha` are shown below."
   ]
  },
  {
   "cell_type": "code",
   "execution_count": 39,
   "id": "7119b348",
   "metadata": {},
   "outputs": [
    {
     "data": {
      "text/plain": [
       "array([ 0.03726896,  1.34511943, -0.26654287, -0.02629925, -0.06101418,\n",
       "       -0.20479914,  0.62129262, -0.21431655,  0.43884724])"
      ]
     },
     "execution_count": 39,
     "metadata": {},
     "output_type": "execute_result"
    }
   ],
   "source": [
    "ridge_cv.coef_"
   ]
  },
  {
   "cell_type": "markdown",
   "id": "e60894a8",
   "metadata": {},
   "source": [
    "### Lasso\n",
    "\n",
    "Lasso penalized linear models also have their own dedicated function, `Lasso()`. This function is imported below."
   ]
  },
  {
   "cell_type": "code",
   "execution_count": 40,
   "id": "2825c5df",
   "metadata": {},
   "outputs": [],
   "source": [
    "from sklearn.linear_model import Lasso"
   ]
  },
  {
   "cell_type": "markdown",
   "id": "eedf353e",
   "metadata": {},
   "source": [
    "It has the SAME functionality as `Ridge()` except it also has a `max_iter` argument. I like to set `max_iter` when calling `Lasso()`. The default `alpha` value of 1 is used below."
   ]
  },
  {
   "cell_type": "code",
   "execution_count": 41,
   "id": "3d823b71",
   "metadata": {},
   "outputs": [],
   "source": [
    "lasso_default_alpha = Lasso(alpha=1, fit_intercept=False, max_iter=25001).fit( X_sk, y_sk.ravel() )"
   ]
  },
  {
   "cell_type": "markdown",
   "id": "1b857846",
   "metadata": {},
   "source": [
    "The LASSO penalty is capable of TURNING OFF features! Lasso does this by setting the coefficients to be IDENTICALLY zero! The default `alpha` value of 1 forced NEARLY all coefficients to be zero!"
   ]
  },
  {
   "cell_type": "code",
   "execution_count": 42,
   "id": "a27b2552",
   "metadata": {},
   "outputs": [
    {
     "data": {
      "text/plain": [
       "array([ 0.        ,  0.42483151,  0.        ,  0.        , -0.        ,\n",
       "        0.        ,  0.29405064,  0.        ,  0.        ])"
      ]
     },
     "execution_count": 42,
     "metadata": {},
     "output_type": "execute_result"
    }
   ],
   "source": [
    "lasso_default_alpha.coef_"
   ]
  },
  {
   "cell_type": "markdown",
   "id": "5cfbb72f",
   "metadata": {},
   "source": [
    "The R-squared associated with the default `alpha` Lasso model is below."
   ]
  },
  {
   "cell_type": "code",
   "execution_count": 43,
   "id": "ad9b116e",
   "metadata": {},
   "outputs": [
    {
     "data": {
      "text/plain": [
       "0.5925628984023841"
      ]
     },
     "execution_count": 43,
     "metadata": {},
     "output_type": "execute_result"
    }
   ],
   "source": [
    "lasso_default_alpha.score( X_sk, y_sk.ravel() )"
   ]
  },
  {
   "cell_type": "markdown",
   "id": "8bc21ede",
   "metadata": {},
   "source": [
    "LASSO with a very small `alpha` does NOT force the coefficients to zero. Very small `alpha` is analogous to estimating the coefficients by MINIMIZING the loss."
   ]
  },
  {
   "cell_type": "code",
   "execution_count": 44,
   "id": "0530f666",
   "metadata": {},
   "outputs": [],
   "source": [
    "lasso_small_alpha = Lasso(alpha=0.0001, fit_intercept=False, max_iter=25001).fit( X_sk, y_sk.ravel() )"
   ]
  },
  {
   "cell_type": "code",
   "execution_count": 45,
   "id": "6d36c2a8",
   "metadata": {},
   "outputs": [
    {
     "data": {
      "text/plain": [
       "array([ 0.04744565,  1.35642085, -0.28692721, -0.02977612, -0.06094947,\n",
       "       -0.22861685,  0.64074232, -0.22880418,  0.45777293])"
      ]
     },
     "execution_count": 45,
     "metadata": {},
     "output_type": "execute_result"
    }
   ],
   "source": [
    "lasso_small_alpha.coef_"
   ]
  },
  {
   "cell_type": "markdown",
   "id": "90e907c7",
   "metadata": {},
   "source": [
    "The R-squared for the small very small is again very close to statsmodels since these coefficients estimates effectively minimize the loss."
   ]
  },
  {
   "cell_type": "code",
   "execution_count": 46,
   "id": "f36f7428",
   "metadata": {},
   "outputs": [
    {
     "data": {
      "text/plain": [
       "0.9208031783629681"
      ]
     },
     "execution_count": 46,
     "metadata": {},
     "output_type": "execute_result"
    }
   ],
   "source": [
    "lasso_small_alpha.score( X_sk, y_sk.ravel() )"
   ]
  },
  {
   "cell_type": "markdown",
   "id": "b4050f51",
   "metadata": {},
   "source": [
    "Lastly, the very LARGE `alpha` will force ALL coefficients to zero!"
   ]
  },
  {
   "cell_type": "code",
   "execution_count": 47,
   "id": "4b1a0910",
   "metadata": {},
   "outputs": [],
   "source": [
    "lasso_large_alpha = Lasso(alpha=10000, fit_intercept=False, max_iter=25001).fit( X_sk, y_sk.ravel() )"
   ]
  },
  {
   "cell_type": "code",
   "execution_count": 48,
   "id": "24b17bba",
   "metadata": {},
   "outputs": [
    {
     "data": {
      "text/plain": [
       "array([-0.,  0.,  0., -0., -0.,  0.,  0., -0., -0.])"
      ]
     },
     "execution_count": 48,
     "metadata": {},
     "output_type": "execute_result"
    }
   ],
   "source": [
    "lasso_large_alpha.coef_"
   ]
  },
  {
   "cell_type": "markdown",
   "id": "5807acd9",
   "metadata": {},
   "source": [
    "We must TUNE the `alpha` parameter for Lasso just as we did for Ridge. The built-in cross-validation method for Lasso is imported below."
   ]
  },
  {
   "cell_type": "code",
   "execution_count": 49,
   "id": "6e0d3d2b",
   "metadata": {},
   "outputs": [],
   "source": [
    "from sklearn.linear_model import LassoCV"
   ]
  },
  {
   "cell_type": "markdown",
   "id": "6e01f96d",
   "metadata": {},
   "source": [
    "The Lasso `alpha` is tuned via the same 5-fold cross-validation procedure we used previously. The same `alpha` grid values are provided as candidates for tuning."
   ]
  },
  {
   "cell_type": "code",
   "execution_count": 50,
   "id": "3d898d96",
   "metadata": {},
   "outputs": [],
   "source": [
    "lasso_cv = LassoCV( alphas=alpha_grid, fit_intercept=False, max_iter=25001, cv=kf).fit( X_sk, y_sk.ravel() )"
   ]
  },
  {
   "cell_type": "markdown",
   "id": "7efde8fb",
   "metadata": {},
   "source": [
    "The optimal `alpha` value is provided below by the `.alpha_` attribute."
   ]
  },
  {
   "cell_type": "code",
   "execution_count": 51,
   "id": "df1bdd1e",
   "metadata": {},
   "outputs": [
    {
     "data": {
      "text/plain": [
       "0.14956861922263506"
      ]
     },
     "execution_count": 51,
     "metadata": {},
     "output_type": "execute_result"
    }
   ],
   "source": [
    "lasso_cv.alpha_"
   ]
  },
  {
   "cell_type": "markdown",
   "id": "ff4d01ee",
   "metadata": {},
   "source": [
    "The coefficient estimates associated with the tuned `alpha` value are:"
   ]
  },
  {
   "cell_type": "code",
   "execution_count": 52,
   "id": "62f0128c",
   "metadata": {},
   "outputs": [
    {
     "data": {
      "text/plain": [
       "array([-0.        ,  1.3706402 , -0.        ,  0.        , -0.        ,\n",
       "        0.        ,  0.3004988 ,  0.        ,  0.09199079])"
      ]
     },
     "execution_count": 52,
     "metadata": {},
     "output_type": "execute_result"
    }
   ],
   "source": [
    "lasso_cv.coef_"
   ]
  },
  {
   "cell_type": "markdown",
   "id": "564af636",
   "metadata": {},
   "source": [
    "The `LassoCV()` method tunes `alpha` by MINIMIZING the MSE (mean squared error). Therefore, it does NOT use R-squared as the default scoring method. The MSE is calculated within each FOLD's hold-out TEST set. The `alpha` value that MINIMIZES the AVERAGE MSE across the folds is identified as the best value.\n",
    "\n",
    "The MSE is contained within the `.mse_path_` attribute as a NumPy array."
   ]
  },
  {
   "cell_type": "code",
   "execution_count": 53,
   "id": "e9d60bcb",
   "metadata": {},
   "outputs": [
    {
     "data": {
      "text/plain": [
       "(101, 5)"
      ]
     },
     "execution_count": 53,
     "metadata": {},
     "output_type": "execute_result"
    }
   ],
   "source": [
    "lasso_cv.mse_path_.shape"
   ]
  },
  {
   "cell_type": "markdown",
   "id": "85578453",
   "metadata": {},
   "source": [
    "We can visualize the MSE in each fold with respect to `alpha`. The figure does NOT look interesting because we can ONLY see the behavior associated with the very large values of `alpha` which cause the coefficient estimates to be zero!"
   ]
  },
  {
   "cell_type": "code",
   "execution_count": 54,
   "id": "4122e7cf",
   "metadata": {},
   "outputs": [
    {
     "data": {
      "image/png": "[encoded data removed]",
      "text/plain": [
       "<Figure size 640x480 with 1 Axes>"
      ]
     },
     "metadata": {},
     "output_type": "display_data"
    }
   ],
   "source": [
    "fig, ax = plt.subplots()\n",
    "\n",
    "ax.plot(lasso_cv.alphas_, lasso_cv.mse_path_, color='grey')\n",
    "ax.plot(lasso_cv.alphas_, lasso_cv.mse_path_.mean(axis=1), color='blue', linewidth=2)\n",
    "ax.axvline(x = lasso_cv.alpha_, color='red', linestyle='dashed')\n",
    "ax.set_xlabel('alpha')\n",
    "ax.set_ylabel('cross validation MSE')\n",
    "\n",
    "plt.show()"
   ]
  },
  {
   "cell_type": "markdown",
   "id": "94f4ae6f",
   "metadata": {},
   "source": [
    "We therefore need to STRETCH the small values of `alpha` and compress the large values of `alpha`. Let's plot the results with respect to the NATURAL LOG of `alpha`. We can now see the TUNED LOG-`alpha` value that MINIMIZES the AVERAGE MSE across the 5 folds!"
   ]
  },
  {
   "cell_type": "code",
   "execution_count": 55,
   "id": "b1538ff8",
   "metadata": {},
   "outputs": [
    {
     "data": {
      "image/png": "[encoded data removed]",
      "text/plain": [
       "<Figure size 640x480 with 1 Axes>"
      ]
     },
     "metadata": {},
     "output_type": "display_data"
    }
   ],
   "source": [
    "fig, ax = plt.subplots()\n",
    "\n",
    "ax.plot(np.log(lasso_cv.alphas_), lasso_cv.mse_path_, color='grey')\n",
    "ax.plot(np.log(lasso_cv.alphas_), lasso_cv.mse_path_.mean(axis=1), color='blue', linewidth=2)\n",
    "ax.axvline(x = np.log(lasso_cv.alpha_), color='red', linestyle='dashed')\n",
    "ax.set_xlabel('log(alpha)')\n",
    "ax.set_ylabel('cross validation MSE')\n",
    "\n",
    "plt.show()"
   ]
  },
  {
   "cell_type": "markdown",
   "id": "c56fc051",
   "metadata": {},
   "source": [
    "However, let's instead plot the MSE results with respect to the NEGATIVE LOG `alpha`. This effectively FLIPS the axis ordering putting SMALL `alpha` valuse on the RIGHT and LARGE `alpha` values on the LEFT. The figure below is now organized in a manner similar to how we visualized the REGULARIZATION results associated with the `C` parameter in logistic regression! High regularization and thus ZERO coefficients are on the LEFT side of the plot while the low regularization and thus potentially OVERFIT results are on the right side of the plot. The BEST result is somewhere in the middle!"
   ]
  },
  {
   "cell_type": "code",
   "execution_count": 56,
   "id": "4887c913",
   "metadata": {},
   "outputs": [
    {
     "data": {
      "image/png": "[encoded data removed]",
      "text/plain": [
       "<Figure size 640x480 with 1 Axes>"
      ]
     },
     "metadata": {},
     "output_type": "display_data"
    }
   ],
   "source": [
    "fig, ax = plt.subplots()\n",
    "\n",
    "ax.plot(-np.log(lasso_cv.alphas_), lasso_cv.mse_path_, color='grey')\n",
    "ax.plot(-np.log(lasso_cv.alphas_), lasso_cv.mse_path_.mean(axis=1), color='blue', linewidth=2)\n",
    "ax.axvline(x = -np.log(lasso_cv.alpha_), color='red', linestyle='dashed')\n",
    "ax.set_xlabel('-log(alpha)')\n",
    "ax.set_ylabel('cross validation MSE')\n",
    "\n",
    "plt.show()"
   ]
  },
  {
   "cell_type": "markdown",
   "id": "18dbd45a",
   "metadata": {},
   "source": [
    "### Elastic net\n",
    "\n",
    "ELASTIC NET penalized linear regession models are fit much the same way as the RIDGE and LASSO models. "
   ]
  },
  {
   "cell_type": "code",
   "execution_count": 57,
   "id": "571b63e0",
   "metadata": {},
   "outputs": [],
   "source": [
    "from sklearn.linear_model import ElasticNet"
   ]
  },
  {
   "cell_type": "markdown",
   "id": "18530ca7",
   "metadata": {},
   "source": [
    "The ELASTIC NET penalty involves 2 parameters. The `alpha` parameter and the `l1_ratio` parameter. The `l1_ratio` parameter is the SAME parameter as `l1_ratio` in `LogisticRegression()`. It controls the MIXING FRACTION between RIDGE and LASSO."
   ]
  },
  {
   "cell_type": "markdown",
   "id": "e2e67e12",
   "metadata": {},
   "source": [
    "The ELASTIC NET penalized model with `alpha=1` and `l1_ratio=0.5` is fit below."
   ]
  },
  {
   "cell_type": "code",
   "execution_count": 58,
   "id": "24a0b77c",
   "metadata": {},
   "outputs": [],
   "source": [
    "enet_default = ElasticNet(alpha=1, l1_ratio=0.5, max_iter=25001, fit_intercept=False).fit( X_sk, y_sk.ravel() )"
   ]
  },
  {
   "cell_type": "code",
   "execution_count": 59,
   "id": "8a3c63f9",
   "metadata": {},
   "outputs": [
    {
     "data": {
      "text/plain": [
       "array([0.        , 0.58917239, 0.        , 0.        , 0.        ,\n",
       "       0.        , 0.34261901, 0.        , 0.01564731])"
      ]
     },
     "execution_count": 59,
     "metadata": {},
     "output_type": "execute_result"
    }
   ],
   "source": [
    "enet_default.coef_"
   ]
  },
  {
   "cell_type": "markdown",
   "id": "4df9f5e3",
   "metadata": {},
   "source": [
    "The ELASTIC NET model can be tuned via the built in cross-validation scheme."
   ]
  },
  {
   "cell_type": "code",
   "execution_count": 60,
   "id": "284ffe13",
   "metadata": {},
   "outputs": [],
   "source": [
    "from sklearn.linear_model import ElasticNetCV"
   ]
  },
  {
   "cell_type": "markdown",
   "id": "a652fc0b",
   "metadata": {},
   "source": [
    "BOTH `alpha` and `l1_ratio` must be tuned. A grid of 7 evenly spaced values between 0.01 and 1.0 are defined below to tune for `l1_ratio`. The lower bound is very close to zero but not quite zero on purpose. The `ElasticNet()` and `ElasticNetCV()` functions can have issues when fitting if `l1_ratio=0`."
   ]
  },
  {
   "cell_type": "code",
   "execution_count": 61,
   "id": "21da820d",
   "metadata": {},
   "outputs": [],
   "source": [
    "mixing_grid = np.linspace(0.01, 1.0, num=7)"
   ]
  },
  {
   "cell_type": "code",
   "execution_count": 62,
   "id": "e57118dd",
   "metadata": {},
   "outputs": [],
   "source": [
    "enet_cv = ElasticNetCV(alphas=alpha_grid, l1_ratio=mixing_grid, max_iter=50001, fit_intercept=False).fit( X_sk, y_sk.ravel() )"
   ]
  },
  {
   "cell_type": "markdown",
   "id": "a919a7a4",
   "metadata": {},
   "source": [
    "The tuned Elastic Net model has a low `alpha` value and has been converted to Lasso!"
   ]
  },
  {
   "cell_type": "code",
   "execution_count": 63,
   "id": "c72e9d36",
   "metadata": {},
   "outputs": [
    {
     "data": {
      "text/plain": [
       "0.006737946999085467"
      ]
     },
     "execution_count": 63,
     "metadata": {},
     "output_type": "execute_result"
    }
   ],
   "source": [
    "enet_cv.alpha_"
   ]
  },
  {
   "cell_type": "code",
   "execution_count": 64,
   "id": "2b2a6985",
   "metadata": {},
   "outputs": [
    {
     "data": {
      "text/plain": [
       "1.0"
      ]
     },
     "execution_count": 64,
     "metadata": {},
     "output_type": "execute_result"
    }
   ],
   "source": [
    "enet_cv.l1_ratio_"
   ]
  },
  {
   "cell_type": "code",
   "execution_count": 65,
   "id": "6859be32",
   "metadata": {},
   "outputs": [
    {
     "data": {
      "text/plain": [
       "array([ 0.        ,  1.38516487, -0.22588665, -0.        , -0.03952052,\n",
       "       -0.16134275,  0.56884718, -0.19376145,  0.39092139])"
      ]
     },
     "execution_count": 65,
     "metadata": {},
     "output_type": "execute_result"
    }
   ],
   "source": [
    "enet_cv.coef_"
   ]
  },
  {
   "cell_type": "markdown",
   "id": "4f5e72e6",
   "metadata": {},
   "source": [
    "## Pipelines and Grid Search\n",
    "\n",
    "The built-in cross-validation functions are EASY to use. However, they are not entirely correct. As discussed in the lecture example it is CRITICAL to STANDARDIZE the features BEFORE fitting a REGULARIZED model! The same concept applies to REGRESSION!\n",
    "\n",
    "We therefore need to create a PIPELINE that manages the preprocessing and fitting the model appropriately within the folds of the cross-validation scheme.\n",
    "\n",
    "We will use the Pipeline function to manage these operations."
   ]
  },
  {
   "cell_type": "code",
   "execution_count": 66,
   "id": "24430d86",
   "metadata": {},
   "outputs": [],
   "source": [
    "from sklearn.pipeline import Pipeline"
   ]
  },
  {
   "cell_type": "code",
   "execution_count": 67,
   "id": "ab956911",
   "metadata": {},
   "outputs": [],
   "source": [
    "from sklearn.model_selection import GridSearchCV"
   ]
  },
  {
   "cell_type": "markdown",
   "id": "33c55342",
   "metadata": {},
   "source": [
    "### Pre-made design matrix\n",
    "\n",
    "As discussed in lecture, we need to REMOVE the INTERCEPT or BIAS column from the FEATURE array. We need to do this because we are standardizing and the INTERCEPT or BIAS column has a single value! The unique values of the ZEROTH column in `X_sk` are shown below to confirm this."
   ]
  },
  {
   "cell_type": "code",
   "execution_count": 68,
   "id": "b9942094",
   "metadata": {},
   "outputs": [
    {
     "data": {
      "text/plain": [
       "array([1.])"
      ]
     },
     "execution_count": 68,
     "metadata": {},
     "output_type": "execute_result"
    }
   ],
   "source": [
    "np.unique( X_sk[:, 0] )"
   ]
  },
  {
   "cell_type": "markdown",
   "id": "9390a956",
   "metadata": {},
   "source": [
    "The first few rows of the first five columns are displayed below as another confirmation."
   ]
  },
  {
   "cell_type": "code",
   "execution_count": 69,
   "id": "7a95c2fc",
   "metadata": {},
   "outputs": [
    {
     "data": {
      "text/plain": [
       "array([[ 1.        ,  1.024252  ,  1.04909217, -0.65062286,  0.42331011],\n",
       "       [ 1.        , -1.73367102,  3.00561521,  0.99390354,  0.98784425],\n",
       "       [ 1.        , -0.08929361,  0.00797335,  0.2518047 ,  0.06340561],\n",
       "       [ 1.        , -1.09374794,  1.19628455,  1.35654252,  1.84020762],\n",
       "       [ 1.        ,  0.32099527,  0.10303796, -0.14512101,  0.02106011]])"
      ]
     },
     "execution_count": 69,
     "metadata": {},
     "output_type": "execute_result"
    }
   ],
   "source": [
    "X_sk[:5, :5]"
   ]
  },
  {
   "cell_type": "markdown",
   "id": "a3be9ee8",
   "metadata": {},
   "source": [
    "The zeroth column is removed and the result is assigned to the `X_sk_b` array."
   ]
  },
  {
   "cell_type": "code",
   "execution_count": 70,
   "id": "82735086",
   "metadata": {},
   "outputs": [],
   "source": [
    "X_sk_b = X_sk[:, 1:].copy()"
   ]
  },
  {
   "cell_type": "markdown",
   "id": "76de1ead",
   "metadata": {},
   "source": [
    "We will standardize the FEATURES before fitting a model. We therefore need the `StandardScaler()` function."
   ]
  },
  {
   "cell_type": "code",
   "execution_count": 71,
   "id": "5c3d17b6",
   "metadata": {},
   "outputs": [],
   "source": [
    "from sklearn.preprocessing import StandardScaler"
   ]
  },
  {
   "cell_type": "markdown",
   "id": "eb55277d",
   "metadata": {},
   "source": [
    "We need to use the typical scikit-learn approach where the intercept is estimated separately from the rest of the coefficients. Therefore, let's initialize the LASSO model that sets `fit_intercept` to `True`."
   ]
  },
  {
   "cell_type": "code",
   "execution_count": 72,
   "id": "0dadc7ee",
   "metadata": {},
   "outputs": [],
   "source": [
    "lasso_to_fit = Lasso(max_iter=25001, fit_intercept=True)"
   ]
  },
  {
   "cell_type": "markdown",
   "id": "39c75e04",
   "metadata": {},
   "source": [
    "Let's now define the PIPELINE or WORKFLOW which standardizes the FEATURES and then FITS a Lasso model. This Pipeline therefore has 2 steps. Those two steps are named `'std_features'` and `lasso'` below."
   ]
  },
  {
   "cell_type": "code",
   "execution_count": 73,
   "id": "c71fb67a",
   "metadata": {},
   "outputs": [],
   "source": [
    "lasso_wflow = Pipeline( steps=[('std_features', StandardScaler()), \n",
    "                               ('lasso', lasso_to_fit)])"
   ]
  },
  {
   "cell_type": "code",
   "execution_count": 74,
   "id": "f9debf50",
   "metadata": {},
   "outputs": [
    {
     "data": {
      "text/html": [
       "<style>#sk-container-id-1 {color: black;background-color: white;}#sk-container-id-1 pre{padding: 0;}#sk-container-id-1 div.sk-toggleable {background-color: white;}#sk-container-id-1 label.sk-toggleable__label {cursor: pointer;display: block;width: 100%;margin-bottom: 0;padding: 0.3em;box-sizing: border-box;text-align: center;}#sk-container-id-1 label.sk-toggleable__label-arrow:before {content: \"▸\";float: left;margin-right: 0.25em;color: #696969;}#sk-container-id-1 label.sk-toggleable__label-arrow:hover:before {color: black;}#sk-container-id-1 div.sk-estimator:hover label.sk-toggleable__label-arrow:before {color: black;}#sk-container-id-1 div.sk-toggleable__content {max-height: 0;max-width: 0;overflow: hidden;text-align: left;background-color: #f0f8ff;}#sk-container-id-1 div.sk-toggleable__content pre {margin: 0.2em;color: black;border-radius: 0.25em;background-color: #f0f8ff;}#sk-container-id-1 input.sk-toggleable__control:checked~div.sk-toggleable__content {max-height: 200px;max-width: 100%;overflow: auto;}#sk-container-id-1 input.sk-toggleable__control:checked~label.sk-toggleable__label-arrow:before {content: \"▾\";}#sk-container-id-1 div.sk-estimator input.sk-toggleable__control:checked~label.sk-toggleable__label {background-color: #d4ebff;}#sk-container-id-1 div.sk-label input.sk-toggleable__control:checked~label.sk-toggleable__label {background-color: #d4ebff;}#sk-container-id-1 input.sk-hidden--visually {border: 0;clip: rect(1px 1px 1px 1px);clip: rect(1px, 1px, 1px, 1px);height: 1px;margin: -1px;overflow: hidden;padding: 0;position: absolute;width: 1px;}#sk-container-id-1 div.sk-estimator {font-family: monospace;background-color: #f0f8ff;border: 1px dotted black;border-radius: 0.25em;box-sizing: border-box;margin-bottom: 0.5em;}#sk-container-id-1 div.sk-estimator:hover {background-color: #d4ebff;}#sk-container-id-1 div.sk-parallel-item::after {content: \"\";width: 100%;border-bottom: 1px solid gray;flex-grow: 1;}#sk-container-id-1 div.sk-label:hover label.sk-toggleable__label {background-color: #d4ebff;}#sk-container-id-1 div.sk-serial::before {content: \"\";position: absolute;border-left: 1px solid gray;box-sizing: border-box;top: 0;bottom: 0;left: 50%;z-index: 0;}#sk-container-id-1 div.sk-serial {display: flex;flex-direction: column;align-items: center;background-color: white;padding-right: 0.2em;padding-left: 0.2em;position: relative;}#sk-container-id-1 div.sk-item {position: relative;z-index: 1;}#sk-container-id-1 div.sk-parallel {display: flex;align-items: stretch;justify-content: center;background-color: white;position: relative;}#sk-container-id-1 div.sk-item::before, #sk-container-id-1 div.sk-parallel-item::before {content: \"\";position: absolute;border-left: 1px solid gray;box-sizing: border-box;top: 0;bottom: 0;left: 50%;z-index: -1;}#sk-container-id-1 div.sk-parallel-item {display: flex;flex-direction: column;z-index: 1;position: relative;background-color: white;}#sk-container-id-1 div.sk-parallel-item:first-child::after {align-self: flex-end;width: 50%;}#sk-container-id-1 div.sk-parallel-item:last-child::after {align-self: flex-start;width: 50%;}#sk-container-id-1 div.sk-parallel-item:only-child::after {width: 0;}#sk-container-id-1 div.sk-dashed-wrapped {border: 1px dashed gray;margin: 0 0.4em 0.5em 0.4em;box-sizing: border-box;padding-bottom: 0.4em;background-color: white;}#sk-container-id-1 div.sk-label label {font-family: monospace;font-weight: bold;display: inline-block;line-height: 1.2em;}#sk-container-id-1 div.sk-label-container {text-align: center;}#sk-container-id-1 div.sk-container {/* jupyter's `normalize.less` sets `[hidden] { display: none; }` but bootstrap.min.css set `[hidden] { display: none !important; }` so we also need the `!important` here to be able to override the default hidden behavior on the sphinx rendered scikit-learn.org. See: https://github.com/scikit-learn/scikit-learn/issues/21755 */display: inline-block !important;position: relative;}#sk-container-id-1 div.sk-text-repr-fallback {display: none;}</style><div id=\"sk-container-id-1\" class=\"sk-top-container\"><div class=\"sk-text-repr-fallback\"><pre>Pipeline(steps=[(&#x27;std_features&#x27;, StandardScaler()),\n",
       "                (&#x27;lasso&#x27;, Lasso(max_iter=25001))])</pre><b>In a Jupyter environment, please rerun this cell to show the HTML representation or trust the notebook. <br />On GitHub, the HTML representation is unable to render, please try loading this page with nbviewer.org.</b></div><div class=\"sk-container\" hidden><div class=\"sk-item sk-dashed-wrapped\"><div class=\"sk-label-container\"><div class=\"sk-label sk-toggleable\"><input class=\"sk-toggleable__control sk-hidden--visually\" id=\"sk-estimator-id-1\" type=\"checkbox\" ><label for=\"sk-estimator-id-1\" class=\"sk-toggleable__label sk-toggleable__label-arrow\">Pipeline</label><div class=\"sk-toggleable__content\"><pre>Pipeline(steps=[(&#x27;std_features&#x27;, StandardScaler()),\n",
       "                (&#x27;lasso&#x27;, Lasso(max_iter=25001))])</pre></div></div></div><div class=\"sk-serial\"><div class=\"sk-item\"><div class=\"sk-estimator sk-toggleable\"><input class=\"sk-toggleable__control sk-hidden--visually\" id=\"sk-estimator-id-2\" type=\"checkbox\" ><label for=\"sk-estimator-id-2\" class=\"sk-toggleable__label sk-toggleable__label-arrow\">StandardScaler</label><div class=\"sk-toggleable__content\"><pre>StandardScaler()</pre></div></div></div><div class=\"sk-item\"><div class=\"sk-estimator sk-toggleable\"><input class=\"sk-toggleable__control sk-hidden--visually\" id=\"sk-estimator-id-3\" type=\"checkbox\" ><label for=\"sk-estimator-id-3\" class=\"sk-toggleable__label sk-toggleable__label-arrow\">Lasso</label><div class=\"sk-toggleable__content\"><pre>Lasso(max_iter=25001)</pre></div></div></div></div></div></div></div>"
      ],
      "text/plain": [
       "Pipeline(steps=[('std_features', StandardScaler()),\n",
       "                ('lasso', Lasso(max_iter=25001))])"
      ]
     },
     "execution_count": 74,
     "metadata": {},
     "output_type": "execute_result"
    }
   ],
   "source": [
    "lasso_wflow"
   ]
  },
  {
   "cell_type": "markdown",
   "id": "38f0a596",
   "metadata": {},
   "source": [
    "Define the tuning grid for the workflow with the dictionary containing a single ITEM (KEY/VALUE pair). The KEY uses the naming convention of:\n",
    "\n",
    "`<PIPELINE STEP NAME>__<PARAMETER NAME in step>`\n",
    "\n",
    "We are tuning `alpha` within the `'lasso'` step. Thus, the tuning parameter is named: `lasso__alpha` There are 2 underscores or \"DUNDERS\" between the STEP NAME and PARAMETER NAME. The `alpha_grid` defined earlier is used again below."
   ]
  },
  {
   "cell_type": "code",
   "execution_count": 75,
   "id": "8209ce8d",
   "metadata": {},
   "outputs": [],
   "source": [
    "lasso_grid = {'lasso__alpha': alpha_grid}"
   ]
  },
  {
   "cell_type": "markdown",
   "id": "9c578829",
   "metadata": {},
   "source": [
    "Initialize the grid search and define the `scoring` argument to be `'neg_root_mean_squared_error'`. This forces `GridSearchCV()` to find the optimal `alpha` value that MAXIMIZES the NEGATIVE RMSE (which is equivalent to MINIMIZING the RMSE)."
   ]
  },
  {
   "cell_type": "code",
   "execution_count": 76,
   "id": "881e3083",
   "metadata": {},
   "outputs": [],
   "source": [
    "lasso_search = GridSearchCV(lasso_wflow, param_grid=lasso_grid, cv=kf, scoring='neg_root_mean_squared_error')"
   ]
  },
  {
   "cell_type": "markdown",
   "id": "c5ac9df2",
   "metadata": {},
   "source": [
    "Execute the cross-validation."
   ]
  },
  {
   "cell_type": "code",
   "execution_count": 77,
   "id": "121781af",
   "metadata": {},
   "outputs": [],
   "source": [
    "lasso_search_results = lasso_search.fit( X_sk_b, y_sk.ravel() )"
   ]
  },
  {
   "cell_type": "markdown",
   "id": "1685bb40",
   "metadata": {},
   "source": [
    "The TUNED `alpha` value is provided below by the `.best_params_` attribute."
   ]
  },
  {
   "cell_type": "code",
   "execution_count": 78,
   "id": "a8eeb339",
   "metadata": {},
   "outputs": [
    {
     "data": {
      "text/plain": [
       "{'lasso__alpha': 0.0301973834223185}"
      ]
     },
     "execution_count": 78,
     "metadata": {},
     "output_type": "execute_result"
    }
   ],
   "source": [
    "lasso_search_results.best_params_"
   ]
  },
  {
   "cell_type": "markdown",
   "id": "eee20ce9",
   "metadata": {},
   "source": [
    "The best score associated with that tuned value is:"
   ]
  },
  {
   "cell_type": "code",
   "execution_count": 79,
   "id": "eee4516c",
   "metadata": {},
   "outputs": [
    {
     "data": {
      "text/plain": [
       "-0.7874943700751234"
      ]
     },
     "execution_count": 79,
     "metadata": {},
     "output_type": "execute_result"
    }
   ],
   "source": [
    "lasso_search_results.best_score_"
   ]
  },
  {
   "cell_type": "markdown",
   "id": "7f8edf7e",
   "metadata": {},
   "source": [
    "Since this is the NEGATIVE RMSE, the AVERAGE RMSE associated with the BEST `alpha` is:"
   ]
  },
  {
   "cell_type": "code",
   "execution_count": 80,
   "id": "53907ec9",
   "metadata": {},
   "outputs": [
    {
     "data": {
      "text/plain": [
       "0.7874943700751234"
      ]
     },
     "execution_count": 80,
     "metadata": {},
     "output_type": "execute_result"
    }
   ],
   "source": [
    "-lasso_search_results.best_score_"
   ]
  },
  {
   "cell_type": "markdown",
   "id": "b378d46a",
   "metadata": {},
   "source": [
    "We can access the underlying LASSO model via the `.best_estimator.named_steps` dictionary. We must use the STEP NAME as the KEY."
   ]
  },
  {
   "cell_type": "code",
   "execution_count": 81,
   "id": "c16e1206",
   "metadata": {},
   "outputs": [
    {
     "data": {
      "text/html": [
       "<style>#sk-container-id-2 {color: black;background-color: white;}#sk-container-id-2 pre{padding: 0;}#sk-container-id-2 div.sk-toggleable {background-color: white;}#sk-container-id-2 label.sk-toggleable__label {cursor: pointer;display: block;width: 100%;margin-bottom: 0;padding: 0.3em;box-sizing: border-box;text-align: center;}#sk-container-id-2 label.sk-toggleable__label-arrow:before {content: \"▸\";float: left;margin-right: 0.25em;color: #696969;}#sk-container-id-2 label.sk-toggleable__label-arrow:hover:before {color: black;}#sk-container-id-2 div.sk-estimator:hover label.sk-toggleable__label-arrow:before {color: black;}#sk-container-id-2 div.sk-toggleable__content {max-height: 0;max-width: 0;overflow: hidden;text-align: left;background-color: #f0f8ff;}#sk-container-id-2 div.sk-toggleable__content pre {margin: 0.2em;color: black;border-radius: 0.25em;background-color: #f0f8ff;}#sk-container-id-2 input.sk-toggleable__control:checked~div.sk-toggleable__content {max-height: 200px;max-width: 100%;overflow: auto;}#sk-container-id-2 input.sk-toggleable__control:checked~label.sk-toggleable__label-arrow:before {content: \"▾\";}#sk-container-id-2 div.sk-estimator input.sk-toggleable__control:checked~label.sk-toggleable__label {background-color: #d4ebff;}#sk-container-id-2 div.sk-label input.sk-toggleable__control:checked~label.sk-toggleable__label {background-color: #d4ebff;}#sk-container-id-2 input.sk-hidden--visually {border: 0;clip: rect(1px 1px 1px 1px);clip: rect(1px, 1px, 1px, 1px);height: 1px;margin: -1px;overflow: hidden;padding: 0;position: absolute;width: 1px;}#sk-container-id-2 div.sk-estimator {font-family: monospace;background-color: #f0f8ff;border: 1px dotted black;border-radius: 0.25em;box-sizing: border-box;margin-bottom: 0.5em;}#sk-container-id-2 div.sk-estimator:hover {background-color: #d4ebff;}#sk-container-id-2 div.sk-parallel-item::after {content: \"\";width: 100%;border-bottom: 1px solid gray;flex-grow: 1;}#sk-container-id-2 div.sk-label:hover label.sk-toggleable__label {background-color: #d4ebff;}#sk-container-id-2 div.sk-serial::before {content: \"\";position: absolute;border-left: 1px solid gray;box-sizing: border-box;top: 0;bottom: 0;left: 50%;z-index: 0;}#sk-container-id-2 div.sk-serial {display: flex;flex-direction: column;align-items: center;background-color: white;padding-right: 0.2em;padding-left: 0.2em;position: relative;}#sk-container-id-2 div.sk-item {position: relative;z-index: 1;}#sk-container-id-2 div.sk-parallel {display: flex;align-items: stretch;justify-content: center;background-color: white;position: relative;}#sk-container-id-2 div.sk-item::before, #sk-container-id-2 div.sk-parallel-item::before {content: \"\";position: absolute;border-left: 1px solid gray;box-sizing: border-box;top: 0;bottom: 0;left: 50%;z-index: -1;}#sk-container-id-2 div.sk-parallel-item {display: flex;flex-direction: column;z-index: 1;position: relative;background-color: white;}#sk-container-id-2 div.sk-parallel-item:first-child::after {align-self: flex-end;width: 50%;}#sk-container-id-2 div.sk-parallel-item:last-child::after {align-self: flex-start;width: 50%;}#sk-container-id-2 div.sk-parallel-item:only-child::after {width: 0;}#sk-container-id-2 div.sk-dashed-wrapped {border: 1px dashed gray;margin: 0 0.4em 0.5em 0.4em;box-sizing: border-box;padding-bottom: 0.4em;background-color: white;}#sk-container-id-2 div.sk-label label {font-family: monospace;font-weight: bold;display: inline-block;line-height: 1.2em;}#sk-container-id-2 div.sk-label-container {text-align: center;}#sk-container-id-2 div.sk-container {/* jupyter's `normalize.less` sets `[hidden] { display: none; }` but bootstrap.min.css set `[hidden] { display: none !important; }` so we also need the `!important` here to be able to override the default hidden behavior on the sphinx rendered scikit-learn.org. See: https://github.com/scikit-learn/scikit-learn/issues/21755 */display: inline-block !important;position: relative;}#sk-container-id-2 div.sk-text-repr-fallback {display: none;}</style><div id=\"sk-container-id-2\" class=\"sk-top-container\"><div class=\"sk-text-repr-fallback\"><pre>Lasso(alpha=0.0301973834223185, max_iter=25001)</pre><b>In a Jupyter environment, please rerun this cell to show the HTML representation or trust the notebook. <br />On GitHub, the HTML representation is unable to render, please try loading this page with nbviewer.org.</b></div><div class=\"sk-container\" hidden><div class=\"sk-item\"><div class=\"sk-estimator sk-toggleable\"><input class=\"sk-toggleable__control sk-hidden--visually\" id=\"sk-estimator-id-4\" type=\"checkbox\" checked><label for=\"sk-estimator-id-4\" class=\"sk-toggleable__label sk-toggleable__label-arrow\">Lasso</label><div class=\"sk-toggleable__content\"><pre>Lasso(alpha=0.0301973834223185, max_iter=25001)</pre></div></div></div></div></div>"
      ],
      "text/plain": [
       "Lasso(alpha=0.0301973834223185, max_iter=25001)"
      ]
     },
     "execution_count": 81,
     "metadata": {},
     "output_type": "execute_result"
    }
   ],
   "source": [
    "lasso_search_results.best_estimator_.named_steps['lasso']"
   ]
  },
  {
   "cell_type": "markdown",
   "id": "bdfa629b",
   "metadata": {},
   "source": [
    "The coeficient estimates associated with this tuned `alpha` are shown below."
   ]
  },
  {
   "cell_type": "code",
   "execution_count": 82,
   "id": "755c743c",
   "metadata": {},
   "outputs": [
    {
     "data": {
      "text/plain": [
       "array([ 1.47442903, -0.00988932,  0.        , -0.        ,  0.        ,\n",
       "        0.56834214, -0.        ,  0.32975209])"
      ]
     },
     "execution_count": 82,
     "metadata": {},
     "output_type": "execute_result"
    }
   ],
   "source": [
    "lasso_search_results.best_estimator_.named_steps['lasso'].coef_"
   ]
  },
  {
   "cell_type": "markdown",
   "id": "9028159b",
   "metadata": {},
   "source": [
    "The intercept associated with the tuned `alpha` is shown below."
   ]
  },
  {
   "cell_type": "code",
   "execution_count": 83,
   "id": "70b6c641",
   "metadata": {},
   "outputs": [
    {
     "data": {
      "text/plain": [
       "-0.09086687115588199"
      ]
     },
     "execution_count": 83,
     "metadata": {},
     "output_type": "execute_result"
    }
   ],
   "source": [
    "lasso_search_results.best_estimator_.named_steps['lasso'].intercept_"
   ]
  },
  {
   "cell_type": "markdown",
   "id": "832dcf83",
   "metadata": {},
   "source": [
    "How does this optimal LASSO model behave? Let's use PREDICTIONS to find out!\n",
    "\n",
    "The cell below defines a grid of input values focusing on the `x1` input."
   ]
  },
  {
   "cell_type": "code",
   "execution_count": 88,
   "id": "634cfb79",
   "metadata": {},
   "outputs": [],
   "source": [
    "input_grid_1 = pd.DataFrame([ (x1, x2) for x1 in np.linspace(df.x1.min(), df.x1.max(), num=101) \n",
    "                                       for x2 in np.linspace(df.x2.min(), df.x2.max(), num=9)],\n",
    "                             columns=['x1', 'x2'])"
   ]
  },
  {
   "cell_type": "code",
   "execution_count": 89,
   "id": "c69fc767",
   "metadata": {},
   "outputs": [
    {
     "data": {
      "text/plain": [
       "x1    101\n",
       "x2      9\n",
       "dtype: int64"
      ]
     },
     "execution_count": 89,
     "metadata": {},
     "output_type": "execute_result"
    }
   ],
   "source": [
    "input_grid_1.nunique()"
   ]
  },
  {
   "cell_type": "markdown",
   "id": "7900f030",
   "metadata": {},
   "source": [
    "The FEATURE array associated with this input grid is created using the `dmatrix()` function."
   ]
  },
  {
   "cell_type": "code",
   "execution_count": 90,
   "id": "718470d1",
   "metadata": {},
   "outputs": [],
   "source": [
    "from patsy import dmatrix"
   ]
  },
  {
   "cell_type": "code",
   "execution_count": 91,
   "id": "70175210",
   "metadata": {},
   "outputs": [],
   "source": [
    "Xgrid_1 = dmatrix( ' ~ ( x1 + np.power(x1, 2) ) * ( x2 + np.power(x2, 2) )', data = input_grid_1 )"
   ]
  },
  {
   "cell_type": "code",
   "execution_count": 92,
   "id": "d1bfd26d",
   "metadata": {},
   "outputs": [
    {
     "data": {
      "text/plain": [
       "(909, 9)"
      ]
     },
     "execution_count": 92,
     "metadata": {},
     "output_type": "execute_result"
    }
   ],
   "source": [
    "Xgrid_1.shape"
   ]
  },
  {
   "cell_type": "markdown",
   "id": "aceca065",
   "metadata": {},
   "source": [
    "The ZEROTH column in the FEATURE ARRAY corresponds to the INTERCEPT or BIAS column."
   ]
  },
  {
   "cell_type": "code",
   "execution_count": 93,
   "id": "67f1a863",
   "metadata": {},
   "outputs": [
    {
     "data": {
      "text/plain": [
       "array([[ 1.        , -1.73367102,  3.00561521, -1.81332966,  3.28816446],\n",
       "       [ 1.        , -1.73367102,  3.00561521, -1.2693435 ,  1.61123293],\n",
       "       [ 1.        , -1.73367102,  3.00561521, -0.72535735,  0.52614328],\n",
       "       [ 1.        , -1.73367102,  3.00561521, -0.18137119,  0.03289551],\n",
       "       [ 1.        , -1.73367102,  3.00561521,  0.36261497,  0.13148961]])"
      ]
     },
     "execution_count": 93,
     "metadata": {},
     "output_type": "execute_result"
    }
   ],
   "source": [
    "Xgrid_1[:5, :5]"
   ]
  },
  {
   "cell_type": "markdown",
   "id": "673aac68",
   "metadata": {},
   "source": [
    "Remove it!"
   ]
  },
  {
   "cell_type": "code",
   "execution_count": 94,
   "id": "329536a4",
   "metadata": {},
   "outputs": [],
   "source": [
    "Xgrid_1_b = Xgrid_1[:, 1:].copy()"
   ]
  },
  {
   "cell_type": "markdown",
   "id": "863c0575",
   "metadata": {},
   "source": [
    "The GRID SEARCH OBJECT, `lasso_search_results`, is a FULL model. It has a `.predict()` method! Predicting the visualization grid requires providing `Xgrid_1_b` as the argument to the `.predict()` method. Please note that the PIPELINE will STANDARDIZE the features **based** on the TRAINING set! Therefore, you do NOT need to standardize the features! The GRID SEARCH OBJECT will take care of it for you!"
   ]
  },
  {
   "cell_type": "code",
   "execution_count": 95,
   "id": "4eb6c422",
   "metadata": {},
   "outputs": [],
   "source": [
    "dfviz_1 = input_grid_1.copy()"
   ]
  },
  {
   "cell_type": "code",
   "execution_count": 96,
   "id": "82a1f67a",
   "metadata": {},
   "outputs": [],
   "source": [
    "dfviz_1['pred_lasso_tune'] = lasso_search_results.predict( Xgrid_1_b )"
   ]
  },
  {
   "cell_type": "code",
   "execution_count": 97,
   "id": "b72048e5",
   "metadata": {},
   "outputs": [
    {
     "data": {
      "text/html": [
       "<div>\n",
       "<style scoped>\n",
       "    .dataframe tbody tr th:only-of-type {\n",
       "        vertical-align: middle;\n",
       "    }\n",
       "\n",
       "    .dataframe tbody tr th {\n",
       "        vertical-align: top;\n",
       "    }\n",
       "\n",
       "    .dataframe thead th {\n",
       "        text-align: right;\n",
       "    }\n",
       "</style>\n",
       "<table border=\"1\" class=\"dataframe\">\n",
       "  <thead>\n",
       "    <tr style=\"text-align: right;\">\n",
       "      <th></th>\n",
       "      <th>x1</th>\n",
       "      <th>x2</th>\n",
       "      <th>pred_lasso_tune</th>\n",
       "    </tr>\n",
       "  </thead>\n",
       "  <tbody>\n",
       "    <tr>\n",
       "      <th>0</th>\n",
       "      <td>-1.733671</td>\n",
       "      <td>-1.813330</td>\n",
       "      <td>-3.186044</td>\n",
       "    </tr>\n",
       "    <tr>\n",
       "      <th>1</th>\n",
       "      <td>-1.733671</td>\n",
       "      <td>-1.269344</td>\n",
       "      <td>-2.982954</td>\n",
       "    </tr>\n",
       "    <tr>\n",
       "      <th>2</th>\n",
       "      <td>-1.733671</td>\n",
       "      <td>-0.725357</td>\n",
       "      <td>-2.851541</td>\n",
       "    </tr>\n",
       "    <tr>\n",
       "      <th>3</th>\n",
       "      <td>-1.733671</td>\n",
       "      <td>-0.181371</td>\n",
       "      <td>-2.791805</td>\n",
       "    </tr>\n",
       "    <tr>\n",
       "      <th>4</th>\n",
       "      <td>-1.733671</td>\n",
       "      <td>0.362615</td>\n",
       "      <td>-2.803746</td>\n",
       "    </tr>\n",
       "    <tr>\n",
       "      <th>...</th>\n",
       "      <td>...</td>\n",
       "      <td>...</td>\n",
       "      <td>...</td>\n",
       "    </tr>\n",
       "    <tr>\n",
       "      <th>904</th>\n",
       "      <td>1.822354</td>\n",
       "      <td>0.362615</td>\n",
       "      <td>2.752595</td>\n",
       "    </tr>\n",
       "    <tr>\n",
       "      <th>905</th>\n",
       "      <td>1.822354</td>\n",
       "      <td>0.906601</td>\n",
       "      <td>3.431635</td>\n",
       "    </tr>\n",
       "    <tr>\n",
       "      <th>906</th>\n",
       "      <td>1.822354</td>\n",
       "      <td>1.450587</td>\n",
       "      <td>4.692748</td>\n",
       "    </tr>\n",
       "    <tr>\n",
       "      <th>907</th>\n",
       "      <td>1.822354</td>\n",
       "      <td>1.994573</td>\n",
       "      <td>6.535936</td>\n",
       "    </tr>\n",
       "    <tr>\n",
       "      <th>908</th>\n",
       "      <td>1.822354</td>\n",
       "      <td>2.538560</td>\n",
       "      <td>8.961196</td>\n",
       "    </tr>\n",
       "  </tbody>\n",
       "</table>\n",
       "<p>909 rows × 3 columns</p>\n",
       "</div>"
      ],
      "text/plain": [
       "           x1        x2  pred_lasso_tune\n",
       "0   -1.733671 -1.813330        -3.186044\n",
       "1   -1.733671 -1.269344        -2.982954\n",
       "2   -1.733671 -0.725357        -2.851541\n",
       "3   -1.733671 -0.181371        -2.791805\n",
       "4   -1.733671  0.362615        -2.803746\n",
       "..        ...       ...              ...\n",
       "904  1.822354  0.362615         2.752595\n",
       "905  1.822354  0.906601         3.431635\n",
       "906  1.822354  1.450587         4.692748\n",
       "907  1.822354  1.994573         6.535936\n",
       "908  1.822354  2.538560         8.961196\n",
       "\n",
       "[909 rows x 3 columns]"
      ]
     },
     "execution_count": 97,
     "metadata": {},
     "output_type": "execute_result"
    }
   ],
   "source": [
    "dfviz_1"
   ]
  },
  {
   "cell_type": "markdown",
   "id": "2a2cacb4",
   "metadata": {},
   "source": [
    "The predictions are visualized below!"
   ]
  },
  {
   "cell_type": "code",
   "execution_count": 98,
   "id": "be05e415",
   "metadata": {},
   "outputs": [
    {
     "data": {
      "image/png": "[encoded data removed]",
      "text/plain": [
       "<Figure size 583.75x500 with 1 Axes>"
      ]
     },
     "metadata": {},
     "output_type": "display_data"
    }
   ],
   "source": [
    "sns.relplot(data = dfviz_1, x='x1', y='pred_lasso_tune', kind='line',\n",
    "            hue='x2', estimator=None, units='x2',\n",
    "            palette='coolwarm')\n",
    "\n",
    "plt.show()"
   ]
  },
  {
   "cell_type": "markdown",
   "id": "ed46b60d",
   "metadata": {},
   "source": [
    "The predictions are NOT straight lines! We created this data set in Week 11. We specified the TRUE formula as LINEAR ADDITIVE FEATURES and thus the correct answer are straight lines! So is the tuned LASSO method wrong? Remember there are ONLY 35 measurements in this example! We do NOT have a lot of data! \n",
    "\n",
    "Thus, what really matters is how does the tuned LASSO model compare to the original UNREGULARIZED complex model? The model that was fit by ONLY minimizing the LOSS? Let's find out by predicting the TRENDS with that original model. We could the statsmodel, `fit_stats`or or the sklearn model, `fit_sk`, to do this."
   ]
  },
  {
   "cell_type": "code",
   "execution_count": 99,
   "id": "5ada3571",
   "metadata": {},
   "outputs": [],
   "source": [
    "dfviz_1['pred_complex'] = fit_stats.predict( input_grid_1 )"
   ]
  },
  {
   "cell_type": "markdown",
   "id": "c4121b20",
   "metadata": {},
   "source": [
    "The `dfviz_1` DataFrame is reshaped to LONG-FORMAT to GATHER the two columns with the PREDICTIONS. The INPUTS `x1` and `x2` are NOT gathered."
   ]
  },
  {
   "cell_type": "code",
   "execution_count": 100,
   "id": "65208f1c",
   "metadata": {},
   "outputs": [
    {
     "data": {
      "text/html": [
       "<div>\n",
       "<style scoped>\n",
       "    .dataframe tbody tr th:only-of-type {\n",
       "        vertical-align: middle;\n",
       "    }\n",
       "\n",
       "    .dataframe tbody tr th {\n",
       "        vertical-align: top;\n",
       "    }\n",
       "\n",
       "    .dataframe thead th {\n",
       "        text-align: right;\n",
       "    }\n",
       "</style>\n",
       "<table border=\"1\" class=\"dataframe\">\n",
       "  <thead>\n",
       "    <tr style=\"text-align: right;\">\n",
       "      <th></th>\n",
       "      <th>rowid</th>\n",
       "      <th>x1</th>\n",
       "      <th>x2</th>\n",
       "      <th>variable</th>\n",
       "      <th>value</th>\n",
       "    </tr>\n",
       "  </thead>\n",
       "  <tbody>\n",
       "    <tr>\n",
       "      <th>0</th>\n",
       "      <td>0</td>\n",
       "      <td>-1.733671</td>\n",
       "      <td>-1.813330</td>\n",
       "      <td>pred_lasso_tune</td>\n",
       "      <td>-3.186044</td>\n",
       "    </tr>\n",
       "    <tr>\n",
       "      <th>1</th>\n",
       "      <td>1</td>\n",
       "      <td>-1.733671</td>\n",
       "      <td>-1.269344</td>\n",
       "      <td>pred_lasso_tune</td>\n",
       "      <td>-2.982954</td>\n",
       "    </tr>\n",
       "    <tr>\n",
       "      <th>2</th>\n",
       "      <td>2</td>\n",
       "      <td>-1.733671</td>\n",
       "      <td>-0.725357</td>\n",
       "      <td>pred_lasso_tune</td>\n",
       "      <td>-2.851541</td>\n",
       "    </tr>\n",
       "    <tr>\n",
       "      <th>3</th>\n",
       "      <td>3</td>\n",
       "      <td>-1.733671</td>\n",
       "      <td>-0.181371</td>\n",
       "      <td>pred_lasso_tune</td>\n",
       "      <td>-2.791805</td>\n",
       "    </tr>\n",
       "    <tr>\n",
       "      <th>4</th>\n",
       "      <td>4</td>\n",
       "      <td>-1.733671</td>\n",
       "      <td>0.362615</td>\n",
       "      <td>pred_lasso_tune</td>\n",
       "      <td>-2.803746</td>\n",
       "    </tr>\n",
       "    <tr>\n",
       "      <th>...</th>\n",
       "      <td>...</td>\n",
       "      <td>...</td>\n",
       "      <td>...</td>\n",
       "      <td>...</td>\n",
       "      <td>...</td>\n",
       "    </tr>\n",
       "    <tr>\n",
       "      <th>1813</th>\n",
       "      <td>904</td>\n",
       "      <td>1.822354</td>\n",
       "      <td>0.362615</td>\n",
       "      <td>pred_complex</td>\n",
       "      <td>1.470184</td>\n",
       "    </tr>\n",
       "    <tr>\n",
       "      <th>1814</th>\n",
       "      <td>905</td>\n",
       "      <td>1.822354</td>\n",
       "      <td>0.906601</td>\n",
       "      <td>pred_complex</td>\n",
       "      <td>2.629134</td>\n",
       "    </tr>\n",
       "    <tr>\n",
       "      <th>1815</th>\n",
       "      <td>906</td>\n",
       "      <td>1.822354</td>\n",
       "      <td>1.450587</td>\n",
       "      <td>pred_complex</td>\n",
       "      <td>5.345968</td>\n",
       "    </tr>\n",
       "    <tr>\n",
       "      <th>1816</th>\n",
       "      <td>907</td>\n",
       "      <td>1.822354</td>\n",
       "      <td>1.994573</td>\n",
       "      <td>pred_complex</td>\n",
       "      <td>9.620687</td>\n",
       "    </tr>\n",
       "    <tr>\n",
       "      <th>1817</th>\n",
       "      <td>908</td>\n",
       "      <td>1.822354</td>\n",
       "      <td>2.538560</td>\n",
       "      <td>pred_complex</td>\n",
       "      <td>15.453291</td>\n",
       "    </tr>\n",
       "  </tbody>\n",
       "</table>\n",
       "<p>1818 rows × 5 columns</p>\n",
       "</div>"
      ],
      "text/plain": [
       "      rowid        x1        x2         variable      value\n",
       "0         0 -1.733671 -1.813330  pred_lasso_tune  -3.186044\n",
       "1         1 -1.733671 -1.269344  pred_lasso_tune  -2.982954\n",
       "2         2 -1.733671 -0.725357  pred_lasso_tune  -2.851541\n",
       "3         3 -1.733671 -0.181371  pred_lasso_tune  -2.791805\n",
       "4         4 -1.733671  0.362615  pred_lasso_tune  -2.803746\n",
       "...     ...       ...       ...              ...        ...\n",
       "1813    904  1.822354  0.362615     pred_complex   1.470184\n",
       "1814    905  1.822354  0.906601     pred_complex   2.629134\n",
       "1815    906  1.822354  1.450587     pred_complex   5.345968\n",
       "1816    907  1.822354  1.994573     pred_complex   9.620687\n",
       "1817    908  1.822354  2.538560     pred_complex  15.453291\n",
       "\n",
       "[1818 rows x 5 columns]"
      ]
     },
     "execution_count": 100,
     "metadata": {},
     "output_type": "execute_result"
    }
   ],
   "source": [
    "dfviz_1.reset_index().rename(columns={'index':'rowid'}).melt(id_vars=['rowid', 'x1', 'x2'])"
   ]
  },
  {
   "cell_type": "markdown",
   "id": "c014020f",
   "metadata": {},
   "source": [
    "The LONG FORMAT data allows associating the model the predictions come from with the facet! The figure below shows that tuned LASSO model \"supresses\" the very curved trends associated with the original complex model! The LASSO penalty has therefore simplified the complex model!"
   ]
  },
  {
   "cell_type": "code",
   "execution_count": 101,
   "id": "6325be53",
   "metadata": {},
   "outputs": [
    {
     "data": {
      "image/png": "[encoded data removed]",
      "text/plain": [
       "<Figure size 1083.75x500 with 2 Axes>"
      ]
     },
     "metadata": {},
     "output_type": "display_data"
    }
   ],
   "source": [
    "sns.relplot(data = dfviz_1.reset_index().rename(columns={'index':'rowid'}).melt(id_vars=['rowid', 'x1', 'x2']), \n",
    "            x='x1', y='value', col='variable',\n",
    "            kind='line',\n",
    "            hue='x2', estimator=None, units='x2',\n",
    "            palette='coolwarm')\n",
    "\n",
    "plt.show()"
   ]
  },
  {
   "cell_type": "markdown",
   "id": "cede3a3e",
   "metadata": {},
   "source": [
    "### Polynomial Features\n",
    "\n",
    "We used the formula interface in `dmatrices()` to create the FEATURES associated with the complex model. However, we can NEARLY create those features as a PREPROCESSING step within a Pipeline via the `PolynomialFeatures()` function. You will see below why I use the term NEARLY, but this is another approach that enables bypassing the \"helper\" functions of `dmatrices()` and `dmatrix()`.\n",
    "\n",
    "The `PolynomialFeatures()` function is imported below."
   ]
  },
  {
   "cell_type": "code",
   "execution_count": 102,
   "id": "82e6eff2",
   "metadata": {},
   "outputs": [],
   "source": [
    "from sklearn.preprocessing import PolynomialFeatures"
   ]
  },
  {
   "cell_type": "markdown",
   "id": "9a89d4e8",
   "metadata": {},
   "source": [
    "The `PolynomialFeatures()` function generates POLYNOMIALS of a specified DEGREE (power) for the COLUMNS in an array. We therefore need an array of the INPUTS. A DataFrame of INPUTS is created below."
   ]
  },
  {
   "cell_type": "code",
   "execution_count": 103,
   "id": "cfe7e837",
   "metadata": {},
   "outputs": [],
   "source": [
    "xinputs = df.drop(columns=['y']).copy()"
   ]
  },
  {
   "cell_type": "code",
   "execution_count": 104,
   "id": "b349e7ed",
   "metadata": {},
   "outputs": [
    {
     "data": {
      "text/html": [
       "<div>\n",
       "<style scoped>\n",
       "    .dataframe tbody tr th:only-of-type {\n",
       "        vertical-align: middle;\n",
       "    }\n",
       "\n",
       "    .dataframe tbody tr th {\n",
       "        vertical-align: top;\n",
       "    }\n",
       "\n",
       "    .dataframe thead th {\n",
       "        text-align: right;\n",
       "    }\n",
       "</style>\n",
       "<table border=\"1\" class=\"dataframe\">\n",
       "  <thead>\n",
       "    <tr style=\"text-align: right;\">\n",
       "      <th></th>\n",
       "      <th>x1</th>\n",
       "      <th>x2</th>\n",
       "    </tr>\n",
       "  </thead>\n",
       "  <tbody>\n",
       "    <tr>\n",
       "      <th>0</th>\n",
       "      <td>1.024252</td>\n",
       "      <td>-0.650623</td>\n",
       "    </tr>\n",
       "    <tr>\n",
       "      <th>1</th>\n",
       "      <td>-1.733671</td>\n",
       "      <td>0.993904</td>\n",
       "    </tr>\n",
       "    <tr>\n",
       "      <th>2</th>\n",
       "      <td>-0.089294</td>\n",
       "      <td>0.251805</td>\n",
       "    </tr>\n",
       "    <tr>\n",
       "      <th>3</th>\n",
       "      <td>-1.093748</td>\n",
       "      <td>1.356543</td>\n",
       "    </tr>\n",
       "    <tr>\n",
       "      <th>4</th>\n",
       "      <td>0.320995</td>\n",
       "      <td>-0.145121</td>\n",
       "    </tr>\n",
       "  </tbody>\n",
       "</table>\n",
       "</div>"
      ],
      "text/plain": [
       "         x1        x2\n",
       "0  1.024252 -0.650623\n",
       "1 -1.733671  0.993904\n",
       "2 -0.089294  0.251805\n",
       "3 -1.093748  1.356543\n",
       "4  0.320995 -0.145121"
      ]
     },
     "execution_count": 104,
     "metadata": {},
     "output_type": "execute_result"
    }
   ],
   "source": [
    "xinputs.head()"
   ]
  },
  {
   "cell_type": "markdown",
   "id": "b90c9ae1",
   "metadata": {},
   "source": [
    "The INPUT DataFrame is converted to NumPy array."
   ]
  },
  {
   "cell_type": "code",
   "execution_count": 105,
   "id": "ffa9d99f",
   "metadata": {},
   "outputs": [],
   "source": [
    "X_train = xinputs.to_numpy()"
   ]
  },
  {
   "cell_type": "markdown",
   "id": "3b0e874e",
   "metadata": {},
   "source": [
    "The output `y` is also converted to a 1D NumPy array."
   ]
  },
  {
   "cell_type": "code",
   "execution_count": 106,
   "id": "65cd6b29",
   "metadata": {},
   "outputs": [],
   "source": [
    "youtputs = df.y"
   ]
  },
  {
   "cell_type": "code",
   "execution_count": 107,
   "id": "7d440c99",
   "metadata": {},
   "outputs": [],
   "source": [
    "y_train = youtputs.to_numpy().ravel()"
   ]
  },
  {
   "cell_type": "code",
   "execution_count": 108,
   "id": "7b750c57",
   "metadata": {},
   "outputs": [
    {
     "data": {
      "text/plain": [
       "(35, 2)"
      ]
     },
     "execution_count": 108,
     "metadata": {},
     "output_type": "execute_result"
    }
   ],
   "source": [
    "X_train.shape"
   ]
  },
  {
   "cell_type": "code",
   "execution_count": 109,
   "id": "d262de9e",
   "metadata": {},
   "outputs": [
    {
     "data": {
      "text/plain": [
       "(35,)"
      ]
     },
     "execution_count": 109,
     "metadata": {},
     "output_type": "execute_result"
    }
   ],
   "source": [
    "y_train.shape"
   ]
  },
  {
   "cell_type": "markdown",
   "id": "60385750",
   "metadata": {},
   "source": [
    "The `PolynomialFeatures()` function is used below to generate all polynomials UP TO the second degree for the INPUTS contained in `X_train`. The `.fit_transform()` method is applied to generate all features derived from the 2 inputs with `degree=2`."
   ]
  },
  {
   "cell_type": "code",
   "execution_count": 110,
   "id": "64792edb",
   "metadata": {},
   "outputs": [
    {
     "data": {
      "text/plain": [
       "array([[ 1.        ,  1.024252  , -0.65062286,  1.04909217, -0.66640177,\n",
       "         0.42331011],\n",
       "       [ 1.        , -1.73367102,  0.99390354,  3.00561521, -1.72310177,\n",
       "         0.98784425],\n",
       "       [ 1.        , -0.08929361,  0.2518047 ,  0.00797335, -0.02248455,\n",
       "         0.06340561],\n",
       "       [ 1.        , -1.09374794,  1.35654252,  1.19628455, -1.48371558,\n",
       "         1.84020762],\n",
       "       [ 1.        ,  0.32099527, -0.14512101,  0.10303796, -0.04658316,\n",
       "         0.02106011]])"
      ]
     },
     "execution_count": 110,
     "metadata": {},
     "output_type": "execute_result"
    }
   ],
   "source": [
    "PolynomialFeatures(degree=2).fit_transform( X_train )[:5, :]"
   ]
  },
  {
   "cell_type": "markdown",
   "id": "84557bf2",
   "metadata": {},
   "source": [
    "What's going on with `PolynomialFeatures()`? Let's simplify things by modifying the arguments. The `interaction_only` argument allows returning LINEAR MAIN EFFECTS and INTERACTIONS up to a specified degree. Keeping `degree=2` with `interaction_only=True` returns the following array. The ZEROTH column only contains 1 because the ZEROTH column is the INTERCEPT or BIAS column! The next two columns are the INPUT values and the last column is the PRODUCT or MULTIPLICATION or INTERACTION between the two!"
   ]
  },
  {
   "cell_type": "code",
   "execution_count": 111,
   "id": "47a912f9",
   "metadata": {},
   "outputs": [
    {
     "data": {
      "text/plain": [
       "array([[ 1.        ,  1.024252  , -0.65062286, -0.66640177],\n",
       "       [ 1.        , -1.73367102,  0.99390354, -1.72310177],\n",
       "       [ 1.        , -0.08929361,  0.2518047 , -0.02248455],\n",
       "       [ 1.        , -1.09374794,  1.35654252, -1.48371558],\n",
       "       [ 1.        ,  0.32099527, -0.14512101, -0.04658316]])"
      ]
     },
     "execution_count": 111,
     "metadata": {},
     "output_type": "execute_result"
    }
   ],
   "source": [
    "PolynomialFeatures(degree=2, interaction_only=True).fit_transform( X_train )[:5, :]"
   ]
  },
  {
   "cell_type": "markdown",
   "id": "36484ba2",
   "metadata": {},
   "source": [
    "Let's remove the INTERCEPT or BIAS column by setting `include_bias=False`. The result only consists of the FEATURES!"
   ]
  },
  {
   "cell_type": "code",
   "execution_count": 112,
   "id": "504b0b36",
   "metadata": {},
   "outputs": [
    {
     "data": {
      "text/plain": [
       "array([[ 1.024252  , -0.65062286, -0.66640177],\n",
       "       [-1.73367102,  0.99390354, -1.72310177],\n",
       "       [-0.08929361,  0.2518047 , -0.02248455],\n",
       "       [-1.09374794,  1.35654252, -1.48371558],\n",
       "       [ 0.32099527, -0.14512101, -0.04658316]])"
      ]
     },
     "execution_count": 112,
     "metadata": {},
     "output_type": "execute_result"
    }
   ],
   "source": [
    "PolynomialFeatures(degree=2, interaction_only=True, include_bias=False).fit_transform( X_train )[:5, :]"
   ]
  },
  {
   "cell_type": "markdown",
   "id": "cad0ba6c",
   "metadata": {},
   "source": [
    "Let's now return to including the POLYNOMIALS with the MAIN EFFECTS and INTERACTION. There are 5 columns because we have the LINEAR MAIN EFFECTS for both inputs, the QUADRATIC FEATURES for both inputs, and the INTERACTION between them. Thus, `PolynomialFeatures()` creates all 5 features associated with 2nd degree polynomials!"
   ]
  },
  {
   "cell_type": "code",
   "execution_count": 113,
   "id": "980012ca",
   "metadata": {},
   "outputs": [
    {
     "data": {
      "text/plain": [
       "array([[ 1.024252  , -0.65062286,  1.04909217, -0.66640177,  0.42331011],\n",
       "       [-1.73367102,  0.99390354,  3.00561521, -1.72310177,  0.98784425],\n",
       "       [-0.08929361,  0.2518047 ,  0.00797335, -0.02248455,  0.06340561],\n",
       "       [-1.09374794,  1.35654252,  1.19628455, -1.48371558,  1.84020762],\n",
       "       [ 0.32099527, -0.14512101,  0.10303796, -0.04658316,  0.02106011]])"
      ]
     },
     "execution_count": 113,
     "metadata": {},
     "output_type": "execute_result"
    }
   ],
   "source": [
    "PolynomialFeatures(degree=2, include_bias=False).fit_transform( X_train )[:5, :]"
   ]
  },
  {
   "cell_type": "markdown",
   "id": "802b5c8e",
   "metadata": {},
   "source": [
    "The \"complex\" formula we used for our model involves each of the features generated by `PolynomialFeatures()`. However, we also interacted the quadratic features with the linear main effects and with each other! The coefficient estimates with their names are displayed below as a reminder."
   ]
  },
  {
   "cell_type": "code",
   "execution_count": 114,
   "id": "441dfb04",
   "metadata": {},
   "outputs": [
    {
     "data": {
      "text/plain": [
       "Intercept                          0.048390\n",
       "x1                                 1.355946\n",
       "np.power(x1, 2)                   -0.287992\n",
       "x2                                -0.030340\n",
       "np.power(x2, 2)                   -0.061388\n",
       "x1:x2                             -0.229695\n",
       "x1:np.power(x2, 2)                 0.641887\n",
       "np.power(x1, 2):x2                -0.229303\n",
       "np.power(x1, 2):np.power(x2, 2)    0.458874\n",
       "dtype: float64"
      ]
     },
     "execution_count": 114,
     "metadata": {},
     "output_type": "execute_result"
    }
   ],
   "source": [
    "fit_stats.params"
   ]
  },
  {
   "cell_type": "markdown",
   "id": "d0a71bf1",
   "metadata": {},
   "source": [
    "Creating these specific features together via `PolynomialFeatures()` is very challenging. We can generate all of those features but only if features we did not include in the formula are also present. The `PolynomialFeatures()` function will generate all features up to and including 4th degree polynomials by specifying `degree=4`. However, as shown below this produces many features!"
   ]
  },
  {
   "cell_type": "code",
   "execution_count": 115,
   "id": "139154a2",
   "metadata": {},
   "outputs": [
    {
     "data": {
      "text/plain": [
       "(35, 14)"
      ]
     },
     "execution_count": 115,
     "metadata": {},
     "output_type": "execute_result"
    }
   ],
   "source": [
    "PolynomialFeatures(degree=4, include_bias=False).fit_transform( X_train ).shape"
   ]
  },
  {
   "cell_type": "markdown",
   "id": "07f547ca",
   "metadata": {},
   "source": [
    "This model involves 14 features even though there are just 2 inputs! This model therefore involves estimating 15 coefficients (one for each feature plus the intercept). The number of regression coefficients that must be estimated is nearly equal to HALF the training data! This is a very complex model! \n",
    "\n",
    "We can fit such a model since there are still more data points than unknowns."
   ]
  },
  {
   "cell_type": "code",
   "execution_count": 116,
   "id": "a0defcf8",
   "metadata": {},
   "outputs": [],
   "source": [
    "X_very_complex = PolynomialFeatures(degree=4, include_bias=False).fit_transform( X_train )"
   ]
  },
  {
   "cell_type": "code",
   "execution_count": 117,
   "id": "91011603",
   "metadata": {},
   "outputs": [],
   "source": [
    "fit_very_complex_sk = LinearRegression(fit_intercept=True).fit( X_very_complex, y_train )"
   ]
  },
  {
   "cell_type": "markdown",
   "id": "8957ca64",
   "metadata": {},
   "source": [
    "All coefficients are estimated."
   ]
  },
  {
   "cell_type": "code",
   "execution_count": 118,
   "id": "6ca65a1c",
   "metadata": {},
   "outputs": [
    {
     "data": {
      "text/plain": [
       "0.09591624306582977"
      ]
     },
     "execution_count": 118,
     "metadata": {},
     "output_type": "execute_result"
    }
   ],
   "source": [
    "fit_very_complex_sk.intercept_"
   ]
  },
  {
   "cell_type": "code",
   "execution_count": 119,
   "id": "aeee50c4",
   "metadata": {},
   "outputs": [
    {
     "data": {
      "text/plain": [
       "array([ 0.87812526,  0.25690528,  0.04969575, -0.30546506, -0.51409257,\n",
       "        0.25433278, -0.22137715,  0.68557457, -0.14928366, -0.13542088,\n",
       "       -0.01017214,  0.4918648 ,  0.02309851,  0.11368033])"
      ]
     },
     "execution_count": 119,
     "metadata": {},
     "output_type": "execute_result"
    }
   ],
   "source": [
    "fit_very_complex_sk.coef_"
   ]
  },
  {
   "cell_type": "markdown",
   "id": "238c93cf",
   "metadata": {},
   "source": [
    "The training set R-squared appears to be quite high."
   ]
  },
  {
   "cell_type": "code",
   "execution_count": 120,
   "id": "e1211a4e",
   "metadata": {},
   "outputs": [
    {
     "data": {
      "text/plain": [
       "0.9343239898655243"
      ]
     },
     "execution_count": 120,
     "metadata": {},
     "output_type": "execute_result"
    }
   ],
   "source": [
    "fit_very_complex_sk.score( X_very_complex, y_train )"
   ]
  },
  {
   "cell_type": "markdown",
   "id": "6df47682",
   "metadata": {},
   "source": [
    "But, let's TUNE a LASSO model to see if ALL features are truly necessary! We will define a NEW workflow which generates the polynomials features as part of the PIPELINE! This way we do NOT need to keep creating the FEATURE array using either `dmatrices()` or the `PolynomialFeatures()` function! The features are generated from the INPUTS as part of the model!\n",
    "\n",
    "This new workflow will involve 4 steps. The first step standardizes the inputs, the second step generates the polynomial features, the third step standardizes those features, and the last step fits the lasso model."
   ]
  },
  {
   "cell_type": "code",
   "execution_count": 121,
   "id": "32dac116",
   "metadata": {},
   "outputs": [],
   "source": [
    "lasso_4th_wflow = Pipeline( steps=[('std_inputs', StandardScaler()), \n",
    "                                   ('make_poly', PolynomialFeatures(degree=4, include_bias=False)), \n",
    "                                   ('std_features', StandardScaler()), \n",
    "                                   ('lasso', lasso_to_fit)])"
   ]
  },
  {
   "cell_type": "code",
   "execution_count": 122,
   "id": "c009d1ab",
   "metadata": {},
   "outputs": [
    {
     "data": {
      "text/html": [
       "<style>#sk-container-id-3 {color: black;background-color: white;}#sk-container-id-3 pre{padding: 0;}#sk-container-id-3 div.sk-toggleable {background-color: white;}#sk-container-id-3 label.sk-toggleable__label {cursor: pointer;display: block;width: 100%;margin-bottom: 0;padding: 0.3em;box-sizing: border-box;text-align: center;}#sk-container-id-3 label.sk-toggleable__label-arrow:before {content: \"▸\";float: left;margin-right: 0.25em;color: #696969;}#sk-container-id-3 label.sk-toggleable__label-arrow:hover:before {color: black;}#sk-container-id-3 div.sk-estimator:hover label.sk-toggleable__label-arrow:before {color: black;}#sk-container-id-3 div.sk-toggleable__content {max-height: 0;max-width: 0;overflow: hidden;text-align: left;background-color: #f0f8ff;}#sk-container-id-3 div.sk-toggleable__content pre {margin: 0.2em;color: black;border-radius: 0.25em;background-color: #f0f8ff;}#sk-container-id-3 input.sk-toggleable__control:checked~div.sk-toggleable__content {max-height: 200px;max-width: 100%;overflow: auto;}#sk-container-id-3 input.sk-toggleable__control:checked~label.sk-toggleable__label-arrow:before {content: \"▾\";}#sk-container-id-3 div.sk-estimator input.sk-toggleable__control:checked~label.sk-toggleable__label {background-color: #d4ebff;}#sk-container-id-3 div.sk-label input.sk-toggleable__control:checked~label.sk-toggleable__label {background-color: #d4ebff;}#sk-container-id-3 input.sk-hidden--visually {border: 0;clip: rect(1px 1px 1px 1px);clip: rect(1px, 1px, 1px, 1px);height: 1px;margin: -1px;overflow: hidden;padding: 0;position: absolute;width: 1px;}#sk-container-id-3 div.sk-estimator {font-family: monospace;background-color: #f0f8ff;border: 1px dotted black;border-radius: 0.25em;box-sizing: border-box;margin-bottom: 0.5em;}#sk-container-id-3 div.sk-estimator:hover {background-color: #d4ebff;}#sk-container-id-3 div.sk-parallel-item::after {content: \"\";width: 100%;border-bottom: 1px solid gray;flex-grow: 1;}#sk-container-id-3 div.sk-label:hover label.sk-toggleable__label {background-color: #d4ebff;}#sk-container-id-3 div.sk-serial::before {content: \"\";position: absolute;border-left: 1px solid gray;box-sizing: border-box;top: 0;bottom: 0;left: 50%;z-index: 0;}#sk-container-id-3 div.sk-serial {display: flex;flex-direction: column;align-items: center;background-color: white;padding-right: 0.2em;padding-left: 0.2em;position: relative;}#sk-container-id-3 div.sk-item {position: relative;z-index: 1;}#sk-container-id-3 div.sk-parallel {display: flex;align-items: stretch;justify-content: center;background-color: white;position: relative;}#sk-container-id-3 div.sk-item::before, #sk-container-id-3 div.sk-parallel-item::before {content: \"\";position: absolute;border-left: 1px solid gray;box-sizing: border-box;top: 0;bottom: 0;left: 50%;z-index: -1;}#sk-container-id-3 div.sk-parallel-item {display: flex;flex-direction: column;z-index: 1;position: relative;background-color: white;}#sk-container-id-3 div.sk-parallel-item:first-child::after {align-self: flex-end;width: 50%;}#sk-container-id-3 div.sk-parallel-item:last-child::after {align-self: flex-start;width: 50%;}#sk-container-id-3 div.sk-parallel-item:only-child::after {width: 0;}#sk-container-id-3 div.sk-dashed-wrapped {border: 1px dashed gray;margin: 0 0.4em 0.5em 0.4em;box-sizing: border-box;padding-bottom: 0.4em;background-color: white;}#sk-container-id-3 div.sk-label label {font-family: monospace;font-weight: bold;display: inline-block;line-height: 1.2em;}#sk-container-id-3 div.sk-label-container {text-align: center;}#sk-container-id-3 div.sk-container {/* jupyter's `normalize.less` sets `[hidden] { display: none; }` but bootstrap.min.css set `[hidden] { display: none !important; }` so we also need the `!important` here to be able to override the default hidden behavior on the sphinx rendered scikit-learn.org. See: https://github.com/scikit-learn/scikit-learn/issues/21755 */display: inline-block !important;position: relative;}#sk-container-id-3 div.sk-text-repr-fallback {display: none;}</style><div id=\"sk-container-id-3\" class=\"sk-top-container\"><div class=\"sk-text-repr-fallback\"><pre>Pipeline(steps=[(&#x27;std_inputs&#x27;, StandardScaler()),\n",
       "                (&#x27;make_poly&#x27;, PolynomialFeatures(degree=4, include_bias=False)),\n",
       "                (&#x27;std_features&#x27;, StandardScaler()),\n",
       "                (&#x27;lasso&#x27;, Lasso(max_iter=25001))])</pre><b>In a Jupyter environment, please rerun this cell to show the HTML representation or trust the notebook. <br />On GitHub, the HTML representation is unable to render, please try loading this page with nbviewer.org.</b></div><div class=\"sk-container\" hidden><div class=\"sk-item sk-dashed-wrapped\"><div class=\"sk-label-container\"><div class=\"sk-label sk-toggleable\"><input class=\"sk-toggleable__control sk-hidden--visually\" id=\"sk-estimator-id-5\" type=\"checkbox\" ><label for=\"sk-estimator-id-5\" class=\"sk-toggleable__label sk-toggleable__label-arrow\">Pipeline</label><div class=\"sk-toggleable__content\"><pre>Pipeline(steps=[(&#x27;std_inputs&#x27;, StandardScaler()),\n",
       "                (&#x27;make_poly&#x27;, PolynomialFeatures(degree=4, include_bias=False)),\n",
       "                (&#x27;std_features&#x27;, StandardScaler()),\n",
       "                (&#x27;lasso&#x27;, Lasso(max_iter=25001))])</pre></div></div></div><div class=\"sk-serial\"><div class=\"sk-item\"><div class=\"sk-estimator sk-toggleable\"><input class=\"sk-toggleable__control sk-hidden--visually\" id=\"sk-estimator-id-6\" type=\"checkbox\" ><label for=\"sk-estimator-id-6\" class=\"sk-toggleable__label sk-toggleable__label-arrow\">StandardScaler</label><div class=\"sk-toggleable__content\"><pre>StandardScaler()</pre></div></div></div><div class=\"sk-item\"><div class=\"sk-estimator sk-toggleable\"><input class=\"sk-toggleable__control sk-hidden--visually\" id=\"sk-estimator-id-7\" type=\"checkbox\" ><label for=\"sk-estimator-id-7\" class=\"sk-toggleable__label sk-toggleable__label-arrow\">PolynomialFeatures</label><div class=\"sk-toggleable__content\"><pre>PolynomialFeatures(degree=4, include_bias=False)</pre></div></div></div><div class=\"sk-item\"><div class=\"sk-estimator sk-toggleable\"><input class=\"sk-toggleable__control sk-hidden--visually\" id=\"sk-estimator-id-8\" type=\"checkbox\" ><label for=\"sk-estimator-id-8\" class=\"sk-toggleable__label sk-toggleable__label-arrow\">StandardScaler</label><div class=\"sk-toggleable__content\"><pre>StandardScaler()</pre></div></div></div><div class=\"sk-item\"><div class=\"sk-estimator sk-toggleable\"><input class=\"sk-toggleable__control sk-hidden--visually\" id=\"sk-estimator-id-9\" type=\"checkbox\" ><label for=\"sk-estimator-id-9\" class=\"sk-toggleable__label sk-toggleable__label-arrow\">Lasso</label><div class=\"sk-toggleable__content\"><pre>Lasso(max_iter=25001)</pre></div></div></div></div></div></div></div>"
      ],
      "text/plain": [
       "Pipeline(steps=[('std_inputs', StandardScaler()),\n",
       "                ('make_poly', PolynomialFeatures(degree=4, include_bias=False)),\n",
       "                ('std_features', StandardScaler()),\n",
       "                ('lasso', Lasso(max_iter=25001))])"
      ]
     },
     "execution_count": 122,
     "metadata": {},
     "output_type": "execute_result"
    }
   ],
   "source": [
    "lasso_4th_wflow"
   ]
  },
  {
   "cell_type": "markdown",
   "id": "5a5bf511",
   "metadata": {},
   "source": [
    "Let's use the same `alpha` grid and cross-validation scheme as before."
   ]
  },
  {
   "cell_type": "code",
   "execution_count": 123,
   "id": "c497f3b3",
   "metadata": {},
   "outputs": [],
   "source": [
    "lasso_4th_search = GridSearchCV( lasso_4th_wflow, param_grid=lasso_grid, cv=kf, scoring='neg_root_mean_squared_error' )"
   ]
  },
  {
   "cell_type": "markdown",
   "id": "3bda4621",
   "metadata": {},
   "source": [
    "We can now execute the cross-validation! However, we do NOT need to provide `X_very_complex` to fit the model! The features are generated as part of the model! Therefore, we only need to provide the INPUTS array!"
   ]
  },
  {
   "cell_type": "code",
   "execution_count": 124,
   "id": "74f96d82",
   "metadata": {},
   "outputs": [],
   "source": [
    "lasso_4th_search_results = lasso_4th_search.fit( X_train, y_train )"
   ]
  },
  {
   "cell_type": "code",
   "execution_count": 125,
   "id": "753492de",
   "metadata": {},
   "outputs": [
    {
     "data": {
      "text/plain": [
       "{'lasso__alpha': 0.1826835240527347}"
      ]
     },
     "execution_count": 125,
     "metadata": {},
     "output_type": "execute_result"
    }
   ],
   "source": [
    "lasso_4th_search_results.best_params_"
   ]
  },
  {
   "cell_type": "code",
   "execution_count": 126,
   "id": "222c0911",
   "metadata": {},
   "outputs": [
    {
     "data": {
      "text/plain": [
       "-0.8285294753063004"
      ]
     },
     "execution_count": 126,
     "metadata": {},
     "output_type": "execute_result"
    }
   ],
   "source": [
    "lasso_4th_search_results.best_score_"
   ]
  },
  {
   "cell_type": "markdown",
   "id": "e5bd5ce0",
   "metadata": {},
   "source": [
    "The intercept associated with this tuned `alpha` is below."
   ]
  },
  {
   "cell_type": "code",
   "execution_count": 127,
   "id": "ac4a5211",
   "metadata": {},
   "outputs": [
    {
     "data": {
      "text/plain": [
       "-0.09086687115588199"
      ]
     },
     "execution_count": 127,
     "metadata": {},
     "output_type": "execute_result"
    }
   ],
   "source": [
    "lasso_4th_search_results.best_estimator_.named_steps['lasso'].intercept_"
   ]
  },
  {
   "cell_type": "markdown",
   "id": "07045a3e",
   "metadata": {},
   "source": [
    "But, what really matters are the coefficient estimates associated with the tuned `alpha`. As shown below, most of the coefficients are ZERO! Therefore, LASSO has turned MOST of the features OFF!"
   ]
  },
  {
   "cell_type": "code",
   "execution_count": 128,
   "id": "2ad0e1c2",
   "metadata": {},
   "outputs": [
    {
     "data": {
      "text/plain": [
       "array([ 1.06095643,  0.        ,  0.        ,  0.        , -0.        ,\n",
       "        0.53511252,  0.        ,  0.12225403,  0.        ,  0.        ,\n",
       "        0.01587903,  0.        ,  0.        , -0.        ])"
      ]
     },
     "execution_count": 128,
     "metadata": {},
     "output_type": "execute_result"
    }
   ],
   "source": [
    "lasso_4th_search_results.best_estimator_.named_steps['lasso'].coef_"
   ]
  },
  {
   "cell_type": "markdown",
   "id": "78c681aa",
   "metadata": {},
   "source": [
    "What does this model look like? Let's find out by making predictions! We do NOT need to generate the features from the inputs because the features are created by the PIPELINE. Therefore, we only need to convert the `input_grid_1` DataFrame to a NumPy array when making predictions!"
   ]
  },
  {
   "cell_type": "code",
   "execution_count": 129,
   "id": "898c9a63",
   "metadata": {},
   "outputs": [],
   "source": [
    "dfviz_1['pred_lasso_4th_tune'] = lasso_4th_search_results.predict( input_grid_1.to_numpy() )"
   ]
  },
  {
   "cell_type": "code",
   "execution_count": 130,
   "id": "4e92162c",
   "metadata": {},
   "outputs": [
    {
     "data": {
      "text/html": [
       "<div>\n",
       "<style scoped>\n",
       "    .dataframe tbody tr th:only-of-type {\n",
       "        vertical-align: middle;\n",
       "    }\n",
       "\n",
       "    .dataframe tbody tr th {\n",
       "        vertical-align: top;\n",
       "    }\n",
       "\n",
       "    .dataframe thead th {\n",
       "        text-align: right;\n",
       "    }\n",
       "</style>\n",
       "<table border=\"1\" class=\"dataframe\">\n",
       "  <thead>\n",
       "    <tr style=\"text-align: right;\">\n",
       "      <th></th>\n",
       "      <th>x1</th>\n",
       "      <th>x2</th>\n",
       "      <th>pred_lasso_tune</th>\n",
       "      <th>pred_complex</th>\n",
       "      <th>pred_lasso_4th_tune</th>\n",
       "    </tr>\n",
       "  </thead>\n",
       "  <tbody>\n",
       "    <tr>\n",
       "      <th>0</th>\n",
       "      <td>-1.733671</td>\n",
       "      <td>-1.813330</td>\n",
       "      <td>-3.186044</td>\n",
       "      <td>-1.911260</td>\n",
       "      <td>-3.844108</td>\n",
       "    </tr>\n",
       "    <tr>\n",
       "      <th>1</th>\n",
       "      <td>-1.733671</td>\n",
       "      <td>-1.269344</td>\n",
       "      <td>-2.982954</td>\n",
       "      <td>-2.429809</td>\n",
       "      <td>-3.599911</td>\n",
       "    </tr>\n",
       "    <tr>\n",
       "      <th>2</th>\n",
       "      <td>-1.733671</td>\n",
       "      <td>-0.725357</td>\n",
       "      <td>-2.851541</td>\n",
       "      <td>-2.827037</td>\n",
       "      <td>-3.436202</td>\n",
       "    </tr>\n",
       "    <tr>\n",
       "      <th>3</th>\n",
       "      <td>-1.733671</td>\n",
       "      <td>-0.181371</td>\n",
       "      <td>-2.791805</td>\n",
       "      <td>-3.102943</td>\n",
       "      <td>-3.352981</td>\n",
       "    </tr>\n",
       "    <tr>\n",
       "      <th>4</th>\n",
       "      <td>-1.733671</td>\n",
       "      <td>0.362615</td>\n",
       "      <td>-2.803746</td>\n",
       "      <td>-3.257528</td>\n",
       "      <td>-3.350248</td>\n",
       "    </tr>\n",
       "    <tr>\n",
       "      <th>...</th>\n",
       "      <td>...</td>\n",
       "      <td>...</td>\n",
       "      <td>...</td>\n",
       "      <td>...</td>\n",
       "      <td>...</td>\n",
       "    </tr>\n",
       "    <tr>\n",
       "      <th>904</th>\n",
       "      <td>1.822354</td>\n",
       "      <td>0.362615</td>\n",
       "      <td>2.752595</td>\n",
       "      <td>1.470184</td>\n",
       "      <td>3.497955</td>\n",
       "    </tr>\n",
       "    <tr>\n",
       "      <th>905</th>\n",
       "      <td>1.822354</td>\n",
       "      <td>0.906601</td>\n",
       "      <td>3.431635</td>\n",
       "      <td>2.629134</td>\n",
       "      <td>3.582006</td>\n",
       "    </tr>\n",
       "    <tr>\n",
       "      <th>906</th>\n",
       "      <td>1.822354</td>\n",
       "      <td>1.450587</td>\n",
       "      <td>4.692748</td>\n",
       "      <td>5.345968</td>\n",
       "      <td>3.750662</td>\n",
       "    </tr>\n",
       "    <tr>\n",
       "      <th>907</th>\n",
       "      <td>1.822354</td>\n",
       "      <td>1.994573</td>\n",
       "      <td>6.535936</td>\n",
       "      <td>9.620687</td>\n",
       "      <td>4.003922</td>\n",
       "    </tr>\n",
       "    <tr>\n",
       "      <th>908</th>\n",
       "      <td>1.822354</td>\n",
       "      <td>2.538560</td>\n",
       "      <td>8.961196</td>\n",
       "      <td>15.453291</td>\n",
       "      <td>4.341786</td>\n",
       "    </tr>\n",
       "  </tbody>\n",
       "</table>\n",
       "<p>909 rows × 5 columns</p>\n",
       "</div>"
      ],
      "text/plain": [
       "           x1        x2  pred_lasso_tune  pred_complex  pred_lasso_4th_tune\n",
       "0   -1.733671 -1.813330        -3.186044     -1.911260            -3.844108\n",
       "1   -1.733671 -1.269344        -2.982954     -2.429809            -3.599911\n",
       "2   -1.733671 -0.725357        -2.851541     -2.827037            -3.436202\n",
       "3   -1.733671 -0.181371        -2.791805     -3.102943            -3.352981\n",
       "4   -1.733671  0.362615        -2.803746     -3.257528            -3.350248\n",
       "..        ...       ...              ...           ...                  ...\n",
       "904  1.822354  0.362615         2.752595      1.470184             3.497955\n",
       "905  1.822354  0.906601         3.431635      2.629134             3.582006\n",
       "906  1.822354  1.450587         4.692748      5.345968             3.750662\n",
       "907  1.822354  1.994573         6.535936      9.620687             4.003922\n",
       "908  1.822354  2.538560         8.961196     15.453291             4.341786\n",
       "\n",
       "[909 rows x 5 columns]"
      ]
     },
     "execution_count": 130,
     "metadata": {},
     "output_type": "execute_result"
    }
   ],
   "source": [
    "dfviz_1"
   ]
  },
  {
   "cell_type": "code",
   "execution_count": 131,
   "id": "7cf0a273",
   "metadata": {},
   "outputs": [
    {
     "data": {
      "image/png": "[encoded data removed]",
      "text/plain": [
       "<Figure size 1583.75x500 with 3 Axes>"
      ]
     },
     "metadata": {},
     "output_type": "display_data"
    }
   ],
   "source": [
    "sns.relplot(data = dfviz_1.reset_index().rename(columns={'index':'rowid'}).melt(id_vars=['rowid', 'x1', 'x2']), \n",
    "            x='x1', y='value', col='variable',\n",
    "            kind='line',\n",
    "            hue='x2', estimator=None, units='x2',\n",
    "            palette='coolwarm')\n",
    "\n",
    "plt.show()"
   ]
  },
  {
   "cell_type": "markdown",
   "id": "84bbf249",
   "metadata": {},
   "source": [
    "The tuned lasso penalty applied to the VERY COMPLEX set of polynomial features produced a model that actually looks more linear than the previous lasso model! This last model included even more polynomials and thus would NOT look like this WITHOUT the tuned LASSO penalty!\n",
    "\n",
    "## Summary\n",
    "\n",
    "This notebook demonstrated the basic syntax for fitting and tuning REGULARIZED regression models. In concluded by showing how to generate polynomial features as part of the modeling PIPELINE."
   ]
  },
  {
   "cell_type": "code",
   "execution_count": null,
   "id": "64426abb",
   "metadata": {},
   "outputs": [],
   "source": []
  }
 ],
 "metadata": {
  "kernelspec": {
   "display_name": "Python 3 (ipykernel)",
   "language": "python",
   "name": "python3"
  },
  "language_info": {
   "codemirror_mode": {
    "name": "ipython",
    "version": 3
   },
   "file_extension": ".py",
   "mimetype": "text/x-python",
   "name": "python",
   "nbconvert_exporter": "python",
   "pygments_lexer": "ipython3",
   "version": "3.8.17"
  }
 },
 "nbformat": 4,
 "nbformat_minor": 5
}
