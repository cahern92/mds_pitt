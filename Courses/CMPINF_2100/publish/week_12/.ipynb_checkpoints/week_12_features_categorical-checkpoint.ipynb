{
 "cells": [
  {
   "cell_type": "markdown",
   "id": "837b94e5-101f-4d94-b4dd-3f0ab2b971a9",
   "metadata": {},
   "source": [
    "## CMPINF 2100 Week 12\n",
    "### Working with CATEGORICAL or NON-NUMERIC Inputs\n",
    "You will learn how FEATURES are generated to allow NON-NUMERIC values to be used in LINEAR MODELS!!!\n",
    "\n",
    "We need these new types of features because ULTIMATELY linear models require MULTIPLYING SLOPES with NUMERIC INPUTS!!!\n",
    "\n",
    "The models cannot handle non-numeric input values by themselves!!!\n",
    "## Import Modules"
   ]
  },
  {
   "cell_type": "code",
   "execution_count": 1,
   "id": "8ffb6b14-ce56-44ea-a4ca-3aadb47a9b0c",
   "metadata": {},
   "outputs": [],
   "source": [
    "import numpy as np\n",
    "import pandas as pd\n",
    "import matplotlib.pyplot as plt\n",
    "\n",
    "import seaborn as sns"
   ]
  },
  {
   "cell_type": "code",
   "execution_count": 2,
   "id": "c653073a-2356-4dbf-a5af-98570db73bce",
   "metadata": {},
   "outputs": [],
   "source": [
    "import statsmodels.formula.api as smf\n",
    "import statsmodels.api as sm"
   ]
  },
  {
   "cell_type": "markdown",
   "id": "3b3b8486-0897-4cf0-97f5-45bd1ccae531",
   "metadata": {},
   "source": [
    "## Read data"
   ]
  },
  {
   "cell_type": "code",
   "execution_count": 3,
   "id": "b4feabb9-bbdd-49a5-8077-999d34a4bf91",
   "metadata": {},
   "outputs": [],
   "source": [
    "df = pd.read_csv(\"week_11_categorical_input.csv\")"
   ]
  },
  {
   "cell_type": "code",
   "execution_count": 4,
   "id": "5f2cfd7d-2e50-4e73-83d9-a4a631aa7d87",
   "metadata": {},
   "outputs": [
    {
     "name": "stdout",
     "output_type": "stream",
     "text": [
      "<class 'pandas.core.frame.DataFrame'>\n",
      "RangeIndex: 155 entries, 0 to 154\n",
      "Data columns (total 2 columns):\n",
      " #   Column  Non-Null Count  Dtype  \n",
      "---  ------  --------------  -----  \n",
      " 0   x       155 non-null    object \n",
      " 1   y       155 non-null    float64\n",
      "dtypes: float64(1), object(1)\n",
      "memory usage: 2.5+ KB\n"
     ]
    }
   ],
   "source": [
    "df.info()"
   ]
  },
  {
   "cell_type": "code",
   "execution_count": 5,
   "id": "4be30672-fba0-4f83-9b0a-4136524ace52",
   "metadata": {},
   "outputs": [
    {
     "data": {
      "text/html": [
       "<div>\n",
       "<style scoped>\n",
       "    .dataframe tbody tr th:only-of-type {\n",
       "        vertical-align: middle;\n",
       "    }\n",
       "\n",
       "    .dataframe tbody tr th {\n",
       "        vertical-align: top;\n",
       "    }\n",
       "\n",
       "    .dataframe thead th {\n",
       "        text-align: right;\n",
       "    }\n",
       "</style>\n",
       "<table border=\"1\" class=\"dataframe\">\n",
       "  <thead>\n",
       "    <tr style=\"text-align: right;\">\n",
       "      <th></th>\n",
       "      <th>x</th>\n",
       "      <th>y</th>\n",
       "    </tr>\n",
       "  </thead>\n",
       "  <tbody>\n",
       "    <tr>\n",
       "      <th>0</th>\n",
       "      <td>A</td>\n",
       "      <td>103.324129</td>\n",
       "    </tr>\n",
       "    <tr>\n",
       "      <th>1</th>\n",
       "      <td>G</td>\n",
       "      <td>96.530846</td>\n",
       "    </tr>\n",
       "    <tr>\n",
       "      <th>2</th>\n",
       "      <td>D</td>\n",
       "      <td>95.772873</td>\n",
       "    </tr>\n",
       "    <tr>\n",
       "      <th>3</th>\n",
       "      <td>C</td>\n",
       "      <td>100.190541</td>\n",
       "    </tr>\n",
       "    <tr>\n",
       "      <th>4</th>\n",
       "      <td>J</td>\n",
       "      <td>129.608242</td>\n",
       "    </tr>\n",
       "    <tr>\n",
       "      <th>...</th>\n",
       "      <td>...</td>\n",
       "      <td>...</td>\n",
       "    </tr>\n",
       "    <tr>\n",
       "      <th>150</th>\n",
       "      <td>B</td>\n",
       "      <td>92.286905</td>\n",
       "    </tr>\n",
       "    <tr>\n",
       "      <th>151</th>\n",
       "      <td>I</td>\n",
       "      <td>74.533121</td>\n",
       "    </tr>\n",
       "    <tr>\n",
       "      <th>152</th>\n",
       "      <td>F</td>\n",
       "      <td>46.537280</td>\n",
       "    </tr>\n",
       "    <tr>\n",
       "      <th>153</th>\n",
       "      <td>C</td>\n",
       "      <td>83.826336</td>\n",
       "    </tr>\n",
       "    <tr>\n",
       "      <th>154</th>\n",
       "      <td>E</td>\n",
       "      <td>176.863684</td>\n",
       "    </tr>\n",
       "  </tbody>\n",
       "</table>\n",
       "<p>155 rows × 2 columns</p>\n",
       "</div>"
      ],
      "text/plain": [
       "     x           y\n",
       "0    A  103.324129\n",
       "1    G   96.530846\n",
       "2    D   95.772873\n",
       "3    C  100.190541\n",
       "4    J  129.608242\n",
       "..  ..         ...\n",
       "150  B   92.286905\n",
       "151  I   74.533121\n",
       "152  F   46.537280\n",
       "153  C   83.826336\n",
       "154  E  176.863684\n",
       "\n",
       "[155 rows x 2 columns]"
      ]
     },
     "execution_count": 5,
     "metadata": {},
     "output_type": "execute_result"
    }
   ],
   "source": [
    "df"
   ]
  },
  {
   "cell_type": "code",
   "execution_count": 7,
   "id": "f25d3926-5e19-4f70-9530-27b661ee85c8",
   "metadata": {},
   "outputs": [
    {
     "data": {
      "text/plain": [
       "x     10\n",
       "y    155\n",
       "dtype: int64"
      ]
     },
     "execution_count": 7,
     "metadata": {},
     "output_type": "execute_result"
    }
   ],
   "source": [
    "df.nunique()"
   ]
  },
  {
   "cell_type": "code",
   "execution_count": 10,
   "id": "328b7c7f-9008-444a-8e70-2203bf0d086f",
   "metadata": {},
   "outputs": [
    {
     "data": {
      "text/plain": [
       "x\n",
       "J    24\n",
       "C    21\n",
       "I    17\n",
       "D    16\n",
       "E    15\n",
       "H    15\n",
       "A    14\n",
       "B    14\n",
       "F    10\n",
       "G     9\n",
       "Name: count, dtype: int64"
      ]
     },
     "execution_count": 10,
     "metadata": {},
     "output_type": "execute_result"
    }
   ],
   "source": [
    "df.x.value_counts().sort_values(ascending=False)"
   ]
  },
  {
   "cell_type": "markdown",
   "id": "07213454-1ce4-4fd2-9cdb-d4792dfacb14",
   "metadata": {},
   "source": [
    "### Expore data"
   ]
  },
  {
   "cell_type": "code",
   "execution_count": 11,
   "id": "02c35ed4-6b59-430d-b3f4-3d907262bb22",
   "metadata": {},
   "outputs": [
    {
     "name": "stderr",
     "output_type": "stream",
     "text": [
      "/Applications/anaconda3/envs/cmpinf2100/lib/python3.8/site-packages/seaborn/axisgrid.py:123: UserWarning: The figure layout has changed to tight\n",
      "  self._figure.tight_layout(*args, **kwargs)\n"
     ]
    },
    {
     "data": {
      "image/png": "[encoded data removed]",
      "text/plain": [
       "<Figure size 500x500 with 1 Axes>"
      ]
     },
     "metadata": {},
     "output_type": "display_data"
    }
   ],
   "source": [
    "sns.displot(data = df, x=\"y\", kind=\"hist\")\n",
    "\n",
    "plt.show()"
   ]
  },
  {
   "cell_type": "code",
   "execution_count": 13,
   "id": "ba96789f-0c94-4e4c-a8b7-32c70a597468",
   "metadata": {},
   "outputs": [
    {
     "name": "stderr",
     "output_type": "stream",
     "text": [
      "/Applications/anaconda3/envs/cmpinf2100/lib/python3.8/site-packages/seaborn/axisgrid.py:123: UserWarning: The figure layout has changed to tight\n",
      "  self._figure.tight_layout(*args, **kwargs)\n"
     ]
    },
    {
     "data": {
      "image/png": "[encoded data removed]",
      "text/plain": [
       "<Figure size 500x500 with 1 Axes>"
      ]
     },
     "metadata": {},
     "output_type": "display_data"
    }
   ],
   "source": [
    "sns.catplot(data=df, x=\"x\", kind=\"count\", hue=\"x\")\n",
    "\n",
    "plt.show()"
   ]
  },
  {
   "cell_type": "markdown",
   "id": "3d88e442-f34b-405f-963a-d5d1612b3a8e",
   "metadata": {},
   "source": [
    "Categorical to continous relationship. We want to know how the CONTINUPUS OUTPUT relates to the CATEGORICAL INPUT!"
   ]
  },
  {
   "cell_type": "code",
   "execution_count": 19,
   "id": "8c6c6047-35b9-41ac-8afa-b1c0487ed910",
   "metadata": {},
   "outputs": [
    {
     "name": "stderr",
     "output_type": "stream",
     "text": [
      "/Applications/anaconda3/envs/cmpinf2100/lib/python3.8/site-packages/seaborn/axisgrid.py:123: UserWarning: The figure layout has changed to tight\n",
      "  self._figure.tight_layout(*args, **kwargs)\n"
     ]
    },
    {
     "data": {
      "image/png": "[encoded data removed]",
      "text/plain": [
       "<Figure size 500x500 with 1 Axes>"
      ]
     },
     "metadata": {},
     "output_type": "display_data"
    }
   ],
   "source": [
    "sns.catplot(data=df, x=\"x\", y=\"y\", hue=\"x\", kind=\"box\")\n",
    "\n",
    "plt.show()"
   ]
  },
  {
   "cell_type": "markdown",
   "id": "54766598-b424-4293-9f8e-ae262cb75efc",
   "metadata": {},
   "source": [
    "Lets now examine if the AVERAGE OUTPUT is different across the categories of categorical input!!!\n",
    "\n",
    "This is visualized with a POINT PLOT!!"
   ]
  },
  {
   "cell_type": "code",
   "execution_count": 23,
   "id": "8a1b7bcf-04ea-49ea-b619-21d1ab983c41",
   "metadata": {},
   "outputs": [
    {
     "name": "stderr",
     "output_type": "stream",
     "text": [
      "/Applications/anaconda3/envs/cmpinf2100/lib/python3.8/site-packages/seaborn/axisgrid.py:123: UserWarning: The figure layout has changed to tight\n",
      "  self._figure.tight_layout(*args, **kwargs)\n"
     ]
    },
    {
     "data": {
      "image/png": "[encoded data removed]",
      "text/plain": [
       "<Figure size 500x500 with 1 Axes>"
      ]
     },
     "metadata": {},
     "output_type": "display_data"
    }
   ],
   "source": [
    "sns.catplot(data=df, x=\"x\", y=\"y\", hue=\"x\", kind=\"point\", linestyle=None)\n",
    "\n",
    "plt.show()"
   ]
  },
  {
   "cell_type": "markdown",
   "id": "5ccc5cf0-0ab9-455e-94a5-0468a287450d",
   "metadata": {},
   "source": [
    "Why does this matter when we are talking about LINEAR MODELS???\n",
    "\n",
    "We have learned that LINEAR MODLS are fundamentally MODELING the AVERAGE OUTPUT!!!\n",
    "\n",
    "When you have CATEGORICAL INPUTS..the goal of the LINEAR MODEL is to PREDICT the AVERAGE OUTPUT PER CATEGORY!!!\n",
    "\n",
    "But how can it PREDICT a continuous value when the INPUT is CATEGORICAL?????"
   ]
  },
  {
   "cell_type": "code",
   "execution_count": 24,
   "id": "3ac3a98a-ec27-478e-a6f2-af29b17528b9",
   "metadata": {},
   "outputs": [
    {
     "data": {
      "text/html": [
       "<div>\n",
       "<style scoped>\n",
       "    .dataframe tbody tr th:only-of-type {\n",
       "        vertical-align: middle;\n",
       "    }\n",
       "\n",
       "    .dataframe tbody tr th {\n",
       "        vertical-align: top;\n",
       "    }\n",
       "\n",
       "    .dataframe thead th {\n",
       "        text-align: right;\n",
       "    }\n",
       "</style>\n",
       "<table border=\"1\" class=\"dataframe\">\n",
       "  <thead>\n",
       "    <tr style=\"text-align: right;\">\n",
       "      <th></th>\n",
       "      <th>x</th>\n",
       "      <th>y</th>\n",
       "    </tr>\n",
       "  </thead>\n",
       "  <tbody>\n",
       "    <tr>\n",
       "      <th>0</th>\n",
       "      <td>A</td>\n",
       "      <td>103.324129</td>\n",
       "    </tr>\n",
       "    <tr>\n",
       "      <th>1</th>\n",
       "      <td>G</td>\n",
       "      <td>96.530846</td>\n",
       "    </tr>\n",
       "    <tr>\n",
       "      <th>2</th>\n",
       "      <td>D</td>\n",
       "      <td>95.772873</td>\n",
       "    </tr>\n",
       "    <tr>\n",
       "      <th>3</th>\n",
       "      <td>C</td>\n",
       "      <td>100.190541</td>\n",
       "    </tr>\n",
       "    <tr>\n",
       "      <th>4</th>\n",
       "      <td>J</td>\n",
       "      <td>129.608242</td>\n",
       "    </tr>\n",
       "    <tr>\n",
       "      <th>...</th>\n",
       "      <td>...</td>\n",
       "      <td>...</td>\n",
       "    </tr>\n",
       "    <tr>\n",
       "      <th>150</th>\n",
       "      <td>B</td>\n",
       "      <td>92.286905</td>\n",
       "    </tr>\n",
       "    <tr>\n",
       "      <th>151</th>\n",
       "      <td>I</td>\n",
       "      <td>74.533121</td>\n",
       "    </tr>\n",
       "    <tr>\n",
       "      <th>152</th>\n",
       "      <td>F</td>\n",
       "      <td>46.537280</td>\n",
       "    </tr>\n",
       "    <tr>\n",
       "      <th>153</th>\n",
       "      <td>C</td>\n",
       "      <td>83.826336</td>\n",
       "    </tr>\n",
       "    <tr>\n",
       "      <th>154</th>\n",
       "      <td>E</td>\n",
       "      <td>176.863684</td>\n",
       "    </tr>\n",
       "  </tbody>\n",
       "</table>\n",
       "<p>155 rows × 2 columns</p>\n",
       "</div>"
      ],
      "text/plain": [
       "     x           y\n",
       "0    A  103.324129\n",
       "1    G   96.530846\n",
       "2    D   95.772873\n",
       "3    C  100.190541\n",
       "4    J  129.608242\n",
       "..  ..         ...\n",
       "150  B   92.286905\n",
       "151  I   74.533121\n",
       "152  F   46.537280\n",
       "153  C   83.826336\n",
       "154  E  176.863684\n",
       "\n",
       "[155 rows x 2 columns]"
      ]
     },
     "execution_count": 24,
     "metadata": {},
     "output_type": "execute_result"
    }
   ],
   "source": [
    "df"
   ]
  },
  {
   "cell_type": "markdown",
   "id": "a1c5400b-8add-4f7c-b9ae-b1acbf967fb6",
   "metadata": {},
   "source": [
    "## Fit a linear model to find out\n",
    "Fit a linear model that has a LINEAR ADDITIVE relationship between the AVERAGE OUTPUT (trend) and the INPUT!!"
   ]
  },
  {
   "cell_type": "code",
   "execution_count": 26,
   "id": "b6a08e1b-6c56-402b-b5fb-8a88081e323c",
   "metadata": {},
   "outputs": [],
   "source": [
    "fit_a = smf.ols(formula=\"y ~ x\", data=df).fit()"
   ]
  },
  {
   "cell_type": "code",
   "execution_count": 27,
   "id": "78f342b1-58b6-480a-a7b9-44e90e39f478",
   "metadata": {},
   "outputs": [
    {
     "data": {
      "text/html": [
       "<table class=\"simpletable\">\n",
       "<caption>OLS Regression Results</caption>\n",
       "<tr>\n",
       "  <th>Dep. Variable:</th>            <td>y</td>        <th>  R-squared:         </th> <td>   0.722</td>\n",
       "</tr>\n",
       "<tr>\n",
       "  <th>Model:</th>                   <td>OLS</td>       <th>  Adj. R-squared:    </th> <td>   0.705</td>\n",
       "</tr>\n",
       "<tr>\n",
       "  <th>Method:</th>             <td>Least Squares</td>  <th>  F-statistic:       </th> <td>   41.84</td>\n",
       "</tr>\n",
       "<tr>\n",
       "  <th>Date:</th>             <td>Sat, 16 Nov 2024</td> <th>  Prob (F-statistic):</th> <td>4.99e-36</td>\n",
       "</tr>\n",
       "<tr>\n",
       "  <th>Time:</th>                 <td>01:42:08</td>     <th>  Log-Likelihood:    </th> <td> -624.65</td>\n",
       "</tr>\n",
       "<tr>\n",
       "  <th>No. Observations:</th>      <td>   155</td>      <th>  AIC:               </th> <td>   1269.</td>\n",
       "</tr>\n",
       "<tr>\n",
       "  <th>Df Residuals:</th>          <td>   145</td>      <th>  BIC:               </th> <td>   1300.</td>\n",
       "</tr>\n",
       "<tr>\n",
       "  <th>Df Model:</th>              <td>     9</td>      <th>                     </th>     <td> </td>   \n",
       "</tr>\n",
       "<tr>\n",
       "  <th>Covariance Type:</th>      <td>nonrobust</td>    <th>                     </th>     <td> </td>   \n",
       "</tr>\n",
       "</table>\n",
       "<table class=\"simpletable\">\n",
       "<tr>\n",
       "      <td></td>         <th>coef</th>     <th>std err</th>      <th>t</th>      <th>P>|t|</th>  <th>[0.025</th>    <th>0.975]</th>  \n",
       "</tr>\n",
       "<tr>\n",
       "  <th>Intercept</th> <td>   98.7277</td> <td>    3.762</td> <td>   26.246</td> <td> 0.000</td> <td>   91.293</td> <td>  106.162</td>\n",
       "</tr>\n",
       "<tr>\n",
       "  <th>x[T.B]</th>    <td>    4.4743</td> <td>    5.320</td> <td>    0.841</td> <td> 0.402</td> <td>   -6.040</td> <td>   14.989</td>\n",
       "</tr>\n",
       "<tr>\n",
       "  <th>x[T.C]</th>    <td>    3.1757</td> <td>    4.856</td> <td>    0.654</td> <td> 0.514</td> <td>   -6.422</td> <td>   12.774</td>\n",
       "</tr>\n",
       "<tr>\n",
       "  <th>x[T.D]</th>    <td>    1.7951</td> <td>    5.151</td> <td>    0.349</td> <td> 0.728</td> <td>   -8.385</td> <td>   11.976</td>\n",
       "</tr>\n",
       "<tr>\n",
       "  <th>x[T.E]</th>    <td>   54.6541</td> <td>    5.230</td> <td>   10.449</td> <td> 0.000</td> <td>   44.316</td> <td>   64.992</td>\n",
       "</tr>\n",
       "<tr>\n",
       "  <th>x[T.F]</th>    <td>  -44.8060</td> <td>    5.828</td> <td>   -7.689</td> <td> 0.000</td> <td>  -56.324</td> <td>  -33.288</td>\n",
       "</tr>\n",
       "<tr>\n",
       "  <th>x[T.G]</th>    <td>   -1.2160</td> <td>    6.013</td> <td>   -0.202</td> <td> 0.840</td> <td>  -13.101</td> <td>   10.669</td>\n",
       "</tr>\n",
       "<tr>\n",
       "  <th>x[T.H]</th>    <td>    0.3187</td> <td>    5.230</td> <td>    0.061</td> <td> 0.951</td> <td>  -10.019</td> <td>   10.656</td>\n",
       "</tr>\n",
       "<tr>\n",
       "  <th>x[T.I]</th>    <td>  -13.0416</td> <td>    5.080</td> <td>   -2.567</td> <td> 0.011</td> <td>  -23.081</td> <td>   -3.002</td>\n",
       "</tr>\n",
       "<tr>\n",
       "  <th>x[T.J]</th>    <td>   20.8363</td> <td>    4.733</td> <td>    4.402</td> <td> 0.000</td> <td>   11.481</td> <td>   30.191</td>\n",
       "</tr>\n",
       "</table>\n",
       "<table class=\"simpletable\">\n",
       "<tr>\n",
       "  <th>Omnibus:</th>       <td> 3.100</td> <th>  Durbin-Watson:     </th> <td>   1.815</td>\n",
       "</tr>\n",
       "<tr>\n",
       "  <th>Prob(Omnibus):</th> <td> 0.212</td> <th>  Jarque-Bera (JB):  </th> <td>   2.609</td>\n",
       "</tr>\n",
       "<tr>\n",
       "  <th>Skew:</th>          <td>-0.280</td> <th>  Prob(JB):          </th> <td>   0.271</td>\n",
       "</tr>\n",
       "<tr>\n",
       "  <th>Kurtosis:</th>      <td> 3.301</td> <th>  Cond. No.          </th> <td>    11.5</td>\n",
       "</tr>\n",
       "</table><br/><br/>Notes:<br/>[1] Standard Errors assume that the covariance matrix of the errors is correctly specified."
      ],
      "text/latex": [
       "\\begin{center}\n",
       "\\begin{tabular}{lclc}\n",
       "\\toprule\n",
       "\\textbf{Dep. Variable:}    &        y         & \\textbf{  R-squared:         } &     0.722   \\\\\n",
       "\\textbf{Model:}            &       OLS        & \\textbf{  Adj. R-squared:    } &     0.705   \\\\\n",
       "\\textbf{Method:}           &  Least Squares   & \\textbf{  F-statistic:       } &     41.84   \\\\\n",
       "\\textbf{Date:}             & Sat, 16 Nov 2024 & \\textbf{  Prob (F-statistic):} &  4.99e-36   \\\\\n",
       "\\textbf{Time:}             &     01:42:08     & \\textbf{  Log-Likelihood:    } &   -624.65   \\\\\n",
       "\\textbf{No. Observations:} &         155      & \\textbf{  AIC:               } &     1269.   \\\\\n",
       "\\textbf{Df Residuals:}     &         145      & \\textbf{  BIC:               } &     1300.   \\\\\n",
       "\\textbf{Df Model:}         &           9      & \\textbf{                     } &             \\\\\n",
       "\\textbf{Covariance Type:}  &    nonrobust     & \\textbf{                     } &             \\\\\n",
       "\\bottomrule\n",
       "\\end{tabular}\n",
       "\\begin{tabular}{lcccccc}\n",
       "                   & \\textbf{coef} & \\textbf{std err} & \\textbf{t} & \\textbf{P$> |$t$|$} & \\textbf{[0.025} & \\textbf{0.975]}  \\\\\n",
       "\\midrule\n",
       "\\textbf{Intercept} &      98.7277  &        3.762     &    26.246  &         0.000        &       91.293    &      106.162     \\\\\n",
       "\\textbf{x[T.B]}    &       4.4743  &        5.320     &     0.841  &         0.402        &       -6.040    &       14.989     \\\\\n",
       "\\textbf{x[T.C]}    &       3.1757  &        4.856     &     0.654  &         0.514        &       -6.422    &       12.774     \\\\\n",
       "\\textbf{x[T.D]}    &       1.7951  &        5.151     &     0.349  &         0.728        &       -8.385    &       11.976     \\\\\n",
       "\\textbf{x[T.E]}    &      54.6541  &        5.230     &    10.449  &         0.000        &       44.316    &       64.992     \\\\\n",
       "\\textbf{x[T.F]}    &     -44.8060  &        5.828     &    -7.689  &         0.000        &      -56.324    &      -33.288     \\\\\n",
       "\\textbf{x[T.G]}    &      -1.2160  &        6.013     &    -0.202  &         0.840        &      -13.101    &       10.669     \\\\\n",
       "\\textbf{x[T.H]}    &       0.3187  &        5.230     &     0.061  &         0.951        &      -10.019    &       10.656     \\\\\n",
       "\\textbf{x[T.I]}    &     -13.0416  &        5.080     &    -2.567  &         0.011        &      -23.081    &       -3.002     \\\\\n",
       "\\textbf{x[T.J]}    &      20.8363  &        4.733     &     4.402  &         0.000        &       11.481    &       30.191     \\\\\n",
       "\\bottomrule\n",
       "\\end{tabular}\n",
       "\\begin{tabular}{lclc}\n",
       "\\textbf{Omnibus:}       &  3.100 & \\textbf{  Durbin-Watson:     } &    1.815  \\\\\n",
       "\\textbf{Prob(Omnibus):} &  0.212 & \\textbf{  Jarque-Bera (JB):  } &    2.609  \\\\\n",
       "\\textbf{Skew:}          & -0.280 & \\textbf{  Prob(JB):          } &    0.271  \\\\\n",
       "\\textbf{Kurtosis:}      &  3.301 & \\textbf{  Cond. No.          } &     11.5  \\\\\n",
       "\\bottomrule\n",
       "\\end{tabular}\n",
       "%\\caption{OLS Regression Results}\n",
       "\\end{center}\n",
       "\n",
       "Notes: \\newline\n",
       " [1] Standard Errors assume that the covariance matrix of the errors is correctly specified."
      ],
      "text/plain": [
       "<class 'statsmodels.iolib.summary.Summary'>\n",
       "\"\"\"\n",
       "                            OLS Regression Results                            \n",
       "==============================================================================\n",
       "Dep. Variable:                      y   R-squared:                       0.722\n",
       "Model:                            OLS   Adj. R-squared:                  0.705\n",
       "Method:                 Least Squares   F-statistic:                     41.84\n",
       "Date:                Sat, 16 Nov 2024   Prob (F-statistic):           4.99e-36\n",
       "Time:                        01:42:08   Log-Likelihood:                -624.65\n",
       "No. Observations:                 155   AIC:                             1269.\n",
       "Df Residuals:                     145   BIC:                             1300.\n",
       "Df Model:                           9                                         \n",
       "Covariance Type:            nonrobust                                         \n",
       "==============================================================================\n",
       "                 coef    std err          t      P>|t|      [0.025      0.975]\n",
       "------------------------------------------------------------------------------\n",
       "Intercept     98.7277      3.762     26.246      0.000      91.293     106.162\n",
       "x[T.B]         4.4743      5.320      0.841      0.402      -6.040      14.989\n",
       "x[T.C]         3.1757      4.856      0.654      0.514      -6.422      12.774\n",
       "x[T.D]         1.7951      5.151      0.349      0.728      -8.385      11.976\n",
       "x[T.E]        54.6541      5.230     10.449      0.000      44.316      64.992\n",
       "x[T.F]       -44.8060      5.828     -7.689      0.000     -56.324     -33.288\n",
       "x[T.G]        -1.2160      6.013     -0.202      0.840     -13.101      10.669\n",
       "x[T.H]         0.3187      5.230      0.061      0.951     -10.019      10.656\n",
       "x[T.I]       -13.0416      5.080     -2.567      0.011     -23.081      -3.002\n",
       "x[T.J]        20.8363      4.733      4.402      0.000      11.481      30.191\n",
       "==============================================================================\n",
       "Omnibus:                        3.100   Durbin-Watson:                   1.815\n",
       "Prob(Omnibus):                  0.212   Jarque-Bera (JB):                2.609\n",
       "Skew:                          -0.280   Prob(JB):                        0.271\n",
       "Kurtosis:                       3.301   Cond. No.                         11.5\n",
       "==============================================================================\n",
       "\n",
       "Notes:\n",
       "[1] Standard Errors assume that the covariance matrix of the errors is correctly specified.\n",
       "\"\"\""
      ]
     },
     "execution_count": 27,
     "metadata": {},
     "output_type": "execute_result"
    }
   ],
   "source": [
    "fit_a.summary()"
   ]
  },
  {
   "cell_type": "markdown",
   "id": "87c131a3-3d36-4cf0-aa3a-34d1a64ee5e0",
   "metadata": {},
   "source": [
    "But when you have NON-NUMERIC inputs...FEATURES must be DERIVED from the INPUT to allow MULTIPLYING the FEATURE with a SLOPE!!\n",
    "\n",
    "This FEATURE is know as a **DUMMY VARIABLE**\n",
    "\n",
    "The DUMMY is a BINARY INDICTATOR... it is equal to 0 or 1.\n",
    "\n",
    "IF the DUMMY is equal to 1, then the categorical variable EQUALS that category.\n",
    "\n",
    "IF the DUMMY does NOT equal 1 or equals 0, then the categorical variable does NOT equal that category!!\n",
    "\n",
    "How many DUMMY VARIABLES are created??\n",
    "\n",
    "The number of categories MINUS 1!!!"
   ]
  },
  {
   "cell_type": "code",
   "execution_count": 28,
   "id": "f21b14a4-d080-48b7-90c2-0b381fd9377b",
   "metadata": {},
   "outputs": [
    {
     "data": {
      "text/plain": [
       "10"
      ]
     },
     "execution_count": 28,
     "metadata": {},
     "output_type": "execute_result"
    }
   ],
   "source": [
    "df.x.nunique()"
   ]
  },
  {
   "cell_type": "code",
   "execution_count": 29,
   "id": "a232443b-acda-4192-9016-47937c442664",
   "metadata": {},
   "outputs": [
    {
     "data": {
      "text/plain": [
       "9"
      ]
     },
     "execution_count": 29,
     "metadata": {},
     "output_type": "execute_result"
    }
   ],
   "source": [
    "df.x.nunique() - 1"
   ]
  },
  {
   "cell_type": "markdown",
   "id": "4bf9942a-3ea8-457e-81c2-49d24e746b90",
   "metadata": {},
   "source": [
    "### DUMMY VARIABLE slopes"
   ]
  },
  {
   "cell_type": "code",
   "execution_count": 30,
   "id": "3a289ae3-97c1-423f-a6dd-ac8a2f73585c",
   "metadata": {},
   "outputs": [
    {
     "data": {
      "text/plain": [
       "Intercept    98.727693\n",
       "x[T.B]        4.474303\n",
       "x[T.C]        3.175725\n",
       "x[T.D]        1.795108\n",
       "x[T.E]       54.654056\n",
       "x[T.F]      -44.805967\n",
       "x[T.G]       -1.216043\n",
       "x[T.H]        0.318738\n",
       "x[T.I]      -13.041580\n",
       "x[T.J]       20.836328\n",
       "dtype: float64"
      ]
     },
     "execution_count": 30,
     "metadata": {},
     "output_type": "execute_result"
    }
   ],
   "source": [
    "fit_a.params"
   ]
  },
  {
   "cell_type": "markdown",
   "id": "fd837220-5f15-473d-bcb5-b9656e4cf542",
   "metadata": {},
   "source": [
    "Look at the AVERAGE OUTPUT for each CATEGORY."
   ]
  },
  {
   "cell_type": "code",
   "execution_count": 32,
   "id": "b46eaa2f-eb36-47ed-badc-2f47aa28ad2e",
   "metadata": {},
   "outputs": [
    {
     "data": {
      "text/html": [
       "<div>\n",
       "<style scoped>\n",
       "    .dataframe tbody tr th:only-of-type {\n",
       "        vertical-align: middle;\n",
       "    }\n",
       "\n",
       "    .dataframe tbody tr th {\n",
       "        vertical-align: top;\n",
       "    }\n",
       "\n",
       "    .dataframe thead th {\n",
       "        text-align: right;\n",
       "    }\n",
       "</style>\n",
       "<table border=\"1\" class=\"dataframe\">\n",
       "  <thead>\n",
       "    <tr style=\"text-align: right;\">\n",
       "      <th></th>\n",
       "      <th>x</th>\n",
       "      <th>avg_y</th>\n",
       "    </tr>\n",
       "  </thead>\n",
       "  <tbody>\n",
       "    <tr>\n",
       "      <th>0</th>\n",
       "      <td>A</td>\n",
       "      <td>98.727693</td>\n",
       "    </tr>\n",
       "    <tr>\n",
       "      <th>1</th>\n",
       "      <td>B</td>\n",
       "      <td>103.201995</td>\n",
       "    </tr>\n",
       "    <tr>\n",
       "      <th>2</th>\n",
       "      <td>C</td>\n",
       "      <td>101.903418</td>\n",
       "    </tr>\n",
       "    <tr>\n",
       "      <th>3</th>\n",
       "      <td>D</td>\n",
       "      <td>100.522801</td>\n",
       "    </tr>\n",
       "    <tr>\n",
       "      <th>4</th>\n",
       "      <td>E</td>\n",
       "      <td>153.381749</td>\n",
       "    </tr>\n",
       "    <tr>\n",
       "      <th>5</th>\n",
       "      <td>F</td>\n",
       "      <td>53.921726</td>\n",
       "    </tr>\n",
       "    <tr>\n",
       "      <th>6</th>\n",
       "      <td>G</td>\n",
       "      <td>97.511650</td>\n",
       "    </tr>\n",
       "    <tr>\n",
       "      <th>7</th>\n",
       "      <td>H</td>\n",
       "      <td>99.046431</td>\n",
       "    </tr>\n",
       "    <tr>\n",
       "      <th>8</th>\n",
       "      <td>I</td>\n",
       "      <td>85.686113</td>\n",
       "    </tr>\n",
       "    <tr>\n",
       "      <th>9</th>\n",
       "      <td>J</td>\n",
       "      <td>119.564021</td>\n",
       "    </tr>\n",
       "  </tbody>\n",
       "</table>\n",
       "</div>"
      ],
      "text/plain": [
       "   x       avg_y\n",
       "0  A   98.727693\n",
       "1  B  103.201995\n",
       "2  C  101.903418\n",
       "3  D  100.522801\n",
       "4  E  153.381749\n",
       "5  F   53.921726\n",
       "6  G   97.511650\n",
       "7  H   99.046431\n",
       "8  I   85.686113\n",
       "9  J  119.564021"
      ]
     },
     "execution_count": 32,
     "metadata": {},
     "output_type": "execute_result"
    }
   ],
   "source": [
    "df.groupby(\"x\").aggregate(avg_y = (\"y\", \"mean\")).reset_index()"
   ]
  },
  {
   "cell_type": "code",
   "execution_count": 39,
   "id": "0a3bb88e-838d-4f23-bcbf-6e2a2bc95b7d",
   "metadata": {},
   "outputs": [],
   "source": [
    "avg_y_at_xA = df.loc[df.x==\"A\", \"y\"].mean()"
   ]
  },
  {
   "cell_type": "code",
   "execution_count": 40,
   "id": "6ca5a533-ec94-4ca9-b7b9-4fc20dcfc8cc",
   "metadata": {},
   "outputs": [
    {
     "data": {
      "text/plain": [
       "98.72769293463894"
      ]
     },
     "execution_count": 40,
     "metadata": {},
     "output_type": "execute_result"
    }
   ],
   "source": [
    "avg_y_at_xA"
   ]
  },
  {
   "cell_type": "code",
   "execution_count": 47,
   "id": "e6958b6a-258e-469d-8048-5661e62efccf",
   "metadata": {},
   "outputs": [],
   "source": [
    "df_summary = df.groupby(\"x\").aggregate(avg_y = (\"y\", \"mean\")).reset_index()"
   ]
  },
  {
   "cell_type": "code",
   "execution_count": 48,
   "id": "999af628-2207-4e28-b696-14a1d823d1d2",
   "metadata": {},
   "outputs": [],
   "source": [
    "df_summary[\"avg_at_xA\"] = avg_y_at_xA"
   ]
  },
  {
   "cell_type": "code",
   "execution_count": 49,
   "id": "8ccd8646-752a-4f21-a154-b7aa539a4a2d",
   "metadata": {},
   "outputs": [
    {
     "data": {
      "text/html": [
       "<div>\n",
       "<style scoped>\n",
       "    .dataframe tbody tr th:only-of-type {\n",
       "        vertical-align: middle;\n",
       "    }\n",
       "\n",
       "    .dataframe tbody tr th {\n",
       "        vertical-align: top;\n",
       "    }\n",
       "\n",
       "    .dataframe thead th {\n",
       "        text-align: right;\n",
       "    }\n",
       "</style>\n",
       "<table border=\"1\" class=\"dataframe\">\n",
       "  <thead>\n",
       "    <tr style=\"text-align: right;\">\n",
       "      <th></th>\n",
       "      <th>x</th>\n",
       "      <th>avg_y</th>\n",
       "      <th>avg_at_xA</th>\n",
       "    </tr>\n",
       "  </thead>\n",
       "  <tbody>\n",
       "    <tr>\n",
       "      <th>0</th>\n",
       "      <td>A</td>\n",
       "      <td>98.727693</td>\n",
       "      <td>98.727693</td>\n",
       "    </tr>\n",
       "    <tr>\n",
       "      <th>1</th>\n",
       "      <td>B</td>\n",
       "      <td>103.201995</td>\n",
       "      <td>98.727693</td>\n",
       "    </tr>\n",
       "    <tr>\n",
       "      <th>2</th>\n",
       "      <td>C</td>\n",
       "      <td>101.903418</td>\n",
       "      <td>98.727693</td>\n",
       "    </tr>\n",
       "    <tr>\n",
       "      <th>3</th>\n",
       "      <td>D</td>\n",
       "      <td>100.522801</td>\n",
       "      <td>98.727693</td>\n",
       "    </tr>\n",
       "    <tr>\n",
       "      <th>4</th>\n",
       "      <td>E</td>\n",
       "      <td>153.381749</td>\n",
       "      <td>98.727693</td>\n",
       "    </tr>\n",
       "    <tr>\n",
       "      <th>5</th>\n",
       "      <td>F</td>\n",
       "      <td>53.921726</td>\n",
       "      <td>98.727693</td>\n",
       "    </tr>\n",
       "    <tr>\n",
       "      <th>6</th>\n",
       "      <td>G</td>\n",
       "      <td>97.511650</td>\n",
       "      <td>98.727693</td>\n",
       "    </tr>\n",
       "    <tr>\n",
       "      <th>7</th>\n",
       "      <td>H</td>\n",
       "      <td>99.046431</td>\n",
       "      <td>98.727693</td>\n",
       "    </tr>\n",
       "    <tr>\n",
       "      <th>8</th>\n",
       "      <td>I</td>\n",
       "      <td>85.686113</td>\n",
       "      <td>98.727693</td>\n",
       "    </tr>\n",
       "    <tr>\n",
       "      <th>9</th>\n",
       "      <td>J</td>\n",
       "      <td>119.564021</td>\n",
       "      <td>98.727693</td>\n",
       "    </tr>\n",
       "  </tbody>\n",
       "</table>\n",
       "</div>"
      ],
      "text/plain": [
       "   x       avg_y  avg_at_xA\n",
       "0  A   98.727693  98.727693\n",
       "1  B  103.201995  98.727693\n",
       "2  C  101.903418  98.727693\n",
       "3  D  100.522801  98.727693\n",
       "4  E  153.381749  98.727693\n",
       "5  F   53.921726  98.727693\n",
       "6  G   97.511650  98.727693\n",
       "7  H   99.046431  98.727693\n",
       "8  I   85.686113  98.727693\n",
       "9  J  119.564021  98.727693"
      ]
     },
     "execution_count": 49,
     "metadata": {},
     "output_type": "execute_result"
    }
   ],
   "source": [
    "df_summary"
   ]
  },
  {
   "cell_type": "code",
   "execution_count": 51,
   "id": "8ecd8543-f3bb-4d9d-a0b1-75866f737642",
   "metadata": {},
   "outputs": [],
   "source": [
    "df_summary[\"relative_difference_to_xA\"] = df_summary.avg_y - df_summary.avg_at_xA"
   ]
  },
  {
   "cell_type": "code",
   "execution_count": 53,
   "id": "c29d96f9-2b04-4337-96a9-f6cc9e098e01",
   "metadata": {},
   "outputs": [
    {
     "data": {
      "text/html": [
       "<div>\n",
       "<style scoped>\n",
       "    .dataframe tbody tr th:only-of-type {\n",
       "        vertical-align: middle;\n",
       "    }\n",
       "\n",
       "    .dataframe tbody tr th {\n",
       "        vertical-align: top;\n",
       "    }\n",
       "\n",
       "    .dataframe thead th {\n",
       "        text-align: right;\n",
       "    }\n",
       "</style>\n",
       "<table border=\"1\" class=\"dataframe\">\n",
       "  <thead>\n",
       "    <tr style=\"text-align: right;\">\n",
       "      <th></th>\n",
       "      <th>x</th>\n",
       "      <th>avg_y</th>\n",
       "      <th>avg_at_xA</th>\n",
       "      <th>relative_difference_to_xA</th>\n",
       "    </tr>\n",
       "  </thead>\n",
       "  <tbody>\n",
       "    <tr>\n",
       "      <th>0</th>\n",
       "      <td>A</td>\n",
       "      <td>98.728</td>\n",
       "      <td>98.728</td>\n",
       "      <td>-0.000</td>\n",
       "    </tr>\n",
       "    <tr>\n",
       "      <th>1</th>\n",
       "      <td>B</td>\n",
       "      <td>103.202</td>\n",
       "      <td>98.728</td>\n",
       "      <td>4.474</td>\n",
       "    </tr>\n",
       "    <tr>\n",
       "      <th>2</th>\n",
       "      <td>C</td>\n",
       "      <td>101.903</td>\n",
       "      <td>98.728</td>\n",
       "      <td>3.176</td>\n",
       "    </tr>\n",
       "    <tr>\n",
       "      <th>3</th>\n",
       "      <td>D</td>\n",
       "      <td>100.523</td>\n",
       "      <td>98.728</td>\n",
       "      <td>1.795</td>\n",
       "    </tr>\n",
       "    <tr>\n",
       "      <th>4</th>\n",
       "      <td>E</td>\n",
       "      <td>153.382</td>\n",
       "      <td>98.728</td>\n",
       "      <td>54.654</td>\n",
       "    </tr>\n",
       "    <tr>\n",
       "      <th>5</th>\n",
       "      <td>F</td>\n",
       "      <td>53.922</td>\n",
       "      <td>98.728</td>\n",
       "      <td>-44.806</td>\n",
       "    </tr>\n",
       "    <tr>\n",
       "      <th>6</th>\n",
       "      <td>G</td>\n",
       "      <td>97.512</td>\n",
       "      <td>98.728</td>\n",
       "      <td>-1.216</td>\n",
       "    </tr>\n",
       "    <tr>\n",
       "      <th>7</th>\n",
       "      <td>H</td>\n",
       "      <td>99.046</td>\n",
       "      <td>98.728</td>\n",
       "      <td>0.319</td>\n",
       "    </tr>\n",
       "    <tr>\n",
       "      <th>8</th>\n",
       "      <td>I</td>\n",
       "      <td>85.686</td>\n",
       "      <td>98.728</td>\n",
       "      <td>-13.042</td>\n",
       "    </tr>\n",
       "    <tr>\n",
       "      <th>9</th>\n",
       "      <td>J</td>\n",
       "      <td>119.564</td>\n",
       "      <td>98.728</td>\n",
       "      <td>20.836</td>\n",
       "    </tr>\n",
       "  </tbody>\n",
       "</table>\n",
       "</div>"
      ],
      "text/plain": [
       "   x    avg_y  avg_at_xA  relative_difference_to_xA\n",
       "0  A   98.728     98.728                     -0.000\n",
       "1  B  103.202     98.728                      4.474\n",
       "2  C  101.903     98.728                      3.176\n",
       "3  D  100.523     98.728                      1.795\n",
       "4  E  153.382     98.728                     54.654\n",
       "5  F   53.922     98.728                    -44.806\n",
       "6  G   97.512     98.728                     -1.216\n",
       "7  H   99.046     98.728                      0.319\n",
       "8  I   85.686     98.728                    -13.042\n",
       "9  J  119.564     98.728                     20.836"
      ]
     },
     "execution_count": 53,
     "metadata": {},
     "output_type": "execute_result"
    }
   ],
   "source": [
    "df_summary.round(3)"
   ]
  },
  {
   "cell_type": "code",
   "execution_count": 54,
   "id": "55ba0504-c73a-404a-bd16-96c30b97d72c",
   "metadata": {},
   "outputs": [
    {
     "data": {
      "text/plain": [
       "Intercept    98.727693\n",
       "x[T.B]        4.474303\n",
       "x[T.C]        3.175725\n",
       "x[T.D]        1.795108\n",
       "x[T.E]       54.654056\n",
       "x[T.F]      -44.805967\n",
       "x[T.G]       -1.216043\n",
       "x[T.H]        0.318738\n",
       "x[T.I]      -13.041580\n",
       "x[T.J]       20.836328\n",
       "dtype: float64"
      ]
     },
     "execution_count": 54,
     "metadata": {},
     "output_type": "execute_result"
    }
   ],
   "source": [
    "fit_a.params"
   ]
  },
  {
   "cell_type": "markdown",
   "id": "f5df984a-008a-4c25-be27-5ae28e92457f",
   "metadata": {},
   "source": [
    "When DUMMY VARIABLES are DEFINED a **REFERENCE category** MUST be DEFINED!!!\n",
    "\n",
    "ALL DUMMY SLOPES are calculated RELATIVE to this REFERENCE POINT!!! By default, the REFERENCE CATEGORY is the FIRST alphabetical category!!!\n",
    "\n",
    "The INTERCEPT is the AVERAGE at the REFERENCE!!\n",
    "\n",
    "When we examine statistical significance, we are asking is there a STATISTICALLY SIGNIFICANT difference in the AVERAGE OUTPUT from the REFERENCE category!!!"
   ]
  },
  {
   "cell_type": "code",
   "execution_count": 55,
   "id": "006b4da7-6a14-46d4-b54f-e087a185eee9",
   "metadata": {},
   "outputs": [
    {
     "data": {
      "text/html": [
       "<table class=\"simpletable\">\n",
       "<caption>OLS Regression Results</caption>\n",
       "<tr>\n",
       "  <th>Dep. Variable:</th>            <td>y</td>        <th>  R-squared:         </th> <td>   0.722</td>\n",
       "</tr>\n",
       "<tr>\n",
       "  <th>Model:</th>                   <td>OLS</td>       <th>  Adj. R-squared:    </th> <td>   0.705</td>\n",
       "</tr>\n",
       "<tr>\n",
       "  <th>Method:</th>             <td>Least Squares</td>  <th>  F-statistic:       </th> <td>   41.84</td>\n",
       "</tr>\n",
       "<tr>\n",
       "  <th>Date:</th>             <td>Sat, 16 Nov 2024</td> <th>  Prob (F-statistic):</th> <td>4.99e-36</td>\n",
       "</tr>\n",
       "<tr>\n",
       "  <th>Time:</th>                 <td>01:57:52</td>     <th>  Log-Likelihood:    </th> <td> -624.65</td>\n",
       "</tr>\n",
       "<tr>\n",
       "  <th>No. Observations:</th>      <td>   155</td>      <th>  AIC:               </th> <td>   1269.</td>\n",
       "</tr>\n",
       "<tr>\n",
       "  <th>Df Residuals:</th>          <td>   145</td>      <th>  BIC:               </th> <td>   1300.</td>\n",
       "</tr>\n",
       "<tr>\n",
       "  <th>Df Model:</th>              <td>     9</td>      <th>                     </th>     <td> </td>   \n",
       "</tr>\n",
       "<tr>\n",
       "  <th>Covariance Type:</th>      <td>nonrobust</td>    <th>                     </th>     <td> </td>   \n",
       "</tr>\n",
       "</table>\n",
       "<table class=\"simpletable\">\n",
       "<tr>\n",
       "      <td></td>         <th>coef</th>     <th>std err</th>      <th>t</th>      <th>P>|t|</th>  <th>[0.025</th>    <th>0.975]</th>  \n",
       "</tr>\n",
       "<tr>\n",
       "  <th>Intercept</th> <td>   98.7277</td> <td>    3.762</td> <td>   26.246</td> <td> 0.000</td> <td>   91.293</td> <td>  106.162</td>\n",
       "</tr>\n",
       "<tr>\n",
       "  <th>x[T.B]</th>    <td>    4.4743</td> <td>    5.320</td> <td>    0.841</td> <td> 0.402</td> <td>   -6.040</td> <td>   14.989</td>\n",
       "</tr>\n",
       "<tr>\n",
       "  <th>x[T.C]</th>    <td>    3.1757</td> <td>    4.856</td> <td>    0.654</td> <td> 0.514</td> <td>   -6.422</td> <td>   12.774</td>\n",
       "</tr>\n",
       "<tr>\n",
       "  <th>x[T.D]</th>    <td>    1.7951</td> <td>    5.151</td> <td>    0.349</td> <td> 0.728</td> <td>   -8.385</td> <td>   11.976</td>\n",
       "</tr>\n",
       "<tr>\n",
       "  <th>x[T.E]</th>    <td>   54.6541</td> <td>    5.230</td> <td>   10.449</td> <td> 0.000</td> <td>   44.316</td> <td>   64.992</td>\n",
       "</tr>\n",
       "<tr>\n",
       "  <th>x[T.F]</th>    <td>  -44.8060</td> <td>    5.828</td> <td>   -7.689</td> <td> 0.000</td> <td>  -56.324</td> <td>  -33.288</td>\n",
       "</tr>\n",
       "<tr>\n",
       "  <th>x[T.G]</th>    <td>   -1.2160</td> <td>    6.013</td> <td>   -0.202</td> <td> 0.840</td> <td>  -13.101</td> <td>   10.669</td>\n",
       "</tr>\n",
       "<tr>\n",
       "  <th>x[T.H]</th>    <td>    0.3187</td> <td>    5.230</td> <td>    0.061</td> <td> 0.951</td> <td>  -10.019</td> <td>   10.656</td>\n",
       "</tr>\n",
       "<tr>\n",
       "  <th>x[T.I]</th>    <td>  -13.0416</td> <td>    5.080</td> <td>   -2.567</td> <td> 0.011</td> <td>  -23.081</td> <td>   -3.002</td>\n",
       "</tr>\n",
       "<tr>\n",
       "  <th>x[T.J]</th>    <td>   20.8363</td> <td>    4.733</td> <td>    4.402</td> <td> 0.000</td> <td>   11.481</td> <td>   30.191</td>\n",
       "</tr>\n",
       "</table>\n",
       "<table class=\"simpletable\">\n",
       "<tr>\n",
       "  <th>Omnibus:</th>       <td> 3.100</td> <th>  Durbin-Watson:     </th> <td>   1.815</td>\n",
       "</tr>\n",
       "<tr>\n",
       "  <th>Prob(Omnibus):</th> <td> 0.212</td> <th>  Jarque-Bera (JB):  </th> <td>   2.609</td>\n",
       "</tr>\n",
       "<tr>\n",
       "  <th>Skew:</th>          <td>-0.280</td> <th>  Prob(JB):          </th> <td>   0.271</td>\n",
       "</tr>\n",
       "<tr>\n",
       "  <th>Kurtosis:</th>      <td> 3.301</td> <th>  Cond. No.          </th> <td>    11.5</td>\n",
       "</tr>\n",
       "</table><br/><br/>Notes:<br/>[1] Standard Errors assume that the covariance matrix of the errors is correctly specified."
      ],
      "text/latex": [
       "\\begin{center}\n",
       "\\begin{tabular}{lclc}\n",
       "\\toprule\n",
       "\\textbf{Dep. Variable:}    &        y         & \\textbf{  R-squared:         } &     0.722   \\\\\n",
       "\\textbf{Model:}            &       OLS        & \\textbf{  Adj. R-squared:    } &     0.705   \\\\\n",
       "\\textbf{Method:}           &  Least Squares   & \\textbf{  F-statistic:       } &     41.84   \\\\\n",
       "\\textbf{Date:}             & Sat, 16 Nov 2024 & \\textbf{  Prob (F-statistic):} &  4.99e-36   \\\\\n",
       "\\textbf{Time:}             &     01:57:52     & \\textbf{  Log-Likelihood:    } &   -624.65   \\\\\n",
       "\\textbf{No. Observations:} &         155      & \\textbf{  AIC:               } &     1269.   \\\\\n",
       "\\textbf{Df Residuals:}     &         145      & \\textbf{  BIC:               } &     1300.   \\\\\n",
       "\\textbf{Df Model:}         &           9      & \\textbf{                     } &             \\\\\n",
       "\\textbf{Covariance Type:}  &    nonrobust     & \\textbf{                     } &             \\\\\n",
       "\\bottomrule\n",
       "\\end{tabular}\n",
       "\\begin{tabular}{lcccccc}\n",
       "                   & \\textbf{coef} & \\textbf{std err} & \\textbf{t} & \\textbf{P$> |$t$|$} & \\textbf{[0.025} & \\textbf{0.975]}  \\\\\n",
       "\\midrule\n",
       "\\textbf{Intercept} &      98.7277  &        3.762     &    26.246  &         0.000        &       91.293    &      106.162     \\\\\n",
       "\\textbf{x[T.B]}    &       4.4743  &        5.320     &     0.841  &         0.402        &       -6.040    &       14.989     \\\\\n",
       "\\textbf{x[T.C]}    &       3.1757  &        4.856     &     0.654  &         0.514        &       -6.422    &       12.774     \\\\\n",
       "\\textbf{x[T.D]}    &       1.7951  &        5.151     &     0.349  &         0.728        &       -8.385    &       11.976     \\\\\n",
       "\\textbf{x[T.E]}    &      54.6541  &        5.230     &    10.449  &         0.000        &       44.316    &       64.992     \\\\\n",
       "\\textbf{x[T.F]}    &     -44.8060  &        5.828     &    -7.689  &         0.000        &      -56.324    &      -33.288     \\\\\n",
       "\\textbf{x[T.G]}    &      -1.2160  &        6.013     &    -0.202  &         0.840        &      -13.101    &       10.669     \\\\\n",
       "\\textbf{x[T.H]}    &       0.3187  &        5.230     &     0.061  &         0.951        &      -10.019    &       10.656     \\\\\n",
       "\\textbf{x[T.I]}    &     -13.0416  &        5.080     &    -2.567  &         0.011        &      -23.081    &       -3.002     \\\\\n",
       "\\textbf{x[T.J]}    &      20.8363  &        4.733     &     4.402  &         0.000        &       11.481    &       30.191     \\\\\n",
       "\\bottomrule\n",
       "\\end{tabular}\n",
       "\\begin{tabular}{lclc}\n",
       "\\textbf{Omnibus:}       &  3.100 & \\textbf{  Durbin-Watson:     } &    1.815  \\\\\n",
       "\\textbf{Prob(Omnibus):} &  0.212 & \\textbf{  Jarque-Bera (JB):  } &    2.609  \\\\\n",
       "\\textbf{Skew:}          & -0.280 & \\textbf{  Prob(JB):          } &    0.271  \\\\\n",
       "\\textbf{Kurtosis:}      &  3.301 & \\textbf{  Cond. No.          } &     11.5  \\\\\n",
       "\\bottomrule\n",
       "\\end{tabular}\n",
       "%\\caption{OLS Regression Results}\n",
       "\\end{center}\n",
       "\n",
       "Notes: \\newline\n",
       " [1] Standard Errors assume that the covariance matrix of the errors is correctly specified."
      ],
      "text/plain": [
       "<class 'statsmodels.iolib.summary.Summary'>\n",
       "\"\"\"\n",
       "                            OLS Regression Results                            \n",
       "==============================================================================\n",
       "Dep. Variable:                      y   R-squared:                       0.722\n",
       "Model:                            OLS   Adj. R-squared:                  0.705\n",
       "Method:                 Least Squares   F-statistic:                     41.84\n",
       "Date:                Sat, 16 Nov 2024   Prob (F-statistic):           4.99e-36\n",
       "Time:                        01:57:52   Log-Likelihood:                -624.65\n",
       "No. Observations:                 155   AIC:                             1269.\n",
       "Df Residuals:                     145   BIC:                             1300.\n",
       "Df Model:                           9                                         \n",
       "Covariance Type:            nonrobust                                         \n",
       "==============================================================================\n",
       "                 coef    std err          t      P>|t|      [0.025      0.975]\n",
       "------------------------------------------------------------------------------\n",
       "Intercept     98.7277      3.762     26.246      0.000      91.293     106.162\n",
       "x[T.B]         4.4743      5.320      0.841      0.402      -6.040      14.989\n",
       "x[T.C]         3.1757      4.856      0.654      0.514      -6.422      12.774\n",
       "x[T.D]         1.7951      5.151      0.349      0.728      -8.385      11.976\n",
       "x[T.E]        54.6541      5.230     10.449      0.000      44.316      64.992\n",
       "x[T.F]       -44.8060      5.828     -7.689      0.000     -56.324     -33.288\n",
       "x[T.G]        -1.2160      6.013     -0.202      0.840     -13.101      10.669\n",
       "x[T.H]         0.3187      5.230      0.061      0.951     -10.019      10.656\n",
       "x[T.I]       -13.0416      5.080     -2.567      0.011     -23.081      -3.002\n",
       "x[T.J]        20.8363      4.733      4.402      0.000      11.481      30.191\n",
       "==============================================================================\n",
       "Omnibus:                        3.100   Durbin-Watson:                   1.815\n",
       "Prob(Omnibus):                  0.212   Jarque-Bera (JB):                2.609\n",
       "Skew:                          -0.280   Prob(JB):                        0.271\n",
       "Kurtosis:                       3.301   Cond. No.                         11.5\n",
       "==============================================================================\n",
       "\n",
       "Notes:\n",
       "[1] Standard Errors assume that the covariance matrix of the errors is correctly specified.\n",
       "\"\"\""
      ]
     },
     "execution_count": 55,
     "metadata": {},
     "output_type": "execute_result"
    }
   ],
   "source": [
    "fit_a.summary()"
   ]
  },
  {
   "cell_type": "code",
   "execution_count": 56,
   "id": "63e0d8a5-f27c-48d4-9db4-928da356f66f",
   "metadata": {},
   "outputs": [],
   "source": [
    "def my_coefplot(mod, figsize_use=(10,4)):\n",
    "    fig, ax = plt.subplots(figsize=figsize_use)\n",
    "\n",
    "    ax.errorbar(y=mod.params.index,\n",
    "               x=mod.params,\n",
    "               xerr=2*mod.bse, fmt=\"o\", color=\"k\", ecolor=\"k\", elinewidth=2, ms=10)\n",
    "\n",
    "    ax.axvline(x=0, linestyle=\"--\", linewidth=3.5, color=\"grey\")\n",
    "\n",
    "    ax.set_xlabel(\"coefficient value\")\n",
    "\n",
    "    plt.show()"
   ]
  },
  {
   "cell_type": "code",
   "execution_count": 57,
   "id": "5f7cfb2e-0a69-4a0f-9d7f-d94f327e12b4",
   "metadata": {},
   "outputs": [
    {
     "data": {
      "image/png": "[encoded data removed]",
      "text/plain": [
       "<Figure size 1000x400 with 1 Axes>"
      ]
     },
     "metadata": {},
     "output_type": "display_data"
    }
   ],
   "source": [
    "my_coefplot(fit_a)"
   ]
  },
  {
   "cell_type": "markdown",
   "id": "4bed6551-1dad-45cb-a913-1cddb1b08604",
   "metadata": {},
   "source": [
    "If we predict with our MODEL it will only predict at the observed CATEGORIES!!!"
   ]
  },
  {
   "cell_type": "code",
   "execution_count": 77,
   "id": "7165bb54-4c8a-4bc5-9bc7-123d1dc95d69",
   "metadata": {},
   "outputs": [],
   "source": [
    "input_grid = pd.DataFrame({\"x\": df.x.unique()}).sort_values(\"x\", ignore_index=True)"
   ]
  },
  {
   "cell_type": "code",
   "execution_count": 78,
   "id": "3dbd7ac9-69a9-4fb3-9509-e6cf45eed114",
   "metadata": {},
   "outputs": [
    {
     "data": {
      "text/html": [
       "<div>\n",
       "<style scoped>\n",
       "    .dataframe tbody tr th:only-of-type {\n",
       "        vertical-align: middle;\n",
       "    }\n",
       "\n",
       "    .dataframe tbody tr th {\n",
       "        vertical-align: top;\n",
       "    }\n",
       "\n",
       "    .dataframe thead th {\n",
       "        text-align: right;\n",
       "    }\n",
       "</style>\n",
       "<table border=\"1\" class=\"dataframe\">\n",
       "  <thead>\n",
       "    <tr style=\"text-align: right;\">\n",
       "      <th></th>\n",
       "      <th>x</th>\n",
       "    </tr>\n",
       "  </thead>\n",
       "  <tbody>\n",
       "    <tr>\n",
       "      <th>0</th>\n",
       "      <td>A</td>\n",
       "    </tr>\n",
       "    <tr>\n",
       "      <th>1</th>\n",
       "      <td>B</td>\n",
       "    </tr>\n",
       "    <tr>\n",
       "      <th>2</th>\n",
       "      <td>C</td>\n",
       "    </tr>\n",
       "    <tr>\n",
       "      <th>3</th>\n",
       "      <td>D</td>\n",
       "    </tr>\n",
       "    <tr>\n",
       "      <th>4</th>\n",
       "      <td>E</td>\n",
       "    </tr>\n",
       "    <tr>\n",
       "      <th>5</th>\n",
       "      <td>F</td>\n",
       "    </tr>\n",
       "    <tr>\n",
       "      <th>6</th>\n",
       "      <td>G</td>\n",
       "    </tr>\n",
       "    <tr>\n",
       "      <th>7</th>\n",
       "      <td>H</td>\n",
       "    </tr>\n",
       "    <tr>\n",
       "      <th>8</th>\n",
       "      <td>I</td>\n",
       "    </tr>\n",
       "    <tr>\n",
       "      <th>9</th>\n",
       "      <td>J</td>\n",
       "    </tr>\n",
       "  </tbody>\n",
       "</table>\n",
       "</div>"
      ],
      "text/plain": [
       "   x\n",
       "0  A\n",
       "1  B\n",
       "2  C\n",
       "3  D\n",
       "4  E\n",
       "5  F\n",
       "6  G\n",
       "7  H\n",
       "8  I\n",
       "9  J"
      ]
     },
     "execution_count": 78,
     "metadata": {},
     "output_type": "execute_result"
    }
   ],
   "source": [
    "input_grid"
   ]
  },
  {
   "cell_type": "code",
   "execution_count": 79,
   "id": "c17c2725-a200-4f2b-bc9f-9a943da87035",
   "metadata": {},
   "outputs": [
    {
     "data": {
      "text/plain": [
       "0     98.727693\n",
       "1    103.201995\n",
       "2    101.903418\n",
       "3    100.522801\n",
       "4    153.381749\n",
       "5     53.921726\n",
       "6     97.511650\n",
       "7     99.046431\n",
       "8     85.686113\n",
       "9    119.564021\n",
       "dtype: float64"
      ]
     },
     "execution_count": 79,
     "metadata": {},
     "output_type": "execute_result"
    }
   ],
   "source": [
    "fit_a.predict(input_grid)"
   ]
  },
  {
   "cell_type": "code",
   "execution_count": 80,
   "id": "905c7888-d26c-48a5-87f8-dfb081ddbc28",
   "metadata": {},
   "outputs": [],
   "source": [
    "df_summary[\"pred_from_summaries\"] = fit_a.predict(input_grid)"
   ]
  },
  {
   "cell_type": "code",
   "execution_count": 81,
   "id": "a70dd1b8-fe6e-403c-8bb9-8e803b46371a",
   "metadata": {},
   "outputs": [
    {
     "data": {
      "text/html": [
       "<div>\n",
       "<style scoped>\n",
       "    .dataframe tbody tr th:only-of-type {\n",
       "        vertical-align: middle;\n",
       "    }\n",
       "\n",
       "    .dataframe tbody tr th {\n",
       "        vertical-align: top;\n",
       "    }\n",
       "\n",
       "    .dataframe thead th {\n",
       "        text-align: right;\n",
       "    }\n",
       "</style>\n",
       "<table border=\"1\" class=\"dataframe\">\n",
       "  <thead>\n",
       "    <tr style=\"text-align: right;\">\n",
       "      <th></th>\n",
       "      <th>x</th>\n",
       "      <th>avg_y</th>\n",
       "      <th>avg_at_xA</th>\n",
       "      <th>relative_difference_to_xA</th>\n",
       "      <th>pred_from_summaries</th>\n",
       "    </tr>\n",
       "  </thead>\n",
       "  <tbody>\n",
       "    <tr>\n",
       "      <th>0</th>\n",
       "      <td>A</td>\n",
       "      <td>98.727693</td>\n",
       "      <td>98.727693</td>\n",
       "      <td>-2.842171e-14</td>\n",
       "      <td>98.727693</td>\n",
       "    </tr>\n",
       "    <tr>\n",
       "      <th>1</th>\n",
       "      <td>B</td>\n",
       "      <td>103.201995</td>\n",
       "      <td>98.727693</td>\n",
       "      <td>4.474303e+00</td>\n",
       "      <td>103.201995</td>\n",
       "    </tr>\n",
       "    <tr>\n",
       "      <th>2</th>\n",
       "      <td>C</td>\n",
       "      <td>101.903418</td>\n",
       "      <td>98.727693</td>\n",
       "      <td>3.175725e+00</td>\n",
       "      <td>101.903418</td>\n",
       "    </tr>\n",
       "    <tr>\n",
       "      <th>3</th>\n",
       "      <td>D</td>\n",
       "      <td>100.522801</td>\n",
       "      <td>98.727693</td>\n",
       "      <td>1.795108e+00</td>\n",
       "      <td>100.522801</td>\n",
       "    </tr>\n",
       "    <tr>\n",
       "      <th>4</th>\n",
       "      <td>E</td>\n",
       "      <td>153.381749</td>\n",
       "      <td>98.727693</td>\n",
       "      <td>5.465406e+01</td>\n",
       "      <td>153.381749</td>\n",
       "    </tr>\n",
       "    <tr>\n",
       "      <th>5</th>\n",
       "      <td>F</td>\n",
       "      <td>53.921726</td>\n",
       "      <td>98.727693</td>\n",
       "      <td>-4.480597e+01</td>\n",
       "      <td>53.921726</td>\n",
       "    </tr>\n",
       "    <tr>\n",
       "      <th>6</th>\n",
       "      <td>G</td>\n",
       "      <td>97.511650</td>\n",
       "      <td>98.727693</td>\n",
       "      <td>-1.216043e+00</td>\n",
       "      <td>97.511650</td>\n",
       "    </tr>\n",
       "    <tr>\n",
       "      <th>7</th>\n",
       "      <td>H</td>\n",
       "      <td>99.046431</td>\n",
       "      <td>98.727693</td>\n",
       "      <td>3.187382e-01</td>\n",
       "      <td>99.046431</td>\n",
       "    </tr>\n",
       "    <tr>\n",
       "      <th>8</th>\n",
       "      <td>I</td>\n",
       "      <td>85.686113</td>\n",
       "      <td>98.727693</td>\n",
       "      <td>-1.304158e+01</td>\n",
       "      <td>85.686113</td>\n",
       "    </tr>\n",
       "    <tr>\n",
       "      <th>9</th>\n",
       "      <td>J</td>\n",
       "      <td>119.564021</td>\n",
       "      <td>98.727693</td>\n",
       "      <td>2.083633e+01</td>\n",
       "      <td>119.564021</td>\n",
       "    </tr>\n",
       "  </tbody>\n",
       "</table>\n",
       "</div>"
      ],
      "text/plain": [
       "   x       avg_y  avg_at_xA  relative_difference_to_xA  pred_from_summaries\n",
       "0  A   98.727693  98.727693              -2.842171e-14            98.727693\n",
       "1  B  103.201995  98.727693               4.474303e+00           103.201995\n",
       "2  C  101.903418  98.727693               3.175725e+00           101.903418\n",
       "3  D  100.522801  98.727693               1.795108e+00           100.522801\n",
       "4  E  153.381749  98.727693               5.465406e+01           153.381749\n",
       "5  F   53.921726  98.727693              -4.480597e+01            53.921726\n",
       "6  G   97.511650  98.727693              -1.216043e+00            97.511650\n",
       "7  H   99.046431  98.727693               3.187382e-01            99.046431\n",
       "8  I   85.686113  98.727693              -1.304158e+01            85.686113\n",
       "9  J  119.564021  98.727693               2.083633e+01           119.564021"
      ]
     },
     "execution_count": 81,
     "metadata": {},
     "output_type": "execute_result"
    }
   ],
   "source": [
    "df_summary"
   ]
  },
  {
   "cell_type": "markdown",
   "id": "f97c24f9-f77c-4528-b916-455b85b46956",
   "metadata": {},
   "source": [
    "## An alternative\n",
    "An alternative approach is to REMOVE the intercept. This is known as the ONE-HOT encoding!!!\n",
    "\n",
    "REMOVE the INTERCEPT using the `- 1` operator in the FORMULA interface!!!"
   ]
  },
  {
   "cell_type": "code",
   "execution_count": 83,
   "id": "8300e883-8823-4b86-8b4d-fddcdf73f9df",
   "metadata": {},
   "outputs": [],
   "source": [
    "fit_b = smf.ols(formula=\"y ~ x - 1\", data=df).fit()"
   ]
  },
  {
   "cell_type": "code",
   "execution_count": 84,
   "id": "6383a9d7-b72b-4bc9-9365-b86fa7788162",
   "metadata": {},
   "outputs": [
    {
     "data": {
      "text/plain": [
       "x[A]     98.727693\n",
       "x[B]    103.201995\n",
       "x[C]    101.903418\n",
       "x[D]    100.522801\n",
       "x[E]    153.381749\n",
       "x[F]     53.921726\n",
       "x[G]     97.511650\n",
       "x[H]     99.046431\n",
       "x[I]     85.686113\n",
       "x[J]    119.564021\n",
       "dtype: float64"
      ]
     },
     "execution_count": 84,
     "metadata": {},
     "output_type": "execute_result"
    }
   ],
   "source": [
    "fit_b.params"
   ]
  },
  {
   "cell_type": "markdown",
   "id": "ae7ca653-da23-4f93-94cd-5bbe279bdf22",
   "metadata": {},
   "source": [
    "The estimate coefficients whe ONE HOT encoding is used...corresponds DIRECTLY to the AVERAGE OUTPUT per category!!!"
   ]
  },
  {
   "cell_type": "code",
   "execution_count": 92,
   "id": "e04d0415-d25c-4b7c-b89b-98182dddd007",
   "metadata": {},
   "outputs": [
    {
     "data": {
      "text/plain": [
       "0     98.727693\n",
       "1    103.201995\n",
       "2    101.903418\n",
       "3    100.522801\n",
       "4    153.381749\n",
       "5     53.921726\n",
       "6     97.511650\n",
       "7     99.046431\n",
       "8     85.686113\n",
       "9    119.564021\n",
       "dtype: float64"
      ]
     },
     "execution_count": 92,
     "metadata": {},
     "output_type": "execute_result"
    }
   ],
   "source": [
    "fit_b.params.reset_index(drop=True)"
   ]
  },
  {
   "cell_type": "code",
   "execution_count": 88,
   "id": "16ed21ef-6790-4715-9987-374ed2f413bb",
   "metadata": {},
   "outputs": [],
   "source": [
    "df_summary[\"onehot_coefs\"] = pd.Series(fit_b.params.reset_index(drop=True), index=df_summary.index)"
   ]
  },
  {
   "cell_type": "code",
   "execution_count": 89,
   "id": "5cc8b193-e3bc-4986-a8bc-6681a14366ef",
   "metadata": {},
   "outputs": [
    {
     "data": {
      "text/html": [
       "<div>\n",
       "<style scoped>\n",
       "    .dataframe tbody tr th:only-of-type {\n",
       "        vertical-align: middle;\n",
       "    }\n",
       "\n",
       "    .dataframe tbody tr th {\n",
       "        vertical-align: top;\n",
       "    }\n",
       "\n",
       "    .dataframe thead th {\n",
       "        text-align: right;\n",
       "    }\n",
       "</style>\n",
       "<table border=\"1\" class=\"dataframe\">\n",
       "  <thead>\n",
       "    <tr style=\"text-align: right;\">\n",
       "      <th></th>\n",
       "      <th>x</th>\n",
       "      <th>avg_y</th>\n",
       "      <th>avg_at_xA</th>\n",
       "      <th>relative_difference_to_xA</th>\n",
       "      <th>pred_from_summaries</th>\n",
       "      <th>onehot_coefs</th>\n",
       "    </tr>\n",
       "  </thead>\n",
       "  <tbody>\n",
       "    <tr>\n",
       "      <th>0</th>\n",
       "      <td>A</td>\n",
       "      <td>98.727693</td>\n",
       "      <td>98.727693</td>\n",
       "      <td>-2.842171e-14</td>\n",
       "      <td>98.727693</td>\n",
       "      <td>98.727693</td>\n",
       "    </tr>\n",
       "    <tr>\n",
       "      <th>1</th>\n",
       "      <td>B</td>\n",
       "      <td>103.201995</td>\n",
       "      <td>98.727693</td>\n",
       "      <td>4.474303e+00</td>\n",
       "      <td>103.201995</td>\n",
       "      <td>103.201995</td>\n",
       "    </tr>\n",
       "    <tr>\n",
       "      <th>2</th>\n",
       "      <td>C</td>\n",
       "      <td>101.903418</td>\n",
       "      <td>98.727693</td>\n",
       "      <td>3.175725e+00</td>\n",
       "      <td>101.903418</td>\n",
       "      <td>101.903418</td>\n",
       "    </tr>\n",
       "    <tr>\n",
       "      <th>3</th>\n",
       "      <td>D</td>\n",
       "      <td>100.522801</td>\n",
       "      <td>98.727693</td>\n",
       "      <td>1.795108e+00</td>\n",
       "      <td>100.522801</td>\n",
       "      <td>100.522801</td>\n",
       "    </tr>\n",
       "    <tr>\n",
       "      <th>4</th>\n",
       "      <td>E</td>\n",
       "      <td>153.381749</td>\n",
       "      <td>98.727693</td>\n",
       "      <td>5.465406e+01</td>\n",
       "      <td>153.381749</td>\n",
       "      <td>153.381749</td>\n",
       "    </tr>\n",
       "    <tr>\n",
       "      <th>5</th>\n",
       "      <td>F</td>\n",
       "      <td>53.921726</td>\n",
       "      <td>98.727693</td>\n",
       "      <td>-4.480597e+01</td>\n",
       "      <td>53.921726</td>\n",
       "      <td>53.921726</td>\n",
       "    </tr>\n",
       "    <tr>\n",
       "      <th>6</th>\n",
       "      <td>G</td>\n",
       "      <td>97.511650</td>\n",
       "      <td>98.727693</td>\n",
       "      <td>-1.216043e+00</td>\n",
       "      <td>97.511650</td>\n",
       "      <td>97.511650</td>\n",
       "    </tr>\n",
       "    <tr>\n",
       "      <th>7</th>\n",
       "      <td>H</td>\n",
       "      <td>99.046431</td>\n",
       "      <td>98.727693</td>\n",
       "      <td>3.187382e-01</td>\n",
       "      <td>99.046431</td>\n",
       "      <td>99.046431</td>\n",
       "    </tr>\n",
       "    <tr>\n",
       "      <th>8</th>\n",
       "      <td>I</td>\n",
       "      <td>85.686113</td>\n",
       "      <td>98.727693</td>\n",
       "      <td>-1.304158e+01</td>\n",
       "      <td>85.686113</td>\n",
       "      <td>85.686113</td>\n",
       "    </tr>\n",
       "    <tr>\n",
       "      <th>9</th>\n",
       "      <td>J</td>\n",
       "      <td>119.564021</td>\n",
       "      <td>98.727693</td>\n",
       "      <td>2.083633e+01</td>\n",
       "      <td>119.564021</td>\n",
       "      <td>119.564021</td>\n",
       "    </tr>\n",
       "  </tbody>\n",
       "</table>\n",
       "</div>"
      ],
      "text/plain": [
       "   x       avg_y  avg_at_xA  relative_difference_to_xA  pred_from_summaries  \\\n",
       "0  A   98.727693  98.727693              -2.842171e-14            98.727693   \n",
       "1  B  103.201995  98.727693               4.474303e+00           103.201995   \n",
       "2  C  101.903418  98.727693               3.175725e+00           101.903418   \n",
       "3  D  100.522801  98.727693               1.795108e+00           100.522801   \n",
       "4  E  153.381749  98.727693               5.465406e+01           153.381749   \n",
       "5  F   53.921726  98.727693              -4.480597e+01            53.921726   \n",
       "6  G   97.511650  98.727693              -1.216043e+00            97.511650   \n",
       "7  H   99.046431  98.727693               3.187382e-01            99.046431   \n",
       "8  I   85.686113  98.727693              -1.304158e+01            85.686113   \n",
       "9  J  119.564021  98.727693               2.083633e+01           119.564021   \n",
       "\n",
       "   onehot_coefs  \n",
       "0     98.727693  \n",
       "1    103.201995  \n",
       "2    101.903418  \n",
       "3    100.522801  \n",
       "4    153.381749  \n",
       "5     53.921726  \n",
       "6     97.511650  \n",
       "7     99.046431  \n",
       "8     85.686113  \n",
       "9    119.564021  "
      ]
     },
     "execution_count": 89,
     "metadata": {},
     "output_type": "execute_result"
    }
   ],
   "source": [
    "df_summary"
   ]
  },
  {
   "cell_type": "code",
   "execution_count": 93,
   "id": "188e5d4e-28e7-4ae4-9a3a-718b66ec5b64",
   "metadata": {},
   "outputs": [],
   "source": [
    "df_summary[\"pred_from_onehot\"] = fit_b.predict(input_grid)"
   ]
  },
  {
   "cell_type": "code",
   "execution_count": 94,
   "id": "eee51adb-d0e5-4078-bcf8-10ff711e6592",
   "metadata": {},
   "outputs": [
    {
     "data": {
      "text/html": [
       "<div>\n",
       "<style scoped>\n",
       "    .dataframe tbody tr th:only-of-type {\n",
       "        vertical-align: middle;\n",
       "    }\n",
       "\n",
       "    .dataframe tbody tr th {\n",
       "        vertical-align: top;\n",
       "    }\n",
       "\n",
       "    .dataframe thead th {\n",
       "        text-align: right;\n",
       "    }\n",
       "</style>\n",
       "<table border=\"1\" class=\"dataframe\">\n",
       "  <thead>\n",
       "    <tr style=\"text-align: right;\">\n",
       "      <th></th>\n",
       "      <th>x</th>\n",
       "      <th>avg_y</th>\n",
       "      <th>avg_at_xA</th>\n",
       "      <th>relative_difference_to_xA</th>\n",
       "      <th>pred_from_summaries</th>\n",
       "      <th>onehot_coefs</th>\n",
       "      <th>pred_from_onehot</th>\n",
       "    </tr>\n",
       "  </thead>\n",
       "  <tbody>\n",
       "    <tr>\n",
       "      <th>0</th>\n",
       "      <td>A</td>\n",
       "      <td>98.727693</td>\n",
       "      <td>98.727693</td>\n",
       "      <td>-2.842171e-14</td>\n",
       "      <td>98.727693</td>\n",
       "      <td>98.727693</td>\n",
       "      <td>98.727693</td>\n",
       "    </tr>\n",
       "    <tr>\n",
       "      <th>1</th>\n",
       "      <td>B</td>\n",
       "      <td>103.201995</td>\n",
       "      <td>98.727693</td>\n",
       "      <td>4.474303e+00</td>\n",
       "      <td>103.201995</td>\n",
       "      <td>103.201995</td>\n",
       "      <td>103.201995</td>\n",
       "    </tr>\n",
       "    <tr>\n",
       "      <th>2</th>\n",
       "      <td>C</td>\n",
       "      <td>101.903418</td>\n",
       "      <td>98.727693</td>\n",
       "      <td>3.175725e+00</td>\n",
       "      <td>101.903418</td>\n",
       "      <td>101.903418</td>\n",
       "      <td>101.903418</td>\n",
       "    </tr>\n",
       "    <tr>\n",
       "      <th>3</th>\n",
       "      <td>D</td>\n",
       "      <td>100.522801</td>\n",
       "      <td>98.727693</td>\n",
       "      <td>1.795108e+00</td>\n",
       "      <td>100.522801</td>\n",
       "      <td>100.522801</td>\n",
       "      <td>100.522801</td>\n",
       "    </tr>\n",
       "    <tr>\n",
       "      <th>4</th>\n",
       "      <td>E</td>\n",
       "      <td>153.381749</td>\n",
       "      <td>98.727693</td>\n",
       "      <td>5.465406e+01</td>\n",
       "      <td>153.381749</td>\n",
       "      <td>153.381749</td>\n",
       "      <td>153.381749</td>\n",
       "    </tr>\n",
       "    <tr>\n",
       "      <th>5</th>\n",
       "      <td>F</td>\n",
       "      <td>53.921726</td>\n",
       "      <td>98.727693</td>\n",
       "      <td>-4.480597e+01</td>\n",
       "      <td>53.921726</td>\n",
       "      <td>53.921726</td>\n",
       "      <td>53.921726</td>\n",
       "    </tr>\n",
       "    <tr>\n",
       "      <th>6</th>\n",
       "      <td>G</td>\n",
       "      <td>97.511650</td>\n",
       "      <td>98.727693</td>\n",
       "      <td>-1.216043e+00</td>\n",
       "      <td>97.511650</td>\n",
       "      <td>97.511650</td>\n",
       "      <td>97.511650</td>\n",
       "    </tr>\n",
       "    <tr>\n",
       "      <th>7</th>\n",
       "      <td>H</td>\n",
       "      <td>99.046431</td>\n",
       "      <td>98.727693</td>\n",
       "      <td>3.187382e-01</td>\n",
       "      <td>99.046431</td>\n",
       "      <td>99.046431</td>\n",
       "      <td>99.046431</td>\n",
       "    </tr>\n",
       "    <tr>\n",
       "      <th>8</th>\n",
       "      <td>I</td>\n",
       "      <td>85.686113</td>\n",
       "      <td>98.727693</td>\n",
       "      <td>-1.304158e+01</td>\n",
       "      <td>85.686113</td>\n",
       "      <td>85.686113</td>\n",
       "      <td>85.686113</td>\n",
       "    </tr>\n",
       "    <tr>\n",
       "      <th>9</th>\n",
       "      <td>J</td>\n",
       "      <td>119.564021</td>\n",
       "      <td>98.727693</td>\n",
       "      <td>2.083633e+01</td>\n",
       "      <td>119.564021</td>\n",
       "      <td>119.564021</td>\n",
       "      <td>119.564021</td>\n",
       "    </tr>\n",
       "  </tbody>\n",
       "</table>\n",
       "</div>"
      ],
      "text/plain": [
       "   x       avg_y  avg_at_xA  relative_difference_to_xA  pred_from_summaries  \\\n",
       "0  A   98.727693  98.727693              -2.842171e-14            98.727693   \n",
       "1  B  103.201995  98.727693               4.474303e+00           103.201995   \n",
       "2  C  101.903418  98.727693               3.175725e+00           101.903418   \n",
       "3  D  100.522801  98.727693               1.795108e+00           100.522801   \n",
       "4  E  153.381749  98.727693               5.465406e+01           153.381749   \n",
       "5  F   53.921726  98.727693              -4.480597e+01            53.921726   \n",
       "6  G   97.511650  98.727693              -1.216043e+00            97.511650   \n",
       "7  H   99.046431  98.727693               3.187382e-01            99.046431   \n",
       "8  I   85.686113  98.727693              -1.304158e+01            85.686113   \n",
       "9  J  119.564021  98.727693               2.083633e+01           119.564021   \n",
       "\n",
       "   onehot_coefs  pred_from_onehot  \n",
       "0     98.727693         98.727693  \n",
       "1    103.201995        103.201995  \n",
       "2    101.903418        101.903418  \n",
       "3    100.522801        100.522801  \n",
       "4    153.381749        153.381749  \n",
       "5     53.921726         53.921726  \n",
       "6     97.511650         97.511650  \n",
       "7     99.046431         99.046431  \n",
       "8     85.686113         85.686113  \n",
       "9    119.564021        119.564021  "
      ]
     },
     "execution_count": 94,
     "metadata": {},
     "output_type": "execute_result"
    }
   ],
   "source": [
    "df_summary"
   ]
  },
  {
   "cell_type": "code",
   "execution_count": 95,
   "id": "c501475e-5ead-441c-a224-1727c1430842",
   "metadata": {},
   "outputs": [
    {
     "data": {
      "image/png": "[encoded data removed]",
      "text/plain": [
       "<Figure size 1000x400 with 1 Axes>"
      ]
     },
     "metadata": {},
     "output_type": "display_data"
    }
   ],
   "source": [
    "my_coefplot(fit_b)"
   ]
  },
  {
   "cell_type": "code",
   "execution_count": 96,
   "id": "8e1e0671-faee-45f8-a37d-c7d8ac71f74b",
   "metadata": {},
   "outputs": [
    {
     "data": {
      "text/plain": [
       "x[A]    6.050418e-57\n",
       "x[B]    2.853747e-59\n",
       "x[C]    1.336084e-69\n",
       "x[D]    2.007076e-61\n",
       "x[E]    2.470158e-83\n",
       "x[F]    8.918906e-24\n",
       "x[G]    2.494152e-45\n",
       "x[H]    6.370110e-59\n",
       "x[I]    1.221516e-54\n",
       "x[J]    1.629293e-82\n",
       "dtype: float64"
      ]
     },
     "execution_count": 96,
     "metadata": {},
     "output_type": "execute_result"
    }
   ],
   "source": [
    "fit_b.pvalues"
   ]
  },
  {
   "cell_type": "code",
   "execution_count": 97,
   "id": "12de9890-f636-4bf6-88ea-eb1757b235f9",
   "metadata": {},
   "outputs": [
    {
     "data": {
      "text/plain": [
       "x[A]    True\n",
       "x[B]    True\n",
       "x[C]    True\n",
       "x[D]    True\n",
       "x[E]    True\n",
       "x[F]    True\n",
       "x[G]    True\n",
       "x[H]    True\n",
       "x[I]    True\n",
       "x[J]    True\n",
       "dtype: bool"
      ]
     },
     "execution_count": 97,
     "metadata": {},
     "output_type": "execute_result"
    }
   ],
   "source": [
    "fit_b.pvalues < 0.05"
   ]
  },
  {
   "cell_type": "markdown",
   "id": "db80be22-d18a-4246-808c-ffb747010354",
   "metadata": {},
   "source": [
    "ONE HOT ENCODING causes you to NO LONGER be able to use the p-values to identify statistical significance!!!!"
   ]
  },
  {
   "cell_type": "code",
   "execution_count": null,
   "id": "aa7969c1-e025-4fb0-9d27-daa00b5b1470",
   "metadata": {},
   "outputs": [],
   "source": []
  }
 ],
 "metadata": {
  "kernelspec": {
   "display_name": "Python 3 (ipykernel)",
   "language": "python",
   "name": "python3"
  },
  "language_info": {
   "codemirror_mode": {
    "name": "ipython",
    "version": 3
   },
   "file_extension": ".py",
   "mimetype": "text/x-python",
   "name": "python",
   "nbconvert_exporter": "python",
   "pygments_lexer": "ipython3",
   "version": "3.8.19"
  }
 },
 "nbformat": 4,
 "nbformat_minor": 5
}
