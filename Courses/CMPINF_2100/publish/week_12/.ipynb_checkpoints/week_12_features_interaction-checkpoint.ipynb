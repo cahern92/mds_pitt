{
 "cells": [
  {
   "cell_type": "markdown",
   "id": "67541b68-337b-42a8-8b7c-e1372e282bda",
   "metadata": {},
   "source": [
    "## CMPINF 2100 Week 12\n",
    "### Working with LINEAR MODELS with INTERACTION features\n",
    "Lets read in the data we created in the PREVIOUS ADDITIVE features demonstration.\n",
    "## Import Modules"
   ]
  },
  {
   "cell_type": "code",
   "execution_count": 1,
   "id": "ae01eaf9-3123-4fec-a35a-f038162fcb52",
   "metadata": {},
   "outputs": [],
   "source": [
    "import numpy as np\n",
    "import pandas as pd\n",
    "import matplotlib.pyplot as plt\n",
    "\n",
    "import seaborn as sns"
   ]
  },
  {
   "cell_type": "code",
   "execution_count": 2,
   "id": "4bf9057d-4450-42b5-82f8-142aad8061bc",
   "metadata": {},
   "outputs": [],
   "source": [
    "import statsmodels.formula.api as smf"
   ]
  },
  {
   "cell_type": "code",
   "execution_count": 3,
   "id": "fa873e95-1bdd-418d-90ff-10c46f9323e0",
   "metadata": {},
   "outputs": [],
   "source": [
    "import statsmodels.api as sm"
   ]
  },
  {
   "cell_type": "markdown",
   "id": "04505fd9-e180-42f2-a82b-310ec1396181",
   "metadata": {},
   "source": [
    "## Read data"
   ]
  },
  {
   "cell_type": "code",
   "execution_count": 4,
   "id": "41e4c629-6acd-443a-8415-ea9405113cba",
   "metadata": {},
   "outputs": [],
   "source": [
    "df = pd.read_csv(\"linear_additive_example.csv\")"
   ]
  },
  {
   "cell_type": "code",
   "execution_count": 5,
   "id": "dc0c98b7-582c-4e5a-90f8-2790e5134bed",
   "metadata": {},
   "outputs": [
    {
     "name": "stdout",
     "output_type": "stream",
     "text": [
      "<class 'pandas.core.frame.DataFrame'>\n",
      "RangeIndex: 35 entries, 0 to 34\n",
      "Data columns (total 4 columns):\n",
      " #   Column  Non-Null Count  Dtype  \n",
      "---  ------  --------------  -----  \n",
      " 0   x1      35 non-null     float64\n",
      " 1   x2      35 non-null     float64\n",
      " 2   trend   35 non-null     float64\n",
      " 3   y       35 non-null     float64\n",
      "dtypes: float64(4)\n",
      "memory usage: 1.2 KB\n"
     ]
    }
   ],
   "source": [
    "df.info()"
   ]
  },
  {
   "cell_type": "code",
   "execution_count": 6,
   "id": "f7d03887-9a02-4363-990f-349403b49d3f",
   "metadata": {},
   "outputs": [
    {
     "data": {
      "text/html": [
       "<div>\n",
       "<style scoped>\n",
       "    .dataframe tbody tr th:only-of-type {\n",
       "        vertical-align: middle;\n",
       "    }\n",
       "\n",
       "    .dataframe tbody tr th {\n",
       "        vertical-align: top;\n",
       "    }\n",
       "\n",
       "    .dataframe thead th {\n",
       "        text-align: right;\n",
       "    }\n",
       "</style>\n",
       "<table border=\"1\" class=\"dataframe\">\n",
       "  <thead>\n",
       "    <tr style=\"text-align: right;\">\n",
       "      <th></th>\n",
       "      <th>x1</th>\n",
       "      <th>x2</th>\n",
       "      <th>trend</th>\n",
       "      <th>y</th>\n",
       "    </tr>\n",
       "  </thead>\n",
       "  <tbody>\n",
       "    <tr>\n",
       "      <th>0</th>\n",
       "      <td>1.024252</td>\n",
       "      <td>-0.650623</td>\n",
       "      <td>1.617167</td>\n",
       "      <td>1.547730</td>\n",
       "    </tr>\n",
       "    <tr>\n",
       "      <th>1</th>\n",
       "      <td>-1.733671</td>\n",
       "      <td>0.993904</td>\n",
       "      <td>-3.431878</td>\n",
       "      <td>-3.988479</td>\n",
       "    </tr>\n",
       "    <tr>\n",
       "      <th>2</th>\n",
       "      <td>-0.089294</td>\n",
       "      <td>0.251805</td>\n",
       "      <td>-0.373762</td>\n",
       "      <td>-0.107839</td>\n",
       "    </tr>\n",
       "    <tr>\n",
       "      <th>3</th>\n",
       "      <td>-1.093748</td>\n",
       "      <td>1.356543</td>\n",
       "      <td>-2.111500</td>\n",
       "      <td>-2.594083</td>\n",
       "    </tr>\n",
       "    <tr>\n",
       "      <th>4</th>\n",
       "      <td>0.320995</td>\n",
       "      <td>-0.145121</td>\n",
       "      <td>0.346917</td>\n",
       "      <td>-0.583119</td>\n",
       "    </tr>\n",
       "  </tbody>\n",
       "</table>\n",
       "</div>"
      ],
      "text/plain": [
       "         x1        x2     trend         y\n",
       "0  1.024252 -0.650623  1.617167  1.547730\n",
       "1 -1.733671  0.993904 -3.431878 -3.988479\n",
       "2 -0.089294  0.251805 -0.373762 -0.107839\n",
       "3 -1.093748  1.356543 -2.111500 -2.594083\n",
       "4  0.320995 -0.145121  0.346917 -0.583119"
      ]
     },
     "execution_count": 6,
     "metadata": {},
     "output_type": "execute_result"
    }
   ],
   "source": [
    "df.head()"
   ]
  },
  {
   "cell_type": "markdown",
   "id": "65deb308-9aa5-47d0-b541-3009e0b85202",
   "metadata": {},
   "source": [
    "## Fit linear model with INTERACTIONS\n",
    "The formula interface has several STRANGE and WEIRD...YET..quite useful syntax artifacts when working with INTERACTIONS."
   ]
  },
  {
   "cell_type": "code",
   "execution_count": 7,
   "id": "97931b3f-9f25-451d-8a32-69c5259fcd4b",
   "metadata": {},
   "outputs": [],
   "source": [
    "fit_a = smf.ols(formula=\"y ~ x1 + x2 + x1*x2\", data=df).fit()"
   ]
  },
  {
   "cell_type": "code",
   "execution_count": 8,
   "id": "514b123f-32e6-49ba-b547-de3770218db9",
   "metadata": {},
   "outputs": [
    {
     "data": {
      "text/html": [
       "<table class=\"simpletable\">\n",
       "<caption>OLS Regression Results</caption>\n",
       "<tr>\n",
       "  <th>Dep. Variable:</th>            <td>y</td>        <th>  R-squared:         </th> <td>   0.889</td>\n",
       "</tr>\n",
       "<tr>\n",
       "  <th>Model:</th>                   <td>OLS</td>       <th>  Adj. R-squared:    </th> <td>   0.878</td>\n",
       "</tr>\n",
       "<tr>\n",
       "  <th>Method:</th>             <td>Least Squares</td>  <th>  F-statistic:       </th> <td>   82.92</td>\n",
       "</tr>\n",
       "<tr>\n",
       "  <th>Date:</th>             <td>Sat, 16 Nov 2024</td> <th>  Prob (F-statistic):</th> <td>6.69e-15</td>\n",
       "</tr>\n",
       "<tr>\n",
       "  <th>Time:</th>                 <td>00:36:48</td>     <th>  Log-Likelihood:    </th> <td> -34.349</td>\n",
       "</tr>\n",
       "<tr>\n",
       "  <th>No. Observations:</th>      <td>    35</td>      <th>  AIC:               </th> <td>   76.70</td>\n",
       "</tr>\n",
       "<tr>\n",
       "  <th>Df Residuals:</th>          <td>    31</td>      <th>  BIC:               </th> <td>   82.92</td>\n",
       "</tr>\n",
       "<tr>\n",
       "  <th>Df Model:</th>              <td>     3</td>      <th>                     </th>     <td> </td>   \n",
       "</tr>\n",
       "<tr>\n",
       "  <th>Covariance Type:</th>      <td>nonrobust</td>    <th>                     </th>     <td> </td>   \n",
       "</tr>\n",
       "</table>\n",
       "<table class=\"simpletable\">\n",
       "<tr>\n",
       "      <td></td>         <th>coef</th>     <th>std err</th>      <th>t</th>      <th>P>|t|</th>  <th>[0.025</th>    <th>0.975]</th>  \n",
       "</tr>\n",
       "<tr>\n",
       "  <th>Intercept</th> <td>   -0.1073</td> <td>    0.120</td> <td>   -0.894</td> <td> 0.378</td> <td>   -0.352</td> <td>    0.137</td>\n",
       "</tr>\n",
       "<tr>\n",
       "  <th>x1</th>        <td>    1.7486</td> <td>    0.136</td> <td>   12.823</td> <td> 0.000</td> <td>    1.470</td> <td>    2.027</td>\n",
       "</tr>\n",
       "<tr>\n",
       "  <th>x2</th>        <td>    0.1749</td> <td>    0.132</td> <td>    1.325</td> <td> 0.195</td> <td>   -0.094</td> <td>    0.444</td>\n",
       "</tr>\n",
       "<tr>\n",
       "  <th>x1:x2</th>     <td>    0.2649</td> <td>    0.129</td> <td>    2.052</td> <td> 0.049</td> <td>    0.002</td> <td>    0.528</td>\n",
       "</tr>\n",
       "</table>\n",
       "<table class=\"simpletable\">\n",
       "<tr>\n",
       "  <th>Omnibus:</th>       <td> 0.099</td> <th>  Durbin-Watson:     </th> <td>   2.090</td>\n",
       "</tr>\n",
       "<tr>\n",
       "  <th>Prob(Omnibus):</th> <td> 0.952</td> <th>  Jarque-Bera (JB):  </th> <td>   0.313</td>\n",
       "</tr>\n",
       "<tr>\n",
       "  <th>Skew:</th>          <td> 0.036</td> <th>  Prob(JB):          </th> <td>   0.855</td>\n",
       "</tr>\n",
       "<tr>\n",
       "  <th>Kurtosis:</th>      <td> 2.542</td> <th>  Cond. No.          </th> <td>    1.98</td>\n",
       "</tr>\n",
       "</table><br/><br/>Notes:<br/>[1] Standard Errors assume that the covariance matrix of the errors is correctly specified."
      ],
      "text/latex": [
       "\\begin{center}\n",
       "\\begin{tabular}{lclc}\n",
       "\\toprule\n",
       "\\textbf{Dep. Variable:}    &        y         & \\textbf{  R-squared:         } &     0.889   \\\\\n",
       "\\textbf{Model:}            &       OLS        & \\textbf{  Adj. R-squared:    } &     0.878   \\\\\n",
       "\\textbf{Method:}           &  Least Squares   & \\textbf{  F-statistic:       } &     82.92   \\\\\n",
       "\\textbf{Date:}             & Sat, 16 Nov 2024 & \\textbf{  Prob (F-statistic):} &  6.69e-15   \\\\\n",
       "\\textbf{Time:}             &     00:36:48     & \\textbf{  Log-Likelihood:    } &   -34.349   \\\\\n",
       "\\textbf{No. Observations:} &          35      & \\textbf{  AIC:               } &     76.70   \\\\\n",
       "\\textbf{Df Residuals:}     &          31      & \\textbf{  BIC:               } &     82.92   \\\\\n",
       "\\textbf{Df Model:}         &           3      & \\textbf{                     } &             \\\\\n",
       "\\textbf{Covariance Type:}  &    nonrobust     & \\textbf{                     } &             \\\\\n",
       "\\bottomrule\n",
       "\\end{tabular}\n",
       "\\begin{tabular}{lcccccc}\n",
       "                   & \\textbf{coef} & \\textbf{std err} & \\textbf{t} & \\textbf{P$> |$t$|$} & \\textbf{[0.025} & \\textbf{0.975]}  \\\\\n",
       "\\midrule\n",
       "\\textbf{Intercept} &      -0.1073  &        0.120     &    -0.894  &         0.378        &       -0.352    &        0.137     \\\\\n",
       "\\textbf{x1}        &       1.7486  &        0.136     &    12.823  &         0.000        &        1.470    &        2.027     \\\\\n",
       "\\textbf{x2}        &       0.1749  &        0.132     &     1.325  &         0.195        &       -0.094    &        0.444     \\\\\n",
       "\\textbf{x1:x2}     &       0.2649  &        0.129     &     2.052  &         0.049        &        0.002    &        0.528     \\\\\n",
       "\\bottomrule\n",
       "\\end{tabular}\n",
       "\\begin{tabular}{lclc}\n",
       "\\textbf{Omnibus:}       &  0.099 & \\textbf{  Durbin-Watson:     } &    2.090  \\\\\n",
       "\\textbf{Prob(Omnibus):} &  0.952 & \\textbf{  Jarque-Bera (JB):  } &    0.313  \\\\\n",
       "\\textbf{Skew:}          &  0.036 & \\textbf{  Prob(JB):          } &    0.855  \\\\\n",
       "\\textbf{Kurtosis:}      &  2.542 & \\textbf{  Cond. No.          } &     1.98  \\\\\n",
       "\\bottomrule\n",
       "\\end{tabular}\n",
       "%\\caption{OLS Regression Results}\n",
       "\\end{center}\n",
       "\n",
       "Notes: \\newline\n",
       " [1] Standard Errors assume that the covariance matrix of the errors is correctly specified."
      ],
      "text/plain": [
       "<class 'statsmodels.iolib.summary.Summary'>\n",
       "\"\"\"\n",
       "                            OLS Regression Results                            \n",
       "==============================================================================\n",
       "Dep. Variable:                      y   R-squared:                       0.889\n",
       "Model:                            OLS   Adj. R-squared:                  0.878\n",
       "Method:                 Least Squares   F-statistic:                     82.92\n",
       "Date:                Sat, 16 Nov 2024   Prob (F-statistic):           6.69e-15\n",
       "Time:                        00:36:48   Log-Likelihood:                -34.349\n",
       "No. Observations:                  35   AIC:                             76.70\n",
       "Df Residuals:                      31   BIC:                             82.92\n",
       "Df Model:                           3                                         \n",
       "Covariance Type:            nonrobust                                         \n",
       "==============================================================================\n",
       "                 coef    std err          t      P>|t|      [0.025      0.975]\n",
       "------------------------------------------------------------------------------\n",
       "Intercept     -0.1073      0.120     -0.894      0.378      -0.352       0.137\n",
       "x1             1.7486      0.136     12.823      0.000       1.470       2.027\n",
       "x2             0.1749      0.132      1.325      0.195      -0.094       0.444\n",
       "x1:x2          0.2649      0.129      2.052      0.049       0.002       0.528\n",
       "==============================================================================\n",
       "Omnibus:                        0.099   Durbin-Watson:                   2.090\n",
       "Prob(Omnibus):                  0.952   Jarque-Bera (JB):                0.313\n",
       "Skew:                           0.036   Prob(JB):                        0.855\n",
       "Kurtosis:                       2.542   Cond. No.                         1.98\n",
       "==============================================================================\n",
       "\n",
       "Notes:\n",
       "[1] Standard Errors assume that the covariance matrix of the errors is correctly specified.\n",
       "\"\"\""
      ]
     },
     "execution_count": 8,
     "metadata": {},
     "output_type": "execute_result"
    }
   ],
   "source": [
    "fit_a.summary()"
   ]
  },
  {
   "cell_type": "markdown",
   "id": "70ef08dd-8c77-415d-af6e-aa8dea17be45",
   "metadata": {},
   "source": [
    "Lets use the FORMULA INTERFACES actual syntax for the MULTIPLICATION or INTERACTION FEATURE."
   ]
  },
  {
   "cell_type": "code",
   "execution_count": 9,
   "id": "9c217a44-904d-4c0b-b93d-667ad48f8229",
   "metadata": {},
   "outputs": [],
   "source": [
    "fit_b = smf.ols(formula=\"y ~ x1 + x2 + x1:x2\", data=df).fit()"
   ]
  },
  {
   "cell_type": "code",
   "execution_count": 10,
   "id": "8b519218-89ac-46ed-b2e8-5fb476015bfd",
   "metadata": {},
   "outputs": [
    {
     "data": {
      "text/html": [
       "<table class=\"simpletable\">\n",
       "<caption>OLS Regression Results</caption>\n",
       "<tr>\n",
       "  <th>Dep. Variable:</th>            <td>y</td>        <th>  R-squared:         </th> <td>   0.889</td>\n",
       "</tr>\n",
       "<tr>\n",
       "  <th>Model:</th>                   <td>OLS</td>       <th>  Adj. R-squared:    </th> <td>   0.878</td>\n",
       "</tr>\n",
       "<tr>\n",
       "  <th>Method:</th>             <td>Least Squares</td>  <th>  F-statistic:       </th> <td>   82.92</td>\n",
       "</tr>\n",
       "<tr>\n",
       "  <th>Date:</th>             <td>Sat, 16 Nov 2024</td> <th>  Prob (F-statistic):</th> <td>6.69e-15</td>\n",
       "</tr>\n",
       "<tr>\n",
       "  <th>Time:</th>                 <td>00:38:37</td>     <th>  Log-Likelihood:    </th> <td> -34.349</td>\n",
       "</tr>\n",
       "<tr>\n",
       "  <th>No. Observations:</th>      <td>    35</td>      <th>  AIC:               </th> <td>   76.70</td>\n",
       "</tr>\n",
       "<tr>\n",
       "  <th>Df Residuals:</th>          <td>    31</td>      <th>  BIC:               </th> <td>   82.92</td>\n",
       "</tr>\n",
       "<tr>\n",
       "  <th>Df Model:</th>              <td>     3</td>      <th>                     </th>     <td> </td>   \n",
       "</tr>\n",
       "<tr>\n",
       "  <th>Covariance Type:</th>      <td>nonrobust</td>    <th>                     </th>     <td> </td>   \n",
       "</tr>\n",
       "</table>\n",
       "<table class=\"simpletable\">\n",
       "<tr>\n",
       "      <td></td>         <th>coef</th>     <th>std err</th>      <th>t</th>      <th>P>|t|</th>  <th>[0.025</th>    <th>0.975]</th>  \n",
       "</tr>\n",
       "<tr>\n",
       "  <th>Intercept</th> <td>   -0.1073</td> <td>    0.120</td> <td>   -0.894</td> <td> 0.378</td> <td>   -0.352</td> <td>    0.137</td>\n",
       "</tr>\n",
       "<tr>\n",
       "  <th>x1</th>        <td>    1.7486</td> <td>    0.136</td> <td>   12.823</td> <td> 0.000</td> <td>    1.470</td> <td>    2.027</td>\n",
       "</tr>\n",
       "<tr>\n",
       "  <th>x2</th>        <td>    0.1749</td> <td>    0.132</td> <td>    1.325</td> <td> 0.195</td> <td>   -0.094</td> <td>    0.444</td>\n",
       "</tr>\n",
       "<tr>\n",
       "  <th>x1:x2</th>     <td>    0.2649</td> <td>    0.129</td> <td>    2.052</td> <td> 0.049</td> <td>    0.002</td> <td>    0.528</td>\n",
       "</tr>\n",
       "</table>\n",
       "<table class=\"simpletable\">\n",
       "<tr>\n",
       "  <th>Omnibus:</th>       <td> 0.099</td> <th>  Durbin-Watson:     </th> <td>   2.090</td>\n",
       "</tr>\n",
       "<tr>\n",
       "  <th>Prob(Omnibus):</th> <td> 0.952</td> <th>  Jarque-Bera (JB):  </th> <td>   0.313</td>\n",
       "</tr>\n",
       "<tr>\n",
       "  <th>Skew:</th>          <td> 0.036</td> <th>  Prob(JB):          </th> <td>   0.855</td>\n",
       "</tr>\n",
       "<tr>\n",
       "  <th>Kurtosis:</th>      <td> 2.542</td> <th>  Cond. No.          </th> <td>    1.98</td>\n",
       "</tr>\n",
       "</table><br/><br/>Notes:<br/>[1] Standard Errors assume that the covariance matrix of the errors is correctly specified."
      ],
      "text/latex": [
       "\\begin{center}\n",
       "\\begin{tabular}{lclc}\n",
       "\\toprule\n",
       "\\textbf{Dep. Variable:}    &        y         & \\textbf{  R-squared:         } &     0.889   \\\\\n",
       "\\textbf{Model:}            &       OLS        & \\textbf{  Adj. R-squared:    } &     0.878   \\\\\n",
       "\\textbf{Method:}           &  Least Squares   & \\textbf{  F-statistic:       } &     82.92   \\\\\n",
       "\\textbf{Date:}             & Sat, 16 Nov 2024 & \\textbf{  Prob (F-statistic):} &  6.69e-15   \\\\\n",
       "\\textbf{Time:}             &     00:38:37     & \\textbf{  Log-Likelihood:    } &   -34.349   \\\\\n",
       "\\textbf{No. Observations:} &          35      & \\textbf{  AIC:               } &     76.70   \\\\\n",
       "\\textbf{Df Residuals:}     &          31      & \\textbf{  BIC:               } &     82.92   \\\\\n",
       "\\textbf{Df Model:}         &           3      & \\textbf{                     } &             \\\\\n",
       "\\textbf{Covariance Type:}  &    nonrobust     & \\textbf{                     } &             \\\\\n",
       "\\bottomrule\n",
       "\\end{tabular}\n",
       "\\begin{tabular}{lcccccc}\n",
       "                   & \\textbf{coef} & \\textbf{std err} & \\textbf{t} & \\textbf{P$> |$t$|$} & \\textbf{[0.025} & \\textbf{0.975]}  \\\\\n",
       "\\midrule\n",
       "\\textbf{Intercept} &      -0.1073  &        0.120     &    -0.894  &         0.378        &       -0.352    &        0.137     \\\\\n",
       "\\textbf{x1}        &       1.7486  &        0.136     &    12.823  &         0.000        &        1.470    &        2.027     \\\\\n",
       "\\textbf{x2}        &       0.1749  &        0.132     &     1.325  &         0.195        &       -0.094    &        0.444     \\\\\n",
       "\\textbf{x1:x2}     &       0.2649  &        0.129     &     2.052  &         0.049        &        0.002    &        0.528     \\\\\n",
       "\\bottomrule\n",
       "\\end{tabular}\n",
       "\\begin{tabular}{lclc}\n",
       "\\textbf{Omnibus:}       &  0.099 & \\textbf{  Durbin-Watson:     } &    2.090  \\\\\n",
       "\\textbf{Prob(Omnibus):} &  0.952 & \\textbf{  Jarque-Bera (JB):  } &    0.313  \\\\\n",
       "\\textbf{Skew:}          &  0.036 & \\textbf{  Prob(JB):          } &    0.855  \\\\\n",
       "\\textbf{Kurtosis:}      &  2.542 & \\textbf{  Cond. No.          } &     1.98  \\\\\n",
       "\\bottomrule\n",
       "\\end{tabular}\n",
       "%\\caption{OLS Regression Results}\n",
       "\\end{center}\n",
       "\n",
       "Notes: \\newline\n",
       " [1] Standard Errors assume that the covariance matrix of the errors is correctly specified."
      ],
      "text/plain": [
       "<class 'statsmodels.iolib.summary.Summary'>\n",
       "\"\"\"\n",
       "                            OLS Regression Results                            \n",
       "==============================================================================\n",
       "Dep. Variable:                      y   R-squared:                       0.889\n",
       "Model:                            OLS   Adj. R-squared:                  0.878\n",
       "Method:                 Least Squares   F-statistic:                     82.92\n",
       "Date:                Sat, 16 Nov 2024   Prob (F-statistic):           6.69e-15\n",
       "Time:                        00:38:37   Log-Likelihood:                -34.349\n",
       "No. Observations:                  35   AIC:                             76.70\n",
       "Df Residuals:                      31   BIC:                             82.92\n",
       "Df Model:                           3                                         \n",
       "Covariance Type:            nonrobust                                         \n",
       "==============================================================================\n",
       "                 coef    std err          t      P>|t|      [0.025      0.975]\n",
       "------------------------------------------------------------------------------\n",
       "Intercept     -0.1073      0.120     -0.894      0.378      -0.352       0.137\n",
       "x1             1.7486      0.136     12.823      0.000       1.470       2.027\n",
       "x2             0.1749      0.132      1.325      0.195      -0.094       0.444\n",
       "x1:x2          0.2649      0.129      2.052      0.049       0.002       0.528\n",
       "==============================================================================\n",
       "Omnibus:                        0.099   Durbin-Watson:                   2.090\n",
       "Prob(Omnibus):                  0.952   Jarque-Bera (JB):                0.313\n",
       "Skew:                           0.036   Prob(JB):                        0.855\n",
       "Kurtosis:                       2.542   Cond. No.                         1.98\n",
       "==============================================================================\n",
       "\n",
       "Notes:\n",
       "[1] Standard Errors assume that the covariance matrix of the errors is correctly specified.\n",
       "\"\"\""
      ]
     },
     "execution_count": 10,
     "metadata": {},
     "output_type": "execute_result"
    }
   ],
   "source": [
    "fit_b.summary()"
   ]
  },
  {
   "cell_type": "markdown",
   "id": "949789dd-95f3-434a-adbc-119bdcc8aa58",
   "metadata": {},
   "source": [
    "The FORMULA interface creates a SHORTCUT to INCLUDE MAIN EFFECTS **AND** INTERACTIONS in the model!!\n",
    "\n",
    "The SHORTCUT is to use the `*` operator in the FORMULA interface!!!"
   ]
  },
  {
   "cell_type": "code",
   "execution_count": 11,
   "id": "48c3dfee-30cd-4a6a-b491-f74bcae6b41d",
   "metadata": {},
   "outputs": [],
   "source": [
    "fit_c = smf.ols(formula=\"y ~ x1*x2\", data=df).fit()"
   ]
  },
  {
   "cell_type": "code",
   "execution_count": 12,
   "id": "832fe67b-fd37-4b53-abe2-3e2031c6bcef",
   "metadata": {},
   "outputs": [
    {
     "data": {
      "text/html": [
       "<table class=\"simpletable\">\n",
       "<caption>OLS Regression Results</caption>\n",
       "<tr>\n",
       "  <th>Dep. Variable:</th>            <td>y</td>        <th>  R-squared:         </th> <td>   0.889</td>\n",
       "</tr>\n",
       "<tr>\n",
       "  <th>Model:</th>                   <td>OLS</td>       <th>  Adj. R-squared:    </th> <td>   0.878</td>\n",
       "</tr>\n",
       "<tr>\n",
       "  <th>Method:</th>             <td>Least Squares</td>  <th>  F-statistic:       </th> <td>   82.92</td>\n",
       "</tr>\n",
       "<tr>\n",
       "  <th>Date:</th>             <td>Sat, 16 Nov 2024</td> <th>  Prob (F-statistic):</th> <td>6.69e-15</td>\n",
       "</tr>\n",
       "<tr>\n",
       "  <th>Time:</th>                 <td>00:40:37</td>     <th>  Log-Likelihood:    </th> <td> -34.349</td>\n",
       "</tr>\n",
       "<tr>\n",
       "  <th>No. Observations:</th>      <td>    35</td>      <th>  AIC:               </th> <td>   76.70</td>\n",
       "</tr>\n",
       "<tr>\n",
       "  <th>Df Residuals:</th>          <td>    31</td>      <th>  BIC:               </th> <td>   82.92</td>\n",
       "</tr>\n",
       "<tr>\n",
       "  <th>Df Model:</th>              <td>     3</td>      <th>                     </th>     <td> </td>   \n",
       "</tr>\n",
       "<tr>\n",
       "  <th>Covariance Type:</th>      <td>nonrobust</td>    <th>                     </th>     <td> </td>   \n",
       "</tr>\n",
       "</table>\n",
       "<table class=\"simpletable\">\n",
       "<tr>\n",
       "      <td></td>         <th>coef</th>     <th>std err</th>      <th>t</th>      <th>P>|t|</th>  <th>[0.025</th>    <th>0.975]</th>  \n",
       "</tr>\n",
       "<tr>\n",
       "  <th>Intercept</th> <td>   -0.1073</td> <td>    0.120</td> <td>   -0.894</td> <td> 0.378</td> <td>   -0.352</td> <td>    0.137</td>\n",
       "</tr>\n",
       "<tr>\n",
       "  <th>x1</th>        <td>    1.7486</td> <td>    0.136</td> <td>   12.823</td> <td> 0.000</td> <td>    1.470</td> <td>    2.027</td>\n",
       "</tr>\n",
       "<tr>\n",
       "  <th>x2</th>        <td>    0.1749</td> <td>    0.132</td> <td>    1.325</td> <td> 0.195</td> <td>   -0.094</td> <td>    0.444</td>\n",
       "</tr>\n",
       "<tr>\n",
       "  <th>x1:x2</th>     <td>    0.2649</td> <td>    0.129</td> <td>    2.052</td> <td> 0.049</td> <td>    0.002</td> <td>    0.528</td>\n",
       "</tr>\n",
       "</table>\n",
       "<table class=\"simpletable\">\n",
       "<tr>\n",
       "  <th>Omnibus:</th>       <td> 0.099</td> <th>  Durbin-Watson:     </th> <td>   2.090</td>\n",
       "</tr>\n",
       "<tr>\n",
       "  <th>Prob(Omnibus):</th> <td> 0.952</td> <th>  Jarque-Bera (JB):  </th> <td>   0.313</td>\n",
       "</tr>\n",
       "<tr>\n",
       "  <th>Skew:</th>          <td> 0.036</td> <th>  Prob(JB):          </th> <td>   0.855</td>\n",
       "</tr>\n",
       "<tr>\n",
       "  <th>Kurtosis:</th>      <td> 2.542</td> <th>  Cond. No.          </th> <td>    1.98</td>\n",
       "</tr>\n",
       "</table><br/><br/>Notes:<br/>[1] Standard Errors assume that the covariance matrix of the errors is correctly specified."
      ],
      "text/latex": [
       "\\begin{center}\n",
       "\\begin{tabular}{lclc}\n",
       "\\toprule\n",
       "\\textbf{Dep. Variable:}    &        y         & \\textbf{  R-squared:         } &     0.889   \\\\\n",
       "\\textbf{Model:}            &       OLS        & \\textbf{  Adj. R-squared:    } &     0.878   \\\\\n",
       "\\textbf{Method:}           &  Least Squares   & \\textbf{  F-statistic:       } &     82.92   \\\\\n",
       "\\textbf{Date:}             & Sat, 16 Nov 2024 & \\textbf{  Prob (F-statistic):} &  6.69e-15   \\\\\n",
       "\\textbf{Time:}             &     00:40:37     & \\textbf{  Log-Likelihood:    } &   -34.349   \\\\\n",
       "\\textbf{No. Observations:} &          35      & \\textbf{  AIC:               } &     76.70   \\\\\n",
       "\\textbf{Df Residuals:}     &          31      & \\textbf{  BIC:               } &     82.92   \\\\\n",
       "\\textbf{Df Model:}         &           3      & \\textbf{                     } &             \\\\\n",
       "\\textbf{Covariance Type:}  &    nonrobust     & \\textbf{                     } &             \\\\\n",
       "\\bottomrule\n",
       "\\end{tabular}\n",
       "\\begin{tabular}{lcccccc}\n",
       "                   & \\textbf{coef} & \\textbf{std err} & \\textbf{t} & \\textbf{P$> |$t$|$} & \\textbf{[0.025} & \\textbf{0.975]}  \\\\\n",
       "\\midrule\n",
       "\\textbf{Intercept} &      -0.1073  &        0.120     &    -0.894  &         0.378        &       -0.352    &        0.137     \\\\\n",
       "\\textbf{x1}        &       1.7486  &        0.136     &    12.823  &         0.000        &        1.470    &        2.027     \\\\\n",
       "\\textbf{x2}        &       0.1749  &        0.132     &     1.325  &         0.195        &       -0.094    &        0.444     \\\\\n",
       "\\textbf{x1:x2}     &       0.2649  &        0.129     &     2.052  &         0.049        &        0.002    &        0.528     \\\\\n",
       "\\bottomrule\n",
       "\\end{tabular}\n",
       "\\begin{tabular}{lclc}\n",
       "\\textbf{Omnibus:}       &  0.099 & \\textbf{  Durbin-Watson:     } &    2.090  \\\\\n",
       "\\textbf{Prob(Omnibus):} &  0.952 & \\textbf{  Jarque-Bera (JB):  } &    0.313  \\\\\n",
       "\\textbf{Skew:}          &  0.036 & \\textbf{  Prob(JB):          } &    0.855  \\\\\n",
       "\\textbf{Kurtosis:}      &  2.542 & \\textbf{  Cond. No.          } &     1.98  \\\\\n",
       "\\bottomrule\n",
       "\\end{tabular}\n",
       "%\\caption{OLS Regression Results}\n",
       "\\end{center}\n",
       "\n",
       "Notes: \\newline\n",
       " [1] Standard Errors assume that the covariance matrix of the errors is correctly specified."
      ],
      "text/plain": [
       "<class 'statsmodels.iolib.summary.Summary'>\n",
       "\"\"\"\n",
       "                            OLS Regression Results                            \n",
       "==============================================================================\n",
       "Dep. Variable:                      y   R-squared:                       0.889\n",
       "Model:                            OLS   Adj. R-squared:                  0.878\n",
       "Method:                 Least Squares   F-statistic:                     82.92\n",
       "Date:                Sat, 16 Nov 2024   Prob (F-statistic):           6.69e-15\n",
       "Time:                        00:40:37   Log-Likelihood:                -34.349\n",
       "No. Observations:                  35   AIC:                             76.70\n",
       "Df Residuals:                      31   BIC:                             82.92\n",
       "Df Model:                           3                                         \n",
       "Covariance Type:            nonrobust                                         \n",
       "==============================================================================\n",
       "                 coef    std err          t      P>|t|      [0.025      0.975]\n",
       "------------------------------------------------------------------------------\n",
       "Intercept     -0.1073      0.120     -0.894      0.378      -0.352       0.137\n",
       "x1             1.7486      0.136     12.823      0.000       1.470       2.027\n",
       "x2             0.1749      0.132      1.325      0.195      -0.094       0.444\n",
       "x1:x2          0.2649      0.129      2.052      0.049       0.002       0.528\n",
       "==============================================================================\n",
       "Omnibus:                        0.099   Durbin-Watson:                   2.090\n",
       "Prob(Omnibus):                  0.952   Jarque-Bera (JB):                0.313\n",
       "Skew:                           0.036   Prob(JB):                        0.855\n",
       "Kurtosis:                       2.542   Cond. No.                         1.98\n",
       "==============================================================================\n",
       "\n",
       "Notes:\n",
       "[1] Standard Errors assume that the covariance matrix of the errors is correctly specified.\n",
       "\"\"\""
      ]
     },
     "execution_count": 12,
     "metadata": {},
     "output_type": "execute_result"
    }
   ],
   "source": [
    "fit_c.summary()"
   ]
  },
  {
   "cell_type": "code",
   "execution_count": 13,
   "id": "5e3e5260-f033-4a2b-af6c-0ef294c8da5d",
   "metadata": {},
   "outputs": [
    {
     "data": {
      "text/plain": [
       "Intercept    True\n",
       "x1           True\n",
       "x2           True\n",
       "x1:x2        True\n",
       "dtype: bool"
      ]
     },
     "execution_count": 13,
     "metadata": {},
     "output_type": "execute_result"
    }
   ],
   "source": [
    "fit_c.params == fit_b.params"
   ]
  },
  {
   "cell_type": "code",
   "execution_count": 14,
   "id": "59c1cbe5-069b-49fc-bd1a-f5ec701962d2",
   "metadata": {},
   "outputs": [
    {
     "data": {
      "text/plain": [
       "Intercept    True\n",
       "x1           True\n",
       "x2           True\n",
       "x1:x2        True\n",
       "dtype: bool"
      ]
     },
     "execution_count": 14,
     "metadata": {},
     "output_type": "execute_result"
    }
   ],
   "source": [
    "fit_c.bse == fit_b.bse"
   ]
  },
  {
   "cell_type": "code",
   "execution_count": 15,
   "id": "612885a7-38f6-429b-af00-64f745564a98",
   "metadata": {},
   "outputs": [
    {
     "data": {
      "text/plain": [
       "Intercept    True\n",
       "x1           True\n",
       "x2           True\n",
       "x1:x2        True\n",
       "dtype: bool"
      ]
     },
     "execution_count": 15,
     "metadata": {},
     "output_type": "execute_result"
    }
   ],
   "source": [
    "fit_c.pvalues == fit_b.pvalues"
   ]
  },
  {
   "cell_type": "markdown",
   "id": "1afc1236-d16a-4371-917a-e44fd4bb9ecf",
   "metadata": {},
   "source": [
    "This means if we would ONLY want PRODUCTS then we should use the `:` operator in the FORMULA."
   ]
  },
  {
   "cell_type": "code",
   "execution_count": 16,
   "id": "2ee9d946-cb09-46ae-ac98-c7753e147ab5",
   "metadata": {},
   "outputs": [],
   "source": [
    "fit_df = smf.ols(formula=\"y ~ x1:x2\", data=df).fit()"
   ]
  },
  {
   "cell_type": "code",
   "execution_count": 17,
   "id": "9922f00e-1606-4abe-92bc-986ba4d85cc7",
   "metadata": {},
   "outputs": [
    {
     "data": {
      "text/html": [
       "<table class=\"simpletable\">\n",
       "<caption>OLS Regression Results</caption>\n",
       "<tr>\n",
       "  <th>Dep. Variable:</th>            <td>y</td>        <th>  R-squared:         </th> <td>   0.282</td>\n",
       "</tr>\n",
       "<tr>\n",
       "  <th>Model:</th>                   <td>OLS</td>       <th>  Adj. R-squared:    </th> <td>   0.260</td>\n",
       "</tr>\n",
       "<tr>\n",
       "  <th>Method:</th>             <td>Least Squares</td>  <th>  F-statistic:       </th> <td>   12.95</td>\n",
       "</tr>\n",
       "<tr>\n",
       "  <th>Date:</th>             <td>Sat, 16 Nov 2024</td> <th>  Prob (F-statistic):</th>  <td>0.00103</td>\n",
       "</tr>\n",
       "<tr>\n",
       "  <th>Time:</th>                 <td>00:45:26</td>     <th>  Log-Likelihood:    </th> <td> -67.053</td>\n",
       "</tr>\n",
       "<tr>\n",
       "  <th>No. Observations:</th>      <td>    35</td>      <th>  AIC:               </th> <td>   138.1</td>\n",
       "</tr>\n",
       "<tr>\n",
       "  <th>Df Residuals:</th>          <td>    33</td>      <th>  BIC:               </th> <td>   141.2</td>\n",
       "</tr>\n",
       "<tr>\n",
       "  <th>Df Model:</th>              <td>     1</td>      <th>                     </th>     <td> </td>   \n",
       "</tr>\n",
       "<tr>\n",
       "  <th>Covariance Type:</th>      <td>nonrobust</td>    <th>                     </th>     <td> </td>   \n",
       "</tr>\n",
       "</table>\n",
       "<table class=\"simpletable\">\n",
       "<tr>\n",
       "      <td></td>         <th>coef</th>     <th>std err</th>      <th>t</th>      <th>P>|t|</th>  <th>[0.025</th>    <th>0.975]</th>  \n",
       "</tr>\n",
       "<tr>\n",
       "  <th>Intercept</th> <td>    0.0069</td> <td>    0.287</td> <td>    0.024</td> <td> 0.981</td> <td>   -0.578</td> <td>    0.592</td>\n",
       "</tr>\n",
       "<tr>\n",
       "  <th>x1:x2</th>     <td>    0.9397</td> <td>    0.261</td> <td>    3.599</td> <td> 0.001</td> <td>    0.408</td> <td>    1.471</td>\n",
       "</tr>\n",
       "</table>\n",
       "<table class=\"simpletable\">\n",
       "<tr>\n",
       "  <th>Omnibus:</th>       <td> 0.981</td> <th>  Durbin-Watson:     </th> <td>   1.509</td>\n",
       "</tr>\n",
       "<tr>\n",
       "  <th>Prob(Omnibus):</th> <td> 0.612</td> <th>  Jarque-Bera (JB):  </th> <td>   0.238</td>\n",
       "</tr>\n",
       "<tr>\n",
       "  <th>Skew:</th>          <td> 0.062</td> <th>  Prob(JB):          </th> <td>   0.888</td>\n",
       "</tr>\n",
       "<tr>\n",
       "  <th>Kurtosis:</th>      <td> 3.385</td> <th>  Cond. No.          </th> <td>    1.14</td>\n",
       "</tr>\n",
       "</table><br/><br/>Notes:<br/>[1] Standard Errors assume that the covariance matrix of the errors is correctly specified."
      ],
      "text/latex": [
       "\\begin{center}\n",
       "\\begin{tabular}{lclc}\n",
       "\\toprule\n",
       "\\textbf{Dep. Variable:}    &        y         & \\textbf{  R-squared:         } &     0.282   \\\\\n",
       "\\textbf{Model:}            &       OLS        & \\textbf{  Adj. R-squared:    } &     0.260   \\\\\n",
       "\\textbf{Method:}           &  Least Squares   & \\textbf{  F-statistic:       } &     12.95   \\\\\n",
       "\\textbf{Date:}             & Sat, 16 Nov 2024 & \\textbf{  Prob (F-statistic):} &  0.00103    \\\\\n",
       "\\textbf{Time:}             &     00:45:26     & \\textbf{  Log-Likelihood:    } &   -67.053   \\\\\n",
       "\\textbf{No. Observations:} &          35      & \\textbf{  AIC:               } &     138.1   \\\\\n",
       "\\textbf{Df Residuals:}     &          33      & \\textbf{  BIC:               } &     141.2   \\\\\n",
       "\\textbf{Df Model:}         &           1      & \\textbf{                     } &             \\\\\n",
       "\\textbf{Covariance Type:}  &    nonrobust     & \\textbf{                     } &             \\\\\n",
       "\\bottomrule\n",
       "\\end{tabular}\n",
       "\\begin{tabular}{lcccccc}\n",
       "                   & \\textbf{coef} & \\textbf{std err} & \\textbf{t} & \\textbf{P$> |$t$|$} & \\textbf{[0.025} & \\textbf{0.975]}  \\\\\n",
       "\\midrule\n",
       "\\textbf{Intercept} &       0.0069  &        0.287     &     0.024  &         0.981        &       -0.578    &        0.592     \\\\\n",
       "\\textbf{x1:x2}     &       0.9397  &        0.261     &     3.599  &         0.001        &        0.408    &        1.471     \\\\\n",
       "\\bottomrule\n",
       "\\end{tabular}\n",
       "\\begin{tabular}{lclc}\n",
       "\\textbf{Omnibus:}       &  0.981 & \\textbf{  Durbin-Watson:     } &    1.509  \\\\\n",
       "\\textbf{Prob(Omnibus):} &  0.612 & \\textbf{  Jarque-Bera (JB):  } &    0.238  \\\\\n",
       "\\textbf{Skew:}          &  0.062 & \\textbf{  Prob(JB):          } &    0.888  \\\\\n",
       "\\textbf{Kurtosis:}      &  3.385 & \\textbf{  Cond. No.          } &     1.14  \\\\\n",
       "\\bottomrule\n",
       "\\end{tabular}\n",
       "%\\caption{OLS Regression Results}\n",
       "\\end{center}\n",
       "\n",
       "Notes: \\newline\n",
       " [1] Standard Errors assume that the covariance matrix of the errors is correctly specified."
      ],
      "text/plain": [
       "<class 'statsmodels.iolib.summary.Summary'>\n",
       "\"\"\"\n",
       "                            OLS Regression Results                            \n",
       "==============================================================================\n",
       "Dep. Variable:                      y   R-squared:                       0.282\n",
       "Model:                            OLS   Adj. R-squared:                  0.260\n",
       "Method:                 Least Squares   F-statistic:                     12.95\n",
       "Date:                Sat, 16 Nov 2024   Prob (F-statistic):            0.00103\n",
       "Time:                        00:45:26   Log-Likelihood:                -67.053\n",
       "No. Observations:                  35   AIC:                             138.1\n",
       "Df Residuals:                      33   BIC:                             141.2\n",
       "Df Model:                           1                                         \n",
       "Covariance Type:            nonrobust                                         \n",
       "==============================================================================\n",
       "                 coef    std err          t      P>|t|      [0.025      0.975]\n",
       "------------------------------------------------------------------------------\n",
       "Intercept      0.0069      0.287      0.024      0.981      -0.578       0.592\n",
       "x1:x2          0.9397      0.261      3.599      0.001       0.408       1.471\n",
       "==============================================================================\n",
       "Omnibus:                        0.981   Durbin-Watson:                   1.509\n",
       "Prob(Omnibus):                  0.612   Jarque-Bera (JB):                0.238\n",
       "Skew:                           0.062   Prob(JB):                        0.888\n",
       "Kurtosis:                       3.385   Cond. No.                         1.14\n",
       "==============================================================================\n",
       "\n",
       "Notes:\n",
       "[1] Standard Errors assume that the covariance matrix of the errors is correctly specified.\n",
       "\"\"\""
      ]
     },
     "execution_count": 17,
     "metadata": {},
     "output_type": "execute_result"
    }
   ],
   "source": [
    "fit_df.summary()"
   ]
  },
  {
   "cell_type": "markdown",
   "id": "ac863489-d0ba-4ad6-b599-bdc1fb9d2370",
   "metadata": {},
   "source": [
    "There is ONE MORE way of representing the SHORTCUT and this is related to the WHY we need to use the np.power() when we want to RAISE an input to a polynomial degree."
   ]
  },
  {
   "cell_type": "code",
   "execution_count": 18,
   "id": "7ce13a11-aecb-4a52-b586-7551d355396a",
   "metadata": {},
   "outputs": [
    {
     "data": {
      "text/plain": [
       "0    1.049092\n",
       "1    3.005615\n",
       "2    0.007973\n",
       "3    1.196285\n",
       "4    0.103038\n",
       "Name: x1, dtype: float64"
      ]
     },
     "execution_count": 18,
     "metadata": {},
     "output_type": "execute_result"
    }
   ],
   "source": [
    "df.x1.head()**2"
   ]
  },
  {
   "cell_type": "code",
   "execution_count": 19,
   "id": "b9d5cd88-d616-437e-a2cb-8902e5c339e0",
   "metadata": {},
   "outputs": [
    {
     "data": {
      "text/plain": [
       "array([1.04909217, 3.00561521, 0.00797335, 1.19628455, 0.10303796])"
      ]
     },
     "execution_count": 19,
     "metadata": {},
     "output_type": "execute_result"
    }
   ],
   "source": [
    "np.power(df.x1.head().to_numpy(), 2)"
   ]
  },
  {
   "cell_type": "code",
   "execution_count": 20,
   "id": "0ef5146b-3a58-4fd8-960d-0a43ff61ca74",
   "metadata": {},
   "outputs": [],
   "source": [
    "fit_e = smf.ols(formula=\"y ~ x1**2 + x2**2\", data=df).fit()"
   ]
  },
  {
   "cell_type": "code",
   "execution_count": 21,
   "id": "ea64681e-62e3-44f2-8d00-bbfbc74630a6",
   "metadata": {},
   "outputs": [
    {
     "data": {
      "text/plain": [
       "Intercept   -0.109888\n",
       "x1           1.879500\n",
       "x2           0.075586\n",
       "dtype: float64"
      ]
     },
     "execution_count": 21,
     "metadata": {},
     "output_type": "execute_result"
    }
   ],
   "source": [
    "fit_e.params"
   ]
  },
  {
   "cell_type": "code",
   "execution_count": 30,
   "id": "75b1389b-d1a0-4874-9220-88185718ea8d",
   "metadata": {},
   "outputs": [],
   "source": [
    "fit_f = smf.ols(formula=\"y ~ x1 + x2\", data=df).fit()"
   ]
  },
  {
   "cell_type": "code",
   "execution_count": 31,
   "id": "1eab2e8b-75d5-4d9b-9744-897d246a161b",
   "metadata": {},
   "outputs": [
    {
     "data": {
      "text/plain": [
       "Intercept   -0.109888\n",
       "x1           1.879500\n",
       "x2           0.075586\n",
       "dtype: float64"
      ]
     },
     "execution_count": 31,
     "metadata": {},
     "output_type": "execute_result"
    }
   ],
   "source": [
    "fit_f.params"
   ]
  },
  {
   "cell_type": "markdown",
   "id": "00b993db-3d36-4811-82be-63bbbd8b3619",
   "metadata": {},
   "source": [
    "In the FORMULA interface, the `**` or POWER operator denotes the DEGREE of INTERACTION between the INPUTS!!!\n",
    "\n",
    "You cannot use the `**` to RAISE an input to a POWER!!!"
   ]
  },
  {
   "cell_type": "code",
   "execution_count": 32,
   "id": "03c0c7e5-f075-465e-974b-4162e91c4700",
   "metadata": {},
   "outputs": [],
   "source": [
    "fit_g = smf.ols(formula=\"y ~ np.power(x1, 2) + np.power(x2, 2)\", data=df).fit()"
   ]
  },
  {
   "cell_type": "code",
   "execution_count": 33,
   "id": "9d83d333-a897-4736-b8e4-67e6d3da0b04",
   "metadata": {},
   "outputs": [
    {
     "data": {
      "text/plain": [
       "Intercept          0.023664\n",
       "np.power(x1, 2)    0.468992\n",
       "np.power(x2, 2)   -0.573997\n",
       "dtype: float64"
      ]
     },
     "execution_count": 33,
     "metadata": {},
     "output_type": "execute_result"
    }
   ],
   "source": [
    "fit_g.params"
   ]
  },
  {
   "cell_type": "code",
   "execution_count": 34,
   "id": "bc05d64b-3b1b-41c8-91dd-231b9b1fe0c0",
   "metadata": {},
   "outputs": [],
   "source": [
    "fit_h = smf.ols(formula=\"y ~ x1+ np.power(x1, 2) + x2 + np.power(x2, 2)\", data=df).fit()"
   ]
  },
  {
   "cell_type": "code",
   "execution_count": 35,
   "id": "0717dd7b-ce08-4171-942d-34939bf39625",
   "metadata": {},
   "outputs": [
    {
     "data": {
      "text/plain": [
       "Intercept         -0.133105\n",
       "x1                 1.844778\n",
       "np.power(x1, 2)    0.085897\n",
       "x2                 0.072746\n",
       "np.power(x2, 2)   -0.058627\n",
       "dtype: float64"
      ]
     },
     "execution_count": 35,
     "metadata": {},
     "output_type": "execute_result"
    }
   ],
   "source": [
    "fit_h.params"
   ]
  },
  {
   "cell_type": "markdown",
   "id": "de8016c9-d3f3-413e-bd78-12163cb2ddef",
   "metadata": {},
   "source": [
    "A shortcut is that you can CREATE up to and INCLUDING ALL DEGREE OF INTERACTIONS using the `**` operator in the FORMULA interface!!!!"
   ]
  },
  {
   "cell_type": "code",
   "execution_count": 36,
   "id": "1a262241-fc66-4e9d-bf17-4db5a4cc43bb",
   "metadata": {},
   "outputs": [],
   "source": [
    "fit_i = smf.ols(formula=\"y ~ (x1 + x2)**2\", data=df).fit()"
   ]
  },
  {
   "cell_type": "code",
   "execution_count": 37,
   "id": "416298ad-bb46-4175-a67f-d52f46abd551",
   "metadata": {},
   "outputs": [
    {
     "data": {
      "text/plain": [
       "Intercept   -0.107266\n",
       "x1           1.748614\n",
       "x2           0.174882\n",
       "x1:x2        0.264916\n",
       "dtype: float64"
      ]
     },
     "execution_count": 37,
     "metadata": {},
     "output_type": "execute_result"
    }
   ],
   "source": [
    "fit_i.params"
   ]
  },
  {
   "cell_type": "markdown",
   "id": "8965bdf4-64cd-4542-b21d-c4bcbd02d745",
   "metadata": {},
   "source": [
    "You can use this notation to create very COMPLEX interactions between many different types of FEATURES!!!\n",
    "\n",
    "Thus, you can even INTERACT non-linear features together!!!"
   ]
  },
  {
   "cell_type": "code",
   "execution_count": 47,
   "id": "a8874075-8ad4-416e-a2d7-7a7a2d83be6d",
   "metadata": {},
   "outputs": [],
   "source": [
    "fit_j = smf.ols(formula=\"y ~ (x1 + np.power(x1, 2) + x2 + np.power(x2, 2))**2\", data=df).fit()"
   ]
  },
  {
   "cell_type": "code",
   "execution_count": 48,
   "id": "6c1ca811-8490-48be-a73d-cfb7f773d125",
   "metadata": {},
   "outputs": [
    {
     "data": {
      "text/plain": [
       "Intercept                          0.143433\n",
       "x1                                 1.043322\n",
       "np.power(x1, 2)                   -0.363776\n",
       "x2                                 0.044654\n",
       "np.power(x2, 2)                   -0.219340\n",
       "x1:np.power(x1, 2)                 0.230775\n",
       "x1:x2                             -0.214390\n",
       "x1:np.power(x2, 2)                 0.484325\n",
       "np.power(x1, 2):x2                -0.154070\n",
       "np.power(x1, 2):np.power(x2, 2)    0.482368\n",
       "x2:np.power(x2, 2)                -0.063944\n",
       "dtype: float64"
      ]
     },
     "execution_count": 48,
     "metadata": {},
     "output_type": "execute_result"
    }
   ],
   "source": [
    "fit_j.params"
   ]
  },
  {
   "cell_type": "markdown",
   "id": "3a00d96d-8eaa-4d35-9b97-77d91761e83b",
   "metadata": {},
   "source": [
    "When you want to INTERACT polynomials...I like to separate the POLYNOMIALS derived from each input using `()` in the formula interface!!!"
   ]
  },
  {
   "cell_type": "code",
   "execution_count": 45,
   "id": "086f1e81-fceb-4a44-a614-e97d963535f5",
   "metadata": {},
   "outputs": [],
   "source": [
    "fit_k = smf.ols(formula=\"y ~ (x1 + np.power(x1, 2)) * (x2 + np.power(x2, 2))\", data=df).fit()"
   ]
  },
  {
   "cell_type": "code",
   "execution_count": 46,
   "id": "c724de15-d4be-4b48-b1c9-c4ecf33bda6f",
   "metadata": {},
   "outputs": [
    {
     "data": {
      "text/plain": [
       "Intercept                          0.048390\n",
       "x1                                 1.355946\n",
       "np.power(x1, 2)                   -0.287992\n",
       "x2                                -0.030340\n",
       "np.power(x2, 2)                   -0.061388\n",
       "x1:x2                             -0.229695\n",
       "x1:np.power(x2, 2)                 0.641887\n",
       "np.power(x1, 2):x2                -0.229303\n",
       "np.power(x1, 2):np.power(x2, 2)    0.458874\n",
       "dtype: float64"
      ]
     },
     "execution_count": 46,
     "metadata": {},
     "output_type": "execute_result"
    }
   ],
   "source": [
    "fit_k.params"
   ]
  },
  {
   "cell_type": "markdown",
   "id": "7696c1f6-cc79-48fb-a601-7c5e439cf19a",
   "metadata": {},
   "source": [
    "## Make Predictions\n",
    "You do NOT need to create the interactions features yourself!!\n",
    "\n",
    "You only need to define the INPUTS and the model object will generate all necessary features for you...because the FORMULA INTERFACE **REMEMBERS** what to do!!!\n",
    "\n",
    "We learned how to create a GRID of combinations of the INPUTS!!"
   ]
  },
  {
   "cell_type": "code",
   "execution_count": 51,
   "id": "7ad920e6-69db-4d5e-a295-a3fa2d152538",
   "metadata": {},
   "outputs": [],
   "source": [
    "input_grid = pd.DataFrame([(x1, x2) for x1 in np.linspace(df.x1.min(), df.x1.max(), num=101)\n",
    "                                    for x2 in np.linspace(df.x2.min(), df.x2.max(), num=9)], \n",
    "                          columns=[\"x1\", \"x2\"])"
   ]
  },
  {
   "cell_type": "code",
   "execution_count": 52,
   "id": "27ea98fd-9dff-4dea-954d-82489bd5047b",
   "metadata": {},
   "outputs": [
    {
     "data": {
      "text/html": [
       "<div>\n",
       "<style scoped>\n",
       "    .dataframe tbody tr th:only-of-type {\n",
       "        vertical-align: middle;\n",
       "    }\n",
       "\n",
       "    .dataframe tbody tr th {\n",
       "        vertical-align: top;\n",
       "    }\n",
       "\n",
       "    .dataframe thead th {\n",
       "        text-align: right;\n",
       "    }\n",
       "</style>\n",
       "<table border=\"1\" class=\"dataframe\">\n",
       "  <thead>\n",
       "    <tr style=\"text-align: right;\">\n",
       "      <th></th>\n",
       "      <th>x1</th>\n",
       "      <th>x2</th>\n",
       "    </tr>\n",
       "  </thead>\n",
       "  <tbody>\n",
       "    <tr>\n",
       "      <th>0</th>\n",
       "      <td>-1.733671</td>\n",
       "      <td>-1.813330</td>\n",
       "    </tr>\n",
       "    <tr>\n",
       "      <th>1</th>\n",
       "      <td>-1.733671</td>\n",
       "      <td>-1.269344</td>\n",
       "    </tr>\n",
       "    <tr>\n",
       "      <th>2</th>\n",
       "      <td>-1.733671</td>\n",
       "      <td>-0.725357</td>\n",
       "    </tr>\n",
       "    <tr>\n",
       "      <th>3</th>\n",
       "      <td>-1.733671</td>\n",
       "      <td>-0.181371</td>\n",
       "    </tr>\n",
       "    <tr>\n",
       "      <th>4</th>\n",
       "      <td>-1.733671</td>\n",
       "      <td>0.362615</td>\n",
       "    </tr>\n",
       "    <tr>\n",
       "      <th>...</th>\n",
       "      <td>...</td>\n",
       "      <td>...</td>\n",
       "    </tr>\n",
       "    <tr>\n",
       "      <th>904</th>\n",
       "      <td>1.822354</td>\n",
       "      <td>0.362615</td>\n",
       "    </tr>\n",
       "    <tr>\n",
       "      <th>905</th>\n",
       "      <td>1.822354</td>\n",
       "      <td>0.906601</td>\n",
       "    </tr>\n",
       "    <tr>\n",
       "      <th>906</th>\n",
       "      <td>1.822354</td>\n",
       "      <td>1.450587</td>\n",
       "    </tr>\n",
       "    <tr>\n",
       "      <th>907</th>\n",
       "      <td>1.822354</td>\n",
       "      <td>1.994573</td>\n",
       "    </tr>\n",
       "    <tr>\n",
       "      <th>908</th>\n",
       "      <td>1.822354</td>\n",
       "      <td>2.538560</td>\n",
       "    </tr>\n",
       "  </tbody>\n",
       "</table>\n",
       "<p>909 rows × 2 columns</p>\n",
       "</div>"
      ],
      "text/plain": [
       "           x1        x2\n",
       "0   -1.733671 -1.813330\n",
       "1   -1.733671 -1.269344\n",
       "2   -1.733671 -0.725357\n",
       "3   -1.733671 -0.181371\n",
       "4   -1.733671  0.362615\n",
       "..        ...       ...\n",
       "904  1.822354  0.362615\n",
       "905  1.822354  0.906601\n",
       "906  1.822354  1.450587\n",
       "907  1.822354  1.994573\n",
       "908  1.822354  2.538560\n",
       "\n",
       "[909 rows x 2 columns]"
      ]
     },
     "execution_count": 52,
     "metadata": {},
     "output_type": "execute_result"
    }
   ],
   "source": [
    "input_grid"
   ]
  },
  {
   "cell_type": "code",
   "execution_count": 53,
   "id": "877818aa-2a40-4fa3-83ac-8e215466b58c",
   "metadata": {},
   "outputs": [],
   "source": [
    "viz_grid = input_grid.copy()"
   ]
  },
  {
   "cell_type": "markdown",
   "id": "5337cafc-5ffb-47c4-84f9-50d49daf4e82",
   "metadata": {},
   "source": [
    "PREDICT the AVERAGE OUTPUT or TREND using the last model we fit."
   ]
  },
  {
   "cell_type": "code",
   "execution_count": 54,
   "id": "f601f30d-87fe-4796-bf53-1a1555c24a9c",
   "metadata": {},
   "outputs": [],
   "source": [
    "viz_grid[\"pred\"] = fit_k.predict(viz_grid)"
   ]
  },
  {
   "cell_type": "code",
   "execution_count": 55,
   "id": "fb759fc0-9a00-4799-aaaa-01fe59bb5f32",
   "metadata": {},
   "outputs": [
    {
     "data": {
      "text/html": [
       "<div>\n",
       "<style scoped>\n",
       "    .dataframe tbody tr th:only-of-type {\n",
       "        vertical-align: middle;\n",
       "    }\n",
       "\n",
       "    .dataframe tbody tr th {\n",
       "        vertical-align: top;\n",
       "    }\n",
       "\n",
       "    .dataframe thead th {\n",
       "        text-align: right;\n",
       "    }\n",
       "</style>\n",
       "<table border=\"1\" class=\"dataframe\">\n",
       "  <thead>\n",
       "    <tr style=\"text-align: right;\">\n",
       "      <th></th>\n",
       "      <th>x1</th>\n",
       "      <th>x2</th>\n",
       "      <th>pred</th>\n",
       "    </tr>\n",
       "  </thead>\n",
       "  <tbody>\n",
       "    <tr>\n",
       "      <th>0</th>\n",
       "      <td>-1.733671</td>\n",
       "      <td>-1.813330</td>\n",
       "      <td>-1.911260</td>\n",
       "    </tr>\n",
       "    <tr>\n",
       "      <th>1</th>\n",
       "      <td>-1.733671</td>\n",
       "      <td>-1.269344</td>\n",
       "      <td>-2.429809</td>\n",
       "    </tr>\n",
       "    <tr>\n",
       "      <th>2</th>\n",
       "      <td>-1.733671</td>\n",
       "      <td>-0.725357</td>\n",
       "      <td>-2.827037</td>\n",
       "    </tr>\n",
       "    <tr>\n",
       "      <th>3</th>\n",
       "      <td>-1.733671</td>\n",
       "      <td>-0.181371</td>\n",
       "      <td>-3.102943</td>\n",
       "    </tr>\n",
       "    <tr>\n",
       "      <th>4</th>\n",
       "      <td>-1.733671</td>\n",
       "      <td>0.362615</td>\n",
       "      <td>-3.257528</td>\n",
       "    </tr>\n",
       "    <tr>\n",
       "      <th>...</th>\n",
       "      <td>...</td>\n",
       "      <td>...</td>\n",
       "      <td>...</td>\n",
       "    </tr>\n",
       "    <tr>\n",
       "      <th>904</th>\n",
       "      <td>1.822354</td>\n",
       "      <td>0.362615</td>\n",
       "      <td>1.470184</td>\n",
       "    </tr>\n",
       "    <tr>\n",
       "      <th>905</th>\n",
       "      <td>1.822354</td>\n",
       "      <td>0.906601</td>\n",
       "      <td>2.629134</td>\n",
       "    </tr>\n",
       "    <tr>\n",
       "      <th>906</th>\n",
       "      <td>1.822354</td>\n",
       "      <td>1.450587</td>\n",
       "      <td>5.345968</td>\n",
       "    </tr>\n",
       "    <tr>\n",
       "      <th>907</th>\n",
       "      <td>1.822354</td>\n",
       "      <td>1.994573</td>\n",
       "      <td>9.620687</td>\n",
       "    </tr>\n",
       "    <tr>\n",
       "      <th>908</th>\n",
       "      <td>1.822354</td>\n",
       "      <td>2.538560</td>\n",
       "      <td>15.453291</td>\n",
       "    </tr>\n",
       "  </tbody>\n",
       "</table>\n",
       "<p>909 rows × 3 columns</p>\n",
       "</div>"
      ],
      "text/plain": [
       "           x1        x2       pred\n",
       "0   -1.733671 -1.813330  -1.911260\n",
       "1   -1.733671 -1.269344  -2.429809\n",
       "2   -1.733671 -0.725357  -2.827037\n",
       "3   -1.733671 -0.181371  -3.102943\n",
       "4   -1.733671  0.362615  -3.257528\n",
       "..        ...       ...        ...\n",
       "904  1.822354  0.362615   1.470184\n",
       "905  1.822354  0.906601   2.629134\n",
       "906  1.822354  1.450587   5.345968\n",
       "907  1.822354  1.994573   9.620687\n",
       "908  1.822354  2.538560  15.453291\n",
       "\n",
       "[909 rows x 3 columns]"
      ]
     },
     "execution_count": 55,
     "metadata": {},
     "output_type": "execute_result"
    }
   ],
   "source": [
    "viz_grid"
   ]
  },
  {
   "cell_type": "code",
   "execution_count": 56,
   "id": "7abb612f-562e-4cde-bbad-5cce658ab103",
   "metadata": {},
   "outputs": [
    {
     "name": "stderr",
     "output_type": "stream",
     "text": [
      "/Applications/anaconda3/envs/cmpinf2100/lib/python3.8/site-packages/seaborn/axisgrid.py:123: UserWarning: The figure layout has changed to tight\n",
      "  self._figure.tight_layout(*args, **kwargs)\n"
     ]
    },
    {
     "data": {
      "image/png": "[encoded data removed]",
      "text/plain": [
       "<Figure size 583.75x500 with 1 Axes>"
      ]
     },
     "metadata": {},
     "output_type": "display_data"
    }
   ],
   "source": [
    "sns.relplot(data=viz_grid,\n",
    "            x=\"x1\",\n",
    "            y=\"pred\",\n",
    "            kind=\"line\",\n",
    "            hue=\"x2\",\n",
    "            palette=\"coolwarm\",\n",
    "            estimator=None,\n",
    "            units=\"x2\")\n",
    "\n",
    "plt.show()"
   ]
  },
  {
   "cell_type": "code",
   "execution_count": null,
   "id": "4cec0f98-55e7-4f59-aa21-b22cc5b83c44",
   "metadata": {},
   "outputs": [],
   "source": []
  }
 ],
 "metadata": {
  "kernelspec": {
   "display_name": "Python 3 (ipykernel)",
   "language": "python",
   "name": "python3"
  },
  "language_info": {
   "codemirror_mode": {
    "name": "ipython",
    "version": 3
   },
   "file_extension": ".py",
   "mimetype": "text/x-python",
   "name": "python",
   "nbconvert_exporter": "python",
   "pygments_lexer": "ipython3",
   "version": "3.8.19"
  }
 },
 "nbformat": 4,
 "nbformat_minor": 5
}
