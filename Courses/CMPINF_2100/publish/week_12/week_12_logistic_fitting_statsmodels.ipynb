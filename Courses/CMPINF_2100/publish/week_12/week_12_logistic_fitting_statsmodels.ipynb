{
 "cells": [
  {
   "cell_type": "markdown",
   "id": "0b7143eb-2d3d-49db-830a-bdea24670dfe",
   "metadata": {},
   "source": [
    "## CMPINF 2100 Week 12\n",
    "### Introduction to fitting LOGISTIC REGRESSION with statsmodels\n",
    "Logistic regression is a model type for BINARY CLASSIFICATION.\n",
    "\n",
    "However, logistic regression is a GENERALIZED LINEAR MODEL (GLM). Therefore, almost everything from Linear Models (LM)\n",
    "applies!!\n",
    "\n",
    "We can use everything about creating features, additive features, non-linear features derived inputs.\n",
    "\n",
    "There are several key differences which we will learn about next week.\n",
    "## Import Modules"
   ]
  },
  {
   "cell_type": "code",
   "execution_count": 1,
   "id": "ee45fa35-7c72-4e2e-9a9b-2ecd10dc957e",
   "metadata": {},
   "outputs": [],
   "source": [
    "import numpy as np\n",
    "import pandas as pd\n",
    "import matplotlib.pyplot as plt\n",
    "\n",
    "import seaborn as sns"
   ]
  },
  {
   "cell_type": "code",
   "execution_count": 2,
   "id": "384a7e12-5403-439b-9308-876fa21d1f5e",
   "metadata": {},
   "outputs": [],
   "source": [
    "import statsmodels.formula.api as smf\n",
    "import statsmodels.api as sm"
   ]
  },
  {
   "cell_type": "markdown",
   "id": "6a8aa820-0c11-4462-a777-c80d38b0d32f",
   "metadata": {},
   "source": [
    "## Read data"
   ]
  },
  {
   "cell_type": "code",
   "execution_count": 3,
   "id": "6d7aa61c-027d-4bbb-a86f-f6fe4be88faf",
   "metadata": {},
   "outputs": [],
   "source": [
    "df = pd.read_csv(\"week_11_intro_binary_classification.csv\")"
   ]
  },
  {
   "cell_type": "code",
   "execution_count": 4,
   "id": "28aac316-c2eb-480b-a0c9-0b29a9257390",
   "metadata": {},
   "outputs": [
    {
     "name": "stdout",
     "output_type": "stream",
     "text": [
      "<class 'pandas.core.frame.DataFrame'>\n",
      "RangeIndex: 115 entries, 0 to 114\n",
      "Data columns (total 2 columns):\n",
      " #   Column  Non-Null Count  Dtype  \n",
      "---  ------  --------------  -----  \n",
      " 0   x       115 non-null    float64\n",
      " 1   y       115 non-null    int64  \n",
      "dtypes: float64(1), int64(1)\n",
      "memory usage: 1.9 KB\n"
     ]
    }
   ],
   "source": [
    "df.info()"
   ]
  },
  {
   "cell_type": "code",
   "execution_count": 5,
   "id": "dbc20914-eba9-4db1-8dbf-279588ac8b1b",
   "metadata": {},
   "outputs": [
    {
     "data": {
      "text/plain": [
       "x    115\n",
       "y      2\n",
       "dtype: int64"
      ]
     },
     "execution_count": 5,
     "metadata": {},
     "output_type": "execute_result"
    }
   ],
   "source": [
    "df.nunique()"
   ]
  },
  {
   "cell_type": "code",
   "execution_count": 6,
   "id": "bd6009fb-2de0-495e-afe9-2d08fb065285",
   "metadata": {},
   "outputs": [
    {
     "data": {
      "text/plain": [
       "y\n",
       "0    67\n",
       "1    48\n",
       "Name: count, dtype: int64"
      ]
     },
     "execution_count": 6,
     "metadata": {},
     "output_type": "execute_result"
    }
   ],
   "source": [
    "df.y.value_counts()"
   ]
  },
  {
   "cell_type": "code",
   "execution_count": 8,
   "id": "36485cb4-7985-461b-af69-f635e5336583",
   "metadata": {},
   "outputs": [
    {
     "name": "stderr",
     "output_type": "stream",
     "text": [
      "/Applications/anaconda3/envs/cmpinf2100/lib/python3.8/site-packages/seaborn/axisgrid.py:123: UserWarning: The figure layout has changed to tight\n",
      "  self._figure.tight_layout(*args, **kwargs)\n"
     ]
    },
    {
     "data": {
      "image/png": "[encoded data removed]",
      "text/plain": [
       "<Figure size 558.875x500 with 1 Axes>"
      ]
     },
     "metadata": {},
     "output_type": "display_data"
    }
   ],
   "source": [
    "sns.catplot(data=df, x=\"y\", kind=\"count\", hue=\"y\")\n",
    "plt.show()"
   ]
  },
  {
   "cell_type": "code",
   "execution_count": 9,
   "id": "91ef114a-ae34-4bf6-88e6-34e48721d237",
   "metadata": {},
   "outputs": [
    {
     "data": {
      "text/html": [
       "<div>\n",
       "<style scoped>\n",
       "    .dataframe tbody tr th:only-of-type {\n",
       "        vertical-align: middle;\n",
       "    }\n",
       "\n",
       "    .dataframe tbody tr th {\n",
       "        vertical-align: top;\n",
       "    }\n",
       "\n",
       "    .dataframe thead th {\n",
       "        text-align: right;\n",
       "    }\n",
       "</style>\n",
       "<table border=\"1\" class=\"dataframe\">\n",
       "  <thead>\n",
       "    <tr style=\"text-align: right;\">\n",
       "      <th></th>\n",
       "      <th>x</th>\n",
       "      <th>y</th>\n",
       "    </tr>\n",
       "  </thead>\n",
       "  <tbody>\n",
       "    <tr>\n",
       "      <th>count</th>\n",
       "      <td>115.000000</td>\n",
       "      <td>115.000000</td>\n",
       "    </tr>\n",
       "    <tr>\n",
       "      <th>mean</th>\n",
       "      <td>0.019188</td>\n",
       "      <td>0.417391</td>\n",
       "    </tr>\n",
       "    <tr>\n",
       "      <th>std</th>\n",
       "      <td>1.001227</td>\n",
       "      <td>0.495287</td>\n",
       "    </tr>\n",
       "    <tr>\n",
       "      <th>min</th>\n",
       "      <td>-2.059272</td>\n",
       "      <td>0.000000</td>\n",
       "    </tr>\n",
       "    <tr>\n",
       "      <th>25%</th>\n",
       "      <td>-0.721905</td>\n",
       "      <td>0.000000</td>\n",
       "    </tr>\n",
       "    <tr>\n",
       "      <th>50%</th>\n",
       "      <td>0.114752</td>\n",
       "      <td>0.000000</td>\n",
       "    </tr>\n",
       "    <tr>\n",
       "      <th>75%</th>\n",
       "      <td>0.570510</td>\n",
       "      <td>1.000000</td>\n",
       "    </tr>\n",
       "    <tr>\n",
       "      <th>max</th>\n",
       "      <td>2.438859</td>\n",
       "      <td>1.000000</td>\n",
       "    </tr>\n",
       "  </tbody>\n",
       "</table>\n",
       "</div>"
      ],
      "text/plain": [
       "                x           y\n",
       "count  115.000000  115.000000\n",
       "mean     0.019188    0.417391\n",
       "std      1.001227    0.495287\n",
       "min     -2.059272    0.000000\n",
       "25%     -0.721905    0.000000\n",
       "50%      0.114752    0.000000\n",
       "75%      0.570510    1.000000\n",
       "max      2.438859    1.000000"
      ]
     },
     "execution_count": 9,
     "metadata": {},
     "output_type": "execute_result"
    }
   ],
   "source": [
    "df.describe()"
   ]
  },
  {
   "cell_type": "code",
   "execution_count": 10,
   "id": "456b2017-af61-459c-bfe6-cce07d1306f9",
   "metadata": {},
   "outputs": [
    {
     "data": {
      "text/plain": [
       "0.41739130434782606"
      ]
     },
     "execution_count": 10,
     "metadata": {},
     "output_type": "execute_result"
    }
   ],
   "source": [
    "df.y.mean()"
   ]
  },
  {
   "cell_type": "code",
   "execution_count": 11,
   "id": "46429979-5e38-411a-b38d-150de155cea2",
   "metadata": {},
   "outputs": [
    {
     "data": {
      "text/plain": [
       "y\n",
       "0    0.582609\n",
       "1    0.417391\n",
       "Name: proportion, dtype: float64"
      ]
     },
     "execution_count": 11,
     "metadata": {},
     "output_type": "execute_result"
    }
   ],
   "source": [
    "df.y.value_counts(normalize=True)"
   ]
  },
  {
   "cell_type": "markdown",
   "id": "6e5bd806-dc39-46aa-a6e5-27a32e17b7da",
   "metadata": {},
   "source": [
    "The INPUT is CONTINUOUS."
   ]
  },
  {
   "cell_type": "code",
   "execution_count": 12,
   "id": "d0480308-6627-46e5-bbf5-ddc952bad09b",
   "metadata": {},
   "outputs": [
    {
     "name": "stderr",
     "output_type": "stream",
     "text": [
      "/Applications/anaconda3/envs/cmpinf2100/lib/python3.8/site-packages/seaborn/axisgrid.py:123: UserWarning: The figure layout has changed to tight\n",
      "  self._figure.tight_layout(*args, **kwargs)\n"
     ]
    },
    {
     "data": {
      "image/png": "[encoded data removed]",
      "text/plain": [
       "<Figure size 500x500 with 1 Axes>"
      ]
     },
     "metadata": {},
     "output_type": "display_data"
    }
   ],
   "source": [
    "sns.displot(data=df, x=\"x\", kind=\"hist\")\n",
    "\n",
    "plt.show()"
   ]
  },
  {
   "cell_type": "markdown",
   "id": "84242e3b-0355-4536-9e09-f72ff3676ae6",
   "metadata": {},
   "source": [
    "How does the continuous input RELATE to the categorical output????"
   ]
  },
  {
   "cell_type": "code",
   "execution_count": 14,
   "id": "9dd738e5-62da-44b8-9c82-2eb19550a252",
   "metadata": {},
   "outputs": [
    {
     "name": "stderr",
     "output_type": "stream",
     "text": [
      "/Applications/anaconda3/envs/cmpinf2100/lib/python3.8/site-packages/seaborn/axisgrid.py:123: UserWarning: The figure layout has changed to tight\n",
      "  self._figure.tight_layout(*args, **kwargs)\n"
     ]
    },
    {
     "data": {
      "image/png": "[encoded data removed]",
      "text/plain": [
       "<Figure size 558.875x500 with 1 Axes>"
      ]
     },
     "metadata": {},
     "output_type": "display_data"
    }
   ],
   "source": [
    "sns.catplot(data=df, x=\"y\", y=\"x\", hue=\"y\", kind=\"box\")\n",
    "plt.show()"
   ]
  },
  {
   "cell_type": "code",
   "execution_count": 17,
   "id": "a5959eb2-7ceb-474a-8764-46f8ae994eb2",
   "metadata": {},
   "outputs": [
    {
     "name": "stderr",
     "output_type": "stream",
     "text": [
      "/Applications/anaconda3/envs/cmpinf2100/lib/python3.8/site-packages/seaborn/axisgrid.py:123: UserWarning: The figure layout has changed to tight\n",
      "  self._figure.tight_layout(*args, **kwargs)\n"
     ]
    },
    {
     "data": {
      "image/png": "[encoded data removed]",
      "text/plain": [
       "<Figure size 558.875x500 with 1 Axes>"
      ]
     },
     "metadata": {},
     "output_type": "display_data"
    }
   ],
   "source": [
    "sns.catplot(data=df, x=\"y\", y=\"x\", kind=\"violin\", hue=\"y\")\n",
    "plt.show()"
   ]
  },
  {
   "cell_type": "markdown",
   "id": "52688abe-9246-40ba-a0e7-33a307742b3b",
   "metadata": {},
   "source": [
    "What is the AVERAGE continuous INPUT **GIVEN** the Binary output???"
   ]
  },
  {
   "cell_type": "code",
   "execution_count": 18,
   "id": "f8bdb6fd-04f5-4383-8691-68939e90aaab",
   "metadata": {},
   "outputs": [
    {
     "name": "stderr",
     "output_type": "stream",
     "text": [
      "/Applications/anaconda3/envs/cmpinf2100/lib/python3.8/site-packages/seaborn/axisgrid.py:123: UserWarning: The figure layout has changed to tight\n",
      "  self._figure.tight_layout(*args, **kwargs)\n"
     ]
    },
    {
     "data": {
      "image/png": "[encoded data removed]",
      "text/plain": [
       "<Figure size 558.875x500 with 1 Axes>"
      ]
     },
     "metadata": {},
     "output_type": "display_data"
    }
   ],
   "source": [
    "sns.catplot(data=df, x=\"y\", y=\"x\", kind=\"point\", hue=\"y\")\n",
    "plt.show()"
   ]
  },
  {
   "cell_type": "markdown",
   "id": "96292e5d-5337-423b-88c6-d1f11f36dbbb",
   "metadata": {},
   "source": [
    "On average, there seems to be a DIFFERENCE in the INPUT when the EVENT is observed!!!\n",
    "\n",
    "The visual exploration suggets that the INPUT is RELATED to the BINARY OUTPUT!!!\n",
    "\n",
    "## Logistic Regression\n",
    "The syntax for fitting a logistic regression model for BINARY CLASSIFICATION is very similar to that for the linear model for regression!!\n",
    "\n",
    "HOWEVER, we must TELL statsmodels this is a logistic regression problem and NOT regression!!!"
   ]
  },
  {
   "cell_type": "code",
   "execution_count": 19,
   "id": "dd0c5647-ef3e-4a0c-ad30-443d1f419dc4",
   "metadata": {},
   "outputs": [
    {
     "name": "stdout",
     "output_type": "stream",
     "text": [
      "Optimization terminated successfully.\n",
      "         Current function value: 0.560099\n",
      "         Iterations 6\n"
     ]
    }
   ],
   "source": [
    "fit_glm = smf.logit(formula=\"y ~ x\", data=df).fit()"
   ]
  },
  {
   "cell_type": "code",
   "execution_count": 20,
   "id": "d04d0ecc-abf1-45af-a13b-63f284b52bc2",
   "metadata": {},
   "outputs": [
    {
     "data": {
      "text/html": [
       "<table class=\"simpletable\">\n",
       "<caption>Logit Regression Results</caption>\n",
       "<tr>\n",
       "  <th>Dep. Variable:</th>           <td>y</td>        <th>  No. Observations:  </th>  <td>   115</td>  \n",
       "</tr>\n",
       "<tr>\n",
       "  <th>Model:</th>                 <td>Logit</td>      <th>  Df Residuals:      </th>  <td>   113</td>  \n",
       "</tr>\n",
       "<tr>\n",
       "  <th>Method:</th>                 <td>MLE</td>       <th>  Df Model:          </th>  <td>     1</td>  \n",
       "</tr>\n",
       "<tr>\n",
       "  <th>Date:</th>            <td>Sat, 16 Nov 2024</td> <th>  Pseudo R-squ.:     </th>  <td>0.1756</td>  \n",
       "</tr>\n",
       "<tr>\n",
       "  <th>Time:</th>                <td>23:28:42</td>     <th>  Log-Likelihood:    </th> <td> -64.411</td> \n",
       "</tr>\n",
       "<tr>\n",
       "  <th>converged:</th>             <td>True</td>       <th>  LL-Null:           </th> <td> -78.135</td> \n",
       "</tr>\n",
       "<tr>\n",
       "  <th>Covariance Type:</th>     <td>nonrobust</td>    <th>  LLR p-value:       </th> <td>1.614e-07</td>\n",
       "</tr>\n",
       "</table>\n",
       "<table class=\"simpletable\">\n",
       "<tr>\n",
       "      <td></td>         <th>coef</th>     <th>std err</th>      <th>z</th>      <th>P>|z|</th>  <th>[0.025</th>    <th>0.975]</th>  \n",
       "</tr>\n",
       "<tr>\n",
       "  <th>Intercept</th> <td>   -0.4495</td> <td>    0.218</td> <td>   -2.062</td> <td> 0.039</td> <td>   -0.877</td> <td>   -0.022</td>\n",
       "</tr>\n",
       "<tr>\n",
       "  <th>x</th>         <td>    1.1838</td> <td>    0.267</td> <td>    4.432</td> <td> 0.000</td> <td>    0.660</td> <td>    1.707</td>\n",
       "</tr>\n",
       "</table>"
      ],
      "text/latex": [
       "\\begin{center}\n",
       "\\begin{tabular}{lclc}\n",
       "\\toprule\n",
       "\\textbf{Dep. Variable:}   &        y         & \\textbf{  No. Observations:  } &      115    \\\\\n",
       "\\textbf{Model:}           &      Logit       & \\textbf{  Df Residuals:      } &      113    \\\\\n",
       "\\textbf{Method:}          &       MLE        & \\textbf{  Df Model:          } &        1    \\\\\n",
       "\\textbf{Date:}            & Sat, 16 Nov 2024 & \\textbf{  Pseudo R-squ.:     } &   0.1756    \\\\\n",
       "\\textbf{Time:}            &     23:28:42     & \\textbf{  Log-Likelihood:    } &   -64.411   \\\\\n",
       "\\textbf{converged:}       &       True       & \\textbf{  LL-Null:           } &   -78.135   \\\\\n",
       "\\textbf{Covariance Type:} &    nonrobust     & \\textbf{  LLR p-value:       } & 1.614e-07   \\\\\n",
       "\\bottomrule\n",
       "\\end{tabular}\n",
       "\\begin{tabular}{lcccccc}\n",
       "                   & \\textbf{coef} & \\textbf{std err} & \\textbf{z} & \\textbf{P$> |$z$|$} & \\textbf{[0.025} & \\textbf{0.975]}  \\\\\n",
       "\\midrule\n",
       "\\textbf{Intercept} &      -0.4495  &        0.218     &    -2.062  &         0.039        &       -0.877    &       -0.022     \\\\\n",
       "\\textbf{x}         &       1.1838  &        0.267     &     4.432  &         0.000        &        0.660    &        1.707     \\\\\n",
       "\\bottomrule\n",
       "\\end{tabular}\n",
       "%\\caption{Logit Regression Results}\n",
       "\\end{center}"
      ],
      "text/plain": [
       "<class 'statsmodels.iolib.summary.Summary'>\n",
       "\"\"\"\n",
       "                           Logit Regression Results                           \n",
       "==============================================================================\n",
       "Dep. Variable:                      y   No. Observations:                  115\n",
       "Model:                          Logit   Df Residuals:                      113\n",
       "Method:                           MLE   Df Model:                            1\n",
       "Date:                Sat, 16 Nov 2024   Pseudo R-squ.:                  0.1756\n",
       "Time:                        23:28:42   Log-Likelihood:                -64.411\n",
       "converged:                       True   LL-Null:                       -78.135\n",
       "Covariance Type:            nonrobust   LLR p-value:                 1.614e-07\n",
       "==============================================================================\n",
       "                 coef    std err          z      P>|z|      [0.025      0.975]\n",
       "------------------------------------------------------------------------------\n",
       "Intercept     -0.4495      0.218     -2.062      0.039      -0.877      -0.022\n",
       "x              1.1838      0.267      4.432      0.000       0.660       1.707\n",
       "==============================================================================\n",
       "\"\"\""
      ]
     },
     "execution_count": 20,
     "metadata": {},
     "output_type": "execute_result"
    }
   ],
   "source": [
    "fit_glm.summary()"
   ]
  },
  {
   "cell_type": "markdown",
   "id": "e6a3d134-8c41-47cd-81a4-6e398d7629e3",
   "metadata": {},
   "source": [
    "Lets see what happens if we would MISTAKENLY fit the LINEAR MODEL for regression!!!"
   ]
  },
  {
   "cell_type": "code",
   "execution_count": 21,
   "id": "594b7af7-d332-402b-916c-45100cfa1a99",
   "metadata": {},
   "outputs": [],
   "source": [
    "fit_ols = smf.ols(formula=\"y ~ x\", data=df).fit()"
   ]
  },
  {
   "cell_type": "code",
   "execution_count": 22,
   "id": "8e99f840-7d64-472c-98e3-6d2566b835a6",
   "metadata": {},
   "outputs": [
    {
     "data": {
      "text/html": [
       "<table class=\"simpletable\">\n",
       "<caption>OLS Regression Results</caption>\n",
       "<tr>\n",
       "  <th>Dep. Variable:</th>            <td>y</td>        <th>  R-squared:         </th> <td>   0.214</td>\n",
       "</tr>\n",
       "<tr>\n",
       "  <th>Model:</th>                   <td>OLS</td>       <th>  Adj. R-squared:    </th> <td>   0.207</td>\n",
       "</tr>\n",
       "<tr>\n",
       "  <th>Method:</th>             <td>Least Squares</td>  <th>  F-statistic:       </th> <td>   30.84</td>\n",
       "</tr>\n",
       "<tr>\n",
       "  <th>Date:</th>             <td>Sat, 16 Nov 2024</td> <th>  Prob (F-statistic):</th> <td>1.88e-07</td>\n",
       "</tr>\n",
       "<tr>\n",
       "  <th>Time:</th>                 <td>23:30:00</td>     <th>  Log-Likelihood:    </th> <td> -68.001</td>\n",
       "</tr>\n",
       "<tr>\n",
       "  <th>No. Observations:</th>      <td>   115</td>      <th>  AIC:               </th> <td>   140.0</td>\n",
       "</tr>\n",
       "<tr>\n",
       "  <th>Df Residuals:</th>          <td>   113</td>      <th>  BIC:               </th> <td>   145.5</td>\n",
       "</tr>\n",
       "<tr>\n",
       "  <th>Df Model:</th>              <td>     1</td>      <th>                     </th>     <td> </td>   \n",
       "</tr>\n",
       "<tr>\n",
       "  <th>Covariance Type:</th>      <td>nonrobust</td>    <th>                     </th>     <td> </td>   \n",
       "</tr>\n",
       "</table>\n",
       "<table class=\"simpletable\">\n",
       "<tr>\n",
       "      <td></td>         <th>coef</th>     <th>std err</th>      <th>t</th>      <th>P>|t|</th>  <th>[0.025</th>    <th>0.975]</th>  \n",
       "</tr>\n",
       "<tr>\n",
       "  <th>Intercept</th> <td>    0.4130</td> <td>    0.041</td> <td>   10.042</td> <td> 0.000</td> <td>    0.332</td> <td>    0.494</td>\n",
       "</tr>\n",
       "<tr>\n",
       "  <th>x</th>         <td>    0.2290</td> <td>    0.041</td> <td>    5.553</td> <td> 0.000</td> <td>    0.147</td> <td>    0.311</td>\n",
       "</tr>\n",
       "</table>\n",
       "<table class=\"simpletable\">\n",
       "<tr>\n",
       "  <th>Omnibus:</th>       <td>45.427</td> <th>  Durbin-Watson:     </th> <td>   2.152</td>\n",
       "</tr>\n",
       "<tr>\n",
       "  <th>Prob(Omnibus):</th> <td> 0.000</td> <th>  Jarque-Bera (JB):  </th> <td>   7.541</td>\n",
       "</tr>\n",
       "<tr>\n",
       "  <th>Skew:</th>          <td> 0.152</td> <th>  Prob(JB):          </th> <td>  0.0230</td>\n",
       "</tr>\n",
       "<tr>\n",
       "  <th>Kurtosis:</th>      <td> 1.783</td> <th>  Cond. No.          </th> <td>    1.02</td>\n",
       "</tr>\n",
       "</table><br/><br/>Notes:<br/>[1] Standard Errors assume that the covariance matrix of the errors is correctly specified."
      ],
      "text/latex": [
       "\\begin{center}\n",
       "\\begin{tabular}{lclc}\n",
       "\\toprule\n",
       "\\textbf{Dep. Variable:}    &        y         & \\textbf{  R-squared:         } &     0.214   \\\\\n",
       "\\textbf{Model:}            &       OLS        & \\textbf{  Adj. R-squared:    } &     0.207   \\\\\n",
       "\\textbf{Method:}           &  Least Squares   & \\textbf{  F-statistic:       } &     30.84   \\\\\n",
       "\\textbf{Date:}             & Sat, 16 Nov 2024 & \\textbf{  Prob (F-statistic):} &  1.88e-07   \\\\\n",
       "\\textbf{Time:}             &     23:30:00     & \\textbf{  Log-Likelihood:    } &   -68.001   \\\\\n",
       "\\textbf{No. Observations:} &         115      & \\textbf{  AIC:               } &     140.0   \\\\\n",
       "\\textbf{Df Residuals:}     &         113      & \\textbf{  BIC:               } &     145.5   \\\\\n",
       "\\textbf{Df Model:}         &           1      & \\textbf{                     } &             \\\\\n",
       "\\textbf{Covariance Type:}  &    nonrobust     & \\textbf{                     } &             \\\\\n",
       "\\bottomrule\n",
       "\\end{tabular}\n",
       "\\begin{tabular}{lcccccc}\n",
       "                   & \\textbf{coef} & \\textbf{std err} & \\textbf{t} & \\textbf{P$> |$t$|$} & \\textbf{[0.025} & \\textbf{0.975]}  \\\\\n",
       "\\midrule\n",
       "\\textbf{Intercept} &       0.4130  &        0.041     &    10.042  &         0.000        &        0.332    &        0.494     \\\\\n",
       "\\textbf{x}         &       0.2290  &        0.041     &     5.553  &         0.000        &        0.147    &        0.311     \\\\\n",
       "\\bottomrule\n",
       "\\end{tabular}\n",
       "\\begin{tabular}{lclc}\n",
       "\\textbf{Omnibus:}       & 45.427 & \\textbf{  Durbin-Watson:     } &    2.152  \\\\\n",
       "\\textbf{Prob(Omnibus):} &  0.000 & \\textbf{  Jarque-Bera (JB):  } &    7.541  \\\\\n",
       "\\textbf{Skew:}          &  0.152 & \\textbf{  Prob(JB):          } &   0.0230  \\\\\n",
       "\\textbf{Kurtosis:}      &  1.783 & \\textbf{  Cond. No.          } &     1.02  \\\\\n",
       "\\bottomrule\n",
       "\\end{tabular}\n",
       "%\\caption{OLS Regression Results}\n",
       "\\end{center}\n",
       "\n",
       "Notes: \\newline\n",
       " [1] Standard Errors assume that the covariance matrix of the errors is correctly specified."
      ],
      "text/plain": [
       "<class 'statsmodels.iolib.summary.Summary'>\n",
       "\"\"\"\n",
       "                            OLS Regression Results                            \n",
       "==============================================================================\n",
       "Dep. Variable:                      y   R-squared:                       0.214\n",
       "Model:                            OLS   Adj. R-squared:                  0.207\n",
       "Method:                 Least Squares   F-statistic:                     30.84\n",
       "Date:                Sat, 16 Nov 2024   Prob (F-statistic):           1.88e-07\n",
       "Time:                        23:30:00   Log-Likelihood:                -68.001\n",
       "No. Observations:                 115   AIC:                             140.0\n",
       "Df Residuals:                     113   BIC:                             145.5\n",
       "Df Model:                           1                                         \n",
       "Covariance Type:            nonrobust                                         \n",
       "==============================================================================\n",
       "                 coef    std err          t      P>|t|      [0.025      0.975]\n",
       "------------------------------------------------------------------------------\n",
       "Intercept      0.4130      0.041     10.042      0.000       0.332       0.494\n",
       "x              0.2290      0.041      5.553      0.000       0.147       0.311\n",
       "==============================================================================\n",
       "Omnibus:                       45.427   Durbin-Watson:                   2.152\n",
       "Prob(Omnibus):                  0.000   Jarque-Bera (JB):                7.541\n",
       "Skew:                           0.152   Prob(JB):                       0.0230\n",
       "Kurtosis:                       1.783   Cond. No.                         1.02\n",
       "==============================================================================\n",
       "\n",
       "Notes:\n",
       "[1] Standard Errors assume that the covariance matrix of the errors is correctly specified.\n",
       "\"\"\""
      ]
     },
     "execution_count": 22,
     "metadata": {},
     "output_type": "execute_result"
    }
   ],
   "source": [
    "fit_ols.summary()"
   ]
  },
  {
   "cell_type": "markdown",
   "id": "a36da0d9-77c4-4cdd-8549-4b5fcfe58d61",
   "metadata": {},
   "source": [
    "But because logistic regression is  GENERALIZED LINEAR MODEL, many of the interpretations concepts still apply!!!"
   ]
  },
  {
   "cell_type": "code",
   "execution_count": 23,
   "id": "5b016e0a-d68d-4d78-bca7-c1f05e82cfe3",
   "metadata": {},
   "outputs": [
    {
     "data": {
      "text/plain": [
       "Intercept   -0.449518\n",
       "x            1.183814\n",
       "dtype: float64"
      ]
     },
     "execution_count": 23,
     "metadata": {},
     "output_type": "execute_result"
    }
   ],
   "source": [
    "fit_glm.params"
   ]
  },
  {
   "cell_type": "code",
   "execution_count": 24,
   "id": "6ae19e1f-932e-4dc9-be63-5b48f07d4ea1",
   "metadata": {},
   "outputs": [
    {
     "data": {
      "text/plain": [
       "Intercept    0.218009\n",
       "x            0.267133\n",
       "dtype: float64"
      ]
     },
     "execution_count": 24,
     "metadata": {},
     "output_type": "execute_result"
    }
   ],
   "source": [
    "fit_glm.bse"
   ]
  },
  {
   "cell_type": "code",
   "execution_count": 25,
   "id": "f4a96825-386a-4e68-8178-8f7a6137fc45",
   "metadata": {},
   "outputs": [
    {
     "data": {
      "text/plain": [
       "Intercept    0.039215\n",
       "x            0.000009\n",
       "dtype: float64"
      ]
     },
     "execution_count": 25,
     "metadata": {},
     "output_type": "execute_result"
    }
   ],
   "source": [
    "fit_glm.pvalues"
   ]
  },
  {
   "cell_type": "code",
   "execution_count": 26,
   "id": "a95b2524-7d78-49a6-b042-6d63b4c5b513",
   "metadata": {},
   "outputs": [
    {
     "data": {
      "text/html": [
       "<div>\n",
       "<style scoped>\n",
       "    .dataframe tbody tr th:only-of-type {\n",
       "        vertical-align: middle;\n",
       "    }\n",
       "\n",
       "    .dataframe tbody tr th {\n",
       "        vertical-align: top;\n",
       "    }\n",
       "\n",
       "    .dataframe thead th {\n",
       "        text-align: right;\n",
       "    }\n",
       "</style>\n",
       "<table border=\"1\" class=\"dataframe\">\n",
       "  <thead>\n",
       "    <tr style=\"text-align: right;\">\n",
       "      <th></th>\n",
       "      <th>0</th>\n",
       "      <th>1</th>\n",
       "    </tr>\n",
       "  </thead>\n",
       "  <tbody>\n",
       "    <tr>\n",
       "      <th>Intercept</th>\n",
       "      <td>-0.876808</td>\n",
       "      <td>-0.022228</td>\n",
       "    </tr>\n",
       "    <tr>\n",
       "      <th>x</th>\n",
       "      <td>0.660243</td>\n",
       "      <td>1.707385</td>\n",
       "    </tr>\n",
       "  </tbody>\n",
       "</table>\n",
       "</div>"
      ],
      "text/plain": [
       "                  0         1\n",
       "Intercept -0.876808 -0.022228\n",
       "x          0.660243  1.707385"
      ]
     },
     "execution_count": 26,
     "metadata": {},
     "output_type": "execute_result"
    }
   ],
   "source": [
    "fit_glm.conf_int()"
   ]
  },
  {
   "cell_type": "code",
   "execution_count": 27,
   "id": "cfb37807-076d-48a7-864a-d5dd8b653a99",
   "metadata": {},
   "outputs": [
    {
     "data": {
      "text/plain": [
       "Intercept    True\n",
       "x            True\n",
       "dtype: bool"
      ]
     },
     "execution_count": 27,
     "metadata": {},
     "output_type": "execute_result"
    }
   ],
   "source": [
    "fit_glm.pvalues < 0.05"
   ]
  },
  {
   "cell_type": "code",
   "execution_count": 28,
   "id": "156d9b17-05f3-40b9-b761-a0f2bd503600",
   "metadata": {},
   "outputs": [],
   "source": [
    "def my_coefplot(mod, figsize_use=(10,4)):\n",
    "    fig, ax = plt.subplots(figsize=figsize_use)\n",
    "\n",
    "    ax.errorbar(y=mod.params.index,\n",
    "               x=mod.params,\n",
    "               xerr=2*mod.bse, fmt=\"o\", color=\"k\", ecolor=\"k\", elinewidth=2, ms=10)\n",
    "\n",
    "    ax.axvline(x=0, linestyle=\"--\", linewidth=3.5, color=\"grey\")\n",
    "\n",
    "    ax.set_xlabel(\"coefficient value\")\n",
    "\n",
    "    plt.show()"
   ]
  },
  {
   "cell_type": "code",
   "execution_count": 29,
   "id": "622460bc-b09f-4034-9228-5cd29e40dcfd",
   "metadata": {},
   "outputs": [
    {
     "data": {
      "image/png": "[encoded data removed]",
      "text/plain": [
       "<Figure size 1000x400 with 1 Axes>"
      ]
     },
     "metadata": {},
     "output_type": "display_data"
    }
   ],
   "source": [
    "my_coefplot(fit_glm)"
   ]
  },
  {
   "cell_type": "markdown",
   "id": "06281eff-8dda-41e2-8740-be23eddfdbd6",
   "metadata": {},
   "source": [
    "The DIFFERENCE between the interpretation of the logistic regression SLOPE vs the \"Regular\" linear model SLOPE is that...the logistic regression slope is **NOT** how much the AVERAGE OUTPUT changes due to a one unit change of the INPUT!!!!\n",
    "\n",
    "The slope is how much the LOG-ODDS RATIO CHANGES as the input changes 1 unit!!!!\n",
    "\n",
    "## Predictions\n",
    "Fundamentally we are predicting the EVENT PROBABILITY!!!\n",
    "\n",
    "The .predict() method therefore returns the predicted probability!!\n",
    "\n",
    "Define a VISUALIZATION GRID between a VERY NEGATIVE INPUT and a VERY POSITIVE INPUT."
   ]
  },
  {
   "cell_type": "code",
   "execution_count": 30,
   "id": "d006a938-b1c7-441e-8180-83e8c4fd741e",
   "metadata": {},
   "outputs": [
    {
     "data": {
      "text/html": [
       "<div>\n",
       "<style scoped>\n",
       "    .dataframe tbody tr th:only-of-type {\n",
       "        vertical-align: middle;\n",
       "    }\n",
       "\n",
       "    .dataframe tbody tr th {\n",
       "        vertical-align: top;\n",
       "    }\n",
       "\n",
       "    .dataframe thead th {\n",
       "        text-align: right;\n",
       "    }\n",
       "</style>\n",
       "<table border=\"1\" class=\"dataframe\">\n",
       "  <thead>\n",
       "    <tr style=\"text-align: right;\">\n",
       "      <th></th>\n",
       "      <th>x</th>\n",
       "      <th>y</th>\n",
       "    </tr>\n",
       "  </thead>\n",
       "  <tbody>\n",
       "    <tr>\n",
       "      <th>count</th>\n",
       "      <td>115.000000</td>\n",
       "      <td>115.000000</td>\n",
       "    </tr>\n",
       "    <tr>\n",
       "      <th>mean</th>\n",
       "      <td>0.019188</td>\n",
       "      <td>0.417391</td>\n",
       "    </tr>\n",
       "    <tr>\n",
       "      <th>std</th>\n",
       "      <td>1.001227</td>\n",
       "      <td>0.495287</td>\n",
       "    </tr>\n",
       "    <tr>\n",
       "      <th>min</th>\n",
       "      <td>-2.059272</td>\n",
       "      <td>0.000000</td>\n",
       "    </tr>\n",
       "    <tr>\n",
       "      <th>25%</th>\n",
       "      <td>-0.721905</td>\n",
       "      <td>0.000000</td>\n",
       "    </tr>\n",
       "    <tr>\n",
       "      <th>50%</th>\n",
       "      <td>0.114752</td>\n",
       "      <td>0.000000</td>\n",
       "    </tr>\n",
       "    <tr>\n",
       "      <th>75%</th>\n",
       "      <td>0.570510</td>\n",
       "      <td>1.000000</td>\n",
       "    </tr>\n",
       "    <tr>\n",
       "      <th>max</th>\n",
       "      <td>2.438859</td>\n",
       "      <td>1.000000</td>\n",
       "    </tr>\n",
       "  </tbody>\n",
       "</table>\n",
       "</div>"
      ],
      "text/plain": [
       "                x           y\n",
       "count  115.000000  115.000000\n",
       "mean     0.019188    0.417391\n",
       "std      1.001227    0.495287\n",
       "min     -2.059272    0.000000\n",
       "25%     -0.721905    0.000000\n",
       "50%      0.114752    0.000000\n",
       "75%      0.570510    1.000000\n",
       "max      2.438859    1.000000"
      ]
     },
     "execution_count": 30,
     "metadata": {},
     "output_type": "execute_result"
    }
   ],
   "source": [
    "df.describe()"
   ]
  },
  {
   "cell_type": "markdown",
   "id": "1709ebd9-042b-4ca3-aca6-1fd442a3e122",
   "metadata": {},
   "source": [
    "Lets use a lower bound of -5 and upper bound of 5 for the input in the visualization grid."
   ]
  },
  {
   "cell_type": "code",
   "execution_count": 31,
   "id": "3b2f1219-96bc-4d55-a0d4-372dc25b2209",
   "metadata": {},
   "outputs": [],
   "source": [
    "input_grid = pd.DataFrame({\"x\": np.linspace(-5, 5, num=251)})"
   ]
  },
  {
   "cell_type": "code",
   "execution_count": 32,
   "id": "c15c6c3a-7bcf-4b26-acc4-772d62dfb150",
   "metadata": {},
   "outputs": [
    {
     "data": {
      "text/html": [
       "<div>\n",
       "<style scoped>\n",
       "    .dataframe tbody tr th:only-of-type {\n",
       "        vertical-align: middle;\n",
       "    }\n",
       "\n",
       "    .dataframe tbody tr th {\n",
       "        vertical-align: top;\n",
       "    }\n",
       "\n",
       "    .dataframe thead th {\n",
       "        text-align: right;\n",
       "    }\n",
       "</style>\n",
       "<table border=\"1\" class=\"dataframe\">\n",
       "  <thead>\n",
       "    <tr style=\"text-align: right;\">\n",
       "      <th></th>\n",
       "      <th>x</th>\n",
       "    </tr>\n",
       "  </thead>\n",
       "  <tbody>\n",
       "    <tr>\n",
       "      <th>0</th>\n",
       "      <td>-5.00</td>\n",
       "    </tr>\n",
       "    <tr>\n",
       "      <th>1</th>\n",
       "      <td>-4.96</td>\n",
       "    </tr>\n",
       "    <tr>\n",
       "      <th>2</th>\n",
       "      <td>-4.92</td>\n",
       "    </tr>\n",
       "    <tr>\n",
       "      <th>3</th>\n",
       "      <td>-4.88</td>\n",
       "    </tr>\n",
       "    <tr>\n",
       "      <th>4</th>\n",
       "      <td>-4.84</td>\n",
       "    </tr>\n",
       "    <tr>\n",
       "      <th>...</th>\n",
       "      <td>...</td>\n",
       "    </tr>\n",
       "    <tr>\n",
       "      <th>246</th>\n",
       "      <td>4.84</td>\n",
       "    </tr>\n",
       "    <tr>\n",
       "      <th>247</th>\n",
       "      <td>4.88</td>\n",
       "    </tr>\n",
       "    <tr>\n",
       "      <th>248</th>\n",
       "      <td>4.92</td>\n",
       "    </tr>\n",
       "    <tr>\n",
       "      <th>249</th>\n",
       "      <td>4.96</td>\n",
       "    </tr>\n",
       "    <tr>\n",
       "      <th>250</th>\n",
       "      <td>5.00</td>\n",
       "    </tr>\n",
       "  </tbody>\n",
       "</table>\n",
       "<p>251 rows × 1 columns</p>\n",
       "</div>"
      ],
      "text/plain": [
       "        x\n",
       "0   -5.00\n",
       "1   -4.96\n",
       "2   -4.92\n",
       "3   -4.88\n",
       "4   -4.84\n",
       "..    ...\n",
       "246  4.84\n",
       "247  4.88\n",
       "248  4.92\n",
       "249  4.96\n",
       "250  5.00\n",
       "\n",
       "[251 rows x 1 columns]"
      ]
     },
     "execution_count": 32,
     "metadata": {},
     "output_type": "execute_result"
    }
   ],
   "source": [
    "input_grid"
   ]
  },
  {
   "cell_type": "markdown",
   "id": "44dff5c8-b09f-4845-9dc2-51ed0dd27784",
   "metadata": {},
   "source": [
    "Define a copy of the input grid."
   ]
  },
  {
   "cell_type": "code",
   "execution_count": 33,
   "id": "e4c71167-4b10-4e57-b402-27ef30050fb4",
   "metadata": {},
   "outputs": [],
   "source": [
    "df_viz = input_grid.copy()"
   ]
  },
  {
   "cell_type": "markdown",
   "id": "fc0f9552-5e34-4dcc-8e14-a497fe7e84a3",
   "metadata": {},
   "source": [
    "Include a new column for the PREDICTED PROBABILITY from the logistic regression model!!!"
   ]
  },
  {
   "cell_type": "code",
   "execution_count": 34,
   "id": "6900da7d-dae5-46b2-9b4b-a6a10e694aed",
   "metadata": {},
   "outputs": [],
   "source": [
    "df_viz[\"pred_probability\"] = fit_glm.predict(input_grid)"
   ]
  },
  {
   "cell_type": "code",
   "execution_count": 35,
   "id": "73924c0c-7cca-4618-bcda-0c6715bb4d54",
   "metadata": {},
   "outputs": [
    {
     "data": {
      "text/html": [
       "<div>\n",
       "<style scoped>\n",
       "    .dataframe tbody tr th:only-of-type {\n",
       "        vertical-align: middle;\n",
       "    }\n",
       "\n",
       "    .dataframe tbody tr th {\n",
       "        vertical-align: top;\n",
       "    }\n",
       "\n",
       "    .dataframe thead th {\n",
       "        text-align: right;\n",
       "    }\n",
       "</style>\n",
       "<table border=\"1\" class=\"dataframe\">\n",
       "  <thead>\n",
       "    <tr style=\"text-align: right;\">\n",
       "      <th></th>\n",
       "      <th>x</th>\n",
       "      <th>pred_probability</th>\n",
       "    </tr>\n",
       "  </thead>\n",
       "  <tbody>\n",
       "    <tr>\n",
       "      <th>0</th>\n",
       "      <td>-5.00</td>\n",
       "      <td>0.001712</td>\n",
       "    </tr>\n",
       "    <tr>\n",
       "      <th>1</th>\n",
       "      <td>-4.96</td>\n",
       "      <td>0.001794</td>\n",
       "    </tr>\n",
       "    <tr>\n",
       "      <th>2</th>\n",
       "      <td>-4.92</td>\n",
       "      <td>0.001881</td>\n",
       "    </tr>\n",
       "    <tr>\n",
       "      <th>3</th>\n",
       "      <td>-4.88</td>\n",
       "      <td>0.001972</td>\n",
       "    </tr>\n",
       "    <tr>\n",
       "      <th>4</th>\n",
       "      <td>-4.84</td>\n",
       "      <td>0.002068</td>\n",
       "    </tr>\n",
       "    <tr>\n",
       "      <th>...</th>\n",
       "      <td>...</td>\n",
       "      <td>...</td>\n",
       "    </tr>\n",
       "    <tr>\n",
       "      <th>246</th>\n",
       "      <td>4.84</td>\n",
       "      <td>0.994934</td>\n",
       "    </tr>\n",
       "    <tr>\n",
       "      <th>247</th>\n",
       "      <td>4.88</td>\n",
       "      <td>0.995167</td>\n",
       "    </tr>\n",
       "    <tr>\n",
       "      <th>248</th>\n",
       "      <td>4.92</td>\n",
       "      <td>0.995390</td>\n",
       "    </tr>\n",
       "    <tr>\n",
       "      <th>249</th>\n",
       "      <td>4.96</td>\n",
       "      <td>0.995602</td>\n",
       "    </tr>\n",
       "    <tr>\n",
       "      <th>250</th>\n",
       "      <td>5.00</td>\n",
       "      <td>0.995805</td>\n",
       "    </tr>\n",
       "  </tbody>\n",
       "</table>\n",
       "<p>251 rows × 2 columns</p>\n",
       "</div>"
      ],
      "text/plain": [
       "        x  pred_probability\n",
       "0   -5.00          0.001712\n",
       "1   -4.96          0.001794\n",
       "2   -4.92          0.001881\n",
       "3   -4.88          0.001972\n",
       "4   -4.84          0.002068\n",
       "..    ...               ...\n",
       "246  4.84          0.994934\n",
       "247  4.88          0.995167\n",
       "248  4.92          0.995390\n",
       "249  4.96          0.995602\n",
       "250  5.00          0.995805\n",
       "\n",
       "[251 rows x 2 columns]"
      ]
     },
     "execution_count": 35,
     "metadata": {},
     "output_type": "execute_result"
    }
   ],
   "source": [
    "df_viz"
   ]
  },
  {
   "cell_type": "code",
   "execution_count": 36,
   "id": "1aaa7a3e-a2fa-4e19-9330-70c5635abe1d",
   "metadata": {},
   "outputs": [
    {
     "data": {
      "text/html": [
       "<div>\n",
       "<style scoped>\n",
       "    .dataframe tbody tr th:only-of-type {\n",
       "        vertical-align: middle;\n",
       "    }\n",
       "\n",
       "    .dataframe tbody tr th {\n",
       "        vertical-align: top;\n",
       "    }\n",
       "\n",
       "    .dataframe thead th {\n",
       "        text-align: right;\n",
       "    }\n",
       "</style>\n",
       "<table border=\"1\" class=\"dataframe\">\n",
       "  <thead>\n",
       "    <tr style=\"text-align: right;\">\n",
       "      <th></th>\n",
       "      <th>x</th>\n",
       "      <th>pred_probability</th>\n",
       "    </tr>\n",
       "  </thead>\n",
       "  <tbody>\n",
       "    <tr>\n",
       "      <th>count</th>\n",
       "      <td>251.000000</td>\n",
       "      <td>251.000000</td>\n",
       "    </tr>\n",
       "    <tr>\n",
       "      <th>mean</th>\n",
       "      <td>0.000000</td>\n",
       "      <td>0.462384</td>\n",
       "    </tr>\n",
       "    <tr>\n",
       "      <th>std</th>\n",
       "      <td>2.904066</td>\n",
       "      <td>0.406932</td>\n",
       "    </tr>\n",
       "    <tr>\n",
       "      <th>min</th>\n",
       "      <td>-5.000000</td>\n",
       "      <td>0.001712</td>\n",
       "    </tr>\n",
       "    <tr>\n",
       "      <th>25%</th>\n",
       "      <td>-2.500000</td>\n",
       "      <td>0.032022</td>\n",
       "    </tr>\n",
       "    <tr>\n",
       "      <th>50%</th>\n",
       "      <td>0.000000</td>\n",
       "      <td>0.389475</td>\n",
       "    </tr>\n",
       "    <tr>\n",
       "      <th>75%</th>\n",
       "      <td>2.500000</td>\n",
       "      <td>0.924824</td>\n",
       "    </tr>\n",
       "    <tr>\n",
       "      <th>max</th>\n",
       "      <td>5.000000</td>\n",
       "      <td>0.995805</td>\n",
       "    </tr>\n",
       "  </tbody>\n",
       "</table>\n",
       "</div>"
      ],
      "text/plain": [
       "                x  pred_probability\n",
       "count  251.000000        251.000000\n",
       "mean     0.000000          0.462384\n",
       "std      2.904066          0.406932\n",
       "min     -5.000000          0.001712\n",
       "25%     -2.500000          0.032022\n",
       "50%      0.000000          0.389475\n",
       "75%      2.500000          0.924824\n",
       "max      5.000000          0.995805"
      ]
     },
     "execution_count": 36,
     "metadata": {},
     "output_type": "execute_result"
    }
   ],
   "source": [
    "df_viz.describe()"
   ]
  },
  {
   "cell_type": "markdown",
   "id": "5eabbdb6-886e-48e7-8223-705b5d8fa230",
   "metadata": {},
   "source": [
    "Visualize the predicted probability with repsect to the INPUT in the visualization grid."
   ]
  },
  {
   "cell_type": "code",
   "execution_count": 37,
   "id": "cc41ae58-ac1d-4dde-b5e4-0ca804fac1b0",
   "metadata": {},
   "outputs": [
    {
     "name": "stderr",
     "output_type": "stream",
     "text": [
      "/Applications/anaconda3/envs/cmpinf2100/lib/python3.8/site-packages/seaborn/axisgrid.py:123: UserWarning: The figure layout has changed to tight\n",
      "  self._figure.tight_layout(*args, **kwargs)\n"
     ]
    },
    {
     "data": {
      "image/png": "[encoded data removed]",
      "text/plain": [
       "<Figure size 500x500 with 1 Axes>"
      ]
     },
     "metadata": {},
     "output_type": "display_data"
    }
   ],
   "source": [
    "sns.relplot(data=df_viz, x=\"x\", y=\"pred_probability\", kind=\"line\")\n",
    "\n",
    "plt.show()"
   ]
  },
  {
   "cell_type": "markdown",
   "id": "137f7aaa-2909-45a3-92ef-e1005f5a2b41",
   "metadata": {},
   "source": [
    "Why does this matter?\n",
    "\n",
    "What happens if we MISTAKENLY fit the REGULAR linear model???"
   ]
  },
  {
   "cell_type": "code",
   "execution_count": 38,
   "id": "0976632a-e230-495f-baa5-01f813edae02",
   "metadata": {},
   "outputs": [
    {
     "data": {
      "text/plain": [
       "Intercept    0.412996\n",
       "x            0.229045\n",
       "dtype: float64"
      ]
     },
     "execution_count": 38,
     "metadata": {},
     "output_type": "execute_result"
    }
   ],
   "source": [
    "fit_ols.params"
   ]
  },
  {
   "cell_type": "code",
   "execution_count": 39,
   "id": "18e95416-d781-4b82-9d55-96cf2339b804",
   "metadata": {},
   "outputs": [
    {
     "data": {
      "text/plain": [
       "Intercept    0.041125\n",
       "x            0.041247\n",
       "dtype: float64"
      ]
     },
     "execution_count": 39,
     "metadata": {},
     "output_type": "execute_result"
    }
   ],
   "source": [
    "fit_ols.bse"
   ]
  },
  {
   "cell_type": "code",
   "execution_count": 40,
   "id": "08b550da-0bea-4345-b180-86b231c3d280",
   "metadata": {},
   "outputs": [
    {
     "data": {
      "text/plain": [
       "Intercept    2.405283e-17\n",
       "x            1.884900e-07\n",
       "dtype: float64"
      ]
     },
     "execution_count": 40,
     "metadata": {},
     "output_type": "execute_result"
    }
   ],
   "source": [
    "fit_ols.pvalues"
   ]
  },
  {
   "cell_type": "code",
   "execution_count": 41,
   "id": "0881cdbf-bc76-4776-994f-0d60a94965ef",
   "metadata": {},
   "outputs": [
    {
     "data": {
      "image/png": "[encoded data removed]",
      "text/plain": [
       "<Figure size 1000x400 with 1 Axes>"
      ]
     },
     "metadata": {},
     "output_type": "display_data"
    }
   ],
   "source": [
    "my_coefplot(fit_ols)"
   ]
  },
  {
   "cell_type": "markdown",
   "id": "59532b6a-b3d9-4846-9696-568b6a777658",
   "metadata": {},
   "source": [
    "Predict with the incorrect linear model."
   ]
  },
  {
   "cell_type": "code",
   "execution_count": 42,
   "id": "5c38980e-e7a6-4f68-a70f-63ccb0770a65",
   "metadata": {},
   "outputs": [],
   "source": [
    "df_viz[\"pred_from_ols\"] = fit_ols.predict(input_grid)"
   ]
  },
  {
   "cell_type": "code",
   "execution_count": 43,
   "id": "53b98e25-90dd-4790-9ac5-efb173469fe0",
   "metadata": {},
   "outputs": [
    {
     "name": "stderr",
     "output_type": "stream",
     "text": [
      "/Applications/anaconda3/envs/cmpinf2100/lib/python3.8/site-packages/seaborn/axisgrid.py:123: UserWarning: The figure layout has changed to tight\n",
      "  self._figure.tight_layout(*args, **kwargs)\n"
     ]
    },
    {
     "data": {
      "image/png": "[encoded data removed]",
      "text/plain": [
       "<Figure size 500x500 with 1 Axes>"
      ]
     },
     "metadata": {},
     "output_type": "display_data"
    }
   ],
   "source": [
    "sns.relplot(data=df_viz, x=\"x\", y=\"pred_from_ols\", kind=\"line\")\n",
    "\n",
    "plt.show()"
   ]
  },
  {
   "cell_type": "markdown",
   "id": "724db7b7-7b3f-4ff9-a12b-0b25984111ef",
   "metadata": {},
   "source": [
    "## Visually explore the logistic trends\n",
    "The sns.lmplot function allows you to visualize the logistic regression fit!!!"
   ]
  },
  {
   "cell_type": "code",
   "execution_count": 44,
   "id": "47bb1ab1-36b8-42c6-a93f-5ecd9d97e055",
   "metadata": {},
   "outputs": [
    {
     "name": "stderr",
     "output_type": "stream",
     "text": [
      "/Applications/anaconda3/envs/cmpinf2100/lib/python3.8/site-packages/seaborn/axisgrid.py:123: UserWarning: The figure layout has changed to tight\n",
      "  self._figure.tight_layout(*args, **kwargs)\n"
     ]
    },
    {
     "data": {
      "image/png": "[encoded data removed]",
      "text/plain": [
       "<Figure size 500x500 with 1 Axes>"
      ]
     },
     "metadata": {},
     "output_type": "display_data"
    }
   ],
   "source": [
    "sns.lmplot(data=df, x=\"x\", y=\"y\")\n",
    "\n",
    "plt.show()"
   ]
  },
  {
   "cell_type": "code",
   "execution_count": 45,
   "id": "75d0c1a5-d968-45ac-ba77-2c3b7e203a01",
   "metadata": {},
   "outputs": [
    {
     "name": "stderr",
     "output_type": "stream",
     "text": [
      "/Applications/anaconda3/envs/cmpinf2100/lib/python3.8/site-packages/seaborn/axisgrid.py:123: UserWarning: The figure layout has changed to tight\n",
      "  self._figure.tight_layout(*args, **kwargs)\n",
      "/Applications/anaconda3/envs/cmpinf2100/lib/python3.8/site-packages/seaborn/axisgrid.py:123: UserWarning: The figure layout has changed to tight\n",
      "  self._figure.tight_layout(*args, **kwargs)\n"
     ]
    },
    {
     "data": {
      "image/png": "[encoded data removed]",
      "text/plain": [
       "<Figure size 500x500 with 1 Axes>"
      ]
     },
     "metadata": {},
     "output_type": "display_data"
    }
   ],
   "source": [
    "sns.lmplot(data=df, x=\"x\", y=\"y\", logistic=True)\n",
    "\n",
    "plt.show()"
   ]
  },
  {
   "cell_type": "code",
   "execution_count": null,
   "id": "ebb5ec11-5883-47dd-9d67-8f6ee3f49d04",
   "metadata": {},
   "outputs": [],
   "source": []
  }
 ],
 "metadata": {
  "kernelspec": {
   "display_name": "Python 3 (ipykernel)",
   "language": "python",
   "name": "python3"
  },
  "language_info": {
   "codemirror_mode": {
    "name": "ipython",
    "version": 3
   },
   "file_extension": ".py",
   "mimetype": "text/x-python",
   "name": "python",
   "nbconvert_exporter": "python",
   "pygments_lexer": "ipython3",
   "version": "3.8.19"
  }
 },
 "nbformat": 4,
 "nbformat_minor": 5
}
