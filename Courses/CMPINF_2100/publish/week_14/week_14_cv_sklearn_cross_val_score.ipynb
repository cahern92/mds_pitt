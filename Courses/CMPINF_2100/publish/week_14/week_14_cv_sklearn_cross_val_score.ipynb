{
 "cells": [
  {
   "cell_type": "markdown",
   "id": "64f8756c-d412-4597-ab4e-afb190207a23",
   "metadata": {},
   "source": [
    "## CMPINF 2100 Week 14\n",
    "### Managing Cross-Validation of Logistic Regression with SKLEARN\n",
    "## Import Modules"
   ]
  },
  {
   "cell_type": "code",
   "execution_count": 1,
   "id": "640116a4-0415-4c24-b4e0-2f2cd20fefdf",
   "metadata": {},
   "outputs": [],
   "source": [
    "import numpy as np\n",
    "import pandas as pd\n",
    "import matplotlib.pyplot as plt\n",
    "\n",
    "import seaborn as sns"
   ]
  },
  {
   "cell_type": "markdown",
   "id": "d6f1e38e-72d5-499f-ad77-c235c90e3b5a",
   "metadata": {},
   "source": [
    "## Read data\n",
    "Lets return back to the complicated Week 12 Binary Classification data set."
   ]
  },
  {
   "cell_type": "code",
   "execution_count": 2,
   "id": "d38e9a10-0d77-465e-8a9e-311f51992bde",
   "metadata": {},
   "outputs": [],
   "source": [
    "df = pd.read_csv(\"../week_13/week_12_binary_classification.csv\")"
   ]
  },
  {
   "cell_type": "code",
   "execution_count": 3,
   "id": "18bc4dcc-3260-4160-bbcd-608f390c157d",
   "metadata": {},
   "outputs": [
    {
     "name": "stdout",
     "output_type": "stream",
     "text": [
      "<class 'pandas.core.frame.DataFrame'>\n",
      "RangeIndex: 300 entries, 0 to 299\n",
      "Data columns (total 6 columns):\n",
      " #   Column  Non-Null Count  Dtype  \n",
      "---  ------  --------------  -----  \n",
      " 0   x1      300 non-null    float64\n",
      " 1   x2      300 non-null    float64\n",
      " 2   x3      300 non-null    float64\n",
      " 3   x4      300 non-null    float64\n",
      " 4   x5      300 non-null    object \n",
      " 5   y       300 non-null    int64  \n",
      "dtypes: float64(4), int64(1), object(1)\n",
      "memory usage: 14.2+ KB\n"
     ]
    }
   ],
   "source": [
    "df.info()"
   ]
  },
  {
   "cell_type": "markdown",
   "id": "6c8a6244-f5fa-40e9-8c73-1df6309444c3",
   "metadata": {},
   "source": [
    "## Goal\n",
    "Use K-Fold Cross-Validation to identify the BEST model out of 17 LOGISTIC REGRESSION MODELS fit in Week 12.\n",
    "\n",
    "This time, use sklearn to not only generate the FOLDS but to also FIT the models and SCORE the models.\n",
    "\n",
    "We wil SPECIFY the assumptions of SKLEARN so that the logistic regression is consistent with statsmodels."
   ]
  },
  {
   "cell_type": "code",
   "execution_count": 4,
   "id": "4e9be129-c388-4c99-862a-efd8a7a3efa5",
   "metadata": {},
   "outputs": [],
   "source": [
    "formula_list = [\"y ~ 1\",\n",
    "               \"y ~ x5\",\n",
    "               \"y ~ x1 + x2 + x3 + x4\",\n",
    "               \"y ~ x1 + x2 + x3 + x4 + x5\",\n",
    "               \"y ~ x5 * (x1 + x2 + x3 + x4)\",\n",
    "               \"y ~ (x1 + x2 + x3 + x4) ** 2\",\n",
    "               \"y ~ x1 + x2 + x3 + x4 + np.power(x1, 2) + np.power(x2 ,2) + np.power(x3 ,2) + np.power(x4 ,2)\",\n",
    "               \"y ~ x5 + x1 + x2 + x3 + x4 + np.power(x1, 2) + np.power(x2 ,2) + np.power(x3 ,2) + np.power(x4 ,2)\",\n",
    "               \"y ~ x5 * (x1 + x2 + x3 + x4 + np.power(x1, 2) + np.power(x2 ,2) + np.power(x3 ,2) + np.power(x4 ,2))\",\n",
    "               \"y ~ x5 + ((x1 + x2 + x3 + x4) ** 2 + np.power(x1, 2) + np.power(x2 ,2) + np.power(x3 ,2) + np.power(x4 ,2))\",\n",
    "               \"y ~ x5 * ((x1 + x2 + x3 + x4) ** 2 + np.power(x1, 2) + np.power(x2 ,2) + np.power(x3 ,2) + np.power(x4 ,2))\",\n",
    "               \"y ~ x5 + (x1 + x2 + x3 + x4) ** 3\",\n",
    "               \"y ~ x5 + (x1 + x2 + x3 + x4) ** 4\",\n",
    "               \"y ~ (x1 + x2 + x3 + x4 + x5) ** 3\",\n",
    "               \"y ~ (x1 + x2 + x3 + x4 + x5) ** 4\",\n",
    "               \"y ~ x5 * ( (x1 + x2 + x3 + x4) ** 3 + np.power(x1, 2) + np.power(x2 ,2) + np.power(x3 ,2) + np.power(x4 ,2) + np.power(x1, 3) + np.power(x2 ,3) + np.power(x3 ,3) + np.power(x4 ,3))\",\n",
    "               \"y ~ x5 * ( (x1 + x2 + x3 + x4) ** 3 + np.power(x1, 2) + np.power(x2 ,2) + np.power(x3 ,2) + np.power(x4 ,2) + np.power(x1, 3) + np.power(x2 ,3) + np.power(x3 ,3) + np.power(x4 ,3) + np.power(x1, 4) + np.power(x2 ,4) + np.power(x3 ,4) + np.power(x4 ,4))\"]"
   ]
  },
  {
   "cell_type": "code",
   "execution_count": 5,
   "id": "40325189-39ee-4acf-8601-831e45c2fdd6",
   "metadata": {},
   "outputs": [
    {
     "data": {
      "text/plain": [
       "'y ~ x1 + x2 + x3 + x4 + x5'"
      ]
     },
     "execution_count": 5,
     "metadata": {},
     "output_type": "execute_result"
    }
   ],
   "source": [
    "formula_list[3]"
   ]
  },
  {
   "cell_type": "markdown",
   "id": "7a5b0871-10dc-4c51-a8e4-af24c49c7bcd",
   "metadata": {},
   "source": [
    "This is a classification problem so we MUST use STRATIFIED cross-validation."
   ]
  },
  {
   "cell_type": "code",
   "execution_count": 6,
   "id": "7dfe7c49-239e-4823-85c8-3bcc2b6b84c0",
   "metadata": {},
   "outputs": [],
   "source": [
    "from sklearn.model_selection import StratifiedKFold"
   ]
  },
  {
   "cell_type": "markdown",
   "id": "9e7cc685-85a3-46f9-b53a-6fb1ce3b3b52",
   "metadata": {},
   "source": [
    "We will use 5-fold cross-validation."
   ]
  },
  {
   "cell_type": "code",
   "execution_count": 7,
   "id": "3ebe208c-3f14-46a9-a5a4-dca4bd85b01e",
   "metadata": {},
   "outputs": [],
   "source": [
    "kf = StratifiedKFold(n_splits=5, shuffle=True, random_state=9483156)"
   ]
  },
  {
   "cell_type": "code",
   "execution_count": 8,
   "id": "d3379ee8-b84f-4361-803a-90219a4978bf",
   "metadata": {},
   "outputs": [
    {
     "data": {
      "text/plain": [
       "5"
      ]
     },
     "execution_count": 8,
     "metadata": {},
     "output_type": "execute_result"
    }
   ],
   "source": [
    "kf.get_n_splits()"
   ]
  },
  {
   "cell_type": "markdown",
   "id": "1fe38179-b094-45b6-ba73-f6fd61e3e8e3",
   "metadata": {},
   "source": [
    "We will use SKLEARN to FIT and SCORE the models."
   ]
  },
  {
   "cell_type": "code",
   "execution_count": 9,
   "id": "4afe41ad-9f86-4cca-ab2c-2cb9e684d067",
   "metadata": {},
   "outputs": [],
   "source": [
    "from sklearn.linear_model import LogisticRegression, LinearRegression"
   ]
  },
  {
   "cell_type": "markdown",
   "id": "bca8e416-687d-475d-961b-7653686014b8",
   "metadata": {},
   "source": [
    "We need the dmatrices() function to CREATE the FEATURE and OUTPUT arrays for us."
   ]
  },
  {
   "cell_type": "code",
   "execution_count": 10,
   "id": "c3e49373-c137-4668-9a29-0e15fb5ac915",
   "metadata": {},
   "outputs": [],
   "source": [
    "from patsy import dmatrices, dmatrix"
   ]
  },
  {
   "cell_type": "markdown",
   "id": "ac3c7065-d81b-4d81-8fd9-6ddffe318d85",
   "metadata": {},
   "source": [
    "## Execute cross-validation\n",
    "Define a function to manage the cross-validation for a GIVEN model name and formula and data set."
   ]
  },
  {
   "cell_type": "code",
   "execution_count": 11,
   "id": "35ccb344-e890-46f7-90d1-7e9681113838",
   "metadata": {},
   "outputs": [],
   "source": [
    "def train_and_test_logistic_with_cv(mod_name, a_formula, init_mod, data_df, cv):\n",
    "    # create feature and output arrays based on provided formular\n",
    "    y, X = dmatrices(a_formula, data=df)\n",
    "\n",
    "    # initialize the performance metric storage\n",
    "    train_res = []\n",
    "    test_res = []\n",
    "\n",
    "    # split the data and iterate over the folds\n",
    "    for train_id, test_id in cv.split(X, y.ravel()):\n",
    "        # subset the training and testing features\n",
    "        X_train = X[train_id]\n",
    "        X_test = X[test_id]\n",
    "\n",
    "        # subset training and testing output\n",
    "        y_train = y[train_id]\n",
    "        y_test = y[test_id]\n",
    "\n",
    "        # FIT the model on the TRAINING SET\n",
    "        fit_mod = init_mod.fit(X_train, y_train.ravel())\n",
    "\n",
    "        # SCORE the model -- calculate the performance metric\n",
    "        # training set SCORE\n",
    "        train_res.append(fit_mod.score(X_train, y_train.ravel()))\n",
    "        # test set SCORE\n",
    "        test_res.append(fit_mod.score(X_test, y_test.ravel()))\n",
    "\n",
    "    # book keeping\n",
    "    train_df = pd.DataFrame({\"Accuracy\": train_res})\n",
    "    train_df[\"from_set\"] = \"training\" \n",
    "    train_df[\"fold_id\"] = train_df.index + 1\n",
    "\n",
    "    test_df = pd.DataFrame({\"Accuracy\": test_res})\n",
    "    test_df[\"from_set\"] = \"testing\" \n",
    "    test_df[\"fold_id\"] = test_df.index + 1 \n",
    "\n",
    "    # combine the results together\n",
    "    res_df = pd.concat([train_df, test_df], ignore_index=True)\n",
    "\n",
    "    # add information about the model\n",
    "    res_df[\"model_name\"] = mod_name\n",
    "    res_df[\"model_formula\"] = a_formula\n",
    "    res_df[\"num_coefs\"] = fit_mod.coef_.ravel().size\n",
    "\n",
    "    return res_df\n",
    "        "
   ]
  },
  {
   "cell_type": "markdown",
   "id": "84a2e8a0-d232-413e-a906-08544bc0d707",
   "metadata": {},
   "source": [
    "Initialize the SKLEARN Logistic Regression model to be CONSISTENT with statsmodels."
   ]
  },
  {
   "cell_type": "code",
   "execution_count": 12,
   "id": "93e8c7f6-be7a-4404-b6c5-3eb8fa8588fa",
   "metadata": {},
   "outputs": [],
   "source": [
    "sk_min_loss = LogisticRegression(penalty=None, solver=\"lbfgs\", fit_intercept=False, max_iter=25001)"
   ]
  },
  {
   "cell_type": "markdown",
   "id": "371a4d82-8ac6-40d5-a348-0339cad71717",
   "metadata": {},
   "source": [
    "Test things out on one model."
   ]
  },
  {
   "cell_type": "code",
   "execution_count": 13,
   "id": "cfa8b64a-2158-4821-86e8-fe6169af3dc8",
   "metadata": {},
   "outputs": [
    {
     "data": {
      "text/plain": [
       "'y ~ x1 + x2 + x3 + x4 + x5'"
      ]
     },
     "execution_count": 13,
     "metadata": {},
     "output_type": "execute_result"
    }
   ],
   "source": [
    "formula_list[3]"
   ]
  },
  {
   "cell_type": "code",
   "execution_count": 14,
   "id": "1bf5c820-2870-40da-aa5e-7b732fc98274",
   "metadata": {},
   "outputs": [
    {
     "data": {
      "text/html": [
       "<div>\n",
       "<style scoped>\n",
       "    .dataframe tbody tr th:only-of-type {\n",
       "        vertical-align: middle;\n",
       "    }\n",
       "\n",
       "    .dataframe tbody tr th {\n",
       "        vertical-align: top;\n",
       "    }\n",
       "\n",
       "    .dataframe thead th {\n",
       "        text-align: right;\n",
       "    }\n",
       "</style>\n",
       "<table border=\"1\" class=\"dataframe\">\n",
       "  <thead>\n",
       "    <tr style=\"text-align: right;\">\n",
       "      <th></th>\n",
       "      <th>Accuracy</th>\n",
       "      <th>from_set</th>\n",
       "      <th>fold_id</th>\n",
       "      <th>model_name</th>\n",
       "      <th>model_formula</th>\n",
       "      <th>num_coefs</th>\n",
       "    </tr>\n",
       "  </thead>\n",
       "  <tbody>\n",
       "    <tr>\n",
       "      <th>0</th>\n",
       "      <td>0.675000</td>\n",
       "      <td>training</td>\n",
       "      <td>1</td>\n",
       "      <td>3</td>\n",
       "      <td>y ~ x1 + x2 + x3 + x4 + x5</td>\n",
       "      <td>7</td>\n",
       "    </tr>\n",
       "    <tr>\n",
       "      <th>1</th>\n",
       "      <td>0.637500</td>\n",
       "      <td>training</td>\n",
       "      <td>2</td>\n",
       "      <td>3</td>\n",
       "      <td>y ~ x1 + x2 + x3 + x4 + x5</td>\n",
       "      <td>7</td>\n",
       "    </tr>\n",
       "    <tr>\n",
       "      <th>2</th>\n",
       "      <td>0.670833</td>\n",
       "      <td>training</td>\n",
       "      <td>3</td>\n",
       "      <td>3</td>\n",
       "      <td>y ~ x1 + x2 + x3 + x4 + x5</td>\n",
       "      <td>7</td>\n",
       "    </tr>\n",
       "    <tr>\n",
       "      <th>3</th>\n",
       "      <td>0.645833</td>\n",
       "      <td>training</td>\n",
       "      <td>4</td>\n",
       "      <td>3</td>\n",
       "      <td>y ~ x1 + x2 + x3 + x4 + x5</td>\n",
       "      <td>7</td>\n",
       "    </tr>\n",
       "    <tr>\n",
       "      <th>4</th>\n",
       "      <td>0.687500</td>\n",
       "      <td>training</td>\n",
       "      <td>5</td>\n",
       "      <td>3</td>\n",
       "      <td>y ~ x1 + x2 + x3 + x4 + x5</td>\n",
       "      <td>7</td>\n",
       "    </tr>\n",
       "    <tr>\n",
       "      <th>5</th>\n",
       "      <td>0.566667</td>\n",
       "      <td>testing</td>\n",
       "      <td>1</td>\n",
       "      <td>3</td>\n",
       "      <td>y ~ x1 + x2 + x3 + x4 + x5</td>\n",
       "      <td>7</td>\n",
       "    </tr>\n",
       "    <tr>\n",
       "      <th>6</th>\n",
       "      <td>0.700000</td>\n",
       "      <td>testing</td>\n",
       "      <td>2</td>\n",
       "      <td>3</td>\n",
       "      <td>y ~ x1 + x2 + x3 + x4 + x5</td>\n",
       "      <td>7</td>\n",
       "    </tr>\n",
       "    <tr>\n",
       "      <th>7</th>\n",
       "      <td>0.633333</td>\n",
       "      <td>testing</td>\n",
       "      <td>3</td>\n",
       "      <td>3</td>\n",
       "      <td>y ~ x1 + x2 + x3 + x4 + x5</td>\n",
       "      <td>7</td>\n",
       "    </tr>\n",
       "    <tr>\n",
       "      <th>8</th>\n",
       "      <td>0.716667</td>\n",
       "      <td>testing</td>\n",
       "      <td>4</td>\n",
       "      <td>3</td>\n",
       "      <td>y ~ x1 + x2 + x3 + x4 + x5</td>\n",
       "      <td>7</td>\n",
       "    </tr>\n",
       "    <tr>\n",
       "      <th>9</th>\n",
       "      <td>0.600000</td>\n",
       "      <td>testing</td>\n",
       "      <td>5</td>\n",
       "      <td>3</td>\n",
       "      <td>y ~ x1 + x2 + x3 + x4 + x5</td>\n",
       "      <td>7</td>\n",
       "    </tr>\n",
       "  </tbody>\n",
       "</table>\n",
       "</div>"
      ],
      "text/plain": [
       "   Accuracy  from_set  fold_id  model_name               model_formula  \\\n",
       "0  0.675000  training        1           3  y ~ x1 + x2 + x3 + x4 + x5   \n",
       "1  0.637500  training        2           3  y ~ x1 + x2 + x3 + x4 + x5   \n",
       "2  0.670833  training        3           3  y ~ x1 + x2 + x3 + x4 + x5   \n",
       "3  0.645833  training        4           3  y ~ x1 + x2 + x3 + x4 + x5   \n",
       "4  0.687500  training        5           3  y ~ x1 + x2 + x3 + x4 + x5   \n",
       "5  0.566667   testing        1           3  y ~ x1 + x2 + x3 + x4 + x5   \n",
       "6  0.700000   testing        2           3  y ~ x1 + x2 + x3 + x4 + x5   \n",
       "7  0.633333   testing        3           3  y ~ x1 + x2 + x3 + x4 + x5   \n",
       "8  0.716667   testing        4           3  y ~ x1 + x2 + x3 + x4 + x5   \n",
       "9  0.600000   testing        5           3  y ~ x1 + x2 + x3 + x4 + x5   \n",
       "\n",
       "   num_coefs  \n",
       "0          7  \n",
       "1          7  \n",
       "2          7  \n",
       "3          7  \n",
       "4          7  \n",
       "5          7  \n",
       "6          7  \n",
       "7          7  \n",
       "8          7  \n",
       "9          7  "
      ]
     },
     "execution_count": 14,
     "metadata": {},
     "output_type": "execute_result"
    }
   ],
   "source": [
    "train_and_test_logistic_with_cv(3, formula_list[3], sk_min_loss, data_df=df, cv=kf)"
   ]
  },
  {
   "cell_type": "markdown",
   "id": "61df284a-9df5-4d66-b8fa-bc1ee420ac38",
   "metadata": {},
   "source": [
    "Iterate over all models!!\n",
    "\n",
    "We previously saw that statsmodels CRASHED with the LAST model. But lets see what happens here with sklearn."
   ]
  },
  {
   "cell_type": "code",
   "execution_count": 15,
   "id": "ca18d8f4-149e-4291-937e-be83f27a8684",
   "metadata": {},
   "outputs": [
    {
     "name": "stdout",
     "output_type": "stream",
     "text": [
      "-- Formula ID 0 --\n",
      "-- Formula ID 1 --\n",
      "-- Formula ID 2 --\n",
      "-- Formula ID 3 --\n",
      "-- Formula ID 4 --\n",
      "-- Formula ID 5 --\n",
      "-- Formula ID 6 --\n",
      "-- Formula ID 7 --\n",
      "-- Formula ID 8 --\n",
      "-- Formula ID 9 --\n",
      "-- Formula ID 10 --\n",
      "-- Formula ID 11 --\n",
      "-- Formula ID 12 --\n",
      "-- Formula ID 13 --\n",
      "-- Formula ID 14 --\n",
      "-- Formula ID 15 --\n",
      "-- Formula ID 16 --\n"
     ]
    },
    {
     "name": "stderr",
     "output_type": "stream",
     "text": [
      "/Applications/anaconda3/envs/cmpinf2100/lib/python3.8/site-packages/sklearn/linear_model/_logistic.py:460: ConvergenceWarning: lbfgs failed to converge (status=1):\n",
      "STOP: TOTAL NO. of f AND g EVALUATIONS EXCEEDS LIMIT.\n",
      "\n",
      "Increase the number of iterations (max_iter) or scale the data as shown in:\n",
      "    https://scikit-learn.org/stable/modules/preprocessing.html\n",
      "Please also refer to the documentation for alternative solver options:\n",
      "    https://scikit-learn.org/stable/modules/linear_model.html#logistic-regression\n",
      "  n_iter_i = _check_optimize_result(\n"
     ]
    }
   ],
   "source": [
    "results_list = []\n",
    "\n",
    "for m in range(len(formula_list)):\n",
    "    print(\"-- Formula ID %d --\" % m)\n",
    "\n",
    "    results_list.append(train_and_test_logistic_with_cv(m, formula_list[m], sk_min_loss, data_df=df, cv=kf))"
   ]
  },
  {
   "cell_type": "code",
   "execution_count": 16,
   "id": "3f83da6f-137b-42a7-b124-8a0273b33dd0",
   "metadata": {},
   "outputs": [
    {
     "data": {
      "text/plain": [
       "17"
      ]
     },
     "execution_count": 16,
     "metadata": {},
     "output_type": "execute_result"
    }
   ],
   "source": [
    "len(results_list)"
   ]
  },
  {
   "cell_type": "markdown",
   "id": "c446d9fc-ff30-45ea-b931-f9d9c88523b6",
   "metadata": {},
   "source": [
    "Warnings were provided BUT NOTHING CRASHED!!!\n",
    "\n",
    "**CAVEAT** we will discuss what happened next week!!!!"
   ]
  },
  {
   "cell_type": "markdown",
   "id": "f27ea957-3328-4fe1-be9c-bd1de24e0064",
   "metadata": {},
   "source": [
    "Combine all results together!"
   ]
  },
  {
   "cell_type": "code",
   "execution_count": 17,
   "id": "81353836-5247-4ff5-bfcc-927b1f232955",
   "metadata": {},
   "outputs": [],
   "source": [
    "cv_results = pd.concat(results_list, ignore_index=True)"
   ]
  },
  {
   "cell_type": "code",
   "execution_count": 18,
   "id": "9abcdbe6-1fe2-421c-a8e9-dceb855c5a17",
   "metadata": {},
   "outputs": [
    {
     "data": {
      "text/html": [
       "<div>\n",
       "<style scoped>\n",
       "    .dataframe tbody tr th:only-of-type {\n",
       "        vertical-align: middle;\n",
       "    }\n",
       "\n",
       "    .dataframe tbody tr th {\n",
       "        vertical-align: top;\n",
       "    }\n",
       "\n",
       "    .dataframe thead th {\n",
       "        text-align: right;\n",
       "    }\n",
       "</style>\n",
       "<table border=\"1\" class=\"dataframe\">\n",
       "  <thead>\n",
       "    <tr style=\"text-align: right;\">\n",
       "      <th></th>\n",
       "      <th>Accuracy</th>\n",
       "      <th>from_set</th>\n",
       "      <th>fold_id</th>\n",
       "      <th>model_name</th>\n",
       "      <th>model_formula</th>\n",
       "      <th>num_coefs</th>\n",
       "    </tr>\n",
       "  </thead>\n",
       "  <tbody>\n",
       "    <tr>\n",
       "      <th>0</th>\n",
       "      <td>0.662500</td>\n",
       "      <td>training</td>\n",
       "      <td>1</td>\n",
       "      <td>0</td>\n",
       "      <td>y ~ 1</td>\n",
       "      <td>1</td>\n",
       "    </tr>\n",
       "    <tr>\n",
       "      <th>1</th>\n",
       "      <td>0.662500</td>\n",
       "      <td>training</td>\n",
       "      <td>2</td>\n",
       "      <td>0</td>\n",
       "      <td>y ~ 1</td>\n",
       "      <td>1</td>\n",
       "    </tr>\n",
       "    <tr>\n",
       "      <th>2</th>\n",
       "      <td>0.658333</td>\n",
       "      <td>training</td>\n",
       "      <td>3</td>\n",
       "      <td>0</td>\n",
       "      <td>y ~ 1</td>\n",
       "      <td>1</td>\n",
       "    </tr>\n",
       "    <tr>\n",
       "      <th>3</th>\n",
       "      <td>0.658333</td>\n",
       "      <td>training</td>\n",
       "      <td>4</td>\n",
       "      <td>0</td>\n",
       "      <td>y ~ 1</td>\n",
       "      <td>1</td>\n",
       "    </tr>\n",
       "    <tr>\n",
       "      <th>4</th>\n",
       "      <td>0.658333</td>\n",
       "      <td>training</td>\n",
       "      <td>5</td>\n",
       "      <td>0</td>\n",
       "      <td>y ~ 1</td>\n",
       "      <td>1</td>\n",
       "    </tr>\n",
       "    <tr>\n",
       "      <th>...</th>\n",
       "      <td>...</td>\n",
       "      <td>...</td>\n",
       "      <td>...</td>\n",
       "      <td>...</td>\n",
       "      <td>...</td>\n",
       "      <td>...</td>\n",
       "    </tr>\n",
       "    <tr>\n",
       "      <th>165</th>\n",
       "      <td>0.600000</td>\n",
       "      <td>testing</td>\n",
       "      <td>1</td>\n",
       "      <td>16</td>\n",
       "      <td>y ~ x5 * ( (x1 + x2 + x3 + x4) ** 3 + np.power...</td>\n",
       "      <td>81</td>\n",
       "    </tr>\n",
       "    <tr>\n",
       "      <th>166</th>\n",
       "      <td>0.616667</td>\n",
       "      <td>testing</td>\n",
       "      <td>2</td>\n",
       "      <td>16</td>\n",
       "      <td>y ~ x5 * ( (x1 + x2 + x3 + x4) ** 3 + np.power...</td>\n",
       "      <td>81</td>\n",
       "    </tr>\n",
       "    <tr>\n",
       "      <th>167</th>\n",
       "      <td>0.516667</td>\n",
       "      <td>testing</td>\n",
       "      <td>3</td>\n",
       "      <td>16</td>\n",
       "      <td>y ~ x5 * ( (x1 + x2 + x3 + x4) ** 3 + np.power...</td>\n",
       "      <td>81</td>\n",
       "    </tr>\n",
       "    <tr>\n",
       "      <th>168</th>\n",
       "      <td>0.633333</td>\n",
       "      <td>testing</td>\n",
       "      <td>4</td>\n",
       "      <td>16</td>\n",
       "      <td>y ~ x5 * ( (x1 + x2 + x3 + x4) ** 3 + np.power...</td>\n",
       "      <td>81</td>\n",
       "    </tr>\n",
       "    <tr>\n",
       "      <th>169</th>\n",
       "      <td>0.600000</td>\n",
       "      <td>testing</td>\n",
       "      <td>5</td>\n",
       "      <td>16</td>\n",
       "      <td>y ~ x5 * ( (x1 + x2 + x3 + x4) ** 3 + np.power...</td>\n",
       "      <td>81</td>\n",
       "    </tr>\n",
       "  </tbody>\n",
       "</table>\n",
       "<p>170 rows × 6 columns</p>\n",
       "</div>"
      ],
      "text/plain": [
       "     Accuracy  from_set  fold_id  model_name  \\\n",
       "0    0.662500  training        1           0   \n",
       "1    0.662500  training        2           0   \n",
       "2    0.658333  training        3           0   \n",
       "3    0.658333  training        4           0   \n",
       "4    0.658333  training        5           0   \n",
       "..        ...       ...      ...         ...   \n",
       "165  0.600000   testing        1          16   \n",
       "166  0.616667   testing        2          16   \n",
       "167  0.516667   testing        3          16   \n",
       "168  0.633333   testing        4          16   \n",
       "169  0.600000   testing        5          16   \n",
       "\n",
       "                                         model_formula  num_coefs  \n",
       "0                                                y ~ 1          1  \n",
       "1                                                y ~ 1          1  \n",
       "2                                                y ~ 1          1  \n",
       "3                                                y ~ 1          1  \n",
       "4                                                y ~ 1          1  \n",
       "..                                                 ...        ...  \n",
       "165  y ~ x5 * ( (x1 + x2 + x3 + x4) ** 3 + np.power...         81  \n",
       "166  y ~ x5 * ( (x1 + x2 + x3 + x4) ** 3 + np.power...         81  \n",
       "167  y ~ x5 * ( (x1 + x2 + x3 + x4) ** 3 + np.power...         81  \n",
       "168  y ~ x5 * ( (x1 + x2 + x3 + x4) ** 3 + np.power...         81  \n",
       "169  y ~ x5 * ( (x1 + x2 + x3 + x4) ** 3 + np.power...         81  \n",
       "\n",
       "[170 rows x 6 columns]"
      ]
     },
     "execution_count": 18,
     "metadata": {},
     "output_type": "execute_result"
    }
   ],
   "source": [
    "cv_results"
   ]
  },
  {
   "cell_type": "code",
   "execution_count": 19,
   "id": "f24cdf53-4615-4322-9a92-e286aace66d3",
   "metadata": {},
   "outputs": [
    {
     "name": "stderr",
     "output_type": "stream",
     "text": [
      "/Applications/anaconda3/envs/cmpinf2100/lib/python3.8/site-packages/seaborn/axisgrid.py:123: UserWarning: The figure layout has changed to tight\n",
      "  self._figure.tight_layout(*args, **kwargs)\n"
     ]
    },
    {
     "data": {
      "image/png": "[encoded data removed]",
      "text/plain": [
       "<Figure size 604x500 with 1 Axes>"
      ]
     },
     "metadata": {},
     "output_type": "display_data"
    }
   ],
   "source": [
    "sns.catplot(data=cv_results, x=\"model_name\", hue=\"from_set\", kind=\"count\")\n",
    "\n",
    "plt.show()"
   ]
  },
  {
   "cell_type": "markdown",
   "id": "79c364fb-968d-4afa-978b-47b7d698fc76",
   "metadata": {},
   "source": [
    "The ACCURACY for each model in each FOLD is shown below via a strip plot."
   ]
  },
  {
   "cell_type": "code",
   "execution_count": 20,
   "id": "ce3a867f-6655-4161-b7ce-6f720dad18ee",
   "metadata": {},
   "outputs": [
    {
     "name": "stderr",
     "output_type": "stream",
     "text": [
      "/Applications/anaconda3/envs/cmpinf2100/lib/python3.8/site-packages/seaborn/axisgrid.py:123: UserWarning: The figure layout has changed to tight\n",
      "  self._figure.tight_layout(*args, **kwargs)\n"
     ]
    },
    {
     "data": {
      "image/png": "[encoded data removed]",
      "text/plain": [
       "<Figure size 604x500 with 1 Axes>"
      ]
     },
     "metadata": {},
     "output_type": "display_data"
    }
   ],
   "source": [
    "sns.catplot(data=cv_results, x=\"model_name\", y=\"Accuracy\", hue=\"from_set\")\n",
    "\n",
    "plt.show()"
   ]
  },
  {
   "cell_type": "markdown",
   "id": "95df84d5-cf86-4e35-9c6b-4cb2c0a80476",
   "metadata": {},
   "source": [
    "Model 16 is **OVERFIT**!!!\n",
    "\n",
    "But as already discussed we are focused on the AVERAGE performance."
   ]
  },
  {
   "cell_type": "code",
   "execution_count": 21,
   "id": "a343fe8b-b05e-4e36-85ca-ff9bac6cb2a5",
   "metadata": {},
   "outputs": [
    {
     "name": "stderr",
     "output_type": "stream",
     "text": [
      "/Applications/anaconda3/envs/cmpinf2100/lib/python3.8/site-packages/seaborn/axisgrid.py:123: UserWarning: The figure layout has changed to tight\n",
      "  self._figure.tight_layout(*args, **kwargs)\n"
     ]
    },
    {
     "data": {
      "image/png": "[encoded data removed]",
      "text/plain": [
       "<Figure size 604x500 with 1 Axes>"
      ]
     },
     "metadata": {},
     "output_type": "display_data"
    }
   ],
   "source": [
    "sns.catplot(data=cv_results, x=\"model_name\", y=\"Accuracy\", hue=\"from_set\", kind=\"point\", linestyle=\"None\", errorbar=(\"ci\", 68))\n",
    "\n",
    "plt.show()"
   ]
  },
  {
   "cell_type": "markdown",
   "id": "94caba6d-2388-4960-8efa-e53dd3e8006a",
   "metadata": {},
   "source": [
    "## Even more streamlining with cross_val_score()\n",
    "The cross_val_score function from sklearn is a VERY EFFICIENT way for EXECUTING cross-validation!!\n",
    "\n",
    "It manages the TRAINING and SCORING on the TEST SET across ALL FOLDS for you!!!!\n",
    "\n",
    "Import cross_val_score from sklearn.model_selection."
   ]
  },
  {
   "cell_type": "code",
   "execution_count": 25,
   "id": "974b7069-baae-4a28-ab7d-c2c2c90c4b90",
   "metadata": {},
   "outputs": [],
   "source": [
    "from sklearn.model_selection import cross_val_score"
   ]
  },
  {
   "cell_type": "markdown",
   "id": "1d00d5e9-5c01-4bcd-a748-e200dffdf7bf",
   "metadata": {},
   "source": [
    "Lets demonstate its use before putting inside our own funciton.\n",
    "\n",
    "As a sklearn function it NEEDS the DESIGN MATRIX OR FEATURE ARRAY!!\n",
    "\n",
    "Lets apply it to the model with linear additive features."
   ]
  },
  {
   "cell_type": "code",
   "execution_count": 26,
   "id": "1d7467d3-bedd-4cc6-91e0-fe3417f7b391",
   "metadata": {},
   "outputs": [
    {
     "data": {
      "text/plain": [
       "'y ~ x1 + x2 + x3 + x4 + x5'"
      ]
     },
     "execution_count": 26,
     "metadata": {},
     "output_type": "execute_result"
    }
   ],
   "source": [
    "formula_list[3]"
   ]
  },
  {
   "cell_type": "code",
   "execution_count": 27,
   "id": "888cfcf0-1b6f-4731-a8fb-a72a33b25e58",
   "metadata": {},
   "outputs": [],
   "source": [
    "y3, x3 = dmatrices(formula_list[3], data=df)"
   ]
  },
  {
   "cell_type": "code",
   "execution_count": 28,
   "id": "99aaf28c-3b87-44ea-86b7-365b628f2061",
   "metadata": {},
   "outputs": [
    {
     "data": {
      "text/plain": [
       "(300, 7)"
      ]
     },
     "execution_count": 28,
     "metadata": {},
     "output_type": "execute_result"
    }
   ],
   "source": [
    "x3.shape"
   ]
  },
  {
   "cell_type": "code",
   "execution_count": 30,
   "id": "69c656eb-5703-400f-80c8-71259e0b6a55",
   "metadata": {},
   "outputs": [
    {
     "data": {
      "text/plain": [
       "array([[ 1.        ,  0.        ,  1.        ,  1.07741204, -0.99109365,\n",
       "         0.20861045, -1.0197444 ],\n",
       "       [ 1.        ,  1.        ,  0.        , -0.6377473 , -0.30750603,\n",
       "        -1.79425017,  1.18999288],\n",
       "       [ 1.        ,  1.        ,  0.        ,  1.34514345, -1.07528061,\n",
       "         1.68504352,  0.16787924],\n",
       "       [ 1.        ,  1.        ,  0.        ,  1.65992354,  0.7351558 ,\n",
       "        -0.2105411 , -2.53410536],\n",
       "       [ 1.        ,  1.        ,  0.        ,  1.1823782 ,  1.59914013,\n",
       "        -0.30199465,  1.20664782]])"
      ]
     },
     "execution_count": 30,
     "metadata": {},
     "output_type": "execute_result"
    }
   ],
   "source": [
    "x3[:5, :]"
   ]
  },
  {
   "cell_type": "markdown",
   "id": "ee55acf7-3fcc-48b8-a2ed-675256642cd3",
   "metadata": {},
   "source": [
    "The cross_val_score() function has 4 MAIN arugments. It needs an INITIALIZED SKLEARN model, it needs the FEATURE ARRAY, it needs the output array, and it needs a Cross-Validation scheme."
   ]
  },
  {
   "cell_type": "code",
   "execution_count": 31,
   "id": "0c9e562f-bf58-44fd-af74-95a63a7f4a88",
   "metadata": {},
   "outputs": [
    {
     "data": {
      "text/html": [
       "<style>#sk-container-id-1 {color: black;}#sk-container-id-1 pre{padding: 0;}#sk-container-id-1 div.sk-toggleable {background-color: white;}#sk-container-id-1 label.sk-toggleable__label {cursor: pointer;display: block;width: 100%;margin-bottom: 0;padding: 0.3em;box-sizing: border-box;text-align: center;}#sk-container-id-1 label.sk-toggleable__label-arrow:before {content: \"▸\";float: left;margin-right: 0.25em;color: #696969;}#sk-container-id-1 label.sk-toggleable__label-arrow:hover:before {color: black;}#sk-container-id-1 div.sk-estimator:hover label.sk-toggleable__label-arrow:before {color: black;}#sk-container-id-1 div.sk-toggleable__content {max-height: 0;max-width: 0;overflow: hidden;text-align: left;background-color: #f0f8ff;}#sk-container-id-1 div.sk-toggleable__content pre {margin: 0.2em;color: black;border-radius: 0.25em;background-color: #f0f8ff;}#sk-container-id-1 input.sk-toggleable__control:checked~div.sk-toggleable__content {max-height: 200px;max-width: 100%;overflow: auto;}#sk-container-id-1 input.sk-toggleable__control:checked~label.sk-toggleable__label-arrow:before {content: \"▾\";}#sk-container-id-1 div.sk-estimator input.sk-toggleable__control:checked~label.sk-toggleable__label {background-color: #d4ebff;}#sk-container-id-1 div.sk-label input.sk-toggleable__control:checked~label.sk-toggleable__label {background-color: #d4ebff;}#sk-container-id-1 input.sk-hidden--visually {border: 0;clip: rect(1px 1px 1px 1px);clip: rect(1px, 1px, 1px, 1px);height: 1px;margin: -1px;overflow: hidden;padding: 0;position: absolute;width: 1px;}#sk-container-id-1 div.sk-estimator {font-family: monospace;background-color: #f0f8ff;border: 1px dotted black;border-radius: 0.25em;box-sizing: border-box;margin-bottom: 0.5em;}#sk-container-id-1 div.sk-estimator:hover {background-color: #d4ebff;}#sk-container-id-1 div.sk-parallel-item::after {content: \"\";width: 100%;border-bottom: 1px solid gray;flex-grow: 1;}#sk-container-id-1 div.sk-label:hover label.sk-toggleable__label {background-color: #d4ebff;}#sk-container-id-1 div.sk-serial::before {content: \"\";position: absolute;border-left: 1px solid gray;box-sizing: border-box;top: 0;bottom: 0;left: 50%;z-index: 0;}#sk-container-id-1 div.sk-serial {display: flex;flex-direction: column;align-items: center;background-color: white;padding-right: 0.2em;padding-left: 0.2em;position: relative;}#sk-container-id-1 div.sk-item {position: relative;z-index: 1;}#sk-container-id-1 div.sk-parallel {display: flex;align-items: stretch;justify-content: center;background-color: white;position: relative;}#sk-container-id-1 div.sk-item::before, #sk-container-id-1 div.sk-parallel-item::before {content: \"\";position: absolute;border-left: 1px solid gray;box-sizing: border-box;top: 0;bottom: 0;left: 50%;z-index: -1;}#sk-container-id-1 div.sk-parallel-item {display: flex;flex-direction: column;z-index: 1;position: relative;background-color: white;}#sk-container-id-1 div.sk-parallel-item:first-child::after {align-self: flex-end;width: 50%;}#sk-container-id-1 div.sk-parallel-item:last-child::after {align-self: flex-start;width: 50%;}#sk-container-id-1 div.sk-parallel-item:only-child::after {width: 0;}#sk-container-id-1 div.sk-dashed-wrapped {border: 1px dashed gray;margin: 0 0.4em 0.5em 0.4em;box-sizing: border-box;padding-bottom: 0.4em;background-color: white;}#sk-container-id-1 div.sk-label label {font-family: monospace;font-weight: bold;display: inline-block;line-height: 1.2em;}#sk-container-id-1 div.sk-label-container {text-align: center;}#sk-container-id-1 div.sk-container {/* jupyter's `normalize.less` sets `[hidden] { display: none; }` but bootstrap.min.css set `[hidden] { display: none !important; }` so we also need the `!important` here to be able to override the default hidden behavior on the sphinx rendered scikit-learn.org. See: https://github.com/scikit-learn/scikit-learn/issues/21755 */display: inline-block !important;position: relative;}#sk-container-id-1 div.sk-text-repr-fallback {display: none;}</style><div id=\"sk-container-id-1\" class=\"sk-top-container\"><div class=\"sk-text-repr-fallback\"><pre>LogisticRegression(fit_intercept=False, max_iter=25001, penalty=None)</pre><b>In a Jupyter environment, please rerun this cell to show the HTML representation or trust the notebook. <br />On GitHub, the HTML representation is unable to render, please try loading this page with nbviewer.org.</b></div><div class=\"sk-container\" hidden><div class=\"sk-item\"><div class=\"sk-estimator sk-toggleable\"><input class=\"sk-toggleable__control sk-hidden--visually\" id=\"sk-estimator-id-1\" type=\"checkbox\" checked><label for=\"sk-estimator-id-1\" class=\"sk-toggleable__label sk-toggleable__label-arrow\">LogisticRegression</label><div class=\"sk-toggleable__content\"><pre>LogisticRegression(fit_intercept=False, max_iter=25001, penalty=None)</pre></div></div></div></div></div>"
      ],
      "text/plain": [
       "LogisticRegression(fit_intercept=False, max_iter=25001, penalty=None)"
      ]
     },
     "execution_count": 31,
     "metadata": {},
     "output_type": "execute_result"
    }
   ],
   "source": [
    "sk_min_loss"
   ]
  },
  {
   "cell_type": "code",
   "execution_count": 33,
   "id": "426602d4-be0e-4281-8950-9931da0096e1",
   "metadata": {},
   "outputs": [
    {
     "data": {
      "text/plain": [
       "array([0.56666667, 0.7       , 0.63333333, 0.71666667, 0.6       ])"
      ]
     },
     "execution_count": 33,
     "metadata": {},
     "output_type": "execute_result"
    }
   ],
   "source": [
    "cross_val_score(sk_min_loss, x3, y3.ravel(), cv=kf)"
   ]
  },
  {
   "cell_type": "code",
   "execution_count": 34,
   "id": "68155e53-8b8b-413e-b841-c54082555a85",
   "metadata": {},
   "outputs": [
    {
     "data": {
      "text/plain": [
       "5"
      ]
     },
     "execution_count": 34,
     "metadata": {},
     "output_type": "execute_result"
    }
   ],
   "source": [
    "kf.get_n_splits()"
   ]
  },
  {
   "cell_type": "markdown",
   "id": "6a003119-74e9-4d05-923b-f341ccf5178a",
   "metadata": {},
   "source": [
    "Look at our manually calculated TEST SET SCORES for model 3."
   ]
  },
  {
   "cell_type": "code",
   "execution_count": 36,
   "id": "896c2275-2ddd-44b0-b5e8-075647dffc07",
   "metadata": {},
   "outputs": [
    {
     "data": {
      "text/html": [
       "<div>\n",
       "<style scoped>\n",
       "    .dataframe tbody tr th:only-of-type {\n",
       "        vertical-align: middle;\n",
       "    }\n",
       "\n",
       "    .dataframe tbody tr th {\n",
       "        vertical-align: top;\n",
       "    }\n",
       "\n",
       "    .dataframe thead th {\n",
       "        text-align: right;\n",
       "    }\n",
       "</style>\n",
       "<table border=\"1\" class=\"dataframe\">\n",
       "  <thead>\n",
       "    <tr style=\"text-align: right;\">\n",
       "      <th></th>\n",
       "      <th>Accuracy</th>\n",
       "      <th>from_set</th>\n",
       "      <th>fold_id</th>\n",
       "      <th>model_name</th>\n",
       "      <th>model_formula</th>\n",
       "      <th>num_coefs</th>\n",
       "    </tr>\n",
       "  </thead>\n",
       "  <tbody>\n",
       "    <tr>\n",
       "      <th>35</th>\n",
       "      <td>0.566667</td>\n",
       "      <td>testing</td>\n",
       "      <td>1</td>\n",
       "      <td>3</td>\n",
       "      <td>y ~ x1 + x2 + x3 + x4 + x5</td>\n",
       "      <td>7</td>\n",
       "    </tr>\n",
       "    <tr>\n",
       "      <th>36</th>\n",
       "      <td>0.700000</td>\n",
       "      <td>testing</td>\n",
       "      <td>2</td>\n",
       "      <td>3</td>\n",
       "      <td>y ~ x1 + x2 + x3 + x4 + x5</td>\n",
       "      <td>7</td>\n",
       "    </tr>\n",
       "    <tr>\n",
       "      <th>37</th>\n",
       "      <td>0.633333</td>\n",
       "      <td>testing</td>\n",
       "      <td>3</td>\n",
       "      <td>3</td>\n",
       "      <td>y ~ x1 + x2 + x3 + x4 + x5</td>\n",
       "      <td>7</td>\n",
       "    </tr>\n",
       "    <tr>\n",
       "      <th>38</th>\n",
       "      <td>0.716667</td>\n",
       "      <td>testing</td>\n",
       "      <td>4</td>\n",
       "      <td>3</td>\n",
       "      <td>y ~ x1 + x2 + x3 + x4 + x5</td>\n",
       "      <td>7</td>\n",
       "    </tr>\n",
       "    <tr>\n",
       "      <th>39</th>\n",
       "      <td>0.600000</td>\n",
       "      <td>testing</td>\n",
       "      <td>5</td>\n",
       "      <td>3</td>\n",
       "      <td>y ~ x1 + x2 + x3 + x4 + x5</td>\n",
       "      <td>7</td>\n",
       "    </tr>\n",
       "  </tbody>\n",
       "</table>\n",
       "</div>"
      ],
      "text/plain": [
       "    Accuracy from_set  fold_id  model_name               model_formula  \\\n",
       "35  0.566667  testing        1           3  y ~ x1 + x2 + x3 + x4 + x5   \n",
       "36  0.700000  testing        2           3  y ~ x1 + x2 + x3 + x4 + x5   \n",
       "37  0.633333  testing        3           3  y ~ x1 + x2 + x3 + x4 + x5   \n",
       "38  0.716667  testing        4           3  y ~ x1 + x2 + x3 + x4 + x5   \n",
       "39  0.600000  testing        5           3  y ~ x1 + x2 + x3 + x4 + x5   \n",
       "\n",
       "    num_coefs  \n",
       "35          7  \n",
       "36          7  \n",
       "37          7  \n",
       "38          7  \n",
       "39          7  "
      ]
     },
     "execution_count": 36,
     "metadata": {},
     "output_type": "execute_result"
    }
   ],
   "source": [
    "cv_results.loc[(cv_results.model_name == 3) & (cv_results.from_set == \"testing\"), :]"
   ]
  },
  {
   "cell_type": "markdown",
   "id": "c7d384af-bf09-4166-b466-abe7b8e9b28c",
   "metadata": {},
   "source": [
    "Lets now WRAP or CONTAIN cross_val_score within a function that lets us easily apply any formula!"
   ]
  },
  {
   "cell_type": "code",
   "execution_count": 40,
   "id": "d9555c0a-08dd-4133-9ac9-a90dc3c40047",
   "metadata": {},
   "outputs": [],
   "source": [
    "def logistic_cross_val_score(mod_name, a_formula, init_mod, data_df, cv):\n",
    "    # create the feature and output arrays using the formula\n",
    "    y, x, = dmatrices(a_formula, data=data_df)\n",
    "\n",
    "    # train and test within each fold - return the test set scores\n",
    "    test_res = cross_val_score(init_mod, x, y.ravel(), cv=cv)\n",
    "\n",
    "    # book keeping\n",
    "    res_df = pd.DataFrame({\"Accuracy\": test_res})\n",
    "    res_df[\"fold_id\"] = res_df.index + 1\n",
    "    res_df[\"model_name\"] = mod_name\n",
    "    res_df[\"model_formula\"] = a_formula\n",
    "    res_df[\"num_coefs\"] = x.shape[1]\n",
    "\n",
    "    return res_df"
   ]
  },
  {
   "cell_type": "code",
   "execution_count": 41,
   "id": "1367fc34-99aa-4889-b2d1-6080d4c609dd",
   "metadata": {},
   "outputs": [
    {
     "data": {
      "text/html": [
       "<div>\n",
       "<style scoped>\n",
       "    .dataframe tbody tr th:only-of-type {\n",
       "        vertical-align: middle;\n",
       "    }\n",
       "\n",
       "    .dataframe tbody tr th {\n",
       "        vertical-align: top;\n",
       "    }\n",
       "\n",
       "    .dataframe thead th {\n",
       "        text-align: right;\n",
       "    }\n",
       "</style>\n",
       "<table border=\"1\" class=\"dataframe\">\n",
       "  <thead>\n",
       "    <tr style=\"text-align: right;\">\n",
       "      <th></th>\n",
       "      <th>Accuracy</th>\n",
       "      <th>fold_id</th>\n",
       "      <th>model_name</th>\n",
       "      <th>model_formula</th>\n",
       "      <th>num_coefs</th>\n",
       "    </tr>\n",
       "  </thead>\n",
       "  <tbody>\n",
       "    <tr>\n",
       "      <th>0</th>\n",
       "      <td>0.566667</td>\n",
       "      <td>1</td>\n",
       "      <td>3</td>\n",
       "      <td>y ~ x1 + x2 + x3 + x4 + x5</td>\n",
       "      <td>7</td>\n",
       "    </tr>\n",
       "    <tr>\n",
       "      <th>1</th>\n",
       "      <td>0.700000</td>\n",
       "      <td>2</td>\n",
       "      <td>3</td>\n",
       "      <td>y ~ x1 + x2 + x3 + x4 + x5</td>\n",
       "      <td>7</td>\n",
       "    </tr>\n",
       "    <tr>\n",
       "      <th>2</th>\n",
       "      <td>0.633333</td>\n",
       "      <td>3</td>\n",
       "      <td>3</td>\n",
       "      <td>y ~ x1 + x2 + x3 + x4 + x5</td>\n",
       "      <td>7</td>\n",
       "    </tr>\n",
       "    <tr>\n",
       "      <th>3</th>\n",
       "      <td>0.716667</td>\n",
       "      <td>4</td>\n",
       "      <td>3</td>\n",
       "      <td>y ~ x1 + x2 + x3 + x4 + x5</td>\n",
       "      <td>7</td>\n",
       "    </tr>\n",
       "    <tr>\n",
       "      <th>4</th>\n",
       "      <td>0.600000</td>\n",
       "      <td>5</td>\n",
       "      <td>3</td>\n",
       "      <td>y ~ x1 + x2 + x3 + x4 + x5</td>\n",
       "      <td>7</td>\n",
       "    </tr>\n",
       "  </tbody>\n",
       "</table>\n",
       "</div>"
      ],
      "text/plain": [
       "   Accuracy  fold_id  model_name               model_formula  num_coefs\n",
       "0  0.566667        1           3  y ~ x1 + x2 + x3 + x4 + x5          7\n",
       "1  0.700000        2           3  y ~ x1 + x2 + x3 + x4 + x5          7\n",
       "2  0.633333        3           3  y ~ x1 + x2 + x3 + x4 + x5          7\n",
       "3  0.716667        4           3  y ~ x1 + x2 + x3 + x4 + x5          7\n",
       "4  0.600000        5           3  y ~ x1 + x2 + x3 + x4 + x5          7"
      ]
     },
     "execution_count": 41,
     "metadata": {},
     "output_type": "execute_result"
    }
   ],
   "source": [
    "logistic_cross_val_score(3, formula_list[3], init_mod=sk_min_loss, data_df=df, cv=kf)"
   ]
  },
  {
   "cell_type": "markdown",
   "id": "123b1428-d6d4-4c4c-bbbf-1a6f9002e82e",
   "metadata": {},
   "source": [
    "Iterate over ALL models."
   ]
  },
  {
   "cell_type": "code",
   "execution_count": 42,
   "id": "db9c0c53-f7aa-4f2a-b9ea-4135ee25a37b",
   "metadata": {},
   "outputs": [
    {
     "name": "stdout",
     "output_type": "stream",
     "text": [
      "-- Formula ID 0 --\n",
      "-- Formula ID 1 --\n",
      "-- Formula ID 2 --\n",
      "-- Formula ID 3 --\n",
      "-- Formula ID 4 --\n",
      "-- Formula ID 5 --\n",
      "-- Formula ID 6 --\n",
      "-- Formula ID 7 --\n",
      "-- Formula ID 8 --\n",
      "-- Formula ID 9 --\n",
      "-- Formula ID 10 --\n",
      "-- Formula ID 11 --\n",
      "-- Formula ID 12 --\n",
      "-- Formula ID 13 --\n",
      "-- Formula ID 14 --\n",
      "-- Formula ID 15 --\n",
      "-- Formula ID 16 --\n"
     ]
    },
    {
     "name": "stderr",
     "output_type": "stream",
     "text": [
      "/Applications/anaconda3/envs/cmpinf2100/lib/python3.8/site-packages/sklearn/linear_model/_logistic.py:460: ConvergenceWarning: lbfgs failed to converge (status=1):\n",
      "STOP: TOTAL NO. of f AND g EVALUATIONS EXCEEDS LIMIT.\n",
      "\n",
      "Increase the number of iterations (max_iter) or scale the data as shown in:\n",
      "    https://scikit-learn.org/stable/modules/preprocessing.html\n",
      "Please also refer to the documentation for alternative solver options:\n",
      "    https://scikit-learn.org/stable/modules/linear_model.html#logistic-regression\n",
      "  n_iter_i = _check_optimize_result(\n"
     ]
    }
   ],
   "source": [
    "cv_score_list = []\n",
    "\n",
    "for m in range(len(formula_list)):\n",
    "    print(\"-- Formula ID %d --\" % m)\n",
    "\n",
    "    cv_score_list.append(logistic_cross_val_score(m, formula_list[m], init_mod=sk_min_loss, data_df=df, cv=kf))"
   ]
  },
  {
   "cell_type": "code",
   "execution_count": 43,
   "id": "c6d08e3a-272f-408a-9351-11f9907b7bce",
   "metadata": {},
   "outputs": [
    {
     "data": {
      "text/plain": [
       "list"
      ]
     },
     "execution_count": 43,
     "metadata": {},
     "output_type": "execute_result"
    }
   ],
   "source": [
    "type(cv_score_list)"
   ]
  },
  {
   "cell_type": "code",
   "execution_count": 50,
   "id": "93867eed-5e74-4456-b57c-e6d9f0cde4a3",
   "metadata": {},
   "outputs": [],
   "source": [
    "cv_score_df = pd.concat(cv_score_list, ignore_index=True)"
   ]
  },
  {
   "cell_type": "code",
   "execution_count": 51,
   "id": "356bc06f-ebdd-446f-8906-d63dcc3c7bfe",
   "metadata": {},
   "outputs": [
    {
     "data": {
      "text/html": [
       "<div>\n",
       "<style scoped>\n",
       "    .dataframe tbody tr th:only-of-type {\n",
       "        vertical-align: middle;\n",
       "    }\n",
       "\n",
       "    .dataframe tbody tr th {\n",
       "        vertical-align: top;\n",
       "    }\n",
       "\n",
       "    .dataframe thead th {\n",
       "        text-align: right;\n",
       "    }\n",
       "</style>\n",
       "<table border=\"1\" class=\"dataframe\">\n",
       "  <thead>\n",
       "    <tr style=\"text-align: right;\">\n",
       "      <th></th>\n",
       "      <th>Accuracy</th>\n",
       "      <th>fold_id</th>\n",
       "      <th>model_name</th>\n",
       "      <th>model_formula</th>\n",
       "      <th>num_coefs</th>\n",
       "    </tr>\n",
       "  </thead>\n",
       "  <tbody>\n",
       "    <tr>\n",
       "      <th>0</th>\n",
       "      <td>0.650000</td>\n",
       "      <td>1</td>\n",
       "      <td>0</td>\n",
       "      <td>y ~ 1</td>\n",
       "      <td>1</td>\n",
       "    </tr>\n",
       "    <tr>\n",
       "      <th>1</th>\n",
       "      <td>0.650000</td>\n",
       "      <td>2</td>\n",
       "      <td>0</td>\n",
       "      <td>y ~ 1</td>\n",
       "      <td>1</td>\n",
       "    </tr>\n",
       "    <tr>\n",
       "      <th>2</th>\n",
       "      <td>0.666667</td>\n",
       "      <td>3</td>\n",
       "      <td>0</td>\n",
       "      <td>y ~ 1</td>\n",
       "      <td>1</td>\n",
       "    </tr>\n",
       "    <tr>\n",
       "      <th>3</th>\n",
       "      <td>0.666667</td>\n",
       "      <td>4</td>\n",
       "      <td>0</td>\n",
       "      <td>y ~ 1</td>\n",
       "      <td>1</td>\n",
       "    </tr>\n",
       "    <tr>\n",
       "      <th>4</th>\n",
       "      <td>0.666667</td>\n",
       "      <td>5</td>\n",
       "      <td>0</td>\n",
       "      <td>y ~ 1</td>\n",
       "      <td>1</td>\n",
       "    </tr>\n",
       "    <tr>\n",
       "      <th>...</th>\n",
       "      <td>...</td>\n",
       "      <td>...</td>\n",
       "      <td>...</td>\n",
       "      <td>...</td>\n",
       "      <td>...</td>\n",
       "    </tr>\n",
       "    <tr>\n",
       "      <th>80</th>\n",
       "      <td>0.600000</td>\n",
       "      <td>1</td>\n",
       "      <td>16</td>\n",
       "      <td>y ~ x5 * ( (x1 + x2 + x3 + x4) ** 3 + np.power...</td>\n",
       "      <td>81</td>\n",
       "    </tr>\n",
       "    <tr>\n",
       "      <th>81</th>\n",
       "      <td>0.616667</td>\n",
       "      <td>2</td>\n",
       "      <td>16</td>\n",
       "      <td>y ~ x5 * ( (x1 + x2 + x3 + x4) ** 3 + np.power...</td>\n",
       "      <td>81</td>\n",
       "    </tr>\n",
       "    <tr>\n",
       "      <th>82</th>\n",
       "      <td>0.516667</td>\n",
       "      <td>3</td>\n",
       "      <td>16</td>\n",
       "      <td>y ~ x5 * ( (x1 + x2 + x3 + x4) ** 3 + np.power...</td>\n",
       "      <td>81</td>\n",
       "    </tr>\n",
       "    <tr>\n",
       "      <th>83</th>\n",
       "      <td>0.633333</td>\n",
       "      <td>4</td>\n",
       "      <td>16</td>\n",
       "      <td>y ~ x5 * ( (x1 + x2 + x3 + x4) ** 3 + np.power...</td>\n",
       "      <td>81</td>\n",
       "    </tr>\n",
       "    <tr>\n",
       "      <th>84</th>\n",
       "      <td>0.600000</td>\n",
       "      <td>5</td>\n",
       "      <td>16</td>\n",
       "      <td>y ~ x5 * ( (x1 + x2 + x3 + x4) ** 3 + np.power...</td>\n",
       "      <td>81</td>\n",
       "    </tr>\n",
       "  </tbody>\n",
       "</table>\n",
       "<p>85 rows × 5 columns</p>\n",
       "</div>"
      ],
      "text/plain": [
       "    Accuracy  fold_id  model_name  \\\n",
       "0   0.650000        1           0   \n",
       "1   0.650000        2           0   \n",
       "2   0.666667        3           0   \n",
       "3   0.666667        4           0   \n",
       "4   0.666667        5           0   \n",
       "..       ...      ...         ...   \n",
       "80  0.600000        1          16   \n",
       "81  0.616667        2          16   \n",
       "82  0.516667        3          16   \n",
       "83  0.633333        4          16   \n",
       "84  0.600000        5          16   \n",
       "\n",
       "                                        model_formula  num_coefs  \n",
       "0                                               y ~ 1          1  \n",
       "1                                               y ~ 1          1  \n",
       "2                                               y ~ 1          1  \n",
       "3                                               y ~ 1          1  \n",
       "4                                               y ~ 1          1  \n",
       "..                                                ...        ...  \n",
       "80  y ~ x5 * ( (x1 + x2 + x3 + x4) ** 3 + np.power...         81  \n",
       "81  y ~ x5 * ( (x1 + x2 + x3 + x4) ** 3 + np.power...         81  \n",
       "82  y ~ x5 * ( (x1 + x2 + x3 + x4) ** 3 + np.power...         81  \n",
       "83  y ~ x5 * ( (x1 + x2 + x3 + x4) ** 3 + np.power...         81  \n",
       "84  y ~ x5 * ( (x1 + x2 + x3 + x4) ** 3 + np.power...         81  \n",
       "\n",
       "[85 rows x 5 columns]"
      ]
     },
     "execution_count": 51,
     "metadata": {},
     "output_type": "execute_result"
    }
   ],
   "source": [
    "cv_score_df"
   ]
  },
  {
   "cell_type": "code",
   "execution_count": 53,
   "id": "78cbe6e6-1ee1-4145-a2f8-7afa6094bd22",
   "metadata": {},
   "outputs": [
    {
     "name": "stderr",
     "output_type": "stream",
     "text": [
      "/Applications/anaconda3/envs/cmpinf2100/lib/python3.8/site-packages/seaborn/axisgrid.py:123: UserWarning: The figure layout has changed to tight\n",
      "  self._figure.tight_layout(*args, **kwargs)\n"
     ]
    },
    {
     "data": {
      "image/png": "[encoded data removed]",
      "text/plain": [
       "<Figure size 511.111x500 with 1 Axes>"
      ]
     },
     "metadata": {},
     "output_type": "display_data"
    }
   ],
   "source": [
    "sns.catplot(data=cv_score_df, x=\"model_name\", y=\"Accuracy\", kind=\"point\", linestyle=\"none\", errorbar=(\"ci\", 68))\n",
    "\n",
    "plt.show()"
   ]
  },
  {
   "cell_type": "markdown",
   "id": "0e5d8113-bd45-42fd-8b84-385701ed99fd",
   "metadata": {},
   "source": [
    "## Model Selection\n",
    "Select the BEST model and then FIT on the ENTIRE data set."
   ]
  },
  {
   "cell_type": "code",
   "execution_count": 54,
   "id": "d33ac543-cbd0-4629-8d63-006c536f9598",
   "metadata": {},
   "outputs": [
    {
     "data": {
      "text/plain": [
       "'y ~ x1 + x2 + x3 + x4 + np.power(x1, 2) + np.power(x2 ,2) + np.power(x3 ,2) + np.power(x4 ,2)'"
      ]
     },
     "execution_count": 54,
     "metadata": {},
     "output_type": "execute_result"
    }
   ],
   "source": [
    "formula_list[6]"
   ]
  },
  {
   "cell_type": "code",
   "execution_count": 55,
   "id": "e3e7a6a6-9129-4e54-9782-e388e26dcfd4",
   "metadata": {},
   "outputs": [],
   "source": [
    "ybest, xbest = dmatrices(formula_list[6], data=df)"
   ]
  },
  {
   "cell_type": "code",
   "execution_count": 56,
   "id": "99664d96-25b7-4ccd-8f53-2687bd2e2f6e",
   "metadata": {},
   "outputs": [
    {
     "data": {
      "text/plain": [
       "(300, 9)"
      ]
     },
     "execution_count": 56,
     "metadata": {},
     "output_type": "execute_result"
    }
   ],
   "source": [
    "xbest.shape"
   ]
  },
  {
   "cell_type": "code",
   "execution_count": 57,
   "id": "0e9cda8e-7b7d-44cb-a84d-08a12c3afaac",
   "metadata": {},
   "outputs": [],
   "source": [
    "sk_best_mod = sk_min_loss.fit(xbest, ybest.ravel())"
   ]
  },
  {
   "cell_type": "code",
   "execution_count": 58,
   "id": "43afb8e9-940b-42cf-9e43-892f5a3acc4c",
   "metadata": {},
   "outputs": [
    {
     "data": {
      "text/plain": [
       "array([[ 0.23364168,  0.51073758, -0.98873177,  0.19716049, -0.02406596,\n",
       "        -0.68377165, -0.62366625, -0.16963101,  0.14722636]])"
      ]
     },
     "execution_count": 58,
     "metadata": {},
     "output_type": "execute_result"
    }
   ],
   "source": [
    "sk_best_mod.coef_"
   ]
  },
  {
   "cell_type": "markdown",
   "id": "0941c70c-3a6d-41aa-a2ce-d580a8137c7c",
   "metadata": {},
   "source": [
    "Make predictions on a new visualization grid!"
   ]
  },
  {
   "cell_type": "code",
   "execution_count": 59,
   "id": "a9b72f93-362d-4b04-87be-ab9f08fdf842",
   "metadata": {},
   "outputs": [],
   "source": [
    "input_grid = pd.DataFrame([(x1, x2, x3, x4, x5) for x1 in np.linspace(df.x1.min(), df.x1.max(), num=101)\n",
    "                                            for x2 in np.linspace(df.x2.min(), df.x2.max(), num=9)\n",
    "                                            for x3 in [df.x3.mean()]\n",
    "                                            for x4 in [df.x4.mean()]\n",
    "                                            for x5 in df.x5.unique()],\n",
    "                         columns=[\"x1\", \"x2\", \"x3\", \"x4\", \"x5\"])"
   ]
  },
  {
   "cell_type": "markdown",
   "id": "d52c63a6-681e-42e5-b6c0-b0d076223342",
   "metadata": {},
   "source": [
    "Make the FEATURE array for the GRID."
   ]
  },
  {
   "cell_type": "code",
   "execution_count": 60,
   "id": "6ab99581-6179-4cf3-aacc-e4bf6f1bd867",
   "metadata": {},
   "outputs": [
    {
     "data": {
      "text/plain": [
       "' ~ x1 + x2 + x3 + x4 + np.power(x1, 2) + np.power(x2 ,2) + np.power(x3 ,2) + np.power(x4 ,2)'"
      ]
     },
     "execution_count": 60,
     "metadata": {},
     "output_type": "execute_result"
    }
   ],
   "source": [
    "formula_list[6][1:]"
   ]
  },
  {
   "cell_type": "code",
   "execution_count": 61,
   "id": "59a95181-9459-4019-bbca-a26632597ff9",
   "metadata": {},
   "outputs": [
    {
     "data": {
      "text/html": [
       "<div>\n",
       "<style scoped>\n",
       "    .dataframe tbody tr th:only-of-type {\n",
       "        vertical-align: middle;\n",
       "    }\n",
       "\n",
       "    .dataframe tbody tr th {\n",
       "        vertical-align: top;\n",
       "    }\n",
       "\n",
       "    .dataframe thead th {\n",
       "        text-align: right;\n",
       "    }\n",
       "</style>\n",
       "<table border=\"1\" class=\"dataframe\">\n",
       "  <thead>\n",
       "    <tr style=\"text-align: right;\">\n",
       "      <th></th>\n",
       "      <th>x1</th>\n",
       "      <th>x2</th>\n",
       "      <th>x3</th>\n",
       "      <th>x4</th>\n",
       "      <th>x5</th>\n",
       "    </tr>\n",
       "  </thead>\n",
       "  <tbody>\n",
       "    <tr>\n",
       "      <th>0</th>\n",
       "      <td>-2.913116</td>\n",
       "      <td>-3.008946</td>\n",
       "      <td>0.002302</td>\n",
       "      <td>0.001372</td>\n",
       "      <td>c</td>\n",
       "    </tr>\n",
       "    <tr>\n",
       "      <th>1</th>\n",
       "      <td>-2.913116</td>\n",
       "      <td>-3.008946</td>\n",
       "      <td>0.002302</td>\n",
       "      <td>0.001372</td>\n",
       "      <td>b</td>\n",
       "    </tr>\n",
       "    <tr>\n",
       "      <th>2</th>\n",
       "      <td>-2.913116</td>\n",
       "      <td>-3.008946</td>\n",
       "      <td>0.002302</td>\n",
       "      <td>0.001372</td>\n",
       "      <td>a</td>\n",
       "    </tr>\n",
       "    <tr>\n",
       "      <th>3</th>\n",
       "      <td>-2.913116</td>\n",
       "      <td>-2.242719</td>\n",
       "      <td>0.002302</td>\n",
       "      <td>0.001372</td>\n",
       "      <td>c</td>\n",
       "    </tr>\n",
       "    <tr>\n",
       "      <th>4</th>\n",
       "      <td>-2.913116</td>\n",
       "      <td>-2.242719</td>\n",
       "      <td>0.002302</td>\n",
       "      <td>0.001372</td>\n",
       "      <td>b</td>\n",
       "    </tr>\n",
       "    <tr>\n",
       "      <th>...</th>\n",
       "      <td>...</td>\n",
       "      <td>...</td>\n",
       "      <td>...</td>\n",
       "      <td>...</td>\n",
       "      <td>...</td>\n",
       "    </tr>\n",
       "    <tr>\n",
       "      <th>2722</th>\n",
       "      <td>2.783826</td>\n",
       "      <td>2.354646</td>\n",
       "      <td>0.002302</td>\n",
       "      <td>0.001372</td>\n",
       "      <td>b</td>\n",
       "    </tr>\n",
       "    <tr>\n",
       "      <th>2723</th>\n",
       "      <td>2.783826</td>\n",
       "      <td>2.354646</td>\n",
       "      <td>0.002302</td>\n",
       "      <td>0.001372</td>\n",
       "      <td>a</td>\n",
       "    </tr>\n",
       "    <tr>\n",
       "      <th>2724</th>\n",
       "      <td>2.783826</td>\n",
       "      <td>3.120873</td>\n",
       "      <td>0.002302</td>\n",
       "      <td>0.001372</td>\n",
       "      <td>c</td>\n",
       "    </tr>\n",
       "    <tr>\n",
       "      <th>2725</th>\n",
       "      <td>2.783826</td>\n",
       "      <td>3.120873</td>\n",
       "      <td>0.002302</td>\n",
       "      <td>0.001372</td>\n",
       "      <td>b</td>\n",
       "    </tr>\n",
       "    <tr>\n",
       "      <th>2726</th>\n",
       "      <td>2.783826</td>\n",
       "      <td>3.120873</td>\n",
       "      <td>0.002302</td>\n",
       "      <td>0.001372</td>\n",
       "      <td>a</td>\n",
       "    </tr>\n",
       "  </tbody>\n",
       "</table>\n",
       "<p>2727 rows × 5 columns</p>\n",
       "</div>"
      ],
      "text/plain": [
       "            x1        x2        x3        x4 x5\n",
       "0    -2.913116 -3.008946  0.002302  0.001372  c\n",
       "1    -2.913116 -3.008946  0.002302  0.001372  b\n",
       "2    -2.913116 -3.008946  0.002302  0.001372  a\n",
       "3    -2.913116 -2.242719  0.002302  0.001372  c\n",
       "4    -2.913116 -2.242719  0.002302  0.001372  b\n",
       "...        ...       ...       ...       ... ..\n",
       "2722  2.783826  2.354646  0.002302  0.001372  b\n",
       "2723  2.783826  2.354646  0.002302  0.001372  a\n",
       "2724  2.783826  3.120873  0.002302  0.001372  c\n",
       "2725  2.783826  3.120873  0.002302  0.001372  b\n",
       "2726  2.783826  3.120873  0.002302  0.001372  a\n",
       "\n",
       "[2727 rows x 5 columns]"
      ]
     },
     "execution_count": 61,
     "metadata": {},
     "output_type": "execute_result"
    }
   ],
   "source": [
    "input_grid"
   ]
  },
  {
   "cell_type": "markdown",
   "id": "b5d4e242-c0fe-4255-9877-16911d978479",
   "metadata": {},
   "source": [
    "Remove the output from the FORMULA to make the visualization grid FEATURE array!"
   ]
  },
  {
   "cell_type": "code",
   "execution_count": 62,
   "id": "49451e97-9567-414e-bf74-2b54206ef55d",
   "metadata": {},
   "outputs": [],
   "source": [
    "xgrid = dmatrix(formula_list[6][1:], input_grid)"
   ]
  },
  {
   "cell_type": "code",
   "execution_count": 63,
   "id": "8b44816b-9942-4f91-af83-9ff8f756a508",
   "metadata": {},
   "outputs": [
    {
     "data": {
      "text/plain": [
       "(2727, 9)"
      ]
     },
     "execution_count": 63,
     "metadata": {},
     "output_type": "execute_result"
    }
   ],
   "source": [
    "xgrid.shape"
   ]
  },
  {
   "cell_type": "code",
   "execution_count": 64,
   "id": "f674527c-e3b1-4143-8b7a-6860e486dd3d",
   "metadata": {},
   "outputs": [
    {
     "data": {
      "text/plain": [
       "24543"
      ]
     },
     "execution_count": 64,
     "metadata": {},
     "output_type": "execute_result"
    }
   ],
   "source": [
    "xgrid.size"
   ]
  },
  {
   "cell_type": "markdown",
   "id": "5b3a0742-db3d-4da4-823e-4c5ff9f368db",
   "metadata": {},
   "source": [
    "Predict the visualization grid with the best model!"
   ]
  },
  {
   "cell_type": "markdown",
   "id": "8293e906-329c-4fdc-b12a-1f64bcfe34e2",
   "metadata": {},
   "source": [
    "Return the PROBABILITIES!"
   ]
  },
  {
   "cell_type": "code",
   "execution_count": 65,
   "id": "87675f2f-8901-48fe-b7f7-8d9b9ae11ef0",
   "metadata": {},
   "outputs": [],
   "source": [
    "pred_grid_sk_best = sk_best_mod.predict_proba(xgrid)"
   ]
  },
  {
   "cell_type": "code",
   "execution_count": 66,
   "id": "1544e792-c200-49d1-b2a3-0bb6f0e28f2f",
   "metadata": {},
   "outputs": [
    {
     "data": {
      "text/plain": [
       "array([[9.99940407e-01, 5.95931783e-05],\n",
       "       [9.99940407e-01, 5.95931783e-05],\n",
       "       [9.99940407e-01, 5.95931783e-05],\n",
       "       [9.99656469e-01, 3.43531210e-04],\n",
       "       [9.99656469e-01, 3.43531210e-04]])"
      ]
     },
     "execution_count": 66,
     "metadata": {},
     "output_type": "execute_result"
    }
   ],
   "source": [
    "pred_grid_sk_best[:5, :]"
   ]
  },
  {
   "cell_type": "code",
   "execution_count": 67,
   "id": "e2898d12-9a1f-4643-97cb-ae6186078978",
   "metadata": {},
   "outputs": [],
   "source": [
    "dfviz = input_grid.copy()"
   ]
  },
  {
   "cell_type": "code",
   "execution_count": 68,
   "id": "be8791f9-72fd-457a-b4fe-717856b0ca3f",
   "metadata": {},
   "outputs": [],
   "source": [
    "dfviz[\"pred_probability\"] = pd.Series(pred_grid_sk_best[:, sk_best_mod.classes_ == 1].ravel(), index=dfviz.index)"
   ]
  },
  {
   "cell_type": "code",
   "execution_count": 69,
   "id": "fe47fb76-45dd-4748-979d-5ece23936dee",
   "metadata": {},
   "outputs": [
    {
     "data": {
      "text/html": [
       "<div>\n",
       "<style scoped>\n",
       "    .dataframe tbody tr th:only-of-type {\n",
       "        vertical-align: middle;\n",
       "    }\n",
       "\n",
       "    .dataframe tbody tr th {\n",
       "        vertical-align: top;\n",
       "    }\n",
       "\n",
       "    .dataframe thead th {\n",
       "        text-align: right;\n",
       "    }\n",
       "</style>\n",
       "<table border=\"1\" class=\"dataframe\">\n",
       "  <thead>\n",
       "    <tr style=\"text-align: right;\">\n",
       "      <th></th>\n",
       "      <th>x1</th>\n",
       "      <th>x2</th>\n",
       "      <th>x3</th>\n",
       "      <th>x4</th>\n",
       "      <th>x5</th>\n",
       "      <th>pred_probability</th>\n",
       "    </tr>\n",
       "  </thead>\n",
       "  <tbody>\n",
       "    <tr>\n",
       "      <th>0</th>\n",
       "      <td>-2.913116</td>\n",
       "      <td>-3.008946</td>\n",
       "      <td>0.002302</td>\n",
       "      <td>0.001372</td>\n",
       "      <td>c</td>\n",
       "      <td>0.000060</td>\n",
       "    </tr>\n",
       "    <tr>\n",
       "      <th>1</th>\n",
       "      <td>-2.913116</td>\n",
       "      <td>-3.008946</td>\n",
       "      <td>0.002302</td>\n",
       "      <td>0.001372</td>\n",
       "      <td>b</td>\n",
       "      <td>0.000060</td>\n",
       "    </tr>\n",
       "    <tr>\n",
       "      <th>2</th>\n",
       "      <td>-2.913116</td>\n",
       "      <td>-3.008946</td>\n",
       "      <td>0.002302</td>\n",
       "      <td>0.001372</td>\n",
       "      <td>a</td>\n",
       "      <td>0.000060</td>\n",
       "    </tr>\n",
       "    <tr>\n",
       "      <th>3</th>\n",
       "      <td>-2.913116</td>\n",
       "      <td>-2.242719</td>\n",
       "      <td>0.002302</td>\n",
       "      <td>0.001372</td>\n",
       "      <td>c</td>\n",
       "      <td>0.000344</td>\n",
       "    </tr>\n",
       "    <tr>\n",
       "      <th>4</th>\n",
       "      <td>-2.913116</td>\n",
       "      <td>-2.242719</td>\n",
       "      <td>0.002302</td>\n",
       "      <td>0.001372</td>\n",
       "      <td>b</td>\n",
       "      <td>0.000344</td>\n",
       "    </tr>\n",
       "    <tr>\n",
       "      <th>...</th>\n",
       "      <td>...</td>\n",
       "      <td>...</td>\n",
       "      <td>...</td>\n",
       "      <td>...</td>\n",
       "      <td>...</td>\n",
       "      <td>...</td>\n",
       "    </tr>\n",
       "    <tr>\n",
       "      <th>2722</th>\n",
       "      <td>2.783826</td>\n",
       "      <td>2.354646</td>\n",
       "      <td>0.002302</td>\n",
       "      <td>0.001372</td>\n",
       "      <td>b</td>\n",
       "      <td>0.000080</td>\n",
       "    </tr>\n",
       "    <tr>\n",
       "      <th>2723</th>\n",
       "      <td>2.783826</td>\n",
       "      <td>2.354646</td>\n",
       "      <td>0.002302</td>\n",
       "      <td>0.001372</td>\n",
       "      <td>a</td>\n",
       "      <td>0.000080</td>\n",
       "    </tr>\n",
       "    <tr>\n",
       "      <th>2724</th>\n",
       "      <td>2.783826</td>\n",
       "      <td>3.120873</td>\n",
       "      <td>0.002302</td>\n",
       "      <td>0.001372</td>\n",
       "      <td>c</td>\n",
       "      <td>0.000003</td>\n",
       "    </tr>\n",
       "    <tr>\n",
       "      <th>2725</th>\n",
       "      <td>2.783826</td>\n",
       "      <td>3.120873</td>\n",
       "      <td>0.002302</td>\n",
       "      <td>0.001372</td>\n",
       "      <td>b</td>\n",
       "      <td>0.000003</td>\n",
       "    </tr>\n",
       "    <tr>\n",
       "      <th>2726</th>\n",
       "      <td>2.783826</td>\n",
       "      <td>3.120873</td>\n",
       "      <td>0.002302</td>\n",
       "      <td>0.001372</td>\n",
       "      <td>a</td>\n",
       "      <td>0.000003</td>\n",
       "    </tr>\n",
       "  </tbody>\n",
       "</table>\n",
       "<p>2727 rows × 6 columns</p>\n",
       "</div>"
      ],
      "text/plain": [
       "            x1        x2        x3        x4 x5  pred_probability\n",
       "0    -2.913116 -3.008946  0.002302  0.001372  c          0.000060\n",
       "1    -2.913116 -3.008946  0.002302  0.001372  b          0.000060\n",
       "2    -2.913116 -3.008946  0.002302  0.001372  a          0.000060\n",
       "3    -2.913116 -2.242719  0.002302  0.001372  c          0.000344\n",
       "4    -2.913116 -2.242719  0.002302  0.001372  b          0.000344\n",
       "...        ...       ...       ...       ... ..               ...\n",
       "2722  2.783826  2.354646  0.002302  0.001372  b          0.000080\n",
       "2723  2.783826  2.354646  0.002302  0.001372  a          0.000080\n",
       "2724  2.783826  3.120873  0.002302  0.001372  c          0.000003\n",
       "2725  2.783826  3.120873  0.002302  0.001372  b          0.000003\n",
       "2726  2.783826  3.120873  0.002302  0.001372  a          0.000003\n",
       "\n",
       "[2727 rows x 6 columns]"
      ]
     },
     "execution_count": 69,
     "metadata": {},
     "output_type": "execute_result"
    }
   ],
   "source": [
    "dfviz"
   ]
  },
  {
   "cell_type": "code",
   "execution_count": 70,
   "id": "4ca36421-5965-47f2-99cf-d2099bcacb98",
   "metadata": {},
   "outputs": [
    {
     "name": "stderr",
     "output_type": "stream",
     "text": [
      "/Applications/anaconda3/envs/cmpinf2100/lib/python3.8/site-packages/seaborn/axisgrid.py:123: UserWarning: The figure layout has changed to tight\n",
      "  self._figure.tight_layout(*args, **kwargs)\n"
     ]
    },
    {
     "data": {
      "image/png": "[encoded data removed]",
      "text/plain": [
       "<Figure size 1558.88x1500 with 9 Axes>"
      ]
     },
     "metadata": {},
     "output_type": "display_data"
    }
   ],
   "source": [
    "sns.relplot(data=dfviz, x=\"x1\", y=\"pred_probability\", hue=\"x5\", col=\"x2\", kind=\"line\", estimator=None, units=\"x5\", col_wrap=3)\n",
    "\n",
    "plt.show()"
   ]
  },
  {
   "cell_type": "code",
   "execution_count": null,
   "id": "c2fb36c5-05fb-4946-830b-270de0e91053",
   "metadata": {},
   "outputs": [],
   "source": []
  },
  {
   "cell_type": "code",
   "execution_count": null,
   "id": "ac9c405a-1649-4fbe-ad6f-296820799a52",
   "metadata": {},
   "outputs": [],
   "source": []
  }
 ],
 "metadata": {
  "kernelspec": {
   "display_name": "Python 3 (ipykernel)",
   "language": "python",
   "name": "python3"
  },
  "language_info": {
   "codemirror_mode": {
    "name": "ipython",
    "version": 3
   },
   "file_extension": ".py",
   "mimetype": "text/x-python",
   "name": "python",
   "nbconvert_exporter": "python",
   "pygments_lexer": "ipython3",
   "version": "3.8.19"
  }
 },
 "nbformat": 4,
 "nbformat_minor": 5
}
