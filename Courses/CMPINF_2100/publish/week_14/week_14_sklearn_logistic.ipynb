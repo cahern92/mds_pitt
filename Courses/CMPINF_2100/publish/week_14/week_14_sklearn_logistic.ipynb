{
 "cells": [
  {
   "cell_type": "markdown",
   "id": "8d8baec6-fec5-4b03-b2be-9f3583a25d25",
   "metadata": {},
   "source": [
    "## CMPINF 2100 Week 14\n",
    "### Introduction to fitting logistic regression models using scikit-learn \n",
    "You will learn how to use the ARRAY interface for statsmodels as a preliminary for learning how to work with sklearn's predictive model functions.\n",
    "\n",
    "## Import Modules"
   ]
  },
  {
   "cell_type": "code",
   "execution_count": 1,
   "id": "10939fdd-61aa-4f75-a1d3-d6449a171d7d",
   "metadata": {},
   "outputs": [],
   "source": [
    "import numpy as np\n",
    "import pandas as pd\n",
    "import matplotlib.pyplot as plt\n",
    "\n",
    "import seaborn as sns"
   ]
  },
  {
   "cell_type": "markdown",
   "id": "4621a139-1616-4aa0-905d-f6a9626d5617",
   "metadata": {},
   "source": [
    "## Read data\n",
    "We will use a simpler example compared to the WEEK 13 binary classification example.\n",
    "\n",
    "Lets go back to WEEK 12 example which involved a SINGLE continuous input and a BINARY OUTCOME."
   ]
  },
  {
   "cell_type": "code",
   "execution_count": 2,
   "id": "5694488f-dcf7-46af-893b-c9a8a46b95d2",
   "metadata": {},
   "outputs": [],
   "source": [
    "df = pd.read_csv(\"../week_12/week_11_intro_binary_classification.csv\")"
   ]
  },
  {
   "cell_type": "code",
   "execution_count": 3,
   "id": "4cab1b1d-37f6-4a27-a657-1bf604240675",
   "metadata": {},
   "outputs": [
    {
     "name": "stdout",
     "output_type": "stream",
     "text": [
      "<class 'pandas.core.frame.DataFrame'>\n",
      "RangeIndex: 115 entries, 0 to 114\n",
      "Data columns (total 2 columns):\n",
      " #   Column  Non-Null Count  Dtype  \n",
      "---  ------  --------------  -----  \n",
      " 0   x       115 non-null    float64\n",
      " 1   y       115 non-null    int64  \n",
      "dtypes: float64(1), int64(1)\n",
      "memory usage: 1.9 KB\n"
     ]
    }
   ],
   "source": [
    "df.info()"
   ]
  },
  {
   "cell_type": "code",
   "execution_count": 4,
   "id": "ad60ad97-0a11-4b63-be04-4c5dd8d2fa32",
   "metadata": {},
   "outputs": [
    {
     "data": {
      "text/plain": [
       "x    115\n",
       "y      2\n",
       "dtype: int64"
      ]
     },
     "execution_count": 4,
     "metadata": {},
     "output_type": "execute_result"
    }
   ],
   "source": [
    "df.nunique()"
   ]
  },
  {
   "cell_type": "code",
   "execution_count": 5,
   "id": "db4d5489-c08e-44dc-a73e-eaba3ed87c44",
   "metadata": {},
   "outputs": [
    {
     "data": {
      "text/plain": [
       "y\n",
       "0    67\n",
       "1    48\n",
       "Name: count, dtype: int64"
      ]
     },
     "execution_count": 5,
     "metadata": {},
     "output_type": "execute_result"
    }
   ],
   "source": [
    "df.y.value_counts()"
   ]
  },
  {
   "cell_type": "markdown",
   "id": "eac2fb82-696b-4bf0-9b88-52b6dcf0a47b",
   "metadata": {},
   "source": [
    "## Fit logistic regression models\n",
    "### Formula interface"
   ]
  },
  {
   "cell_type": "code",
   "execution_count": 6,
   "id": "00800cf4-5086-48f0-9803-b9077fee52af",
   "metadata": {},
   "outputs": [],
   "source": [
    "import statsmodels.formula.api as smf"
   ]
  },
  {
   "cell_type": "code",
   "execution_count": 7,
   "id": "a303deaf-355d-486a-b160-ded627aca765",
   "metadata": {},
   "outputs": [
    {
     "name": "stdout",
     "output_type": "stream",
     "text": [
      "Optimization terminated successfully.\n",
      "         Current function value: 0.560099\n",
      "         Iterations 6\n"
     ]
    }
   ],
   "source": [
    "fit_stats_formula = smf.logit(formula=\"y ~ x\", data=df).fit()"
   ]
  },
  {
   "cell_type": "code",
   "execution_count": 8,
   "id": "704513e1-0f30-44f3-b317-2b5deaccacff",
   "metadata": {},
   "outputs": [
    {
     "data": {
      "text/plain": [
       "Intercept   -0.449518\n",
       "x            1.183814\n",
       "dtype: float64"
      ]
     },
     "execution_count": 8,
     "metadata": {},
     "output_type": "execute_result"
    }
   ],
   "source": [
    "fit_stats_formula.params"
   ]
  },
  {
   "cell_type": "code",
   "execution_count": 9,
   "id": "cfee488f-1028-4997-ba50-20c4cd5aa97b",
   "metadata": {},
   "outputs": [
    {
     "data": {
      "text/plain": [
       "Intercept    0.218009\n",
       "x            0.267133\n",
       "dtype: float64"
      ]
     },
     "execution_count": 9,
     "metadata": {},
     "output_type": "execute_result"
    }
   ],
   "source": [
    "fit_stats_formula.bse"
   ]
  },
  {
   "cell_type": "code",
   "execution_count": 10,
   "id": "6ed59b27-ef5f-4cf9-aa24-ef9ff0e03de5",
   "metadata": {},
   "outputs": [
    {
     "data": {
      "text/html": [
       "<div>\n",
       "<style scoped>\n",
       "    .dataframe tbody tr th:only-of-type {\n",
       "        vertical-align: middle;\n",
       "    }\n",
       "\n",
       "    .dataframe tbody tr th {\n",
       "        vertical-align: top;\n",
       "    }\n",
       "\n",
       "    .dataframe thead th {\n",
       "        text-align: right;\n",
       "    }\n",
       "</style>\n",
       "<table border=\"1\" class=\"dataframe\">\n",
       "  <thead>\n",
       "    <tr style=\"text-align: right;\">\n",
       "      <th></th>\n",
       "      <th>0</th>\n",
       "      <th>1</th>\n",
       "    </tr>\n",
       "  </thead>\n",
       "  <tbody>\n",
       "    <tr>\n",
       "      <th>Intercept</th>\n",
       "      <td>-0.876808</td>\n",
       "      <td>-0.022228</td>\n",
       "    </tr>\n",
       "    <tr>\n",
       "      <th>x</th>\n",
       "      <td>0.660243</td>\n",
       "      <td>1.707385</td>\n",
       "    </tr>\n",
       "  </tbody>\n",
       "</table>\n",
       "</div>"
      ],
      "text/plain": [
       "                  0         1\n",
       "Intercept -0.876808 -0.022228\n",
       "x          0.660243  1.707385"
      ]
     },
     "execution_count": 10,
     "metadata": {},
     "output_type": "execute_result"
    }
   ],
   "source": [
    "fit_stats_formula.conf_int()"
   ]
  },
  {
   "cell_type": "code",
   "execution_count": 11,
   "id": "fe24d56e-238c-4395-bea6-68280d4632f6",
   "metadata": {},
   "outputs": [
    {
     "data": {
      "text/plain": [
       "Intercept    0.039215\n",
       "x            0.000009\n",
       "dtype: float64"
      ]
     },
     "execution_count": 11,
     "metadata": {},
     "output_type": "execute_result"
    }
   ],
   "source": [
    "fit_stats_formula.pvalues"
   ]
  },
  {
   "cell_type": "markdown",
   "id": "0e8ab34a-d945-4bba-a8e5-f1a5bb3f4657",
   "metadata": {},
   "source": [
    "We also know how to PREDICT A NEW DATA SET to support visualization."
   ]
  },
  {
   "cell_type": "code",
   "execution_count": 12,
   "id": "076647c0-0033-46f0-8bdd-114b344d5ada",
   "metadata": {},
   "outputs": [],
   "source": [
    "input_grid = pd.DataFrame({\"x\": np.linspace(df.x.min()-.02, df.x.max()+.02, num=101)})"
   ]
  },
  {
   "cell_type": "code",
   "execution_count": 13,
   "id": "d990c041-5f6d-4dc4-9a58-24a12d4bac4c",
   "metadata": {},
   "outputs": [],
   "source": [
    "dfviz = input_grid.copy()"
   ]
  },
  {
   "cell_type": "code",
   "execution_count": 14,
   "id": "2b4bf488-c65f-40ed-8184-fc5dacbd8f48",
   "metadata": {},
   "outputs": [],
   "source": [
    "dfviz[\"pred_probability_statsformula\"] = fit_stats_formula.predict(input_grid)"
   ]
  },
  {
   "cell_type": "code",
   "execution_count": 15,
   "id": "a5b95d3d-ace1-4cd7-a7ae-8a1f399b3edd",
   "metadata": {},
   "outputs": [
    {
     "data": {
      "text/html": [
       "<div>\n",
       "<style scoped>\n",
       "    .dataframe tbody tr th:only-of-type {\n",
       "        vertical-align: middle;\n",
       "    }\n",
       "\n",
       "    .dataframe tbody tr th {\n",
       "        vertical-align: top;\n",
       "    }\n",
       "\n",
       "    .dataframe thead th {\n",
       "        text-align: right;\n",
       "    }\n",
       "</style>\n",
       "<table border=\"1\" class=\"dataframe\">\n",
       "  <thead>\n",
       "    <tr style=\"text-align: right;\">\n",
       "      <th></th>\n",
       "      <th>x</th>\n",
       "      <th>pred_probability_statsformula</th>\n",
       "    </tr>\n",
       "  </thead>\n",
       "  <tbody>\n",
       "    <tr>\n",
       "      <th>0</th>\n",
       "      <td>-2.079272</td>\n",
       "      <td>0.051613</td>\n",
       "    </tr>\n",
       "    <tr>\n",
       "      <th>1</th>\n",
       "      <td>-2.033891</td>\n",
       "      <td>0.054307</td>\n",
       "    </tr>\n",
       "    <tr>\n",
       "      <th>2</th>\n",
       "      <td>-1.988509</td>\n",
       "      <td>0.057133</td>\n",
       "    </tr>\n",
       "    <tr>\n",
       "      <th>3</th>\n",
       "      <td>-1.943128</td>\n",
       "      <td>0.060097</td>\n",
       "    </tr>\n",
       "    <tr>\n",
       "      <th>4</th>\n",
       "      <td>-1.897747</td>\n",
       "      <td>0.063204</td>\n",
       "    </tr>\n",
       "    <tr>\n",
       "      <th>...</th>\n",
       "      <td>...</td>\n",
       "      <td>...</td>\n",
       "    </tr>\n",
       "    <tr>\n",
       "      <th>96</th>\n",
       "      <td>2.277334</td>\n",
       "      <td>0.904341</td>\n",
       "    </tr>\n",
       "    <tr>\n",
       "      <th>97</th>\n",
       "      <td>2.322715</td>\n",
       "      <td>0.908889</td>\n",
       "    </tr>\n",
       "    <tr>\n",
       "      <th>98</th>\n",
       "      <td>2.368097</td>\n",
       "      <td>0.913241</td>\n",
       "    </tr>\n",
       "    <tr>\n",
       "      <th>99</th>\n",
       "      <td>2.413478</td>\n",
       "      <td>0.917404</td>\n",
       "    </tr>\n",
       "    <tr>\n",
       "      <th>100</th>\n",
       "      <td>2.458859</td>\n",
       "      <td>0.921385</td>\n",
       "    </tr>\n",
       "  </tbody>\n",
       "</table>\n",
       "<p>101 rows × 2 columns</p>\n",
       "</div>"
      ],
      "text/plain": [
       "            x  pred_probability_statsformula\n",
       "0   -2.079272                       0.051613\n",
       "1   -2.033891                       0.054307\n",
       "2   -1.988509                       0.057133\n",
       "3   -1.943128                       0.060097\n",
       "4   -1.897747                       0.063204\n",
       "..        ...                            ...\n",
       "96   2.277334                       0.904341\n",
       "97   2.322715                       0.908889\n",
       "98   2.368097                       0.913241\n",
       "99   2.413478                       0.917404\n",
       "100  2.458859                       0.921385\n",
       "\n",
       "[101 rows x 2 columns]"
      ]
     },
     "execution_count": 15,
     "metadata": {},
     "output_type": "execute_result"
    }
   ],
   "source": [
    "dfviz"
   ]
  },
  {
   "cell_type": "code",
   "execution_count": 16,
   "id": "0facc4b2-e081-45ce-a819-1dd7fb5fdc1a",
   "metadata": {},
   "outputs": [
    {
     "name": "stderr",
     "output_type": "stream",
     "text": [
      "/Applications/anaconda3/envs/cmpinf2100/lib/python3.8/site-packages/seaborn/axisgrid.py:123: UserWarning: The figure layout has changed to tight\n",
      "  self._figure.tight_layout(*args, **kwargs)\n"
     ]
    },
    {
     "data": {
      "image/png": "[encoded data removed]",
      "text/plain": [
       "<Figure size 500x500 with 1 Axes>"
      ]
     },
     "metadata": {},
     "output_type": "display_data"
    }
   ],
   "source": [
    "sns.relplot(data=dfviz, x=\"x\", y=\"pred_probability_statsformula\", kind=\"line\")\n",
    "\n",
    "plt.show()"
   ]
  },
  {
   "cell_type": "markdown",
   "id": "791f6f7a-9498-4c1b-9b8a-b69ba7dd272d",
   "metadata": {},
   "source": [
    "We know how to CLASSIFY predictions by comparing the PREDICTED PROBABILITY to a THRESHOLD."
   ]
  },
  {
   "cell_type": "code",
   "execution_count": 17,
   "id": "8e642008-3180-4a90-b61b-8545e1c3836c",
   "metadata": {},
   "outputs": [],
   "source": [
    "dfviz[\"pred_class_statsformula\"] = np.where(dfviz.pred_probability_statsformula > 0.5, 1, 0)"
   ]
  },
  {
   "cell_type": "code",
   "execution_count": 18,
   "id": "044cab96-0614-4985-823e-10084d8af15a",
   "metadata": {},
   "outputs": [
    {
     "data": {
      "text/plain": [
       "pred_class_statsformula\n",
       "0    55\n",
       "1    46\n",
       "Name: count, dtype: int64"
      ]
     },
     "execution_count": 18,
     "metadata": {},
     "output_type": "execute_result"
    }
   ],
   "source": [
    "dfviz.pred_class_statsformula.value_counts()"
   ]
  },
  {
   "cell_type": "markdown",
   "id": "8da48bee-8322-40a7-8387-3d9ee108904b",
   "metadata": {},
   "source": [
    "## Array interface\n",
    "There is an alternative INTERFACE to statsmodels. This alternative does **NOT** rely on the formula!!\n",
    "\n",
    "Instead, we must provide arrays for the input FEATURES and for the OUTPUT.\n",
    "\n",
    "This alternative interface is from the statsmodels.api module."
   ]
  },
  {
   "cell_type": "code",
   "execution_count": 19,
   "id": "b65ca32e-2807-45fb-9c03-489350d4f2bb",
   "metadata": {},
   "outputs": [],
   "source": [
    "import statsmodels.api as sm"
   ]
  },
  {
   "cell_type": "markdown",
   "id": "bc4999f1-0089-4f40-a6bc-98848bc9c24c",
   "metadata": {},
   "source": [
    "However, I never import statsmodels.api ALONE. It needs HELPERS from the patsy module. We need a function for GENERATING the FEATURE and OUTPUT arrays!!!"
   ]
  },
  {
   "cell_type": "code",
   "execution_count": 20,
   "id": "26594c57-4e58-44e4-a9be-6d9b21681584",
   "metadata": {},
   "outputs": [],
   "source": [
    "from patsy import dmatrices"
   ]
  },
  {
   "cell_type": "code",
   "execution_count": 21,
   "id": "9b3ee970-dd65-4a66-8392-af84b9fa6fc3",
   "metadata": {},
   "outputs": [],
   "source": [
    "from patsy import dmatrix"
   ]
  },
  {
   "cell_type": "markdown",
   "id": "6e08d412-fc61-49c8-9661-36467984e76e",
   "metadata": {},
   "source": [
    "The dmatrices function USES a FORMULA to specify the FEATURES from the INPUT!!!\n",
    "\n",
    "The dmatrices function generates the OUTPUT array and the FEATURE array based on the provided FORMULA!!!\n",
    "\n",
    "Historically, the FEATURE array was called the **DESIGN MATRIX** and thats what the d in dmatrices stands for.\n",
    "\n",
    "The dmatrices function RETURNS 2 objects.\n",
    "\n",
    "`<output array>, <feature array> = dmatrices(<formula>, data= <data>)`"
   ]
  },
  {
   "cell_type": "code",
   "execution_count": 22,
   "id": "9dcc0676-0eb2-4ba6-8dcb-9d471b338f1f",
   "metadata": {},
   "outputs": [],
   "source": [
    "yobs_mat, Xdesign_mat = dmatrices(\"y ~ x\", data=df)"
   ]
  },
  {
   "cell_type": "code",
   "execution_count": 23,
   "id": "24117d29-560e-4ab0-ad46-357a6d27a080",
   "metadata": {},
   "outputs": [
    {
     "data": {
      "text/plain": [
       "patsy.design_info.DesignMatrix"
      ]
     },
     "execution_count": 23,
     "metadata": {},
     "output_type": "execute_result"
    }
   ],
   "source": [
    "type(yobs_mat)"
   ]
  },
  {
   "cell_type": "code",
   "execution_count": 24,
   "id": "a1253df2-3b54-4bf3-92ad-ad09e762615f",
   "metadata": {},
   "outputs": [
    {
     "data": {
      "text/plain": [
       "patsy.design_info.DesignMatrix"
      ]
     },
     "execution_count": 24,
     "metadata": {},
     "output_type": "execute_result"
    }
   ],
   "source": [
    "type(Xdesign_mat)"
   ]
  },
  {
   "cell_type": "code",
   "execution_count": 25,
   "id": "69ff1ba5-e116-4952-9ba5-7c495a9b6a87",
   "metadata": {},
   "outputs": [
    {
     "data": {
      "text/plain": [
       "2"
      ]
     },
     "execution_count": 25,
     "metadata": {},
     "output_type": "execute_result"
    }
   ],
   "source": [
    "yobs_mat.ndim"
   ]
  },
  {
   "cell_type": "code",
   "execution_count": 26,
   "id": "aea1547d-cf8e-4e59-917f-7fec02f7f98d",
   "metadata": {},
   "outputs": [
    {
     "data": {
      "text/plain": [
       "2"
      ]
     },
     "execution_count": 26,
     "metadata": {},
     "output_type": "execute_result"
    }
   ],
   "source": [
    "Xdesign_mat.ndim"
   ]
  },
  {
   "cell_type": "code",
   "execution_count": 27,
   "id": "6ce391f7-a9a3-4b13-ab3e-4ea793c914bc",
   "metadata": {},
   "outputs": [
    {
     "data": {
      "text/plain": [
       "(115, 1)"
      ]
     },
     "execution_count": 27,
     "metadata": {},
     "output_type": "execute_result"
    }
   ],
   "source": [
    "yobs_mat.shape"
   ]
  },
  {
   "cell_type": "code",
   "execution_count": 28,
   "id": "eff775cb-6ad0-4c51-aaf5-b73eadb001f0",
   "metadata": {},
   "outputs": [
    {
     "data": {
      "text/plain": [
       "(115, 2)"
      ]
     },
     "execution_count": 28,
     "metadata": {},
     "output_type": "execute_result"
    }
   ],
   "source": [
    "Xdesign_mat.shape"
   ]
  },
  {
   "cell_type": "markdown",
   "id": "13b1ffcd-877b-4f76-9bb8-fd6dadf855c6",
   "metadata": {},
   "source": [
    "The output array has 1 column but 2 dimensions. But it is typically better to work with a 1D output array and so we must convert the 2D array to a 1D array using the .ravel()."
   ]
  },
  {
   "cell_type": "code",
   "execution_count": 29,
   "id": "d3e804d5-4eb3-4b5b-b793-de42835e8152",
   "metadata": {},
   "outputs": [
    {
     "data": {
      "text/plain": [
       "array([[1.],\n",
       "       [1.],\n",
       "       [0.],\n",
       "       [0.],\n",
       "       [1.]])"
      ]
     },
     "execution_count": 29,
     "metadata": {},
     "output_type": "execute_result"
    }
   ],
   "source": [
    "yobs_mat[:5, :]"
   ]
  },
  {
   "cell_type": "code",
   "execution_count": 30,
   "id": "d3f7f74b-179e-4568-8943-74061031a1b5",
   "metadata": {},
   "outputs": [
    {
     "data": {
      "text/plain": [
       "(115,)"
      ]
     },
     "execution_count": 30,
     "metadata": {},
     "output_type": "execute_result"
    }
   ],
   "source": [
    "yobs_mat.ravel().shape"
   ]
  },
  {
   "cell_type": "code",
   "execution_count": 31,
   "id": "4841ce1b-f274-4f4c-8379-980fc26c9fe3",
   "metadata": {},
   "outputs": [
    {
     "data": {
      "text/plain": [
       "array([[ 1.        , -0.45742915],\n",
       "       [ 1.        ,  0.42594754],\n",
       "       [ 1.        , -0.7846951 ],\n",
       "       [ 1.        , -1.92520922],\n",
       "       [ 1.        ,  2.25261708]])"
      ]
     },
     "execution_count": 31,
     "metadata": {},
     "output_type": "execute_result"
    }
   ],
   "source": [
    "Xdesign_mat[:5, :]"
   ]
  },
  {
   "cell_type": "markdown",
   "id": "83655fe8-0e2a-4911-b422-e14a2aeaa186",
   "metadata": {},
   "source": [
    "The reason why the FEATURE array has 2 cols is because there are 2 coefficients estimated in this model!"
   ]
  },
  {
   "cell_type": "code",
   "execution_count": 32,
   "id": "b8941665-c39f-4f18-ba4a-4cf0bfebbe3d",
   "metadata": {},
   "outputs": [
    {
     "data": {
      "text/plain": [
       "Intercept   -0.449518\n",
       "x            1.183814\n",
       "dtype: float64"
      ]
     },
     "execution_count": 32,
     "metadata": {},
     "output_type": "execute_result"
    }
   ],
   "source": [
    "fit_stats_formula.params"
   ]
  },
  {
   "cell_type": "markdown",
   "id": "8ec412f1-f431-4833-a0f5-74f7a8d74df1",
   "metadata": {},
   "source": [
    "The number of cols in the DESIGN MATRIX or FEATURE ARRAY is equal to the NUMBER OF REGRESSION COEFFICIENTS that must be estimated!!!\n",
    "\n",
    "Look athe zeroth col of the DESIGN MATRIX."
   ]
  },
  {
   "cell_type": "code",
   "execution_count": 33,
   "id": "185170d8-e5e3-481f-92e7-49e4cdeef95c",
   "metadata": {},
   "outputs": [
    {
     "data": {
      "text/plain": [
       "array([1., 1., 1., 1., 1., 1., 1., 1., 1., 1.])"
      ]
     },
     "execution_count": 33,
     "metadata": {},
     "output_type": "execute_result"
    }
   ],
   "source": [
    "Xdesign_mat[:10, 0]"
   ]
  },
  {
   "cell_type": "code",
   "execution_count": 34,
   "id": "32f07460-38c4-4973-9aa7-a728a0585d46",
   "metadata": {},
   "outputs": [
    {
     "data": {
      "text/plain": [
       "array([1.])"
      ]
     },
     "execution_count": 34,
     "metadata": {},
     "output_type": "execute_result"
    }
   ],
   "source": [
    "np.unique(Xdesign_mat[:, 0])"
   ]
  },
  {
   "cell_type": "markdown",
   "id": "adb8b27a-5595-4db3-b566-131a22a034d3",
   "metadata": {},
   "source": [
    "The ZEROTH col of the DESIGN MATRIX or FEATURE ARRAY is special.\n",
    "\n",
    "The ZEROTH col ONLY contains the value 1.\n",
    "\n",
    "The ZEROTH col is referred to as the BIAS column or the INTERCEPT column.\n",
    "\n",
    "We typically wrote the formula for the AVERAGE OUTPUT as:\n",
    "$$ \\mu_n = \\beta_0 + \\beta_1 \\times x_n $$\n",
    "You can think of the INTERCEPT or BIAS column as a special constant FEATURE equal to 1 that multiplies the INTERCEPT.\n",
    "$$ \\mu_n = \\beta_0 \\times 1 + \\beta_1 \\times x_n $$"
   ]
  },
  {
   "cell_type": "code",
   "execution_count": 35,
   "id": "3b991977-1fb1-4380-ad7e-22a4acece280",
   "metadata": {},
   "outputs": [
    {
     "data": {
      "text/html": [
       "<div>\n",
       "<style scoped>\n",
       "    .dataframe tbody tr th:only-of-type {\n",
       "        vertical-align: middle;\n",
       "    }\n",
       "\n",
       "    .dataframe tbody tr th {\n",
       "        vertical-align: top;\n",
       "    }\n",
       "\n",
       "    .dataframe thead th {\n",
       "        text-align: right;\n",
       "    }\n",
       "</style>\n",
       "<table border=\"1\" class=\"dataframe\">\n",
       "  <thead>\n",
       "    <tr style=\"text-align: right;\">\n",
       "      <th></th>\n",
       "      <th>x</th>\n",
       "      <th>y</th>\n",
       "    </tr>\n",
       "  </thead>\n",
       "  <tbody>\n",
       "    <tr>\n",
       "      <th>0</th>\n",
       "      <td>-0.457429</td>\n",
       "      <td>1</td>\n",
       "    </tr>\n",
       "    <tr>\n",
       "      <th>1</th>\n",
       "      <td>0.425948</td>\n",
       "      <td>1</td>\n",
       "    </tr>\n",
       "    <tr>\n",
       "      <th>2</th>\n",
       "      <td>-0.784695</td>\n",
       "      <td>0</td>\n",
       "    </tr>\n",
       "    <tr>\n",
       "      <th>3</th>\n",
       "      <td>-1.925209</td>\n",
       "      <td>0</td>\n",
       "    </tr>\n",
       "    <tr>\n",
       "      <th>4</th>\n",
       "      <td>2.252617</td>\n",
       "      <td>1</td>\n",
       "    </tr>\n",
       "    <tr>\n",
       "      <th>...</th>\n",
       "      <td>...</td>\n",
       "      <td>...</td>\n",
       "    </tr>\n",
       "    <tr>\n",
       "      <th>110</th>\n",
       "      <td>-0.791672</td>\n",
       "      <td>0</td>\n",
       "    </tr>\n",
       "    <tr>\n",
       "      <th>111</th>\n",
       "      <td>0.452238</td>\n",
       "      <td>1</td>\n",
       "    </tr>\n",
       "    <tr>\n",
       "      <th>112</th>\n",
       "      <td>0.535510</td>\n",
       "      <td>1</td>\n",
       "    </tr>\n",
       "    <tr>\n",
       "      <th>113</th>\n",
       "      <td>-0.532739</td>\n",
       "      <td>0</td>\n",
       "    </tr>\n",
       "    <tr>\n",
       "      <th>114</th>\n",
       "      <td>0.317661</td>\n",
       "      <td>0</td>\n",
       "    </tr>\n",
       "  </tbody>\n",
       "</table>\n",
       "<p>115 rows × 2 columns</p>\n",
       "</div>"
      ],
      "text/plain": [
       "            x  y\n",
       "0   -0.457429  1\n",
       "1    0.425948  1\n",
       "2   -0.784695  0\n",
       "3   -1.925209  0\n",
       "4    2.252617  1\n",
       "..        ... ..\n",
       "110 -0.791672  0\n",
       "111  0.452238  1\n",
       "112  0.535510  1\n",
       "113 -0.532739  0\n",
       "114  0.317661  0\n",
       "\n",
       "[115 rows x 2 columns]"
      ]
     },
     "execution_count": 35,
     "metadata": {},
     "output_type": "execute_result"
    }
   ],
   "source": [
    "df"
   ]
  },
  {
   "cell_type": "code",
   "execution_count": 36,
   "id": "0e67452b-63b0-472c-8443-6482d5cbbe4f",
   "metadata": {},
   "outputs": [
    {
     "data": {
      "text/plain": [
       "array([[ 1.        , -0.45742915],\n",
       "       [ 1.        ,  0.42594754],\n",
       "       [ 1.        , -0.7846951 ],\n",
       "       [ 1.        , -1.92520922],\n",
       "       [ 1.        ,  2.25261708]])"
      ]
     },
     "execution_count": 36,
     "metadata": {},
     "output_type": "execute_result"
    }
   ],
   "source": [
    "Xdesign_mat[:5, ]"
   ]
  },
  {
   "cell_type": "code",
   "execution_count": 37,
   "id": "f5f43e77-dee2-4015-9802-8da27aa91c12",
   "metadata": {},
   "outputs": [
    {
     "data": {
      "text/plain": [
       "array([[ 1.        , -0.79167206],\n",
       "       [ 1.        ,  0.45223789],\n",
       "       [ 1.        ,  0.53551007],\n",
       "       [ 1.        , -0.53273884],\n",
       "       [ 1.        ,  0.3176613 ]])"
      ]
     },
     "execution_count": 37,
     "metadata": {},
     "output_type": "execute_result"
    }
   ],
   "source": [
    "Xdesign_mat[-5:, ]"
   ]
  },
  {
   "cell_type": "markdown",
   "id": "247b8354-9956-48b6-898d-2c2c8f5e5361",
   "metadata": {},
   "source": [
    "The `dmatrices()` GENERATES THE FEATURE value from the INPUTS as specified by the formula!!!\n",
    "\n",
    "So if we wanted a more complicated set of FEATURES `dmatrices()` would create for us!!!\n",
    "\n",
    "For example, lets create QUADRATIC feature from the input `x`."
   ]
  },
  {
   "cell_type": "code",
   "execution_count": 38,
   "id": "2528df62-6324-49c2-abd9-aba9f36d0bd6",
   "metadata": {},
   "outputs": [],
   "source": [
    "y2, X2 = dmatrices(\"y ~ x + np.power(x, 2)\", data=df)"
   ]
  },
  {
   "cell_type": "code",
   "execution_count": 41,
   "id": "c38985b1-4780-4e0d-9ede-f1141c33555e",
   "metadata": {},
   "outputs": [
    {
     "data": {
      "text/plain": [
       "array([[ 1.        , -0.45742915,  0.20924143],\n",
       "       [ 1.        ,  0.42594754,  0.18143131],\n",
       "       [ 1.        , -0.7846951 ,  0.61574641],\n",
       "       [ 1.        , -1.92520922,  3.70643052],\n",
       "       [ 1.        ,  2.25261708,  5.07428369]])"
      ]
     },
     "execution_count": 41,
     "metadata": {},
     "output_type": "execute_result"
    }
   ],
   "source": [
    "X2[:5, ]"
   ]
  },
  {
   "cell_type": "code",
   "execution_count": 42,
   "id": "1775f9f4-fd98-4091-b9c6-cd58d085a859",
   "metadata": {},
   "outputs": [
    {
     "data": {
      "text/plain": [
       "0      0.209241\n",
       "1      0.181431\n",
       "2      0.615746\n",
       "3      3.706431\n",
       "4      5.074284\n",
       "         ...   \n",
       "110    0.626745\n",
       "111    0.204519\n",
       "112    0.286771\n",
       "113    0.283811\n",
       "114    0.100909\n",
       "Name: x, Length: 115, dtype: float64"
      ]
     },
     "execution_count": 42,
     "metadata": {},
     "output_type": "execute_result"
    }
   ],
   "source": [
    "df.x**2"
   ]
  },
  {
   "cell_type": "markdown",
   "id": "521f8698-11d8-46eb-a686-92630430cbaf",
   "metadata": {},
   "source": [
    "The sm module has FUNCTIONS to fit the modesl just like smf. BUT the SYNTAX is different.\n",
    "\n",
    "The sm module names the functions with a capital letter to distinguish from smf.\n",
    "\n",
    "And you DO NOT use the formula. Instead, you provide the OUTPUT ARRAY and the FEATURE ARRAY.\n",
    "\n",
    "The syntax for logistic regression looks like:\n",
    "\n",
    "`sm.logit(<output array>, <feature array>).fit()`"
   ]
  },
  {
   "cell_type": "markdown",
   "id": "df8c885c-1f05-40c3-aa39-f247006188b6",
   "metadata": {},
   "source": [
    "Fit the logistic regression model using the formula interface."
   ]
  },
  {
   "cell_type": "code",
   "execution_count": 45,
   "id": "74145286-f1fd-4ecd-b5cd-5331306589c9",
   "metadata": {},
   "outputs": [
    {
     "name": "stdout",
     "output_type": "stream",
     "text": [
      "Optimization terminated successfully.\n",
      "         Current function value: 0.560099\n",
      "         Iterations 6\n"
     ]
    }
   ],
   "source": [
    "fit_stats_array = sm.Logit(yobs_mat.ravel(), Xdesign_mat).fit()"
   ]
  },
  {
   "cell_type": "markdown",
   "id": "ba20d0e6-2e5f-4f4e-9fed-824e1ac24384",
   "metadata": {},
   "source": [
    "The array interface has the SAME attributes and methods as the formula interface!!"
   ]
  },
  {
   "cell_type": "code",
   "execution_count": 46,
   "id": "48f69944-e68b-420f-8f16-087b9543b6d4",
   "metadata": {},
   "outputs": [
    {
     "data": {
      "text/plain": [
       "array([-0.44951804,  1.1838136 ])"
      ]
     },
     "execution_count": 46,
     "metadata": {},
     "output_type": "execute_result"
    }
   ],
   "source": [
    "fit_stats_array.params"
   ]
  },
  {
   "cell_type": "code",
   "execution_count": 47,
   "id": "bbd57022-88d3-469c-b9d6-74ae23909953",
   "metadata": {},
   "outputs": [
    {
     "data": {
      "text/plain": [
       "array([0.218009  , 0.26713298])"
      ]
     },
     "execution_count": 47,
     "metadata": {},
     "output_type": "execute_result"
    }
   ],
   "source": [
    "fit_stats_array.bse"
   ]
  },
  {
   "cell_type": "code",
   "execution_count": 54,
   "id": "cf19d6e3-4d86-4363-8fda-7077177b24f2",
   "metadata": {},
   "outputs": [
    {
     "data": {
      "text/plain": [
       "array([[-0.87680783, -0.02222826],\n",
       "       [ 0.66024258,  1.70738463]])"
      ]
     },
     "execution_count": 54,
     "metadata": {},
     "output_type": "execute_result"
    }
   ],
   "source": [
    "fit_stats_array.conf_int()"
   ]
  },
  {
   "cell_type": "code",
   "execution_count": 51,
   "id": "7e8211c4-272f-4ccc-b857-5f0f0e8bd5a9",
   "metadata": {},
   "outputs": [
    {
     "data": {
      "text/plain": [
       "array([3.92149476e-02, 9.35573925e-06])"
      ]
     },
     "execution_count": 51,
     "metadata": {},
     "output_type": "execute_result"
    }
   ],
   "source": [
    "fit_stats_array.pvalues"
   ]
  },
  {
   "cell_type": "code",
   "execution_count": 55,
   "id": "725bd1ea-42be-4610-9fca-e8bbc3ded7af",
   "metadata": {},
   "outputs": [
    {
     "data": {
      "text/plain": [
       "Intercept    0.039215\n",
       "x            0.000009\n",
       "dtype: float64"
      ]
     },
     "execution_count": 55,
     "metadata": {},
     "output_type": "execute_result"
    }
   ],
   "source": [
    "fit_stats_formula.pvalues"
   ]
  },
  {
   "cell_type": "code",
   "execution_count": 56,
   "id": "66cb637f-b0bf-4eaa-8bf8-e6a4f47984e8",
   "metadata": {},
   "outputs": [
    {
     "data": {
      "text/html": [
       "<div>\n",
       "<style scoped>\n",
       "    .dataframe tbody tr th:only-of-type {\n",
       "        vertical-align: middle;\n",
       "    }\n",
       "\n",
       "    .dataframe tbody tr th {\n",
       "        vertical-align: top;\n",
       "    }\n",
       "\n",
       "    .dataframe thead th {\n",
       "        text-align: right;\n",
       "    }\n",
       "</style>\n",
       "<table border=\"1\" class=\"dataframe\">\n",
       "  <thead>\n",
       "    <tr style=\"text-align: right;\">\n",
       "      <th></th>\n",
       "      <th>0</th>\n",
       "      <th>1</th>\n",
       "    </tr>\n",
       "  </thead>\n",
       "  <tbody>\n",
       "    <tr>\n",
       "      <th>Intercept</th>\n",
       "      <td>-0.876808</td>\n",
       "      <td>-0.022228</td>\n",
       "    </tr>\n",
       "    <tr>\n",
       "      <th>x</th>\n",
       "      <td>0.660243</td>\n",
       "      <td>1.707385</td>\n",
       "    </tr>\n",
       "  </tbody>\n",
       "</table>\n",
       "</div>"
      ],
      "text/plain": [
       "                  0         1\n",
       "Intercept -0.876808 -0.022228\n",
       "x          0.660243  1.707385"
      ]
     },
     "execution_count": 56,
     "metadata": {},
     "output_type": "execute_result"
    }
   ],
   "source": [
    "fit_stats_formula.conf_int()"
   ]
  },
  {
   "cell_type": "markdown",
   "id": "e9ddb314-acd8-4d0c-9ef1-e29be70c0e9c",
   "metadata": {},
   "source": [
    "The formula interface returns Pandas objects while the array interface returns NumPy objects."
   ]
  },
  {
   "cell_type": "markdown",
   "id": "b5020e1d-2b47-4f44-a8e8-652bd0c5afd2",
   "metadata": {},
   "source": [
    "To make predictions, we MUST create the FEATURE array on the NEW data set!"
   ]
  },
  {
   "cell_type": "code",
   "execution_count": 57,
   "id": "83ea7b1e-9dbe-4a4f-be74-ef61fe55d28f",
   "metadata": {},
   "outputs": [
    {
     "data": {
      "text/html": [
       "<div>\n",
       "<style scoped>\n",
       "    .dataframe tbody tr th:only-of-type {\n",
       "        vertical-align: middle;\n",
       "    }\n",
       "\n",
       "    .dataframe tbody tr th {\n",
       "        vertical-align: top;\n",
       "    }\n",
       "\n",
       "    .dataframe thead th {\n",
       "        text-align: right;\n",
       "    }\n",
       "</style>\n",
       "<table border=\"1\" class=\"dataframe\">\n",
       "  <thead>\n",
       "    <tr style=\"text-align: right;\">\n",
       "      <th></th>\n",
       "      <th>x</th>\n",
       "    </tr>\n",
       "  </thead>\n",
       "  <tbody>\n",
       "    <tr>\n",
       "      <th>0</th>\n",
       "      <td>-2.079272</td>\n",
       "    </tr>\n",
       "    <tr>\n",
       "      <th>1</th>\n",
       "      <td>-2.033891</td>\n",
       "    </tr>\n",
       "    <tr>\n",
       "      <th>2</th>\n",
       "      <td>-1.988509</td>\n",
       "    </tr>\n",
       "    <tr>\n",
       "      <th>3</th>\n",
       "      <td>-1.943128</td>\n",
       "    </tr>\n",
       "    <tr>\n",
       "      <th>4</th>\n",
       "      <td>-1.897747</td>\n",
       "    </tr>\n",
       "    <tr>\n",
       "      <th>...</th>\n",
       "      <td>...</td>\n",
       "    </tr>\n",
       "    <tr>\n",
       "      <th>96</th>\n",
       "      <td>2.277334</td>\n",
       "    </tr>\n",
       "    <tr>\n",
       "      <th>97</th>\n",
       "      <td>2.322715</td>\n",
       "    </tr>\n",
       "    <tr>\n",
       "      <th>98</th>\n",
       "      <td>2.368097</td>\n",
       "    </tr>\n",
       "    <tr>\n",
       "      <th>99</th>\n",
       "      <td>2.413478</td>\n",
       "    </tr>\n",
       "    <tr>\n",
       "      <th>100</th>\n",
       "      <td>2.458859</td>\n",
       "    </tr>\n",
       "  </tbody>\n",
       "</table>\n",
       "<p>101 rows × 1 columns</p>\n",
       "</div>"
      ],
      "text/plain": [
       "            x\n",
       "0   -2.079272\n",
       "1   -2.033891\n",
       "2   -1.988509\n",
       "3   -1.943128\n",
       "4   -1.897747\n",
       "..        ...\n",
       "96   2.277334\n",
       "97   2.322715\n",
       "98   2.368097\n",
       "99   2.413478\n",
       "100  2.458859\n",
       "\n",
       "[101 rows x 1 columns]"
      ]
     },
     "execution_count": 57,
     "metadata": {},
     "output_type": "execute_result"
    }
   ],
   "source": [
    "input_grid"
   ]
  },
  {
   "cell_type": "markdown",
   "id": "9038f583-e354-4e29-8dbd-0300dc4dff99",
   "metadata": {},
   "source": [
    "We must create the FEATURE array for the input_grid in order to MAKE PREDICTIONS!"
   ]
  },
  {
   "cell_type": "code",
   "execution_count": 59,
   "id": "a4b8ad61-8d0a-4e50-ac2e-1b3018fc50ba",
   "metadata": {},
   "outputs": [
    {
     "ename": "PatsyError",
     "evalue": "Error evaluating factor: NameError: name 'y' is not defined\n    y ~ x\n    ^",
     "output_type": "error",
     "traceback": [
      "\u001b[0;31m---------------------------------------------------------------------------\u001b[0m",
      "\u001b[0;31mNameError\u001b[0m                                 Traceback (most recent call last)",
      "File \u001b[0;32m/Applications/anaconda3/envs/cmpinf2100/lib/python3.8/site-packages/patsy/compat.py:36\u001b[0m, in \u001b[0;36mcall_and_wrap_exc\u001b[0;34m(msg, origin, f, *args, **kwargs)\u001b[0m\n\u001b[1;32m     35\u001b[0m \u001b[38;5;28;01mtry\u001b[39;00m:\n\u001b[0;32m---> 36\u001b[0m     \u001b[38;5;28;01mreturn\u001b[39;00m \u001b[43mf\u001b[49m\u001b[43m(\u001b[49m\u001b[38;5;241;43m*\u001b[39;49m\u001b[43margs\u001b[49m\u001b[43m,\u001b[49m\u001b[43m \u001b[49m\u001b[38;5;241;43m*\u001b[39;49m\u001b[38;5;241;43m*\u001b[39;49m\u001b[43mkwargs\u001b[49m\u001b[43m)\u001b[49m\n\u001b[1;32m     37\u001b[0m \u001b[38;5;28;01mexcept\u001b[39;00m \u001b[38;5;167;01mException\u001b[39;00m \u001b[38;5;28;01mas\u001b[39;00m e:\n",
      "File \u001b[0;32m/Applications/anaconda3/envs/cmpinf2100/lib/python3.8/site-packages/patsy/eval.py:169\u001b[0m, in \u001b[0;36mEvalEnvironment.eval\u001b[0;34m(self, expr, source_name, inner_namespace)\u001b[0m\n\u001b[1;32m    168\u001b[0m code \u001b[38;5;241m=\u001b[39m \u001b[38;5;28mcompile\u001b[39m(expr, source_name, \u001b[38;5;124m\"\u001b[39m\u001b[38;5;124meval\u001b[39m\u001b[38;5;124m\"\u001b[39m, \u001b[38;5;28mself\u001b[39m\u001b[38;5;241m.\u001b[39mflags, \u001b[38;5;28;01mFalse\u001b[39;00m)\n\u001b[0;32m--> 169\u001b[0m \u001b[38;5;28;01mreturn\u001b[39;00m \u001b[38;5;28;43meval\u001b[39;49m\u001b[43m(\u001b[49m\u001b[43mcode\u001b[49m\u001b[43m,\u001b[49m\u001b[43m \u001b[49m\u001b[43m{\u001b[49m\u001b[43m}\u001b[49m\u001b[43m,\u001b[49m\u001b[43m \u001b[49m\u001b[43mVarLookupDict\u001b[49m\u001b[43m(\u001b[49m\u001b[43m[\u001b[49m\u001b[43minner_namespace\u001b[49m\u001b[43m]\u001b[49m\n\u001b[1;32m    170\u001b[0m \u001b[43m                                    \u001b[49m\u001b[38;5;241;43m+\u001b[39;49m\u001b[43m \u001b[49m\u001b[38;5;28;43mself\u001b[39;49m\u001b[38;5;241;43m.\u001b[39;49m\u001b[43m_namespaces\u001b[49m\u001b[43m)\u001b[49m\u001b[43m)\u001b[49m\n",
      "File \u001b[0;32m<string>:1\u001b[0m\n",
      "\u001b[0;31mNameError\u001b[0m: name 'y' is not defined",
      "\nThe above exception was the direct cause of the following exception:\n",
      "\u001b[0;31mPatsyError\u001b[0m                                Traceback (most recent call last)",
      "Cell \u001b[0;32mIn[59], line 1\u001b[0m\n\u001b[0;32m----> 1\u001b[0m ygrid, Xgrid \u001b[38;5;241m=\u001b[39m \u001b[43mdmatrices\u001b[49m\u001b[43m(\u001b[49m\u001b[38;5;124;43m\"\u001b[39;49m\u001b[38;5;124;43my ~ x\u001b[39;49m\u001b[38;5;124;43m\"\u001b[39;49m\u001b[43m,\u001b[49m\u001b[43m \u001b[49m\u001b[43mdata\u001b[49m\u001b[38;5;241;43m=\u001b[39;49m\u001b[43minput_grid\u001b[49m\u001b[43m)\u001b[49m\n",
      "File \u001b[0;32m/Applications/anaconda3/envs/cmpinf2100/lib/python3.8/site-packages/patsy/highlevel.py:309\u001b[0m, in \u001b[0;36mdmatrices\u001b[0;34m(formula_like, data, eval_env, NA_action, return_type)\u001b[0m\n\u001b[1;32m    299\u001b[0m \u001b[38;5;250m\u001b[39m\u001b[38;5;124;03m\"\"\"Construct two design matrices given a formula_like and data.\u001b[39;00m\n\u001b[1;32m    300\u001b[0m \n\u001b[1;32m    301\u001b[0m \u001b[38;5;124;03mThis function is identical to :func:`dmatrix`, except that it requires\u001b[39;00m\n\u001b[0;32m   (...)\u001b[0m\n\u001b[1;32m    306\u001b[0m \u001b[38;5;124;03mSee :func:`dmatrix` for details.\u001b[39;00m\n\u001b[1;32m    307\u001b[0m \u001b[38;5;124;03m\"\"\"\u001b[39;00m\n\u001b[1;32m    308\u001b[0m eval_env \u001b[38;5;241m=\u001b[39m EvalEnvironment\u001b[38;5;241m.\u001b[39mcapture(eval_env, reference\u001b[38;5;241m=\u001b[39m\u001b[38;5;241m1\u001b[39m)\n\u001b[0;32m--> 309\u001b[0m (lhs, rhs) \u001b[38;5;241m=\u001b[39m \u001b[43m_do_highlevel_design\u001b[49m\u001b[43m(\u001b[49m\u001b[43mformula_like\u001b[49m\u001b[43m,\u001b[49m\u001b[43m \u001b[49m\u001b[43mdata\u001b[49m\u001b[43m,\u001b[49m\u001b[43m \u001b[49m\u001b[43meval_env\u001b[49m\u001b[43m,\u001b[49m\n\u001b[1;32m    310\u001b[0m \u001b[43m                                  \u001b[49m\u001b[43mNA_action\u001b[49m\u001b[43m,\u001b[49m\u001b[43m \u001b[49m\u001b[43mreturn_type\u001b[49m\u001b[43m)\u001b[49m\n\u001b[1;32m    311\u001b[0m \u001b[38;5;28;01mif\u001b[39;00m lhs\u001b[38;5;241m.\u001b[39mshape[\u001b[38;5;241m1\u001b[39m] \u001b[38;5;241m==\u001b[39m \u001b[38;5;241m0\u001b[39m:\n\u001b[1;32m    312\u001b[0m     \u001b[38;5;28;01mraise\u001b[39;00m PatsyError(\u001b[38;5;124m\"\u001b[39m\u001b[38;5;124mmodel is missing required outcome variables\u001b[39m\u001b[38;5;124m\"\u001b[39m)\n",
      "File \u001b[0;32m/Applications/anaconda3/envs/cmpinf2100/lib/python3.8/site-packages/patsy/highlevel.py:164\u001b[0m, in \u001b[0;36m_do_highlevel_design\u001b[0;34m(formula_like, data, eval_env, NA_action, return_type)\u001b[0m\n\u001b[1;32m    162\u001b[0m \u001b[38;5;28;01mdef\u001b[39;00m \u001b[38;5;21mdata_iter_maker\u001b[39m():\n\u001b[1;32m    163\u001b[0m     \u001b[38;5;28;01mreturn\u001b[39;00m \u001b[38;5;28miter\u001b[39m([data])\n\u001b[0;32m--> 164\u001b[0m design_infos \u001b[38;5;241m=\u001b[39m \u001b[43m_try_incr_builders\u001b[49m\u001b[43m(\u001b[49m\u001b[43mformula_like\u001b[49m\u001b[43m,\u001b[49m\u001b[43m \u001b[49m\u001b[43mdata_iter_maker\u001b[49m\u001b[43m,\u001b[49m\u001b[43m \u001b[49m\u001b[43meval_env\u001b[49m\u001b[43m,\u001b[49m\n\u001b[1;32m    165\u001b[0m \u001b[43m                                  \u001b[49m\u001b[43mNA_action\u001b[49m\u001b[43m)\u001b[49m\n\u001b[1;32m    166\u001b[0m \u001b[38;5;28;01mif\u001b[39;00m design_infos \u001b[38;5;129;01mis\u001b[39;00m \u001b[38;5;129;01mnot\u001b[39;00m \u001b[38;5;28;01mNone\u001b[39;00m:\n\u001b[1;32m    167\u001b[0m     \u001b[38;5;28;01mreturn\u001b[39;00m build_design_matrices(design_infos, data,\n\u001b[1;32m    168\u001b[0m                                  NA_action\u001b[38;5;241m=\u001b[39mNA_action,\n\u001b[1;32m    169\u001b[0m                                  return_type\u001b[38;5;241m=\u001b[39mreturn_type)\n",
      "File \u001b[0;32m/Applications/anaconda3/envs/cmpinf2100/lib/python3.8/site-packages/patsy/highlevel.py:66\u001b[0m, in \u001b[0;36m_try_incr_builders\u001b[0;34m(formula_like, data_iter_maker, eval_env, NA_action)\u001b[0m\n\u001b[1;32m     64\u001b[0m \u001b[38;5;28;01mif\u001b[39;00m \u001b[38;5;28misinstance\u001b[39m(formula_like, ModelDesc):\n\u001b[1;32m     65\u001b[0m     \u001b[38;5;28;01massert\u001b[39;00m \u001b[38;5;28misinstance\u001b[39m(eval_env, EvalEnvironment)\n\u001b[0;32m---> 66\u001b[0m     \u001b[38;5;28;01mreturn\u001b[39;00m \u001b[43mdesign_matrix_builders\u001b[49m\u001b[43m(\u001b[49m\u001b[43m[\u001b[49m\u001b[43mformula_like\u001b[49m\u001b[38;5;241;43m.\u001b[39;49m\u001b[43mlhs_termlist\u001b[49m\u001b[43m,\u001b[49m\n\u001b[1;32m     67\u001b[0m \u001b[43m                                   \u001b[49m\u001b[43mformula_like\u001b[49m\u001b[38;5;241;43m.\u001b[39;49m\u001b[43mrhs_termlist\u001b[49m\u001b[43m]\u001b[49m\u001b[43m,\u001b[49m\n\u001b[1;32m     68\u001b[0m \u001b[43m                                  \u001b[49m\u001b[43mdata_iter_maker\u001b[49m\u001b[43m,\u001b[49m\n\u001b[1;32m     69\u001b[0m \u001b[43m                                  \u001b[49m\u001b[43meval_env\u001b[49m\u001b[43m,\u001b[49m\n\u001b[1;32m     70\u001b[0m \u001b[43m                                  \u001b[49m\u001b[43mNA_action\u001b[49m\u001b[43m)\u001b[49m\n\u001b[1;32m     71\u001b[0m \u001b[38;5;28;01melse\u001b[39;00m:\n\u001b[1;32m     72\u001b[0m     \u001b[38;5;28;01mreturn\u001b[39;00m \u001b[38;5;28;01mNone\u001b[39;00m\n",
      "File \u001b[0;32m/Applications/anaconda3/envs/cmpinf2100/lib/python3.8/site-packages/patsy/build.py:693\u001b[0m, in \u001b[0;36mdesign_matrix_builders\u001b[0;34m(termlists, data_iter_maker, eval_env, NA_action)\u001b[0m\n\u001b[1;32m    689\u001b[0m factor_states \u001b[38;5;241m=\u001b[39m _factors_memorize(all_factors, data_iter_maker, eval_env)\n\u001b[1;32m    690\u001b[0m \u001b[38;5;66;03m# Now all the factors have working eval methods, so we can evaluate them\u001b[39;00m\n\u001b[1;32m    691\u001b[0m \u001b[38;5;66;03m# on some data to find out what type of data they return.\u001b[39;00m\n\u001b[1;32m    692\u001b[0m (num_column_counts,\n\u001b[0;32m--> 693\u001b[0m  cat_levels_contrasts) \u001b[38;5;241m=\u001b[39m \u001b[43m_examine_factor_types\u001b[49m\u001b[43m(\u001b[49m\u001b[43mall_factors\u001b[49m\u001b[43m,\u001b[49m\n\u001b[1;32m    694\u001b[0m \u001b[43m                                               \u001b[49m\u001b[43mfactor_states\u001b[49m\u001b[43m,\u001b[49m\n\u001b[1;32m    695\u001b[0m \u001b[43m                                               \u001b[49m\u001b[43mdata_iter_maker\u001b[49m\u001b[43m,\u001b[49m\n\u001b[1;32m    696\u001b[0m \u001b[43m                                               \u001b[49m\u001b[43mNA_action\u001b[49m\u001b[43m)\u001b[49m\n\u001b[1;32m    697\u001b[0m \u001b[38;5;66;03m# Now we need the factor infos, which encapsulate the knowledge of\u001b[39;00m\n\u001b[1;32m    698\u001b[0m \u001b[38;5;66;03m# how to turn any given factor into a chunk of data:\u001b[39;00m\n\u001b[1;32m    699\u001b[0m factor_infos \u001b[38;5;241m=\u001b[39m {}\n",
      "File \u001b[0;32m/Applications/anaconda3/envs/cmpinf2100/lib/python3.8/site-packages/patsy/build.py:443\u001b[0m, in \u001b[0;36m_examine_factor_types\u001b[0;34m(factors, factor_states, data_iter_maker, NA_action)\u001b[0m\n\u001b[1;32m    441\u001b[0m \u001b[38;5;28;01mfor\u001b[39;00m data \u001b[38;5;129;01min\u001b[39;00m data_iter_maker():\n\u001b[1;32m    442\u001b[0m     \u001b[38;5;28;01mfor\u001b[39;00m factor \u001b[38;5;129;01min\u001b[39;00m \u001b[38;5;28mlist\u001b[39m(examine_needed):\n\u001b[0;32m--> 443\u001b[0m         value \u001b[38;5;241m=\u001b[39m \u001b[43mfactor\u001b[49m\u001b[38;5;241;43m.\u001b[39;49m\u001b[43meval\u001b[49m\u001b[43m(\u001b[49m\u001b[43mfactor_states\u001b[49m\u001b[43m[\u001b[49m\u001b[43mfactor\u001b[49m\u001b[43m]\u001b[49m\u001b[43m,\u001b[49m\u001b[43m \u001b[49m\u001b[43mdata\u001b[49m\u001b[43m)\u001b[49m\n\u001b[1;32m    444\u001b[0m         \u001b[38;5;28;01mif\u001b[39;00m factor \u001b[38;5;129;01min\u001b[39;00m cat_sniffers \u001b[38;5;129;01mor\u001b[39;00m guess_categorical(value):\n\u001b[1;32m    445\u001b[0m             \u001b[38;5;28;01mif\u001b[39;00m factor \u001b[38;5;129;01mnot\u001b[39;00m \u001b[38;5;129;01min\u001b[39;00m cat_sniffers:\n",
      "File \u001b[0;32m/Applications/anaconda3/envs/cmpinf2100/lib/python3.8/site-packages/patsy/eval.py:568\u001b[0m, in \u001b[0;36mEvalFactor.eval\u001b[0;34m(self, memorize_state, data)\u001b[0m\n\u001b[1;32m    567\u001b[0m \u001b[38;5;28;01mdef\u001b[39;00m \u001b[38;5;21meval\u001b[39m(\u001b[38;5;28mself\u001b[39m, memorize_state, data):\n\u001b[0;32m--> 568\u001b[0m     \u001b[38;5;28;01mreturn\u001b[39;00m \u001b[38;5;28;43mself\u001b[39;49m\u001b[38;5;241;43m.\u001b[39;49m\u001b[43m_eval\u001b[49m\u001b[43m(\u001b[49m\u001b[43mmemorize_state\u001b[49m\u001b[43m[\u001b[49m\u001b[38;5;124;43m\"\u001b[39;49m\u001b[38;5;124;43meval_code\u001b[39;49m\u001b[38;5;124;43m\"\u001b[39;49m\u001b[43m]\u001b[49m\u001b[43m,\u001b[49m\n\u001b[1;32m    569\u001b[0m \u001b[43m                      \u001b[49m\u001b[43mmemorize_state\u001b[49m\u001b[43m,\u001b[49m\n\u001b[1;32m    570\u001b[0m \u001b[43m                      \u001b[49m\u001b[43mdata\u001b[49m\u001b[43m)\u001b[49m\n",
      "File \u001b[0;32m/Applications/anaconda3/envs/cmpinf2100/lib/python3.8/site-packages/patsy/eval.py:551\u001b[0m, in \u001b[0;36mEvalFactor._eval\u001b[0;34m(self, code, memorize_state, data)\u001b[0m\n\u001b[1;32m    549\u001b[0m \u001b[38;5;28;01mdef\u001b[39;00m \u001b[38;5;21m_eval\u001b[39m(\u001b[38;5;28mself\u001b[39m, code, memorize_state, data):\n\u001b[1;32m    550\u001b[0m     inner_namespace \u001b[38;5;241m=\u001b[39m VarLookupDict([data, memorize_state[\u001b[38;5;124m\"\u001b[39m\u001b[38;5;124mtransforms\u001b[39m\u001b[38;5;124m\"\u001b[39m]])\n\u001b[0;32m--> 551\u001b[0m     \u001b[38;5;28;01mreturn\u001b[39;00m \u001b[43mcall_and_wrap_exc\u001b[49m\u001b[43m(\u001b[49m\u001b[38;5;124;43m\"\u001b[39;49m\u001b[38;5;124;43mError evaluating factor\u001b[39;49m\u001b[38;5;124;43m\"\u001b[39;49m\u001b[43m,\u001b[49m\n\u001b[1;32m    552\u001b[0m \u001b[43m                             \u001b[49m\u001b[38;5;28;43mself\u001b[39;49m\u001b[43m,\u001b[49m\n\u001b[1;32m    553\u001b[0m \u001b[43m                             \u001b[49m\u001b[43mmemorize_state\u001b[49m\u001b[43m[\u001b[49m\u001b[38;5;124;43m\"\u001b[39;49m\u001b[38;5;124;43meval_env\u001b[39;49m\u001b[38;5;124;43m\"\u001b[39;49m\u001b[43m]\u001b[49m\u001b[38;5;241;43m.\u001b[39;49m\u001b[43meval\u001b[49m\u001b[43m,\u001b[49m\n\u001b[1;32m    554\u001b[0m \u001b[43m                             \u001b[49m\u001b[43mcode\u001b[49m\u001b[43m,\u001b[49m\n\u001b[1;32m    555\u001b[0m \u001b[43m                             \u001b[49m\u001b[43minner_namespace\u001b[49m\u001b[38;5;241;43m=\u001b[39;49m\u001b[43minner_namespace\u001b[49m\u001b[43m)\u001b[49m\n",
      "File \u001b[0;32m/Applications/anaconda3/envs/cmpinf2100/lib/python3.8/site-packages/patsy/compat.py:43\u001b[0m, in \u001b[0;36mcall_and_wrap_exc\u001b[0;34m(msg, origin, f, *args, **kwargs)\u001b[0m\n\u001b[1;32m     39\u001b[0m     new_exc \u001b[38;5;241m=\u001b[39m PatsyError(\u001b[38;5;124m\"\u001b[39m\u001b[38;5;132;01m%s\u001b[39;00m\u001b[38;5;124m: \u001b[39m\u001b[38;5;132;01m%s\u001b[39;00m\u001b[38;5;124m: \u001b[39m\u001b[38;5;132;01m%s\u001b[39;00m\u001b[38;5;124m\"\u001b[39m\n\u001b[1;32m     40\u001b[0m                          \u001b[38;5;241m%\u001b[39m (msg, e\u001b[38;5;241m.\u001b[39m\u001b[38;5;18m__class__\u001b[39m\u001b[38;5;241m.\u001b[39m\u001b[38;5;18m__name__\u001b[39m, e),\n\u001b[1;32m     41\u001b[0m                          origin)\n\u001b[1;32m     42\u001b[0m     \u001b[38;5;66;03m# Use 'exec' to hide this syntax from the Python 2 parser:\u001b[39;00m\n\u001b[0;32m---> 43\u001b[0m     \u001b[43mexec\u001b[49m\u001b[43m(\u001b[49m\u001b[38;5;124;43m\"\u001b[39;49m\u001b[38;5;124;43mraise new_exc from e\u001b[39;49m\u001b[38;5;124;43m\"\u001b[39;49m\u001b[43m)\u001b[49m\n\u001b[1;32m     44\u001b[0m \u001b[38;5;28;01melse\u001b[39;00m:\n\u001b[1;32m     45\u001b[0m     \u001b[38;5;66;03m# In python 2, we just let the original exception escape -- better\u001b[39;00m\n\u001b[1;32m     46\u001b[0m     \u001b[38;5;66;03m# than destroying the traceback. But if it's a PatsyError, we can\u001b[39;00m\n\u001b[1;32m     47\u001b[0m     \u001b[38;5;66;03m# at least set the origin properly.\u001b[39;00m\n\u001b[1;32m     48\u001b[0m     \u001b[38;5;28;01mif\u001b[39;00m \u001b[38;5;28misinstance\u001b[39m(e, PatsyError):\n",
      "File \u001b[0;32m<string>:1\u001b[0m\n",
      "\u001b[0;31mPatsyError\u001b[0m: Error evaluating factor: NameError: name 'y' is not defined\n    y ~ x\n    ^"
     ]
    }
   ],
   "source": [
    "ygrid, Xgrid = dmatrices(\"y ~ x\", data=input_grid)"
   ]
  },
  {
   "cell_type": "markdown",
   "id": "c177cba4-c0f4-464b-bb13-6274b94a4e79",
   "metadata": {},
   "source": [
    "The dmatrices() function creates the arrays when the OUTPUT is known or observed!!\n",
    "\n",
    "The dmatrix() function is used when you ONLY have the INPUTS and the NOT the OUPUT!!\n",
    "\n",
    "You should use dmatrix() when you need to create the VISUALIZATION grid to visualize PREDICTIONS!!!"
   ]
  },
  {
   "cell_type": "code",
   "execution_count": 60,
   "id": "364de73d-034e-4611-b1ac-fb8f7e7f095f",
   "metadata": {},
   "outputs": [],
   "source": [
    "Xgrid = dmatrix(\" ~ x\", data=input_grid)"
   ]
  },
  {
   "cell_type": "code",
   "execution_count": 61,
   "id": "a61db3c6-26fe-4d31-a066-32fa624cdb20",
   "metadata": {},
   "outputs": [
    {
     "data": {
      "text/plain": [
       "(101, 2)"
      ]
     },
     "execution_count": 61,
     "metadata": {},
     "output_type": "execute_result"
    }
   ],
   "source": [
    "Xgrid.shape"
   ]
  },
  {
   "cell_type": "code",
   "execution_count": 62,
   "id": "9b429bfb-bd04-438f-bbb7-409e894f0213",
   "metadata": {},
   "outputs": [
    {
     "data": {
      "text/plain": [
       "(101, 1)"
      ]
     },
     "execution_count": 62,
     "metadata": {},
     "output_type": "execute_result"
    }
   ],
   "source": [
    "input_grid.shape"
   ]
  },
  {
   "cell_type": "code",
   "execution_count": 63,
   "id": "ed0aa785-2160-426c-9ccc-6b5608e0acc1",
   "metadata": {},
   "outputs": [
    {
     "data": {
      "text/plain": [
       "(115, 2)"
      ]
     },
     "execution_count": 63,
     "metadata": {},
     "output_type": "execute_result"
    }
   ],
   "source": [
    "Xdesign_mat.shape"
   ]
  },
  {
   "cell_type": "code",
   "execution_count": 64,
   "id": "a01322d2-ecb9-4394-93f2-f71f0347ccd8",
   "metadata": {},
   "outputs": [
    {
     "data": {
      "text/plain": [
       "array([[ 1.        , -2.0792719 ],\n",
       "       [ 1.        , -2.03389058],\n",
       "       [ 1.        , -1.98850927],\n",
       "       [ 1.        , -1.94312796],\n",
       "       [ 1.        , -1.89774665]])"
      ]
     },
     "execution_count": 64,
     "metadata": {},
     "output_type": "execute_result"
    }
   ],
   "source": [
    "Xgrid[:5, ]"
   ]
  },
  {
   "cell_type": "code",
   "execution_count": 65,
   "id": "d79a9f6f-4201-415d-a64d-7a8c56b26aad",
   "metadata": {},
   "outputs": [
    {
     "data": {
      "text/html": [
       "<div>\n",
       "<style scoped>\n",
       "    .dataframe tbody tr th:only-of-type {\n",
       "        vertical-align: middle;\n",
       "    }\n",
       "\n",
       "    .dataframe tbody tr th {\n",
       "        vertical-align: top;\n",
       "    }\n",
       "\n",
       "    .dataframe thead th {\n",
       "        text-align: right;\n",
       "    }\n",
       "</style>\n",
       "<table border=\"1\" class=\"dataframe\">\n",
       "  <thead>\n",
       "    <tr style=\"text-align: right;\">\n",
       "      <th></th>\n",
       "      <th>x</th>\n",
       "    </tr>\n",
       "  </thead>\n",
       "  <tbody>\n",
       "    <tr>\n",
       "      <th>0</th>\n",
       "      <td>-2.079272</td>\n",
       "    </tr>\n",
       "    <tr>\n",
       "      <th>1</th>\n",
       "      <td>-2.033891</td>\n",
       "    </tr>\n",
       "    <tr>\n",
       "      <th>2</th>\n",
       "      <td>-1.988509</td>\n",
       "    </tr>\n",
       "    <tr>\n",
       "      <th>3</th>\n",
       "      <td>-1.943128</td>\n",
       "    </tr>\n",
       "    <tr>\n",
       "      <th>4</th>\n",
       "      <td>-1.897747</td>\n",
       "    </tr>\n",
       "    <tr>\n",
       "      <th>...</th>\n",
       "      <td>...</td>\n",
       "    </tr>\n",
       "    <tr>\n",
       "      <th>96</th>\n",
       "      <td>2.277334</td>\n",
       "    </tr>\n",
       "    <tr>\n",
       "      <th>97</th>\n",
       "      <td>2.322715</td>\n",
       "    </tr>\n",
       "    <tr>\n",
       "      <th>98</th>\n",
       "      <td>2.368097</td>\n",
       "    </tr>\n",
       "    <tr>\n",
       "      <th>99</th>\n",
       "      <td>2.413478</td>\n",
       "    </tr>\n",
       "    <tr>\n",
       "      <th>100</th>\n",
       "      <td>2.458859</td>\n",
       "    </tr>\n",
       "  </tbody>\n",
       "</table>\n",
       "<p>101 rows × 1 columns</p>\n",
       "</div>"
      ],
      "text/plain": [
       "            x\n",
       "0   -2.079272\n",
       "1   -2.033891\n",
       "2   -1.988509\n",
       "3   -1.943128\n",
       "4   -1.897747\n",
       "..        ...\n",
       "96   2.277334\n",
       "97   2.322715\n",
       "98   2.368097\n",
       "99   2.413478\n",
       "100  2.458859\n",
       "\n",
       "[101 rows x 1 columns]"
      ]
     },
     "execution_count": 65,
     "metadata": {},
     "output_type": "execute_result"
    }
   ],
   "source": [
    "input_grid"
   ]
  },
  {
   "cell_type": "markdown",
   "id": "6690f982-4297-45b1-8a62-b2f61827c90b",
   "metadata": {},
   "source": [
    "Lets now add a column to dfviz for the predicted event probability from the ARRAY interface."
   ]
  },
  {
   "cell_type": "code",
   "execution_count": 66,
   "id": "b31d953c-b10b-492e-af37-7cd8ba482465",
   "metadata": {},
   "outputs": [],
   "source": [
    "dfviz[\"pred_probability_statsarray\"] = fit_stats_array.predict(Xgrid)"
   ]
  },
  {
   "cell_type": "code",
   "execution_count": 68,
   "id": "afafc15a-8c28-43e7-8cd0-6ac0136e626c",
   "metadata": {},
   "outputs": [
    {
     "data": {
      "text/html": [
       "<div>\n",
       "<style scoped>\n",
       "    .dataframe tbody tr th:only-of-type {\n",
       "        vertical-align: middle;\n",
       "    }\n",
       "\n",
       "    .dataframe tbody tr th {\n",
       "        vertical-align: top;\n",
       "    }\n",
       "\n",
       "    .dataframe thead th {\n",
       "        text-align: right;\n",
       "    }\n",
       "</style>\n",
       "<table border=\"1\" class=\"dataframe\">\n",
       "  <thead>\n",
       "    <tr style=\"text-align: right;\">\n",
       "      <th></th>\n",
       "      <th>x</th>\n",
       "      <th>pred_probability_statsformula</th>\n",
       "      <th>pred_class_statsformula</th>\n",
       "      <th>pred_probability_statsarray</th>\n",
       "    </tr>\n",
       "  </thead>\n",
       "  <tbody>\n",
       "    <tr>\n",
       "      <th>0</th>\n",
       "      <td>-2.079272</td>\n",
       "      <td>0.051613</td>\n",
       "      <td>0</td>\n",
       "      <td>0.051613</td>\n",
       "    </tr>\n",
       "    <tr>\n",
       "      <th>1</th>\n",
       "      <td>-2.033891</td>\n",
       "      <td>0.054307</td>\n",
       "      <td>0</td>\n",
       "      <td>0.054307</td>\n",
       "    </tr>\n",
       "    <tr>\n",
       "      <th>2</th>\n",
       "      <td>-1.988509</td>\n",
       "      <td>0.057133</td>\n",
       "      <td>0</td>\n",
       "      <td>0.057133</td>\n",
       "    </tr>\n",
       "    <tr>\n",
       "      <th>3</th>\n",
       "      <td>-1.943128</td>\n",
       "      <td>0.060097</td>\n",
       "      <td>0</td>\n",
       "      <td>0.060097</td>\n",
       "    </tr>\n",
       "    <tr>\n",
       "      <th>4</th>\n",
       "      <td>-1.897747</td>\n",
       "      <td>0.063204</td>\n",
       "      <td>0</td>\n",
       "      <td>0.063204</td>\n",
       "    </tr>\n",
       "    <tr>\n",
       "      <th>...</th>\n",
       "      <td>...</td>\n",
       "      <td>...</td>\n",
       "      <td>...</td>\n",
       "      <td>...</td>\n",
       "    </tr>\n",
       "    <tr>\n",
       "      <th>96</th>\n",
       "      <td>2.277334</td>\n",
       "      <td>0.904341</td>\n",
       "      <td>1</td>\n",
       "      <td>0.904341</td>\n",
       "    </tr>\n",
       "    <tr>\n",
       "      <th>97</th>\n",
       "      <td>2.322715</td>\n",
       "      <td>0.908889</td>\n",
       "      <td>1</td>\n",
       "      <td>0.908889</td>\n",
       "    </tr>\n",
       "    <tr>\n",
       "      <th>98</th>\n",
       "      <td>2.368097</td>\n",
       "      <td>0.913241</td>\n",
       "      <td>1</td>\n",
       "      <td>0.913241</td>\n",
       "    </tr>\n",
       "    <tr>\n",
       "      <th>99</th>\n",
       "      <td>2.413478</td>\n",
       "      <td>0.917404</td>\n",
       "      <td>1</td>\n",
       "      <td>0.917404</td>\n",
       "    </tr>\n",
       "    <tr>\n",
       "      <th>100</th>\n",
       "      <td>2.458859</td>\n",
       "      <td>0.921385</td>\n",
       "      <td>1</td>\n",
       "      <td>0.921385</td>\n",
       "    </tr>\n",
       "  </tbody>\n",
       "</table>\n",
       "<p>101 rows × 4 columns</p>\n",
       "</div>"
      ],
      "text/plain": [
       "            x  pred_probability_statsformula  pred_class_statsformula  \\\n",
       "0   -2.079272                       0.051613                        0   \n",
       "1   -2.033891                       0.054307                        0   \n",
       "2   -1.988509                       0.057133                        0   \n",
       "3   -1.943128                       0.060097                        0   \n",
       "4   -1.897747                       0.063204                        0   \n",
       "..        ...                            ...                      ...   \n",
       "96   2.277334                       0.904341                        1   \n",
       "97   2.322715                       0.908889                        1   \n",
       "98   2.368097                       0.913241                        1   \n",
       "99   2.413478                       0.917404                        1   \n",
       "100  2.458859                       0.921385                        1   \n",
       "\n",
       "     pred_probability_statsarray  \n",
       "0                       0.051613  \n",
       "1                       0.054307  \n",
       "2                       0.057133  \n",
       "3                       0.060097  \n",
       "4                       0.063204  \n",
       "..                           ...  \n",
       "96                      0.904341  \n",
       "97                      0.908889  \n",
       "98                      0.913241  \n",
       "99                      0.917404  \n",
       "100                     0.921385  \n",
       "\n",
       "[101 rows x 4 columns]"
      ]
     },
     "execution_count": 68,
     "metadata": {},
     "output_type": "execute_result"
    }
   ],
   "source": [
    "dfviz"
   ]
  },
  {
   "cell_type": "markdown",
   "id": "f787f12e-65da-4b42-9907-f38b448f335f",
   "metadata": {},
   "source": [
    "## Formula vs Array Interface\n",
    "\n",
    "I never use the statsmodels array interface. The formula interface is FASTER to work with. You do NOT need to create the array objects for training or for making predictions!!!\n",
    "\n",
    "Plus, you get to use the nice NAMES for everything. The regression coefficients are automatically named consistent with the features they multiply when you use the formula interface!!!\n",
    "\n",
    "HOWEVER...we introducted the array interface here...because scikit-learn DOES NOT work with formulas!!!  Scikit-learn has its own set of PREDICTIVE MODEL function! Scikit-learn can fit linear models for regressino and logistic regression models for classification but you must provide the output and feature arrays to scikit-learn!!\n",
    "\n",
    "## Scikit-learn\n",
    "The logistic regression function from scikit-learn is imported below."
   ]
  },
  {
   "cell_type": "code",
   "execution_count": 69,
   "id": "9eee7a1e-430b-43ea-b288-f3ea767219f2",
   "metadata": {},
   "outputs": [],
   "source": [
    "from sklearn.linear_model import LogisticRegression"
   ]
  },
  {
   "cell_type": "markdown",
   "id": "5b835637-df77-41fd-b48a-f8127e29030d",
   "metadata": {},
   "source": [
    "If you were working with a linear regression you would instead import"
   ]
  },
  {
   "cell_type": "code",
   "execution_count": 70,
   "id": "f4217b5b-29b1-4d19-9ff9-14203ac39a06",
   "metadata": {},
   "outputs": [],
   "source": [
    "from sklearn.linear_model import LinearRegression"
   ]
  },
  {
   "cell_type": "markdown",
   "id": "0375e26f-0457-4cc3-a2a3-3d9df62bdd94",
   "metadata": {},
   "source": [
    "Scikit-learn PREDICTIVE MODEL functions follow the SAME workflow as the PREPROCESSING functions we worked with earlier in the semester!!!\n",
    "\n",
    "The object must be INITIALIZED and then the object is FIT.\n",
    "\n",
    "Once the model is FIT then you can PREDICT or MEASURE PERFORMANCE.\n",
    "\n",
    "## Default and conventional usage\n",
    "Remember when the scikit-lrarn object is INITIALIZED this is where we set the ASSUMPTIONS of rht model\n",
    "\n",
    "Lets first use the DEFAULT assumptions.\n",
    "\n",
    "We will also use the conventional or typical usage for the FEATURES.\n",
    "\n",
    "The conventional approach when fitting predicted models with scikit-learn is to REMOVE the BIAS or INTERCEPT column of 1s!!!!"
   ]
  },
  {
   "cell_type": "code",
   "execution_count": 71,
   "id": "9033a7db-e5e3-4725-91b3-cbc863079612",
   "metadata": {},
   "outputs": [
    {
     "data": {
      "text/plain": [
       "array([[ 1.        , -0.45742915],\n",
       "       [ 1.        ,  0.42594754],\n",
       "       [ 1.        , -0.7846951 ],\n",
       "       [ 1.        , -1.92520922],\n",
       "       [ 1.        ,  2.25261708]])"
      ]
     },
     "execution_count": 71,
     "metadata": {},
     "output_type": "execute_result"
    }
   ],
   "source": [
    "Xdesign_mat[:5, ]"
   ]
  },
  {
   "cell_type": "markdown",
   "id": "05a3253f-abd2-4b2a-b31b-8306955ccbcf",
   "metadata": {},
   "source": [
    "We can remove the INTERCEPT or BIAS column by including `'- 1'` in the formula definition"
   ]
  },
  {
   "cell_type": "code",
   "execution_count": 72,
   "id": "bf679d02-ac4e-4844-8eb8-bf3ee0bccd0b",
   "metadata": {},
   "outputs": [
    {
     "data": {
      "text/plain": [
       "'y ~ x'"
      ]
     },
     "execution_count": 72,
     "metadata": {},
     "output_type": "execute_result"
    }
   ],
   "source": [
    "\"y ~ x\""
   ]
  },
  {
   "cell_type": "code",
   "execution_count": 73,
   "id": "70128da5-1cb0-4f06-8d6d-34274f85ae75",
   "metadata": {},
   "outputs": [
    {
     "data": {
      "text/plain": [
       "'y ~ x - 1'"
      ]
     },
     "execution_count": 73,
     "metadata": {},
     "output_type": "execute_result"
    }
   ],
   "source": [
    "\"y ~ x - 1\""
   ]
  },
  {
   "cell_type": "markdown",
   "id": "aff83ce5-bf2c-446f-9d0b-f20d8186ab5b",
   "metadata": {},
   "source": [
    "Use the `dmatrices()` to create the arrays for the default and conventional sklearn formulation."
   ]
  },
  {
   "cell_type": "code",
   "execution_count": 74,
   "id": "7ba74fa4-241c-411b-833e-183a4b03f18f",
   "metadata": {},
   "outputs": [],
   "source": [
    "y_sk_default, X_sk_default = dmatrices(\"y ~ x - 1\", data=df)"
   ]
  },
  {
   "cell_type": "code",
   "execution_count": 76,
   "id": "7e50dddf-5302-4936-8acb-46b223aee553",
   "metadata": {},
   "outputs": [
    {
     "data": {
      "text/plain": [
       "(115, 1)"
      ]
     },
     "execution_count": 76,
     "metadata": {},
     "output_type": "execute_result"
    }
   ],
   "source": [
    "X_sk_default.shape"
   ]
  },
  {
   "cell_type": "code",
   "execution_count": 77,
   "id": "1b63d3c4-0421-4ff5-a1d4-caa57d3277d1",
   "metadata": {},
   "outputs": [
    {
     "data": {
      "text/plain": [
       "(115, 1)"
      ]
     },
     "execution_count": 77,
     "metadata": {},
     "output_type": "execute_result"
    }
   ],
   "source": [
    "y_sk_default.shape"
   ]
  },
  {
   "cell_type": "code",
   "execution_count": 78,
   "id": "543880f3-d2f1-47c9-968b-b930610a3a48",
   "metadata": {},
   "outputs": [
    {
     "data": {
      "text/plain": [
       "array([1., 1., 0., 0., 1., 1., 0., 1., 1., 0., 1., 0., 1., 1., 1., 0., 1.,\n",
       "       1., 0., 1., 0., 0., 0., 0., 0., 1., 0., 1., 0., 0., 1., 0., 0., 1.,\n",
       "       0., 0., 0., 0., 0., 0., 0., 0., 1., 0., 1., 0., 1., 0., 1., 0., 0.,\n",
       "       0., 1., 1., 0., 0., 1., 0., 0., 0., 0., 1., 1., 1., 1., 0., 0., 0.,\n",
       "       0., 0., 1., 1., 0., 0., 0., 0., 1., 1., 0., 1., 0., 1., 1., 0., 0.,\n",
       "       1., 1., 1., 0., 0., 1., 0., 0., 1., 0., 0., 0., 1., 0., 1., 1., 1.,\n",
       "       0., 0., 1., 0., 1., 0., 0., 0., 0., 1., 1., 0., 0.])"
      ]
     },
     "execution_count": 78,
     "metadata": {},
     "output_type": "execute_result"
    }
   ],
   "source": [
    "y_sk_default.ravel()"
   ]
  },
  {
   "cell_type": "markdown",
   "id": "bc8523e8-d76f-4576-a55a-d1618b283fdc",
   "metadata": {},
   "source": [
    "Lets now INITIALIZE and then FIT the sklearn logistic regression model.\n",
    "\n",
    "The syntax is VERY DIFFERENT from `statsmodels`.\n",
    "\n",
    "The data are provided in the `.fit()` call RATHER than in the INITIALIZATION step as with `statsmodels.`"
   ]
  },
  {
   "cell_type": "code",
   "execution_count": 80,
   "id": "e838fba0-d0e4-4fe2-ad68-1d72cb3c615e",
   "metadata": {},
   "outputs": [],
   "source": [
    "sk_default_typical = LogisticRegression().fit(X_sk_default, y_sk_default.ravel())"
   ]
  },
  {
   "cell_type": "markdown",
   "id": "2ef28a54-8d90-430e-b308-f4324604d99e",
   "metadata": {},
   "source": [
    "Scikit-learn logistic regression models have their OWN set of attributes and methods which are DIFFERENT from `statsmodels.`"
   ]
  },
  {
   "cell_type": "code",
   "execution_count": 82,
   "id": "b8f10845-6279-4664-a19a-28796f272490",
   "metadata": {},
   "outputs": [
    {
     "data": {
      "text/plain": [
       "['C',\n",
       " '__annotations__',\n",
       " '__class__',\n",
       " '__delattr__',\n",
       " '__dict__',\n",
       " '__dir__',\n",
       " '__doc__',\n",
       " '__eq__',\n",
       " '__format__',\n",
       " '__ge__',\n",
       " '__getattribute__',\n",
       " '__getstate__',\n",
       " '__gt__',\n",
       " '__hash__',\n",
       " '__init__',\n",
       " '__init_subclass__',\n",
       " '__le__',\n",
       " '__lt__',\n",
       " '__module__',\n",
       " '__ne__',\n",
       " '__new__',\n",
       " '__reduce__',\n",
       " '__reduce_ex__',\n",
       " '__repr__',\n",
       " '__setattr__',\n",
       " '__setstate__',\n",
       " '__sizeof__',\n",
       " '__sklearn_clone__',\n",
       " '__str__',\n",
       " '__subclasshook__',\n",
       " '__weakref__',\n",
       " '_build_request_for_signature',\n",
       " '_check_feature_names',\n",
       " '_check_n_features',\n",
       " '_estimator_type',\n",
       " '_get_default_requests',\n",
       " '_get_metadata_request',\n",
       " '_get_param_names',\n",
       " '_get_tags',\n",
       " '_more_tags',\n",
       " '_parameter_constraints',\n",
       " '_predict_proba_lr',\n",
       " '_repr_html_',\n",
       " '_repr_html_inner',\n",
       " '_repr_mimebundle_',\n",
       " '_validate_data',\n",
       " '_validate_params',\n",
       " 'class_weight',\n",
       " 'classes_',\n",
       " 'coef_',\n",
       " 'decision_function',\n",
       " 'densify',\n",
       " 'dual',\n",
       " 'fit',\n",
       " 'fit_intercept',\n",
       " 'get_metadata_routing',\n",
       " 'get_params',\n",
       " 'intercept_',\n",
       " 'intercept_scaling',\n",
       " 'l1_ratio',\n",
       " 'max_iter',\n",
       " 'multi_class',\n",
       " 'n_features_in_',\n",
       " 'n_iter_',\n",
       " 'n_jobs',\n",
       " 'penalty',\n",
       " 'predict',\n",
       " 'predict_log_proba',\n",
       " 'predict_proba',\n",
       " 'random_state',\n",
       " 'score',\n",
       " 'set_fit_request',\n",
       " 'set_params',\n",
       " 'set_score_request',\n",
       " 'solver',\n",
       " 'sparsify',\n",
       " 'tol',\n",
       " 'verbose',\n",
       " 'warm_start']"
      ]
     },
     "execution_count": 82,
     "metadata": {},
     "output_type": "execute_result"
    }
   ],
   "source": [
    "dir(sk_default_typical)"
   ]
  },
  {
   "cell_type": "markdown",
   "id": "060452bf-0c5e-40f1-be2f-b8ae0758292a",
   "metadata": {},
   "source": [
    "The sciki-learn logistic regression model does **NOT** provide whether the features are statistically significant!!!\n",
    "\n",
    "The coefficient estimates are avialable in the .coef_ attribute."
   ]
  },
  {
   "cell_type": "code",
   "execution_count": 83,
   "id": "3c9885a8-4f25-4f95-9647-8372d723750d",
   "metadata": {},
   "outputs": [
    {
     "data": {
      "text/plain": [
       "Intercept   -0.449518\n",
       "x            1.183814\n",
       "dtype: float64"
      ]
     },
     "execution_count": 83,
     "metadata": {},
     "output_type": "execute_result"
    }
   ],
   "source": [
    "fit_stats_formula.params"
   ]
  },
  {
   "cell_type": "code",
   "execution_count": 84,
   "id": "9081f5e2-b999-4eeb-a767-e730a7f2b008",
   "metadata": {},
   "outputs": [
    {
     "data": {
      "text/plain": [
       "array([[1.10749129]])"
      ]
     },
     "execution_count": 84,
     "metadata": {},
     "output_type": "execute_result"
    }
   ],
   "source": [
    "sk_default_typical.coef_"
   ]
  },
  {
   "cell_type": "markdown",
   "id": "45afddc1-220a-47d9-9d97-96e739d93e5a",
   "metadata": {},
   "source": [
    "The typical usage of sklearn is to HOUSE or CONTAIN the INTERCEPT in its own attribute!!!"
   ]
  },
  {
   "cell_type": "code",
   "execution_count": 85,
   "id": "b3b9e284-dea9-4d39-bbee-da6cc0e044c1",
   "metadata": {},
   "outputs": [
    {
     "data": {
      "text/plain": [
       "array([-0.43772033])"
      ]
     },
     "execution_count": 85,
     "metadata": {},
     "output_type": "execute_result"
    }
   ],
   "source": [
    "sk_default_typical.intercept_"
   ]
  },
  {
   "cell_type": "markdown",
   "id": "b0b5171b-a57f-4eda-ac26-b9f6608f3dba",
   "metadata": {},
   "source": [
    "## Do NOT fit the intercept\n",
    "\n",
    "Lets change the ASSUMPTIONS and FEATURE array so that sklearn estimates the INTERCEPT as if its a regular coefficient.\n",
    "\n",
    "We are essentially TRICKING sklearn.\n",
    "\n",
    "We are doing this so that we can have an apples-to-apples comparison with statsmodels.\n",
    "\n",
    "BUT you should also do this when you have CATEGORICAL INPUTS!!! Next week, we will wrap up the semester by discussing just why this is the case!!!\n",
    "\n",
    "Heres how we can force the INTERCEPT to be estimated as if its a regular coefficient.\n",
    "\n",
    "You NEED the INTERCEPT or BIAS column in the FEATURE array!!!"
   ]
  },
  {
   "cell_type": "code",
   "execution_count": 86,
   "id": "7c255938-e949-47be-99b3-55fcd17cdec2",
   "metadata": {},
   "outputs": [
    {
     "data": {
      "text/plain": [
       "array([[ 1.        , -0.45742915],\n",
       "       [ 1.        ,  0.42594754],\n",
       "       [ 1.        , -0.7846951 ],\n",
       "       [ 1.        , -1.92520922],\n",
       "       [ 1.        ,  2.25261708]])"
      ]
     },
     "execution_count": 86,
     "metadata": {},
     "output_type": "execute_result"
    }
   ],
   "source": [
    "Xdesign_mat[:5, ]"
   ]
  },
  {
   "cell_type": "markdown",
   "id": "468abd62-6421-4ec3-b778-239f1e838d4b",
   "metadata": {},
   "source": [
    "The next piece is you MUST set the `fit_intercept=False` when you INITIALIZE the object!!!"
   ]
  },
  {
   "cell_type": "markdown",
   "id": "4ce02b63-0b08-4364-ad3f-78b355705c55",
   "metadata": {},
   "source": [
    "Lets use all other settings at their default values."
   ]
  },
  {
   "cell_type": "code",
   "execution_count": 90,
   "id": "d15ddeca-47bc-4b78-ae60-7260cde2abff",
   "metadata": {},
   "outputs": [],
   "source": [
    "sk_default = LogisticRegression(fit_intercept=False).fit(Xdesign_mat, yobs_mat.ravel())"
   ]
  },
  {
   "cell_type": "markdown",
   "id": "fd25c491-b5ab-4809-9467-eb8abbb66f56",
   "metadata": {},
   "source": [
    "The INTERCEPT attribute is now set to ZERO!!!"
   ]
  },
  {
   "cell_type": "code",
   "execution_count": 91,
   "id": "7c1331bc-e124-4036-84e2-64f60c060e72",
   "metadata": {},
   "outputs": [
    {
     "data": {
      "text/plain": [
       "array([0.])"
      ]
     },
     "execution_count": 91,
     "metadata": {},
     "output_type": "execute_result"
    }
   ],
   "source": [
    "sk_default.intercept_"
   ]
  },
  {
   "cell_type": "markdown",
   "id": "3cf4e8f3-466d-45d3-b619-02c9084f68fb",
   "metadata": {},
   "source": [
    "The INTERCEPT is now contained with the SLOPE in the .coef_ attribute."
   ]
  },
  {
   "cell_type": "code",
   "execution_count": 92,
   "id": "8eb4ad59-7d8e-4476-a4a2-35542aafe3b1",
   "metadata": {},
   "outputs": [
    {
     "data": {
      "text/plain": [
       "array([[-0.41847455,  1.10362554]])"
      ]
     },
     "execution_count": 92,
     "metadata": {},
     "output_type": "execute_result"
    }
   ],
   "source": [
    "sk_default.coef_"
   ]
  },
  {
   "cell_type": "code",
   "execution_count": 93,
   "id": "61ba7eb0-79b8-4362-9d92-3fc00e4b8905",
   "metadata": {},
   "outputs": [
    {
     "data": {
      "text/plain": [
       "(1, 2)"
      ]
     },
     "execution_count": 93,
     "metadata": {},
     "output_type": "execute_result"
    }
   ],
   "source": [
    "sk_default.coef_.shape"
   ]
  },
  {
   "cell_type": "code",
   "execution_count": 96,
   "id": "e2ab6bdc-c0b8-46a0-b2ec-5bdf7651c1b7",
   "metadata": {},
   "outputs": [
    {
     "data": {
      "text/plain": [
       "array([-0.41847455,  1.10362554])"
      ]
     },
     "execution_count": 96,
     "metadata": {},
     "output_type": "execute_result"
    }
   ],
   "source": [
    "sk_default.coef_.ravel()"
   ]
  },
  {
   "cell_type": "markdown",
   "id": "5f94ac33-7dfa-4774-a787-384e45d37810",
   "metadata": {},
   "source": [
    "This allows us to directly compare the SKLEARN coefficient estimates with the statsmodels estimates."
   ]
  },
  {
   "cell_type": "code",
   "execution_count": 105,
   "id": "394ffc7a-b263-456d-964f-56f231d30d41",
   "metadata": {},
   "outputs": [],
   "source": [
    "fit_compare = pd.DataFrame({\"statsmodels_formula\": fit_stats_formula.params,\n",
    "                           \"statsmodels_array\": pd.Series(fit_stats_array.params, index=fit_stats_formula.params.index),\n",
    "                           \"sklearn_default\": pd.Series(sk_default.coef_.ravel(), index=fit_stats_formula.params.index)})"
   ]
  },
  {
   "cell_type": "code",
   "execution_count": 106,
   "id": "ad99cf44-8655-44d6-828f-c729a2f12a89",
   "metadata": {},
   "outputs": [
    {
     "data": {
      "text/html": [
       "<div>\n",
       "<style scoped>\n",
       "    .dataframe tbody tr th:only-of-type {\n",
       "        vertical-align: middle;\n",
       "    }\n",
       "\n",
       "    .dataframe tbody tr th {\n",
       "        vertical-align: top;\n",
       "    }\n",
       "\n",
       "    .dataframe thead th {\n",
       "        text-align: right;\n",
       "    }\n",
       "</style>\n",
       "<table border=\"1\" class=\"dataframe\">\n",
       "  <thead>\n",
       "    <tr style=\"text-align: right;\">\n",
       "      <th></th>\n",
       "      <th>statsmodels_formula</th>\n",
       "      <th>statsmodels_array</th>\n",
       "      <th>sklearn_default</th>\n",
       "    </tr>\n",
       "  </thead>\n",
       "  <tbody>\n",
       "    <tr>\n",
       "      <th>Intercept</th>\n",
       "      <td>-0.449518</td>\n",
       "      <td>-0.449518</td>\n",
       "      <td>-0.418475</td>\n",
       "    </tr>\n",
       "    <tr>\n",
       "      <th>x</th>\n",
       "      <td>1.183814</td>\n",
       "      <td>1.183814</td>\n",
       "      <td>1.103626</td>\n",
       "    </tr>\n",
       "  </tbody>\n",
       "</table>\n",
       "</div>"
      ],
      "text/plain": [
       "           statsmodels_formula  statsmodels_array  sklearn_default\n",
       "Intercept            -0.449518          -0.449518        -0.418475\n",
       "x                     1.183814           1.183814         1.103626"
      ]
     },
     "execution_count": 106,
     "metadata": {},
     "output_type": "execute_result"
    }
   ],
   "source": [
    "fit_compare"
   ]
  },
  {
   "cell_type": "markdown",
   "id": "a46ccb19-4f1f-4c7b-b789-f7a8ea329479",
   "metadata": {},
   "source": [
    "The sklearn estimates are **DIFFERENT** statsmodels!!\n",
    "\n",
    "SKLEARN is NOT more correct than statsmodels.\n",
    "\n",
    "STATSMODELS is NOT more correct than SKLEARN.\n",
    "\n",
    "They are solving different problems by default!\n",
    "\n",
    "We will discuss the differences next week.\n",
    "\n",
    "For now, I want you to know how to force sklearn to behave like statsmodels!!!\n",
    "\n",
    "The reason they are different is because SKLEARN is trying to PREVENT extreme coefficients estimates. It does so by using something called the PENALTY!!!\n",
    "\n",
    "### Turn off the penalty to match statsmodels\n",
    "Please note, you DO NOT need to do this with `LinearRegression()` function in sklearn. This is something specific to `LogisticRegression` in SKLEARN."
   ]
  },
  {
   "cell_type": "code",
   "execution_count": 107,
   "id": "b03d9071-2800-4cb1-9150-03fdbe9f8151",
   "metadata": {},
   "outputs": [
    {
     "data": {
      "text/plain": [
       "'l2'"
      ]
     },
     "execution_count": 107,
     "metadata": {},
     "output_type": "execute_result"
    }
   ],
   "source": [
    "sk_default.penalty"
   ]
  },
  {
   "cell_type": "markdown",
   "id": "f12fe027-ed72-41e0-aaca-cdb99fe836b3",
   "metadata": {},
   "source": [
    "We want to FORCE the penalty to be None. A NONE penalty means the coefficients are estimated in order to MINIMIZE a LOSS!!!!\n",
    "\n",
    "Think of it as finding the coefficients that MINIMIZE the ERROR!!!\n",
    "\n",
    "That's why I feel SKLEARN is VERY DANGEROUS when you use the DEFAULTS because it is EASY to forget what the DEFAULTS are!!!\n",
    "\n",
    "I always recommend SPECIFYING the penalty argument and the solver argument so you KNOW exactly how the coefficients were estimated!!!\n",
    "\n",
    "We will therefore force SKLEARN to MINIMIZE the LOSS JUST LIKE statsmodels!!! And we will have the INTERCEPT estimates as if its a regular coefficient."
   ]
  },
  {
   "cell_type": "code",
   "execution_count": 108,
   "id": "0e667c39-1115-4e3e-93e9-cb574ca3ad87",
   "metadata": {},
   "outputs": [],
   "source": [
    "sk_min_loss = LogisticRegression(penalty=None, solver=\"lbfgs\", fit_intercept=False).fit(Xdesign_mat, yobs_mat.ravel())"
   ]
  },
  {
   "cell_type": "code",
   "execution_count": 110,
   "id": "ee3df421-5048-447a-b89c-8f6e599e6262",
   "metadata": {},
   "outputs": [
    {
     "data": {
      "text/plain": [
       "array([[-0.44951919,  1.18381652]])"
      ]
     },
     "execution_count": 110,
     "metadata": {},
     "output_type": "execute_result"
    }
   ],
   "source": [
    "sk_min_loss.coef_"
   ]
  },
  {
   "cell_type": "code",
   "execution_count": 111,
   "id": "93012a7e-98d7-4cd6-85c2-ad200b7fabd5",
   "metadata": {},
   "outputs": [],
   "source": [
    "sk_min_loss.penalty"
   ]
  },
  {
   "cell_type": "markdown",
   "id": "2313d91c-8cb6-429e-a539-2c30b9d4fa4a",
   "metadata": {},
   "source": [
    "Lets compare the estimated coefficients with statsmodels!!"
   ]
  },
  {
   "cell_type": "code",
   "execution_count": 114,
   "id": "d8700194-529b-43e7-9f4a-4e3af17f714b",
   "metadata": {},
   "outputs": [],
   "source": [
    "fit_compare[\"sklearn_none\"] = pd.Series(sk_min_loss.coef_.ravel(), index=fit_stats_formula.params.index)"
   ]
  },
  {
   "cell_type": "code",
   "execution_count": 115,
   "id": "c61e348e-f548-42a5-b629-109727c67c48",
   "metadata": {},
   "outputs": [
    {
     "data": {
      "text/html": [
       "<div>\n",
       "<style scoped>\n",
       "    .dataframe tbody tr th:only-of-type {\n",
       "        vertical-align: middle;\n",
       "    }\n",
       "\n",
       "    .dataframe tbody tr th {\n",
       "        vertical-align: top;\n",
       "    }\n",
       "\n",
       "    .dataframe thead th {\n",
       "        text-align: right;\n",
       "    }\n",
       "</style>\n",
       "<table border=\"1\" class=\"dataframe\">\n",
       "  <thead>\n",
       "    <tr style=\"text-align: right;\">\n",
       "      <th></th>\n",
       "      <th>statsmodels_formula</th>\n",
       "      <th>statsmodels_array</th>\n",
       "      <th>sklearn_default</th>\n",
       "      <th>sklearn_none</th>\n",
       "    </tr>\n",
       "  </thead>\n",
       "  <tbody>\n",
       "    <tr>\n",
       "      <th>Intercept</th>\n",
       "      <td>-0.449518</td>\n",
       "      <td>-0.449518</td>\n",
       "      <td>-0.418475</td>\n",
       "      <td>-0.449519</td>\n",
       "    </tr>\n",
       "    <tr>\n",
       "      <th>x</th>\n",
       "      <td>1.183814</td>\n",
       "      <td>1.183814</td>\n",
       "      <td>1.103626</td>\n",
       "      <td>1.183817</td>\n",
       "    </tr>\n",
       "  </tbody>\n",
       "</table>\n",
       "</div>"
      ],
      "text/plain": [
       "           statsmodels_formula  statsmodels_array  sklearn_default  \\\n",
       "Intercept            -0.449518          -0.449518        -0.418475   \n",
       "x                     1.183814           1.183814         1.103626   \n",
       "\n",
       "           sklearn_none  \n",
       "Intercept     -0.449519  \n",
       "x              1.183817  "
      ]
     },
     "execution_count": 115,
     "metadata": {},
     "output_type": "execute_result"
    }
   ],
   "source": [
    "fit_compare"
   ]
  },
  {
   "cell_type": "markdown",
   "id": "1da05bb8-342f-4f6c-a423-773fceca9310",
   "metadata": {},
   "source": [
    "The estimates are NOT perfectly identical. But, they match down to 4-5 decimal points!!!\n",
    "\n",
    "We have therefore converted sklearn to behave very very similary to statsmodels!!\n",
    "\n",
    "## Why use sklearn?\n",
    "### Downsides to sklearn\n",
    "SKLEARN does NOT provide standard errors!! It only provides coefficient estimates!!!\n",
    "\n",
    "We therefore CANNOT identify statistically significant coefficients and thus features!!!\n",
    "\n",
    "We cannot identify the CONFIDENCE INTERVAL on trends from sklearn!!!\n",
    "### Upsides to sklearn\n",
    "SKLEARN is focused on calculating PERFORMANCE metrics!!!\n",
    "\n",
    "It has a dedicated method, `.score()` for **SCORING** or GRADING or MEASURING the performance!!!\n",
    "\n",
    "Lets calculate the training set Accuracy for statsmodels."
   ]
  },
  {
   "cell_type": "code",
   "execution_count": 123,
   "id": "dc0335e4-4216-461d-bb10-30339c5554ef",
   "metadata": {},
   "outputs": [],
   "source": [
    "df_copy = df.copy()"
   ]
  },
  {
   "cell_type": "code",
   "execution_count": 124,
   "id": "0ff68d57-6717-48b7-b69b-c4ac8e0b71c3",
   "metadata": {},
   "outputs": [],
   "source": [
    "df_copy[\"pred_probability\"] = fit_stats_formula.predict(df)"
   ]
  },
  {
   "cell_type": "code",
   "execution_count": 125,
   "id": "e78ea551-be27-4b34-8598-0a8694734996",
   "metadata": {},
   "outputs": [],
   "source": [
    "df_copy[\"pred_class\"] = np.where(df_copy.pred_probability > 0.5, 1, 0)"
   ]
  },
  {
   "cell_type": "code",
   "execution_count": 126,
   "id": "8e8184cb-a93b-4c9f-98a2-fda80eacbb7a",
   "metadata": {},
   "outputs": [
    {
     "data": {
      "text/plain": [
       "0.6782608695652174"
      ]
     },
     "execution_count": 126,
     "metadata": {},
     "output_type": "execute_result"
    }
   ],
   "source": [
    "np.mean(df_copy.pred_class == df_copy.y)"
   ]
  },
  {
   "cell_type": "markdown",
   "id": "cacca8cb-8b0d-4458-840e-d13359570f80",
   "metadata": {},
   "source": [
    "The `.score()` for LogisticRegression calculates the ACCURACY BY DEFAULT!!!!\n",
    "\n",
    "It assumes a DEFAULT threshold of 0.5!!!"
   ]
  },
  {
   "cell_type": "code",
   "execution_count": 127,
   "id": "88182bbb-ef08-49c5-a7d5-e480942625fb",
   "metadata": {},
   "outputs": [
    {
     "data": {
      "text/plain": [
       "0.6782608695652174"
      ]
     },
     "execution_count": 127,
     "metadata": {},
     "output_type": "execute_result"
    }
   ],
   "source": [
    "sk_min_loss.score(Xdesign_mat, yobs_mat.ravel())"
   ]
  },
  {
   "cell_type": "markdown",
   "id": "5bb45a44-648a-47fb-936c-765a5509411f",
   "metadata": {},
   "source": [
    "## Predictions with sklearn\n",
    "The `.predict()` method returns the CLASSIFICATION assuming a 0.5 threshold!\n",
    "\n",
    "The `.predict()` methods REQUIRES the FEATURE ARRAY!!!"
   ]
  },
  {
   "cell_type": "code",
   "execution_count": 130,
   "id": "92c63e3e-55b8-4479-9b90-30dbde23306c",
   "metadata": {},
   "outputs": [
    {
     "data": {
      "text/plain": [
       "array([[ 1.        , -2.0792719 ],\n",
       "       [ 1.        , -2.03389058],\n",
       "       [ 1.        , -1.98850927],\n",
       "       [ 1.        , -1.94312796],\n",
       "       [ 1.        , -1.89774665]])"
      ]
     },
     "execution_count": 130,
     "metadata": {},
     "output_type": "execute_result"
    }
   ],
   "source": [
    "Xgrid[:5, ]"
   ]
  },
  {
   "cell_type": "code",
   "execution_count": 128,
   "id": "98bd63a9-48cd-4998-a3fe-c74667c4edd2",
   "metadata": {},
   "outputs": [],
   "source": [
    "dfviz[\"pred_class_sklearn_none\"] = sk_min_loss.predict(Xgrid)"
   ]
  },
  {
   "cell_type": "code",
   "execution_count": 129,
   "id": "72e86569-c390-448b-aad1-07a272468648",
   "metadata": {},
   "outputs": [
    {
     "data": {
      "text/html": [
       "<div>\n",
       "<style scoped>\n",
       "    .dataframe tbody tr th:only-of-type {\n",
       "        vertical-align: middle;\n",
       "    }\n",
       "\n",
       "    .dataframe tbody tr th {\n",
       "        vertical-align: top;\n",
       "    }\n",
       "\n",
       "    .dataframe thead th {\n",
       "        text-align: right;\n",
       "    }\n",
       "</style>\n",
       "<table border=\"1\" class=\"dataframe\">\n",
       "  <thead>\n",
       "    <tr style=\"text-align: right;\">\n",
       "      <th></th>\n",
       "      <th>x</th>\n",
       "      <th>pred_probability_statsformula</th>\n",
       "      <th>pred_class_statsformula</th>\n",
       "      <th>pred_probability_statsarray</th>\n",
       "      <th>pred_class_sklearn_none</th>\n",
       "    </tr>\n",
       "  </thead>\n",
       "  <tbody>\n",
       "    <tr>\n",
       "      <th>0</th>\n",
       "      <td>-2.079272</td>\n",
       "      <td>0.051613</td>\n",
       "      <td>0</td>\n",
       "      <td>0.051613</td>\n",
       "      <td>0.0</td>\n",
       "    </tr>\n",
       "    <tr>\n",
       "      <th>1</th>\n",
       "      <td>-2.033891</td>\n",
       "      <td>0.054307</td>\n",
       "      <td>0</td>\n",
       "      <td>0.054307</td>\n",
       "      <td>0.0</td>\n",
       "    </tr>\n",
       "    <tr>\n",
       "      <th>2</th>\n",
       "      <td>-1.988509</td>\n",
       "      <td>0.057133</td>\n",
       "      <td>0</td>\n",
       "      <td>0.057133</td>\n",
       "      <td>0.0</td>\n",
       "    </tr>\n",
       "    <tr>\n",
       "      <th>3</th>\n",
       "      <td>-1.943128</td>\n",
       "      <td>0.060097</td>\n",
       "      <td>0</td>\n",
       "      <td>0.060097</td>\n",
       "      <td>0.0</td>\n",
       "    </tr>\n",
       "    <tr>\n",
       "      <th>4</th>\n",
       "      <td>-1.897747</td>\n",
       "      <td>0.063204</td>\n",
       "      <td>0</td>\n",
       "      <td>0.063204</td>\n",
       "      <td>0.0</td>\n",
       "    </tr>\n",
       "    <tr>\n",
       "      <th>...</th>\n",
       "      <td>...</td>\n",
       "      <td>...</td>\n",
       "      <td>...</td>\n",
       "      <td>...</td>\n",
       "      <td>...</td>\n",
       "    </tr>\n",
       "    <tr>\n",
       "      <th>96</th>\n",
       "      <td>2.277334</td>\n",
       "      <td>0.904341</td>\n",
       "      <td>1</td>\n",
       "      <td>0.904341</td>\n",
       "      <td>1.0</td>\n",
       "    </tr>\n",
       "    <tr>\n",
       "      <th>97</th>\n",
       "      <td>2.322715</td>\n",
       "      <td>0.908889</td>\n",
       "      <td>1</td>\n",
       "      <td>0.908889</td>\n",
       "      <td>1.0</td>\n",
       "    </tr>\n",
       "    <tr>\n",
       "      <th>98</th>\n",
       "      <td>2.368097</td>\n",
       "      <td>0.913241</td>\n",
       "      <td>1</td>\n",
       "      <td>0.913241</td>\n",
       "      <td>1.0</td>\n",
       "    </tr>\n",
       "    <tr>\n",
       "      <th>99</th>\n",
       "      <td>2.413478</td>\n",
       "      <td>0.917404</td>\n",
       "      <td>1</td>\n",
       "      <td>0.917404</td>\n",
       "      <td>1.0</td>\n",
       "    </tr>\n",
       "    <tr>\n",
       "      <th>100</th>\n",
       "      <td>2.458859</td>\n",
       "      <td>0.921385</td>\n",
       "      <td>1</td>\n",
       "      <td>0.921385</td>\n",
       "      <td>1.0</td>\n",
       "    </tr>\n",
       "  </tbody>\n",
       "</table>\n",
       "<p>101 rows × 5 columns</p>\n",
       "</div>"
      ],
      "text/plain": [
       "            x  pred_probability_statsformula  pred_class_statsformula  \\\n",
       "0   -2.079272                       0.051613                        0   \n",
       "1   -2.033891                       0.054307                        0   \n",
       "2   -1.988509                       0.057133                        0   \n",
       "3   -1.943128                       0.060097                        0   \n",
       "4   -1.897747                       0.063204                        0   \n",
       "..        ...                            ...                      ...   \n",
       "96   2.277334                       0.904341                        1   \n",
       "97   2.322715                       0.908889                        1   \n",
       "98   2.368097                       0.913241                        1   \n",
       "99   2.413478                       0.917404                        1   \n",
       "100  2.458859                       0.921385                        1   \n",
       "\n",
       "     pred_probability_statsarray  pred_class_sklearn_none  \n",
       "0                       0.051613                      0.0  \n",
       "1                       0.054307                      0.0  \n",
       "2                       0.057133                      0.0  \n",
       "3                       0.060097                      0.0  \n",
       "4                       0.063204                      0.0  \n",
       "..                           ...                      ...  \n",
       "96                      0.904341                      1.0  \n",
       "97                      0.908889                      1.0  \n",
       "98                      0.913241                      1.0  \n",
       "99                      0.917404                      1.0  \n",
       "100                     0.921385                      1.0  \n",
       "\n",
       "[101 rows x 5 columns]"
      ]
     },
     "execution_count": 129,
     "metadata": {},
     "output_type": "execute_result"
    }
   ],
   "source": [
    "dfviz"
   ]
  },
  {
   "cell_type": "code",
   "execution_count": 131,
   "id": "d3a38d73-df9c-4466-97cd-c1efcff751e1",
   "metadata": {},
   "outputs": [
    {
     "data": {
      "text/plain": [
       "pred_class_sklearn_none\n",
       "0.0    55\n",
       "1.0    46\n",
       "Name: count, dtype: int64"
      ]
     },
     "execution_count": 131,
     "metadata": {},
     "output_type": "execute_result"
    }
   ],
   "source": [
    "dfviz.pred_class_sklearn_none.value_counts()"
   ]
  },
  {
   "cell_type": "markdown",
   "id": "1ce0fc78-101d-4380-a162-08adde6c9692",
   "metadata": {},
   "source": [
    "To get the PROBABILITY of the EVENT, we need to use the `.predict_proba()` method. However, this method does NOT return the EVENT PROBABILITY."
   ]
  },
  {
   "cell_type": "code",
   "execution_count": 132,
   "id": "891ba20b-e3ae-4c63-ad2c-e0fb34f3cf08",
   "metadata": {},
   "outputs": [],
   "source": [
    "pred_grid_sk = sk_min_loss.predict_proba(Xgrid)"
   ]
  },
  {
   "cell_type": "code",
   "execution_count": 135,
   "id": "0d3c5f88-be6a-46f6-ab21-5d4b9d0a4614",
   "metadata": {},
   "outputs": [
    {
     "data": {
      "text/plain": [
       "array([[0.94838732, 0.05161268],\n",
       "       [0.94569339, 0.05430661],\n",
       "       [0.94286732, 0.05713268],\n",
       "       [0.93990353, 0.06009647],\n",
       "       [0.9367963 , 0.0632037 ]])"
      ]
     },
     "execution_count": 135,
     "metadata": {},
     "output_type": "execute_result"
    }
   ],
   "source": [
    "pred_grid_sk[:5, ]"
   ]
  },
  {
   "cell_type": "markdown",
   "id": "fcd6faa0-4e9c-47ee-a216-b5fa1ca8b2a8",
   "metadata": {},
   "source": [
    "The CLASS orderings are provided by the `.classes_` attribute."
   ]
  },
  {
   "cell_type": "code",
   "execution_count": 136,
   "id": "8c50dbae-8743-482b-81a5-2744223d5579",
   "metadata": {},
   "outputs": [
    {
     "data": {
      "text/plain": [
       "array([0., 1.])"
      ]
     },
     "execution_count": 136,
     "metadata": {},
     "output_type": "execute_result"
    }
   ],
   "source": [
    "sk_min_loss.classes_"
   ]
  },
  {
   "cell_type": "markdown",
   "id": "99adef06-ae62-4e93-b4fc-689004033850",
   "metadata": {},
   "source": [
    "We need to provide a conditional test to find out which column is the EVENT PROBABILITY."
   ]
  },
  {
   "cell_type": "code",
   "execution_count": 139,
   "id": "7ffc73fb-ef02-4be5-aedb-5bee6bd93256",
   "metadata": {},
   "outputs": [
    {
     "data": {
      "text/plain": [
       "array([0.05161268, 0.05430661, 0.05713268, 0.06009647, 0.0632037 ,\n",
       "       0.06646023, 0.06987203, 0.0734452 , 0.07718594, 0.08110053,\n",
       "       0.08519532, 0.08947672, 0.09395119, 0.09862517, 0.10350512,\n",
       "       0.10859743, 0.11390845, 0.1194444 , 0.12521138, 0.13121531,\n",
       "       0.13746189, 0.14395656, 0.15070448, 0.15771043, 0.16497881,\n",
       "       0.17251355, 0.18031811, 0.18839536, 0.19674757, 0.20537637,\n",
       "       0.21428265, 0.22346654, 0.23292736, 0.24266354, 0.25267264,\n",
       "       0.26295124, 0.27349495, 0.28429836, 0.29535502, 0.30665745,\n",
       "       0.31819708, 0.32996429, 0.34194842, 0.35413776, 0.36651959,\n",
       "       0.37908024, 0.39180511, 0.40467874, 0.41768487, 0.43080651,\n",
       "       0.44402605, 0.45732531, 0.47068567, 0.48408818, 0.49751361,\n",
       "       0.51094263, 0.52435587, 0.53773407, 0.55105815, 0.56430935,\n",
       "       0.57746932, 0.59052023, 0.60344485, 0.61622665, 0.62884985,\n",
       "       0.64129954, 0.65356168, 0.66562321, 0.67747204, 0.68909711,\n",
       "       0.70048841, 0.71163701, 0.72253499, 0.73317554, 0.74355286,\n",
       "       0.75366219, 0.76349976, 0.77306276, 0.78234931, 0.79135841,\n",
       "       0.80008988, 0.80854435, 0.81672318, 0.82462839, 0.83226266,\n",
       "       0.83962923, 0.84673185, 0.85357477, 0.86016263, 0.86650045,\n",
       "       0.87259357, 0.8784476 , 0.88406839, 0.88946197, 0.89463453,\n",
       "       0.89959236, 0.90434185, 0.90888944, 0.91324157, 0.91740471,\n",
       "       0.92138527])"
      ]
     },
     "execution_count": 139,
     "metadata": {},
     "output_type": "execute_result"
    }
   ],
   "source": [
    "pred_grid_sk[:, sk_min_loss.classes_ == 1].ravel()"
   ]
  },
  {
   "cell_type": "code",
   "execution_count": 140,
   "id": "bff7bbfa-e35f-4fbd-92fe-22f23fce2578",
   "metadata": {},
   "outputs": [],
   "source": [
    "dfviz[\"pred_probability_sklearn_none\"] = pd.Series(pred_grid_sk[:, sk_min_loss.classes_ == 1].ravel(), index=dfviz.index)"
   ]
  },
  {
   "cell_type": "code",
   "execution_count": 141,
   "id": "b6609eb6-7de5-4fb0-9d9e-f75a9abf4463",
   "metadata": {},
   "outputs": [
    {
     "data": {
      "text/html": [
       "<div>\n",
       "<style scoped>\n",
       "    .dataframe tbody tr th:only-of-type {\n",
       "        vertical-align: middle;\n",
       "    }\n",
       "\n",
       "    .dataframe tbody tr th {\n",
       "        vertical-align: top;\n",
       "    }\n",
       "\n",
       "    .dataframe thead th {\n",
       "        text-align: right;\n",
       "    }\n",
       "</style>\n",
       "<table border=\"1\" class=\"dataframe\">\n",
       "  <thead>\n",
       "    <tr style=\"text-align: right;\">\n",
       "      <th></th>\n",
       "      <th>x</th>\n",
       "      <th>pred_probability_statsformula</th>\n",
       "      <th>pred_class_statsformula</th>\n",
       "      <th>pred_probability_statsarray</th>\n",
       "      <th>pred_class_sklearn_none</th>\n",
       "      <th>pred_probability_sklearn_none</th>\n",
       "    </tr>\n",
       "  </thead>\n",
       "  <tbody>\n",
       "    <tr>\n",
       "      <th>0</th>\n",
       "      <td>-2.079272</td>\n",
       "      <td>0.051613</td>\n",
       "      <td>0</td>\n",
       "      <td>0.051613</td>\n",
       "      <td>0.0</td>\n",
       "      <td>0.051613</td>\n",
       "    </tr>\n",
       "    <tr>\n",
       "      <th>1</th>\n",
       "      <td>-2.033891</td>\n",
       "      <td>0.054307</td>\n",
       "      <td>0</td>\n",
       "      <td>0.054307</td>\n",
       "      <td>0.0</td>\n",
       "      <td>0.054307</td>\n",
       "    </tr>\n",
       "    <tr>\n",
       "      <th>2</th>\n",
       "      <td>-1.988509</td>\n",
       "      <td>0.057133</td>\n",
       "      <td>0</td>\n",
       "      <td>0.057133</td>\n",
       "      <td>0.0</td>\n",
       "      <td>0.057133</td>\n",
       "    </tr>\n",
       "    <tr>\n",
       "      <th>3</th>\n",
       "      <td>-1.943128</td>\n",
       "      <td>0.060097</td>\n",
       "      <td>0</td>\n",
       "      <td>0.060097</td>\n",
       "      <td>0.0</td>\n",
       "      <td>0.060096</td>\n",
       "    </tr>\n",
       "    <tr>\n",
       "      <th>4</th>\n",
       "      <td>-1.897747</td>\n",
       "      <td>0.063204</td>\n",
       "      <td>0</td>\n",
       "      <td>0.063204</td>\n",
       "      <td>0.0</td>\n",
       "      <td>0.063204</td>\n",
       "    </tr>\n",
       "    <tr>\n",
       "      <th>...</th>\n",
       "      <td>...</td>\n",
       "      <td>...</td>\n",
       "      <td>...</td>\n",
       "      <td>...</td>\n",
       "      <td>...</td>\n",
       "      <td>...</td>\n",
       "    </tr>\n",
       "    <tr>\n",
       "      <th>96</th>\n",
       "      <td>2.277334</td>\n",
       "      <td>0.904341</td>\n",
       "      <td>1</td>\n",
       "      <td>0.904341</td>\n",
       "      <td>1.0</td>\n",
       "      <td>0.904342</td>\n",
       "    </tr>\n",
       "    <tr>\n",
       "      <th>97</th>\n",
       "      <td>2.322715</td>\n",
       "      <td>0.908889</td>\n",
       "      <td>1</td>\n",
       "      <td>0.908889</td>\n",
       "      <td>1.0</td>\n",
       "      <td>0.908889</td>\n",
       "    </tr>\n",
       "    <tr>\n",
       "      <th>98</th>\n",
       "      <td>2.368097</td>\n",
       "      <td>0.913241</td>\n",
       "      <td>1</td>\n",
       "      <td>0.913241</td>\n",
       "      <td>1.0</td>\n",
       "      <td>0.913242</td>\n",
       "    </tr>\n",
       "    <tr>\n",
       "      <th>99</th>\n",
       "      <td>2.413478</td>\n",
       "      <td>0.917404</td>\n",
       "      <td>1</td>\n",
       "      <td>0.917404</td>\n",
       "      <td>1.0</td>\n",
       "      <td>0.917405</td>\n",
       "    </tr>\n",
       "    <tr>\n",
       "      <th>100</th>\n",
       "      <td>2.458859</td>\n",
       "      <td>0.921385</td>\n",
       "      <td>1</td>\n",
       "      <td>0.921385</td>\n",
       "      <td>1.0</td>\n",
       "      <td>0.921385</td>\n",
       "    </tr>\n",
       "  </tbody>\n",
       "</table>\n",
       "<p>101 rows × 6 columns</p>\n",
       "</div>"
      ],
      "text/plain": [
       "            x  pred_probability_statsformula  pred_class_statsformula  \\\n",
       "0   -2.079272                       0.051613                        0   \n",
       "1   -2.033891                       0.054307                        0   \n",
       "2   -1.988509                       0.057133                        0   \n",
       "3   -1.943128                       0.060097                        0   \n",
       "4   -1.897747                       0.063204                        0   \n",
       "..        ...                            ...                      ...   \n",
       "96   2.277334                       0.904341                        1   \n",
       "97   2.322715                       0.908889                        1   \n",
       "98   2.368097                       0.913241                        1   \n",
       "99   2.413478                       0.917404                        1   \n",
       "100  2.458859                       0.921385                        1   \n",
       "\n",
       "     pred_probability_statsarray  pred_class_sklearn_none  \\\n",
       "0                       0.051613                      0.0   \n",
       "1                       0.054307                      0.0   \n",
       "2                       0.057133                      0.0   \n",
       "3                       0.060097                      0.0   \n",
       "4                       0.063204                      0.0   \n",
       "..                           ...                      ...   \n",
       "96                      0.904341                      1.0   \n",
       "97                      0.908889                      1.0   \n",
       "98                      0.913241                      1.0   \n",
       "99                      0.917404                      1.0   \n",
       "100                     0.921385                      1.0   \n",
       "\n",
       "     pred_probability_sklearn_none  \n",
       "0                         0.051613  \n",
       "1                         0.054307  \n",
       "2                         0.057133  \n",
       "3                         0.060096  \n",
       "4                         0.063204  \n",
       "..                             ...  \n",
       "96                        0.904342  \n",
       "97                        0.908889  \n",
       "98                        0.913242  \n",
       "99                        0.917405  \n",
       "100                       0.921385  \n",
       "\n",
       "[101 rows x 6 columns]"
      ]
     },
     "execution_count": 141,
     "metadata": {},
     "output_type": "execute_result"
    }
   ],
   "source": [
    "dfviz"
   ]
  },
  {
   "cell_type": "code",
   "execution_count": 143,
   "id": "d0d0a067-cd4a-4e8d-bfcc-b79f4ccfeace",
   "metadata": {},
   "outputs": [
    {
     "name": "stderr",
     "output_type": "stream",
     "text": [
      "/Applications/anaconda3/envs/cmpinf2100/lib/python3.8/site-packages/seaborn/axisgrid.py:123: UserWarning: The figure layout has changed to tight\n",
      "  self._figure.tight_layout(*args, **kwargs)\n"
     ]
    },
    {
     "data": {
      "image/png": "[encoded data removed]",
      "text/plain": [
       "<Figure size 500x500 with 1 Axes>"
      ]
     },
     "metadata": {},
     "output_type": "display_data"
    }
   ],
   "source": [
    "sns.relplot(data=dfviz, x=\"x\", y=\"pred_probability_sklearn_none\", kind=\"line\")\n",
    "\n",
    "plt.show()"
   ]
  },
  {
   "cell_type": "code",
   "execution_count": null,
   "id": "1af5ab85-49b6-453c-8744-080d79c5f7f2",
   "metadata": {},
   "outputs": [],
   "source": []
  }
 ],
 "metadata": {
  "kernelspec": {
   "display_name": "Python 3 (ipykernel)",
   "language": "python",
   "name": "python3"
  },
  "language_info": {
   "codemirror_mode": {
    "name": "ipython",
    "version": 3
   },
   "file_extension": ".py",
   "mimetype": "text/x-python",
   "name": "python",
   "nbconvert_exporter": "python",
   "pygments_lexer": "ipython3",
   "version": "3.8.19"
  }
 },
 "nbformat": 4,
 "nbformat_minor": 5
}
