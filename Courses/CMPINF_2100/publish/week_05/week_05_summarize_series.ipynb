{
 "cells": [
  {
   "cell_type": "markdown",
   "id": "c9033320-2530-471c-b605-d58cd0af4fed",
   "metadata": {},
   "source": [
    "## CMPINF 2100 Week 05\n",
    "### Begin Exploring by Summarizing Pandas Series\n",
    "\n",
    "We will explore data before training predictive models. This process is known as Exploratory Data Analysis (EDA).\n",
    "\n",
    "An important aspect of EDA is knowing how to calculate SUMMARY STATISTICS. This Notebook demonstrates how to summarize the Panda series. \n",
    "\n",
    "## Import Modules"
   ]
  },
  {
   "cell_type": "code",
   "execution_count": 1,
   "id": "71019688-7543-440e-8bd3-88d544db02ad",
   "metadata": {},
   "outputs": [],
   "source": [
    "import numpy as np\n",
    "import pandas as pd"
   ]
  },
  {
   "cell_type": "markdown",
   "id": "07484564-84e8-4f35-8909-1e961a874ebb",
   "metadata": {},
   "source": [
    "## Review of Numpy Summary Methods\n",
    "Lets create a list of integers and then convert that list to a 1D NumPy Array."
   ]
  },
  {
   "cell_type": "code",
   "execution_count": 2,
   "id": "e1876627-5ef1-4e93-ae1e-858889967666",
   "metadata": {},
   "outputs": [],
   "source": [
    "my_list = [10, 20, 30, 40, 50, 60, 70,80]"
   ]
  },
  {
   "cell_type": "markdown",
   "id": "6c4545dd-2c77-43a9-9a2d-38f9a02e2c9f",
   "metadata": {},
   "source": [
    "Convert to an array."
   ]
  },
  {
   "cell_type": "code",
   "execution_count": 3,
   "id": "25ce42c1-cd2d-458c-8156-9507e1469979",
   "metadata": {},
   "outputs": [],
   "source": [
    "my_array = np.array(my_list)"
   ]
  },
  {
   "cell_type": "code",
   "execution_count": 4,
   "id": "fb4b7ff5-8100-4fec-99bf-56e9ddb574c6",
   "metadata": {},
   "outputs": [
    {
     "data": {
      "text/plain": [
       "45.0"
      ]
     },
     "execution_count": 4,
     "metadata": {},
     "output_type": "execute_result"
    }
   ],
   "source": [
    "my_array.mean()"
   ]
  },
  {
   "cell_type": "code",
   "execution_count": 5,
   "id": "b707b4d3-a6ad-4b69-883a-569d40cc6bdc",
   "metadata": {},
   "outputs": [
    {
     "data": {
      "text/plain": [
       "600.0"
      ]
     },
     "execution_count": 5,
     "metadata": {},
     "output_type": "execute_result"
    }
   ],
   "source": [
    "my_array.var(ddof=1)"
   ]
  },
  {
   "cell_type": "code",
   "execution_count": 6,
   "id": "67ed0a2f-07fb-44bc-8147-290f8698183d",
   "metadata": {},
   "outputs": [
    {
     "data": {
      "text/plain": [
       "24.49489742783178"
      ]
     },
     "execution_count": 6,
     "metadata": {},
     "output_type": "execute_result"
    }
   ],
   "source": [
    "my_array.std(ddof=1)"
   ]
  },
  {
   "cell_type": "code",
   "execution_count": 7,
   "id": "93a979f9-a1e6-4018-811f-c0a69e444b14",
   "metadata": {},
   "outputs": [
    {
     "data": {
      "text/plain": [
       "10"
      ]
     },
     "execution_count": 7,
     "metadata": {},
     "output_type": "execute_result"
    }
   ],
   "source": [
    "my_array.min()"
   ]
  },
  {
   "cell_type": "code",
   "execution_count": 8,
   "id": "9f59d28d-b0b8-48c2-806e-b9085fe312dc",
   "metadata": {},
   "outputs": [
    {
     "data": {
      "text/plain": [
       "80"
      ]
     },
     "execution_count": 8,
     "metadata": {},
     "output_type": "execute_result"
    }
   ],
   "source": [
    "my_array.max()"
   ]
  },
  {
   "cell_type": "markdown",
   "id": "fb5c0baf-dbde-4a29-975f-2c2cab7ceb6c",
   "metadata": {},
   "source": [
    "## Pandas Series - Summary Methods\n",
    "Convert the list into a Pandas Series"
   ]
  },
  {
   "cell_type": "code",
   "execution_count": 10,
   "id": "e8790057-3e87-4b1b-bb85-1707a5c8de68",
   "metadata": {},
   "outputs": [],
   "source": [
    "my_series = pd.Series(my_list)"
   ]
  },
  {
   "cell_type": "code",
   "execution_count": 11,
   "id": "f251e867-5c2f-42a3-8441-77b7a80cd846",
   "metadata": {},
   "outputs": [
    {
     "data": {
      "text/plain": [
       "0    10\n",
       "1    20\n",
       "2    30\n",
       "3    40\n",
       "4    50\n",
       "5    60\n",
       "6    70\n",
       "7    80\n",
       "dtype: int64"
      ]
     },
     "execution_count": 11,
     "metadata": {},
     "output_type": "execute_result"
    }
   ],
   "source": [
    "my_series"
   ]
  },
  {
   "cell_type": "markdown",
   "id": "c48bbf6e-148b-4a0c-8d1d-8b1f2d4832bf",
   "metadata": {},
   "source": [
    "Most of the Pandas Series summary methods work very similarly to their NumPy counterpats!!"
   ]
  },
  {
   "cell_type": "code",
   "execution_count": 12,
   "id": "2b698d6e-708a-4a53-8341-80504ff04209",
   "metadata": {},
   "outputs": [
    {
     "data": {
      "text/plain": [
       "45.0"
      ]
     },
     "execution_count": 12,
     "metadata": {},
     "output_type": "execute_result"
    }
   ],
   "source": [
    "my_series.mean()"
   ]
  },
  {
   "cell_type": "code",
   "execution_count": 13,
   "id": "84ea2690-a437-46b2-9ea6-b3ce16b44bd3",
   "metadata": {},
   "outputs": [
    {
     "data": {
      "text/plain": [
       "10"
      ]
     },
     "execution_count": 13,
     "metadata": {},
     "output_type": "execute_result"
    }
   ],
   "source": [
    "my_series.min()"
   ]
  },
  {
   "cell_type": "code",
   "execution_count": 14,
   "id": "2e977892-6197-433a-ad20-42c0ca3213a4",
   "metadata": {},
   "outputs": [
    {
     "data": {
      "text/plain": [
       "80"
      ]
     },
     "execution_count": 14,
     "metadata": {},
     "output_type": "execute_result"
    }
   ],
   "source": [
    "my_series.max()"
   ]
  },
  {
   "cell_type": "markdown",
   "id": "c630a2e5-2297-43ff-8bd0-ab16d72eaacc",
   "metadata": {},
   "source": [
    "But look closely at the VARIANCE!!"
   ]
  },
  {
   "cell_type": "code",
   "execution_count": 16,
   "id": "969155c0-a3dd-4ec2-94fd-7200167217e2",
   "metadata": {},
   "outputs": [
    {
     "data": {
      "text/plain": [
       "600.0"
      ]
     },
     "execution_count": 16,
     "metadata": {},
     "output_type": "execute_result"
    }
   ],
   "source": [
    "my_series.var()"
   ]
  },
  {
   "cell_type": "code",
   "execution_count": 17,
   "id": "f45486cf-6556-44cb-9a1b-ad13c8ef8a89",
   "metadata": {},
   "outputs": [
    {
     "data": {
      "text/plain": [
       "525.0"
      ]
     },
     "execution_count": 17,
     "metadata": {},
     "output_type": "execute_result"
    }
   ],
   "source": [
    "my_array.var()"
   ]
  },
  {
   "cell_type": "code",
   "execution_count": 18,
   "id": "8f9b99ea-934c-4f4e-b0a6-a2faca24d906",
   "metadata": {},
   "outputs": [
    {
     "data": {
      "text/plain": [
       "600.0"
      ]
     },
     "execution_count": 18,
     "metadata": {},
     "output_type": "execute_result"
    }
   ],
   "source": [
    "my_array.var(ddof=1)"
   ]
  },
  {
   "cell_type": "markdown",
   "id": "dcbcce54-419d-46e2-bde9-b9b1471f2941",
   "metadata": {},
   "source": [
    "Look closely at the standard deviation!!!"
   ]
  },
  {
   "cell_type": "code",
   "execution_count": 19,
   "id": "4b43875c-5b06-4eda-b605-7a9a4f75e1d9",
   "metadata": {},
   "outputs": [
    {
     "data": {
      "text/plain": [
       "24.49489742783178"
      ]
     },
     "execution_count": 19,
     "metadata": {},
     "output_type": "execute_result"
    }
   ],
   "source": [
    "my_series.std()"
   ]
  },
  {
   "cell_type": "code",
   "execution_count": 20,
   "id": "9d77288d-cb59-4fb7-8416-8d250824e661",
   "metadata": {},
   "outputs": [
    {
     "data": {
      "text/plain": [
       "22.9128784747792"
      ]
     },
     "execution_count": 20,
     "metadata": {},
     "output_type": "execute_result"
    }
   ],
   "source": [
    "my_array.std()"
   ]
  },
  {
   "cell_type": "code",
   "execution_count": 21,
   "id": "27d2b65f-1dbd-46ab-9cba-af062ded0a4a",
   "metadata": {},
   "outputs": [
    {
     "data": {
      "text/plain": [
       "24.49489742783178"
      ]
     },
     "execution_count": 21,
     "metadata": {},
     "output_type": "execute_result"
    }
   ],
   "source": [
    "my_array.std(ddof=1)"
   ]
  },
  {
   "cell_type": "markdown",
   "id": "799e3d48-011a-4853-88c1-85c10b13d772",
   "metadata": {},
   "source": [
    "Pandas CORRECTLY sets `ddof=1` when variance or std are calculated!!\n",
    "\n",
    "Pandas calculates the UNBIASED estimate variance and standard deviation!!!\n",
    "\n",
    "### Unique values \n",
    "\n",
    "We can get the num of unique values for a Pandas Series!!"
   ]
  },
  {
   "cell_type": "code",
   "execution_count": 22,
   "id": "282834b3-eef1-4006-ac24-f85f483c59c4",
   "metadata": {},
   "outputs": [
    {
     "data": {
      "text/plain": [
       "8"
      ]
     },
     "execution_count": 22,
     "metadata": {},
     "output_type": "execute_result"
    }
   ],
   "source": [
    "my_series.nunique()"
   ]
  },
  {
   "cell_type": "code",
   "execution_count": 23,
   "id": "a44e8e92-d305-4c1e-ad06-bd50dddabce1",
   "metadata": {},
   "outputs": [
    {
     "data": {
      "text/plain": [
       "0    10\n",
       "1    20\n",
       "2    30\n",
       "3    40\n",
       "4    50\n",
       "5    60\n",
       "6    70\n",
       "7    80\n",
       "dtype: int64"
      ]
     },
     "execution_count": 23,
     "metadata": {},
     "output_type": "execute_result"
    }
   ],
   "source": [
    "my_series"
   ]
  },
  {
   "cell_type": "markdown",
   "id": "e7e3c677-5b78-4ae1-a801-dcedfcd00e41",
   "metadata": {},
   "source": [
    "Knowing the number of unique values is especially important for CATEGORICAL or STRING variables!!"
   ]
  },
  {
   "cell_type": "code",
   "execution_count": 26,
   "id": "3cafc0ba-d8bb-4ac9-943a-d24ecc3d7f0c",
   "metadata": {},
   "outputs": [],
   "source": [
    "my_series_b = pd.Series(['A', 'A', 'A', 'B', 'B', 'B', 'C', 'D', 'D'])"
   ]
  },
  {
   "cell_type": "code",
   "execution_count": 27,
   "id": "b22de1a6-a81c-4d5d-8cee-305f5ca6a4e1",
   "metadata": {},
   "outputs": [
    {
     "data": {
      "text/plain": [
       "0    A\n",
       "1    A\n",
       "2    A\n",
       "3    B\n",
       "4    B\n",
       "5    B\n",
       "6    C\n",
       "7    D\n",
       "8    D\n",
       "dtype: object"
      ]
     },
     "execution_count": 27,
     "metadata": {},
     "output_type": "execute_result"
    }
   ],
   "source": [
    "my_series_b"
   ]
  },
  {
   "cell_type": "code",
   "execution_count": 28,
   "id": "047c9cdb-a09a-46f5-8976-0b4dd933827d",
   "metadata": {},
   "outputs": [
    {
     "data": {
      "text/plain": [
       "4"
      ]
     },
     "execution_count": 28,
     "metadata": {},
     "output_type": "execute_result"
    }
   ],
   "source": [
    "my_series_b.nunique()"
   ]
  },
  {
   "cell_type": "code",
   "execution_count": 29,
   "id": "72f1f252-a096-4068-ac67-5643b39b3a32",
   "metadata": {},
   "outputs": [
    {
     "data": {
      "text/plain": [
       "9"
      ]
     },
     "execution_count": 29,
     "metadata": {},
     "output_type": "execute_result"
    }
   ],
   "source": [
    "my_series_b.size"
   ]
  },
  {
   "cell_type": "code",
   "execution_count": 30,
   "id": "f0102532-ba12-46c4-8707-2879d1249ccf",
   "metadata": {},
   "outputs": [
    {
     "data": {
      "text/plain": [
       "(9,)"
      ]
     },
     "execution_count": 30,
     "metadata": {},
     "output_type": "execute_result"
    }
   ],
   "source": [
    "my_series_b.shape"
   ]
  },
  {
   "cell_type": "markdown",
   "id": "37c2e97f-cad4-41cc-89cd-d6ed83d9eb6f",
   "metadata": {},
   "source": [
    "The number of unique values does NOT need to equal the num of elements or SIZE!!\n",
    "\n",
    "My fav Pandas method focuses on dealing with unique values!!!\n",
    "\n",
    "Often times we want to COUNT the num of times a unique value occurs!"
   ]
  },
  {
   "cell_type": "code",
   "execution_count": 32,
   "id": "b6d6991e-d31e-4b9f-b9fd-0eccea2a40a6",
   "metadata": {},
   "outputs": [
    {
     "data": {
      "text/plain": [
       "A    3\n",
       "B    3\n",
       "D    2\n",
       "C    1\n",
       "Name: count, dtype: int64"
      ]
     },
     "execution_count": 32,
     "metadata": {},
     "output_type": "execute_result"
    }
   ],
   "source": [
    "my_series_b.value_counts()"
   ]
  },
  {
   "cell_type": "markdown",
   "id": "eec9bea1-b19f-45c1-86ff-3a0b10dc5248",
   "metadata": {},
   "source": [
    "The COUNTS give us more information thatn just the unique value."
   ]
  },
  {
   "cell_type": "code",
   "execution_count": 34,
   "id": "0b077020-4dd2-4b53-a386-3b4e0a901465",
   "metadata": {},
   "outputs": [
    {
     "data": {
      "text/plain": [
       "Index(['A', 'B', 'D', 'C'], dtype='object')"
      ]
     },
     "execution_count": 34,
     "metadata": {},
     "output_type": "execute_result"
    }
   ],
   "source": [
    "my_series_b.value_counts().index"
   ]
  },
  {
   "cell_type": "markdown",
   "id": "ca015bc9-8b4a-4b38-a747-3b16286e9c89",
   "metadata": {},
   "source": [
    "If you want the unique values, then you can use the `.unique()` method."
   ]
  },
  {
   "cell_type": "code",
   "execution_count": 35,
   "id": "6e5eb706-06e1-4ece-9041-3e09e2da749b",
   "metadata": {},
   "outputs": [
    {
     "data": {
      "text/plain": [
       "array(['A', 'B', 'C', 'D'], dtype=object)"
      ]
     },
     "execution_count": 35,
     "metadata": {},
     "output_type": "execute_result"
    }
   ],
   "source": [
    "my_series_b.unique()"
   ]
  },
  {
   "cell_type": "markdown",
   "id": "c8164bbf-9e96-4290-800f-b8873cc63172",
   "metadata": {},
   "source": [
    "## Summarize Individual columns within DataFrames\n",
    "\n",
    "This is to reenforce the fact that COLUMNS are really Pandas Series within a DataFrame.\n",
    "\n",
    "Lets read in the JOINED data set we created previously."
   ]
  },
  {
   "cell_type": "code",
   "execution_count": 36,
   "id": "90740ad7-4a2f-4a6e-a482-70c12d8136e1",
   "metadata": {},
   "outputs": [],
   "source": [
    "df = pd.read_csv(\"joined_data.csv\")"
   ]
  },
  {
   "cell_type": "code",
   "execution_count": 37,
   "id": "624cfcf8-594d-48f9-8021-9e5e738d3eec",
   "metadata": {},
   "outputs": [
    {
     "data": {
      "text/html": [
       "<div>\n",
       "<style scoped>\n",
       "    .dataframe tbody tr th:only-of-type {\n",
       "        vertical-align: middle;\n",
       "    }\n",
       "\n",
       "    .dataframe tbody tr th {\n",
       "        vertical-align: top;\n",
       "    }\n",
       "\n",
       "    .dataframe thead th {\n",
       "        text-align: right;\n",
       "    }\n",
       "</style>\n",
       "<table border=\"1\" class=\"dataframe\">\n",
       "  <thead>\n",
       "    <tr style=\"text-align: right;\">\n",
       "      <th></th>\n",
       "      <th>A</th>\n",
       "      <th>B</th>\n",
       "      <th>C</th>\n",
       "      <th>D</th>\n",
       "      <th>E</th>\n",
       "      <th>F</th>\n",
       "      <th>G</th>\n",
       "      <th>H</th>\n",
       "    </tr>\n",
       "  </thead>\n",
       "  <tbody>\n",
       "    <tr>\n",
       "      <th>0</th>\n",
       "      <td>a</td>\n",
       "      <td>0.0</td>\n",
       "      <td>-100.0</td>\n",
       "      <td>Jan</td>\n",
       "      <td>aa</td>\n",
       "      <td>10</td>\n",
       "      <td>100.0</td>\n",
       "      <td>AAA</td>\n",
       "    </tr>\n",
       "    <tr>\n",
       "      <th>1</th>\n",
       "      <td>b</td>\n",
       "      <td>1.0</td>\n",
       "      <td>-200.0</td>\n",
       "      <td>Feb</td>\n",
       "      <td>aa</td>\n",
       "      <td>20</td>\n",
       "      <td>100.0</td>\n",
       "      <td>BBB</td>\n",
       "    </tr>\n",
       "    <tr>\n",
       "      <th>2</th>\n",
       "      <td>c</td>\n",
       "      <td>2.0</td>\n",
       "      <td>-300.0</td>\n",
       "      <td>Mar</td>\n",
       "      <td>aa</td>\n",
       "      <td>10</td>\n",
       "      <td>100.0</td>\n",
       "      <td>AAA</td>\n",
       "    </tr>\n",
       "    <tr>\n",
       "      <th>3</th>\n",
       "      <td>d</td>\n",
       "      <td>3.0</td>\n",
       "      <td>-400.0</td>\n",
       "      <td>Apr</td>\n",
       "      <td>bb</td>\n",
       "      <td>20</td>\n",
       "      <td>200.0</td>\n",
       "      <td>BBB</td>\n",
       "    </tr>\n",
       "    <tr>\n",
       "      <th>4</th>\n",
       "      <td>e</td>\n",
       "      <td>4.0</td>\n",
       "      <td>-500.0</td>\n",
       "      <td>May</td>\n",
       "      <td>bb</td>\n",
       "      <td>10</td>\n",
       "      <td>200.0</td>\n",
       "      <td>AAA</td>\n",
       "    </tr>\n",
       "    <tr>\n",
       "      <th>5</th>\n",
       "      <td>f</td>\n",
       "      <td>5.0</td>\n",
       "      <td>-600.0</td>\n",
       "      <td>Jun</td>\n",
       "      <td>bb</td>\n",
       "      <td>20</td>\n",
       "      <td>200.0</td>\n",
       "      <td>BBB</td>\n",
       "    </tr>\n",
       "    <tr>\n",
       "      <th>6</th>\n",
       "      <td>g</td>\n",
       "      <td>6.0</td>\n",
       "      <td>-700.0</td>\n",
       "      <td>Jul</td>\n",
       "      <td>cc</td>\n",
       "      <td>10</td>\n",
       "      <td>NaN</td>\n",
       "      <td>AAA</td>\n",
       "    </tr>\n",
       "    <tr>\n",
       "      <th>7</th>\n",
       "      <td>h</td>\n",
       "      <td>7.0</td>\n",
       "      <td>-800.0</td>\n",
       "      <td>Aug</td>\n",
       "      <td>cc</td>\n",
       "      <td>20</td>\n",
       "      <td>NaN</td>\n",
       "      <td>BBB</td>\n",
       "    </tr>\n",
       "    <tr>\n",
       "      <th>8</th>\n",
       "      <td>i</td>\n",
       "      <td>8.0</td>\n",
       "      <td>-900.0</td>\n",
       "      <td>Sep</td>\n",
       "      <td>cc</td>\n",
       "      <td>10</td>\n",
       "      <td>NaN</td>\n",
       "      <td>AAA</td>\n",
       "    </tr>\n",
       "    <tr>\n",
       "      <th>9</th>\n",
       "      <td>j</td>\n",
       "      <td>9.0</td>\n",
       "      <td>-1000.0</td>\n",
       "      <td>Oct</td>\n",
       "      <td>dd</td>\n",
       "      <td>20</td>\n",
       "      <td>400.0</td>\n",
       "      <td>BBB</td>\n",
       "    </tr>\n",
       "    <tr>\n",
       "      <th>10</th>\n",
       "      <td>k</td>\n",
       "      <td>10.0</td>\n",
       "      <td>-1100.0</td>\n",
       "      <td>Nov</td>\n",
       "      <td>dd</td>\n",
       "      <td>10</td>\n",
       "      <td>400.0</td>\n",
       "      <td>AAA</td>\n",
       "    </tr>\n",
       "    <tr>\n",
       "      <th>11</th>\n",
       "      <td>l</td>\n",
       "      <td>11.0</td>\n",
       "      <td>-1200.0</td>\n",
       "      <td>Dec</td>\n",
       "      <td>dd</td>\n",
       "      <td>20</td>\n",
       "      <td>400.0</td>\n",
       "      <td>BBB</td>\n",
       "    </tr>\n",
       "    <tr>\n",
       "      <th>12</th>\n",
       "      <td>NaN</td>\n",
       "      <td>NaN</td>\n",
       "      <td>NaN</td>\n",
       "      <td>NaN</td>\n",
       "      <td>NaN</td>\n",
       "      <td>30</td>\n",
       "      <td>NaN</td>\n",
       "      <td>CCC</td>\n",
       "    </tr>\n",
       "    <tr>\n",
       "      <th>13</th>\n",
       "      <td>NaN</td>\n",
       "      <td>NaN</td>\n",
       "      <td>NaN</td>\n",
       "      <td>NaN</td>\n",
       "      <td>NaN</td>\n",
       "      <td>40</td>\n",
       "      <td>NaN</td>\n",
       "      <td>DDD</td>\n",
       "    </tr>\n",
       "  </tbody>\n",
       "</table>\n",
       "</div>"
      ],
      "text/plain": [
       "      A     B       C    D    E   F      G    H\n",
       "0     a   0.0  -100.0  Jan   aa  10  100.0  AAA\n",
       "1     b   1.0  -200.0  Feb   aa  20  100.0  BBB\n",
       "2     c   2.0  -300.0  Mar   aa  10  100.0  AAA\n",
       "3     d   3.0  -400.0  Apr   bb  20  200.0  BBB\n",
       "4     e   4.0  -500.0  May   bb  10  200.0  AAA\n",
       "5     f   5.0  -600.0  Jun   bb  20  200.0  BBB\n",
       "6     g   6.0  -700.0  Jul   cc  10    NaN  AAA\n",
       "7     h   7.0  -800.0  Aug   cc  20    NaN  BBB\n",
       "8     i   8.0  -900.0  Sep   cc  10    NaN  AAA\n",
       "9     j   9.0 -1000.0  Oct   dd  20  400.0  BBB\n",
       "10    k  10.0 -1100.0  Nov   dd  10  400.0  AAA\n",
       "11    l  11.0 -1200.0  Dec   dd  20  400.0  BBB\n",
       "12  NaN   NaN     NaN  NaN  NaN  30    NaN  CCC\n",
       "13  NaN   NaN     NaN  NaN  NaN  40    NaN  DDD"
      ]
     },
     "execution_count": 37,
     "metadata": {},
     "output_type": "execute_result"
    }
   ],
   "source": [
    "df"
   ]
  },
  {
   "cell_type": "markdown",
   "id": "0c7aec55-db7e-4f3e-b707-bbc47650e189",
   "metadata": {},
   "source": [
    "Access any column and apply summary methods just like it was a regular Pandas Series in the environment."
   ]
  },
  {
   "cell_type": "code",
   "execution_count": 38,
   "id": "ef3a4649-37e2-4159-a339-1957e540d110",
   "metadata": {},
   "outputs": [
    {
     "data": {
      "text/plain": [
       "0       a\n",
       "1       b\n",
       "2       c\n",
       "3       d\n",
       "4       e\n",
       "5       f\n",
       "6       g\n",
       "7       h\n",
       "8       i\n",
       "9       j\n",
       "10      k\n",
       "11      l\n",
       "12    NaN\n",
       "13    NaN\n",
       "Name: A, dtype: object"
      ]
     },
     "execution_count": 38,
     "metadata": {},
     "output_type": "execute_result"
    }
   ],
   "source": [
    "df['A']"
   ]
  },
  {
   "cell_type": "code",
   "execution_count": 39,
   "id": "79a77d5f-c739-440f-8821-7f7470f0c7da",
   "metadata": {},
   "outputs": [
    {
     "data": {
      "text/plain": [
       "array(['a', 'b', 'c', 'd', 'e', 'f', 'g', 'h', 'i', 'j', 'k', 'l', nan],\n",
       "      dtype=object)"
      ]
     },
     "execution_count": 39,
     "metadata": {},
     "output_type": "execute_result"
    }
   ],
   "source": [
    "df['A'].unique()"
   ]
  },
  {
   "cell_type": "code",
   "execution_count": 42,
   "id": "6015bf8f-faef-4b95-ab0a-97bb6ca99ca3",
   "metadata": {},
   "outputs": [
    {
     "data": {
      "text/plain": [
       "array(['a', 'b', 'c', 'd', 'e', 'f', 'g', 'h', 'i', 'j', 'k', 'l', nan],\n",
       "      dtype=object)"
      ]
     },
     "execution_count": 42,
     "metadata": {},
     "output_type": "execute_result"
    }
   ],
   "source": [
    "df.A.unique()"
   ]
  },
  {
   "cell_type": "code",
   "execution_count": 43,
   "id": "df0f713c-f496-434e-9a26-49b4399f9676",
   "metadata": {},
   "outputs": [
    {
     "data": {
      "text/plain": [
       "12"
      ]
     },
     "execution_count": 43,
     "metadata": {},
     "output_type": "execute_result"
    }
   ],
   "source": [
    "df.A.nunique()"
   ]
  },
  {
   "cell_type": "markdown",
   "id": "b89dace0-f031-4167-ac59-ff901badd5a0",
   "metadata": {},
   "source": [
    "Can apply summary methods like .mean() and .std() to any numeric column!"
   ]
  },
  {
   "cell_type": "code",
   "execution_count": 44,
   "id": "2916dfe0-7bd6-4b97-82fb-9c6d72aa7ae0",
   "metadata": {},
   "outputs": [
    {
     "data": {
      "text/plain": [
       "17.857142857142858"
      ]
     },
     "execution_count": 44,
     "metadata": {},
     "output_type": "execute_result"
    }
   ],
   "source": [
    "df.F.mean()"
   ]
  },
  {
   "cell_type": "code",
   "execution_count": 45,
   "id": "19677c56-129d-41d4-8806-fcee0105a8b1",
   "metadata": {},
   "outputs": [
    {
     "data": {
      "text/plain": [
       "8.92582375303981"
      ]
     },
     "execution_count": 45,
     "metadata": {},
     "output_type": "execute_result"
    }
   ],
   "source": [
    "df.F.std()"
   ]
  },
  {
   "cell_type": "code",
   "execution_count": 46,
   "id": "a7d28edf-5edd-4a9c-9347-247f6f12f3c6",
   "metadata": {},
   "outputs": [
    {
     "data": {
      "text/plain": [
       "17.857142857142858"
      ]
     },
     "execution_count": 46,
     "metadata": {},
     "output_type": "execute_result"
    }
   ],
   "source": [
    "df['F'].mean()"
   ]
  },
  {
   "cell_type": "code",
   "execution_count": 47,
   "id": "c59a7c6d-19ec-4cff-86d7-d0de666d6eb8",
   "metadata": {},
   "outputs": [
    {
     "data": {
      "text/plain": [
       "8.92582375303981"
      ]
     },
     "execution_count": 47,
     "metadata": {},
     "output_type": "execute_result"
    }
   ],
   "source": [
    "df['F'].std()"
   ]
  },
  {
   "cell_type": "markdown",
   "id": "1c4c2085-af58-4713-8419-cb1861d1f848",
   "metadata": {},
   "source": [
    "We can also calculated the STANDARD error on the mean (SEM)!!!"
   ]
  },
  {
   "cell_type": "code",
   "execution_count": 48,
   "id": "6b6b696d-31de-4de5-81f8-499378aa49c1",
   "metadata": {},
   "outputs": [
    {
     "data": {
      "text/plain": [
       "2.385526741328836"
      ]
     },
     "execution_count": 48,
     "metadata": {},
     "output_type": "execute_result"
    }
   ],
   "source": [
    "df.F.std()/np.sqrt(df.F.size)"
   ]
  },
  {
   "cell_type": "code",
   "execution_count": 49,
   "id": "ab4c5f8b-6659-4c3e-ac3e-ab529cb869fb",
   "metadata": {},
   "outputs": [
    {
     "data": {
      "text/plain": [
       "2.385526741328836"
      ]
     },
     "execution_count": 49,
     "metadata": {},
     "output_type": "execute_result"
    }
   ],
   "source": [
    "df.F.sem()"
   ]
  },
  {
   "cell_type": "code",
   "execution_count": null,
   "id": "69e7e268-6629-403c-9fe4-60e0f9e1dad7",
   "metadata": {},
   "outputs": [],
   "source": []
  },
  {
   "cell_type": "code",
   "execution_count": null,
   "id": "12025116-4fa8-4d4e-a237-a0a28a1de1ea",
   "metadata": {},
   "outputs": [],
   "source": []
  },
  {
   "cell_type": "code",
   "execution_count": null,
   "id": "04235de3-e36f-4b0e-b655-6eddb90d4d58",
   "metadata": {},
   "outputs": [],
   "source": []
  },
  {
   "cell_type": "code",
   "execution_count": null,
   "id": "24c98739-f14e-48b5-9f0a-18b97cc5425e",
   "metadata": {},
   "outputs": [],
   "source": []
  },
  {
   "cell_type": "code",
   "execution_count": null,
   "id": "eba0a239-7dc2-4323-a9ac-16445257a550",
   "metadata": {},
   "outputs": [],
   "source": []
  }
 ],
 "metadata": {
  "kernelspec": {
   "display_name": "Python 3 (ipykernel)",
   "language": "python",
   "name": "python3"
  },
  "language_info": {
   "codemirror_mode": {
    "name": "ipython",
    "version": 3
   },
   "file_extension": ".py",
   "mimetype": "text/x-python",
   "name": "python",
   "nbconvert_exporter": "python",
   "pygments_lexer": "ipython3",
   "version": "3.8.19"
  }
 },
 "nbformat": 4,
 "nbformat_minor": 5
}
