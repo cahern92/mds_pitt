{
 "cells": [
  {
   "cell_type": "markdown",
   "id": "e4ffbfac-30db-4960-ac94-e65863a9be37",
   "metadata": {},
   "source": [
    "## CMPINF 2100 Week 05\n",
    "### Filter Pandas with Strings\n",
    "## Import Modules"
   ]
  },
  {
   "cell_type": "code",
   "execution_count": 1,
   "id": "1da24998-126b-4867-a901-43dee9cf5082",
   "metadata": {},
   "outputs": [],
   "source": [
    "import numpy as np\n",
    "import pandas as pd"
   ]
  },
  {
   "cell_type": "markdown",
   "id": "3fdb5892-fbcc-4ccc-96d0-bff2c74ec3e8",
   "metadata": {},
   "source": [
    "## Review of DataFrames\n",
    "Let's create the baseball related DataFrame that we worked on last week."
   ]
  },
  {
   "cell_type": "code",
   "execution_count": 2,
   "id": "60f0121e-e07b-4734-a7e0-aef839f22789",
   "metadata": {},
   "outputs": [],
   "source": [
    "baseball_dict = {\"City\": [\"Pittsburgh\", \"Cincinatti\", \"Chicago\", \"St. Louis\", \"Milwaukee\"],\n",
    "                 \"Team\": [\"Pirates\", \"Reds\", \"Cubs\", \"Cardinals\", \"Brewers\"],\n",
    "                 \"Division\": 5*[\"Central\"],\n",
    "                 \"League\": 5*[\"NL\"]}"
   ]
  },
  {
   "cell_type": "code",
   "execution_count": 8,
   "id": "76d76734-9487-457f-8e90-6dfba113dd74",
   "metadata": {},
   "outputs": [],
   "source": [
    "baseball_df = pd.DataFrame(baseball_dict,\n",
    "                           columns = ['League', 'Division', 'City', 'Team'])"
   ]
  },
  {
   "cell_type": "code",
   "execution_count": 9,
   "id": "5655f53a-55cd-4661-8b22-dce97e3f53fa",
   "metadata": {},
   "outputs": [
    {
     "data": {
      "text/html": [
       "<div>\n",
       "<style scoped>\n",
       "    .dataframe tbody tr th:only-of-type {\n",
       "        vertical-align: middle;\n",
       "    }\n",
       "\n",
       "    .dataframe tbody tr th {\n",
       "        vertical-align: top;\n",
       "    }\n",
       "\n",
       "    .dataframe thead th {\n",
       "        text-align: right;\n",
       "    }\n",
       "</style>\n",
       "<table border=\"1\" class=\"dataframe\">\n",
       "  <thead>\n",
       "    <tr style=\"text-align: right;\">\n",
       "      <th></th>\n",
       "      <th>League</th>\n",
       "      <th>Division</th>\n",
       "      <th>City</th>\n",
       "      <th>Team</th>\n",
       "    </tr>\n",
       "  </thead>\n",
       "  <tbody>\n",
       "    <tr>\n",
       "      <th>0</th>\n",
       "      <td>NL</td>\n",
       "      <td>Central</td>\n",
       "      <td>Pittsburgh</td>\n",
       "      <td>Pirates</td>\n",
       "    </tr>\n",
       "    <tr>\n",
       "      <th>1</th>\n",
       "      <td>NL</td>\n",
       "      <td>Central</td>\n",
       "      <td>Cincinatti</td>\n",
       "      <td>Reds</td>\n",
       "    </tr>\n",
       "    <tr>\n",
       "      <th>2</th>\n",
       "      <td>NL</td>\n",
       "      <td>Central</td>\n",
       "      <td>Chicago</td>\n",
       "      <td>Cubs</td>\n",
       "    </tr>\n",
       "    <tr>\n",
       "      <th>3</th>\n",
       "      <td>NL</td>\n",
       "      <td>Central</td>\n",
       "      <td>St. Louis</td>\n",
       "      <td>Cardinals</td>\n",
       "    </tr>\n",
       "    <tr>\n",
       "      <th>4</th>\n",
       "      <td>NL</td>\n",
       "      <td>Central</td>\n",
       "      <td>Milwaukee</td>\n",
       "      <td>Brewers</td>\n",
       "    </tr>\n",
       "  </tbody>\n",
       "</table>\n",
       "</div>"
      ],
      "text/plain": [
       "  League Division        City       Team\n",
       "0     NL  Central  Pittsburgh    Pirates\n",
       "1     NL  Central  Cincinatti       Reds\n",
       "2     NL  Central     Chicago       Cubs\n",
       "3     NL  Central   St. Louis  Cardinals\n",
       "4     NL  Central   Milwaukee    Brewers"
      ]
     },
     "execution_count": 9,
     "metadata": {},
     "output_type": "execute_result"
    }
   ],
   "source": [
    "baseball_df"
   ]
  },
  {
   "cell_type": "markdown",
   "id": "8661b27f-18ba-45de-84a5-6f0dc9b5e052",
   "metadata": {},
   "source": [
    "Add a column for the number of games back."
   ]
  },
  {
   "cell_type": "code",
   "execution_count": 13,
   "id": "3fbef4ef-e021-4224-a3e0-49b1da7051c5",
   "metadata": {},
   "outputs": [],
   "source": [
    "baseball_df['games_back'] = pd.Series([31.5, 27.5, 22.5, 0, 7.5], \n",
    "                                      index = baseball_df.index)"
   ]
  },
  {
   "cell_type": "code",
   "execution_count": 14,
   "id": "cdf0fd3a-aac2-4450-a786-bf42797f87ae",
   "metadata": {},
   "outputs": [
    {
     "data": {
      "text/html": [
       "<div>\n",
       "<style scoped>\n",
       "    .dataframe tbody tr th:only-of-type {\n",
       "        vertical-align: middle;\n",
       "    }\n",
       "\n",
       "    .dataframe tbody tr th {\n",
       "        vertical-align: top;\n",
       "    }\n",
       "\n",
       "    .dataframe thead th {\n",
       "        text-align: right;\n",
       "    }\n",
       "</style>\n",
       "<table border=\"1\" class=\"dataframe\">\n",
       "  <thead>\n",
       "    <tr style=\"text-align: right;\">\n",
       "      <th></th>\n",
       "      <th>League</th>\n",
       "      <th>Division</th>\n",
       "      <th>City</th>\n",
       "      <th>Team</th>\n",
       "      <th>games_back</th>\n",
       "    </tr>\n",
       "  </thead>\n",
       "  <tbody>\n",
       "    <tr>\n",
       "      <th>0</th>\n",
       "      <td>NL</td>\n",
       "      <td>Central</td>\n",
       "      <td>Pittsburgh</td>\n",
       "      <td>Pirates</td>\n",
       "      <td>31.5</td>\n",
       "    </tr>\n",
       "    <tr>\n",
       "      <th>1</th>\n",
       "      <td>NL</td>\n",
       "      <td>Central</td>\n",
       "      <td>Cincinatti</td>\n",
       "      <td>Reds</td>\n",
       "      <td>27.5</td>\n",
       "    </tr>\n",
       "    <tr>\n",
       "      <th>2</th>\n",
       "      <td>NL</td>\n",
       "      <td>Central</td>\n",
       "      <td>Chicago</td>\n",
       "      <td>Cubs</td>\n",
       "      <td>22.5</td>\n",
       "    </tr>\n",
       "    <tr>\n",
       "      <th>3</th>\n",
       "      <td>NL</td>\n",
       "      <td>Central</td>\n",
       "      <td>St. Louis</td>\n",
       "      <td>Cardinals</td>\n",
       "      <td>0.0</td>\n",
       "    </tr>\n",
       "    <tr>\n",
       "      <th>4</th>\n",
       "      <td>NL</td>\n",
       "      <td>Central</td>\n",
       "      <td>Milwaukee</td>\n",
       "      <td>Brewers</td>\n",
       "      <td>7.5</td>\n",
       "    </tr>\n",
       "  </tbody>\n",
       "</table>\n",
       "</div>"
      ],
      "text/plain": [
       "  League Division        City       Team  games_back\n",
       "0     NL  Central  Pittsburgh    Pirates        31.5\n",
       "1     NL  Central  Cincinatti       Reds        27.5\n",
       "2     NL  Central     Chicago       Cubs        22.5\n",
       "3     NL  Central   St. Louis  Cardinals         0.0\n",
       "4     NL  Central   Milwaukee    Brewers         7.5"
      ]
     },
     "execution_count": 14,
     "metadata": {},
     "output_type": "execute_result"
    }
   ],
   "source": [
    "baseball_df"
   ]
  },
  {
   "cell_type": "markdown",
   "id": "76c3b79c-797d-4722-8646-5b52ea0efe0f",
   "metadata": {},
   "source": [
    "Sort by the `games_back` column. Ignore the index, and modify in place!"
   ]
  },
  {
   "cell_type": "code",
   "execution_count": 15,
   "id": "9f173363-6e8f-4968-93cb-f13c17f4d366",
   "metadata": {},
   "outputs": [],
   "source": [
    "baseball_df.sort_values(['games_back'], inplace=True)"
   ]
  },
  {
   "cell_type": "code",
   "execution_count": 16,
   "id": "e626f637-7f56-4e15-8bbc-bd9300276035",
   "metadata": {},
   "outputs": [
    {
     "data": {
      "text/html": [
       "<div>\n",
       "<style scoped>\n",
       "    .dataframe tbody tr th:only-of-type {\n",
       "        vertical-align: middle;\n",
       "    }\n",
       "\n",
       "    .dataframe tbody tr th {\n",
       "        vertical-align: top;\n",
       "    }\n",
       "\n",
       "    .dataframe thead th {\n",
       "        text-align: right;\n",
       "    }\n",
       "</style>\n",
       "<table border=\"1\" class=\"dataframe\">\n",
       "  <thead>\n",
       "    <tr style=\"text-align: right;\">\n",
       "      <th></th>\n",
       "      <th>League</th>\n",
       "      <th>Division</th>\n",
       "      <th>City</th>\n",
       "      <th>Team</th>\n",
       "      <th>games_back</th>\n",
       "    </tr>\n",
       "  </thead>\n",
       "  <tbody>\n",
       "    <tr>\n",
       "      <th>3</th>\n",
       "      <td>NL</td>\n",
       "      <td>Central</td>\n",
       "      <td>St. Louis</td>\n",
       "      <td>Cardinals</td>\n",
       "      <td>0.0</td>\n",
       "    </tr>\n",
       "    <tr>\n",
       "      <th>4</th>\n",
       "      <td>NL</td>\n",
       "      <td>Central</td>\n",
       "      <td>Milwaukee</td>\n",
       "      <td>Brewers</td>\n",
       "      <td>7.5</td>\n",
       "    </tr>\n",
       "    <tr>\n",
       "      <th>2</th>\n",
       "      <td>NL</td>\n",
       "      <td>Central</td>\n",
       "      <td>Chicago</td>\n",
       "      <td>Cubs</td>\n",
       "      <td>22.5</td>\n",
       "    </tr>\n",
       "    <tr>\n",
       "      <th>1</th>\n",
       "      <td>NL</td>\n",
       "      <td>Central</td>\n",
       "      <td>Cincinatti</td>\n",
       "      <td>Reds</td>\n",
       "      <td>27.5</td>\n",
       "    </tr>\n",
       "    <tr>\n",
       "      <th>0</th>\n",
       "      <td>NL</td>\n",
       "      <td>Central</td>\n",
       "      <td>Pittsburgh</td>\n",
       "      <td>Pirates</td>\n",
       "      <td>31.5</td>\n",
       "    </tr>\n",
       "  </tbody>\n",
       "</table>\n",
       "</div>"
      ],
      "text/plain": [
       "  League Division        City       Team  games_back\n",
       "3     NL  Central   St. Louis  Cardinals         0.0\n",
       "4     NL  Central   Milwaukee    Brewers         7.5\n",
       "2     NL  Central     Chicago       Cubs        22.5\n",
       "1     NL  Central  Cincinatti       Reds        27.5\n",
       "0     NL  Central  Pittsburgh    Pirates        31.5"
      ]
     },
     "execution_count": 16,
     "metadata": {},
     "output_type": "execute_result"
    }
   ],
   "source": [
    "baseball_df"
   ]
  },
  {
   "cell_type": "markdown",
   "id": "46a754cb-0981-4375-990d-d75eff2251cd",
   "metadata": {},
   "source": [
    "Add two more columns that have values which change down the rows."
   ]
  },
  {
   "cell_type": "code",
   "execution_count": 17,
   "id": "8e15163a-99a9-42cc-a852-2c62f01c9bf9",
   "metadata": {},
   "outputs": [],
   "source": [
    "baseball_df['wins'] = pd.Series([87, 79, 64, 59, 55],\n",
    "                                index=baseball_df.index)"
   ]
  },
  {
   "cell_type": "code",
   "execution_count": 18,
   "id": "b0bdb3ac-d8ac-47ad-a1d9-e229debf5846",
   "metadata": {},
   "outputs": [],
   "source": [
    "baseball_df['losses'] = pd.Series([63, 70, 85, 90, 94],\n",
    "                                index=baseball_df.index)"
   ]
  },
  {
   "cell_type": "code",
   "execution_count": 19,
   "id": "2b4a01b2-e99e-46d6-9047-4ba155f8f40e",
   "metadata": {},
   "outputs": [
    {
     "data": {
      "text/html": [
       "<div>\n",
       "<style scoped>\n",
       "    .dataframe tbody tr th:only-of-type {\n",
       "        vertical-align: middle;\n",
       "    }\n",
       "\n",
       "    .dataframe tbody tr th {\n",
       "        vertical-align: top;\n",
       "    }\n",
       "\n",
       "    .dataframe thead th {\n",
       "        text-align: right;\n",
       "    }\n",
       "</style>\n",
       "<table border=\"1\" class=\"dataframe\">\n",
       "  <thead>\n",
       "    <tr style=\"text-align: right;\">\n",
       "      <th></th>\n",
       "      <th>League</th>\n",
       "      <th>Division</th>\n",
       "      <th>City</th>\n",
       "      <th>Team</th>\n",
       "      <th>games_back</th>\n",
       "      <th>wins</th>\n",
       "      <th>losses</th>\n",
       "    </tr>\n",
       "  </thead>\n",
       "  <tbody>\n",
       "    <tr>\n",
       "      <th>3</th>\n",
       "      <td>NL</td>\n",
       "      <td>Central</td>\n",
       "      <td>St. Louis</td>\n",
       "      <td>Cardinals</td>\n",
       "      <td>0.0</td>\n",
       "      <td>87</td>\n",
       "      <td>63</td>\n",
       "    </tr>\n",
       "    <tr>\n",
       "      <th>4</th>\n",
       "      <td>NL</td>\n",
       "      <td>Central</td>\n",
       "      <td>Milwaukee</td>\n",
       "      <td>Brewers</td>\n",
       "      <td>7.5</td>\n",
       "      <td>79</td>\n",
       "      <td>70</td>\n",
       "    </tr>\n",
       "    <tr>\n",
       "      <th>2</th>\n",
       "      <td>NL</td>\n",
       "      <td>Central</td>\n",
       "      <td>Chicago</td>\n",
       "      <td>Cubs</td>\n",
       "      <td>22.5</td>\n",
       "      <td>64</td>\n",
       "      <td>85</td>\n",
       "    </tr>\n",
       "    <tr>\n",
       "      <th>1</th>\n",
       "      <td>NL</td>\n",
       "      <td>Central</td>\n",
       "      <td>Cincinatti</td>\n",
       "      <td>Reds</td>\n",
       "      <td>27.5</td>\n",
       "      <td>59</td>\n",
       "      <td>90</td>\n",
       "    </tr>\n",
       "    <tr>\n",
       "      <th>0</th>\n",
       "      <td>NL</td>\n",
       "      <td>Central</td>\n",
       "      <td>Pittsburgh</td>\n",
       "      <td>Pirates</td>\n",
       "      <td>31.5</td>\n",
       "      <td>55</td>\n",
       "      <td>94</td>\n",
       "    </tr>\n",
       "  </tbody>\n",
       "</table>\n",
       "</div>"
      ],
      "text/plain": [
       "  League Division        City       Team  games_back  wins  losses\n",
       "3     NL  Central   St. Louis  Cardinals         0.0    87      63\n",
       "4     NL  Central   Milwaukee    Brewers         7.5    79      70\n",
       "2     NL  Central     Chicago       Cubs        22.5    64      85\n",
       "1     NL  Central  Cincinatti       Reds        27.5    59      90\n",
       "0     NL  Central  Pittsburgh    Pirates        31.5    55      94"
      ]
     },
     "execution_count": 19,
     "metadata": {},
     "output_type": "execute_result"
    }
   ],
   "source": [
    "baseball_df"
   ]
  },
  {
   "cell_type": "markdown",
   "id": "58479b5d-394e-46c3-a109-45f660b1bfd3",
   "metadata": {},
   "source": [
    "Lastly, add a column with a constant value down all rows"
   ]
  },
  {
   "cell_type": "code",
   "execution_count": 20,
   "id": "4e44c186-4a5d-4eb9-9909-977139b2a71d",
   "metadata": {},
   "outputs": [],
   "source": [
    "baseball_df['season'] = 2022"
   ]
  },
  {
   "cell_type": "code",
   "execution_count": 21,
   "id": "d815e861-c42c-486c-a066-9e71ae23358d",
   "metadata": {},
   "outputs": [
    {
     "data": {
      "text/html": [
       "<div>\n",
       "<style scoped>\n",
       "    .dataframe tbody tr th:only-of-type {\n",
       "        vertical-align: middle;\n",
       "    }\n",
       "\n",
       "    .dataframe tbody tr th {\n",
       "        vertical-align: top;\n",
       "    }\n",
       "\n",
       "    .dataframe thead th {\n",
       "        text-align: right;\n",
       "    }\n",
       "</style>\n",
       "<table border=\"1\" class=\"dataframe\">\n",
       "  <thead>\n",
       "    <tr style=\"text-align: right;\">\n",
       "      <th></th>\n",
       "      <th>League</th>\n",
       "      <th>Division</th>\n",
       "      <th>City</th>\n",
       "      <th>Team</th>\n",
       "      <th>games_back</th>\n",
       "      <th>wins</th>\n",
       "      <th>losses</th>\n",
       "      <th>season</th>\n",
       "    </tr>\n",
       "  </thead>\n",
       "  <tbody>\n",
       "    <tr>\n",
       "      <th>3</th>\n",
       "      <td>NL</td>\n",
       "      <td>Central</td>\n",
       "      <td>St. Louis</td>\n",
       "      <td>Cardinals</td>\n",
       "      <td>0.0</td>\n",
       "      <td>87</td>\n",
       "      <td>63</td>\n",
       "      <td>2022</td>\n",
       "    </tr>\n",
       "    <tr>\n",
       "      <th>4</th>\n",
       "      <td>NL</td>\n",
       "      <td>Central</td>\n",
       "      <td>Milwaukee</td>\n",
       "      <td>Brewers</td>\n",
       "      <td>7.5</td>\n",
       "      <td>79</td>\n",
       "      <td>70</td>\n",
       "      <td>2022</td>\n",
       "    </tr>\n",
       "    <tr>\n",
       "      <th>2</th>\n",
       "      <td>NL</td>\n",
       "      <td>Central</td>\n",
       "      <td>Chicago</td>\n",
       "      <td>Cubs</td>\n",
       "      <td>22.5</td>\n",
       "      <td>64</td>\n",
       "      <td>85</td>\n",
       "      <td>2022</td>\n",
       "    </tr>\n",
       "    <tr>\n",
       "      <th>1</th>\n",
       "      <td>NL</td>\n",
       "      <td>Central</td>\n",
       "      <td>Cincinatti</td>\n",
       "      <td>Reds</td>\n",
       "      <td>27.5</td>\n",
       "      <td>59</td>\n",
       "      <td>90</td>\n",
       "      <td>2022</td>\n",
       "    </tr>\n",
       "    <tr>\n",
       "      <th>0</th>\n",
       "      <td>NL</td>\n",
       "      <td>Central</td>\n",
       "      <td>Pittsburgh</td>\n",
       "      <td>Pirates</td>\n",
       "      <td>31.5</td>\n",
       "      <td>55</td>\n",
       "      <td>94</td>\n",
       "      <td>2022</td>\n",
       "    </tr>\n",
       "  </tbody>\n",
       "</table>\n",
       "</div>"
      ],
      "text/plain": [
       "  League Division        City       Team  games_back  wins  losses  season\n",
       "3     NL  Central   St. Louis  Cardinals         0.0    87      63    2022\n",
       "4     NL  Central   Milwaukee    Brewers         7.5    79      70    2022\n",
       "2     NL  Central     Chicago       Cubs        22.5    64      85    2022\n",
       "1     NL  Central  Cincinatti       Reds        27.5    59      90    2022\n",
       "0     NL  Central  Pittsburgh    Pirates        31.5    55      94    2022"
      ]
     },
     "execution_count": 21,
     "metadata": {},
     "output_type": "execute_result"
    }
   ],
   "source": [
    "baseball_df"
   ]
  },
  {
   "cell_type": "markdown",
   "id": "223d2c33-bb26-4041-a8b5-68cb5d1e5521",
   "metadata": {},
   "source": [
    "## Filter rows\n",
    "Filtering rows refers to SELCTING rows based on CONDITIONAL TESTS!"
   ]
  },
  {
   "cell_type": "code",
   "execution_count": 24,
   "id": "3143246e-9c89-4244-9633-1b9a1956b027",
   "metadata": {},
   "outputs": [
    {
     "data": {
      "text/html": [
       "<div>\n",
       "<style scoped>\n",
       "    .dataframe tbody tr th:only-of-type {\n",
       "        vertical-align: middle;\n",
       "    }\n",
       "\n",
       "    .dataframe tbody tr th {\n",
       "        vertical-align: top;\n",
       "    }\n",
       "\n",
       "    .dataframe thead th {\n",
       "        text-align: right;\n",
       "    }\n",
       "</style>\n",
       "<table border=\"1\" class=\"dataframe\">\n",
       "  <thead>\n",
       "    <tr style=\"text-align: right;\">\n",
       "      <th></th>\n",
       "      <th>League</th>\n",
       "      <th>Division</th>\n",
       "      <th>City</th>\n",
       "      <th>Team</th>\n",
       "      <th>games_back</th>\n",
       "      <th>wins</th>\n",
       "      <th>losses</th>\n",
       "      <th>season</th>\n",
       "    </tr>\n",
       "  </thead>\n",
       "  <tbody>\n",
       "    <tr>\n",
       "      <th>3</th>\n",
       "      <td>NL</td>\n",
       "      <td>Central</td>\n",
       "      <td>St. Louis</td>\n",
       "      <td>Cardinals</td>\n",
       "      <td>0.0</td>\n",
       "      <td>87</td>\n",
       "      <td>63</td>\n",
       "      <td>2022</td>\n",
       "    </tr>\n",
       "    <tr>\n",
       "      <th>4</th>\n",
       "      <td>NL</td>\n",
       "      <td>Central</td>\n",
       "      <td>Milwaukee</td>\n",
       "      <td>Brewers</td>\n",
       "      <td>7.5</td>\n",
       "      <td>79</td>\n",
       "      <td>70</td>\n",
       "      <td>2022</td>\n",
       "    </tr>\n",
       "  </tbody>\n",
       "</table>\n",
       "</div>"
      ],
      "text/plain": [
       "  League Division       City       Team  games_back  wins  losses  season\n",
       "3     NL  Central  St. Louis  Cardinals         0.0    87      63    2022\n",
       "4     NL  Central  Milwaukee    Brewers         7.5    79      70    2022"
      ]
     },
     "execution_count": 24,
     "metadata": {},
     "output_type": "execute_result"
    }
   ],
   "source": [
    "baseball_df.loc[baseball_df['wins'] > 65, :]"
   ]
  },
  {
   "cell_type": "code",
   "execution_count": 25,
   "id": "3abbbfec-7ba3-4731-9a2f-e43e83aad80a",
   "metadata": {},
   "outputs": [
    {
     "data": {
      "text/html": [
       "<div>\n",
       "<style scoped>\n",
       "    .dataframe tbody tr th:only-of-type {\n",
       "        vertical-align: middle;\n",
       "    }\n",
       "\n",
       "    .dataframe tbody tr th {\n",
       "        vertical-align: top;\n",
       "    }\n",
       "\n",
       "    .dataframe thead th {\n",
       "        text-align: right;\n",
       "    }\n",
       "</style>\n",
       "<table border=\"1\" class=\"dataframe\">\n",
       "  <thead>\n",
       "    <tr style=\"text-align: right;\">\n",
       "      <th></th>\n",
       "      <th>League</th>\n",
       "      <th>Division</th>\n",
       "      <th>City</th>\n",
       "      <th>Team</th>\n",
       "      <th>games_back</th>\n",
       "      <th>wins</th>\n",
       "      <th>losses</th>\n",
       "      <th>season</th>\n",
       "    </tr>\n",
       "  </thead>\n",
       "  <tbody>\n",
       "    <tr>\n",
       "      <th>0</th>\n",
       "      <td>NL</td>\n",
       "      <td>Central</td>\n",
       "      <td>Pittsburgh</td>\n",
       "      <td>Pirates</td>\n",
       "      <td>31.5</td>\n",
       "      <td>55</td>\n",
       "      <td>94</td>\n",
       "      <td>2022</td>\n",
       "    </tr>\n",
       "  </tbody>\n",
       "</table>\n",
       "</div>"
      ],
      "text/plain": [
       "  League Division        City     Team  games_back  wins  losses  season\n",
       "0     NL  Central  Pittsburgh  Pirates        31.5    55      94    2022"
      ]
     },
     "execution_count": 25,
     "metadata": {},
     "output_type": "execute_result"
    }
   ],
   "source": [
    "baseball_df.loc[baseball_df['Team'] == 'Pirates', :]"
   ]
  },
  {
   "cell_type": "markdown",
   "id": "87dffba2-89f7-490f-a67e-67ed51269fe4",
   "metadata": {},
   "source": [
    "We also saw how to use the OR operator, `|`, to find all the rows where the value equals A or B.\n",
    "\n",
    "Or, the value is ONE OF those presented."
   ]
  },
  {
   "cell_type": "code",
   "execution_count": 26,
   "id": "b7468ed4-bb2e-4eaf-b52c-010544b9d669",
   "metadata": {},
   "outputs": [
    {
     "data": {
      "text/html": [
       "<div>\n",
       "<style scoped>\n",
       "    .dataframe tbody tr th:only-of-type {\n",
       "        vertical-align: middle;\n",
       "    }\n",
       "\n",
       "    .dataframe tbody tr th {\n",
       "        vertical-align: top;\n",
       "    }\n",
       "\n",
       "    .dataframe thead th {\n",
       "        text-align: right;\n",
       "    }\n",
       "</style>\n",
       "<table border=\"1\" class=\"dataframe\">\n",
       "  <thead>\n",
       "    <tr style=\"text-align: right;\">\n",
       "      <th></th>\n",
       "      <th>League</th>\n",
       "      <th>Division</th>\n",
       "      <th>City</th>\n",
       "      <th>Team</th>\n",
       "      <th>games_back</th>\n",
       "      <th>wins</th>\n",
       "      <th>losses</th>\n",
       "      <th>season</th>\n",
       "    </tr>\n",
       "  </thead>\n",
       "  <tbody>\n",
       "    <tr>\n",
       "      <th>3</th>\n",
       "      <td>NL</td>\n",
       "      <td>Central</td>\n",
       "      <td>St. Louis</td>\n",
       "      <td>Cardinals</td>\n",
       "      <td>0.0</td>\n",
       "      <td>87</td>\n",
       "      <td>63</td>\n",
       "      <td>2022</td>\n",
       "    </tr>\n",
       "    <tr>\n",
       "      <th>4</th>\n",
       "      <td>NL</td>\n",
       "      <td>Central</td>\n",
       "      <td>Milwaukee</td>\n",
       "      <td>Brewers</td>\n",
       "      <td>7.5</td>\n",
       "      <td>79</td>\n",
       "      <td>70</td>\n",
       "      <td>2022</td>\n",
       "    </tr>\n",
       "  </tbody>\n",
       "</table>\n",
       "</div>"
      ],
      "text/plain": [
       "  League Division       City       Team  games_back  wins  losses  season\n",
       "3     NL  Central  St. Louis  Cardinals         0.0    87      63    2022\n",
       "4     NL  Central  Milwaukee    Brewers         7.5    79      70    2022"
      ]
     },
     "execution_count": 26,
     "metadata": {},
     "output_type": "execute_result"
    }
   ],
   "source": [
    "baseball_df.loc[(baseball_df['Team'] == 'Cardinals') | (baseball_df['Team'] == 'Brewers'), :]"
   ]
  },
  {
   "cell_type": "markdown",
   "id": "fd6e1856-b7d2-4696-911b-68ed304f9bc6",
   "metadata": {},
   "source": [
    "The `==` operator combined with the `|` operator is correct to use, but it does not SCALE well!!\n",
    "\n",
    "For example, if we need to check for 10 possible values, we would need to type in 10 different conditions!!\n",
    "\n",
    "Instead, we can ues the `.isin()` method to streamline the `|` operator!"
   ]
  },
  {
   "cell_type": "code",
   "execution_count": 30,
   "id": "4b35def5-6e07-4296-be01-12e70a1bfe1f",
   "metadata": {},
   "outputs": [
    {
     "data": {
      "text/html": [
       "<div>\n",
       "<style scoped>\n",
       "    .dataframe tbody tr th:only-of-type {\n",
       "        vertical-align: middle;\n",
       "    }\n",
       "\n",
       "    .dataframe tbody tr th {\n",
       "        vertical-align: top;\n",
       "    }\n",
       "\n",
       "    .dataframe thead th {\n",
       "        text-align: right;\n",
       "    }\n",
       "</style>\n",
       "<table border=\"1\" class=\"dataframe\">\n",
       "  <thead>\n",
       "    <tr style=\"text-align: right;\">\n",
       "      <th></th>\n",
       "      <th>League</th>\n",
       "      <th>Division</th>\n",
       "      <th>City</th>\n",
       "      <th>Team</th>\n",
       "      <th>games_back</th>\n",
       "      <th>wins</th>\n",
       "      <th>losses</th>\n",
       "      <th>season</th>\n",
       "    </tr>\n",
       "  </thead>\n",
       "  <tbody>\n",
       "    <tr>\n",
       "      <th>3</th>\n",
       "      <td>NL</td>\n",
       "      <td>Central</td>\n",
       "      <td>St. Louis</td>\n",
       "      <td>Cardinals</td>\n",
       "      <td>0.0</td>\n",
       "      <td>87</td>\n",
       "      <td>63</td>\n",
       "      <td>2022</td>\n",
       "    </tr>\n",
       "    <tr>\n",
       "      <th>4</th>\n",
       "      <td>NL</td>\n",
       "      <td>Central</td>\n",
       "      <td>Milwaukee</td>\n",
       "      <td>Brewers</td>\n",
       "      <td>7.5</td>\n",
       "      <td>79</td>\n",
       "      <td>70</td>\n",
       "      <td>2022</td>\n",
       "    </tr>\n",
       "  </tbody>\n",
       "</table>\n",
       "</div>"
      ],
      "text/plain": [
       "  League Division       City       Team  games_back  wins  losses  season\n",
       "3     NL  Central  St. Louis  Cardinals         0.0    87      63    2022\n",
       "4     NL  Central  Milwaukee    Brewers         7.5    79      70    2022"
      ]
     },
     "execution_count": 30,
     "metadata": {},
     "output_type": "execute_result"
    }
   ],
   "source": [
    "baseball_df.loc[baseball_df['Team'].isin(['Cardinals', 'Brewers']), :]"
   ]
  },
  {
   "cell_type": "code",
   "execution_count": 32,
   "id": "660da39d-0695-4f1a-9dc7-7a6d49d0160e",
   "metadata": {},
   "outputs": [
    {
     "data": {
      "text/html": [
       "<div>\n",
       "<style scoped>\n",
       "    .dataframe tbody tr th:only-of-type {\n",
       "        vertical-align: middle;\n",
       "    }\n",
       "\n",
       "    .dataframe tbody tr th {\n",
       "        vertical-align: top;\n",
       "    }\n",
       "\n",
       "    .dataframe thead th {\n",
       "        text-align: right;\n",
       "    }\n",
       "</style>\n",
       "<table border=\"1\" class=\"dataframe\">\n",
       "  <thead>\n",
       "    <tr style=\"text-align: right;\">\n",
       "      <th></th>\n",
       "      <th>League</th>\n",
       "      <th>Division</th>\n",
       "      <th>City</th>\n",
       "      <th>Team</th>\n",
       "      <th>games_back</th>\n",
       "      <th>wins</th>\n",
       "      <th>losses</th>\n",
       "      <th>season</th>\n",
       "    </tr>\n",
       "  </thead>\n",
       "  <tbody>\n",
       "    <tr>\n",
       "      <th>3</th>\n",
       "      <td>NL</td>\n",
       "      <td>Central</td>\n",
       "      <td>St. Louis</td>\n",
       "      <td>Cardinals</td>\n",
       "      <td>0.0</td>\n",
       "      <td>87</td>\n",
       "      <td>63</td>\n",
       "      <td>2022</td>\n",
       "    </tr>\n",
       "    <tr>\n",
       "      <th>4</th>\n",
       "      <td>NL</td>\n",
       "      <td>Central</td>\n",
       "      <td>Milwaukee</td>\n",
       "      <td>Brewers</td>\n",
       "      <td>7.5</td>\n",
       "      <td>79</td>\n",
       "      <td>70</td>\n",
       "      <td>2022</td>\n",
       "    </tr>\n",
       "    <tr>\n",
       "      <th>0</th>\n",
       "      <td>NL</td>\n",
       "      <td>Central</td>\n",
       "      <td>Pittsburgh</td>\n",
       "      <td>Pirates</td>\n",
       "      <td>31.5</td>\n",
       "      <td>55</td>\n",
       "      <td>94</td>\n",
       "      <td>2022</td>\n",
       "    </tr>\n",
       "  </tbody>\n",
       "</table>\n",
       "</div>"
      ],
      "text/plain": [
       "  League Division        City       Team  games_back  wins  losses  season\n",
       "3     NL  Central   St. Louis  Cardinals         0.0    87      63    2022\n",
       "4     NL  Central   Milwaukee    Brewers         7.5    79      70    2022\n",
       "0     NL  Central  Pittsburgh    Pirates        31.5    55      94    2022"
      ]
     },
     "execution_count": 32,
     "metadata": {},
     "output_type": "execute_result"
    }
   ],
   "source": [
    "baseball_df.loc[baseball_df['Team'].isin(['Cardinals', 'Brewers', 'Pirates']), :]"
   ]
  },
  {
   "cell_type": "markdown",
   "id": "939aca7e-eff7-4155-80dc-25b13e2aa3fc",
   "metadata": {},
   "source": [
    "The `isin()` method can also be applied to numbers."
   ]
  },
  {
   "cell_type": "code",
   "execution_count": 34,
   "id": "3b1597f0-51c4-408e-bafc-75e8add20b48",
   "metadata": {},
   "outputs": [
    {
     "data": {
      "text/html": [
       "<div>\n",
       "<style scoped>\n",
       "    .dataframe tbody tr th:only-of-type {\n",
       "        vertical-align: middle;\n",
       "    }\n",
       "\n",
       "    .dataframe tbody tr th {\n",
       "        vertical-align: top;\n",
       "    }\n",
       "\n",
       "    .dataframe thead th {\n",
       "        text-align: right;\n",
       "    }\n",
       "</style>\n",
       "<table border=\"1\" class=\"dataframe\">\n",
       "  <thead>\n",
       "    <tr style=\"text-align: right;\">\n",
       "      <th></th>\n",
       "      <th>League</th>\n",
       "      <th>Division</th>\n",
       "      <th>City</th>\n",
       "      <th>Team</th>\n",
       "      <th>games_back</th>\n",
       "      <th>wins</th>\n",
       "      <th>losses</th>\n",
       "      <th>season</th>\n",
       "    </tr>\n",
       "  </thead>\n",
       "  <tbody>\n",
       "    <tr>\n",
       "      <th>4</th>\n",
       "      <td>NL</td>\n",
       "      <td>Central</td>\n",
       "      <td>Milwaukee</td>\n",
       "      <td>Brewers</td>\n",
       "      <td>7.5</td>\n",
       "      <td>79</td>\n",
       "      <td>70</td>\n",
       "      <td>2022</td>\n",
       "    </tr>\n",
       "    <tr>\n",
       "      <th>1</th>\n",
       "      <td>NL</td>\n",
       "      <td>Central</td>\n",
       "      <td>Cincinatti</td>\n",
       "      <td>Reds</td>\n",
       "      <td>27.5</td>\n",
       "      <td>59</td>\n",
       "      <td>90</td>\n",
       "      <td>2022</td>\n",
       "    </tr>\n",
       "  </tbody>\n",
       "</table>\n",
       "</div>"
      ],
      "text/plain": [
       "  League Division        City     Team  games_back  wins  losses  season\n",
       "4     NL  Central   Milwaukee  Brewers         7.5    79      70    2022\n",
       "1     NL  Central  Cincinatti     Reds        27.5    59      90    2022"
      ]
     },
     "execution_count": 34,
     "metadata": {},
     "output_type": "execute_result"
    }
   ],
   "source": [
    "baseball_df.loc[baseball_df['losses'].isin([70, 90]), :]"
   ]
  },
  {
   "cell_type": "markdown",
   "id": "3c4eb0ed-6c38-40c3-b6b3-c5302fe1e848",
   "metadata": {},
   "source": [
    "The `isin()` operator is especially for string filtering!"
   ]
  },
  {
   "cell_type": "code",
   "execution_count": 35,
   "id": "57c3a25f-c633-4834-9c43-7816d80f8f08",
   "metadata": {},
   "outputs": [],
   "source": [
    "top_teams = baseball_df.loc[baseball_df['games_back'] < 10, 'Team'].copy().tolist()"
   ]
  },
  {
   "cell_type": "code",
   "execution_count": 36,
   "id": "fb2a868b-cbf7-4c85-8673-8e801cc49c01",
   "metadata": {},
   "outputs": [
    {
     "data": {
      "text/plain": [
       "['Cardinals', 'Brewers']"
      ]
     },
     "execution_count": 36,
     "metadata": {},
     "output_type": "execute_result"
    }
   ],
   "source": [
    "top_teams"
   ]
  },
  {
   "cell_type": "code",
   "execution_count": 37,
   "id": "e0f616cd-2c8c-44a1-bb1f-4ab5be512e52",
   "metadata": {},
   "outputs": [
    {
     "data": {
      "text/html": [
       "<div>\n",
       "<style scoped>\n",
       "    .dataframe tbody tr th:only-of-type {\n",
       "        vertical-align: middle;\n",
       "    }\n",
       "\n",
       "    .dataframe tbody tr th {\n",
       "        vertical-align: top;\n",
       "    }\n",
       "\n",
       "    .dataframe thead th {\n",
       "        text-align: right;\n",
       "    }\n",
       "</style>\n",
       "<table border=\"1\" class=\"dataframe\">\n",
       "  <thead>\n",
       "    <tr style=\"text-align: right;\">\n",
       "      <th></th>\n",
       "      <th>League</th>\n",
       "      <th>Division</th>\n",
       "      <th>City</th>\n",
       "      <th>Team</th>\n",
       "      <th>games_back</th>\n",
       "      <th>wins</th>\n",
       "      <th>losses</th>\n",
       "      <th>season</th>\n",
       "    </tr>\n",
       "  </thead>\n",
       "  <tbody>\n",
       "    <tr>\n",
       "      <th>3</th>\n",
       "      <td>NL</td>\n",
       "      <td>Central</td>\n",
       "      <td>St. Louis</td>\n",
       "      <td>Cardinals</td>\n",
       "      <td>0.0</td>\n",
       "      <td>87</td>\n",
       "      <td>63</td>\n",
       "      <td>2022</td>\n",
       "    </tr>\n",
       "    <tr>\n",
       "      <th>4</th>\n",
       "      <td>NL</td>\n",
       "      <td>Central</td>\n",
       "      <td>Milwaukee</td>\n",
       "      <td>Brewers</td>\n",
       "      <td>7.5</td>\n",
       "      <td>79</td>\n",
       "      <td>70</td>\n",
       "      <td>2022</td>\n",
       "    </tr>\n",
       "  </tbody>\n",
       "</table>\n",
       "</div>"
      ],
      "text/plain": [
       "  League Division       City       Team  games_back  wins  losses  season\n",
       "3     NL  Central  St. Louis  Cardinals         0.0    87      63    2022\n",
       "4     NL  Central  Milwaukee    Brewers         7.5    79      70    2022"
      ]
     },
     "execution_count": 37,
     "metadata": {},
     "output_type": "execute_result"
    }
   ],
   "source": [
    "baseball_df.loc[baseball_df['Team'].isin(top_teams), :]"
   ]
  },
  {
   "cell_type": "markdown",
   "id": "19fadedb-6382-49c7-acc1-ecdb2e701bc9",
   "metadata": {},
   "source": [
    "## String pattern matching"
   ]
  },
  {
   "cell_type": "code",
   "execution_count": 38,
   "id": "4ab704a2-258e-4d73-8b06-4a54834e72ee",
   "metadata": {},
   "outputs": [
    {
     "data": {
      "text/html": [
       "<div>\n",
       "<style scoped>\n",
       "    .dataframe tbody tr th:only-of-type {\n",
       "        vertical-align: middle;\n",
       "    }\n",
       "\n",
       "    .dataframe tbody tr th {\n",
       "        vertical-align: top;\n",
       "    }\n",
       "\n",
       "    .dataframe thead th {\n",
       "        text-align: right;\n",
       "    }\n",
       "</style>\n",
       "<table border=\"1\" class=\"dataframe\">\n",
       "  <thead>\n",
       "    <tr style=\"text-align: right;\">\n",
       "      <th></th>\n",
       "      <th>League</th>\n",
       "      <th>Division</th>\n",
       "      <th>City</th>\n",
       "      <th>Team</th>\n",
       "      <th>games_back</th>\n",
       "      <th>wins</th>\n",
       "      <th>losses</th>\n",
       "      <th>season</th>\n",
       "    </tr>\n",
       "  </thead>\n",
       "  <tbody>\n",
       "    <tr>\n",
       "      <th>0</th>\n",
       "      <td>NL</td>\n",
       "      <td>Central</td>\n",
       "      <td>Pittsburgh</td>\n",
       "      <td>Pirates</td>\n",
       "      <td>31.5</td>\n",
       "      <td>55</td>\n",
       "      <td>94</td>\n",
       "      <td>2022</td>\n",
       "    </tr>\n",
       "  </tbody>\n",
       "</table>\n",
       "</div>"
      ],
      "text/plain": [
       "  League Division        City     Team  games_back  wins  losses  season\n",
       "0     NL  Central  Pittsburgh  Pirates        31.5    55      94    2022"
      ]
     },
     "execution_count": 38,
     "metadata": {},
     "output_type": "execute_result"
    }
   ],
   "source": [
    "baseball_df.loc[baseball_df['City'] == 'Pittsburgh', :]"
   ]
  },
  {
   "cell_type": "markdown",
   "id": "f83bd2c4-d14b-4cb6-883f-3734b08d382c",
   "metadata": {},
   "source": [
    "But what if I didn't feel like typing out the whole string for `Pittsburgh`?"
   ]
  },
  {
   "cell_type": "code",
   "execution_count": 39,
   "id": "f1e67a10-880e-4d2d-ac2f-8f19b0f37b74",
   "metadata": {},
   "outputs": [
    {
     "data": {
      "text/html": [
       "<div>\n",
       "<style scoped>\n",
       "    .dataframe tbody tr th:only-of-type {\n",
       "        vertical-align: middle;\n",
       "    }\n",
       "\n",
       "    .dataframe tbody tr th {\n",
       "        vertical-align: top;\n",
       "    }\n",
       "\n",
       "    .dataframe thead th {\n",
       "        text-align: right;\n",
       "    }\n",
       "</style>\n",
       "<table border=\"1\" class=\"dataframe\">\n",
       "  <thead>\n",
       "    <tr style=\"text-align: right;\">\n",
       "      <th></th>\n",
       "      <th>League</th>\n",
       "      <th>Division</th>\n",
       "      <th>City</th>\n",
       "      <th>Team</th>\n",
       "      <th>games_back</th>\n",
       "      <th>wins</th>\n",
       "      <th>losses</th>\n",
       "      <th>season</th>\n",
       "    </tr>\n",
       "  </thead>\n",
       "  <tbody>\n",
       "  </tbody>\n",
       "</table>\n",
       "</div>"
      ],
      "text/plain": [
       "Empty DataFrame\n",
       "Columns: [League, Division, City, Team, games_back, wins, losses, season]\n",
       "Index: []"
      ]
     },
     "execution_count": 39,
     "metadata": {},
     "output_type": "execute_result"
    }
   ],
   "source": [
    "baseball_df.loc[baseball_df.City == 'Pitt', :]"
   ]
  },
  {
   "cell_type": "markdown",
   "id": "d3ba75a3-d81d-4ab4-a1f4-4acacf17a6fb",
   "metadata": {},
   "source": [
    "What if we had a type?"
   ]
  },
  {
   "cell_type": "code",
   "execution_count": 40,
   "id": "35a49ad0-a13d-445e-a60b-4ad7b4df0b9a",
   "metadata": {},
   "outputs": [
    {
     "data": {
      "text/html": [
       "<div>\n",
       "<style scoped>\n",
       "    .dataframe tbody tr th:only-of-type {\n",
       "        vertical-align: middle;\n",
       "    }\n",
       "\n",
       "    .dataframe tbody tr th {\n",
       "        vertical-align: top;\n",
       "    }\n",
       "\n",
       "    .dataframe thead th {\n",
       "        text-align: right;\n",
       "    }\n",
       "</style>\n",
       "<table border=\"1\" class=\"dataframe\">\n",
       "  <thead>\n",
       "    <tr style=\"text-align: right;\">\n",
       "      <th></th>\n",
       "      <th>League</th>\n",
       "      <th>Division</th>\n",
       "      <th>City</th>\n",
       "      <th>Team</th>\n",
       "      <th>games_back</th>\n",
       "      <th>wins</th>\n",
       "      <th>losses</th>\n",
       "      <th>season</th>\n",
       "    </tr>\n",
       "  </thead>\n",
       "  <tbody>\n",
       "  </tbody>\n",
       "</table>\n",
       "</div>"
      ],
      "text/plain": [
       "Empty DataFrame\n",
       "Columns: [League, Division, City, Team, games_back, wins, losses, season]\n",
       "Index: []"
      ]
     },
     "execution_count": 40,
     "metadata": {},
     "output_type": "execute_result"
    }
   ],
   "source": [
    "baseball_df.loc[baseball_df.City == 'Pittsburg', :]"
   ]
  },
  {
   "cell_type": "markdown",
   "id": "14b8c478-d9ae-4f8d-8397-21a9edbafbad",
   "metadata": {},
   "source": [
    "Instead, we could instead focus on a PATTERN. The `.str.contains()`methods seearches for a PATTERN WITHIN the string!!"
   ]
  },
  {
   "cell_type": "code",
   "execution_count": 42,
   "id": "95e8fbd7-319c-48e7-98e5-2bd556e935ef",
   "metadata": {},
   "outputs": [
    {
     "data": {
      "text/plain": [
       "3    False\n",
       "4    False\n",
       "2    False\n",
       "1    False\n",
       "0     True\n",
       "Name: City, dtype: bool"
      ]
     },
     "execution_count": 42,
     "metadata": {},
     "output_type": "execute_result"
    }
   ],
   "source": [
    "baseball_df.City.str.contains('Pitt')"
   ]
  },
  {
   "cell_type": "code",
   "execution_count": 43,
   "id": "0e0a6510-5f1c-4829-9585-6839b7267e5e",
   "metadata": {},
   "outputs": [
    {
     "data": {
      "text/html": [
       "<div>\n",
       "<style scoped>\n",
       "    .dataframe tbody tr th:only-of-type {\n",
       "        vertical-align: middle;\n",
       "    }\n",
       "\n",
       "    .dataframe tbody tr th {\n",
       "        vertical-align: top;\n",
       "    }\n",
       "\n",
       "    .dataframe thead th {\n",
       "        text-align: right;\n",
       "    }\n",
       "</style>\n",
       "<table border=\"1\" class=\"dataframe\">\n",
       "  <thead>\n",
       "    <tr style=\"text-align: right;\">\n",
       "      <th></th>\n",
       "      <th>League</th>\n",
       "      <th>Division</th>\n",
       "      <th>City</th>\n",
       "      <th>Team</th>\n",
       "      <th>games_back</th>\n",
       "      <th>wins</th>\n",
       "      <th>losses</th>\n",
       "      <th>season</th>\n",
       "    </tr>\n",
       "  </thead>\n",
       "  <tbody>\n",
       "    <tr>\n",
       "      <th>0</th>\n",
       "      <td>NL</td>\n",
       "      <td>Central</td>\n",
       "      <td>Pittsburgh</td>\n",
       "      <td>Pirates</td>\n",
       "      <td>31.5</td>\n",
       "      <td>55</td>\n",
       "      <td>94</td>\n",
       "      <td>2022</td>\n",
       "    </tr>\n",
       "  </tbody>\n",
       "</table>\n",
       "</div>"
      ],
      "text/plain": [
       "  League Division        City     Team  games_back  wins  losses  season\n",
       "0     NL  Central  Pittsburgh  Pirates        31.5    55      94    2022"
      ]
     },
     "execution_count": 43,
     "metadata": {},
     "output_type": "execute_result"
    }
   ],
   "source": [
    "baseball_df.loc[baseball_df.City.str.contains('Pitt'), :]"
   ]
  },
  {
   "cell_type": "markdown",
   "id": "2f2f2007-3c10-412c-9765-897fee5c6ab6",
   "metadata": {},
   "source": [
    "We can even apply the PATTERN search to a single character!"
   ]
  },
  {
   "cell_type": "code",
   "execution_count": 44,
   "id": "9706d5eb-72c9-4d34-a478-6dd937731011",
   "metadata": {},
   "outputs": [
    {
     "data": {
      "text/html": [
       "<div>\n",
       "<style scoped>\n",
       "    .dataframe tbody tr th:only-of-type {\n",
       "        vertical-align: middle;\n",
       "    }\n",
       "\n",
       "    .dataframe tbody tr th {\n",
       "        vertical-align: top;\n",
       "    }\n",
       "\n",
       "    .dataframe thead th {\n",
       "        text-align: right;\n",
       "    }\n",
       "</style>\n",
       "<table border=\"1\" class=\"dataframe\">\n",
       "  <thead>\n",
       "    <tr style=\"text-align: right;\">\n",
       "      <th></th>\n",
       "      <th>League</th>\n",
       "      <th>Division</th>\n",
       "      <th>City</th>\n",
       "      <th>Team</th>\n",
       "      <th>games_back</th>\n",
       "      <th>wins</th>\n",
       "      <th>losses</th>\n",
       "      <th>season</th>\n",
       "    </tr>\n",
       "  </thead>\n",
       "  <tbody>\n",
       "    <tr>\n",
       "      <th>0</th>\n",
       "      <td>NL</td>\n",
       "      <td>Central</td>\n",
       "      <td>Pittsburgh</td>\n",
       "      <td>Pirates</td>\n",
       "      <td>31.5</td>\n",
       "      <td>55</td>\n",
       "      <td>94</td>\n",
       "      <td>2022</td>\n",
       "    </tr>\n",
       "  </tbody>\n",
       "</table>\n",
       "</div>"
      ],
      "text/plain": [
       "  League Division        City     Team  games_back  wins  losses  season\n",
       "0     NL  Central  Pittsburgh  Pirates        31.5    55      94    2022"
      ]
     },
     "execution_count": 44,
     "metadata": {},
     "output_type": "execute_result"
    }
   ],
   "source": [
    "baseball_df.loc[baseball_df.City.str.contains('P'), :]"
   ]
  },
  {
   "cell_type": "markdown",
   "id": "aded62a2-2c26-4fd3-a606-795e7a12d89e",
   "metadata": {},
   "source": [
    "BE CAREFUL, if the PATTERN IS TOO SHORT, it might not uniquely identify the string you are looking for!"
   ]
  },
  {
   "cell_type": "code",
   "execution_count": 45,
   "id": "fa6f86ef-616a-4f19-b1fe-3411b5d2454f",
   "metadata": {},
   "outputs": [
    {
     "data": {
      "text/html": [
       "<div>\n",
       "<style scoped>\n",
       "    .dataframe tbody tr th:only-of-type {\n",
       "        vertical-align: middle;\n",
       "    }\n",
       "\n",
       "    .dataframe tbody tr th {\n",
       "        vertical-align: top;\n",
       "    }\n",
       "\n",
       "    .dataframe thead th {\n",
       "        text-align: right;\n",
       "    }\n",
       "</style>\n",
       "<table border=\"1\" class=\"dataframe\">\n",
       "  <thead>\n",
       "    <tr style=\"text-align: right;\">\n",
       "      <th></th>\n",
       "      <th>League</th>\n",
       "      <th>Division</th>\n",
       "      <th>City</th>\n",
       "      <th>Team</th>\n",
       "      <th>games_back</th>\n",
       "      <th>wins</th>\n",
       "      <th>losses</th>\n",
       "      <th>season</th>\n",
       "    </tr>\n",
       "  </thead>\n",
       "  <tbody>\n",
       "    <tr>\n",
       "      <th>2</th>\n",
       "      <td>NL</td>\n",
       "      <td>Central</td>\n",
       "      <td>Chicago</td>\n",
       "      <td>Cubs</td>\n",
       "      <td>22.5</td>\n",
       "      <td>64</td>\n",
       "      <td>85</td>\n",
       "      <td>2022</td>\n",
       "    </tr>\n",
       "    <tr>\n",
       "      <th>1</th>\n",
       "      <td>NL</td>\n",
       "      <td>Central</td>\n",
       "      <td>Cincinatti</td>\n",
       "      <td>Reds</td>\n",
       "      <td>27.5</td>\n",
       "      <td>59</td>\n",
       "      <td>90</td>\n",
       "      <td>2022</td>\n",
       "    </tr>\n",
       "  </tbody>\n",
       "</table>\n",
       "</div>"
      ],
      "text/plain": [
       "  League Division        City  Team  games_back  wins  losses  season\n",
       "2     NL  Central     Chicago  Cubs        22.5    64      85    2022\n",
       "1     NL  Central  Cincinatti  Reds        27.5    59      90    2022"
      ]
     },
     "execution_count": 45,
     "metadata": {},
     "output_type": "execute_result"
    }
   ],
   "source": [
    "baseball_df.loc[baseball_df.City.str.contains('C'), :]"
   ]
  },
  {
   "cell_type": "markdown",
   "id": "f0358f1c-4d84-49ca-a521-57b0934c2955",
   "metadata": {},
   "source": [
    "The `.str.contains()`method is very fhelpful when EXPLORING DATA!\n",
    "\n",
    "I particularly like to use it to search for non-letter characters.\n",
    "\n",
    "To find a period in a string, we need to search for the pattern `\\\\.`."
   ]
  },
  {
   "cell_type": "code",
   "execution_count": 47,
   "id": "5ce4a947-76d5-4998-bea5-3e1e25eb7c10",
   "metadata": {},
   "outputs": [
    {
     "data": {
      "text/html": [
       "<div>\n",
       "<style scoped>\n",
       "    .dataframe tbody tr th:only-of-type {\n",
       "        vertical-align: middle;\n",
       "    }\n",
       "\n",
       "    .dataframe tbody tr th {\n",
       "        vertical-align: top;\n",
       "    }\n",
       "\n",
       "    .dataframe thead th {\n",
       "        text-align: right;\n",
       "    }\n",
       "</style>\n",
       "<table border=\"1\" class=\"dataframe\">\n",
       "  <thead>\n",
       "    <tr style=\"text-align: right;\">\n",
       "      <th></th>\n",
       "      <th>League</th>\n",
       "      <th>Division</th>\n",
       "      <th>City</th>\n",
       "      <th>Team</th>\n",
       "      <th>games_back</th>\n",
       "      <th>wins</th>\n",
       "      <th>losses</th>\n",
       "      <th>season</th>\n",
       "    </tr>\n",
       "  </thead>\n",
       "  <tbody>\n",
       "    <tr>\n",
       "      <th>3</th>\n",
       "      <td>NL</td>\n",
       "      <td>Central</td>\n",
       "      <td>St. Louis</td>\n",
       "      <td>Cardinals</td>\n",
       "      <td>0.0</td>\n",
       "      <td>87</td>\n",
       "      <td>63</td>\n",
       "      <td>2022</td>\n",
       "    </tr>\n",
       "  </tbody>\n",
       "</table>\n",
       "</div>"
      ],
      "text/plain": [
       "  League Division       City       Team  games_back  wins  losses  season\n",
       "3     NL  Central  St. Louis  Cardinals         0.0    87      63    2022"
      ]
     },
     "execution_count": 47,
     "metadata": {},
     "output_type": "execute_result"
    }
   ],
   "source": [
    "baseball_df.loc[baseball_df.City.str.contains('\\\\.'), :]"
   ]
  },
  {
   "cell_type": "markdown",
   "id": "7e4928f7-b79a-4a04-9803-a04f438ab691",
   "metadata": {},
   "source": [
    "We can even search for a WHITE SPACE."
   ]
  },
  {
   "cell_type": "code",
   "execution_count": 49,
   "id": "e14be1e6-06b2-478a-af3b-195db055f878",
   "metadata": {},
   "outputs": [
    {
     "data": {
      "text/html": [
       "<div>\n",
       "<style scoped>\n",
       "    .dataframe tbody tr th:only-of-type {\n",
       "        vertical-align: middle;\n",
       "    }\n",
       "\n",
       "    .dataframe tbody tr th {\n",
       "        vertical-align: top;\n",
       "    }\n",
       "\n",
       "    .dataframe thead th {\n",
       "        text-align: right;\n",
       "    }\n",
       "</style>\n",
       "<table border=\"1\" class=\"dataframe\">\n",
       "  <thead>\n",
       "    <tr style=\"text-align: right;\">\n",
       "      <th></th>\n",
       "      <th>League</th>\n",
       "      <th>Division</th>\n",
       "      <th>City</th>\n",
       "      <th>Team</th>\n",
       "      <th>games_back</th>\n",
       "      <th>wins</th>\n",
       "      <th>losses</th>\n",
       "      <th>season</th>\n",
       "    </tr>\n",
       "  </thead>\n",
       "  <tbody>\n",
       "    <tr>\n",
       "      <th>3</th>\n",
       "      <td>NL</td>\n",
       "      <td>Central</td>\n",
       "      <td>St. Louis</td>\n",
       "      <td>Cardinals</td>\n",
       "      <td>0.0</td>\n",
       "      <td>87</td>\n",
       "      <td>63</td>\n",
       "      <td>2022</td>\n",
       "    </tr>\n",
       "  </tbody>\n",
       "</table>\n",
       "</div>"
      ],
      "text/plain": [
       "  League Division       City       Team  games_back  wins  losses  season\n",
       "3     NL  Central  St. Louis  Cardinals         0.0    87      63    2022"
      ]
     },
     "execution_count": 49,
     "metadata": {},
     "output_type": "execute_result"
    }
   ],
   "source": [
    "baseball_df.loc[baseball_df.City.str.contains(' '), :]"
   ]
  },
  {
   "cell_type": "markdown",
   "id": "0609b378-e98d-469d-a408-5e45067e2244",
   "metadata": {},
   "source": [
    "There are many more STRING methods available. Many of the Pandas `.str` methods are consistent with the base Python string methods."
   ]
  },
  {
   "cell_type": "code",
   "execution_count": 50,
   "id": "9bb7ffd8-2ef8-4c08-8e8a-cc52ea8123d4",
   "metadata": {},
   "outputs": [
    {
     "data": {
      "text/plain": [
       "['__annotations__',\n",
       " '__class__',\n",
       " '__delattr__',\n",
       " '__dict__',\n",
       " '__dir__',\n",
       " '__doc__',\n",
       " '__eq__',\n",
       " '__format__',\n",
       " '__frozen',\n",
       " '__ge__',\n",
       " '__getattribute__',\n",
       " '__getitem__',\n",
       " '__gt__',\n",
       " '__hash__',\n",
       " '__init__',\n",
       " '__init_subclass__',\n",
       " '__le__',\n",
       " '__lt__',\n",
       " '__module__',\n",
       " '__ne__',\n",
       " '__new__',\n",
       " '__reduce__',\n",
       " '__reduce_ex__',\n",
       " '__repr__',\n",
       " '__setattr__',\n",
       " '__sizeof__',\n",
       " '__str__',\n",
       " '__subclasshook__',\n",
       " '__weakref__',\n",
       " '_data',\n",
       " '_doc_args',\n",
       " '_freeze',\n",
       " '_get_series_list',\n",
       " '_index',\n",
       " '_inferred_dtype',\n",
       " '_is_categorical',\n",
       " '_is_string',\n",
       " '_name',\n",
       " '_orig',\n",
       " '_parent',\n",
       " '_validate',\n",
       " '_wrap_result',\n",
       " 'capitalize',\n",
       " 'casefold',\n",
       " 'cat',\n",
       " 'center',\n",
       " 'contains',\n",
       " 'count',\n",
       " 'decode',\n",
       " 'encode',\n",
       " 'endswith',\n",
       " 'extract',\n",
       " 'extractall',\n",
       " 'find',\n",
       " 'findall',\n",
       " 'fullmatch',\n",
       " 'get',\n",
       " 'get_dummies',\n",
       " 'index',\n",
       " 'isalnum',\n",
       " 'isalpha',\n",
       " 'isdecimal',\n",
       " 'isdigit',\n",
       " 'islower',\n",
       " 'isnumeric',\n",
       " 'isspace',\n",
       " 'istitle',\n",
       " 'isupper',\n",
       " 'join',\n",
       " 'len',\n",
       " 'ljust',\n",
       " 'lower',\n",
       " 'lstrip',\n",
       " 'match',\n",
       " 'normalize',\n",
       " 'pad',\n",
       " 'partition',\n",
       " 'removeprefix',\n",
       " 'removesuffix',\n",
       " 'repeat',\n",
       " 'replace',\n",
       " 'rfind',\n",
       " 'rindex',\n",
       " 'rjust',\n",
       " 'rpartition',\n",
       " 'rsplit',\n",
       " 'rstrip',\n",
       " 'slice',\n",
       " 'slice_replace',\n",
       " 'split',\n",
       " 'startswith',\n",
       " 'strip',\n",
       " 'swapcase',\n",
       " 'title',\n",
       " 'translate',\n",
       " 'upper',\n",
       " 'wrap',\n",
       " 'zfill']"
      ]
     },
     "execution_count": 50,
     "metadata": {},
     "output_type": "execute_result"
    }
   ],
   "source": [
    "dir(baseball_df.City.str)"
   ]
  },
  {
   "cell_type": "code",
   "execution_count": null,
   "id": "cfc90b3d-47b0-403c-94c7-06c2d99ce67d",
   "metadata": {},
   "outputs": [],
   "source": []
  }
 ],
 "metadata": {
  "kernelspec": {
   "display_name": "Python 3 (ipykernel)",
   "language": "python",
   "name": "python3"
  },
  "language_info": {
   "codemirror_mode": {
    "name": "ipython",
    "version": 3
   },
   "file_extension": ".py",
   "mimetype": "text/x-python",
   "name": "python",
   "nbconvert_exporter": "python",
   "pygments_lexer": "ipython3",
   "version": "3.8.19"
  }
 },
 "nbformat": 4,
 "nbformat_minor": 5
}
