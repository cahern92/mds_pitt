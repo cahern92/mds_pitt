{
 "cells": [
  {
   "cell_type": "code",
   "execution_count": 1,
   "id": "2da45114-d309-4ea5-81c3-a2798ee91ae8",
   "metadata": {},
   "outputs": [
    {
     "data": {
      "text/plain": [
       "4"
      ]
     },
     "execution_count": 1,
     "metadata": {},
     "output_type": "execute_result"
    }
   ],
   "source": [
    "2 + 2"
   ]
  },
  {
   "cell_type": "code",
   "execution_count": 2,
   "id": "0e16b7b9-43a4-4df0-ac16-d419747ce461",
   "metadata": {},
   "outputs": [
    {
     "name": "stdout",
     "output_type": "stream",
     "text": [
      "Interactive namespace is empty.\n"
     ]
    }
   ],
   "source": [
    "%whos"
   ]
  },
  {
   "cell_type": "code",
   "execution_count": 3,
   "id": "3a08b562-507a-4e08-916d-032feba9ba41",
   "metadata": {},
   "outputs": [
    {
     "ename": "NameError",
     "evalue": "name 'z' is not defined",
     "output_type": "error",
     "traceback": [
      "\u001b[0;31m---------------------------------------------------------------------------\u001b[0m",
      "\u001b[0;31mNameError\u001b[0m                                 Traceback (most recent call last)",
      "Cell \u001b[0;32mIn[3], line 1\u001b[0m\n\u001b[0;32m----> 1\u001b[0m \u001b[43mz\u001b[49m\u001b[38;5;241m*\u001b[39mx\u001b[38;5;241m*\u001b[39my\n",
      "\u001b[0;31mNameError\u001b[0m: name 'z' is not defined"
     ]
    }
   ],
   "source": [
    "z*x*y"
   ]
  },
  {
   "cell_type": "code",
   "execution_count": 4,
   "id": "28467bf6-f4cb-486c-a7a1-baf59eedcac6",
   "metadata": {},
   "outputs": [
    {
     "data": {
      "text/plain": [
       "9"
      ]
     },
     "execution_count": 4,
     "metadata": {},
     "output_type": "execute_result"
    }
   ],
   "source": [
    "3*3"
   ]
  },
  {
   "cell_type": "code",
   "execution_count": 5,
   "id": "430b6d7a-1047-4076-8ac1-3b0e7f12b10f",
   "metadata": {},
   "outputs": [
    {
     "data": {
      "text/plain": [
       "16"
      ]
     },
     "execution_count": 5,
     "metadata": {},
     "output_type": "execute_result"
    }
   ],
   "source": [
    "2**4"
   ]
  },
  {
   "cell_type": "code",
   "execution_count": 6,
   "id": "5452cdc5-bdd0-45e2-b04e-36d5142583f5",
   "metadata": {},
   "outputs": [
    {
     "ename": "SyntaxError",
     "evalue": "invalid syntax (1136886599.py, line 1)",
     "output_type": "error",
     "traceback": [
      "\u001b[0;36m  Cell \u001b[0;32mIn[6], line 1\u001b[0;36m\u001b[0m\n\u001b[0;31m    2*2*2*\u001b[0m\n\u001b[0m          ^\u001b[0m\n\u001b[0;31mSyntaxError\u001b[0m\u001b[0;31m:\u001b[0m invalid syntax\n"
     ]
    }
   ],
   "source": [
    "2*2*2*"
   ]
  },
  {
   "cell_type": "code",
   "execution_count": 7,
   "id": "3d9979a1-90f9-4488-95ff-7b0649df40e8",
   "metadata": {},
   "outputs": [
    {
     "data": {
      "text/plain": [
       "16"
      ]
     },
     "execution_count": 7,
     "metadata": {},
     "output_type": "execute_result"
    }
   ],
   "source": [
    "2*2*2*2"
   ]
  },
  {
   "cell_type": "code",
   "execution_count": 8,
   "id": "ec230eaa-e2bf-4a39-b151-091764de6197",
   "metadata": {},
   "outputs": [
    {
     "name": "stdout",
     "output_type": "stream",
     "text": [
      "5\n"
     ]
    }
   ],
   "source": [
    "print(2+3)"
   ]
  },
  {
   "cell_type": "code",
   "execution_count": 9,
   "id": "352ef4e2-d548-43aa-99ca-38acbccd2eb5",
   "metadata": {},
   "outputs": [],
   "source": [
    "# Hashtags are comments in code cells!!!\n",
    "\n",
    "## This is a comment!!\n",
    "\n",
    "### 2 + 2"
   ]
  },
  {
   "cell_type": "code",
   "execution_count": 10,
   "id": "ce82238d-32f9-4fa7-bdab-e892cf2d6bab",
   "metadata": {},
   "outputs": [],
   "source": [
    "# Comments are absolutely critical in scripts!\n",
    "\n",
    "# we need to use comments in order to describe what we're doing!!\n",
    "\n",
    "### print the result of 2+2 to the screen using the print() function"
   ]
  },
  {
   "cell_type": "markdown",
   "id": "d63b954f-3bb2-40fe-a2b7-0a5e0a830d9a",
   "metadata": {},
   "source": [
    "This is not a code cell.\n",
    "\n",
    "We cannot run commands, evaluate expressions, or call functions.\n",
    "\n",
    "We are typing in a Markdown cell. And Markdown text although \"looks\" like code will be rendered in a nice format!\n",
    "\n",
    "1 + 1\n",
    "\n",
    "print(2 + 2)"
   ]
  },
  {
   "cell_type": "markdown",
   "id": "a35505e2-dad6-459f-a127-16b453bdf1a7",
   "metadata": {},
   "source": [
    "# This is not a comment\n",
    "\n",
    "## This is still not a comment\n",
    "\n",
    "### This is still not a comment\n",
    "\n",
    "#### This is still not a comment\n",
    "\n",
    "##### Hashtags in Markdown cells create SECTION HEADERS!!"
   ]
  },
  {
   "cell_type": "markdown",
   "id": "f8bf1761-3e05-4653-b320-323e335cece9",
   "metadata": {},
   "source": [
    "# Our first notebook\n",
    "This is our first Jupyter notebook. We can type Markdown text to create nice looking discussions which describe WHAT we are programming, WHY we are programming, and describe the results!!!\n",
    "\n",
    "## A simple code well\n",
    "Below is a code cell that prints the result 2 + 2"
   ]
  },
  {
   "cell_type": "code",
   "execution_count": 11,
   "id": "fa6f7807-3af4-4e43-8636-203e328ef187",
   "metadata": {},
   "outputs": [
    {
     "name": "stdout",
     "output_type": "stream",
     "text": [
      "4\n"
     ]
    }
   ],
   "source": [
    "print(2 + 2)"
   ]
  },
  {
   "cell_type": "markdown",
   "id": "e7fd4a8b-197f-4292-b047-f7be1d46eaf3",
   "metadata": {},
   "source": [
    "## Bulletted lists\n",
    "We can create bulleted lists using Markdown!\n",
    "* First item in the list\n",
    "* Second item in list\n",
    "* 3rd\n",
    "* 4th\n",
    "* so on and so on\n",
    "\n",
    "Back to regular looking text"
   ]
  },
  {
   "cell_type": "markdown",
   "id": "caba94b6-a88c-440b-8020-4c87b66193dd",
   "metadata": {},
   "source": [
    "## Defining variables\n",
    "Let's define two variables, `x` and `y`, in the code cell below."
   ]
  },
  {
   "cell_type": "code",
   "execution_count": 12,
   "id": "d548474e-7589-4321-adfa-b747779dda8c",
   "metadata": {},
   "outputs": [],
   "source": [
    "x = 3\n",
    "\n",
    "y = 7"
   ]
  },
  {
   "cell_type": "code",
   "execution_count": 13,
   "id": "83c1aad5-bc32-49c1-99ae-e95337f3bccc",
   "metadata": {},
   "outputs": [
    {
     "name": "stdout",
     "output_type": "stream",
     "text": [
      "3\n"
     ]
    }
   ],
   "source": [
    "print(x)"
   ]
  },
  {
   "cell_type": "code",
   "execution_count": 14,
   "id": "6bc1af75-f13a-4774-8b68-ecbcadedba13",
   "metadata": {},
   "outputs": [
    {
     "name": "stdout",
     "output_type": "stream",
     "text": [
      "7\n"
     ]
    }
   ],
   "source": [
    "print(y)"
   ]
  },
  {
   "cell_type": "code",
   "execution_count": 15,
   "id": "1137fcbe-e1da-405e-ba34-29f38ea98cac",
   "metadata": {},
   "outputs": [
    {
     "name": "stdout",
     "output_type": "stream",
     "text": [
      "10\n"
     ]
    }
   ],
   "source": [
    "print(x+y)"
   ]
  },
  {
   "cell_type": "markdown",
   "id": "319ae249-0eff-4870-bc6e-41f4edb0dfcc",
   "metadata": {},
   "source": [
    "Jupyter notebook includes MAGIC COMMANDS that allows us to SEE or INSPECT aspcts of the variables/objects in the environment!"
   ]
  },
  {
   "cell_type": "code",
   "execution_count": 16,
   "id": "ab14cc0f-8a84-4b73-ac67-07f42fbe7a0e",
   "metadata": {},
   "outputs": [
    {
     "name": "stdout",
     "output_type": "stream",
     "text": [
      "Variable   Type    Data/Info\n",
      "----------------------------\n",
      "x          int     3\n",
      "y          int     7\n"
     ]
    }
   ],
   "source": [
    "%whos"
   ]
  },
  {
   "cell_type": "code",
   "execution_count": 17,
   "id": "5dcc44af-d296-45d8-91fc-eae20d85c1e0",
   "metadata": {},
   "outputs": [],
   "source": [
    "z = x/y"
   ]
  },
  {
   "cell_type": "code",
   "execution_count": 18,
   "id": "7a4809f8-4e30-42c2-b215-496e35f0f229",
   "metadata": {},
   "outputs": [
    {
     "name": "stdout",
     "output_type": "stream",
     "text": [
      "Variable   Type     Data/Info\n",
      "-----------------------------\n",
      "x          int      3\n",
      "y          int      7\n",
      "z          float    0.42857142857142855\n"
     ]
    }
   ],
   "source": [
    "%whos"
   ]
  },
  {
   "cell_type": "markdown",
   "id": "163df20a-0604-46e2-8395-3b88c9b09979",
   "metadata": {},
   "source": [
    "## Data Types\n",
    "There are many data types in programming languages like Python. Data types dictate the kinds of operations that we can do on the object!\n",
    "The type() function is a function that returns the DATA TYPE of the input argument."
   ]
  },
  {
   "cell_type": "code",
   "execution_count": 19,
   "id": "a40b585c-059c-4352-9e93-25ef8eff2ca6",
   "metadata": {},
   "outputs": [
    {
     "data": {
      "text/plain": [
       "int"
      ]
     },
     "execution_count": 19,
     "metadata": {},
     "output_type": "execute_result"
    }
   ],
   "source": [
    "type(x)"
   ]
  },
  {
   "cell_type": "code",
   "execution_count": 20,
   "id": "79e5ef14-2601-4972-b85e-45e24d86bcbb",
   "metadata": {},
   "outputs": [
    {
     "name": "stdout",
     "output_type": "stream",
     "text": [
      "<class 'float'>\n"
     ]
    }
   ],
   "source": [
    "print(type(z))"
   ]
  },
  {
   "cell_type": "code",
   "execution_count": 21,
   "id": "6cd05cc3-0106-482f-ac13-8df375dfce0b",
   "metadata": {},
   "outputs": [
    {
     "data": {
      "text/plain": [
       "float"
      ]
     },
     "execution_count": 21,
     "metadata": {},
     "output_type": "execute_result"
    }
   ],
   "source": [
    "type (x+z)"
   ]
  },
  {
   "cell_type": "markdown",
   "id": "9c371ee7-2a04-4c55-a850-1ad58f7cb3f6",
   "metadata": {},
   "source": [
    "## Strings\n",
    "A string data type is a FUNDAMENTALLY different class than INTEGERS and FLOAT.\n",
    "Strings are characters, so think of letters, words and phrases."
   ]
  },
  {
   "cell_type": "code",
   "execution_count": 22,
   "id": "9a32d31e-5e3e-4095-9543-2dd9af1cf1ad",
   "metadata": {},
   "outputs": [],
   "source": [
    "my_string = 'abcde'"
   ]
  },
  {
   "cell_type": "code",
   "execution_count": 23,
   "id": "b7078d04-763f-4b30-b0d5-9cec29f9feb6",
   "metadata": {},
   "outputs": [
    {
     "name": "stdout",
     "output_type": "stream",
     "text": [
      "Variable    Type     Data/Info\n",
      "------------------------------\n",
      "my_string   str      abcde\n",
      "x           int      3\n",
      "y           int      7\n",
      "z           float    0.42857142857142855\n"
     ]
    }
   ],
   "source": [
    "%whos"
   ]
  },
  {
   "cell_type": "code",
   "execution_count": 24,
   "id": "f0bced9d-334b-4578-a43a-67b1b4990ba3",
   "metadata": {},
   "outputs": [
    {
     "data": {
      "text/plain": [
       "str"
      ]
     },
     "execution_count": 24,
     "metadata": {},
     "output_type": "execute_result"
    }
   ],
   "source": [
    "type(my_string)"
   ]
  },
  {
   "cell_type": "code",
   "execution_count": 25,
   "id": "3aab8e0c-049f-4941-9a6c-3c62abc81edd",
   "metadata": {},
   "outputs": [
    {
     "data": {
      "text/plain": [
       "str"
      ]
     },
     "execution_count": 25,
     "metadata": {},
     "output_type": "execute_result"
    }
   ],
   "source": [
    "type(\"abcde\")"
   ]
  },
  {
   "cell_type": "markdown",
   "id": "34832d0b-63ba-4bae-b1a1-6622511fafd0",
   "metadata": {},
   "source": [
    "The `=` operator ASSIGNS values to the objects but the `==` operator is a conditional or logical test about if the values of the objects are the same!"
   ]
  },
  {
   "cell_type": "code",
   "execution_count": 26,
   "id": "175b31ef-e98c-41ba-82c7-9eda4ea1be2f",
   "metadata": {},
   "outputs": [
    {
     "data": {
      "text/plain": [
       "True"
      ]
     },
     "execution_count": 26,
     "metadata": {},
     "output_type": "execute_result"
    }
   ],
   "source": [
    "'abcde'==\"abcde\""
   ]
  },
  {
   "cell_type": "code",
   "execution_count": 27,
   "id": "860c9e4a-b726-420e-a0da-d360d9d5d92b",
   "metadata": {},
   "outputs": [
    {
     "data": {
      "text/plain": [
       "True"
      ]
     },
     "execution_count": 27,
     "metadata": {},
     "output_type": "execute_result"
    }
   ],
   "source": [
    "my_string == \"abcde\""
   ]
  },
  {
   "cell_type": "code",
   "execution_count": 28,
   "id": "df22aeab-3f34-452b-ad13-5a83be855e39",
   "metadata": {},
   "outputs": [
    {
     "data": {
      "text/plain": [
       "bool"
      ]
     },
     "execution_count": 28,
     "metadata": {},
     "output_type": "execute_result"
    }
   ],
   "source": [
    "type(my_string == \"abcde\")"
   ]
  },
  {
   "cell_type": "markdown",
   "id": "a86ea515-facf-41d0-9b80-26b0dfbc09b5",
   "metadata": {},
   "source": [
    "A BOOLEAN data type is a TRUE/FALSE value. Python displays Booleans as `True` or `False`."
   ]
  },
  {
   "cell_type": "markdown",
   "id": "fbc0c61a-0105-400d-b9e7-508ec29e2452",
   "metadata": {},
   "source": [
    "String are kind of \"special\" in that they can be subset."
   ]
  },
  {
   "cell_type": "code",
   "execution_count": 29,
   "id": "76cd5421-93e5-4482-8588-6ea03a26fda8",
   "metadata": {},
   "outputs": [
    {
     "data": {
      "text/plain": [
       "5"
      ]
     },
     "execution_count": 29,
     "metadata": {},
     "output_type": "execute_result"
    }
   ],
   "source": [
    "len(my_string)"
   ]
  },
  {
   "cell_type": "markdown",
   "id": "10d77e4a-6e3b-4ad8-b015-c432589360cb",
   "metadata": {},
   "source": [
    "Integers do NOT have length in Python, but strings do have length in Python!"
   ]
  },
  {
   "cell_type": "code",
   "execution_count": 30,
   "id": "ef1134f2-7950-46ed-ab4d-df566951d998",
   "metadata": {},
   "outputs": [
    {
     "ename": "TypeError",
     "evalue": "object of type 'int' has no len()",
     "output_type": "error",
     "traceback": [
      "\u001b[0;31m---------------------------------------------------------------------------\u001b[0m",
      "\u001b[0;31mTypeError\u001b[0m                                 Traceback (most recent call last)",
      "Cell \u001b[0;32mIn[30], line 1\u001b[0m\n\u001b[0;32m----> 1\u001b[0m \u001b[38;5;28;43mlen\u001b[39;49m\u001b[43m(\u001b[49m\u001b[43mx\u001b[49m\u001b[43m)\u001b[49m\n",
      "\u001b[0;31mTypeError\u001b[0m: object of type 'int' has no len()"
     ]
    }
   ],
   "source": [
    "len(x)"
   ]
  },
  {
   "cell_type": "markdown",
   "id": "2c59bbf1-7325-4cfa-b8fe-04250e2a5a2a",
   "metadata": {},
   "source": [
    "We can SLICE or INDEX or SUBSET the characters in a STRING!!\n",
    "The `[]` allows us to INDEX or access elements from within the STRING!"
   ]
  },
  {
   "cell_type": "code",
   "execution_count": 31,
   "id": "988f6a59-4d0d-43df-aefb-387472c59017",
   "metadata": {},
   "outputs": [
    {
     "data": {
      "text/plain": [
       "'b'"
      ]
     },
     "execution_count": 31,
     "metadata": {},
     "output_type": "execute_result"
    }
   ],
   "source": [
    "my_string[1]"
   ]
  },
  {
   "cell_type": "code",
   "execution_count": 32,
   "id": "da56c004-9ea0-4242-94ac-0d39a1140d5f",
   "metadata": {},
   "outputs": [
    {
     "data": {
      "text/plain": [
       "'abcde'"
      ]
     },
     "execution_count": 32,
     "metadata": {},
     "output_type": "execute_result"
    }
   ],
   "source": [
    "my_string"
   ]
  },
  {
   "cell_type": "markdown",
   "id": "aee31d62-d96d-463d-bf77-5b86deca8e82",
   "metadata": {},
   "source": [
    "VERY IMPORTANT: Python is a ZERO BASED INDEX language!!"
   ]
  },
  {
   "cell_type": "code",
   "execution_count": 33,
   "id": "e49237d5-e9eb-4764-a7c0-0c5acdf639dd",
   "metadata": {},
   "outputs": [
    {
     "data": {
      "text/plain": [
       "'a'"
      ]
     },
     "execution_count": 33,
     "metadata": {},
     "output_type": "execute_result"
    }
   ],
   "source": [
    "my_string[0]"
   ]
  },
  {
   "cell_type": "markdown",
   "id": "3b92cc3f-0da8-4168-9c57-48842b415ddb",
   "metadata": {},
   "source": [
    "### Slicing\n",
    "We can extract our MORE than just a single element!\n",
    "We can extract or SLICE multiple elements at a time!\n",
    "We slice by including the `:` operator.\n",
    "The `:` operator has a START or BEGINNING index to the LEFT and an END of FINISH index to the RIGHT.\n",
    "VERY IMPORTANT: the beginning index is INCLUSIVE but the ending index is EXCLUSIVE!!!!"
   ]
  },
  {
   "cell_type": "code",
   "execution_count": 34,
   "id": "c8b9187b-4541-4217-a24f-623e2ab00e1c",
   "metadata": {},
   "outputs": [
    {
     "data": {
      "text/plain": [
       "'abc'"
      ]
     },
     "execution_count": 34,
     "metadata": {},
     "output_type": "execute_result"
    }
   ],
   "source": [
    "my_string[0:3]"
   ]
  },
  {
   "cell_type": "code",
   "execution_count": 35,
   "id": "9f405a15-b201-4276-8a98-c5d6052c0a13",
   "metadata": {},
   "outputs": [
    {
     "data": {
      "text/plain": [
       "'bc'"
      ]
     },
     "execution_count": 35,
     "metadata": {},
     "output_type": "execute_result"
    }
   ],
   "source": [
    "my_string[1:3]"
   ]
  },
  {
   "cell_type": "markdown",
   "id": "59d8a27c-53f1-4b9d-846e-fabbbb55e633",
   "metadata": {},
   "source": [
    "A shortcut to start from the beginning to NOT include anything to the left of `:`"
   ]
  },
  {
   "cell_type": "code",
   "execution_count": 36,
   "id": "778070f5-3a65-4af9-b761-b2dd90129e81",
   "metadata": {},
   "outputs": [
    {
     "data": {
      "text/plain": [
       "'abc'"
      ]
     },
     "execution_count": 36,
     "metadata": {},
     "output_type": "execute_result"
    }
   ],
   "source": [
    "my_string[:3]"
   ]
  },
  {
   "cell_type": "code",
   "execution_count": 37,
   "id": "21840e2b-d13b-4de8-8715-50707b455b6e",
   "metadata": {},
   "outputs": [
    {
     "data": {
      "text/plain": [
       "'abcd'"
      ]
     },
     "execution_count": 37,
     "metadata": {},
     "output_type": "execute_result"
    }
   ],
   "source": [
    "my_string[:4]"
   ]
  },
  {
   "cell_type": "markdown",
   "id": "8750bb0f-e6d7-493c-8fec-cbd0894f7926",
   "metadata": {},
   "source": [
    "If we exclude the ENDING index or we do NOT include anything to the right of the `:` we RETURN EVERYTHING from the BEGINNING to the END!!"
   ]
  },
  {
   "cell_type": "code",
   "execution_count": 38,
   "id": "ffc008d5-2674-48cb-bfa6-8f4926386f8c",
   "metadata": {},
   "outputs": [
    {
     "data": {
      "text/plain": [
       "'de'"
      ]
     },
     "execution_count": 38,
     "metadata": {},
     "output_type": "execute_result"
    }
   ],
   "source": [
    "my_string[3:]"
   ]
  },
  {
   "cell_type": "markdown",
   "id": "7d8aed2b-df2a-4978-9aa6-690f445c453c",
   "metadata": {},
   "source": [
    "If the index is NEGATIVE that starts from the END!"
   ]
  },
  {
   "cell_type": "code",
   "execution_count": 39,
   "id": "fcf57d0d-77cc-4de3-a031-5edb4b928a1c",
   "metadata": {},
   "outputs": [
    {
     "data": {
      "text/plain": [
       "'b'"
      ]
     },
     "execution_count": 39,
     "metadata": {},
     "output_type": "execute_result"
    }
   ],
   "source": [
    "my_string[1]"
   ]
  },
  {
   "cell_type": "code",
   "execution_count": 40,
   "id": "f84bbe4b-38cc-4312-856d-66fee22a1ee8",
   "metadata": {},
   "outputs": [
    {
     "data": {
      "text/plain": [
       "'e'"
      ]
     },
     "execution_count": 40,
     "metadata": {},
     "output_type": "execute_result"
    }
   ],
   "source": [
    "my_string[-1]"
   ]
  },
  {
   "cell_type": "markdown",
   "id": "75bf1c35-993e-4a7a-ac4d-7adf93f3b29d",
   "metadata": {},
   "source": [
    "We can identify the LAST element as `[-1]`."
   ]
  },
  {
   "cell_type": "code",
   "execution_count": 41,
   "id": "b1bdc129-93f1-4af2-b20a-575b9542b9dd",
   "metadata": {},
   "outputs": [
    {
     "data": {
      "text/plain": [
       "'d'"
      ]
     },
     "execution_count": 41,
     "metadata": {},
     "output_type": "execute_result"
    }
   ],
   "source": [
    "my_string[-2]"
   ]
  },
  {
   "cell_type": "markdown",
   "id": "1d8cf4f1-3113-45de-b5fb-317ae5bdb62f",
   "metadata": {},
   "source": [
    "You can also use STEPS in you slicing."
   ]
  },
  {
   "cell_type": "code",
   "execution_count": 44,
   "id": "ef3ad974-525a-4040-a14f-a8b989b2b328",
   "metadata": {},
   "outputs": [
    {
     "data": {
      "text/plain": [
       "'ace'"
      ]
     },
     "execution_count": 44,
     "metadata": {},
     "output_type": "execute_result"
    }
   ],
   "source": [
    "my_string[::2]"
   ]
  },
  {
   "cell_type": "code",
   "execution_count": null,
   "id": "5a6a970a-44df-4b32-94b0-c1a36d2c2915",
   "metadata": {},
   "outputs": [],
   "source": []
  },
  {
   "cell_type": "markdown",
   "id": "5993696d-f467-4a54-ac17-99c3b8beb9e2",
   "metadata": {},
   "source": [
    "## Lists\n",
    "Lists are CONTAINERS!! It contains MULTIPLE elements!\n",
    "\n",
    "Lists are initialized or CREATED with `[]`."
   ]
  },
  {
   "cell_type": "code",
   "execution_count": 45,
   "id": "3e4a9843-4617-41ac-8fcf-7ff2ad1afe56",
   "metadata": {},
   "outputs": [],
   "source": [
    "an_empty_list = [\"cesar\", 3]"
   ]
  },
  {
   "cell_type": "code",
   "execution_count": 46,
   "id": "209bb07d-c4d1-405f-9d93-1a85adf9e3ea",
   "metadata": {},
   "outputs": [
    {
     "name": "stdout",
     "output_type": "stream",
     "text": [
      "Variable        Type     Data/Info\n",
      "----------------------------------\n",
      "an_empty_list   list     n=2\n",
      "my_string       str      abcde\n",
      "x               int      3\n",
      "y               int      7\n",
      "z               float    0.42857142857142855\n"
     ]
    }
   ],
   "source": [
    "%whos"
   ]
  },
  {
   "cell_type": "markdown",
   "id": "889445ca-3121-4b9d-84ba-86ac49ef4c80",
   "metadata": {},
   "source": [
    "Let's now make a new list that contains 4 strings."
   ]
  },
  {
   "cell_type": "code",
   "execution_count": 47,
   "id": "ef70f249-78d2-4b12-a883-85c737d23d96",
   "metadata": {},
   "outputs": [],
   "source": [
    "the_hobbits = [\"frodo\", \"sam\", \"merry\", \"pippin\"]"
   ]
  },
  {
   "cell_type": "code",
   "execution_count": 48,
   "id": "3412de96-4795-43a1-bf00-24cc7018870b",
   "metadata": {},
   "outputs": [
    {
     "data": {
      "text/plain": [
       "'sam'"
      ]
     },
     "execution_count": 48,
     "metadata": {},
     "output_type": "execute_result"
    }
   ],
   "source": [
    "the_hobbits[1]"
   ]
  },
  {
   "cell_type": "code",
   "execution_count": 49,
   "id": "ffa58fd2-e520-4545-a7d7-0a9a977ce9a2",
   "metadata": {},
   "outputs": [
    {
     "data": {
      "text/plain": [
       "4"
      ]
     },
     "execution_count": 49,
     "metadata": {},
     "output_type": "execute_result"
    }
   ],
   "source": [
    "len(the_hobbits)"
   ]
  },
  {
   "cell_type": "code",
   "execution_count": 50,
   "id": "f7685a65-0c00-4ab1-bd5e-5c232307fd79",
   "metadata": {},
   "outputs": [
    {
     "data": {
      "text/plain": [
       "list"
      ]
     },
     "execution_count": 50,
     "metadata": {},
     "output_type": "execute_result"
    }
   ],
   "source": [
    "type(the_hobbits)"
   ]
  },
  {
   "cell_type": "markdown",
   "id": "0e64e360-80f4-405d-83e5-7fed872aa18d",
   "metadata": {},
   "source": [
    "Lits, like strings, can be indexed, sliced or subset."
   ]
  },
  {
   "cell_type": "code",
   "execution_count": 51,
   "id": "86856a70-7061-4184-ba05-3203fbaa52d2",
   "metadata": {},
   "outputs": [
    {
     "data": {
      "text/plain": [
       "'frodo'"
      ]
     },
     "execution_count": 51,
     "metadata": {},
     "output_type": "execute_result"
    }
   ],
   "source": [
    "the_hobbits[0]"
   ]
  },
  {
   "cell_type": "code",
   "execution_count": 52,
   "id": "75e6163c-653b-4be1-a08c-2a335ba05e0f",
   "metadata": {},
   "outputs": [
    {
     "data": {
      "text/plain": [
       "['frodo', 'merry']"
      ]
     },
     "execution_count": 52,
     "metadata": {},
     "output_type": "execute_result"
    }
   ],
   "source": [
    "the_hobbits[::2]"
   ]
  },
  {
   "cell_type": "code",
   "execution_count": 53,
   "id": "46de34c6-911c-4ed5-b8e5-ae8e735a1e2f",
   "metadata": {},
   "outputs": [
    {
     "data": {
      "text/plain": [
       "str"
      ]
     },
     "execution_count": 53,
     "metadata": {},
     "output_type": "execute_result"
    }
   ],
   "source": [
    "type(the_hobbits[0])"
   ]
  },
  {
   "cell_type": "code",
   "execution_count": 54,
   "id": "c9773abe-a0d9-4154-9747-621bae636864",
   "metadata": {},
   "outputs": [
    {
     "data": {
      "text/plain": [
       "int"
      ]
     },
     "execution_count": 54,
     "metadata": {},
     "output_type": "execute_result"
    }
   ],
   "source": [
    "type(an_empty_list[1])"
   ]
  },
  {
   "cell_type": "code",
   "execution_count": 55,
   "id": "5c3befb1-4dda-45c5-8ffa-1d0d8a90e2c0",
   "metadata": {},
   "outputs": [
    {
     "name": "stdout",
     "output_type": "stream",
     "text": [
      "frodo\n"
     ]
    }
   ],
   "source": [
    "print(the_hobbits[0])"
   ]
  },
  {
   "cell_type": "markdown",
   "id": "b3361869-9aa5-4b1a-a96b-b29195c835d4",
   "metadata": {},
   "source": [
    "## Iterate with for-loops\n",
    "A for-loop allows us to APPLY an action or EXECUTE a procedure OVER and OVER again!\n",
    "\n",
    "We do not need to COPY OR PASTE MANUALLY!\n",
    "\n",
    "A for-loop iterates over a sequence by changing the value of an interating variable along that sequence."
   ]
  },
  {
   "cell_type": "code",
   "execution_count": 58,
   "id": "09590f4b-ed10-4bab-863e-083d1c2817bc",
   "metadata": {},
   "outputs": [
    {
     "name": "stdout",
     "output_type": "stream",
     "text": [
      "frodo\n",
      "sam\n",
      "merry\n",
      "pippin\n"
     ]
    }
   ],
   "source": [
    "for a_hobbit in the_hobbits:\n",
    "    print(a_hobbit)"
   ]
  },
  {
   "cell_type": "code",
   "execution_count": 59,
   "id": "d6f51376-9746-43cb-a826-7afaaf2497fe",
   "metadata": {},
   "outputs": [
    {
     "name": "stdout",
     "output_type": "stream",
     "text": [
      "Variable        Type     Data/Info\n",
      "----------------------------------\n",
      "a_hobbit        str      pippin\n",
      "an_empty_list   list     n=2\n",
      "my_string       str      abcde\n",
      "the_hobbits     list     n=4\n",
      "x               str      pippin\n",
      "y               int      7\n",
      "z               float    0.42857142857142855\n"
     ]
    }
   ],
   "source": [
    "%whos"
   ]
  },
  {
   "cell_type": "markdown",
   "id": "6b2368f7-cff2-4963-ae03-3556cece5075",
   "metadata": {},
   "source": [
    "A comming way to create or define a for-loop is with a `range()` function."
   ]
  },
  {
   "cell_type": "code",
   "execution_count": 60,
   "id": "e82b2ab3-1d92-4ba1-8bc2-5b706f64ed9b",
   "metadata": {},
   "outputs": [
    {
     "data": {
      "text/plain": [
       "range(0, 4)"
      ]
     },
     "execution_count": 60,
     "metadata": {},
     "output_type": "execute_result"
    }
   ],
   "source": [
    "range(4)"
   ]
  },
  {
   "cell_type": "code",
   "execution_count": 61,
   "id": "02195af8-a929-41b7-9d5e-21dc6d377048",
   "metadata": {},
   "outputs": [
    {
     "name": "stdout",
     "output_type": "stream",
     "text": [
      "0\n",
      "1\n",
      "2\n",
      "3\n"
     ]
    }
   ],
   "source": [
    "for n in range(4):\n",
    "    print(n)"
   ]
  },
  {
   "cell_type": "code",
   "execution_count": 62,
   "id": "e0194006-8abd-4ca7-9a6d-56fadbdee1d4",
   "metadata": {},
   "outputs": [
    {
     "name": "stdout",
     "output_type": "stream",
     "text": [
      "Variable        Type     Data/Info\n",
      "----------------------------------\n",
      "a_hobbit        str      pippin\n",
      "an_empty_list   list     n=2\n",
      "my_string       str      abcde\n",
      "n               int      3\n",
      "the_hobbits     list     n=4\n",
      "x               str      pippin\n",
      "y               int      7\n",
      "z               float    0.42857142857142855\n"
     ]
    }
   ],
   "source": [
    "%whos"
   ]
  },
  {
   "cell_type": "markdown",
   "id": "dfeb1394-51d4-4f88-b82a-15c89c7c7781",
   "metadata": {},
   "source": [
    "The `range()` function i often used to generate a sequence of integers to subset lists!"
   ]
  },
  {
   "cell_type": "code",
   "execution_count": 63,
   "id": "8b7360ee-2b8b-41fa-8667-c6421d2cf003",
   "metadata": {},
   "outputs": [
    {
     "name": "stdout",
     "output_type": "stream",
     "text": [
      "frodo\n",
      "sam\n",
      "merry\n",
      "pippin\n"
     ]
    }
   ],
   "source": [
    "for m in range(4):\n",
    "    print(the_hobbits[m])"
   ]
  },
  {
   "cell_type": "code",
   "execution_count": 64,
   "id": "20b4ad4e-e8fb-44b8-a67a-bb62bbf0a5e0",
   "metadata": {},
   "outputs": [
    {
     "name": "stdout",
     "output_type": "stream",
     "text": [
      "frodo\n",
      "sam\n",
      "merry\n",
      "pippin\n"
     ]
    }
   ],
   "source": [
    "for a_hobbit in the_hobbits:\n",
    "    print(a_hobbit)"
   ]
  },
  {
   "cell_type": "markdown",
   "id": "9944c8ab-3e01-4632-8498-a615bcb07fef",
   "metadata": {},
   "source": [
    "We do not need to specify or HARD CODE the 4 in `range()`. We can use the `len()` function to give us the LENGTH of the list."
   ]
  },
  {
   "cell_type": "code",
   "execution_count": 65,
   "id": "50ceb204-5781-4e8d-a9b1-59196558ede7",
   "metadata": {},
   "outputs": [
    {
     "name": "stdout",
     "output_type": "stream",
     "text": [
      "frodo\n",
      "sam\n",
      "merry\n",
      "pippin\n"
     ]
    }
   ],
   "source": [
    "for n in range(len(the_hobbits)):\n",
    "    print(the_hobbits[n])"
   ]
  },
  {
   "cell_type": "markdown",
   "id": "d275c7a3-ced8-4d42-ab32-400cb64526a7",
   "metadata": {},
   "source": [
    "## Lists are heterogenous\n",
    "They can contain multiple data types!!!"
   ]
  },
  {
   "cell_type": "code",
   "execution_count": 66,
   "id": "177fae52-4eca-4fac-a669-30227616cb7c",
   "metadata": {},
   "outputs": [],
   "source": [
    "another_list = [1, 1.0, '1', \"1\", \"1.0\", True]"
   ]
  },
  {
   "cell_type": "code",
   "execution_count": 67,
   "id": "5ac651f8-209e-47ff-a37a-1921f7502b57",
   "metadata": {},
   "outputs": [
    {
     "name": "stdout",
     "output_type": "stream",
     "text": [
      "Variable        Type     Data/Info\n",
      "----------------------------------\n",
      "a_hobbit        str      pippin\n",
      "an_empty_list   list     n=2\n",
      "another_list    list     n=6\n",
      "m               int      3\n",
      "my_string       str      abcde\n",
      "n               int      3\n",
      "the_hobbits     list     n=4\n",
      "x               str      pippin\n",
      "y               int      7\n",
      "z               float    0.42857142857142855\n"
     ]
    }
   ],
   "source": [
    "%whos"
   ]
  },
  {
   "cell_type": "code",
   "execution_count": 68,
   "id": "d2da58ee-f9de-4b10-90d5-f75b1a90dbbe",
   "metadata": {},
   "outputs": [
    {
     "data": {
      "text/plain": [
       "[1, 1.0, '1', '1', '1.0', True]"
      ]
     },
     "execution_count": 68,
     "metadata": {},
     "output_type": "execute_result"
    }
   ],
   "source": [
    "another_list"
   ]
  },
  {
   "cell_type": "code",
   "execution_count": 69,
   "id": "790b8355-afe5-441e-a3e9-ac30bfb9c56a",
   "metadata": {},
   "outputs": [
    {
     "name": "stdout",
     "output_type": "stream",
     "text": [
      "<class 'int'>\n",
      "<class 'float'>\n",
      "<class 'str'>\n",
      "<class 'str'>\n",
      "<class 'str'>\n",
      "<class 'bool'>\n"
     ]
    }
   ],
   "source": [
    "for x in another_list:\n",
    "    print(type(x))"
   ]
  },
  {
   "cell_type": "code",
   "execution_count": 70,
   "id": "f32e0ba1-77a7-4789-9357-87bff993eb62",
   "metadata": {},
   "outputs": [
    {
     "data": {
      "text/plain": [
       "int"
      ]
     },
     "execution_count": 70,
     "metadata": {},
     "output_type": "execute_result"
    }
   ],
   "source": [
    "type(another_list[0])"
   ]
  },
  {
   "cell_type": "code",
   "execution_count": null,
   "id": "eebbed9f-be2f-4416-a7ef-2b8f628988d6",
   "metadata": {},
   "outputs": [],
   "source": []
  },
  {
   "cell_type": "code",
   "execution_count": null,
   "id": "687155a8-24e9-4d8f-a3ee-b2efba5ea2c4",
   "metadata": {},
   "outputs": [],
   "source": []
  },
  {
   "cell_type": "code",
   "execution_count": null,
   "id": "df9103ca-cc64-4d82-ab49-10a4b576789a",
   "metadata": {},
   "outputs": [],
   "source": []
  },
  {
   "cell_type": "code",
   "execution_count": null,
   "id": "987a6959-b3eb-4a95-88ed-12fc288f1448",
   "metadata": {},
   "outputs": [],
   "source": []
  },
  {
   "cell_type": "code",
   "execution_count": null,
   "id": "40144904-1566-4d43-8bef-afc24e5b6c39",
   "metadata": {},
   "outputs": [],
   "source": []
  },
  {
   "cell_type": "code",
   "execution_count": null,
   "id": "72c89901-4b18-4c4c-9438-478364b91ca0",
   "metadata": {},
   "outputs": [],
   "source": []
  }
 ],
 "metadata": {
  "kernelspec": {
   "display_name": "Python 3 (ipykernel)",
   "language": "python",
   "name": "python3"
  },
  "language_info": {
   "codemirror_mode": {
    "name": "ipython",
    "version": 3
   },
   "file_extension": ".py",
   "mimetype": "text/x-python",
   "name": "python",
   "nbconvert_exporter": "python",
   "pygments_lexer": "ipython3",
   "version": "3.8.19"
  }
 },
 "nbformat": 4,
 "nbformat_minor": 5
}
