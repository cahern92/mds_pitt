{
 "cells": [
  {
   "cell_type": "markdown",
   "id": "a9366c95-4e37-47fc-9df5-928d6ddfd286",
   "metadata": {},
   "source": [
    "## CMPINF 2100 Week 03\n",
    "\n",
    "## Introduction to 2D NumPy Arrays\n",
    "\n",
    "We saw how to create, manipulate, modify, organize, and summarize 1D arrays, but what does 1D even mean?\n",
    "\n",
    "### Import NumPY"
   ]
  },
  {
   "cell_type": "code",
   "execution_count": 1,
   "id": "9000db5b-61c2-4944-ad81-9f75d91f0b26",
   "metadata": {},
   "outputs": [],
   "source": [
    "import numpy as np"
   ]
  },
  {
   "cell_type": "markdown",
   "id": "bea01d54-df85-4f13-a859-73783e1b784d",
   "metadata": {},
   "source": [
    "## Lists of lists\n",
    "\n",
    "Return back to base Python to being, wehave made lists of lists before...\n",
    "\n",
    "But this list of lists will be simple, just 2 elements. Each element will be a list of 3 values."
   ]
  },
  {
   "cell_type": "code",
   "execution_count": 2,
   "id": "9d00a061-cb63-410c-a919-381f187b3286",
   "metadata": {},
   "outputs": [
    {
     "data": {
      "text/plain": [
       "[[0, 0, 0], [1, 1, 1]]"
      ]
     },
     "execution_count": 2,
     "metadata": {},
     "output_type": "execute_result"
    }
   ],
   "source": [
    "[ [0 ,0 ,0], [1, 1, 1] ]"
   ]
  },
  {
   "cell_type": "markdown",
   "id": "47bcf464-de62-4df1-80c7-31bc73511f23",
   "metadata": {},
   "source": [
    "Do the same thing above but let's include in more white space and spacing!!!"
   ]
  },
  {
   "cell_type": "code",
   "execution_count": 3,
   "id": "9af06e2a-08be-43b7-bdde-496886691e36",
   "metadata": {},
   "outputs": [
    {
     "data": {
      "text/plain": [
       "[[0, 0, 0], [1, 1, 1]]"
      ]
     },
     "execution_count": 3,
     "metadata": {},
     "output_type": "execute_result"
    }
   ],
   "source": [
    "[ [0, 0, 0],\n",
    "  [1, 1, 1]]"
   ]
  },
  {
   "cell_type": "code",
   "execution_count": 5,
   "id": "f80e6b56-0c1f-4137-859b-8a19b218af33",
   "metadata": {},
   "outputs": [
    {
     "data": {
      "text/plain": [
       "2"
      ]
     },
     "execution_count": 5,
     "metadata": {},
     "output_type": "execute_result"
    }
   ],
   "source": [
    "np.array([ [0, 0, 0, 0, 0, 0],\n",
    "  [1, 1, 1, 1, 1, 1]]).ndim"
   ]
  },
  {
   "cell_type": "markdown",
   "id": "1eebcc9e-c9dc-4be0-b871-cad7de2e0956",
   "metadata": {},
   "source": [
    "Let's assign our list of lists to an object"
   ]
  },
  {
   "cell_type": "code",
   "execution_count": 6,
   "id": "07ac757a-831d-4b19-8d32-81e382a523fe",
   "metadata": {},
   "outputs": [],
   "source": [
    "my_list_of_lists = [ [0, 0, 0], \n",
    "                     [1, 1, 1]]"
   ]
  },
  {
   "cell_type": "markdown",
   "id": "10133dd1-af29-4ef4-bf66-7a5e8336dd57",
   "metadata": {},
   "source": [
    "Let's convert the list of lists to a NumPy array!!!"
   ]
  },
  {
   "cell_type": "code",
   "execution_count": 7,
   "id": "29478dfd-7cbf-4517-be6d-6b120c169769",
   "metadata": {},
   "outputs": [],
   "source": [
    "my_array = np.array(my_list_of_lists)"
   ]
  },
  {
   "cell_type": "code",
   "execution_count": 9,
   "id": "79eafccf-0b30-4946-99bf-183307fae2aa",
   "metadata": {},
   "outputs": [
    {
     "data": {
      "text/plain": [
       "2"
      ]
     },
     "execution_count": 9,
     "metadata": {},
     "output_type": "execute_result"
    }
   ],
   "source": [
    "my_array.ndim"
   ]
  },
  {
   "cell_type": "code",
   "execution_count": 10,
   "id": "9d849142-eca4-4e4c-8126-e7bb6e269aac",
   "metadata": {},
   "outputs": [
    {
     "data": {
      "text/plain": [
       "(2, 3)"
      ]
     },
     "execution_count": 10,
     "metadata": {},
     "output_type": "execute_result"
    }
   ],
   "source": [
    "my_array.shape"
   ]
  },
  {
   "cell_type": "code",
   "execution_count": 11,
   "id": "b2ca1f99-bf88-4c9c-8c78-6dd5ba6df290",
   "metadata": {},
   "outputs": [
    {
     "data": {
      "text/plain": [
       "6"
      ]
     },
     "execution_count": 11,
     "metadata": {},
     "output_type": "execute_result"
    }
   ],
   "source": [
    "my_array.size"
   ]
  },
  {
   "cell_type": "markdown",
   "id": "d7f22e38-5177-4fd5-aa84-2c7feb64fc12",
   "metadata": {},
   "source": [
    "2D arrays are MATRICES and they kind of look like TABLES!!\n",
    "\n",
    "2D arrays have 2 dimensions...they have ROWS and COLUMNS!!!"
   ]
  },
  {
   "cell_type": "markdown",
   "id": "32a8d5a6-351c-4bcd-8bff-c3c80c592eff",
   "metadata": {},
   "source": [
    "But please remember the list of lists does NOT understand ROWS and COLUMNS."
   ]
  },
  {
   "cell_type": "markdown",
   "id": "84cc3d6b-1fd5-4821-bfe7-ca5ed40e6a2b",
   "metadata": {},
   "source": [
    "Creating a 2D array from a list of lists required each inner list to have the same length!!"
   ]
  },
  {
   "cell_type": "code",
   "execution_count": 12,
   "id": "816fa053-77de-420b-98b8-df83d3981734",
   "metadata": {},
   "outputs": [
    {
     "ename": "ValueError",
     "evalue": "setting an array element with a sequence. The requested array has an inhomogeneous shape after 1 dimensions. The detected shape was (2,) + inhomogeneous part.",
     "output_type": "error",
     "traceback": [
      "\u001b[0;31m---------------------------------------------------------------------------\u001b[0m",
      "\u001b[0;31mValueError\u001b[0m                                Traceback (most recent call last)",
      "Cell \u001b[0;32mIn[12], line 1\u001b[0m\n\u001b[0;32m----> 1\u001b[0m \u001b[43mnp\u001b[49m\u001b[38;5;241;43m.\u001b[39;49m\u001b[43marray\u001b[49m\u001b[43m(\u001b[49m\u001b[43m[\u001b[49m\u001b[43m \u001b[49m\u001b[43m[\u001b[49m\u001b[38;5;241;43m0\u001b[39;49m\u001b[43m,\u001b[49m\u001b[38;5;241;43m0\u001b[39;49m\u001b[43m,\u001b[49m\u001b[38;5;241;43m0\u001b[39;49m\u001b[43m]\u001b[49m\u001b[43m,\u001b[49m\n\u001b[1;32m      2\u001b[0m \u001b[43m          \u001b[49m\u001b[43m[\u001b[49m\u001b[38;5;241;43m1\u001b[39;49m\u001b[43m,\u001b[49m\u001b[38;5;241;43m1\u001b[39;49m\u001b[43m,\u001b[49m\u001b[38;5;241;43m1\u001b[39;49m\u001b[43m,\u001b[49m\u001b[38;5;241;43m1\u001b[39;49m\u001b[43m,\u001b[49m\u001b[38;5;241;43m1\u001b[39;49m\u001b[43m,\u001b[49m\u001b[38;5;241;43m1\u001b[39;49m\u001b[43m,\u001b[49m\u001b[38;5;241;43m1\u001b[39;49m\u001b[43m,\u001b[49m\u001b[38;5;241;43m1\u001b[39;49m\u001b[43m,\u001b[49m\u001b[38;5;241;43m1\u001b[39;49m\u001b[43m,\u001b[49m\u001b[38;5;241;43m1\u001b[39;49m\u001b[43m,\u001b[49m\u001b[38;5;241;43m1\u001b[39;49m\u001b[43m]\u001b[49m\u001b[43m]\u001b[49m\u001b[43m)\u001b[49m\n",
      "\u001b[0;31mValueError\u001b[0m: setting an array element with a sequence. The requested array has an inhomogeneous shape after 1 dimensions. The detected shape was (2,) + inhomogeneous part."
     ]
    }
   ],
   "source": [
    "np.array([ [0,0,0],\n",
    "          [1,1,1,1,1,1,1,1,1,1,1]])"
   ]
  },
  {
   "cell_type": "markdown",
   "id": "ebb3b369-a0cc-4e37-9a34-e547e4f45c0d",
   "metadata": {},
   "source": [
    "Alternatively, we can create 2D arrays by COMBINING 1D arrays!!!"
   ]
  },
  {
   "cell_type": "code",
   "execution_count": 13,
   "id": "113362cf-3ee6-4234-bbb2-1b005a083f59",
   "metadata": {},
   "outputs": [],
   "source": [
    "a = np.zeros(3)"
   ]
  },
  {
   "cell_type": "code",
   "execution_count": 14,
   "id": "88fe3d77-1a8c-44be-8731-a232df64f980",
   "metadata": {},
   "outputs": [],
   "source": [
    "b = np.ones(3)"
   ]
  },
  {
   "cell_type": "code",
   "execution_count": 15,
   "id": "04477118-1c56-49bd-af7a-c4bf8f3fa26d",
   "metadata": {},
   "outputs": [
    {
     "data": {
      "text/plain": [
       "1"
      ]
     },
     "execution_count": 15,
     "metadata": {},
     "output_type": "execute_result"
    }
   ],
   "source": [
    "a.ndim"
   ]
  },
  {
   "cell_type": "code",
   "execution_count": 16,
   "id": "e7b26d3c-bdf4-4d66-a3e5-8ea1c60e5693",
   "metadata": {},
   "outputs": [
    {
     "data": {
      "text/plain": [
       "(3,)"
      ]
     },
     "execution_count": 16,
     "metadata": {},
     "output_type": "execute_result"
    }
   ],
   "source": [
    "a.shape"
   ]
  },
  {
   "cell_type": "code",
   "execution_count": 17,
   "id": "22af701e-096a-43b8-a009-9cad8562b81d",
   "metadata": {},
   "outputs": [
    {
     "data": {
      "text/plain": [
       "3"
      ]
     },
     "execution_count": 17,
     "metadata": {},
     "output_type": "execute_result"
    }
   ],
   "source": [
    "a.size"
   ]
  },
  {
   "cell_type": "code",
   "execution_count": 18,
   "id": "2681a564-d803-4f56-97c3-0f777fbb0bfd",
   "metadata": {},
   "outputs": [
    {
     "data": {
      "text/plain": [
       "1"
      ]
     },
     "execution_count": 18,
     "metadata": {},
     "output_type": "execute_result"
    }
   ],
   "source": [
    "b.ndim"
   ]
  },
  {
   "cell_type": "code",
   "execution_count": 19,
   "id": "36168fbd-fbdc-4345-95d5-656c70f56d8a",
   "metadata": {},
   "outputs": [
    {
     "data": {
      "text/plain": [
       "(3,)"
      ]
     },
     "execution_count": 19,
     "metadata": {},
     "output_type": "execute_result"
    }
   ],
   "source": [
    "b.shape"
   ]
  },
  {
   "cell_type": "code",
   "execution_count": 20,
   "id": "376e6021-b770-4399-a158-1985baaf029b",
   "metadata": {},
   "outputs": [
    {
     "data": {
      "text/plain": [
       "3"
      ]
     },
     "execution_count": 20,
     "metadata": {},
     "output_type": "execute_result"
    }
   ],
   "source": [
    "b.size"
   ]
  },
  {
   "cell_type": "markdown",
   "id": "facc3ebe-a550-4924-bec8-dc16d1f011aa",
   "metadata": {},
   "source": [
    "We can use the `np.concatenate()` function to combine the two 1D arrays."
   ]
  },
  {
   "cell_type": "code",
   "execution_count": 21,
   "id": "8648276e-208a-409a-a5ac-bf84bf14e21f",
   "metadata": {},
   "outputs": [
    {
     "data": {
      "text/plain": [
       "array([0., 0., 0., 1., 1., 1.])"
      ]
     },
     "execution_count": 21,
     "metadata": {},
     "output_type": "execute_result"
    }
   ],
   "source": [
    "np.concatenate([a,b])"
   ]
  },
  {
   "cell_type": "markdown",
   "id": "043d6030-7d2c-49ef-8038-0c44d8c0deb7",
   "metadata": {},
   "source": [
    "Creating a 2D array from 1D arrays requires us to change the syntax to `np.concatenate()`"
   ]
  },
  {
   "cell_type": "code",
   "execution_count": 22,
   "id": "d5447234-6e5e-453f-a7c2-ca2508e81550",
   "metadata": {},
   "outputs": [
    {
     "data": {
      "text/plain": [
       "array([[0., 0., 0.],\n",
       "       [1., 1., 1.]])"
      ]
     },
     "execution_count": 22,
     "metadata": {},
     "output_type": "execute_result"
    }
   ],
   "source": [
    "np.concatenate([ [a], [b]])"
   ]
  },
  {
   "cell_type": "markdown",
   "id": "a3d32b66-3b3b-44c6-9369-4935c7ec7148",
   "metadata": {},
   "source": [
    "There are speciality functions that simplify STACKING arrays together!!!\n",
    "\n",
    "\n",
    "Stacking arrays ON top of each other is known as VERTICAL stacking or VERTICAL combining."
   ]
  },
  {
   "cell_type": "code",
   "execution_count": 23,
   "id": "7c66b212-b6ce-40f7-8efb-073987d1e68a",
   "metadata": {},
   "outputs": [
    {
     "data": {
      "text/plain": [
       "array([[0., 0., 0.],\n",
       "       [1., 1., 1.]])"
      ]
     },
     "execution_count": 23,
     "metadata": {},
     "output_type": "execute_result"
    }
   ],
   "source": [
    "np.vstack([a,b])"
   ]
  },
  {
   "cell_type": "markdown",
   "id": "db69bd02-645c-4536-a63f-87f336a6cc7b",
   "metadata": {},
   "source": [
    "Combining arrays side by side is known as HORIZONTAL stacking."
   ]
  },
  {
   "cell_type": "code",
   "execution_count": 25,
   "id": "43e19522-d709-437c-ac5d-09a576de9660",
   "metadata": {},
   "outputs": [
    {
     "data": {
      "text/plain": [
       "array([0., 0., 0., 1., 1., 1.])"
      ]
     },
     "execution_count": 25,
     "metadata": {},
     "output_type": "execute_result"
    }
   ],
   "source": [
    "np.hstack([a,b])"
   ]
  },
  {
   "cell_type": "markdown",
   "id": "235bb6b8-ed34-4536-862d-2399cc292bdb",
   "metadata": {},
   "source": [
    "We can combine or stack more than 2 arrays at the same time!"
   ]
  },
  {
   "cell_type": "code",
   "execution_count": 26,
   "id": "e8bb40f9-79ac-4d9f-a598-14a8c6f81e30",
   "metadata": {},
   "outputs": [],
   "source": [
    "c = 2*np.ones(3)"
   ]
  },
  {
   "cell_type": "code",
   "execution_count": 27,
   "id": "ece81e57-bc84-4229-9da5-de46ce2a460e",
   "metadata": {},
   "outputs": [],
   "source": [
    "d = 3*np.ones(3)"
   ]
  },
  {
   "cell_type": "code",
   "execution_count": 28,
   "id": "c55a529a-22e1-428e-ab51-ddd2c02e342a",
   "metadata": {},
   "outputs": [
    {
     "data": {
      "text/plain": [
       "array([2., 2., 2.])"
      ]
     },
     "execution_count": 28,
     "metadata": {},
     "output_type": "execute_result"
    }
   ],
   "source": [
    "c"
   ]
  },
  {
   "cell_type": "code",
   "execution_count": 29,
   "id": "da92e36d-aeaf-4b4d-a23d-dcc822a906ae",
   "metadata": {},
   "outputs": [
    {
     "data": {
      "text/plain": [
       "array([3., 3., 3.])"
      ]
     },
     "execution_count": 29,
     "metadata": {},
     "output_type": "execute_result"
    }
   ],
   "source": [
    "d"
   ]
  },
  {
   "cell_type": "code",
   "execution_count": 30,
   "id": "b5cdb3c3-c4e3-482f-8dac-81b59c03a4cf",
   "metadata": {},
   "outputs": [
    {
     "data": {
      "text/plain": [
       "array([[0., 0., 0.],\n",
       "       [1., 1., 1.],\n",
       "       [2., 2., 2.],\n",
       "       [3., 3., 3.]])"
      ]
     },
     "execution_count": 30,
     "metadata": {},
     "output_type": "execute_result"
    }
   ],
   "source": [
    "np.vstack([a,b,c,d])"
   ]
  },
  {
   "cell_type": "code",
   "execution_count": 32,
   "id": "2b1ca885-3799-4a27-825e-e738e038542c",
   "metadata": {},
   "outputs": [
    {
     "data": {
      "text/plain": [
       "(4, 3)"
      ]
     },
     "execution_count": 32,
     "metadata": {},
     "output_type": "execute_result"
    }
   ],
   "source": [
    "np.vstack([a,b,c,d]).shape"
   ]
  },
  {
   "cell_type": "markdown",
   "id": "c7b35855-47d8-4305-934a-b033754ee5bb",
   "metadata": {},
   "source": [
    "We can also stack 2D arrays together!!!"
   ]
  },
  {
   "cell_type": "code",
   "execution_count": 33,
   "id": "c0ec0a73-715d-49d9-9880-6f9b28ed2afb",
   "metadata": {},
   "outputs": [
    {
     "data": {
      "text/plain": [
       "array([[0., 0., 0.],\n",
       "       [1., 1., 1.],\n",
       "       [2., 2., 2.],\n",
       "       [3., 3., 3.]])"
      ]
     },
     "execution_count": 33,
     "metadata": {},
     "output_type": "execute_result"
    }
   ],
   "source": [
    "np.vstack([np.vstack([a,b]), np.vstack([c,d]) ])"
   ]
  },
  {
   "cell_type": "code",
   "execution_count": null,
   "id": "4f4755c9-3f47-41e1-8069-3e597ce28af7",
   "metadata": {},
   "outputs": [],
   "source": []
  },
  {
   "cell_type": "code",
   "execution_count": null,
   "id": "2b5a95db-cd6e-42e4-b77f-5f8372c5bcbb",
   "metadata": {},
   "outputs": [],
   "source": []
  },
  {
   "cell_type": "code",
   "execution_count": null,
   "id": "26fa27fe-4872-44df-b901-698842f7d8a8",
   "metadata": {},
   "outputs": [],
   "source": []
  },
  {
   "cell_type": "code",
   "execution_count": null,
   "id": "461320d6-ed24-4f45-aa5c-0b14509d339f",
   "metadata": {},
   "outputs": [],
   "source": []
  },
  {
   "cell_type": "code",
   "execution_count": null,
   "id": "213773c6-7e47-466f-a207-2cc473583656",
   "metadata": {},
   "outputs": [],
   "source": []
  }
 ],
 "metadata": {
  "kernelspec": {
   "display_name": "Python 3 (ipykernel)",
   "language": "python",
   "name": "python3"
  },
  "language_info": {
   "codemirror_mode": {
    "name": "ipython",
    "version": 3
   },
   "file_extension": ".py",
   "mimetype": "text/x-python",
   "name": "python",
   "nbconvert_exporter": "python",
   "pygments_lexer": "ipython3",
   "version": "3.8.19"
  }
 },
 "nbformat": 4,
 "nbformat_minor": 5
}
