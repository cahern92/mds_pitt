{
 "cells": [
  {
   "cell_type": "markdown",
   "id": "aadee887-da47-411a-8d71-2972fcf261d8",
   "metadata": {},
   "source": [
    "## CMPINF 2100 Week 03\n",
    "### Manipulate and Summarize 1D NumPy Arrays\n",
    "\n",
    "We can modify or manipulate 1D NumPy Arrays multiple ways\n",
    "\n",
    "* Modify individual values\n",
    "* Slice/Index to remove elements\n",
    "* COMBINE arrays together\n",
    "* Change the ORDER of the values\n",
    "* SUMMARIZE the values within the array\n",
    "\n",
    "### Import NumPy"
   ]
  },
  {
   "cell_type": "code",
   "execution_count": 1,
   "id": "7b77055a-34f5-43bf-90d6-c2c610563375",
   "metadata": {},
   "outputs": [],
   "source": [
    "import numpy as np"
   ]
  },
  {
   "cell_type": "markdown",
   "id": "532b28f1-f462-4a5c-922b-98e1cc32b010",
   "metadata": {},
   "source": [
    "### Create an array\n",
    "We will work with a few simple arrays in this notebook."
   ]
  },
  {
   "cell_type": "code",
   "execution_count": 4,
   "id": "e19e01fb-dcb5-4d9a-91bf-ad47cf8d52f9",
   "metadata": {},
   "outputs": [],
   "source": [
    "a = np.arange(6)"
   ]
  },
  {
   "cell_type": "code",
   "execution_count": 5,
   "id": "aa6876d9-1c3c-466a-b069-2b94b1de9242",
   "metadata": {},
   "outputs": [
    {
     "data": {
      "text/plain": [
       "array([0, 1, 2, 3, 4, 5])"
      ]
     },
     "execution_count": 5,
     "metadata": {},
     "output_type": "execute_result"
    }
   ],
   "source": [
    "a"
   ]
  },
  {
   "cell_type": "code",
   "execution_count": 6,
   "id": "580a78c1-a058-4f44-885a-af3e80528320",
   "metadata": {},
   "outputs": [
    {
     "data": {
      "text/plain": [
       "1"
      ]
     },
     "execution_count": 6,
     "metadata": {},
     "output_type": "execute_result"
    }
   ],
   "source": [
    "a.ndim"
   ]
  },
  {
   "cell_type": "code",
   "execution_count": 7,
   "id": "4d4e249b-3b90-4251-95ae-ff0820e3e5df",
   "metadata": {},
   "outputs": [
    {
     "data": {
      "text/plain": [
       "(6,)"
      ]
     },
     "execution_count": 7,
     "metadata": {},
     "output_type": "execute_result"
    }
   ],
   "source": [
    "a.shape"
   ]
  },
  {
   "cell_type": "code",
   "execution_count": 8,
   "id": "14aac692-9bff-4eb3-aace-c0a8acf50437",
   "metadata": {},
   "outputs": [
    {
     "data": {
      "text/plain": [
       "6"
      ]
     },
     "execution_count": 8,
     "metadata": {},
     "output_type": "execute_result"
    }
   ],
   "source": [
    "a.size"
   ]
  },
  {
   "cell_type": "markdown",
   "id": "029dd5fc-f5aa-4d9a-82e1-134f9a6b313f",
   "metadata": {},
   "source": [
    "## Modify values\n",
    "NumPy arrays are MUTABLE, meaning we can change their values!!!"
   ]
  },
  {
   "cell_type": "code",
   "execution_count": 9,
   "id": "9241d0ba-ee9e-4b98-b057-6c50084584d4",
   "metadata": {},
   "outputs": [
    {
     "data": {
      "text/plain": [
       "array([0, 1, 2, 3, 4, 5])"
      ]
     },
     "execution_count": 9,
     "metadata": {},
     "output_type": "execute_result"
    }
   ],
   "source": [
    "a"
   ]
  },
  {
   "cell_type": "markdown",
   "id": "b1a88955-67c7-4c71-94e9-fb619f866f43",
   "metadata": {},
   "source": [
    "### Slice of Index\n",
    "Slicing or indexing works just as slicing/indexing the base Python lists!"
   ]
  },
  {
   "cell_type": "code",
   "execution_count": 10,
   "id": "e3434867-e0fe-478c-b08c-d4716ca5aa80",
   "metadata": {},
   "outputs": [
    {
     "data": {
      "text/plain": [
       "0"
      ]
     },
     "execution_count": 10,
     "metadata": {},
     "output_type": "execute_result"
    }
   ],
   "source": [
    "a[0]"
   ]
  },
  {
   "cell_type": "code",
   "execution_count": 11,
   "id": "8f2d9f6c-a798-4ba2-83e3-00858083e814",
   "metadata": {},
   "outputs": [
    {
     "data": {
      "text/plain": [
       "5"
      ]
     },
     "execution_count": 11,
     "metadata": {},
     "output_type": "execute_result"
    }
   ],
   "source": [
    "a[-1]"
   ]
  },
  {
   "cell_type": "code",
   "execution_count": 12,
   "id": "10e1b598-1d1c-48fd-8a79-2b55ae4f5308",
   "metadata": {},
   "outputs": [
    {
     "data": {
      "text/plain": [
       "array([0, 1, 2])"
      ]
     },
     "execution_count": 12,
     "metadata": {},
     "output_type": "execute_result"
    }
   ],
   "source": [
    "a[: 3]"
   ]
  },
  {
   "cell_type": "code",
   "execution_count": 13,
   "id": "a527188a-ea41-41ee-ae02-cdcfb602fbf4",
   "metadata": {},
   "outputs": [
    {
     "data": {
      "text/plain": [
       "array([3, 4, 5])"
      ]
     },
     "execution_count": 13,
     "metadata": {},
     "output_type": "execute_result"
    }
   ],
   "source": [
    "a[3:]"
   ]
  },
  {
   "cell_type": "code",
   "execution_count": 14,
   "id": "651623ad-4949-4862-8750-e7fb303d7695",
   "metadata": {},
   "outputs": [
    {
     "data": {
      "text/plain": [
       "array([1, 2, 3, 4, 5])"
      ]
     },
     "execution_count": 14,
     "metadata": {},
     "output_type": "execute_result"
    }
   ],
   "source": [
    "a[1:]"
   ]
  },
  {
   "cell_type": "markdown",
   "id": "2c8242ba-9920-4e7e-a0c8-5c75157b4fa8",
   "metadata": {},
   "source": [
    "How can we modify or change a value?\n",
    "Slice or index to indentify that element and assign a new value"
   ]
  },
  {
   "cell_type": "code",
   "execution_count": 15,
   "id": "742971a3-caf9-4c08-8a16-686d0711707a",
   "metadata": {},
   "outputs": [],
   "source": [
    "a[0] = 100"
   ]
  },
  {
   "cell_type": "code",
   "execution_count": 16,
   "id": "41121783-d16c-4460-9dfb-741b4d915b13",
   "metadata": {},
   "outputs": [
    {
     "data": {
      "text/plain": [
       "array([100,   1,   2,   3,   4,   5])"
      ]
     },
     "execution_count": 16,
     "metadata": {},
     "output_type": "execute_result"
    }
   ],
   "source": [
    "a"
   ]
  },
  {
   "cell_type": "markdown",
   "id": "96f999a2-46f5-49de-a180-fffe24ca46c5",
   "metadata": {},
   "source": [
    "But something to keep in mind..."
   ]
  },
  {
   "cell_type": "code",
   "execution_count": 17,
   "id": "21f9fa72-0cd9-4953-a192-83982dcc1f87",
   "metadata": {},
   "outputs": [],
   "source": [
    "b = np.linspace(-5, 5, num=21)"
   ]
  },
  {
   "cell_type": "code",
   "execution_count": 18,
   "id": "a12a0471-2132-42c7-87cb-9c177893f915",
   "metadata": {},
   "outputs": [
    {
     "data": {
      "text/plain": [
       "array([-5. , -4.5, -4. , -3.5, -3. , -2.5, -2. , -1.5, -1. , -0.5,  0. ,\n",
       "        0.5,  1. ,  1.5,  2. ,  2.5,  3. ,  3.5,  4. ,  4.5,  5. ])"
      ]
     },
     "execution_count": 18,
     "metadata": {},
     "output_type": "execute_result"
    }
   ],
   "source": [
    "b"
   ]
  },
  {
   "cell_type": "code",
   "execution_count": 20,
   "id": "eb733f9d-78f8-4526-88ce-604961fbe54e",
   "metadata": {},
   "outputs": [
    {
     "data": {
      "text/plain": [
       "21"
      ]
     },
     "execution_count": 20,
     "metadata": {},
     "output_type": "execute_result"
    }
   ],
   "source": [
    "b.size"
   ]
  },
  {
   "cell_type": "code",
   "execution_count": 23,
   "id": "f969e48a-b345-4da1-ad39-d3f16111a9f6",
   "metadata": {},
   "outputs": [
    {
     "data": {
      "text/plain": [
       "array([100,   1,   2])"
      ]
     },
     "execution_count": 23,
     "metadata": {},
     "output_type": "execute_result"
    }
   ],
   "source": [
    "a[:3]"
   ]
  },
  {
   "cell_type": "code",
   "execution_count": 24,
   "id": "94673bad-2998-430a-939f-c1b0cdc49db1",
   "metadata": {},
   "outputs": [
    {
     "data": {
      "text/plain": [
       "array([-5. , -4.5, -4. ])"
      ]
     },
     "execution_count": 24,
     "metadata": {},
     "output_type": "execute_result"
    }
   ],
   "source": [
    "b[:3]"
   ]
  },
  {
   "cell_type": "markdown",
   "id": "0f7d3714-615a-4364-b71b-1692e5fb1361",
   "metadata": {},
   "source": [
    "## Conditional subset\n",
    "\n",
    "Conditional subsetting FILTERS or SLICES an array based on a CONDITIONAL TEST!!!\n",
    "\n",
    "\n",
    "Whats a conditional test?\n",
    "\n",
    "Is 1 less than 3?"
   ]
  },
  {
   "cell_type": "code",
   "execution_count": 25,
   "id": "e0740250-fa52-4d1c-9bdd-5f7bc1f8fcbf",
   "metadata": {},
   "outputs": [
    {
     "data": {
      "text/plain": [
       "True"
      ]
     },
     "execution_count": 25,
     "metadata": {},
     "output_type": "execute_result"
    }
   ],
   "source": [
    "1 < 3"
   ]
  },
  {
   "cell_type": "code",
   "execution_count": 26,
   "id": "6262ba2e-883f-4fc2-82bf-f61e41e78b2c",
   "metadata": {},
   "outputs": [
    {
     "data": {
      "text/plain": [
       "False"
      ]
     },
     "execution_count": 26,
     "metadata": {},
     "output_type": "execute_result"
    }
   ],
   "source": [
    "5 < 3"
   ]
  },
  {
   "cell_type": "code",
   "execution_count": 29,
   "id": "98269533-1949-469e-981a-5d7d28e2c3bd",
   "metadata": {},
   "outputs": [
    {
     "data": {
      "text/plain": [
       "True"
      ]
     },
     "execution_count": 29,
     "metadata": {},
     "output_type": "execute_result"
    }
   ],
   "source": [
    "1 <= 3"
   ]
  },
  {
   "cell_type": "code",
   "execution_count": 32,
   "id": "73a7f923-b1c6-48a6-a749-8e66ab7b2aa6",
   "metadata": {},
   "outputs": [],
   "source": [
    "a[5] = 101"
   ]
  },
  {
   "cell_type": "code",
   "execution_count": 41,
   "id": "c9dcbd44-ba2a-49bd-a259-64c5a7ca2a88",
   "metadata": {},
   "outputs": [],
   "source": [
    "a[0] = -101"
   ]
  },
  {
   "cell_type": "code",
   "execution_count": 42,
   "id": "0daab2cd-eabe-4de3-a5bb-484f4058208f",
   "metadata": {},
   "outputs": [
    {
     "data": {
      "text/plain": [
       "array([-101,    1,    2,    3,    4,  101])"
      ]
     },
     "execution_count": 42,
     "metadata": {},
     "output_type": "execute_result"
    }
   ],
   "source": [
    "a"
   ]
  },
  {
   "cell_type": "markdown",
   "id": "79dc6d1a-abd8-40bf-a533-e81f72d7c9f2",
   "metadata": {},
   "source": [
    "We do not need to iterate with for loops or comprehensions to do simple operations in NumPy!"
   ]
  },
  {
   "cell_type": "code",
   "execution_count": 34,
   "id": "f6299414-f79a-4e25-bcfc-21b680a526fc",
   "metadata": {},
   "outputs": [
    {
     "data": {
      "text/plain": [
       "array([False,  True,  True, False, False, False])"
      ]
     },
     "execution_count": 34,
     "metadata": {},
     "output_type": "execute_result"
    }
   ],
   "source": [
    "a < 3"
   ]
  },
  {
   "cell_type": "code",
   "execution_count": 35,
   "id": "127b6caf-74a5-4341-8a21-e06284b6ca41",
   "metadata": {},
   "outputs": [
    {
     "data": {
      "text/plain": [
       "['T',\n",
       " '__abs__',\n",
       " '__add__',\n",
       " '__and__',\n",
       " '__array__',\n",
       " '__array_finalize__',\n",
       " '__array_function__',\n",
       " '__array_interface__',\n",
       " '__array_prepare__',\n",
       " '__array_priority__',\n",
       " '__array_struct__',\n",
       " '__array_ufunc__',\n",
       " '__array_wrap__',\n",
       " '__bool__',\n",
       " '__class__',\n",
       " '__class_getitem__',\n",
       " '__complex__',\n",
       " '__contains__',\n",
       " '__copy__',\n",
       " '__deepcopy__',\n",
       " '__delattr__',\n",
       " '__delitem__',\n",
       " '__dir__',\n",
       " '__divmod__',\n",
       " '__dlpack__',\n",
       " '__dlpack_device__',\n",
       " '__doc__',\n",
       " '__eq__',\n",
       " '__float__',\n",
       " '__floordiv__',\n",
       " '__format__',\n",
       " '__ge__',\n",
       " '__getattribute__',\n",
       " '__getitem__',\n",
       " '__gt__',\n",
       " '__hash__',\n",
       " '__iadd__',\n",
       " '__iand__',\n",
       " '__ifloordiv__',\n",
       " '__ilshift__',\n",
       " '__imatmul__',\n",
       " '__imod__',\n",
       " '__imul__',\n",
       " '__index__',\n",
       " '__init__',\n",
       " '__init_subclass__',\n",
       " '__int__',\n",
       " '__invert__',\n",
       " '__ior__',\n",
       " '__ipow__',\n",
       " '__irshift__',\n",
       " '__isub__',\n",
       " '__iter__',\n",
       " '__itruediv__',\n",
       " '__ixor__',\n",
       " '__le__',\n",
       " '__len__',\n",
       " '__lshift__',\n",
       " '__lt__',\n",
       " '__matmul__',\n",
       " '__mod__',\n",
       " '__mul__',\n",
       " '__ne__',\n",
       " '__neg__',\n",
       " '__new__',\n",
       " '__or__',\n",
       " '__pos__',\n",
       " '__pow__',\n",
       " '__radd__',\n",
       " '__rand__',\n",
       " '__rdivmod__',\n",
       " '__reduce__',\n",
       " '__reduce_ex__',\n",
       " '__repr__',\n",
       " '__rfloordiv__',\n",
       " '__rlshift__',\n",
       " '__rmatmul__',\n",
       " '__rmod__',\n",
       " '__rmul__',\n",
       " '__ror__',\n",
       " '__rpow__',\n",
       " '__rrshift__',\n",
       " '__rshift__',\n",
       " '__rsub__',\n",
       " '__rtruediv__',\n",
       " '__rxor__',\n",
       " '__setattr__',\n",
       " '__setitem__',\n",
       " '__setstate__',\n",
       " '__sizeof__',\n",
       " '__str__',\n",
       " '__sub__',\n",
       " '__subclasshook__',\n",
       " '__truediv__',\n",
       " '__xor__',\n",
       " 'all',\n",
       " 'any',\n",
       " 'argmax',\n",
       " 'argmin',\n",
       " 'argpartition',\n",
       " 'argsort',\n",
       " 'astype',\n",
       " 'base',\n",
       " 'byteswap',\n",
       " 'choose',\n",
       " 'clip',\n",
       " 'compress',\n",
       " 'conj',\n",
       " 'conjugate',\n",
       " 'copy',\n",
       " 'ctypes',\n",
       " 'cumprod',\n",
       " 'cumsum',\n",
       " 'data',\n",
       " 'diagonal',\n",
       " 'dot',\n",
       " 'dtype',\n",
       " 'dump',\n",
       " 'dumps',\n",
       " 'fill',\n",
       " 'flags',\n",
       " 'flat',\n",
       " 'flatten',\n",
       " 'getfield',\n",
       " 'imag',\n",
       " 'item',\n",
       " 'itemset',\n",
       " 'itemsize',\n",
       " 'max',\n",
       " 'mean',\n",
       " 'min',\n",
       " 'nbytes',\n",
       " 'ndim',\n",
       " 'newbyteorder',\n",
       " 'nonzero',\n",
       " 'partition',\n",
       " 'prod',\n",
       " 'ptp',\n",
       " 'put',\n",
       " 'ravel',\n",
       " 'real',\n",
       " 'repeat',\n",
       " 'reshape',\n",
       " 'resize',\n",
       " 'round',\n",
       " 'searchsorted',\n",
       " 'setfield',\n",
       " 'setflags',\n",
       " 'shape',\n",
       " 'size',\n",
       " 'sort',\n",
       " 'squeeze',\n",
       " 'std',\n",
       " 'strides',\n",
       " 'sum',\n",
       " 'swapaxes',\n",
       " 'take',\n",
       " 'tobytes',\n",
       " 'tofile',\n",
       " 'tolist',\n",
       " 'tostring',\n",
       " 'trace',\n",
       " 'transpose',\n",
       " 'var',\n",
       " 'view']"
      ]
     },
     "execution_count": 35,
     "metadata": {},
     "output_type": "execute_result"
    }
   ],
   "source": [
    "dir(a)"
   ]
  },
  {
   "cell_type": "markdown",
   "id": "a0a127c6-2646-4021-a9d3-fcbcba573b5e",
   "metadata": {},
   "source": [
    "NumPy arrays are intended to be HOMOGENOUS. That means all elements should be the same data type within the array!!"
   ]
  },
  {
   "cell_type": "markdown",
   "id": "add762cc-552f-42ae-8a0b-2ca945a3999d",
   "metadata": {},
   "source": [
    "Let's assign the result of the conditional test to a new object!"
   ]
  },
  {
   "cell_type": "code",
   "execution_count": 44,
   "id": "cc275615-1da2-4692-b3ac-6abd1f013ec0",
   "metadata": {},
   "outputs": [],
   "source": [
    "a_mask = a < 3"
   ]
  },
  {
   "cell_type": "code",
   "execution_count": 37,
   "id": "966b1b16-c622-4722-b304-3b14097856ab",
   "metadata": {},
   "outputs": [
    {
     "name": "stdout",
     "output_type": "stream",
     "text": [
      "Variable   Type       Data/Info\n",
      "-------------------------------\n",
      "a          ndarray    6: 6 elems, type `int64`, 48 bytes\n",
      "a_mask     ndarray    6: 6 elems, type `bool`, 6 bytes\n",
      "aa         ndarray    6: 6 elems, type `int64`, 48 bytes\n",
      "b          ndarray    21: 21 elems, type `float64`, 168 bytes\n",
      "np         module     <module 'numpy' from '/Ap<...>kages/numpy/__init__.py'>\n"
     ]
    }
   ],
   "source": [
    "%whos"
   ]
  },
  {
   "cell_type": "code",
   "execution_count": 38,
   "id": "306689d1-3a5b-40ff-b194-cb546357d31f",
   "metadata": {},
   "outputs": [
    {
     "data": {
      "text/plain": [
       "array([False,  True,  True, False, False, False])"
      ]
     },
     "execution_count": 38,
     "metadata": {},
     "output_type": "execute_result"
    }
   ],
   "source": [
    "a_mask"
   ]
  },
  {
   "cell_type": "markdown",
   "id": "c5c72c84-a9db-4c7e-a065-4930ef3189cd",
   "metadata": {},
   "source": [
    "This MASK serves a useful purpose. It identifies ALL elements in the array `a` that SATISFY the conditional test!!\n",
    "\n",
    "This means we can use the MASK to KEEP or FILTER the elements that meet our test!!!"
   ]
  },
  {
   "cell_type": "code",
   "execution_count": 45,
   "id": "ac5b5300-9730-4378-abcb-721f1ed6095c",
   "metadata": {},
   "outputs": [
    {
     "data": {
      "text/plain": [
       "array([-101,    1,    2])"
      ]
     },
     "execution_count": 45,
     "metadata": {},
     "output_type": "execute_result"
    }
   ],
   "source": [
    "a[a_mask]"
   ]
  },
  {
   "cell_type": "markdown",
   "id": "8cdbeb9e-50cc-44f0-850c-505f4b991de4",
   "metadata": {},
   "source": [
    "I need to remember what object the MASK was applied to and what the conditional test is!!\n",
    "\n",
    "\n",
    "Add the conditional test within the slicing/index brackets!!!"
   ]
  },
  {
   "cell_type": "code",
   "execution_count": 46,
   "id": "fd7e5d03-712c-4319-829c-3e0d6362ea13",
   "metadata": {},
   "outputs": [
    {
     "data": {
      "text/plain": [
       "array([-101,    1,    2])"
      ]
     },
     "execution_count": 46,
     "metadata": {},
     "output_type": "execute_result"
    }
   ],
   "source": [
    "a [a<3]"
   ]
  },
  {
   "cell_type": "markdown",
   "id": "28322a2b-41f5-47cb-8165-107edfab417f",
   "metadata": {},
   "source": [
    "Return all values of `b` that are less than 3."
   ]
  },
  {
   "cell_type": "code",
   "execution_count": 47,
   "id": "70228639-891a-4041-bce8-b6965b46ca3e",
   "metadata": {},
   "outputs": [
    {
     "data": {
      "text/plain": [
       "array([-5. , -4.5, -4. , -3.5, -3. , -2.5, -2. , -1.5, -1. , -0.5,  0. ,\n",
       "        0.5,  1. ,  1.5,  2. ,  2.5])"
      ]
     },
     "execution_count": 47,
     "metadata": {},
     "output_type": "execute_result"
    }
   ],
   "source": [
    "b[b<3]"
   ]
  },
  {
   "cell_type": "markdown",
   "id": "7ce23ac0-94f3-439a-830f-2909ea0e621c",
   "metadata": {},
   "source": [
    "## Combine multiple arrays together\n",
    "\n",
    "Let's create 2 small lists."
   ]
  },
  {
   "cell_type": "code",
   "execution_count": 48,
   "id": "ab3e27a7-ff7b-4400-b44e-81fd676c1941",
   "metadata": {},
   "outputs": [],
   "source": [
    "a_list = [1, 2, 3]"
   ]
  },
  {
   "cell_type": "code",
   "execution_count": 49,
   "id": "70909f34-7672-4958-92d0-411a77f8659e",
   "metadata": {},
   "outputs": [],
   "source": [
    "b_list = [1, 2, 3]"
   ]
  },
  {
   "cell_type": "code",
   "execution_count": 50,
   "id": "ffd46fe0-8db9-48c2-9e4e-26c3808bb282",
   "metadata": {},
   "outputs": [
    {
     "data": {
      "text/plain": [
       "[1, 2, 3, 1, 2, 3]"
      ]
     },
     "execution_count": 50,
     "metadata": {},
     "output_type": "execute_result"
    }
   ],
   "source": [
    "b_list + a_list"
   ]
  },
  {
   "cell_type": "markdown",
   "id": "8f20b331-94d4-463b-bf61-73235c002213",
   "metadata": {},
   "source": [
    "However, we know that the `+` operator does NOT work the same way in NumPy!!! "
   ]
  },
  {
   "cell_type": "code",
   "execution_count": 53,
   "id": "71ec3a3e-f74c-45e2-8a58-088763616dc1",
   "metadata": {},
   "outputs": [],
   "source": [
    "a_array = np.array(a_list)"
   ]
  },
  {
   "cell_type": "code",
   "execution_count": 56,
   "id": "7f544f72-eadc-4e04-817f-84cb5b7d667f",
   "metadata": {},
   "outputs": [],
   "source": [
    "b_array = np.array(b_list)"
   ]
  },
  {
   "cell_type": "code",
   "execution_count": 57,
   "id": "f28bff06-052d-4504-b6be-f814b96bef5f",
   "metadata": {},
   "outputs": [
    {
     "data": {
      "text/plain": [
       "array([2, 4, 6])"
      ]
     },
     "execution_count": 57,
     "metadata": {},
     "output_type": "execute_result"
    }
   ],
   "source": [
    "b_array + a_array"
   ]
  },
  {
   "cell_type": "code",
   "execution_count": 58,
   "id": "7afbeff3-87eb-49c7-98bf-a2cef439a52d",
   "metadata": {},
   "outputs": [
    {
     "data": {
      "text/plain": [
       "array([1, 2, 3, 1, 2, 3])"
      ]
     },
     "execution_count": 58,
     "metadata": {},
     "output_type": "execute_result"
    }
   ],
   "source": [
    "np.concatenate([a_array, b_array])"
   ]
  },
  {
   "cell_type": "code",
   "execution_count": 61,
   "id": "e115adf6-af27-4a24-bc59-88af54cf390f",
   "metadata": {},
   "outputs": [
    {
     "data": {
      "text/plain": [
       "array([   1. ,    2. ,    3. ,    1. ,    2. ,    3. , -101. ,    1. ,\n",
       "          2. ,    3. ,    4. ,  101. ,   -5. ,   -4.5,   -4. ,   -3.5,\n",
       "         -3. ,   -2.5,   -2. ,   -1.5,   -1. ,   -0.5,    0. ,    0.5,\n",
       "          1. ,    1.5,    2. ,    2.5,    3. ,    3.5,    4. ,    4.5,\n",
       "          5. ])"
      ]
     },
     "execution_count": 61,
     "metadata": {},
     "output_type": "execute_result"
    }
   ],
   "source": [
    "np.concatenate([a_array, b_array, a, b])"
   ]
  },
  {
   "cell_type": "code",
   "execution_count": 62,
   "id": "22b0ba6a-2dea-49a8-82cd-6f9412ea4077",
   "metadata": {},
   "outputs": [
    {
     "data": {
      "text/plain": [
       "numpy.ndarray"
      ]
     },
     "execution_count": 62,
     "metadata": {},
     "output_type": "execute_result"
    }
   ],
   "source": [
    "type(np.concatenate([a_array, b_array, a, b]))"
   ]
  },
  {
   "cell_type": "markdown",
   "id": "c6814261-8a17-4f3b-af55-eb21d198dfae",
   "metadata": {},
   "source": [
    "The `np.concatenate()` function gives us arrays with all the same attributes and methods as if we made the arrays ourselves!!!"
   ]
  },
  {
   "cell_type": "code",
   "execution_count": 64,
   "id": "3d523560-48a0-4380-ab51-6f1e8a2fb19f",
   "metadata": {},
   "outputs": [
    {
     "data": {
      "text/plain": [
       "1"
      ]
     },
     "execution_count": 64,
     "metadata": {},
     "output_type": "execute_result"
    }
   ],
   "source": [
    "np.concatenate([a_array, a, b, b_array]).ndim"
   ]
  },
  {
   "cell_type": "code",
   "execution_count": 65,
   "id": "0ca50e80-218b-4fdb-a545-137137eef20a",
   "metadata": {},
   "outputs": [
    {
     "data": {
      "text/plain": [
       "(33,)"
      ]
     },
     "execution_count": 65,
     "metadata": {},
     "output_type": "execute_result"
    }
   ],
   "source": [
    "np.concatenate([a_array, a, b, b_array]).shape"
   ]
  },
  {
   "cell_type": "code",
   "execution_count": 66,
   "id": "83ffe97d-2501-4eaa-ac33-68e9a6663cb7",
   "metadata": {},
   "outputs": [
    {
     "data": {
      "text/plain": [
       "33"
      ]
     },
     "execution_count": 66,
     "metadata": {},
     "output_type": "execute_result"
    }
   ],
   "source": [
    "np.concatenate([a_array, a, b, b_array]).size"
   ]
  },
  {
   "cell_type": "markdown",
   "id": "671539d9-b495-4217-b782-7e248c578a3a",
   "metadata": {},
   "source": [
    "Let's assign the result of the concatenation to a new object."
   ]
  },
  {
   "cell_type": "code",
   "execution_count": 67,
   "id": "20993978-d912-4f61-9a5a-87859ac0236c",
   "metadata": {},
   "outputs": [],
   "source": [
    "big_array = np.concatenate([a_array, a, b, b_array])"
   ]
  },
  {
   "cell_type": "code",
   "execution_count": 68,
   "id": "cac8cdbd-c287-4e28-bf06-887f2d045ab8",
   "metadata": {},
   "outputs": [
    {
     "data": {
      "text/plain": [
       "1"
      ]
     },
     "execution_count": 68,
     "metadata": {},
     "output_type": "execute_result"
    }
   ],
   "source": [
    "big_array.ndim"
   ]
  },
  {
   "cell_type": "code",
   "execution_count": 69,
   "id": "37226303-3ab4-49e4-aec2-f673b3b6cd4a",
   "metadata": {},
   "outputs": [
    {
     "data": {
      "text/plain": [
       "(33,)"
      ]
     },
     "execution_count": 69,
     "metadata": {},
     "output_type": "execute_result"
    }
   ],
   "source": [
    "big_array.shape"
   ]
  },
  {
   "cell_type": "code",
   "execution_count": 70,
   "id": "133b7bc4-446c-473b-a105-26cb157e15dd",
   "metadata": {},
   "outputs": [
    {
     "data": {
      "text/plain": [
       "33"
      ]
     },
     "execution_count": 70,
     "metadata": {},
     "output_type": "execute_result"
    }
   ],
   "source": [
    "big_array.size"
   ]
  },
  {
   "cell_type": "code",
   "execution_count": 71,
   "id": "13de27cd-a6e8-42db-9397-dd95ca496720",
   "metadata": {},
   "outputs": [
    {
     "name": "stdout",
     "output_type": "stream",
     "text": [
      "Variable    Type       Data/Info\n",
      "--------------------------------\n",
      "a           ndarray    6: 6 elems, type `int64`, 48 bytes\n",
      "a_array     ndarray    3: 3 elems, type `int64`, 24 bytes\n",
      "a_list      list       n=3\n",
      "a_mask      ndarray    6: 6 elems, type `bool`, 6 bytes\n",
      "aa          ndarray    6: 6 elems, type `int64`, 48 bytes\n",
      "b           ndarray    21: 21 elems, type `float64`, 168 bytes\n",
      "b_aray      ndarray    3: 3 elems, type `int64`, 24 bytes\n",
      "b_array     ndarray    3: 3 elems, type `int64`, 24 bytes\n",
      "b_list      list       n=3\n",
      "big_array   ndarray    33: 33 elems, type `float64`, 264 bytes\n",
      "np          module     <module 'numpy' from '/Ap<...>kages/numpy/__init__.py'>\n"
     ]
    }
   ],
   "source": [
    "%whos"
   ]
  },
  {
   "cell_type": "markdown",
   "id": "1c861cc0-6418-4700-a80e-e639d1127bf4",
   "metadata": {},
   "source": [
    "## Change element order by sorting\n",
    "\n",
    "There are many ways to change element ordering, but let's see the `.sort()` method."
   ]
  },
  {
   "cell_type": "code",
   "execution_count": 72,
   "id": "1a73cc55-3bae-40f1-a966-c724af42823d",
   "metadata": {},
   "outputs": [
    {
     "data": {
      "text/plain": [
       "array([   1. ,    2. ,    3. , -101. ,    1. ,    2. ,    3. ,    4. ,\n",
       "        101. ,   -5. ,   -4.5,   -4. ,   -3.5,   -3. ,   -2.5,   -2. ,\n",
       "         -1.5,   -1. ,   -0.5,    0. ,    0.5,    1. ,    1.5,    2. ,\n",
       "          2.5,    3. ,    3.5,    4. ,    4.5,    5. ,    1. ,    2. ,\n",
       "          3. ])"
      ]
     },
     "execution_count": 72,
     "metadata": {},
     "output_type": "execute_result"
    }
   ],
   "source": [
    "big_array"
   ]
  },
  {
   "cell_type": "code",
   "execution_count": 73,
   "id": "8246cbd4-0b07-4ce1-aeb3-81889db7b0c8",
   "metadata": {},
   "outputs": [],
   "source": [
    "big_array.sort()"
   ]
  },
  {
   "cell_type": "code",
   "execution_count": 74,
   "id": "6929274a-d01e-4469-b1aa-6766112aef1d",
   "metadata": {},
   "outputs": [
    {
     "data": {
      "text/plain": [
       "array([-101. ,   -5. ,   -4.5,   -4. ,   -3.5,   -3. ,   -2.5,   -2. ,\n",
       "         -1.5,   -1. ,   -0.5,    0. ,    0.5,    1. ,    1. ,    1. ,\n",
       "          1. ,    1.5,    2. ,    2. ,    2. ,    2. ,    2.5,    3. ,\n",
       "          3. ,    3. ,    3. ,    3.5,    4. ,    4. ,    4.5,    5. ,\n",
       "        101. ])"
      ]
     },
     "execution_count": 74,
     "metadata": {},
     "output_type": "execute_result"
    }
   ],
   "source": [
    "big_array"
   ]
  },
  {
   "cell_type": "markdown",
   "id": "d1258ce8-2730-4513-8448-94e632a431dd",
   "metadata": {},
   "source": [
    "We can ordering with the largest value before the smalle values. This is KNOWN as DESCENDING order, but DESCENDING order is not straight forward in `.sort()` from NumPy."
   ]
  },
  {
   "cell_type": "markdown",
   "id": "549c5d07-7a62-431b-ad57-2bf9be98c565",
   "metadata": {},
   "source": [
    "## Summarize\n",
    "\n",
    "Summarizing values in an array returns FEWER values!!!!\n",
    "\n",
    "We have already seen several important functions, such as SUMMING, MEAN, VARIANCE, and STANDARD DEVIATION!!\n",
    "\n",
    "However, we need to define functions to execute those tasks in base Python.\n",
    "\n",
    "NumPy is much easier for summarizing than base Python, but we must be careful!!!"
   ]
  },
  {
   "cell_type": "code",
   "execution_count": 76,
   "id": "fff90444-5fc3-4bc1-a140-6ffb3df64b9f",
   "metadata": {},
   "outputs": [
    {
     "data": {
      "text/plain": [
       "22.0"
      ]
     },
     "execution_count": 76,
     "metadata": {},
     "output_type": "execute_result"
    }
   ],
   "source": [
    "big_array.sum()"
   ]
  },
  {
   "cell_type": "code",
   "execution_count": 77,
   "id": "8d857743-45f8-49d0-8548-0f14374bbec3",
   "metadata": {},
   "outputs": [
    {
     "data": {
      "text/plain": [
       "array([-101. ,   -5. ,   -4.5,   -4. ,   -3.5,   -3. ,   -2.5,   -2. ,\n",
       "         -1.5,   -1. ,   -0.5,    0. ,    0.5,    1. ,    1. ,    1. ,\n",
       "          1. ,    1.5,    2. ,    2. ,    2. ,    2. ,    2.5,    3. ,\n",
       "          3. ,    3. ,    3. ,    3.5,    4. ,    4. ,    4.5,    5. ,\n",
       "        101. ])"
      ]
     },
     "execution_count": 77,
     "metadata": {},
     "output_type": "execute_result"
    }
   ],
   "source": [
    "big_array"
   ]
  },
  {
   "cell_type": "code",
   "execution_count": 78,
   "id": "d43dd26d-90e7-469b-8262-1b4d3862cf71",
   "metadata": {},
   "outputs": [
    {
     "name": "stdout",
     "output_type": "stream",
     "text": [
      "Help on built-in function sum:\n",
      "\n",
      "sum(...) method of numpy.ndarray instance\n",
      "    a.sum(axis=None, dtype=None, out=None, keepdims=False, initial=0, where=True)\n",
      "    \n",
      "    Return the sum of the array elements over the given axis.\n",
      "    \n",
      "    Refer to `numpy.sum` for full documentation.\n",
      "    \n",
      "    See Also\n",
      "    --------\n",
      "    numpy.sum : equivalent function\n",
      "\n"
     ]
    }
   ],
   "source": [
    "help(big_array.sum)"
   ]
  },
  {
   "cell_type": "markdown",
   "id": "4a81a5ae-c6ae-43ec-a088-b8f8ee6156fc",
   "metadata": {},
   "source": [
    "We can calculate the MIN and MAX values in the array!!"
   ]
  },
  {
   "cell_type": "code",
   "execution_count": 79,
   "id": "533cd572-2334-4320-a44e-7bd527978059",
   "metadata": {},
   "outputs": [
    {
     "data": {
      "text/plain": [
       "101.0"
      ]
     },
     "execution_count": 79,
     "metadata": {},
     "output_type": "execute_result"
    }
   ],
   "source": [
    "big_array.max()"
   ]
  },
  {
   "cell_type": "code",
   "execution_count": 80,
   "id": "8de2bebf-4529-463d-9f6d-dca16a5d7014",
   "metadata": {},
   "outputs": [
    {
     "data": {
      "text/plain": [
       "-101.0"
      ]
     },
     "execution_count": 80,
     "metadata": {},
     "output_type": "execute_result"
    }
   ],
   "source": [
    "big_array.min()"
   ]
  },
  {
   "cell_type": "code",
   "execution_count": 81,
   "id": "be2ae1c3-7bd3-4015-8e3b-f7b08b9db3b4",
   "metadata": {},
   "outputs": [
    {
     "data": {
      "text/plain": [
       "0.6666666666666666"
      ]
     },
     "execution_count": 81,
     "metadata": {},
     "output_type": "execute_result"
    }
   ],
   "source": [
    "big_array.mean()"
   ]
  },
  {
   "cell_type": "code",
   "execution_count": 82,
   "id": "38b49069-5375-43b1-8997-9107c3ca03c4",
   "metadata": {},
   "outputs": [
    {
     "data": {
      "text/plain": [
       "array([-101,    1,    2,    3,    4,  101])"
      ]
     },
     "execution_count": 82,
     "metadata": {},
     "output_type": "execute_result"
    }
   ],
   "source": [
    "a"
   ]
  },
  {
   "cell_type": "code",
   "execution_count": 84,
   "id": "19f24bc8-e9a9-4ee7-921e-df1fe676366e",
   "metadata": {},
   "outputs": [
    {
     "data": {
      "text/plain": [
       "1.6666666666666667"
      ]
     },
     "execution_count": 84,
     "metadata": {},
     "output_type": "execute_result"
    }
   ],
   "source": [
    "a.mean()"
   ]
  },
  {
   "cell_type": "code",
   "execution_count": 86,
   "id": "69beeec3-7934-41cb-9759-78e545bc50a7",
   "metadata": {},
   "outputs": [
    {
     "data": {
      "text/plain": [
       "0.0"
      ]
     },
     "execution_count": 86,
     "metadata": {},
     "output_type": "execute_result"
    }
   ],
   "source": [
    "b.mean()"
   ]
  },
  {
   "cell_type": "code",
   "execution_count": 87,
   "id": "6cc26424-2603-4e21-9b53-5fd7c9dcb32a",
   "metadata": {},
   "outputs": [
    {
     "data": {
      "text/plain": [
       "0.6666666666666666"
      ]
     },
     "execution_count": 87,
     "metadata": {},
     "output_type": "execute_result"
    }
   ],
   "source": [
    "big_array.mean()"
   ]
  },
  {
   "cell_type": "markdown",
   "id": "ba05c11b-3f37-45b7-9a10-0b45b067a404",
   "metadata": {},
   "source": [
    "NumPy also has a method for the VARIANCE!!!"
   ]
  },
  {
   "cell_type": "code",
   "execution_count": 89,
   "id": "a0783e4a-213b-4c0a-83a7-825270802adb",
   "metadata": {},
   "outputs": [
    {
     "data": {
      "text/plain": [
       "625.3888888888889"
      ]
     },
     "execution_count": 89,
     "metadata": {},
     "output_type": "execute_result"
    }
   ],
   "source": [
    "big_array.var()"
   ]
  },
  {
   "cell_type": "code",
   "execution_count": 90,
   "id": "4a699f51-3654-40a0-8b50-d9116bd7185e",
   "metadata": {},
   "outputs": [
    {
     "data": {
      "text/plain": [
       "3402.555555555556"
      ]
     },
     "execution_count": 90,
     "metadata": {},
     "output_type": "execute_result"
    }
   ],
   "source": [
    "a.var()"
   ]
  },
  {
   "cell_type": "markdown",
   "id": "7278ff91-d866-411a-ab59-9bf9f7364bf2",
   "metadata": {},
   "source": [
    "There is also a method for the standard deviation!!!"
   ]
  },
  {
   "cell_type": "code",
   "execution_count": 91,
   "id": "a35587e2-4327-434a-bff0-01df246cceeb",
   "metadata": {},
   "outputs": [
    {
     "data": {
      "text/plain": [
       "25.007776568277496"
      ]
     },
     "execution_count": 91,
     "metadata": {},
     "output_type": "execute_result"
    }
   ],
   "source": [
    "big_array.std()"
   ]
  },
  {
   "cell_type": "code",
   "execution_count": 93,
   "id": "9feb8b42-f43c-4a2a-bbb1-83e6015871c2",
   "metadata": {},
   "outputs": [
    {
     "data": {
      "text/plain": [
       "25.007776568277496"
      ]
     },
     "execution_count": 93,
     "metadata": {},
     "output_type": "execute_result"
    }
   ],
   "source": [
    "big_array.var()**(0.5)"
   ]
  },
  {
   "cell_type": "markdown",
   "id": "cd65c422-f4b6-472a-b4ed-c814b7fa048e",
   "metadata": {},
   "source": [
    "But very important!!!\n",
    "\n",
    "\n",
    "The above values are WRONG!!!!!\n",
    "\n",
    "NumPy is dangerous!!!\n",
    "\n",
    "It's made by a company, used by millions of people in other companies, in universities all over the world.\n",
    "\n",
    "And the DEFAULT way of calculating the variance and the standard deviation!!!\n",
    "\n",
    "NumPy uses what's known as the BIASED estimator for the variance and the standard deviation!!!!\n",
    "\n",
    "Instead the `ddof` argument MUST BE equal to 1.\n",
    "\n",
    "This guves us the UNBIASED estimator!!"
   ]
  },
  {
   "cell_type": "code",
   "execution_count": 94,
   "id": "2c1e017a-8cfc-470e-a45d-4f3d36b238f3",
   "metadata": {},
   "outputs": [
    {
     "data": {
      "text/plain": [
       "-101"
      ]
     },
     "execution_count": 94,
     "metadata": {},
     "output_type": "execute_result"
    }
   ],
   "source": [
    "a[0]"
   ]
  },
  {
   "cell_type": "code",
   "execution_count": 95,
   "id": "aed9c745-775b-4e83-a001-e177d2c867b9",
   "metadata": {},
   "outputs": [
    {
     "data": {
      "text/plain": [
       "-101.0"
      ]
     },
     "execution_count": 95,
     "metadata": {},
     "output_type": "execute_result"
    }
   ],
   "source": [
    "a[0].mean()"
   ]
  },
  {
   "cell_type": "code",
   "execution_count": 97,
   "id": "c19dda11-3cdf-45d8-8ce2-045fbe20ecc2",
   "metadata": {},
   "outputs": [
    {
     "data": {
      "text/plain": [
       "nan"
      ]
     },
     "execution_count": 97,
     "metadata": {},
     "output_type": "execute_result"
    }
   ],
   "source": [
    "a[0].std(ddof=1)"
   ]
  },
  {
   "cell_type": "markdown",
   "id": "2eb44d70-6df1-4036-8388-ce516ebeba11",
   "metadata": {},
   "source": [
    "Never use the default `.var()` or `.std()` arguments!!!\n",
    "\n",
    "ALWAYS set the `ddof=1`!!!"
   ]
  },
  {
   "cell_type": "code",
   "execution_count": 99,
   "id": "0dea8ea2-9f2a-4b7d-9a8c-129c7f141e91",
   "metadata": {},
   "outputs": [
    {
     "data": {
      "text/plain": [
       "644.9322916666667"
      ]
     },
     "execution_count": 99,
     "metadata": {},
     "output_type": "execute_result"
    }
   ],
   "source": [
    "big_array.var(ddof=1)"
   ]
  },
  {
   "cell_type": "code",
   "execution_count": 100,
   "id": "7151fd0e-9aba-4ec0-8d64-eff7e01cfe5c",
   "metadata": {},
   "outputs": [
    {
     "data": {
      "text/plain": [
       "625.3888888888889"
      ]
     },
     "execution_count": 100,
     "metadata": {},
     "output_type": "execute_result"
    }
   ],
   "source": [
    "big_array.var()"
   ]
  },
  {
   "cell_type": "code",
   "execution_count": 101,
   "id": "3e7d3349-4960-4af5-9ecc-eb98aa4bca7a",
   "metadata": {},
   "outputs": [
    {
     "data": {
      "text/plain": [
       "25.395517156905207"
      ]
     },
     "execution_count": 101,
     "metadata": {},
     "output_type": "execute_result"
    }
   ],
   "source": [
    "big_array.std(ddof=1)"
   ]
  },
  {
   "cell_type": "code",
   "execution_count": 102,
   "id": "31621f4d-3efe-4a88-a47a-e3f06f8bb57e",
   "metadata": {},
   "outputs": [
    {
     "data": {
      "text/plain": [
       "25.007776568277496"
      ]
     },
     "execution_count": 102,
     "metadata": {},
     "output_type": "execute_result"
    }
   ],
   "source": [
    "big_array.std()"
   ]
  },
  {
   "cell_type": "code",
   "execution_count": 110,
   "id": "4bf1b479-5821-4509-94a4-5ea715a1d7a4",
   "metadata": {},
   "outputs": [
    {
     "data": {
      "text/plain": [
       "'STD VALUES - BIASED: 25.007777, UNBIASED: 25.395517'"
      ]
     },
     "execution_count": 110,
     "metadata": {},
     "output_type": "execute_result"
    }
   ],
   "source": [
    "\"STD VALUES - BIASED: %1.6f, UNBIASED: %1.6f\" %(big_array.std(), big_array.std(ddof=1))"
   ]
  },
  {
   "cell_type": "code",
   "execution_count": 109,
   "id": "b66f238b-c1ef-4249-8fe8-9a86ff0fef1b",
   "metadata": {},
   "outputs": [
    {
     "data": {
      "text/plain": [
       "'VAR VALUES - BIASED: 625.388889, UNBIASED: 644.932292'"
      ]
     },
     "execution_count": 109,
     "metadata": {},
     "output_type": "execute_result"
    }
   ],
   "source": [
    "\"VAR VALUES - BIASED: %1.6f, UNBIASED: %1.6f\" %(big_array.var(), big_array.var(ddof=1))"
   ]
  }
 ],
 "metadata": {
  "kernelspec": {
   "display_name": "Python 3 (ipykernel)",
   "language": "python",
   "name": "python3"
  },
  "language_info": {
   "codemirror_mode": {
    "name": "ipython",
    "version": 3
   },
   "file_extension": ".py",
   "mimetype": "text/x-python",
   "name": "python",
   "nbconvert_exporter": "python",
   "pygments_lexer": "ipython3",
   "version": "3.8.19"
  }
 },
 "nbformat": 4,
 "nbformat_minor": 5
}
