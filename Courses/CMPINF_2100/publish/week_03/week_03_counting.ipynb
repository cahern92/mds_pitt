{
 "cells": [
  {
   "cell_type": "markdown",
   "id": "c11d09c5-5dc7-4172-b7e5-3f9ce012536f",
   "metadata": {},
   "source": [
    "## CMPINF 2100 Week 03\n",
    "### Counting unique vaues in lists\n",
    "\n",
    "The example will show how to COUNT the number of times a UNIQUE value appears within a list. \n",
    "\n",
    "We will use the `set()` function, list methods, and comprehensions in this example."
   ]
  },
  {
   "cell_type": "code",
   "execution_count": 4,
   "id": "a4a936cd-4022-422a-ad14-e3281eac3e6e",
   "metadata": {},
   "outputs": [],
   "source": [
    "my_list = 7 * ['frodo', 'sam', 'merry', 'pippin']"
   ]
  },
  {
   "cell_type": "code",
   "execution_count": 5,
   "id": "cdc10ad8-2bca-41c4-bfa0-59e04c7134cc",
   "metadata": {},
   "outputs": [
    {
     "data": {
      "text/plain": [
       "['frodo',\n",
       " 'sam',\n",
       " 'merry',\n",
       " 'pippin',\n",
       " 'frodo',\n",
       " 'sam',\n",
       " 'merry',\n",
       " 'pippin',\n",
       " 'frodo',\n",
       " 'sam',\n",
       " 'merry',\n",
       " 'pippin',\n",
       " 'frodo',\n",
       " 'sam',\n",
       " 'merry',\n",
       " 'pippin',\n",
       " 'frodo',\n",
       " 'sam',\n",
       " 'merry',\n",
       " 'pippin',\n",
       " 'frodo',\n",
       " 'sam',\n",
       " 'merry',\n",
       " 'pippin',\n",
       " 'frodo',\n",
       " 'sam',\n",
       " 'merry',\n",
       " 'pippin']"
      ]
     },
     "execution_count": 5,
     "metadata": {},
     "output_type": "execute_result"
    }
   ],
   "source": [
    "my_list"
   ]
  },
  {
   "cell_type": "code",
   "execution_count": 3,
   "id": "e0323afa-2f5e-46ac-833c-37e62e5578ef",
   "metadata": {},
   "outputs": [
    {
     "name": "stdout",
     "output_type": "stream",
     "text": [
      "28\n"
     ]
    }
   ],
   "source": [
    "print(len(my_list))"
   ]
  },
  {
   "cell_type": "code",
   "execution_count": 6,
   "id": "539931c7-c06a-422f-8919-5af816bd0820",
   "metadata": {},
   "outputs": [
    {
     "data": {
      "text/plain": [
       "['__add__',\n",
       " '__class__',\n",
       " '__contains__',\n",
       " '__delattr__',\n",
       " '__delitem__',\n",
       " '__dir__',\n",
       " '__doc__',\n",
       " '__eq__',\n",
       " '__format__',\n",
       " '__ge__',\n",
       " '__getattribute__',\n",
       " '__getitem__',\n",
       " '__gt__',\n",
       " '__hash__',\n",
       " '__iadd__',\n",
       " '__imul__',\n",
       " '__init__',\n",
       " '__init_subclass__',\n",
       " '__iter__',\n",
       " '__le__',\n",
       " '__len__',\n",
       " '__lt__',\n",
       " '__mul__',\n",
       " '__ne__',\n",
       " '__new__',\n",
       " '__reduce__',\n",
       " '__reduce_ex__',\n",
       " '__repr__',\n",
       " '__reversed__',\n",
       " '__rmul__',\n",
       " '__setattr__',\n",
       " '__setitem__',\n",
       " '__sizeof__',\n",
       " '__str__',\n",
       " '__subclasshook__',\n",
       " 'append',\n",
       " 'clear',\n",
       " 'copy',\n",
       " 'count',\n",
       " 'extend',\n",
       " 'index',\n",
       " 'insert',\n",
       " 'pop',\n",
       " 'remove',\n",
       " 'reverse',\n",
       " 'sort']"
      ]
     },
     "execution_count": 6,
     "metadata": {},
     "output_type": "execute_result"
    }
   ],
   "source": [
    "dir(my_list)"
   ]
  },
  {
   "cell_type": "code",
   "execution_count": 9,
   "id": "82ad44ce-ba6c-4757-9a5b-9d8f4baa800e",
   "metadata": {},
   "outputs": [
    {
     "name": "stdout",
     "output_type": "stream",
     "text": [
      "Help on built-in function count:\n",
      "\n",
      "count(value, /) method of builtins.list instance\n",
      "    Return number of occurrences of value.\n",
      "\n"
     ]
    }
   ],
   "source": [
    "help(my_list.count)"
   ]
  },
  {
   "cell_type": "code",
   "execution_count": 10,
   "id": "e1eb0791-6dc4-4800-8076-c2ef4532c5d9",
   "metadata": {},
   "outputs": [],
   "source": [
    "unique_list_values = set(my_list)"
   ]
  },
  {
   "cell_type": "code",
   "execution_count": 11,
   "id": "eae45efa-1a96-477d-9311-1af067fb91fe",
   "metadata": {},
   "outputs": [
    {
     "data": {
      "text/plain": [
       "4"
      ]
     },
     "execution_count": 11,
     "metadata": {},
     "output_type": "execute_result"
    }
   ],
   "source": [
    "len(unique_list_values)"
   ]
  },
  {
   "cell_type": "code",
   "execution_count": 12,
   "id": "43a5f2f5-63e6-469b-a0a3-abd8e87b3c8b",
   "metadata": {},
   "outputs": [
    {
     "data": {
      "text/plain": [
       "set"
      ]
     },
     "execution_count": 12,
     "metadata": {},
     "output_type": "execute_result"
    }
   ],
   "source": [
    "type(unique_list_values)"
   ]
  },
  {
   "cell_type": "markdown",
   "id": "9e189337-47c3-40ee-80f7-1ca76a55ae09",
   "metadata": {},
   "source": [
    "A set in python is surrounded by `{}` like Dictionaries but do NOT use KEY:VALUE pairs!"
   ]
  },
  {
   "cell_type": "code",
   "execution_count": 13,
   "id": "1cc3ab83-5a65-4a96-a8b6-8c848d031ada",
   "metadata": {},
   "outputs": [],
   "source": [
    "unique_list_values_as_list = list(unique_list_values)"
   ]
  },
  {
   "cell_type": "code",
   "execution_count": 14,
   "id": "876efab5-e195-4e49-971f-1795ef4421f0",
   "metadata": {},
   "outputs": [
    {
     "data": {
      "text/plain": [
       "['merry', 'sam', 'pippin', 'frodo']"
      ]
     },
     "execution_count": 14,
     "metadata": {},
     "output_type": "execute_result"
    }
   ],
   "source": [
    "unique_list_values_as_list"
   ]
  },
  {
   "cell_type": "markdown",
   "id": "76cd358a-1ad4-4adb-b543-4f4296cddc10",
   "metadata": {},
   "source": [
    "Let's sort our list of unique values so that we have a consistent ordering."
   ]
  },
  {
   "cell_type": "code",
   "execution_count": 15,
   "id": "9a59364a-ff32-4b4b-bd18-b9ec152131ee",
   "metadata": {},
   "outputs": [],
   "source": [
    "unique_list_values_as_list.sort()"
   ]
  },
  {
   "cell_type": "code",
   "execution_count": 16,
   "id": "39461db7-e816-4fbb-b73b-6e7c41fc05fd",
   "metadata": {},
   "outputs": [
    {
     "data": {
      "text/plain": [
       "['frodo', 'merry', 'pippin', 'sam']"
      ]
     },
     "execution_count": 16,
     "metadata": {},
     "output_type": "execute_result"
    }
   ],
   "source": [
    "unique_list_values_as_list"
   ]
  },
  {
   "cell_type": "markdown",
   "id": "d741379d-959d-4a99-91c5-e0c5594bb400",
   "metadata": {},
   "source": [
    "## How many entries or records exists for each unique value in `my_list`?\n",
    "\n",
    "Alternatively, we are asking what are the COUNTS associated with each unique value?\n",
    "\n",
    "The `.count()` method will COUNT the number of times a specific VALUE appears within a list!"
   ]
  },
  {
   "cell_type": "code",
   "execution_count": 17,
   "id": "4c0f23ba-fc0d-40d6-a310-775ac999dae2",
   "metadata": {},
   "outputs": [
    {
     "data": {
      "text/plain": [
       "7"
      ]
     },
     "execution_count": 17,
     "metadata": {},
     "output_type": "execute_result"
    }
   ],
   "source": [
    "my_list.count('frodo')"
   ]
  },
  {
   "cell_type": "code",
   "execution_count": 18,
   "id": "c58c52c0-307c-4189-a7ee-10b7a709b941",
   "metadata": {},
   "outputs": [
    {
     "data": {
      "text/plain": [
       "7"
      ]
     },
     "execution_count": 18,
     "metadata": {},
     "output_type": "execute_result"
    }
   ],
   "source": [
    "my_list.count('pippin')"
   ]
  },
  {
   "cell_type": "code",
   "execution_count": 19,
   "id": "31a991b1-f20b-4a95-9d02-2c851eb8a5f0",
   "metadata": {},
   "outputs": [
    {
     "data": {
      "text/plain": [
       "7"
      ]
     },
     "execution_count": 19,
     "metadata": {},
     "output_type": "execute_result"
    }
   ],
   "source": [
    "my_list.count('merry')"
   ]
  },
  {
   "cell_type": "code",
   "execution_count": 21,
   "id": "95f93e95-b2b2-4b1e-beaa-28191c7929f2",
   "metadata": {},
   "outputs": [
    {
     "data": {
      "text/plain": [
       "7"
      ]
     },
     "execution_count": 21,
     "metadata": {},
     "output_type": "execute_result"
    }
   ],
   "source": [
    "my_list.count('sam')"
   ]
  },
  {
   "cell_type": "markdown",
   "id": "6a6b738c-870d-4e7a-946d-497606fdad5c",
   "metadata": {},
   "source": [
    "Let's combine the result of `set()` with the `.count()` method. This allows us to work programatically!!!"
   ]
  },
  {
   "cell_type": "code",
   "execution_count": 22,
   "id": "75b684f7-5bf1-41b7-b4b0-7a32e4748e89",
   "metadata": {},
   "outputs": [
    {
     "data": {
      "text/plain": [
       "7"
      ]
     },
     "execution_count": 22,
     "metadata": {},
     "output_type": "execute_result"
    }
   ],
   "source": [
    "my_list.count(unique_list_values_as_list[0])"
   ]
  },
  {
   "cell_type": "code",
   "execution_count": 23,
   "id": "62ff576e-4eca-49ee-9a99-6708b4c273e1",
   "metadata": {},
   "outputs": [
    {
     "data": {
      "text/plain": [
       "7"
      ]
     },
     "execution_count": 23,
     "metadata": {},
     "output_type": "execute_result"
    }
   ],
   "source": [
    "my_list.count(unique_list_values_as_list[1])"
   ]
  },
  {
   "cell_type": "code",
   "execution_count": 24,
   "id": "d795f0ad-c8f0-4569-b3d7-5fed58cf8b53",
   "metadata": {},
   "outputs": [
    {
     "data": {
      "text/plain": [
       "7"
      ]
     },
     "execution_count": 24,
     "metadata": {},
     "output_type": "execute_result"
    }
   ],
   "source": [
    "my_list.count(unique_list_values_as_list[2])"
   ]
  },
  {
   "cell_type": "code",
   "execution_count": 26,
   "id": "47bf9e85-ec76-4f97-b549-6b5db3ff921c",
   "metadata": {},
   "outputs": [
    {
     "data": {
      "text/plain": [
       "7"
      ]
     },
     "execution_count": 26,
     "metadata": {},
     "output_type": "execute_result"
    }
   ],
   "source": [
    "my_list.count(unique_list_values_as_list[3])"
   ]
  },
  {
   "cell_type": "markdown",
   "id": "c1459437-9d01-46d8-9dbd-7a7e26d22af1",
   "metadata": {},
   "source": [
    "Let's use a list comprehenson to iterate over the UNIQUE VALUES!!! \n",
    "\n",
    "We will APPLY the `.count()` method to each unique value and we want to organize the results into a new list."
   ]
  },
  {
   "cell_type": "code",
   "execution_count": 29,
   "id": "90ce02df-ed78-48b9-a021-d2bed238e6fb",
   "metadata": {},
   "outputs": [
    {
     "data": {
      "text/plain": [
       "[7, 7, 7, 7]"
      ]
     },
     "execution_count": 29,
     "metadata": {},
     "output_type": "execute_result"
    }
   ],
   "source": [
    "[my_list.count(n) for n in unique_list_values_as_list]"
   ]
  },
  {
   "cell_type": "code",
   "execution_count": 33,
   "id": "466c96b3-7d33-48f8-b9a5-5bb19cb0aa7b",
   "metadata": {},
   "outputs": [
    {
     "data": {
      "text/plain": [
       "{'merry': 7, 'sam': 7, 'pippin': 7, 'frodo': 7}"
      ]
     },
     "execution_count": 33,
     "metadata": {},
     "output_type": "execute_result"
    }
   ],
   "source": [
    "{cesar: num for cesar, num in zip(set(my_list), [my_list.count(n) for n in unique_list_values_as_list])}"
   ]
  },
  {
   "cell_type": "markdown",
   "id": "abe20046-51e1-4a72-9904-4081d686116a",
   "metadata": {},
   "source": [
    "But the list comprehension does NOT provude useful names or context around the contents of the list.\n",
    "\n",
    "Which count corresponds to `sam`?\n",
    "\n",
    "The DICTIONARY allows associating a KEY with each VALUE. The KEY can be used to provide useful descriptive information. \n",
    "\n",
    "We therefore need to ITERATE using a DICTIONARY COMPREHENSION"
   ]
  },
  {
   "cell_type": "code",
   "execution_count": 35,
   "id": "cb4fa1a8-d33a-4f78-97dc-cf70963cf7e8",
   "metadata": {},
   "outputs": [
    {
     "data": {
      "text/plain": [
       "{'frodo': 7, 'merry': 7, 'pippin': 7, 'sam': 7}"
      ]
     },
     "execution_count": 35,
     "metadata": {},
     "output_type": "execute_result"
    }
   ],
   "source": [
    "{cesar: my_list.count(cesar) for cesar in unique_list_values_as_list}"
   ]
  },
  {
   "cell_type": "markdown",
   "id": "4f00281d-6541-4e93-87af-9943bde68c5b",
   "metadata": {},
   "source": [
    "## Try again\n",
    "\n",
    "This time create a list where the values do NOT have the same count!!"
   ]
  },
  {
   "cell_type": "code",
   "execution_count": 36,
   "id": "7f150877-4071-4884-aa3f-de94a6930f47",
   "metadata": {},
   "outputs": [],
   "source": [
    "my_list2= 5*['frodo'] + 4*['sam'] + 3*['merry'] + 1*['pippin']"
   ]
  },
  {
   "cell_type": "code",
   "execution_count": 39,
   "id": "576c33d5-fd99-47e5-a3b9-5a6866313e9f",
   "metadata": {},
   "outputs": [],
   "source": [
    "unique_list2_list = list(set(my_list2))"
   ]
  },
  {
   "cell_type": "code",
   "execution_count": 40,
   "id": "f6302c13-fc93-4542-80bf-dfab9e1cbff5",
   "metadata": {},
   "outputs": [],
   "source": [
    "unique_list2_list.sort()"
   ]
  },
  {
   "cell_type": "code",
   "execution_count": 41,
   "id": "e7c43d03-6f0e-4a0e-bee0-4aff9332c0bd",
   "metadata": {},
   "outputs": [
    {
     "data": {
      "text/plain": [
       "['frodo', 'merry', 'pippin', 'sam']"
      ]
     },
     "execution_count": 41,
     "metadata": {},
     "output_type": "execute_result"
    }
   ],
   "source": [
    "unique_list2_list"
   ]
  },
  {
   "cell_type": "code",
   "execution_count": 42,
   "id": "ca4b95d6-8452-4fed-8d9c-7ef8905bc6a9",
   "metadata": {},
   "outputs": [
    {
     "data": {
      "text/plain": [
       "{'frodo': 5, 'merry': 3, 'pippin': 1, 'sam': 4}"
      ]
     },
     "execution_count": 42,
     "metadata": {},
     "output_type": "execute_result"
    }
   ],
   "source": [
    "{key:my_list2.count(key) for key in unique_list2_list}"
   ]
  },
  {
   "cell_type": "code",
   "execution_count": null,
   "id": "4b689e16-37df-4ac3-bcf6-3a288b97d799",
   "metadata": {},
   "outputs": [],
   "source": []
  },
  {
   "cell_type": "code",
   "execution_count": null,
   "id": "594d902a-1e42-42f3-a327-8010574f9a14",
   "metadata": {},
   "outputs": [],
   "source": []
  }
 ],
 "metadata": {
  "kernelspec": {
   "display_name": "Python 3 (ipykernel)",
   "language": "python",
   "name": "python3"
  },
  "language_info": {
   "codemirror_mode": {
    "name": "ipython",
    "version": 3
   },
   "file_extension": ".py",
   "mimetype": "text/x-python",
   "name": "python",
   "nbconvert_exporter": "python",
   "pygments_lexer": "ipython3",
   "version": "3.8.19"
  }
 },
 "nbformat": 4,
 "nbformat_minor": 5
}
