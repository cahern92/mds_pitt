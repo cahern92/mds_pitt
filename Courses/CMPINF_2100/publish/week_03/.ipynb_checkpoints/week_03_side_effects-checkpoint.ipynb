{
 "cells": [
  {
   "cell_type": "markdown",
   "id": "6647ad2a-115e-40e2-884b-88bae08839d8",
   "metadata": {},
   "source": [
    "## CMPINF 2100 Week 03\n",
    "### Side Effects -- CAUTION!!\n",
    "\n",
    "This example is based on an example in section 5.3 of JVG.\n",
    "\n",
    "We will use 2 lists in this example."
   ]
  },
  {
   "cell_type": "code",
   "execution_count": 1,
   "id": "8cf7834e-a5c7-417a-aa42-f1a0c7e495f2",
   "metadata": {},
   "outputs": [],
   "source": [
    "candy_bars = ['kitkat', 'twix']"
   ]
  },
  {
   "cell_type": "code",
   "execution_count": 2,
   "id": "15640384-3820-40cc-87d0-d961ebfdfb7e",
   "metadata": {},
   "outputs": [],
   "source": [
    "cookies = ['oreos', 'thumb prints', 'oatmeal']"
   ]
  },
  {
   "cell_type": "code",
   "execution_count": 3,
   "id": "865a8ed6-2726-4859-afd5-095162a5e1fd",
   "metadata": {},
   "outputs": [
    {
     "name": "stdout",
     "output_type": "stream",
     "text": [
      "Variable     Type    Data/Info\n",
      "------------------------------\n",
      "candy_bars   list    n=2\n",
      "cookies      list    n=3\n"
     ]
    }
   ],
   "source": [
    "%whos"
   ]
  },
  {
   "cell_type": "code",
   "execution_count": 4,
   "id": "d0d938fe-0118-4f80-9570-44313618eae6",
   "metadata": {},
   "outputs": [
    {
     "data": {
      "text/plain": [
       "['kitkat', 'twix', 'oreos', 'thumb prints', 'oatmeal']"
      ]
     },
     "execution_count": 4,
     "metadata": {},
     "output_type": "execute_result"
    }
   ],
   "source": [
    "candy_bars + cookies"
   ]
  },
  {
   "cell_type": "code",
   "execution_count": 5,
   "id": "7d358399-02fb-4e40-a46d-48fdb57d8d3d",
   "metadata": {},
   "outputs": [
    {
     "name": "stdout",
     "output_type": "stream",
     "text": [
      "Variable     Type    Data/Info\n",
      "------------------------------\n",
      "candy_bars   list    n=2\n",
      "cookies      list    n=3\n"
     ]
    }
   ],
   "source": [
    "%whos"
   ]
  },
  {
   "cell_type": "code",
   "execution_count": 7,
   "id": "87b66907-3b69-4606-857a-ed33e11332ab",
   "metadata": {},
   "outputs": [],
   "source": [
    "added_snacks = candy_bars + cookies"
   ]
  },
  {
   "cell_type": "code",
   "execution_count": 8,
   "id": "7bcb2978-e2e1-497f-b13c-ae102d2c66a9",
   "metadata": {},
   "outputs": [
    {
     "data": {
      "text/plain": [
       "5"
      ]
     },
     "execution_count": 8,
     "metadata": {},
     "output_type": "execute_result"
    }
   ],
   "source": [
    "len(added_snacks)"
   ]
  },
  {
   "cell_type": "markdown",
   "id": "bfb314ba-4db2-4e22-9358-2d32d2dd58a1",
   "metadata": {},
   "source": [
    "Instead of ADDING two lists together, lets create a new list that CONTAINS 2 lists..."
   ]
  },
  {
   "cell_type": "code",
   "execution_count": 9,
   "id": "4cb13bc9-47f5-4246-944b-40812f8a53a8",
   "metadata": {},
   "outputs": [],
   "source": [
    "snacks_list = [candy_bars, cookies]"
   ]
  },
  {
   "cell_type": "code",
   "execution_count": 10,
   "id": "2440c835-4e95-4f08-95b9-c679087b43fe",
   "metadata": {},
   "outputs": [
    {
     "data": {
      "text/plain": [
       "[['kitkat', 'twix'], ['oreos', 'thumb prints', 'oatmeal']]"
      ]
     },
     "execution_count": 10,
     "metadata": {},
     "output_type": "execute_result"
    }
   ],
   "source": [
    "snacks_list"
   ]
  },
  {
   "cell_type": "code",
   "execution_count": 11,
   "id": "5c138080-9cfb-4fbf-8652-bc60b1e0d911",
   "metadata": {},
   "outputs": [
    {
     "data": {
      "text/plain": [
       "2"
      ]
     },
     "execution_count": 11,
     "metadata": {},
     "output_type": "execute_result"
    }
   ],
   "source": [
    "len(snacks_list)"
   ]
  },
  {
   "cell_type": "code",
   "execution_count": 13,
   "id": "392bd019-fb46-417d-b86b-451baffee7a3",
   "metadata": {},
   "outputs": [
    {
     "name": "stdout",
     "output_type": "stream",
     "text": [
      "Variable       Type    Data/Info\n",
      "--------------------------------\n",
      "added_snacks   list    n=5\n",
      "candy_bars     list    n=2\n",
      "cookies        list    n=3\n",
      "snacks_list    list    n=2\n"
     ]
    }
   ],
   "source": [
    "%whos"
   ]
  },
  {
   "cell_type": "markdown",
   "id": "964ba4e0-fb8d-442a-a713-fa9f29e8106f",
   "metadata": {},
   "source": [
    "Alternatively, we could have organized everything within a DICTIONARY."
   ]
  },
  {
   "cell_type": "code",
   "execution_count": 14,
   "id": "aa4fdd18-8dc0-4376-9a65-8691d59fe334",
   "metadata": {},
   "outputs": [],
   "source": [
    "snack_dict = {'candy bars': candy_bars,\n",
    "                  'cookies': cookies}"
   ]
  },
  {
   "cell_type": "code",
   "execution_count": 15,
   "id": "c48215cc-f55d-4ca7-93da-660cff2d369b",
   "metadata": {},
   "outputs": [
    {
     "name": "stdout",
     "output_type": "stream",
     "text": [
      "Variable       Type    Data/Info\n",
      "--------------------------------\n",
      "added_snacks   list    n=5\n",
      "candy_bars     list    n=2\n",
      "cookies        list    n=3\n",
      "snack_dict     dict    n=2\n",
      "snacks_list    list    n=2\n"
     ]
    }
   ],
   "source": [
    "%whos"
   ]
  },
  {
   "cell_type": "code",
   "execution_count": 17,
   "id": "46de9b75-f113-45bf-9e9b-4b9ac0cada0c",
   "metadata": {},
   "outputs": [
    {
     "data": {
      "text/plain": [
       "['kitkat', 'twix']"
      ]
     },
     "execution_count": 17,
     "metadata": {},
     "output_type": "execute_result"
    }
   ],
   "source": [
    "snack_dict['candy bars']"
   ]
  },
  {
   "cell_type": "markdown",
   "id": "68ea567f-ecbb-466b-b001-ff8d7212a4b6",
   "metadata": {},
   "source": [
    "Let's create two more objects that APPEAR very similar to snacks_list and snacks_dict."
   ]
  },
  {
   "cell_type": "code",
   "execution_count": 19,
   "id": "1e5f6dfa-08a6-4371-bdc5-2fc48264e14d",
   "metadata": {},
   "outputs": [],
   "source": [
    "snacks_1 = [['kitkat', 'twix'], ['oreos', 'thumb prints', 'oatmeal']]"
   ]
  },
  {
   "cell_type": "code",
   "execution_count": 20,
   "id": "50991af1-adfc-4df2-9595-1dc463d2c042",
   "metadata": {},
   "outputs": [
    {
     "data": {
      "text/plain": [
       "[['kitkat', 'twix'], ['oreos', 'thumb prints', 'oatmeal']]"
      ]
     },
     "execution_count": 20,
     "metadata": {},
     "output_type": "execute_result"
    }
   ],
   "source": [
    "snacks_1"
   ]
  },
  {
   "cell_type": "code",
   "execution_count": 21,
   "id": "bbc60a4f-ea37-4c5c-b3b0-a3bafd72e358",
   "metadata": {},
   "outputs": [
    {
     "data": {
      "text/plain": [
       "True"
      ]
     },
     "execution_count": 21,
     "metadata": {},
     "output_type": "execute_result"
    }
   ],
   "source": [
    "snacks_1 == snacks_list"
   ]
  },
  {
   "cell_type": "code",
   "execution_count": 22,
   "id": "95d6f774-6f45-4b80-9b57-df23a8eab00b",
   "metadata": {},
   "outputs": [],
   "source": [
    "snacks_dict_1 = {'candy bars': ['kitkat', 'twix'], 'cookies': ['oreos', 'thumb prints', 'oatmeal']}"
   ]
  },
  {
   "cell_type": "code",
   "execution_count": 23,
   "id": "35762e94-1ac6-4525-baf4-22e587ac976e",
   "metadata": {},
   "outputs": [
    {
     "data": {
      "text/plain": [
       "{'candy bars': ['kitkat', 'twix'],\n",
       " 'cookies': ['oreos', 'thumb prints', 'oatmeal']}"
      ]
     },
     "execution_count": 23,
     "metadata": {},
     "output_type": "execute_result"
    }
   ],
   "source": [
    "snacks_dict_1"
   ]
  },
  {
   "cell_type": "markdown",
   "id": "1ff028fe-bcd2-442f-bb70-5888c2891482",
   "metadata": {},
   "source": [
    "BUT what happens if we MODIFY the originally smaller objects.\n",
    "\n",
    "For example, let's ADD a new candy bar to the `candy_bars` list."
   ]
  },
  {
   "cell_type": "code",
   "execution_count": 24,
   "id": "605bf65d-e85c-477f-bafb-3c0504bc422b",
   "metadata": {},
   "outputs": [],
   "source": [
    "candy_bars.append('milky way')"
   ]
  },
  {
   "cell_type": "code",
   "execution_count": 25,
   "id": "1e0ae84e-7842-4c86-bfcc-72f9558e972f",
   "metadata": {},
   "outputs": [
    {
     "data": {
      "text/plain": [
       "3"
      ]
     },
     "execution_count": 25,
     "metadata": {},
     "output_type": "execute_result"
    }
   ],
   "source": [
    "len(candy_bars)"
   ]
  },
  {
   "cell_type": "code",
   "execution_count": 45,
   "id": "0ad78e60-0295-4c0e-a9f3-ca1f80faeda6",
   "metadata": {},
   "outputs": [
    {
     "data": {
      "text/plain": [
       "{'candy bars': ['kitkat', 'twix'],\n",
       " 'cookies': ['oreos', 'thumb prints', 'oatmeal']}"
      ]
     },
     "execution_count": 45,
     "metadata": {},
     "output_type": "execute_result"
    }
   ],
   "source": [
    "snacks_dict_1"
   ]
  },
  {
   "cell_type": "code",
   "execution_count": 27,
   "id": "a3bafaa3-55bf-4188-b296-8a62729fe6f5",
   "metadata": {},
   "outputs": [
    {
     "name": "stdout",
     "output_type": "stream",
     "text": [
      "Variable        Type    Data/Info\n",
      "---------------------------------\n",
      "added_snacks    list    n=5\n",
      "candy_bars      list    n=3\n",
      "cookies         list    n=3\n",
      "snack_dict      dict    n=2\n",
      "snacks_1        list    n=2\n",
      "snacks_dict_1   dict    n=2\n",
      "snacks_list     list    n=2\n"
     ]
    }
   ],
   "source": [
    "%whos"
   ]
  },
  {
   "cell_type": "code",
   "execution_count": 28,
   "id": "2f2ad5ea-876e-43ca-a135-2406c7138fbe",
   "metadata": {},
   "outputs": [
    {
     "data": {
      "text/plain": [
       "False"
      ]
     },
     "execution_count": 28,
     "metadata": {},
     "output_type": "execute_result"
    }
   ],
   "source": [
    "snacks_list == snacks_1"
   ]
  },
  {
   "cell_type": "code",
   "execution_count": 29,
   "id": "07dcc75f-db15-49e6-a61b-ce2b58659179",
   "metadata": {},
   "outputs": [
    {
     "data": {
      "text/plain": [
       "['kitkat', 'twix', 'milky way']"
      ]
     },
     "execution_count": 29,
     "metadata": {},
     "output_type": "execute_result"
    }
   ],
   "source": [
    "candy_bars"
   ]
  },
  {
   "cell_type": "code",
   "execution_count": 30,
   "id": "413ee72b-f90f-46e9-9b1c-90aa84c9594a",
   "metadata": {},
   "outputs": [
    {
     "data": {
      "text/plain": [
       "[['kitkat', 'twix', 'milky way'], ['oreos', 'thumb prints', 'oatmeal']]"
      ]
     },
     "execution_count": 30,
     "metadata": {},
     "output_type": "execute_result"
    }
   ],
   "source": [
    "snacks_list"
   ]
  },
  {
   "cell_type": "code",
   "execution_count": 31,
   "id": "9cec286c-305a-41c3-910b-ef3ad4662cf7",
   "metadata": {},
   "outputs": [
    {
     "data": {
      "text/plain": [
       "['kitkat', 'twix', 'milky way']"
      ]
     },
     "execution_count": 31,
     "metadata": {},
     "output_type": "execute_result"
    }
   ],
   "source": [
    "snacks_list[0]"
   ]
  },
  {
   "cell_type": "code",
   "execution_count": 32,
   "id": "53d91dbb-2005-41b8-9a73-43239f8dd9e5",
   "metadata": {},
   "outputs": [
    {
     "data": {
      "text/plain": [
       "False"
      ]
     },
     "execution_count": 32,
     "metadata": {},
     "output_type": "execute_result"
    }
   ],
   "source": [
    "snacks_dict_1 == snack_dict"
   ]
  },
  {
   "cell_type": "markdown",
   "id": "178b5316-ef41-4b4a-b57b-7cd2a021b508",
   "metadata": {},
   "source": [
    "snacks_list.key()"
   ]
  },
  {
   "cell_type": "markdown",
   "id": "acd611d1-71fc-43f1-a0c3-19b741ee604c",
   "metadata": {},
   "source": [
    "The reason for the seamingly strange behavior is that Python has SIDE EFFECTS for many actions!!!\n",
    "\n",
    "A SIDE EFFECT is something that occurs as part  of defining an object or executing an action.\n",
    "\n",
    "Python does not actually \"ATTACH\" or \"USE\" an object to define a new object.\n",
    "\n",
    "Instead Python <b>POINTS</b> to the original object."
   ]
  },
  {
   "cell_type": "code",
   "execution_count": 49,
   "id": "d9bb4394-916e-47a4-bab6-ae331b4fa07d",
   "metadata": {},
   "outputs": [
    {
     "data": {
      "text/plain": [
       "['kitkat', 'twix', 'milky way']"
      ]
     },
     "execution_count": 49,
     "metadata": {},
     "output_type": "execute_result"
    }
   ],
   "source": [
    "snack_dict['candy bars']"
   ]
  },
  {
   "cell_type": "code",
   "execution_count": 50,
   "id": "fd02d49d-9ad0-4530-954d-289b1f58adf6",
   "metadata": {},
   "outputs": [
    {
     "data": {
      "text/plain": [
       "{'candy bars': ['kitkat', 'twix'],\n",
       " 'cookies': ['oreos', 'thumb prints', 'oatmeal']}"
      ]
     },
     "execution_count": 50,
     "metadata": {},
     "output_type": "execute_result"
    }
   ],
   "source": [
    "snacks_dict_1"
   ]
  },
  {
   "cell_type": "code",
   "execution_count": 51,
   "id": "6ec3d8f3-053c-4b6c-b1b3-818d33042c5f",
   "metadata": {},
   "outputs": [],
   "source": [
    "candy_bars.append('snickers')"
   ]
  },
  {
   "cell_type": "code",
   "execution_count": 52,
   "id": "a64229df-6c5a-4c53-9e99-e828768ef851",
   "metadata": {},
   "outputs": [
    {
     "data": {
      "text/plain": [
       "['kitkat', 'twix', 'milky way', 'snickers']"
      ]
     },
     "execution_count": 52,
     "metadata": {},
     "output_type": "execute_result"
    }
   ],
   "source": [
    "snack_dict['candy bars']"
   ]
  },
  {
   "cell_type": "code",
   "execution_count": 53,
   "id": "ef7724d0-7957-47f8-b75d-7d5014e27f7b",
   "metadata": {},
   "outputs": [
    {
     "data": {
      "text/plain": [
       "['kitkat', 'twix', 'oreos', 'thumb prints', 'oatmeal']"
      ]
     },
     "execution_count": 53,
     "metadata": {},
     "output_type": "execute_result"
    }
   ],
   "source": [
    "added_snacks"
   ]
  },
  {
   "cell_type": "markdown",
   "id": "2ac78fa1-a32a-49fe-b388-21a7cdaddb41",
   "metadata": {},
   "source": [
    "We don't have the same side effect here for added_snacks!!\n",
    "\n",
    "\n",
    "We need to be careful in Python whne using existing objects (variables) to DEFINE new objects!!!\n",
    "\n",
    "Because changing the original object MAY have a SIDE EFFECT that changes the later objects in our programming!!!\n",
    "\n",
    "## One more example\n",
    "\n",
    "Let's add a new cookie to the original `cookies` list."
   ]
  },
  {
   "cell_type": "code",
   "execution_count": 54,
   "id": "dbceec47-b155-4c63-8b5b-2af813f87950",
   "metadata": {},
   "outputs": [
    {
     "data": {
      "text/plain": [
       "[['kitkat', 'twix', 'milky way', 'snickers'],\n",
       " ['oreos', 'thumb prints', 'oatmeal']]"
      ]
     },
     "execution_count": 54,
     "metadata": {},
     "output_type": "execute_result"
    }
   ],
   "source": [
    "snacks_list"
   ]
  },
  {
   "cell_type": "code",
   "execution_count": 55,
   "id": "a963a18b-b96f-4b65-a514-22076e7b232c",
   "metadata": {},
   "outputs": [
    {
     "data": {
      "text/plain": [
       "{'candy bars': ['kitkat', 'twix', 'milky way', 'snickers'],\n",
       " 'cookies': ['oreos', 'thumb prints', 'oatmeal']}"
      ]
     },
     "execution_count": 55,
     "metadata": {},
     "output_type": "execute_result"
    }
   ],
   "source": [
    "snack_dict"
   ]
  },
  {
   "cell_type": "code",
   "execution_count": 56,
   "id": "3ce943b1-4b80-453f-affc-562cf1eb5d18",
   "metadata": {},
   "outputs": [
    {
     "data": {
      "text/plain": [
       "3"
      ]
     },
     "execution_count": 56,
     "metadata": {},
     "output_type": "execute_result"
    }
   ],
   "source": [
    "len(cookies)"
   ]
  },
  {
   "cell_type": "code",
   "execution_count": 57,
   "id": "ff93674a-a7e8-459b-9a10-b7722d334184",
   "metadata": {},
   "outputs": [],
   "source": [
    "cookies.append('chocolate chip')"
   ]
  },
  {
   "cell_type": "code",
   "execution_count": 58,
   "id": "00042ed1-3dc3-4e09-9a94-92f8f46cddf3",
   "metadata": {},
   "outputs": [
    {
     "data": {
      "text/plain": [
       "4"
      ]
     },
     "execution_count": 58,
     "metadata": {},
     "output_type": "execute_result"
    }
   ],
   "source": [
    "len(cookies)"
   ]
  },
  {
   "cell_type": "code",
   "execution_count": 59,
   "id": "807b535c-0b03-47e1-a5dc-366b826925e3",
   "metadata": {},
   "outputs": [
    {
     "data": {
      "text/plain": [
       "['oreos', 'thumb prints', 'oatmeal', 'chocolate chip']"
      ]
     },
     "execution_count": 59,
     "metadata": {},
     "output_type": "execute_result"
    }
   ],
   "source": [
    "cookies"
   ]
  },
  {
   "cell_type": "code",
   "execution_count": 60,
   "id": "5ac64e14-e3b4-4f28-a809-f23317a460bb",
   "metadata": {},
   "outputs": [
    {
     "data": {
      "text/plain": [
       "[['kitkat', 'twix', 'milky way', 'snickers'],\n",
       " ['oreos', 'thumb prints', 'oatmeal', 'chocolate chip']]"
      ]
     },
     "execution_count": 60,
     "metadata": {},
     "output_type": "execute_result"
    }
   ],
   "source": [
    "snacks_list"
   ]
  },
  {
   "cell_type": "code",
   "execution_count": 61,
   "id": "eb21e65c-8ed3-48f6-8663-cae69179b90c",
   "metadata": {},
   "outputs": [
    {
     "data": {
      "text/plain": [
       "{'candy bars': ['kitkat', 'twix', 'milky way', 'snickers'],\n",
       " 'cookies': ['oreos', 'thumb prints', 'oatmeal', 'chocolate chip']}"
      ]
     },
     "execution_count": 61,
     "metadata": {},
     "output_type": "execute_result"
    }
   ],
   "source": [
    "snack_dict"
   ]
  },
  {
   "cell_type": "code",
   "execution_count": 62,
   "id": "46a4c260-9bf1-4397-a6a2-74ef17b763f9",
   "metadata": {},
   "outputs": [
    {
     "data": {
      "text/plain": [
       "[['kitkat', 'twix'], ['oreos', 'thumb prints', 'oatmeal']]"
      ]
     },
     "execution_count": 62,
     "metadata": {},
     "output_type": "execute_result"
    }
   ],
   "source": [
    "snacks_1"
   ]
  },
  {
   "cell_type": "code",
   "execution_count": 64,
   "id": "af733b2b-e8cc-4159-b4a7-f9b26c2bdd9c",
   "metadata": {},
   "outputs": [
    {
     "data": {
      "text/plain": [
       "{'candy bars': ['kitkat', 'twix'],\n",
       " 'cookies': ['oreos', 'thumb prints', 'oatmeal']}"
      ]
     },
     "execution_count": 64,
     "metadata": {},
     "output_type": "execute_result"
    }
   ],
   "source": [
    "snacks_dict_1"
   ]
  },
  {
   "cell_type": "markdown",
   "id": "ec2cc49b-4655-415f-b849-00ef66cf7738",
   "metadata": {},
   "source": [
    "When we code where one object points to another object, any update to that original object will be updated in the object using that object\n",
    "\n",
    "Object1 -> Object2, change in Object2 will be reflected in Object1."
   ]
  },
  {
   "cell_type": "code",
   "execution_count": null,
   "id": "2e74571b-b10b-4b02-af15-ebdcccd21812",
   "metadata": {},
   "outputs": [],
   "source": []
  },
  {
   "cell_type": "code",
   "execution_count": null,
   "id": "b18535c5-4fba-4308-8994-3b15bee60b88",
   "metadata": {},
   "outputs": [],
   "source": []
  },
  {
   "cell_type": "code",
   "execution_count": null,
   "id": "c9327481-4c11-4496-902c-b30792d1cce5",
   "metadata": {},
   "outputs": [],
   "source": []
  }
 ],
 "metadata": {
  "kernelspec": {
   "display_name": "Python 3 (ipykernel)",
   "language": "python",
   "name": "python3"
  },
  "language_info": {
   "codemirror_mode": {
    "name": "ipython",
    "version": 3
   },
   "file_extension": ".py",
   "mimetype": "text/x-python",
   "name": "python",
   "nbconvert_exporter": "python",
   "pygments_lexer": "ipython3",
   "version": "3.8.19"
  }
 },
 "nbformat": 4,
 "nbformat_minor": 5
}
