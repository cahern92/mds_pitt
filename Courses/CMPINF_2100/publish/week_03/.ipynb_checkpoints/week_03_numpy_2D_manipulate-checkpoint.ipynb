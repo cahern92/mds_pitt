{
 "cells": [
  {
   "cell_type": "markdown",
   "id": "5e22d946-7b11-4e41-9900-da5883851845",
   "metadata": {},
   "source": [
    "## CMPINF 2100 Week 03\n",
    "\n",
    "### Manipulating 2D arrays\n",
    "\n",
    "We can manipulate 2D arrays just like 1D arrays!!\n",
    "\n",
    "But we need to be careful!\n",
    "\n",
    "### Import NumPy"
   ]
  },
  {
   "cell_type": "code",
   "execution_count": 3,
   "id": "ab3afb73-0d24-4e0f-acc2-4f37ebf9e6ec",
   "metadata": {},
   "outputs": [],
   "source": [
    "import numpy as np"
   ]
  },
  {
   "cell_type": "markdown",
   "id": "5fd18746-7240-4695-a10f-b17d4cefef8a",
   "metadata": {},
   "source": [
    "### Create arrays\n",
    "We will use 1D array to contrast with manipulating 2D arrays."
   ]
  },
  {
   "cell_type": "code",
   "execution_count": 5,
   "id": "7ba2d4c7-a238-43f8-86b0-be7fa4090b92",
   "metadata": {},
   "outputs": [],
   "source": [
    "my_1d = np.arange(6)"
   ]
  },
  {
   "cell_type": "code",
   "execution_count": 6,
   "id": "cb78084a-73d1-4cc7-9701-99d06666cb9f",
   "metadata": {},
   "outputs": [
    {
     "data": {
      "text/plain": [
       "array([0, 1, 2, 3, 4, 5])"
      ]
     },
     "execution_count": 6,
     "metadata": {},
     "output_type": "execute_result"
    }
   ],
   "source": [
    "my_1d"
   ]
  },
  {
   "cell_type": "code",
   "execution_count": 8,
   "id": "b12a56e5-4de0-4af0-a976-84d9136f8078",
   "metadata": {},
   "outputs": [],
   "source": [
    "my_2d = np.array( [[0, 0, 0],\n",
    "                   [1, 1, 1],\n",
    "                   [2, 2, 2,],\n",
    "                   [3, 3, 3]])"
   ]
  },
  {
   "cell_type": "markdown",
   "id": "491b6278-4cb2-4ea0-a5cc-4c4339b8c942",
   "metadata": {},
   "source": [
    "## Slicing"
   ]
  },
  {
   "cell_type": "code",
   "execution_count": 9,
   "id": "dff7ea5c-7738-43c2-a82b-9349c48d6edc",
   "metadata": {},
   "outputs": [
    {
     "data": {
      "text/plain": [
       "0"
      ]
     },
     "execution_count": 9,
     "metadata": {},
     "output_type": "execute_result"
    }
   ],
   "source": [
    "my_1d[0]"
   ]
  },
  {
   "cell_type": "markdown",
   "id": "7b708f8c-ecc9-4b6c-8f5a-e3a60d93728d",
   "metadata": {},
   "source": [
    "What happens if we slice a 2D array just like a 1D array"
   ]
  },
  {
   "cell_type": "code",
   "execution_count": 10,
   "id": "42757ecb-d236-4d29-b047-2ba4d3a154cc",
   "metadata": {},
   "outputs": [
    {
     "data": {
      "text/plain": [
       "array([0, 0, 0])"
      ]
     },
     "execution_count": 10,
     "metadata": {},
     "output_type": "execute_result"
    }
   ],
   "source": [
    "my_2d[0]"
   ]
  },
  {
   "cell_type": "code",
   "execution_count": 11,
   "id": "1d418d04-b89f-4709-89b9-d2a3fe9a7eda",
   "metadata": {},
   "outputs": [
    {
     "data": {
      "text/plain": [
       "array([1, 1, 1])"
      ]
     },
     "execution_count": 11,
     "metadata": {},
     "output_type": "execute_result"
    }
   ],
   "source": [
    "my_2d[1]"
   ]
  },
  {
   "cell_type": "markdown",
   "id": "6e9a9f0c-b47f-4dd5-816c-f2abd4b84fe6",
   "metadata": {},
   "source": [
    "Providing a single index to SLICE causes NumPy to slice the ROWS!!\n",
    "\n",
    "It returns ALL columns from that row!!\n",
    "\n",
    "The more formal syntax use the `:` operator to specify ALL rows."
   ]
  },
  {
   "cell_type": "code",
   "execution_count": 14,
   "id": "0d8f6025-8422-4e9d-809a-169238221aa5",
   "metadata": {},
   "outputs": [
    {
     "data": {
      "text/plain": [
       "array([0, 0, 0])"
      ]
     },
     "execution_count": 14,
     "metadata": {},
     "output_type": "execute_result"
    }
   ],
   "source": [
    "my_2d[0, :]"
   ]
  },
  {
   "cell_type": "code",
   "execution_count": 15,
   "id": "6d1f0336-8257-444b-9410-368f5fec9acc",
   "metadata": {},
   "outputs": [
    {
     "data": {
      "text/plain": [
       "array([3, 3, 3])"
      ]
     },
     "execution_count": 15,
     "metadata": {},
     "output_type": "execute_result"
    }
   ],
   "source": [
    "my_2d[-1, :]"
   ]
  },
  {
   "cell_type": "code",
   "execution_count": 16,
   "id": "aecf3bd2-40a8-42d7-aad0-bff09ecec107",
   "metadata": {},
   "outputs": [
    {
     "data": {
      "text/plain": [
       "array([1, 1, 1])"
      ]
     },
     "execution_count": 16,
     "metadata": {},
     "output_type": "execute_result"
    }
   ],
   "source": [
    "my_2d[1, :]"
   ]
  },
  {
   "cell_type": "markdown",
   "id": "ada3be02-a289-4060-9aee-82f8a4257362",
   "metadata": {},
   "source": [
    "This highlights slicing or indexing 2D arrays required an index for ROWS and COLUMNS!!!"
   ]
  },
  {
   "cell_type": "code",
   "execution_count": 18,
   "id": "e4666501-41ce-4812-a85d-bcfd279483f2",
   "metadata": {},
   "outputs": [
    {
     "data": {
      "text/plain": [
       "array([[0, 0, 0],\n",
       "       [1, 1, 1],\n",
       "       [2, 2, 2],\n",
       "       [3, 3, 3]])"
      ]
     },
     "execution_count": 18,
     "metadata": {},
     "output_type": "execute_result"
    }
   ],
   "source": [
    "my_2d"
   ]
  },
  {
   "cell_type": "code",
   "execution_count": 21,
   "id": "59e22bbd-5221-45fe-ae26-75567225e6b5",
   "metadata": {},
   "outputs": [
    {
     "data": {
      "text/plain": [
       "1"
      ]
     },
     "execution_count": 21,
     "metadata": {},
     "output_type": "execute_result"
    }
   ],
   "source": [
    "my_2d[1,1]"
   ]
  },
  {
   "cell_type": "code",
   "execution_count": 23,
   "id": "67a9e642-3e95-46c8-95a3-1f2a96cd5dcf",
   "metadata": {},
   "outputs": [
    {
     "data": {
      "text/plain": [
       "2"
      ]
     },
     "execution_count": 23,
     "metadata": {},
     "output_type": "execute_result"
    }
   ],
   "source": [
    "my_2d[2,0]"
   ]
  },
  {
   "cell_type": "markdown",
   "id": "834877d8-311d-4c8e-a9d6-fd715cc2ad5f",
   "metadata": {},
   "source": [
    "It's easy to SLICE a subset of rows and columns!"
   ]
  },
  {
   "cell_type": "code",
   "execution_count": 24,
   "id": "0985a118-2702-47c2-8a81-f79d40af07f5",
   "metadata": {},
   "outputs": [
    {
     "data": {
      "text/plain": [
       "array([[0, 0, 0],\n",
       "       [1, 1, 1]])"
      ]
     },
     "execution_count": 24,
     "metadata": {},
     "output_type": "execute_result"
    }
   ],
   "source": [
    "my_2d[:2, :]"
   ]
  },
  {
   "cell_type": "code",
   "execution_count": 25,
   "id": "a5c81aac-bc5a-4b33-b590-de983ff58d33",
   "metadata": {},
   "outputs": [
    {
     "data": {
      "text/plain": [
       "array([[0],\n",
       "       [1]])"
      ]
     },
     "execution_count": 25,
     "metadata": {},
     "output_type": "execute_result"
    }
   ],
   "source": [
    "my_2d[:2, :1]"
   ]
  },
  {
   "cell_type": "code",
   "execution_count": 26,
   "id": "e7938e0f-556a-4de9-9f0d-bb0743ebceeb",
   "metadata": {},
   "outputs": [
    {
     "data": {
      "text/plain": [
       "array([[0, 0, 0],\n",
       "       [1, 1, 1],\n",
       "       [2, 2, 2],\n",
       "       [3, 3, 3]])"
      ]
     },
     "execution_count": 26,
     "metadata": {},
     "output_type": "execute_result"
    }
   ],
   "source": [
    "my_2d"
   ]
  },
  {
   "cell_type": "markdown",
   "id": "d3d5d0c2-2653-4c98-bd0b-c5a1ad52a8e6",
   "metadata": {},
   "source": [
    "## Conditional subsetting\n",
    "\n",
    "We can apply conditional subset to 2D arrays just like 1D arrays but we need to be careful which subset or dimension we are applying the MASK to!!"
   ]
  },
  {
   "cell_type": "code",
   "execution_count": 27,
   "id": "cff246a9-f7f7-4105-ba15-8d926929df93",
   "metadata": {},
   "outputs": [
    {
     "data": {
      "text/plain": [
       "array([[0, 0, 0],\n",
       "       [1, 1, 1],\n",
       "       [2, 2, 2],\n",
       "       [3, 3, 3]])"
      ]
     },
     "execution_count": 27,
     "metadata": {},
     "output_type": "execute_result"
    }
   ],
   "source": [
    "my_2d"
   ]
  },
  {
   "cell_type": "markdown",
   "id": "1c9610f4-9545-482d-9713-5373b3cc7e7d",
   "metadata": {},
   "source": [
    "Let's find all rows where 1 column has values greater than 1."
   ]
  },
  {
   "cell_type": "code",
   "execution_count": 28,
   "id": "673918f2-4563-4f31-b344-0cc0aaf14562",
   "metadata": {},
   "outputs": [
    {
     "data": {
      "text/plain": [
       "array([0, 1, 2, 3])"
      ]
     },
     "execution_count": 28,
     "metadata": {},
     "output_type": "execute_result"
    }
   ],
   "source": [
    "my_2d[:, 1]"
   ]
  },
  {
   "cell_type": "code",
   "execution_count": 30,
   "id": "f681265c-9b50-40fe-bd32-8390782d0595",
   "metadata": {},
   "outputs": [
    {
     "data": {
      "text/plain": [
       "array([False, False,  True,  True])"
      ]
     },
     "execution_count": 30,
     "metadata": {},
     "output_type": "execute_result"
    }
   ],
   "source": [
    "my_2d[:, 1] > 1"
   ]
  },
  {
   "cell_type": "code",
   "execution_count": 31,
   "id": "0902f09a-bccf-4e51-aeca-f71b42053efc",
   "metadata": {},
   "outputs": [
    {
     "data": {
      "text/plain": [
       "array([False, False,  True,  True,  True,  True])"
      ]
     },
     "execution_count": 31,
     "metadata": {},
     "output_type": "execute_result"
    }
   ],
   "source": [
    "my_1d > 1"
   ]
  },
  {
   "cell_type": "code",
   "execution_count": 32,
   "id": "d74a43c2-b3d7-4d79-bbd8-81f910c5170e",
   "metadata": {},
   "outputs": [
    {
     "data": {
      "text/plain": [
       "array([[2, 2, 2],\n",
       "       [3, 3, 3]])"
      ]
     },
     "execution_count": 32,
     "metadata": {},
     "output_type": "execute_result"
    }
   ],
   "source": [
    "my_2d[my_2d[:, 1] > 1, :]"
   ]
  },
  {
   "cell_type": "markdown",
   "id": "48bfc465-49bc-460c-ab4a-6f3e12c3f62d",
   "metadata": {},
   "source": [
    "Let's see this again, but this time fnding all rows with EVEN values in the 1 column."
   ]
  },
  {
   "cell_type": "code",
   "execution_count": 46,
   "id": "559198f7-a24d-41bb-bc02-7a6588e20254",
   "metadata": {},
   "outputs": [
    {
     "data": {
      "text/plain": [
       "array([0, 1, 2, 3])"
      ]
     },
     "execution_count": 46,
     "metadata": {},
     "output_type": "execute_result"
    }
   ],
   "source": [
    "my_2d[:, 0]"
   ]
  },
  {
   "cell_type": "code",
   "execution_count": 47,
   "id": "c2dcdab2-8fa5-4aef-bed6-5c071ebbe62a",
   "metadata": {},
   "outputs": [
    {
     "data": {
      "text/plain": [
       "array([ True, False,  True, False])"
      ]
     },
     "execution_count": 47,
     "metadata": {},
     "output_type": "execute_result"
    }
   ],
   "source": [
    "my_2d[:, 0] % 2 == 0"
   ]
  },
  {
   "cell_type": "code",
   "execution_count": 48,
   "id": "524bc408-92d9-4e48-bc91-12fd3837827f",
   "metadata": {},
   "outputs": [
    {
     "data": {
      "text/plain": [
       "array([[0, 0, 0],\n",
       "       [2, 2, 2]])"
      ]
     },
     "execution_count": 48,
     "metadata": {},
     "output_type": "execute_result"
    }
   ],
   "source": [
    "my_2d[ my_2d[:, 0] % 2 == 0, :]"
   ]
  },
  {
   "cell_type": "markdown",
   "id": "a340e1c4-bafd-4349-ba43-7dfbf59ffdb8",
   "metadata": {},
   "source": [
    "KEEPING or STORING the result of a SLICE or CONDITIONAL SUBSET required assigning the result ot a new variable.\n",
    "\n",
    "Keep just the first 2 columns!"
   ]
  },
  {
   "cell_type": "code",
   "execution_count": 49,
   "id": "cd5d9888-2d86-4f34-b340-a69cc42bd595",
   "metadata": {},
   "outputs": [],
   "source": [
    "odd_array = my_2d[ my_2d[:, 0] % 2 != 0, :2]"
   ]
  },
  {
   "cell_type": "code",
   "execution_count": 50,
   "id": "510f2038-a585-4f01-b5e3-43444ea2ea8e",
   "metadata": {},
   "outputs": [
    {
     "data": {
      "text/plain": [
       "array([[1, 1],\n",
       "       [3, 3]])"
      ]
     },
     "execution_count": 50,
     "metadata": {},
     "output_type": "execute_result"
    }
   ],
   "source": [
    "odd_array"
   ]
  },
  {
   "cell_type": "code",
   "execution_count": 51,
   "id": "5b580fec-a486-4ea3-b607-3f76c2530dc9",
   "metadata": {},
   "outputs": [
    {
     "data": {
      "text/plain": [
       "array([[0, 0, 0],\n",
       "       [1, 1, 1],\n",
       "       [2, 2, 2],\n",
       "       [3, 3, 3]])"
      ]
     },
     "execution_count": 51,
     "metadata": {},
     "output_type": "execute_result"
    }
   ],
   "source": [
    "my_2d"
   ]
  },
  {
   "cell_type": "markdown",
   "id": "ae138281-0de8-4612-b47f-05f539635cd5",
   "metadata": {},
   "source": [
    "Arrays are mutable so we can change values!!"
   ]
  },
  {
   "cell_type": "code",
   "execution_count": 52,
   "id": "9b9e2a58-0ca6-49d9-a986-7a6bad7cb95b",
   "metadata": {},
   "outputs": [],
   "source": [
    "odd_array[0,0] = 101"
   ]
  },
  {
   "cell_type": "code",
   "execution_count": 53,
   "id": "5164ce7b-b5fc-4ed4-8ac0-28e304e4a79d",
   "metadata": {},
   "outputs": [
    {
     "data": {
      "text/plain": [
       "array([[101,   1],\n",
       "       [  3,   3]])"
      ]
     },
     "execution_count": 53,
     "metadata": {},
     "output_type": "execute_result"
    }
   ],
   "source": [
    "odd_array"
   ]
  },
  {
   "cell_type": "code",
   "execution_count": 54,
   "id": "986649c8-24ff-4dc2-8018-9a0cce7b68a4",
   "metadata": {},
   "outputs": [],
   "source": [
    "odd_array[-1, -1] = -101"
   ]
  },
  {
   "cell_type": "code",
   "execution_count": 55,
   "id": "3ba750e9-1d6a-4352-8f6b-f0a8489c828d",
   "metadata": {},
   "outputs": [
    {
     "data": {
      "text/plain": [
       "array([[0, 0, 0],\n",
       "       [1, 1, 1],\n",
       "       [2, 2, 2],\n",
       "       [3, 3, 3]])"
      ]
     },
     "execution_count": 55,
     "metadata": {},
     "output_type": "execute_result"
    }
   ],
   "source": [
    "my_2d"
   ]
  },
  {
   "cell_type": "markdown",
   "id": "754d6120-9f04-4882-88ac-72cc49adcd22",
   "metadata": {},
   "source": [
    "But what if we would have SLICED rather than applied a MASK to conditionall subset the larger array?"
   ]
  },
  {
   "cell_type": "code",
   "execution_count": 57,
   "id": "06a0faa1-e75d-4165-b956-ce67ba0ef696",
   "metadata": {},
   "outputs": [],
   "source": [
    "odd_b = my_2d[1:4:2, :2]"
   ]
  },
  {
   "cell_type": "code",
   "execution_count": 59,
   "id": "9e0b3c96-a18e-427a-9002-f2fdf3f63377",
   "metadata": {},
   "outputs": [
    {
     "data": {
      "text/plain": [
       "array([[1, 1],\n",
       "       [3, 3]])"
      ]
     },
     "execution_count": 59,
     "metadata": {},
     "output_type": "execute_result"
    }
   ],
   "source": [
    "odd_b"
   ]
  },
  {
   "cell_type": "code",
   "execution_count": 60,
   "id": "9c030aab-bc92-404d-999c-5a45159a1ab8",
   "metadata": {},
   "outputs": [],
   "source": [
    "odd_b[0, 0] = 301"
   ]
  },
  {
   "cell_type": "code",
   "execution_count": 61,
   "id": "924e117d-a1c4-4c06-9f01-d8911dc0f6d0",
   "metadata": {},
   "outputs": [
    {
     "data": {
      "text/plain": [
       "array([[  0,   0,   0],\n",
       "       [301,   1,   1],\n",
       "       [  2,   2,   2],\n",
       "       [  3,   3,   3]])"
      ]
     },
     "execution_count": 61,
     "metadata": {},
     "output_type": "execute_result"
    }
   ],
   "source": [
    "my_2d"
   ]
  },
  {
   "cell_type": "code",
   "execution_count": 62,
   "id": "fe59aee1-f930-4056-b17d-17104fc44a0e",
   "metadata": {},
   "outputs": [],
   "source": [
    "odd_b[-1, -1] = -301"
   ]
  },
  {
   "cell_type": "code",
   "execution_count": 63,
   "id": "f209dbb7-004d-46b2-a290-b5366f014888",
   "metadata": {},
   "outputs": [
    {
     "data": {
      "text/plain": [
       "array([[ 301,    1],\n",
       "       [   3, -301]])"
      ]
     },
     "execution_count": 63,
     "metadata": {},
     "output_type": "execute_result"
    }
   ],
   "source": [
    "odd_b"
   ]
  },
  {
   "cell_type": "code",
   "execution_count": 64,
   "id": "dd026820-c83b-47ee-8d33-9012059da41f",
   "metadata": {},
   "outputs": [
    {
     "data": {
      "text/plain": [
       "array([[ 101,    1],\n",
       "       [   3, -101]])"
      ]
     },
     "execution_count": 64,
     "metadata": {},
     "output_type": "execute_result"
    }
   ],
   "source": [
    "odd_array"
   ]
  },
  {
   "cell_type": "code",
   "execution_count": 65,
   "id": "84058837-3920-401f-afef-738cbcc6399c",
   "metadata": {},
   "outputs": [
    {
     "data": {
      "text/plain": [
       "array([[   0,    0,    0],\n",
       "       [ 301,    1,    1],\n",
       "       [   2,    2,    2],\n",
       "       [   3, -301,    3]])"
      ]
     },
     "execution_count": 65,
     "metadata": {},
     "output_type": "execute_result"
    }
   ],
   "source": [
    "my_2d"
   ]
  },
  {
   "cell_type": "markdown",
   "id": "aa00565f-52c6-4050-924a-45eb6e7b8711",
   "metadata": {},
   "source": [
    "SLicing arrays into smaller objects can create a SIDE EFFECT!!!\n",
    "\n",
    "The sliced array points back to the larger array it originally came from!!!\n",
    "\n",
    "Modifying the SLICED smaller array will therefore impact the original larger array it points to!!!\n",
    "\n",
    "SLICING via MASKED or CONDITIONAL subset may not produce the same SIDE EFFECT!!!!\n",
    "\n",
    "We can REMOVE the POINTING SIDE EFFECT by forcing a HARD COPY!!!"
   ]
  },
  {
   "cell_type": "code",
   "execution_count": 66,
   "id": "84bbe8cc-36ef-4cb5-b269-1dc728be74a5",
   "metadata": {},
   "outputs": [
    {
     "data": {
      "text/plain": [
       "array([[   0,    0,    0],\n",
       "       [ 301,    1,    1],\n",
       "       [   2,    2,    2],\n",
       "       [   3, -301,    3]])"
      ]
     },
     "execution_count": 66,
     "metadata": {},
     "output_type": "execute_result"
    }
   ],
   "source": [
    "my_2d"
   ]
  },
  {
   "cell_type": "code",
   "execution_count": 67,
   "id": "d938762f-ed3b-4246-bf07-a48244c9b65e",
   "metadata": {},
   "outputs": [],
   "source": [
    "odd_copy = my_2d[1:4:2, :2].copy()"
   ]
  },
  {
   "cell_type": "code",
   "execution_count": 68,
   "id": "c42a5bcb-ac79-4f57-8b43-28e7554cbaee",
   "metadata": {},
   "outputs": [],
   "source": [
    "odd_copy[-1, -1] = 3"
   ]
  },
  {
   "cell_type": "code",
   "execution_count": 72,
   "id": "093cbd0c-f1fe-44a7-a494-6a145263bb63",
   "metadata": {},
   "outputs": [],
   "source": [
    "odd_copy[0, 0] = 1"
   ]
  },
  {
   "cell_type": "code",
   "execution_count": 73,
   "id": "d15ead3f-c21a-409e-b430-fc127362c86f",
   "metadata": {},
   "outputs": [
    {
     "data": {
      "text/plain": [
       "array([[1, 1],\n",
       "       [3, 3]])"
      ]
     },
     "execution_count": 73,
     "metadata": {},
     "output_type": "execute_result"
    }
   ],
   "source": [
    "odd_copy"
   ]
  },
  {
   "cell_type": "code",
   "execution_count": 74,
   "id": "cfe19253-7791-45d5-b1d6-75a23742a194",
   "metadata": {},
   "outputs": [
    {
     "data": {
      "text/plain": [
       "array([[   0,    0,    0],\n",
       "       [ 301,    1,    1],\n",
       "       [   2,    2,    2],\n",
       "       [   3, -301,    3]])"
      ]
     },
     "execution_count": 74,
     "metadata": {},
     "output_type": "execute_result"
    }
   ],
   "source": [
    "my_2d"
   ]
  },
  {
   "cell_type": "markdown",
   "id": "859020c7-02da-455d-a6db-f68e34712df1",
   "metadata": {},
   "source": [
    "## Sorting"
   ]
  },
  {
   "cell_type": "code",
   "execution_count": 75,
   "id": "e4ddd9d6-0d18-4da0-beb8-150474a50f68",
   "metadata": {},
   "outputs": [
    {
     "data": {
      "text/plain": [
       "array([[   0,    0,    0],\n",
       "       [ 301,    1,    1],\n",
       "       [   2,    2,    2],\n",
       "       [   3, -301,    3]])"
      ]
     },
     "execution_count": 75,
     "metadata": {},
     "output_type": "execute_result"
    }
   ],
   "source": [
    "my_2d"
   ]
  },
  {
   "cell_type": "markdown",
   "id": "3dde83a3-6438-4abc-b9ab-f8ad1322c1e1",
   "metadata": {},
   "source": [
    "When we sort, we need to remember it modified in place and we should consider the DIMENSIONS or AXIS we are sorting over!!!"
   ]
  },
  {
   "cell_type": "code",
   "execution_count": 76,
   "id": "4e2bf57e-a1cf-4727-b39c-651e27533710",
   "metadata": {},
   "outputs": [],
   "source": [
    "my_2d.sort(axis=0)"
   ]
  },
  {
   "cell_type": "code",
   "execution_count": 77,
   "id": "8023bdd9-b8e6-4b2a-a78e-a23654d3929a",
   "metadata": {},
   "outputs": [
    {
     "data": {
      "text/plain": [
       "array([[   0, -301,    0],\n",
       "       [   2,    0,    1],\n",
       "       [   3,    1,    2],\n",
       "       [ 301,    2,    3]])"
      ]
     },
     "execution_count": 77,
     "metadata": {},
     "output_type": "execute_result"
    }
   ],
   "source": [
    "my_2d"
   ]
  },
  {
   "cell_type": "code",
   "execution_count": 78,
   "id": "49a8009d-743e-40a8-b15c-587c52741458",
   "metadata": {},
   "outputs": [],
   "source": [
    "my_2d.sort(axis=1)"
   ]
  },
  {
   "cell_type": "code",
   "execution_count": 79,
   "id": "1cb1cedc-bc17-471c-99d5-0f48c63ca4a6",
   "metadata": {},
   "outputs": [
    {
     "data": {
      "text/plain": [
       "array([[-301,    0,    0],\n",
       "       [   0,    1,    2],\n",
       "       [   1,    2,    3],\n",
       "       [   2,    3,  301]])"
      ]
     },
     "execution_count": 79,
     "metadata": {},
     "output_type": "execute_result"
    }
   ],
   "source": [
    "my_2d"
   ]
  },
  {
   "cell_type": "markdown",
   "id": "84b26ef5-e7bd-4012-8426-f7c9fdc05d0a",
   "metadata": {},
   "source": [
    "## Summarize\n",
    "\n",
    "Let's review 1D summaries."
   ]
  },
  {
   "cell_type": "code",
   "execution_count": 80,
   "id": "fe1d6207-df6b-4bb7-af4d-22cb4e1d11ad",
   "metadata": {},
   "outputs": [
    {
     "data": {
      "text/plain": [
       "array([0, 1, 2, 3, 4, 5])"
      ]
     },
     "execution_count": 80,
     "metadata": {},
     "output_type": "execute_result"
    }
   ],
   "source": [
    "my_1d"
   ]
  },
  {
   "cell_type": "code",
   "execution_count": 81,
   "id": "d8fb82ac-e5a2-4013-ab81-47a560638b8e",
   "metadata": {},
   "outputs": [
    {
     "data": {
      "text/plain": [
       "0"
      ]
     },
     "execution_count": 81,
     "metadata": {},
     "output_type": "execute_result"
    }
   ],
   "source": [
    "my_1d.min()"
   ]
  },
  {
   "cell_type": "code",
   "execution_count": 82,
   "id": "e0f611f9-bcd0-461e-8a3a-a190f734eb60",
   "metadata": {},
   "outputs": [
    {
     "data": {
      "text/plain": [
       "5"
      ]
     },
     "execution_count": 82,
     "metadata": {},
     "output_type": "execute_result"
    }
   ],
   "source": [
    "my_1d.max()"
   ]
  },
  {
   "cell_type": "code",
   "execution_count": 83,
   "id": "69bc6c44-2777-4d58-a36b-a9265fd44de8",
   "metadata": {},
   "outputs": [
    {
     "data": {
      "text/plain": [
       "2.5"
      ]
     },
     "execution_count": 83,
     "metadata": {},
     "output_type": "execute_result"
    }
   ],
   "source": [
    "my_1d.mean()"
   ]
  },
  {
   "cell_type": "code",
   "execution_count": 86,
   "id": "e3f854ca-0980-4e1b-9e8b-424117b62727",
   "metadata": {},
   "outputs": [
    {
     "data": {
      "text/plain": [
       "1.8708286933869707"
      ]
     },
     "execution_count": 86,
     "metadata": {},
     "output_type": "execute_result"
    }
   ],
   "source": [
    "my_1d.std(ddof=1)"
   ]
  },
  {
   "cell_type": "code",
   "execution_count": 85,
   "id": "7d03ff20-105e-4cb3-aa9c-eafeb7720430",
   "metadata": {},
   "outputs": [
    {
     "data": {
      "text/plain": [
       "3.5"
      ]
     },
     "execution_count": 85,
     "metadata": {},
     "output_type": "execute_result"
    }
   ],
   "source": [
    "my_1d.var(ddof=1)"
   ]
  },
  {
   "cell_type": "markdown",
   "id": "02ac9494-b535-4d80-a2bd-80eceed18e80",
   "metadata": {},
   "source": [
    "What happens if we summarize a 2D array??"
   ]
  },
  {
   "cell_type": "code",
   "execution_count": 87,
   "id": "999e0b61-f3c6-47ff-b925-95dfbd6736ce",
   "metadata": {},
   "outputs": [
    {
     "data": {
      "text/plain": [
       "array([[-301,    0,    0],\n",
       "       [   0,    1,    2],\n",
       "       [   1,    2,    3],\n",
       "       [   2,    3,  301]])"
      ]
     },
     "execution_count": 87,
     "metadata": {},
     "output_type": "execute_result"
    }
   ],
   "source": [
    "my_2d"
   ]
  },
  {
   "cell_type": "code",
   "execution_count": 88,
   "id": "a6805076-79a4-400c-bf88-59b42f97c746",
   "metadata": {},
   "outputs": [
    {
     "data": {
      "text/plain": [
       "-301"
      ]
     },
     "execution_count": 88,
     "metadata": {},
     "output_type": "execute_result"
    }
   ],
   "source": [
    "my_2d.min()"
   ]
  },
  {
   "cell_type": "code",
   "execution_count": 89,
   "id": "82cce6c9-64a1-4830-a70e-05b8a929d8d2",
   "metadata": {},
   "outputs": [
    {
     "data": {
      "text/plain": [
       "301"
      ]
     },
     "execution_count": 89,
     "metadata": {},
     "output_type": "execute_result"
    }
   ],
   "source": [
    "my_2d.max()"
   ]
  },
  {
   "cell_type": "code",
   "execution_count": 90,
   "id": "58815676-9b18-4270-8aef-3915395f2fe3",
   "metadata": {},
   "outputs": [
    {
     "data": {
      "text/plain": [
       "1.1666666666666667"
      ]
     },
     "execution_count": 90,
     "metadata": {},
     "output_type": "execute_result"
    }
   ],
   "source": [
    "my_2d.mean()"
   ]
  },
  {
   "cell_type": "markdown",
   "id": "0e434c0f-e867-4b36-a118-e979e209ba66",
   "metadata": {},
   "source": [
    "But part of using 2D arrays is that we often want to summarize EACH COLUMN separately from the other columns!!!\n",
    "\n",
    "Meaning, we do not want the OVERALL statistic!"
   ]
  },
  {
   "cell_type": "code",
   "execution_count": 91,
   "id": "1809f2c1-382b-4dbd-8473-796e89b169c0",
   "metadata": {},
   "outputs": [
    {
     "data": {
      "text/plain": [
       "(4, 3)"
      ]
     },
     "execution_count": 91,
     "metadata": {},
     "output_type": "execute_result"
    }
   ],
   "source": [
    "my_2d.shape"
   ]
  },
  {
   "cell_type": "code",
   "execution_count": 92,
   "id": "b1a40276-6601-4bb2-9282-c09c5f3119cf",
   "metadata": {},
   "outputs": [
    {
     "data": {
      "text/plain": [
       "array([-301,    0,    1,    2])"
      ]
     },
     "execution_count": 92,
     "metadata": {},
     "output_type": "execute_result"
    }
   ],
   "source": [
    "my_2d.min(axis=1)"
   ]
  },
  {
   "cell_type": "code",
   "execution_count": 93,
   "id": "3ebf1e33-4ba5-4213-b03e-e2f2c712a3bb",
   "metadata": {},
   "outputs": [
    {
     "data": {
      "text/plain": [
       "array([  0,   2,   3, 301])"
      ]
     },
     "execution_count": 93,
     "metadata": {},
     "output_type": "execute_result"
    }
   ],
   "source": [
    "my_2d.max(axis=1)"
   ]
  },
  {
   "cell_type": "code",
   "execution_count": 94,
   "id": "09be87bc-bf01-4708-b7bc-8c724e33fbcb",
   "metadata": {},
   "outputs": [
    {
     "data": {
      "text/plain": [
       "array([  2,   3, 301])"
      ]
     },
     "execution_count": 94,
     "metadata": {},
     "output_type": "execute_result"
    }
   ],
   "source": [
    "my_2d.max(axis=0)"
   ]
  },
  {
   "cell_type": "code",
   "execution_count": null,
   "id": "b0de4483-254f-46a6-94f3-1d54256c171d",
   "metadata": {},
   "outputs": [],
   "source": []
  }
 ],
 "metadata": {
  "kernelspec": {
   "display_name": "Python 3 (ipykernel)",
   "language": "python",
   "name": "python3"
  },
  "language_info": {
   "codemirror_mode": {
    "name": "ipython",
    "version": 3
   },
   "file_extension": ".py",
   "mimetype": "text/x-python",
   "name": "python",
   "nbconvert_exporter": "python",
   "pygments_lexer": "ipython3",
   "version": "3.8.19"
  }
 },
 "nbformat": 4,
 "nbformat_minor": 5
}
