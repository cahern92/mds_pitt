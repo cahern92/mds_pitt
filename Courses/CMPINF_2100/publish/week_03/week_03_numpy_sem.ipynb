{
 "cells": [
  {
   "cell_type": "markdown",
   "id": "83082306-183a-4306-8fda-cb921b637330",
   "metadata": {},
   "source": [
    "## CMPINF 2100 Week 03\n",
    "## Simulate standard error on the mean (SEM)\n",
    "\n",
    "NumPy greatly streamlines and simplifies the simulation!!!\n",
    "\n",
    "## Import NumPy"
   ]
  },
  {
   "cell_type": "code",
   "execution_count": 52,
   "id": "95fddef5-ff03-444e-b73e-59f5c52a2ed3",
   "metadata": {},
   "outputs": [],
   "source": [
    "import numpy as np"
   ]
  },
  {
   "cell_type": "code",
   "execution_count": 53,
   "id": "021c914e-540a-4ca7-876d-e254ae47c4f0",
   "metadata": {},
   "outputs": [],
   "source": [
    "import matplotlib.pyplot as plt"
   ]
  },
  {
   "cell_type": "markdown",
   "id": "35d9e680-01b1-4192-ab6f-f038fa63a1a1",
   "metadata": {},
   "source": [
    "### Define the random number generator"
   ]
  },
  {
   "cell_type": "code",
   "execution_count": 3,
   "id": "a0336658-4bee-4440-9699-55bce6eb8ac8",
   "metadata": {},
   "outputs": [],
   "source": [
    "rg = np.random.default_rng(2100)"
   ]
  },
  {
   "cell_type": "code",
   "execution_count": 4,
   "id": "fe440333-0fb9-4996-b61f-1f8ed1dd14d5",
   "metadata": {},
   "outputs": [
    {
     "name": "stdout",
     "output_type": "stream",
     "text": [
      "Variable   Type         Data/Info\n",
      "---------------------------------\n",
      "np         module       <module 'numpy' from '/Ap<...>kages/numpy/__init__.py'>\n",
      "rg         Generator    Generator(PCG64)\n"
     ]
    }
   ],
   "source": [
    "%whos"
   ]
  },
  {
   "cell_type": "markdown",
   "id": "6646c461-ab98-4752-bffe-4d1306e4a6f4",
   "metadata": {},
   "source": [
    "## Simulation\n",
    "\n",
    "We can generate as many random numbers as we want and organize the results in a 2D array!\n",
    "\n",
    "Let's simulate 7 random numbers from a uniform distribution between 0 and 1 and REPLICATE that process 5000 times."
   ]
  },
  {
   "cell_type": "code",
   "execution_count": 5,
   "id": "dc09c6b4-f2c2-47d5-b66a-345d2132e002",
   "metadata": {},
   "outputs": [],
   "source": [
    "ns = 7"
   ]
  },
  {
   "cell_type": "code",
   "execution_count": 6,
   "id": "93eb7e6d-4fc1-401f-95a3-d32e4403e1f6",
   "metadata": {},
   "outputs": [],
   "source": [
    "nr = 5000"
   ]
  },
  {
   "cell_type": "markdown",
   "id": "d41672cb-eca0-462b-ba80-93e95743dc7d",
   "metadata": {},
   "source": [
    "Store the random numbers in an array named `X`"
   ]
  },
  {
   "cell_type": "code",
   "execution_count": 7,
   "id": "991574b4-c070-42b0-8406-f738f4e166de",
   "metadata": {},
   "outputs": [],
   "source": [
    "x = rg.random((ns, nr))"
   ]
  },
  {
   "cell_type": "code",
   "execution_count": 8,
   "id": "b6154bcd-2334-4f6b-9636-4058b7147539",
   "metadata": {},
   "outputs": [
    {
     "data": {
      "text/plain": [
       "(7, 5000)"
      ]
     },
     "execution_count": 8,
     "metadata": {},
     "output_type": "execute_result"
    }
   ],
   "source": [
    "x.shape"
   ]
  },
  {
   "cell_type": "code",
   "execution_count": 9,
   "id": "3a3fa631-837e-42cb-bd44-8ba90d9ef15a",
   "metadata": {},
   "outputs": [
    {
     "data": {
      "text/plain": [
       "35000"
      ]
     },
     "execution_count": 9,
     "metadata": {},
     "output_type": "execute_result"
    }
   ],
   "source": [
    "x.size"
   ]
  },
  {
   "cell_type": "code",
   "execution_count": 10,
   "id": "389072af-cb26-4274-a5f2-c5e928650d5a",
   "metadata": {},
   "outputs": [
    {
     "data": {
      "text/plain": [
       "array([[0.29903711, 0.94885201, 0.26654812],\n",
       "       [0.51239859, 0.08790237, 0.5364079 ],\n",
       "       [0.7045732 , 0.37019079, 0.87104672],\n",
       "       [0.23874204, 0.21034762, 0.15061256],\n",
       "       [0.74578658, 0.62917171, 0.70982467],\n",
       "       [0.93129205, 0.79358631, 0.24083404],\n",
       "       [0.47486183, 0.758452  , 0.45717285]])"
      ]
     },
     "execution_count": 10,
     "metadata": {},
     "output_type": "execute_result"
    }
   ],
   "source": [
    "x[:, :3]"
   ]
  },
  {
   "cell_type": "markdown",
   "id": "d02df7a1-4f41-4e9f-be02-25594e6ed6ef",
   "metadata": {},
   "source": [
    "### Calculate the average from the 7 random numbers\n",
    "\n",
    "Each column is an individual replication of 7 numbers.\n",
    "\n",
    "Calculate their averages!"
   ]
  },
  {
   "cell_type": "code",
   "execution_count": 13,
   "id": "be98e4bd-5dcc-4da6-bf4d-6bfa357a6ef6",
   "metadata": {},
   "outputs": [
    {
     "data": {
      "text/plain": [
       "array([0.55809877, 0.54264326, 0.46177812, ..., 0.41787544, 0.43058308,\n",
       "       0.37737202])"
      ]
     },
     "execution_count": 13,
     "metadata": {},
     "output_type": "execute_result"
    }
   ],
   "source": [
    "x.mean(axis=0)"
   ]
  },
  {
   "cell_type": "code",
   "execution_count": 15,
   "id": "1820835d-fad2-41db-85f0-675e3090a23c",
   "metadata": {},
   "outputs": [],
   "source": [
    "x_means = x.mean(axis=0)"
   ]
  },
  {
   "cell_type": "code",
   "execution_count": 17,
   "id": "2b5a6c8e-17fc-4dc7-a210-a1c1b491d748",
   "metadata": {},
   "outputs": [
    {
     "data": {
      "text/plain": [
       "0.377372022802107"
      ]
     },
     "execution_count": 17,
     "metadata": {},
     "output_type": "execute_result"
    }
   ],
   "source": [
    "x_means[-1]"
   ]
  },
  {
   "cell_type": "markdown",
   "id": "0e15d0d6-0de6-45d0-b3a9-ed049fa95b7d",
   "metadata": {},
   "source": [
    "### Calculate the standard error on the mean\n",
    "\n",
    "The SEM is the standard deviation of the averages!!!\n",
    "\n",
    "The `.std()` must be applied to the result stored in `x_means`\n",
    "\n",
    "BUT REMEMBER we want the UNBIASED ESTIMATOR!!!"
   ]
  },
  {
   "cell_type": "code",
   "execution_count": 18,
   "id": "570daada-2a6a-44bf-bd1f-224a347300b2",
   "metadata": {},
   "outputs": [
    {
     "data": {
      "text/plain": [
       "0.1082456884853543"
      ]
     },
     "execution_count": 18,
     "metadata": {},
     "output_type": "execute_result"
    }
   ],
   "source": [
    "x_means.std(ddof=1)"
   ]
  },
  {
   "cell_type": "markdown",
   "id": "da3e3aa8-bdc2-4b75-847e-68b91a05ed22",
   "metadata": {},
   "source": [
    "## Everything in one line of code"
   ]
  },
  {
   "cell_type": "code",
   "execution_count": 39,
   "id": "ef040f7a-2783-47a8-8f84-6b2f6a965522",
   "metadata": {},
   "outputs": [],
   "source": [
    "rg = np.random.default_rng(2100)"
   ]
  },
  {
   "cell_type": "code",
   "execution_count": 40,
   "id": "57c7ec15-0688-4641-8eec-07695738af85",
   "metadata": {},
   "outputs": [
    {
     "data": {
      "text/plain": [
       "0.1082456884853543"
      ]
     },
     "execution_count": 40,
     "metadata": {},
     "output_type": "execute_result"
    }
   ],
   "source": [
    "rg.random((ns,nr)).mean(axis=0).std(ddof=1)"
   ]
  },
  {
   "cell_type": "markdown",
   "id": "5f20c9c5-069f-4f0a-b6d3-ca9f5d4b6604",
   "metadata": {},
   "source": [
    "## Study of the effect of the sample size on the standard error"
   ]
  },
  {
   "cell_type": "code",
   "execution_count": 42,
   "id": "4c843265-eeef-4b52-8f54-0702c92530c7",
   "metadata": {},
   "outputs": [],
   "source": [
    "sample_sizes = 5 * (2 ** np.arange(12))"
   ]
  },
  {
   "cell_type": "code",
   "execution_count": 43,
   "id": "01e82005-66ba-4766-b57a-b5898c0ac4c7",
   "metadata": {},
   "outputs": [
    {
     "data": {
      "text/plain": [
       "array([    5,    10,    20,    40,    80,   160,   320,   640,  1280,\n",
       "        2560,  5120, 10240])"
      ]
     },
     "execution_count": 43,
     "metadata": {},
     "output_type": "execute_result"
    }
   ],
   "source": [
    "sample_sizes"
   ]
  },
  {
   "cell_type": "code",
   "execution_count": 44,
   "id": "a007dd37-ba8f-4eb6-8065-3290a990e335",
   "metadata": {},
   "outputs": [
    {
     "data": {
      "text/plain": [
       "[5, 10, 20, 40, 80, 160, 320, 640, 1280, 2560, 5120, 10240]"
      ]
     },
     "execution_count": 44,
     "metadata": {},
     "output_type": "execute_result"
    }
   ],
   "source": [
    "list(sample_sizes)"
   ]
  },
  {
   "cell_type": "markdown",
   "id": "4660bdc1-eef9-4cab-ad07-4b59823a74af",
   "metadata": {},
   "source": [
    "Let's iterate and apply the simulation for the standard error on the mean to the difference sample sizes!!"
   ]
  },
  {
   "cell_type": "code",
   "execution_count": 45,
   "id": "385254a6-e36e-40bc-96ed-a2a1c063a0a8",
   "metadata": {},
   "outputs": [],
   "source": [
    "rg = np.random.default_rng(2100)"
   ]
  },
  {
   "cell_type": "code",
   "execution_count": 46,
   "id": "dffe114f-fcbb-445a-b948-987bc000321e",
   "metadata": {},
   "outputs": [],
   "source": [
    "sem_vs_sample_size = [rg.random((nns, nr)).mean(axis=0).std(ddof=1) for nns in list(sample_sizes)]"
   ]
  },
  {
   "cell_type": "code",
   "execution_count": 47,
   "id": "c2c1654f-679d-490c-8428-20898675bc99",
   "metadata": {},
   "outputs": [
    {
     "data": {
      "text/plain": [
       "[0.12639977760402196,\n",
       " 0.09248917058659661,\n",
       " 0.065073251479999,\n",
       " 0.0452940285911916,\n",
       " 0.03206562241809871,\n",
       " 0.02278191667912868,\n",
       " 0.016291029330758027,\n",
       " 0.011515996158164071,\n",
       " 0.007974553089462759,\n",
       " 0.005750358904674762,\n",
       " 0.004012823505979166,\n",
       " 0.0028040113797993286]"
      ]
     },
     "execution_count": 47,
     "metadata": {},
     "output_type": "execute_result"
    }
   ],
   "source": [
    "sem_vs_sample_size"
   ]
  },
  {
   "cell_type": "markdown",
   "id": "7bbc6b47-a526-469f-86a2-f53757a7b23b",
   "metadata": {},
   "source": [
    "Let's plot the SEM vs the Sample Size!"
   ]
  },
  {
   "cell_type": "code",
   "execution_count": 54,
   "id": "791a4414-0bd7-4410-8aee-502412c27212",
   "metadata": {},
   "outputs": [
    {
     "data": {
      "image/png": "[encoded data removed]",
      "text/plain": [
       "<Figure size 1200x600 with 1 Axes>"
      ]
     },
     "metadata": {},
     "output_type": "display_data"
    }
   ],
   "source": [
    "fig, ax = plt.subplots(figsize=(12,6))\n",
    "\n",
    "ax.plot(sample_sizes, sem_vs_sample_size, '-o')\n",
    "ax.set_xscale('log')\n",
    "ax.set_xlabel('sample size')\n",
    "ax.set_ylabel('standard error on the mean')\n",
    "ax.grid(True)\n",
    "plt.show()"
   ]
  },
  {
   "cell_type": "code",
   "execution_count": null,
   "id": "d900cb25-d5d3-4f9d-b044-c9fb98571ee7",
   "metadata": {},
   "outputs": [],
   "source": []
  },
  {
   "cell_type": "code",
   "execution_count": null,
   "id": "ea1dd269-2ebe-4fd1-8d39-1e368f30b345",
   "metadata": {},
   "outputs": [],
   "source": []
  },
  {
   "cell_type": "code",
   "execution_count": null,
   "id": "db5f1f90-d1ad-41d4-996c-7f32da9575a8",
   "metadata": {},
   "outputs": [],
   "source": []
  }
 ],
 "metadata": {
  "kernelspec": {
   "display_name": "Python 3 (ipykernel)",
   "language": "python",
   "name": "python3"
  },
  "language_info": {
   "codemirror_mode": {
    "name": "ipython",
    "version": 3
   },
   "file_extension": ".py",
   "mimetype": "text/x-python",
   "name": "python",
   "nbconvert_exporter": "python",
   "pygments_lexer": "ipython3",
   "version": "3.8.19"
  }
 },
 "nbformat": 4,
 "nbformat_minor": 5
}
