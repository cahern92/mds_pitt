{
 "cells": [
  {
   "cell_type": "markdown",
   "id": "54e0d07e-258a-459f-936b-35d21fd0c0ad",
   "metadata": {},
   "source": [
    "## CMPINF 2100 Week 03\n",
    "### Generating Random Numbers with NumPy\n",
    "\n",
    "NumPy greatly streamlines the process of generating many random numbers!!\n",
    "\n",
    "### Import NumPy"
   ]
  },
  {
   "cell_type": "code",
   "execution_count": 1,
   "id": "122ac8ed-9812-41a9-b13b-963dc11f12d7",
   "metadata": {},
   "outputs": [],
   "source": [
    "import numpy as np"
   ]
  },
  {
   "cell_type": "markdown",
   "id": "7505e6cc-7ab5-406e-ba5c-4fd408824522",
   "metadata": {},
   "source": [
    "## Random number generators\n",
    "NumPy has its own family of random number generators. It requires that we initialize or specify the GENERATOR object.\n"
   ]
  },
  {
   "cell_type": "code",
   "execution_count": 2,
   "id": "691f12b5-fc7e-436a-a199-61ca08d90bc4",
   "metadata": {},
   "outputs": [],
   "source": [
    "rg = np.random.default_rng(12345)"
   ]
  },
  {
   "cell_type": "code",
   "execution_count": 3,
   "id": "382fcc48-5ce8-4787-9842-bf8b013bfabf",
   "metadata": {},
   "outputs": [
    {
     "name": "stdout",
     "output_type": "stream",
     "text": [
      "Variable   Type         Data/Info\n",
      "---------------------------------\n",
      "np         module       <module 'numpy' from '/Ap<...>kages/numpy/__init__.py'>\n",
      "rg         Generator    Generator(PCG64)\n"
     ]
    }
   ],
   "source": [
    "%whos"
   ]
  },
  {
   "cell_type": "markdown",
   "id": "e6004737-0362-4d48-9619-bbf7a5a63344",
   "metadata": {},
   "source": [
    "Generating random numbers requires calling methods associated with the generator object.\n",
    "\n",
    "The uniform random number between 0 and 1 is created using the `rg.random()` method."
   ]
  },
  {
   "cell_type": "code",
   "execution_count": 4,
   "id": "508b3067-65bd-455a-b4a6-7e5d6d7768ac",
   "metadata": {},
   "outputs": [
    {
     "data": {
      "text/plain": [
       "0.22733602246716966"
      ]
     },
     "execution_count": 4,
     "metadata": {},
     "output_type": "execute_result"
    }
   ],
   "source": [
    "rg.random()"
   ]
  },
  {
   "cell_type": "code",
   "execution_count": 5,
   "id": "796c12fd-06cb-4984-800e-a018785be201",
   "metadata": {},
   "outputs": [
    {
     "data": {
      "text/plain": [
       "0.31675833970975287"
      ]
     },
     "execution_count": 5,
     "metadata": {},
     "output_type": "execute_result"
    }
   ],
   "source": [
    "rg.random()"
   ]
  },
  {
   "cell_type": "code",
   "execution_count": 6,
   "id": "5be757c9-310b-4649-89b7-c53aaf0e7ae8",
   "metadata": {},
   "outputs": [
    {
     "data": {
      "text/plain": [
       "0.7973654573327341"
      ]
     },
     "execution_count": 6,
     "metadata": {},
     "output_type": "execute_result"
    }
   ],
   "source": [
    "rg.random()"
   ]
  },
  {
   "cell_type": "markdown",
   "id": "22f3e82b-6521-43f9-99af-168d5d830049",
   "metadata": {},
   "source": [
    "Resetting the seed will allow us to reproduce the previous SEQUENCE of random numbers."
   ]
  },
  {
   "cell_type": "code",
   "execution_count": 8,
   "id": "03d194f7-1624-48c7-a9c1-8b36bb17b724",
   "metadata": {},
   "outputs": [
    {
     "name": "stdout",
     "output_type": "stream",
     "text": [
      "0.22733602246716966 0.31675833970975287 0.7973654573327341\n"
     ]
    }
   ],
   "source": [
    "rg = np.random.default_rng(12345)\n",
    "\n",
    "print(rg.random(), rg.random(), rg.random())"
   ]
  },
  {
   "cell_type": "markdown",
   "id": "0fe0084b-92cc-49a1-a70f-08f43a828f94",
   "metadata": {},
   "source": [
    "But NumPy allows us to generate MANY random numbers in one function call!!!!\n",
    "\n",
    "The `random` module required us to ITERATE via for-loops or list comprehensions to generate SEQUENCES of random numbers.\n",
    "\n",
    "NumPy handles all of that for us!!"
   ]
  },
  {
   "cell_type": "code",
   "execution_count": 9,
   "id": "954b380a-3423-45af-9b2d-6a815074c9c6",
   "metadata": {},
   "outputs": [],
   "source": [
    "rg = np.random.default_rng(12345)"
   ]
  },
  {
   "cell_type": "code",
   "execution_count": 10,
   "id": "4d0aa129-68de-40ae-82a6-4ab98433aff5",
   "metadata": {},
   "outputs": [
    {
     "data": {
      "text/plain": [
       "array([0.22733602, 0.31675834, 0.79736546])"
      ]
     },
     "execution_count": 10,
     "metadata": {},
     "output_type": "execute_result"
    }
   ],
   "source": [
    "rg.random(3)"
   ]
  },
  {
   "cell_type": "markdown",
   "id": "8ca1510c-cec7-4b6f-ab57-ed5f2d59278b",
   "metadata": {},
   "source": [
    "This allows us to generate a LARGE number of values and summarize them easily!!"
   ]
  },
  {
   "cell_type": "code",
   "execution_count": 11,
   "id": "431bef1f-93aa-4a48-aea9-016ce7d14856",
   "metadata": {},
   "outputs": [
    {
     "data": {
      "text/plain": [
       "0.49129676414051904"
      ]
     },
     "execution_count": 11,
     "metadata": {},
     "output_type": "execute_result"
    }
   ],
   "source": [
    "rg.random(1001).mean()"
   ]
  },
  {
   "cell_type": "markdown",
   "id": "801e6a50-4b00-42ba-98c3-1757c2292a98",
   "metadata": {},
   "source": [
    "But we can tell `rg.random()` to generate a 2D array!"
   ]
  },
  {
   "cell_type": "code",
   "execution_count": 13,
   "id": "9e41cacf-1a2a-45fc-8d06-46c4768ec035",
   "metadata": {},
   "outputs": [],
   "source": [
    "rg = np.random.default_rng(12345)"
   ]
  },
  {
   "cell_type": "code",
   "execution_count": 14,
   "id": "91c13104-3088-4216-9b74-d9cc1430b0bc",
   "metadata": {},
   "outputs": [
    {
     "data": {
      "text/plain": [
       "array([[0.22733602, 0.31675834],\n",
       "       [0.79736546, 0.67625467],\n",
       "       [0.39110955, 0.33281393],\n",
       "       [0.59830875, 0.18673419]])"
      ]
     },
     "execution_count": 14,
     "metadata": {},
     "output_type": "execute_result"
    }
   ],
   "source": [
    "rg.random((4,2))"
   ]
  },
  {
   "cell_type": "code",
   "execution_count": 16,
   "id": "540727d4-6df5-4e17-9fd9-7a2596ff90b4",
   "metadata": {},
   "outputs": [
    {
     "data": {
      "text/plain": [
       "(1001, 5)"
      ]
     },
     "execution_count": 16,
     "metadata": {},
     "output_type": "execute_result"
    }
   ],
   "source": [
    "rg.random((1001,5)).shape"
   ]
  },
  {
   "cell_type": "code",
   "execution_count": 17,
   "id": "384a4a61-85b9-47c5-a8a3-c4d86e4b8b98",
   "metadata": {},
   "outputs": [
    {
     "data": {
      "text/plain": [
       "array([0.48308177, 0.50521436, 0.4980963 , 0.5022966 , 0.49201735])"
      ]
     },
     "execution_count": 17,
     "metadata": {},
     "output_type": "execute_result"
    }
   ],
   "source": [
    "rg.random((1001,5)).mean(axis=0)"
   ]
  },
  {
   "cell_type": "markdown",
   "id": "5237dcea-fab0-4bf5-bd5a-c2670763d4d6",
   "metadata": {},
   "source": [
    "## Other distributions"
   ]
  },
  {
   "cell_type": "code",
   "execution_count": 18,
   "id": "ffe2eb03-483b-4f55-bf6d-9d8ed4873cec",
   "metadata": {},
   "outputs": [
    {
     "name": "stdout",
     "output_type": "stream",
     "text": [
      "Help on built-in function random:\n",
      "\n",
      "random(...) method of numpy.random.mtrand.RandomState instance\n",
      "    random(size=None)\n",
      "    \n",
      "    Return random floats in the half-open interval [0.0, 1.0). Alias for\n",
      "    `random_sample` to ease forward-porting to the new random API.\n",
      "\n"
     ]
    }
   ],
   "source": [
    "help(np.random.random)"
   ]
  },
  {
   "cell_type": "code",
   "execution_count": 19,
   "id": "08080380-8f3d-46aa-a29a-dec02c3430ca",
   "metadata": {},
   "outputs": [
    {
     "name": "stdout",
     "output_type": "stream",
     "text": [
      "Help on built-in function normal:\n",
      "\n",
      "normal(...) method of numpy.random.mtrand.RandomState instance\n",
      "    normal(loc=0.0, scale=1.0, size=None)\n",
      "    \n",
      "    Draw random samples from a normal (Gaussian) distribution.\n",
      "    \n",
      "    The probability density function of the normal distribution, first\n",
      "    derived by De Moivre and 200 years later by both Gauss and Laplace\n",
      "    independently [2]_, is often called the bell curve because of\n",
      "    its characteristic shape (see the example below).\n",
      "    \n",
      "    The normal distributions occurs often in nature.  For example, it\n",
      "    describes the commonly occurring distribution of samples influenced\n",
      "    by a large number of tiny, random disturbances, each with its own\n",
      "    unique distribution [2]_.\n",
      "    \n",
      "    .. note::\n",
      "        New code should use the `~numpy.random.Generator.normal`\n",
      "        method of a `~numpy.random.Generator` instance instead;\n",
      "        please see the :ref:`random-quick-start`.\n",
      "    \n",
      "    Parameters\n",
      "    ----------\n",
      "    loc : float or array_like of floats\n",
      "        Mean (\"centre\") of the distribution.\n",
      "    scale : float or array_like of floats\n",
      "        Standard deviation (spread or \"width\") of the distribution. Must be\n",
      "        non-negative.\n",
      "    size : int or tuple of ints, optional\n",
      "        Output shape.  If the given shape is, e.g., ``(m, n, k)``, then\n",
      "        ``m * n * k`` samples are drawn.  If size is ``None`` (default),\n",
      "        a single value is returned if ``loc`` and ``scale`` are both scalars.\n",
      "        Otherwise, ``np.broadcast(loc, scale).size`` samples are drawn.\n",
      "    \n",
      "    Returns\n",
      "    -------\n",
      "    out : ndarray or scalar\n",
      "        Drawn samples from the parameterized normal distribution.\n",
      "    \n",
      "    See Also\n",
      "    --------\n",
      "    scipy.stats.norm : probability density function, distribution or\n",
      "        cumulative density function, etc.\n",
      "    random.Generator.normal: which should be used for new code.\n",
      "    \n",
      "    Notes\n",
      "    -----\n",
      "    The probability density for the Gaussian distribution is\n",
      "    \n",
      "    .. math:: p(x) = \\frac{1}{\\sqrt{ 2 \\pi \\sigma^2 }}\n",
      "                     e^{ - \\frac{ (x - \\mu)^2 } {2 \\sigma^2} },\n",
      "    \n",
      "    where :math:`\\mu` is the mean and :math:`\\sigma` the standard\n",
      "    deviation. The square of the standard deviation, :math:`\\sigma^2`,\n",
      "    is called the variance.\n",
      "    \n",
      "    The function has its peak at the mean, and its \"spread\" increases with\n",
      "    the standard deviation (the function reaches 0.607 times its maximum at\n",
      "    :math:`x + \\sigma` and :math:`x - \\sigma` [2]_).  This implies that\n",
      "    normal is more likely to return samples lying close to the mean, rather\n",
      "    than those far away.\n",
      "    \n",
      "    References\n",
      "    ----------\n",
      "    .. [1] Wikipedia, \"Normal distribution\",\n",
      "           https://en.wikipedia.org/wiki/Normal_distribution\n",
      "    .. [2] P. R. Peebles Jr., \"Central Limit Theorem\" in \"Probability,\n",
      "           Random Variables and Random Signal Principles\", 4th ed., 2001,\n",
      "           pp. 51, 51, 125.\n",
      "    \n",
      "    Examples\n",
      "    --------\n",
      "    Draw samples from the distribution:\n",
      "    \n",
      "    >>> mu, sigma = 0, 0.1 # mean and standard deviation\n",
      "    >>> s = np.random.normal(mu, sigma, 1000)\n",
      "    \n",
      "    Verify the mean and the variance:\n",
      "    \n",
      "    >>> abs(mu - np.mean(s))\n",
      "    0.0  # may vary\n",
      "    \n",
      "    >>> abs(sigma - np.std(s, ddof=1))\n",
      "    0.1  # may vary\n",
      "    \n",
      "    Display the histogram of the samples, along with\n",
      "    the probability density function:\n",
      "    \n",
      "    >>> import matplotlib.pyplot as plt\n",
      "    >>> count, bins, ignored = plt.hist(s, 30, density=True)\n",
      "    >>> plt.plot(bins, 1/(sigma * np.sqrt(2 * np.pi)) *\n",
      "    ...                np.exp( - (bins - mu)**2 / (2 * sigma**2) ),\n",
      "    ...          linewidth=2, color='r')\n",
      "    >>> plt.show()\n",
      "    \n",
      "    Two-by-four array of samples from the normal distribution with\n",
      "    mean 3 and standard deviation 2.5:\n",
      "    \n",
      "    >>> np.random.normal(3, 2.5, size=(2, 4))\n",
      "    array([[-4.49401501,  4.00950034, -1.81814867,  7.29718677],   # random\n",
      "           [ 0.39924804,  4.68456316,  4.99394529,  4.84057254]])  # random\n",
      "\n"
     ]
    }
   ],
   "source": [
    "help(np.random.normal)"
   ]
  },
  {
   "cell_type": "markdown",
   "id": "20bcc0c7-ae8f-437e-bedb-3e8c528ef1e4",
   "metadata": {},
   "source": [
    "To generate 7 random numbers from a Gaussian or Bell Curve with mean: -100 and std: 5:"
   ]
  },
  {
   "cell_type": "code",
   "execution_count": 29,
   "id": "352cd88d-ac3b-41d4-a2c0-5e7294627ede",
   "metadata": {},
   "outputs": [],
   "source": [
    "rg = np.random.default_rng(12345)"
   ]
  },
  {
   "cell_type": "code",
   "execution_count": 31,
   "id": "ac776221-5990-4fd8-9cfc-7ccc383a98bd",
   "metadata": {},
   "outputs": [
    {
     "data": {
      "text/plain": [
       "array([-107.11912518,  -93.68135771, -104.35330869, -101.29586617,\n",
       "       -100.37671654, -103.70442326, -106.83896351])"
      ]
     },
     "execution_count": 31,
     "metadata": {},
     "output_type": "execute_result"
    }
   ],
   "source": [
    "rg.normal(-100, 5, 7)"
   ]
  },
  {
   "cell_type": "code",
   "execution_count": null,
   "id": "65bdfa42-58d2-4219-b080-e88008e2997d",
   "metadata": {},
   "outputs": [],
   "source": []
  },
  {
   "cell_type": "code",
   "execution_count": null,
   "id": "1a82e631-4fa2-4d07-9c36-3f1058b3fd9e",
   "metadata": {},
   "outputs": [],
   "source": []
  },
  {
   "cell_type": "code",
   "execution_count": null,
   "id": "d47a2320-7089-4cc6-bdab-592271c694c7",
   "metadata": {},
   "outputs": [],
   "source": []
  },
  {
   "cell_type": "code",
   "execution_count": null,
   "id": "687cc2d1-3fde-4dee-9d61-7fb4d1fcd1c2",
   "metadata": {},
   "outputs": [],
   "source": []
  },
  {
   "cell_type": "code",
   "execution_count": null,
   "id": "feb80a60-e025-41e2-b183-1aa5a0311828",
   "metadata": {},
   "outputs": [],
   "source": []
  },
  {
   "cell_type": "code",
   "execution_count": null,
   "id": "d562d393-e302-4068-bbed-e0b6bd7b7c4b",
   "metadata": {},
   "outputs": [],
   "source": []
  }
 ],
 "metadata": {
  "kernelspec": {
   "display_name": "Python 3 (ipykernel)",
   "language": "python",
   "name": "python3"
  },
  "language_info": {
   "codemirror_mode": {
    "name": "ipython",
    "version": 3
   },
   "file_extension": ".py",
   "mimetype": "text/x-python",
   "name": "python",
   "nbconvert_exporter": "python",
   "pygments_lexer": "ipython3",
   "version": "3.8.19"
  }
 },
 "nbformat": 4,
 "nbformat_minor": 5
}
