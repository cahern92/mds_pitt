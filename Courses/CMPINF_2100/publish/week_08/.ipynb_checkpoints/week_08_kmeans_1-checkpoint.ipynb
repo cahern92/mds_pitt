{
 "cells": [
  {
   "cell_type": "markdown",
   "id": "476f5edd-7eed-4a0d-83c6-f80d4982b4f7",
   "metadata": {},
   "source": [
    "## CMPINF 2100 Week 08\n",
    "### KMeans with 1 variable\n",
    "## Import Modules"
   ]
  },
  {
   "cell_type": "code",
   "execution_count": 1,
   "id": "68353fde-d381-4393-a105-92a448b49ba2",
   "metadata": {},
   "outputs": [],
   "source": [
    "import numpy as np\n",
    "import pandas as pd\n",
    "import matplotlib.pyplot as plt\n",
    "\n",
    "import seaborn as sns"
   ]
  },
  {
   "cell_type": "markdown",
   "id": "b20ff8e5-bb49-446d-8415-ce81f4406f02",
   "metadata": {},
   "source": [
    "## Read data"
   ]
  },
  {
   "cell_type": "code",
   "execution_count": 2,
   "id": "c034b37c-457e-4eb2-9dd3-c5680ec81808",
   "metadata": {},
   "outputs": [],
   "source": [
    "df = pd.read_csv(\"cluster1.csv\")"
   ]
  },
  {
   "cell_type": "code",
   "execution_count": 3,
   "id": "af4ae1dc-9eec-4a1b-b300-110e28ecec36",
   "metadata": {},
   "outputs": [
    {
     "name": "stdout",
     "output_type": "stream",
     "text": [
      "<class 'pandas.core.frame.DataFrame'>\n",
      "RangeIndex: 15 entries, 0 to 14\n",
      "Data columns (total 2 columns):\n",
      " #   Column      Non-Null Count  Dtype  \n",
      "---  ------      --------------  -----  \n",
      " 0   true_group  15 non-null     object \n",
      " 1   x           15 non-null     float64\n",
      "dtypes: float64(1), object(1)\n",
      "memory usage: 368.0+ bytes\n"
     ]
    }
   ],
   "source": [
    "df.info()"
   ]
  },
  {
   "cell_type": "code",
   "execution_count": 4,
   "id": "20de806d-9adb-439d-8232-3a3ae4a86f0b",
   "metadata": {},
   "outputs": [
    {
     "data": {
      "text/html": [
       "<div>\n",
       "<style scoped>\n",
       "    .dataframe tbody tr th:only-of-type {\n",
       "        vertical-align: middle;\n",
       "    }\n",
       "\n",
       "    .dataframe tbody tr th {\n",
       "        vertical-align: top;\n",
       "    }\n",
       "\n",
       "    .dataframe thead th {\n",
       "        text-align: right;\n",
       "    }\n",
       "</style>\n",
       "<table border=\"1\" class=\"dataframe\">\n",
       "  <thead>\n",
       "    <tr style=\"text-align: right;\">\n",
       "      <th></th>\n",
       "      <th>true_group</th>\n",
       "      <th>x</th>\n",
       "    </tr>\n",
       "  </thead>\n",
       "  <tbody>\n",
       "    <tr>\n",
       "      <th>0</th>\n",
       "      <td>A</td>\n",
       "      <td>-1.546339</td>\n",
       "    </tr>\n",
       "    <tr>\n",
       "      <th>1</th>\n",
       "      <td>A</td>\n",
       "      <td>-1.775880</td>\n",
       "    </tr>\n",
       "    <tr>\n",
       "      <th>2</th>\n",
       "      <td>A</td>\n",
       "      <td>-1.249187</td>\n",
       "    </tr>\n",
       "    <tr>\n",
       "      <th>3</th>\n",
       "      <td>A</td>\n",
       "      <td>-1.677143</td>\n",
       "    </tr>\n",
       "    <tr>\n",
       "      <th>4</th>\n",
       "      <td>A</td>\n",
       "      <td>-2.747398</td>\n",
       "    </tr>\n",
       "    <tr>\n",
       "      <th>5</th>\n",
       "      <td>B</td>\n",
       "      <td>0.756365</td>\n",
       "    </tr>\n",
       "    <tr>\n",
       "      <th>6</th>\n",
       "      <td>B</td>\n",
       "      <td>0.679823</td>\n",
       "    </tr>\n",
       "    <tr>\n",
       "      <th>7</th>\n",
       "      <td>B</td>\n",
       "      <td>0.045965</td>\n",
       "    </tr>\n",
       "    <tr>\n",
       "      <th>8</th>\n",
       "      <td>B</td>\n",
       "      <td>0.543803</td>\n",
       "    </tr>\n",
       "    <tr>\n",
       "      <th>9</th>\n",
       "      <td>B</td>\n",
       "      <td>-0.687950</td>\n",
       "    </tr>\n",
       "    <tr>\n",
       "      <th>10</th>\n",
       "      <td>C</td>\n",
       "      <td>2.581302</td>\n",
       "    </tr>\n",
       "    <tr>\n",
       "      <th>11</th>\n",
       "      <td>C</td>\n",
       "      <td>2.257824</td>\n",
       "    </tr>\n",
       "    <tr>\n",
       "      <th>12</th>\n",
       "      <td>C</td>\n",
       "      <td>1.938880</td>\n",
       "    </tr>\n",
       "    <tr>\n",
       "      <th>13</th>\n",
       "      <td>C</td>\n",
       "      <td>2.899353</td>\n",
       "    </tr>\n",
       "    <tr>\n",
       "      <th>14</th>\n",
       "      <td>C</td>\n",
       "      <td>2.066060</td>\n",
       "    </tr>\n",
       "  </tbody>\n",
       "</table>\n",
       "</div>"
      ],
      "text/plain": [
       "   true_group         x\n",
       "0           A -1.546339\n",
       "1           A -1.775880\n",
       "2           A -1.249187\n",
       "3           A -1.677143\n",
       "4           A -2.747398\n",
       "5           B  0.756365\n",
       "6           B  0.679823\n",
       "7           B  0.045965\n",
       "8           B  0.543803\n",
       "9           B -0.687950\n",
       "10          C  2.581302\n",
       "11          C  2.257824\n",
       "12          C  1.938880\n",
       "13          C  2.899353\n",
       "14          C  2.066060"
      ]
     },
     "execution_count": 4,
     "metadata": {},
     "output_type": "execute_result"
    }
   ],
   "source": [
    "df"
   ]
  },
  {
   "cell_type": "markdown",
   "id": "b58e6790-3ee7-40bd-81c8-47440d8301af",
   "metadata": {},
   "source": [
    "Lets visualize the obs using a specialized scatter plot. This scatter plot is discussed in detail in CMPINF 2130. The STRIP PLOT."
   ]
  },
  {
   "cell_type": "code",
   "execution_count": 5,
   "id": "f7be4f4f-f73b-413c-b780-d7e587f30004",
   "metadata": {},
   "outputs": [
    {
     "name": "stderr",
     "output_type": "stream",
     "text": [
      "/Applications/anaconda3/envs/cmpinf2100/lib/python3.8/site-packages/seaborn/axisgrid.py:123: UserWarning: The figure layout has changed to tight\n",
      "  self._figure.tight_layout(*args, **kwargs)\n"
     ]
    },
    {
     "data": {
      "image/png": "[encoded data removed]",
      "text/plain": [
       "<Figure size 587.111x500 with 1 Axes>"
      ]
     },
     "metadata": {},
     "output_type": "display_data"
    }
   ],
   "source": [
    "sns.catplot(data=df, x=\"x\", hue=\"true_group\", kind=\"strip\", jitter=False)\n",
    "\n",
    "plt.show()"
   ]
  },
  {
   "cell_type": "markdown",
   "id": "d51f8260-5ab2-4f95-9e12-96c064abf956",
   "metadata": {},
   "source": [
    "Lets pretend we do not know the groupings!! Can we CLUSTER the obs just based on their VALUES."
   ]
  },
  {
   "cell_type": "code",
   "execution_count": 6,
   "id": "a9d02fb3-ca26-4f01-ab47-fd3213f17f8b",
   "metadata": {},
   "outputs": [
    {
     "name": "stderr",
     "output_type": "stream",
     "text": [
      "/Applications/anaconda3/envs/cmpinf2100/lib/python3.8/site-packages/seaborn/axisgrid.py:123: UserWarning: The figure layout has changed to tight\n",
      "  self._figure.tight_layout(*args, **kwargs)\n"
     ]
    },
    {
     "data": {
      "image/png": "[encoded data removed]",
      "text/plain": [
       "<Figure size 511.111x500 with 1 Axes>"
      ]
     },
     "metadata": {},
     "output_type": "display_data"
    }
   ],
   "source": [
    "sns.catplot(data=df, x=\"x\", kind=\"strip\", jitter=False)\n",
    "\n",
    "plt.show()"
   ]
  },
  {
   "cell_type": "markdown",
   "id": "63e9a8f5-8474-4dae-a287-3517a494f8f3",
   "metadata": {},
   "source": [
    "## KMeans\n",
    "\n",
    "Before we can run KMeans...we need to org the data appropriately! The fx we will use WANTS NumPy arrays and NOT Pandas DataFrames.\n",
    "\n",
    "The DataFrame NEED to be a 2D array."
   ]
  },
  {
   "cell_type": "code",
   "execution_count": 7,
   "id": "04a5c929-528c-485c-a336-32018f3025b9",
   "metadata": {},
   "outputs": [
    {
     "data": {
      "text/plain": [
       "array([-1.54633927, -1.77588013, -1.24918706, -1.67714288, -2.74739841,\n",
       "        0.75636481,  0.67982292,  0.04596469,  0.54380312, -0.68795048,\n",
       "        2.58130181,  2.25782372,  1.93887976,  2.89935259,  2.06605957])"
      ]
     },
     "execution_count": 7,
     "metadata": {},
     "output_type": "execute_result"
    }
   ],
   "source": [
    "df.x.to_numpy()"
   ]
  },
  {
   "cell_type": "code",
   "execution_count": 8,
   "id": "d76e12b7-7611-4135-aa2c-dcee000b75ba",
   "metadata": {},
   "outputs": [
    {
     "data": {
      "text/plain": [
       "array([[-1.54633927],\n",
       "       [-1.77588013],\n",
       "       [-1.24918706],\n",
       "       [-1.67714288],\n",
       "       [-2.74739841],\n",
       "       [ 0.75636481],\n",
       "       [ 0.67982292],\n",
       "       [ 0.04596469],\n",
       "       [ 0.54380312],\n",
       "       [-0.68795048],\n",
       "       [ 2.58130181],\n",
       "       [ 2.25782372],\n",
       "       [ 1.93887976],\n",
       "       [ 2.89935259],\n",
       "       [ 2.06605957]])"
      ]
     },
     "execution_count": 8,
     "metadata": {},
     "output_type": "execute_result"
    }
   ],
   "source": [
    "df.x.to_numpy().reshape(-1, 1)"
   ]
  },
  {
   "cell_type": "code",
   "execution_count": 9,
   "id": "a0a7a2a3-269a-46f8-ad2a-b70badec65ba",
   "metadata": {},
   "outputs": [],
   "source": [
    "X = df.x.to_numpy().reshape(-1, 1)"
   ]
  },
  {
   "cell_type": "code",
   "execution_count": 10,
   "id": "59968459-c225-4c69-b5b0-7de35b73316d",
   "metadata": {},
   "outputs": [
    {
     "data": {
      "text/plain": [
       "2"
      ]
     },
     "execution_count": 10,
     "metadata": {},
     "output_type": "execute_result"
    }
   ],
   "source": [
    "X.ndim"
   ]
  },
  {
   "cell_type": "code",
   "execution_count": 11,
   "id": "aee8d398-4e84-4ff3-bc89-ca5f1f81a9ba",
   "metadata": {},
   "outputs": [
    {
     "data": {
      "text/plain": [
       "(15, 1)"
      ]
     },
     "execution_count": 11,
     "metadata": {},
     "output_type": "execute_result"
    }
   ],
   "source": [
    "X.shape"
   ]
  },
  {
   "cell_type": "code",
   "execution_count": 14,
   "id": "ec1b6e1c-053b-4bf1-ba61-75b5546ff1a4",
   "metadata": {},
   "outputs": [
    {
     "data": {
      "text/plain": [
       "array([[-1.54633927],\n",
       "       [-1.77588013],\n",
       "       [-1.24918706],\n",
       "       [-1.67714288],\n",
       "       [-2.74739841],\n",
       "       [ 0.75636481],\n",
       "       [ 0.67982292],\n",
       "       [ 0.04596469],\n",
       "       [ 0.54380312],\n",
       "       [-0.68795048],\n",
       "       [ 2.58130181],\n",
       "       [ 2.25782372],\n",
       "       [ 1.93887976],\n",
       "       [ 2.89935259],\n",
       "       [ 2.06605957]])"
      ]
     },
     "execution_count": 14,
     "metadata": {},
     "output_type": "execute_result"
    }
   ],
   "source": [
    "X"
   ]
  },
  {
   "cell_type": "markdown",
   "id": "ecd58ed8-4381-4000-a5d1-6207df664688",
   "metadata": {},
   "source": [
    "The FUNCTION to executive KMeans comes from scikit-learn MODULE. We rarely import it directly, we import FUNCTIONS from scikit-learn.\n",
    "\n",
    "The fx is named KMeans() and it comes from the sklearn.cluster module."
   ]
  },
  {
   "cell_type": "code",
   "execution_count": 12,
   "id": "6f3bf106-c428-4fad-a32b-5a8c673a005d",
   "metadata": {},
   "outputs": [],
   "source": [
    "from sklearn.cluster import KMeans"
   ]
  },
  {
   "cell_type": "code",
   "execution_count": 13,
   "id": "a398afd0-7a6f-4af7-9dba-2afe0224de9b",
   "metadata": {},
   "outputs": [
    {
     "name": "stdout",
     "output_type": "stream",
     "text": [
      "Variable   Type         Data/Info\n",
      "---------------------------------\n",
      "KMeans     ABCMeta      <class 'sklearn.cluster._kmeans.KMeans'>\n",
      "X          ndarray      15x1: 15 elems, type `float64`, 120 bytes\n",
      "df         DataFrame       true_group         x\\n<...>\\n14          C  2.066060\n",
      "np         module       <module 'numpy' from '/Ap<...>kages/numpy/__init__.py'>\n",
      "pd         module       <module 'pandas' from '/A<...>ages/pandas/__init__.py'>\n",
      "plt        module       <module 'matplotlib.pyplo<...>es/matplotlib/pyplot.py'>\n",
      "sns        module       <module 'seaborn' from '/<...>ges/seaborn/__init__.py'>\n"
     ]
    }
   ],
   "source": [
    "%whos"
   ]
  },
  {
   "cell_type": "markdown",
   "id": "fd7b8f13-79f7-4413-ba64-d20a777be171",
   "metadata": {},
   "source": [
    "All fxs from scikit-learn follow the following recipe:\n",
    "\n",
    "* Initialize the object - specify the ASSUMPTIONS for how the method is executed\n",
    "* FIT the object - LEARN what you need to learn\n",
    "* PREDICT or TRANSFORM - return the VALUES you want from a FITTED object\n",
    "\n",
    "Lets begin by INITIALIZING. The ASSUMPTIONS are:\n",
    "\n",
    "* the num of clusters\n",
    "* the random seed which controls the randomness - the initial guess\n",
    "* the num of initial guesses\n",
    "* the num of iterations for each guess\n",
    "\n",
    "Lets begin with 3 clusters since we know there are in fact 3 groups in this small application."
   ]
  },
  {
   "cell_type": "code",
   "execution_count": 14,
   "id": "96cd6a66-2f5f-4157-b919-dd7218e04c88",
   "metadata": {},
   "outputs": [],
   "source": [
    "km3 = KMeans(n_clusters=3, random_state=121, n_init=25, max_iter=500)"
   ]
  },
  {
   "cell_type": "code",
   "execution_count": 15,
   "id": "20e3bc77-5aac-46a2-a828-520b6b7118e0",
   "metadata": {},
   "outputs": [
    {
     "data": {
      "text/plain": [
       "sklearn.cluster._kmeans.KMeans"
      ]
     },
     "execution_count": 15,
     "metadata": {},
     "output_type": "execute_result"
    }
   ],
   "source": [
    "type(km3)"
   ]
  },
  {
   "cell_type": "markdown",
   "id": "1d881f41-685e-4992-bc07-69f480b51df0",
   "metadata": {},
   "source": [
    "We have not provided any DATA when we INITIALIZE!!!\n",
    "\n",
    "We give the data when we FIT the object using the assumptions!!"
   ]
  },
  {
   "cell_type": "code",
   "execution_count": 16,
   "id": "bf9c07d2-6f8c-450f-9fd0-a6e844683362",
   "metadata": {},
   "outputs": [],
   "source": [
    "km3 = km3.fit(X)"
   ]
  },
  {
   "cell_type": "markdown",
   "id": "2246caca-f225-4353-a870-625d77fd0ca7",
   "metadata": {},
   "source": [
    "For KMeans FITTING means it identified the CLUSTERS associated with EACH data point!!"
   ]
  },
  {
   "cell_type": "markdown",
   "id": "ec065fda-c494-4d3e-b4d3-555b5e4dcef2",
   "metadata": {},
   "source": [
    "TO RETURN the CLUSTER ASSIGNMENTS or CLUSTER LABELS...we need to PREDICT the data!!!"
   ]
  },
  {
   "cell_type": "code",
   "execution_count": 17,
   "id": "c6733f4f-0631-4a1c-9746-552b9807ef84",
   "metadata": {},
   "outputs": [
    {
     "data": {
      "text/plain": [
       "array([0, 0, 0, 0, 0, 2, 2, 2, 2, 0, 1, 1, 1, 1, 1], dtype=int32)"
      ]
     },
     "execution_count": 17,
     "metadata": {},
     "output_type": "execute_result"
    }
   ],
   "source": [
    "km3.predict(X)"
   ]
  },
  {
   "cell_type": "markdown",
   "id": "543f5ad1-841e-44ff-a0a3-c785342760c6",
   "metadata": {},
   "source": [
    "If you only care about the CLUSTER ASSIGNMENTS or CLUSTER LABELS, FITTING and PREDICTING can be combined into a SINGLE action."
   ]
  },
  {
   "cell_type": "code",
   "execution_count": 18,
   "id": "9cf7e4fd-f31e-4fec-b803-c7b77fcc8a0e",
   "metadata": {},
   "outputs": [],
   "source": [
    "km3b = KMeans(n_clusters=3, random_state=121, n_init=25, max_iter=500)"
   ]
  },
  {
   "cell_type": "code",
   "execution_count": 19,
   "id": "864f1dbf-fb41-45d6-a3a4-4f91fd7eca68",
   "metadata": {},
   "outputs": [
    {
     "data": {
      "text/plain": [
       "array([0, 0, 0, 0, 0, 2, 2, 2, 2, 0, 1, 1, 1, 1, 1], dtype=int32)"
      ]
     },
     "execution_count": 19,
     "metadata": {},
     "output_type": "execute_result"
    }
   ],
   "source": [
    "km3b.fit_predict(X)"
   ]
  },
  {
   "cell_type": "markdown",
   "id": "3ec8bd91-ddeb-46c2-8279-0744899ffc50",
   "metadata": {},
   "source": [
    "Accompish all three steps into 1 line of CODE!!"
   ]
  },
  {
   "cell_type": "code",
   "execution_count": 20,
   "id": "b16e702f-5d43-44c9-97e1-bd114e6d3219",
   "metadata": {},
   "outputs": [
    {
     "data": {
      "text/plain": [
       "array([0, 0, 0, 0, 0, 2, 2, 2, 2, 0, 1, 1, 1, 1, 1], dtype=int32)"
      ]
     },
     "execution_count": 20,
     "metadata": {},
     "output_type": "execute_result"
    }
   ],
   "source": [
    "KMeans(n_clusters=3, random_state=121, n_init=25, max_iter=500).fit_predict(X)"
   ]
  },
  {
   "cell_type": "markdown",
   "id": "920997de-03ee-4f9d-9832-ba4e416dbda7",
   "metadata": {},
   "source": [
    "Lets use the INITIALIZE then FIT and PREDICT approach and study the cluster labels.\n",
    "\n",
    "To do that, lets create a COPY of the original dataframe."
   ]
  },
  {
   "cell_type": "code",
   "execution_count": 21,
   "id": "8daa43c8-6500-4074-b22b-24b431923774",
   "metadata": {},
   "outputs": [
    {
     "data": {
      "text/html": [
       "<div>\n",
       "<style scoped>\n",
       "    .dataframe tbody tr th:only-of-type {\n",
       "        vertical-align: middle;\n",
       "    }\n",
       "\n",
       "    .dataframe tbody tr th {\n",
       "        vertical-align: top;\n",
       "    }\n",
       "\n",
       "    .dataframe thead th {\n",
       "        text-align: right;\n",
       "    }\n",
       "</style>\n",
       "<table border=\"1\" class=\"dataframe\">\n",
       "  <thead>\n",
       "    <tr style=\"text-align: right;\">\n",
       "      <th></th>\n",
       "      <th>true_group</th>\n",
       "      <th>x</th>\n",
       "    </tr>\n",
       "  </thead>\n",
       "  <tbody>\n",
       "    <tr>\n",
       "      <th>0</th>\n",
       "      <td>A</td>\n",
       "      <td>-1.546339</td>\n",
       "    </tr>\n",
       "    <tr>\n",
       "      <th>1</th>\n",
       "      <td>A</td>\n",
       "      <td>-1.775880</td>\n",
       "    </tr>\n",
       "    <tr>\n",
       "      <th>2</th>\n",
       "      <td>A</td>\n",
       "      <td>-1.249187</td>\n",
       "    </tr>\n",
       "    <tr>\n",
       "      <th>3</th>\n",
       "      <td>A</td>\n",
       "      <td>-1.677143</td>\n",
       "    </tr>\n",
       "    <tr>\n",
       "      <th>4</th>\n",
       "      <td>A</td>\n",
       "      <td>-2.747398</td>\n",
       "    </tr>\n",
       "    <tr>\n",
       "      <th>5</th>\n",
       "      <td>B</td>\n",
       "      <td>0.756365</td>\n",
       "    </tr>\n",
       "    <tr>\n",
       "      <th>6</th>\n",
       "      <td>B</td>\n",
       "      <td>0.679823</td>\n",
       "    </tr>\n",
       "    <tr>\n",
       "      <th>7</th>\n",
       "      <td>B</td>\n",
       "      <td>0.045965</td>\n",
       "    </tr>\n",
       "    <tr>\n",
       "      <th>8</th>\n",
       "      <td>B</td>\n",
       "      <td>0.543803</td>\n",
       "    </tr>\n",
       "    <tr>\n",
       "      <th>9</th>\n",
       "      <td>B</td>\n",
       "      <td>-0.687950</td>\n",
       "    </tr>\n",
       "    <tr>\n",
       "      <th>10</th>\n",
       "      <td>C</td>\n",
       "      <td>2.581302</td>\n",
       "    </tr>\n",
       "    <tr>\n",
       "      <th>11</th>\n",
       "      <td>C</td>\n",
       "      <td>2.257824</td>\n",
       "    </tr>\n",
       "    <tr>\n",
       "      <th>12</th>\n",
       "      <td>C</td>\n",
       "      <td>1.938880</td>\n",
       "    </tr>\n",
       "    <tr>\n",
       "      <th>13</th>\n",
       "      <td>C</td>\n",
       "      <td>2.899353</td>\n",
       "    </tr>\n",
       "    <tr>\n",
       "      <th>14</th>\n",
       "      <td>C</td>\n",
       "      <td>2.066060</td>\n",
       "    </tr>\n",
       "  </tbody>\n",
       "</table>\n",
       "</div>"
      ],
      "text/plain": [
       "   true_group         x\n",
       "0           A -1.546339\n",
       "1           A -1.775880\n",
       "2           A -1.249187\n",
       "3           A -1.677143\n",
       "4           A -2.747398\n",
       "5           B  0.756365\n",
       "6           B  0.679823\n",
       "7           B  0.045965\n",
       "8           B  0.543803\n",
       "9           B -0.687950\n",
       "10          C  2.581302\n",
       "11          C  2.257824\n",
       "12          C  1.938880\n",
       "13          C  2.899353\n",
       "14          C  2.066060"
      ]
     },
     "execution_count": 21,
     "metadata": {},
     "output_type": "execute_result"
    }
   ],
   "source": [
    "df"
   ]
  },
  {
   "cell_type": "code",
   "execution_count": 22,
   "id": "0481e5d6-1718-4a91-9daa-82930db8fc50",
   "metadata": {},
   "outputs": [],
   "source": [
    "df_copy = df.copy()"
   ]
  },
  {
   "cell_type": "code",
   "execution_count": 23,
   "id": "7cbd9759-08d8-428f-acbf-419f703a3852",
   "metadata": {},
   "outputs": [
    {
     "data": {
      "text/html": [
       "<div>\n",
       "<style scoped>\n",
       "    .dataframe tbody tr th:only-of-type {\n",
       "        vertical-align: middle;\n",
       "    }\n",
       "\n",
       "    .dataframe tbody tr th {\n",
       "        vertical-align: top;\n",
       "    }\n",
       "\n",
       "    .dataframe thead th {\n",
       "        text-align: right;\n",
       "    }\n",
       "</style>\n",
       "<table border=\"1\" class=\"dataframe\">\n",
       "  <thead>\n",
       "    <tr style=\"text-align: right;\">\n",
       "      <th></th>\n",
       "      <th>true_group</th>\n",
       "      <th>x</th>\n",
       "    </tr>\n",
       "  </thead>\n",
       "  <tbody>\n",
       "    <tr>\n",
       "      <th>0</th>\n",
       "      <td>A</td>\n",
       "      <td>-1.546339</td>\n",
       "    </tr>\n",
       "    <tr>\n",
       "      <th>1</th>\n",
       "      <td>A</td>\n",
       "      <td>-1.775880</td>\n",
       "    </tr>\n",
       "    <tr>\n",
       "      <th>2</th>\n",
       "      <td>A</td>\n",
       "      <td>-1.249187</td>\n",
       "    </tr>\n",
       "    <tr>\n",
       "      <th>3</th>\n",
       "      <td>A</td>\n",
       "      <td>-1.677143</td>\n",
       "    </tr>\n",
       "    <tr>\n",
       "      <th>4</th>\n",
       "      <td>A</td>\n",
       "      <td>-2.747398</td>\n",
       "    </tr>\n",
       "    <tr>\n",
       "      <th>5</th>\n",
       "      <td>B</td>\n",
       "      <td>0.756365</td>\n",
       "    </tr>\n",
       "    <tr>\n",
       "      <th>6</th>\n",
       "      <td>B</td>\n",
       "      <td>0.679823</td>\n",
       "    </tr>\n",
       "    <tr>\n",
       "      <th>7</th>\n",
       "      <td>B</td>\n",
       "      <td>0.045965</td>\n",
       "    </tr>\n",
       "    <tr>\n",
       "      <th>8</th>\n",
       "      <td>B</td>\n",
       "      <td>0.543803</td>\n",
       "    </tr>\n",
       "    <tr>\n",
       "      <th>9</th>\n",
       "      <td>B</td>\n",
       "      <td>-0.687950</td>\n",
       "    </tr>\n",
       "    <tr>\n",
       "      <th>10</th>\n",
       "      <td>C</td>\n",
       "      <td>2.581302</td>\n",
       "    </tr>\n",
       "    <tr>\n",
       "      <th>11</th>\n",
       "      <td>C</td>\n",
       "      <td>2.257824</td>\n",
       "    </tr>\n",
       "    <tr>\n",
       "      <th>12</th>\n",
       "      <td>C</td>\n",
       "      <td>1.938880</td>\n",
       "    </tr>\n",
       "    <tr>\n",
       "      <th>13</th>\n",
       "      <td>C</td>\n",
       "      <td>2.899353</td>\n",
       "    </tr>\n",
       "    <tr>\n",
       "      <th>14</th>\n",
       "      <td>C</td>\n",
       "      <td>2.066060</td>\n",
       "    </tr>\n",
       "  </tbody>\n",
       "</table>\n",
       "</div>"
      ],
      "text/plain": [
       "   true_group         x\n",
       "0           A -1.546339\n",
       "1           A -1.775880\n",
       "2           A -1.249187\n",
       "3           A -1.677143\n",
       "4           A -2.747398\n",
       "5           B  0.756365\n",
       "6           B  0.679823\n",
       "7           B  0.045965\n",
       "8           B  0.543803\n",
       "9           B -0.687950\n",
       "10          C  2.581302\n",
       "11          C  2.257824\n",
       "12          C  1.938880\n",
       "13          C  2.899353\n",
       "14          C  2.066060"
      ]
     },
     "execution_count": 23,
     "metadata": {},
     "output_type": "execute_result"
    }
   ],
   "source": [
    "df_copy"
   ]
  },
  {
   "cell_type": "markdown",
   "id": "b3dfaf49-7c29-45a7-9db7-469c4e55cdf0",
   "metadata": {},
   "source": [
    "Create a new col named k3 which stores the RESULTS of the KMeans cluster labels!"
   ]
  },
  {
   "cell_type": "code",
   "execution_count": 24,
   "id": "2655e17b-503e-4e70-9bf5-a0b6be79d169",
   "metadata": {},
   "outputs": [],
   "source": [
    "df_copy['k3'] = pd.Series(km3.fit_predict(X), index=df_copy.index)"
   ]
  },
  {
   "cell_type": "code",
   "execution_count": 25,
   "id": "5e9265b9-27ad-430c-9c28-5e6cf5a527d4",
   "metadata": {},
   "outputs": [
    {
     "data": {
      "text/html": [
       "<div>\n",
       "<style scoped>\n",
       "    .dataframe tbody tr th:only-of-type {\n",
       "        vertical-align: middle;\n",
       "    }\n",
       "\n",
       "    .dataframe tbody tr th {\n",
       "        vertical-align: top;\n",
       "    }\n",
       "\n",
       "    .dataframe thead th {\n",
       "        text-align: right;\n",
       "    }\n",
       "</style>\n",
       "<table border=\"1\" class=\"dataframe\">\n",
       "  <thead>\n",
       "    <tr style=\"text-align: right;\">\n",
       "      <th></th>\n",
       "      <th>true_group</th>\n",
       "      <th>x</th>\n",
       "      <th>k3</th>\n",
       "    </tr>\n",
       "  </thead>\n",
       "  <tbody>\n",
       "    <tr>\n",
       "      <th>0</th>\n",
       "      <td>A</td>\n",
       "      <td>-1.546339</td>\n",
       "      <td>0</td>\n",
       "    </tr>\n",
       "    <tr>\n",
       "      <th>1</th>\n",
       "      <td>A</td>\n",
       "      <td>-1.775880</td>\n",
       "      <td>0</td>\n",
       "    </tr>\n",
       "    <tr>\n",
       "      <th>2</th>\n",
       "      <td>A</td>\n",
       "      <td>-1.249187</td>\n",
       "      <td>0</td>\n",
       "    </tr>\n",
       "    <tr>\n",
       "      <th>3</th>\n",
       "      <td>A</td>\n",
       "      <td>-1.677143</td>\n",
       "      <td>0</td>\n",
       "    </tr>\n",
       "    <tr>\n",
       "      <th>4</th>\n",
       "      <td>A</td>\n",
       "      <td>-2.747398</td>\n",
       "      <td>0</td>\n",
       "    </tr>\n",
       "    <tr>\n",
       "      <th>5</th>\n",
       "      <td>B</td>\n",
       "      <td>0.756365</td>\n",
       "      <td>2</td>\n",
       "    </tr>\n",
       "    <tr>\n",
       "      <th>6</th>\n",
       "      <td>B</td>\n",
       "      <td>0.679823</td>\n",
       "      <td>2</td>\n",
       "    </tr>\n",
       "    <tr>\n",
       "      <th>7</th>\n",
       "      <td>B</td>\n",
       "      <td>0.045965</td>\n",
       "      <td>2</td>\n",
       "    </tr>\n",
       "    <tr>\n",
       "      <th>8</th>\n",
       "      <td>B</td>\n",
       "      <td>0.543803</td>\n",
       "      <td>2</td>\n",
       "    </tr>\n",
       "    <tr>\n",
       "      <th>9</th>\n",
       "      <td>B</td>\n",
       "      <td>-0.687950</td>\n",
       "      <td>0</td>\n",
       "    </tr>\n",
       "    <tr>\n",
       "      <th>10</th>\n",
       "      <td>C</td>\n",
       "      <td>2.581302</td>\n",
       "      <td>1</td>\n",
       "    </tr>\n",
       "    <tr>\n",
       "      <th>11</th>\n",
       "      <td>C</td>\n",
       "      <td>2.257824</td>\n",
       "      <td>1</td>\n",
       "    </tr>\n",
       "    <tr>\n",
       "      <th>12</th>\n",
       "      <td>C</td>\n",
       "      <td>1.938880</td>\n",
       "      <td>1</td>\n",
       "    </tr>\n",
       "    <tr>\n",
       "      <th>13</th>\n",
       "      <td>C</td>\n",
       "      <td>2.899353</td>\n",
       "      <td>1</td>\n",
       "    </tr>\n",
       "    <tr>\n",
       "      <th>14</th>\n",
       "      <td>C</td>\n",
       "      <td>2.066060</td>\n",
       "      <td>1</td>\n",
       "    </tr>\n",
       "  </tbody>\n",
       "</table>\n",
       "</div>"
      ],
      "text/plain": [
       "   true_group         x  k3\n",
       "0           A -1.546339   0\n",
       "1           A -1.775880   0\n",
       "2           A -1.249187   0\n",
       "3           A -1.677143   0\n",
       "4           A -2.747398   0\n",
       "5           B  0.756365   2\n",
       "6           B  0.679823   2\n",
       "7           B  0.045965   2\n",
       "8           B  0.543803   2\n",
       "9           B -0.687950   0\n",
       "10          C  2.581302   1\n",
       "11          C  2.257824   1\n",
       "12          C  1.938880   1\n",
       "13          C  2.899353   1\n",
       "14          C  2.066060   1"
      ]
     },
     "execution_count": 25,
     "metadata": {},
     "output_type": "execute_result"
    }
   ],
   "source": [
    "df_copy"
   ]
  },
  {
   "cell_type": "code",
   "execution_count": 26,
   "id": "e0582316-acdc-499f-83e0-7c30b2a00915",
   "metadata": {},
   "outputs": [
    {
     "name": "stdout",
     "output_type": "stream",
     "text": [
      "<class 'pandas.core.frame.DataFrame'>\n",
      "RangeIndex: 15 entries, 0 to 14\n",
      "Data columns (total 3 columns):\n",
      " #   Column      Non-Null Count  Dtype  \n",
      "---  ------      --------------  -----  \n",
      " 0   true_group  15 non-null     object \n",
      " 1   x           15 non-null     float64\n",
      " 2   k3          15 non-null     int32  \n",
      "dtypes: float64(1), int32(1), object(1)\n",
      "memory usage: 428.0+ bytes\n"
     ]
    }
   ],
   "source": [
    "df_copy.info()"
   ]
  },
  {
   "cell_type": "code",
   "execution_count": 27,
   "id": "78a6a2e2-a017-4dc5-b077-60eb13b0312b",
   "metadata": {},
   "outputs": [
    {
     "data": {
      "text/plain": [
       "k3\n",
       "0    6\n",
       "1    5\n",
       "2    4\n",
       "Name: count, dtype: int64"
      ]
     },
     "execution_count": 27,
     "metadata": {},
     "output_type": "execute_result"
    }
   ],
   "source": [
    "df_copy.k3.value_counts()"
   ]
  },
  {
   "cell_type": "code",
   "execution_count": 28,
   "id": "22c7cc54-cbee-4076-b0af-ee9292bb890a",
   "metadata": {},
   "outputs": [
    {
     "data": {
      "text/plain": [
       "true_group\n",
       "A    5\n",
       "B    5\n",
       "C    5\n",
       "Name: count, dtype: int64"
      ]
     },
     "execution_count": 28,
     "metadata": {},
     "output_type": "execute_result"
    }
   ],
   "source": [
    "df_copy.true_group.value_counts()"
   ]
  },
  {
   "cell_type": "code",
   "execution_count": 29,
   "id": "43a9a9ee-3261-4441-b246-0784353d7dad",
   "metadata": {},
   "outputs": [
    {
     "name": "stderr",
     "output_type": "stream",
     "text": [
      "/Applications/anaconda3/envs/cmpinf2100/lib/python3.8/site-packages/seaborn/axisgrid.py:123: UserWarning: The figure layout has changed to tight\n",
      "  self._figure.tight_layout(*args, **kwargs)\n"
     ]
    },
    {
     "data": {
      "image/png": "[encoded data removed]",
      "text/plain": [
       "<Figure size 558.875x500 with 1 Axes>"
      ]
     },
     "metadata": {},
     "output_type": "display_data"
    }
   ],
   "source": [
    "sns.catplot(data=df_copy, x=\"x\", hue=\"k3\", kind=\"strip\", jitter=False)\n",
    "\n",
    "plt.show()"
   ]
  },
  {
   "cell_type": "markdown",
   "id": "f5680d4c-764a-4274-9317-4da35b8bd8a6",
   "metadata": {},
   "source": [
    "I like to treat cluster labels as CAT variables. Thus, lets CONVERT the integer to the CATEGORY data type!!!\n",
    "\n",
    "The Pandas Category data type is a specialized data type for CATEGORICAL variables!!!"
   ]
  },
  {
   "cell_type": "code",
   "execution_count": 30,
   "id": "be9bb611-81c8-4870-9c47-0e91eab386a1",
   "metadata": {},
   "outputs": [],
   "source": [
    "df_copy[\"k3\"] = df_copy.k3.astype(\"category\")"
   ]
  },
  {
   "cell_type": "code",
   "execution_count": 31,
   "id": "b44dcfb8-fb97-4d06-bbd2-a29386d738f2",
   "metadata": {},
   "outputs": [
    {
     "name": "stdout",
     "output_type": "stream",
     "text": [
      "<class 'pandas.core.frame.DataFrame'>\n",
      "RangeIndex: 15 entries, 0 to 14\n",
      "Data columns (total 3 columns):\n",
      " #   Column      Non-Null Count  Dtype   \n",
      "---  ------      --------------  -----   \n",
      " 0   true_group  15 non-null     object  \n",
      " 1   x           15 non-null     float64 \n",
      " 2   k3          15 non-null     category\n",
      "dtypes: category(1), float64(1), object(1)\n",
      "memory usage: 487.0+ bytes\n"
     ]
    }
   ],
   "source": [
    "df_copy.info()"
   ]
  },
  {
   "cell_type": "code",
   "execution_count": 32,
   "id": "1d3c923e-0283-462a-a460-20b5da1fd5a8",
   "metadata": {},
   "outputs": [
    {
     "data": {
      "text/plain": [
       "Index([0, 1, 2], dtype='int32')"
      ]
     },
     "execution_count": 32,
     "metadata": {},
     "output_type": "execute_result"
    }
   ],
   "source": [
    "df_copy.k3.cat.categories"
   ]
  },
  {
   "cell_type": "code",
   "execution_count": 33,
   "id": "62c3e9aa-d08d-46e2-9511-a0c767dddc9e",
   "metadata": {},
   "outputs": [
    {
     "name": "stderr",
     "output_type": "stream",
     "text": [
      "/Applications/anaconda3/envs/cmpinf2100/lib/python3.8/site-packages/seaborn/axisgrid.py:123: UserWarning: The figure layout has changed to tight\n",
      "  self._figure.tight_layout(*args, **kwargs)\n"
     ]
    },
    {
     "data": {
      "image/png": "[encoded data removed]",
      "text/plain": [
       "<Figure size 558.875x500 with 1 Axes>"
      ]
     },
     "metadata": {},
     "output_type": "display_data"
    }
   ],
   "source": [
    "sns.catplot(data=df_copy, x=\"x\", hue=\"k3\", kind=\"strip\", jitter=False)\n",
    "\n",
    "plt.show()"
   ]
  },
  {
   "cell_type": "markdown",
   "id": "4f5118e8-c477-41b9-b34a-d0b4cf3d76d1",
   "metadata": {},
   "source": [
    "### How do the KMeans results compare to the TRUE answers?\n",
    "\n",
    "You can NEVER do this in a real data set!\n",
    "\n",
    "However, you are clustering the ROWS based on NUMERIC cols. This, you are NOT using the cat vars in the clustering! You can therefore compare the CLUSTER results with the known categories!!\n",
    "\n",
    "Could use DODGED bar chart but I prefer to use a heat map!!"
   ]
  },
  {
   "cell_type": "code",
   "execution_count": 39,
   "id": "5431d5d1-1352-4225-8790-f7b59e48ecb6",
   "metadata": {},
   "outputs": [
    {
     "data": {
      "image/png": "[encoded data removed]",
      "text/plain": [
       "<Figure size 640x480 with 1 Axes>"
      ]
     },
     "metadata": {},
     "output_type": "display_data"
    }
   ],
   "source": [
    "fig, ax = plt.subplots()\n",
    "\n",
    "sns.heatmap(pd.crosstab(df_copy.true_group, df_copy.k3, margins=True), \n",
    "            annot=True, annot_kws={\"fontsize\":20}, cbar=False,\n",
    "            ax=ax)\n",
    "\n",
    "plt.show()"
   ]
  },
  {
   "cell_type": "markdown",
   "id": "c9e0e69a-b640-4fa2-9e4f-635e906eba35",
   "metadata": {},
   "source": [
    "KMeans has mislabeled or misidentifies 1 of the observations!!\n",
    "\n",
    "But is KMeans WRONG??? NO!!!!\n",
    "\n",
    "KMeans groups by DISTANCE!! The closer obs are the more similar KMeans feels they are!!!\n",
    "\n",
    "Lets visualize what caused the INCORRECT label..."
   ]
  },
  {
   "cell_type": "code",
   "execution_count": 41,
   "id": "014e3a4d-bc77-4f2a-afe5-bbd80c7a498f",
   "metadata": {},
   "outputs": [
    {
     "name": "stderr",
     "output_type": "stream",
     "text": [
      "/Applications/anaconda3/envs/cmpinf2100/lib/python3.8/site-packages/seaborn/axisgrid.py:123: UserWarning: The figure layout has changed to tight\n",
      "  self._figure.tight_layout(*args, **kwargs)\n"
     ]
    },
    {
     "data": {
      "image/png": "[encoded data removed]",
      "text/plain": [
       "<Figure size 1558.88x500 with 3 Axes>"
      ]
     },
     "metadata": {},
     "output_type": "display_data"
    }
   ],
   "source": [
    "sns.catplot(data=df_copy, x=\"x\", hue=\"k3\", kind=\"strip\", jitter=False, col=\"true_group\", s=75)\n",
    "\n",
    "plt.show()"
   ]
  },
  {
   "cell_type": "markdown",
   "id": "4f4611fb-942b-4eeb-86cb-67149ac2ac09",
   "metadata": {},
   "source": [
    "Lets use the marker SHAPE via the style argument in replot()"
   ]
  },
  {
   "cell_type": "code",
   "execution_count": 43,
   "id": "6a54a828-04ec-422e-af38-4839de356aa5",
   "metadata": {},
   "outputs": [
    {
     "name": "stderr",
     "output_type": "stream",
     "text": [
      "/Applications/anaconda3/envs/cmpinf2100/lib/python3.8/site-packages/seaborn/axisgrid.py:123: UserWarning: The figure layout has changed to tight\n",
      "  self._figure.tight_layout(*args, **kwargs)\n"
     ]
    },
    {
     "data": {
      "image/png": "[encoded data removed]",
      "text/plain": [
       "<Figure size 876x500 with 1 Axes>"
      ]
     },
     "metadata": {},
     "output_type": "display_data"
    }
   ],
   "source": [
    "sns.relplot(data=df_copy, x=\"x\", y=1, hue=\"k3\", style=\"true_group\", aspect=1.5, s=75)\n",
    "\n",
    "plt.show()"
   ]
  },
  {
   "cell_type": "markdown",
   "id": "02376878-922d-4b48-9f7d-68e41e104b5f",
   "metadata": {},
   "source": [
    "## More clusters?\n",
    "\n",
    "Lets try 8 clusters!"
   ]
  },
  {
   "cell_type": "code",
   "execution_count": 51,
   "id": "df9ec4eb-73b0-463f-be89-eb3f1c5e381e",
   "metadata": {},
   "outputs": [],
   "source": [
    "km8 = KMeans(n_clusters=8, random_state=121, n_init=25, max_iter=500).fit_predict(X)"
   ]
  },
  {
   "cell_type": "code",
   "execution_count": 55,
   "id": "80a0cca5-3bef-4e16-8d7b-2499e93e61e1",
   "metadata": {},
   "outputs": [],
   "source": [
    "df_copy['k8'] = pd.Series(km8, index=df_copy.index).astype(\"category\")"
   ]
  },
  {
   "cell_type": "code",
   "execution_count": 56,
   "id": "1757d739-750e-4fd9-ae4c-45cc26b6d982",
   "metadata": {},
   "outputs": [
    {
     "data": {
      "text/html": [
       "<div>\n",
       "<style scoped>\n",
       "    .dataframe tbody tr th:only-of-type {\n",
       "        vertical-align: middle;\n",
       "    }\n",
       "\n",
       "    .dataframe tbody tr th {\n",
       "        vertical-align: top;\n",
       "    }\n",
       "\n",
       "    .dataframe thead th {\n",
       "        text-align: right;\n",
       "    }\n",
       "</style>\n",
       "<table border=\"1\" class=\"dataframe\">\n",
       "  <thead>\n",
       "    <tr style=\"text-align: right;\">\n",
       "      <th></th>\n",
       "      <th>true_group</th>\n",
       "      <th>x</th>\n",
       "      <th>k3</th>\n",
       "      <th>k8</th>\n",
       "    </tr>\n",
       "  </thead>\n",
       "  <tbody>\n",
       "    <tr>\n",
       "      <th>0</th>\n",
       "      <td>A</td>\n",
       "      <td>-1.546339</td>\n",
       "      <td>0</td>\n",
       "      <td>0</td>\n",
       "    </tr>\n",
       "    <tr>\n",
       "      <th>1</th>\n",
       "      <td>A</td>\n",
       "      <td>-1.775880</td>\n",
       "      <td>0</td>\n",
       "      <td>0</td>\n",
       "    </tr>\n",
       "    <tr>\n",
       "      <th>2</th>\n",
       "      <td>A</td>\n",
       "      <td>-1.249187</td>\n",
       "      <td>0</td>\n",
       "      <td>6</td>\n",
       "    </tr>\n",
       "    <tr>\n",
       "      <th>3</th>\n",
       "      <td>A</td>\n",
       "      <td>-1.677143</td>\n",
       "      <td>0</td>\n",
       "      <td>0</td>\n",
       "    </tr>\n",
       "    <tr>\n",
       "      <th>4</th>\n",
       "      <td>A</td>\n",
       "      <td>-2.747398</td>\n",
       "      <td>0</td>\n",
       "      <td>4</td>\n",
       "    </tr>\n",
       "    <tr>\n",
       "      <th>5</th>\n",
       "      <td>B</td>\n",
       "      <td>0.756365</td>\n",
       "      <td>2</td>\n",
       "      <td>2</td>\n",
       "    </tr>\n",
       "    <tr>\n",
       "      <th>6</th>\n",
       "      <td>B</td>\n",
       "      <td>0.679823</td>\n",
       "      <td>2</td>\n",
       "      <td>2</td>\n",
       "    </tr>\n",
       "    <tr>\n",
       "      <th>7</th>\n",
       "      <td>B</td>\n",
       "      <td>0.045965</td>\n",
       "      <td>2</td>\n",
       "      <td>7</td>\n",
       "    </tr>\n",
       "    <tr>\n",
       "      <th>8</th>\n",
       "      <td>B</td>\n",
       "      <td>0.543803</td>\n",
       "      <td>2</td>\n",
       "      <td>2</td>\n",
       "    </tr>\n",
       "    <tr>\n",
       "      <th>9</th>\n",
       "      <td>B</td>\n",
       "      <td>-0.687950</td>\n",
       "      <td>0</td>\n",
       "      <td>3</td>\n",
       "    </tr>\n",
       "    <tr>\n",
       "      <th>10</th>\n",
       "      <td>C</td>\n",
       "      <td>2.581302</td>\n",
       "      <td>1</td>\n",
       "      <td>1</td>\n",
       "    </tr>\n",
       "    <tr>\n",
       "      <th>11</th>\n",
       "      <td>C</td>\n",
       "      <td>2.257824</td>\n",
       "      <td>1</td>\n",
       "      <td>5</td>\n",
       "    </tr>\n",
       "    <tr>\n",
       "      <th>12</th>\n",
       "      <td>C</td>\n",
       "      <td>1.938880</td>\n",
       "      <td>1</td>\n",
       "      <td>5</td>\n",
       "    </tr>\n",
       "    <tr>\n",
       "      <th>13</th>\n",
       "      <td>C</td>\n",
       "      <td>2.899353</td>\n",
       "      <td>1</td>\n",
       "      <td>1</td>\n",
       "    </tr>\n",
       "    <tr>\n",
       "      <th>14</th>\n",
       "      <td>C</td>\n",
       "      <td>2.066060</td>\n",
       "      <td>1</td>\n",
       "      <td>5</td>\n",
       "    </tr>\n",
       "  </tbody>\n",
       "</table>\n",
       "</div>"
      ],
      "text/plain": [
       "   true_group         x k3 k8\n",
       "0           A -1.546339  0  0\n",
       "1           A -1.775880  0  0\n",
       "2           A -1.249187  0  6\n",
       "3           A -1.677143  0  0\n",
       "4           A -2.747398  0  4\n",
       "5           B  0.756365  2  2\n",
       "6           B  0.679823  2  2\n",
       "7           B  0.045965  2  7\n",
       "8           B  0.543803  2  2\n",
       "9           B -0.687950  0  3\n",
       "10          C  2.581302  1  1\n",
       "11          C  2.257824  1  5\n",
       "12          C  1.938880  1  5\n",
       "13          C  2.899353  1  1\n",
       "14          C  2.066060  1  5"
      ]
     },
     "execution_count": 56,
     "metadata": {},
     "output_type": "execute_result"
    }
   ],
   "source": [
    "df_copy"
   ]
  },
  {
   "cell_type": "code",
   "execution_count": 57,
   "id": "eab77b7d-b523-4e92-8ee1-71c2576769ae",
   "metadata": {},
   "outputs": [
    {
     "name": "stdout",
     "output_type": "stream",
     "text": [
      "<class 'pandas.core.frame.DataFrame'>\n",
      "RangeIndex: 15 entries, 0 to 14\n",
      "Data columns (total 4 columns):\n",
      " #   Column      Non-Null Count  Dtype   \n",
      "---  ------      --------------  -----   \n",
      " 0   true_group  15 non-null     object  \n",
      " 1   x           15 non-null     float64 \n",
      " 2   k3          15 non-null     category\n",
      " 3   k8          15 non-null     category\n",
      "dtypes: category(2), float64(1), object(1)\n",
      "memory usage: 770.0+ bytes\n"
     ]
    }
   ],
   "source": [
    "df_copy.info()"
   ]
  },
  {
   "cell_type": "code",
   "execution_count": 59,
   "id": "b5bb6dd8-f4a2-442e-9925-2ad6ca62c0fb",
   "metadata": {},
   "outputs": [
    {
     "name": "stderr",
     "output_type": "stream",
     "text": [
      "/Applications/anaconda3/envs/cmpinf2100/lib/python3.8/site-packages/seaborn/axisgrid.py:123: UserWarning: The figure layout has changed to tight\n",
      "  self._figure.tight_layout(*args, **kwargs)\n"
     ]
    },
    {
     "data": {
      "image/png": "[encoded data removed]",
      "text/plain": [
       "<Figure size 558.875x500 with 1 Axes>"
      ]
     },
     "metadata": {},
     "output_type": "display_data"
    }
   ],
   "source": [
    "sns.catplot(data=df_copy, x=\"x\", hue=\"k8\", kind=\"strip\", jitter=False)\n",
    "\n",
    "plt.show()"
   ]
  },
  {
   "cell_type": "markdown",
   "id": "86425980-a656-4af6-89c3-dfc3ae307f6b",
   "metadata": {},
   "source": [
    "The MAX number of clusters equals the NUMBER OF ROWS in the dataset!\n",
    "\n",
    "This would give 1 obs PER cluster!!!"
   ]
  },
  {
   "cell_type": "code",
   "execution_count": 60,
   "id": "f4106eee-5aae-4965-96a6-45f226cb372d",
   "metadata": {},
   "outputs": [],
   "source": [
    "k15 = KMeans(n_clusters=15, random_state=121, n_init=25, max_iter=500)"
   ]
  },
  {
   "cell_type": "code",
   "execution_count": 62,
   "id": "e368c833-6007-4905-92d0-5a97276bff10",
   "metadata": {},
   "outputs": [],
   "source": [
    "df_copy['k15'] = pd.Series(k15.fit_predict(X), index=df_copy.index).astype(\"category\")"
   ]
  },
  {
   "cell_type": "code",
   "execution_count": 63,
   "id": "61b2e1bc-0f1b-4d91-98c2-8d7467d6a653",
   "metadata": {},
   "outputs": [
    {
     "data": {
      "text/html": [
       "<div>\n",
       "<style scoped>\n",
       "    .dataframe tbody tr th:only-of-type {\n",
       "        vertical-align: middle;\n",
       "    }\n",
       "\n",
       "    .dataframe tbody tr th {\n",
       "        vertical-align: top;\n",
       "    }\n",
       "\n",
       "    .dataframe thead th {\n",
       "        text-align: right;\n",
       "    }\n",
       "</style>\n",
       "<table border=\"1\" class=\"dataframe\">\n",
       "  <thead>\n",
       "    <tr style=\"text-align: right;\">\n",
       "      <th></th>\n",
       "      <th>true_group</th>\n",
       "      <th>x</th>\n",
       "      <th>k3</th>\n",
       "      <th>k8</th>\n",
       "      <th>k15</th>\n",
       "    </tr>\n",
       "  </thead>\n",
       "  <tbody>\n",
       "    <tr>\n",
       "      <th>0</th>\n",
       "      <td>A</td>\n",
       "      <td>-1.546339</td>\n",
       "      <td>0</td>\n",
       "      <td>0</td>\n",
       "      <td>10</td>\n",
       "    </tr>\n",
       "    <tr>\n",
       "      <th>1</th>\n",
       "      <td>A</td>\n",
       "      <td>-1.775880</td>\n",
       "      <td>0</td>\n",
       "      <td>0</td>\n",
       "      <td>0</td>\n",
       "    </tr>\n",
       "    <tr>\n",
       "      <th>2</th>\n",
       "      <td>A</td>\n",
       "      <td>-1.249187</td>\n",
       "      <td>0</td>\n",
       "      <td>6</td>\n",
       "      <td>6</td>\n",
       "    </tr>\n",
       "    <tr>\n",
       "      <th>3</th>\n",
       "      <td>A</td>\n",
       "      <td>-1.677143</td>\n",
       "      <td>0</td>\n",
       "      <td>0</td>\n",
       "      <td>13</td>\n",
       "    </tr>\n",
       "    <tr>\n",
       "      <th>4</th>\n",
       "      <td>A</td>\n",
       "      <td>-2.747398</td>\n",
       "      <td>0</td>\n",
       "      <td>4</td>\n",
       "      <td>4</td>\n",
       "    </tr>\n",
       "    <tr>\n",
       "      <th>5</th>\n",
       "      <td>B</td>\n",
       "      <td>0.756365</td>\n",
       "      <td>2</td>\n",
       "      <td>2</td>\n",
       "      <td>9</td>\n",
       "    </tr>\n",
       "    <tr>\n",
       "      <th>6</th>\n",
       "      <td>B</td>\n",
       "      <td>0.679823</td>\n",
       "      <td>2</td>\n",
       "      <td>2</td>\n",
       "      <td>14</td>\n",
       "    </tr>\n",
       "    <tr>\n",
       "      <th>7</th>\n",
       "      <td>B</td>\n",
       "      <td>0.045965</td>\n",
       "      <td>2</td>\n",
       "      <td>7</td>\n",
       "      <td>7</td>\n",
       "    </tr>\n",
       "    <tr>\n",
       "      <th>8</th>\n",
       "      <td>B</td>\n",
       "      <td>0.543803</td>\n",
       "      <td>2</td>\n",
       "      <td>2</td>\n",
       "      <td>2</td>\n",
       "    </tr>\n",
       "    <tr>\n",
       "      <th>9</th>\n",
       "      <td>B</td>\n",
       "      <td>-0.687950</td>\n",
       "      <td>0</td>\n",
       "      <td>3</td>\n",
       "      <td>3</td>\n",
       "    </tr>\n",
       "    <tr>\n",
       "      <th>10</th>\n",
       "      <td>C</td>\n",
       "      <td>2.581302</td>\n",
       "      <td>1</td>\n",
       "      <td>1</td>\n",
       "      <td>1</td>\n",
       "    </tr>\n",
       "    <tr>\n",
       "      <th>11</th>\n",
       "      <td>C</td>\n",
       "      <td>2.257824</td>\n",
       "      <td>1</td>\n",
       "      <td>5</td>\n",
       "      <td>11</td>\n",
       "    </tr>\n",
       "    <tr>\n",
       "      <th>12</th>\n",
       "      <td>C</td>\n",
       "      <td>1.938880</td>\n",
       "      <td>1</td>\n",
       "      <td>5</td>\n",
       "      <td>12</td>\n",
       "    </tr>\n",
       "    <tr>\n",
       "      <th>13</th>\n",
       "      <td>C</td>\n",
       "      <td>2.899353</td>\n",
       "      <td>1</td>\n",
       "      <td>1</td>\n",
       "      <td>8</td>\n",
       "    </tr>\n",
       "    <tr>\n",
       "      <th>14</th>\n",
       "      <td>C</td>\n",
       "      <td>2.066060</td>\n",
       "      <td>1</td>\n",
       "      <td>5</td>\n",
       "      <td>5</td>\n",
       "    </tr>\n",
       "  </tbody>\n",
       "</table>\n",
       "</div>"
      ],
      "text/plain": [
       "   true_group         x k3 k8 k15\n",
       "0           A -1.546339  0  0  10\n",
       "1           A -1.775880  0  0   0\n",
       "2           A -1.249187  0  6   6\n",
       "3           A -1.677143  0  0  13\n",
       "4           A -2.747398  0  4   4\n",
       "5           B  0.756365  2  2   9\n",
       "6           B  0.679823  2  2  14\n",
       "7           B  0.045965  2  7   7\n",
       "8           B  0.543803  2  2   2\n",
       "9           B -0.687950  0  3   3\n",
       "10          C  2.581302  1  1   1\n",
       "11          C  2.257824  1  5  11\n",
       "12          C  1.938880  1  5  12\n",
       "13          C  2.899353  1  1   8\n",
       "14          C  2.066060  1  5   5"
      ]
     },
     "execution_count": 63,
     "metadata": {},
     "output_type": "execute_result"
    }
   ],
   "source": [
    "df_copy"
   ]
  },
  {
   "cell_type": "code",
   "execution_count": 65,
   "id": "1fefc478-9dbb-49b2-a879-a751ef5cb96a",
   "metadata": {},
   "outputs": [
    {
     "data": {
      "text/plain": [
       "k15\n",
       "0     1\n",
       "1     1\n",
       "2     1\n",
       "3     1\n",
       "4     1\n",
       "5     1\n",
       "6     1\n",
       "7     1\n",
       "8     1\n",
       "9     1\n",
       "10    1\n",
       "11    1\n",
       "12    1\n",
       "13    1\n",
       "14    1\n",
       "Name: count, dtype: int64"
      ]
     },
     "execution_count": 65,
     "metadata": {},
     "output_type": "execute_result"
    }
   ],
   "source": [
    "df_copy.k15.value_counts()"
   ]
  },
  {
   "cell_type": "markdown",
   "id": "8a87ecb9-af3e-4e8b-aa4d-0ed11d506daf",
   "metadata": {},
   "source": [
    "## Optimal Number of Clusters!!\n",
    "\n",
    "We want to find the TOTAL WITHIN SUM OF SQUARES that gives INTERESTING behavior!!\n",
    "\n",
    "We must calc the TOTAL WITHIN SUM OF SQUARES for MANY poss num of clusters!!\n",
    "\n",
    "The KMeans() objects refer to the TOTAL WITHIN SUM OF SQUARES as the `inertia_` attribute.\n",
    "\n",
    "We want to minimize the inertia but only to an interesting level!!"
   ]
  },
  {
   "cell_type": "code",
   "execution_count": 68,
   "id": "2abccb89-00fa-4453-978f-5136ee87b8f0",
   "metadata": {},
   "outputs": [],
   "source": [
    "tots_within = []\n",
    "\n",
    "K = range(1, df_copy.shape[0] + 1)\n",
    "\n",
    "for k in K:\n",
    "    km = KMeans(n_clusters=k, random_state=121, n_init=25, max_iter=500)\n",
    "    km = km.fit(X)\n",
    "\n",
    "    tots_within.append(km.inertia_)"
   ]
  },
  {
   "cell_type": "code",
   "execution_count": 69,
   "id": "9ed767d3-a4ed-4b42-bc06-c4c1a6a62b7f",
   "metadata": {},
   "outputs": [
    {
     "data": {
      "text/plain": [
       "[46.35399636931193,\n",
       " 10.655278557432904,\n",
       " 3.2293944877041723,\n",
       " 1.687838009303805,\n",
       " 1.063014909569858,\n",
       " 0.5517322559171763,\n",
       " 0.2824165169327671,\n",
       " 0.15183268233008237,\n",
       " 0.10125453161699273,\n",
       " 0.05778406841556978,\n",
       " 0.036142712893640266,\n",
       " 0.015891204992999303,\n",
       " 0.007803852442986431,\n",
       " 0.0029293308150693254,\n",
       " 0.0]"
      ]
     },
     "execution_count": 69,
     "metadata": {},
     "output_type": "execute_result"
    }
   ],
   "source": [
    "tots_within"
   ]
  },
  {
   "cell_type": "markdown",
   "id": "a26becc0-04e5-44d3-9308-759058aabbb3",
   "metadata": {},
   "source": [
    "Visualize the RESULTS using a LINE CHART.\n",
    "\n",
    "This is a simple graphic in matplotlib rather than Seaborn. The style of the line chart is the SAME style that we used in the beginning semester when we were plotting the SEM vs the sample size!"
   ]
  },
  {
   "cell_type": "code",
   "execution_count": 70,
   "id": "04c88834-3e23-4513-bc86-3b8a82544940",
   "metadata": {},
   "outputs": [
    {
     "data": {
      "image/png": "[encoded data removed]",
      "text/plain": [
       "<Figure size 640x480 with 1 Axes>"
      ]
     },
     "metadata": {},
     "output_type": "display_data"
    }
   ],
   "source": [
    "fig, ax = plt.subplots()\n",
    "\n",
    "ax.plot(K, tots_within, \"bo-\")\n",
    "ax.set_xlabel(\"number of clusters\")\n",
    "ax.set_ylabel(\"total within sum of squares\")\n",
    "\n",
    "plt.show()\n"
   ]
  },
  {
   "cell_type": "code",
   "execution_count": null,
   "id": "53710ff7-8c16-464d-bc2e-d92d578bc99c",
   "metadata": {},
   "outputs": [],
   "source": []
  },
  {
   "cell_type": "code",
   "execution_count": null,
   "id": "939bb8cf-2e16-4b25-88c7-35acbd354d27",
   "metadata": {},
   "outputs": [],
   "source": []
  },
  {
   "cell_type": "code",
   "execution_count": null,
   "id": "6da7f7eb-7866-4637-abf7-1a9b4ed3b4f2",
   "metadata": {},
   "outputs": [],
   "source": []
  }
 ],
 "metadata": {
  "kernelspec": {
   "display_name": "Python 3 (ipykernel)",
   "language": "python",
   "name": "python3"
  },
  "language_info": {
   "codemirror_mode": {
    "name": "ipython",
    "version": 3
   },
   "file_extension": ".py",
   "mimetype": "text/x-python",
   "name": "python",
   "nbconvert_exporter": "python",
   "pygments_lexer": "ipython3",
   "version": "3.8.19"
  }
 },
 "nbformat": 4,
 "nbformat_minor": 5
}
