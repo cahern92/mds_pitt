{
 "cells": [
  {
   "cell_type": "markdown",
   "id": "3a07e4d1-2898-4611-8632-cda713e2e4c6",
   "metadata": {},
   "source": [
    "## CMPINF 2100 Week 02\n",
    "### Calculating Averages\n",
    "## Overview\n",
    "\n",
    "We have learned how to store values in lists, iterate, apply function, apply methods, and define your own functions.\n",
    "\n",
    "Let's now use ALL of those skills to tackle an import and common data analysis task!!\n",
    "\n",
    "## Import modules\n",
    "\n",
    "We will need the `random` module, but we won't use it right away."
   ]
  },
  {
   "cell_type": "code",
   "execution_count": 1,
   "id": "c8ea910b-38b6-4733-b865-d9bcf5d6eec4",
   "metadata": {},
   "outputs": [],
   "source": [
    "import random"
   ]
  },
  {
   "cell_type": "markdown",
   "id": "c342a14e-cd10-4d83-944f-7db5ffd79bf4",
   "metadata": {},
   "source": [
    "## Average\n",
    "\n",
    "How do we calculate the AVERAGE of a collection of numbers??\n",
    "\n",
    "For example, what is the average of the following 3 numbers:"
   ]
  },
  {
   "cell_type": "code",
   "execution_count": 2,
   "id": "e180ff92-373e-47dd-92d7-a3df85e1d25a",
   "metadata": {},
   "outputs": [
    {
     "data": {
      "text/plain": [
       "[1, 2, 3]"
      ]
     },
     "execution_count": 2,
     "metadata": {},
     "output_type": "execute_result"
    }
   ],
   "source": [
    "[1, 2, 3]"
   ]
  },
  {
   "cell_type": "markdown",
   "id": "68ea4166-7e7e-4642-81b4-183273c5c357",
   "metadata": {},
   "source": [
    "Calculating the average consists of 3 steps.\n",
    "\n",
    "The FIRST step is to SUM the values in the collection."
   ]
  },
  {
   "cell_type": "code",
   "execution_count": 3,
   "id": "6bb70c7a-80e6-46d4-8a36-55a1be0c22ee",
   "metadata": {},
   "outputs": [
    {
     "data": {
      "text/plain": [
       "6"
      ]
     },
     "execution_count": 3,
     "metadata": {},
     "output_type": "execute_result"
    }
   ],
   "source": [
    "1 + 2 + 3"
   ]
  },
  {
   "cell_type": "code",
   "execution_count": 4,
   "id": "fcc571f5-bc23-4327-9a20-4123bf26ed8c",
   "metadata": {},
   "outputs": [
    {
     "data": {
      "text/plain": [
       "[1, 2, 3]"
      ]
     },
     "execution_count": 4,
     "metadata": {},
     "output_type": "execute_result"
    }
   ],
   "source": [
    "[1, 2, 3]"
   ]
  },
  {
   "cell_type": "code",
   "execution_count": 6,
   "id": "9c842a10-50c1-4488-9853-d7ef7e4afff3",
   "metadata": {},
   "outputs": [],
   "source": [
    "a_sum = 0\n",
    "for a_value in [1, 2, 3]:\n",
    "    a_sum = a_value + a_sum"
   ]
  },
  {
   "cell_type": "code",
   "execution_count": 7,
   "id": "5c760d44-b074-417d-8fbb-d6a3890534a2",
   "metadata": {},
   "outputs": [
    {
     "data": {
      "text/plain": [
       "6"
      ]
     },
     "execution_count": 7,
     "metadata": {},
     "output_type": "execute_result"
    }
   ],
   "source": [
    "a_sum"
   ]
  },
  {
   "cell_type": "code",
   "execution_count": 8,
   "id": "22ff64d7-333c-4b88-a6f2-0dbeec2f390c",
   "metadata": {},
   "outputs": [
    {
     "data": {
      "text/plain": [
       "6"
      ]
     },
     "execution_count": 8,
     "metadata": {},
     "output_type": "execute_result"
    }
   ],
   "source": [
    "sum([1, 2, 3])"
   ]
  },
  {
   "cell_type": "markdown",
   "id": "050ae906-9553-4682-b4a1-042616c966a4",
   "metadata": {},
   "source": [
    "The SECOND step is to COUNT the number of elements in the collection."
   ]
  },
  {
   "cell_type": "code",
   "execution_count": 9,
   "id": "6eda6ad0-6f23-468b-b990-b0f0793660f4",
   "metadata": {},
   "outputs": [
    {
     "data": {
      "text/plain": [
       "3"
      ]
     },
     "execution_count": 9,
     "metadata": {},
     "output_type": "execute_result"
    }
   ],
   "source": [
    "len([1, 2, 3])"
   ]
  },
  {
   "cell_type": "markdown",
   "id": "b77c4d68-990e-4831-91b5-47ebd217666b",
   "metadata": {},
   "source": [
    "The THIRD and FINAL step is to DIVIDE the SUM by the LENGTH!!"
   ]
  },
  {
   "cell_type": "code",
   "execution_count": 10,
   "id": "a0896191-b69d-47da-8658-3ad4186d9ebf",
   "metadata": {},
   "outputs": [
    {
     "data": {
      "text/plain": [
       "2.0"
      ]
     },
     "execution_count": 10,
     "metadata": {},
     "output_type": "execute_result"
    }
   ],
   "source": [
    "sum([1, 2, 3])/ len([1, 2, 3])"
   ]
  },
  {
   "cell_type": "code",
   "execution_count": 11,
   "id": "d0359c55-d76e-4f7a-b404-68dc662483b9",
   "metadata": {},
   "outputs": [
    {
     "data": {
      "text/plain": [
       "['BPF',\n",
       " 'LOG4',\n",
       " 'NV_MAGICCONST',\n",
       " 'RECIP_BPF',\n",
       " 'Random',\n",
       " 'SG_MAGICCONST',\n",
       " 'SystemRandom',\n",
       " 'TWOPI',\n",
       " '_Sequence',\n",
       " '_Set',\n",
       " '__all__',\n",
       " '__builtins__',\n",
       " '__cached__',\n",
       " '__doc__',\n",
       " '__file__',\n",
       " '__loader__',\n",
       " '__name__',\n",
       " '__package__',\n",
       " '__spec__',\n",
       " '_accumulate',\n",
       " '_acos',\n",
       " '_bisect',\n",
       " '_ceil',\n",
       " '_cos',\n",
       " '_e',\n",
       " '_exp',\n",
       " '_inst',\n",
       " '_log',\n",
       " '_os',\n",
       " '_pi',\n",
       " '_random',\n",
       " '_repeat',\n",
       " '_sha512',\n",
       " '_sin',\n",
       " '_sqrt',\n",
       " '_test',\n",
       " '_test_generator',\n",
       " '_urandom',\n",
       " '_warn',\n",
       " 'betavariate',\n",
       " 'choice',\n",
       " 'choices',\n",
       " 'expovariate',\n",
       " 'gammavariate',\n",
       " 'gauss',\n",
       " 'getrandbits',\n",
       " 'getstate',\n",
       " 'lognormvariate',\n",
       " 'normalvariate',\n",
       " 'paretovariate',\n",
       " 'randint',\n",
       " 'random',\n",
       " 'randrange',\n",
       " 'sample',\n",
       " 'seed',\n",
       " 'setstate',\n",
       " 'shuffle',\n",
       " 'triangular',\n",
       " 'uniform',\n",
       " 'vonmisesvariate',\n",
       " 'weibullvariate']"
      ]
     },
     "execution_count": 11,
     "metadata": {},
     "output_type": "execute_result"
    }
   ],
   "source": [
    "dir(random)"
   ]
  },
  {
   "cell_type": "code",
   "execution_count": 15,
   "id": "76382eea-0e41-476e-bad2-69c43c4ee29a",
   "metadata": {},
   "outputs": [],
   "source": [
    "x_a = [1, 2, 3, 4, 5, 6, 7, 8]"
   ]
  },
  {
   "cell_type": "code",
   "execution_count": 16,
   "id": "30627efa-361e-463d-b24c-b891d408beaa",
   "metadata": {},
   "outputs": [
    {
     "data": {
      "text/plain": [
       "4.5"
      ]
     },
     "execution_count": 16,
     "metadata": {},
     "output_type": "execute_result"
    }
   ],
   "source": [
    "sum(x_a)/len(x_a)"
   ]
  },
  {
   "cell_type": "code",
   "execution_count": 19,
   "id": "aac4327d-0968-4e0a-9397-e529e9929285",
   "metadata": {},
   "outputs": [],
   "source": [
    "x_b = [-1, 10, -2, 3.14, 5.5, 300, -200, -11, 1034]"
   ]
  },
  {
   "cell_type": "code",
   "execution_count": 20,
   "id": "d69ecd07-c8ab-45cb-93b2-02ac580a515d",
   "metadata": {},
   "outputs": [
    {
     "data": {
      "text/plain": [
       "126.51555555555554"
      ]
     },
     "execution_count": 20,
     "metadata": {},
     "output_type": "execute_result"
    }
   ],
   "source": [
    "sum(x_b)/len(x_b)"
   ]
  },
  {
   "cell_type": "markdown",
   "id": "d59cccd5-e5f1-4354-9cdb-1d6b05cc9ccd",
   "metadata": {},
   "source": [
    "Let's define our OWN custom function for calculating the AVERAGE of values contained in a list!"
   ]
  },
  {
   "cell_type": "code",
   "execution_count": 24,
   "id": "e50ded56-794a-4cd4-ab7d-9fe801199353",
   "metadata": {},
   "outputs": [],
   "source": [
    "def my_avg(x):\n",
    "    \"\"\"\n",
    "    This is a docstring. It serves as a MULTI LINE comment.\n",
    "\n",
    "    Provides useful description and discussion of the INPUT arguments and OPERATION of the function.\n",
    "\n",
    "    This function accepts x as an input argument. Let's assume x is a list of integers/floats.\n",
    "\n",
    "    The function returns the AVERAGE of the list.\n",
    "    \"\"\"\n",
    "    return sum(x)/len(x)"
   ]
  },
  {
   "cell_type": "code",
   "execution_count": 22,
   "id": "413ded5c-9249-4058-a833-9932ee4ea3d7",
   "metadata": {},
   "outputs": [
    {
     "data": {
      "text/plain": [
       "2.0"
      ]
     },
     "execution_count": 22,
     "metadata": {},
     "output_type": "execute_result"
    }
   ],
   "source": [
    "my_avg([1, 2, 3])"
   ]
  },
  {
   "cell_type": "code",
   "execution_count": 25,
   "id": "3ca551d3-ebff-4398-b728-f7aaef0725e5",
   "metadata": {},
   "outputs": [
    {
     "name": "stdout",
     "output_type": "stream",
     "text": [
      "Variable   Type        Data/Info\n",
      "--------------------------------\n",
      "a_sum      int         6\n",
      "a_value    int         3\n",
      "math       module      <module 'math' from '/App<...>th.cpython-38-darwin.so'>\n",
      "my_avg     function    <function my_avg at 0x109528040>\n",
      "random     module      <module 'random' from '/A<...>lib/python3.8/random.py'>\n",
      "x_a        list        n=8\n",
      "x_b        list        n=9\n"
     ]
    }
   ],
   "source": [
    "%whos"
   ]
  },
  {
   "cell_type": "code",
   "execution_count": 26,
   "id": "26d54e3f-3de1-437f-886a-59bcb1a95ac8",
   "metadata": {},
   "outputs": [
    {
     "data": {
      "text/plain": [
       "2.5"
      ]
     },
     "execution_count": 26,
     "metadata": {},
     "output_type": "execute_result"
    }
   ],
   "source": [
    "my_avg((1,2,3,4))"
   ]
  },
  {
   "cell_type": "markdown",
   "id": "e18b887c-e0c6-4b74-98c6-9c7230a63735",
   "metadata": {},
   "source": [
    "PLEASE BE CAREFUL!!!\n",
    "\n",
    "Our function `my_avg()` CAN ONLY work with lists that contain integers and floats. The function will NOT work if there is a CHARACTER/string data types."
   ]
  },
  {
   "cell_type": "code",
   "execution_count": 27,
   "id": "34474030-3253-4f6c-9173-1a2cc904aef1",
   "metadata": {},
   "outputs": [
    {
     "ename": "TypeError",
     "evalue": "my_avg() takes 1 positional argument but 2 were given",
     "output_type": "error",
     "traceback": [
      "\u001b[0;31m---------------------------------------------------------------------------\u001b[0m",
      "\u001b[0;31mTypeError\u001b[0m                                 Traceback (most recent call last)",
      "Cell \u001b[0;32mIn[27], line 1\u001b[0m\n\u001b[0;32m----> 1\u001b[0m \u001b[43mmy_avg\u001b[49m\u001b[43m(\u001b[49m\u001b[43m[\u001b[49m\u001b[38;5;241;43m1\u001b[39;49m\u001b[43m]\u001b[49m\u001b[43m,\u001b[49m\u001b[43m \u001b[49m\u001b[43m[\u001b[49m\u001b[38;5;241;43m2\u001b[39;49m\u001b[43m]\u001b[49m\u001b[43m)\u001b[49m\n",
      "\u001b[0;31mTypeError\u001b[0m: my_avg() takes 1 positional argument but 2 were given"
     ]
    }
   ],
   "source": [
    "my_avg([1], [2])"
   ]
  },
  {
   "cell_type": "code",
   "execution_count": 28,
   "id": "1c153d2b-9039-49ec-b3e9-a279d83d7a6e",
   "metadata": {},
   "outputs": [
    {
     "name": "stdout",
     "output_type": "stream",
     "text": [
      "Help on function my_avg in module __main__:\n",
      "\n",
      "my_avg(x)\n",
      "    This is a docstring. It serves as a MULTI LINE comment.\n",
      "    \n",
      "    Provides useful description and discussion of the INPUT arguments and OPERATION of the function.\n",
      "    \n",
      "    This function accepts x as an input argument. Let's assume x is a list of integers/floats.\n",
      "    \n",
      "    The function returns the AVERAGE of the list.\n",
      "\n"
     ]
    }
   ],
   "source": [
    "help(my_avg)"
   ]
  },
  {
   "cell_type": "markdown",
   "id": "1c24a8d0-a267-4cc4-ad52-306e4be55ac5",
   "metadata": {},
   "source": [
    "## Applying our function\n",
    "\n",
    "We learned how to GENERATE lists of RANDOM numbers!!!\n",
    "\n",
    "Let's make a list of random numbers now..and use our function to calc AVG of those numbers!!!"
   ]
  },
  {
   "cell_type": "code",
   "execution_count": 32,
   "id": "b3f103de-3321-4d42-9ffe-8f9b3f0e821b",
   "metadata": {},
   "outputs": [],
   "source": [
    "random.seed(2100)\n",
    "\n",
    "xu = [random.random() for _ in range(11) ]"
   ]
  },
  {
   "cell_type": "code",
   "execution_count": 33,
   "id": "1bd84a33-d518-4a0c-8c2c-5da59b7155ec",
   "metadata": {},
   "outputs": [
    {
     "data": {
      "text/plain": [
       "11"
      ]
     },
     "execution_count": 33,
     "metadata": {},
     "output_type": "execute_result"
    }
   ],
   "source": [
    "len(xu)"
   ]
  },
  {
   "cell_type": "code",
   "execution_count": 34,
   "id": "6cbca49b-85a1-4634-8247-d745e0f4bc46",
   "metadata": {},
   "outputs": [
    {
     "data": {
      "text/plain": [
       "[0.764021138054951,\n",
       " 0.4692037101382426,\n",
       " 0.09010549233469012,\n",
       " 0.08980190601697957,\n",
       " 0.5561956463771123,\n",
       " 0.41097303757112746,\n",
       " 0.6979324821652212,\n",
       " 0.9157019989699348,\n",
       " 0.06734286989910154,\n",
       " 0.7015550970478079,\n",
       " 0.11078753610950587]"
      ]
     },
     "execution_count": 34,
     "metadata": {},
     "output_type": "execute_result"
    }
   ],
   "source": [
    "xu"
   ]
  },
  {
   "cell_type": "code",
   "execution_count": 35,
   "id": "fd33c7e4-1dc5-4917-a948-b3696dd56dbb",
   "metadata": {},
   "outputs": [
    {
     "name": "stdout",
     "output_type": "stream",
     "text": [
      "Variable   Type        Data/Info\n",
      "--------------------------------\n",
      "a_sum      int         6\n",
      "a_value    int         3\n",
      "math       module      <module 'math' from '/App<...>th.cpython-38-darwin.so'>\n",
      "my_avg     function    <function my_avg at 0x109528040>\n",
      "random     module      <module 'random' from '/A<...>lib/python3.8/random.py'>\n",
      "x_a        list        n=8\n",
      "x_b        list        n=9\n",
      "xu         list        n=11\n"
     ]
    }
   ],
   "source": [
    "%whos"
   ]
  },
  {
   "cell_type": "code",
   "execution_count": 37,
   "id": "f5846b4c-6b5a-4b7f-ae87-7f6eb493e1a7",
   "metadata": {},
   "outputs": [
    {
     "data": {
      "text/plain": [
       "0.4430564467895158"
      ]
     },
     "execution_count": 37,
     "metadata": {},
     "output_type": "execute_result"
    }
   ],
   "source": [
    "my_avg(xu)"
   ]
  },
  {
   "cell_type": "code",
   "execution_count": 39,
   "id": "b916199d-ae01-4e28-b70c-ad075b71b828",
   "metadata": {},
   "outputs": [
    {
     "data": {
      "text/plain": [
       "0.49999106386202613"
      ]
     },
     "execution_count": 39,
     "metadata": {},
     "output_type": "execute_result"
    }
   ],
   "source": [
    "my_avg([random.random() for _ in range(1000)])"
   ]
  },
  {
   "cell_type": "markdown",
   "id": "debb369c-b89b-4197-82ea-162250659cad",
   "metadata": {},
   "source": [
    "What happens if we generate 11 random numbers...3 DIFFERENT times...\n",
    "\n",
    "This can happen if we collection obs on diff days, diff months, or across diff locations\n",
    "\n",
    "For example, maybe we are collecting or MEASURING the height of students in a class room."
   ]
  },
  {
   "cell_type": "code",
   "execution_count": 53,
   "id": "da9396fe-1a7e-4254-a467-e897dcb24c44",
   "metadata": {},
   "outputs": [],
   "source": [
    "random.seed(2100)\n",
    "\n",
    "yu = [ random.random() for _ in range(11)]\n",
    "\n",
    "zu = [ random.random() for _ in range(11)]\n",
    "\n",
    "qu = [ random.random() for _ in range(11)]"
   ]
  },
  {
   "cell_type": "code",
   "execution_count": 54,
   "id": "39afb32c-772b-440a-91e2-6847523c40bd",
   "metadata": {},
   "outputs": [
    {
     "name": "stdout",
     "output_type": "stream",
     "text": [
      "Variable   Type        Data/Info\n",
      "--------------------------------\n",
      "a_sum      int         6\n",
      "a_value    int         3\n",
      "math       module      <module 'math' from '/App<...>th.cpython-38-darwin.so'>\n",
      "my_avg     function    <function my_avg at 0x109528040>\n",
      "qu         list        n=11\n",
      "random     module      <module 'random' from '/A<...>lib/python3.8/random.py'>\n",
      "x_a        list        n=8\n",
      "x_b        list        n=9\n",
      "xu         list        n=11\n",
      "yu         list        n=11\n",
      "zu         list        n=11\n"
     ]
    }
   ],
   "source": [
    "%whos"
   ]
  },
  {
   "cell_type": "code",
   "execution_count": 58,
   "id": "1a994036-22ab-4920-b85d-fd7b0b2a820b",
   "metadata": {},
   "outputs": [
    {
     "data": {
      "text/plain": [
       "[0.764021138054951,\n",
       " 0.4692037101382426,\n",
       " 0.09010549233469012,\n",
       " 0.08980190601697957,\n",
       " 0.5561956463771123,\n",
       " 0.41097303757112746,\n",
       " 0.6979324821652212,\n",
       " 0.9157019989699348,\n",
       " 0.06734286989910154,\n",
       " 0.7015550970478079,\n",
       " 0.11078753610950587]"
      ]
     },
     "execution_count": 58,
     "metadata": {},
     "output_type": "execute_result"
    }
   ],
   "source": [
    "yu"
   ]
  },
  {
   "cell_type": "code",
   "execution_count": 59,
   "id": "29df851d-fa00-4484-bd94-4503ca20b8d3",
   "metadata": {},
   "outputs": [
    {
     "data": {
      "text/plain": [
       "[0.6669762270729921,\n",
       " 0.4942428713031397,\n",
       " 0.7956962831040792,\n",
       " 0.552986632512965,\n",
       " 0.4893355644568754,\n",
       " 0.4753411061753585,\n",
       " 0.956484014417971,\n",
       " 0.5808057706555326,\n",
       " 0.6972309683740164,\n",
       " 0.6530137967372368,\n",
       " 0.4843336405398452]"
      ]
     },
     "execution_count": 59,
     "metadata": {},
     "output_type": "execute_result"
    }
   ],
   "source": [
    "qu"
   ]
  },
  {
   "cell_type": "code",
   "execution_count": 60,
   "id": "ae4402f8-190a-401a-a5e8-41e2d798b476",
   "metadata": {},
   "outputs": [
    {
     "data": {
      "text/plain": [
       "[0.9379189789375049,\n",
       " 0.2987506098933619,\n",
       " 0.7342115932077558,\n",
       " 0.8939978976343719,\n",
       " 0.36690797563632527,\n",
       " 0.7840449290430325,\n",
       " 0.37956664277465757,\n",
       " 0.6333253705111195,\n",
       " 0.3605664070992006,\n",
       " 0.7231215087463677,\n",
       " 0.07281302170746007]"
      ]
     },
     "execution_count": 60,
     "metadata": {},
     "output_type": "execute_result"
    }
   ],
   "source": [
    "zu"
   ]
  },
  {
   "cell_type": "code",
   "execution_count": 61,
   "id": "12441c49-d5be-496f-ae15-92ede9ef5337",
   "metadata": {},
   "outputs": [
    {
     "data": {
      "text/plain": [
       "True"
      ]
     },
     "execution_count": 61,
     "metadata": {},
     "output_type": "execute_result"
    }
   ],
   "source": [
    "xu==yu"
   ]
  },
  {
   "cell_type": "code",
   "execution_count": 63,
   "id": "af8a020f-54af-4662-83d7-e3c55dc049a7",
   "metadata": {},
   "outputs": [
    {
     "data": {
      "text/plain": [
       "False"
      ]
     },
     "execution_count": 63,
     "metadata": {},
     "output_type": "execute_result"
    }
   ],
   "source": [
    "yu==zu"
   ]
  },
  {
   "cell_type": "code",
   "execution_count": 64,
   "id": "7831de00-1f01-4849-bea7-7c8bb94f86e2",
   "metadata": {},
   "outputs": [
    {
     "data": {
      "text/plain": [
       "False"
      ]
     },
     "execution_count": 64,
     "metadata": {},
     "output_type": "execute_result"
    }
   ],
   "source": [
    "zu==qu"
   ]
  },
  {
   "cell_type": "code",
   "execution_count": 65,
   "id": "7f785ce7-fc8b-4942-990f-b51ac0414945",
   "metadata": {},
   "outputs": [
    {
     "data": {
      "text/plain": [
       "False"
      ]
     },
     "execution_count": 65,
     "metadata": {},
     "output_type": "execute_result"
    }
   ],
   "source": [
    "yu==qu"
   ]
  },
  {
   "cell_type": "code",
   "execution_count": 67,
   "id": "60e5d4be-8dfe-4c14-aee7-42fde642086d",
   "metadata": {},
   "outputs": [
    {
     "data": {
      "text/plain": [
       "0.4430564467895158"
      ]
     },
     "execution_count": 67,
     "metadata": {},
     "output_type": "execute_result"
    }
   ],
   "source": [
    "my_avg(yu)"
   ]
  },
  {
   "cell_type": "code",
   "execution_count": 68,
   "id": "eae9020b-1c0d-4230-aecc-f95ff8d762de",
   "metadata": {},
   "outputs": [
    {
     "data": {
      "text/plain": [
       "0.5622931759264689"
      ]
     },
     "execution_count": 68,
     "metadata": {},
     "output_type": "execute_result"
    }
   ],
   "source": [
    "my_avg(zu)"
   ]
  },
  {
   "cell_type": "code",
   "execution_count": 69,
   "id": "53a4e7f9-72e3-496b-8175-c68e00fec974",
   "metadata": {},
   "outputs": [
    {
     "data": {
      "text/plain": [
       "0.6224042613954558"
      ]
     },
     "execution_count": 69,
     "metadata": {},
     "output_type": "execute_result"
    }
   ],
   "source": [
    "my_avg(qu)"
   ]
  },
  {
   "cell_type": "markdown",
   "id": "0d40513e-8d7b-4fc9-ab14-94daa411c9ad",
   "metadata": {},
   "source": [
    "So, which avg is correct?"
   ]
  },
  {
   "cell_type": "code",
   "execution_count": null,
   "id": "778f70de-9958-4055-b355-ebd21f681754",
   "metadata": {},
   "outputs": [],
   "source": []
  },
  {
   "cell_type": "code",
   "execution_count": null,
   "id": "c7375178-73a9-4356-8445-2b037476c4ff",
   "metadata": {},
   "outputs": [],
   "source": []
  },
  {
   "cell_type": "code",
   "execution_count": null,
   "id": "7b8ebdca-21cb-4ba9-af6e-9a1c8b741936",
   "metadata": {},
   "outputs": [],
   "source": []
  },
  {
   "cell_type": "code",
   "execution_count": null,
   "id": "15baf425-6473-4d56-a8fa-bf35b9bb5e34",
   "metadata": {},
   "outputs": [],
   "source": []
  },
  {
   "cell_type": "code",
   "execution_count": null,
   "id": "af6885e1-8fb5-40e9-8dd9-93c2cb961600",
   "metadata": {},
   "outputs": [],
   "source": []
  },
  {
   "cell_type": "code",
   "execution_count": null,
   "id": "a7957802-bb82-4598-a3e6-8d44bd05a588",
   "metadata": {},
   "outputs": [],
   "source": []
  },
  {
   "cell_type": "code",
   "execution_count": null,
   "id": "e2392c89-40e7-40d7-80a5-7c526bcdab16",
   "metadata": {},
   "outputs": [],
   "source": []
  },
  {
   "cell_type": "code",
   "execution_count": null,
   "id": "765206ec-ccf8-40a3-aceb-45b4fa9fbfbc",
   "metadata": {},
   "outputs": [],
   "source": []
  },
  {
   "cell_type": "code",
   "execution_count": null,
   "id": "50a3b377-59b2-401e-98ba-b8277bb18e16",
   "metadata": {},
   "outputs": [],
   "source": []
  }
 ],
 "metadata": {
  "kernelspec": {
   "display_name": "Python 3 (ipykernel)",
   "language": "python",
   "name": "python3"
  },
  "language_info": {
   "codemirror_mode": {
    "name": "ipython",
    "version": 3
   },
   "file_extension": ".py",
   "mimetype": "text/x-python",
   "name": "python",
   "nbconvert_exporter": "python",
   "pygments_lexer": "ipython3",
   "version": "3.8.19"
  }
 },
 "nbformat": 4,
 "nbformat_minor": 5
}
