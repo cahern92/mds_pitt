{
 "cells": [
  {
   "cell_type": "markdown",
   "id": "6227c834-b4eb-4842-96f6-2d85dcd0b94a",
   "metadata": {},
   "source": [
    "## CMPINF 2100 Week 02\n",
    "### Review Iteration with for-loops\n",
    "## Overview\n",
    "\n",
    "Review the basic structure for for-loops, focusing on\n",
    "* Indents and spacing\n",
    "* Iterating variable\n",
    "* Sequence\n",
    "* How the iterating variables change in the for-loop\n",
    "\n",
    "## For-loop"
   ]
  },
  {
   "cell_type": "code",
   "execution_count": 1,
   "id": "81b692c8-aa5c-41c3-a67d-842e1aeb6222",
   "metadata": {},
   "outputs": [
    {
     "name": "stdout",
     "output_type": "stream",
     "text": [
      "0\n",
      "1\n",
      "2\n",
      "3\n",
      "4\n",
      "5\n",
      "6\n"
     ]
    }
   ],
   "source": [
    "for n in range(7):\n",
    "    # inside the body of the for-loop\n",
    "    # actions occur for the CURRENT value of the iterating variable\n",
    "    print(n)"
   ]
  },
  {
   "cell_type": "code",
   "execution_count": 2,
   "id": "92587bc8-4351-4fdc-9f9a-22e5380f3338",
   "metadata": {},
   "outputs": [
    {
     "name": "stdout",
     "output_type": "stream",
     "text": [
      "0\n",
      "0\n",
      "1\n",
      "1\n",
      "2\n",
      "2\n",
      "3\n",
      "3\n",
      "4\n",
      "4\n",
      "5\n",
      "5\n",
      "6\n",
      "6\n",
      "6\n",
      "6000\n"
     ]
    }
   ],
   "source": [
    "for n in range(7):\n",
    "    # inside the body of the for-loop\n",
    "    # still inside the body \n",
    "    print(n)\n",
    "    # inside the body of the for-loop\n",
    "    print (n)\n",
    "# we are OUTSIDE the body of the for-loop\n",
    "# because we are not idented\n",
    "# that means we are NO LONGER iterating\n",
    "print(n)\n",
    "print(n*1000)"
   ]
  },
  {
   "cell_type": "code",
   "execution_count": 3,
   "id": "49338efe-d39c-4766-9433-ac5653587394",
   "metadata": {},
   "outputs": [
    {
     "ename": "IndentationError",
     "evalue": "expected an indented block (717919384.py, line 4)",
     "output_type": "error",
     "traceback": [
      "\u001b[0;36m  Cell \u001b[0;32mIn[3], line 4\u001b[0;36m\u001b[0m\n\u001b[0;31m    print(n2)\u001b[0m\n\u001b[0m    ^\u001b[0m\n\u001b[0;31mIndentationError\u001b[0m\u001b[0;31m:\u001b[0m expected an indented block\n"
     ]
    }
   ],
   "source": [
    "for n2 in range(7):\n",
    "    # inside the loop!\n",
    "### outside the loop\n",
    "print(n2)"
   ]
  },
  {
   "cell_type": "markdown",
   "id": "21fcbb72-ecdc-4df4-8df2-3bf432b14a96",
   "metadata": {},
   "source": [
    "You need to do something inside the loop to use a for-loop!"
   ]
  },
  {
   "cell_type": "code",
   "execution_count": 4,
   "id": "8722deb0-9f61-4adb-b6f9-3c1f970ddf6c",
   "metadata": {},
   "outputs": [
    {
     "name": "stdout",
     "output_type": "stream",
     "text": [
      "3\n",
      "3\n",
      "3\n",
      "3\n",
      "3\n",
      "3\n",
      "3\n",
      "6\n"
     ]
    }
   ],
   "source": [
    "for n2 in range(7):\n",
    "    # inside the loop!\n",
    "    print(3)\n",
    "### outside the loop\n",
    "print(n2)"
   ]
  },
  {
   "cell_type": "code",
   "execution_count": 6,
   "id": "d70d3925-7674-44aa-98ed-85688b26f3f6",
   "metadata": {},
   "outputs": [
    {
     "name": "stdout",
     "output_type": "stream",
     "text": [
      "Iterating variable value is: 0\n",
      "Iterating variable value is: 1\n",
      "Iterating variable value is: 2\n",
      "Iterating variable value is: 3\n",
      "Iterating variable value is: 4\n",
      "Iterating variable value is: 5\n",
      "Iterating variable value is: 6\n"
     ]
    }
   ],
   "source": [
    "for nn in range(7):\n",
    "    # inside the loop!\n",
    "    print(\"Iterating variable value is: %d\" % (nn))"
   ]
  },
  {
   "cell_type": "code",
   "execution_count": 7,
   "id": "2d5fce01-106b-4233-9e55-7b9d78162d5a",
   "metadata": {},
   "outputs": [
    {
     "name": "stdout",
     "output_type": "stream",
     "text": [
      "Variable   Type    Data/Info\n",
      "----------------------------\n",
      "n          int     6\n",
      "n2         int     6\n",
      "n3         int     6\n",
      "nn         int     6\n"
     ]
    }
   ],
   "source": [
    "%whos"
   ]
  },
  {
   "cell_type": "code",
   "execution_count": 9,
   "id": "db51ca70-6aca-4d6f-9177-c470eba954d3",
   "metadata": {},
   "outputs": [
    {
     "name": "stdout",
     "output_type": "stream",
     "text": [
      "Old iterating variable value, nn, is: 6 WHILE current iterating variable, mm, is 0\n",
      "Old iterating variable value, nn, is: 6 WHILE current iterating variable, mm, is 1\n",
      "Old iterating variable value, nn, is: 6 WHILE current iterating variable, mm, is 2\n",
      "Old iterating variable value, nn, is: 6 WHILE current iterating variable, mm, is 3\n",
      "Old iterating variable value, nn, is: 6 WHILE current iterating variable, mm, is 4\n",
      "Old iterating variable value, nn, is: 6 WHILE current iterating variable, mm, is 5\n",
      "Old iterating variable value, nn, is: 6 WHILE current iterating variable, mm, is 6\n"
     ]
    }
   ],
   "source": [
    "for mm in range(7):\n",
    "    # inside the loop!\n",
    "    print(\"Old iterating variable value, nn, is: %d WHILE current iterating variable, mm, is %d\" % (nn, mm))"
   ]
  },
  {
   "cell_type": "code",
   "execution_count": 10,
   "id": "22757f88-c03d-48d3-8de2-d7430fcfcf3d",
   "metadata": {},
   "outputs": [
    {
     "name": "stdout",
     "output_type": "stream",
     "text": [
      "6 + 6 + 0 = 12\n",
      "6 + 6 + 1 = 13\n",
      "6 + 6 + 2 = 14\n",
      "6 + 6 + 3 = 15\n",
      "6 + 6 + 4 = 16\n",
      "6 + 6 + 5 = 17\n",
      "6 + 6 + 6 = 18\n"
     ]
    }
   ],
   "source": [
    "for zz in range(7):\n",
    "    # inside the loop!\n",
    "    print(\"%d + %d + %d = %d\" % (nn, mm, zz, nn+mm+zz))"
   ]
  },
  {
   "cell_type": "markdown",
   "id": "12f69a88-214b-461f-a3f3-8ba77d37b963",
   "metadata": {},
   "source": [
    "## Nested for-loops\n",
    "\n",
    "We can iterate over 2 sequences at the same time! Nested for-loops consist of OUTER and INNER for-loops!!"
   ]
  },
  {
   "cell_type": "code",
   "execution_count": 11,
   "id": "6da32946-dbaf-425e-b7b4-df1c868bc671",
   "metadata": {},
   "outputs": [
    {
     "name": "stdout",
     "output_type": "stream",
     "text": [
      "Outer iteration number is: 0\n",
      "--##--\n",
      "Inner iteration number: 0\n",
      "Inner iteration number: 1\n",
      "Inner iteration number: 2\n",
      "Inner iteration number: 3\n",
      "Inner iteration number: 4\n",
      " -- $$ -- \n",
      "Outer iteration number is: 1\n",
      "--##--\n",
      "Inner iteration number: 0\n",
      "Inner iteration number: 1\n",
      "Inner iteration number: 2\n",
      "Inner iteration number: 3\n",
      "Inner iteration number: 4\n",
      " -- $$ -- \n",
      "Outer iteration number is: 2\n",
      "--##--\n",
      "Inner iteration number: 0\n",
      "Inner iteration number: 1\n",
      "Inner iteration number: 2\n",
      "Inner iteration number: 3\n",
      "Inner iteration number: 4\n",
      " -- $$ -- \n"
     ]
    }
   ],
   "source": [
    "for o1 in range(3):\n",
    "    # this is the outer for-loop\n",
    "    print(\"Outer iteration number is: %d\" % (o1))\n",
    "    print(\"--##--\")\n",
    "    for i1 in range(5):\n",
    "        # this is inside the inner for-loop\n",
    "        # looks like a further subsection because we are indented MORE!!\n",
    "        print(\"Inner iteration number: %d\" % (i1))\n",
    "    # we are BACK in outer for-loop!!\n",
    "    print(\" -- $$ -- \")\n",
    "    "
   ]
  },
  {
   "cell_type": "code",
   "execution_count": 12,
   "id": "cf17a225-1cfb-4779-a126-0835ce178202",
   "metadata": {},
   "outputs": [
    {
     "name": "stdout",
     "output_type": "stream",
     "text": [
      "Outer iteration number: 0\n",
      "\n",
      "\n",
      "\n",
      "\n",
      " -- $$ -- \n",
      "Outer iteration number: 1\n",
      "a\n",
      "b\n",
      "c\n",
      "d\n",
      " -- $$ -- \n",
      "Outer iteration number: 2\n",
      "aa\n",
      "bb\n",
      "cc\n",
      "dd\n",
      " -- $$ -- \n",
      "Outer iteration number: 3\n",
      "aaa\n",
      "bbb\n",
      "ccc\n",
      "ddd\n",
      " -- $$ -- \n",
      "Outer iteration number: 4\n",
      "aaaa\n",
      "bbbb\n",
      "cccc\n",
      "dddd\n",
      " -- $$ -- \n"
     ]
    }
   ],
   "source": [
    "for o2 in range(5):\n",
    "    # outer loop iterates an INTEGER\n",
    "    print(\"Outer iteration number: %d\" % (o2))\n",
    "    for i2 in ['a', 'b', 'c', 'd']:\n",
    "        #inner loop\n",
    "        print(o2*i2)\n",
    "    # back in outer loop\n",
    "    print(\" -- $$ -- \")"
   ]
  },
  {
   "cell_type": "code",
   "execution_count": 16,
   "id": "39018377-05d9-42bc-ad9b-90be5eb1799a",
   "metadata": {},
   "outputs": [
    {
     "name": "stdout",
     "output_type": "stream",
     "text": [
      "('a', 'AA', 'a AA a')\n",
      "('a', 'BB', 'a BB a')\n",
      "('a', 'CC', 'a CC a')\n",
      "('a', 'DD', 'a DD a')\n",
      "('b', 'AA', 'b AA b')\n",
      "('b', 'BB', 'b BB b')\n",
      "('b', 'CC', 'b CC b')\n",
      "('b', 'DD', 'b DD b')\n",
      "('c', 'AA', 'c AA c')\n",
      "('c', 'BB', 'c BB c')\n",
      "('c', 'CC', 'c CC c')\n",
      "('c', 'DD', 'c DD c')\n",
      "('d', 'AA', 'd AA d')\n",
      "('d', 'BB', 'd BB d')\n",
      "('d', 'CC', 'd CC d')\n",
      "('d', 'DD', 'd DD d')\n"
     ]
    }
   ],
   "source": [
    "for o3 in ['a', 'b', 'c', 'd']:\n",
    "    for i3 in ['AA', 'BB', 'CC', 'DD']:\n",
    "        print((o3, i3, o3+' '+i3+' '+o3))"
   ]
  },
  {
   "cell_type": "code",
   "execution_count": null,
   "id": "20e95ade-cd50-4448-b8bc-6fba5b20301b",
   "metadata": {},
   "outputs": [],
   "source": []
  },
  {
   "cell_type": "code",
   "execution_count": null,
   "id": "d664f433-8e5f-432a-a078-965b3b6af380",
   "metadata": {},
   "outputs": [],
   "source": []
  },
  {
   "cell_type": "code",
   "execution_count": null,
   "id": "21b3dcdf-49c4-4850-9a69-58e34296cf48",
   "metadata": {},
   "outputs": [],
   "source": []
  },
  {
   "cell_type": "code",
   "execution_count": null,
   "id": "86d6dc00-bb1e-4a2a-80f9-192a321ce685",
   "metadata": {},
   "outputs": [],
   "source": []
  },
  {
   "cell_type": "code",
   "execution_count": null,
   "id": "82179519-3b29-4da9-b874-5708158cdb43",
   "metadata": {},
   "outputs": [],
   "source": []
  },
  {
   "cell_type": "code",
   "execution_count": null,
   "id": "4bee9006-676f-4cb2-ade0-9bd2ea28b9da",
   "metadata": {},
   "outputs": [],
   "source": []
  },
  {
   "cell_type": "markdown",
   "id": "69edd9d2-3054-4d4d-aee6-f941bcf52202",
   "metadata": {},
   "source": []
  },
  {
   "cell_type": "code",
   "execution_count": 5,
   "id": "b32248d3-4446-4b94-a65a-e79eb6772dc2",
   "metadata": {},
   "outputs": [
    {
     "name": "stdout",
     "output_type": "stream",
     "text": [
      "6\n"
     ]
    }
   ],
   "source": [
    "for n3 in range(7):\n",
    "    # inside the loop!\n",
    "    n3+1\n",
    "    # simply adding a 1 to the iterating variable but NOT saving, defining, or printing it\n",
    "### outside the loop\n",
    "print(n3)"
   ]
  },
  {
   "cell_type": "code",
   "execution_count": null,
   "id": "777cd55b-0cd6-4cc6-affe-d093f1a8c5b4",
   "metadata": {},
   "outputs": [],
   "source": []
  }
 ],
 "metadata": {
  "kernelspec": {
   "display_name": "Python 3 (ipykernel)",
   "language": "python",
   "name": "python3"
  },
  "language_info": {
   "codemirror_mode": {
    "name": "ipython",
    "version": 3
   },
   "file_extension": ".py",
   "mimetype": "text/x-python",
   "name": "python",
   "nbconvert_exporter": "python",
   "pygments_lexer": "ipython3",
   "version": "3.8.19"
  }
 },
 "nbformat": 4,
 "nbformat_minor": 5
}
