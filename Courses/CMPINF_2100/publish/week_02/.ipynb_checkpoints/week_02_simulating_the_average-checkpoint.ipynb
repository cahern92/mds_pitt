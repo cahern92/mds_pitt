{
 "cells": [
  {
   "cell_type": "markdown",
   "id": "4d14bf62-ad91-4717-a458-053051dd3e23",
   "metadata": {},
   "source": [
    "## CMPINF 2100 Week 02\n",
    "### Simulating the Average\n",
    "## Overview\n",
    "\n",
    "We have used programming techniques to calc the avg of randomly generated sequences of numbers.\n",
    "\n",
    "We introduced the idea of WHICH AVERAGE is correct????\n",
    "\n",
    "But lets now dive deeper into this important question!\n",
    "\n",
    "## Import modules\n",
    "\n",
    "We have used the `random` module to generate random numbers using the `random.random()` function.\n",
    "\n",
    "But what exactly is the `random.random()` function doing???"
   ]
  },
  {
   "cell_type": "code",
   "execution_count": 2,
   "id": "a093e792-e6d5-4d4f-8463-aa43c26f97fa",
   "metadata": {},
   "outputs": [],
   "source": [
    "import random"
   ]
  },
  {
   "cell_type": "markdown",
   "id": "e62ed4ab-9725-4411-94cf-61dcb4ffbab7",
   "metadata": {},
   "source": [
    "We are going to also use `matplotlib.pyplot` to VISUALIZE the random numbers. This module has a REALLY long name. So instead of importing as it is..let's use an ALIAS!!!"
   ]
  },
  {
   "cell_type": "code",
   "execution_count": 3,
   "id": "7515bba6-1c90-4be0-b92f-e092158fc733",
   "metadata": {},
   "outputs": [],
   "source": [
    "import matplotlib.pyplot as plt"
   ]
  },
  {
   "cell_type": "code",
   "execution_count": 4,
   "id": "9c632186-d274-49e9-8eb4-b5c026a75db2",
   "metadata": {},
   "outputs": [
    {
     "name": "stdout",
     "output_type": "stream",
     "text": [
      "Variable   Type      Data/Info\n",
      "------------------------------\n",
      "plt        module    <module 'matplotlib.pyplo<...>es/matplotlib/pyplot.py'>\n",
      "random     module    <module 'random' from '/A<...>lib/python3.8/random.py'>\n"
     ]
    }
   ],
   "source": [
    "%whos"
   ]
  },
  {
   "cell_type": "markdown",
   "id": "118c9232-5ec3-4624-8e86-9bd2a64ed069",
   "metadata": {},
   "source": [
    "## Uniform random numbers\n",
    "\n",
    "The `random.random()` function generates random numbers UNIFORMLY between 0 and 1. But what does a UNIFORM DISTRIBUTION look like?"
   ]
  },
  {
   "cell_type": "code",
   "execution_count": 6,
   "id": "003e0b27-fbb9-42af-a2d3-e6286c65847e",
   "metadata": {},
   "outputs": [],
   "source": [
    "random.seed(2100)\n",
    "\n",
    "xu_1000 = [random.random() for _ in range(1000)]"
   ]
  },
  {
   "cell_type": "code",
   "execution_count": 7,
   "id": "16c65e37-1d20-41fa-bea2-261f104e9840",
   "metadata": {},
   "outputs": [
    {
     "data": {
      "text/plain": [
       "list"
      ]
     },
     "execution_count": 7,
     "metadata": {},
     "output_type": "execute_result"
    }
   ],
   "source": [
    "type(xu_1000)"
   ]
  },
  {
   "cell_type": "code",
   "execution_count": 9,
   "id": "81d7d378-b4e5-41f1-a590-460b9b8e850c",
   "metadata": {},
   "outputs": [
    {
     "data": {
      "text/plain": [
       "1000"
      ]
     },
     "execution_count": 9,
     "metadata": {},
     "output_type": "execute_result"
    }
   ],
   "source": [
    "len(xu_1000)"
   ]
  },
  {
   "cell_type": "code",
   "execution_count": 10,
   "id": "83ad635d-229e-4555-ba48-8cc432b4fce4",
   "metadata": {},
   "outputs": [
    {
     "data": {
      "text/plain": [
       "[0.764021138054951,\n",
       " 0.4692037101382426,\n",
       " 0.09010549233469012,\n",
       " 0.08980190601697957,\n",
       " 0.5561956463771123]"
      ]
     },
     "execution_count": 10,
     "metadata": {},
     "output_type": "execute_result"
    }
   ],
   "source": [
    "xu_1000[:5]"
   ]
  },
  {
   "cell_type": "markdown",
   "id": "2dfca4ac-e852-408a-b6ba-afc20d5cb8fb",
   "metadata": {},
   "source": [
    "Visualize the DISTRIBUTION using a HISTOGRAM!!! For now, a quick intro on a histogram is the HEIGHT of the VERTICAL BARS denote the COUNTS of obs in a small interval. \n",
    "\n",
    "The TALLER the bar, the more obs are located within that interval. Histograms allow us to SEE where obs are CONCENTRATED vs where they are NOT concentrated!!!"
   ]
  },
  {
   "cell_type": "code",
   "execution_count": 13,
   "id": "a2a8ede3-dbff-4a5e-a54b-24fbfbc9f3f1",
   "metadata": {},
   "outputs": [
    {
     "data": {
      "image/png": "[encoded data removed]",
      "text/plain": [
       "<Figure size 640x480 with 1 Axes>"
      ]
     },
     "metadata": {},
     "output_type": "display_data"
    }
   ],
   "source": [
    "plt.hist(xu_1000, bins=11)\n",
    "plt.xlabel('x')\n",
    "plt.ylabel('count')\n",
    "\n",
    "plt.show()"
   ]
  },
  {
   "cell_type": "markdown",
   "id": "9fa18f25-fa35-487f-a2cc-42a85da941fb",
   "metadata": {},
   "source": [
    "What if we generate 100000 random numbers instead of just 1000 random numbers?"
   ]
  },
  {
   "cell_type": "code",
   "execution_count": 14,
   "id": "b0d2b866-5362-44f8-9810-b2cd4aaeb78a",
   "metadata": {},
   "outputs": [
    {
     "data": {
      "image/png": "[encoded data removed]",
      "text/plain": [
       "<Figure size 640x480 with 1 Axes>"
      ]
     },
     "metadata": {},
     "output_type": "display_data"
    }
   ],
   "source": [
    "plt.hist([random.random() for _ in range(100000)])\n",
    "plt.xlabel('x')\n",
    "plt.ylabel('count')\n",
    "\n",
    "plt.show()"
   ]
  },
  {
   "cell_type": "markdown",
   "id": "7935980a-3fc6-4a8f-ad2e-60f29ca664c6",
   "metadata": {},
   "source": [
    "Average = Expected Value\n",
    "\n",
    "We expect to see them in the middle. You have an equal change of getting any of these values."
   ]
  },
  {
   "cell_type": "code",
   "execution_count": 15,
   "id": "c56589c8-530f-4cf4-aac9-30e25783367e",
   "metadata": {},
   "outputs": [],
   "source": [
    "def my_avg(x):\n",
    "    return sum(x)/len(x)"
   ]
  },
  {
   "cell_type": "code",
   "execution_count": 16,
   "id": "3f4d6185-71ab-4a85-ab53-030441aa5475",
   "metadata": {},
   "outputs": [
    {
     "data": {
      "text/plain": [
       "0.4997182669368152"
      ]
     },
     "execution_count": 16,
     "metadata": {},
     "output_type": "execute_result"
    }
   ],
   "source": [
    "my_avg([random.random() for _ in range(100000)])"
   ]
  },
  {
   "cell_type": "code",
   "execution_count": 17,
   "id": "e6d51dbe-4ddc-49f7-b594-d0df83e73c46",
   "metadata": {},
   "outputs": [
    {
     "data": {
      "text/plain": [
       "0.4997422726343657"
      ]
     },
     "execution_count": 17,
     "metadata": {},
     "output_type": "execute_result"
    }
   ],
   "source": [
    "random.seed(2100)\n",
    "\n",
    "my_avg([random.random() for _ in range(100000)])"
   ]
  },
  {
   "cell_type": "code",
   "execution_count": 20,
   "id": "cf3fef88-2661-4b54-a492-441fee6e1e49",
   "metadata": {},
   "outputs": [
    {
     "data": {
      "text/plain": [
       "0.4997825950409591"
      ]
     },
     "execution_count": 20,
     "metadata": {},
     "output_type": "execute_result"
    }
   ],
   "source": [
    "random.seed(2100)\n",
    "\n",
    "my_avg([random.random() for _ in range(1000000)])"
   ]
  },
  {
   "cell_type": "code",
   "execution_count": null,
   "id": "b9e7ee9d-c313-4017-89e3-3fdd1a1c85fa",
   "metadata": {},
   "outputs": [],
   "source": []
  },
  {
   "cell_type": "code",
   "execution_count": 21,
   "id": "07a666d2-e4e9-454f-afcb-1f0ea5ba6cb2",
   "metadata": {},
   "outputs": [
    {
     "data": {
      "text/plain": [
       "0.4998"
      ]
     },
     "execution_count": 21,
     "metadata": {},
     "output_type": "execute_result"
    }
   ],
   "source": [
    "random.seed(2100)\n",
    "\n",
    "round(my_avg([random.random() for _ in range(1000000)]), 4)"
   ]
  },
  {
   "cell_type": "markdown",
   "id": "8a61d4db-0c46-425f-9d49-7a125aa7df35",
   "metadata": {},
   "source": [
    "Instead of using 1 million obs, what if we could only collect 5 samples????"
   ]
  },
  {
   "cell_type": "code",
   "execution_count": 22,
   "id": "56f55393-13a3-4d8d-a087-c1b648594fad",
   "metadata": {},
   "outputs": [
    {
     "name": "stdout",
     "output_type": "stream",
     "text": [
      "0.3938655785843951\n",
      "0.5587010971306385\n",
      "0.5951333231565\n"
     ]
    }
   ],
   "source": [
    "random.seed(2100)\n",
    "\n",
    "print(my_avg([random.random() for _ in range(5)]))\n",
    "\n",
    "print(my_avg([random.random() for _ in range(5)]))\n",
    "\n",
    "print(my_avg([random.random() for _ in range(5)]))"
   ]
  },
  {
   "cell_type": "markdown",
   "id": "cb521298-6aa8-4a19-869c-61aa204a228f",
   "metadata": {},
   "source": [
    "Which of these 3 averages are CORRECT???"
   ]
  },
  {
   "cell_type": "code",
   "execution_count": 24,
   "id": "c62c2d87-44f9-4af4-a94e-a206cc1821bb",
   "metadata": {},
   "outputs": [
    {
     "name": "stdout",
     "output_type": "stream",
     "text": [
      "1.9693278929219755\n",
      "2.793505485653193\n"
     ]
    }
   ],
   "source": [
    "random.seed(2100)\n",
    "\n",
    "print(sum([random.random() for _ in range(5)]))\n",
    "\n",
    "print(sum([random.random() for _ in range(5)]))"
   ]
  },
  {
   "cell_type": "markdown",
   "id": "6b99e415-a391-4086-8dbb-55f9272bf53f",
   "metadata": {},
   "source": [
    "We have three different collections of 5 random numbers!!\n",
    "\n",
    "The SAMPLE avg will therefore be different!!!\n",
    "\n",
    "We are calc an ESTIMATE of the AVG based on FINITE sample size!!!\n",
    "\n",
    "The real question we should be asking if HOW CONFIDENT we are in that estimate!!!\n",
    "\n",
    "OR...what is the VARIABILITY of the estimate of the average?!?!?!?!?!\n",
    "\n",
    "## Simulate the variability of the avg\n",
    "\n",
    "Let's use our programming techniques from this week to study the variation of the sample average!\n",
    "\n",
    "Two major steps to study the variability of the average:\n",
    "* Generate a sequence of random numbers from an ASSUMED distribution\n",
    "* Calc the avg given that sequence"
   ]
  },
  {
   "cell_type": "code",
   "execution_count": 25,
   "id": "0c4217fc-774f-4daa-8c1a-0aec708d5082",
   "metadata": {},
   "outputs": [],
   "source": [
    "def gen_samples_calc_avg(N):\n",
    "    \"\"\"\n",
    "    Assume we are generating values from a UNIFORM distribution between 0 and 1\n",
    "    \"\"\"\n",
    "    return my_avg([random.random() for _ in range(N)])"
   ]
  },
  {
   "cell_type": "code",
   "execution_count": 28,
   "id": "afd3a2aa-de90-4496-8909-f23cdba76100",
   "metadata": {},
   "outputs": [
    {
     "data": {
      "text/plain": [
       "0.3938655785843951"
      ]
     },
     "execution_count": 28,
     "metadata": {},
     "output_type": "execute_result"
    }
   ],
   "source": [
    "random.seed(2100)\n",
    "\n",
    "gen_samples_calc_avg(5)"
   ]
  },
  {
   "cell_type": "code",
   "execution_count": 29,
   "id": "9fd3aa67-ec00-48f5-a421-9f6ea6695014",
   "metadata": {},
   "outputs": [
    {
     "name": "stdout",
     "output_type": "stream",
     "text": [
      "0.3938655785843951\n",
      "0.5587010971306385\n",
      "0.5951333231565\n"
     ]
    }
   ],
   "source": [
    "random.seed(2100)\n",
    "\n",
    "print(gen_samples_calc_avg(5))\n",
    "\n",
    "print(gen_samples_calc_avg(5))\n",
    "\n",
    "print(gen_samples_calc_avg(5))"
   ]
  },
  {
   "cell_type": "code",
   "execution_count": 30,
   "id": "2f7f4b8b-e319-4151-bb87-1f7698818e6c",
   "metadata": {},
   "outputs": [
    {
     "name": "stdout",
     "output_type": "stream",
     "text": [
      "0.3938655785843951\n",
      "0.5587010971306385\n",
      "0.5951333231565\n",
      "0.5048822650128671\n",
      "0.5505699823868078\n",
      "0.6109906176437405\n",
      "0.5327641794141614\n",
      "0.27536713011085057\n",
      "0.5458884102553585\n"
     ]
    }
   ],
   "source": [
    "random.seed(2100)\n",
    "\n",
    "print(gen_samples_calc_avg(5))\n",
    "\n",
    "print(gen_samples_calc_avg(5))\n",
    "\n",
    "print(gen_samples_calc_avg(5))\n",
    "\n",
    "print(gen_samples_calc_avg(5))\n",
    "\n",
    "print(gen_samples_calc_avg(5))\n",
    "\n",
    "print(gen_samples_calc_avg(5))\n",
    "\n",
    "print(gen_samples_calc_avg(5))\n",
    "\n",
    "print(gen_samples_calc_avg(5))\n",
    "\n",
    "print(gen_samples_calc_avg(5))"
   ]
  },
  {
   "cell_type": "markdown",
   "id": "0706e31d-abeb-4a64-9c03-efffd6f81489",
   "metadata": {},
   "source": [
    "Let's replicate calc the average from 5 random numbers...1000 times"
   ]
  },
  {
   "cell_type": "code",
   "execution_count": 34,
   "id": "fe572998-96cc-4b1a-bc34-f734fc449966",
   "metadata": {},
   "outputs": [],
   "source": [
    "random.seed(2100)\n",
    "\n",
    "xbar_sim_N05_R1000 = [ gen_samples_calc_avg(5) for _ in range(1000) ]"
   ]
  },
  {
   "cell_type": "code",
   "execution_count": 35,
   "id": "b5b69086-d480-4c25-b45b-824b2690e729",
   "metadata": {},
   "outputs": [
    {
     "data": {
      "text/plain": [
       "[0.3938655785843951,\n",
       " 0.5587010971306385,\n",
       " 0.5951333231565,\n",
       " 0.5048822650128671,\n",
       " 0.5505699823868078,\n",
       " 0.6109906176437405,\n",
       " 0.5327641794141614,\n",
       " 0.27536713011085057,\n",
       " 0.5458884102553585]"
      ]
     },
     "execution_count": 35,
     "metadata": {},
     "output_type": "execute_result"
    }
   ],
   "source": [
    "xbar_sim_N05_R1000[:9]"
   ]
  },
  {
   "cell_type": "markdown",
   "id": "6ab26c1e-1dc9-4b36-90d0-74d3cf895670",
   "metadata": {},
   "source": [
    "The `xbar_sim_N05_R1000` is a list of a list of SAMPLE avgs!!! \n",
    "\n",
    "Let's visualize the DISTRIBUTION of the sample avgs using a HISTOGRAM!!"
   ]
  },
  {
   "cell_type": "code",
   "execution_count": 37,
   "id": "eb3c3232-63c2-4998-9155-1cd984a10416",
   "metadata": {},
   "outputs": [
    {
     "data": {
      "image/png": "[encoded data removed]",
      "text/plain": [
       "<Figure size 640x480 with 1 Axes>"
      ]
     },
     "metadata": {},
     "output_type": "display_data"
    }
   ],
   "source": [
    "plt.hist(xbar_sim_N05_R1000, bins=11)\n",
    "plt.xlabel('xbar')\n",
    "plt.ylabel('count')\n",
    "plt.xlim(0,1)\n",
    "\n",
    "plt.show()"
   ]
  },
  {
   "cell_type": "markdown",
   "id": "c3603ed8-cc99-4aa5-b13d-70fd1294357f",
   "metadata": {},
   "source": [
    "^ BELL CURVE: Common values in middle and not common are on the sides"
   ]
  },
  {
   "cell_type": "code",
   "execution_count": 38,
   "id": "5355d5a7-db93-42b9-8c48-78db38aae440",
   "metadata": {},
   "outputs": [
    {
     "data": {
      "text/plain": [
       "0.502647095657702"
      ]
     },
     "execution_count": 38,
     "metadata": {},
     "output_type": "execute_result"
    }
   ],
   "source": [
    "my_avg(xbar_sim_N05_R1000)"
   ]
  },
  {
   "cell_type": "markdown",
   "id": "eca5c60f-0eee-4452-93bd-0afe8a867908",
   "metadata": {},
   "source": [
    "Let's repeat the process but this time use MORE REPLICATIONS!!\n",
    "\n",
    "Let's replicate 10000 times!!!!"
   ]
  },
  {
   "cell_type": "code",
   "execution_count": 39,
   "id": "7e9bc918-bee0-4633-be2a-968fa0a1eaa4",
   "metadata": {},
   "outputs": [],
   "source": [
    "random.seed(2100)\n",
    "\n",
    "xbar_sim_N05_R10000 = [ gen_samples_calc_avg(5) for _ in range(10000) ]"
   ]
  },
  {
   "cell_type": "code",
   "execution_count": 40,
   "id": "7eb36b02-918c-4c9a-b11e-dddab7b640b8",
   "metadata": {},
   "outputs": [
    {
     "data": {
      "text/plain": [
       "0.4991771248488468"
      ]
     },
     "execution_count": 40,
     "metadata": {},
     "output_type": "execute_result"
    }
   ],
   "source": [
    "my_avg(xbar_sim_N05_R10000)"
   ]
  },
  {
   "cell_type": "code",
   "execution_count": 41,
   "id": "f5af1757-a5b3-4f93-a0bf-32af6a7571a9",
   "metadata": {},
   "outputs": [
    {
     "data": {
      "image/png": "[encoded data removed]",
      "text/plain": [
       "<Figure size 640x480 with 1 Axes>"
      ]
     },
     "metadata": {},
     "output_type": "display_data"
    }
   ],
   "source": [
    "plt.hist(xbar_sim_N05_R10000, bins=11)\n",
    "plt.xlabel('xbar')\n",
    "plt.ylabel('count')\n",
    "plt.xlim(0,1)\n",
    "\n",
    "plt.show()"
   ]
  },
  {
   "cell_type": "markdown",
   "id": "69acd6b9-7449-4e2c-82a4-63bbf7c69a98",
   "metadata": {},
   "source": [
    "What if we replicated a SMALL number of times?!!!\n",
    "\n",
    "What if we replicaed calc avg of 5 numbers...just 11 times???"
   ]
  },
  {
   "cell_type": "code",
   "execution_count": 42,
   "id": "39f62aea-559c-4071-97f9-abf0fb51aba8",
   "metadata": {},
   "outputs": [],
   "source": [
    "random.seed(2100)\n",
    "\n",
    "xbar_sim_N05_R11 = [ gen_samples_calc_avg(5) for _ in range(11) ]"
   ]
  },
  {
   "cell_type": "code",
   "execution_count": 43,
   "id": "82d3db91-68c3-4f46-a25e-c2669301d2c4",
   "metadata": {},
   "outputs": [
    {
     "data": {
      "image/png": "[encoded data removed]",
      "text/plain": [
       "<Figure size 640x480 with 1 Axes>"
      ]
     },
     "metadata": {},
     "output_type": "display_data"
    }
   ],
   "source": [
    "plt.hist(xbar_sim_N05_R11, bins=11)\n",
    "plt.xlabel('xbar')\n",
    "plt.ylabel('count')\n",
    "plt.xlim(0,1)\n",
    "\n",
    "plt.show()"
   ]
  },
  {
   "cell_type": "markdown",
   "id": "5c392dc1-4b75-486f-a4cc-79b5f3e6411c",
   "metadata": {},
   "source": [
    "Let's study the DISTRIBUTION of the AVG based on NUMBER OF REPLICATIONS!!!"
   ]
  },
  {
   "cell_type": "code",
   "execution_count": 46,
   "id": "a001715f-909a-479f-99de-c4a77fa070c3",
   "metadata": {},
   "outputs": [],
   "source": [
    "num_replication = [ 5 * (2 ** ix) for ix in range(12)]"
   ]
  },
  {
   "cell_type": "code",
   "execution_count": 47,
   "id": "a207fba9-8b03-489f-abcc-31fe246d2c38",
   "metadata": {},
   "outputs": [
    {
     "data": {
      "text/plain": [
       "[5, 10, 20, 40, 80, 160, 320, 640, 1280, 2560, 5120, 10240]"
      ]
     },
     "execution_count": 47,
     "metadata": {},
     "output_type": "execute_result"
    }
   ],
   "source": [
    "num_replication"
   ]
  },
  {
   "cell_type": "markdown",
   "id": "281735d7-028d-4bff-94dd-a327abedb75e",
   "metadata": {},
   "source": [
    "We need to use a function to support our iteration efforst. We know how to use a for-loo, but the `enumerate()` function provides EXTRA capabilites for a for-loop."
   ]
  },
  {
   "cell_type": "code",
   "execution_count": 49,
   "id": "16b2dc32-c20a-42f3-a28f-652a202ce653",
   "metadata": {},
   "outputs": [
    {
     "name": "stdout",
     "output_type": "stream",
     "text": [
      "(0, 5)\n",
      "(1, 10)\n",
      "(2, 20)\n",
      "(3, 40)\n",
      "(4, 80)\n",
      "(5, 160)\n",
      "(6, 320)\n",
      "(7, 640)\n",
      "(8, 1280)\n",
      "(9, 2560)\n",
      "(10, 5120)\n",
      "(11, 10240)\n"
     ]
    }
   ],
   "source": [
    "\n",
    "\n",
    "for index_in_sequence, value_in_sequence in enumerate(num_replication):\n",
    "    print((index_in_sequence, value_in_sequence))"
   ]
  },
  {
   "cell_type": "code",
   "execution_count": 50,
   "id": "ddf56737-33fc-4364-8f8f-23716ffcf77a",
   "metadata": {},
   "outputs": [
    {
     "data": {
      "image/png": "[encoded data removed]",
      "text/plain": [
       "<Figure size 1200x600 with 12 Axes>"
      ]
     },
     "metadata": {},
     "output_type": "display_data"
    }
   ],
   "source": [
    "fix, axs = plt.subplots(2, 6, figsize=(12,6), sharex=True, sharey=False)\n",
    "\n",
    "axs = axs.ravel()\n",
    "\n",
    "for i, nr in enumerate(num_replication):\n",
    "    random.seed(2100)\n",
    "    axs[i].hist([gen_samples_calc_avg(5) for _ in range(nr)], density=False, bins=15)\n",
    "    axs[i].set_title('R: %d' % (nr))"
   ]
  },
  {
   "cell_type": "markdown",
   "id": "13df4577-dbb6-4d0d-b314-6699b46feced",
   "metadata": {},
   "source": [
    "The distribution of the AVG is CONVERGING to a BELL CURVE!!\n",
    "\n",
    "A Bell Curve is the common name of the Gaussian or NORMAL DISTRIBUTION!!!\n",
    "\n",
    "The distribution of the avg is converging to a NORMAL DISTRIBUTION!!!\n",
    "\n",
    "This is the CENTRAL LIMIT THEOREM (CLT)!!!!"
   ]
  },
  {
   "cell_type": "code",
   "execution_count": null,
   "id": "d1afd801-d532-465e-a65d-d38afb5be3f3",
   "metadata": {},
   "outputs": [],
   "source": []
  },
  {
   "cell_type": "code",
   "execution_count": null,
   "id": "06be3186-3308-4507-b886-89b2a417f89f",
   "metadata": {},
   "outputs": [],
   "source": []
  },
  {
   "cell_type": "code",
   "execution_count": null,
   "id": "bf8c610b-60f5-4b44-ae84-61236fea9de4",
   "metadata": {},
   "outputs": [],
   "source": []
  },
  {
   "cell_type": "code",
   "execution_count": null,
   "id": "e2415a28-473f-46d8-9482-d470dd001afa",
   "metadata": {},
   "outputs": [],
   "source": []
  },
  {
   "cell_type": "code",
   "execution_count": null,
   "id": "015f3c65-9f00-4523-b1eb-e9f0e30181b6",
   "metadata": {},
   "outputs": [],
   "source": []
  },
  {
   "cell_type": "code",
   "execution_count": null,
   "id": "ac3393ce-f085-40c2-a877-b0690274ce15",
   "metadata": {},
   "outputs": [],
   "source": []
  },
  {
   "cell_type": "code",
   "execution_count": null,
   "id": "9f7c27c3-4407-4f87-b1c6-5397934d35b2",
   "metadata": {},
   "outputs": [],
   "source": []
  },
  {
   "cell_type": "code",
   "execution_count": null,
   "id": "841ec6e2-623d-401a-8be2-75654e8b2b16",
   "metadata": {},
   "outputs": [],
   "source": []
  }
 ],
 "metadata": {
  "kernelspec": {
   "display_name": "Python 3 (ipykernel)",
   "language": "python",
   "name": "python3"
  },
  "language_info": {
   "codemirror_mode": {
    "name": "ipython",
    "version": 3
   },
   "file_extension": ".py",
   "mimetype": "text/x-python",
   "name": "python",
   "nbconvert_exporter": "python",
   "pygments_lexer": "ipython3",
   "version": "3.8.19"
  }
 },
 "nbformat": 4,
 "nbformat_minor": 5
}
