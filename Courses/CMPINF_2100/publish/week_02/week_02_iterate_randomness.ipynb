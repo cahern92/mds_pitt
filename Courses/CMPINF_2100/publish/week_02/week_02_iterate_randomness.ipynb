{
 "cells": [
  {
   "cell_type": "markdown",
   "id": "3eae3c76-52d2-4bdb-9a1f-1d485346bb32",
   "metadata": {},
   "source": [
    "## CMPINF 2100 Week 02\n",
    "### Calling multiple random numbers\n",
    "## Overview\n",
    "\n",
    "We know how to call or GENERATE random numbers using `random.random()`. We know how to organize values inside LISTS. We know how to ITERATE using for-loops and list comprehensions.\n",
    "\n",
    "Let's now bring together ALL of these aspects!!\n",
    "\n",
    "We will generate MULTIPLE random numbers OR we will generate SEQUENCES of random numbers!!\n",
    "\n",
    "## Import modules\n",
    "\n",
    "We need `random` module for this example."
   ]
  },
  {
   "cell_type": "code",
   "execution_count": 1,
   "id": "a264496d-749d-42a7-97ab-d8642cebbb3c",
   "metadata": {},
   "outputs": [],
   "source": [
    "import random"
   ]
  },
  {
   "cell_type": "markdown",
   "id": "2d7587e1-16f3-4f7d-bad7-4eba3284521f",
   "metadata": {},
   "source": [
    "## Call multiple random values\n",
    "We know that we can MANUALLY call `random.random()` many times!"
   ]
  },
  {
   "cell_type": "code",
   "execution_count": 4,
   "id": "3fa12e79-37ad-432b-b8f2-d07955582ebc",
   "metadata": {},
   "outputs": [
    {
     "name": "stdout",
     "output_type": "stream",
     "text": [
      "0.764021138054951\n",
      "0.4692037101382426\n",
      "0.09010549233469012\n"
     ]
    }
   ],
   "source": [
    "random.seed(2100)\n",
    "\n",
    "print(random.random())\n",
    "\n",
    "print(random.random())\n",
    "\n",
    "print(random.random())"
   ]
  },
  {
   "cell_type": "markdown",
   "id": "ad625f21-7528-4fa0-babd-7bc74191ad8d",
   "metadata": {},
   "source": [
    "We can store ranomd values as ENTRIES or FIELDS within lists!"
   ]
  },
  {
   "cell_type": "code",
   "execution_count": 5,
   "id": "b0bde856-d823-4861-bfd8-d424bb3274ee",
   "metadata": {},
   "outputs": [],
   "source": [
    "random.seed(2100)\n",
    "\n",
    "x_a = [random.random(), random.random(), random.random()]"
   ]
  },
  {
   "cell_type": "code",
   "execution_count": 6,
   "id": "b7995901-dfb9-4978-8748-77c44fdef18b",
   "metadata": {},
   "outputs": [
    {
     "name": "stdout",
     "output_type": "stream",
     "text": [
      "Variable   Type      Data/Info\n",
      "------------------------------\n",
      "random     module    <module 'random' from '/A<...>lib/python3.8/random.py'>\n",
      "x_a        list      n=3\n"
     ]
    }
   ],
   "source": [
    "%whos"
   ]
  },
  {
   "cell_type": "code",
   "execution_count": 7,
   "id": "1986fc1f-8657-45a6-b4b0-535b8914bfc8",
   "metadata": {},
   "outputs": [
    {
     "data": {
      "text/plain": [
       "[0.764021138054951, 0.4692037101382426, 0.09010549233469012]"
      ]
     },
     "execution_count": 7,
     "metadata": {},
     "output_type": "execute_result"
    }
   ],
   "source": [
    "x_a"
   ]
  },
  {
   "cell_type": "markdown",
   "id": "532094a4-8362-482a-a162-9c101ab089a7",
   "metadata": {},
   "source": [
    "Generating 1000 random numbers would mean we would need ot manually type `random.random()` 1000 times!!!\n",
    "\n",
    "We can use ITERATION to save the day!!"
   ]
  },
  {
   "cell_type": "code",
   "execution_count": 9,
   "id": "105df7b2-9885-4210-a9dd-38a99ee8e06e",
   "metadata": {},
   "outputs": [
    {
     "name": "stdout",
     "output_type": "stream",
     "text": [
      "0.764021138054951\n",
      "0.4692037101382426\n",
      "0.09010549233469012\n"
     ]
    }
   ],
   "source": [
    "random.seed(2100)\n",
    "\n",
    "for n in range(3):\n",
    "    print(random.random())"
   ]
  },
  {
   "cell_type": "code",
   "execution_count": 10,
   "id": "2168ae0f-1804-4998-98bc-26d424dc4299",
   "metadata": {},
   "outputs": [
    {
     "name": "stdout",
     "output_type": "stream",
     "text": [
      "0.764021138054951\n",
      "0.4692037101382426\n",
      "0.09010549233469012\n",
      "0.08980190601697957\n",
      "0.5561956463771123\n",
      "0.41097303757112746\n",
      "0.6979324821652212\n",
      "0.9157019989699348\n",
      "0.06734286989910154\n",
      "0.7015550970478079\n",
      "0.11078753610950587\n",
      "0.9379189789375049\n",
      "0.2987506098933619\n",
      "0.7342115932077558\n",
      "0.8939978976343719\n"
     ]
    }
   ],
   "source": [
    "random.seed(2100)\n",
    "\n",
    "for n in range(15):\n",
    "    print(random.random())"
   ]
  },
  {
   "cell_type": "markdown",
   "id": "d7b0824e-41d6-4dbc-9387-225ae9a5536e",
   "metadata": {},
   "source": [
    "But the above example does NOT save or store the random numbers!!\n",
    "\n",
    "How can we store the results into a LIST?\n",
    "\n",
    "We need to INITIALIZE the list!! Or we need to create a list to assign values to!"
   ]
  },
  {
   "cell_type": "code",
   "execution_count": 12,
   "id": "4bc5f7ca-4c51-4dd3-a009-0ebcb4624d5a",
   "metadata": {},
   "outputs": [],
   "source": [
    "xu = []"
   ]
  },
  {
   "cell_type": "code",
   "execution_count": 13,
   "id": "f2b9b0e5-ada7-46a7-9004-4c9f011899ec",
   "metadata": {},
   "outputs": [
    {
     "data": {
      "text/plain": [
       "['__add__',\n",
       " '__class__',\n",
       " '__contains__',\n",
       " '__delattr__',\n",
       " '__delitem__',\n",
       " '__dir__',\n",
       " '__doc__',\n",
       " '__eq__',\n",
       " '__format__',\n",
       " '__ge__',\n",
       " '__getattribute__',\n",
       " '__getitem__',\n",
       " '__gt__',\n",
       " '__hash__',\n",
       " '__iadd__',\n",
       " '__imul__',\n",
       " '__init__',\n",
       " '__init_subclass__',\n",
       " '__iter__',\n",
       " '__le__',\n",
       " '__len__',\n",
       " '__lt__',\n",
       " '__mul__',\n",
       " '__ne__',\n",
       " '__new__',\n",
       " '__reduce__',\n",
       " '__reduce_ex__',\n",
       " '__repr__',\n",
       " '__reversed__',\n",
       " '__rmul__',\n",
       " '__setattr__',\n",
       " '__setitem__',\n",
       " '__sizeof__',\n",
       " '__str__',\n",
       " '__subclasshook__',\n",
       " 'append',\n",
       " 'clear',\n",
       " 'copy',\n",
       " 'count',\n",
       " 'extend',\n",
       " 'index',\n",
       " 'insert',\n",
       " 'pop',\n",
       " 'remove',\n",
       " 'reverse',\n",
       " 'sort']"
      ]
     },
     "execution_count": 13,
     "metadata": {},
     "output_type": "execute_result"
    }
   ],
   "source": [
    "dir(xu)"
   ]
  },
  {
   "cell_type": "markdown",
   "id": "ef981c69-1b17-4431-8208-7f2b74c7106c",
   "metadata": {},
   "source": [
    "Let's use APPEND method to add new elements to the list!"
   ]
  },
  {
   "cell_type": "code",
   "execution_count": 14,
   "id": "7ce31bd9-c2d8-42cd-8856-40a811b4937b",
   "metadata": {},
   "outputs": [],
   "source": [
    "random.seed(2100)\n",
    "\n",
    "for n in range(3):\n",
    "    xu.append(random.random())"
   ]
  },
  {
   "cell_type": "code",
   "execution_count": 15,
   "id": "1442f6db-7f9b-4441-be99-20ca51c21a26",
   "metadata": {},
   "outputs": [
    {
     "data": {
      "text/plain": [
       "[0.764021138054951, 0.4692037101382426, 0.09010549233469012]"
      ]
     },
     "execution_count": 15,
     "metadata": {},
     "output_type": "execute_result"
    }
   ],
   "source": [
    "xu"
   ]
  },
  {
   "cell_type": "markdown",
   "id": "09e1a19a-d12c-4479-a729-ba8a9d3920a8",
   "metadata": {},
   "source": [
    "Let's repeat these steps MANUALLY just to show what happened at each iteration of the for-loop!"
   ]
  },
  {
   "cell_type": "code",
   "execution_count": 22,
   "id": "e531e1c0-4131-4cd9-8a0f-13c6e864de59",
   "metadata": {},
   "outputs": [
    {
     "name": "stdout",
     "output_type": "stream",
     "text": [
      "[]\n"
     ]
    }
   ],
   "source": [
    "xu_b = []\n",
    "\n",
    "print(xu_b)"
   ]
  },
  {
   "cell_type": "code",
   "execution_count": 23,
   "id": "e2662fad-1310-408b-94d8-c291c828cc89",
   "metadata": {},
   "outputs": [],
   "source": [
    "random.seed(2100)\n",
    "\n",
    "xu_b.append(random.random())"
   ]
  },
  {
   "cell_type": "code",
   "execution_count": 24,
   "id": "34234d8f-38f9-48f4-b618-aa23cb9dde2f",
   "metadata": {},
   "outputs": [
    {
     "data": {
      "text/plain": [
       "[0.764021138054951]"
      ]
     },
     "execution_count": 24,
     "metadata": {},
     "output_type": "execute_result"
    }
   ],
   "source": [
    "xu_b"
   ]
  },
  {
   "cell_type": "code",
   "execution_count": 25,
   "id": "422931fa-b0c4-4cac-b26b-403c306c7d5a",
   "metadata": {},
   "outputs": [],
   "source": [
    "xu_b.append(random.random())"
   ]
  },
  {
   "cell_type": "code",
   "execution_count": 26,
   "id": "e8e9c7d3-5ce6-4ba1-91a7-18baa20c2372",
   "metadata": {},
   "outputs": [
    {
     "data": {
      "text/plain": [
       "[0.764021138054951, 0.4692037101382426]"
      ]
     },
     "execution_count": 26,
     "metadata": {},
     "output_type": "execute_result"
    }
   ],
   "source": [
    "xu_b"
   ]
  },
  {
   "cell_type": "code",
   "execution_count": 27,
   "id": "cc0a9346-9947-4e01-82b3-fc5b219dc0cb",
   "metadata": {},
   "outputs": [],
   "source": [
    "xu_b.append(random.random())"
   ]
  },
  {
   "cell_type": "code",
   "execution_count": 28,
   "id": "8fddf979-248f-4815-9dde-7dfb8362a9a3",
   "metadata": {},
   "outputs": [
    {
     "data": {
      "text/plain": [
       "[0.764021138054951, 0.4692037101382426, 0.09010549233469012]"
      ]
     },
     "execution_count": 28,
     "metadata": {},
     "output_type": "execute_result"
    }
   ],
   "source": [
    "xu_b"
   ]
  },
  {
   "cell_type": "markdown",
   "id": "da5b6edf-b71a-4064-9bfc-9467e1fbb51a",
   "metadata": {},
   "source": [
    "Let's now iterate 11 times!!"
   ]
  },
  {
   "cell_type": "code",
   "execution_count": 29,
   "id": "8fefffa3-fa8e-45f9-b40d-cc186171f4a5",
   "metadata": {},
   "outputs": [],
   "source": [
    "xu_c = []\n",
    "\n",
    "random.seed(2100)\n",
    "\n",
    "for n in range(11):\n",
    "    xu_c.append(random.random())"
   ]
  },
  {
   "cell_type": "code",
   "execution_count": 30,
   "id": "aac3382f-b96b-4475-88cb-7867cc5e56d2",
   "metadata": {},
   "outputs": [
    {
     "data": {
      "text/plain": [
       "[0.764021138054951,\n",
       " 0.4692037101382426,\n",
       " 0.09010549233469012,\n",
       " 0.08980190601697957,\n",
       " 0.5561956463771123,\n",
       " 0.41097303757112746,\n",
       " 0.6979324821652212,\n",
       " 0.9157019989699348,\n",
       " 0.06734286989910154,\n",
       " 0.7015550970478079,\n",
       " 0.11078753610950587]"
      ]
     },
     "execution_count": 30,
     "metadata": {},
     "output_type": "execute_result"
    }
   ],
   "source": [
    "xu_c"
   ]
  },
  {
   "cell_type": "code",
   "execution_count": 32,
   "id": "538815fb-21d5-48fe-a180-914900cad0d3",
   "metadata": {},
   "outputs": [
    {
     "name": "stdout",
     "output_type": "stream",
     "text": [
      "Before appending, the list has length: 0\n",
      "After appending, the list has length: 1\n",
      " -- $$ -- \n",
      "Before appending, the list has length: 1\n",
      "After appending, the list has length: 2\n",
      " -- $$ -- \n",
      "Before appending, the list has length: 2\n",
      "After appending, the list has length: 3\n",
      " -- $$ -- \n",
      "Before appending, the list has length: 3\n",
      "After appending, the list has length: 4\n",
      " -- $$ -- \n",
      "Before appending, the list has length: 4\n",
      "After appending, the list has length: 5\n",
      " -- $$ -- \n",
      "Before appending, the list has length: 5\n",
      "After appending, the list has length: 6\n",
      " -- $$ -- \n",
      "Before appending, the list has length: 6\n",
      "After appending, the list has length: 7\n",
      " -- $$ -- \n",
      "Before appending, the list has length: 7\n",
      "After appending, the list has length: 8\n",
      " -- $$ -- \n",
      "Before appending, the list has length: 8\n",
      "After appending, the list has length: 9\n",
      " -- $$ -- \n",
      "Before appending, the list has length: 9\n",
      "After appending, the list has length: 10\n",
      " -- $$ -- \n",
      "Before appending, the list has length: 10\n",
      "After appending, the list has length: 11\n",
      " -- $$ -- \n"
     ]
    }
   ],
   "source": [
    "xu_d = []\n",
    "\n",
    "random.seed(2100)\n",
    "\n",
    "for n in range(11):\n",
    "    print(\"Before appending, the list has length: %d\" % (len(xu_d)))\n",
    "    xu_d.append(random.random())\n",
    "    print(\"After appending, the list has length: %d\" % (len(xu_d)))\n",
    "    print(\" -- $$ -- \")"
   ]
  },
  {
   "cell_type": "markdown",
   "id": "188ebfe2-ec95-4489-8da2-ca73686c9587",
   "metadata": {},
   "source": [
    "The for-loop streamlined calling or GENERATING many random numbers!!!\n",
    "\n",
    "But the for-loop has one major downside!!!\n",
    "\n",
    "What if we forget to initialize the list before running the for-loop!!"
   ]
  },
  {
   "cell_type": "code",
   "execution_count": 33,
   "id": "f71c6a3c-1eb5-4782-a132-2af0ec52f3d8",
   "metadata": {},
   "outputs": [
    {
     "ename": "NameError",
     "evalue": "name 'y' is not defined",
     "output_type": "error",
     "traceback": [
      "\u001b[0;31m---------------------------------------------------------------------------\u001b[0m",
      "\u001b[0;31mNameError\u001b[0m                                 Traceback (most recent call last)",
      "Cell \u001b[0;32mIn[33], line 4\u001b[0m\n\u001b[1;32m      1\u001b[0m random\u001b[38;5;241m.\u001b[39mseed(\u001b[38;5;241m2100\u001b[39m)\n\u001b[1;32m      3\u001b[0m \u001b[38;5;28;01mfor\u001b[39;00m n \u001b[38;5;129;01min\u001b[39;00m \u001b[38;5;28mrange\u001b[39m(\u001b[38;5;241m11\u001b[39m):\n\u001b[0;32m----> 4\u001b[0m     \u001b[43my\u001b[49m\u001b[38;5;241m.\u001b[39mappend(random\u001b[38;5;241m.\u001b[39mrandom())\n",
      "\u001b[0;31mNameError\u001b[0m: name 'y' is not defined"
     ]
    }
   ],
   "source": [
    "random.seed(2100)\n",
    "\n",
    "for n in range(11):\n",
    "    y.append(random.random())"
   ]
  },
  {
   "cell_type": "markdown",
   "id": "1057389e-98e1-44cd-afcd-500a6ecec597",
   "metadata": {},
   "source": [
    "## List Comprehensions\n",
    "\n",
    "The list comprehension is a streamlined way of managing iterating.\n",
    "\n",
    "List comprehensions require that we completely understand the 3 basic elements of iteration:\n",
    "* The action to repeat\n",
    "* The iterating variable that changes\n",
    "* The sequence to itereate over\n",
    "\n",
    "In code, the syntax is:\n",
    "\n",
    "`<output list> = [ <action> for <variables> in <sequence>]`\n",
    "\n",
    "What is the ACTION we are repeating??? We are calling `random.random()` many times!\n",
    "\n",
    "The iterating variable that changes? It is `n`\n",
    "\n",
    "What is our sequence? The sequence is generated by `range()`!!"
   ]
  },
  {
   "cell_type": "code",
   "execution_count": 45,
   "id": "6c8b74f1-dc82-4a46-819a-221e0cf6db4f",
   "metadata": {},
   "outputs": [],
   "source": [
    "random.seed(2100)\n",
    "\n",
    "y = [random.random() for _ in range(11)]"
   ]
  },
  {
   "cell_type": "code",
   "execution_count": 46,
   "id": "ffda2aba-383d-4697-8264-624e85c6fcec",
   "metadata": {},
   "outputs": [
    {
     "data": {
      "text/plain": [
       "11"
      ]
     },
     "execution_count": 46,
     "metadata": {},
     "output_type": "execute_result"
    }
   ],
   "source": [
    "len(y)"
   ]
  },
  {
   "cell_type": "code",
   "execution_count": 47,
   "id": "fcc38032-79e0-4347-8cf2-71696a83833e",
   "metadata": {},
   "outputs": [
    {
     "data": {
      "text/plain": [
       "[0.764021138054951,\n",
       " 0.4692037101382426,\n",
       " 0.09010549233469012,\n",
       " 0.08980190601697957,\n",
       " 0.5561956463771123,\n",
       " 0.41097303757112746,\n",
       " 0.6979324821652212,\n",
       " 0.9157019989699348,\n",
       " 0.06734286989910154,\n",
       " 0.7015550970478079,\n",
       " 0.11078753610950587]"
      ]
     },
     "execution_count": 47,
     "metadata": {},
     "output_type": "execute_result"
    }
   ],
   "source": [
    "y"
   ]
  },
  {
   "cell_type": "markdown",
   "id": "a9167530-8f42-40da-a9e9-c8962fbbc67b",
   "metadata": {},
   "source": [
    "The iterating variable is not really important in our current application. More often than not, the itereating varibale IS important. But when it is not needed, a common practive is to use the UNDERSCORE, `_`, as the iterating variable."
   ]
  },
  {
   "cell_type": "code",
   "execution_count": 48,
   "id": "c8825c19-b894-4ad8-b63c-19197be5dd26",
   "metadata": {},
   "outputs": [
    {
     "name": "stdout",
     "output_type": "stream",
     "text": [
      "Variable   Type      Data/Info\n",
      "------------------------------\n",
      "n          int       0\n",
      "random     module    <module 'random' from '/A<...>lib/python3.8/random.py'>\n",
      "x_a        list      n=3\n",
      "x_b        list      n=3\n",
      "xu         list      n=3\n",
      "xu_b       list      n=3\n",
      "xu_c       list      n=11\n",
      "xu_d       list      n=11\n",
      "y          list      n=11\n"
     ]
    }
   ],
   "source": [
    "%whos"
   ]
  },
  {
   "cell_type": "code",
   "execution_count": null,
   "id": "2aa39e98-01d6-4346-b126-12b296ffc1f9",
   "metadata": {},
   "outputs": [],
   "source": []
  },
  {
   "cell_type": "code",
   "execution_count": null,
   "id": "bc058e54-32dd-4afa-ae6e-b7075e4fea47",
   "metadata": {},
   "outputs": [],
   "source": []
  },
  {
   "cell_type": "code",
   "execution_count": null,
   "id": "fd88b365-9e6f-45a4-81d1-58f5f73de1cc",
   "metadata": {},
   "outputs": [],
   "source": []
  },
  {
   "cell_type": "code",
   "execution_count": null,
   "id": "092ee69f-8acd-4bab-9a2b-622ed41e7ba0",
   "metadata": {},
   "outputs": [],
   "source": []
  }
 ],
 "metadata": {
  "kernelspec": {
   "display_name": "Python 3 (ipykernel)",
   "language": "python",
   "name": "python3"
  },
  "language_info": {
   "codemirror_mode": {
    "name": "ipython",
    "version": 3
   },
   "file_extension": ".py",
   "mimetype": "text/x-python",
   "name": "python",
   "nbconvert_exporter": "python",
   "pygments_lexer": "ipython3",
   "version": "3.8.19"
  }
 },
 "nbformat": 4,
 "nbformat_minor": 5
}
