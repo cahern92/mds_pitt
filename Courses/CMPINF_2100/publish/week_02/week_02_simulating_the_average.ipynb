{
 "cells": [
  {
   "cell_type": "markdown",
   "id": "4d14bf62-ad91-4717-a458-053051dd3e23",
   "metadata": {},
   "source": [
    "## CMPINF 2100 Week 02\n",
    "### Simulating the Average\n",
    "## Overview\n",
    "\n",
    "We have used programming techniques to calc the avg of randomly generated sequences of numbers.\n",
    "\n",
    "We introduced the idea of WHICH AVERAGE is correct????\n",
    "\n",
    "But lets now dive deeper into this important question!\n",
    "\n",
    "## Import modules\n",
    "\n",
    "We have used the `random` module to generate random numbers using the `random.random()` function.\n",
    "\n",
    "But what exactly is the `random.random()` function doing???"
   ]
  },
  {
   "cell_type": "code",
   "execution_count": 1,
   "id": "a093e792-e6d5-4d4f-8463-aa43c26f97fa",
   "metadata": {},
   "outputs": [],
   "source": [
    "import random"
   ]
  },
  {
   "cell_type": "markdown",
   "id": "e62ed4ab-9725-4411-94cf-61dcb4ffbab7",
   "metadata": {},
   "source": [
    "We are going to also use `matplotlib.pyplot` to VISUALIZE the random numbers. This module has a REALLY long name. So instead of importing as it is..let's use an ALIAS!!!"
   ]
  },
  {
   "cell_type": "code",
   "execution_count": 2,
   "id": "7515bba6-1c90-4be0-b92f-e092158fc733",
   "metadata": {},
   "outputs": [],
   "source": [
    "import matplotlib.pyplot as plt"
   ]
  },
  {
   "cell_type": "code",
   "execution_count": 3,
   "id": "9c632186-d274-49e9-8eb4-b5c026a75db2",
   "metadata": {},
   "outputs": [
    {
     "name": "stdout",
     "output_type": "stream",
     "text": [
      "Variable   Type      Data/Info\n",
      "------------------------------\n",
      "plt        module    <module 'matplotlib.pyplo<...>es/matplotlib/pyplot.py'>\n",
      "random     module    <module 'random' from '/A<...>lib/python3.8/random.py'>\n"
     ]
    }
   ],
   "source": [
    "%whos"
   ]
  },
  {
   "cell_type": "markdown",
   "id": "118c9232-5ec3-4624-8e86-9bd2a64ed069",
   "metadata": {},
   "source": [
    "## Uniform random numbers\n",
    "\n",
    "The `random.random()` function generates random numbers UNIFORMLY between 0 and 1. But what does a UNIFORM DISTRIBUTION look like?"
   ]
  },
  {
   "cell_type": "code",
   "execution_count": 4,
   "id": "003e0b27-fbb9-42af-a2d3-e6286c65847e",
   "metadata": {},
   "outputs": [],
   "source": [
    "random.seed(2100)\n",
    "\n",
    "xu_1000 = [random.random() for _ in range(1000)]"
   ]
  },
  {
   "cell_type": "code",
   "execution_count": 5,
   "id": "16c65e37-1d20-41fa-bea2-261f104e9840",
   "metadata": {},
   "outputs": [
    {
     "data": {
      "text/plain": [
       "list"
      ]
     },
     "execution_count": 5,
     "metadata": {},
     "output_type": "execute_result"
    }
   ],
   "source": [
    "type(xu_1000)"
   ]
  },
  {
   "cell_type": "code",
   "execution_count": 6,
   "id": "81d7d378-b4e5-41f1-a590-460b9b8e850c",
   "metadata": {},
   "outputs": [
    {
     "data": {
      "text/plain": [
       "1000"
      ]
     },
     "execution_count": 6,
     "metadata": {},
     "output_type": "execute_result"
    }
   ],
   "source": [
    "len(xu_1000)"
   ]
  },
  {
   "cell_type": "code",
   "execution_count": 7,
   "id": "83ad635d-229e-4555-ba48-8cc432b4fce4",
   "metadata": {},
   "outputs": [
    {
     "data": {
      "text/plain": [
       "[0.764021138054951,\n",
       " 0.4692037101382426,\n",
       " 0.09010549233469012,\n",
       " 0.08980190601697957,\n",
       " 0.5561956463771123]"
      ]
     },
     "execution_count": 7,
     "metadata": {},
     "output_type": "execute_result"
    }
   ],
   "source": [
    "xu_1000[:5]"
   ]
  },
  {
   "cell_type": "markdown",
   "id": "2dfca4ac-e852-408a-b6ba-afc20d5cb8fb",
   "metadata": {},
   "source": [
    "Visualize the DISTRIBUTION using a HISTOGRAM!!! For now, a quick intro on a histogram is the HEIGHT of the VERTICAL BARS denote the COUNTS of obs in a small interval. \n",
    "\n",
    "The TALLER the bar, the more obs are located within that interval. Histograms allow us to SEE where obs are CONCENTRATED vs where they are NOT concentrated!!!"
   ]
  },
  {
   "cell_type": "code",
   "execution_count": 8,
   "id": "a2a8ede3-dbff-4a5e-a54b-24fbfbc9f3f1",
   "metadata": {},
   "outputs": [
    {
     "data": {
      "image/png": "[encoded data removed]",
      "text/plain": [
       "<Figure size 640x480 with 1 Axes>"
      ]
     },
     "metadata": {},
     "output_type": "display_data"
    }
   ],
   "source": [
    "plt.hist(xu_1000, bins=11)\n",
    "plt.xlabel('x')\n",
    "plt.ylabel('count')\n",
    "\n",
    "plt.show()"
   ]
  },
  {
   "cell_type": "markdown",
   "id": "9fa18f25-fa35-487f-a2cc-42a85da941fb",
   "metadata": {},
   "source": [
    "What if we generate 100000 random numbers instead of just 1000 random numbers?"
   ]
  },
  {
   "cell_type": "code",
   "execution_count": 9,
   "id": "b0d2b866-5362-44f8-9810-b2cd4aaeb78a",
   "metadata": {},
   "outputs": [
    {
     "data": {
      "image/png": "[encoded data removed]",
      "text/plain": [
       "<Figure size 640x480 with 1 Axes>"
      ]
     },
     "metadata": {},
     "output_type": "display_data"
    }
   ],
   "source": [
    "plt.hist([random.random() for _ in range(100000)])\n",
    "plt.xlabel('x')\n",
    "plt.ylabel('count')\n",
    "\n",
    "plt.show()"
   ]
  },
  {
   "cell_type": "markdown",
   "id": "7935980a-3fc6-4a8f-ad2e-60f29ca664c6",
   "metadata": {},
   "source": [
    "Average = Expected Value\n",
    "\n",
    "We expect to see them in the middle. You have an equal change of getting any of these values."
   ]
  },
  {
   "cell_type": "code",
   "execution_count": 10,
   "id": "c56589c8-530f-4cf4-aac9-30e25783367e",
   "metadata": {},
   "outputs": [],
   "source": [
    "def my_avg(x):\n",
    "    return sum(x)/len(x)"
   ]
  },
  {
   "cell_type": "code",
   "execution_count": 11,
   "id": "3f4d6185-71ab-4a85-ab53-030441aa5475",
   "metadata": {},
   "outputs": [
    {
     "data": {
      "text/plain": [
       "0.4997182669368152"
      ]
     },
     "execution_count": 11,
     "metadata": {},
     "output_type": "execute_result"
    }
   ],
   "source": [
    "my_avg([random.random() for _ in range(100000)])"
   ]
  },
  {
   "cell_type": "code",
   "execution_count": 12,
   "id": "e6d51dbe-4ddc-49f7-b594-d0df83e73c46",
   "metadata": {},
   "outputs": [
    {
     "data": {
      "text/plain": [
       "0.4997422726343657"
      ]
     },
     "execution_count": 12,
     "metadata": {},
     "output_type": "execute_result"
    }
   ],
   "source": [
    "random.seed(2100)\n",
    "\n",
    "my_avg([random.random() for _ in range(100000)])"
   ]
  },
  {
   "cell_type": "code",
   "execution_count": 13,
   "id": "cf3fef88-2661-4b54-a492-441fee6e1e49",
   "metadata": {},
   "outputs": [
    {
     "data": {
      "text/plain": [
       "0.4997825950409591"
      ]
     },
     "execution_count": 13,
     "metadata": {},
     "output_type": "execute_result"
    }
   ],
   "source": [
    "random.seed(2100)\n",
    "\n",
    "my_avg([random.random() for _ in range(1000000)])"
   ]
  },
  {
   "cell_type": "code",
   "execution_count": null,
   "id": "b9e7ee9d-c313-4017-89e3-3fdd1a1c85fa",
   "metadata": {},
   "outputs": [],
   "source": []
  },
  {
   "cell_type": "code",
   "execution_count": 14,
   "id": "07a666d2-e4e9-454f-afcb-1f0ea5ba6cb2",
   "metadata": {},
   "outputs": [
    {
     "data": {
      "text/plain": [
       "0.4998"
      ]
     },
     "execution_count": 14,
     "metadata": {},
     "output_type": "execute_result"
    }
   ],
   "source": [
    "random.seed(2100)\n",
    "\n",
    "round(my_avg([random.random() for _ in range(1000000)]), 4)"
   ]
  },
  {
   "cell_type": "markdown",
   "id": "8a61d4db-0c46-425f-9d49-7a125aa7df35",
   "metadata": {},
   "source": [
    "Instead of using 1 million obs, what if we could only collect 5 samples????"
   ]
  },
  {
   "cell_type": "code",
   "execution_count": 15,
   "id": "56f55393-13a3-4d8d-a087-c1b648594fad",
   "metadata": {},
   "outputs": [
    {
     "name": "stdout",
     "output_type": "stream",
     "text": [
      "0.3938655785843951\n",
      "0.5587010971306385\n",
      "0.5951333231565\n"
     ]
    }
   ],
   "source": [
    "random.seed(2100)\n",
    "\n",
    "print(my_avg([random.random() for _ in range(5)]))\n",
    "\n",
    "print(my_avg([random.random() for _ in range(5)]))\n",
    "\n",
    "print(my_avg([random.random() for _ in range(5)]))"
   ]
  },
  {
   "cell_type": "markdown",
   "id": "cb521298-6aa8-4a19-869c-61aa204a228f",
   "metadata": {},
   "source": [
    "Which of these 3 averages are CORRECT???"
   ]
  },
  {
   "cell_type": "code",
   "execution_count": 16,
   "id": "c62c2d87-44f9-4af4-a94e-a206cc1821bb",
   "metadata": {},
   "outputs": [
    {
     "name": "stdout",
     "output_type": "stream",
     "text": [
      "1.9693278929219755\n",
      "2.793505485653193\n"
     ]
    }
   ],
   "source": [
    "random.seed(2100)\n",
    "\n",
    "print(sum([random.random() for _ in range(5)]))\n",
    "\n",
    "print(sum([random.random() for _ in range(5)]))"
   ]
  },
  {
   "cell_type": "markdown",
   "id": "6b99e415-a391-4086-8dbb-55f9272bf53f",
   "metadata": {},
   "source": [
    "We have three different collections of 5 random numbers!!\n",
    "\n",
    "The SAMPLE avg will therefore be different!!!\n",
    "\n",
    "We are calc an ESTIMATE of the AVG based on FINITE sample size!!!\n",
    "\n",
    "The real question we should be asking if HOW CONFIDENT we are in that estimate!!!\n",
    "\n",
    "OR...what is the VARIABILITY of the estimate of the average?!?!?!?!?!\n",
    "\n",
    "## Simulate the variability of the avg\n",
    "\n",
    "Let's use our programming techniques from this week to study the variation of the sample average!\n",
    "\n",
    "Two major steps to study the variability of the average:\n",
    "* Generate a sequence of random numbers from an ASSUMED distribution\n",
    "* Calc the avg given that sequence"
   ]
  },
  {
   "cell_type": "code",
   "execution_count": 17,
   "id": "0c4217fc-774f-4daa-8c1a-0aec708d5082",
   "metadata": {},
   "outputs": [],
   "source": [
    "def gen_samples_calc_avg(N):\n",
    "    \"\"\"\n",
    "    Assume we are generating values from a UNIFORM distribution between 0 and 1\n",
    "    \"\"\"\n",
    "    return my_avg([random.random() for _ in range(N)])"
   ]
  },
  {
   "cell_type": "code",
   "execution_count": 18,
   "id": "afd3a2aa-de90-4496-8909-f23cdba76100",
   "metadata": {},
   "outputs": [
    {
     "data": {
      "text/plain": [
       "0.3938655785843951"
      ]
     },
     "execution_count": 18,
     "metadata": {},
     "output_type": "execute_result"
    }
   ],
   "source": [
    "random.seed(2100)\n",
    "\n",
    "gen_samples_calc_avg(5)"
   ]
  },
  {
   "cell_type": "code",
   "execution_count": 19,
   "id": "9fd3aa67-ec00-48f5-a421-9f6ea6695014",
   "metadata": {},
   "outputs": [
    {
     "name": "stdout",
     "output_type": "stream",
     "text": [
      "0.3938655785843951\n",
      "0.5587010971306385\n",
      "0.5951333231565\n"
     ]
    }
   ],
   "source": [
    "random.seed(2100)\n",
    "\n",
    "print(gen_samples_calc_avg(5))\n",
    "\n",
    "print(gen_samples_calc_avg(5))\n",
    "\n",
    "print(gen_samples_calc_avg(5))"
   ]
  },
  {
   "cell_type": "code",
   "execution_count": 20,
   "id": "2f7f4b8b-e319-4151-bb87-1f7698818e6c",
   "metadata": {},
   "outputs": [
    {
     "name": "stdout",
     "output_type": "stream",
     "text": [
      "0.3938655785843951\n",
      "0.5587010971306385\n",
      "0.5951333231565\n",
      "0.5048822650128671\n",
      "0.5505699823868078\n",
      "0.6109906176437405\n",
      "0.5327641794141614\n",
      "0.27536713011085057\n",
      "0.5458884102553585\n"
     ]
    }
   ],
   "source": [
    "random.seed(2100)\n",
    "\n",
    "print(gen_samples_calc_avg(5))\n",
    "\n",
    "print(gen_samples_calc_avg(5))\n",
    "\n",
    "print(gen_samples_calc_avg(5))\n",
    "\n",
    "print(gen_samples_calc_avg(5))\n",
    "\n",
    "print(gen_samples_calc_avg(5))\n",
    "\n",
    "print(gen_samples_calc_avg(5))\n",
    "\n",
    "print(gen_samples_calc_avg(5))\n",
    "\n",
    "print(gen_samples_calc_avg(5))\n",
    "\n",
    "print(gen_samples_calc_avg(5))"
   ]
  },
  {
   "cell_type": "markdown",
   "id": "0706e31d-abeb-4a64-9c03-efffd6f81489",
   "metadata": {},
   "source": [
    "Let's replicate calc the average from 5 random numbers...1000 times"
   ]
  },
  {
   "cell_type": "code",
   "execution_count": 21,
   "id": "fe572998-96cc-4b1a-bc34-f734fc449966",
   "metadata": {},
   "outputs": [],
   "source": [
    "random.seed(2100)\n",
    "\n",
    "xbar_sim_N05_R1000 = [ gen_samples_calc_avg(5) for _ in range(1000) ]"
   ]
  },
  {
   "cell_type": "code",
   "execution_count": 22,
   "id": "b5b69086-d480-4c25-b45b-824b2690e729",
   "metadata": {},
   "outputs": [
    {
     "data": {
      "text/plain": [
       "[0.3938655785843951,\n",
       " 0.5587010971306385,\n",
       " 0.5951333231565,\n",
       " 0.5048822650128671,\n",
       " 0.5505699823868078,\n",
       " 0.6109906176437405,\n",
       " 0.5327641794141614,\n",
       " 0.27536713011085057,\n",
       " 0.5458884102553585]"
      ]
     },
     "execution_count": 22,
     "metadata": {},
     "output_type": "execute_result"
    }
   ],
   "source": [
    "xbar_sim_N05_R1000[:9]"
   ]
  },
  {
   "cell_type": "markdown",
   "id": "6ab26c1e-1dc9-4b36-90d0-74d3cf895670",
   "metadata": {},
   "source": [
    "The `xbar_sim_N05_R1000` is a list of a list of SAMPLE avgs!!! \n",
    "\n",
    "Let's visualize the DISTRIBUTION of the sample avgs using a HISTOGRAM!!"
   ]
  },
  {
   "cell_type": "code",
   "execution_count": 23,
   "id": "eb3c3232-63c2-4998-9155-1cd984a10416",
   "metadata": {},
   "outputs": [
    {
     "data": {
      "image/png": "[encoded data removed]",
      "text/plain": [
       "<Figure size 640x480 with 1 Axes>"
      ]
     },
     "metadata": {},
     "output_type": "display_data"
    }
   ],
   "source": [
    "plt.hist(xbar_sim_N05_R1000, bins=11)\n",
    "plt.xlabel('xbar')\n",
    "plt.ylabel('count')\n",
    "plt.xlim(0,1)\n",
    "\n",
    "plt.show()"
   ]
  },
  {
   "cell_type": "markdown",
   "id": "c3603ed8-cc99-4aa5-b13d-70fd1294357f",
   "metadata": {},
   "source": [
    "^ BELL CURVE: Common values in middle and not common are on the sides"
   ]
  },
  {
   "cell_type": "code",
   "execution_count": 24,
   "id": "5355d5a7-db93-42b9-8c48-78db38aae440",
   "metadata": {},
   "outputs": [
    {
     "data": {
      "text/plain": [
       "0.502647095657702"
      ]
     },
     "execution_count": 24,
     "metadata": {},
     "output_type": "execute_result"
    }
   ],
   "source": [
    "my_avg(xbar_sim_N05_R1000)"
   ]
  },
  {
   "cell_type": "markdown",
   "id": "eca5c60f-0eee-4452-93bd-0afe8a867908",
   "metadata": {},
   "source": [
    "Let's repeat the process but this time use MORE REPLICATIONS!!\n",
    "\n",
    "Let's replicate 10000 times!!!!"
   ]
  },
  {
   "cell_type": "code",
   "execution_count": 25,
   "id": "7e9bc918-bee0-4633-be2a-968fa0a1eaa4",
   "metadata": {},
   "outputs": [],
   "source": [
    "random.seed(2100)\n",
    "\n",
    "xbar_sim_N05_R10000 = [ gen_samples_calc_avg(5) for _ in range(10000) ]"
   ]
  },
  {
   "cell_type": "code",
   "execution_count": 26,
   "id": "7eb36b02-918c-4c9a-b11e-dddab7b640b8",
   "metadata": {},
   "outputs": [
    {
     "data": {
      "text/plain": [
       "0.4991771248488468"
      ]
     },
     "execution_count": 26,
     "metadata": {},
     "output_type": "execute_result"
    }
   ],
   "source": [
    "my_avg(xbar_sim_N05_R10000)"
   ]
  },
  {
   "cell_type": "code",
   "execution_count": 27,
   "id": "f5af1757-a5b3-4f93-a0bf-32af6a7571a9",
   "metadata": {},
   "outputs": [
    {
     "data": {
      "image/png": "[encoded data removed]",
      "text/plain": [
       "<Figure size 640x480 with 1 Axes>"
      ]
     },
     "metadata": {},
     "output_type": "display_data"
    }
   ],
   "source": [
    "plt.hist(xbar_sim_N05_R10000, bins=11)\n",
    "plt.xlabel('xbar')\n",
    "plt.ylabel('count')\n",
    "plt.xlim(0,1)\n",
    "\n",
    "plt.show()"
   ]
  },
  {
   "cell_type": "markdown",
   "id": "69acd6b9-7449-4e2c-82a4-63bbf7c69a98",
   "metadata": {},
   "source": [
    "What if we replicated a SMALL number of times?!!!\n",
    "\n",
    "What if we replicaed calc avg of 5 numbers...just 11 times???"
   ]
  },
  {
   "cell_type": "code",
   "execution_count": 28,
   "id": "39f62aea-559c-4071-97f9-abf0fb51aba8",
   "metadata": {},
   "outputs": [],
   "source": [
    "random.seed(2100)\n",
    "\n",
    "xbar_sim_N05_R11 = [ gen_samples_calc_avg(5) for _ in range(11) ]"
   ]
  },
  {
   "cell_type": "code",
   "execution_count": 29,
   "id": "82d3db91-68c3-4f46-a25e-c2669301d2c4",
   "metadata": {},
   "outputs": [
    {
     "data": {
      "image/png": "[encoded data removed]",
      "text/plain": [
       "<Figure size 640x480 with 1 Axes>"
      ]
     },
     "metadata": {},
     "output_type": "display_data"
    }
   ],
   "source": [
    "plt.hist(xbar_sim_N05_R11, bins=11)\n",
    "plt.xlabel('xbar')\n",
    "plt.ylabel('count')\n",
    "plt.xlim(0,1)\n",
    "\n",
    "plt.show()"
   ]
  },
  {
   "cell_type": "markdown",
   "id": "5c392dc1-4b75-486f-a4cc-79b5f3e6411c",
   "metadata": {},
   "source": [
    "Let's study the DISTRIBUTION of the AVG based on NUMBER OF REPLICATIONS!!!"
   ]
  },
  {
   "cell_type": "code",
   "execution_count": 30,
   "id": "a001715f-909a-479f-99de-c4a77fa070c3",
   "metadata": {},
   "outputs": [],
   "source": [
    "num_replication = [ 5 * (2 ** ix) for ix in range(12)]"
   ]
  },
  {
   "cell_type": "code",
   "execution_count": 31,
   "id": "a207fba9-8b03-489f-abcc-31fe246d2c38",
   "metadata": {},
   "outputs": [
    {
     "data": {
      "text/plain": [
       "[5, 10, 20, 40, 80, 160, 320, 640, 1280, 2560, 5120, 10240]"
      ]
     },
     "execution_count": 31,
     "metadata": {},
     "output_type": "execute_result"
    }
   ],
   "source": [
    "num_replication"
   ]
  },
  {
   "cell_type": "markdown",
   "id": "281735d7-028d-4bff-94dd-a327abedb75e",
   "metadata": {},
   "source": [
    "We need to use a function to support our iteration efforst. We know how to use a for-loo, but the `enumerate()` function provides EXTRA capabilites for a for-loop."
   ]
  },
  {
   "cell_type": "code",
   "execution_count": 32,
   "id": "16b2dc32-c20a-42f3-a28f-652a202ce653",
   "metadata": {},
   "outputs": [
    {
     "name": "stdout",
     "output_type": "stream",
     "text": [
      "(0, 5)\n",
      "(1, 10)\n",
      "(2, 20)\n",
      "(3, 40)\n",
      "(4, 80)\n",
      "(5, 160)\n",
      "(6, 320)\n",
      "(7, 640)\n",
      "(8, 1280)\n",
      "(9, 2560)\n",
      "(10, 5120)\n",
      "(11, 10240)\n"
     ]
    }
   ],
   "source": [
    "\n",
    "\n",
    "for index_in_sequence, value_in_sequence in enumerate(num_replication):\n",
    "    print((index_in_sequence, value_in_sequence))"
   ]
  },
  {
   "cell_type": "code",
   "execution_count": 33,
   "id": "ddf56737-33fc-4364-8f8f-23716ffcf77a",
   "metadata": {},
   "outputs": [
    {
     "data": {
      "image/png": "[encoded data removed]",
      "text/plain": [
       "<Figure size 1200x600 with 12 Axes>"
      ]
     },
     "metadata": {},
     "output_type": "display_data"
    }
   ],
   "source": [
    "fix, axs = plt.subplots(2, 6, figsize=(12,6), sharex=True, sharey=False)\n",
    "\n",
    "axs = axs.ravel()\n",
    "\n",
    "for i, nr in enumerate(num_replication):\n",
    "    random.seed(2100)\n",
    "    axs[i].hist([gen_samples_calc_avg(5) for _ in range(nr)], density=False, bins=15)\n",
    "    axs[i].set_title('R: %d' % (nr))"
   ]
  },
  {
   "cell_type": "markdown",
   "id": "13df4577-dbb6-4d0d-b314-6699b46feced",
   "metadata": {},
   "source": [
    "The distribution of the AVG is CONVERGING to a BELL CURVE!!\n",
    "\n",
    "A Bell Curve is the common name of the Gaussian or NORMAL DISTRIBUTION!!!\n",
    "\n",
    "The distribution of the avg is converging to a NORMAL DISTRIBUTION!!!\n",
    "\n",
    "This is the CENTRAL LIMIT THEOREM (CLT)!!!!\n",
    "* This says that a distribution of a summary statistic if we replicate calc that summary statistic thousands upon thousands of times will turn into a Gaussian\n",
    "\n",
    "## Why does this matter?\n",
    "\n",
    "The CLT tells us that the AVG is distributed NORMALLY! We can therefore express the variability of the AVG using a statistic that represents the WIDTH of the bell curve!!!\n",
    "\n",
    "The VARIANCE is the statistic that describes VARIATION or VARIABILITY!!!\n",
    "\n",
    "$$ s^2 = \\frac{1}{N-1} \\sum_{n=1}^{N} \\left( \\left(x_n - \\bar{x}\\right)^2 \\right) $$"
   ]
  },
  {
   "cell_type": "markdown",
   "id": "db1fa4a8-fa99-411d-99c2-51b153b28ced",
   "metadata": {},
   "source": [
    "Break down formula for SAMPLE VARIANCE into 6 main steps:\n",
    "* Calc sample avg\n",
    "* Calc DEVIATION (diff) of each measurement from the AVG\n",
    "* Square deviation\n",
    "* Sum the squared deviation across all measurements\n",
    "* Divide the SUM of the squared deviation by the length minus 1\n",
    "\n",
    "The VARIANCE is the MEAN squared deviation from the AVERAGE!!!"
   ]
  },
  {
   "cell_type": "code",
   "execution_count": 34,
   "id": "06be3186-3308-4507-b886-89b2a417f89f",
   "metadata": {},
   "outputs": [],
   "source": [
    "def my_variance(x):\n",
    "    xbar = my_avg(x)\n",
    "    squared_deviation = [ (xn - xbar)**2 for xn in x]\n",
    "    return sum(squared_deviation) / (len(x) - 1)"
   ]
  },
  {
   "cell_type": "code",
   "execution_count": 36,
   "id": "bf8c610b-60f5-4b44-ae84-61236fea9de4",
   "metadata": {},
   "outputs": [
    {
     "name": "stdout",
     "output_type": "stream",
     "text": [
      "1.0\n"
     ]
    }
   ],
   "source": [
    "print(my_variance([1,2,3]))"
   ]
  },
  {
   "cell_type": "code",
   "execution_count": 38,
   "id": "e2415a28-473f-46d8-9482-d470dd001afa",
   "metadata": {},
   "outputs": [
    {
     "name": "stdout",
     "output_type": "stream",
     "text": [
      "25.0\n"
     ]
    }
   ],
   "source": [
    "print(my_variance([5,10,15]))"
   ]
  },
  {
   "cell_type": "markdown",
   "id": "dfd4d5a7-8207-493a-a6e5-d624706142ea",
   "metadata": {},
   "source": [
    "What is the VARIANCE of the average?"
   ]
  },
  {
   "cell_type": "code",
   "execution_count": 39,
   "id": "8a73fe6f-fb1b-4f89-ba76-fa9c4906e8a8",
   "metadata": {},
   "outputs": [
    {
     "data": {
      "text/plain": [
       "0.016879961620988607"
      ]
     },
     "execution_count": 39,
     "metadata": {},
     "output_type": "execute_result"
    }
   ],
   "source": [
    "my_variance(xbar_sim_N05_R10000)"
   ]
  },
  {
   "cell_type": "markdown",
   "id": "90e6ba44-5c32-4259-a5a0-eb689af40b4c",
   "metadata": {},
   "source": [
    "The standard deviation is the (half) width of the bell curve.\n",
    "\n",
    "The standard deviation is the SQUARE ROOT of the variance.\n",
    "\n",
    "Or, the variance is the standard deviation SQUARED!!!"
   ]
  },
  {
   "cell_type": "code",
   "execution_count": 40,
   "id": "4584265b-5b96-46cc-9566-8c6505ebcd87",
   "metadata": {},
   "outputs": [],
   "source": [
    "def my_sd(x):\n",
    "    return my_variance(x)**0.5"
   ]
  },
  {
   "cell_type": "code",
   "execution_count": 41,
   "id": "ac3393ce-f085-40c2-a877-b0690274ce15",
   "metadata": {},
   "outputs": [
    {
     "data": {
      "text/plain": [
       "0.12992290645220575"
      ]
     },
     "execution_count": 41,
     "metadata": {},
     "output_type": "execute_result"
    }
   ],
   "source": [
    "my_sd(xbar_sim_N05_R10000)"
   ]
  },
  {
   "cell_type": "markdown",
   "id": "034a8e96-7a2a-426b-a849-28da76234ab1",
   "metadata": {},
   "source": [
    "## How can we use this???\n",
    "\n",
    "We now know that REPLICATING calc many, many, many times produces a NORMAL DISTRIBUTION!!!\n",
    "\n",
    "We now know that we can express variability of the avg using standard deviation!!!\n",
    "\n",
    "Let's now study the variability based on DIFFERENT sample sizes!!!"
   ]
  },
  {
   "cell_type": "code",
   "execution_count": 42,
   "id": "2ec14dc5-6c5d-414b-a0f2-5c3dcdbe993e",
   "metadata": {},
   "outputs": [],
   "source": [
    "sample_size_study = [ 3 * (2 ** ix) for ix in range(15)]"
   ]
  },
  {
   "cell_type": "code",
   "execution_count": 43,
   "id": "576df1a0-0c60-4241-a586-35360d0cc96e",
   "metadata": {},
   "outputs": [
    {
     "data": {
      "text/plain": [
       "[3, 6, 12, 24, 48, 96, 192, 384, 768, 1536, 3072, 6144, 12288, 24576, 49152]"
      ]
     },
     "execution_count": 43,
     "metadata": {},
     "output_type": "execute_result"
    }
   ],
   "source": [
    "sample_size_study"
   ]
  },
  {
   "cell_type": "markdown",
   "id": "3118f201-0c8a-43e7-b2c5-9e6cbe3b9657",
   "metadata": {},
   "source": [
    "Let's replicate 2500 times calc the avg from a sample size to ensure we roughly have a NORMAL DISTRIBUTION for the SAMPLE AVERAGE!!!\n",
    "\n",
    "We need a NESTED LIST COMPREHENSION to execute our simulation!!!\n",
    "\n",
    "The OUTER list comprehension iterates over SAMPLE SIZE.\n",
    "\n",
    "The INNER list comprehension iterates over the REPLICATIONS."
   ]
  },
  {
   "cell_type": "code",
   "execution_count": 47,
   "id": "07b36e29-0c92-4801-9dcf-290d8af4d0f9",
   "metadata": {},
   "outputs": [],
   "source": [
    "random.seed(2100)\n",
    "\n",
    "study_sd_vs_samplesize = [ my_sd([gen_samples_calc_avg(n) for _ in range(2500)]) for n in sample_size_study  ]"
   ]
  },
  {
   "cell_type": "code",
   "execution_count": 48,
   "id": "1973b3d6-3db0-462c-b0d9-d2616cb5f962",
   "metadata": {},
   "outputs": [
    {
     "data": {
      "text/plain": [
       "list"
      ]
     },
     "execution_count": 48,
     "metadata": {},
     "output_type": "execute_result"
    }
   ],
   "source": [
    "type(study_sd_vs_samplesize)"
   ]
  },
  {
   "cell_type": "code",
   "execution_count": 49,
   "id": "1bd92441-631e-452b-a860-6809b4f03e73",
   "metadata": {},
   "outputs": [
    {
     "data": {
      "text/plain": [
       "15"
      ]
     },
     "execution_count": 49,
     "metadata": {},
     "output_type": "execute_result"
    }
   ],
   "source": [
    "len(study_sd_vs_samplesize)"
   ]
  },
  {
   "cell_type": "markdown",
   "id": "098ea2c1-b261-4615-a763-29903ecc6680",
   "metadata": {},
   "source": [
    "Show the sd of the avg with respect to the sample size!!!"
   ]
  },
  {
   "cell_type": "code",
   "execution_count": 51,
   "id": "7023c544-afda-41c0-9e02-f5f31bf2d152",
   "metadata": {},
   "outputs": [
    {
     "data": {
      "image/png": "[encoded data removed]",
      "text/plain": [
       "<Figure size 1200x600 with 1 Axes>"
      ]
     },
     "metadata": {},
     "output_type": "display_data"
    }
   ],
   "source": [
    "fix, ax = plt.subplots(figsize=(12,6))\n",
    "\n",
    "ax.plot(sample_size_study, study_sd_vs_samplesize, '-o')\n",
    "ax.set_xscale('log')\n",
    "ax.set_xlabel('sample size')\n",
    "ax.set_ylabel('standard deviation of the average')\n",
    "ax.grid(True)\n",
    "\n",
    "plt.show()"
   ]
  },
  {
   "cell_type": "markdown",
   "id": "a9b971e8-5d21-4114-a39b-65606a8448a7",
   "metadata": {},
   "source": [
    "The SD on the avg is INCREDIBLY IMPORTANT!!!\n",
    "\n",
    "The fact that the SD on the avg decreased as the SAMPLE SIZE INCREASES IS VERY IMPORTANT!!!\n",
    "\n",
    "The SD on the average has a SPECIAL name: STANDARD ERROR ON THE MEAN (SEM)!!!!\n",
    "\n",
    "## THEORY\n",
    "\n",
    "The STANDARED ERROR ON THE MEAN (SEM) HAS A FORMULA!!!\n",
    "\n",
    "SEM = (SD / SQUARE ROOT OF NUMBER OF SAMPLES)\n",
    "$$ \\mathrm{SEM} = \\frac{\\sigma}{\\sqrt{N}} $$\n",
    "\n",
    "The $\\sigma$ is the standard deviation of the measurements. We are currently using a random number generator that generates UNIFORM random numbers. There is a known formula for the VARIANCE of a UNIFORM distribution.\n",
    "\n",
    "Let's assume the LOWER bound is $a$ and the UPPER bound is $b$. The formula for the VARIANCE of a UNIFORM distribution is:\n",
    "$$ Variance = \\frac{1}{12} \\left(b-a\\right)^2 $$\n",
    "\n",
    "We have worked with a Uniform between 0 and 1, thus the Variance is:\n",
    "\n",
    "$$ Variance = \\frac{1}{12} $$\n",
    "\n",
    "The standard deviation is the square root of the variance is:\n",
    "\n",
    "$$ \\sigma = \\frac{1}{\\sqrt{12}} $$\n",
    "\n",
    "The SEM for OUR example is then:\n",
    "\n",
    "$$ \\mathrm{SEM} = \\frac{1}{\\sqrt{12 \\times N}} $$\n",
    "\n",
    "OR\n",
    "\n",
    "$$ \\mathrm{SEM} = \\left( \\frac{1/12} {N} \\right)^{0.5} $$\n",
    "\n",
    "Let's use this formula and COMPARE the THEORETICAL SEM to our SIMULATION RESULTS!!!"
   ]
  },
  {
   "cell_type": "code",
   "execution_count": 52,
   "id": "e9228492-374f-4a80-8437-f0c7ccd421c9",
   "metadata": {},
   "outputs": [],
   "source": [
    "sem_theory = [ ((1/12)/n)**0.5 for n in sample_size_study ]"
   ]
  },
  {
   "cell_type": "code",
   "execution_count": 53,
   "id": "38fff6c0-876d-4a67-aef9-c4b54bee2992",
   "metadata": {},
   "outputs": [
    {
     "data": {
      "text/plain": [
       "[0.16666666666666666,\n",
       " 0.11785113019775792,\n",
       " 0.08333333333333333,\n",
       " 0.05892556509887896,\n",
       " 0.041666666666666664,\n",
       " 0.02946278254943948,\n",
       " 0.020833333333333332,\n",
       " 0.01473139127471974,\n",
       " 0.010416666666666666,\n",
       " 0.00736569563735987,\n",
       " 0.005208333333333333,\n",
       " 0.003682847818679935,\n",
       " 0.0026041666666666665,\n",
       " 0.0018414239093399675,\n",
       " 0.0013020833333333333]"
      ]
     },
     "execution_count": 53,
     "metadata": {},
     "output_type": "execute_result"
    }
   ],
   "source": [
    "sem_theory"
   ]
  },
  {
   "cell_type": "code",
   "execution_count": 56,
   "id": "7bff9681-f4d5-41f7-a8f9-b2231e277ef5",
   "metadata": {},
   "outputs": [
    {
     "data": {
      "image/png": "[encoded data removed]",
      "text/plain": [
       "<Figure size 1200x600 with 1 Axes>"
      ]
     },
     "metadata": {},
     "output_type": "display_data"
    }
   ],
   "source": [
    "fix, ax = plt.subplots(figsize=(12,6))\n",
    "\n",
    "ax.plot(sample_size_study, study_sd_vs_samplesize, '-o', label='simulation')\n",
    "ax.plot(sample_size_study, sem_theory, ':sr', label='theory')\n",
    "\n",
    "ax.set_xscale('log')\n",
    "ax.set_xlabel('sample size')\n",
    "ax.set_ylabel('standard deviation of the average')\n",
    "ax.grid(True)\n",
    "ax.legend()\n",
    "\n",
    "plt.show()"
   ]
  },
  {
   "cell_type": "markdown",
   "id": "cdb18087-558a-4126-8d3b-29e6982c994d",
   "metadata": {},
   "source": [
    "## Using other distributions\n",
    "\n",
    "We can repeat this exercise by generating random numbers from other distributions.\n",
    "\n",
    "You msust do that in the homework."
   ]
  },
  {
   "cell_type": "code",
   "execution_count": 57,
   "id": "c1324c49-655d-40ce-b20c-a50aed933f44",
   "metadata": {},
   "outputs": [
    {
     "data": {
      "text/plain": [
       "['BPF',\n",
       " 'LOG4',\n",
       " 'NV_MAGICCONST',\n",
       " 'RECIP_BPF',\n",
       " 'Random',\n",
       " 'SG_MAGICCONST',\n",
       " 'SystemRandom',\n",
       " 'TWOPI',\n",
       " '_Sequence',\n",
       " '_Set',\n",
       " '__all__',\n",
       " '__builtins__',\n",
       " '__cached__',\n",
       " '__doc__',\n",
       " '__file__',\n",
       " '__loader__',\n",
       " '__name__',\n",
       " '__package__',\n",
       " '__spec__',\n",
       " '_accumulate',\n",
       " '_acos',\n",
       " '_bisect',\n",
       " '_ceil',\n",
       " '_cos',\n",
       " '_e',\n",
       " '_exp',\n",
       " '_inst',\n",
       " '_log',\n",
       " '_os',\n",
       " '_pi',\n",
       " '_random',\n",
       " '_repeat',\n",
       " '_sha512',\n",
       " '_sin',\n",
       " '_sqrt',\n",
       " '_test',\n",
       " '_test_generator',\n",
       " '_urandom',\n",
       " '_warn',\n",
       " 'betavariate',\n",
       " 'choice',\n",
       " 'choices',\n",
       " 'expovariate',\n",
       " 'gammavariate',\n",
       " 'gauss',\n",
       " 'getrandbits',\n",
       " 'getstate',\n",
       " 'lognormvariate',\n",
       " 'normalvariate',\n",
       " 'paretovariate',\n",
       " 'randint',\n",
       " 'random',\n",
       " 'randrange',\n",
       " 'sample',\n",
       " 'seed',\n",
       " 'setstate',\n",
       " 'shuffle',\n",
       " 'triangular',\n",
       " 'uniform',\n",
       " 'vonmisesvariate',\n",
       " 'weibullvariate']"
      ]
     },
     "execution_count": 57,
     "metadata": {},
     "output_type": "execute_result"
    }
   ],
   "source": [
    "dir(random)"
   ]
  },
  {
   "cell_type": "code",
   "execution_count": 58,
   "id": "afeafe07-4213-4185-8788-7f32764249da",
   "metadata": {},
   "outputs": [
    {
     "name": "stdout",
     "output_type": "stream",
     "text": [
      "Help on method gauss in module random:\n",
      "\n",
      "gauss(mu, sigma) method of random.Random instance\n",
      "    Gaussian distribution.\n",
      "    \n",
      "    mu is the mean, and sigma is the standard deviation.  This is\n",
      "    slightly faster than the normalvariate() function.\n",
      "    \n",
      "    Not thread-safe without a lock around calls.\n",
      "\n"
     ]
    }
   ],
   "source": [
    "help(random.gauss)"
   ]
  },
  {
   "cell_type": "code",
   "execution_count": 59,
   "id": "dcbc1b32-fc0d-4420-a17f-becf1e0f4a11",
   "metadata": {},
   "outputs": [
    {
     "data": {
      "text/plain": [
       "228.2934387071578"
      ]
     },
     "execution_count": 59,
     "metadata": {},
     "output_type": "execute_result"
    }
   ],
   "source": [
    "random.gauss(mu = 250, sigma = 20)"
   ]
  },
  {
   "cell_type": "code",
   "execution_count": 60,
   "id": "16ca9ea0-b42a-4806-aee7-23b1e85c694d",
   "metadata": {},
   "outputs": [
    {
     "data": {
      "text/plain": [
       "250.4944176547876"
      ]
     },
     "execution_count": 60,
     "metadata": {},
     "output_type": "execute_result"
    }
   ],
   "source": [
    "random.gauss(mu = 250, sigma = 2)"
   ]
  },
  {
   "cell_type": "markdown",
   "id": "3d8fdc3f-a64a-43b1-9eca-f7365ca456a9",
   "metadata": {},
   "source": [
    "## Why does this matter?\n",
    "\n",
    "We collect data and more often than not, we have relatively small sample sizes.\n",
    "\n",
    "How confident are we on the AVG estimate based on those small sample sizez!!???\n",
    "\n",
    "For example, how confident are we on the sample size avg estimates using just 5 obs????"
   ]
  },
  {
   "cell_type": "code",
   "execution_count": 62,
   "id": "95c935fe-40d1-4e88-9604-8cfdeba9dd13",
   "metadata": {},
   "outputs": [],
   "source": [
    "random.seed(2100)\n",
    "\n",
    "yu = [random.random() for _ in range(5)]"
   ]
  },
  {
   "cell_type": "code",
   "execution_count": 63,
   "id": "cbc5be5a-115b-412d-a35d-b88b72397525",
   "metadata": {},
   "outputs": [
    {
     "name": "stdout",
     "output_type": "stream",
     "text": [
      "0.3938655785843951\n"
     ]
    }
   ],
   "source": [
    "sample_avg = my_avg(yu)\n",
    "\n",
    "print(sample_avg)"
   ]
  },
  {
   "cell_type": "markdown",
   "id": "1b52b5ed-807b-44ad-8187-8d1d5c6fe6d0",
   "metadata": {},
   "source": [
    "We can express our CONFIDENCE using the CLT and the standard error!! \n",
    "\n",
    "The CONFIDENCE INTERVAL represents where you anticipate the avg to be!!!\n",
    "\n",
    "The most common type is the 95% CI which represents theres a 95% chance the avg is somewhat inside the interval!!!\n",
    "\n",
    "The 95% CI is approximately equal to sample avg +/- 2 times the SEM!!!\n",
    "\n",
    "$$ 95\\% \\ \\mathrm{confidence} \\ \\mathrm{interval} = \\left( \\mathrm{average} - 2 \\times \\mathrm{SEM}, \\mathrm{average} + 2 \\times \\mathrm{SEM} \\right)$$"
   ]
  },
  {
   "cell_type": "code",
   "execution_count": 64,
   "id": "fcae77aa-2198-4c41-9ed2-00e871db7dc7",
   "metadata": {},
   "outputs": [],
   "source": [
    "sample_sd = my_sd(yu)"
   ]
  },
  {
   "cell_type": "code",
   "execution_count": 65,
   "id": "0fa5664d-9fc6-48b0-ac96-7e4caaa636b2",
   "metadata": {},
   "outputs": [],
   "source": [
    "sem = sample_sd/(len(yu)**.5)"
   ]
  },
  {
   "cell_type": "code",
   "execution_count": 66,
   "id": "adfe60a3-a2db-4ab7-ad81-a660fbfb6d48",
   "metadata": {},
   "outputs": [],
   "source": [
    "conf_int = (sample_avg - 2*sem, sample_avg + 2*sem)"
   ]
  },
  {
   "cell_type": "code",
   "execution_count": 67,
   "id": "b5ef31c8-435c-465e-ba57-198fe3347c79",
   "metadata": {},
   "outputs": [
    {
     "data": {
      "text/plain": [
       "(0.12787049210489415, 0.6598606650638961)"
      ]
     },
     "execution_count": 67,
     "metadata": {},
     "output_type": "execute_result"
    }
   ],
   "source": [
    "conf_int"
   ]
  },
  {
   "cell_type": "code",
   "execution_count": 68,
   "id": "a4ae6307-d197-40e2-a6ea-74e496658411",
   "metadata": {},
   "outputs": [
    {
     "data": {
      "text/plain": [
       "0.531990172959002"
      ]
     },
     "execution_count": 68,
     "metadata": {},
     "output_type": "execute_result"
    }
   ],
   "source": [
    "conf_int[1] - conf_int[0]"
   ]
  },
  {
   "cell_type": "markdown",
   "id": "3f9396b1-6f1e-4d8c-a34e-4abc6caaa463",
   "metadata": {},
   "source": [
    "What if we could instead observe 1000 measurements????"
   ]
  },
  {
   "cell_type": "code",
   "execution_count": 69,
   "id": "c2033945-b96d-40d7-a8f0-de93c4e437eb",
   "metadata": {},
   "outputs": [],
   "source": [
    "random.seed(2100)\n",
    "\n",
    "# Here we are create a new list of 1000 random numbers\n",
    "zu = [ random.random() for _ in range(1000)]"
   ]
  },
  {
   "cell_type": "code",
   "execution_count": 73,
   "id": "912f3759-3ef8-4668-9160-fc874e528128",
   "metadata": {},
   "outputs": [],
   "source": [
    "# This is the sample avg\n",
    "sample_avg_zu = my_avg(zu)"
   ]
  },
  {
   "cell_type": "code",
   "execution_count": 74,
   "id": "5f9d3d8d-5d04-4d78-b00b-864bedc6c264",
   "metadata": {},
   "outputs": [],
   "source": [
    "# This is the sample sd\n",
    "sample_sd_zu = my_sd(zu)"
   ]
  },
  {
   "cell_type": "code",
   "execution_count": 75,
   "id": "04383bac-90e1-4675-bfa4-d9d11dcb7a4b",
   "metadata": {},
   "outputs": [],
   "source": [
    "# This is the sample sem\n",
    "sample_sem_zu = sample_sd_zu / (len(zu)**.5)"
   ]
  },
  {
   "cell_type": "code",
   "execution_count": 76,
   "id": "f0d86caf-862d-4750-8589-d31a80d6199c",
   "metadata": {},
   "outputs": [],
   "source": [
    "conf_int_zu = (sample_avg_zu - 2*sample_sem_zu, sample_avg_zu + 2*sample_sem_zu)"
   ]
  },
  {
   "cell_type": "code",
   "execution_count": 77,
   "id": "df14cb24-bbe5-465a-8ccd-fad0a77689f6",
   "metadata": {},
   "outputs": [
    {
     "data": {
      "text/plain": [
       "(0.49403517906158984, 0.5304982488867674)"
      ]
     },
     "execution_count": 77,
     "metadata": {},
     "output_type": "execute_result"
    }
   ],
   "source": [
    "conf_int_zu"
   ]
  },
  {
   "cell_type": "code",
   "execution_count": 79,
   "id": "9af9af38-85ff-4a7a-b21f-e8bcd142e304",
   "metadata": {},
   "outputs": [
    {
     "data": {
      "text/plain": [
       "0.5122667139741787"
      ]
     },
     "execution_count": 79,
     "metadata": {},
     "output_type": "execute_result"
    }
   ],
   "source": [
    "sample_avg_zu"
   ]
  },
  {
   "cell_type": "code",
   "execution_count": 80,
   "id": "76cd2ffc-bdeb-4d2e-93c0-d9f23f0a6c99",
   "metadata": {},
   "outputs": [
    {
     "data": {
      "text/plain": [
       "0.2882658778232974"
      ]
     },
     "execution_count": 80,
     "metadata": {},
     "output_type": "execute_result"
    }
   ],
   "source": [
    "sample_sd_zu"
   ]
  },
  {
   "cell_type": "code",
   "execution_count": 81,
   "id": "4aa14169-7916-4d74-b619-e0ca387e70be",
   "metadata": {},
   "outputs": [
    {
     "data": {
      "text/plain": [
       "0.009115767456294407"
      ]
     },
     "execution_count": 81,
     "metadata": {},
     "output_type": "execute_result"
    }
   ],
   "source": [
    "sample_sem_zu"
   ]
  },
  {
   "cell_type": "code",
   "execution_count": 82,
   "id": "5491b679-88ac-4fd1-8826-d6f65c88ccba",
   "metadata": {},
   "outputs": [
    {
     "data": {
      "text/plain": [
       "0.03646306982517761"
      ]
     },
     "execution_count": 82,
     "metadata": {},
     "output_type": "execute_result"
    }
   ],
   "source": [
    "conf_int_zu[1] - conf_int_zu[0]"
   ]
  },
  {
   "cell_type": "code",
   "execution_count": null,
   "id": "006f416c-777f-4c41-980c-bd1d19ef5bfb",
   "metadata": {},
   "outputs": [],
   "source": []
  },
  {
   "cell_type": "code",
   "execution_count": null,
   "id": "0b93612c-514c-4920-a3de-8bb3a08eed0b",
   "metadata": {},
   "outputs": [],
   "source": []
  },
  {
   "cell_type": "code",
   "execution_count": null,
   "id": "aa696145-a6e1-4934-8225-7dce44311c66",
   "metadata": {},
   "outputs": [],
   "source": []
  }
 ],
 "metadata": {
  "kernelspec": {
   "display_name": "Python 3 (ipykernel)",
   "language": "python",
   "name": "python3"
  },
  "language_info": {
   "codemirror_mode": {
    "name": "ipython",
    "version": 3
   },
   "file_extension": ".py",
   "mimetype": "text/x-python",
   "name": "python",
   "nbconvert_exporter": "python",
   "pygments_lexer": "ipython3",
   "version": "3.8.19"
  }
 },
 "nbformat": 4,
 "nbformat_minor": 5
}
