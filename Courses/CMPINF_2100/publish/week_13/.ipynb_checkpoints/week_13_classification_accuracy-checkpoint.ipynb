{
 "cells": [
  {
   "cell_type": "markdown",
   "id": "b46129c7-2405-4907-8382-08c082e263b3",
   "metadata": {},
   "source": [
    "## CMPINF 2100 Week 13\n",
    "### Measuring CLASSIFICATION PERFORMANCE - Accuracy\n",
    "## Import Modules"
   ]
  },
  {
   "cell_type": "code",
   "execution_count": 1,
   "id": "1d8971ba-cc37-4cd5-9c87-3c2c734a096f",
   "metadata": {},
   "outputs": [],
   "source": [
    "import numpy as np\n",
    "import pandas as pd\n",
    "import matplotlib.pyplot as plt\n",
    "\n",
    "import seaborn as sns"
   ]
  },
  {
   "cell_type": "code",
   "execution_count": 2,
   "id": "0d5675df-8aec-46c8-8681-d91adeb8f1b8",
   "metadata": {},
   "outputs": [],
   "source": [
    "import statsmodels.formula.api as smf"
   ]
  },
  {
   "cell_type": "markdown",
   "id": "e878a01e-14fa-49af-ba2e-a1d256b6a202",
   "metadata": {},
   "source": [
    "## Read data\n",
    "Read data from LAST week."
   ]
  },
  {
   "cell_type": "code",
   "execution_count": 4,
   "id": "8b577d34-92a2-4dd4-8544-860191233bb4",
   "metadata": {},
   "outputs": [],
   "source": [
    "df = pd.read_csv(\"../week_12/week_11_intro_binary_classification.csv\")"
   ]
  },
  {
   "cell_type": "code",
   "execution_count": 5,
   "id": "1a6d3edf-c676-415a-8cfd-9091f55816b8",
   "metadata": {},
   "outputs": [
    {
     "name": "stdout",
     "output_type": "stream",
     "text": [
      "<class 'pandas.core.frame.DataFrame'>\n",
      "RangeIndex: 115 entries, 0 to 114\n",
      "Data columns (total 2 columns):\n",
      " #   Column  Non-Null Count  Dtype  \n",
      "---  ------  --------------  -----  \n",
      " 0   x       115 non-null    float64\n",
      " 1   y       115 non-null    int64  \n",
      "dtypes: float64(1), int64(1)\n",
      "memory usage: 1.9 KB\n"
     ]
    }
   ],
   "source": [
    "df.info()"
   ]
  },
  {
   "cell_type": "markdown",
   "id": "f66735c1-4ee5-46aa-8eb8-5bf2b9881722",
   "metadata": {},
   "source": [
    "## Fit the logistic regression model"
   ]
  },
  {
   "cell_type": "code",
   "execution_count": 6,
   "id": "ecf7733c-ff79-49ee-98c7-7c428b4da602",
   "metadata": {},
   "outputs": [
    {
     "name": "stdout",
     "output_type": "stream",
     "text": [
      "Optimization terminated successfully.\n",
      "         Current function value: 0.560099\n",
      "         Iterations 6\n"
     ]
    }
   ],
   "source": [
    "fit_glm = smf.logit(formula=\"y ~ x\", data=df).fit()"
   ]
  },
  {
   "cell_type": "code",
   "execution_count": 7,
   "id": "2f6e3668-ccf8-4ecd-baa6-dbb2d1f8895d",
   "metadata": {},
   "outputs": [
    {
     "data": {
      "text/html": [
       "<table class=\"simpletable\">\n",
       "<caption>Logit Regression Results</caption>\n",
       "<tr>\n",
       "  <th>Dep. Variable:</th>           <td>y</td>        <th>  No. Observations:  </th>  <td>   115</td>  \n",
       "</tr>\n",
       "<tr>\n",
       "  <th>Model:</th>                 <td>Logit</td>      <th>  Df Residuals:      </th>  <td>   113</td>  \n",
       "</tr>\n",
       "<tr>\n",
       "  <th>Method:</th>                 <td>MLE</td>       <th>  Df Model:          </th>  <td>     1</td>  \n",
       "</tr>\n",
       "<tr>\n",
       "  <th>Date:</th>            <td>Fri, 29 Nov 2024</td> <th>  Pseudo R-squ.:     </th>  <td>0.1756</td>  \n",
       "</tr>\n",
       "<tr>\n",
       "  <th>Time:</th>                <td>23:07:55</td>     <th>  Log-Likelihood:    </th> <td> -64.411</td> \n",
       "</tr>\n",
       "<tr>\n",
       "  <th>converged:</th>             <td>True</td>       <th>  LL-Null:           </th> <td> -78.135</td> \n",
       "</tr>\n",
       "<tr>\n",
       "  <th>Covariance Type:</th>     <td>nonrobust</td>    <th>  LLR p-value:       </th> <td>1.614e-07</td>\n",
       "</tr>\n",
       "</table>\n",
       "<table class=\"simpletable\">\n",
       "<tr>\n",
       "      <td></td>         <th>coef</th>     <th>std err</th>      <th>z</th>      <th>P>|z|</th>  <th>[0.025</th>    <th>0.975]</th>  \n",
       "</tr>\n",
       "<tr>\n",
       "  <th>Intercept</th> <td>   -0.4495</td> <td>    0.218</td> <td>   -2.062</td> <td> 0.039</td> <td>   -0.877</td> <td>   -0.022</td>\n",
       "</tr>\n",
       "<tr>\n",
       "  <th>x</th>         <td>    1.1838</td> <td>    0.267</td> <td>    4.432</td> <td> 0.000</td> <td>    0.660</td> <td>    1.707</td>\n",
       "</tr>\n",
       "</table>"
      ],
      "text/latex": [
       "\\begin{center}\n",
       "\\begin{tabular}{lclc}\n",
       "\\toprule\n",
       "\\textbf{Dep. Variable:}   &        y         & \\textbf{  No. Observations:  } &      115    \\\\\n",
       "\\textbf{Model:}           &      Logit       & \\textbf{  Df Residuals:      } &      113    \\\\\n",
       "\\textbf{Method:}          &       MLE        & \\textbf{  Df Model:          } &        1    \\\\\n",
       "\\textbf{Date:}            & Fri, 29 Nov 2024 & \\textbf{  Pseudo R-squ.:     } &   0.1756    \\\\\n",
       "\\textbf{Time:}            &     23:07:55     & \\textbf{  Log-Likelihood:    } &   -64.411   \\\\\n",
       "\\textbf{converged:}       &       True       & \\textbf{  LL-Null:           } &   -78.135   \\\\\n",
       "\\textbf{Covariance Type:} &    nonrobust     & \\textbf{  LLR p-value:       } & 1.614e-07   \\\\\n",
       "\\bottomrule\n",
       "\\end{tabular}\n",
       "\\begin{tabular}{lcccccc}\n",
       "                   & \\textbf{coef} & \\textbf{std err} & \\textbf{z} & \\textbf{P$> |$z$|$} & \\textbf{[0.025} & \\textbf{0.975]}  \\\\\n",
       "\\midrule\n",
       "\\textbf{Intercept} &      -0.4495  &        0.218     &    -2.062  &         0.039        &       -0.877    &       -0.022     \\\\\n",
       "\\textbf{x}         &       1.1838  &        0.267     &     4.432  &         0.000        &        0.660    &        1.707     \\\\\n",
       "\\bottomrule\n",
       "\\end{tabular}\n",
       "%\\caption{Logit Regression Results}\n",
       "\\end{center}"
      ],
      "text/plain": [
       "<class 'statsmodels.iolib.summary.Summary'>\n",
       "\"\"\"\n",
       "                           Logit Regression Results                           \n",
       "==============================================================================\n",
       "Dep. Variable:                      y   No. Observations:                  115\n",
       "Model:                          Logit   Df Residuals:                      113\n",
       "Method:                           MLE   Df Model:                            1\n",
       "Date:                Fri, 29 Nov 2024   Pseudo R-squ.:                  0.1756\n",
       "Time:                        23:07:55   Log-Likelihood:                -64.411\n",
       "converged:                       True   LL-Null:                       -78.135\n",
       "Covariance Type:            nonrobust   LLR p-value:                 1.614e-07\n",
       "==============================================================================\n",
       "                 coef    std err          z      P>|z|      [0.025      0.975]\n",
       "------------------------------------------------------------------------------\n",
       "Intercept     -0.4495      0.218     -2.062      0.039      -0.877      -0.022\n",
       "x              1.1838      0.267      4.432      0.000       0.660       1.707\n",
       "==============================================================================\n",
       "\"\"\""
      ]
     },
     "execution_count": 7,
     "metadata": {},
     "output_type": "execute_result"
    }
   ],
   "source": [
    "fit_glm.summary()"
   ]
  },
  {
   "cell_type": "markdown",
   "id": "6425e801-ae06-4810-b569-22a7b9d622a9",
   "metadata": {},
   "source": [
    "## Predict the training set\n",
    "Just to be safe though, lets make a COPY of the training set and ADD new columns to the COPY."
   ]
  },
  {
   "cell_type": "code",
   "execution_count": 8,
   "id": "e67b4e9e-97db-4aab-a4c6-da794b612979",
   "metadata": {},
   "outputs": [],
   "source": [
    "df_copy = df.copy()"
   ]
  },
  {
   "cell_type": "code",
   "execution_count": 9,
   "id": "43befcf1-cae8-4629-8ed6-dd4794770bb7",
   "metadata": {},
   "outputs": [],
   "source": [
    "df_copy[\"pred_probability\"] = fit_glm.predict(df)"
   ]
  },
  {
   "cell_type": "code",
   "execution_count": 10,
   "id": "a4b20b4d-3971-4ae3-a955-eb59bf34761f",
   "metadata": {},
   "outputs": [
    {
     "name": "stdout",
     "output_type": "stream",
     "text": [
      "<class 'pandas.core.frame.DataFrame'>\n",
      "RangeIndex: 115 entries, 0 to 114\n",
      "Data columns (total 3 columns):\n",
      " #   Column            Non-Null Count  Dtype  \n",
      "---  ------            --------------  -----  \n",
      " 0   x                 115 non-null    float64\n",
      " 1   y                 115 non-null    int64  \n",
      " 2   pred_probability  115 non-null    float64\n",
      "dtypes: float64(2), int64(1)\n",
      "memory usage: 2.8 KB\n"
     ]
    }
   ],
   "source": [
    "df_copy.info()"
   ]
  },
  {
   "cell_type": "code",
   "execution_count": 12,
   "id": "2a018e94-a9d6-4b94-819a-44f12564df03",
   "metadata": {},
   "outputs": [
    {
     "data": {
      "text/html": [
       "<div>\n",
       "<style scoped>\n",
       "    .dataframe tbody tr th:only-of-type {\n",
       "        vertical-align: middle;\n",
       "    }\n",
       "\n",
       "    .dataframe tbody tr th {\n",
       "        vertical-align: top;\n",
       "    }\n",
       "\n",
       "    .dataframe thead th {\n",
       "        text-align: right;\n",
       "    }\n",
       "</style>\n",
       "<table border=\"1\" class=\"dataframe\">\n",
       "  <thead>\n",
       "    <tr style=\"text-align: right;\">\n",
       "      <th></th>\n",
       "      <th>x</th>\n",
       "      <th>y</th>\n",
       "      <th>pred_probability</th>\n",
       "    </tr>\n",
       "  </thead>\n",
       "  <tbody>\n",
       "    <tr>\n",
       "      <th>count</th>\n",
       "      <td>115.000000</td>\n",
       "      <td>115.000000</td>\n",
       "      <td>115.000000</td>\n",
       "    </tr>\n",
       "    <tr>\n",
       "      <th>mean</th>\n",
       "      <td>0.019188</td>\n",
       "      <td>0.417391</td>\n",
       "      <td>0.417391</td>\n",
       "    </tr>\n",
       "    <tr>\n",
       "      <th>std</th>\n",
       "      <td>1.001227</td>\n",
       "      <td>0.495287</td>\n",
       "      <td>0.231525</td>\n",
       "    </tr>\n",
       "    <tr>\n",
       "      <th>min</th>\n",
       "      <td>-2.059272</td>\n",
       "      <td>0.000000</td>\n",
       "      <td>0.052784</td>\n",
       "    </tr>\n",
       "    <tr>\n",
       "      <th>25%</th>\n",
       "      <td>-0.721905</td>\n",
       "      <td>0.000000</td>\n",
       "      <td>0.213738</td>\n",
       "    </tr>\n",
       "    <tr>\n",
       "      <th>50%</th>\n",
       "      <td>0.114752</td>\n",
       "      <td>0.000000</td>\n",
       "      <td>0.422218</td>\n",
       "    </tr>\n",
       "    <tr>\n",
       "      <th>75%</th>\n",
       "      <td>0.570510</td>\n",
       "      <td>1.000000</td>\n",
       "      <td>0.556223</td>\n",
       "    </tr>\n",
       "    <tr>\n",
       "      <th>max</th>\n",
       "      <td>2.438859</td>\n",
       "      <td>1.000000</td>\n",
       "      <td>0.919653</td>\n",
       "    </tr>\n",
       "  </tbody>\n",
       "</table>\n",
       "</div>"
      ],
      "text/plain": [
       "                x           y  pred_probability\n",
       "count  115.000000  115.000000        115.000000\n",
       "mean     0.019188    0.417391          0.417391\n",
       "std      1.001227    0.495287          0.231525\n",
       "min     -2.059272    0.000000          0.052784\n",
       "25%     -0.721905    0.000000          0.213738\n",
       "50%      0.114752    0.000000          0.422218\n",
       "75%      0.570510    1.000000          0.556223\n",
       "max      2.438859    1.000000          0.919653"
      ]
     },
     "execution_count": 12,
     "metadata": {},
     "output_type": "execute_result"
    }
   ],
   "source": [
    "df_copy.describe()"
   ]
  },
  {
   "cell_type": "markdown",
   "id": "0d205793-9bf0-40ab-b491-055b73842223",
   "metadata": {},
   "source": [
    "## Classify the predictions of the training set\n",
    "Continue to use the COMMON or DEFAULT threshold of 50%."
   ]
  },
  {
   "cell_type": "code",
   "execution_count": 14,
   "id": "751802bf-aaed-45d0-8540-24a3dbd0f035",
   "metadata": {},
   "outputs": [],
   "source": [
    "df_copy[\"pred_class\"] = np.where(df_copy.pred_probability > 0.5, 1, 0)"
   ]
  },
  {
   "cell_type": "code",
   "execution_count": 15,
   "id": "7d132710-25bb-4181-89c3-580b480e51f3",
   "metadata": {},
   "outputs": [
    {
     "data": {
      "text/plain": [
       "pred_class\n",
       "0    72\n",
       "1    43\n",
       "Name: count, dtype: int64"
      ]
     },
     "execution_count": 15,
     "metadata": {},
     "output_type": "execute_result"
    }
   ],
   "source": [
    "df_copy.pred_class.value_counts()"
   ]
  },
  {
   "cell_type": "markdown",
   "id": "065695a0-c78e-4190-8430-3f42564af427",
   "metadata": {},
   "source": [
    "## Accuracy\n",
    "\n",
    "Accuracy is the PROPORTION of times the MODEL **CORRECTLY** classifies the OBSERVED output!!!\n",
    "\n",
    "Accuracy is the NUMBER OF CORRECT classifications DIVIDED by the total number of rows."
   ]
  },
  {
   "cell_type": "code",
   "execution_count": 16,
   "id": "21e24e97-cd59-401d-bd87-13c0d58f6dbf",
   "metadata": {},
   "outputs": [
    {
     "data": {
      "text/html": [
       "<div>\n",
       "<style scoped>\n",
       "    .dataframe tbody tr th:only-of-type {\n",
       "        vertical-align: middle;\n",
       "    }\n",
       "\n",
       "    .dataframe tbody tr th {\n",
       "        vertical-align: top;\n",
       "    }\n",
       "\n",
       "    .dataframe thead th {\n",
       "        text-align: right;\n",
       "    }\n",
       "</style>\n",
       "<table border=\"1\" class=\"dataframe\">\n",
       "  <thead>\n",
       "    <tr style=\"text-align: right;\">\n",
       "      <th></th>\n",
       "      <th>x</th>\n",
       "      <th>y</th>\n",
       "      <th>pred_probability</th>\n",
       "      <th>pred_class</th>\n",
       "    </tr>\n",
       "  </thead>\n",
       "  <tbody>\n",
       "    <tr>\n",
       "      <th>0</th>\n",
       "      <td>-0.457429</td>\n",
       "      <td>1</td>\n",
       "      <td>0.270709</td>\n",
       "      <td>0</td>\n",
       "    </tr>\n",
       "    <tr>\n",
       "      <th>1</th>\n",
       "      <td>0.425948</td>\n",
       "      <td>1</td>\n",
       "      <td>0.513678</td>\n",
       "      <td>1</td>\n",
       "    </tr>\n",
       "    <tr>\n",
       "      <th>2</th>\n",
       "      <td>-0.784695</td>\n",
       "      <td>0</td>\n",
       "      <td>0.201258</td>\n",
       "      <td>0</td>\n",
       "    </tr>\n",
       "    <tr>\n",
       "      <th>3</th>\n",
       "      <td>-1.925209</td>\n",
       "      <td>0</td>\n",
       "      <td>0.061306</td>\n",
       "      <td>0</td>\n",
       "    </tr>\n",
       "    <tr>\n",
       "      <th>4</th>\n",
       "      <td>2.252617</td>\n",
       "      <td>1</td>\n",
       "      <td>0.901780</td>\n",
       "      <td>1</td>\n",
       "    </tr>\n",
       "  </tbody>\n",
       "</table>\n",
       "</div>"
      ],
      "text/plain": [
       "          x  y  pred_probability  pred_class\n",
       "0 -0.457429  1          0.270709           0\n",
       "1  0.425948  1          0.513678           1\n",
       "2 -0.784695  0          0.201258           0\n",
       "3 -1.925209  0          0.061306           0\n",
       "4  2.252617  1          0.901780           1"
      ]
     },
     "execution_count": 16,
     "metadata": {},
     "output_type": "execute_result"
    }
   ],
   "source": [
    "df_copy.head()"
   ]
  },
  {
   "cell_type": "markdown",
   "id": "a30134f3-8f7a-4090-b3a6-a45f2aa9c084",
   "metadata": {},
   "source": [
    "Lets add a new column that stores if the classification is correct."
   ]
  },
  {
   "cell_type": "code",
   "execution_count": 20,
   "id": "a80f171c-eb9d-4730-abfa-639c150c0372",
   "metadata": {},
   "outputs": [],
   "source": [
    "# df_copy[\"correct_class\"] = np.where(df_copy.pred_class == df_copy.y, 1, 0)\n",
    "df_copy[\"correct_class\"] = df_copy.pred_class == df_copy.y"
   ]
  },
  {
   "cell_type": "code",
   "execution_count": 22,
   "id": "4659f261-b1d2-4ccb-82fe-818c92da05df",
   "metadata": {},
   "outputs": [
    {
     "data": {
      "text/html": [
       "<div>\n",
       "<style scoped>\n",
       "    .dataframe tbody tr th:only-of-type {\n",
       "        vertical-align: middle;\n",
       "    }\n",
       "\n",
       "    .dataframe tbody tr th {\n",
       "        vertical-align: top;\n",
       "    }\n",
       "\n",
       "    .dataframe thead th {\n",
       "        text-align: right;\n",
       "    }\n",
       "</style>\n",
       "<table border=\"1\" class=\"dataframe\">\n",
       "  <thead>\n",
       "    <tr style=\"text-align: right;\">\n",
       "      <th></th>\n",
       "      <th>x</th>\n",
       "      <th>y</th>\n",
       "      <th>pred_probability</th>\n",
       "      <th>pred_class</th>\n",
       "      <th>correct_class</th>\n",
       "    </tr>\n",
       "  </thead>\n",
       "  <tbody>\n",
       "    <tr>\n",
       "      <th>0</th>\n",
       "      <td>-0.457429</td>\n",
       "      <td>1</td>\n",
       "      <td>0.270709</td>\n",
       "      <td>0</td>\n",
       "      <td>False</td>\n",
       "    </tr>\n",
       "    <tr>\n",
       "      <th>1</th>\n",
       "      <td>0.425948</td>\n",
       "      <td>1</td>\n",
       "      <td>0.513678</td>\n",
       "      <td>1</td>\n",
       "      <td>True</td>\n",
       "    </tr>\n",
       "    <tr>\n",
       "      <th>2</th>\n",
       "      <td>-0.784695</td>\n",
       "      <td>0</td>\n",
       "      <td>0.201258</td>\n",
       "      <td>0</td>\n",
       "      <td>True</td>\n",
       "    </tr>\n",
       "    <tr>\n",
       "      <th>3</th>\n",
       "      <td>-1.925209</td>\n",
       "      <td>0</td>\n",
       "      <td>0.061306</td>\n",
       "      <td>0</td>\n",
       "      <td>True</td>\n",
       "    </tr>\n",
       "    <tr>\n",
       "      <th>4</th>\n",
       "      <td>2.252617</td>\n",
       "      <td>1</td>\n",
       "      <td>0.901780</td>\n",
       "      <td>1</td>\n",
       "      <td>True</td>\n",
       "    </tr>\n",
       "    <tr>\n",
       "      <th>...</th>\n",
       "      <td>...</td>\n",
       "      <td>...</td>\n",
       "      <td>...</td>\n",
       "      <td>...</td>\n",
       "      <td>...</td>\n",
       "    </tr>\n",
       "    <tr>\n",
       "      <th>110</th>\n",
       "      <td>-0.791672</td>\n",
       "      <td>0</td>\n",
       "      <td>0.199933</td>\n",
       "      <td>0</td>\n",
       "      <td>True</td>\n",
       "    </tr>\n",
       "    <tr>\n",
       "      <th>111</th>\n",
       "      <td>0.452238</td>\n",
       "      <td>1</td>\n",
       "      <td>0.521449</td>\n",
       "      <td>1</td>\n",
       "      <td>True</td>\n",
       "    </tr>\n",
       "    <tr>\n",
       "      <th>112</th>\n",
       "      <td>0.535510</td>\n",
       "      <td>1</td>\n",
       "      <td>0.545976</td>\n",
       "      <td>1</td>\n",
       "      <td>True</td>\n",
       "    </tr>\n",
       "    <tr>\n",
       "      <th>113</th>\n",
       "      <td>-0.532739</td>\n",
       "      <td>0</td>\n",
       "      <td>0.253472</td>\n",
       "      <td>0</td>\n",
       "      <td>True</td>\n",
       "    </tr>\n",
       "    <tr>\n",
       "      <th>114</th>\n",
       "      <td>0.317661</td>\n",
       "      <td>0</td>\n",
       "      <td>0.481642</td>\n",
       "      <td>0</td>\n",
       "      <td>True</td>\n",
       "    </tr>\n",
       "  </tbody>\n",
       "</table>\n",
       "<p>115 rows × 5 columns</p>\n",
       "</div>"
      ],
      "text/plain": [
       "            x  y  pred_probability  pred_class  correct_class\n",
       "0   -0.457429  1          0.270709           0          False\n",
       "1    0.425948  1          0.513678           1           True\n",
       "2   -0.784695  0          0.201258           0           True\n",
       "3   -1.925209  0          0.061306           0           True\n",
       "4    2.252617  1          0.901780           1           True\n",
       "..        ... ..               ...         ...            ...\n",
       "110 -0.791672  0          0.199933           0           True\n",
       "111  0.452238  1          0.521449           1           True\n",
       "112  0.535510  1          0.545976           1           True\n",
       "113 -0.532739  0          0.253472           0           True\n",
       "114  0.317661  0          0.481642           0           True\n",
       "\n",
       "[115 rows x 5 columns]"
      ]
     },
     "execution_count": 22,
     "metadata": {},
     "output_type": "execute_result"
    }
   ],
   "source": [
    "df_copy"
   ]
  },
  {
   "cell_type": "markdown",
   "id": "3fe04b23-c959-4439-9fe1-f4f57efb7ac4",
   "metadata": {},
   "source": [
    "We are instead in the PROPORTIONS of the correct classifications rather than the COUNT."
   ]
  },
  {
   "cell_type": "code",
   "execution_count": 23,
   "id": "75e11ac9-ca08-4c60-a538-f04f6d19c1b9",
   "metadata": {},
   "outputs": [
    {
     "data": {
      "text/plain": [
       "correct_class\n",
       "True     0.678261\n",
       "False    0.321739\n",
       "Name: proportion, dtype: float64"
      ]
     },
     "execution_count": 23,
     "metadata": {},
     "output_type": "execute_result"
    }
   ],
   "source": [
    "df_copy.correct_class.value_counts(normalize=True)"
   ]
  },
  {
   "cell_type": "code",
   "execution_count": 24,
   "id": "ba535e06-6c30-49fa-8c22-57cfb973369b",
   "metadata": {},
   "outputs": [
    {
     "data": {
      "text/plain": [
       "0.6782608695652174"
      ]
     },
     "execution_count": 24,
     "metadata": {},
     "output_type": "execute_result"
    }
   ],
   "source": [
    "df_copy.correct_class.mean()"
   ]
  },
  {
   "cell_type": "markdown",
   "id": "232a91a2-1eb0-4186-bf06-7b6a34a37214",
   "metadata": {},
   "source": [
    "However, I very rarely create a NEW column to store if the classification is correct.\n",
    "\n",
    "Instead, I calculate the Accuracy by applying the np.mean() function DIRECLY to that conditional test."
   ]
  },
  {
   "cell_type": "code",
   "execution_count": 25,
   "id": "2cdbeeb6-1f2e-4c1c-8bdb-1be5ac50b7bc",
   "metadata": {},
   "outputs": [
    {
     "data": {
      "text/plain": [
       "0.6782608695652174"
      ]
     },
     "execution_count": 25,
     "metadata": {},
     "output_type": "execute_result"
    }
   ],
   "source": [
    "np.mean(df_copy.y == df_copy.pred_class)"
   ]
  },
  {
   "cell_type": "markdown",
   "id": "a693ebf8-a326-424d-9ec3-d681e3a9ab5d",
   "metadata": {},
   "source": [
    "## Summary\n",
    "\n",
    "The ACCURACY is the PROPORTION between 0 and 1. The closer to 1 the Accuracy is the BETTER the model performed. The more ACCURATE the model is compared to the observe value.\n",
    "\n",
    "Accuracy is a SUMMARY STATISTIC. Is it the NUMBER of correct classifications DIVIDED BY the total number of observations!!!"
   ]
  },
  {
   "cell_type": "code",
   "execution_count": null,
   "id": "ebd853e4-b8f1-4bfd-ae44-f0cb8a6d203e",
   "metadata": {},
   "outputs": [],
   "source": []
  }
 ],
 "metadata": {
  "kernelspec": {
   "display_name": "Python 3 (ipykernel)",
   "language": "python",
   "name": "python3"
  },
  "language_info": {
   "codemirror_mode": {
    "name": "ipython",
    "version": 3
   },
   "file_extension": ".py",
   "mimetype": "text/x-python",
   "name": "python",
   "nbconvert_exporter": "python",
   "pygments_lexer": "ipython3",
   "version": "3.8.19"
  }
 },
 "nbformat": 4,
 "nbformat_minor": 5
}
