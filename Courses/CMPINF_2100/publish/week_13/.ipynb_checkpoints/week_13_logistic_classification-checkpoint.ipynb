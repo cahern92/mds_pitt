{
 "cells": [
  {
   "cell_type": "markdown",
   "id": "c2ab5990-28d4-4306-8e04-795215dec394",
   "metadata": {},
   "source": [
    "## CMPINF 2100 Week 13\n",
    "### Making CLASSIFICATIONS with LOGISTIC REGRESSION\n",
    "## Import Modules"
   ]
  },
  {
   "cell_type": "code",
   "execution_count": 1,
   "id": "e20ffb6e-c2ca-4277-8a1f-195078cfb369",
   "metadata": {},
   "outputs": [],
   "source": [
    "import numpy as np\n",
    "import pandas as pd\n",
    "import matplotlib.pyplot as plt\n",
    "\n",
    "import seaborn as sns"
   ]
  },
  {
   "cell_type": "code",
   "execution_count": 2,
   "id": "ea2fc42d-88f5-4840-931a-000963421fc9",
   "metadata": {},
   "outputs": [],
   "source": [
    "import statsmodels.formula.api as smf"
   ]
  },
  {
   "cell_type": "markdown",
   "id": "da9a175a-4595-4693-b246-9c7c2c470a4e",
   "metadata": {},
   "source": [
    "## Read data\n",
    "We wil use the SAME dataset from last week."
   ]
  },
  {
   "cell_type": "code",
   "execution_count": 6,
   "id": "581e6984-c50c-47c3-8b3d-7ce44685a65a",
   "metadata": {},
   "outputs": [],
   "source": [
    "df = pd.read_csv(\"../week_12/week_11_intro_binary_classification.csv\")"
   ]
  },
  {
   "cell_type": "code",
   "execution_count": 7,
   "id": "fe63ee17-f43d-464c-ac84-b274068cd2fa",
   "metadata": {},
   "outputs": [
    {
     "name": "stdout",
     "output_type": "stream",
     "text": [
      "<class 'pandas.core.frame.DataFrame'>\n",
      "RangeIndex: 115 entries, 0 to 114\n",
      "Data columns (total 2 columns):\n",
      " #   Column  Non-Null Count  Dtype  \n",
      "---  ------  --------------  -----  \n",
      " 0   x       115 non-null    float64\n",
      " 1   y       115 non-null    int64  \n",
      "dtypes: float64(1), int64(1)\n",
      "memory usage: 1.9 KB\n"
     ]
    }
   ],
   "source": [
    "df.info()"
   ]
  },
  {
   "cell_type": "code",
   "execution_count": 8,
   "id": "e48f0362-66d3-4415-8711-59e2339389ec",
   "metadata": {},
   "outputs": [
    {
     "data": {
      "text/plain": [
       "x    115\n",
       "y      2\n",
       "dtype: int64"
      ]
     },
     "execution_count": 8,
     "metadata": {},
     "output_type": "execute_result"
    }
   ],
   "source": [
    "df.nunique()"
   ]
  },
  {
   "cell_type": "code",
   "execution_count": 9,
   "id": "efa44f4b-2789-4f9e-a5e9-aaa20298e3aa",
   "metadata": {},
   "outputs": [
    {
     "data": {
      "text/plain": [
       "y\n",
       "0    67\n",
       "1    48\n",
       "Name: count, dtype: int64"
      ]
     },
     "execution_count": 9,
     "metadata": {},
     "output_type": "execute_result"
    }
   ],
   "source": [
    "df.y.value_counts()"
   ]
  },
  {
   "cell_type": "markdown",
   "id": "5e218bd0-623b-440a-89a9-052f34f548d0",
   "metadata": {},
   "source": [
    "## Fit the logistic regression model\n",
    "Fit a model with a LINEAR RELATIONSHIP between the LOGODDS RATIO and the input."
   ]
  },
  {
   "cell_type": "code",
   "execution_count": 10,
   "id": "1fade882-99d4-4f90-a593-e38f7a7fa18b",
   "metadata": {},
   "outputs": [
    {
     "name": "stdout",
     "output_type": "stream",
     "text": [
      "Optimization terminated successfully.\n",
      "         Current function value: 0.560099\n",
      "         Iterations 6\n"
     ]
    }
   ],
   "source": [
    "fit_glm = smf.logit(formula=\"y ~ x\", data=df).fit()"
   ]
  },
  {
   "cell_type": "code",
   "execution_count": 11,
   "id": "a69af06e-00fb-4d6c-af62-7c7f12958877",
   "metadata": {},
   "outputs": [
    {
     "data": {
      "text/plain": [
       "Intercept   -0.449518\n",
       "x            1.183814\n",
       "dtype: float64"
      ]
     },
     "execution_count": 11,
     "metadata": {},
     "output_type": "execute_result"
    }
   ],
   "source": [
    "fit_glm.params"
   ]
  },
  {
   "cell_type": "code",
   "execution_count": 12,
   "id": "ad06369d-8946-4b62-9553-f5d30e34fd4a",
   "metadata": {},
   "outputs": [
    {
     "data": {
      "text/plain": [
       "Intercept    0.218009\n",
       "x            0.267133\n",
       "dtype: float64"
      ]
     },
     "execution_count": 12,
     "metadata": {},
     "output_type": "execute_result"
    }
   ],
   "source": [
    "fit_glm.bse"
   ]
  },
  {
   "cell_type": "code",
   "execution_count": 13,
   "id": "2df74e4d-b9f2-4375-a175-7130705eccff",
   "metadata": {},
   "outputs": [
    {
     "data": {
      "text/plain": [
       "Intercept    0.039215\n",
       "x            0.000009\n",
       "dtype: float64"
      ]
     },
     "execution_count": 13,
     "metadata": {},
     "output_type": "execute_result"
    }
   ],
   "source": [
    "fit_glm.pvalues"
   ]
  },
  {
   "cell_type": "code",
   "execution_count": 14,
   "id": "1f30e526-2514-4b85-8162-a0a72cf3b0e6",
   "metadata": {},
   "outputs": [],
   "source": [
    "def my_coefplot(mod, figsize_use=(10,4)):\n",
    "    fig, ax = plt.subplots(figsize=figsize_use)\n",
    "\n",
    "    ax.errorbar(y=mod.params.index,\n",
    "               x=mod.params,\n",
    "               xerr=2*mod.bse, fmt=\"o\", color=\"k\", ecolor=\"k\", elinewidth=2, ms=10)\n",
    "\n",
    "    ax.axvline(x=0, linestyle=\"--\", linewidth=3.5, color=\"grey\")\n",
    "\n",
    "    ax.set_xlabel(\"coefficient value\")\n",
    "\n",
    "    plt.show()"
   ]
  },
  {
   "cell_type": "code",
   "execution_count": 15,
   "id": "7a5a2035-0db1-469a-be41-c5ba51919e50",
   "metadata": {},
   "outputs": [
    {
     "data": {
      "image/png": "[encoded data removed]",
      "text/plain": [
       "<Figure size 1000x400 with 1 Axes>"
      ]
     },
     "metadata": {},
     "output_type": "display_data"
    }
   ],
   "source": [
    "my_coefplot(fit_glm)"
   ]
  },
  {
   "cell_type": "markdown",
   "id": "e71b86f4-658e-47a6-a634-b3e5b9c27931",
   "metadata": {},
   "source": [
    "## Predictions on a new data set\n",
    "Lets visualize the PREDICTED PROBABILITY on a NEW visualization grid."
   ]
  },
  {
   "cell_type": "code",
   "execution_count": 16,
   "id": "0eb78e86-0805-498f-90bd-0229aa23562a",
   "metadata": {},
   "outputs": [],
   "source": [
    "dfviz = pd.DataFrame({\"x\": np.linspace(-2.75, 2.75, num=101)})"
   ]
  },
  {
   "cell_type": "code",
   "execution_count": 17,
   "id": "94828311-6bcd-4ee7-a89e-9deb840d8900",
   "metadata": {},
   "outputs": [],
   "source": [
    "dfviz[\"pred_probability\"] = fit_glm.predict(dfviz)"
   ]
  },
  {
   "cell_type": "code",
   "execution_count": 18,
   "id": "18a17c32-48bc-48a0-8643-5e89a54bac3f",
   "metadata": {},
   "outputs": [
    {
     "data": {
      "text/html": [
       "<div>\n",
       "<style scoped>\n",
       "    .dataframe tbody tr th:only-of-type {\n",
       "        vertical-align: middle;\n",
       "    }\n",
       "\n",
       "    .dataframe tbody tr th {\n",
       "        vertical-align: top;\n",
       "    }\n",
       "\n",
       "    .dataframe thead th {\n",
       "        text-align: right;\n",
       "    }\n",
       "</style>\n",
       "<table border=\"1\" class=\"dataframe\">\n",
       "  <thead>\n",
       "    <tr style=\"text-align: right;\">\n",
       "      <th></th>\n",
       "      <th>x</th>\n",
       "      <th>pred_probability</th>\n",
       "    </tr>\n",
       "  </thead>\n",
       "  <tbody>\n",
       "    <tr>\n",
       "      <th>0</th>\n",
       "      <td>-2.750</td>\n",
       "      <td>0.024009</td>\n",
       "    </tr>\n",
       "    <tr>\n",
       "      <th>1</th>\n",
       "      <td>-2.695</td>\n",
       "      <td>0.025583</td>\n",
       "    </tr>\n",
       "    <tr>\n",
       "      <th>2</th>\n",
       "      <td>-2.640</td>\n",
       "      <td>0.027258</td>\n",
       "    </tr>\n",
       "    <tr>\n",
       "      <th>3</th>\n",
       "      <td>-2.585</td>\n",
       "      <td>0.029038</td>\n",
       "    </tr>\n",
       "    <tr>\n",
       "      <th>4</th>\n",
       "      <td>-2.530</td>\n",
       "      <td>0.030931</td>\n",
       "    </tr>\n",
       "    <tr>\n",
       "      <th>...</th>\n",
       "      <td>...</td>\n",
       "      <td>...</td>\n",
       "    </tr>\n",
       "    <tr>\n",
       "      <th>96</th>\n",
       "      <td>2.530</td>\n",
       "      <td>0.927273</td>\n",
       "    </tr>\n",
       "    <tr>\n",
       "      <th>97</th>\n",
       "      <td>2.585</td>\n",
       "      <td>0.931543</td>\n",
       "    </tr>\n",
       "    <tr>\n",
       "      <th>98</th>\n",
       "      <td>2.640</td>\n",
       "      <td>0.935580</td>\n",
       "    </tr>\n",
       "    <tr>\n",
       "      <th>99</th>\n",
       "      <td>2.695</td>\n",
       "      <td>0.939395</td>\n",
       "    </tr>\n",
       "    <tr>\n",
       "      <th>100</th>\n",
       "      <td>2.750</td>\n",
       "      <td>0.942998</td>\n",
       "    </tr>\n",
       "  </tbody>\n",
       "</table>\n",
       "<p>101 rows × 2 columns</p>\n",
       "</div>"
      ],
      "text/plain": [
       "         x  pred_probability\n",
       "0   -2.750          0.024009\n",
       "1   -2.695          0.025583\n",
       "2   -2.640          0.027258\n",
       "3   -2.585          0.029038\n",
       "4   -2.530          0.030931\n",
       "..     ...               ...\n",
       "96   2.530          0.927273\n",
       "97   2.585          0.931543\n",
       "98   2.640          0.935580\n",
       "99   2.695          0.939395\n",
       "100  2.750          0.942998\n",
       "\n",
       "[101 rows x 2 columns]"
      ]
     },
     "execution_count": 18,
     "metadata": {},
     "output_type": "execute_result"
    }
   ],
   "source": [
    "dfviz"
   ]
  },
  {
   "cell_type": "code",
   "execution_count": 20,
   "id": "2102c92a-1d5b-47a7-8a1c-4350dbf3303a",
   "metadata": {},
   "outputs": [
    {
     "data": {
      "image/png": "[encoded data removed]",
      "text/plain": [
       "<Figure size 1200x600 with 1 Axes>"
      ]
     },
     "metadata": {},
     "output_type": "display_data"
    }
   ],
   "source": [
    "fig, ax = plt.subplots(figsize=(12, 6))\n",
    "\n",
    "sns.scatterplot(data=df, x=\"x\", y=\"y\", s=150, alpha=0.5)\n",
    "\n",
    "ax.axhline(y=0.25, color=\"green\", linestyle=\"--\", linewidth=2)\n",
    "\n",
    "ax.axhline(y=0.5, color=\"grey\", linestyle=\"--\", linewidth=2)\n",
    "\n",
    "ax.axhline(y=0.75, color=\"orange\", linestyle=\"--\", linewidth=2)\n",
    "\n",
    "ax.axvline(x=-1, color=\"black\", linestyle=\":\")\n",
    "\n",
    "ax.axvline(x=1, color=\"black\", linestyle=\":\")\n",
    "\n",
    "sns.lineplot(data=dfviz, x=\"x\", y=\"pred_probability\", color=\"k\")\n",
    "\n",
    "plt.show()"
   ]
  },
  {
   "cell_type": "markdown",
   "id": "49ecb585-bcb0-4605-8408-02aa2a32215b",
   "metadata": {},
   "source": [
    "Comparing Counts and Probabilities\n",
    "\n",
    "At low probabilities (less than 25%), we see more non-events than events.\n",
    "\n",
    "At high probabilities (greater than 75%), we see more events than non-events."
   ]
  },
  {
   "cell_type": "markdown",
   "id": "01351bed-d10d-49b9-93b0-6189f6d17b2c",
   "metadata": {},
   "source": [
    "_________________\n",
    "Lets reinforce the IDEA of probability vs EVENT and NON-EVENT one more time but using the TRAINING SET."
   ]
  },
  {
   "cell_type": "code",
   "execution_count": 21,
   "id": "504d229e-ceeb-44f0-b83f-da7d4084dbf5",
   "metadata": {},
   "outputs": [],
   "source": [
    "df_copy = df.copy()"
   ]
  },
  {
   "cell_type": "markdown",
   "id": "c1251633-7080-4072-895f-1534ee4fb298",
   "metadata": {},
   "source": [
    "Convert the continuous input into a NON-NUMERIC or CATEGORICAL variable. However, we will NOT directly make all unique values of the input vategories. Instead, we will DISCRETIZE or **BIN** the input into **CUT** intervals.\n",
    "\n",
    "The pd.cut() function will **CUT** a continuous variable into **INTERVALS**"
   ]
  },
  {
   "cell_type": "code",
   "execution_count": 22,
   "id": "a2ddee4e-209d-4c70-b5d1-df334f1f1e81",
   "metadata": {},
   "outputs": [
    {
     "data": {
      "text/html": [
       "<div>\n",
       "<style scoped>\n",
       "    .dataframe tbody tr th:only-of-type {\n",
       "        vertical-align: middle;\n",
       "    }\n",
       "\n",
       "    .dataframe tbody tr th {\n",
       "        vertical-align: top;\n",
       "    }\n",
       "\n",
       "    .dataframe thead th {\n",
       "        text-align: right;\n",
       "    }\n",
       "</style>\n",
       "<table border=\"1\" class=\"dataframe\">\n",
       "  <thead>\n",
       "    <tr style=\"text-align: right;\">\n",
       "      <th></th>\n",
       "      <th>x</th>\n",
       "      <th>y</th>\n",
       "    </tr>\n",
       "  </thead>\n",
       "  <tbody>\n",
       "    <tr>\n",
       "      <th>0</th>\n",
       "      <td>-0.457429</td>\n",
       "      <td>1</td>\n",
       "    </tr>\n",
       "    <tr>\n",
       "      <th>1</th>\n",
       "      <td>0.425948</td>\n",
       "      <td>1</td>\n",
       "    </tr>\n",
       "    <tr>\n",
       "      <th>2</th>\n",
       "      <td>-0.784695</td>\n",
       "      <td>0</td>\n",
       "    </tr>\n",
       "    <tr>\n",
       "      <th>3</th>\n",
       "      <td>-1.925209</td>\n",
       "      <td>0</td>\n",
       "    </tr>\n",
       "    <tr>\n",
       "      <th>4</th>\n",
       "      <td>2.252617</td>\n",
       "      <td>1</td>\n",
       "    </tr>\n",
       "  </tbody>\n",
       "</table>\n",
       "</div>"
      ],
      "text/plain": [
       "          x  y\n",
       "0 -0.457429  1\n",
       "1  0.425948  1\n",
       "2 -0.784695  0\n",
       "3 -1.925209  0\n",
       "4  2.252617  1"
      ]
     },
     "execution_count": 22,
     "metadata": {},
     "output_type": "execute_result"
    }
   ],
   "source": [
    "df_copy.head()"
   ]
  },
  {
   "cell_type": "code",
   "execution_count": 23,
   "id": "7cdae20c-0469-4757-8275-8712ebc8bba7",
   "metadata": {},
   "outputs": [],
   "source": [
    "df_copy[\"x_bin\"] = pd.cut(df.x, [df.x.min(), -1, 1, df.x.max()], include_lowest=True, ordered=True)"
   ]
  },
  {
   "cell_type": "code",
   "execution_count": 25,
   "id": "807fce11-9f00-4a71-9236-42213dfe2166",
   "metadata": {},
   "outputs": [
    {
     "name": "stdout",
     "output_type": "stream",
     "text": [
      "<class 'pandas.core.frame.DataFrame'>\n",
      "RangeIndex: 115 entries, 0 to 114\n",
      "Data columns (total 3 columns):\n",
      " #   Column  Non-Null Count  Dtype   \n",
      "---  ------  --------------  -----   \n",
      " 0   x       115 non-null    float64 \n",
      " 1   y       115 non-null    int64   \n",
      " 2   x_bin   115 non-null    category\n",
      "dtypes: category(1), float64(1), int64(1)\n",
      "memory usage: 2.2 KB\n"
     ]
    }
   ],
   "source": [
    "df_copy.info()"
   ]
  },
  {
   "cell_type": "code",
   "execution_count": 26,
   "id": "71dfa273-a1a6-4e2f-82c2-efc424f53c4f",
   "metadata": {},
   "outputs": [
    {
     "data": {
      "text/plain": [
       "x        115\n",
       "y          2\n",
       "x_bin      3\n",
       "dtype: int64"
      ]
     },
     "execution_count": 26,
     "metadata": {},
     "output_type": "execute_result"
    }
   ],
   "source": [
    "df_copy.nunique()"
   ]
  },
  {
   "cell_type": "code",
   "execution_count": 27,
   "id": "7c4c769f-42ae-4acb-9360-c1bcb80d6e6e",
   "metadata": {},
   "outputs": [
    {
     "data": {
      "text/plain": [
       "x_bin\n",
       "(-1.0, 1.0]      80\n",
       "(-2.06, -1.0]    19\n",
       "(1.0, 2.439]     16\n",
       "Name: count, dtype: int64"
      ]
     },
     "execution_count": 27,
     "metadata": {},
     "output_type": "execute_result"
    }
   ],
   "source": [
    "df_copy.x_bin.value_counts()"
   ]
  },
  {
   "cell_type": "code",
   "execution_count": 31,
   "id": "9f9fad0b-fb32-43b9-bf55-b520bbdb4676",
   "metadata": {},
   "outputs": [
    {
     "name": "stderr",
     "output_type": "stream",
     "text": [
      "/Applications/anaconda3/envs/cmpinf2100/lib/python3.8/site-packages/seaborn/axisgrid.py:123: UserWarning: The figure layout has changed to tight\n",
      "  self._figure.tight_layout(*args, **kwargs)\n"
     ]
    },
    {
     "data": {
      "image/png": "[encoded data removed]",
      "text/plain": [
       "<Figure size 632.625x500 with 1 Axes>"
      ]
     },
     "metadata": {},
     "output_type": "display_data"
    }
   ],
   "source": [
    "sns.catplot(data=df_copy, x=\"x_bin\", hue=\"x_bin\", kind=\"count\")\n",
    "\n",
    "plt.show()"
   ]
  },
  {
   "cell_type": "markdown",
   "id": "0be3439f-704e-4672-95ce-f2ae0dba3e89",
   "metadata": {},
   "source": [
    "Let's group and summarize within each input bin to calculate the NUMBER OF EVENTS and the PROPORTION of EVENTS."
   ]
  },
  {
   "cell_type": "code",
   "execution_count": 34,
   "id": "d8a8736c-65c9-4fed-a8d4-37bcf0c0d9a2",
   "metadata": {},
   "outputs": [
    {
     "data": {
      "text/html": [
       "<div>\n",
       "<style scoped>\n",
       "    .dataframe tbody tr th:only-of-type {\n",
       "        vertical-align: middle;\n",
       "    }\n",
       "\n",
       "    .dataframe tbody tr th {\n",
       "        vertical-align: top;\n",
       "    }\n",
       "\n",
       "    .dataframe thead th {\n",
       "        text-align: right;\n",
       "    }\n",
       "</style>\n",
       "<table border=\"1\" class=\"dataframe\">\n",
       "  <thead>\n",
       "    <tr style=\"text-align: right;\">\n",
       "      <th></th>\n",
       "      <th>x_bin</th>\n",
       "      <th>num_rows</th>\n",
       "      <th>num_events</th>\n",
       "      <th>prop_events</th>\n",
       "    </tr>\n",
       "  </thead>\n",
       "  <tbody>\n",
       "    <tr>\n",
       "      <th>0</th>\n",
       "      <td>(-2.06, -1.0]</td>\n",
       "      <td>19</td>\n",
       "      <td>1</td>\n",
       "      <td>0.052632</td>\n",
       "    </tr>\n",
       "    <tr>\n",
       "      <th>1</th>\n",
       "      <td>(-1.0, 1.0]</td>\n",
       "      <td>80</td>\n",
       "      <td>33</td>\n",
       "      <td>0.412500</td>\n",
       "    </tr>\n",
       "    <tr>\n",
       "      <th>2</th>\n",
       "      <td>(1.0, 2.439]</td>\n",
       "      <td>16</td>\n",
       "      <td>14</td>\n",
       "      <td>0.875000</td>\n",
       "    </tr>\n",
       "  </tbody>\n",
       "</table>\n",
       "</div>"
      ],
      "text/plain": [
       "           x_bin  num_rows  num_events  prop_events\n",
       "0  (-2.06, -1.0]        19           1     0.052632\n",
       "1    (-1.0, 1.0]        80          33     0.412500\n",
       "2   (1.0, 2.439]        16          14     0.875000"
      ]
     },
     "execution_count": 34,
     "metadata": {},
     "output_type": "execute_result"
    }
   ],
   "source": [
    "df_copy.groupby(\"x_bin\").\\\n",
    "aggregate(num_rows=(\"y\", \"count\"),\n",
    "         num_events=(\"y\", \"sum\"),\n",
    "         prop_events=(\"y\", \"mean\")).\\\n",
    "reset_index()"
   ]
  },
  {
   "cell_type": "markdown",
   "id": "d98df368-5ac1-44b2-a110-c9fe8639a9fc",
   "metadata": {},
   "source": [
    "Why does this matter?\n",
    "\n",
    "The LOGISTIC REGRESSION MODEL does **NOT** CLASSIFY EVENT or NON-EVENT.\n",
    "\n",
    "The LOGISTIC REGRESSION model **PREDICTS** the EVENT PROBABILITY!!!\n",
    "\n",
    "The EVENT PROBABILITY represents what we **EXPECT** to see!!!\n",
    "\n",
    "It does not represent what an INDIVIDUAL OBSERVATION is. The PREDICTED PROBABILITY is the **EXPECTED PROPORTION OF EVENTS**!!!!\n",
    "\n",
    "But how can we make a CLASSIFICATION of a SINGLE OBSERVATION!!!"
   ]
  },
  {
   "cell_type": "markdown",
   "id": "6b35ba41-1c40-49d2-9be8-dbd8ba8d4fa1",
   "metadata": {},
   "source": [
    "## Decisions and Classification\n",
    "We must CONVERT our PREDICTED PROBABILITY from a number between 0 and 1 to a CLASS or a BINARY value!!\n",
    "\n",
    "We must DECIDE which OUTPUT CATEGORY the observation is based on our PREDICTED PROBABILITY!!\n",
    "\n",
    "But making the decisions iS VERY STRAIGHT FORWARD. Making the decision essentially makes sense.\n",
    "\n",
    "CLASSIFICATIONS are created by comparing the PREDICTED PROBABILITY to a THRESHOLD VALUE.\n",
    "\n",
    "* IF the PREDICTED PROBABILITY is GREATER than the THRESHOLD, we CLASSIFY the **EVENT**\n",
    "* IF the PREDICTED PROBABILITY is LESS than the THRESHOLD, we CLASSIFY the **NON-EVENT**"
   ]
  },
  {
   "cell_type": "markdown",
   "id": "d5f7d20f-55d1-494b-9e03-634858d652f7",
   "metadata": {},
   "source": [
    "Lets PREDICT the TRAINING SET instead of the VISUALIZATION GRID. "
   ]
  },
  {
   "cell_type": "code",
   "execution_count": 35,
   "id": "1f75705d-24bf-45ec-88cc-9c69d8eb2e0c",
   "metadata": {},
   "outputs": [
    {
     "data": {
      "text/html": [
       "<div>\n",
       "<style scoped>\n",
       "    .dataframe tbody tr th:only-of-type {\n",
       "        vertical-align: middle;\n",
       "    }\n",
       "\n",
       "    .dataframe tbody tr th {\n",
       "        vertical-align: top;\n",
       "    }\n",
       "\n",
       "    .dataframe thead th {\n",
       "        text-align: right;\n",
       "    }\n",
       "</style>\n",
       "<table border=\"1\" class=\"dataframe\">\n",
       "  <thead>\n",
       "    <tr style=\"text-align: right;\">\n",
       "      <th></th>\n",
       "      <th>x</th>\n",
       "      <th>y</th>\n",
       "      <th>x_bin</th>\n",
       "    </tr>\n",
       "  </thead>\n",
       "  <tbody>\n",
       "    <tr>\n",
       "      <th>0</th>\n",
       "      <td>-0.457429</td>\n",
       "      <td>1</td>\n",
       "      <td>(-1.0, 1.0]</td>\n",
       "    </tr>\n",
       "    <tr>\n",
       "      <th>1</th>\n",
       "      <td>0.425948</td>\n",
       "      <td>1</td>\n",
       "      <td>(-1.0, 1.0]</td>\n",
       "    </tr>\n",
       "    <tr>\n",
       "      <th>2</th>\n",
       "      <td>-0.784695</td>\n",
       "      <td>0</td>\n",
       "      <td>(-1.0, 1.0]</td>\n",
       "    </tr>\n",
       "    <tr>\n",
       "      <th>3</th>\n",
       "      <td>-1.925209</td>\n",
       "      <td>0</td>\n",
       "      <td>(-2.06, -1.0]</td>\n",
       "    </tr>\n",
       "    <tr>\n",
       "      <th>4</th>\n",
       "      <td>2.252617</td>\n",
       "      <td>1</td>\n",
       "      <td>(1.0, 2.439]</td>\n",
       "    </tr>\n",
       "  </tbody>\n",
       "</table>\n",
       "</div>"
      ],
      "text/plain": [
       "          x  y          x_bin\n",
       "0 -0.457429  1    (-1.0, 1.0]\n",
       "1  0.425948  1    (-1.0, 1.0]\n",
       "2 -0.784695  0    (-1.0, 1.0]\n",
       "3 -1.925209  0  (-2.06, -1.0]\n",
       "4  2.252617  1   (1.0, 2.439]"
      ]
     },
     "execution_count": 35,
     "metadata": {},
     "output_type": "execute_result"
    }
   ],
   "source": [
    "df_copy.head()"
   ]
  },
  {
   "cell_type": "code",
   "execution_count": 36,
   "id": "825b0c4f-5341-4ff4-b489-d4264c21516f",
   "metadata": {},
   "outputs": [
    {
     "data": {
      "text/plain": [
       "(115, 3)"
      ]
     },
     "execution_count": 36,
     "metadata": {},
     "output_type": "execute_result"
    }
   ],
   "source": [
    "df_copy.shape"
   ]
  },
  {
   "cell_type": "markdown",
   "id": "898307f7-a397-4848-894d-92be39add9e3",
   "metadata": {},
   "source": [
    "Make the prediction and assign the PREDICTED probability to a COLUMN."
   ]
  },
  {
   "cell_type": "code",
   "execution_count": 37,
   "id": "4cb5885e-85c8-46dc-a1e5-e30ff58623fc",
   "metadata": {},
   "outputs": [],
   "source": [
    "df_copy[\"pred_probability\"] = fit_glm.predict(df)"
   ]
  },
  {
   "cell_type": "code",
   "execution_count": 38,
   "id": "cfd0edf0-d1df-45b6-b47d-f2301cf681e9",
   "metadata": {},
   "outputs": [
    {
     "data": {
      "text/html": [
       "<div>\n",
       "<style scoped>\n",
       "    .dataframe tbody tr th:only-of-type {\n",
       "        vertical-align: middle;\n",
       "    }\n",
       "\n",
       "    .dataframe tbody tr th {\n",
       "        vertical-align: top;\n",
       "    }\n",
       "\n",
       "    .dataframe thead th {\n",
       "        text-align: right;\n",
       "    }\n",
       "</style>\n",
       "<table border=\"1\" class=\"dataframe\">\n",
       "  <thead>\n",
       "    <tr style=\"text-align: right;\">\n",
       "      <th></th>\n",
       "      <th>x</th>\n",
       "      <th>y</th>\n",
       "      <th>x_bin</th>\n",
       "      <th>pred_probability</th>\n",
       "    </tr>\n",
       "  </thead>\n",
       "  <tbody>\n",
       "    <tr>\n",
       "      <th>0</th>\n",
       "      <td>-0.457429</td>\n",
       "      <td>1</td>\n",
       "      <td>(-1.0, 1.0]</td>\n",
       "      <td>0.270709</td>\n",
       "    </tr>\n",
       "    <tr>\n",
       "      <th>1</th>\n",
       "      <td>0.425948</td>\n",
       "      <td>1</td>\n",
       "      <td>(-1.0, 1.0]</td>\n",
       "      <td>0.513678</td>\n",
       "    </tr>\n",
       "    <tr>\n",
       "      <th>2</th>\n",
       "      <td>-0.784695</td>\n",
       "      <td>0</td>\n",
       "      <td>(-1.0, 1.0]</td>\n",
       "      <td>0.201258</td>\n",
       "    </tr>\n",
       "    <tr>\n",
       "      <th>3</th>\n",
       "      <td>-1.925209</td>\n",
       "      <td>0</td>\n",
       "      <td>(-2.06, -1.0]</td>\n",
       "      <td>0.061306</td>\n",
       "    </tr>\n",
       "    <tr>\n",
       "      <th>4</th>\n",
       "      <td>2.252617</td>\n",
       "      <td>1</td>\n",
       "      <td>(1.0, 2.439]</td>\n",
       "      <td>0.901780</td>\n",
       "    </tr>\n",
       "    <tr>\n",
       "      <th>...</th>\n",
       "      <td>...</td>\n",
       "      <td>...</td>\n",
       "      <td>...</td>\n",
       "      <td>...</td>\n",
       "    </tr>\n",
       "    <tr>\n",
       "      <th>110</th>\n",
       "      <td>-0.791672</td>\n",
       "      <td>0</td>\n",
       "      <td>(-1.0, 1.0]</td>\n",
       "      <td>0.199933</td>\n",
       "    </tr>\n",
       "    <tr>\n",
       "      <th>111</th>\n",
       "      <td>0.452238</td>\n",
       "      <td>1</td>\n",
       "      <td>(-1.0, 1.0]</td>\n",
       "      <td>0.521449</td>\n",
       "    </tr>\n",
       "    <tr>\n",
       "      <th>112</th>\n",
       "      <td>0.535510</td>\n",
       "      <td>1</td>\n",
       "      <td>(-1.0, 1.0]</td>\n",
       "      <td>0.545976</td>\n",
       "    </tr>\n",
       "    <tr>\n",
       "      <th>113</th>\n",
       "      <td>-0.532739</td>\n",
       "      <td>0</td>\n",
       "      <td>(-1.0, 1.0]</td>\n",
       "      <td>0.253472</td>\n",
       "    </tr>\n",
       "    <tr>\n",
       "      <th>114</th>\n",
       "      <td>0.317661</td>\n",
       "      <td>0</td>\n",
       "      <td>(-1.0, 1.0]</td>\n",
       "      <td>0.481642</td>\n",
       "    </tr>\n",
       "  </tbody>\n",
       "</table>\n",
       "<p>115 rows × 4 columns</p>\n",
       "</div>"
      ],
      "text/plain": [
       "            x  y          x_bin  pred_probability\n",
       "0   -0.457429  1    (-1.0, 1.0]          0.270709\n",
       "1    0.425948  1    (-1.0, 1.0]          0.513678\n",
       "2   -0.784695  0    (-1.0, 1.0]          0.201258\n",
       "3   -1.925209  0  (-2.06, -1.0]          0.061306\n",
       "4    2.252617  1   (1.0, 2.439]          0.901780\n",
       "..        ... ..            ...               ...\n",
       "110 -0.791672  0    (-1.0, 1.0]          0.199933\n",
       "111  0.452238  1    (-1.0, 1.0]          0.521449\n",
       "112  0.535510  1    (-1.0, 1.0]          0.545976\n",
       "113 -0.532739  0    (-1.0, 1.0]          0.253472\n",
       "114  0.317661  0    (-1.0, 1.0]          0.481642\n",
       "\n",
       "[115 rows x 4 columns]"
      ]
     },
     "execution_count": 38,
     "metadata": {},
     "output_type": "execute_result"
    }
   ],
   "source": [
    "df_copy"
   ]
  },
  {
   "cell_type": "markdown",
   "id": "a4ae1bc7-8dc5-4878-8d22-9e02cecd8205",
   "metadata": {},
   "source": [
    "If the PREDICTED PROBABILITY is GREATER than a threshold, classify the EVENT.\n",
    "\n",
    "The COMMON and DEFAULT threshold is 50%!!!"
   ]
  },
  {
   "cell_type": "code",
   "execution_count": 39,
   "id": "94d6ec04-07be-43ab-88c4-ef93e98039b8",
   "metadata": {},
   "outputs": [
    {
     "data": {
      "text/plain": [
       "0      False\n",
       "1       True\n",
       "2      False\n",
       "3      False\n",
       "4       True\n",
       "       ...  \n",
       "110    False\n",
       "111     True\n",
       "112     True\n",
       "113    False\n",
       "114    False\n",
       "Name: pred_probability, Length: 115, dtype: bool"
      ]
     },
     "execution_count": 39,
     "metadata": {},
     "output_type": "execute_result"
    }
   ],
   "source": [
    "df_copy.pred_probability > 0.5"
   ]
  },
  {
   "cell_type": "markdown",
   "id": "d6f4d749-7fe2-4f9c-88db-3d8fcffee5af",
   "metadata": {},
   "source": [
    "I prefer to CLASSIFY using the np.where function.\n",
    "\n",
    "This is an IN-LINE IF-ELSE statement.\n",
    "\n",
    "The syntax is:\n",
    "\n",
    "`np.where(<CONDITIONAL TEST>, <VALUE IF TRUE>, <VALUE IF FALSE>)`"
   ]
  },
  {
   "cell_type": "code",
   "execution_count": 42,
   "id": "17aceb06-4ca8-45b3-ab73-d930f0d944a2",
   "metadata": {},
   "outputs": [
    {
     "data": {
      "text/plain": [
       "array([0, 1, 0, 0, 1, 1, 0, 0, 1, 0, 1, 1, 0, 1, 1, 0, 0, 1, 0, 0, 0, 0,\n",
       "       0, 1, 0, 0, 1, 1, 0, 0, 1, 0, 0, 1, 1, 0, 1, 0, 0, 0, 0, 1, 1, 1,\n",
       "       0, 0, 0, 0, 1, 0, 0, 0, 1, 0, 1, 1, 0, 0, 1, 0, 0, 1, 0, 1, 0, 0,\n",
       "       1, 0, 0, 1, 1, 1, 0, 1, 0, 0, 0, 0, 1, 0, 0, 0, 1, 0, 0, 1, 1, 1,\n",
       "       0, 0, 0, 0, 0, 0, 1, 0, 0, 0, 0, 1, 1, 0, 0, 0, 1, 0, 0, 1, 0, 0,\n",
       "       0, 1, 1, 0, 0])"
      ]
     },
     "execution_count": 42,
     "metadata": {},
     "output_type": "execute_result"
    }
   ],
   "source": [
    "np.where(df_copy.pred_probability > 0.5, 1, 0)"
   ]
  },
  {
   "cell_type": "code",
   "execution_count": 43,
   "id": "b76c8487-5d9e-47ab-b05d-f875c649d30e",
   "metadata": {},
   "outputs": [
    {
     "data": {
      "text/html": [
       "<div>\n",
       "<style scoped>\n",
       "    .dataframe tbody tr th:only-of-type {\n",
       "        vertical-align: middle;\n",
       "    }\n",
       "\n",
       "    .dataframe tbody tr th {\n",
       "        vertical-align: top;\n",
       "    }\n",
       "\n",
       "    .dataframe thead th {\n",
       "        text-align: right;\n",
       "    }\n",
       "</style>\n",
       "<table border=\"1\" class=\"dataframe\">\n",
       "  <thead>\n",
       "    <tr style=\"text-align: right;\">\n",
       "      <th></th>\n",
       "      <th>x</th>\n",
       "      <th>y</th>\n",
       "      <th>x_bin</th>\n",
       "      <th>pred_probability</th>\n",
       "    </tr>\n",
       "  </thead>\n",
       "  <tbody>\n",
       "    <tr>\n",
       "      <th>0</th>\n",
       "      <td>-0.457429</td>\n",
       "      <td>1</td>\n",
       "      <td>(-1.0, 1.0]</td>\n",
       "      <td>0.270709</td>\n",
       "    </tr>\n",
       "    <tr>\n",
       "      <th>1</th>\n",
       "      <td>0.425948</td>\n",
       "      <td>1</td>\n",
       "      <td>(-1.0, 1.0]</td>\n",
       "      <td>0.513678</td>\n",
       "    </tr>\n",
       "    <tr>\n",
       "      <th>2</th>\n",
       "      <td>-0.784695</td>\n",
       "      <td>0</td>\n",
       "      <td>(-1.0, 1.0]</td>\n",
       "      <td>0.201258</td>\n",
       "    </tr>\n",
       "    <tr>\n",
       "      <th>3</th>\n",
       "      <td>-1.925209</td>\n",
       "      <td>0</td>\n",
       "      <td>(-2.06, -1.0]</td>\n",
       "      <td>0.061306</td>\n",
       "    </tr>\n",
       "    <tr>\n",
       "      <th>4</th>\n",
       "      <td>2.252617</td>\n",
       "      <td>1</td>\n",
       "      <td>(1.0, 2.439]</td>\n",
       "      <td>0.901780</td>\n",
       "    </tr>\n",
       "    <tr>\n",
       "      <th>...</th>\n",
       "      <td>...</td>\n",
       "      <td>...</td>\n",
       "      <td>...</td>\n",
       "      <td>...</td>\n",
       "    </tr>\n",
       "    <tr>\n",
       "      <th>110</th>\n",
       "      <td>-0.791672</td>\n",
       "      <td>0</td>\n",
       "      <td>(-1.0, 1.0]</td>\n",
       "      <td>0.199933</td>\n",
       "    </tr>\n",
       "    <tr>\n",
       "      <th>111</th>\n",
       "      <td>0.452238</td>\n",
       "      <td>1</td>\n",
       "      <td>(-1.0, 1.0]</td>\n",
       "      <td>0.521449</td>\n",
       "    </tr>\n",
       "    <tr>\n",
       "      <th>112</th>\n",
       "      <td>0.535510</td>\n",
       "      <td>1</td>\n",
       "      <td>(-1.0, 1.0]</td>\n",
       "      <td>0.545976</td>\n",
       "    </tr>\n",
       "    <tr>\n",
       "      <th>113</th>\n",
       "      <td>-0.532739</td>\n",
       "      <td>0</td>\n",
       "      <td>(-1.0, 1.0]</td>\n",
       "      <td>0.253472</td>\n",
       "    </tr>\n",
       "    <tr>\n",
       "      <th>114</th>\n",
       "      <td>0.317661</td>\n",
       "      <td>0</td>\n",
       "      <td>(-1.0, 1.0]</td>\n",
       "      <td>0.481642</td>\n",
       "    </tr>\n",
       "  </tbody>\n",
       "</table>\n",
       "<p>115 rows × 4 columns</p>\n",
       "</div>"
      ],
      "text/plain": [
       "            x  y          x_bin  pred_probability\n",
       "0   -0.457429  1    (-1.0, 1.0]          0.270709\n",
       "1    0.425948  1    (-1.0, 1.0]          0.513678\n",
       "2   -0.784695  0    (-1.0, 1.0]          0.201258\n",
       "3   -1.925209  0  (-2.06, -1.0]          0.061306\n",
       "4    2.252617  1   (1.0, 2.439]          0.901780\n",
       "..        ... ..            ...               ...\n",
       "110 -0.791672  0    (-1.0, 1.0]          0.199933\n",
       "111  0.452238  1    (-1.0, 1.0]          0.521449\n",
       "112  0.535510  1    (-1.0, 1.0]          0.545976\n",
       "113 -0.532739  0    (-1.0, 1.0]          0.253472\n",
       "114  0.317661  0    (-1.0, 1.0]          0.481642\n",
       "\n",
       "[115 rows x 4 columns]"
      ]
     },
     "execution_count": 43,
     "metadata": {},
     "output_type": "execute_result"
    }
   ],
   "source": [
    "df_copy"
   ]
  },
  {
   "cell_type": "markdown",
   "id": "4b2f43fc-2864-4506-9da6-2260fb1627cc",
   "metadata": {},
   "source": [
    "Lets assign the PREDICTED CLASSIFICATIONS to a NEW column!!!"
   ]
  },
  {
   "cell_type": "code",
   "execution_count": 45,
   "id": "2629309f-69e8-4caf-9713-02605a4d81c3",
   "metadata": {},
   "outputs": [],
   "source": [
    "df_copy[\"pred_class\"] = np.where(df_copy.pred_probability > 0.5, 1, 0)"
   ]
  },
  {
   "cell_type": "code",
   "execution_count": 46,
   "id": "0c11b795-6846-40d7-84a7-91fff17b90f8",
   "metadata": {},
   "outputs": [
    {
     "data": {
      "text/html": [
       "<div>\n",
       "<style scoped>\n",
       "    .dataframe tbody tr th:only-of-type {\n",
       "        vertical-align: middle;\n",
       "    }\n",
       "\n",
       "    .dataframe tbody tr th {\n",
       "        vertical-align: top;\n",
       "    }\n",
       "\n",
       "    .dataframe thead th {\n",
       "        text-align: right;\n",
       "    }\n",
       "</style>\n",
       "<table border=\"1\" class=\"dataframe\">\n",
       "  <thead>\n",
       "    <tr style=\"text-align: right;\">\n",
       "      <th></th>\n",
       "      <th>x</th>\n",
       "      <th>y</th>\n",
       "      <th>x_bin</th>\n",
       "      <th>pred_probability</th>\n",
       "      <th>pred_class</th>\n",
       "    </tr>\n",
       "  </thead>\n",
       "  <tbody>\n",
       "    <tr>\n",
       "      <th>0</th>\n",
       "      <td>-0.457429</td>\n",
       "      <td>1</td>\n",
       "      <td>(-1.0, 1.0]</td>\n",
       "      <td>0.270709</td>\n",
       "      <td>0</td>\n",
       "    </tr>\n",
       "    <tr>\n",
       "      <th>1</th>\n",
       "      <td>0.425948</td>\n",
       "      <td>1</td>\n",
       "      <td>(-1.0, 1.0]</td>\n",
       "      <td>0.513678</td>\n",
       "      <td>1</td>\n",
       "    </tr>\n",
       "    <tr>\n",
       "      <th>2</th>\n",
       "      <td>-0.784695</td>\n",
       "      <td>0</td>\n",
       "      <td>(-1.0, 1.0]</td>\n",
       "      <td>0.201258</td>\n",
       "      <td>0</td>\n",
       "    </tr>\n",
       "    <tr>\n",
       "      <th>3</th>\n",
       "      <td>-1.925209</td>\n",
       "      <td>0</td>\n",
       "      <td>(-2.06, -1.0]</td>\n",
       "      <td>0.061306</td>\n",
       "      <td>0</td>\n",
       "    </tr>\n",
       "    <tr>\n",
       "      <th>4</th>\n",
       "      <td>2.252617</td>\n",
       "      <td>1</td>\n",
       "      <td>(1.0, 2.439]</td>\n",
       "      <td>0.901780</td>\n",
       "      <td>1</td>\n",
       "    </tr>\n",
       "    <tr>\n",
       "      <th>...</th>\n",
       "      <td>...</td>\n",
       "      <td>...</td>\n",
       "      <td>...</td>\n",
       "      <td>...</td>\n",
       "      <td>...</td>\n",
       "    </tr>\n",
       "    <tr>\n",
       "      <th>110</th>\n",
       "      <td>-0.791672</td>\n",
       "      <td>0</td>\n",
       "      <td>(-1.0, 1.0]</td>\n",
       "      <td>0.199933</td>\n",
       "      <td>0</td>\n",
       "    </tr>\n",
       "    <tr>\n",
       "      <th>111</th>\n",
       "      <td>0.452238</td>\n",
       "      <td>1</td>\n",
       "      <td>(-1.0, 1.0]</td>\n",
       "      <td>0.521449</td>\n",
       "      <td>1</td>\n",
       "    </tr>\n",
       "    <tr>\n",
       "      <th>112</th>\n",
       "      <td>0.535510</td>\n",
       "      <td>1</td>\n",
       "      <td>(-1.0, 1.0]</td>\n",
       "      <td>0.545976</td>\n",
       "      <td>1</td>\n",
       "    </tr>\n",
       "    <tr>\n",
       "      <th>113</th>\n",
       "      <td>-0.532739</td>\n",
       "      <td>0</td>\n",
       "      <td>(-1.0, 1.0]</td>\n",
       "      <td>0.253472</td>\n",
       "      <td>0</td>\n",
       "    </tr>\n",
       "    <tr>\n",
       "      <th>114</th>\n",
       "      <td>0.317661</td>\n",
       "      <td>0</td>\n",
       "      <td>(-1.0, 1.0]</td>\n",
       "      <td>0.481642</td>\n",
       "      <td>0</td>\n",
       "    </tr>\n",
       "  </tbody>\n",
       "</table>\n",
       "<p>115 rows × 5 columns</p>\n",
       "</div>"
      ],
      "text/plain": [
       "            x  y          x_bin  pred_probability  pred_class\n",
       "0   -0.457429  1    (-1.0, 1.0]          0.270709           0\n",
       "1    0.425948  1    (-1.0, 1.0]          0.513678           1\n",
       "2   -0.784695  0    (-1.0, 1.0]          0.201258           0\n",
       "3   -1.925209  0  (-2.06, -1.0]          0.061306           0\n",
       "4    2.252617  1   (1.0, 2.439]          0.901780           1\n",
       "..        ... ..            ...               ...         ...\n",
       "110 -0.791672  0    (-1.0, 1.0]          0.199933           0\n",
       "111  0.452238  1    (-1.0, 1.0]          0.521449           1\n",
       "112  0.535510  1    (-1.0, 1.0]          0.545976           1\n",
       "113 -0.532739  0    (-1.0, 1.0]          0.253472           0\n",
       "114  0.317661  0    (-1.0, 1.0]          0.481642           0\n",
       "\n",
       "[115 rows x 5 columns]"
      ]
     },
     "execution_count": 46,
     "metadata": {},
     "output_type": "execute_result"
    }
   ],
   "source": [
    "df_copy"
   ]
  },
  {
   "cell_type": "code",
   "execution_count": 47,
   "id": "92ef4cfc-ca6a-4bf9-8610-a86b37dcacc4",
   "metadata": {},
   "outputs": [
    {
     "data": {
      "text/plain": [
       "pred_class\n",
       "0    72\n",
       "1    43\n",
       "Name: count, dtype: int64"
      ]
     },
     "execution_count": 47,
     "metadata": {},
     "output_type": "execute_result"
    }
   ],
   "source": [
    "df_copy.pred_class.value_counts()"
   ]
  },
  {
   "cell_type": "code",
   "execution_count": 51,
   "id": "2ba4ffc7-a305-477a-b2b3-9fe98156674e",
   "metadata": {},
   "outputs": [
    {
     "name": "stderr",
     "output_type": "stream",
     "text": [
      "/Applications/anaconda3/envs/cmpinf2100/lib/python3.8/site-packages/seaborn/axisgrid.py:123: UserWarning: The figure layout has changed to tight\n",
      "  self._figure.tight_layout(*args, **kwargs)\n"
     ]
    },
    {
     "data": {
      "image/png": "[encoded data removed]",
      "text/plain": [
       "<Figure size 584.236x500 with 1 Axes>"
      ]
     },
     "metadata": {},
     "output_type": "display_data"
    }
   ],
   "source": [
    "sns.catplot(data=df_copy, x=\"pred_class\", hue=\"pred_class\", kind=\"count\")\n",
    "\n",
    "plt.show()"
   ]
  },
  {
   "cell_type": "code",
   "execution_count": null,
   "id": "fd9ac966-20d6-4d14-8bbb-7102420613a6",
   "metadata": {},
   "outputs": [],
   "source": []
  }
 ],
 "metadata": {
  "kernelspec": {
   "display_name": "Python 3 (ipykernel)",
   "language": "python",
   "name": "python3"
  },
  "language_info": {
   "codemirror_mode": {
    "name": "ipython",
    "version": 3
   },
   "file_extension": ".py",
   "mimetype": "text/x-python",
   "name": "python",
   "nbconvert_exporter": "python",
   "pygments_lexer": "ipython3",
   "version": "3.8.19"
  }
 },
 "nbformat": 4,
 "nbformat_minor": 5
}
