{
 "cells": [
  {
   "cell_type": "markdown",
   "id": "06ad100b-510a-4501-8192-b27ab880b7c0",
   "metadata": {},
   "source": [
    "## CMPINF 2100 Week 13\n",
    "### Measuring CLASSIFICATION PERFORMANCE - Confusion Matrix\n",
    "## Import Modules"
   ]
  },
  {
   "cell_type": "code",
   "execution_count": 1,
   "id": "92bcc327-5dd7-428b-97f9-f6b70e688a58",
   "metadata": {},
   "outputs": [],
   "source": [
    "import numpy as np\n",
    "import pandas as pd\n",
    "import matplotlib.pyplot as plt\n",
    "\n",
    "import seaborn as sns"
   ]
  },
  {
   "cell_type": "code",
   "execution_count": 2,
   "id": "0a837886-33df-4c65-bd85-ba78c287ca30",
   "metadata": {},
   "outputs": [],
   "source": [
    "import statsmodels.formula.api as smf"
   ]
  },
  {
   "cell_type": "markdown",
   "id": "b8c8c61b-d2f9-4a50-8af1-c4943e50b59d",
   "metadata": {},
   "source": [
    "## Read Data\n",
    "Read data from last week."
   ]
  },
  {
   "cell_type": "code",
   "execution_count": 3,
   "id": "5f0cb98e-4eef-475b-a0f8-bc9e1f015b8c",
   "metadata": {},
   "outputs": [],
   "source": [
    "df = pd.read_csv(\"../week_12/week_11_intro_binary_classification.csv\")"
   ]
  },
  {
   "cell_type": "code",
   "execution_count": 4,
   "id": "d0297a0c-af6d-4ec8-8090-2da96cb20d17",
   "metadata": {},
   "outputs": [
    {
     "name": "stdout",
     "output_type": "stream",
     "text": [
      "<class 'pandas.core.frame.DataFrame'>\n",
      "RangeIndex: 115 entries, 0 to 114\n",
      "Data columns (total 2 columns):\n",
      " #   Column  Non-Null Count  Dtype  \n",
      "---  ------  --------------  -----  \n",
      " 0   x       115 non-null    float64\n",
      " 1   y       115 non-null    int64  \n",
      "dtypes: float64(1), int64(1)\n",
      "memory usage: 1.9 KB\n"
     ]
    }
   ],
   "source": [
    "df.info()"
   ]
  },
  {
   "cell_type": "markdown",
   "id": "af32a857-fcd3-4982-bc55-e2ab0fdddaa3",
   "metadata": {},
   "source": [
    "## Fit the model"
   ]
  },
  {
   "cell_type": "code",
   "execution_count": 5,
   "id": "06d6b27b-94ce-4558-b43f-18b86aef1987",
   "metadata": {},
   "outputs": [
    {
     "name": "stdout",
     "output_type": "stream",
     "text": [
      "Optimization terminated successfully.\n",
      "         Current function value: 0.560099\n",
      "         Iterations 6\n"
     ]
    }
   ],
   "source": [
    "fit_glm = smf.logit(formula=\"y ~ x\", data=df).fit()"
   ]
  },
  {
   "cell_type": "markdown",
   "id": "f578182d-81e1-44a5-bada-11536bdd05a5",
   "metadata": {},
   "source": [
    "## Predict the training set"
   ]
  },
  {
   "cell_type": "code",
   "execution_count": 6,
   "id": "73f748eb-b9a7-48cc-9acc-577ddc7f6459",
   "metadata": {},
   "outputs": [],
   "source": [
    "df_copy = df.copy()"
   ]
  },
  {
   "cell_type": "code",
   "execution_count": 7,
   "id": "2c8b2157-3862-492f-ae79-88367353ee0b",
   "metadata": {},
   "outputs": [],
   "source": [
    "df_copy[\"pred_probability\"] = fit_glm.predict(df)"
   ]
  },
  {
   "cell_type": "code",
   "execution_count": 8,
   "id": "58ad286a-272b-4f39-9501-5bcdb517f4f7",
   "metadata": {},
   "outputs": [
    {
     "data": {
      "text/html": [
       "<div>\n",
       "<style scoped>\n",
       "    .dataframe tbody tr th:only-of-type {\n",
       "        vertical-align: middle;\n",
       "    }\n",
       "\n",
       "    .dataframe tbody tr th {\n",
       "        vertical-align: top;\n",
       "    }\n",
       "\n",
       "    .dataframe thead th {\n",
       "        text-align: right;\n",
       "    }\n",
       "</style>\n",
       "<table border=\"1\" class=\"dataframe\">\n",
       "  <thead>\n",
       "    <tr style=\"text-align: right;\">\n",
       "      <th></th>\n",
       "      <th>x</th>\n",
       "      <th>y</th>\n",
       "      <th>pred_probability</th>\n",
       "    </tr>\n",
       "  </thead>\n",
       "  <tbody>\n",
       "    <tr>\n",
       "      <th>0</th>\n",
       "      <td>-0.457429</td>\n",
       "      <td>1</td>\n",
       "      <td>0.270709</td>\n",
       "    </tr>\n",
       "    <tr>\n",
       "      <th>1</th>\n",
       "      <td>0.425948</td>\n",
       "      <td>1</td>\n",
       "      <td>0.513678</td>\n",
       "    </tr>\n",
       "    <tr>\n",
       "      <th>2</th>\n",
       "      <td>-0.784695</td>\n",
       "      <td>0</td>\n",
       "      <td>0.201258</td>\n",
       "    </tr>\n",
       "    <tr>\n",
       "      <th>3</th>\n",
       "      <td>-1.925209</td>\n",
       "      <td>0</td>\n",
       "      <td>0.061306</td>\n",
       "    </tr>\n",
       "    <tr>\n",
       "      <th>4</th>\n",
       "      <td>2.252617</td>\n",
       "      <td>1</td>\n",
       "      <td>0.901780</td>\n",
       "    </tr>\n",
       "    <tr>\n",
       "      <th>...</th>\n",
       "      <td>...</td>\n",
       "      <td>...</td>\n",
       "      <td>...</td>\n",
       "    </tr>\n",
       "    <tr>\n",
       "      <th>110</th>\n",
       "      <td>-0.791672</td>\n",
       "      <td>0</td>\n",
       "      <td>0.199933</td>\n",
       "    </tr>\n",
       "    <tr>\n",
       "      <th>111</th>\n",
       "      <td>0.452238</td>\n",
       "      <td>1</td>\n",
       "      <td>0.521449</td>\n",
       "    </tr>\n",
       "    <tr>\n",
       "      <th>112</th>\n",
       "      <td>0.535510</td>\n",
       "      <td>1</td>\n",
       "      <td>0.545976</td>\n",
       "    </tr>\n",
       "    <tr>\n",
       "      <th>113</th>\n",
       "      <td>-0.532739</td>\n",
       "      <td>0</td>\n",
       "      <td>0.253472</td>\n",
       "    </tr>\n",
       "    <tr>\n",
       "      <th>114</th>\n",
       "      <td>0.317661</td>\n",
       "      <td>0</td>\n",
       "      <td>0.481642</td>\n",
       "    </tr>\n",
       "  </tbody>\n",
       "</table>\n",
       "<p>115 rows × 3 columns</p>\n",
       "</div>"
      ],
      "text/plain": [
       "            x  y  pred_probability\n",
       "0   -0.457429  1          0.270709\n",
       "1    0.425948  1          0.513678\n",
       "2   -0.784695  0          0.201258\n",
       "3   -1.925209  0          0.061306\n",
       "4    2.252617  1          0.901780\n",
       "..        ... ..               ...\n",
       "110 -0.791672  0          0.199933\n",
       "111  0.452238  1          0.521449\n",
       "112  0.535510  1          0.545976\n",
       "113 -0.532739  0          0.253472\n",
       "114  0.317661  0          0.481642\n",
       "\n",
       "[115 rows x 3 columns]"
      ]
     },
     "execution_count": 8,
     "metadata": {},
     "output_type": "execute_result"
    }
   ],
   "source": [
    "df_copy"
   ]
  },
  {
   "cell_type": "markdown",
   "id": "4d7c8d5e-afda-4e39-b0e7-94d405932fe7",
   "metadata": {},
   "source": [
    "## Classify the training set"
   ]
  },
  {
   "cell_type": "code",
   "execution_count": 9,
   "id": "2b2605f2-1caf-4a4b-8689-1ee7b56416ab",
   "metadata": {},
   "outputs": [],
   "source": [
    "df_copy[\"pred_class\"] = np.where(df_copy.pred_probability > 0.5, 1, 0)"
   ]
  },
  {
   "cell_type": "markdown",
   "id": "773a47ba-c91f-4f0f-8bfb-5d7b999cee8a",
   "metadata": {},
   "source": [
    "## Accuracy\n",
    "The Accuracy is the PROPORTION of CORRECT CLASSIFICATIONS!!"
   ]
  },
  {
   "cell_type": "code",
   "execution_count": 10,
   "id": "cbbc86eb-db44-4d67-924a-bd90ea16234c",
   "metadata": {},
   "outputs": [
    {
     "data": {
      "text/plain": [
       "0.6782608695652174"
      ]
     },
     "execution_count": 10,
     "metadata": {},
     "output_type": "execute_result"
    }
   ],
   "source": [
    "np.mean(df_copy.pred_class == df_copy.y)"
   ]
  },
  {
   "cell_type": "markdown",
   "id": "ea630042-7313-4da3-80ef-bc4c1ec75e84",
   "metadata": {},
   "source": [
    "But the ACCURACY does NOT tell us HOW the model was right..ACCURACY does NOT tell us HOW the model was wrong!!\n",
    "\n",
    "Many times we need MORE INFORMATION or DETAILS about **HOW** the classifications were RIGHT or WRONG!!!\n",
    "\n",
    "We need to examine the ERRORS!!!\n",
    "\n",
    "The ERRORS in BINARY CLASSIFICATION problem are typically organized in a graphical tool known as the **CONFUSION MATRIX**."
   ]
  },
  {
   "cell_type": "markdown",
   "id": "c02308c6-a60e-4c9d-aaad-108c0c5b3dc8",
   "metadata": {},
   "source": [
    "## CONFUSION MATRIX\n",
    "The CONFUSION MATRIX has a special and magic sounding name. But you already know how to calculate the CONFUSION MATRIX because the CONFUSION MATRIX is nothing more than the COUNTS for the **COMBINATION** of 2 categorical variables!!"
   ]
  },
  {
   "cell_type": "code",
   "execution_count": 11,
   "id": "7456878a-22be-4a2b-af1f-a51684906c4d",
   "metadata": {},
   "outputs": [
    {
     "data": {
      "text/plain": [
       "y\n",
       "0    67\n",
       "1    48\n",
       "Name: count, dtype: int64"
      ]
     },
     "execution_count": 11,
     "metadata": {},
     "output_type": "execute_result"
    }
   ],
   "source": [
    "df_copy.y.value_counts()"
   ]
  },
  {
   "cell_type": "code",
   "execution_count": 12,
   "id": "5d59b60e-3c24-48a1-8b38-f74937c46c4e",
   "metadata": {},
   "outputs": [
    {
     "data": {
      "text/plain": [
       "pred_class\n",
       "0    72\n",
       "1    43\n",
       "Name: count, dtype: int64"
      ]
     },
     "execution_count": 12,
     "metadata": {},
     "output_type": "execute_result"
    }
   ],
   "source": [
    "df_copy.pred_class.value_counts()"
   ]
  },
  {
   "cell_type": "markdown",
   "id": "5afed2da-989a-4036-9a6f-023a8e7feac5",
   "metadata": {},
   "source": [
    "We learned about DODGED BAR CHARTS and HEAT MAPS for visualizing the COMBINATIONS between CATEGORICAL VARIBALES!!\n",
    "\n",
    "The CONFUSION MATRIX is a HEAT MAP between the OBSERVED OUTPUT CLASS and the PREDICTED CLASS!!!\n",
    "\n",
    "We need to first CROSS-TABULATE the observed output with the predicted class."
   ]
  },
  {
   "cell_type": "code",
   "execution_count": 14,
   "id": "a6ded0bb-87d7-4c97-b2b7-2e79e47aacea",
   "metadata": {},
   "outputs": [
    {
     "data": {
      "text/html": [
       "<div>\n",
       "<style scoped>\n",
       "    .dataframe tbody tr th:only-of-type {\n",
       "        vertical-align: middle;\n",
       "    }\n",
       "\n",
       "    .dataframe tbody tr th {\n",
       "        vertical-align: top;\n",
       "    }\n",
       "\n",
       "    .dataframe thead th {\n",
       "        text-align: right;\n",
       "    }\n",
       "</style>\n",
       "<table border=\"1\" class=\"dataframe\">\n",
       "  <thead>\n",
       "    <tr style=\"text-align: right;\">\n",
       "      <th>pred_class</th>\n",
       "      <th>0</th>\n",
       "      <th>1</th>\n",
       "    </tr>\n",
       "    <tr>\n",
       "      <th>y</th>\n",
       "      <th></th>\n",
       "      <th></th>\n",
       "    </tr>\n",
       "  </thead>\n",
       "  <tbody>\n",
       "    <tr>\n",
       "      <th>0</th>\n",
       "      <td>0.443478</td>\n",
       "      <td>0.139130</td>\n",
       "    </tr>\n",
       "    <tr>\n",
       "      <th>1</th>\n",
       "      <td>0.182609</td>\n",
       "      <td>0.234783</td>\n",
       "    </tr>\n",
       "  </tbody>\n",
       "</table>\n",
       "</div>"
      ],
      "text/plain": [
       "pred_class         0         1\n",
       "y                             \n",
       "0           0.443478  0.139130\n",
       "1           0.182609  0.234783"
      ]
     },
     "execution_count": 14,
     "metadata": {},
     "output_type": "execute_result"
    }
   ],
   "source": [
    "pd.crosstab(df_copy.y, df_copy.pred_class, normalize=True)"
   ]
  },
  {
   "cell_type": "markdown",
   "id": "de5621f8-deb3-46c3-8b17-e3d4352b5607",
   "metadata": {},
   "source": [
    "Lets visualize the CONFUSION MATRIX as a Seaborn heatmap!!"
   ]
  },
  {
   "cell_type": "code",
   "execution_count": 18,
   "id": "841536ab-d768-456c-bac4-9d63f168d9f1",
   "metadata": {},
   "outputs": [
    {
     "data": {
      "image/png": "[encoded data removed]",
      "text/plain": [
       "<Figure size 640x480 with 2 Axes>"
      ]
     },
     "metadata": {},
     "output_type": "display_data"
    }
   ],
   "source": [
    "fig, ax = plt.subplots()\n",
    "\n",
    "sns.heatmap(pd.crosstab(df_copy.y, df_copy.pred_class, margins=True),\n",
    "            annot=True,\n",
    "            annot_kws={\"size\": 15},\n",
    "            fmt=\"3d\",\n",
    "            ax=ax)\n",
    "\n",
    "plt.show()            "
   ]
  },
  {
   "cell_type": "code",
   "execution_count": 19,
   "id": "d9c53681-6598-4ec7-84be-142c919472ea",
   "metadata": {},
   "outputs": [
    {
     "data": {
      "text/plain": [
       "y\n",
       "0    67\n",
       "1    48\n",
       "Name: count, dtype: int64"
      ]
     },
     "execution_count": 19,
     "metadata": {},
     "output_type": "execute_result"
    }
   ],
   "source": [
    "df_copy.y.value_counts()"
   ]
  },
  {
   "cell_type": "code",
   "execution_count": 20,
   "id": "61effaa0-4730-4f08-8d9d-4d1682af6fe8",
   "metadata": {},
   "outputs": [
    {
     "data": {
      "text/plain": [
       "pred_class\n",
       "0    72\n",
       "1    43\n",
       "Name: count, dtype: int64"
      ]
     },
     "execution_count": 20,
     "metadata": {},
     "output_type": "execute_result"
    }
   ],
   "source": [
    "df_copy.pred_class.value_counts()"
   ]
  },
  {
   "cell_type": "markdown",
   "id": "d9f081f3-aca3-44df-adcc-3bad00a3d35d",
   "metadata": {},
   "source": [
    "I like to use EVENT and NON-EVENT instead of the POSITIVE and NEGATIVE terms because POS sounds \"good\". I often work in problems where the EVENT I want to classify is a BAD THING such as a FAILURE.\\\n",
    "True/False = Designation (Observed)\\\n",
    "Positive/Negative = Model Predictions\n",
    "\n",
    "But SKLEARN has a function that calcs the TP, TN, FP, FN counts for you."
   ]
  },
  {
   "cell_type": "code",
   "execution_count": 21,
   "id": "3f235c91-0747-4025-8093-12cda7eef874",
   "metadata": {},
   "outputs": [],
   "source": [
    "from sklearn.metrics import confusion_matrix"
   ]
  },
  {
   "cell_type": "code",
   "execution_count": 23,
   "id": "0381714c-6151-4cdb-9cc3-8a215d7bc959",
   "metadata": {},
   "outputs": [
    {
     "data": {
      "text/plain": [
       "array([[51, 16],\n",
       "       [21, 27]])"
      ]
     },
     "execution_count": 23,
     "metadata": {},
     "output_type": "execute_result"
    }
   ],
   "source": [
    "confusion_matrix(df_copy.y.to_numpy(), df_copy.pred_class.to_numpy())"
   ]
  },
  {
   "cell_type": "code",
   "execution_count": 24,
   "id": "8f1c2590-a18e-4bcd-9e03-a3315cd7da4b",
   "metadata": {},
   "outputs": [
    {
     "data": {
      "text/plain": [
       "array([51, 16, 21, 27])"
      ]
     },
     "execution_count": 24,
     "metadata": {},
     "output_type": "execute_result"
    }
   ],
   "source": [
    "confusion_matrix(df_copy.y.to_numpy(), df_copy.pred_class.to_numpy()).ravel()"
   ]
  },
  {
   "cell_type": "markdown",
   "id": "e53fe5f1-9c69-4f85-98fb-602f793ad321",
   "metadata": {},
   "source": [
    "That said, there is a useful reason to use the SKLEARN function. This useful reason requires specifying or NAMING the OUTPUT."
   ]
  },
  {
   "cell_type": "code",
   "execution_count": 25,
   "id": "d676d9e8-790e-49ae-8c4b-b9df25e621fb",
   "metadata": {},
   "outputs": [],
   "source": [
    "TN, FP, FN, TP = confusion_matrix(df_copy.y.to_numpy(), df_copy.pred_class.to_numpy()).ravel()"
   ]
  },
  {
   "cell_type": "code",
   "execution_count": 26,
   "id": "5b5bda77-914b-4288-af41-9d3f1fa99588",
   "metadata": {},
   "outputs": [
    {
     "data": {
      "text/plain": [
       "51"
      ]
     },
     "execution_count": 26,
     "metadata": {},
     "output_type": "execute_result"
    }
   ],
   "source": [
    "TN"
   ]
  },
  {
   "cell_type": "markdown",
   "id": "807dd194-5154-4607-939e-a0039a5853ff",
   "metadata": {},
   "source": [
    "We can calculate ACCURACY using the CONFUSION MATRIX!"
   ]
  },
  {
   "cell_type": "code",
   "execution_count": 27,
   "id": "1feaa775-00be-4091-a94d-af8f2a115e4d",
   "metadata": {},
   "outputs": [
    {
     "data": {
      "text/plain": [
       "0.6782608695652174"
      ]
     },
     "execution_count": 27,
     "metadata": {},
     "output_type": "execute_result"
    }
   ],
   "source": [
    "(TN + TP)/(TN+FP+FN+TP)"
   ]
  },
  {
   "cell_type": "code",
   "execution_count": 28,
   "id": "1908ff61-1a4f-4520-981d-fc3df090c465",
   "metadata": {},
   "outputs": [
    {
     "data": {
      "text/plain": [
       "0.6782608695652174"
      ]
     },
     "execution_count": 28,
     "metadata": {},
     "output_type": "execute_result"
    }
   ],
   "source": [
    "np.mean(df_copy.y==df_copy.pred_class)"
   ]
  },
  {
   "cell_type": "markdown",
   "id": "bf8ccab8-6220-4818-b133-ebcc29f6df12",
   "metadata": {},
   "source": [
    "We can convert the CONFUSION MATRIX counts to PROPORTIONS as well!\n",
    "\n",
    "Theses PROPORTIONS change the question about what is ACCURATE relative to!!!\n",
    "\n",
    "So, ACCURACY does NOT care HOW the model is accurate.\n",
    "\n",
    "What if we wanted to know the accuracy WHEN THE EVENT is observed!!!"
   ]
  },
  {
   "cell_type": "code",
   "execution_count": 29,
   "id": "b4c33fe8-edcf-4344-a23f-73fbc970356b",
   "metadata": {},
   "outputs": [
    {
     "data": {
      "text/plain": [
       "48"
      ]
     },
     "execution_count": 29,
     "metadata": {},
     "output_type": "execute_result"
    }
   ],
   "source": [
    "FN+TP"
   ]
  },
  {
   "cell_type": "code",
   "execution_count": 30,
   "id": "04dfb27a-cf6a-4f83-b48c-a2b10b13bcdf",
   "metadata": {},
   "outputs": [
    {
     "data": {
      "text/plain": [
       "y\n",
       "0    67\n",
       "1    48\n",
       "Name: count, dtype: int64"
      ]
     },
     "execution_count": 30,
     "metadata": {},
     "output_type": "execute_result"
    }
   ],
   "source": [
    "df_copy.y.value_counts()"
   ]
  },
  {
   "cell_type": "markdown",
   "id": "914f75a7-635d-4bc4-9999-c30143a9da30",
   "metadata": {},
   "source": [
    "The TRUE POSITIVE RATE (TPR) or **SENSITIVITY** is the PROPORTION of times the model correctly classifies the EVENT **WHEN** the EVENT is observed!!"
   ]
  },
  {
   "cell_type": "code",
   "execution_count": 31,
   "id": "6fc421d3-68e9-4b4d-b8b2-6abf43ef8783",
   "metadata": {},
   "outputs": [
    {
     "data": {
      "text/plain": [
       "0.5625"
      ]
     },
     "execution_count": 31,
     "metadata": {},
     "output_type": "execute_result"
    }
   ],
   "source": [
    "TP/(TP+FN)"
   ]
  },
  {
   "cell_type": "markdown",
   "id": "339fe2bc-d990-46e1-b93a-96254534d146",
   "metadata": {},
   "source": [
    "Likewise, we can focus on the NON-EVENT situation. \n",
    "\n",
    "The TRUE NEGATIVE RATE (TNR) OR **SPECIFICITY** is the PROPORTION of times the model correctly classifies THE NON-EVENT **WHEN** THE NON-EVENT is observed!!!"
   ]
  },
  {
   "cell_type": "code",
   "execution_count": 32,
   "id": "eefe0dab-1f49-47fa-958f-28364c4e4632",
   "metadata": {},
   "outputs": [
    {
     "data": {
      "text/plain": [
       "0.7611940298507462"
      ]
     },
     "execution_count": 32,
     "metadata": {},
     "output_type": "execute_result"
    }
   ],
   "source": [
    "TN/(TN+FP)"
   ]
  },
  {
   "cell_type": "code",
   "execution_count": 33,
   "id": "4441ed34-12d9-4853-80dc-00eca3766ba2",
   "metadata": {},
   "outputs": [
    {
     "data": {
      "text/plain": [
       "67"
      ]
     },
     "execution_count": 33,
     "metadata": {},
     "output_type": "execute_result"
    }
   ],
   "source": [
    "TN+FP"
   ]
  },
  {
   "cell_type": "markdown",
   "id": "ea931726-5fd6-440b-ada9-5057a8981ad0",
   "metadata": {},
   "source": [
    "Sensitivity and Specificty let you know which CLASS, EVENT or NON-EVENT, the MODEL is BETTER at predicting!!!!\n",
    "\n",
    "A related statistics to the Specificity is the **FALSE POSITIVE RATE (FPR)**. The FPR is 1 minus the Specifity."
   ]
  },
  {
   "cell_type": "code",
   "execution_count": 34,
   "id": "30e71b90-e3f5-404d-9b2a-21bcdeffc4d9",
   "metadata": {},
   "outputs": [
    {
     "data": {
      "text/plain": [
       "0.23880597014925375"
      ]
     },
     "execution_count": 34,
     "metadata": {},
     "output_type": "execute_result"
    }
   ],
   "source": [
    "1 - (TN/(TN+FP))"
   ]
  },
  {
   "cell_type": "markdown",
   "id": "9053a09e-4c89-4ac1-8d8b-9cc96caf6a6f",
   "metadata": {},
   "source": [
    "## Summary\n",
    "The CONFUSION MATRIX provides the COUNTS for the COMBOS of the observed output and the model predicted CLASS.\n",
    "\n",
    "The CONFUSION MATRIX has 4 cells in a BINARY CLASSIFICATION problem because there are 4 combos!!!\n",
    "\n",
    "Those cells have import meanings:\n",
    "* TRUE POSITIVE (TP): classify the EVENT and observe the EVENT - correct classification\n",
    "* TRUE NEGATIVE (TN): classify the NON-EVENT and observe the NON-EVENT - correct classification\n",
    "* FALSE POSITIVE (FP): classify the EVENT and observe the NON-EVENT - inccorrect classification\n",
    "* FALSE NEGATIVE (FN): classify the NON-EVENT and observe the EVENT - inccorrect classification\n",
    "\n",
    "Accuracy is the proportion of correct classifications:\n",
    "(TN+TP)/(All)\n",
    "\n",
    "Sensitivity or the TRUE POSITIVE RATE is the proportion of CLASSIFIED THE EVENT/OBSERVED THE EVENT:\n",
    "* TP/(TP+FN)\n",
    "\n",
    "Specificity or the TRUE NEGATIVE RATE is the proportion of CLASSIFIED THE NON-EVENT/OBSERVED THE NON-EVENT:\n",
    "* TN/(TN+FP)\n",
    "\n",
    "The FALSE POSITIVE RATE is the PROPORTION of INCORRECT classifications when the EVENT is NOT observed.\n",
    "* 1 - Specificity"
   ]
  },
  {
   "cell_type": "code",
   "execution_count": null,
   "id": "8f2355f8-73c3-4d37-a08b-2a97fcb2bfe0",
   "metadata": {},
   "outputs": [],
   "source": []
  }
 ],
 "metadata": {
  "kernelspec": {
   "display_name": "Python 3 (ipykernel)",
   "language": "python",
   "name": "python3"
  },
  "language_info": {
   "codemirror_mode": {
    "name": "ipython",
    "version": 3
   },
   "file_extension": ".py",
   "mimetype": "text/x-python",
   "name": "python",
   "nbconvert_exporter": "python",
   "pygments_lexer": "ipython3",
   "version": "3.8.19"
  }
 },
 "nbformat": 4,
 "nbformat_minor": 5
}
