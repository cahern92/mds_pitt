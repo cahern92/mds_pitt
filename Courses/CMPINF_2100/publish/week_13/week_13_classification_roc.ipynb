{
 "cells": [
  {
   "cell_type": "markdown",
   "id": "07ab1af3-3b87-4e0f-9eb5-615b78a9d96c",
   "metadata": {},
   "source": [
    "## CMPINF 2100 Week 13\n",
    "### Measuring CLASSIFICATION PERFORMANCE - ROC Curve\n",
    "In this video, you will larn what happens if the THRESHOLD which determines the classification is changed!\n",
    "## Import Modules"
   ]
  },
  {
   "cell_type": "code",
   "execution_count": 1,
   "id": "3797d569-0d5e-4a20-b584-3ab0108b4720",
   "metadata": {},
   "outputs": [],
   "source": [
    "import numpy as np\n",
    "import pandas as pd\n",
    "import matplotlib.pyplot as plt\n",
    "\n",
    "import seaborn as sns"
   ]
  },
  {
   "cell_type": "code",
   "execution_count": 2,
   "id": "d72a7364-523c-475a-afe4-b85283f9b124",
   "metadata": {},
   "outputs": [],
   "source": [
    "import statsmodels.formula.api as smf"
   ]
  },
  {
   "cell_type": "markdown",
   "id": "07d2367a-4679-4e3e-825a-a4ddfe55798f",
   "metadata": {},
   "source": [
    "## Read Data\n",
    "Read data from last week."
   ]
  },
  {
   "cell_type": "code",
   "execution_count": 3,
   "id": "05ad25cc-0325-4329-8ecf-500cbbd6e174",
   "metadata": {},
   "outputs": [],
   "source": [
    "df = pd.read_csv(\"../week_12/week_11_intro_binary_classification.csv\")"
   ]
  },
  {
   "cell_type": "code",
   "execution_count": 4,
   "id": "f3e52b68-3f00-44d9-95b2-b94a6c07fd1e",
   "metadata": {},
   "outputs": [
    {
     "name": "stdout",
     "output_type": "stream",
     "text": [
      "<class 'pandas.core.frame.DataFrame'>\n",
      "RangeIndex: 115 entries, 0 to 114\n",
      "Data columns (total 2 columns):\n",
      " #   Column  Non-Null Count  Dtype  \n",
      "---  ------  --------------  -----  \n",
      " 0   x       115 non-null    float64\n",
      " 1   y       115 non-null    int64  \n",
      "dtypes: float64(1), int64(1)\n",
      "memory usage: 1.9 KB\n"
     ]
    }
   ],
   "source": [
    "df.info()"
   ]
  },
  {
   "cell_type": "markdown",
   "id": "80d9c7b9-8e3f-4dae-8b0a-21c9b7dfcac3",
   "metadata": {},
   "source": [
    "## Fit the model"
   ]
  },
  {
   "cell_type": "code",
   "execution_count": 5,
   "id": "dc6fc8ce-9991-47c6-a241-f4b10fbe661e",
   "metadata": {},
   "outputs": [
    {
     "name": "stdout",
     "output_type": "stream",
     "text": [
      "Optimization terminated successfully.\n",
      "         Current function value: 0.560099\n",
      "         Iterations 6\n"
     ]
    }
   ],
   "source": [
    "fit_glm = smf.logit(formula=\"y ~ x\", data=df).fit()"
   ]
  },
  {
   "cell_type": "markdown",
   "id": "7f68acd8-8d44-4e5d-aa9a-8c9ff1d0fee0",
   "metadata": {},
   "source": [
    "## Predict the training set"
   ]
  },
  {
   "cell_type": "code",
   "execution_count": 6,
   "id": "6882be60-eeff-4888-b4b2-99a66bc3967d",
   "metadata": {},
   "outputs": [],
   "source": [
    "df_copy = df.copy()"
   ]
  },
  {
   "cell_type": "code",
   "execution_count": 7,
   "id": "edfc969f-cfd9-4b34-b719-fd40db96f0c0",
   "metadata": {},
   "outputs": [],
   "source": [
    "df_copy[\"pred_probability\"] = fit_glm.predict(df)"
   ]
  },
  {
   "cell_type": "markdown",
   "id": "492af5a3-7998-4323-88d8-15ad53e04e23",
   "metadata": {},
   "source": [
    "## Classify the predictions on the training set\n",
    "Start with the DEFAULT or COMMON threshold of 50%"
   ]
  },
  {
   "cell_type": "code",
   "execution_count": 8,
   "id": "5c11bfb6-1d4a-44fb-b506-1d6335baaded",
   "metadata": {},
   "outputs": [],
   "source": [
    "df_copy[\"pred_class\"] = np.where(df_copy.pred_probability > 0.5, 1, 0)"
   ]
  },
  {
   "cell_type": "markdown",
   "id": "71b2ea80-6e5c-4bc1-9cea-383ee5363b78",
   "metadata": {},
   "source": [
    "## Accuracy"
   ]
  },
  {
   "cell_type": "code",
   "execution_count": 9,
   "id": "9b3d1110-15ee-4607-b648-9bec42d5d5ae",
   "metadata": {},
   "outputs": [
    {
     "data": {
      "text/plain": [
       "0.6782608695652174"
      ]
     },
     "execution_count": 9,
     "metadata": {},
     "output_type": "execute_result"
    }
   ],
   "source": [
    "np.mean(df_copy.y == df_copy.pred_class)"
   ]
  },
  {
   "cell_type": "markdown",
   "id": "7dfbccf7-719d-4f8d-bd3b-c85b66e86219",
   "metadata": {},
   "source": [
    "## Confusion Matrix"
   ]
  },
  {
   "cell_type": "code",
   "execution_count": 10,
   "id": "467f4247-580e-42c3-9c5b-c72eee6bb111",
   "metadata": {},
   "outputs": [
    {
     "data": {
      "image/png": "[encoded data removed]",
      "text/plain": [
       "<Figure size 640x480 with 2 Axes>"
      ]
     },
     "metadata": {},
     "output_type": "display_data"
    }
   ],
   "source": [
    "fig, ax = plt.subplots()\n",
    "\n",
    "sns.heatmap(data=pd.crosstab(df_copy.y, df_copy.pred_class, margins=True),\n",
    "            annot=True,\n",
    "            annot_kws={\"size\": 15},\n",
    "            fmt=\"d\",\n",
    "            ax=ax)\n",
    "\n",
    "plt.show()"
   ]
  },
  {
   "cell_type": "markdown",
   "id": "d923939d-331d-464a-bd2a-cea1326187fa",
   "metadata": {},
   "source": [
    "The confusion matrix counts can be easily calculated from a SKLEARN function."
   ]
  },
  {
   "cell_type": "code",
   "execution_count": 11,
   "id": "74cb6460-9f88-456f-9950-fdc70f8e5a1e",
   "metadata": {},
   "outputs": [],
   "source": [
    "from sklearn.metrics import confusion_matrix"
   ]
  },
  {
   "cell_type": "code",
   "execution_count": 34,
   "id": "a4e125d4-8a3b-408e-8d6b-545057f85942",
   "metadata": {},
   "outputs": [],
   "source": [
    "TN, FP, FN, TP = confusion_matrix(df_copy.y.to_numpy(), df_copy.pred_class.to_numpy()).ravel()"
   ]
  },
  {
   "cell_type": "markdown",
   "id": "e7ebb702-4592-45c5-97ec-31096b6d2342",
   "metadata": {},
   "source": [
    "We can calculate the ACCURACY from the CONFUSION MATRIX."
   ]
  },
  {
   "cell_type": "code",
   "execution_count": 14,
   "id": "224cd5e2-8867-43d6-8dc6-590a0865e573",
   "metadata": {},
   "outputs": [],
   "source": [
    "Accuracy = (TP + TN)/(TP + FP + TN + FN)"
   ]
  },
  {
   "cell_type": "code",
   "execution_count": 15,
   "id": "02f27a3f-f758-4618-a407-611f52275030",
   "metadata": {},
   "outputs": [
    {
     "data": {
      "text/plain": [
       "0.6782608695652174"
      ]
     },
     "execution_count": 15,
     "metadata": {},
     "output_type": "execute_result"
    }
   ],
   "source": [
    "Accuracy"
   ]
  },
  {
   "cell_type": "markdown",
   "id": "a1c6e0e7-be6b-4f3f-9432-59047d120f10",
   "metadata": {},
   "source": [
    "We can calculate the SENSITIVITY or TRUE POSITIVE RATE (TPR)"
   ]
  },
  {
   "cell_type": "code",
   "execution_count": 17,
   "id": "b0a0f395-cff2-404a-be85-6d3024eb2fa6",
   "metadata": {},
   "outputs": [],
   "source": [
    "Sensitivity = TP/(TP + FN)"
   ]
  },
  {
   "cell_type": "code",
   "execution_count": 18,
   "id": "46b00e4d-da4a-4ee6-8def-284a0ffacf6f",
   "metadata": {},
   "outputs": [
    {
     "data": {
      "text/plain": [
       "0.5625"
      ]
     },
     "execution_count": 18,
     "metadata": {},
     "output_type": "execute_result"
    }
   ],
   "source": [
    "Sensitivity"
   ]
  },
  {
   "cell_type": "markdown",
   "id": "c130dabe-748a-408e-ad14-83e727abde78",
   "metadata": {},
   "source": [
    "We can calculate the SPECIFICITY or TRUE NEGATIVE RATE (TNR)"
   ]
  },
  {
   "cell_type": "code",
   "execution_count": 21,
   "id": "3c0134d7-4e52-49e1-a570-659e3fea8c7e",
   "metadata": {},
   "outputs": [],
   "source": [
    "Specificity = TN/(TN + FP)"
   ]
  },
  {
   "cell_type": "code",
   "execution_count": 22,
   "id": "a52c6079-3e50-45b1-9dca-8e07d0e1109e",
   "metadata": {},
   "outputs": [
    {
     "data": {
      "text/plain": [
       "0.7611940298507462"
      ]
     },
     "execution_count": 22,
     "metadata": {},
     "output_type": "execute_result"
    }
   ],
   "source": [
    "Specificity"
   ]
  },
  {
   "cell_type": "markdown",
   "id": "f3285f95-027d-42f2-802f-50e07126d04e",
   "metadata": {},
   "source": [
    "Or we can express the Specificity via the FPR."
   ]
  },
  {
   "cell_type": "code",
   "execution_count": 23,
   "id": "17ac53c0-4f10-4e59-86f7-42bb36cb6a95",
   "metadata": {},
   "outputs": [],
   "source": [
    "FPR = 1 - Specificity"
   ]
  },
  {
   "cell_type": "code",
   "execution_count": 24,
   "id": "41fdacaa-2efb-43b5-8acc-8bc0abccc2ec",
   "metadata": {},
   "outputs": [
    {
     "data": {
      "text/plain": [
       "0.23880597014925375"
      ]
     },
     "execution_count": 24,
     "metadata": {},
     "output_type": "execute_result"
    }
   ],
   "source": [
    "FPR"
   ]
  },
  {
   "cell_type": "markdown",
   "id": "b0a04cd9-c372-4317-ad2f-e0fff68c1ddd",
   "metadata": {},
   "source": [
    "The CONFUSION MATRIX and its summary stats DEPENDS on the ASSUMED THRESHOLD VALUE!!!\n",
    "\n",
    "Changing the threshold may change the confusion matrix which means the Accuracy, Sensitivity, Specificity, and FPR may change for a model!\n",
    "\n",
    "## Varing the threshold\n",
    "### Increasing the threshold above 50%\n",
    "Lets change the threshold from 50% to 75%. Now, we will only CLASSIFY the EVENT **IF** the predicted prob is GREATER than 75%.\\\n",
    "**IMPORTANT**: We do **NOT** need to refit the model when we CHANGE the threshold!!"
   ]
  },
  {
   "cell_type": "code",
   "execution_count": 25,
   "id": "7c96d974-d8fe-4261-bc99-919f1706eb96",
   "metadata": {},
   "outputs": [
    {
     "data": {
      "text/html": [
       "<div>\n",
       "<style scoped>\n",
       "    .dataframe tbody tr th:only-of-type {\n",
       "        vertical-align: middle;\n",
       "    }\n",
       "\n",
       "    .dataframe tbody tr th {\n",
       "        vertical-align: top;\n",
       "    }\n",
       "\n",
       "    .dataframe thead th {\n",
       "        text-align: right;\n",
       "    }\n",
       "</style>\n",
       "<table border=\"1\" class=\"dataframe\">\n",
       "  <thead>\n",
       "    <tr style=\"text-align: right;\">\n",
       "      <th></th>\n",
       "      <th>x</th>\n",
       "      <th>y</th>\n",
       "      <th>pred_probability</th>\n",
       "      <th>pred_class</th>\n",
       "    </tr>\n",
       "  </thead>\n",
       "  <tbody>\n",
       "    <tr>\n",
       "      <th>0</th>\n",
       "      <td>-0.457429</td>\n",
       "      <td>1</td>\n",
       "      <td>0.270709</td>\n",
       "      <td>0</td>\n",
       "    </tr>\n",
       "    <tr>\n",
       "      <th>1</th>\n",
       "      <td>0.425948</td>\n",
       "      <td>1</td>\n",
       "      <td>0.513678</td>\n",
       "      <td>1</td>\n",
       "    </tr>\n",
       "    <tr>\n",
       "      <th>2</th>\n",
       "      <td>-0.784695</td>\n",
       "      <td>0</td>\n",
       "      <td>0.201258</td>\n",
       "      <td>0</td>\n",
       "    </tr>\n",
       "    <tr>\n",
       "      <th>3</th>\n",
       "      <td>-1.925209</td>\n",
       "      <td>0</td>\n",
       "      <td>0.061306</td>\n",
       "      <td>0</td>\n",
       "    </tr>\n",
       "    <tr>\n",
       "      <th>4</th>\n",
       "      <td>2.252617</td>\n",
       "      <td>1</td>\n",
       "      <td>0.901780</td>\n",
       "      <td>1</td>\n",
       "    </tr>\n",
       "  </tbody>\n",
       "</table>\n",
       "</div>"
      ],
      "text/plain": [
       "          x  y  pred_probability  pred_class\n",
       "0 -0.457429  1          0.270709           0\n",
       "1  0.425948  1          0.513678           1\n",
       "2 -0.784695  0          0.201258           0\n",
       "3 -1.925209  0          0.061306           0\n",
       "4  2.252617  1          0.901780           1"
      ]
     },
     "execution_count": 25,
     "metadata": {},
     "output_type": "execute_result"
    }
   ],
   "source": [
    "df_copy.head()"
   ]
  },
  {
   "cell_type": "markdown",
   "id": "820b9e53-59be-4857-b97f-c5855780b2a2",
   "metadata": {},
   "source": [
    "Lets add a new col which stores the CLASSIFICATION based on a higher threshold!"
   ]
  },
  {
   "cell_type": "code",
   "execution_count": 26,
   "id": "899ee017-641f-4582-a7e7-9ca657e803b3",
   "metadata": {},
   "outputs": [],
   "source": [
    "df_copy[\"pred_class_high_threshold\"] = np.where(df_copy.pred_probability > .75, 1, 0)"
   ]
  },
  {
   "cell_type": "code",
   "execution_count": 27,
   "id": "d1938f4f-8673-4939-9e08-a11d798ae928",
   "metadata": {},
   "outputs": [
    {
     "data": {
      "text/html": [
       "<div>\n",
       "<style scoped>\n",
       "    .dataframe tbody tr th:only-of-type {\n",
       "        vertical-align: middle;\n",
       "    }\n",
       "\n",
       "    .dataframe tbody tr th {\n",
       "        vertical-align: top;\n",
       "    }\n",
       "\n",
       "    .dataframe thead th {\n",
       "        text-align: right;\n",
       "    }\n",
       "</style>\n",
       "<table border=\"1\" class=\"dataframe\">\n",
       "  <thead>\n",
       "    <tr style=\"text-align: right;\">\n",
       "      <th></th>\n",
       "      <th>x</th>\n",
       "      <th>y</th>\n",
       "      <th>pred_probability</th>\n",
       "      <th>pred_class</th>\n",
       "      <th>pred_class_high_threshold</th>\n",
       "    </tr>\n",
       "  </thead>\n",
       "  <tbody>\n",
       "    <tr>\n",
       "      <th>0</th>\n",
       "      <td>-0.457429</td>\n",
       "      <td>1</td>\n",
       "      <td>0.270709</td>\n",
       "      <td>0</td>\n",
       "      <td>0</td>\n",
       "    </tr>\n",
       "    <tr>\n",
       "      <th>1</th>\n",
       "      <td>0.425948</td>\n",
       "      <td>1</td>\n",
       "      <td>0.513678</td>\n",
       "      <td>1</td>\n",
       "      <td>0</td>\n",
       "    </tr>\n",
       "    <tr>\n",
       "      <th>2</th>\n",
       "      <td>-0.784695</td>\n",
       "      <td>0</td>\n",
       "      <td>0.201258</td>\n",
       "      <td>0</td>\n",
       "      <td>0</td>\n",
       "    </tr>\n",
       "    <tr>\n",
       "      <th>3</th>\n",
       "      <td>-1.925209</td>\n",
       "      <td>0</td>\n",
       "      <td>0.061306</td>\n",
       "      <td>0</td>\n",
       "      <td>0</td>\n",
       "    </tr>\n",
       "    <tr>\n",
       "      <th>4</th>\n",
       "      <td>2.252617</td>\n",
       "      <td>1</td>\n",
       "      <td>0.901780</td>\n",
       "      <td>1</td>\n",
       "      <td>1</td>\n",
       "    </tr>\n",
       "  </tbody>\n",
       "</table>\n",
       "</div>"
      ],
      "text/plain": [
       "          x  y  pred_probability  pred_class  pred_class_high_threshold\n",
       "0 -0.457429  1          0.270709           0                          0\n",
       "1  0.425948  1          0.513678           1                          0\n",
       "2 -0.784695  0          0.201258           0                          0\n",
       "3 -1.925209  0          0.061306           0                          0\n",
       "4  2.252617  1          0.901780           1                          1"
      ]
     },
     "execution_count": 27,
     "metadata": {},
     "output_type": "execute_result"
    }
   ],
   "source": [
    "df_copy.head()"
   ]
  },
  {
   "cell_type": "markdown",
   "id": "13a66ab4-1a30-4a6d-b8aa-5b2da80592cc",
   "metadata": {},
   "source": [
    "The confusion matrix therefore changes!!!"
   ]
  },
  {
   "cell_type": "code",
   "execution_count": 28,
   "id": "684a779c-2422-4bb3-a81b-536a49d50ee2",
   "metadata": {},
   "outputs": [
    {
     "data": {
      "image/png": "[encoded data removed]",
      "text/plain": [
       "<Figure size 640x480 with 2 Axes>"
      ]
     },
     "metadata": {},
     "output_type": "display_data"
    }
   ],
   "source": [
    "fig, ax = plt.subplots()\n",
    "\n",
    "sns.heatmap(data=pd.crosstab(df_copy.y, df_copy.pred_class_high_threshold, margins=True),\n",
    "            annot=True,\n",
    "            annot_kws={\"size\": 15},\n",
    "            fmt=\"d\",\n",
    "            ax=ax)\n",
    "\n",
    "plt.show()"
   ]
  },
  {
   "cell_type": "markdown",
   "id": "3e092677-be61-4ffb-9575-91844f546cc3",
   "metadata": {},
   "source": [
    "Lets directly compare the CONFUSION MATRICES between the two thresholds."
   ]
  },
  {
   "cell_type": "code",
   "execution_count": 31,
   "id": "0c02ec7d-33f8-46d2-ba48-493bab4348b2",
   "metadata": {},
   "outputs": [
    {
     "data": {
      "image/png": "[encoded data removed]",
      "text/plain": [
       "<Figure size 1800x700 with 4 Axes>"
      ]
     },
     "metadata": {},
     "output_type": "display_data"
    }
   ],
   "source": [
    "fig, ax = plt.subplots(1, 2, figsize=(18,7))\n",
    "\n",
    "sns.heatmap(data=pd.crosstab(df_copy.y, df_copy.pred_class, margins=True),\n",
    "            annot=True,\n",
    "            annot_kws={\"size\": 25},\n",
    "            fmt=\"d\",\n",
    "            ax=ax[0])\n",
    "ax[0].set_title(\"Threshold = 0.5\")\n",
    "\n",
    "sns.heatmap(data=pd.crosstab(df_copy.y, df_copy.pred_class_high_threshold, margins=True),\n",
    "            annot=True,\n",
    "            annot_kws={\"size\": 25},\n",
    "            fmt=\"d\",\n",
    "            ax=ax[1])\n",
    "\n",
    "ax[1].set_title(\"Threshold = 0.75\")\n",
    "\n",
    "\n",
    "plt.show()"
   ]
  },
  {
   "cell_type": "code",
   "execution_count": 32,
   "id": "f5f2f5b2-0391-40ce-8e7e-50d6d7873454",
   "metadata": {},
   "outputs": [
    {
     "data": {
      "text/plain": [
       "0.6521739130434783"
      ]
     },
     "execution_count": 32,
     "metadata": {},
     "output_type": "execute_result"
    }
   ],
   "source": [
    "np.mean(df_copy.y == df_copy.pred_class_high_threshold)"
   ]
  },
  {
   "cell_type": "markdown",
   "id": "88496fd2-60b7-4f87-bd79-f83709f6b359",
   "metadata": {},
   "source": [
    "Lets calculate the Sensitivity, Specificity and FPR for the HIGHER threshold."
   ]
  },
  {
   "cell_type": "code",
   "execution_count": 35,
   "id": "573f77ed-63a1-4aa6-a35c-c2138ba7b5b3",
   "metadata": {},
   "outputs": [],
   "source": [
    "TN_higher, FP_higher, FN_higher, TP_higher = confusion_matrix(df_copy.y.to_numpy(), df_copy.pred_class_high_threshold.to_numpy()).ravel()"
   ]
  },
  {
   "cell_type": "code",
   "execution_count": 36,
   "id": "1923ecf6-3f3a-4d45-b7b5-546c028a3cfe",
   "metadata": {},
   "outputs": [],
   "source": [
    "Accuracy_higher = (TP_higher + TN_higher)/(TP_higher + TN_higher + FP_higher + FN_higher)"
   ]
  },
  {
   "cell_type": "code",
   "execution_count": 37,
   "id": "9bbcd2d2-2322-48f4-aea3-b6d4a82beeb4",
   "metadata": {},
   "outputs": [
    {
     "data": {
      "text/plain": [
       "0.6521739130434783"
      ]
     },
     "execution_count": 37,
     "metadata": {},
     "output_type": "execute_result"
    }
   ],
   "source": [
    "Accuracy_higher"
   ]
  },
  {
   "cell_type": "code",
   "execution_count": 38,
   "id": "e725bf18-dfdd-492b-b46a-48224b4e578e",
   "metadata": {},
   "outputs": [],
   "source": [
    "Sensitivity_higher = TP_higher/(TP_higher + FN_higher)"
   ]
  },
  {
   "cell_type": "code",
   "execution_count": 39,
   "id": "a5599a1b-a283-4826-8fe2-bbf64d502a3f",
   "metadata": {},
   "outputs": [
    {
     "data": {
      "text/plain": [
       "0.20833333333333334"
      ]
     },
     "execution_count": 39,
     "metadata": {},
     "output_type": "execute_result"
    }
   ],
   "source": [
    "Sensitivity_higher"
   ]
  },
  {
   "cell_type": "markdown",
   "id": "daa8ec73-105e-4b33-b01c-a59e6002c7fa",
   "metadata": {},
   "source": [
    "RAISING THE THRESHOLD DECREASES THE SENSITIVITY!!!!"
   ]
  },
  {
   "cell_type": "code",
   "execution_count": 40,
   "id": "8b0d8040-c8d4-4925-b239-c451b015e723",
   "metadata": {},
   "outputs": [],
   "source": [
    "Specificity_higher = TN_higher/(TN_higher + FP_higher)"
   ]
  },
  {
   "cell_type": "code",
   "execution_count": 41,
   "id": "44f99a90-ad90-49b5-bf54-52bfe08dc8da",
   "metadata": {},
   "outputs": [
    {
     "data": {
      "text/plain": [
       "0.9701492537313433"
      ]
     },
     "execution_count": 41,
     "metadata": {},
     "output_type": "execute_result"
    }
   ],
   "source": [
    "Specificity_higher"
   ]
  },
  {
   "cell_type": "markdown",
   "id": "104e7354-7d81-47b8-a366-d7aab53c8fe6",
   "metadata": {},
   "source": [
    "RAISING THE THRESHOLD INCREASES THE SPECIFICITY!!!!"
   ]
  },
  {
   "cell_type": "code",
   "execution_count": 42,
   "id": "106504d4-0da8-4a0d-9c92-a1853f7064ba",
   "metadata": {},
   "outputs": [],
   "source": [
    "FPR_higher = 1 - Specificity_higher"
   ]
  },
  {
   "cell_type": "code",
   "execution_count": 43,
   "id": "f1751814-d3ca-4e76-810f-f13ff1f58fcf",
   "metadata": {},
   "outputs": [
    {
     "data": {
      "text/plain": [
       "0.02985074626865669"
      ]
     },
     "execution_count": 43,
     "metadata": {},
     "output_type": "execute_result"
    }
   ],
   "source": [
    "FPR_higher"
   ]
  },
  {
   "cell_type": "markdown",
   "id": "e9e4af0e-222b-46fe-892c-e6e586f44083",
   "metadata": {},
   "source": [
    "RAISING the threshold makes it HARDER to classify the event, meaning the FPR DECREASES!!!"
   ]
  },
  {
   "cell_type": "markdown",
   "id": "d09f66bd-e84d-4dea-99d4-dc28c3cb74c4",
   "metadata": {},
   "source": [
    "### Decrease the threshold below 50%\n",
    "Lets change the THRESHOLD from 50% to 25% and classify by comparing the predicted prob to just 25%!"
   ]
  },
  {
   "cell_type": "code",
   "execution_count": 45,
   "id": "f6141577-38cc-45a9-8316-c4668157c9f2",
   "metadata": {},
   "outputs": [],
   "source": [
    "df_copy[\"pred_class_low_threshold\"] = np.where(df_copy.pred_probability > .25, 1, 0)"
   ]
  },
  {
   "cell_type": "code",
   "execution_count": 47,
   "id": "b9577acc-c9aa-4571-9dae-e84d0dfdbef3",
   "metadata": {},
   "outputs": [
    {
     "data": {
      "text/html": [
       "<div>\n",
       "<style scoped>\n",
       "    .dataframe tbody tr th:only-of-type {\n",
       "        vertical-align: middle;\n",
       "    }\n",
       "\n",
       "    .dataframe tbody tr th {\n",
       "        vertical-align: top;\n",
       "    }\n",
       "\n",
       "    .dataframe thead th {\n",
       "        text-align: right;\n",
       "    }\n",
       "</style>\n",
       "<table border=\"1\" class=\"dataframe\">\n",
       "  <thead>\n",
       "    <tr style=\"text-align: right;\">\n",
       "      <th></th>\n",
       "      <th>x</th>\n",
       "      <th>y</th>\n",
       "      <th>pred_probability</th>\n",
       "      <th>pred_class</th>\n",
       "      <th>pred_class_high_threshold</th>\n",
       "      <th>pred_class_low_threshold</th>\n",
       "    </tr>\n",
       "  </thead>\n",
       "  <tbody>\n",
       "    <tr>\n",
       "      <th>0</th>\n",
       "      <td>-0.457429</td>\n",
       "      <td>1</td>\n",
       "      <td>0.270709</td>\n",
       "      <td>0</td>\n",
       "      <td>0</td>\n",
       "      <td>1</td>\n",
       "    </tr>\n",
       "    <tr>\n",
       "      <th>1</th>\n",
       "      <td>0.425948</td>\n",
       "      <td>1</td>\n",
       "      <td>0.513678</td>\n",
       "      <td>1</td>\n",
       "      <td>0</td>\n",
       "      <td>1</td>\n",
       "    </tr>\n",
       "    <tr>\n",
       "      <th>2</th>\n",
       "      <td>-0.784695</td>\n",
       "      <td>0</td>\n",
       "      <td>0.201258</td>\n",
       "      <td>0</td>\n",
       "      <td>0</td>\n",
       "      <td>0</td>\n",
       "    </tr>\n",
       "    <tr>\n",
       "      <th>3</th>\n",
       "      <td>-1.925209</td>\n",
       "      <td>0</td>\n",
       "      <td>0.061306</td>\n",
       "      <td>0</td>\n",
       "      <td>0</td>\n",
       "      <td>0</td>\n",
       "    </tr>\n",
       "    <tr>\n",
       "      <th>4</th>\n",
       "      <td>2.252617</td>\n",
       "      <td>1</td>\n",
       "      <td>0.901780</td>\n",
       "      <td>1</td>\n",
       "      <td>1</td>\n",
       "      <td>1</td>\n",
       "    </tr>\n",
       "    <tr>\n",
       "      <th>...</th>\n",
       "      <td>...</td>\n",
       "      <td>...</td>\n",
       "      <td>...</td>\n",
       "      <td>...</td>\n",
       "      <td>...</td>\n",
       "      <td>...</td>\n",
       "    </tr>\n",
       "    <tr>\n",
       "      <th>110</th>\n",
       "      <td>-0.791672</td>\n",
       "      <td>0</td>\n",
       "      <td>0.199933</td>\n",
       "      <td>0</td>\n",
       "      <td>0</td>\n",
       "      <td>0</td>\n",
       "    </tr>\n",
       "    <tr>\n",
       "      <th>111</th>\n",
       "      <td>0.452238</td>\n",
       "      <td>1</td>\n",
       "      <td>0.521449</td>\n",
       "      <td>1</td>\n",
       "      <td>0</td>\n",
       "      <td>1</td>\n",
       "    </tr>\n",
       "    <tr>\n",
       "      <th>112</th>\n",
       "      <td>0.535510</td>\n",
       "      <td>1</td>\n",
       "      <td>0.545976</td>\n",
       "      <td>1</td>\n",
       "      <td>0</td>\n",
       "      <td>1</td>\n",
       "    </tr>\n",
       "    <tr>\n",
       "      <th>113</th>\n",
       "      <td>-0.532739</td>\n",
       "      <td>0</td>\n",
       "      <td>0.253472</td>\n",
       "      <td>0</td>\n",
       "      <td>0</td>\n",
       "      <td>1</td>\n",
       "    </tr>\n",
       "    <tr>\n",
       "      <th>114</th>\n",
       "      <td>0.317661</td>\n",
       "      <td>0</td>\n",
       "      <td>0.481642</td>\n",
       "      <td>0</td>\n",
       "      <td>0</td>\n",
       "      <td>1</td>\n",
       "    </tr>\n",
       "  </tbody>\n",
       "</table>\n",
       "<p>115 rows × 6 columns</p>\n",
       "</div>"
      ],
      "text/plain": [
       "            x  y  pred_probability  pred_class  pred_class_high_threshold  \\\n",
       "0   -0.457429  1          0.270709           0                          0   \n",
       "1    0.425948  1          0.513678           1                          0   \n",
       "2   -0.784695  0          0.201258           0                          0   \n",
       "3   -1.925209  0          0.061306           0                          0   \n",
       "4    2.252617  1          0.901780           1                          1   \n",
       "..        ... ..               ...         ...                        ...   \n",
       "110 -0.791672  0          0.199933           0                          0   \n",
       "111  0.452238  1          0.521449           1                          0   \n",
       "112  0.535510  1          0.545976           1                          0   \n",
       "113 -0.532739  0          0.253472           0                          0   \n",
       "114  0.317661  0          0.481642           0                          0   \n",
       "\n",
       "     pred_class_low_threshold  \n",
       "0                           1  \n",
       "1                           1  \n",
       "2                           0  \n",
       "3                           0  \n",
       "4                           1  \n",
       "..                        ...  \n",
       "110                         0  \n",
       "111                         1  \n",
       "112                         1  \n",
       "113                         1  \n",
       "114                         1  \n",
       "\n",
       "[115 rows x 6 columns]"
      ]
     },
     "execution_count": 47,
     "metadata": {},
     "output_type": "execute_result"
    }
   ],
   "source": [
    "df_copy"
   ]
  },
  {
   "cell_type": "code",
   "execution_count": 48,
   "id": "ae17997b-7473-462b-8cbb-e87cab78fe73",
   "metadata": {},
   "outputs": [
    {
     "data": {
      "image/png": "[encoded data removed]",
      "text/plain": [
       "<Figure size 640x480 with 2 Axes>"
      ]
     },
     "metadata": {},
     "output_type": "display_data"
    }
   ],
   "source": [
    "fig, ax = plt.subplots()\n",
    "\n",
    "sns.heatmap(data=pd.crosstab(df_copy.y, df_copy.pred_class_low_threshold, margins=True),\n",
    "            annot=True,\n",
    "            annot_kws={\"size\": 15},\n",
    "            fmt=\"d\",\n",
    "            ax=ax)\n",
    "\n",
    "plt.show()"
   ]
  },
  {
   "cell_type": "code",
   "execution_count": 51,
   "id": "43b31144-cba9-4c14-bed9-4003e917564c",
   "metadata": {},
   "outputs": [
    {
     "data": {
      "image/png": "[encoded data removed]",
      "text/plain": [
       "<Figure size 1800x600 with 6 Axes>"
      ]
     },
     "metadata": {},
     "output_type": "display_data"
    }
   ],
   "source": [
    "fig, ax = plt.subplots(1, 3, figsize=(18, 6))\n",
    "\n",
    "sns.heatmap(data=pd.crosstab(df_copy.y, df_copy.pred_class_low_threshold, margins=True),\n",
    "            annot=True,\n",
    "            annot_kws={\"size\": 25},\n",
    "            fmt=\"d\",\n",
    "            ax=ax[0])\n",
    "\n",
    "ax[0].set_title(\"Threshold = 0.25\")\n",
    "\n",
    "sns.heatmap(data=pd.crosstab(df_copy.y, df_copy.pred_class, margins=True),\n",
    "            annot=True,\n",
    "            annot_kws={\"size\": 25},\n",
    "            fmt=\"d\",\n",
    "            ax=ax[1])\n",
    "ax[1].set_title(\"Threshold = 0.5\")\n",
    "\n",
    "sns.heatmap(data=pd.crosstab(df_copy.y, df_copy.pred_class_high_threshold, margins=True),\n",
    "            annot=True,\n",
    "            annot_kws={\"size\": 25},\n",
    "            fmt=\"d\",\n",
    "            ax=ax[2])\n",
    "\n",
    "ax[2].set_title(\"Threshold = 0.75\")\n",
    "\n",
    "plt.show()"
   ]
  },
  {
   "cell_type": "markdown",
   "id": "5ebcddf7-9ff3-473b-a3a8-8ea24112ed1b",
   "metadata": {},
   "source": [
    "Lets calc the confusion matrix combinations counts directly."
   ]
  },
  {
   "cell_type": "code",
   "execution_count": 52,
   "id": "01e5489c-79cf-4c9d-8cd7-39d3ec4ca35c",
   "metadata": {},
   "outputs": [],
   "source": [
    "TN_lower, FP_lower, FN_lower, TP_lower = confusion_matrix(df_copy.y.to_numpy(), df_copy.pred_class_low_threshold.to_numpy()).ravel()"
   ]
  },
  {
   "cell_type": "code",
   "execution_count": 53,
   "id": "47fb2085-e08e-44f8-9cf5-31b46662f860",
   "metadata": {},
   "outputs": [],
   "source": [
    "Accuracy_lower = (TP_lower + TN_lower)/(TP_lower + TN_lower + FP_lower + FN_lower)"
   ]
  },
  {
   "cell_type": "code",
   "execution_count": 54,
   "id": "1d74b5d0-58ce-485e-9532-5e4d07f03fd4",
   "metadata": {},
   "outputs": [
    {
     "data": {
      "text/plain": [
       "0.6434782608695652"
      ]
     },
     "execution_count": 54,
     "metadata": {},
     "output_type": "execute_result"
    }
   ],
   "source": [
    "Accuracy_lower"
   ]
  },
  {
   "cell_type": "code",
   "execution_count": 55,
   "id": "8de2375d-f155-46ad-ac24-883dba047740",
   "metadata": {},
   "outputs": [],
   "source": [
    "Sensitivity_lower = TP_lower/(TP_lower + FN_lower)"
   ]
  },
  {
   "cell_type": "code",
   "execution_count": 56,
   "id": "fcadb821-58ea-4cf6-a6e5-35491e250a50",
   "metadata": {},
   "outputs": [
    {
     "data": {
      "text/plain": [
       "0.9375"
      ]
     },
     "execution_count": 56,
     "metadata": {},
     "output_type": "execute_result"
    }
   ],
   "source": [
    "Sensitivity_lower"
   ]
  },
  {
   "cell_type": "markdown",
   "id": "0be7ade1-c72f-42a4-8918-ab839d22ff4a",
   "metadata": {},
   "source": [
    "LOWERING THE THRESHOLD INCREASES THE SENSITIVITY"
   ]
  },
  {
   "cell_type": "code",
   "execution_count": 57,
   "id": "1b24b7f9-a6c4-40fe-b0d7-6e6e40084142",
   "metadata": {},
   "outputs": [],
   "source": [
    "Specificity_lower = TN_lower/(TN_lower + FP_lower)"
   ]
  },
  {
   "cell_type": "code",
   "execution_count": 58,
   "id": "e1e43199-a58b-4d25-9636-e146b23d9171",
   "metadata": {},
   "outputs": [
    {
     "data": {
      "text/plain": [
       "0.43283582089552236"
      ]
     },
     "execution_count": 58,
     "metadata": {},
     "output_type": "execute_result"
    }
   ],
   "source": [
    "Specificity_lower"
   ]
  },
  {
   "cell_type": "markdown",
   "id": "34e8d966-c0d5-447e-83d4-d1588b2414af",
   "metadata": {},
   "source": [
    "LOWERING THE THRESHOLD DECREASES THE SPECIFICITY"
   ]
  },
  {
   "cell_type": "code",
   "execution_count": 59,
   "id": "c0b94f1d-d0ce-45fe-9e23-f5fe74dd5833",
   "metadata": {},
   "outputs": [],
   "source": [
    "FPR_lower = 1 - Specificity_lower"
   ]
  },
  {
   "cell_type": "code",
   "execution_count": 60,
   "id": "fb64d593-21f9-4eb5-ac4f-fee6c0210f21",
   "metadata": {},
   "outputs": [
    {
     "data": {
      "text/plain": [
       "0.5671641791044777"
      ]
     },
     "execution_count": 60,
     "metadata": {},
     "output_type": "execute_result"
    }
   ],
   "source": [
    "FPR_lower"
   ]
  },
  {
   "cell_type": "markdown",
   "id": "e72a8255-afe0-47f3-8c78-5d3fe492e7b7",
   "metadata": {},
   "source": [
    "LOWERING THRESHOLD INCREASES FPR!!"
   ]
  },
  {
   "cell_type": "markdown",
   "id": "7db44ed5-19e0-41f6-8f52-b26596df0715",
   "metadata": {},
   "source": [
    "## WHY WOULD YOU WANT TO CHANGE THE THRESHOLD??\n",
    "Why would you want to try a threshold DIFFERENT from 50%??\\\n",
    "It all depends on WHICH ERROR IS WORSE??"
   ]
  },
  {
   "cell_type": "markdown",
   "id": "69cfdb49-5fd2-4280-850e-1e35366271e3",
   "metadata": {},
   "source": [
    "## Graphically visualizing the impact of the different thresholds\n",
    "We will visualize the Sensitivity or TPR and the FPR for different thresholds.\n",
    "This graphic is known as the **ROC curve** or **Receiver Operating Characteristic**."
   ]
  },
  {
   "cell_type": "code",
   "execution_count": 62,
   "id": "363bc625-0761-4ce8-9471-49e41acc5dc5",
   "metadata": {},
   "outputs": [],
   "source": [
    "my_roc = pd.DataFrame({\"tpr\": [Sensitivity_lower, Sensitivity, Sensitivity_higher],\n",
    "                      \"Specificity\": [Specificity_lower, Specificity, Specificity_higher],\n",
    "                      \"fpr\": [FPR_lower, FPR, FPR_higher],\n",
    "                      \"threshold\": [0.25, .5, 0.75],\n",
    "                      })"
   ]
  },
  {
   "cell_type": "code",
   "execution_count": 63,
   "id": "51600ce6-771c-4296-b372-913689bb65dc",
   "metadata": {},
   "outputs": [
    {
     "data": {
      "text/html": [
       "<div>\n",
       "<style scoped>\n",
       "    .dataframe tbody tr th:only-of-type {\n",
       "        vertical-align: middle;\n",
       "    }\n",
       "\n",
       "    .dataframe tbody tr th {\n",
       "        vertical-align: top;\n",
       "    }\n",
       "\n",
       "    .dataframe thead th {\n",
       "        text-align: right;\n",
       "    }\n",
       "</style>\n",
       "<table border=\"1\" class=\"dataframe\">\n",
       "  <thead>\n",
       "    <tr style=\"text-align: right;\">\n",
       "      <th></th>\n",
       "      <th>tpr</th>\n",
       "      <th>Specificity</th>\n",
       "      <th>fpr</th>\n",
       "      <th>threshold</th>\n",
       "    </tr>\n",
       "  </thead>\n",
       "  <tbody>\n",
       "    <tr>\n",
       "      <th>0</th>\n",
       "      <td>0.937500</td>\n",
       "      <td>0.432836</td>\n",
       "      <td>0.567164</td>\n",
       "      <td>0.25</td>\n",
       "    </tr>\n",
       "    <tr>\n",
       "      <th>1</th>\n",
       "      <td>0.562500</td>\n",
       "      <td>0.761194</td>\n",
       "      <td>0.238806</td>\n",
       "      <td>0.50</td>\n",
       "    </tr>\n",
       "    <tr>\n",
       "      <th>2</th>\n",
       "      <td>0.208333</td>\n",
       "      <td>0.970149</td>\n",
       "      <td>0.029851</td>\n",
       "      <td>0.75</td>\n",
       "    </tr>\n",
       "  </tbody>\n",
       "</table>\n",
       "</div>"
      ],
      "text/plain": [
       "        tpr  Specificity       fpr  threshold\n",
       "0  0.937500     0.432836  0.567164       0.25\n",
       "1  0.562500     0.761194  0.238806       0.50\n",
       "2  0.208333     0.970149  0.029851       0.75"
      ]
     },
     "execution_count": 63,
     "metadata": {},
     "output_type": "execute_result"
    }
   ],
   "source": [
    "my_roc"
   ]
  },
  {
   "cell_type": "markdown",
   "id": "6e8eaba9-13e4-4e88-84d5-353f7d4cc3ab",
   "metadata": {},
   "source": [
    "Create a scatterplot between the TPR and FPR."
   ]
  },
  {
   "cell_type": "code",
   "execution_count": 66,
   "id": "9173217e-a27f-49f8-b742-cbfb59453edd",
   "metadata": {},
   "outputs": [
    {
     "name": "stderr",
     "output_type": "stream",
     "text": [
      "/Applications/anaconda3/envs/cmpinf2100/lib/python3.8/site-packages/seaborn/axisgrid.py:123: UserWarning: The figure layout has changed to tight\n",
      "  self._figure.tight_layout(*args, **kwargs)\n"
     ]
    },
    {
     "data": {
      "image/png": "[encoded data removed]",
      "text/plain": [
       "<Figure size 500x500 with 1 Axes>"
      ]
     },
     "metadata": {},
     "output_type": "display_data"
    }
   ],
   "source": [
    "sns.relplot(data=my_roc, x=\"fpr\", y=\"tpr\", s=300)\n",
    "\n",
    "plt.show()"
   ]
  },
  {
   "cell_type": "markdown",
   "id": "6390be58-6a3a-49fe-a6d0-e78ad909d80b",
   "metadata": {},
   "source": [
    "The THRESHOLD is actually CONTROLLING the TPR and FPR!!"
   ]
  },
  {
   "cell_type": "code",
   "execution_count": 67,
   "id": "07cd63d6-c7f8-4dae-bfab-7967052c5602",
   "metadata": {},
   "outputs": [
    {
     "name": "stderr",
     "output_type": "stream",
     "text": [
      "/Applications/anaconda3/envs/cmpinf2100/lib/python3.8/site-packages/seaborn/axisgrid.py:123: UserWarning: The figure layout has changed to tight\n",
      "  self._figure.tight_layout(*args, **kwargs)\n"
     ]
    },
    {
     "data": {
      "image/png": "[encoded data removed]",
      "text/plain": [
       "<Figure size 581x500 with 1 Axes>"
      ]
     },
     "metadata": {},
     "output_type": "display_data"
    }
   ],
   "source": [
    "sns.relplot(data=my_roc, x=\"fpr\", y=\"tpr\", hue=\"threshold\", s=300)\n",
    "\n",
    "plt.show()"
   ]
  },
  {
   "cell_type": "markdown",
   "id": "5471a04a-8b5e-4549-ba4a-c7e7fb22a2c0",
   "metadata": {},
   "source": [
    "Changing thresholds is all about tradeoffs!!"
   ]
  },
  {
   "cell_type": "markdown",
   "id": "b0d90761-8d31-4dae-b3cf-6df801e6583b",
   "metadata": {},
   "source": [
    "The ROC Curve is tough to look at with just 3 threshold values...INSTEAD we want to try **MANY** different thresholds from near 0 to near 1!!!\n",
    "\n",
    "You do not need to do that manually, instead SKLEARN has a function to create if for you."
   ]
  },
  {
   "cell_type": "code",
   "execution_count": 68,
   "id": "4c3f05e2-8fe8-4b09-9bde-e957f758e110",
   "metadata": {},
   "outputs": [],
   "source": [
    "from sklearn.metrics import roc_curve"
   ]
  },
  {
   "cell_type": "markdown",
   "id": "4bb4e4a2-45da-42d6-9c1f-a162a028c4a2",
   "metadata": {},
   "source": [
    "The roc_curve() function that does **NOT** require CLASSIFICATIONS!!! The function needs the model predicted EVENT PROBABILITY and IT will try out MANY DIFFERENT thresholds for you! The function will therefore CLASSIFY for many thresholds and calculate the TPR and FPR!!!"
   ]
  },
  {
   "cell_type": "code",
   "execution_count": 69,
   "id": "62384e9c-c34a-4b8d-ab95-20c6edc5b9c6",
   "metadata": {},
   "outputs": [],
   "source": [
    "fpr_values, tpr_values, threshold_values = roc_curve(df_copy.y.to_numpy(), df_copy.pred_probability.to_numpy())"
   ]
  },
  {
   "cell_type": "markdown",
   "id": "e5a75161-b9b6-41d8-b61c-10c98a60c58f",
   "metadata": {},
   "source": [
    "Lets visualize the ROC curve as a STEP WISE line chart.\n",
    "\n",
    "Lets make it using MATPLOTLIB directly."
   ]
  },
  {
   "cell_type": "code",
   "execution_count": 76,
   "id": "e9e12eff-d3cd-4670-b5e8-3cd9a590f412",
   "metadata": {},
   "outputs": [
    {
     "data": {
      "image/png": "[encoded data removed]",
      "text/plain": [
       "<Figure size 700x700 with 1 Axes>"
      ]
     },
     "metadata": {},
     "output_type": "display_data"
    }
   ],
   "source": [
    "fig, ax = plt.subplots(figsize=(7,7))\n",
    "\n",
    "ax.plot(fpr_values, tpr_values, color=\"k\")\n",
    "ax.plot([0,1], [0,1], color=\"grey\", linestyle=\"--\")\n",
    "ax.set_xlabel(\"False Positive Rate (FPR)\")\n",
    "ax.set_ylabel(\"True Positive Rate (TPR)\")\n",
    "\n",
    "plt.show()"
   ]
  },
  {
   "cell_type": "markdown",
   "id": "84ba6a73-c23b-46d9-86ca-827af29ee15a",
   "metadata": {},
   "source": [
    "You don't want your model close to the 45 degree line, this means that the FPR = TPR and at that point your model is guessing."
   ]
  },
  {
   "cell_type": "markdown",
   "id": "55a1950e-27d1-494f-92d7-8471d8b86068",
   "metadata": {},
   "source": [
    "The ROC Curve can be CONVERTED to QUANTIFIABLE number by calcuating the AREA UNDER the CURVE (AUC)."
   ]
  },
  {
   "cell_type": "code",
   "execution_count": 77,
   "id": "398aaa15-300d-40cb-87bc-0929a78dd123",
   "metadata": {},
   "outputs": [],
   "source": [
    "from sklearn.metrics import roc_auc_score"
   ]
  },
  {
   "cell_type": "code",
   "execution_count": 78,
   "id": "b2ea8967-92a0-4bd4-95fd-56573abf5f75",
   "metadata": {},
   "outputs": [
    {
     "data": {
      "text/plain": [
       "0.763681592039801"
      ]
     },
     "execution_count": 78,
     "metadata": {},
     "output_type": "execute_result"
    }
   ],
   "source": [
    "roc_auc_score(df_copy.y.to_numpy(), df_copy.pred_probability.to_numpy())"
   ]
  },
  {
   "cell_type": "markdown",
   "id": "d65df86e-7fb2-433c-b20e-23cda7903087",
   "metadata": {},
   "source": [
    "The IDEAL ROC AUC is 1 and the WORST is 0.5."
   ]
  },
  {
   "cell_type": "markdown",
   "id": "bd02efae-570e-410b-b2db-b8b76a863a17",
   "metadata": {},
   "source": [
    "## Summary\n",
    "\n",
    "The confusion matrix and ALL of its summary statistics, Accuracy, Sensitivity, Specificity, and FPR require a THRESHOLD to be assumed!!\n",
    "\n",
    "Once you assume a threshold you can convert the PREDICTED PROBABILITY into a CLASSIFICATION.\n",
    "\n",
    "You can meausre the performance against the KNOWN observed output!!!\n",
    "\n",
    "However, you can change the classification by CHANGING the threshold!!!\n",
    "\n",
    "From a performance perspecitive, INCREASING the TRESHOLD improves certain metrics at the expense of other metrics! Likewise, DECREASING THE THRESHOLDS hurt metrics while improving others! The ROC Curve is a GRAPHICAL TOOL to represent the **TRADE OFF** between the metrics at all possible threshold values!\n",
    "\n",
    "The ROC Curve can be quantified by the ROC AUC."
   ]
  },
  {
   "cell_type": "code",
   "execution_count": null,
   "id": "4ba13899-3613-4a79-a140-dcbb120ab0e9",
   "metadata": {},
   "outputs": [],
   "source": []
  }
 ],
 "metadata": {
  "kernelspec": {
   "display_name": "Python 3 (ipykernel)",
   "language": "python",
   "name": "python3"
  },
  "language_info": {
   "codemirror_mode": {
    "name": "ipython",
    "version": 3
   },
   "file_extension": ".py",
   "mimetype": "text/x-python",
   "name": "python",
   "nbconvert_exporter": "python",
   "pygments_lexer": "ipython3",
   "version": "3.8.19"
  }
 },
 "nbformat": 4,
 "nbformat_minor": 5
}
