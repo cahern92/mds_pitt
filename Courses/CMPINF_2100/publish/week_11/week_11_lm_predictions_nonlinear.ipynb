{
 "cells": [
  {
   "cell_type": "markdown",
   "id": "d072f173-bcd5-425f-92ae-56beb505acc1",
   "metadata": {},
   "source": [
    "## CMPINF 2100 Week 11\n",
    "### Making predictions with linear models\n",
    "We will make predictions for the NON LINEAR trend to input relationship!!!\n",
    "\n",
    "Thus, we are making predictions when a NON-LINEAR FEATURE is derived from the INPUT!!\n",
    "## Import Modules"
   ]
  },
  {
   "cell_type": "code",
   "execution_count": 1,
   "id": "1aee8f13-4884-48e8-8a7f-f157baf729b6",
   "metadata": {},
   "outputs": [],
   "source": [
    "import numpy as np\n",
    "import pandas as pd\n",
    "import matplotlib.pyplot as plt\n",
    "\n",
    "import seaborn as sns"
   ]
  },
  {
   "cell_type": "code",
   "execution_count": 2,
   "id": "0a9436c0-49fb-4d65-9e36-9f570e2ae71a",
   "metadata": {},
   "outputs": [],
   "source": [
    "import statsmodels.formula.api as smf"
   ]
  },
  {
   "cell_type": "markdown",
   "id": "58cad096-c98a-498f-b10a-7d6351c9bdc1",
   "metadata": {},
   "source": [
    "## Read data"
   ]
  },
  {
   "cell_type": "code",
   "execution_count": 3,
   "id": "c82e9282-8ccb-4386-8f3a-755eb15b65f1",
   "metadata": {},
   "outputs": [],
   "source": [
    "df = pd.read_csv(\"week_11_nonlinear_data.csv\")"
   ]
  },
  {
   "cell_type": "code",
   "execution_count": 4,
   "id": "21d02217-d2ea-414e-8868-e50f90514127",
   "metadata": {},
   "outputs": [
    {
     "name": "stdout",
     "output_type": "stream",
     "text": [
      "<class 'pandas.core.frame.DataFrame'>\n",
      "RangeIndex: 15 entries, 0 to 14\n",
      "Data columns (total 6 columns):\n",
      " #   Column          Non-Null Count  Dtype  \n",
      "---  ------          --------------  -----  \n",
      " 0   x               15 non-null     float64\n",
      " 1   trend           15 non-null     float64\n",
      " 2   y               15 non-null     float64\n",
      " 3   true_intercept  15 non-null     float64\n",
      " 4   true_slope      15 non-null     float64\n",
      " 5   true_sigma      15 non-null     float64\n",
      "dtypes: float64(6)\n",
      "memory usage: 848.0 bytes\n"
     ]
    }
   ],
   "source": [
    "df.info()"
   ]
  },
  {
   "cell_type": "markdown",
   "id": "683c4e79-7cd0-4588-876d-90ae5d4fd5f9",
   "metadata": {},
   "source": [
    "## Fitting the linear model\n",
    "The model includes a NON-LINEAR FEATURE derived from the INPUT. The smf.ols() formula APPLIES the NON-LINEAR function directly in the formula."
   ]
  },
  {
   "cell_type": "code",
   "execution_count": 5,
   "id": "3ba7f414-5510-42b9-9ab4-d67f1eb76fd3",
   "metadata": {},
   "outputs": [],
   "source": [
    "lm_fit = smf.ols(formula=\"y ~ np.sin(x)\", data=df).fit()"
   ]
  },
  {
   "cell_type": "code",
   "execution_count": 6,
   "id": "e069c52e-6977-48f4-b1eb-78a9d6ab5cfa",
   "metadata": {},
   "outputs": [
    {
     "data": {
      "text/plain": [
       "Intercept    0.098301\n",
       "np.sin(x)   -2.216698\n",
       "dtype: float64"
      ]
     },
     "execution_count": 6,
     "metadata": {},
     "output_type": "execute_result"
    }
   ],
   "source": [
    "lm_fit.params"
   ]
  },
  {
   "cell_type": "code",
   "execution_count": 7,
   "id": "da3c167b-f31b-44a9-a58c-f51fbc0fbbd3",
   "metadata": {},
   "outputs": [
    {
     "data": {
      "text/plain": [
       "Intercept    0.076712\n",
       "np.sin(x)    0.109770\n",
       "dtype: float64"
      ]
     },
     "execution_count": 7,
     "metadata": {},
     "output_type": "execute_result"
    }
   ],
   "source": [
    "lm_fit.bse"
   ]
  },
  {
   "cell_type": "code",
   "execution_count": 9,
   "id": "dd23b97b-6dae-4e37-979c-abd3f73bc215",
   "metadata": {},
   "outputs": [
    {
     "data": {
      "text/html": [
       "<div>\n",
       "<style scoped>\n",
       "    .dataframe tbody tr th:only-of-type {\n",
       "        vertical-align: middle;\n",
       "    }\n",
       "\n",
       "    .dataframe tbody tr th {\n",
       "        vertical-align: top;\n",
       "    }\n",
       "\n",
       "    .dataframe thead th {\n",
       "        text-align: right;\n",
       "    }\n",
       "</style>\n",
       "<table border=\"1\" class=\"dataframe\">\n",
       "  <thead>\n",
       "    <tr style=\"text-align: right;\">\n",
       "      <th></th>\n",
       "      <th>0</th>\n",
       "      <th>1</th>\n",
       "    </tr>\n",
       "  </thead>\n",
       "  <tbody>\n",
       "    <tr>\n",
       "      <th>Intercept</th>\n",
       "      <td>-0.067425</td>\n",
       "      <td>0.264027</td>\n",
       "    </tr>\n",
       "    <tr>\n",
       "      <th>np.sin(x)</th>\n",
       "      <td>-2.453842</td>\n",
       "      <td>-1.979555</td>\n",
       "    </tr>\n",
       "  </tbody>\n",
       "</table>\n",
       "</div>"
      ],
      "text/plain": [
       "                  0         1\n",
       "Intercept -0.067425  0.264027\n",
       "np.sin(x) -2.453842 -1.979555"
      ]
     },
     "execution_count": 9,
     "metadata": {},
     "output_type": "execute_result"
    }
   ],
   "source": [
    "lm_fit.conf_int()"
   ]
  },
  {
   "cell_type": "code",
   "execution_count": 10,
   "id": "e8250fe0-6353-4812-8246-f42c8bd54358",
   "metadata": {},
   "outputs": [
    {
     "data": {
      "text/plain": [
       "Intercept    2.224278e-01\n",
       "np.sin(x)    3.362554e-11\n",
       "dtype: float64"
      ]
     },
     "execution_count": 10,
     "metadata": {},
     "output_type": "execute_result"
    }
   ],
   "source": [
    "lm_fit.pvalues"
   ]
  },
  {
   "cell_type": "markdown",
   "id": "6e6aa092-0762-4137-acbc-cef3029f8705",
   "metadata": {},
   "source": [
    "## Making predictions\n",
    "\n",
    "Create a dataset just to visualize the predicted behavior of the output GIVEN the input!\n",
    "\n",
    "The prediction data does not need to be same length as training dataset."
   ]
  },
  {
   "cell_type": "code",
   "execution_count": 13,
   "id": "8943db02-f792-4fcb-8eef-2ca7be5c0fc8",
   "metadata": {},
   "outputs": [],
   "source": [
    "df_viz = pd.DataFrame({\"x\": np.linspace(df.x.min()-0.1, df.x.max()+0.1, num=101)})"
   ]
  },
  {
   "cell_type": "code",
   "execution_count": 15,
   "id": "3bf868f2-b6fc-4be2-86bf-92d3e14d448e",
   "metadata": {},
   "outputs": [
    {
     "data": {
      "text/html": [
       "<div>\n",
       "<style scoped>\n",
       "    .dataframe tbody tr th:only-of-type {\n",
       "        vertical-align: middle;\n",
       "    }\n",
       "\n",
       "    .dataframe tbody tr th {\n",
       "        vertical-align: top;\n",
       "    }\n",
       "\n",
       "    .dataframe thead th {\n",
       "        text-align: right;\n",
       "    }\n",
       "</style>\n",
       "<table border=\"1\" class=\"dataframe\">\n",
       "  <thead>\n",
       "    <tr style=\"text-align: right;\">\n",
       "      <th></th>\n",
       "      <th>x</th>\n",
       "    </tr>\n",
       "  </thead>\n",
       "  <tbody>\n",
       "    <tr>\n",
       "      <th>0</th>\n",
       "      <td>-3.100</td>\n",
       "    </tr>\n",
       "    <tr>\n",
       "      <th>1</th>\n",
       "      <td>-3.038</td>\n",
       "    </tr>\n",
       "    <tr>\n",
       "      <th>2</th>\n",
       "      <td>-2.976</td>\n",
       "    </tr>\n",
       "    <tr>\n",
       "      <th>3</th>\n",
       "      <td>-2.914</td>\n",
       "    </tr>\n",
       "    <tr>\n",
       "      <th>4</th>\n",
       "      <td>-2.852</td>\n",
       "    </tr>\n",
       "    <tr>\n",
       "      <th>...</th>\n",
       "      <td>...</td>\n",
       "    </tr>\n",
       "    <tr>\n",
       "      <th>96</th>\n",
       "      <td>2.852</td>\n",
       "    </tr>\n",
       "    <tr>\n",
       "      <th>97</th>\n",
       "      <td>2.914</td>\n",
       "    </tr>\n",
       "    <tr>\n",
       "      <th>98</th>\n",
       "      <td>2.976</td>\n",
       "    </tr>\n",
       "    <tr>\n",
       "      <th>99</th>\n",
       "      <td>3.038</td>\n",
       "    </tr>\n",
       "    <tr>\n",
       "      <th>100</th>\n",
       "      <td>3.100</td>\n",
       "    </tr>\n",
       "  </tbody>\n",
       "</table>\n",
       "<p>101 rows × 1 columns</p>\n",
       "</div>"
      ],
      "text/plain": [
       "         x\n",
       "0   -3.100\n",
       "1   -3.038\n",
       "2   -2.976\n",
       "3   -2.914\n",
       "4   -2.852\n",
       "..     ...\n",
       "96   2.852\n",
       "97   2.914\n",
       "98   2.976\n",
       "99   3.038\n",
       "100  3.100\n",
       "\n",
       "[101 rows x 1 columns]"
      ]
     },
     "execution_count": 15,
     "metadata": {},
     "output_type": "execute_result"
    }
   ],
   "source": [
    "df_viz"
   ]
  },
  {
   "cell_type": "code",
   "execution_count": 17,
   "id": "97793992-3ca2-4624-a729-f684bdc23e60",
   "metadata": {},
   "outputs": [
    {
     "data": {
      "text/html": [
       "<div>\n",
       "<style scoped>\n",
       "    .dataframe tbody tr th:only-of-type {\n",
       "        vertical-align: middle;\n",
       "    }\n",
       "\n",
       "    .dataframe tbody tr th {\n",
       "        vertical-align: top;\n",
       "    }\n",
       "\n",
       "    .dataframe thead th {\n",
       "        text-align: right;\n",
       "    }\n",
       "</style>\n",
       "<table border=\"1\" class=\"dataframe\">\n",
       "  <thead>\n",
       "    <tr style=\"text-align: right;\">\n",
       "      <th></th>\n",
       "      <th>x</th>\n",
       "      <th>trend</th>\n",
       "      <th>y</th>\n",
       "      <th>true_intercept</th>\n",
       "      <th>true_slope</th>\n",
       "      <th>true_sigma</th>\n",
       "    </tr>\n",
       "  </thead>\n",
       "  <tbody>\n",
       "    <tr>\n",
       "      <th>0</th>\n",
       "      <td>-3.000000</td>\n",
       "      <td>0.567520</td>\n",
       "      <td>0.905523</td>\n",
       "      <td>0.25</td>\n",
       "      <td>-2.25</td>\n",
       "      <td>0.33</td>\n",
       "    </tr>\n",
       "    <tr>\n",
       "      <th>1</th>\n",
       "      <td>-2.571429</td>\n",
       "      <td>1.464483</td>\n",
       "      <td>0.892371</td>\n",
       "      <td>0.25</td>\n",
       "      <td>-2.25</td>\n",
       "      <td>0.33</td>\n",
       "    </tr>\n",
       "    <tr>\n",
       "      <th>2</th>\n",
       "      <td>-2.142857</td>\n",
       "      <td>2.141771</td>\n",
       "      <td>2.112304</td>\n",
       "      <td>0.25</td>\n",
       "      <td>-2.25</td>\n",
       "      <td>0.33</td>\n",
       "    </tr>\n",
       "    <tr>\n",
       "      <th>3</th>\n",
       "      <td>-1.714286</td>\n",
       "      <td>2.476877</td>\n",
       "      <td>2.115940</td>\n",
       "      <td>0.25</td>\n",
       "      <td>-2.25</td>\n",
       "      <td>0.33</td>\n",
       "    </tr>\n",
       "    <tr>\n",
       "      <th>4</th>\n",
       "      <td>-1.285714</td>\n",
       "      <td>2.409187</td>\n",
       "      <td>2.515115</td>\n",
       "      <td>0.25</td>\n",
       "      <td>-2.25</td>\n",
       "      <td>0.33</td>\n",
       "    </tr>\n",
       "    <tr>\n",
       "      <th>5</th>\n",
       "      <td>-0.857143</td>\n",
       "      <td>1.950945</td>\n",
       "      <td>1.586887</td>\n",
       "      <td>0.25</td>\n",
       "      <td>-2.25</td>\n",
       "      <td>0.33</td>\n",
       "    </tr>\n",
       "    <tr>\n",
       "      <th>6</th>\n",
       "      <td>-0.428571</td>\n",
       "      <td>1.185037</td>\n",
       "      <td>0.928959</td>\n",
       "      <td>0.25</td>\n",
       "      <td>-2.25</td>\n",
       "      <td>0.33</td>\n",
       "    </tr>\n",
       "    <tr>\n",
       "      <th>7</th>\n",
       "      <td>0.000000</td>\n",
       "      <td>0.250000</td>\n",
       "      <td>0.141207</td>\n",
       "      <td>0.25</td>\n",
       "      <td>-2.25</td>\n",
       "      <td>0.33</td>\n",
       "    </tr>\n",
       "    <tr>\n",
       "      <th>8</th>\n",
       "      <td>0.428571</td>\n",
       "      <td>-0.685037</td>\n",
       "      <td>-1.163743</td>\n",
       "      <td>0.25</td>\n",
       "      <td>-2.25</td>\n",
       "      <td>0.33</td>\n",
       "    </tr>\n",
       "    <tr>\n",
       "      <th>9</th>\n",
       "      <td>0.857143</td>\n",
       "      <td>-1.450945</td>\n",
       "      <td>-1.098146</td>\n",
       "      <td>0.25</td>\n",
       "      <td>-2.25</td>\n",
       "      <td>0.33</td>\n",
       "    </tr>\n",
       "    <tr>\n",
       "      <th>10</th>\n",
       "      <td>1.285714</td>\n",
       "      <td>-1.909187</td>\n",
       "      <td>-1.975983</td>\n",
       "      <td>0.25</td>\n",
       "      <td>-2.25</td>\n",
       "      <td>0.33</td>\n",
       "    </tr>\n",
       "    <tr>\n",
       "      <th>11</th>\n",
       "      <td>1.714286</td>\n",
       "      <td>-1.976877</td>\n",
       "      <td>-2.401257</td>\n",
       "      <td>0.25</td>\n",
       "      <td>-2.25</td>\n",
       "      <td>0.33</td>\n",
       "    </tr>\n",
       "    <tr>\n",
       "      <th>12</th>\n",
       "      <td>2.142857</td>\n",
       "      <td>-1.641771</td>\n",
       "      <td>-1.705361</td>\n",
       "      <td>0.25</td>\n",
       "      <td>-2.25</td>\n",
       "      <td>0.33</td>\n",
       "    </tr>\n",
       "    <tr>\n",
       "      <th>13</th>\n",
       "      <td>2.571429</td>\n",
       "      <td>-0.964483</td>\n",
       "      <td>-1.366627</td>\n",
       "      <td>0.25</td>\n",
       "      <td>-2.25</td>\n",
       "      <td>0.33</td>\n",
       "    </tr>\n",
       "    <tr>\n",
       "      <th>14</th>\n",
       "      <td>3.000000</td>\n",
       "      <td>-0.067520</td>\n",
       "      <td>-0.012675</td>\n",
       "      <td>0.25</td>\n",
       "      <td>-2.25</td>\n",
       "      <td>0.33</td>\n",
       "    </tr>\n",
       "  </tbody>\n",
       "</table>\n",
       "</div>"
      ],
      "text/plain": [
       "           x     trend         y  true_intercept  true_slope  true_sigma\n",
       "0  -3.000000  0.567520  0.905523            0.25       -2.25        0.33\n",
       "1  -2.571429  1.464483  0.892371            0.25       -2.25        0.33\n",
       "2  -2.142857  2.141771  2.112304            0.25       -2.25        0.33\n",
       "3  -1.714286  2.476877  2.115940            0.25       -2.25        0.33\n",
       "4  -1.285714  2.409187  2.515115            0.25       -2.25        0.33\n",
       "5  -0.857143  1.950945  1.586887            0.25       -2.25        0.33\n",
       "6  -0.428571  1.185037  0.928959            0.25       -2.25        0.33\n",
       "7   0.000000  0.250000  0.141207            0.25       -2.25        0.33\n",
       "8   0.428571 -0.685037 -1.163743            0.25       -2.25        0.33\n",
       "9   0.857143 -1.450945 -1.098146            0.25       -2.25        0.33\n",
       "10  1.285714 -1.909187 -1.975983            0.25       -2.25        0.33\n",
       "11  1.714286 -1.976877 -2.401257            0.25       -2.25        0.33\n",
       "12  2.142857 -1.641771 -1.705361            0.25       -2.25        0.33\n",
       "13  2.571429 -0.964483 -1.366627            0.25       -2.25        0.33\n",
       "14  3.000000 -0.067520 -0.012675            0.25       -2.25        0.33"
      ]
     },
     "execution_count": 17,
     "metadata": {},
     "output_type": "execute_result"
    }
   ],
   "source": [
    "df"
   ]
  },
  {
   "cell_type": "markdown",
   "id": "6b8900c7-68e4-4f35-9c37-f81bb3391cb6",
   "metadata": {},
   "source": [
    "Lets jumpy straight to visualizing the predicted TRENDS (mean output), the CI (the uncertainty on the mean), and the PI (the uncertainty on a single measurement).\n",
    "\n",
    "We need the same two step approach.\n",
    "\n",
    "Step 1: Call .get_prediction() method on the fitted object."
   ]
  },
  {
   "cell_type": "code",
   "execution_count": 18,
   "id": "cc19468f-fb5a-40aa-9f27-a76b88dd8854",
   "metadata": {},
   "outputs": [],
   "source": [
    "predictions = lm_fit.get_prediction(df_viz)"
   ]
  },
  {
   "cell_type": "markdown",
   "id": "a810c790-c053-4e93-9dfa-0dba81084168",
   "metadata": {},
   "source": [
    "Step 2: Call the .summary_frame() method on prediction object."
   ]
  },
  {
   "cell_type": "code",
   "execution_count": 19,
   "id": "0099da29-37b0-41bb-81bf-57f1b6253684",
   "metadata": {},
   "outputs": [],
   "source": [
    "lm_pred_summary = predictions.summary_frame()"
   ]
  },
  {
   "cell_type": "code",
   "execution_count": 20,
   "id": "aa295f10-0da3-4b2c-b430-2579faad8592",
   "metadata": {},
   "outputs": [
    {
     "data": {
      "text/html": [
       "<div>\n",
       "<style scoped>\n",
       "    .dataframe tbody tr th:only-of-type {\n",
       "        vertical-align: middle;\n",
       "    }\n",
       "\n",
       "    .dataframe tbody tr th {\n",
       "        vertical-align: top;\n",
       "    }\n",
       "\n",
       "    .dataframe thead th {\n",
       "        text-align: right;\n",
       "    }\n",
       "</style>\n",
       "<table border=\"1\" class=\"dataframe\">\n",
       "  <thead>\n",
       "    <tr style=\"text-align: right;\">\n",
       "      <th></th>\n",
       "      <th>mean</th>\n",
       "      <th>mean_se</th>\n",
       "      <th>mean_ci_lower</th>\n",
       "      <th>mean_ci_upper</th>\n",
       "      <th>obs_ci_lower</th>\n",
       "      <th>obs_ci_upper</th>\n",
       "    </tr>\n",
       "  </thead>\n",
       "  <tbody>\n",
       "    <tr>\n",
       "      <th>0</th>\n",
       "      <td>0.190473</td>\n",
       "      <td>0.076848</td>\n",
       "      <td>0.024454</td>\n",
       "      <td>0.356492</td>\n",
       "      <td>-0.472504</td>\n",
       "      <td>0.853450</td>\n",
       "    </tr>\n",
       "    <tr>\n",
       "      <th>1</th>\n",
       "      <td>0.327524</td>\n",
       "      <td>0.077547</td>\n",
       "      <td>0.159994</td>\n",
       "      <td>0.495054</td>\n",
       "      <td>-0.335833</td>\n",
       "      <td>0.990881</td>\n",
       "    </tr>\n",
       "    <tr>\n",
       "      <th>2</th>\n",
       "      <td>0.463695</td>\n",
       "      <td>0.078817</td>\n",
       "      <td>0.293421</td>\n",
       "      <td>0.633968</td>\n",
       "      <td>-0.200360</td>\n",
       "      <td>1.127750</td>\n",
       "    </tr>\n",
       "    <tr>\n",
       "      <th>3</th>\n",
       "      <td>0.598461</td>\n",
       "      <td>0.080611</td>\n",
       "      <td>0.424311</td>\n",
       "      <td>0.772611</td>\n",
       "      <td>-0.066598</td>\n",
       "      <td>1.263521</td>\n",
       "    </tr>\n",
       "    <tr>\n",
       "      <th>4</th>\n",
       "      <td>0.731305</td>\n",
       "      <td>0.082869</td>\n",
       "      <td>0.552278</td>\n",
       "      <td>0.910333</td>\n",
       "      <td>0.064952</td>\n",
       "      <td>1.397659</td>\n",
       "    </tr>\n",
       "    <tr>\n",
       "      <th>...</th>\n",
       "      <td>...</td>\n",
       "      <td>...</td>\n",
       "      <td>...</td>\n",
       "      <td>...</td>\n",
       "      <td>...</td>\n",
       "      <td>...</td>\n",
       "    </tr>\n",
       "    <tr>\n",
       "      <th>96</th>\n",
       "      <td>-0.534704</td>\n",
       "      <td>0.082869</td>\n",
       "      <td>-0.713731</td>\n",
       "      <td>-0.355676</td>\n",
       "      <td>-1.201057</td>\n",
       "      <td>0.131650</td>\n",
       "    </tr>\n",
       "    <tr>\n",
       "      <th>97</th>\n",
       "      <td>-0.401859</td>\n",
       "      <td>0.080611</td>\n",
       "      <td>-0.576009</td>\n",
       "      <td>-0.227709</td>\n",
       "      <td>-1.066919</td>\n",
       "      <td>0.263200</td>\n",
       "    </tr>\n",
       "    <tr>\n",
       "      <th>98</th>\n",
       "      <td>-0.267093</td>\n",
       "      <td>0.078817</td>\n",
       "      <td>-0.437366</td>\n",
       "      <td>-0.096819</td>\n",
       "      <td>-0.931148</td>\n",
       "      <td>0.396962</td>\n",
       "    </tr>\n",
       "    <tr>\n",
       "      <th>99</th>\n",
       "      <td>-0.130922</td>\n",
       "      <td>0.077547</td>\n",
       "      <td>-0.298453</td>\n",
       "      <td>0.036608</td>\n",
       "      <td>-0.794279</td>\n",
       "      <td>0.532435</td>\n",
       "    </tr>\n",
       "    <tr>\n",
       "      <th>100</th>\n",
       "      <td>0.006129</td>\n",
       "      <td>0.076848</td>\n",
       "      <td>-0.159890</td>\n",
       "      <td>0.172148</td>\n",
       "      <td>-0.656848</td>\n",
       "      <td>0.669106</td>\n",
       "    </tr>\n",
       "  </tbody>\n",
       "</table>\n",
       "<p>101 rows × 6 columns</p>\n",
       "</div>"
      ],
      "text/plain": [
       "         mean   mean_se  mean_ci_lower  mean_ci_upper  obs_ci_lower  \\\n",
       "0    0.190473  0.076848       0.024454       0.356492     -0.472504   \n",
       "1    0.327524  0.077547       0.159994       0.495054     -0.335833   \n",
       "2    0.463695  0.078817       0.293421       0.633968     -0.200360   \n",
       "3    0.598461  0.080611       0.424311       0.772611     -0.066598   \n",
       "4    0.731305  0.082869       0.552278       0.910333      0.064952   \n",
       "..        ...       ...            ...            ...           ...   \n",
       "96  -0.534704  0.082869      -0.713731      -0.355676     -1.201057   \n",
       "97  -0.401859  0.080611      -0.576009      -0.227709     -1.066919   \n",
       "98  -0.267093  0.078817      -0.437366      -0.096819     -0.931148   \n",
       "99  -0.130922  0.077547      -0.298453       0.036608     -0.794279   \n",
       "100  0.006129  0.076848      -0.159890       0.172148     -0.656848   \n",
       "\n",
       "     obs_ci_upper  \n",
       "0        0.853450  \n",
       "1        0.990881  \n",
       "2        1.127750  \n",
       "3        1.263521  \n",
       "4        1.397659  \n",
       "..            ...  \n",
       "96       0.131650  \n",
       "97       0.263200  \n",
       "98       0.396962  \n",
       "99       0.532435  \n",
       "100      0.669106  \n",
       "\n",
       "[101 rows x 6 columns]"
      ]
     },
     "execution_count": 20,
     "metadata": {},
     "output_type": "execute_result"
    }
   ],
   "source": [
    "lm_pred_summary"
   ]
  },
  {
   "cell_type": "markdown",
   "id": "34ac20b0-c938-4128-ab23-41a3bdab4f77",
   "metadata": {},
   "source": [
    "Visualize the predictive mean (trend), the CI, and the PI on a single graphic."
   ]
  },
  {
   "cell_type": "code",
   "execution_count": 36,
   "id": "2b528a1f-a796-4a44-b657-171a9e5dc564",
   "metadata": {},
   "outputs": [
    {
     "data": {
      "image/png": "[encoded data removed]",
      "text/plain": [
       "<Figure size 640x480 with 1 Axes>"
      ]
     },
     "metadata": {},
     "output_type": "display_data"
    }
   ],
   "source": [
    "fig, ax = plt.subplots()\n",
    "\n",
    "## prediction interval\n",
    "ax.fill_between(df_viz.x,\n",
    "                lm_pred_summary.obs_ci_lower,\n",
    "                lm_pred_summary.obs_ci_upper,\n",
    "                color=\"orange\", edgecolor=\"orange\", alpha=0.75)\n",
    "\n",
    "## confidence interval\n",
    "ax.fill_between(df_viz.x,\n",
    "                lm_pred_summary.mean_ci_lower,\n",
    "                lm_pred_summary.mean_ci_upper,\n",
    "                color=\"grey\", edgecolor=\"grey\")\n",
    "\n",
    "## trend\n",
    "ax.plot(df_viz.x,\n",
    "        lm_pred_summary[\"mean\"], color=\"k\", linewidth=1.5)\n",
    "\n",
    "# include training data\n",
    "ax.scatter(df.x, df.y, s=125, color=\"k\")\n",
    "\n",
    "# set labels\n",
    "ax.set_xlabel(\"x\")\n",
    "ax.set_ylabel(\"y\")\n",
    "\n",
    "## show the plot\n",
    "plt.show()"
   ]
  },
  {
   "cell_type": "markdown",
   "id": "26322bf4-4edc-4bdd-bf83-88004f412091",
   "metadata": {},
   "source": []
  }
 ],
 "metadata": {
  "kernelspec": {
   "display_name": "Python 3 (ipykernel)",
   "language": "python",
   "name": "python3"
  },
  "language_info": {
   "codemirror_mode": {
    "name": "ipython",
    "version": 3
   },
   "file_extension": ".py",
   "mimetype": "text/x-python",
   "name": "python",
   "nbconvert_exporter": "python",
   "pygments_lexer": "ipython3",
   "version": "3.8.19"
  }
 },
 "nbformat": 4,
 "nbformat_minor": 5
}
