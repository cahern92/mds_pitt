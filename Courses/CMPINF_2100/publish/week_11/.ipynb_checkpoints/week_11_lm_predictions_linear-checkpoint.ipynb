{
 "cells": [
  {
   "cell_type": "markdown",
   "id": "3aeeeb71-a0c6-4ddb-b79e-0ddd78236302",
   "metadata": {},
   "source": [
    "## CPMINF 2100 Week 11\n",
    "### Making predictions with Linear Models\n",
    "We will make predictiosn for the linear relationship example.\n",
    "## Import Modules"
   ]
  },
  {
   "cell_type": "code",
   "execution_count": 1,
   "id": "b8d584e5-5d3e-48da-ab68-fd0d58c257e2",
   "metadata": {},
   "outputs": [],
   "source": [
    "import numpy as np\n",
    "import pandas as pd\n",
    "import matplotlib.pyplot as plt\n",
    "\n",
    "import seaborn as sns"
   ]
  },
  {
   "cell_type": "code",
   "execution_count": 2,
   "id": "129bd5d9-688a-436d-974c-316f256078b6",
   "metadata": {},
   "outputs": [],
   "source": [
    "import statsmodels.formula.api as smf"
   ]
  },
  {
   "cell_type": "markdown",
   "id": "7a926719-55f5-4013-85c5-09f9a9133cdd",
   "metadata": {},
   "source": [
    "## Read data"
   ]
  },
  {
   "cell_type": "code",
   "execution_count": 3,
   "id": "33e3db7f-1330-46e1-bda9-5e13152e12e1",
   "metadata": {},
   "outputs": [],
   "source": [
    "df = pd.read_csv(\"week_11_linear_data.csv\")"
   ]
  },
  {
   "cell_type": "code",
   "execution_count": 4,
   "id": "93249109-9bc7-437f-9939-738f122dc105",
   "metadata": {},
   "outputs": [
    {
     "data": {
      "text/html": [
       "<div>\n",
       "<style scoped>\n",
       "    .dataframe tbody tr th:only-of-type {\n",
       "        vertical-align: middle;\n",
       "    }\n",
       "\n",
       "    .dataframe tbody tr th {\n",
       "        vertical-align: top;\n",
       "    }\n",
       "\n",
       "    .dataframe thead th {\n",
       "        text-align: right;\n",
       "    }\n",
       "</style>\n",
       "<table border=\"1\" class=\"dataframe\">\n",
       "  <thead>\n",
       "    <tr style=\"text-align: right;\">\n",
       "      <th></th>\n",
       "      <th>x</th>\n",
       "      <th>trend</th>\n",
       "      <th>y</th>\n",
       "      <th>true_intercept</th>\n",
       "      <th>true_slope</th>\n",
       "      <th>true_sigma</th>\n",
       "    </tr>\n",
       "  </thead>\n",
       "  <tbody>\n",
       "    <tr>\n",
       "      <th>0</th>\n",
       "      <td>-3.00</td>\n",
       "      <td>4.750</td>\n",
       "      <td>6.030315</td>\n",
       "      <td>0.25</td>\n",
       "      <td>-1.5</td>\n",
       "      <td>1.25</td>\n",
       "    </tr>\n",
       "    <tr>\n",
       "      <th>1</th>\n",
       "      <td>-2.25</td>\n",
       "      <td>3.625</td>\n",
       "      <td>1.457911</td>\n",
       "      <td>0.25</td>\n",
       "      <td>-1.5</td>\n",
       "      <td>1.25</td>\n",
       "    </tr>\n",
       "    <tr>\n",
       "      <th>2</th>\n",
       "      <td>-1.50</td>\n",
       "      <td>2.500</td>\n",
       "      <td>2.388383</td>\n",
       "      <td>0.25</td>\n",
       "      <td>-1.5</td>\n",
       "      <td>1.25</td>\n",
       "    </tr>\n",
       "    <tr>\n",
       "      <th>3</th>\n",
       "      <td>-0.75</td>\n",
       "      <td>1.375</td>\n",
       "      <td>0.007815</td>\n",
       "      <td>0.25</td>\n",
       "      <td>-1.5</td>\n",
       "      <td>1.25</td>\n",
       "    </tr>\n",
       "    <tr>\n",
       "      <th>4</th>\n",
       "      <td>0.00</td>\n",
       "      <td>0.250</td>\n",
       "      <td>0.651244</td>\n",
       "      <td>0.25</td>\n",
       "      <td>-1.5</td>\n",
       "      <td>1.25</td>\n",
       "    </tr>\n",
       "    <tr>\n",
       "      <th>5</th>\n",
       "      <td>0.75</td>\n",
       "      <td>-0.875</td>\n",
       "      <td>-2.254007</td>\n",
       "      <td>0.25</td>\n",
       "      <td>-1.5</td>\n",
       "      <td>1.25</td>\n",
       "    </tr>\n",
       "    <tr>\n",
       "      <th>6</th>\n",
       "      <td>1.50</td>\n",
       "      <td>-2.000</td>\n",
       "      <td>-2.969992</td>\n",
       "      <td>0.25</td>\n",
       "      <td>-1.5</td>\n",
       "      <td>1.25</td>\n",
       "    </tr>\n",
       "    <tr>\n",
       "      <th>7</th>\n",
       "      <td>2.25</td>\n",
       "      <td>-3.125</td>\n",
       "      <td>-3.537097</td>\n",
       "      <td>0.25</td>\n",
       "      <td>-1.5</td>\n",
       "      <td>1.25</td>\n",
       "    </tr>\n",
       "    <tr>\n",
       "      <th>8</th>\n",
       "      <td>3.00</td>\n",
       "      <td>-4.250</td>\n",
       "      <td>-6.063282</td>\n",
       "      <td>0.25</td>\n",
       "      <td>-1.5</td>\n",
       "      <td>1.25</td>\n",
       "    </tr>\n",
       "  </tbody>\n",
       "</table>\n",
       "</div>"
      ],
      "text/plain": [
       "      x  trend         y  true_intercept  true_slope  true_sigma\n",
       "0 -3.00  4.750  6.030315            0.25        -1.5        1.25\n",
       "1 -2.25  3.625  1.457911            0.25        -1.5        1.25\n",
       "2 -1.50  2.500  2.388383            0.25        -1.5        1.25\n",
       "3 -0.75  1.375  0.007815            0.25        -1.5        1.25\n",
       "4  0.00  0.250  0.651244            0.25        -1.5        1.25\n",
       "5  0.75 -0.875 -2.254007            0.25        -1.5        1.25\n",
       "6  1.50 -2.000 -2.969992            0.25        -1.5        1.25\n",
       "7  2.25 -3.125 -3.537097            0.25        -1.5        1.25\n",
       "8  3.00 -4.250 -6.063282            0.25        -1.5        1.25"
      ]
     },
     "execution_count": 4,
     "metadata": {},
     "output_type": "execute_result"
    }
   ],
   "source": [
    "df"
   ]
  },
  {
   "cell_type": "markdown",
   "id": "5179ab6f-a839-4e16-b19e-4f8885b9ae1e",
   "metadata": {},
   "source": [
    "## Fit the linear model\n",
    "Lets fit the linear model with the linear relationship between the SINGLE input x and the MEANT OUPUT of y."
   ]
  },
  {
   "cell_type": "code",
   "execution_count": 5,
   "id": "8bd605ec-7c8f-4fe1-8ee4-6262ca6b81bb",
   "metadata": {},
   "outputs": [],
   "source": [
    "lm_fit = smf.ols(formula=\"y ~ x\", data=df).fit()"
   ]
  },
  {
   "cell_type": "code",
   "execution_count": 6,
   "id": "7e5ed075-ccee-41e0-979a-86eb588f94a8",
   "metadata": {},
   "outputs": [
    {
     "name": "stdout",
     "output_type": "stream",
     "text": [
      "                            OLS Regression Results                            \n",
      "==============================================================================\n",
      "Dep. Variable:                      y   R-squared:                       0.918\n",
      "Model:                            OLS   Adj. R-squared:                  0.907\n",
      "Method:                 Least Squares   F-statistic:                     78.82\n",
      "Date:                Tue, 12 Nov 2024   Prob (F-statistic):           4.66e-05\n",
      "Time:                        15:29:51   Log-Likelihood:                -12.580\n",
      "No. Observations:                   9   AIC:                             29.16\n",
      "Df Residuals:                       7   BIC:                             29.55\n",
      "Df Model:                           1                                         \n",
      "Covariance Type:            nonrobust                                         \n",
      "==============================================================================\n",
      "                 coef    std err          t      P>|t|      [0.025      0.975]\n",
      "------------------------------------------------------------------------------\n",
      "Intercept     -0.4765      0.370     -1.288      0.239      -1.352       0.398\n",
      "x             -1.6964      0.191     -8.878      0.000      -2.148      -1.245\n",
      "==============================================================================\n",
      "Omnibus:                        0.301   Durbin-Watson:                   2.978\n",
      "Prob(Omnibus):                  0.860   Jarque-Bera (JB):                0.330\n",
      "Skew:                          -0.315   Prob(JB):                        0.848\n",
      "Kurtosis:                       2.306   Cond. No.                         1.94\n",
      "==============================================================================\n",
      "\n",
      "Notes:\n",
      "[1] Standard Errors assume that the covariance matrix of the errors is correctly specified.\n"
     ]
    },
    {
     "name": "stderr",
     "output_type": "stream",
     "text": [
      "/Applications/anaconda3/envs/cmpinf2100/lib/python3.8/site-packages/scipy/stats/_stats_py.py:1769: UserWarning: kurtosistest only valid for n>=20 ... continuing anyway, n=9\n",
      "  warnings.warn(\"kurtosistest only valid for n>=20 ... continuing \"\n"
     ]
    }
   ],
   "source": [
    "print(lm_fit.summary())"
   ]
  },
  {
   "cell_type": "markdown",
   "id": "b6ab0ef6-16bc-4239-8ee6-69b9ed24d2db",
   "metadata": {},
   "source": [
    "## Making predictions\n",
    "Unfortunately, predictions are the LEAST used tools for interpreting model behavior!!\n",
    "\n",
    "Predictions can be made on data that DO NOT INCLUDE observed outputs!!!\n",
    "\n",
    "We can create our own data sets and visualize the predictive trends, predictive uncertainty, the predictive behavior for ANY input value!!!\n",
    "\n",
    "Lets create a dataset that has MORE input locations than the training set."
   ]
  },
  {
   "cell_type": "code",
   "execution_count": 7,
   "id": "34f5e2ce-654f-4328-8ae7-aa1380677507",
   "metadata": {},
   "outputs": [],
   "source": [
    "df_viz = pd.DataFrame({\"x\": np.linspace(df.x.min()-0.1, df.x.max()+0.1, num=101)})"
   ]
  },
  {
   "cell_type": "code",
   "execution_count": 8,
   "id": "cce2e66e-5780-4add-a13c-04971323f03f",
   "metadata": {},
   "outputs": [
    {
     "data": {
      "text/html": [
       "<div>\n",
       "<style scoped>\n",
       "    .dataframe tbody tr th:only-of-type {\n",
       "        vertical-align: middle;\n",
       "    }\n",
       "\n",
       "    .dataframe tbody tr th {\n",
       "        vertical-align: top;\n",
       "    }\n",
       "\n",
       "    .dataframe thead th {\n",
       "        text-align: right;\n",
       "    }\n",
       "</style>\n",
       "<table border=\"1\" class=\"dataframe\">\n",
       "  <thead>\n",
       "    <tr style=\"text-align: right;\">\n",
       "      <th></th>\n",
       "      <th>x</th>\n",
       "    </tr>\n",
       "  </thead>\n",
       "  <tbody>\n",
       "    <tr>\n",
       "      <th>0</th>\n",
       "      <td>-3.100</td>\n",
       "    </tr>\n",
       "    <tr>\n",
       "      <th>1</th>\n",
       "      <td>-3.038</td>\n",
       "    </tr>\n",
       "    <tr>\n",
       "      <th>2</th>\n",
       "      <td>-2.976</td>\n",
       "    </tr>\n",
       "    <tr>\n",
       "      <th>3</th>\n",
       "      <td>-2.914</td>\n",
       "    </tr>\n",
       "    <tr>\n",
       "      <th>4</th>\n",
       "      <td>-2.852</td>\n",
       "    </tr>\n",
       "    <tr>\n",
       "      <th>...</th>\n",
       "      <td>...</td>\n",
       "    </tr>\n",
       "    <tr>\n",
       "      <th>96</th>\n",
       "      <td>2.852</td>\n",
       "    </tr>\n",
       "    <tr>\n",
       "      <th>97</th>\n",
       "      <td>2.914</td>\n",
       "    </tr>\n",
       "    <tr>\n",
       "      <th>98</th>\n",
       "      <td>2.976</td>\n",
       "    </tr>\n",
       "    <tr>\n",
       "      <th>99</th>\n",
       "      <td>3.038</td>\n",
       "    </tr>\n",
       "    <tr>\n",
       "      <th>100</th>\n",
       "      <td>3.100</td>\n",
       "    </tr>\n",
       "  </tbody>\n",
       "</table>\n",
       "<p>101 rows × 1 columns</p>\n",
       "</div>"
      ],
      "text/plain": [
       "         x\n",
       "0   -3.100\n",
       "1   -3.038\n",
       "2   -2.976\n",
       "3   -2.914\n",
       "4   -2.852\n",
       "..     ...\n",
       "96   2.852\n",
       "97   2.914\n",
       "98   2.976\n",
       "99   3.038\n",
       "100  3.100\n",
       "\n",
       "[101 rows x 1 columns]"
      ]
     },
     "execution_count": 8,
     "metadata": {},
     "output_type": "execute_result"
    }
   ],
   "source": [
    "df_viz"
   ]
  },
  {
   "cell_type": "code",
   "execution_count": 9,
   "id": "7995df38-71fc-49c2-bfd9-043ff91258c2",
   "metadata": {},
   "outputs": [
    {
     "data": {
      "text/html": [
       "<div>\n",
       "<style scoped>\n",
       "    .dataframe tbody tr th:only-of-type {\n",
       "        vertical-align: middle;\n",
       "    }\n",
       "\n",
       "    .dataframe tbody tr th {\n",
       "        vertical-align: top;\n",
       "    }\n",
       "\n",
       "    .dataframe thead th {\n",
       "        text-align: right;\n",
       "    }\n",
       "</style>\n",
       "<table border=\"1\" class=\"dataframe\">\n",
       "  <thead>\n",
       "    <tr style=\"text-align: right;\">\n",
       "      <th></th>\n",
       "      <th>x</th>\n",
       "      <th>trend</th>\n",
       "      <th>y</th>\n",
       "      <th>true_intercept</th>\n",
       "      <th>true_slope</th>\n",
       "      <th>true_sigma</th>\n",
       "    </tr>\n",
       "  </thead>\n",
       "  <tbody>\n",
       "    <tr>\n",
       "      <th>0</th>\n",
       "      <td>-3.00</td>\n",
       "      <td>4.750</td>\n",
       "      <td>6.030315</td>\n",
       "      <td>0.25</td>\n",
       "      <td>-1.5</td>\n",
       "      <td>1.25</td>\n",
       "    </tr>\n",
       "    <tr>\n",
       "      <th>1</th>\n",
       "      <td>-2.25</td>\n",
       "      <td>3.625</td>\n",
       "      <td>1.457911</td>\n",
       "      <td>0.25</td>\n",
       "      <td>-1.5</td>\n",
       "      <td>1.25</td>\n",
       "    </tr>\n",
       "    <tr>\n",
       "      <th>2</th>\n",
       "      <td>-1.50</td>\n",
       "      <td>2.500</td>\n",
       "      <td>2.388383</td>\n",
       "      <td>0.25</td>\n",
       "      <td>-1.5</td>\n",
       "      <td>1.25</td>\n",
       "    </tr>\n",
       "    <tr>\n",
       "      <th>3</th>\n",
       "      <td>-0.75</td>\n",
       "      <td>1.375</td>\n",
       "      <td>0.007815</td>\n",
       "      <td>0.25</td>\n",
       "      <td>-1.5</td>\n",
       "      <td>1.25</td>\n",
       "    </tr>\n",
       "    <tr>\n",
       "      <th>4</th>\n",
       "      <td>0.00</td>\n",
       "      <td>0.250</td>\n",
       "      <td>0.651244</td>\n",
       "      <td>0.25</td>\n",
       "      <td>-1.5</td>\n",
       "      <td>1.25</td>\n",
       "    </tr>\n",
       "    <tr>\n",
       "      <th>5</th>\n",
       "      <td>0.75</td>\n",
       "      <td>-0.875</td>\n",
       "      <td>-2.254007</td>\n",
       "      <td>0.25</td>\n",
       "      <td>-1.5</td>\n",
       "      <td>1.25</td>\n",
       "    </tr>\n",
       "    <tr>\n",
       "      <th>6</th>\n",
       "      <td>1.50</td>\n",
       "      <td>-2.000</td>\n",
       "      <td>-2.969992</td>\n",
       "      <td>0.25</td>\n",
       "      <td>-1.5</td>\n",
       "      <td>1.25</td>\n",
       "    </tr>\n",
       "    <tr>\n",
       "      <th>7</th>\n",
       "      <td>2.25</td>\n",
       "      <td>-3.125</td>\n",
       "      <td>-3.537097</td>\n",
       "      <td>0.25</td>\n",
       "      <td>-1.5</td>\n",
       "      <td>1.25</td>\n",
       "    </tr>\n",
       "    <tr>\n",
       "      <th>8</th>\n",
       "      <td>3.00</td>\n",
       "      <td>-4.250</td>\n",
       "      <td>-6.063282</td>\n",
       "      <td>0.25</td>\n",
       "      <td>-1.5</td>\n",
       "      <td>1.25</td>\n",
       "    </tr>\n",
       "  </tbody>\n",
       "</table>\n",
       "</div>"
      ],
      "text/plain": [
       "      x  trend         y  true_intercept  true_slope  true_sigma\n",
       "0 -3.00  4.750  6.030315            0.25        -1.5        1.25\n",
       "1 -2.25  3.625  1.457911            0.25        -1.5        1.25\n",
       "2 -1.50  2.500  2.388383            0.25        -1.5        1.25\n",
       "3 -0.75  1.375  0.007815            0.25        -1.5        1.25\n",
       "4  0.00  0.250  0.651244            0.25        -1.5        1.25\n",
       "5  0.75 -0.875 -2.254007            0.25        -1.5        1.25\n",
       "6  1.50 -2.000 -2.969992            0.25        -1.5        1.25\n",
       "7  2.25 -3.125 -3.537097            0.25        -1.5        1.25\n",
       "8  3.00 -4.250 -6.063282            0.25        -1.5        1.25"
      ]
     },
     "execution_count": 9,
     "metadata": {},
     "output_type": "execute_result"
    }
   ],
   "source": [
    "df"
   ]
  },
  {
   "cell_type": "markdown",
   "id": "190cc1ee-be8f-47db-a78d-49672e3cb549",
   "metadata": {},
   "source": [
    "We can ask **WHAT IF** questions?? What if the INPUT is at a NEW value that we DID NOT see previously??\n",
    "\n",
    "What wil the OUPUT BE????\n",
    "\n",
    "The statsmodels fitted object includes the .predict() method. This method lets you PREDICT a new data set GIVEN the FITTED MODEL!!!"
   ]
  },
  {
   "cell_type": "markdown",
   "id": "96e9d013-f04b-4088-b459-218402c8e139",
   "metadata": {},
   "source": [
    "Make the prediction and assign the lm_pred object."
   ]
  },
  {
   "cell_type": "code",
   "execution_count": 10,
   "id": "90334921-8ac5-41e1-9462-2e58300f015a",
   "metadata": {},
   "outputs": [],
   "source": [
    "lm_pred = lm_fit.predict(df_viz)"
   ]
  },
  {
   "cell_type": "code",
   "execution_count": 11,
   "id": "ab4ab68b-e130-4da5-ac90-a27ef23e1793",
   "metadata": {},
   "outputs": [
    {
     "data": {
      "text/plain": [
       "0      4.782316\n",
       "1      4.677139\n",
       "2      4.571962\n",
       "3      4.466785\n",
       "4      4.361608\n",
       "         ...   \n",
       "96    -5.314655\n",
       "97    -5.419832\n",
       "98    -5.525008\n",
       "99    -5.630185\n",
       "100   -5.735362\n",
       "Length: 101, dtype: float64"
      ]
     },
     "execution_count": 11,
     "metadata": {},
     "output_type": "execute_result"
    }
   ],
   "source": [
    "lm_pred"
   ]
  },
  {
   "cell_type": "code",
   "execution_count": 12,
   "id": "25e43781-c33a-4354-be18-6b5b7aea4f85",
   "metadata": {},
   "outputs": [
    {
     "data": {
      "text/plain": [
       "101"
      ]
     },
     "execution_count": 12,
     "metadata": {},
     "output_type": "execute_result"
    }
   ],
   "source": [
    "lm_pred.size"
   ]
  },
  {
   "cell_type": "code",
   "execution_count": 13,
   "id": "767a6acb-4ac6-4223-ab8c-5cd77af73c1b",
   "metadata": {},
   "outputs": [
    {
     "data": {
      "text/plain": [
       "(101,)"
      ]
     },
     "execution_count": 13,
     "metadata": {},
     "output_type": "execute_result"
    }
   ],
   "source": [
    "lm_pred.shape"
   ]
  },
  {
   "cell_type": "markdown",
   "id": "3a31c97d-a339-4254-8994-873f5c8fccf4",
   "metadata": {},
   "source": [
    "Lets make a copy of the visualization Df and add the prediction to this copy."
   ]
  },
  {
   "cell_type": "code",
   "execution_count": 14,
   "id": "8261d690-92cb-49e1-910c-8c0a36c2ae1c",
   "metadata": {},
   "outputs": [],
   "source": [
    "df_viz_copy = df_viz.copy()"
   ]
  },
  {
   "cell_type": "code",
   "execution_count": 15,
   "id": "d13edb7a-fcb4-40da-af63-ee140c10498d",
   "metadata": {},
   "outputs": [],
   "source": [
    "df_viz_copy[\"pred_trend\"] = pd.Series(lm_pred, index=df_viz.index)"
   ]
  },
  {
   "cell_type": "code",
   "execution_count": 16,
   "id": "41099e5e-86f5-4894-9faa-f7b218c21784",
   "metadata": {},
   "outputs": [
    {
     "data": {
      "text/html": [
       "<div>\n",
       "<style scoped>\n",
       "    .dataframe tbody tr th:only-of-type {\n",
       "        vertical-align: middle;\n",
       "    }\n",
       "\n",
       "    .dataframe tbody tr th {\n",
       "        vertical-align: top;\n",
       "    }\n",
       "\n",
       "    .dataframe thead th {\n",
       "        text-align: right;\n",
       "    }\n",
       "</style>\n",
       "<table border=\"1\" class=\"dataframe\">\n",
       "  <thead>\n",
       "    <tr style=\"text-align: right;\">\n",
       "      <th></th>\n",
       "      <th>x</th>\n",
       "      <th>pred_trend</th>\n",
       "    </tr>\n",
       "  </thead>\n",
       "  <tbody>\n",
       "    <tr>\n",
       "      <th>0</th>\n",
       "      <td>-3.100</td>\n",
       "      <td>4.782316</td>\n",
       "    </tr>\n",
       "    <tr>\n",
       "      <th>1</th>\n",
       "      <td>-3.038</td>\n",
       "      <td>4.677139</td>\n",
       "    </tr>\n",
       "    <tr>\n",
       "      <th>2</th>\n",
       "      <td>-2.976</td>\n",
       "      <td>4.571962</td>\n",
       "    </tr>\n",
       "    <tr>\n",
       "      <th>3</th>\n",
       "      <td>-2.914</td>\n",
       "      <td>4.466785</td>\n",
       "    </tr>\n",
       "    <tr>\n",
       "      <th>4</th>\n",
       "      <td>-2.852</td>\n",
       "      <td>4.361608</td>\n",
       "    </tr>\n",
       "    <tr>\n",
       "      <th>...</th>\n",
       "      <td>...</td>\n",
       "      <td>...</td>\n",
       "    </tr>\n",
       "    <tr>\n",
       "      <th>96</th>\n",
       "      <td>2.852</td>\n",
       "      <td>-5.314655</td>\n",
       "    </tr>\n",
       "    <tr>\n",
       "      <th>97</th>\n",
       "      <td>2.914</td>\n",
       "      <td>-5.419832</td>\n",
       "    </tr>\n",
       "    <tr>\n",
       "      <th>98</th>\n",
       "      <td>2.976</td>\n",
       "      <td>-5.525008</td>\n",
       "    </tr>\n",
       "    <tr>\n",
       "      <th>99</th>\n",
       "      <td>3.038</td>\n",
       "      <td>-5.630185</td>\n",
       "    </tr>\n",
       "    <tr>\n",
       "      <th>100</th>\n",
       "      <td>3.100</td>\n",
       "      <td>-5.735362</td>\n",
       "    </tr>\n",
       "  </tbody>\n",
       "</table>\n",
       "<p>101 rows × 2 columns</p>\n",
       "</div>"
      ],
      "text/plain": [
       "         x  pred_trend\n",
       "0   -3.100    4.782316\n",
       "1   -3.038    4.677139\n",
       "2   -2.976    4.571962\n",
       "3   -2.914    4.466785\n",
       "4   -2.852    4.361608\n",
       "..     ...         ...\n",
       "96   2.852   -5.314655\n",
       "97   2.914   -5.419832\n",
       "98   2.976   -5.525008\n",
       "99   3.038   -5.630185\n",
       "100  3.100   -5.735362\n",
       "\n",
       "[101 rows x 2 columns]"
      ]
     },
     "execution_count": 16,
     "metadata": {},
     "output_type": "execute_result"
    }
   ],
   "source": [
    "df_viz_copy"
   ]
  },
  {
   "cell_type": "markdown",
   "id": "5588c5e0-d88d-40ae-a139-513b5aa4cbbe",
   "metadata": {},
   "source": [
    "We can visualize the predicted TREND with respect to the INPUT."
   ]
  },
  {
   "cell_type": "code",
   "execution_count": 17,
   "id": "8fc04ed4-87b1-4069-8d84-37e2067a974e",
   "metadata": {},
   "outputs": [
    {
     "data": {
      "image/png": "[encoded data removed]",
      "text/plain": [
       "<Figure size 640x480 with 1 Axes>"
      ]
     },
     "metadata": {},
     "output_type": "display_data"
    }
   ],
   "source": [
    "fig, ax = plt.subplots()\n",
    "\n",
    "ax.plot(df_viz_copy.x, df_viz_copy.pred_trend, color=\"b\")\n",
    "\n",
    "ax.set_xlabel(\"x\")\n",
    "ax.set_ylabel(\"trend\")\n",
    "\n",
    "plt.show()"
   ]
  },
  {
   "cell_type": "markdown",
   "id": "64e7ce13-c2b4-420e-b5dc-65c6904b681c",
   "metadata": {},
   "source": [
    "Include the TRAINING set as a scatter plot."
   ]
  },
  {
   "cell_type": "code",
   "execution_count": 18,
   "id": "bd56d22d-dcce-46eb-9a56-d8b1ac653617",
   "metadata": {},
   "outputs": [
    {
     "data": {
      "image/png": "[encoded data removed]",
      "text/plain": [
       "<Figure size 640x480 with 1 Axes>"
      ]
     },
     "metadata": {},
     "output_type": "display_data"
    }
   ],
   "source": [
    "fig, ax = plt.subplots()\n",
    "\n",
    "ax.plot(df_viz_copy.x, df_viz_copy.pred_trend, color=\"b\")\n",
    "ax.scatter(x=df.x, y=df.y, color=\"k\")\n",
    "\n",
    "ax.set_xlabel(\"x\")\n",
    "ax.set_ylabel(\"trend\")\n",
    "\n",
    "plt.show()"
   ]
  },
  {
   "cell_type": "markdown",
   "id": "4a4bd074-c83f-438e-9c8c-856813e1f64c",
   "metadata": {},
   "source": [
    "Because this is a TOY PROBLEM and we generated the data...we KNOW the real answer or the TRUE TREND."
   ]
  },
  {
   "cell_type": "code",
   "execution_count": 19,
   "id": "59e8895d-aa4b-4dd6-88e9-9cd19f8be040",
   "metadata": {},
   "outputs": [
    {
     "data": {
      "text/html": [
       "<div>\n",
       "<style scoped>\n",
       "    .dataframe tbody tr th:only-of-type {\n",
       "        vertical-align: middle;\n",
       "    }\n",
       "\n",
       "    .dataframe tbody tr th {\n",
       "        vertical-align: top;\n",
       "    }\n",
       "\n",
       "    .dataframe thead th {\n",
       "        text-align: right;\n",
       "    }\n",
       "</style>\n",
       "<table border=\"1\" class=\"dataframe\">\n",
       "  <thead>\n",
       "    <tr style=\"text-align: right;\">\n",
       "      <th></th>\n",
       "      <th>x</th>\n",
       "      <th>trend</th>\n",
       "      <th>y</th>\n",
       "      <th>true_intercept</th>\n",
       "      <th>true_slope</th>\n",
       "      <th>true_sigma</th>\n",
       "    </tr>\n",
       "  </thead>\n",
       "  <tbody>\n",
       "    <tr>\n",
       "      <th>0</th>\n",
       "      <td>-3.00</td>\n",
       "      <td>4.750</td>\n",
       "      <td>6.030315</td>\n",
       "      <td>0.25</td>\n",
       "      <td>-1.5</td>\n",
       "      <td>1.25</td>\n",
       "    </tr>\n",
       "    <tr>\n",
       "      <th>1</th>\n",
       "      <td>-2.25</td>\n",
       "      <td>3.625</td>\n",
       "      <td>1.457911</td>\n",
       "      <td>0.25</td>\n",
       "      <td>-1.5</td>\n",
       "      <td>1.25</td>\n",
       "    </tr>\n",
       "    <tr>\n",
       "      <th>2</th>\n",
       "      <td>-1.50</td>\n",
       "      <td>2.500</td>\n",
       "      <td>2.388383</td>\n",
       "      <td>0.25</td>\n",
       "      <td>-1.5</td>\n",
       "      <td>1.25</td>\n",
       "    </tr>\n",
       "    <tr>\n",
       "      <th>3</th>\n",
       "      <td>-0.75</td>\n",
       "      <td>1.375</td>\n",
       "      <td>0.007815</td>\n",
       "      <td>0.25</td>\n",
       "      <td>-1.5</td>\n",
       "      <td>1.25</td>\n",
       "    </tr>\n",
       "    <tr>\n",
       "      <th>4</th>\n",
       "      <td>0.00</td>\n",
       "      <td>0.250</td>\n",
       "      <td>0.651244</td>\n",
       "      <td>0.25</td>\n",
       "      <td>-1.5</td>\n",
       "      <td>1.25</td>\n",
       "    </tr>\n",
       "    <tr>\n",
       "      <th>5</th>\n",
       "      <td>0.75</td>\n",
       "      <td>-0.875</td>\n",
       "      <td>-2.254007</td>\n",
       "      <td>0.25</td>\n",
       "      <td>-1.5</td>\n",
       "      <td>1.25</td>\n",
       "    </tr>\n",
       "    <tr>\n",
       "      <th>6</th>\n",
       "      <td>1.50</td>\n",
       "      <td>-2.000</td>\n",
       "      <td>-2.969992</td>\n",
       "      <td>0.25</td>\n",
       "      <td>-1.5</td>\n",
       "      <td>1.25</td>\n",
       "    </tr>\n",
       "    <tr>\n",
       "      <th>7</th>\n",
       "      <td>2.25</td>\n",
       "      <td>-3.125</td>\n",
       "      <td>-3.537097</td>\n",
       "      <td>0.25</td>\n",
       "      <td>-1.5</td>\n",
       "      <td>1.25</td>\n",
       "    </tr>\n",
       "    <tr>\n",
       "      <th>8</th>\n",
       "      <td>3.00</td>\n",
       "      <td>-4.250</td>\n",
       "      <td>-6.063282</td>\n",
       "      <td>0.25</td>\n",
       "      <td>-1.5</td>\n",
       "      <td>1.25</td>\n",
       "    </tr>\n",
       "  </tbody>\n",
       "</table>\n",
       "</div>"
      ],
      "text/plain": [
       "      x  trend         y  true_intercept  true_slope  true_sigma\n",
       "0 -3.00  4.750  6.030315            0.25        -1.5        1.25\n",
       "1 -2.25  3.625  1.457911            0.25        -1.5        1.25\n",
       "2 -1.50  2.500  2.388383            0.25        -1.5        1.25\n",
       "3 -0.75  1.375  0.007815            0.25        -1.5        1.25\n",
       "4  0.00  0.250  0.651244            0.25        -1.5        1.25\n",
       "5  0.75 -0.875 -2.254007            0.25        -1.5        1.25\n",
       "6  1.50 -2.000 -2.969992            0.25        -1.5        1.25\n",
       "7  2.25 -3.125 -3.537097            0.25        -1.5        1.25\n",
       "8  3.00 -4.250 -6.063282            0.25        -1.5        1.25"
      ]
     },
     "execution_count": 19,
     "metadata": {},
     "output_type": "execute_result"
    }
   ],
   "source": [
    "df"
   ]
  },
  {
   "cell_type": "code",
   "execution_count": 20,
   "id": "3065740f-6680-467e-9152-ec515139b9cb",
   "metadata": {},
   "outputs": [],
   "source": [
    "my_intercept = np.unique(df.true_intercept)"
   ]
  },
  {
   "cell_type": "code",
   "execution_count": 21,
   "id": "22364740-66f1-48a2-b594-bc3c2f581d02",
   "metadata": {},
   "outputs": [],
   "source": [
    "my_slope = np.unique(df.true_slope)"
   ]
  },
  {
   "cell_type": "markdown",
   "id": "4e48489b-ddc8-443e-bde6-3fc5dbc7bf64",
   "metadata": {},
   "source": [
    "Display the TRUE TREND, the TRUE MEAN relationship to the INPUT with the PREDICTED TREND. "
   ]
  },
  {
   "cell_type": "code",
   "execution_count": 22,
   "id": "9e0cfd41-18cf-404a-9fe9-981609ba096e",
   "metadata": {},
   "outputs": [
    {
     "data": {
      "image/png": "[encoded data removed]",
      "text/plain": [
       "<Figure size 640x480 with 1 Axes>"
      ]
     },
     "metadata": {},
     "output_type": "display_data"
    }
   ],
   "source": [
    "fig, ax = plt.subplots()\n",
    "\n",
    "ax.plot(df_viz_copy.x, df_viz_copy.pred_trend, color=\"b\", label=\"model\")\n",
    "ax.plot(df_viz_copy.x, my_intercept+my_slope*df_viz_copy.x, color=\"crimson\", label=\"truth\")\n",
    "ax.scatter(x=df.x, y=df.y, color=\"k\")\n",
    "\n",
    "ax.set_xlabel(\"x\")\n",
    "ax.set_ylabel(\"trend\")\n",
    "\n",
    "ax.legend()\n",
    "\n",
    "plt.show()"
   ]
  },
  {
   "cell_type": "markdown",
   "id": "705e8cc2-58c4-4de2-a714-0e2f9d223387",
   "metadata": {},
   "source": [
    "We will NEVER know the TRUE relationship...we must ALWAYS include the CI on the TREND!!\n",
    "\n",
    "We must always represent the UNCERTAINTY on the TREND given the fitted data!!!!\n",
    "\n",
    "We will use statsmodels to pull out the predictive uncertainty!!!\n",
    "\n",
    "statsmodels provides a 2 step process for extracting uncertainty on the predictions.\n",
    "\n",
    "Step 1: Call the get_prediction() method on the fitted object."
   ]
  },
  {
   "cell_type": "code",
   "execution_count": 23,
   "id": "e1776cb8-082e-456d-be32-be07a24f530e",
   "metadata": {},
   "outputs": [],
   "source": [
    "predictions = lm_fit.get_prediction(df_viz)"
   ]
  },
  {
   "cell_type": "code",
   "execution_count": 24,
   "id": "7f61acd6-53dc-4f16-9947-ea8d6eae1c65",
   "metadata": {},
   "outputs": [
    {
     "data": {
      "text/plain": [
       "statsmodels.regression._prediction.PredictionResults"
      ]
     },
     "execution_count": 24,
     "metadata": {},
     "output_type": "execute_result"
    }
   ],
   "source": [
    "type(predictions)"
   ]
  },
  {
   "cell_type": "markdown",
   "id": "804ce57a-ba06-4847-a49e-3ded52e30794",
   "metadata": {},
   "source": [
    "Step 2: Call the .summary_frame() method on the Prediction Object."
   ]
  },
  {
   "cell_type": "code",
   "execution_count": 25,
   "id": "406c3021-0e65-4d13-b89b-eec5670a9ef7",
   "metadata": {},
   "outputs": [],
   "source": [
    "lm_pred_summary = predictions.summary_frame()"
   ]
  },
  {
   "cell_type": "code",
   "execution_count": 26,
   "id": "5d93077c-7ae7-436a-9490-ed56892eca66",
   "metadata": {},
   "outputs": [
    {
     "data": {
      "text/html": [
       "<div>\n",
       "<style scoped>\n",
       "    .dataframe tbody tr th:only-of-type {\n",
       "        vertical-align: middle;\n",
       "    }\n",
       "\n",
       "    .dataframe tbody tr th {\n",
       "        vertical-align: top;\n",
       "    }\n",
       "\n",
       "    .dataframe thead th {\n",
       "        text-align: right;\n",
       "    }\n",
       "</style>\n",
       "<table border=\"1\" class=\"dataframe\">\n",
       "  <thead>\n",
       "    <tr style=\"text-align: right;\">\n",
       "      <th></th>\n",
       "      <th>mean</th>\n",
       "      <th>mean_se</th>\n",
       "      <th>mean_ci_lower</th>\n",
       "      <th>mean_ci_upper</th>\n",
       "      <th>obs_ci_lower</th>\n",
       "      <th>obs_ci_upper</th>\n",
       "    </tr>\n",
       "  </thead>\n",
       "  <tbody>\n",
       "    <tr>\n",
       "      <th>0</th>\n",
       "      <td>4.782316</td>\n",
       "      <td>0.698434</td>\n",
       "      <td>3.130782</td>\n",
       "      <td>6.433850</td>\n",
       "      <td>1.681036</td>\n",
       "      <td>7.883595</td>\n",
       "    </tr>\n",
       "    <tr>\n",
       "      <th>1</th>\n",
       "      <td>4.677139</td>\n",
       "      <td>0.688415</td>\n",
       "      <td>3.049296</td>\n",
       "      <td>6.304981</td>\n",
       "      <td>1.588411</td>\n",
       "      <td>7.765866</td>\n",
       "    </tr>\n",
       "    <tr>\n",
       "      <th>2</th>\n",
       "      <td>4.571962</td>\n",
       "      <td>0.678455</td>\n",
       "      <td>2.967672</td>\n",
       "      <td>6.176252</td>\n",
       "      <td>1.495582</td>\n",
       "      <td>7.648342</td>\n",
       "    </tr>\n",
       "    <tr>\n",
       "      <th>3</th>\n",
       "      <td>4.466785</td>\n",
       "      <td>0.668556</td>\n",
       "      <td>2.885902</td>\n",
       "      <td>6.047668</td>\n",
       "      <td>1.402546</td>\n",
       "      <td>7.531024</td>\n",
       "    </tr>\n",
       "    <tr>\n",
       "      <th>4</th>\n",
       "      <td>4.361608</td>\n",
       "      <td>0.658721</td>\n",
       "      <td>2.803980</td>\n",
       "      <td>5.919237</td>\n",
       "      <td>1.309302</td>\n",
       "      <td>7.413915</td>\n",
       "    </tr>\n",
       "    <tr>\n",
       "      <th>...</th>\n",
       "      <td>...</td>\n",
       "      <td>...</td>\n",
       "      <td>...</td>\n",
       "      <td>...</td>\n",
       "      <td>...</td>\n",
       "      <td>...</td>\n",
       "    </tr>\n",
       "    <tr>\n",
       "      <th>96</th>\n",
       "      <td>-5.314655</td>\n",
       "      <td>0.658721</td>\n",
       "      <td>-6.872283</td>\n",
       "      <td>-3.757026</td>\n",
       "      <td>-8.366961</td>\n",
       "      <td>-2.262349</td>\n",
       "    </tr>\n",
       "    <tr>\n",
       "      <th>97</th>\n",
       "      <td>-5.419832</td>\n",
       "      <td>0.668556</td>\n",
       "      <td>-7.000715</td>\n",
       "      <td>-3.838948</td>\n",
       "      <td>-8.484070</td>\n",
       "      <td>-2.355593</td>\n",
       "    </tr>\n",
       "    <tr>\n",
       "      <th>98</th>\n",
       "      <td>-5.525008</td>\n",
       "      <td>0.678455</td>\n",
       "      <td>-7.129298</td>\n",
       "      <td>-3.920718</td>\n",
       "      <td>-8.601388</td>\n",
       "      <td>-2.448628</td>\n",
       "    </tr>\n",
       "    <tr>\n",
       "      <th>99</th>\n",
       "      <td>-5.630185</td>\n",
       "      <td>0.688415</td>\n",
       "      <td>-7.258028</td>\n",
       "      <td>-4.002343</td>\n",
       "      <td>-8.718913</td>\n",
       "      <td>-2.541458</td>\n",
       "    </tr>\n",
       "    <tr>\n",
       "      <th>100</th>\n",
       "      <td>-5.735362</td>\n",
       "      <td>0.698434</td>\n",
       "      <td>-7.386896</td>\n",
       "      <td>-4.083828</td>\n",
       "      <td>-8.836641</td>\n",
       "      <td>-2.634083</td>\n",
       "    </tr>\n",
       "  </tbody>\n",
       "</table>\n",
       "<p>101 rows × 6 columns</p>\n",
       "</div>"
      ],
      "text/plain": [
       "         mean   mean_se  mean_ci_lower  mean_ci_upper  obs_ci_lower  \\\n",
       "0    4.782316  0.698434       3.130782       6.433850      1.681036   \n",
       "1    4.677139  0.688415       3.049296       6.304981      1.588411   \n",
       "2    4.571962  0.678455       2.967672       6.176252      1.495582   \n",
       "3    4.466785  0.668556       2.885902       6.047668      1.402546   \n",
       "4    4.361608  0.658721       2.803980       5.919237      1.309302   \n",
       "..        ...       ...            ...            ...           ...   \n",
       "96  -5.314655  0.658721      -6.872283      -3.757026     -8.366961   \n",
       "97  -5.419832  0.668556      -7.000715      -3.838948     -8.484070   \n",
       "98  -5.525008  0.678455      -7.129298      -3.920718     -8.601388   \n",
       "99  -5.630185  0.688415      -7.258028      -4.002343     -8.718913   \n",
       "100 -5.735362  0.698434      -7.386896      -4.083828     -8.836641   \n",
       "\n",
       "     obs_ci_upper  \n",
       "0        7.883595  \n",
       "1        7.765866  \n",
       "2        7.648342  \n",
       "3        7.531024  \n",
       "4        7.413915  \n",
       "..            ...  \n",
       "96      -2.262349  \n",
       "97      -2.355593  \n",
       "98      -2.448628  \n",
       "99      -2.541458  \n",
       "100     -2.634083  \n",
       "\n",
       "[101 rows x 6 columns]"
      ]
     },
     "execution_count": 26,
     "metadata": {},
     "output_type": "execute_result"
    }
   ],
   "source": [
    "lm_pred_summary"
   ]
  },
  {
   "cell_type": "markdown",
   "id": "f4f95775-1259-4fdd-9924-5f153ae0ebe0",
   "metadata": {},
   "source": [
    "Visualize the 95% CI on the MEAN OUTPUT using RIBBONS!!!"
   ]
  },
  {
   "cell_type": "code",
   "execution_count": 27,
   "id": "15cc854f-a902-4ee6-b0e6-79413dc875c9",
   "metadata": {},
   "outputs": [
    {
     "data": {
      "image/png": "[encoded data removed]",
      "text/plain": [
       "<Figure size 640x480 with 1 Axes>"
      ]
     },
     "metadata": {},
     "output_type": "display_data"
    }
   ],
   "source": [
    "fig, ax = plt.subplots()\n",
    "\n",
    "## confidence interval - the uncertainty on the mean output\n",
    "ax.fill_between(df_viz_copy.x,\n",
    "               lm_pred_summary.mean_ci_lower, lm_pred_summary.mean_ci_upper,\n",
    "               facecolor=\"grey\", edgecolor=\"grey\")\n",
    "\n",
    "## output mean - the predictive trend - the best fit line\n",
    "ax.plot(df_viz_copy.x, lm_pred_summary[\"mean\"], color=\"k\", linewidth=1.5)\n",
    "\n",
    "## include the training data\n",
    "ax.scatter(df.x, df.y, color=\"k\", s=100)\n",
    "\n",
    "## set the labels\n",
    "\n",
    "ax.set_xlabel(\"x\")\n",
    "ax.set_ylabel(\"trend\")\n",
    "\n",
    "plt.show()"
   ]
  },
  {
   "cell_type": "code",
   "execution_count": 33,
   "id": "767d9543-769d-478d-8994-23099e937ebd",
   "metadata": {},
   "outputs": [
    {
     "data": {
      "image/png": "[encoded data removed]",
      "text/plain": [
       "<Figure size 640x480 with 1 Axes>"
      ]
     },
     "metadata": {},
     "output_type": "display_data"
    }
   ],
   "source": [
    "fig, ax = plt.subplots()\n",
    "\n",
    "## include the TRUE TREND\n",
    "ax.plot(df_viz_copy.x, my_intercept+my_slope*df_viz_copy.x, color=\"crimson\", linewidth=1.5)\n",
    "\n",
    "## confidence interval - the uncertainty on the mean output\n",
    "ax.fill_between(df_viz_copy.x,\n",
    "               lm_pred_summary.mean_ci_lower, lm_pred_summary.mean_ci_upper,\n",
    "               facecolor=\"grey\", edgecolor=\"grey\")\n",
    "\n",
    "## output mean - the predictive trend - the best fit line\n",
    "ax.plot(df_viz_copy.x, lm_pred_summary[\"mean\"], color=\"k\", linewidth=1.5)\n",
    "\n",
    "## include the training data\n",
    "ax.scatter(df.x, df.y, color=\"k\", s=100)\n",
    "\n",
    "## set the labels\n",
    "\n",
    "ax.set_xlabel(\"x\")\n",
    "ax.set_ylabel(\"y\")\n",
    "\n",
    "plt.show()"
   ]
  },
  {
   "cell_type": "markdown",
   "id": "1504984c-f04f-402c-9a6a-a331527de362",
   "metadata": {},
   "source": [
    "But this is not the complete story...\n",
    "\n",
    "This is just expressing the UNCERTAINTY on the AVG!! The uncertainty on the MEAN output!!\n",
    "\n",
    "But we also have the SIGMA parameter!!!!"
   ]
  },
  {
   "cell_type": "code",
   "execution_count": 34,
   "id": "faa5c13a-a065-47a2-92dc-e307befcb95e",
   "metadata": {},
   "outputs": [
    {
     "data": {
      "text/html": [
       "<div>\n",
       "<style scoped>\n",
       "    .dataframe tbody tr th:only-of-type {\n",
       "        vertical-align: middle;\n",
       "    }\n",
       "\n",
       "    .dataframe tbody tr th {\n",
       "        vertical-align: top;\n",
       "    }\n",
       "\n",
       "    .dataframe thead th {\n",
       "        text-align: right;\n",
       "    }\n",
       "</style>\n",
       "<table border=\"1\" class=\"dataframe\">\n",
       "  <thead>\n",
       "    <tr style=\"text-align: right;\">\n",
       "      <th></th>\n",
       "      <th>mean</th>\n",
       "      <th>mean_se</th>\n",
       "      <th>mean_ci_lower</th>\n",
       "      <th>mean_ci_upper</th>\n",
       "      <th>obs_ci_lower</th>\n",
       "      <th>obs_ci_upper</th>\n",
       "    </tr>\n",
       "  </thead>\n",
       "  <tbody>\n",
       "    <tr>\n",
       "      <th>0</th>\n",
       "      <td>4.782316</td>\n",
       "      <td>0.698434</td>\n",
       "      <td>3.130782</td>\n",
       "      <td>6.433850</td>\n",
       "      <td>1.681036</td>\n",
       "      <td>7.883595</td>\n",
       "    </tr>\n",
       "    <tr>\n",
       "      <th>1</th>\n",
       "      <td>4.677139</td>\n",
       "      <td>0.688415</td>\n",
       "      <td>3.049296</td>\n",
       "      <td>6.304981</td>\n",
       "      <td>1.588411</td>\n",
       "      <td>7.765866</td>\n",
       "    </tr>\n",
       "    <tr>\n",
       "      <th>2</th>\n",
       "      <td>4.571962</td>\n",
       "      <td>0.678455</td>\n",
       "      <td>2.967672</td>\n",
       "      <td>6.176252</td>\n",
       "      <td>1.495582</td>\n",
       "      <td>7.648342</td>\n",
       "    </tr>\n",
       "    <tr>\n",
       "      <th>3</th>\n",
       "      <td>4.466785</td>\n",
       "      <td>0.668556</td>\n",
       "      <td>2.885902</td>\n",
       "      <td>6.047668</td>\n",
       "      <td>1.402546</td>\n",
       "      <td>7.531024</td>\n",
       "    </tr>\n",
       "    <tr>\n",
       "      <th>4</th>\n",
       "      <td>4.361608</td>\n",
       "      <td>0.658721</td>\n",
       "      <td>2.803980</td>\n",
       "      <td>5.919237</td>\n",
       "      <td>1.309302</td>\n",
       "      <td>7.413915</td>\n",
       "    </tr>\n",
       "    <tr>\n",
       "      <th>...</th>\n",
       "      <td>...</td>\n",
       "      <td>...</td>\n",
       "      <td>...</td>\n",
       "      <td>...</td>\n",
       "      <td>...</td>\n",
       "      <td>...</td>\n",
       "    </tr>\n",
       "    <tr>\n",
       "      <th>96</th>\n",
       "      <td>-5.314655</td>\n",
       "      <td>0.658721</td>\n",
       "      <td>-6.872283</td>\n",
       "      <td>-3.757026</td>\n",
       "      <td>-8.366961</td>\n",
       "      <td>-2.262349</td>\n",
       "    </tr>\n",
       "    <tr>\n",
       "      <th>97</th>\n",
       "      <td>-5.419832</td>\n",
       "      <td>0.668556</td>\n",
       "      <td>-7.000715</td>\n",
       "      <td>-3.838948</td>\n",
       "      <td>-8.484070</td>\n",
       "      <td>-2.355593</td>\n",
       "    </tr>\n",
       "    <tr>\n",
       "      <th>98</th>\n",
       "      <td>-5.525008</td>\n",
       "      <td>0.678455</td>\n",
       "      <td>-7.129298</td>\n",
       "      <td>-3.920718</td>\n",
       "      <td>-8.601388</td>\n",
       "      <td>-2.448628</td>\n",
       "    </tr>\n",
       "    <tr>\n",
       "      <th>99</th>\n",
       "      <td>-5.630185</td>\n",
       "      <td>0.688415</td>\n",
       "      <td>-7.258028</td>\n",
       "      <td>-4.002343</td>\n",
       "      <td>-8.718913</td>\n",
       "      <td>-2.541458</td>\n",
       "    </tr>\n",
       "    <tr>\n",
       "      <th>100</th>\n",
       "      <td>-5.735362</td>\n",
       "      <td>0.698434</td>\n",
       "      <td>-7.386896</td>\n",
       "      <td>-4.083828</td>\n",
       "      <td>-8.836641</td>\n",
       "      <td>-2.634083</td>\n",
       "    </tr>\n",
       "  </tbody>\n",
       "</table>\n",
       "<p>101 rows × 6 columns</p>\n",
       "</div>"
      ],
      "text/plain": [
       "         mean   mean_se  mean_ci_lower  mean_ci_upper  obs_ci_lower  \\\n",
       "0    4.782316  0.698434       3.130782       6.433850      1.681036   \n",
       "1    4.677139  0.688415       3.049296       6.304981      1.588411   \n",
       "2    4.571962  0.678455       2.967672       6.176252      1.495582   \n",
       "3    4.466785  0.668556       2.885902       6.047668      1.402546   \n",
       "4    4.361608  0.658721       2.803980       5.919237      1.309302   \n",
       "..        ...       ...            ...            ...           ...   \n",
       "96  -5.314655  0.658721      -6.872283      -3.757026     -8.366961   \n",
       "97  -5.419832  0.668556      -7.000715      -3.838948     -8.484070   \n",
       "98  -5.525008  0.678455      -7.129298      -3.920718     -8.601388   \n",
       "99  -5.630185  0.688415      -7.258028      -4.002343     -8.718913   \n",
       "100 -5.735362  0.698434      -7.386896      -4.083828     -8.836641   \n",
       "\n",
       "     obs_ci_upper  \n",
       "0        7.883595  \n",
       "1        7.765866  \n",
       "2        7.648342  \n",
       "3        7.531024  \n",
       "4        7.413915  \n",
       "..            ...  \n",
       "96      -2.262349  \n",
       "97      -2.355593  \n",
       "98      -2.448628  \n",
       "99      -2.541458  \n",
       "100     -2.634083  \n",
       "\n",
       "[101 rows x 6 columns]"
      ]
     },
     "execution_count": 34,
     "metadata": {},
     "output_type": "execute_result"
    }
   ],
   "source": [
    "lm_pred_summary"
   ]
  },
  {
   "cell_type": "markdown",
   "id": "1688c5f0-685c-4440-871b-f1918f9dde72",
   "metadata": {},
   "source": [
    "We need to include the PREDICTION INTERVAL as a SECOND RIBBON in our visualizations for regression problems!!"
   ]
  },
  {
   "cell_type": "code",
   "execution_count": 39,
   "id": "a956f0a6-3a00-43a0-addc-42ce2d4b5dc9",
   "metadata": {},
   "outputs": [
    {
     "data": {
      "image/png": "[encoded data removed]",
      "text/plain": [
       "<Figure size 640x480 with 1 Axes>"
      ]
     },
     "metadata": {},
     "output_type": "display_data"
    }
   ],
   "source": [
    "fig, ax = plt.subplots()\n",
    "\n",
    "## prediction interval = the uncertainty on a single measurement (observation)\n",
    "ax.fill_between(df_viz_copy.x,\n",
    "               lm_pred_summary.obs_ci_lower, lm_pred_summary.obs_ci_upper,\n",
    "               facecolor=\"orange\", alpha=0.75, edgecolor=\"orange\")\n",
    "\n",
    "## include the TRUE TREND\n",
    "ax.plot(df_viz_copy.x, my_intercept+my_slope*df_viz_copy.x, color=\"crimson\", linewidth=1.5)\n",
    "\n",
    "## confidence interval - the uncertainty on the mean output\n",
    "ax.fill_between(df_viz_copy.x,\n",
    "               lm_pred_summary.mean_ci_lower, lm_pred_summary.mean_ci_upper,\n",
    "               facecolor=\"grey\", edgecolor=\"grey\")\n",
    "\n",
    "## output mean - the predictive trend - the best fit line\n",
    "ax.plot(df_viz_copy.x, lm_pred_summary[\"mean\"], color=\"k\", linewidth=1.5)\n",
    "\n",
    "## include the training data\n",
    "ax.scatter(df.x, df.y, color=\"k\", s=100)\n",
    "\n",
    "## set the labels\n",
    "\n",
    "ax.set_xlabel(\"x\")\n",
    "ax.set_ylabel(\"y\")\n",
    "\n",
    "plt.show()"
   ]
  },
  {
   "cell_type": "code",
   "execution_count": null,
   "id": "56c07ce3-2b1d-42cf-9293-b71775b14751",
   "metadata": {},
   "outputs": [],
   "source": []
  }
 ],
 "metadata": {
  "kernelspec": {
   "display_name": "Python 3 (ipykernel)",
   "language": "python",
   "name": "python3"
  },
  "language_info": {
   "codemirror_mode": {
    "name": "ipython",
    "version": 3
   },
   "file_extension": ".py",
   "mimetype": "text/x-python",
   "name": "python",
   "nbconvert_exporter": "python",
   "pygments_lexer": "ipython3",
   "version": "3.8.19"
  }
 },
 "nbformat": 4,
 "nbformat_minor": 5
}
