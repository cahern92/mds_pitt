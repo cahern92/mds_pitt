{
 "cells": [
  {
   "cell_type": "markdown",
   "id": "94e9f385-8f2e-4626-b6ee-f8de42de46ed",
   "metadata": {},
   "source": [
    "## CMPINF 2100 Week 11\n",
    "### Review: Generate Linear Model Data\n",
    "We will review important assumptions of linear modesl by generating data from a linear model.\n",
    "\n",
    "We will use a SINGLE input that is LINEARLY related to the MEAN output or TREND.\n",
    "## Import Modules"
   ]
  },
  {
   "cell_type": "code",
   "execution_count": 1,
   "id": "54f8fe87-d0e0-405f-824f-bb00d80a4cf7",
   "metadata": {},
   "outputs": [],
   "source": [
    "import numpy as np\n",
    "import pandas as pd\n",
    "import matplotlib.pyplot as plt\n",
    "\n",
    "import seaborn as sns"
   ]
  },
  {
   "cell_type": "markdown",
   "id": "9752a7b1-ef5c-41c9-811b-aa88ba61db40",
   "metadata": {},
   "source": [
    "## Define the relationship\n",
    "\n",
    "We will use a SINGLE continous INPUT that is LINEARLY related to the TREND.\n",
    "\n",
    "$$\\mu = \\beta_0 + \\beta_1 \\times x $$\n",
    "\n",
    "To generate the data, we need to specify the TRUE INTERCEPT and the TRUE SLOPE. We then must calculate the TREND or AVERAGE OUTPUT for a **GIVEN INPUT** value. Then we will randomly generate OUTPUT observations around the TREND using a Gaussian random number generator.\n",
    "\n",
    "## Visualize behavior\n",
    "We must calc the TREND and so we must SPECIFY the TRUE coefficient values"
   ]
  },
  {
   "cell_type": "code",
   "execution_count": 7,
   "id": "cce55e92-903e-472f-8029-e47463742964",
   "metadata": {},
   "outputs": [],
   "source": [
    "my_intercept = 0.25\n",
    "my_slope = -1.5"
   ]
  },
  {
   "cell_type": "markdown",
   "id": "2f03ca5c-d98c-4ba5-a35b-dc50f71c269f",
   "metadata": {},
   "source": [
    "Create a data set of INPUT values to support VISUALIZING behavior."
   ]
  },
  {
   "cell_type": "code",
   "execution_count": 4,
   "id": "04ebb65f-919a-482c-b629-994ef1fae51d",
   "metadata": {},
   "outputs": [],
   "source": [
    "df_viz = pd.DataFrame({\"x\":np.linspace(-3.5, 3.5, num=101)})"
   ]
  },
  {
   "cell_type": "code",
   "execution_count": 5,
   "id": "93cc8708-11b5-4f2d-aced-3a36315475f7",
   "metadata": {},
   "outputs": [
    {
     "data": {
      "text/html": [
       "<div>\n",
       "<style scoped>\n",
       "    .dataframe tbody tr th:only-of-type {\n",
       "        vertical-align: middle;\n",
       "    }\n",
       "\n",
       "    .dataframe tbody tr th {\n",
       "        vertical-align: top;\n",
       "    }\n",
       "\n",
       "    .dataframe thead th {\n",
       "        text-align: right;\n",
       "    }\n",
       "</style>\n",
       "<table border=\"1\" class=\"dataframe\">\n",
       "  <thead>\n",
       "    <tr style=\"text-align: right;\">\n",
       "      <th></th>\n",
       "      <th>x</th>\n",
       "    </tr>\n",
       "  </thead>\n",
       "  <tbody>\n",
       "    <tr>\n",
       "      <th>0</th>\n",
       "      <td>-3.50</td>\n",
       "    </tr>\n",
       "    <tr>\n",
       "      <th>1</th>\n",
       "      <td>-3.43</td>\n",
       "    </tr>\n",
       "    <tr>\n",
       "      <th>2</th>\n",
       "      <td>-3.36</td>\n",
       "    </tr>\n",
       "    <tr>\n",
       "      <th>3</th>\n",
       "      <td>-3.29</td>\n",
       "    </tr>\n",
       "    <tr>\n",
       "      <th>4</th>\n",
       "      <td>-3.22</td>\n",
       "    </tr>\n",
       "  </tbody>\n",
       "</table>\n",
       "</div>"
      ],
      "text/plain": [
       "      x\n",
       "0 -3.50\n",
       "1 -3.43\n",
       "2 -3.36\n",
       "3 -3.29\n",
       "4 -3.22"
      ]
     },
     "execution_count": 5,
     "metadata": {},
     "output_type": "execute_result"
    }
   ],
   "source": [
    "df_viz.head()"
   ]
  },
  {
   "cell_type": "markdown",
   "id": "054a05f3-2c6b-43fd-988a-7b35142074ea",
   "metadata": {},
   "source": [
    "Calculate the TREND or AVG OUTPUT given the INPUT!!"
   ]
  },
  {
   "cell_type": "code",
   "execution_count": 10,
   "id": "f1cc5355-a3da-445b-b5bd-f73e106ac9fb",
   "metadata": {},
   "outputs": [],
   "source": [
    "df_viz[\"trend\"] = my_intercept + my_slope * df_viz.x"
   ]
  },
  {
   "cell_type": "code",
   "execution_count": 11,
   "id": "aa3b1af3-dcbb-4e64-ba24-392559593ce7",
   "metadata": {},
   "outputs": [
    {
     "data": {
      "text/html": [
       "<div>\n",
       "<style scoped>\n",
       "    .dataframe tbody tr th:only-of-type {\n",
       "        vertical-align: middle;\n",
       "    }\n",
       "\n",
       "    .dataframe tbody tr th {\n",
       "        vertical-align: top;\n",
       "    }\n",
       "\n",
       "    .dataframe thead th {\n",
       "        text-align: right;\n",
       "    }\n",
       "</style>\n",
       "<table border=\"1\" class=\"dataframe\">\n",
       "  <thead>\n",
       "    <tr style=\"text-align: right;\">\n",
       "      <th></th>\n",
       "      <th>x</th>\n",
       "      <th>trend</th>\n",
       "    </tr>\n",
       "  </thead>\n",
       "  <tbody>\n",
       "    <tr>\n",
       "      <th>0</th>\n",
       "      <td>-3.50</td>\n",
       "      <td>5.500</td>\n",
       "    </tr>\n",
       "    <tr>\n",
       "      <th>1</th>\n",
       "      <td>-3.43</td>\n",
       "      <td>5.395</td>\n",
       "    </tr>\n",
       "    <tr>\n",
       "      <th>2</th>\n",
       "      <td>-3.36</td>\n",
       "      <td>5.290</td>\n",
       "    </tr>\n",
       "    <tr>\n",
       "      <th>3</th>\n",
       "      <td>-3.29</td>\n",
       "      <td>5.185</td>\n",
       "    </tr>\n",
       "    <tr>\n",
       "      <th>4</th>\n",
       "      <td>-3.22</td>\n",
       "      <td>5.080</td>\n",
       "    </tr>\n",
       "    <tr>\n",
       "      <th>...</th>\n",
       "      <td>...</td>\n",
       "      <td>...</td>\n",
       "    </tr>\n",
       "    <tr>\n",
       "      <th>96</th>\n",
       "      <td>3.22</td>\n",
       "      <td>-4.580</td>\n",
       "    </tr>\n",
       "    <tr>\n",
       "      <th>97</th>\n",
       "      <td>3.29</td>\n",
       "      <td>-4.685</td>\n",
       "    </tr>\n",
       "    <tr>\n",
       "      <th>98</th>\n",
       "      <td>3.36</td>\n",
       "      <td>-4.790</td>\n",
       "    </tr>\n",
       "    <tr>\n",
       "      <th>99</th>\n",
       "      <td>3.43</td>\n",
       "      <td>-4.895</td>\n",
       "    </tr>\n",
       "    <tr>\n",
       "      <th>100</th>\n",
       "      <td>3.50</td>\n",
       "      <td>-5.000</td>\n",
       "    </tr>\n",
       "  </tbody>\n",
       "</table>\n",
       "<p>101 rows × 2 columns</p>\n",
       "</div>"
      ],
      "text/plain": [
       "        x  trend\n",
       "0   -3.50  5.500\n",
       "1   -3.43  5.395\n",
       "2   -3.36  5.290\n",
       "3   -3.29  5.185\n",
       "4   -3.22  5.080\n",
       "..    ...    ...\n",
       "96   3.22 -4.580\n",
       "97   3.29 -4.685\n",
       "98   3.36 -4.790\n",
       "99   3.43 -4.895\n",
       "100  3.50 -5.000\n",
       "\n",
       "[101 rows x 2 columns]"
      ]
     },
     "execution_count": 11,
     "metadata": {},
     "output_type": "execute_result"
    }
   ],
   "source": [
    "df_viz"
   ]
  },
  {
   "cell_type": "markdown",
   "id": "5cf7ebc8-79c8-4b70-929d-f2e6c4271a9f",
   "metadata": {},
   "source": [
    "Lets visualize the TREND with respect to the INPUT as a LINE CHART."
   ]
  },
  {
   "cell_type": "code",
   "execution_count": 12,
   "id": "5a3a3da7-4f75-4c3e-99ac-7735e8a84bf7",
   "metadata": {},
   "outputs": [],
   "source": [
    "sns.set_style(\"whitegrid\")"
   ]
  },
  {
   "cell_type": "code",
   "execution_count": 14,
   "id": "c2644904-214c-4b15-8ace-e0ed433a0e92",
   "metadata": {},
   "outputs": [
    {
     "name": "stderr",
     "output_type": "stream",
     "text": [
      "/Applications/anaconda3/envs/cmpinf2100/lib/python3.8/site-packages/seaborn/axisgrid.py:123: UserWarning: The figure layout has changed to tight\n",
      "  self._figure.tight_layout(*args, **kwargs)\n"
     ]
    },
    {
     "data": {
      "image/png": "[encoded data removed]",
      "text/plain": [
       "<Figure size 500x500 with 1 Axes>"
      ]
     },
     "metadata": {},
     "output_type": "display_data"
    }
   ],
   "source": [
    "sns.relplot(data=df_viz, x=\"x\", y=\"trend\", kind=\"line\")\n",
    "\n",
    "plt.show()"
   ]
  },
  {
   "cell_type": "markdown",
   "id": "05fa481a-13b7-499d-adcf-79823d24d59a",
   "metadata": {},
   "source": [
    "But this week we will make more figures in matplotlib rather than Seaborn."
   ]
  },
  {
   "cell_type": "code",
   "execution_count": 17,
   "id": "ac072a4f-d76c-45e0-b2b9-34a40a204505",
   "metadata": {},
   "outputs": [
    {
     "data": {
      "image/png": "[encoded data removed]",
      "text/plain": [
       "<Figure size 640x480 with 1 Axes>"
      ]
     },
     "metadata": {},
     "output_type": "display_data"
    }
   ],
   "source": [
    "fig, ax = plt.subplots()\n",
    "\n",
    "ax.plot(df_viz.x, df_viz.trend, color=\"crimson\", linewidth=1.5)\n",
    "\n",
    "ax.set_xlabel(\"x\")\n",
    "ax.set_ylabel(\"trend\")\n",
    "\n",
    "plt.show()"
   ]
  },
  {
   "cell_type": "markdown",
   "id": "a09e94c4-7ea2-4438-b190-baf615f6d702",
   "metadata": {},
   "source": [
    "We will now visualize the VARIATION around the TREND. Or, we will visualize the UNCERTAINTY of a single output measurement around the average output!!!\n",
    "\n",
    "The LIKELIHOOD of an OUTPUT around the TREND is a GAUSSIAN distribution. The variation of a Gaussian is specified by the STANDARD DEVIATION of SIGMA. \n",
    "\n",
    "We need to specify the SIGMA that controls the level of variation around the trend."
   ]
  },
  {
   "cell_type": "code",
   "execution_count": 18,
   "id": "6c10d76f-7046-4c17-af9a-755eb7f340a4",
   "metadata": {},
   "outputs": [],
   "source": [
    "my_sigma = 1.25"
   ]
  },
  {
   "cell_type": "markdown",
   "id": "5ff56029-2eab-42a3-9be6-bd8000bddebd",
   "metadata": {},
   "source": [
    "Last week we RANDOMLY generated MANY replications of output around the trend to show the CONSTANT variation around the the TREND!!\n",
    "\n",
    "This week, we will summarize the level of variation using **RIBBONS**.\n",
    "\n",
    "RIBBONS are defined by LOWER and UPPER BOUNDS that correspond to LOWER and UPPER BOUNDS of INTERVALS.\n",
    "\n",
    "Because the linear models has a GAUSSIAN likelihood or distribution, the UNCERTAINTY can be easily summarized as the num of stds around the mean!!!\n",
    "\n",
    "We will use the $\\pm1 \\sigma$ and the $\\pm2 \\sigma$ intervals around the mean. These correspond to the 68% and 95% uncertainty intervals. "
   ]
  },
  {
   "cell_type": "code",
   "execution_count": 19,
   "id": "13357d92-a33c-4f4d-86e6-af2f42e54a38",
   "metadata": {},
   "outputs": [],
   "source": [
    "df_viz[\"obs_lwr_68\"] = df_viz.trend - my_sigma\n",
    "df_viz[\"obs_upr_68\"] = df_viz.trend + my_sigma"
   ]
  },
  {
   "cell_type": "code",
   "execution_count": 20,
   "id": "2cf3b039-625d-4261-ad35-2418623042ad",
   "metadata": {},
   "outputs": [
    {
     "data": {
      "text/html": [
       "<div>\n",
       "<style scoped>\n",
       "    .dataframe tbody tr th:only-of-type {\n",
       "        vertical-align: middle;\n",
       "    }\n",
       "\n",
       "    .dataframe tbody tr th {\n",
       "        vertical-align: top;\n",
       "    }\n",
       "\n",
       "    .dataframe thead th {\n",
       "        text-align: right;\n",
       "    }\n",
       "</style>\n",
       "<table border=\"1\" class=\"dataframe\">\n",
       "  <thead>\n",
       "    <tr style=\"text-align: right;\">\n",
       "      <th></th>\n",
       "      <th>x</th>\n",
       "      <th>trend</th>\n",
       "      <th>obs_lwr_68</th>\n",
       "      <th>obs_upr_68</th>\n",
       "    </tr>\n",
       "  </thead>\n",
       "  <tbody>\n",
       "    <tr>\n",
       "      <th>0</th>\n",
       "      <td>-3.50</td>\n",
       "      <td>5.500</td>\n",
       "      <td>4.250</td>\n",
       "      <td>6.750</td>\n",
       "    </tr>\n",
       "    <tr>\n",
       "      <th>1</th>\n",
       "      <td>-3.43</td>\n",
       "      <td>5.395</td>\n",
       "      <td>4.145</td>\n",
       "      <td>6.645</td>\n",
       "    </tr>\n",
       "    <tr>\n",
       "      <th>2</th>\n",
       "      <td>-3.36</td>\n",
       "      <td>5.290</td>\n",
       "      <td>4.040</td>\n",
       "      <td>6.540</td>\n",
       "    </tr>\n",
       "    <tr>\n",
       "      <th>3</th>\n",
       "      <td>-3.29</td>\n",
       "      <td>5.185</td>\n",
       "      <td>3.935</td>\n",
       "      <td>6.435</td>\n",
       "    </tr>\n",
       "    <tr>\n",
       "      <th>4</th>\n",
       "      <td>-3.22</td>\n",
       "      <td>5.080</td>\n",
       "      <td>3.830</td>\n",
       "      <td>6.330</td>\n",
       "    </tr>\n",
       "    <tr>\n",
       "      <th>...</th>\n",
       "      <td>...</td>\n",
       "      <td>...</td>\n",
       "      <td>...</td>\n",
       "      <td>...</td>\n",
       "    </tr>\n",
       "    <tr>\n",
       "      <th>96</th>\n",
       "      <td>3.22</td>\n",
       "      <td>-4.580</td>\n",
       "      <td>-5.830</td>\n",
       "      <td>-3.330</td>\n",
       "    </tr>\n",
       "    <tr>\n",
       "      <th>97</th>\n",
       "      <td>3.29</td>\n",
       "      <td>-4.685</td>\n",
       "      <td>-5.935</td>\n",
       "      <td>-3.435</td>\n",
       "    </tr>\n",
       "    <tr>\n",
       "      <th>98</th>\n",
       "      <td>3.36</td>\n",
       "      <td>-4.790</td>\n",
       "      <td>-6.040</td>\n",
       "      <td>-3.540</td>\n",
       "    </tr>\n",
       "    <tr>\n",
       "      <th>99</th>\n",
       "      <td>3.43</td>\n",
       "      <td>-4.895</td>\n",
       "      <td>-6.145</td>\n",
       "      <td>-3.645</td>\n",
       "    </tr>\n",
       "    <tr>\n",
       "      <th>100</th>\n",
       "      <td>3.50</td>\n",
       "      <td>-5.000</td>\n",
       "      <td>-6.250</td>\n",
       "      <td>-3.750</td>\n",
       "    </tr>\n",
       "  </tbody>\n",
       "</table>\n",
       "<p>101 rows × 4 columns</p>\n",
       "</div>"
      ],
      "text/plain": [
       "        x  trend  obs_lwr_68  obs_upr_68\n",
       "0   -3.50  5.500       4.250       6.750\n",
       "1   -3.43  5.395       4.145       6.645\n",
       "2   -3.36  5.290       4.040       6.540\n",
       "3   -3.29  5.185       3.935       6.435\n",
       "4   -3.22  5.080       3.830       6.330\n",
       "..    ...    ...         ...         ...\n",
       "96   3.22 -4.580      -5.830      -3.330\n",
       "97   3.29 -4.685      -5.935      -3.435\n",
       "98   3.36 -4.790      -6.040      -3.540\n",
       "99   3.43 -4.895      -6.145      -3.645\n",
       "100  3.50 -5.000      -6.250      -3.750\n",
       "\n",
       "[101 rows x 4 columns]"
      ]
     },
     "execution_count": 20,
     "metadata": {},
     "output_type": "execute_result"
    }
   ],
   "source": [
    "df_viz"
   ]
  },
  {
   "cell_type": "code",
   "execution_count": 21,
   "id": "5e19c2c8-6b79-4e77-8d6a-74f3d63c88e3",
   "metadata": {},
   "outputs": [],
   "source": [
    "df_viz[\"obs_lwr_95\"] = df_viz.trend - 2*my_sigma\n",
    "df_viz[\"obs_upr_95\"] = df_viz.trend + 2*my_sigma"
   ]
  },
  {
   "cell_type": "code",
   "execution_count": 22,
   "id": "8712badc-c361-41c5-bb63-815fcbcfd9f5",
   "metadata": {},
   "outputs": [
    {
     "data": {
      "text/html": [
       "<div>\n",
       "<style scoped>\n",
       "    .dataframe tbody tr th:only-of-type {\n",
       "        vertical-align: middle;\n",
       "    }\n",
       "\n",
       "    .dataframe tbody tr th {\n",
       "        vertical-align: top;\n",
       "    }\n",
       "\n",
       "    .dataframe thead th {\n",
       "        text-align: right;\n",
       "    }\n",
       "</style>\n",
       "<table border=\"1\" class=\"dataframe\">\n",
       "  <thead>\n",
       "    <tr style=\"text-align: right;\">\n",
       "      <th></th>\n",
       "      <th>x</th>\n",
       "      <th>trend</th>\n",
       "      <th>obs_lwr_68</th>\n",
       "      <th>obs_upr_68</th>\n",
       "      <th>obs_lwr_95</th>\n",
       "      <th>obs_upr_95</th>\n",
       "    </tr>\n",
       "  </thead>\n",
       "  <tbody>\n",
       "    <tr>\n",
       "      <th>0</th>\n",
       "      <td>-3.50</td>\n",
       "      <td>5.500</td>\n",
       "      <td>4.250</td>\n",
       "      <td>6.750</td>\n",
       "      <td>3.000</td>\n",
       "      <td>8.000</td>\n",
       "    </tr>\n",
       "    <tr>\n",
       "      <th>1</th>\n",
       "      <td>-3.43</td>\n",
       "      <td>5.395</td>\n",
       "      <td>4.145</td>\n",
       "      <td>6.645</td>\n",
       "      <td>2.895</td>\n",
       "      <td>7.895</td>\n",
       "    </tr>\n",
       "    <tr>\n",
       "      <th>2</th>\n",
       "      <td>-3.36</td>\n",
       "      <td>5.290</td>\n",
       "      <td>4.040</td>\n",
       "      <td>6.540</td>\n",
       "      <td>2.790</td>\n",
       "      <td>7.790</td>\n",
       "    </tr>\n",
       "    <tr>\n",
       "      <th>3</th>\n",
       "      <td>-3.29</td>\n",
       "      <td>5.185</td>\n",
       "      <td>3.935</td>\n",
       "      <td>6.435</td>\n",
       "      <td>2.685</td>\n",
       "      <td>7.685</td>\n",
       "    </tr>\n",
       "    <tr>\n",
       "      <th>4</th>\n",
       "      <td>-3.22</td>\n",
       "      <td>5.080</td>\n",
       "      <td>3.830</td>\n",
       "      <td>6.330</td>\n",
       "      <td>2.580</td>\n",
       "      <td>7.580</td>\n",
       "    </tr>\n",
       "    <tr>\n",
       "      <th>...</th>\n",
       "      <td>...</td>\n",
       "      <td>...</td>\n",
       "      <td>...</td>\n",
       "      <td>...</td>\n",
       "      <td>...</td>\n",
       "      <td>...</td>\n",
       "    </tr>\n",
       "    <tr>\n",
       "      <th>96</th>\n",
       "      <td>3.22</td>\n",
       "      <td>-4.580</td>\n",
       "      <td>-5.830</td>\n",
       "      <td>-3.330</td>\n",
       "      <td>-7.080</td>\n",
       "      <td>-2.080</td>\n",
       "    </tr>\n",
       "    <tr>\n",
       "      <th>97</th>\n",
       "      <td>3.29</td>\n",
       "      <td>-4.685</td>\n",
       "      <td>-5.935</td>\n",
       "      <td>-3.435</td>\n",
       "      <td>-7.185</td>\n",
       "      <td>-2.185</td>\n",
       "    </tr>\n",
       "    <tr>\n",
       "      <th>98</th>\n",
       "      <td>3.36</td>\n",
       "      <td>-4.790</td>\n",
       "      <td>-6.040</td>\n",
       "      <td>-3.540</td>\n",
       "      <td>-7.290</td>\n",
       "      <td>-2.290</td>\n",
       "    </tr>\n",
       "    <tr>\n",
       "      <th>99</th>\n",
       "      <td>3.43</td>\n",
       "      <td>-4.895</td>\n",
       "      <td>-6.145</td>\n",
       "      <td>-3.645</td>\n",
       "      <td>-7.395</td>\n",
       "      <td>-2.395</td>\n",
       "    </tr>\n",
       "    <tr>\n",
       "      <th>100</th>\n",
       "      <td>3.50</td>\n",
       "      <td>-5.000</td>\n",
       "      <td>-6.250</td>\n",
       "      <td>-3.750</td>\n",
       "      <td>-7.500</td>\n",
       "      <td>-2.500</td>\n",
       "    </tr>\n",
       "  </tbody>\n",
       "</table>\n",
       "<p>101 rows × 6 columns</p>\n",
       "</div>"
      ],
      "text/plain": [
       "        x  trend  obs_lwr_68  obs_upr_68  obs_lwr_95  obs_upr_95\n",
       "0   -3.50  5.500       4.250       6.750       3.000       8.000\n",
       "1   -3.43  5.395       4.145       6.645       2.895       7.895\n",
       "2   -3.36  5.290       4.040       6.540       2.790       7.790\n",
       "3   -3.29  5.185       3.935       6.435       2.685       7.685\n",
       "4   -3.22  5.080       3.830       6.330       2.580       7.580\n",
       "..    ...    ...         ...         ...         ...         ...\n",
       "96   3.22 -4.580      -5.830      -3.330      -7.080      -2.080\n",
       "97   3.29 -4.685      -5.935      -3.435      -7.185      -2.185\n",
       "98   3.36 -4.790      -6.040      -3.540      -7.290      -2.290\n",
       "99   3.43 -4.895      -6.145      -3.645      -7.395      -2.395\n",
       "100  3.50 -5.000      -6.250      -3.750      -7.500      -2.500\n",
       "\n",
       "[101 rows x 6 columns]"
      ]
     },
     "execution_count": 22,
     "metadata": {},
     "output_type": "execute_result"
    }
   ],
   "source": [
    "df_viz"
   ]
  },
  {
   "cell_type": "markdown",
   "id": "39d781d2-1ca6-49f4-88ea-ebc279883919",
   "metadata": {},
   "source": [
    "Visualize the UNCERTAINTY or LEVEL of VARIATION using RIBBONS."
   ]
  },
  {
   "cell_type": "code",
   "execution_count": 29,
   "id": "14909a4c-00ca-4ed1-a17b-e977cb6f2cd1",
   "metadata": {},
   "outputs": [
    {
     "data": {
      "image/png": "[encoded data removed]",
      "text/plain": [
       "<Figure size 640x480 with 1 Axes>"
      ]
     },
     "metadata": {},
     "output_type": "display_data"
    }
   ],
   "source": [
    "fig, ax = plt.subplots()\n",
    "\n",
    "## TRUE TREND\n",
    "ax.plot(df_viz.x, df_viz.trend, color=\"crimson\", linewidth=1.5)\n",
    "\n",
    "## TRUE variation around the TREND - showing 2 intervals\n",
    "# 2 sigma interval\n",
    "ax.fill_between(df_viz.x, df_viz.obs_lwr_95, df_viz.obs_upr_95, facecolor=\"crimson\", alpha=0.35)\n",
    "\n",
    "# 1 sigma interval\n",
    "ax.fill_between(df_viz.x, df_viz.obs_lwr_68, df_viz.obs_upr_68, facecolor=\"crimson\", alpha=0.35)\n",
    "\n",
    "\n",
    "# set labels\n",
    "ax.set_xlabel(\"x\")\n",
    "ax.set_ylabel(\"y\")\n",
    "\n",
    "# show the plot\n",
    "plt.show()"
   ]
  },
  {
   "cell_type": "markdown",
   "id": "482e0232-e139-4924-aa11-53b4f47bc8f9",
   "metadata": {},
   "source": [
    "## Generate random output data\n",
    "\n",
    "Generate a small number of random output obs at specific input values.\n",
    "\n",
    "For simplicity, lets treat the input as NOT random. The input will have values UNIFORMLY spaced between a lower bound and upper bound.\n",
    "\n",
    "Specifically, lets use 9 input location between -3 and 3."
   ]
  },
  {
   "cell_type": "code",
   "execution_count": 30,
   "id": "6c55aa36-38c1-480c-827a-f8d9b2144cee",
   "metadata": {},
   "outputs": [],
   "source": [
    "df = pd.DataFrame({\"x\": np.linspace(-3, 3, num=9)})"
   ]
  },
  {
   "cell_type": "code",
   "execution_count": 32,
   "id": "8bd834d9-1776-460f-a323-1f086ad689e3",
   "metadata": {},
   "outputs": [
    {
     "data": {
      "text/html": [
       "<div>\n",
       "<style scoped>\n",
       "    .dataframe tbody tr th:only-of-type {\n",
       "        vertical-align: middle;\n",
       "    }\n",
       "\n",
       "    .dataframe tbody tr th {\n",
       "        vertical-align: top;\n",
       "    }\n",
       "\n",
       "    .dataframe thead th {\n",
       "        text-align: right;\n",
       "    }\n",
       "</style>\n",
       "<table border=\"1\" class=\"dataframe\">\n",
       "  <thead>\n",
       "    <tr style=\"text-align: right;\">\n",
       "      <th></th>\n",
       "      <th>x</th>\n",
       "    </tr>\n",
       "  </thead>\n",
       "  <tbody>\n",
       "    <tr>\n",
       "      <th>0</th>\n",
       "      <td>-3.00</td>\n",
       "    </tr>\n",
       "    <tr>\n",
       "      <th>1</th>\n",
       "      <td>-2.25</td>\n",
       "    </tr>\n",
       "    <tr>\n",
       "      <th>2</th>\n",
       "      <td>-1.50</td>\n",
       "    </tr>\n",
       "    <tr>\n",
       "      <th>3</th>\n",
       "      <td>-0.75</td>\n",
       "    </tr>\n",
       "    <tr>\n",
       "      <th>4</th>\n",
       "      <td>0.00</td>\n",
       "    </tr>\n",
       "    <tr>\n",
       "      <th>5</th>\n",
       "      <td>0.75</td>\n",
       "    </tr>\n",
       "    <tr>\n",
       "      <th>6</th>\n",
       "      <td>1.50</td>\n",
       "    </tr>\n",
       "    <tr>\n",
       "      <th>7</th>\n",
       "      <td>2.25</td>\n",
       "    </tr>\n",
       "    <tr>\n",
       "      <th>8</th>\n",
       "      <td>3.00</td>\n",
       "    </tr>\n",
       "  </tbody>\n",
       "</table>\n",
       "</div>"
      ],
      "text/plain": [
       "      x\n",
       "0 -3.00\n",
       "1 -2.25\n",
       "2 -1.50\n",
       "3 -0.75\n",
       "4  0.00\n",
       "5  0.75\n",
       "6  1.50\n",
       "7  2.25\n",
       "8  3.00"
      ]
     },
     "execution_count": 32,
     "metadata": {},
     "output_type": "execute_result"
    }
   ],
   "source": [
    "df"
   ]
  },
  {
   "cell_type": "markdown",
   "id": "a1149ac8-bf58-4579-b764-6fe399affc50",
   "metadata": {},
   "source": [
    "Next, we need to calc the MEAN OUTPUT or TREND given the INPUT values."
   ]
  },
  {
   "cell_type": "code",
   "execution_count": 33,
   "id": "bd64ee0b-c49a-49b6-a36c-84be0ea11e76",
   "metadata": {},
   "outputs": [],
   "source": [
    "df[\"trend\"] = my_intercept + my_slope*df.x"
   ]
  },
  {
   "cell_type": "code",
   "execution_count": 35,
   "id": "7bbdb3cc-6dc8-4a93-9c1b-7e7dac43037c",
   "metadata": {},
   "outputs": [
    {
     "data": {
      "text/html": [
       "<div>\n",
       "<style scoped>\n",
       "    .dataframe tbody tr th:only-of-type {\n",
       "        vertical-align: middle;\n",
       "    }\n",
       "\n",
       "    .dataframe tbody tr th {\n",
       "        vertical-align: top;\n",
       "    }\n",
       "\n",
       "    .dataframe thead th {\n",
       "        text-align: right;\n",
       "    }\n",
       "</style>\n",
       "<table border=\"1\" class=\"dataframe\">\n",
       "  <thead>\n",
       "    <tr style=\"text-align: right;\">\n",
       "      <th></th>\n",
       "      <th>x</th>\n",
       "      <th>trend</th>\n",
       "    </tr>\n",
       "  </thead>\n",
       "  <tbody>\n",
       "    <tr>\n",
       "      <th>0</th>\n",
       "      <td>-3.00</td>\n",
       "      <td>4.750</td>\n",
       "    </tr>\n",
       "    <tr>\n",
       "      <th>1</th>\n",
       "      <td>-2.25</td>\n",
       "      <td>3.625</td>\n",
       "    </tr>\n",
       "    <tr>\n",
       "      <th>2</th>\n",
       "      <td>-1.50</td>\n",
       "      <td>2.500</td>\n",
       "    </tr>\n",
       "    <tr>\n",
       "      <th>3</th>\n",
       "      <td>-0.75</td>\n",
       "      <td>1.375</td>\n",
       "    </tr>\n",
       "    <tr>\n",
       "      <th>4</th>\n",
       "      <td>0.00</td>\n",
       "      <td>0.250</td>\n",
       "    </tr>\n",
       "    <tr>\n",
       "      <th>5</th>\n",
       "      <td>0.75</td>\n",
       "      <td>-0.875</td>\n",
       "    </tr>\n",
       "    <tr>\n",
       "      <th>6</th>\n",
       "      <td>1.50</td>\n",
       "      <td>-2.000</td>\n",
       "    </tr>\n",
       "    <tr>\n",
       "      <th>7</th>\n",
       "      <td>2.25</td>\n",
       "      <td>-3.125</td>\n",
       "    </tr>\n",
       "    <tr>\n",
       "      <th>8</th>\n",
       "      <td>3.00</td>\n",
       "      <td>-4.250</td>\n",
       "    </tr>\n",
       "  </tbody>\n",
       "</table>\n",
       "</div>"
      ],
      "text/plain": [
       "      x  trend\n",
       "0 -3.00  4.750\n",
       "1 -2.25  3.625\n",
       "2 -1.50  2.500\n",
       "3 -0.75  1.375\n",
       "4  0.00  0.250\n",
       "5  0.75 -0.875\n",
       "6  1.50 -2.000\n",
       "7  2.25 -3.125\n",
       "8  3.00 -4.250"
      ]
     },
     "execution_count": 35,
     "metadata": {},
     "output_type": "execute_result"
    }
   ],
   "source": [
    "df"
   ]
  },
  {
   "cell_type": "markdown",
   "id": "852efa4c-0df4-437d-bf6e-aabb7a4dc1b9",
   "metadata": {},
   "source": [
    "The output are RANDOMLY distributed around the MEAN as a GAUSSIAN distribution."
   ]
  },
  {
   "cell_type": "code",
   "execution_count": 36,
   "id": "b972eaf9-ffc3-4076-87e9-325349f4dbc4",
   "metadata": {},
   "outputs": [],
   "source": [
    "rg = np.random.default_rng(2100)"
   ]
  },
  {
   "cell_type": "code",
   "execution_count": 37,
   "id": "f1040a4c-cb99-49ca-a464-74e2d6a4c6ca",
   "metadata": {},
   "outputs": [],
   "source": [
    "df[\"y\"] = rg.normal(loc=df.trend, scale=my_sigma, size=df.shape[0])"
   ]
  },
  {
   "cell_type": "code",
   "execution_count": 38,
   "id": "89e38ef0-25a8-46e0-a782-9f88fca6dad9",
   "metadata": {},
   "outputs": [
    {
     "data": {
      "text/html": [
       "<div>\n",
       "<style scoped>\n",
       "    .dataframe tbody tr th:only-of-type {\n",
       "        vertical-align: middle;\n",
       "    }\n",
       "\n",
       "    .dataframe tbody tr th {\n",
       "        vertical-align: top;\n",
       "    }\n",
       "\n",
       "    .dataframe thead th {\n",
       "        text-align: right;\n",
       "    }\n",
       "</style>\n",
       "<table border=\"1\" class=\"dataframe\">\n",
       "  <thead>\n",
       "    <tr style=\"text-align: right;\">\n",
       "      <th></th>\n",
       "      <th>x</th>\n",
       "      <th>trend</th>\n",
       "      <th>y</th>\n",
       "    </tr>\n",
       "  </thead>\n",
       "  <tbody>\n",
       "    <tr>\n",
       "      <th>0</th>\n",
       "      <td>-3.00</td>\n",
       "      <td>4.750</td>\n",
       "      <td>6.030315</td>\n",
       "    </tr>\n",
       "    <tr>\n",
       "      <th>1</th>\n",
       "      <td>-2.25</td>\n",
       "      <td>3.625</td>\n",
       "      <td>1.457911</td>\n",
       "    </tr>\n",
       "    <tr>\n",
       "      <th>2</th>\n",
       "      <td>-1.50</td>\n",
       "      <td>2.500</td>\n",
       "      <td>2.388383</td>\n",
       "    </tr>\n",
       "    <tr>\n",
       "      <th>3</th>\n",
       "      <td>-0.75</td>\n",
       "      <td>1.375</td>\n",
       "      <td>0.007815</td>\n",
       "    </tr>\n",
       "    <tr>\n",
       "      <th>4</th>\n",
       "      <td>0.00</td>\n",
       "      <td>0.250</td>\n",
       "      <td>0.651244</td>\n",
       "    </tr>\n",
       "    <tr>\n",
       "      <th>5</th>\n",
       "      <td>0.75</td>\n",
       "      <td>-0.875</td>\n",
       "      <td>-2.254007</td>\n",
       "    </tr>\n",
       "    <tr>\n",
       "      <th>6</th>\n",
       "      <td>1.50</td>\n",
       "      <td>-2.000</td>\n",
       "      <td>-2.969992</td>\n",
       "    </tr>\n",
       "    <tr>\n",
       "      <th>7</th>\n",
       "      <td>2.25</td>\n",
       "      <td>-3.125</td>\n",
       "      <td>-3.537097</td>\n",
       "    </tr>\n",
       "    <tr>\n",
       "      <th>8</th>\n",
       "      <td>3.00</td>\n",
       "      <td>-4.250</td>\n",
       "      <td>-6.063282</td>\n",
       "    </tr>\n",
       "  </tbody>\n",
       "</table>\n",
       "</div>"
      ],
      "text/plain": [
       "      x  trend         y\n",
       "0 -3.00  4.750  6.030315\n",
       "1 -2.25  3.625  1.457911\n",
       "2 -1.50  2.500  2.388383\n",
       "3 -0.75  1.375  0.007815\n",
       "4  0.00  0.250  0.651244\n",
       "5  0.75 -0.875 -2.254007\n",
       "6  1.50 -2.000 -2.969992\n",
       "7  2.25 -3.125 -3.537097\n",
       "8  3.00 -4.250 -6.063282"
      ]
     },
     "execution_count": 38,
     "metadata": {},
     "output_type": "execute_result"
    }
   ],
   "source": [
    "df"
   ]
  },
  {
   "cell_type": "markdown",
   "id": "7afe5131-d13e-43c0-94db-1d64511ccde7",
   "metadata": {},
   "source": [
    "Visualize the randomly generated output around the TREND."
   ]
  },
  {
   "cell_type": "code",
   "execution_count": 40,
   "id": "b4c234b4-499f-45d3-8189-f1fe02003e22",
   "metadata": {},
   "outputs": [
    {
     "data": {
      "image/png": "[encoded data removed]",
      "text/plain": [
       "<Figure size 640x480 with 1 Axes>"
      ]
     },
     "metadata": {},
     "output_type": "display_data"
    }
   ],
   "source": [
    "fig, ax = plt.subplots()\n",
    "\n",
    "## TRUE TREND\n",
    "ax.plot(df_viz.x, df_viz.trend, color=\"crimson\", linewidth=1.5)\n",
    "\n",
    "## TRUE variation around the TREND - showing 2 intervals\n",
    "# 2 sigma interval\n",
    "ax.fill_between(df_viz.x, df_viz.obs_lwr_95, df_viz.obs_upr_95, facecolor=\"crimson\", alpha=0.35)\n",
    "\n",
    "# 1 sigma interval\n",
    "ax.fill_between(df_viz.x, df_viz.obs_lwr_68, df_viz.obs_upr_68, facecolor=\"crimson\", alpha=0.35)\n",
    "\n",
    "# include the randomly generate small data set as a scatter plot\n",
    "ax.scatter(df.x, df.y, color=\"k\")\n",
    "\n",
    "# set labels\n",
    "ax.set_xlabel(\"x\")\n",
    "ax.set_ylabel(\"y\")\n",
    "\n",
    "# show the plot\n",
    "plt.show()"
   ]
  },
  {
   "cell_type": "markdown",
   "id": "0d3e3918-8cb4-4ecf-b1fb-48e65be12f6e",
   "metadata": {},
   "source": [
    "Lets save this small dataset set so that we can ultimately FIT models to it.\n",
    "\n",
    "But for book keeping purposes, lets store the TRUE coefficients and SIGMA that generated data."
   ]
  },
  {
   "cell_type": "code",
   "execution_count": 41,
   "id": "e4dc07d4-a880-42b8-b6d2-88c5c21fa5c3",
   "metadata": {},
   "outputs": [],
   "source": [
    "df[\"true_intercept\"] = my_intercept"
   ]
  },
  {
   "cell_type": "code",
   "execution_count": 42,
   "id": "e4f30682-eb1c-4114-959e-b9c98152e159",
   "metadata": {},
   "outputs": [],
   "source": [
    "df[\"true_slope\"] = my_slope"
   ]
  },
  {
   "cell_type": "code",
   "execution_count": 43,
   "id": "c21a4c49-ce27-4e1b-b1b8-bda303823bde",
   "metadata": {},
   "outputs": [],
   "source": [
    "df[\"true_sigma\"] = my_sigma"
   ]
  },
  {
   "cell_type": "code",
   "execution_count": 44,
   "id": "b1cc8e61-c351-4db7-ba60-de6c44c32e55",
   "metadata": {},
   "outputs": [
    {
     "data": {
      "text/html": [
       "<div>\n",
       "<style scoped>\n",
       "    .dataframe tbody tr th:only-of-type {\n",
       "        vertical-align: middle;\n",
       "    }\n",
       "\n",
       "    .dataframe tbody tr th {\n",
       "        vertical-align: top;\n",
       "    }\n",
       "\n",
       "    .dataframe thead th {\n",
       "        text-align: right;\n",
       "    }\n",
       "</style>\n",
       "<table border=\"1\" class=\"dataframe\">\n",
       "  <thead>\n",
       "    <tr style=\"text-align: right;\">\n",
       "      <th></th>\n",
       "      <th>x</th>\n",
       "      <th>trend</th>\n",
       "      <th>y</th>\n",
       "      <th>true_intercept</th>\n",
       "      <th>true_slope</th>\n",
       "      <th>true_sigma</th>\n",
       "    </tr>\n",
       "  </thead>\n",
       "  <tbody>\n",
       "    <tr>\n",
       "      <th>0</th>\n",
       "      <td>-3.00</td>\n",
       "      <td>4.750</td>\n",
       "      <td>6.030315</td>\n",
       "      <td>0.25</td>\n",
       "      <td>-1.5</td>\n",
       "      <td>1.25</td>\n",
       "    </tr>\n",
       "    <tr>\n",
       "      <th>1</th>\n",
       "      <td>-2.25</td>\n",
       "      <td>3.625</td>\n",
       "      <td>1.457911</td>\n",
       "      <td>0.25</td>\n",
       "      <td>-1.5</td>\n",
       "      <td>1.25</td>\n",
       "    </tr>\n",
       "    <tr>\n",
       "      <th>2</th>\n",
       "      <td>-1.50</td>\n",
       "      <td>2.500</td>\n",
       "      <td>2.388383</td>\n",
       "      <td>0.25</td>\n",
       "      <td>-1.5</td>\n",
       "      <td>1.25</td>\n",
       "    </tr>\n",
       "    <tr>\n",
       "      <th>3</th>\n",
       "      <td>-0.75</td>\n",
       "      <td>1.375</td>\n",
       "      <td>0.007815</td>\n",
       "      <td>0.25</td>\n",
       "      <td>-1.5</td>\n",
       "      <td>1.25</td>\n",
       "    </tr>\n",
       "    <tr>\n",
       "      <th>4</th>\n",
       "      <td>0.00</td>\n",
       "      <td>0.250</td>\n",
       "      <td>0.651244</td>\n",
       "      <td>0.25</td>\n",
       "      <td>-1.5</td>\n",
       "      <td>1.25</td>\n",
       "    </tr>\n",
       "    <tr>\n",
       "      <th>5</th>\n",
       "      <td>0.75</td>\n",
       "      <td>-0.875</td>\n",
       "      <td>-2.254007</td>\n",
       "      <td>0.25</td>\n",
       "      <td>-1.5</td>\n",
       "      <td>1.25</td>\n",
       "    </tr>\n",
       "    <tr>\n",
       "      <th>6</th>\n",
       "      <td>1.50</td>\n",
       "      <td>-2.000</td>\n",
       "      <td>-2.969992</td>\n",
       "      <td>0.25</td>\n",
       "      <td>-1.5</td>\n",
       "      <td>1.25</td>\n",
       "    </tr>\n",
       "    <tr>\n",
       "      <th>7</th>\n",
       "      <td>2.25</td>\n",
       "      <td>-3.125</td>\n",
       "      <td>-3.537097</td>\n",
       "      <td>0.25</td>\n",
       "      <td>-1.5</td>\n",
       "      <td>1.25</td>\n",
       "    </tr>\n",
       "    <tr>\n",
       "      <th>8</th>\n",
       "      <td>3.00</td>\n",
       "      <td>-4.250</td>\n",
       "      <td>-6.063282</td>\n",
       "      <td>0.25</td>\n",
       "      <td>-1.5</td>\n",
       "      <td>1.25</td>\n",
       "    </tr>\n",
       "  </tbody>\n",
       "</table>\n",
       "</div>"
      ],
      "text/plain": [
       "      x  trend         y  true_intercept  true_slope  true_sigma\n",
       "0 -3.00  4.750  6.030315            0.25        -1.5        1.25\n",
       "1 -2.25  3.625  1.457911            0.25        -1.5        1.25\n",
       "2 -1.50  2.500  2.388383            0.25        -1.5        1.25\n",
       "3 -0.75  1.375  0.007815            0.25        -1.5        1.25\n",
       "4  0.00  0.250  0.651244            0.25        -1.5        1.25\n",
       "5  0.75 -0.875 -2.254007            0.25        -1.5        1.25\n",
       "6  1.50 -2.000 -2.969992            0.25        -1.5        1.25\n",
       "7  2.25 -3.125 -3.537097            0.25        -1.5        1.25\n",
       "8  3.00 -4.250 -6.063282            0.25        -1.5        1.25"
      ]
     },
     "execution_count": 44,
     "metadata": {},
     "output_type": "execute_result"
    }
   ],
   "source": [
    "df"
   ]
  },
  {
   "cell_type": "markdown",
   "id": "8c392e92-6ed8-4380-9e0f-5b3549402025",
   "metadata": {},
   "source": [
    "Save dataframe to CSV file."
   ]
  },
  {
   "cell_type": "code",
   "execution_count": 45,
   "id": "1e4f7192-8cd9-4820-b010-7b99ae23d7dc",
   "metadata": {},
   "outputs": [],
   "source": [
    "df.to_csv(\"week_11_linear_data.csv\", index=False)"
   ]
  },
  {
   "cell_type": "markdown",
   "id": "b0809e7e-b2f4-49ea-922c-c4f468069255",
   "metadata": {},
   "source": [
    "Lets read back the data to confirm we saved it correctly."
   ]
  },
  {
   "cell_type": "code",
   "execution_count": 46,
   "id": "5e03b9aa-46d8-4def-8d33-20eb7037a944",
   "metadata": {},
   "outputs": [
    {
     "data": {
      "text/html": [
       "<div>\n",
       "<style scoped>\n",
       "    .dataframe tbody tr th:only-of-type {\n",
       "        vertical-align: middle;\n",
       "    }\n",
       "\n",
       "    .dataframe tbody tr th {\n",
       "        vertical-align: top;\n",
       "    }\n",
       "\n",
       "    .dataframe thead th {\n",
       "        text-align: right;\n",
       "    }\n",
       "</style>\n",
       "<table border=\"1\" class=\"dataframe\">\n",
       "  <thead>\n",
       "    <tr style=\"text-align: right;\">\n",
       "      <th></th>\n",
       "      <th>x</th>\n",
       "      <th>trend</th>\n",
       "      <th>y</th>\n",
       "      <th>true_intercept</th>\n",
       "      <th>true_slope</th>\n",
       "      <th>true_sigma</th>\n",
       "    </tr>\n",
       "  </thead>\n",
       "  <tbody>\n",
       "    <tr>\n",
       "      <th>0</th>\n",
       "      <td>-3.00</td>\n",
       "      <td>4.750</td>\n",
       "      <td>6.030315</td>\n",
       "      <td>0.25</td>\n",
       "      <td>-1.5</td>\n",
       "      <td>1.25</td>\n",
       "    </tr>\n",
       "    <tr>\n",
       "      <th>1</th>\n",
       "      <td>-2.25</td>\n",
       "      <td>3.625</td>\n",
       "      <td>1.457911</td>\n",
       "      <td>0.25</td>\n",
       "      <td>-1.5</td>\n",
       "      <td>1.25</td>\n",
       "    </tr>\n",
       "    <tr>\n",
       "      <th>2</th>\n",
       "      <td>-1.50</td>\n",
       "      <td>2.500</td>\n",
       "      <td>2.388383</td>\n",
       "      <td>0.25</td>\n",
       "      <td>-1.5</td>\n",
       "      <td>1.25</td>\n",
       "    </tr>\n",
       "    <tr>\n",
       "      <th>3</th>\n",
       "      <td>-0.75</td>\n",
       "      <td>1.375</td>\n",
       "      <td>0.007815</td>\n",
       "      <td>0.25</td>\n",
       "      <td>-1.5</td>\n",
       "      <td>1.25</td>\n",
       "    </tr>\n",
       "    <tr>\n",
       "      <th>4</th>\n",
       "      <td>0.00</td>\n",
       "      <td>0.250</td>\n",
       "      <td>0.651244</td>\n",
       "      <td>0.25</td>\n",
       "      <td>-1.5</td>\n",
       "      <td>1.25</td>\n",
       "    </tr>\n",
       "    <tr>\n",
       "      <th>5</th>\n",
       "      <td>0.75</td>\n",
       "      <td>-0.875</td>\n",
       "      <td>-2.254007</td>\n",
       "      <td>0.25</td>\n",
       "      <td>-1.5</td>\n",
       "      <td>1.25</td>\n",
       "    </tr>\n",
       "    <tr>\n",
       "      <th>6</th>\n",
       "      <td>1.50</td>\n",
       "      <td>-2.000</td>\n",
       "      <td>-2.969992</td>\n",
       "      <td>0.25</td>\n",
       "      <td>-1.5</td>\n",
       "      <td>1.25</td>\n",
       "    </tr>\n",
       "    <tr>\n",
       "      <th>7</th>\n",
       "      <td>2.25</td>\n",
       "      <td>-3.125</td>\n",
       "      <td>-3.537097</td>\n",
       "      <td>0.25</td>\n",
       "      <td>-1.5</td>\n",
       "      <td>1.25</td>\n",
       "    </tr>\n",
       "    <tr>\n",
       "      <th>8</th>\n",
       "      <td>3.00</td>\n",
       "      <td>-4.250</td>\n",
       "      <td>-6.063282</td>\n",
       "      <td>0.25</td>\n",
       "      <td>-1.5</td>\n",
       "      <td>1.25</td>\n",
       "    </tr>\n",
       "  </tbody>\n",
       "</table>\n",
       "</div>"
      ],
      "text/plain": [
       "      x  trend         y  true_intercept  true_slope  true_sigma\n",
       "0 -3.00  4.750  6.030315            0.25        -1.5        1.25\n",
       "1 -2.25  3.625  1.457911            0.25        -1.5        1.25\n",
       "2 -1.50  2.500  2.388383            0.25        -1.5        1.25\n",
       "3 -0.75  1.375  0.007815            0.25        -1.5        1.25\n",
       "4  0.00  0.250  0.651244            0.25        -1.5        1.25\n",
       "5  0.75 -0.875 -2.254007            0.25        -1.5        1.25\n",
       "6  1.50 -2.000 -2.969992            0.25        -1.5        1.25\n",
       "7  2.25 -3.125 -3.537097            0.25        -1.5        1.25\n",
       "8  3.00 -4.250 -6.063282            0.25        -1.5        1.25"
      ]
     },
     "execution_count": 46,
     "metadata": {},
     "output_type": "execute_result"
    }
   ],
   "source": [
    "pd.read_csv(\"week_11_linear_data.csv\")"
   ]
  },
  {
   "cell_type": "code",
   "execution_count": null,
   "id": "0bc3da76-71c5-4e97-97e1-542229d3eb84",
   "metadata": {},
   "outputs": [],
   "source": []
  }
 ],
 "metadata": {
  "kernelspec": {
   "display_name": "Python 3 (ipykernel)",
   "language": "python",
   "name": "python3"
  },
  "language_info": {
   "codemirror_mode": {
    "name": "ipython",
    "version": 3
   },
   "file_extension": ".py",
   "mimetype": "text/x-python",
   "name": "python",
   "nbconvert_exporter": "python",
   "pygments_lexer": "ipython3",
   "version": "3.8.19"
  }
 },
 "nbformat": 4,
 "nbformat_minor": 5
}
