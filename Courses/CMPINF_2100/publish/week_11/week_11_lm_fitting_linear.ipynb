{
 "cells": [
  {
   "cell_type": "markdown",
   "id": "e6be1b3e-5577-4200-a5ab-0cc43f94c808",
   "metadata": {},
   "source": [
    "## CMPINF 2100 Week 11\n",
    "### Fit a linear model\n",
    "Fit a linear model consisting of a SINGLE continuous INPUT that is LINEARLY RELATED to the TREND or MEAN OUTPUT.\n",
    "\n",
    "This is your classic \"best fit line\".\n",
    "## Import Modules"
   ]
  },
  {
   "cell_type": "code",
   "execution_count": 1,
   "id": "0adb7579-cd43-4844-af1f-6fdab1396961",
   "metadata": {},
   "outputs": [],
   "source": [
    "import numpy as np\n",
    "import pandas as pd\n",
    "import matplotlib.pyplot as plt\n",
    "\n",
    "import seaborn as sns"
   ]
  },
  {
   "cell_type": "markdown",
   "id": "d73a89f9-2420-4320-be55-074e814bcc21",
   "metadata": {},
   "source": [
    "But we need one more module to FIT the linear model!\n",
    "\n",
    "We will use `statsmodels` to FIT the linear models for regression. Later, we will use sklearn for fitting the linear model. But lets start with the `statsmodels` FORMULA API!!!"
   ]
  },
  {
   "cell_type": "code",
   "execution_count": 2,
   "id": "556a9094-c999-43b8-bb74-5268a6bb78d7",
   "metadata": {},
   "outputs": [],
   "source": [
    "import statsmodels.formula.api as smf"
   ]
  },
  {
   "cell_type": "code",
   "execution_count": 3,
   "id": "abf140c6-ce79-4e5d-b250-469f04fbe215",
   "metadata": {},
   "outputs": [
    {
     "name": "stdout",
     "output_type": "stream",
     "text": [
      "Variable   Type      Data/Info\n",
      "------------------------------\n",
      "np         module    <module 'numpy' from '/Ap<...>kages/numpy/__init__.py'>\n",
      "pd         module    <module 'pandas' from '/A<...>ages/pandas/__init__.py'>\n",
      "plt        module    <module 'matplotlib.pyplo<...>es/matplotlib/pyplot.py'>\n",
      "smf        module    <module 'statsmodels.form<...>tsmodels/formula/api.py'>\n",
      "sns        module    <module 'seaborn' from '/<...>ges/seaborn/__init__.py'>\n"
     ]
    }
   ],
   "source": [
    "%whos"
   ]
  },
  {
   "cell_type": "markdown",
   "id": "580474da-0991-4fe3-a456-0e616941975d",
   "metadata": {},
   "source": [
    "## Read data\n",
    "\n",
    "We will use the very simple linear relationship example that we created previously."
   ]
  },
  {
   "cell_type": "code",
   "execution_count": 4,
   "id": "bb48dca3-d00c-49f8-ac0b-00976bfa45fd",
   "metadata": {},
   "outputs": [],
   "source": [
    "df = pd.read_csv(\"week_11_linear_data.csv\")"
   ]
  },
  {
   "cell_type": "code",
   "execution_count": 5,
   "id": "79da6b51-3cf7-41ab-9fac-756395d807a9",
   "metadata": {},
   "outputs": [
    {
     "data": {
      "text/html": [
       "<div>\n",
       "<style scoped>\n",
       "    .dataframe tbody tr th:only-of-type {\n",
       "        vertical-align: middle;\n",
       "    }\n",
       "\n",
       "    .dataframe tbody tr th {\n",
       "        vertical-align: top;\n",
       "    }\n",
       "\n",
       "    .dataframe thead th {\n",
       "        text-align: right;\n",
       "    }\n",
       "</style>\n",
       "<table border=\"1\" class=\"dataframe\">\n",
       "  <thead>\n",
       "    <tr style=\"text-align: right;\">\n",
       "      <th></th>\n",
       "      <th>x</th>\n",
       "      <th>trend</th>\n",
       "      <th>y</th>\n",
       "      <th>true_intercept</th>\n",
       "      <th>true_slope</th>\n",
       "      <th>true_sigma</th>\n",
       "    </tr>\n",
       "  </thead>\n",
       "  <tbody>\n",
       "    <tr>\n",
       "      <th>0</th>\n",
       "      <td>-3.00</td>\n",
       "      <td>4.750</td>\n",
       "      <td>6.030315</td>\n",
       "      <td>0.25</td>\n",
       "      <td>-1.5</td>\n",
       "      <td>1.25</td>\n",
       "    </tr>\n",
       "    <tr>\n",
       "      <th>1</th>\n",
       "      <td>-2.25</td>\n",
       "      <td>3.625</td>\n",
       "      <td>1.457911</td>\n",
       "      <td>0.25</td>\n",
       "      <td>-1.5</td>\n",
       "      <td>1.25</td>\n",
       "    </tr>\n",
       "    <tr>\n",
       "      <th>2</th>\n",
       "      <td>-1.50</td>\n",
       "      <td>2.500</td>\n",
       "      <td>2.388383</td>\n",
       "      <td>0.25</td>\n",
       "      <td>-1.5</td>\n",
       "      <td>1.25</td>\n",
       "    </tr>\n",
       "    <tr>\n",
       "      <th>3</th>\n",
       "      <td>-0.75</td>\n",
       "      <td>1.375</td>\n",
       "      <td>0.007815</td>\n",
       "      <td>0.25</td>\n",
       "      <td>-1.5</td>\n",
       "      <td>1.25</td>\n",
       "    </tr>\n",
       "    <tr>\n",
       "      <th>4</th>\n",
       "      <td>0.00</td>\n",
       "      <td>0.250</td>\n",
       "      <td>0.651244</td>\n",
       "      <td>0.25</td>\n",
       "      <td>-1.5</td>\n",
       "      <td>1.25</td>\n",
       "    </tr>\n",
       "    <tr>\n",
       "      <th>5</th>\n",
       "      <td>0.75</td>\n",
       "      <td>-0.875</td>\n",
       "      <td>-2.254007</td>\n",
       "      <td>0.25</td>\n",
       "      <td>-1.5</td>\n",
       "      <td>1.25</td>\n",
       "    </tr>\n",
       "    <tr>\n",
       "      <th>6</th>\n",
       "      <td>1.50</td>\n",
       "      <td>-2.000</td>\n",
       "      <td>-2.969992</td>\n",
       "      <td>0.25</td>\n",
       "      <td>-1.5</td>\n",
       "      <td>1.25</td>\n",
       "    </tr>\n",
       "    <tr>\n",
       "      <th>7</th>\n",
       "      <td>2.25</td>\n",
       "      <td>-3.125</td>\n",
       "      <td>-3.537097</td>\n",
       "      <td>0.25</td>\n",
       "      <td>-1.5</td>\n",
       "      <td>1.25</td>\n",
       "    </tr>\n",
       "    <tr>\n",
       "      <th>8</th>\n",
       "      <td>3.00</td>\n",
       "      <td>-4.250</td>\n",
       "      <td>-6.063282</td>\n",
       "      <td>0.25</td>\n",
       "      <td>-1.5</td>\n",
       "      <td>1.25</td>\n",
       "    </tr>\n",
       "  </tbody>\n",
       "</table>\n",
       "</div>"
      ],
      "text/plain": [
       "      x  trend         y  true_intercept  true_slope  true_sigma\n",
       "0 -3.00  4.750  6.030315            0.25        -1.5        1.25\n",
       "1 -2.25  3.625  1.457911            0.25        -1.5        1.25\n",
       "2 -1.50  2.500  2.388383            0.25        -1.5        1.25\n",
       "3 -0.75  1.375  0.007815            0.25        -1.5        1.25\n",
       "4  0.00  0.250  0.651244            0.25        -1.5        1.25\n",
       "5  0.75 -0.875 -2.254007            0.25        -1.5        1.25\n",
       "6  1.50 -2.000 -2.969992            0.25        -1.5        1.25\n",
       "7  2.25 -3.125 -3.537097            0.25        -1.5        1.25\n",
       "8  3.00 -4.250 -6.063282            0.25        -1.5        1.25"
      ]
     },
     "execution_count": 5,
     "metadata": {},
     "output_type": "execute_result"
    }
   ],
   "source": [
    "df"
   ]
  },
  {
   "cell_type": "code",
   "execution_count": 6,
   "id": "22b90a57-b285-4f69-b215-89a128ad046d",
   "metadata": {},
   "outputs": [
    {
     "name": "stdout",
     "output_type": "stream",
     "text": [
      "<class 'pandas.core.frame.DataFrame'>\n",
      "RangeIndex: 9 entries, 0 to 8\n",
      "Data columns (total 6 columns):\n",
      " #   Column          Non-Null Count  Dtype  \n",
      "---  ------          --------------  -----  \n",
      " 0   x               9 non-null      float64\n",
      " 1   trend           9 non-null      float64\n",
      " 2   y               9 non-null      float64\n",
      " 3   true_intercept  9 non-null      float64\n",
      " 4   true_slope      9 non-null      float64\n",
      " 5   true_sigma      9 non-null      float64\n",
      "dtypes: float64(6)\n",
      "memory usage: 560.0 bytes\n"
     ]
    }
   ],
   "source": [
    "df.info()"
   ]
  },
  {
   "cell_type": "markdown",
   "id": "2841a0c7-4600-456a-84ee-b143b3ee5acb",
   "metadata": {},
   "source": [
    "We will fit a LINEAR MODEL between the INPUT x and the OUTPUT y assuming a LINEAR RELATIONSHIP between the TREND and the INPUT.\n",
    "\n",
    "## Fitting\n",
    "\n",
    "The statsmodels function for fitting LINEAR MODELS for regression is smf.ols()\n",
    "\n",
    "OLS stands for ordinary least squares, this will give us the estimate that minimize the sum of square error.\n",
    "\n",
    "The smf.ols() function works slightly differently than how sklearn works. The object is INITIALIZED with a DATASET!!!\n",
    "\n",
    "You then FIT the object with the .fit() method BUT the data has already been provided!!!\n",
    "\n",
    "The model we want to FIT is specified via the formula argument to smf.ols().\n",
    "\n",
    "The FORMULA is a STRING!!!\n",
    "\n",
    "`'<OUTPUT> ~ <INPUT>'`\n",
    "\n",
    "By default, the FORMULA assumes an INTERCEPT **MUST BE ESTIMATED**!!!\n",
    "\n",
    "The resulting FITTED object will include all COEFFICIENT ESTIMATE, STANDARD ERRORS, CONFIDENCE INTERVALS, and most PERFORMANCE metrics."
   ]
  },
  {
   "cell_type": "code",
   "execution_count": 68,
   "id": "63c1b2a2-89fc-4a2f-9316-fdee6ff61f05",
   "metadata": {},
   "outputs": [],
   "source": [
    "lm_fit = smf.ols( formula='y ~ x', data=df).fit()"
   ]
  },
  {
   "cell_type": "code",
   "execution_count": 15,
   "id": "66a2fe8a-cc93-4ed7-9c84-8ec5e26beae5",
   "metadata": {},
   "outputs": [
    {
     "data": {
      "text/plain": [
       "statsmodels.regression.linear_model.RegressionResultsWrapper"
      ]
     },
     "execution_count": 15,
     "metadata": {},
     "output_type": "execute_result"
    }
   ],
   "source": [
    "type(lm_fit)"
   ]
  },
  {
   "cell_type": "code",
   "execution_count": 16,
   "id": "6066fd60-f887-48c7-b2f4-fe39d8890dce",
   "metadata": {},
   "outputs": [
    {
     "data": {
      "text/plain": [
       "['HC0_se',\n",
       " 'HC1_se',\n",
       " 'HC2_se',\n",
       " 'HC3_se',\n",
       " '_HCCM',\n",
       " '__class__',\n",
       " '__delattr__',\n",
       " '__dict__',\n",
       " '__dir__',\n",
       " '__doc__',\n",
       " '__eq__',\n",
       " '__format__',\n",
       " '__ge__',\n",
       " '__getattribute__',\n",
       " '__gt__',\n",
       " '__hash__',\n",
       " '__init__',\n",
       " '__init_subclass__',\n",
       " '__le__',\n",
       " '__lt__',\n",
       " '__module__',\n",
       " '__ne__',\n",
       " '__new__',\n",
       " '__reduce__',\n",
       " '__reduce_ex__',\n",
       " '__repr__',\n",
       " '__setattr__',\n",
       " '__sizeof__',\n",
       " '__str__',\n",
       " '__subclasshook__',\n",
       " '__weakref__',\n",
       " '_abat_diagonal',\n",
       " '_cache',\n",
       " '_data_attr',\n",
       " '_data_in_cache',\n",
       " '_get_robustcov_results',\n",
       " '_get_wald_nonlinear',\n",
       " '_is_nested',\n",
       " '_transform_predict_exog',\n",
       " '_use_t',\n",
       " '_wexog_singular_values',\n",
       " 'aic',\n",
       " 'bic',\n",
       " 'bse',\n",
       " 'centered_tss',\n",
       " 'compare_f_test',\n",
       " 'compare_lm_test',\n",
       " 'compare_lr_test',\n",
       " 'condition_number',\n",
       " 'conf_int',\n",
       " 'conf_int_el',\n",
       " 'cov_HC0',\n",
       " 'cov_HC1',\n",
       " 'cov_HC2',\n",
       " 'cov_HC3',\n",
       " 'cov_kwds',\n",
       " 'cov_params',\n",
       " 'cov_type',\n",
       " 'df_model',\n",
       " 'df_resid',\n",
       " 'eigenvals',\n",
       " 'el_test',\n",
       " 'ess',\n",
       " 'f_pvalue',\n",
       " 'f_test',\n",
       " 'fittedvalues',\n",
       " 'fvalue',\n",
       " 'get_influence',\n",
       " 'get_prediction',\n",
       " 'get_robustcov_results',\n",
       " 'info_criteria',\n",
       " 'initialize',\n",
       " 'k_constant',\n",
       " 'llf',\n",
       " 'load',\n",
       " 'model',\n",
       " 'mse_model',\n",
       " 'mse_resid',\n",
       " 'mse_total',\n",
       " 'nobs',\n",
       " 'normalized_cov_params',\n",
       " 'outlier_test',\n",
       " 'params',\n",
       " 'predict',\n",
       " 'pvalues',\n",
       " 'remove_data',\n",
       " 'resid',\n",
       " 'resid_pearson',\n",
       " 'rsquared',\n",
       " 'rsquared_adj',\n",
       " 'save',\n",
       " 'scale',\n",
       " 'ssr',\n",
       " 'summary',\n",
       " 'summary2',\n",
       " 't_test',\n",
       " 't_test_pairwise',\n",
       " 'tvalues',\n",
       " 'uncentered_tss',\n",
       " 'use_t',\n",
       " 'wald_test',\n",
       " 'wald_test_terms',\n",
       " 'wresid']"
      ]
     },
     "execution_count": 16,
     "metadata": {},
     "output_type": "execute_result"
    }
   ],
   "source": [
    "dir(lm_fit)"
   ]
  },
  {
   "cell_type": "markdown",
   "id": "14f569b0-c5d0-4a97-934c-78d2485afcf0",
   "metadata": {},
   "source": [
    "The summary() is a useful METHOD for SUMMARIZING the linear model FIT!!!"
   ]
  },
  {
   "cell_type": "code",
   "execution_count": 18,
   "id": "60f505d5-0c0f-46e2-9d30-e65e0e9e24d1",
   "metadata": {},
   "outputs": [
    {
     "name": "stderr",
     "output_type": "stream",
     "text": [
      "/Applications/anaconda3/envs/cmpinf2100/lib/python3.8/site-packages/scipy/stats/_stats_py.py:1769: UserWarning: kurtosistest only valid for n>=20 ... continuing anyway, n=9\n",
      "  warnings.warn(\"kurtosistest only valid for n>=20 ... continuing \"\n"
     ]
    },
    {
     "data": {
      "text/html": [
       "<table class=\"simpletable\">\n",
       "<caption>OLS Regression Results</caption>\n",
       "<tr>\n",
       "  <th>Dep. Variable:</th>            <td>y</td>        <th>  R-squared:         </th> <td>   0.918</td>\n",
       "</tr>\n",
       "<tr>\n",
       "  <th>Model:</th>                   <td>OLS</td>       <th>  Adj. R-squared:    </th> <td>   0.907</td>\n",
       "</tr>\n",
       "<tr>\n",
       "  <th>Method:</th>             <td>Least Squares</td>  <th>  F-statistic:       </th> <td>   78.82</td>\n",
       "</tr>\n",
       "<tr>\n",
       "  <th>Date:</th>             <td>Mon, 11 Nov 2024</td> <th>  Prob (F-statistic):</th> <td>4.66e-05</td>\n",
       "</tr>\n",
       "<tr>\n",
       "  <th>Time:</th>                 <td>21:14:53</td>     <th>  Log-Likelihood:    </th> <td> -12.580</td>\n",
       "</tr>\n",
       "<tr>\n",
       "  <th>No. Observations:</th>      <td>     9</td>      <th>  AIC:               </th> <td>   29.16</td>\n",
       "</tr>\n",
       "<tr>\n",
       "  <th>Df Residuals:</th>          <td>     7</td>      <th>  BIC:               </th> <td>   29.55</td>\n",
       "</tr>\n",
       "<tr>\n",
       "  <th>Df Model:</th>              <td>     1</td>      <th>                     </th>     <td> </td>   \n",
       "</tr>\n",
       "<tr>\n",
       "  <th>Covariance Type:</th>      <td>nonrobust</td>    <th>                     </th>     <td> </td>   \n",
       "</tr>\n",
       "</table>\n",
       "<table class=\"simpletable\">\n",
       "<tr>\n",
       "      <td></td>         <th>coef</th>     <th>std err</th>      <th>t</th>      <th>P>|t|</th>  <th>[0.025</th>    <th>0.975]</th>  \n",
       "</tr>\n",
       "<tr>\n",
       "  <th>Intercept</th> <td>   -0.4765</td> <td>    0.370</td> <td>   -1.288</td> <td> 0.239</td> <td>   -1.352</td> <td>    0.398</td>\n",
       "</tr>\n",
       "<tr>\n",
       "  <th>x</th>         <td>   -1.6964</td> <td>    0.191</td> <td>   -8.878</td> <td> 0.000</td> <td>   -2.148</td> <td>   -1.245</td>\n",
       "</tr>\n",
       "</table>\n",
       "<table class=\"simpletable\">\n",
       "<tr>\n",
       "  <th>Omnibus:</th>       <td> 0.301</td> <th>  Durbin-Watson:     </th> <td>   2.978</td>\n",
       "</tr>\n",
       "<tr>\n",
       "  <th>Prob(Omnibus):</th> <td> 0.860</td> <th>  Jarque-Bera (JB):  </th> <td>   0.330</td>\n",
       "</tr>\n",
       "<tr>\n",
       "  <th>Skew:</th>          <td>-0.315</td> <th>  Prob(JB):          </th> <td>   0.848</td>\n",
       "</tr>\n",
       "<tr>\n",
       "  <th>Kurtosis:</th>      <td> 2.306</td> <th>  Cond. No.          </th> <td>    1.94</td>\n",
       "</tr>\n",
       "</table><br/><br/>Notes:<br/>[1] Standard Errors assume that the covariance matrix of the errors is correctly specified."
      ],
      "text/latex": [
       "\\begin{center}\n",
       "\\begin{tabular}{lclc}\n",
       "\\toprule\n",
       "\\textbf{Dep. Variable:}    &        y         & \\textbf{  R-squared:         } &     0.918   \\\\\n",
       "\\textbf{Model:}            &       OLS        & \\textbf{  Adj. R-squared:    } &     0.907   \\\\\n",
       "\\textbf{Method:}           &  Least Squares   & \\textbf{  F-statistic:       } &     78.82   \\\\\n",
       "\\textbf{Date:}             & Mon, 11 Nov 2024 & \\textbf{  Prob (F-statistic):} &  4.66e-05   \\\\\n",
       "\\textbf{Time:}             &     21:14:53     & \\textbf{  Log-Likelihood:    } &   -12.580   \\\\\n",
       "\\textbf{No. Observations:} &           9      & \\textbf{  AIC:               } &     29.16   \\\\\n",
       "\\textbf{Df Residuals:}     &           7      & \\textbf{  BIC:               } &     29.55   \\\\\n",
       "\\textbf{Df Model:}         &           1      & \\textbf{                     } &             \\\\\n",
       "\\textbf{Covariance Type:}  &    nonrobust     & \\textbf{                     } &             \\\\\n",
       "\\bottomrule\n",
       "\\end{tabular}\n",
       "\\begin{tabular}{lcccccc}\n",
       "                   & \\textbf{coef} & \\textbf{std err} & \\textbf{t} & \\textbf{P$> |$t$|$} & \\textbf{[0.025} & \\textbf{0.975]}  \\\\\n",
       "\\midrule\n",
       "\\textbf{Intercept} &      -0.4765  &        0.370     &    -1.288  &         0.239        &       -1.352    &        0.398     \\\\\n",
       "\\textbf{x}         &      -1.6964  &        0.191     &    -8.878  &         0.000        &       -2.148    &       -1.245     \\\\\n",
       "\\bottomrule\n",
       "\\end{tabular}\n",
       "\\begin{tabular}{lclc}\n",
       "\\textbf{Omnibus:}       &  0.301 & \\textbf{  Durbin-Watson:     } &    2.978  \\\\\n",
       "\\textbf{Prob(Omnibus):} &  0.860 & \\textbf{  Jarque-Bera (JB):  } &    0.330  \\\\\n",
       "\\textbf{Skew:}          & -0.315 & \\textbf{  Prob(JB):          } &    0.848  \\\\\n",
       "\\textbf{Kurtosis:}      &  2.306 & \\textbf{  Cond. No.          } &     1.94  \\\\\n",
       "\\bottomrule\n",
       "\\end{tabular}\n",
       "%\\caption{OLS Regression Results}\n",
       "\\end{center}\n",
       "\n",
       "Notes: \\newline\n",
       " [1] Standard Errors assume that the covariance matrix of the errors is correctly specified."
      ],
      "text/plain": [
       "<class 'statsmodels.iolib.summary.Summary'>\n",
       "\"\"\"\n",
       "                            OLS Regression Results                            \n",
       "==============================================================================\n",
       "Dep. Variable:                      y   R-squared:                       0.918\n",
       "Model:                            OLS   Adj. R-squared:                  0.907\n",
       "Method:                 Least Squares   F-statistic:                     78.82\n",
       "Date:                Mon, 11 Nov 2024   Prob (F-statistic):           4.66e-05\n",
       "Time:                        21:14:53   Log-Likelihood:                -12.580\n",
       "No. Observations:                   9   AIC:                             29.16\n",
       "Df Residuals:                       7   BIC:                             29.55\n",
       "Df Model:                           1                                         \n",
       "Covariance Type:            nonrobust                                         \n",
       "==============================================================================\n",
       "                 coef    std err          t      P>|t|      [0.025      0.975]\n",
       "------------------------------------------------------------------------------\n",
       "Intercept     -0.4765      0.370     -1.288      0.239      -1.352       0.398\n",
       "x             -1.6964      0.191     -8.878      0.000      -2.148      -1.245\n",
       "==============================================================================\n",
       "Omnibus:                        0.301   Durbin-Watson:                   2.978\n",
       "Prob(Omnibus):                  0.860   Jarque-Bera (JB):                0.330\n",
       "Skew:                          -0.315   Prob(JB):                        0.848\n",
       "Kurtosis:                       2.306   Cond. No.                         1.94\n",
       "==============================================================================\n",
       "\n",
       "Notes:\n",
       "[1] Standard Errors assume that the covariance matrix of the errors is correctly specified.\n",
       "\"\"\""
      ]
     },
     "execution_count": 18,
     "metadata": {},
     "output_type": "execute_result"
    }
   ],
   "source": [
    "lm_fit.summary()"
   ]
  },
  {
   "cell_type": "markdown",
   "id": "2e591184-a005-48e8-bd6a-ca739a995627",
   "metadata": {},
   "source": [
    "Print the summary."
   ]
  },
  {
   "cell_type": "code",
   "execution_count": 19,
   "id": "0cd8d61a-c323-4b5b-b455-67aabe2f1240",
   "metadata": {},
   "outputs": [
    {
     "name": "stdout",
     "output_type": "stream",
     "text": [
      "                            OLS Regression Results                            \n",
      "==============================================================================\n",
      "Dep. Variable:                      y   R-squared:                       0.918\n",
      "Model:                            OLS   Adj. R-squared:                  0.907\n",
      "Method:                 Least Squares   F-statistic:                     78.82\n",
      "Date:                Mon, 11 Nov 2024   Prob (F-statistic):           4.66e-05\n",
      "Time:                        21:17:11   Log-Likelihood:                -12.580\n",
      "No. Observations:                   9   AIC:                             29.16\n",
      "Df Residuals:                       7   BIC:                             29.55\n",
      "Df Model:                           1                                         \n",
      "Covariance Type:            nonrobust                                         \n",
      "==============================================================================\n",
      "                 coef    std err          t      P>|t|      [0.025      0.975]\n",
      "------------------------------------------------------------------------------\n",
      "Intercept     -0.4765      0.370     -1.288      0.239      -1.352       0.398\n",
      "x             -1.6964      0.191     -8.878      0.000      -2.148      -1.245\n",
      "==============================================================================\n",
      "Omnibus:                        0.301   Durbin-Watson:                   2.978\n",
      "Prob(Omnibus):                  0.860   Jarque-Bera (JB):                0.330\n",
      "Skew:                          -0.315   Prob(JB):                        0.848\n",
      "Kurtosis:                       2.306   Cond. No.                         1.94\n",
      "==============================================================================\n",
      "\n",
      "Notes:\n",
      "[1] Standard Errors assume that the covariance matrix of the errors is correctly specified.\n"
     ]
    },
    {
     "name": "stderr",
     "output_type": "stream",
     "text": [
      "/Applications/anaconda3/envs/cmpinf2100/lib/python3.8/site-packages/scipy/stats/_stats_py.py:1769: UserWarning: kurtosistest only valid for n>=20 ... continuing anyway, n=9\n",
      "  warnings.warn(\"kurtosistest only valid for n>=20 ... continuing \"\n"
     ]
    }
   ],
   "source": [
    "print(lm_fit.summary())"
   ]
  },
  {
   "cell_type": "markdown",
   "id": "274213bd-9d20-4d68-b9c7-94af3acb9cd0",
   "metadata": {},
   "source": [
    "As a reminder, the FORUMLA `y ~ x` stands for:\n",
    "\n",
    "$$\\mu = \\beta_0 + \\beta_1 \\times x $$"
   ]
  },
  {
   "cell_type": "markdown",
   "id": "f83742d1-cd6d-4c8f-8af6-d1b002e5c455",
   "metadata": {},
   "source": [
    "The params attributes stores the COEFFICIENTS ESTIMATES!! These are the estimates that MINIMIZE the sum of squared errors!!!"
   ]
  },
  {
   "cell_type": "code",
   "execution_count": 20,
   "id": "9e35f6d8-c0e9-4b02-b8a4-c86d0a107410",
   "metadata": {},
   "outputs": [
    {
     "data": {
      "text/plain": [
       "Intercept   -0.476523\n",
       "x           -1.696400\n",
       "dtype: float64"
      ]
     },
     "execution_count": 20,
     "metadata": {},
     "output_type": "execute_result"
    }
   ],
   "source": [
    "lm_fit.params"
   ]
  },
  {
   "cell_type": "markdown",
   "id": "3314709e-ec4a-4f24-9153-d17bc3280280",
   "metadata": {},
   "source": [
    "The standard error on the estimate is contained in the .bse attribute."
   ]
  },
  {
   "cell_type": "code",
   "execution_count": 21,
   "id": "9a03396f-547c-4683-aeac-52975f9b85f2",
   "metadata": {},
   "outputs": [
    {
     "data": {
      "text/plain": [
       "Intercept    0.370031\n",
       "x            0.191083\n",
       "dtype: float64"
      ]
     },
     "execution_count": 21,
     "metadata": {},
     "output_type": "execute_result"
    }
   ],
   "source": [
    "lm_fit.bse"
   ]
  },
  {
   "cell_type": "markdown",
   "id": "139205e7-923a-4b42-a824-6b4ded501085",
   "metadata": {},
   "source": [
    "Essentially, we can use the $\\pm1$ and the $\\pm2$ standard error intervals to know how TRUSTWORTHY the estimate is!!!\n",
    "\n",
    "The most common standard error interval is the $\\pm2$ standard error interval beause that is approximately equal to the 95% CONFIDENCE INTERVAL!!!"
   ]
  },
  {
   "cell_type": "code",
   "execution_count": 22,
   "id": "f2903279-8eeb-4ebd-82f6-83eba39c4071",
   "metadata": {},
   "outputs": [
    {
     "data": {
      "text/plain": [
       "Intercept   -1.216585\n",
       "x           -2.078566\n",
       "dtype: float64"
      ]
     },
     "execution_count": 22,
     "metadata": {},
     "output_type": "execute_result"
    }
   ],
   "source": [
    "lm_fit.params - 2*lm_fit.bse"
   ]
  },
  {
   "cell_type": "code",
   "execution_count": 23,
   "id": "6d9963ae-c7ec-49ad-bc06-664794c3e4ba",
   "metadata": {},
   "outputs": [
    {
     "data": {
      "text/plain": [
       "Intercept    0.263538\n",
       "x           -1.314234\n",
       "dtype: float64"
      ]
     },
     "execution_count": 23,
     "metadata": {},
     "output_type": "execute_result"
    }
   ],
   "source": [
    "lm_fit.params + 2*lm_fit.bse"
   ]
  },
  {
   "cell_type": "markdown",
   "id": "6627a751-06a5-4af8-9881-df47e1be4199",
   "metadata": {},
   "source": [
    "The actual 95% confidence interval is a slightly more difficult formula. But when the sample size is high our approx using the Gaussian becomes really good. If you want the EXACT 95% confidence inteval then you can extract it using the .conf_int()."
   ]
  },
  {
   "cell_type": "code",
   "execution_count": 24,
   "id": "62f71a48-8134-43c1-b03c-9b0c392e4623",
   "metadata": {},
   "outputs": [
    {
     "data": {
      "text/html": [
       "<div>\n",
       "<style scoped>\n",
       "    .dataframe tbody tr th:only-of-type {\n",
       "        vertical-align: middle;\n",
       "    }\n",
       "\n",
       "    .dataframe tbody tr th {\n",
       "        vertical-align: top;\n",
       "    }\n",
       "\n",
       "    .dataframe thead th {\n",
       "        text-align: right;\n",
       "    }\n",
       "</style>\n",
       "<table border=\"1\" class=\"dataframe\">\n",
       "  <thead>\n",
       "    <tr style=\"text-align: right;\">\n",
       "      <th></th>\n",
       "      <th>0</th>\n",
       "      <th>1</th>\n",
       "    </tr>\n",
       "  </thead>\n",
       "  <tbody>\n",
       "    <tr>\n",
       "      <th>Intercept</th>\n",
       "      <td>-1.351507</td>\n",
       "      <td>0.39846</td>\n",
       "    </tr>\n",
       "    <tr>\n",
       "      <th>x</th>\n",
       "      <td>-2.148239</td>\n",
       "      <td>-1.24456</td>\n",
       "    </tr>\n",
       "  </tbody>\n",
       "</table>\n",
       "</div>"
      ],
      "text/plain": [
       "                  0        1\n",
       "Intercept -1.351507  0.39846\n",
       "x         -2.148239 -1.24456"
      ]
     },
     "execution_count": 24,
     "metadata": {},
     "output_type": "execute_result"
    }
   ],
   "source": [
    "lm_fit.conf_int()"
   ]
  },
  {
   "cell_type": "markdown",
   "id": "641e0c2a-a6b4-4b1a-80eb-cc9f2b4e1878",
   "metadata": {},
   "source": [
    "Lets change the column names to the CONFIDENCE INTERVAL LOWER BOUND AND CONFIDENCE INTERVAL UPPER BOUND."
   ]
  },
  {
   "cell_type": "code",
   "execution_count": 26,
   "id": "47512933-f1fe-4af6-8b21-d32d4e83a62c",
   "metadata": {},
   "outputs": [
    {
     "data": {
      "text/html": [
       "<div>\n",
       "<style scoped>\n",
       "    .dataframe tbody tr th:only-of-type {\n",
       "        vertical-align: middle;\n",
       "    }\n",
       "\n",
       "    .dataframe tbody tr th {\n",
       "        vertical-align: top;\n",
       "    }\n",
       "\n",
       "    .dataframe thead th {\n",
       "        text-align: right;\n",
       "    }\n",
       "</style>\n",
       "<table border=\"1\" class=\"dataframe\">\n",
       "  <thead>\n",
       "    <tr style=\"text-align: right;\">\n",
       "      <th></th>\n",
       "      <th>ci_lwr</th>\n",
       "      <th>ci_upr</th>\n",
       "    </tr>\n",
       "  </thead>\n",
       "  <tbody>\n",
       "    <tr>\n",
       "      <th>Intercept</th>\n",
       "      <td>-1.351507</td>\n",
       "      <td>0.39846</td>\n",
       "    </tr>\n",
       "    <tr>\n",
       "      <th>x</th>\n",
       "      <td>-2.148239</td>\n",
       "      <td>-1.24456</td>\n",
       "    </tr>\n",
       "  </tbody>\n",
       "</table>\n",
       "</div>"
      ],
      "text/plain": [
       "             ci_lwr   ci_upr\n",
       "Intercept -1.351507  0.39846\n",
       "x         -2.148239 -1.24456"
      ]
     },
     "execution_count": 26,
     "metadata": {},
     "output_type": "execute_result"
    }
   ],
   "source": [
    "lm_fit.conf_int().\\\n",
    "rename(columns={0: \"ci_lwr\", 1: \"ci_upr\"})"
   ]
  },
  {
   "cell_type": "markdown",
   "id": "b8353b36-5ade-4267-83b8-4d19732f8a0f",
   "metadata": {},
   "source": [
    "I will extract the 95% confidence interval bounds and store the ESTIMATE with the STANDARD ERROR with the bounds."
   ]
  },
  {
   "cell_type": "code",
   "execution_count": 27,
   "id": "bc28a752-2591-410c-9a38-4dea39a3dbba",
   "metadata": {},
   "outputs": [],
   "source": [
    "coef_fit_info = lm_fit.conf_int().\\\n",
    "rename(columns={0: \"ci_lwr\", 1: \"ci_upr\"})"
   ]
  },
  {
   "cell_type": "code",
   "execution_count": 28,
   "id": "e18330d2-1037-4793-abe9-c45a0e4d4578",
   "metadata": {},
   "outputs": [
    {
     "data": {
      "text/html": [
       "<div>\n",
       "<style scoped>\n",
       "    .dataframe tbody tr th:only-of-type {\n",
       "        vertical-align: middle;\n",
       "    }\n",
       "\n",
       "    .dataframe tbody tr th {\n",
       "        vertical-align: top;\n",
       "    }\n",
       "\n",
       "    .dataframe thead th {\n",
       "        text-align: right;\n",
       "    }\n",
       "</style>\n",
       "<table border=\"1\" class=\"dataframe\">\n",
       "  <thead>\n",
       "    <tr style=\"text-align: right;\">\n",
       "      <th></th>\n",
       "      <th>ci_lwr</th>\n",
       "      <th>ci_upr</th>\n",
       "    </tr>\n",
       "  </thead>\n",
       "  <tbody>\n",
       "    <tr>\n",
       "      <th>Intercept</th>\n",
       "      <td>-1.351507</td>\n",
       "      <td>0.39846</td>\n",
       "    </tr>\n",
       "    <tr>\n",
       "      <th>x</th>\n",
       "      <td>-2.148239</td>\n",
       "      <td>-1.24456</td>\n",
       "    </tr>\n",
       "  </tbody>\n",
       "</table>\n",
       "</div>"
      ],
      "text/plain": [
       "             ci_lwr   ci_upr\n",
       "Intercept -1.351507  0.39846\n",
       "x         -2.148239 -1.24456"
      ]
     },
     "execution_count": 28,
     "metadata": {},
     "output_type": "execute_result"
    }
   ],
   "source": [
    "coef_fit_info"
   ]
  },
  {
   "cell_type": "code",
   "execution_count": 30,
   "id": "4a1bb5aa-49e3-4b0e-8b1c-13c750a75de2",
   "metadata": {},
   "outputs": [],
   "source": [
    "coef_fit_info[\"estimate\"] = lm_fit.params"
   ]
  },
  {
   "cell_type": "code",
   "execution_count": 31,
   "id": "33362950-e24e-4a34-9165-58bc79cb1ae3",
   "metadata": {},
   "outputs": [],
   "source": [
    "coef_fit_info[\"estimate_se\"] = lm_fit.bse"
   ]
  },
  {
   "cell_type": "code",
   "execution_count": 32,
   "id": "1a70f59b-2002-4c76-ba60-9ff8bdd975c9",
   "metadata": {},
   "outputs": [
    {
     "data": {
      "text/html": [
       "<div>\n",
       "<style scoped>\n",
       "    .dataframe tbody tr th:only-of-type {\n",
       "        vertical-align: middle;\n",
       "    }\n",
       "\n",
       "    .dataframe tbody tr th {\n",
       "        vertical-align: top;\n",
       "    }\n",
       "\n",
       "    .dataframe thead th {\n",
       "        text-align: right;\n",
       "    }\n",
       "</style>\n",
       "<table border=\"1\" class=\"dataframe\">\n",
       "  <thead>\n",
       "    <tr style=\"text-align: right;\">\n",
       "      <th></th>\n",
       "      <th>ci_lwr</th>\n",
       "      <th>ci_upr</th>\n",
       "      <th>estimate</th>\n",
       "      <th>estimate_se</th>\n",
       "    </tr>\n",
       "  </thead>\n",
       "  <tbody>\n",
       "    <tr>\n",
       "      <th>Intercept</th>\n",
       "      <td>-1.351507</td>\n",
       "      <td>0.39846</td>\n",
       "      <td>-0.476523</td>\n",
       "      <td>0.370031</td>\n",
       "    </tr>\n",
       "    <tr>\n",
       "      <th>x</th>\n",
       "      <td>-2.148239</td>\n",
       "      <td>-1.24456</td>\n",
       "      <td>-1.696400</td>\n",
       "      <td>0.191083</td>\n",
       "    </tr>\n",
       "  </tbody>\n",
       "</table>\n",
       "</div>"
      ],
      "text/plain": [
       "             ci_lwr   ci_upr  estimate  estimate_se\n",
       "Intercept -1.351507  0.39846 -0.476523     0.370031\n",
       "x         -2.148239 -1.24456 -1.696400     0.191083"
      ]
     },
     "execution_count": 32,
     "metadata": {},
     "output_type": "execute_result"
    }
   ],
   "source": [
    "coef_fit_info"
   ]
  },
  {
   "cell_type": "code",
   "execution_count": 34,
   "id": "14780511-026c-4381-b812-d5c19f78ff23",
   "metadata": {},
   "outputs": [
    {
     "data": {
      "text/plain": [
       "Index(['Intercept', 'x'], dtype='object')"
      ]
     },
     "execution_count": 34,
     "metadata": {},
     "output_type": "execute_result"
    }
   ],
   "source": [
    "coef_fit_info.index"
   ]
  },
  {
   "cell_type": "markdown",
   "id": "c0f2787c-f9ee-4ae1-aff7-bab11fc59618",
   "metadata": {},
   "source": [
    "We can extract the p-values for the coefficients using the .pvalues attribute."
   ]
  },
  {
   "cell_type": "code",
   "execution_count": 35,
   "id": "2b0319b3-ea16-48e8-81a2-c1924906c032",
   "metadata": {},
   "outputs": [
    {
     "data": {
      "text/plain": [
       "Intercept    0.238754\n",
       "x            0.000047\n",
       "dtype: float64"
      ]
     },
     "execution_count": 35,
     "metadata": {},
     "output_type": "execute_result"
    }
   ],
   "source": [
    "lm_fit.pvalues"
   ]
  },
  {
   "cell_type": "markdown",
   "id": "ab937a4d-ebb1-4137-b368-421195f28ef7",
   "metadata": {},
   "source": [
    "The p-value is described as something really magical and important. It is used to identify **STATISTICALLY SIGNIFICANT** inputs.\n",
    "\n",
    "A STATISTICALLY SIGNIFICANT input is one that has a p-value typically less than 0.05."
   ]
  },
  {
   "cell_type": "code",
   "execution_count": 36,
   "id": "b3f715a7-04f1-4698-98d1-fd036f171d46",
   "metadata": {},
   "outputs": [
    {
     "data": {
      "text/plain": [
       "Intercept    False\n",
       "x             True\n",
       "dtype: bool"
      ]
     },
     "execution_count": 36,
     "metadata": {},
     "output_type": "execute_result"
    }
   ],
   "source": [
    "lm_fit.pvalues < 0.05"
   ]
  },
  {
   "cell_type": "markdown",
   "id": "477fec78-b1f8-4f4f-b195-5664b2f6d92a",
   "metadata": {},
   "source": [
    "But the p-value is nothing magic or special in fact it can be completely described using a simple graphic!!!\n",
    "\n",
    "Lets visualize the coefficient ESTIMATES as markers in a scatter plot and the CONFIDENCE INTERVALS as error bars.\n",
    "\n",
    "We need to use the matplotlib axis object .errorbar() method to visualize the CI."
   ]
  },
  {
   "cell_type": "code",
   "execution_count": 37,
   "id": "81f8c717-2757-4007-befc-fbeda0c1c99d",
   "metadata": {},
   "outputs": [
    {
     "data": {
      "text/html": [
       "<div>\n",
       "<style scoped>\n",
       "    .dataframe tbody tr th:only-of-type {\n",
       "        vertical-align: middle;\n",
       "    }\n",
       "\n",
       "    .dataframe tbody tr th {\n",
       "        vertical-align: top;\n",
       "    }\n",
       "\n",
       "    .dataframe thead th {\n",
       "        text-align: right;\n",
       "    }\n",
       "</style>\n",
       "<table border=\"1\" class=\"dataframe\">\n",
       "  <thead>\n",
       "    <tr style=\"text-align: right;\">\n",
       "      <th></th>\n",
       "      <th>ci_lwr</th>\n",
       "      <th>ci_upr</th>\n",
       "      <th>estimate</th>\n",
       "      <th>estimate_se</th>\n",
       "    </tr>\n",
       "  </thead>\n",
       "  <tbody>\n",
       "    <tr>\n",
       "      <th>Intercept</th>\n",
       "      <td>-1.351507</td>\n",
       "      <td>0.39846</td>\n",
       "      <td>-0.476523</td>\n",
       "      <td>0.370031</td>\n",
       "    </tr>\n",
       "    <tr>\n",
       "      <th>x</th>\n",
       "      <td>-2.148239</td>\n",
       "      <td>-1.24456</td>\n",
       "      <td>-1.696400</td>\n",
       "      <td>0.191083</td>\n",
       "    </tr>\n",
       "  </tbody>\n",
       "</table>\n",
       "</div>"
      ],
      "text/plain": [
       "             ci_lwr   ci_upr  estimate  estimate_se\n",
       "Intercept -1.351507  0.39846 -0.476523     0.370031\n",
       "x         -2.148239 -1.24456 -1.696400     0.191083"
      ]
     },
     "execution_count": 37,
     "metadata": {},
     "output_type": "execute_result"
    }
   ],
   "source": [
    "coef_fit_info"
   ]
  },
  {
   "cell_type": "code",
   "execution_count": 38,
   "id": "d85b7cb1-b021-4baa-8513-8d58cf9ed0f5",
   "metadata": {},
   "outputs": [
    {
     "data": {
      "text/plain": [
       "Intercept   -0.476523\n",
       "x           -1.696400\n",
       "dtype: float64"
      ]
     },
     "execution_count": 38,
     "metadata": {},
     "output_type": "execute_result"
    }
   ],
   "source": [
    "lm_fit.params"
   ]
  },
  {
   "cell_type": "code",
   "execution_count": 39,
   "id": "024c47f5-72ec-44ef-829f-1ac9f615dce7",
   "metadata": {},
   "outputs": [
    {
     "data": {
      "text/plain": [
       "Intercept    0.370031\n",
       "x            0.191083\n",
       "dtype: float64"
      ]
     },
     "execution_count": 39,
     "metadata": {},
     "output_type": "execute_result"
    }
   ],
   "source": [
    "lm_fit.bse"
   ]
  },
  {
   "cell_type": "code",
   "execution_count": 40,
   "id": "d9fd8d16-4218-4978-a363-763c28aaa286",
   "metadata": {},
   "outputs": [
    {
     "data": {
      "text/html": [
       "<div>\n",
       "<style scoped>\n",
       "    .dataframe tbody tr th:only-of-type {\n",
       "        vertical-align: middle;\n",
       "    }\n",
       "\n",
       "    .dataframe tbody tr th {\n",
       "        vertical-align: top;\n",
       "    }\n",
       "\n",
       "    .dataframe thead th {\n",
       "        text-align: right;\n",
       "    }\n",
       "</style>\n",
       "<table border=\"1\" class=\"dataframe\">\n",
       "  <thead>\n",
       "    <tr style=\"text-align: right;\">\n",
       "      <th></th>\n",
       "      <th>0</th>\n",
       "      <th>1</th>\n",
       "    </tr>\n",
       "  </thead>\n",
       "  <tbody>\n",
       "    <tr>\n",
       "      <th>Intercept</th>\n",
       "      <td>-1.351507</td>\n",
       "      <td>0.39846</td>\n",
       "    </tr>\n",
       "    <tr>\n",
       "      <th>x</th>\n",
       "      <td>-2.148239</td>\n",
       "      <td>-1.24456</td>\n",
       "    </tr>\n",
       "  </tbody>\n",
       "</table>\n",
       "</div>"
      ],
      "text/plain": [
       "                  0        1\n",
       "Intercept -1.351507  0.39846\n",
       "x         -2.148239 -1.24456"
      ]
     },
     "execution_count": 40,
     "metadata": {},
     "output_type": "execute_result"
    }
   ],
   "source": [
    "lm_fit.conf_int()"
   ]
  },
  {
   "cell_type": "markdown",
   "id": "29a871d8-bc14-478f-a53f-a74d61f3bd65",
   "metadata": {},
   "source": [
    "The errorbar() method wants us to provide the VALUE of the ERROR around the MARKER rather than the LIMITS of the INTERVAL. \n",
    "\n",
    "Therefore, I typically create the following **COEFFICIENT PLOT** vis using the approx based on 2 times the standard error."
   ]
  },
  {
   "cell_type": "code",
   "execution_count": 48,
   "id": "16126514-9e2f-420b-b541-4758f0b6e8af",
   "metadata": {},
   "outputs": [
    {
     "data": {
      "image/png": "[encoded data removed]",
      "text/plain": [
       "<Figure size 640x480 with 1 Axes>"
      ]
     },
     "metadata": {},
     "output_type": "display_data"
    }
   ],
   "source": [
    "fig, ax = plt.subplots()\n",
    "\n",
    "### use the errorbar method to show the estimates as markers and CI as errorbars\n",
    "### create a HORIZONTAL errorbar\n",
    "ax.errorbar(y = coef_fit_info.index,\n",
    "           x = coef_fit_info.estimate,\n",
    "           xerr = 2 * coef_fit_info.estimate_se, \n",
    "           fmt=\"o\", color=\"k\", ecolor=\"k\", elinewidth=2, ms=10)\n",
    "\n",
    "### Include vertical reference line at 0\n",
    "ax.axvline(x=0, linestyle=\"--\", linewidth=4, color=\"grey\")\n",
    "\n",
    "### set axis labels\n",
    "ax.set_xlabel(\"coefficient value\")\n",
    "\n",
    "plt.show()"
   ]
  },
  {
   "cell_type": "markdown",
   "id": "9242d460-8c31-482b-b18e-2adedd2cf5ee",
   "metadata": {},
   "source": [
    "If the CI does not contain 0, we are confident in the sign!!\n",
    "\n",
    "The confidence or trustworthiness of the SIGN(NEGATIVE or POSITIVE) of the SLOPE is typically expressed via the p-value."
   ]
  },
  {
   "cell_type": "code",
   "execution_count": 49,
   "id": "1d5cc85e-3e7a-4485-8a96-7e1b6a22d9dc",
   "metadata": {},
   "outputs": [
    {
     "data": {
      "text/plain": [
       "Intercept    0.238754\n",
       "x            0.000047\n",
       "dtype: float64"
      ]
     },
     "execution_count": 49,
     "metadata": {},
     "output_type": "execute_result"
    }
   ],
   "source": [
    "lm_fit.pvalues"
   ]
  },
  {
   "cell_type": "markdown",
   "id": "1fadfac5-14af-4514-b8e8-788190decfed",
   "metadata": {},
   "source": [
    "I will typically use the fitted statsmodels object directly to create the above figure."
   ]
  },
  {
   "cell_type": "code",
   "execution_count": 51,
   "id": "b4c8307f-15fa-4ebc-88ec-9c047e2fdeed",
   "metadata": {},
   "outputs": [
    {
     "data": {
      "image/png": "[encoded data removed]",
      "text/plain": [
       "<Figure size 640x480 with 1 Axes>"
      ]
     },
     "metadata": {},
     "output_type": "display_data"
    }
   ],
   "source": [
    "fig, ax = plt.subplots()\n",
    "\n",
    "### use the errorbar method to show the estimates as markers and CI as errorbars\n",
    "### create a HORIZONTAL errorbar\n",
    "ax.errorbar(y = lm_fit.params.index,\n",
    "           x = lm_fit.params,\n",
    "           xerr = 2 * lm_fit.bse, \n",
    "           fmt=\"o\", color=\"k\", ecolor=\"k\", elinewidth=2, ms=10)\n",
    "\n",
    "### Include vertical reference line at 0\n",
    "ax.axvline(x=0, linestyle=\"--\", linewidth=4, color=\"grey\")\n",
    "\n",
    "### set axis labels\n",
    "ax.set_xlabel(\"coefficient value\")\n",
    "\n",
    "plt.show()"
   ]
  },
  {
   "cell_type": "markdown",
   "id": "c2d03d73-1a41-4651-adda-f87ef53977f6",
   "metadata": {},
   "source": [
    "However, if you want the EXACT 95% CI then we need to do some extra manipulation using the .conf_int() method."
   ]
  },
  {
   "cell_type": "code",
   "execution_count": 52,
   "id": "fbcbad24-56f5-4957-b3ea-a02955b7129e",
   "metadata": {},
   "outputs": [
    {
     "data": {
      "text/html": [
       "<div>\n",
       "<style scoped>\n",
       "    .dataframe tbody tr th:only-of-type {\n",
       "        vertical-align: middle;\n",
       "    }\n",
       "\n",
       "    .dataframe tbody tr th {\n",
       "        vertical-align: top;\n",
       "    }\n",
       "\n",
       "    .dataframe thead th {\n",
       "        text-align: right;\n",
       "    }\n",
       "</style>\n",
       "<table border=\"1\" class=\"dataframe\">\n",
       "  <thead>\n",
       "    <tr style=\"text-align: right;\">\n",
       "      <th></th>\n",
       "      <th>0</th>\n",
       "      <th>1</th>\n",
       "    </tr>\n",
       "  </thead>\n",
       "  <tbody>\n",
       "    <tr>\n",
       "      <th>Intercept</th>\n",
       "      <td>-1.351507</td>\n",
       "      <td>0.39846</td>\n",
       "    </tr>\n",
       "    <tr>\n",
       "      <th>x</th>\n",
       "      <td>-2.148239</td>\n",
       "      <td>-1.24456</td>\n",
       "    </tr>\n",
       "  </tbody>\n",
       "</table>\n",
       "</div>"
      ],
      "text/plain": [
       "                  0        1\n",
       "Intercept -1.351507  0.39846\n",
       "x         -2.148239 -1.24456"
      ]
     },
     "execution_count": 52,
     "metadata": {},
     "output_type": "execute_result"
    }
   ],
   "source": [
    "lm_fit.conf_int()"
   ]
  },
  {
   "cell_type": "code",
   "execution_count": 53,
   "id": "0395137b-7fc3-442d-8c88-11b15abc1aae",
   "metadata": {},
   "outputs": [
    {
     "data": {
      "text/html": [
       "<div>\n",
       "<style scoped>\n",
       "    .dataframe tbody tr th:only-of-type {\n",
       "        vertical-align: middle;\n",
       "    }\n",
       "\n",
       "    .dataframe tbody tr th {\n",
       "        vertical-align: top;\n",
       "    }\n",
       "\n",
       "    .dataframe thead th {\n",
       "        text-align: right;\n",
       "    }\n",
       "</style>\n",
       "<table border=\"1\" class=\"dataframe\">\n",
       "  <thead>\n",
       "    <tr style=\"text-align: right;\">\n",
       "      <th></th>\n",
       "      <th>ci_lwr</th>\n",
       "      <th>ci_upr</th>\n",
       "      <th>estimate</th>\n",
       "      <th>estimate_se</th>\n",
       "    </tr>\n",
       "  </thead>\n",
       "  <tbody>\n",
       "    <tr>\n",
       "      <th>Intercept</th>\n",
       "      <td>-1.351507</td>\n",
       "      <td>0.39846</td>\n",
       "      <td>-0.476523</td>\n",
       "      <td>0.370031</td>\n",
       "    </tr>\n",
       "    <tr>\n",
       "      <th>x</th>\n",
       "      <td>-2.148239</td>\n",
       "      <td>-1.24456</td>\n",
       "      <td>-1.696400</td>\n",
       "      <td>0.191083</td>\n",
       "    </tr>\n",
       "  </tbody>\n",
       "</table>\n",
       "</div>"
      ],
      "text/plain": [
       "             ci_lwr   ci_upr  estimate  estimate_se\n",
       "Intercept -1.351507  0.39846 -0.476523     0.370031\n",
       "x         -2.148239 -1.24456 -1.696400     0.191083"
      ]
     },
     "execution_count": 53,
     "metadata": {},
     "output_type": "execute_result"
    }
   ],
   "source": [
    "coef_fit_info"
   ]
  },
  {
   "cell_type": "markdown",
   "id": "f267e041-c467-411f-b72b-6b8829b1e98c",
   "metadata": {},
   "source": [
    "We need to calculated the lower change on the error bar and the upper change on the error bar around the average."
   ]
  },
  {
   "cell_type": "code",
   "execution_count": 57,
   "id": "e6062b68-c868-4e69-96d6-347a7d0da6c2",
   "metadata": {},
   "outputs": [],
   "source": [
    "coef_fit_info[\"lwr_err\"] = coef_fit_info.estimate - coef_fit_info.ci_lwr\n",
    "coef_fit_info[\"upr_err\"] = coef_fit_info.ci_upr - coef_fit_info.estimate"
   ]
  },
  {
   "cell_type": "code",
   "execution_count": 58,
   "id": "c53377f0-02b6-4acb-8f48-b3d7f3eaba88",
   "metadata": {},
   "outputs": [
    {
     "data": {
      "text/html": [
       "<div>\n",
       "<style scoped>\n",
       "    .dataframe tbody tr th:only-of-type {\n",
       "        vertical-align: middle;\n",
       "    }\n",
       "\n",
       "    .dataframe tbody tr th {\n",
       "        vertical-align: top;\n",
       "    }\n",
       "\n",
       "    .dataframe thead th {\n",
       "        text-align: right;\n",
       "    }\n",
       "</style>\n",
       "<table border=\"1\" class=\"dataframe\">\n",
       "  <thead>\n",
       "    <tr style=\"text-align: right;\">\n",
       "      <th></th>\n",
       "      <th>ci_lwr</th>\n",
       "      <th>ci_upr</th>\n",
       "      <th>estimate</th>\n",
       "      <th>estimate_se</th>\n",
       "      <th>lwr_err</th>\n",
       "      <th>upr_err</th>\n",
       "    </tr>\n",
       "  </thead>\n",
       "  <tbody>\n",
       "    <tr>\n",
       "      <th>Intercept</th>\n",
       "      <td>-1.351507</td>\n",
       "      <td>0.39846</td>\n",
       "      <td>-0.476523</td>\n",
       "      <td>0.370031</td>\n",
       "      <td>0.874984</td>\n",
       "      <td>0.874984</td>\n",
       "    </tr>\n",
       "    <tr>\n",
       "      <th>x</th>\n",
       "      <td>-2.148239</td>\n",
       "      <td>-1.24456</td>\n",
       "      <td>-1.696400</td>\n",
       "      <td>0.191083</td>\n",
       "      <td>0.451840</td>\n",
       "      <td>0.451840</td>\n",
       "    </tr>\n",
       "  </tbody>\n",
       "</table>\n",
       "</div>"
      ],
      "text/plain": [
       "             ci_lwr   ci_upr  estimate  estimate_se   lwr_err   upr_err\n",
       "Intercept -1.351507  0.39846 -0.476523     0.370031  0.874984  0.874984\n",
       "x         -2.148239 -1.24456 -1.696400     0.191083  0.451840  0.451840"
      ]
     },
     "execution_count": 58,
     "metadata": {},
     "output_type": "execute_result"
    }
   ],
   "source": [
    "coef_fit_info"
   ]
  },
  {
   "cell_type": "code",
   "execution_count": 60,
   "id": "237275fc-30be-4f17-b6b9-3675527a023b",
   "metadata": {},
   "outputs": [
    {
     "data": {
      "image/png": "[encoded data removed]",
      "text/plain": [
       "<Figure size 640x480 with 1 Axes>"
      ]
     },
     "metadata": {},
     "output_type": "display_data"
    }
   ],
   "source": [
    "fig, ax = plt.subplots()\n",
    "\n",
    "### use the errorbar method to show the estimates as markers and CI as errorbars\n",
    "### create a HORIZONTAL errorbar\n",
    "ax.errorbar(y = lm_fit.params.index,\n",
    "           x = lm_fit.params,\n",
    "           xerr = [coef_fit_info.lwr_err, coef_fit_info.upr_err], \n",
    "           fmt=\"o\", color=\"k\", ecolor=\"k\", elinewidth=2, ms=10)\n",
    "\n",
    "### Include vertical reference line at 0\n",
    "ax.axvline(x=0, linestyle=\"--\", linewidth=4, color=\"grey\")\n",
    "\n",
    "### set axis labels\n",
    "ax.set_xlabel(\"coefficient value\")\n",
    "\n",
    "plt.show()"
   ]
  },
  {
   "cell_type": "markdown",
   "id": "704c45e6-6cec-450c-b2ac-80e5504ec846",
   "metadata": {},
   "source": [
    "Lets compare our coefficients ESTIMATES to the TRUE coefficients that generated the data!!"
   ]
  },
  {
   "cell_type": "code",
   "execution_count": 61,
   "id": "630eaf00-dcdd-4b9c-aae7-c883c76d6e01",
   "metadata": {},
   "outputs": [
    {
     "data": {
      "text/html": [
       "<div>\n",
       "<style scoped>\n",
       "    .dataframe tbody tr th:only-of-type {\n",
       "        vertical-align: middle;\n",
       "    }\n",
       "\n",
       "    .dataframe tbody tr th {\n",
       "        vertical-align: top;\n",
       "    }\n",
       "\n",
       "    .dataframe thead th {\n",
       "        text-align: right;\n",
       "    }\n",
       "</style>\n",
       "<table border=\"1\" class=\"dataframe\">\n",
       "  <thead>\n",
       "    <tr style=\"text-align: right;\">\n",
       "      <th></th>\n",
       "      <th>x</th>\n",
       "      <th>trend</th>\n",
       "      <th>y</th>\n",
       "      <th>true_intercept</th>\n",
       "      <th>true_slope</th>\n",
       "      <th>true_sigma</th>\n",
       "    </tr>\n",
       "  </thead>\n",
       "  <tbody>\n",
       "    <tr>\n",
       "      <th>0</th>\n",
       "      <td>-3.00</td>\n",
       "      <td>4.750</td>\n",
       "      <td>6.030315</td>\n",
       "      <td>0.25</td>\n",
       "      <td>-1.5</td>\n",
       "      <td>1.25</td>\n",
       "    </tr>\n",
       "    <tr>\n",
       "      <th>1</th>\n",
       "      <td>-2.25</td>\n",
       "      <td>3.625</td>\n",
       "      <td>1.457911</td>\n",
       "      <td>0.25</td>\n",
       "      <td>-1.5</td>\n",
       "      <td>1.25</td>\n",
       "    </tr>\n",
       "    <tr>\n",
       "      <th>2</th>\n",
       "      <td>-1.50</td>\n",
       "      <td>2.500</td>\n",
       "      <td>2.388383</td>\n",
       "      <td>0.25</td>\n",
       "      <td>-1.5</td>\n",
       "      <td>1.25</td>\n",
       "    </tr>\n",
       "    <tr>\n",
       "      <th>3</th>\n",
       "      <td>-0.75</td>\n",
       "      <td>1.375</td>\n",
       "      <td>0.007815</td>\n",
       "      <td>0.25</td>\n",
       "      <td>-1.5</td>\n",
       "      <td>1.25</td>\n",
       "    </tr>\n",
       "    <tr>\n",
       "      <th>4</th>\n",
       "      <td>0.00</td>\n",
       "      <td>0.250</td>\n",
       "      <td>0.651244</td>\n",
       "      <td>0.25</td>\n",
       "      <td>-1.5</td>\n",
       "      <td>1.25</td>\n",
       "    </tr>\n",
       "    <tr>\n",
       "      <th>5</th>\n",
       "      <td>0.75</td>\n",
       "      <td>-0.875</td>\n",
       "      <td>-2.254007</td>\n",
       "      <td>0.25</td>\n",
       "      <td>-1.5</td>\n",
       "      <td>1.25</td>\n",
       "    </tr>\n",
       "    <tr>\n",
       "      <th>6</th>\n",
       "      <td>1.50</td>\n",
       "      <td>-2.000</td>\n",
       "      <td>-2.969992</td>\n",
       "      <td>0.25</td>\n",
       "      <td>-1.5</td>\n",
       "      <td>1.25</td>\n",
       "    </tr>\n",
       "    <tr>\n",
       "      <th>7</th>\n",
       "      <td>2.25</td>\n",
       "      <td>-3.125</td>\n",
       "      <td>-3.537097</td>\n",
       "      <td>0.25</td>\n",
       "      <td>-1.5</td>\n",
       "      <td>1.25</td>\n",
       "    </tr>\n",
       "    <tr>\n",
       "      <th>8</th>\n",
       "      <td>3.00</td>\n",
       "      <td>-4.250</td>\n",
       "      <td>-6.063282</td>\n",
       "      <td>0.25</td>\n",
       "      <td>-1.5</td>\n",
       "      <td>1.25</td>\n",
       "    </tr>\n",
       "  </tbody>\n",
       "</table>\n",
       "</div>"
      ],
      "text/plain": [
       "      x  trend         y  true_intercept  true_slope  true_sigma\n",
       "0 -3.00  4.750  6.030315            0.25        -1.5        1.25\n",
       "1 -2.25  3.625  1.457911            0.25        -1.5        1.25\n",
       "2 -1.50  2.500  2.388383            0.25        -1.5        1.25\n",
       "3 -0.75  1.375  0.007815            0.25        -1.5        1.25\n",
       "4  0.00  0.250  0.651244            0.25        -1.5        1.25\n",
       "5  0.75 -0.875 -2.254007            0.25        -1.5        1.25\n",
       "6  1.50 -2.000 -2.969992            0.25        -1.5        1.25\n",
       "7  2.25 -3.125 -3.537097            0.25        -1.5        1.25\n",
       "8  3.00 -4.250 -6.063282            0.25        -1.5        1.25"
      ]
     },
     "execution_count": 61,
     "metadata": {},
     "output_type": "execute_result"
    }
   ],
   "source": [
    "df"
   ]
  },
  {
   "cell_type": "code",
   "execution_count": 62,
   "id": "a990ad44-360e-4404-a860-251f8915d6ba",
   "metadata": {},
   "outputs": [
    {
     "data": {
      "text/plain": [
       "array([0.25])"
      ]
     },
     "execution_count": 62,
     "metadata": {},
     "output_type": "execute_result"
    }
   ],
   "source": [
    "np.unique(df.true_intercept)"
   ]
  },
  {
   "cell_type": "code",
   "execution_count": 63,
   "id": "1ed5b10e-eae0-40cf-ab06-3e7109c54895",
   "metadata": {},
   "outputs": [
    {
     "data": {
      "text/plain": [
       "array([-1.5])"
      ]
     },
     "execution_count": 63,
     "metadata": {},
     "output_type": "execute_result"
    }
   ],
   "source": [
    "np.unique(df.true_slope)"
   ]
  },
  {
   "cell_type": "code",
   "execution_count": 65,
   "id": "d50eef34-2d4a-4e0a-83d5-b0dd9bcf4d47",
   "metadata": {},
   "outputs": [
    {
     "data": {
      "image/png": "[encoded data removed]",
      "text/plain": [
       "<Figure size 640x480 with 1 Axes>"
      ]
     },
     "metadata": {},
     "output_type": "display_data"
    }
   ],
   "source": [
    "fig, ax = plt.subplots()\n",
    "\n",
    "### use the errorbar method to show the estimates as markers and CI as errorbars\n",
    "### create a HORIZONTAL errorbar\n",
    "ax.errorbar(y = lm_fit.params.index,\n",
    "           x = lm_fit.params,\n",
    "           xerr = [coef_fit_info.lwr_err, coef_fit_info.upr_err], \n",
    "           fmt=\"o\", color=\"k\", ecolor=\"k\", elinewidth=2, ms=10)\n",
    "\n",
    "## Add in the true coefficients as markers that generated the data\n",
    "ax.scatter(y=lm_fit.params.index,\n",
    "           x=[np.unique(df.true_intercept), np.unique(df.true_slope)],\n",
    "           color=\"red\", s=125)\n",
    "\n",
    "### Include vertical reference line at 0\n",
    "ax.axvline(x=0, linestyle=\"--\", linewidth=4, color=\"grey\")\n",
    "\n",
    "### set axis labels\n",
    "ax.set_xlabel(\"coefficient value\")\n",
    "\n",
    "plt.show()"
   ]
  },
  {
   "cell_type": "code",
   "execution_count": null,
   "id": "ae0695c9-12c3-4446-8dd4-0f0f257e9895",
   "metadata": {},
   "outputs": [],
   "source": []
  }
 ],
 "metadata": {
  "kernelspec": {
   "display_name": "Python 3 (ipykernel)",
   "language": "python",
   "name": "python3"
  },
  "language_info": {
   "codemirror_mode": {
    "name": "ipython",
    "version": 3
   },
   "file_extension": ".py",
   "mimetype": "text/x-python",
   "name": "python",
   "nbconvert_exporter": "python",
   "pygments_lexer": "ipython3",
   "version": "3.8.19"
  }
 },
 "nbformat": 4,
 "nbformat_minor": 5
}
