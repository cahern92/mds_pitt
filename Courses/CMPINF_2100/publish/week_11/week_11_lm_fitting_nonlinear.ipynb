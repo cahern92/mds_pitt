{
 "cells": [
  {
   "cell_type": "markdown",
   "id": "841ed269-2d45-4baa-b84c-2711f28a340a",
   "metadata": {},
   "source": [
    "## CMPINF 2100 Week 11\n",
    "### Fitting Linear Models to predict NON-LINEAR output to input relationships\n",
    "Remember a LINEAR MODEL is NOT just straight lines!!!\n",
    "\n",
    "Linear Models can include non-linear FEATURES derived from the inputs!!!!\n",
    "## Import Modules"
   ]
  },
  {
   "cell_type": "code",
   "execution_count": 2,
   "id": "fead9e65-cd53-44a9-a220-40e413199adb",
   "metadata": {},
   "outputs": [],
   "source": [
    "import numpy as np\n",
    "import pandas as pd\n",
    "import matplotlib.pyplot as plt\n",
    "\n",
    "import seaborn as sns"
   ]
  },
  {
   "cell_type": "code",
   "execution_count": 3,
   "id": "2abae706-b27e-48c3-b2d2-e3dc11527424",
   "metadata": {},
   "outputs": [],
   "source": [
    "import statsmodels.formula.api as smf"
   ]
  },
  {
   "cell_type": "markdown",
   "id": "0def1785-c418-4ace-af64-e84798f7371c",
   "metadata": {},
   "source": [
    "## Read data\n",
    "But this time we will read in the NON-LINEAR relationship example."
   ]
  },
  {
   "cell_type": "code",
   "execution_count": 4,
   "id": "1ad2b054-4307-4baa-a450-929a5b9d08e6",
   "metadata": {},
   "outputs": [],
   "source": [
    "df = pd.read_csv(\"week_11_nonlinear_data.csv\")"
   ]
  },
  {
   "cell_type": "code",
   "execution_count": 7,
   "id": "88efedb7-24bc-43d5-9e3c-4d91b405d2c8",
   "metadata": {},
   "outputs": [
    {
     "name": "stdout",
     "output_type": "stream",
     "text": [
      "<class 'pandas.core.frame.DataFrame'>\n",
      "RangeIndex: 15 entries, 0 to 14\n",
      "Data columns (total 6 columns):\n",
      " #   Column          Non-Null Count  Dtype  \n",
      "---  ------          --------------  -----  \n",
      " 0   x               15 non-null     float64\n",
      " 1   trend           15 non-null     float64\n",
      " 2   y               15 non-null     float64\n",
      " 3   true_intercept  15 non-null     float64\n",
      " 4   true_slope      15 non-null     float64\n",
      " 5   true_sigma      15 non-null     float64\n",
      "dtypes: float64(6)\n",
      "memory usage: 848.0 bytes\n"
     ]
    }
   ],
   "source": [
    "df.info()"
   ]
  },
  {
   "cell_type": "markdown",
   "id": "bf83f28d-bb1a-4551-aeb8-89d043ba4206",
   "metadata": {},
   "source": [
    "## Fitting\n",
    "Non-linear features can be directly included within the FORMULA interface.\n",
    "\n",
    "We can apply FUNCTIONS in the STRING FORMULA within the smf.ols function.\n",
    "\n",
    "Instead of the formula reading as `'<OUTPUT> ~ <INPUT>'`, the formula will read as `'<OUTPUT> ~ <FEATURE DERIVED FROM INPUT>'`\n",
    "\n",
    "Lets fit the SINE WAVE where the OUTPUT (really the MEAN OUTPUT) is a FUNCTION of the SINE FUNCTION of the INPUT."
   ]
  },
  {
   "cell_type": "code",
   "execution_count": 8,
   "id": "f38b6269-480a-4ae0-95cb-8b2a0fc27bad",
   "metadata": {},
   "outputs": [],
   "source": [
    "lm_fit = smf.ols(formula='y ~ np.sin(x)', data=df).fit()"
   ]
  },
  {
   "cell_type": "code",
   "execution_count": 9,
   "id": "5d753aaa-f73a-4ec2-a419-4767250b6ab8",
   "metadata": {},
   "outputs": [
    {
     "name": "stderr",
     "output_type": "stream",
     "text": [
      "/Applications/anaconda3/envs/cmpinf2100/lib/python3.8/site-packages/scipy/stats/_stats_py.py:1769: UserWarning: kurtosistest only valid for n>=20 ... continuing anyway, n=15\n",
      "  warnings.warn(\"kurtosistest only valid for n>=20 ... continuing \"\n"
     ]
    },
    {
     "data": {
      "text/html": [
       "<table class=\"simpletable\">\n",
       "<caption>OLS Regression Results</caption>\n",
       "<tr>\n",
       "  <th>Dep. Variable:</th>            <td>y</td>        <th>  R-squared:         </th> <td>   0.969</td>\n",
       "</tr>\n",
       "<tr>\n",
       "  <th>Model:</th>                   <td>OLS</td>       <th>  Adj. R-squared:    </th> <td>   0.967</td>\n",
       "</tr>\n",
       "<tr>\n",
       "  <th>Method:</th>             <td>Least Squares</td>  <th>  F-statistic:       </th> <td>   407.8</td>\n",
       "</tr>\n",
       "<tr>\n",
       "  <th>Date:</th>             <td>Mon, 11 Nov 2024</td> <th>  Prob (F-statistic):</th> <td>3.36e-11</td>\n",
       "</tr>\n",
       "<tr>\n",
       "  <th>Time:</th>                 <td>23:39:39</td>     <th>  Log-Likelihood:    </th> <td> -2.0057</td>\n",
       "</tr>\n",
       "<tr>\n",
       "  <th>No. Observations:</th>      <td>    15</td>      <th>  AIC:               </th> <td>   8.011</td>\n",
       "</tr>\n",
       "<tr>\n",
       "  <th>Df Residuals:</th>          <td>    13</td>      <th>  BIC:               </th> <td>   9.428</td>\n",
       "</tr>\n",
       "<tr>\n",
       "  <th>Df Model:</th>              <td>     1</td>      <th>                     </th>     <td> </td>   \n",
       "</tr>\n",
       "<tr>\n",
       "  <th>Covariance Type:</th>      <td>nonrobust</td>    <th>                     </th>     <td> </td>   \n",
       "</tr>\n",
       "</table>\n",
       "<table class=\"simpletable\">\n",
       "<tr>\n",
       "      <td></td>         <th>coef</th>     <th>std err</th>      <th>t</th>      <th>P>|t|</th>  <th>[0.025</th>    <th>0.975]</th>  \n",
       "</tr>\n",
       "<tr>\n",
       "  <th>Intercept</th> <td>    0.0983</td> <td>    0.077</td> <td>    1.281</td> <td> 0.222</td> <td>   -0.067</td> <td>    0.264</td>\n",
       "</tr>\n",
       "<tr>\n",
       "  <th>np.sin(x)</th> <td>   -2.2167</td> <td>    0.110</td> <td>  -20.194</td> <td> 0.000</td> <td>   -2.454</td> <td>   -1.980</td>\n",
       "</tr>\n",
       "</table>\n",
       "<table class=\"simpletable\">\n",
       "<tr>\n",
       "  <th>Omnibus:</th>       <td> 1.068</td> <th>  Durbin-Watson:     </th> <td>   2.859</td>\n",
       "</tr>\n",
       "<tr>\n",
       "  <th>Prob(Omnibus):</th> <td> 0.586</td> <th>  Jarque-Bera (JB):  </th> <td>   0.853</td>\n",
       "</tr>\n",
       "<tr>\n",
       "  <th>Skew:</th>          <td> 0.321</td> <th>  Prob(JB):          </th> <td>   0.653</td>\n",
       "</tr>\n",
       "<tr>\n",
       "  <th>Kurtosis:</th>      <td> 2.024</td> <th>  Cond. No.          </th> <td>    1.43</td>\n",
       "</tr>\n",
       "</table><br/><br/>Notes:<br/>[1] Standard Errors assume that the covariance matrix of the errors is correctly specified."
      ],
      "text/latex": [
       "\\begin{center}\n",
       "\\begin{tabular}{lclc}\n",
       "\\toprule\n",
       "\\textbf{Dep. Variable:}    &        y         & \\textbf{  R-squared:         } &     0.969   \\\\\n",
       "\\textbf{Model:}            &       OLS        & \\textbf{  Adj. R-squared:    } &     0.967   \\\\\n",
       "\\textbf{Method:}           &  Least Squares   & \\textbf{  F-statistic:       } &     407.8   \\\\\n",
       "\\textbf{Date:}             & Mon, 11 Nov 2024 & \\textbf{  Prob (F-statistic):} &  3.36e-11   \\\\\n",
       "\\textbf{Time:}             &     23:39:39     & \\textbf{  Log-Likelihood:    } &   -2.0057   \\\\\n",
       "\\textbf{No. Observations:} &          15      & \\textbf{  AIC:               } &     8.011   \\\\\n",
       "\\textbf{Df Residuals:}     &          13      & \\textbf{  BIC:               } &     9.428   \\\\\n",
       "\\textbf{Df Model:}         &           1      & \\textbf{                     } &             \\\\\n",
       "\\textbf{Covariance Type:}  &    nonrobust     & \\textbf{                     } &             \\\\\n",
       "\\bottomrule\n",
       "\\end{tabular}\n",
       "\\begin{tabular}{lcccccc}\n",
       "                   & \\textbf{coef} & \\textbf{std err} & \\textbf{t} & \\textbf{P$> |$t$|$} & \\textbf{[0.025} & \\textbf{0.975]}  \\\\\n",
       "\\midrule\n",
       "\\textbf{Intercept} &       0.0983  &        0.077     &     1.281  &         0.222        &       -0.067    &        0.264     \\\\\n",
       "\\textbf{np.sin(x)} &      -2.2167  &        0.110     &   -20.194  &         0.000        &       -2.454    &       -1.980     \\\\\n",
       "\\bottomrule\n",
       "\\end{tabular}\n",
       "\\begin{tabular}{lclc}\n",
       "\\textbf{Omnibus:}       &  1.068 & \\textbf{  Durbin-Watson:     } &    2.859  \\\\\n",
       "\\textbf{Prob(Omnibus):} &  0.586 & \\textbf{  Jarque-Bera (JB):  } &    0.853  \\\\\n",
       "\\textbf{Skew:}          &  0.321 & \\textbf{  Prob(JB):          } &    0.653  \\\\\n",
       "\\textbf{Kurtosis:}      &  2.024 & \\textbf{  Cond. No.          } &     1.43  \\\\\n",
       "\\bottomrule\n",
       "\\end{tabular}\n",
       "%\\caption{OLS Regression Results}\n",
       "\\end{center}\n",
       "\n",
       "Notes: \\newline\n",
       " [1] Standard Errors assume that the covariance matrix of the errors is correctly specified."
      ],
      "text/plain": [
       "<class 'statsmodels.iolib.summary.Summary'>\n",
       "\"\"\"\n",
       "                            OLS Regression Results                            \n",
       "==============================================================================\n",
       "Dep. Variable:                      y   R-squared:                       0.969\n",
       "Model:                            OLS   Adj. R-squared:                  0.967\n",
       "Method:                 Least Squares   F-statistic:                     407.8\n",
       "Date:                Mon, 11 Nov 2024   Prob (F-statistic):           3.36e-11\n",
       "Time:                        23:39:39   Log-Likelihood:                -2.0057\n",
       "No. Observations:                  15   AIC:                             8.011\n",
       "Df Residuals:                      13   BIC:                             9.428\n",
       "Df Model:                           1                                         \n",
       "Covariance Type:            nonrobust                                         \n",
       "==============================================================================\n",
       "                 coef    std err          t      P>|t|      [0.025      0.975]\n",
       "------------------------------------------------------------------------------\n",
       "Intercept      0.0983      0.077      1.281      0.222      -0.067       0.264\n",
       "np.sin(x)     -2.2167      0.110    -20.194      0.000      -2.454      -1.980\n",
       "==============================================================================\n",
       "Omnibus:                        1.068   Durbin-Watson:                   2.859\n",
       "Prob(Omnibus):                  0.586   Jarque-Bera (JB):                0.853\n",
       "Skew:                           0.321   Prob(JB):                        0.653\n",
       "Kurtosis:                       2.024   Cond. No.                         1.43\n",
       "==============================================================================\n",
       "\n",
       "Notes:\n",
       "[1] Standard Errors assume that the covariance matrix of the errors is correctly specified.\n",
       "\"\"\""
      ]
     },
     "execution_count": 9,
     "metadata": {},
     "output_type": "execute_result"
    }
   ],
   "source": [
    "lm_fit.summary()"
   ]
  },
  {
   "cell_type": "code",
   "execution_count": 10,
   "id": "e422facd-a83c-4ae7-82dc-3200a82c2bb4",
   "metadata": {},
   "outputs": [
    {
     "name": "stdout",
     "output_type": "stream",
     "text": [
      "                            OLS Regression Results                            \n",
      "==============================================================================\n",
      "Dep. Variable:                      y   R-squared:                       0.969\n",
      "Model:                            OLS   Adj. R-squared:                  0.967\n",
      "Method:                 Least Squares   F-statistic:                     407.8\n",
      "Date:                Mon, 11 Nov 2024   Prob (F-statistic):           3.36e-11\n",
      "Time:                        23:40:22   Log-Likelihood:                -2.0057\n",
      "No. Observations:                  15   AIC:                             8.011\n",
      "Df Residuals:                      13   BIC:                             9.428\n",
      "Df Model:                           1                                         \n",
      "Covariance Type:            nonrobust                                         \n",
      "==============================================================================\n",
      "                 coef    std err          t      P>|t|      [0.025      0.975]\n",
      "------------------------------------------------------------------------------\n",
      "Intercept      0.0983      0.077      1.281      0.222      -0.067       0.264\n",
      "np.sin(x)     -2.2167      0.110    -20.194      0.000      -2.454      -1.980\n",
      "==============================================================================\n",
      "Omnibus:                        1.068   Durbin-Watson:                   2.859\n",
      "Prob(Omnibus):                  0.586   Jarque-Bera (JB):                0.853\n",
      "Skew:                           0.321   Prob(JB):                        0.653\n",
      "Kurtosis:                       2.024   Cond. No.                         1.43\n",
      "==============================================================================\n",
      "\n",
      "Notes:\n",
      "[1] Standard Errors assume that the covariance matrix of the errors is correctly specified.\n"
     ]
    },
    {
     "name": "stderr",
     "output_type": "stream",
     "text": [
      "/Applications/anaconda3/envs/cmpinf2100/lib/python3.8/site-packages/scipy/stats/_stats_py.py:1769: UserWarning: kurtosistest only valid for n>=20 ... continuing anyway, n=15\n",
      "  warnings.warn(\"kurtosistest only valid for n>=20 ... continuing \"\n"
     ]
    }
   ],
   "source": [
    "print(lm_fit.summary())"
   ]
  },
  {
   "cell_type": "markdown",
   "id": "f9447b38-4dc4-4369-b809-0cd21bd96eda",
   "metadata": {},
   "source": [
    "This LINEAR MODEL uses a NON-LINEAR FEATURE derived from the INPUT!!!\n",
    "\n",
    "The TREND is related to that FEATURE rather than that INPUT directly!!!\n",
    "\n",
    "$$\\mu = \\beta_0 + \\beta_1 \\times sin(x) $$"
   ]
  },
  {
   "cell_type": "code",
   "execution_count": 11,
   "id": "d890e2e8-d37f-40e7-8e03-d76ccc8beccf",
   "metadata": {},
   "outputs": [
    {
     "data": {
      "text/plain": [
       "Intercept    0.098301\n",
       "np.sin(x)   -2.216698\n",
       "dtype: float64"
      ]
     },
     "execution_count": 11,
     "metadata": {},
     "output_type": "execute_result"
    }
   ],
   "source": [
    "lm_fit.params"
   ]
  },
  {
   "cell_type": "code",
   "execution_count": 12,
   "id": "e632a393-b268-4e25-966b-7251fdf9e735",
   "metadata": {},
   "outputs": [
    {
     "data": {
      "text/plain": [
       "Intercept    0.076712\n",
       "np.sin(x)    0.109770\n",
       "dtype: float64"
      ]
     },
     "execution_count": 12,
     "metadata": {},
     "output_type": "execute_result"
    }
   ],
   "source": [
    "lm_fit.bse"
   ]
  },
  {
   "cell_type": "code",
   "execution_count": 13,
   "id": "27f12afc-2037-4e3c-845f-95a2e99ffe7c",
   "metadata": {},
   "outputs": [
    {
     "data": {
      "text/plain": [
       "Intercept    2.224278e-01\n",
       "np.sin(x)    3.362554e-11\n",
       "dtype: float64"
      ]
     },
     "execution_count": 13,
     "metadata": {},
     "output_type": "execute_result"
    }
   ],
   "source": [
    "lm_fit.pvalues"
   ]
  },
  {
   "cell_type": "code",
   "execution_count": 16,
   "id": "d9803fb4-1603-4a91-b6ed-d96c5e867edb",
   "metadata": {},
   "outputs": [
    {
     "data": {
      "text/html": [
       "<div>\n",
       "<style scoped>\n",
       "    .dataframe tbody tr th:only-of-type {\n",
       "        vertical-align: middle;\n",
       "    }\n",
       "\n",
       "    .dataframe tbody tr th {\n",
       "        vertical-align: top;\n",
       "    }\n",
       "\n",
       "    .dataframe thead th {\n",
       "        text-align: right;\n",
       "    }\n",
       "</style>\n",
       "<table border=\"1\" class=\"dataframe\">\n",
       "  <thead>\n",
       "    <tr style=\"text-align: right;\">\n",
       "      <th></th>\n",
       "      <th>ci_lwr</th>\n",
       "      <th>ci_upr</th>\n",
       "    </tr>\n",
       "  </thead>\n",
       "  <tbody>\n",
       "    <tr>\n",
       "      <th>Intercept</th>\n",
       "      <td>-0.067425</td>\n",
       "      <td>0.264027</td>\n",
       "    </tr>\n",
       "    <tr>\n",
       "      <th>np.sin(x)</th>\n",
       "      <td>-2.453842</td>\n",
       "      <td>-1.979555</td>\n",
       "    </tr>\n",
       "  </tbody>\n",
       "</table>\n",
       "</div>"
      ],
      "text/plain": [
       "             ci_lwr    ci_upr\n",
       "Intercept -0.067425  0.264027\n",
       "np.sin(x) -2.453842 -1.979555"
      ]
     },
     "execution_count": 16,
     "metadata": {},
     "output_type": "execute_result"
    }
   ],
   "source": [
    "lm_fit.conf_int().rename(columns={0:\"ci_lwr\", 1:\"ci_upr\"})"
   ]
  },
  {
   "cell_type": "markdown",
   "id": "df53b4dc-759b-4e1f-90de-11d876362aa1",
   "metadata": {},
   "source": [
    "I prefer to visualize the COEFFICIENT SUMMARIES with a COEFFICIENT PLOT.\n",
    "\n",
    "Lets create the plot using the approx to the 95% CI. "
   ]
  },
  {
   "cell_type": "code",
   "execution_count": 21,
   "id": "7e008d41-5f5f-4ef1-83bc-e8413bdc8d2a",
   "metadata": {},
   "outputs": [
    {
     "data": {
      "image/png": "[encoded data removed]",
      "text/plain": [
       "<Figure size 640x480 with 1 Axes>"
      ]
     },
     "metadata": {},
     "output_type": "display_data"
    }
   ],
   "source": [
    "fig, ax = plt.subplots()\n",
    "\n",
    "ax.errorbar(y =lm_fit.params.index,\n",
    "           x = lm_fit.params,\n",
    "           xerr=2*lm_fit.bse,\n",
    "           fmt=\"o\",\n",
    "           color=\"k\",\n",
    "           ecolor=\"k\",\n",
    "           elinewidth=2, ms=10)\n",
    "\n",
    "ax.axvline(x=0, linestyle=\"--\", linewidth=4, color=\"grey\")\n",
    "\n",
    "ax.set_xlabel(\"coefficient values\")\n",
    "\n",
    "plt.show()"
   ]
  },
  {
   "cell_type": "markdown",
   "id": "d66a5485-a10d-4fc8-9183-742d0662c295",
   "metadata": {},
   "source": [
    "Because we know the real answers or the TRUE coefficients for this problem, lets compare the estimates to the TRUE values."
   ]
  },
  {
   "cell_type": "code",
   "execution_count": 26,
   "id": "9d22c376-d438-42ee-8d27-fed067f5343e",
   "metadata": {},
   "outputs": [
    {
     "data": {
      "image/png": "[encoded data removed]",
      "text/plain": [
       "<Figure size 640x480 with 1 Axes>"
      ]
     },
     "metadata": {},
     "output_type": "display_data"
    }
   ],
   "source": [
    "fig, ax = plt.subplots()\n",
    "\n",
    "ax.errorbar(y =lm_fit.params.index,\n",
    "           x = lm_fit.params,\n",
    "           xerr=2*lm_fit.bse,\n",
    "           fmt=\"o\",\n",
    "           color=\"k\",\n",
    "           ecolor=\"k\",\n",
    "           elinewidth=2, ms=10)\n",
    "\n",
    "ax.axvline(x=0, linestyle=\"--\", linewidth=4, color=\"grey\")\n",
    "\n",
    "ax.scatter(y=lm_fit.params.index,\n",
    "           x=[np.unique(df.true_intercept), np.unique(df.true_slope)],\n",
    "           color=\"r\", s=125)\n",
    "\n",
    "ax.set_xlabel(\"coefficient values\")\n",
    "\n",
    "plt.show()"
   ]
  },
  {
   "cell_type": "code",
   "execution_count": 27,
   "id": "0720e071-303e-4ab2-8907-eecf762294e2",
   "metadata": {},
   "outputs": [
    {
     "data": {
      "text/html": [
       "<div>\n",
       "<style scoped>\n",
       "    .dataframe tbody tr th:only-of-type {\n",
       "        vertical-align: middle;\n",
       "    }\n",
       "\n",
       "    .dataframe tbody tr th {\n",
       "        vertical-align: top;\n",
       "    }\n",
       "\n",
       "    .dataframe thead th {\n",
       "        text-align: right;\n",
       "    }\n",
       "</style>\n",
       "<table border=\"1\" class=\"dataframe\">\n",
       "  <thead>\n",
       "    <tr style=\"text-align: right;\">\n",
       "      <th></th>\n",
       "      <th>x</th>\n",
       "      <th>trend</th>\n",
       "      <th>y</th>\n",
       "      <th>true_intercept</th>\n",
       "      <th>true_slope</th>\n",
       "      <th>true_sigma</th>\n",
       "    </tr>\n",
       "  </thead>\n",
       "  <tbody>\n",
       "    <tr>\n",
       "      <th>0</th>\n",
       "      <td>-3.000000</td>\n",
       "      <td>0.567520</td>\n",
       "      <td>0.905523</td>\n",
       "      <td>0.25</td>\n",
       "      <td>-2.25</td>\n",
       "      <td>0.33</td>\n",
       "    </tr>\n",
       "    <tr>\n",
       "      <th>1</th>\n",
       "      <td>-2.571429</td>\n",
       "      <td>1.464483</td>\n",
       "      <td>0.892371</td>\n",
       "      <td>0.25</td>\n",
       "      <td>-2.25</td>\n",
       "      <td>0.33</td>\n",
       "    </tr>\n",
       "    <tr>\n",
       "      <th>2</th>\n",
       "      <td>-2.142857</td>\n",
       "      <td>2.141771</td>\n",
       "      <td>2.112304</td>\n",
       "      <td>0.25</td>\n",
       "      <td>-2.25</td>\n",
       "      <td>0.33</td>\n",
       "    </tr>\n",
       "    <tr>\n",
       "      <th>3</th>\n",
       "      <td>-1.714286</td>\n",
       "      <td>2.476877</td>\n",
       "      <td>2.115940</td>\n",
       "      <td>0.25</td>\n",
       "      <td>-2.25</td>\n",
       "      <td>0.33</td>\n",
       "    </tr>\n",
       "    <tr>\n",
       "      <th>4</th>\n",
       "      <td>-1.285714</td>\n",
       "      <td>2.409187</td>\n",
       "      <td>2.515115</td>\n",
       "      <td>0.25</td>\n",
       "      <td>-2.25</td>\n",
       "      <td>0.33</td>\n",
       "    </tr>\n",
       "    <tr>\n",
       "      <th>5</th>\n",
       "      <td>-0.857143</td>\n",
       "      <td>1.950945</td>\n",
       "      <td>1.586887</td>\n",
       "      <td>0.25</td>\n",
       "      <td>-2.25</td>\n",
       "      <td>0.33</td>\n",
       "    </tr>\n",
       "    <tr>\n",
       "      <th>6</th>\n",
       "      <td>-0.428571</td>\n",
       "      <td>1.185037</td>\n",
       "      <td>0.928959</td>\n",
       "      <td>0.25</td>\n",
       "      <td>-2.25</td>\n",
       "      <td>0.33</td>\n",
       "    </tr>\n",
       "    <tr>\n",
       "      <th>7</th>\n",
       "      <td>0.000000</td>\n",
       "      <td>0.250000</td>\n",
       "      <td>0.141207</td>\n",
       "      <td>0.25</td>\n",
       "      <td>-2.25</td>\n",
       "      <td>0.33</td>\n",
       "    </tr>\n",
       "    <tr>\n",
       "      <th>8</th>\n",
       "      <td>0.428571</td>\n",
       "      <td>-0.685037</td>\n",
       "      <td>-1.163743</td>\n",
       "      <td>0.25</td>\n",
       "      <td>-2.25</td>\n",
       "      <td>0.33</td>\n",
       "    </tr>\n",
       "    <tr>\n",
       "      <th>9</th>\n",
       "      <td>0.857143</td>\n",
       "      <td>-1.450945</td>\n",
       "      <td>-1.098146</td>\n",
       "      <td>0.25</td>\n",
       "      <td>-2.25</td>\n",
       "      <td>0.33</td>\n",
       "    </tr>\n",
       "    <tr>\n",
       "      <th>10</th>\n",
       "      <td>1.285714</td>\n",
       "      <td>-1.909187</td>\n",
       "      <td>-1.975983</td>\n",
       "      <td>0.25</td>\n",
       "      <td>-2.25</td>\n",
       "      <td>0.33</td>\n",
       "    </tr>\n",
       "    <tr>\n",
       "      <th>11</th>\n",
       "      <td>1.714286</td>\n",
       "      <td>-1.976877</td>\n",
       "      <td>-2.401257</td>\n",
       "      <td>0.25</td>\n",
       "      <td>-2.25</td>\n",
       "      <td>0.33</td>\n",
       "    </tr>\n",
       "    <tr>\n",
       "      <th>12</th>\n",
       "      <td>2.142857</td>\n",
       "      <td>-1.641771</td>\n",
       "      <td>-1.705361</td>\n",
       "      <td>0.25</td>\n",
       "      <td>-2.25</td>\n",
       "      <td>0.33</td>\n",
       "    </tr>\n",
       "    <tr>\n",
       "      <th>13</th>\n",
       "      <td>2.571429</td>\n",
       "      <td>-0.964483</td>\n",
       "      <td>-1.366627</td>\n",
       "      <td>0.25</td>\n",
       "      <td>-2.25</td>\n",
       "      <td>0.33</td>\n",
       "    </tr>\n",
       "    <tr>\n",
       "      <th>14</th>\n",
       "      <td>3.000000</td>\n",
       "      <td>-0.067520</td>\n",
       "      <td>-0.012675</td>\n",
       "      <td>0.25</td>\n",
       "      <td>-2.25</td>\n",
       "      <td>0.33</td>\n",
       "    </tr>\n",
       "  </tbody>\n",
       "</table>\n",
       "</div>"
      ],
      "text/plain": [
       "           x     trend         y  true_intercept  true_slope  true_sigma\n",
       "0  -3.000000  0.567520  0.905523            0.25       -2.25        0.33\n",
       "1  -2.571429  1.464483  0.892371            0.25       -2.25        0.33\n",
       "2  -2.142857  2.141771  2.112304            0.25       -2.25        0.33\n",
       "3  -1.714286  2.476877  2.115940            0.25       -2.25        0.33\n",
       "4  -1.285714  2.409187  2.515115            0.25       -2.25        0.33\n",
       "5  -0.857143  1.950945  1.586887            0.25       -2.25        0.33\n",
       "6  -0.428571  1.185037  0.928959            0.25       -2.25        0.33\n",
       "7   0.000000  0.250000  0.141207            0.25       -2.25        0.33\n",
       "8   0.428571 -0.685037 -1.163743            0.25       -2.25        0.33\n",
       "9   0.857143 -1.450945 -1.098146            0.25       -2.25        0.33\n",
       "10  1.285714 -1.909187 -1.975983            0.25       -2.25        0.33\n",
       "11  1.714286 -1.976877 -2.401257            0.25       -2.25        0.33\n",
       "12  2.142857 -1.641771 -1.705361            0.25       -2.25        0.33\n",
       "13  2.571429 -0.964483 -1.366627            0.25       -2.25        0.33\n",
       "14  3.000000 -0.067520 -0.012675            0.25       -2.25        0.33"
      ]
     },
     "execution_count": 27,
     "metadata": {},
     "output_type": "execute_result"
    }
   ],
   "source": [
    "df"
   ]
  },
  {
   "cell_type": "code",
   "execution_count": null,
   "id": "2bba654b-a165-4feb-85e1-212b0f0d6cbb",
   "metadata": {},
   "outputs": [],
   "source": []
  },
  {
   "cell_type": "code",
   "execution_count": null,
   "id": "c0840a48-a455-4391-ba9d-511e3ce20bff",
   "metadata": {},
   "outputs": [],
   "source": []
  }
 ],
 "metadata": {
  "kernelspec": {
   "display_name": "Python 3 (ipykernel)",
   "language": "python",
   "name": "python3"
  },
  "language_info": {
   "codemirror_mode": {
    "name": "ipython",
    "version": 3
   },
   "file_extension": ".py",
   "mimetype": "text/x-python",
   "name": "python",
   "nbconvert_exporter": "python",
   "pygments_lexer": "ipython3",
   "version": "3.8.19"
  }
 },
 "nbformat": 4,
 "nbformat_minor": 5
}
