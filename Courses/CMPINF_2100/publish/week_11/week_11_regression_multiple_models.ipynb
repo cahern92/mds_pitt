{
 "cells": [
  {
   "cell_type": "markdown",
   "id": "13326147-c416-4fb5-87ba-cdbaee558484",
   "metadata": {},
   "source": [
    "## CMPINF 2100 Week 11\n",
    "### Fitting Multiple Regression Models\n",
    "Fit different linear models to the NON-LINEAR relationship data.\n",
    "## Import Modules"
   ]
  },
  {
   "cell_type": "code",
   "execution_count": 18,
   "id": "f132ab0a-7069-4100-9f60-467fad4ccdc5",
   "metadata": {},
   "outputs": [],
   "source": [
    "import numpy as np\n",
    "import pandas as pd\n",
    "import matplotlib.pyplot as plt\n",
    "\n",
    "import seaborn as sns"
   ]
  },
  {
   "cell_type": "code",
   "execution_count": 2,
   "id": "a8d82bb3-3045-417f-ba98-e2d89ce94f24",
   "metadata": {},
   "outputs": [],
   "source": [
    "import statsmodels.formula.api as smf"
   ]
  },
  {
   "cell_type": "markdown",
   "id": "e320c2a3-44a3-4759-884a-95084b0e4af7",
   "metadata": {},
   "source": [
    "## Read data"
   ]
  },
  {
   "cell_type": "code",
   "execution_count": 3,
   "id": "97abbd2f-f38c-42f6-a954-9c533415fa4d",
   "metadata": {},
   "outputs": [],
   "source": [
    "df = pd.read_csv(\"week_11_nonlinear_data.csv\")"
   ]
  },
  {
   "cell_type": "code",
   "execution_count": 4,
   "id": "6bb58dfa-bda7-4fe7-b8b1-683318b1f6f8",
   "metadata": {},
   "outputs": [
    {
     "name": "stdout",
     "output_type": "stream",
     "text": [
      "<class 'pandas.core.frame.DataFrame'>\n",
      "RangeIndex: 15 entries, 0 to 14\n",
      "Data columns (total 6 columns):\n",
      " #   Column          Non-Null Count  Dtype  \n",
      "---  ------          --------------  -----  \n",
      " 0   x               15 non-null     float64\n",
      " 1   trend           15 non-null     float64\n",
      " 2   y               15 non-null     float64\n",
      " 3   true_intercept  15 non-null     float64\n",
      " 4   true_slope      15 non-null     float64\n",
      " 5   true_sigma      15 non-null     float64\n",
      "dtypes: float64(6)\n",
      "memory usage: 848.0 bytes\n"
     ]
    }
   ],
   "source": [
    "df.info()"
   ]
  },
  {
   "cell_type": "code",
   "execution_count": 5,
   "id": "c83b56a5-eb77-49ca-8ba3-a8be15193542",
   "metadata": {},
   "outputs": [
    {
     "data": {
      "text/html": [
       "<div>\n",
       "<style scoped>\n",
       "    .dataframe tbody tr th:only-of-type {\n",
       "        vertical-align: middle;\n",
       "    }\n",
       "\n",
       "    .dataframe tbody tr th {\n",
       "        vertical-align: top;\n",
       "    }\n",
       "\n",
       "    .dataframe thead th {\n",
       "        text-align: right;\n",
       "    }\n",
       "</style>\n",
       "<table border=\"1\" class=\"dataframe\">\n",
       "  <thead>\n",
       "    <tr style=\"text-align: right;\">\n",
       "      <th></th>\n",
       "      <th>x</th>\n",
       "      <th>trend</th>\n",
       "      <th>y</th>\n",
       "      <th>true_intercept</th>\n",
       "      <th>true_slope</th>\n",
       "      <th>true_sigma</th>\n",
       "    </tr>\n",
       "  </thead>\n",
       "  <tbody>\n",
       "    <tr>\n",
       "      <th>0</th>\n",
       "      <td>-3.000000</td>\n",
       "      <td>0.567520</td>\n",
       "      <td>0.905523</td>\n",
       "      <td>0.25</td>\n",
       "      <td>-2.25</td>\n",
       "      <td>0.33</td>\n",
       "    </tr>\n",
       "    <tr>\n",
       "      <th>1</th>\n",
       "      <td>-2.571429</td>\n",
       "      <td>1.464483</td>\n",
       "      <td>0.892371</td>\n",
       "      <td>0.25</td>\n",
       "      <td>-2.25</td>\n",
       "      <td>0.33</td>\n",
       "    </tr>\n",
       "    <tr>\n",
       "      <th>2</th>\n",
       "      <td>-2.142857</td>\n",
       "      <td>2.141771</td>\n",
       "      <td>2.112304</td>\n",
       "      <td>0.25</td>\n",
       "      <td>-2.25</td>\n",
       "      <td>0.33</td>\n",
       "    </tr>\n",
       "    <tr>\n",
       "      <th>3</th>\n",
       "      <td>-1.714286</td>\n",
       "      <td>2.476877</td>\n",
       "      <td>2.115940</td>\n",
       "      <td>0.25</td>\n",
       "      <td>-2.25</td>\n",
       "      <td>0.33</td>\n",
       "    </tr>\n",
       "    <tr>\n",
       "      <th>4</th>\n",
       "      <td>-1.285714</td>\n",
       "      <td>2.409187</td>\n",
       "      <td>2.515115</td>\n",
       "      <td>0.25</td>\n",
       "      <td>-2.25</td>\n",
       "      <td>0.33</td>\n",
       "    </tr>\n",
       "    <tr>\n",
       "      <th>5</th>\n",
       "      <td>-0.857143</td>\n",
       "      <td>1.950945</td>\n",
       "      <td>1.586887</td>\n",
       "      <td>0.25</td>\n",
       "      <td>-2.25</td>\n",
       "      <td>0.33</td>\n",
       "    </tr>\n",
       "    <tr>\n",
       "      <th>6</th>\n",
       "      <td>-0.428571</td>\n",
       "      <td>1.185037</td>\n",
       "      <td>0.928959</td>\n",
       "      <td>0.25</td>\n",
       "      <td>-2.25</td>\n",
       "      <td>0.33</td>\n",
       "    </tr>\n",
       "    <tr>\n",
       "      <th>7</th>\n",
       "      <td>0.000000</td>\n",
       "      <td>0.250000</td>\n",
       "      <td>0.141207</td>\n",
       "      <td>0.25</td>\n",
       "      <td>-2.25</td>\n",
       "      <td>0.33</td>\n",
       "    </tr>\n",
       "    <tr>\n",
       "      <th>8</th>\n",
       "      <td>0.428571</td>\n",
       "      <td>-0.685037</td>\n",
       "      <td>-1.163743</td>\n",
       "      <td>0.25</td>\n",
       "      <td>-2.25</td>\n",
       "      <td>0.33</td>\n",
       "    </tr>\n",
       "    <tr>\n",
       "      <th>9</th>\n",
       "      <td>0.857143</td>\n",
       "      <td>-1.450945</td>\n",
       "      <td>-1.098146</td>\n",
       "      <td>0.25</td>\n",
       "      <td>-2.25</td>\n",
       "      <td>0.33</td>\n",
       "    </tr>\n",
       "    <tr>\n",
       "      <th>10</th>\n",
       "      <td>1.285714</td>\n",
       "      <td>-1.909187</td>\n",
       "      <td>-1.975983</td>\n",
       "      <td>0.25</td>\n",
       "      <td>-2.25</td>\n",
       "      <td>0.33</td>\n",
       "    </tr>\n",
       "    <tr>\n",
       "      <th>11</th>\n",
       "      <td>1.714286</td>\n",
       "      <td>-1.976877</td>\n",
       "      <td>-2.401257</td>\n",
       "      <td>0.25</td>\n",
       "      <td>-2.25</td>\n",
       "      <td>0.33</td>\n",
       "    </tr>\n",
       "    <tr>\n",
       "      <th>12</th>\n",
       "      <td>2.142857</td>\n",
       "      <td>-1.641771</td>\n",
       "      <td>-1.705361</td>\n",
       "      <td>0.25</td>\n",
       "      <td>-2.25</td>\n",
       "      <td>0.33</td>\n",
       "    </tr>\n",
       "    <tr>\n",
       "      <th>13</th>\n",
       "      <td>2.571429</td>\n",
       "      <td>-0.964483</td>\n",
       "      <td>-1.366627</td>\n",
       "      <td>0.25</td>\n",
       "      <td>-2.25</td>\n",
       "      <td>0.33</td>\n",
       "    </tr>\n",
       "    <tr>\n",
       "      <th>14</th>\n",
       "      <td>3.000000</td>\n",
       "      <td>-0.067520</td>\n",
       "      <td>-0.012675</td>\n",
       "      <td>0.25</td>\n",
       "      <td>-2.25</td>\n",
       "      <td>0.33</td>\n",
       "    </tr>\n",
       "  </tbody>\n",
       "</table>\n",
       "</div>"
      ],
      "text/plain": [
       "           x     trend         y  true_intercept  true_slope  true_sigma\n",
       "0  -3.000000  0.567520  0.905523            0.25       -2.25        0.33\n",
       "1  -2.571429  1.464483  0.892371            0.25       -2.25        0.33\n",
       "2  -2.142857  2.141771  2.112304            0.25       -2.25        0.33\n",
       "3  -1.714286  2.476877  2.115940            0.25       -2.25        0.33\n",
       "4  -1.285714  2.409187  2.515115            0.25       -2.25        0.33\n",
       "5  -0.857143  1.950945  1.586887            0.25       -2.25        0.33\n",
       "6  -0.428571  1.185037  0.928959            0.25       -2.25        0.33\n",
       "7   0.000000  0.250000  0.141207            0.25       -2.25        0.33\n",
       "8   0.428571 -0.685037 -1.163743            0.25       -2.25        0.33\n",
       "9   0.857143 -1.450945 -1.098146            0.25       -2.25        0.33\n",
       "10  1.285714 -1.909187 -1.975983            0.25       -2.25        0.33\n",
       "11  1.714286 -1.976877 -2.401257            0.25       -2.25        0.33\n",
       "12  2.142857 -1.641771 -1.705361            0.25       -2.25        0.33\n",
       "13  2.571429 -0.964483 -1.366627            0.25       -2.25        0.33\n",
       "14  3.000000 -0.067520 -0.012675            0.25       -2.25        0.33"
      ]
     },
     "execution_count": 5,
     "metadata": {},
     "output_type": "execute_result"
    }
   ],
   "source": [
    "df"
   ]
  },
  {
   "cell_type": "markdown",
   "id": "94bb779e-766e-44b7-b137-19ca48a0b780",
   "metadata": {},
   "source": [
    "Lets pretend we **DO NOT** know the REAL relationship between the input and the TREND!!!\n",
    "\n",
    "So lets pretend this is a REAL APPLICATION!!!\n",
    "\n"
   ]
  },
  {
   "cell_type": "code",
   "execution_count": 6,
   "id": "83909ba5-7662-4adc-aa60-9a7a58e99468",
   "metadata": {},
   "outputs": [],
   "source": [
    "df_train = df.loc[:, [\"x\", \"y\"]].copy()"
   ]
  },
  {
   "cell_type": "code",
   "execution_count": 7,
   "id": "81144999-f659-4fa6-a87e-d7b62c7de81b",
   "metadata": {},
   "outputs": [
    {
     "data": {
      "text/html": [
       "<div>\n",
       "<style scoped>\n",
       "    .dataframe tbody tr th:only-of-type {\n",
       "        vertical-align: middle;\n",
       "    }\n",
       "\n",
       "    .dataframe tbody tr th {\n",
       "        vertical-align: top;\n",
       "    }\n",
       "\n",
       "    .dataframe thead th {\n",
       "        text-align: right;\n",
       "    }\n",
       "</style>\n",
       "<table border=\"1\" class=\"dataframe\">\n",
       "  <thead>\n",
       "    <tr style=\"text-align: right;\">\n",
       "      <th></th>\n",
       "      <th>x</th>\n",
       "      <th>y</th>\n",
       "    </tr>\n",
       "  </thead>\n",
       "  <tbody>\n",
       "    <tr>\n",
       "      <th>0</th>\n",
       "      <td>-3.000000</td>\n",
       "      <td>0.905523</td>\n",
       "    </tr>\n",
       "    <tr>\n",
       "      <th>1</th>\n",
       "      <td>-2.571429</td>\n",
       "      <td>0.892371</td>\n",
       "    </tr>\n",
       "    <tr>\n",
       "      <th>2</th>\n",
       "      <td>-2.142857</td>\n",
       "      <td>2.112304</td>\n",
       "    </tr>\n",
       "    <tr>\n",
       "      <th>3</th>\n",
       "      <td>-1.714286</td>\n",
       "      <td>2.115940</td>\n",
       "    </tr>\n",
       "    <tr>\n",
       "      <th>4</th>\n",
       "      <td>-1.285714</td>\n",
       "      <td>2.515115</td>\n",
       "    </tr>\n",
       "    <tr>\n",
       "      <th>5</th>\n",
       "      <td>-0.857143</td>\n",
       "      <td>1.586887</td>\n",
       "    </tr>\n",
       "    <tr>\n",
       "      <th>6</th>\n",
       "      <td>-0.428571</td>\n",
       "      <td>0.928959</td>\n",
       "    </tr>\n",
       "    <tr>\n",
       "      <th>7</th>\n",
       "      <td>0.000000</td>\n",
       "      <td>0.141207</td>\n",
       "    </tr>\n",
       "    <tr>\n",
       "      <th>8</th>\n",
       "      <td>0.428571</td>\n",
       "      <td>-1.163743</td>\n",
       "    </tr>\n",
       "    <tr>\n",
       "      <th>9</th>\n",
       "      <td>0.857143</td>\n",
       "      <td>-1.098146</td>\n",
       "    </tr>\n",
       "    <tr>\n",
       "      <th>10</th>\n",
       "      <td>1.285714</td>\n",
       "      <td>-1.975983</td>\n",
       "    </tr>\n",
       "    <tr>\n",
       "      <th>11</th>\n",
       "      <td>1.714286</td>\n",
       "      <td>-2.401257</td>\n",
       "    </tr>\n",
       "    <tr>\n",
       "      <th>12</th>\n",
       "      <td>2.142857</td>\n",
       "      <td>-1.705361</td>\n",
       "    </tr>\n",
       "    <tr>\n",
       "      <th>13</th>\n",
       "      <td>2.571429</td>\n",
       "      <td>-1.366627</td>\n",
       "    </tr>\n",
       "    <tr>\n",
       "      <th>14</th>\n",
       "      <td>3.000000</td>\n",
       "      <td>-0.012675</td>\n",
       "    </tr>\n",
       "  </tbody>\n",
       "</table>\n",
       "</div>"
      ],
      "text/plain": [
       "           x         y\n",
       "0  -3.000000  0.905523\n",
       "1  -2.571429  0.892371\n",
       "2  -2.142857  2.112304\n",
       "3  -1.714286  2.115940\n",
       "4  -1.285714  2.515115\n",
       "5  -0.857143  1.586887\n",
       "6  -0.428571  0.928959\n",
       "7   0.000000  0.141207\n",
       "8   0.428571 -1.163743\n",
       "9   0.857143 -1.098146\n",
       "10  1.285714 -1.975983\n",
       "11  1.714286 -2.401257\n",
       "12  2.142857 -1.705361\n",
       "13  2.571429 -1.366627\n",
       "14  3.000000 -0.012675"
      ]
     },
     "execution_count": 7,
     "metadata": {},
     "output_type": "execute_result"
    }
   ],
   "source": [
    "df_train"
   ]
  },
  {
   "cell_type": "markdown",
   "id": "46d52d67-2148-44bd-8faf-f36e1b547b8b",
   "metadata": {},
   "source": [
    "## Fit linear models\n",
    "We need to decide the KIND of relationships or **FEATURES** to use to predict the TREND (average output) using the INPUTS.\n",
    "\n",
    "The SIMPLEST POSSIBLE linear model is... an UNKNOWN CONSTANT AVERAGE or INTERCEPT ONLY model!!!\n",
    "\n",
    "Lets fit this simplest model!"
   ]
  },
  {
   "cell_type": "code",
   "execution_count": 8,
   "id": "a18aa01e-5899-41e2-a759-a692313fa6dc",
   "metadata": {},
   "outputs": [],
   "source": [
    "mod_00 = smf.ols(formula=\"y ~ 1\", data=df_train).fit()"
   ]
  },
  {
   "cell_type": "code",
   "execution_count": 9,
   "id": "86d2436a-0125-49cd-a3ac-1ca2766163a4",
   "metadata": {},
   "outputs": [
    {
     "data": {
      "text/plain": [
       "Intercept    0.098301\n",
       "dtype: float64"
      ]
     },
     "execution_count": 9,
     "metadata": {},
     "output_type": "execute_result"
    }
   ],
   "source": [
    "mod_00.params"
   ]
  },
  {
   "cell_type": "code",
   "execution_count": 10,
   "id": "97967694-e749-4d3b-9fbc-9d103dcf2307",
   "metadata": {},
   "outputs": [
    {
     "data": {
      "text/plain": [
       "Intercept    0.420567\n",
       "dtype: float64"
      ]
     },
     "execution_count": 10,
     "metadata": {},
     "output_type": "execute_result"
    }
   ],
   "source": [
    "mod_00.bse"
   ]
  },
  {
   "cell_type": "code",
   "execution_count": 11,
   "id": "96acaf7f-27e7-4bb5-8767-6c68793be1da",
   "metadata": {},
   "outputs": [
    {
     "data": {
      "text/html": [
       "<div>\n",
       "<style scoped>\n",
       "    .dataframe tbody tr th:only-of-type {\n",
       "        vertical-align: middle;\n",
       "    }\n",
       "\n",
       "    .dataframe tbody tr th {\n",
       "        vertical-align: top;\n",
       "    }\n",
       "\n",
       "    .dataframe thead th {\n",
       "        text-align: right;\n",
       "    }\n",
       "</style>\n",
       "<table border=\"1\" class=\"dataframe\">\n",
       "  <thead>\n",
       "    <tr style=\"text-align: right;\">\n",
       "      <th></th>\n",
       "      <th>0</th>\n",
       "      <th>1</th>\n",
       "    </tr>\n",
       "  </thead>\n",
       "  <tbody>\n",
       "    <tr>\n",
       "      <th>Intercept</th>\n",
       "      <td>-0.803726</td>\n",
       "      <td>1.000328</td>\n",
       "    </tr>\n",
       "  </tbody>\n",
       "</table>\n",
       "</div>"
      ],
      "text/plain": [
       "                  0         1\n",
       "Intercept -0.803726  1.000328"
      ]
     },
     "execution_count": 11,
     "metadata": {},
     "output_type": "execute_result"
    }
   ],
   "source": [
    "mod_00.conf_int()"
   ]
  },
  {
   "cell_type": "code",
   "execution_count": 13,
   "id": "c9181ff1-ec79-4623-992d-fa3cde87f966",
   "metadata": {},
   "outputs": [
    {
     "data": {
      "text/plain": [
       "Intercept    0.818575\n",
       "dtype: float64"
      ]
     },
     "execution_count": 13,
     "metadata": {},
     "output_type": "execute_result"
    }
   ],
   "source": [
    "mod_00.pvalues"
   ]
  },
  {
   "cell_type": "code",
   "execution_count": 19,
   "id": "2ef4eb8a-0838-4c1e-9abc-ce4dfd526f56",
   "metadata": {},
   "outputs": [],
   "source": [
    "def my_coefplot(mod, figsize_use=(10,4)):\n",
    "    fig, ax = plt.subplots(figsize=figsize_use)\n",
    "\n",
    "    ax.errorbar(y=mod.params.index,\n",
    "               x=mod.params,\n",
    "               xerr=2*mod.bse, fmt=\"o\", color=\"k\", ecolor=\"k\", elinewidth=2, ms=10)\n",
    "\n",
    "    ax.axvline(x=0, linestyle=\"--\", linewidth=3.5, color=\"grey\")\n",
    "\n",
    "    ax.set_xlabel(\"coefficient value\")\n",
    "\n",
    "    plt.show()"
   ]
  },
  {
   "cell_type": "code",
   "execution_count": 20,
   "id": "71e42979-ecf1-4886-abe0-916bc931bb3f",
   "metadata": {},
   "outputs": [
    {
     "data": {
      "image/png": "[encoded data removed]",
      "text/plain": [
       "<Figure size 1000x400 with 1 Axes>"
      ]
     },
     "metadata": {},
     "output_type": "display_data"
    }
   ],
   "source": [
    "my_coefplot(mod_00)"
   ]
  },
  {
   "cell_type": "code",
   "execution_count": 22,
   "id": "c4e8dfc7-185e-47de-aafd-46a256e90906",
   "metadata": {},
   "outputs": [
    {
     "data": {
      "text/plain": [
       "0.0"
      ]
     },
     "execution_count": 22,
     "metadata": {},
     "output_type": "execute_result"
    }
   ],
   "source": [
    "mod_00.rsquared"
   ]
  },
  {
   "cell_type": "code",
   "execution_count": 23,
   "id": "dc6b3dc7-bab3-4c4d-bb55-664728471a4b",
   "metadata": {},
   "outputs": [
    {
     "data": {
      "text/plain": [
       "0     0.807222\n",
       "1     0.794071\n",
       "2     2.014003\n",
       "3     2.017639\n",
       "4     2.416814\n",
       "5     1.488586\n",
       "6     0.830658\n",
       "7     0.042906\n",
       "8    -1.262044\n",
       "9    -1.196447\n",
       "10   -2.074284\n",
       "11   -2.499558\n",
       "12   -1.803662\n",
       "13   -1.464928\n",
       "14   -0.110976\n",
       "dtype: float64"
      ]
     },
     "execution_count": 23,
     "metadata": {},
     "output_type": "execute_result"
    }
   ],
   "source": [
    "mod_00.resid"
   ]
  },
  {
   "cell_type": "code",
   "execution_count": 29,
   "id": "08f05326-7031-4474-b42c-3c0136c533f0",
   "metadata": {},
   "outputs": [
    {
     "data": {
      "text/plain": [
       "1.388253114968245"
      ]
     },
     "execution_count": 29,
     "metadata": {},
     "output_type": "execute_result"
    }
   ],
   "source": [
    "np.abs(mod_00.resid).mean()"
   ]
  },
  {
   "cell_type": "code",
   "execution_count": 30,
   "id": "7451a47e-3902-4b8d-8c9c-6f1ff93db085",
   "metadata": {},
   "outputs": [
    {
     "data": {
      "text/plain": [
       "1.5736190458159056"
      ]
     },
     "execution_count": 30,
     "metadata": {},
     "output_type": "execute_result"
    }
   ],
   "source": [
    "np.sqrt((mod_00.resid**2).mean())"
   ]
  },
  {
   "cell_type": "markdown",
   "id": "39ce2d0a-bd0d-4744-bab0-7912ed785292",
   "metadata": {},
   "source": [
    "The question becomes...can we DO BETTER than the INTERCEPT ONLY MODEL!!!\n",
    "\n",
    "Lets start with the linear relationship or the classic best fit line!!"
   ]
  },
  {
   "cell_type": "code",
   "execution_count": 31,
   "id": "3eb48622-a998-41b5-b352-75af699c15d9",
   "metadata": {},
   "outputs": [],
   "source": [
    "mod_01 = smf.ols(formula=\"y ~ x\", data=df_train).fit()"
   ]
  },
  {
   "cell_type": "code",
   "execution_count": 32,
   "id": "82f7a174-0d41-44d4-b9b4-709e80c60fdb",
   "metadata": {},
   "outputs": [
    {
     "data": {
      "image/png": "[encoded data removed]",
      "text/plain": [
       "<Figure size 1000x400 with 1 Axes>"
      ]
     },
     "metadata": {},
     "output_type": "display_data"
    }
   ],
   "source": [
    "my_coefplot(mod_01)"
   ]
  },
  {
   "cell_type": "code",
   "execution_count": 33,
   "id": "9e2fa45b-304f-40df-8f8b-15a385dd0df2",
   "metadata": {},
   "outputs": [
    {
     "name": "stderr",
     "output_type": "stream",
     "text": [
      "/Applications/anaconda3/envs/cmpinf2100/lib/python3.8/site-packages/seaborn/axisgrid.py:123: UserWarning: The figure layout has changed to tight\n",
      "  self._figure.tight_layout(*args, **kwargs)\n"
     ]
    },
    {
     "data": {
      "image/png": "[encoded data removed]",
      "text/plain": [
       "<Figure size 500x500 with 1 Axes>"
      ]
     },
     "metadata": {},
     "output_type": "display_data"
    }
   ],
   "source": [
    "sns.relplot(data=df_train, x=\"x\", y=\"y\")\n",
    "\n",
    "plt.show()"
   ]
  },
  {
   "cell_type": "code",
   "execution_count": 34,
   "id": "c2097f37-fb7e-4e1c-bf09-0e21261e9253",
   "metadata": {},
   "outputs": [
    {
     "data": {
      "text/plain": [
       "Intercept    False\n",
       "x             True\n",
       "dtype: bool"
      ]
     },
     "execution_count": 34,
     "metadata": {},
     "output_type": "execute_result"
    }
   ],
   "source": [
    "mod_01.pvalues < 0.05"
   ]
  },
  {
   "cell_type": "code",
   "execution_count": 35,
   "id": "a8d07b5e-57d3-42d3-9082-23cd8206e1ae",
   "metadata": {},
   "outputs": [
    {
     "name": "stderr",
     "output_type": "stream",
     "text": [
      "/Applications/anaconda3/envs/cmpinf2100/lib/python3.8/site-packages/seaborn/axisgrid.py:123: UserWarning: The figure layout has changed to tight\n",
      "  self._figure.tight_layout(*args, **kwargs)\n"
     ]
    },
    {
     "data": {
      "image/png": "[encoded data removed]",
      "text/plain": [
       "<Figure size 500x500 with 1 Axes>"
      ]
     },
     "metadata": {},
     "output_type": "display_data"
    }
   ],
   "source": [
    "sns.lmplot(data=df_train, x=\"x\", y=\"y\")\n",
    "\n",
    "plt.show()"
   ]
  },
  {
   "cell_type": "code",
   "execution_count": 51,
   "id": "04af0436-4dc0-42fd-afc5-b93e0f65180c",
   "metadata": {},
   "outputs": [
    {
     "data": {
      "text/plain": [
       "0.5860983726427409"
      ]
     },
     "execution_count": 51,
     "metadata": {},
     "output_type": "execute_result"
    }
   ],
   "source": [
    "mod_01.rsquared"
   ]
  },
  {
   "cell_type": "code",
   "execution_count": 52,
   "id": "e21e21f2-a9ae-4bb8-a598-cab568032b4b",
   "metadata": {},
   "outputs": [
    {
     "data": {
      "text/plain": [
       "True"
      ]
     },
     "execution_count": 52,
     "metadata": {},
     "output_type": "execute_result"
    }
   ],
   "source": [
    "mod_01.rsquared > mod_00.rsquared"
   ]
  },
  {
   "cell_type": "code",
   "execution_count": 49,
   "id": "5fa07417-3d61-4923-aac6-9a84d83f6c2e",
   "metadata": {},
   "outputs": [
    {
     "data": {
      "text/plain": [
       "1.012390754233682"
      ]
     },
     "execution_count": 49,
     "metadata": {},
     "output_type": "execute_result"
    }
   ],
   "source": [
    "np.sqrt((mod_01.resid**2).mean())"
   ]
  },
  {
   "cell_type": "code",
   "execution_count": 57,
   "id": "f8b10302-eeb5-47ce-81fe-eded04ae5306",
   "metadata": {},
   "outputs": [
    {
     "data": {
      "text/plain": [
       "True"
      ]
     },
     "execution_count": 57,
     "metadata": {},
     "output_type": "execute_result"
    }
   ],
   "source": [
    "np.sqrt((mod_01.resid**2).mean()) < np.sqrt((mod_00.resid**2).mean())"
   ]
  },
  {
   "cell_type": "code",
   "execution_count": 48,
   "id": "241f52c5-5389-4c61-82e5-9c46f8bac36e",
   "metadata": {},
   "outputs": [
    {
     "data": {
      "text/plain": [
       "0.8902701612247027"
      ]
     },
     "execution_count": 48,
     "metadata": {},
     "output_type": "execute_result"
    }
   ],
   "source": [
    "np.abs(mod_01.resid).mean()"
   ]
  },
  {
   "cell_type": "code",
   "execution_count": 56,
   "id": "ec944f74-29bb-444b-ad5e-ec979b9cbd2d",
   "metadata": {},
   "outputs": [
    {
     "data": {
      "text/plain": [
       "True"
      ]
     },
     "execution_count": 56,
     "metadata": {},
     "output_type": "execute_result"
    }
   ],
   "source": [
    "np.abs(mod_01.resid).mean() < np.abs(mod_00.resid).mean()"
   ]
  },
  {
   "cell_type": "code",
   "execution_count": 55,
   "id": "47b381e2-da53-4bff-9f35-d30746864f40",
   "metadata": {},
   "outputs": [
    {
     "name": "stdout",
     "output_type": "stream",
     "text": [
      "                            OLS Regression Results                            \n",
      "==============================================================================\n",
      "Dep. Variable:                      y   R-squared:                       0.586\n",
      "Model:                            OLS   Adj. R-squared:                  0.554\n",
      "Method:                 Least Squares   F-statistic:                     18.41\n",
      "Date:                Tue, 12 Nov 2024   Prob (F-statistic):           0.000879\n",
      "Time:                        22:16:53   Log-Likelihood:                -21.469\n",
      "No. Observations:                  15   AIC:                             46.94\n",
      "Df Residuals:                      13   BIC:                             48.35\n",
      "Df Model:                           1                                         \n",
      "Covariance Type:            nonrobust                                         \n",
      "==============================================================================\n",
      "                 coef    std err          t      P>|t|      [0.025      0.975]\n",
      "------------------------------------------------------------------------------\n",
      "Intercept      0.0983      0.281      0.350      0.732      -0.508       0.705\n",
      "x             -0.6506      0.152     -4.291      0.001      -0.978      -0.323\n",
      "==============================================================================\n",
      "Omnibus:                        1.872   Durbin-Watson:                   0.600\n",
      "Prob(Omnibus):                  0.392   Jarque-Bera (JB):                1.032\n",
      "Skew:                           0.266   Prob(JB):                        0.597\n",
      "Kurtosis:                       1.830   Cond. No.                         1.85\n",
      "==============================================================================\n",
      "\n",
      "Notes:\n",
      "[1] Standard Errors assume that the covariance matrix of the errors is correctly specified.\n"
     ]
    }
   ],
   "source": [
    "print(mod_01.summary())"
   ]
  },
  {
   "cell_type": "markdown",
   "id": "c7856814-a07c-4214-a7c4-933a31f2b00a",
   "metadata": {},
   "source": [
    "We can also try a QUADRATIC or 2nd degree polynomial model!!!"
   ]
  },
  {
   "cell_type": "code",
   "execution_count": 58,
   "id": "fcebad9b-cf53-4b1a-aba4-009b909e5583",
   "metadata": {},
   "outputs": [],
   "source": [
    "mod_02 = smf.ols(formula=\"y ~ x + np.power(x, 2)\", data=df_train).fit()"
   ]
  },
  {
   "cell_type": "code",
   "execution_count": 60,
   "id": "e029b7a3-48ce-4aa8-91fc-52c47bc888cd",
   "metadata": {},
   "outputs": [
    {
     "data": {
      "text/plain": [
       "Intercept         0.047021\n",
       "x                -0.650621\n",
       "np.power(x, 2)    0.014957\n",
       "dtype: float64"
      ]
     },
     "execution_count": 60,
     "metadata": {},
     "output_type": "execute_result"
    }
   ],
   "source": [
    "mod_02.params"
   ]
  },
  {
   "cell_type": "code",
   "execution_count": 61,
   "id": "42d82bcd-cb63-4955-acfc-8a3ecac8a0ce",
   "metadata": {},
   "outputs": [
    {
     "data": {
      "image/png": "[encoded data removed]",
      "text/plain": [
       "<Figure size 1000x400 with 1 Axes>"
      ]
     },
     "metadata": {},
     "output_type": "display_data"
    }
   ],
   "source": [
    "my_coefplot(mod_02)"
   ]
  },
  {
   "cell_type": "code",
   "execution_count": 63,
   "id": "db456461-1363-4638-b81f-820280f68381",
   "metadata": {},
   "outputs": [
    {
     "data": {
      "text/plain": [
       "0.5869365534260478"
      ]
     },
     "execution_count": 63,
     "metadata": {},
     "output_type": "execute_result"
    }
   ],
   "source": [
    "mod_02.rsquared"
   ]
  },
  {
   "cell_type": "markdown",
   "id": "b4d2a989-45a7-4477-8d3f-026e823558e8",
   "metadata": {},
   "source": [
    "But we can also use a CUBIC relationship!!!"
   ]
  },
  {
   "cell_type": "code",
   "execution_count": 67,
   "id": "9183050d-5adb-403d-be55-ccd649c9d5e5",
   "metadata": {},
   "outputs": [],
   "source": [
    "mod_03 = smf.ols(formula=\"y ~ x + np.power(x, 2) + np.power(x, 3)\", data=df_train).fit()"
   ]
  },
  {
   "cell_type": "code",
   "execution_count": 68,
   "id": "31040edb-2953-4143-83ef-824abf18a1fa",
   "metadata": {},
   "outputs": [
    {
     "data": {
      "image/png": "[encoded data removed]",
      "text/plain": [
       "<Figure size 1000x400 with 1 Axes>"
      ]
     },
     "metadata": {},
     "output_type": "display_data"
    }
   ],
   "source": [
    "my_coefplot(mod_03)"
   ]
  },
  {
   "cell_type": "code",
   "execution_count": 70,
   "id": "536f4c49-c500-47a1-b364-c99e333ff24e",
   "metadata": {},
   "outputs": [
    {
     "data": {
      "text/plain": [
       "0.9622808922386508"
      ]
     },
     "execution_count": 70,
     "metadata": {},
     "output_type": "execute_result"
    }
   ],
   "source": [
    "mod_03.rsquared"
   ]
  },
  {
   "cell_type": "code",
   "execution_count": 71,
   "id": "72c790e4-bfbc-4eda-a769-ef6068faa069",
   "metadata": {},
   "outputs": [
    {
     "data": {
      "text/plain": [
       "True"
      ]
     },
     "execution_count": 71,
     "metadata": {},
     "output_type": "execute_result"
    }
   ],
   "source": [
    "mod_03.rsquared > mod_01.rsquared"
   ]
  },
  {
   "cell_type": "code",
   "execution_count": 72,
   "id": "af5626bc-a6d4-42e6-b11d-8b6d0b44309b",
   "metadata": {},
   "outputs": [
    {
     "data": {
      "text/plain": [
       "True"
      ]
     },
     "execution_count": 72,
     "metadata": {},
     "output_type": "execute_result"
    }
   ],
   "source": [
    "np.sqrt((mod_03.resid**2).mean()) < np.sqrt((mod_01.resid**2).mean())"
   ]
  },
  {
   "cell_type": "code",
   "execution_count": 73,
   "id": "fba7a94d-6cf6-4465-a515-f541718d4326",
   "metadata": {},
   "outputs": [
    {
     "data": {
      "text/plain": [
       "0.305618970761196"
      ]
     },
     "execution_count": 73,
     "metadata": {},
     "output_type": "execute_result"
    }
   ],
   "source": [
    "np.sqrt((mod_03.resid**2).mean())"
   ]
  },
  {
   "cell_type": "code",
   "execution_count": 74,
   "id": "df4ecd1f-a3c9-4428-adb9-cbbde95102f1",
   "metadata": {},
   "outputs": [
    {
     "data": {
      "text/plain": [
       "1.012390754233682"
      ]
     },
     "execution_count": 74,
     "metadata": {},
     "output_type": "execute_result"
    }
   ],
   "source": [
    "np.sqrt((mod_01.resid**2).mean())"
   ]
  },
  {
   "cell_type": "code",
   "execution_count": 75,
   "id": "61ac2df3-50cf-412c-9ef0-9767d3e02b80",
   "metadata": {},
   "outputs": [
    {
     "name": "stderr",
     "output_type": "stream",
     "text": [
      "/Applications/anaconda3/envs/cmpinf2100/lib/python3.8/site-packages/seaborn/axisgrid.py:123: UserWarning: The figure layout has changed to tight\n",
      "  self._figure.tight_layout(*args, **kwargs)\n"
     ]
    },
    {
     "data": {
      "image/png": "[encoded data removed]",
      "text/plain": [
       "<Figure size 500x500 with 1 Axes>"
      ]
     },
     "metadata": {},
     "output_type": "display_data"
    }
   ],
   "source": [
    "sns.lmplot(data=df_train, x=\"x\", y=\"y\", order=3)\n",
    "\n",
    "plt.show()"
   ]
  },
  {
   "cell_type": "markdown",
   "id": "97438542-46ab-4fef-9761-55e5cb7921aa",
   "metadata": {},
   "source": [
    "But we will revisit...the question of which model is better."
   ]
  },
  {
   "cell_type": "code",
   "execution_count": null,
   "id": "8c5ddf1f-71cc-4ac1-b3e9-a6151257ed6e",
   "metadata": {},
   "outputs": [],
   "source": []
  }
 ],
 "metadata": {
  "kernelspec": {
   "display_name": "Python 3 (ipykernel)",
   "language": "python",
   "name": "python3"
  },
  "language_info": {
   "codemirror_mode": {
    "name": "ipython",
    "version": 3
   },
   "file_extension": ".py",
   "mimetype": "text/x-python",
   "name": "python",
   "nbconvert_exporter": "python",
   "pygments_lexer": "ipython3",
   "version": "3.8.19"
  }
 },
 "nbformat": 4,
 "nbformat_minor": 5
}
