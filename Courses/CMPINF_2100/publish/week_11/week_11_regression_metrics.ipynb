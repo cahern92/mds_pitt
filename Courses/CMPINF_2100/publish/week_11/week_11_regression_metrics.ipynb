{
 "cells": [
  {
   "cell_type": "markdown",
   "id": "a7aec80f-6b0b-4bb8-98b1-b67a58ffa109",
   "metadata": {},
   "source": [
    "## CMPINF 2100 Week 11\n",
    "### Regression Performance Metrics\n",
    "We will calc the perf metrics for a LINEAR MODEL but these metrics can be used even if you are using more advanced models for Regression.\n",
    "## Import Modules"
   ]
  },
  {
   "cell_type": "code",
   "execution_count": 1,
   "id": "d573d876-df92-4294-b911-9a9e6a2d1ece",
   "metadata": {},
   "outputs": [],
   "source": [
    "import numpy as np\n",
    "import pandas as pd\n",
    "import matplotlib.pyplot as plt\n",
    "\n",
    "import seaborn as sns"
   ]
  },
  {
   "cell_type": "code",
   "execution_count": 6,
   "id": "43d5832b-aec0-430f-9a06-00a8e449c0a1",
   "metadata": {},
   "outputs": [],
   "source": [
    "import statsmodels.formula.api as smf"
   ]
  },
  {
   "cell_type": "markdown",
   "id": "b34413c0-47e9-46cf-b421-37d48b95c5a0",
   "metadata": {},
   "source": [
    "## Read data\n",
    "We will use the LINEAR RELATIONSHIP data set for this notebook."
   ]
  },
  {
   "cell_type": "code",
   "execution_count": 3,
   "id": "c0696ff5-7a13-4fba-9101-dbc48e6a8fbd",
   "metadata": {},
   "outputs": [],
   "source": [
    "df = pd.read_csv(\"week_11_linear_data.csv\")"
   ]
  },
  {
   "cell_type": "code",
   "execution_count": 4,
   "id": "3f7cd076-e4ad-4960-906b-269a59bed9c3",
   "metadata": {},
   "outputs": [
    {
     "data": {
      "text/html": [
       "<div>\n",
       "<style scoped>\n",
       "    .dataframe tbody tr th:only-of-type {\n",
       "        vertical-align: middle;\n",
       "    }\n",
       "\n",
       "    .dataframe tbody tr th {\n",
       "        vertical-align: top;\n",
       "    }\n",
       "\n",
       "    .dataframe thead th {\n",
       "        text-align: right;\n",
       "    }\n",
       "</style>\n",
       "<table border=\"1\" class=\"dataframe\">\n",
       "  <thead>\n",
       "    <tr style=\"text-align: right;\">\n",
       "      <th></th>\n",
       "      <th>x</th>\n",
       "      <th>trend</th>\n",
       "      <th>y</th>\n",
       "      <th>true_intercept</th>\n",
       "      <th>true_slope</th>\n",
       "      <th>true_sigma</th>\n",
       "    </tr>\n",
       "  </thead>\n",
       "  <tbody>\n",
       "    <tr>\n",
       "      <th>0</th>\n",
       "      <td>-3.00</td>\n",
       "      <td>4.750</td>\n",
       "      <td>6.030315</td>\n",
       "      <td>0.25</td>\n",
       "      <td>-1.5</td>\n",
       "      <td>1.25</td>\n",
       "    </tr>\n",
       "    <tr>\n",
       "      <th>1</th>\n",
       "      <td>-2.25</td>\n",
       "      <td>3.625</td>\n",
       "      <td>1.457911</td>\n",
       "      <td>0.25</td>\n",
       "      <td>-1.5</td>\n",
       "      <td>1.25</td>\n",
       "    </tr>\n",
       "    <tr>\n",
       "      <th>2</th>\n",
       "      <td>-1.50</td>\n",
       "      <td>2.500</td>\n",
       "      <td>2.388383</td>\n",
       "      <td>0.25</td>\n",
       "      <td>-1.5</td>\n",
       "      <td>1.25</td>\n",
       "    </tr>\n",
       "    <tr>\n",
       "      <th>3</th>\n",
       "      <td>-0.75</td>\n",
       "      <td>1.375</td>\n",
       "      <td>0.007815</td>\n",
       "      <td>0.25</td>\n",
       "      <td>-1.5</td>\n",
       "      <td>1.25</td>\n",
       "    </tr>\n",
       "    <tr>\n",
       "      <th>4</th>\n",
       "      <td>0.00</td>\n",
       "      <td>0.250</td>\n",
       "      <td>0.651244</td>\n",
       "      <td>0.25</td>\n",
       "      <td>-1.5</td>\n",
       "      <td>1.25</td>\n",
       "    </tr>\n",
       "    <tr>\n",
       "      <th>5</th>\n",
       "      <td>0.75</td>\n",
       "      <td>-0.875</td>\n",
       "      <td>-2.254007</td>\n",
       "      <td>0.25</td>\n",
       "      <td>-1.5</td>\n",
       "      <td>1.25</td>\n",
       "    </tr>\n",
       "    <tr>\n",
       "      <th>6</th>\n",
       "      <td>1.50</td>\n",
       "      <td>-2.000</td>\n",
       "      <td>-2.969992</td>\n",
       "      <td>0.25</td>\n",
       "      <td>-1.5</td>\n",
       "      <td>1.25</td>\n",
       "    </tr>\n",
       "    <tr>\n",
       "      <th>7</th>\n",
       "      <td>2.25</td>\n",
       "      <td>-3.125</td>\n",
       "      <td>-3.537097</td>\n",
       "      <td>0.25</td>\n",
       "      <td>-1.5</td>\n",
       "      <td>1.25</td>\n",
       "    </tr>\n",
       "    <tr>\n",
       "      <th>8</th>\n",
       "      <td>3.00</td>\n",
       "      <td>-4.250</td>\n",
       "      <td>-6.063282</td>\n",
       "      <td>0.25</td>\n",
       "      <td>-1.5</td>\n",
       "      <td>1.25</td>\n",
       "    </tr>\n",
       "  </tbody>\n",
       "</table>\n",
       "</div>"
      ],
      "text/plain": [
       "      x  trend         y  true_intercept  true_slope  true_sigma\n",
       "0 -3.00  4.750  6.030315            0.25        -1.5        1.25\n",
       "1 -2.25  3.625  1.457911            0.25        -1.5        1.25\n",
       "2 -1.50  2.500  2.388383            0.25        -1.5        1.25\n",
       "3 -0.75  1.375  0.007815            0.25        -1.5        1.25\n",
       "4  0.00  0.250  0.651244            0.25        -1.5        1.25\n",
       "5  0.75 -0.875 -2.254007            0.25        -1.5        1.25\n",
       "6  1.50 -2.000 -2.969992            0.25        -1.5        1.25\n",
       "7  2.25 -3.125 -3.537097            0.25        -1.5        1.25\n",
       "8  3.00 -4.250 -6.063282            0.25        -1.5        1.25"
      ]
     },
     "execution_count": 4,
     "metadata": {},
     "output_type": "execute_result"
    }
   ],
   "source": [
    "df"
   ]
  },
  {
   "cell_type": "markdown",
   "id": "5672b4b6-3736-45ed-9bbc-15bbc0176472",
   "metadata": {},
   "source": [
    "## Fit the linear model"
   ]
  },
  {
   "cell_type": "code",
   "execution_count": 7,
   "id": "ff5334ba-dfb9-4e2e-8ba7-de8eaf4c50ca",
   "metadata": {},
   "outputs": [],
   "source": [
    "lm_fit = smf.ols(formula=\"y ~ x\", data=df).fit()"
   ]
  },
  {
   "cell_type": "code",
   "execution_count": 9,
   "id": "d411b910-ca91-46f4-ae68-ad244f5aedc7",
   "metadata": {},
   "outputs": [
    {
     "name": "stdout",
     "output_type": "stream",
     "text": [
      "                            OLS Regression Results                            \n",
      "==============================================================================\n",
      "Dep. Variable:                      y   R-squared:                       0.918\n",
      "Model:                            OLS   Adj. R-squared:                  0.907\n",
      "Method:                 Least Squares   F-statistic:                     78.82\n",
      "Date:                Tue, 12 Nov 2024   Prob (F-statistic):           4.66e-05\n",
      "Time:                        16:37:17   Log-Likelihood:                -12.580\n",
      "No. Observations:                   9   AIC:                             29.16\n",
      "Df Residuals:                       7   BIC:                             29.55\n",
      "Df Model:                           1                                         \n",
      "Covariance Type:            nonrobust                                         \n",
      "==============================================================================\n",
      "                 coef    std err          t      P>|t|      [0.025      0.975]\n",
      "------------------------------------------------------------------------------\n",
      "Intercept     -0.4765      0.370     -1.288      0.239      -1.352       0.398\n",
      "x             -1.6964      0.191     -8.878      0.000      -2.148      -1.245\n",
      "==============================================================================\n",
      "Omnibus:                        0.301   Durbin-Watson:                   2.978\n",
      "Prob(Omnibus):                  0.860   Jarque-Bera (JB):                0.330\n",
      "Skew:                          -0.315   Prob(JB):                        0.848\n",
      "Kurtosis:                       2.306   Cond. No.                         1.94\n",
      "==============================================================================\n",
      "\n",
      "Notes:\n",
      "[1] Standard Errors assume that the covariance matrix of the errors is correctly specified.\n"
     ]
    },
    {
     "name": "stderr",
     "output_type": "stream",
     "text": [
      "/Applications/anaconda3/envs/cmpinf2100/lib/python3.8/site-packages/scipy/stats/_stats_py.py:1769: UserWarning: kurtosistest only valid for n>=20 ... continuing anyway, n=9\n",
      "  warnings.warn(\"kurtosistest only valid for n>=20 ... continuing \"\n"
     ]
    }
   ],
   "source": [
    "print(lm_fit.summary())"
   ]
  },
  {
   "cell_type": "code",
   "execution_count": 10,
   "id": "160a15b7-a07b-4cd7-9283-c9a7231e0257",
   "metadata": {},
   "outputs": [
    {
     "data": {
      "text/plain": [
       "Intercept   -0.476523\n",
       "x           -1.696400\n",
       "dtype: float64"
      ]
     },
     "execution_count": 10,
     "metadata": {},
     "output_type": "execute_result"
    }
   ],
   "source": [
    "lm_fit.params"
   ]
  },
  {
   "cell_type": "code",
   "execution_count": 11,
   "id": "67d2c296-b00c-406a-a909-e353ed8ed82b",
   "metadata": {},
   "outputs": [
    {
     "data": {
      "text/plain": [
       "Intercept    0.370031\n",
       "x            0.191083\n",
       "dtype: float64"
      ]
     },
     "execution_count": 11,
     "metadata": {},
     "output_type": "execute_result"
    }
   ],
   "source": [
    "lm_fit.bse"
   ]
  },
  {
   "cell_type": "code",
   "execution_count": 12,
   "id": "1f5f45f4-2b44-4dee-9aff-54305447c453",
   "metadata": {},
   "outputs": [
    {
     "data": {
      "text/plain": [
       "Intercept    0.238754\n",
       "x            0.000047\n",
       "dtype: float64"
      ]
     },
     "execution_count": 12,
     "metadata": {},
     "output_type": "execute_result"
    }
   ],
   "source": [
    "lm_fit.pvalues"
   ]
  },
  {
   "cell_type": "code",
   "execution_count": 13,
   "id": "a31b6840-0f91-4f26-bb6e-73a8e4c5a559",
   "metadata": {},
   "outputs": [
    {
     "data": {
      "text/html": [
       "<div>\n",
       "<style scoped>\n",
       "    .dataframe tbody tr th:only-of-type {\n",
       "        vertical-align: middle;\n",
       "    }\n",
       "\n",
       "    .dataframe tbody tr th {\n",
       "        vertical-align: top;\n",
       "    }\n",
       "\n",
       "    .dataframe thead th {\n",
       "        text-align: right;\n",
       "    }\n",
       "</style>\n",
       "<table border=\"1\" class=\"dataframe\">\n",
       "  <thead>\n",
       "    <tr style=\"text-align: right;\">\n",
       "      <th></th>\n",
       "      <th>0</th>\n",
       "      <th>1</th>\n",
       "    </tr>\n",
       "  </thead>\n",
       "  <tbody>\n",
       "    <tr>\n",
       "      <th>Intercept</th>\n",
       "      <td>-1.351507</td>\n",
       "      <td>0.39846</td>\n",
       "    </tr>\n",
       "    <tr>\n",
       "      <th>x</th>\n",
       "      <td>-2.148239</td>\n",
       "      <td>-1.24456</td>\n",
       "    </tr>\n",
       "  </tbody>\n",
       "</table>\n",
       "</div>"
      ],
      "text/plain": [
       "                  0        1\n",
       "Intercept -1.351507  0.39846\n",
       "x         -2.148239 -1.24456"
      ]
     },
     "execution_count": 13,
     "metadata": {},
     "output_type": "execute_result"
    }
   ],
   "source": [
    "lm_fit.conf_int()"
   ]
  },
  {
   "cell_type": "markdown",
   "id": "6602b6d9-4adf-4ef7-8c5d-bc74daa5fb3a",
   "metadata": {},
   "source": [
    "We can also visualize the coefficient summaries using a COEFFICIENT PLOT."
   ]
  },
  {
   "cell_type": "code",
   "execution_count": 25,
   "id": "295a21cf-c736-4c3b-949e-b798f121dc83",
   "metadata": {},
   "outputs": [],
   "source": [
    "def my_coefplot(mod, figsize_use=(10,4)):\n",
    "    fig, ax = plt.subplots(figsize=figsize_use)\n",
    "\n",
    "    ax.errorbar(y=mod.params.index,\n",
    "               x=mod.params,\n",
    "               xerr=2*mod.bse, fmt=\"o\", color=\"k\", ecolor=\"k\", elinewidth=2, ms=10)\n",
    "\n",
    "    ax.axvline(x=0, linestyle=\"--\", linewidth=3.5, color=\"grey\")\n",
    "\n",
    "    ax.set_xlabel(\"coefficient value\")\n",
    "\n",
    "    plt.show()"
   ]
  },
  {
   "cell_type": "code",
   "execution_count": 26,
   "id": "bdbe6909-7404-45a1-abc6-c24406a4c447",
   "metadata": {},
   "outputs": [
    {
     "data": {
      "image/png": "[encoded data removed]",
      "text/plain": [
       "<Figure size 1000x400 with 1 Axes>"
      ]
     },
     "metadata": {},
     "output_type": "display_data"
    }
   ],
   "source": [
    "my_coefplot(lm_fit)"
   ]
  },
  {
   "cell_type": "markdown",
   "id": "04755fd0-5f0a-4acb-b439-95cd01eb48c9",
   "metadata": {},
   "source": [
    "## Measure performance\n",
    "What is the \"goodness of fit\" of the model on the TRAINING data (data used to estimate coefficients)\n",
    "\n",
    "The predictions on the TRAINING data are stored with the fitted model object. The TRAINING set predictions are commonly called the model \"FITS\" or the FITTED VALUES."
   ]
  },
  {
   "cell_type": "code",
   "execution_count": 28,
   "id": "b5985216-817c-4ac1-ae30-2daad06d2659",
   "metadata": {},
   "outputs": [
    {
     "data": {
      "text/plain": [
       "0    4.612676\n",
       "1    3.340376\n",
       "2    2.068076\n",
       "3    0.795777\n",
       "4   -0.476523\n",
       "5   -1.748823\n",
       "6   -3.021123\n",
       "7   -4.293422\n",
       "8   -5.565722\n",
       "dtype: float64"
      ]
     },
     "execution_count": 28,
     "metadata": {},
     "output_type": "execute_result"
    }
   ],
   "source": [
    "lm_fit.fittedvalues"
   ]
  },
  {
   "cell_type": "markdown",
   "id": "cf59a107-0a80-4726-96bb-cb4c72706607",
   "metadata": {},
   "source": [
    "We could visually compare the MODEL FITTED VALUES or TRAINING PREDICTIONS to the OBSERVED OUTPUTS."
   ]
  },
  {
   "cell_type": "code",
   "execution_count": 29,
   "id": "fa797d1f-0f16-4338-b7fb-d06f4ab8b47f",
   "metadata": {},
   "outputs": [],
   "source": [
    "df_copy = df.loc[:, [\"x\", \"y\"]].copy()"
   ]
  },
  {
   "cell_type": "code",
   "execution_count": 30,
   "id": "16acbef5-ef02-4c93-b8ee-b2535db002d9",
   "metadata": {},
   "outputs": [],
   "source": [
    "df_copy[\"fitted\"] = lm_fit.fittedvalues"
   ]
  },
  {
   "cell_type": "code",
   "execution_count": 31,
   "id": "ca204179-d7c2-49d3-becd-e81d5fc48fd6",
   "metadata": {},
   "outputs": [
    {
     "data": {
      "text/html": [
       "<div>\n",
       "<style scoped>\n",
       "    .dataframe tbody tr th:only-of-type {\n",
       "        vertical-align: middle;\n",
       "    }\n",
       "\n",
       "    .dataframe tbody tr th {\n",
       "        vertical-align: top;\n",
       "    }\n",
       "\n",
       "    .dataframe thead th {\n",
       "        text-align: right;\n",
       "    }\n",
       "</style>\n",
       "<table border=\"1\" class=\"dataframe\">\n",
       "  <thead>\n",
       "    <tr style=\"text-align: right;\">\n",
       "      <th></th>\n",
       "      <th>x</th>\n",
       "      <th>y</th>\n",
       "      <th>fitted</th>\n",
       "    </tr>\n",
       "  </thead>\n",
       "  <tbody>\n",
       "    <tr>\n",
       "      <th>0</th>\n",
       "      <td>-3.00</td>\n",
       "      <td>6.030315</td>\n",
       "      <td>4.612676</td>\n",
       "    </tr>\n",
       "    <tr>\n",
       "      <th>1</th>\n",
       "      <td>-2.25</td>\n",
       "      <td>1.457911</td>\n",
       "      <td>3.340376</td>\n",
       "    </tr>\n",
       "    <tr>\n",
       "      <th>2</th>\n",
       "      <td>-1.50</td>\n",
       "      <td>2.388383</td>\n",
       "      <td>2.068076</td>\n",
       "    </tr>\n",
       "    <tr>\n",
       "      <th>3</th>\n",
       "      <td>-0.75</td>\n",
       "      <td>0.007815</td>\n",
       "      <td>0.795777</td>\n",
       "    </tr>\n",
       "    <tr>\n",
       "      <th>4</th>\n",
       "      <td>0.00</td>\n",
       "      <td>0.651244</td>\n",
       "      <td>-0.476523</td>\n",
       "    </tr>\n",
       "    <tr>\n",
       "      <th>5</th>\n",
       "      <td>0.75</td>\n",
       "      <td>-2.254007</td>\n",
       "      <td>-1.748823</td>\n",
       "    </tr>\n",
       "    <tr>\n",
       "      <th>6</th>\n",
       "      <td>1.50</td>\n",
       "      <td>-2.969992</td>\n",
       "      <td>-3.021123</td>\n",
       "    </tr>\n",
       "    <tr>\n",
       "      <th>7</th>\n",
       "      <td>2.25</td>\n",
       "      <td>-3.537097</td>\n",
       "      <td>-4.293422</td>\n",
       "    </tr>\n",
       "    <tr>\n",
       "      <th>8</th>\n",
       "      <td>3.00</td>\n",
       "      <td>-6.063282</td>\n",
       "      <td>-5.565722</td>\n",
       "    </tr>\n",
       "  </tbody>\n",
       "</table>\n",
       "</div>"
      ],
      "text/plain": [
       "      x         y    fitted\n",
       "0 -3.00  6.030315  4.612676\n",
       "1 -2.25  1.457911  3.340376\n",
       "2 -1.50  2.388383  2.068076\n",
       "3 -0.75  0.007815  0.795777\n",
       "4  0.00  0.651244 -0.476523\n",
       "5  0.75 -2.254007 -1.748823\n",
       "6  1.50 -2.969992 -3.021123\n",
       "7  2.25 -3.537097 -4.293422\n",
       "8  3.00 -6.063282 -5.565722"
      ]
     },
     "execution_count": 31,
     "metadata": {},
     "output_type": "execute_result"
    }
   ],
   "source": [
    "df_copy"
   ]
  },
  {
   "cell_type": "code",
   "execution_count": 32,
   "id": "52776725-b6eb-4f3e-98e8-f9a213eedfe8",
   "metadata": {},
   "outputs": [
    {
     "name": "stderr",
     "output_type": "stream",
     "text": [
      "/Applications/anaconda3/envs/cmpinf2100/lib/python3.8/site-packages/seaborn/axisgrid.py:123: UserWarning: The figure layout has changed to tight\n",
      "  self._figure.tight_layout(*args, **kwargs)\n"
     ]
    },
    {
     "data": {
      "image/png": "[encoded data removed]",
      "text/plain": [
       "<Figure size 500x500 with 1 Axes>"
      ]
     },
     "metadata": {},
     "output_type": "display_data"
    }
   ],
   "source": [
    "sns.relplot(data=df_copy, x=\"x\", y=\"fitted\")\n",
    "\n",
    "plt.show()"
   ]
  },
  {
   "cell_type": "markdown",
   "id": "47fbca04-62a7-452c-b42e-967a0c2898d3",
   "metadata": {},
   "source": [
    "To compare the OBSERVED OUTPUT to the MODEL FITS...one approach is to overlay the observed output vs the INPUT with the PREDICTED TREND or FITTED VALUES with the input."
   ]
  },
  {
   "cell_type": "code",
   "execution_count": 33,
   "id": "4b5b149a-e6c5-4f59-8762-219c01a50f21",
   "metadata": {},
   "outputs": [
    {
     "data": {
      "image/png": "[encoded data removed]",
      "text/plain": [
       "<Figure size 640x480 with 1 Axes>"
      ]
     },
     "metadata": {},
     "output_type": "display_data"
    }
   ],
   "source": [
    "fig, ax = plt.subplots()\n",
    "\n",
    "sns.scatterplot(data=df_copy, x=\"x\", y=\"fitted\", ax=ax)\n",
    "\n",
    "sns.scatterplot(data=df_copy, x=\"x\", y=\"y\", ax=ax)\n",
    "\n",
    "plt.show()"
   ]
  },
  {
   "cell_type": "markdown",
   "id": "0e897a45-e46e-42f3-a7d0-7e77c22618da",
   "metadata": {},
   "source": [
    "Instead, its easier to DIRECTLY relate the OBSERVED OUTPUT and the MODEL FITS.\n",
    "\n",
    "This kind of scatter plot is import it has its own name.\n",
    "\n",
    "Its called the PREDICTED vs OBSERVED figure!!!"
   ]
  },
  {
   "cell_type": "code",
   "execution_count": 35,
   "id": "c4c99d81-e58b-49d3-80c5-e6223be1ccaa",
   "metadata": {},
   "outputs": [
    {
     "data": {
      "text/html": [
       "<div>\n",
       "<style scoped>\n",
       "    .dataframe tbody tr th:only-of-type {\n",
       "        vertical-align: middle;\n",
       "    }\n",
       "\n",
       "    .dataframe tbody tr th {\n",
       "        vertical-align: top;\n",
       "    }\n",
       "\n",
       "    .dataframe thead th {\n",
       "        text-align: right;\n",
       "    }\n",
       "</style>\n",
       "<table border=\"1\" class=\"dataframe\">\n",
       "  <thead>\n",
       "    <tr style=\"text-align: right;\">\n",
       "      <th></th>\n",
       "      <th>x</th>\n",
       "      <th>y</th>\n",
       "      <th>fitted</th>\n",
       "    </tr>\n",
       "  </thead>\n",
       "  <tbody>\n",
       "    <tr>\n",
       "      <th>0</th>\n",
       "      <td>-3.00</td>\n",
       "      <td>6.030315</td>\n",
       "      <td>4.612676</td>\n",
       "    </tr>\n",
       "    <tr>\n",
       "      <th>1</th>\n",
       "      <td>-2.25</td>\n",
       "      <td>1.457911</td>\n",
       "      <td>3.340376</td>\n",
       "    </tr>\n",
       "    <tr>\n",
       "      <th>2</th>\n",
       "      <td>-1.50</td>\n",
       "      <td>2.388383</td>\n",
       "      <td>2.068076</td>\n",
       "    </tr>\n",
       "    <tr>\n",
       "      <th>3</th>\n",
       "      <td>-0.75</td>\n",
       "      <td>0.007815</td>\n",
       "      <td>0.795777</td>\n",
       "    </tr>\n",
       "    <tr>\n",
       "      <th>4</th>\n",
       "      <td>0.00</td>\n",
       "      <td>0.651244</td>\n",
       "      <td>-0.476523</td>\n",
       "    </tr>\n",
       "    <tr>\n",
       "      <th>5</th>\n",
       "      <td>0.75</td>\n",
       "      <td>-2.254007</td>\n",
       "      <td>-1.748823</td>\n",
       "    </tr>\n",
       "    <tr>\n",
       "      <th>6</th>\n",
       "      <td>1.50</td>\n",
       "      <td>-2.969992</td>\n",
       "      <td>-3.021123</td>\n",
       "    </tr>\n",
       "    <tr>\n",
       "      <th>7</th>\n",
       "      <td>2.25</td>\n",
       "      <td>-3.537097</td>\n",
       "      <td>-4.293422</td>\n",
       "    </tr>\n",
       "    <tr>\n",
       "      <th>8</th>\n",
       "      <td>3.00</td>\n",
       "      <td>-6.063282</td>\n",
       "      <td>-5.565722</td>\n",
       "    </tr>\n",
       "  </tbody>\n",
       "</table>\n",
       "</div>"
      ],
      "text/plain": [
       "      x         y    fitted\n",
       "0 -3.00  6.030315  4.612676\n",
       "1 -2.25  1.457911  3.340376\n",
       "2 -1.50  2.388383  2.068076\n",
       "3 -0.75  0.007815  0.795777\n",
       "4  0.00  0.651244 -0.476523\n",
       "5  0.75 -2.254007 -1.748823\n",
       "6  1.50 -2.969992 -3.021123\n",
       "7  2.25 -3.537097 -4.293422\n",
       "8  3.00 -6.063282 -5.565722"
      ]
     },
     "execution_count": 35,
     "metadata": {},
     "output_type": "execute_result"
    }
   ],
   "source": [
    "df_copy"
   ]
  },
  {
   "cell_type": "code",
   "execution_count": 36,
   "id": "7ac78dc4-c1ff-48b2-bb2c-50d617edb555",
   "metadata": {},
   "outputs": [
    {
     "name": "stderr",
     "output_type": "stream",
     "text": [
      "/Applications/anaconda3/envs/cmpinf2100/lib/python3.8/site-packages/seaborn/axisgrid.py:123: UserWarning: The figure layout has changed to tight\n",
      "  self._figure.tight_layout(*args, **kwargs)\n"
     ]
    },
    {
     "data": {
      "image/png": "[encoded data removed]",
      "text/plain": [
       "<Figure size 500x500 with 1 Axes>"
      ]
     },
     "metadata": {},
     "output_type": "display_data"
    }
   ],
   "source": [
    "sns.relplot(data=df_copy, x=\"y\", y=\"fitted\")\n",
    "\n",
    "plt.show()"
   ]
  },
  {
   "cell_type": "markdown",
   "id": "e12208e1-1d00-4fe0-b348-eb8d72a95581",
   "metadata": {},
   "source": [
    "Lets include a 45 degree reference line with our PREDICTED vs OBSERVED figure.\n",
    "\n",
    "The easiest way to include the additional reference line is to use the Seaborn Axis level functions rathern than the Figure level functions."
   ]
  },
  {
   "cell_type": "code",
   "execution_count": 40,
   "id": "ad2763d1-3451-42a6-8a62-c2a04576faa2",
   "metadata": {},
   "outputs": [],
   "source": [
    "sns.set_style(\"whitegrid\")"
   ]
  },
  {
   "cell_type": "code",
   "execution_count": 41,
   "id": "5309f53f-ab50-4e2e-97cf-19f614ef63b0",
   "metadata": {},
   "outputs": [
    {
     "data": {
      "image/png": "[encoded data removed]",
      "text/plain": [
       "<Figure size 640x480 with 1 Axes>"
      ]
     },
     "metadata": {},
     "output_type": "display_data"
    }
   ],
   "source": [
    "fig, ax = plt.subplots()\n",
    "\n",
    "sns.scatterplot(data=df_copy, x=\"y\", y=\"fitted\", s=150, ax=ax)\n",
    "\n",
    "sns.lineplot(data=df_copy, x=\"y\", y=\"y\", color=\"red\", ax=ax)\n",
    "\n",
    "plt.show()"
   ]
  },
  {
   "cell_type": "markdown",
   "id": "24e1c8a7-e8db-42b8-ab74-8351aa4020ca",
   "metadata": {},
   "source": [
    "But quite often, we want a NUMBER or a QUANTITATIVE metric for the **CORRELATION** between the model predictions and the observed output. This single number can be quantified by calculating the CORRELATION COEFFICIENT between the model FITS and the observed OUTPUT."
   ]
  },
  {
   "cell_type": "code",
   "execution_count": 43,
   "id": "01c7b35a-9c85-45d2-9cb7-a64f15e26e8c",
   "metadata": {},
   "outputs": [
    {
     "data": {
      "text/html": [
       "<div>\n",
       "<style scoped>\n",
       "    .dataframe tbody tr th:only-of-type {\n",
       "        vertical-align: middle;\n",
       "    }\n",
       "\n",
       "    .dataframe tbody tr th {\n",
       "        vertical-align: top;\n",
       "    }\n",
       "\n",
       "    .dataframe thead th {\n",
       "        text-align: right;\n",
       "    }\n",
       "</style>\n",
       "<table border=\"1\" class=\"dataframe\">\n",
       "  <thead>\n",
       "    <tr style=\"text-align: right;\">\n",
       "      <th></th>\n",
       "      <th>y</th>\n",
       "      <th>fitted</th>\n",
       "    </tr>\n",
       "  </thead>\n",
       "  <tbody>\n",
       "    <tr>\n",
       "      <th>y</th>\n",
       "      <td>1.000000</td>\n",
       "      <td>0.958347</td>\n",
       "    </tr>\n",
       "    <tr>\n",
       "      <th>fitted</th>\n",
       "      <td>0.958347</td>\n",
       "      <td>1.000000</td>\n",
       "    </tr>\n",
       "  </tbody>\n",
       "</table>\n",
       "</div>"
      ],
      "text/plain": [
       "               y    fitted\n",
       "y       1.000000  0.958347\n",
       "fitted  0.958347  1.000000"
      ]
     },
     "execution_count": 43,
     "metadata": {},
     "output_type": "execute_result"
    }
   ],
   "source": [
    "df_copy.loc[:, [\"y\", \"fitted\"]].corr()"
   ]
  },
  {
   "cell_type": "code",
   "execution_count": 45,
   "id": "e127da95-d631-43f5-aa54-bdd3466861cf",
   "metadata": {},
   "outputs": [
    {
     "data": {
      "text/plain": [
       "0.9583473874664296"
      ]
     },
     "execution_count": 45,
     "metadata": {},
     "output_type": "execute_result"
    }
   ],
   "source": [
    "df_copy.loc[:, [\"y\", \"fitted\"]].corr().iloc[0,1]"
   ]
  },
  {
   "cell_type": "markdown",
   "id": "4f3a0002-fcb5-483a-9969-cb5a0432891a",
   "metadata": {},
   "source": [
    "Correlation coefficient can be NEGATIVE or POSITIVE so lets SQUARE the correlation coefficient!!!"
   ]
  },
  {
   "cell_type": "code",
   "execution_count": 47,
   "id": "1bc234c9-1376-4b7a-9836-0360a72c7270",
   "metadata": {},
   "outputs": [
    {
     "data": {
      "text/plain": [
       "0.9184297150637308"
      ]
     },
     "execution_count": 47,
     "metadata": {},
     "output_type": "execute_result"
    }
   ],
   "source": [
    "df_copy.loc[:, [\"y\", \"fitted\"]].corr().iloc[0,1]**2"
   ]
  },
  {
   "cell_type": "markdown",
   "id": "41d181ce-080d-4a4f-9810-791346b4c7c5",
   "metadata": {},
   "source": [
    "We just calculated the model's R squared!!!!!"
   ]
  },
  {
   "cell_type": "code",
   "execution_count": 48,
   "id": "908a6c03-2380-413d-94aa-c001becbf8e7",
   "metadata": {},
   "outputs": [
    {
     "data": {
      "text/plain": [
       "0.918429715063731"
      ]
     },
     "execution_count": 48,
     "metadata": {},
     "output_type": "execute_result"
    }
   ],
   "source": [
    "lm_fit.rsquared"
   ]
  },
  {
   "cell_type": "markdown",
   "id": "135c18a2-ef52-457f-9fc9-d4e9616f802e",
   "metadata": {},
   "source": [
    "Statsmodels calculates the R-squared using a particular formula.\n",
    "\n",
    "Ideally R-squared is equal to 1 and a really bad model has an R-squared of 0.\n",
    "\n",
    "But please be careful...we will see later when we work with sklearn that depending on the formular that you use...you can have a NEGATIVE R-squared value...\n",
    "\n",
    "But negative R-squared values MAKE NO SENSE!!!\n",
    "\n",
    "## Errors or Residuals\n",
    "The error is the difference between the OBSERVED and the PREDICTED TREND or FITTED VALUES."
   ]
  },
  {
   "cell_type": "code",
   "execution_count": 49,
   "id": "66cd8400-4046-4894-b6bc-7ec3a9f73337",
   "metadata": {},
   "outputs": [
    {
     "data": {
      "text/html": [
       "<div>\n",
       "<style scoped>\n",
       "    .dataframe tbody tr th:only-of-type {\n",
       "        vertical-align: middle;\n",
       "    }\n",
       "\n",
       "    .dataframe tbody tr th {\n",
       "        vertical-align: top;\n",
       "    }\n",
       "\n",
       "    .dataframe thead th {\n",
       "        text-align: right;\n",
       "    }\n",
       "</style>\n",
       "<table border=\"1\" class=\"dataframe\">\n",
       "  <thead>\n",
       "    <tr style=\"text-align: right;\">\n",
       "      <th></th>\n",
       "      <th>x</th>\n",
       "      <th>y</th>\n",
       "      <th>fitted</th>\n",
       "    </tr>\n",
       "  </thead>\n",
       "  <tbody>\n",
       "    <tr>\n",
       "      <th>0</th>\n",
       "      <td>-3.00</td>\n",
       "      <td>6.030315</td>\n",
       "      <td>4.612676</td>\n",
       "    </tr>\n",
       "    <tr>\n",
       "      <th>1</th>\n",
       "      <td>-2.25</td>\n",
       "      <td>1.457911</td>\n",
       "      <td>3.340376</td>\n",
       "    </tr>\n",
       "    <tr>\n",
       "      <th>2</th>\n",
       "      <td>-1.50</td>\n",
       "      <td>2.388383</td>\n",
       "      <td>2.068076</td>\n",
       "    </tr>\n",
       "    <tr>\n",
       "      <th>3</th>\n",
       "      <td>-0.75</td>\n",
       "      <td>0.007815</td>\n",
       "      <td>0.795777</td>\n",
       "    </tr>\n",
       "    <tr>\n",
       "      <th>4</th>\n",
       "      <td>0.00</td>\n",
       "      <td>0.651244</td>\n",
       "      <td>-0.476523</td>\n",
       "    </tr>\n",
       "    <tr>\n",
       "      <th>5</th>\n",
       "      <td>0.75</td>\n",
       "      <td>-2.254007</td>\n",
       "      <td>-1.748823</td>\n",
       "    </tr>\n",
       "    <tr>\n",
       "      <th>6</th>\n",
       "      <td>1.50</td>\n",
       "      <td>-2.969992</td>\n",
       "      <td>-3.021123</td>\n",
       "    </tr>\n",
       "    <tr>\n",
       "      <th>7</th>\n",
       "      <td>2.25</td>\n",
       "      <td>-3.537097</td>\n",
       "      <td>-4.293422</td>\n",
       "    </tr>\n",
       "    <tr>\n",
       "      <th>8</th>\n",
       "      <td>3.00</td>\n",
       "      <td>-6.063282</td>\n",
       "      <td>-5.565722</td>\n",
       "    </tr>\n",
       "  </tbody>\n",
       "</table>\n",
       "</div>"
      ],
      "text/plain": [
       "      x         y    fitted\n",
       "0 -3.00  6.030315  4.612676\n",
       "1 -2.25  1.457911  3.340376\n",
       "2 -1.50  2.388383  2.068076\n",
       "3 -0.75  0.007815  0.795777\n",
       "4  0.00  0.651244 -0.476523\n",
       "5  0.75 -2.254007 -1.748823\n",
       "6  1.50 -2.969992 -3.021123\n",
       "7  2.25 -3.537097 -4.293422\n",
       "8  3.00 -6.063282 -5.565722"
      ]
     },
     "execution_count": 49,
     "metadata": {},
     "output_type": "execute_result"
    }
   ],
   "source": [
    "df_copy"
   ]
  },
  {
   "cell_type": "code",
   "execution_count": 50,
   "id": "d457a9d5-c6e1-4f1b-ac62-4f0048950505",
   "metadata": {},
   "outputs": [],
   "source": [
    "df_copy[\"errors\"] = df_copy.y - df_copy.fitted"
   ]
  },
  {
   "cell_type": "code",
   "execution_count": 51,
   "id": "1639d0e7-0806-497e-9f6a-5c07b56d00fc",
   "metadata": {},
   "outputs": [
    {
     "data": {
      "text/html": [
       "<div>\n",
       "<style scoped>\n",
       "    .dataframe tbody tr th:only-of-type {\n",
       "        vertical-align: middle;\n",
       "    }\n",
       "\n",
       "    .dataframe tbody tr th {\n",
       "        vertical-align: top;\n",
       "    }\n",
       "\n",
       "    .dataframe thead th {\n",
       "        text-align: right;\n",
       "    }\n",
       "</style>\n",
       "<table border=\"1\" class=\"dataframe\">\n",
       "  <thead>\n",
       "    <tr style=\"text-align: right;\">\n",
       "      <th></th>\n",
       "      <th>x</th>\n",
       "      <th>y</th>\n",
       "      <th>fitted</th>\n",
       "      <th>errors</th>\n",
       "    </tr>\n",
       "  </thead>\n",
       "  <tbody>\n",
       "    <tr>\n",
       "      <th>0</th>\n",
       "      <td>-3.00</td>\n",
       "      <td>6.030315</td>\n",
       "      <td>4.612676</td>\n",
       "      <td>1.417639</td>\n",
       "    </tr>\n",
       "    <tr>\n",
       "      <th>1</th>\n",
       "      <td>-2.25</td>\n",
       "      <td>1.457911</td>\n",
       "      <td>3.340376</td>\n",
       "      <td>-1.882465</td>\n",
       "    </tr>\n",
       "    <tr>\n",
       "      <th>2</th>\n",
       "      <td>-1.50</td>\n",
       "      <td>2.388383</td>\n",
       "      <td>2.068076</td>\n",
       "      <td>0.320307</td>\n",
       "    </tr>\n",
       "    <tr>\n",
       "      <th>3</th>\n",
       "      <td>-0.75</td>\n",
       "      <td>0.007815</td>\n",
       "      <td>0.795777</td>\n",
       "      <td>-0.787961</td>\n",
       "    </tr>\n",
       "    <tr>\n",
       "      <th>4</th>\n",
       "      <td>0.00</td>\n",
       "      <td>0.651244</td>\n",
       "      <td>-0.476523</td>\n",
       "      <td>1.127767</td>\n",
       "    </tr>\n",
       "    <tr>\n",
       "      <th>5</th>\n",
       "      <td>0.75</td>\n",
       "      <td>-2.254007</td>\n",
       "      <td>-1.748823</td>\n",
       "      <td>-0.505184</td>\n",
       "    </tr>\n",
       "    <tr>\n",
       "      <th>6</th>\n",
       "      <td>1.50</td>\n",
       "      <td>-2.969992</td>\n",
       "      <td>-3.021123</td>\n",
       "      <td>0.051131</td>\n",
       "    </tr>\n",
       "    <tr>\n",
       "      <th>7</th>\n",
       "      <td>2.25</td>\n",
       "      <td>-3.537097</td>\n",
       "      <td>-4.293422</td>\n",
       "      <td>0.756326</td>\n",
       "    </tr>\n",
       "    <tr>\n",
       "      <th>8</th>\n",
       "      <td>3.00</td>\n",
       "      <td>-6.063282</td>\n",
       "      <td>-5.565722</td>\n",
       "      <td>-0.497560</td>\n",
       "    </tr>\n",
       "  </tbody>\n",
       "</table>\n",
       "</div>"
      ],
      "text/plain": [
       "      x         y    fitted    errors\n",
       "0 -3.00  6.030315  4.612676  1.417639\n",
       "1 -2.25  1.457911  3.340376 -1.882465\n",
       "2 -1.50  2.388383  2.068076  0.320307\n",
       "3 -0.75  0.007815  0.795777 -0.787961\n",
       "4  0.00  0.651244 -0.476523  1.127767\n",
       "5  0.75 -2.254007 -1.748823 -0.505184\n",
       "6  1.50 -2.969992 -3.021123  0.051131\n",
       "7  2.25 -3.537097 -4.293422  0.756326\n",
       "8  3.00 -6.063282 -5.565722 -0.497560"
      ]
     },
     "execution_count": 51,
     "metadata": {},
     "output_type": "execute_result"
    }
   ],
   "source": [
    "df_copy"
   ]
  },
  {
   "cell_type": "markdown",
   "id": "14a85041-ce06-4875-9620-50ef96f41924",
   "metadata": {},
   "source": [
    "We can visualize the ERRORS with respect to the INPUT."
   ]
  },
  {
   "cell_type": "code",
   "execution_count": 52,
   "id": "4243b117-ea9f-442e-8b03-cd2816f0a784",
   "metadata": {},
   "outputs": [
    {
     "name": "stderr",
     "output_type": "stream",
     "text": [
      "/Applications/anaconda3/envs/cmpinf2100/lib/python3.8/site-packages/seaborn/axisgrid.py:123: UserWarning: The figure layout has changed to tight\n",
      "  self._figure.tight_layout(*args, **kwargs)\n"
     ]
    },
    {
     "data": {
      "image/png": "[encoded data removed]",
      "text/plain": [
       "<Figure size 500x500 with 1 Axes>"
      ]
     },
     "metadata": {},
     "output_type": "display_data"
    }
   ],
   "source": [
    "sns.relplot(data=df_copy, x=\"x\", y=\"errors\")\n",
    "\n",
    "plt.show()"
   ]
  },
  {
   "cell_type": "markdown",
   "id": "f90e358a-5008-40cf-9a74-9c9530f40233",
   "metadata": {},
   "source": [
    "Errrors are so import that the statsmodels object already stores them!!!"
   ]
  },
  {
   "cell_type": "code",
   "execution_count": 53,
   "id": "b4226ff8-0d85-46f8-b83e-982f7c263c4c",
   "metadata": {},
   "outputs": [
    {
     "data": {
      "text/plain": [
       "0    1.417639\n",
       "1   -1.882465\n",
       "2    0.320307\n",
       "3   -0.787961\n",
       "4    1.127767\n",
       "5   -0.505184\n",
       "6    0.051131\n",
       "7    0.756326\n",
       "8   -0.497560\n",
       "dtype: float64"
      ]
     },
     "execution_count": 53,
     "metadata": {},
     "output_type": "execute_result"
    }
   ],
   "source": [
    "lm_fit.resid"
   ]
  },
  {
   "cell_type": "code",
   "execution_count": 54,
   "id": "1a1cbfc3-4b93-40c8-b819-8ae9f65ddb02",
   "metadata": {},
   "outputs": [],
   "source": [
    "df_copy[\"residuals\"] = lm_fit.resid"
   ]
  },
  {
   "cell_type": "code",
   "execution_count": 55,
   "id": "1059dc56-6d34-4b09-8f13-eab1414a7352",
   "metadata": {},
   "outputs": [
    {
     "data": {
      "text/html": [
       "<div>\n",
       "<style scoped>\n",
       "    .dataframe tbody tr th:only-of-type {\n",
       "        vertical-align: middle;\n",
       "    }\n",
       "\n",
       "    .dataframe tbody tr th {\n",
       "        vertical-align: top;\n",
       "    }\n",
       "\n",
       "    .dataframe thead th {\n",
       "        text-align: right;\n",
       "    }\n",
       "</style>\n",
       "<table border=\"1\" class=\"dataframe\">\n",
       "  <thead>\n",
       "    <tr style=\"text-align: right;\">\n",
       "      <th></th>\n",
       "      <th>x</th>\n",
       "      <th>y</th>\n",
       "      <th>fitted</th>\n",
       "      <th>errors</th>\n",
       "      <th>residuals</th>\n",
       "    </tr>\n",
       "  </thead>\n",
       "  <tbody>\n",
       "    <tr>\n",
       "      <th>0</th>\n",
       "      <td>-3.00</td>\n",
       "      <td>6.030315</td>\n",
       "      <td>4.612676</td>\n",
       "      <td>1.417639</td>\n",
       "      <td>1.417639</td>\n",
       "    </tr>\n",
       "    <tr>\n",
       "      <th>1</th>\n",
       "      <td>-2.25</td>\n",
       "      <td>1.457911</td>\n",
       "      <td>3.340376</td>\n",
       "      <td>-1.882465</td>\n",
       "      <td>-1.882465</td>\n",
       "    </tr>\n",
       "    <tr>\n",
       "      <th>2</th>\n",
       "      <td>-1.50</td>\n",
       "      <td>2.388383</td>\n",
       "      <td>2.068076</td>\n",
       "      <td>0.320307</td>\n",
       "      <td>0.320307</td>\n",
       "    </tr>\n",
       "    <tr>\n",
       "      <th>3</th>\n",
       "      <td>-0.75</td>\n",
       "      <td>0.007815</td>\n",
       "      <td>0.795777</td>\n",
       "      <td>-0.787961</td>\n",
       "      <td>-0.787961</td>\n",
       "    </tr>\n",
       "    <tr>\n",
       "      <th>4</th>\n",
       "      <td>0.00</td>\n",
       "      <td>0.651244</td>\n",
       "      <td>-0.476523</td>\n",
       "      <td>1.127767</td>\n",
       "      <td>1.127767</td>\n",
       "    </tr>\n",
       "    <tr>\n",
       "      <th>5</th>\n",
       "      <td>0.75</td>\n",
       "      <td>-2.254007</td>\n",
       "      <td>-1.748823</td>\n",
       "      <td>-0.505184</td>\n",
       "      <td>-0.505184</td>\n",
       "    </tr>\n",
       "    <tr>\n",
       "      <th>6</th>\n",
       "      <td>1.50</td>\n",
       "      <td>-2.969992</td>\n",
       "      <td>-3.021123</td>\n",
       "      <td>0.051131</td>\n",
       "      <td>0.051131</td>\n",
       "    </tr>\n",
       "    <tr>\n",
       "      <th>7</th>\n",
       "      <td>2.25</td>\n",
       "      <td>-3.537097</td>\n",
       "      <td>-4.293422</td>\n",
       "      <td>0.756326</td>\n",
       "      <td>0.756326</td>\n",
       "    </tr>\n",
       "    <tr>\n",
       "      <th>8</th>\n",
       "      <td>3.00</td>\n",
       "      <td>-6.063282</td>\n",
       "      <td>-5.565722</td>\n",
       "      <td>-0.497560</td>\n",
       "      <td>-0.497560</td>\n",
       "    </tr>\n",
       "  </tbody>\n",
       "</table>\n",
       "</div>"
      ],
      "text/plain": [
       "      x         y    fitted    errors  residuals\n",
       "0 -3.00  6.030315  4.612676  1.417639   1.417639\n",
       "1 -2.25  1.457911  3.340376 -1.882465  -1.882465\n",
       "2 -1.50  2.388383  2.068076  0.320307   0.320307\n",
       "3 -0.75  0.007815  0.795777 -0.787961  -0.787961\n",
       "4  0.00  0.651244 -0.476523  1.127767   1.127767\n",
       "5  0.75 -2.254007 -1.748823 -0.505184  -0.505184\n",
       "6  1.50 -2.969992 -3.021123  0.051131   0.051131\n",
       "7  2.25 -3.537097 -4.293422  0.756326   0.756326\n",
       "8  3.00 -6.063282 -5.565722 -0.497560  -0.497560"
      ]
     },
     "execution_count": 55,
     "metadata": {},
     "output_type": "execute_result"
    }
   ],
   "source": [
    "df_copy"
   ]
  },
  {
   "cell_type": "markdown",
   "id": "ac285780-2097-49ef-b27c-ef06aa7b86e2",
   "metadata": {},
   "source": [
    "The RESIDUALS or the ERRORS can be calculated for EVERY data point...but we want to SUMMARIZE the ERROR or RESIDUAL ACROSS all the data points!!!\n",
    "\n",
    "There are 2 commons ways to summarize the ERRORs.\n",
    "\n",
    "The MOST common is to SQUARE the ERROR!!!"
   ]
  },
  {
   "cell_type": "code",
   "execution_count": 56,
   "id": "44e62094-0341-486f-bdb8-cd59ae8eefe4",
   "metadata": {},
   "outputs": [
    {
     "data": {
      "text/plain": [
       "0    2.009701\n",
       "1    3.543673\n",
       "2    0.102596\n",
       "3    0.620883\n",
       "4    1.271859\n",
       "5    0.255211\n",
       "6    0.002614\n",
       "7    0.572029\n",
       "8    0.247566\n",
       "dtype: float64"
      ]
     },
     "execution_count": 56,
     "metadata": {},
     "output_type": "execute_result"
    }
   ],
   "source": [
    "lm_fit.resid**2"
   ]
  },
  {
   "cell_type": "markdown",
   "id": "0dddd96b-f8c6-446f-b06d-1af19aee7565",
   "metadata": {},
   "source": [
    "We summarize the SQUARED ERROR!!!\n",
    "\n",
    "SUMMING the SQUARED ERROR is known as the **SSE**."
   ]
  },
  {
   "cell_type": "code",
   "execution_count": 57,
   "id": "df1b48c3-9198-4b85-9bc8-43d521f6fdb0",
   "metadata": {},
   "outputs": [
    {
     "data": {
      "text/plain": [
       "8.626133173634281"
      ]
     },
     "execution_count": 57,
     "metadata": {},
     "output_type": "execute_result"
    }
   ],
   "source": [
    "(lm_fit.resid**2).sum()"
   ]
  },
  {
   "cell_type": "markdown",
   "id": "ff6f4261-f15f-4077-8d9a-3ac81140ef3e",
   "metadata": {},
   "source": [
    "But the SSE increases as the number of data points increases...\n",
    "\n",
    "For those reasons we often **AVERAGE** the Squared ERRORS!!! This is referred to as the **MEAN SQUARED ERROR or MSE**"
   ]
  },
  {
   "cell_type": "code",
   "execution_count": 59,
   "id": "666eabc5-6987-419e-8504-6546d7f6d00f",
   "metadata": {},
   "outputs": [
    {
     "data": {
      "text/plain": [
       "0.9584592415149201"
      ]
     },
     "execution_count": 59,
     "metadata": {},
     "output_type": "execute_result"
    }
   ],
   "source": [
    "(lm_fit.resid**2).mean()"
   ]
  },
  {
   "cell_type": "markdown",
   "id": "53ececed-820c-4c10-a722-1ae7e5ce0a04",
   "metadata": {},
   "source": [
    "The MSE is in the OUTPUT units squared.\n",
    "\n",
    "We apply the SQUARE ROOT to the MSE to produce an error metric in the same units as the OUTPUT!!!\n",
    "\n",
    "The square root of MSE is known as the **ROOT Mean Squared Error or RMSE**."
   ]
  },
  {
   "cell_type": "code",
   "execution_count": 61,
   "id": "1517b763-17ca-4134-b400-680b64f3f118",
   "metadata": {},
   "outputs": [
    {
     "data": {
      "text/plain": [
       "0.9790093163575718"
      ]
     },
     "execution_count": 61,
     "metadata": {},
     "output_type": "execute_result"
    }
   ],
   "source": [
    "np.sqrt((lm_fit.resid**2).mean())"
   ]
  },
  {
   "cell_type": "markdown",
   "id": "b61356bc-d8f5-4b4b-9afd-4b22943760fe",
   "metadata": {},
   "source": [
    "The RMSE is essentially the SIGMA parameter that we defined when we generated the random data!!!!\n",
    "\n",
    "The other kind of important ERROR metric is based on the ABSOLUTE ERROR."
   ]
  },
  {
   "cell_type": "code",
   "execution_count": 63,
   "id": "5dda11f2-83af-4b43-a7bd-4d51bb2d13ff",
   "metadata": {},
   "outputs": [
    {
     "data": {
      "text/plain": [
       "0    1.417639\n",
       "1    1.882465\n",
       "2    0.320307\n",
       "3    0.787961\n",
       "4    1.127767\n",
       "5    0.505184\n",
       "6    0.051131\n",
       "7    0.756326\n",
       "8    0.497560\n",
       "dtype: float64"
      ]
     },
     "execution_count": 63,
     "metadata": {},
     "output_type": "execute_result"
    }
   ],
   "source": [
    "np.abs(lm_fit.resid)"
   ]
  },
  {
   "cell_type": "markdown",
   "id": "4c4989e8-adbe-434b-89be-59e3fa80aad5",
   "metadata": {},
   "source": [
    "The **MEAN ABSOLUTE ERROR or MAE** is the average absolute error of the training data."
   ]
  },
  {
   "cell_type": "code",
   "execution_count": 64,
   "id": "2de8d998-9bad-43b8-bef7-7207f64dd9af",
   "metadata": {},
   "outputs": [
    {
     "data": {
      "text/plain": [
       "0.8162599885208113"
      ]
     },
     "execution_count": 64,
     "metadata": {},
     "output_type": "execute_result"
    }
   ],
   "source": [
    "np.abs(lm_fit.resid).mean()"
   ]
  },
  {
   "cell_type": "markdown",
   "id": "15f7e830-7e46-4a0b-9270-c12935986ab1",
   "metadata": {},
   "source": [
    "## Summary\n",
    "\n",
    "We have seen 2 types of performance metrics for Regression problems.\n",
    "\n",
    "We have seen the GENERAL linear relationship expresssed in the PREDICTED vs OBSERVED figure quantified as R-squared.\n",
    "\n",
    "We have also seen the ERROR metrics that **SUMMARIZE** the errors of a model. We can calculate those errors based on the SQUARED ERROR, which is summarized as the MSE or RMSE. Or, we can calc those errors based on the ABSOLUTE ERROR which is summarized as the MAE."
   ]
  },
  {
   "cell_type": "code",
   "execution_count": null,
   "id": "0cc7c3d9-8e5a-4299-9643-e91ad937b130",
   "metadata": {},
   "outputs": [],
   "source": []
  }
 ],
 "metadata": {
  "kernelspec": {
   "display_name": "Python 3 (ipykernel)",
   "language": "python",
   "name": "python3"
  },
  "language_info": {
   "codemirror_mode": {
    "name": "ipython",
    "version": 3
   },
   "file_extension": ".py",
   "mimetype": "text/x-python",
   "name": "python",
   "nbconvert_exporter": "python",
   "pygments_lexer": "ipython3",
   "version": "3.8.19"
  }
 },
 "nbformat": 4,
 "nbformat_minor": 5
}
