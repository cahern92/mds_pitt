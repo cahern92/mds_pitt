{
 "cells": [
  {
   "cell_type": "markdown",
   "id": "7b23ab86-1185-44a5-8f01-fd9a08b86f64",
   "metadata": {},
   "source": [
    "## CMPINF 2100 Week 04\n",
    "### RESHAPING with NumPy\n",
    "We need to review DIMENSIONS or SHAPES in NumPy. What is the difference between ROWS and COLUMNS?\n",
    "\n",
    "## Import Modules"
   ]
  },
  {
   "cell_type": "code",
   "execution_count": 1,
   "id": "1504b176-bf3d-4db2-8a00-55202646b75b",
   "metadata": {},
   "outputs": [],
   "source": [
    "import numpy as np"
   ]
  },
  {
   "cell_type": "markdown",
   "id": "2896deab-d063-48b3-bfd0-53cd7ae95b2b",
   "metadata": {},
   "source": [
    "## Introduction to reshaping\n",
    "Lets being by reviewing a 1D NumPy array."
   ]
  },
  {
   "cell_type": "code",
   "execution_count": 2,
   "id": "bea64221-397f-49dc-a842-d88474fd4593",
   "metadata": {},
   "outputs": [
    {
     "data": {
      "text/plain": [
       "array([ 1,  2,  3,  4,  5,  6,  7,  8,  9, 10, 11, 12, 13, 14, 15, 16, 17,\n",
       "       18, 19, 20, 21, 22, 23, 24])"
      ]
     },
     "execution_count": 2,
     "metadata": {},
     "output_type": "execute_result"
    }
   ],
   "source": [
    "np.arange(1, 25 )"
   ]
  },
  {
   "cell_type": "code",
   "execution_count": 4,
   "id": "a6b7deca-91f6-406c-81f6-444a7d256512",
   "metadata": {},
   "outputs": [
    {
     "data": {
      "text/plain": [
       "1"
      ]
     },
     "execution_count": 4,
     "metadata": {},
     "output_type": "execute_result"
    }
   ],
   "source": [
    "np.arange(1, 25).ndim"
   ]
  },
  {
   "cell_type": "code",
   "execution_count": 5,
   "id": "2c91f0d2-06a1-40c4-8648-0b6a36f70b54",
   "metadata": {},
   "outputs": [
    {
     "data": {
      "text/plain": [
       "(24,)"
      ]
     },
     "execution_count": 5,
     "metadata": {},
     "output_type": "execute_result"
    }
   ],
   "source": [
    "np.arange(1, 25).shape"
   ]
  },
  {
   "cell_type": "code",
   "execution_count": 6,
   "id": "4c62c733-fbac-4d34-acd5-89843cd51e15",
   "metadata": {},
   "outputs": [
    {
     "data": {
      "text/plain": [
       "24"
      ]
     },
     "execution_count": 6,
     "metadata": {},
     "output_type": "execute_result"
    }
   ],
   "source": [
    "np.arange(1, 25).size"
   ]
  },
  {
   "cell_type": "code",
   "execution_count": 7,
   "id": "61103baf-9f77-4143-b69b-21248e60bcac",
   "metadata": {},
   "outputs": [],
   "source": [
    "x = np.arange(1, 25)"
   ]
  },
  {
   "cell_type": "code",
   "execution_count": 8,
   "id": "fb87662b-47dd-4142-943b-a48b6a2eb00c",
   "metadata": {},
   "outputs": [
    {
     "name": "stdout",
     "output_type": "stream",
     "text": [
      "Variable   Type       Data/Info\n",
      "-------------------------------\n",
      "np         module     <module 'numpy' from '/Ap<...>kages/numpy/__init__.py'>\n",
      "x          ndarray    24: 24 elems, type `int64`, 192 bytes\n"
     ]
    }
   ],
   "source": [
    "%whos"
   ]
  },
  {
   "cell_type": "code",
   "execution_count": 9,
   "id": "6a9e333f-c507-4421-9c13-355703b0b4a7",
   "metadata": {},
   "outputs": [
    {
     "data": {
      "text/plain": [
       "1"
      ]
     },
     "execution_count": 9,
     "metadata": {},
     "output_type": "execute_result"
    }
   ],
   "source": [
    "x.ndim"
   ]
  },
  {
   "cell_type": "code",
   "execution_count": 10,
   "id": "6df0eaf5-704f-4b60-8414-011bf38719ee",
   "metadata": {},
   "outputs": [
    {
     "data": {
      "text/plain": [
       "(24,)"
      ]
     },
     "execution_count": 10,
     "metadata": {},
     "output_type": "execute_result"
    }
   ],
   "source": [
    "x.shape"
   ]
  },
  {
   "cell_type": "code",
   "execution_count": 11,
   "id": "a5589df3-8cf9-4f74-894c-a6b6df212c45",
   "metadata": {},
   "outputs": [
    {
     "data": {
      "text/plain": [
       "24"
      ]
     },
     "execution_count": 11,
     "metadata": {},
     "output_type": "execute_result"
    }
   ],
   "source": [
    "x.size"
   ]
  },
  {
   "cell_type": "markdown",
   "id": "d2ef99ea-8efa-4c0f-9319-e9ec919049ab",
   "metadata": {},
   "source": [
    "Let's convert or **RESHAPE** the 1D array into a 2D array!!!\n",
    "\n",
    "We will literally ADD a dimension to the object and modify where and how they values are stored!!!\n",
    "\n",
    "We reshape with the `.reshape()` method. All NumPy arrays have this method.\n",
    "\n",
    "`.reshape(<NEW ROWS>, <NEW COLUMNS>)`\n",
    "\n",
    "Let's convert the `x` into a 2D array with 12 rows and 2 columns."
   ]
  },
  {
   "cell_type": "code",
   "execution_count": 12,
   "id": "4fec5cc7-1220-42bf-8153-01e1f72c941f",
   "metadata": {},
   "outputs": [
    {
     "data": {
      "text/plain": [
       "array([ 1,  2,  3,  4,  5,  6,  7,  8,  9, 10, 11, 12, 13, 14, 15, 16, 17,\n",
       "       18, 19, 20, 21, 22, 23, 24])"
      ]
     },
     "execution_count": 12,
     "metadata": {},
     "output_type": "execute_result"
    }
   ],
   "source": [
    "x"
   ]
  },
  {
   "cell_type": "code",
   "execution_count": 13,
   "id": "c2d1908b-9557-451d-b557-077f49cade4b",
   "metadata": {},
   "outputs": [
    {
     "data": {
      "text/plain": [
       "array([[ 1,  2],\n",
       "       [ 3,  4],\n",
       "       [ 5,  6],\n",
       "       [ 7,  8],\n",
       "       [ 9, 10],\n",
       "       [11, 12],\n",
       "       [13, 14],\n",
       "       [15, 16],\n",
       "       [17, 18],\n",
       "       [19, 20],\n",
       "       [21, 22],\n",
       "       [23, 24]])"
      ]
     },
     "execution_count": 13,
     "metadata": {},
     "output_type": "execute_result"
    }
   ],
   "source": [
    "x.reshape(12, 2)"
   ]
  },
  {
   "cell_type": "code",
   "execution_count": 14,
   "id": "f084f3b3-67d9-4611-b5bf-652df391aa1c",
   "metadata": {},
   "outputs": [
    {
     "data": {
      "text/plain": [
       "[[1, 2], [3, 4]]"
      ]
     },
     "execution_count": 14,
     "metadata": {},
     "output_type": "execute_result"
    }
   ],
   "source": [
    "[[1, 2], [3, 4] ] "
   ]
  },
  {
   "cell_type": "code",
   "execution_count": 16,
   "id": "e50d110f-f5ef-403b-955e-3de0e59c5ac5",
   "metadata": {},
   "outputs": [
    {
     "data": {
      "text/plain": [
       "2"
      ]
     },
     "execution_count": 16,
     "metadata": {},
     "output_type": "execute_result"
    }
   ],
   "source": [
    "x.reshape(12, 2).ndim"
   ]
  },
  {
   "cell_type": "code",
   "execution_count": 17,
   "id": "a992a86a-71de-4d3e-84b6-6a9f044a5bd5",
   "metadata": {},
   "outputs": [
    {
     "data": {
      "text/plain": [
       "(12, 2)"
      ]
     },
     "execution_count": 17,
     "metadata": {},
     "output_type": "execute_result"
    }
   ],
   "source": [
    "x.reshape(12, 2).shape"
   ]
  },
  {
   "cell_type": "code",
   "execution_count": 18,
   "id": "ebb2a7a5-74bb-4c5b-a6f8-34fda448cf8e",
   "metadata": {},
   "outputs": [
    {
     "data": {
      "text/plain": [
       "24"
      ]
     },
     "execution_count": 18,
     "metadata": {},
     "output_type": "execute_result"
    }
   ],
   "source": [
    "x.reshape(12, 2).size"
   ]
  },
  {
   "cell_type": "markdown",
   "id": "bb3fa9ac-285e-41fa-bad7-aeeb8d481e54",
   "metadata": {},
   "source": [
    "The `.ndim` attribute is DIFFERENT AFTER applying the reshaping operation! Originally, the `x` object has 1 dimension:"
   ]
  },
  {
   "cell_type": "code",
   "execution_count": 19,
   "id": "7329691d-0536-4523-9c63-b3e971b754cb",
   "metadata": {},
   "outputs": [
    {
     "data": {
      "text/plain": [
       "1"
      ]
     },
     "execution_count": 19,
     "metadata": {},
     "output_type": "execute_result"
    }
   ],
   "source": [
    "x.ndim"
   ]
  },
  {
   "cell_type": "code",
   "execution_count": 20,
   "id": "d10d4330-ca65-4f8e-9bfc-cbafee326b24",
   "metadata": {},
   "outputs": [
    {
     "data": {
      "text/plain": [
       "(24,)"
      ]
     },
     "execution_count": 20,
     "metadata": {},
     "output_type": "execute_result"
    }
   ],
   "source": [
    "x.shape"
   ]
  },
  {
   "cell_type": "code",
   "execution_count": 21,
   "id": "f6ad0adb-3141-4492-8865-4d8bb1e8089c",
   "metadata": {},
   "outputs": [
    {
     "data": {
      "text/plain": [
       "24"
      ]
     },
     "execution_count": 21,
     "metadata": {},
     "output_type": "execute_result"
    }
   ],
   "source": [
    "x.size"
   ]
  },
  {
   "cell_type": "markdown",
   "id": "904cb488-337c-4bcd-a471-75e596570239",
   "metadata": {},
   "source": [
    "HOWEVER...VERY IMPORTANTLY, THE TOTAL number of elements has NOT CHANGED!!\n",
    "\n",
    "We have just organized the data, not changed the items."
   ]
  },
  {
   "cell_type": "code",
   "execution_count": 32,
   "id": "8fac5c19-bc33-4803-8701-3aa533563ecd",
   "metadata": {},
   "outputs": [],
   "source": [
    "x2 = x.reshape(12, 2)"
   ]
  },
  {
   "cell_type": "markdown",
   "id": "c018ab3f-0d38-4016-a04e-07290e0b9893",
   "metadata": {},
   "source": [
    "Of course, we could have reshaped to something other than 12 rows!!\n",
    "\n",
    "We could have reshaped to 6 rows and 4 columns!!"
   ]
  },
  {
   "cell_type": "code",
   "execution_count": 36,
   "id": "5755e9e2-3494-48db-8c56-5dc1a0d0b144",
   "metadata": {},
   "outputs": [
    {
     "data": {
      "text/plain": [
       "array([[ 1,  2,  3,  4],\n",
       "       [ 5,  6,  7,  8],\n",
       "       [ 9, 10, 11, 12],\n",
       "       [13, 14, 15, 16],\n",
       "       [17, 18, 19, 20],\n",
       "       [21, 22, 23, 24]])"
      ]
     },
     "execution_count": 36,
     "metadata": {},
     "output_type": "execute_result"
    }
   ],
   "source": [
    "x.reshape(6, 4)"
   ]
  },
  {
   "cell_type": "code",
   "execution_count": 37,
   "id": "2ce778bd-9e6d-4e7e-9ddc-15c78f8de2fd",
   "metadata": {},
   "outputs": [
    {
     "data": {
      "text/plain": [
       "array([[ 1,  2,  3,  4,  5,  6],\n",
       "       [ 7,  8,  9, 10, 11, 12],\n",
       "       [13, 14, 15, 16, 17, 18],\n",
       "       [19, 20, 21, 22, 23, 24]])"
      ]
     },
     "execution_count": 37,
     "metadata": {},
     "output_type": "execute_result"
    }
   ],
   "source": [
    "x.reshape(4, 6)"
   ]
  },
  {
   "cell_type": "code",
   "execution_count": 38,
   "id": "09183819-0700-46a4-aedc-5608afd7a33a",
   "metadata": {},
   "outputs": [
    {
     "data": {
      "text/plain": [
       "array([[ 1,  2,  3,  4,  5,  6,  7,  8,  9, 10, 11, 12],\n",
       "       [13, 14, 15, 16, 17, 18, 19, 20, 21, 22, 23, 24]])"
      ]
     },
     "execution_count": 38,
     "metadata": {},
     "output_type": "execute_result"
    }
   ],
   "source": [
    "x.reshape(2, 12)"
   ]
  },
  {
   "cell_type": "markdown",
   "id": "f3c072c8-2fb6-4e64-b944-540704f14eca",
   "metadata": {},
   "source": [
    "I could even try 8 rows and 3 columns!!"
   ]
  },
  {
   "cell_type": "code",
   "execution_count": 39,
   "id": "58836d66-1785-4e9f-8219-acf5c6d2aa57",
   "metadata": {},
   "outputs": [
    {
     "data": {
      "text/plain": [
       "array([[ 1,  2,  3],\n",
       "       [ 4,  5,  6],\n",
       "       [ 7,  8,  9],\n",
       "       [10, 11, 12],\n",
       "       [13, 14, 15],\n",
       "       [16, 17, 18],\n",
       "       [19, 20, 21],\n",
       "       [22, 23, 24]])"
      ]
     },
     "execution_count": 39,
     "metadata": {},
     "output_type": "execute_result"
    }
   ],
   "source": [
    "x.reshape(8, 3)"
   ]
  },
  {
   "cell_type": "code",
   "execution_count": 40,
   "id": "8527beb2-74ae-4148-82d1-40e04d7b6d39",
   "metadata": {},
   "outputs": [
    {
     "data": {
      "text/plain": [
       "array([[ 1,  2,  3,  4,  5,  6,  7,  8],\n",
       "       [ 9, 10, 11, 12, 13, 14, 15, 16],\n",
       "       [17, 18, 19, 20, 21, 22, 23, 24]])"
      ]
     },
     "execution_count": 40,
     "metadata": {},
     "output_type": "execute_result"
    }
   ],
   "source": [
    "x.reshape(3, 8)"
   ]
  },
  {
   "cell_type": "markdown",
   "id": "e2cf6503-022f-4747-a0d0-db1263d6ebb1",
   "metadata": {},
   "source": [
    "The important point is that the NUMBER of ROWS multiplied by the NUMBER OF COLUMNS must equal the total number of ELEMENTS or SIZE!\n",
    "\n",
    "If you don't want to do the mental math and type both the NEW NUMBER OF ROWS and the NEW number of COLUMNS.. you can include a -1 as an argument."
   ]
  },
  {
   "cell_type": "code",
   "execution_count": 47,
   "id": "64c21f69-06cc-4aba-b751-16e1a1b24f5f",
   "metadata": {},
   "outputs": [
    {
     "data": {
      "text/plain": [
       "array([[ 1,  2,  3,  4,  5,  6,  7,  8,  9, 10, 11, 12],\n",
       "       [13, 14, 15, 16, 17, 18, 19, 20, 21, 22, 23, 24]])"
      ]
     },
     "execution_count": 47,
     "metadata": {},
     "output_type": "execute_result"
    }
   ],
   "source": [
    "x.reshape(2, -1)"
   ]
  },
  {
   "cell_type": "code",
   "execution_count": 48,
   "id": "afe39c82-238e-4ea6-b6f0-5835f846bac0",
   "metadata": {},
   "outputs": [
    {
     "data": {
      "text/plain": [
       "array([[ 1,  2,  3,  4,  5,  6,  7,  8],\n",
       "       [ 9, 10, 11, 12, 13, 14, 15, 16],\n",
       "       [17, 18, 19, 20, 21, 22, 23, 24]])"
      ]
     },
     "execution_count": 48,
     "metadata": {},
     "output_type": "execute_result"
    }
   ],
   "source": [
    "x.reshape(-1, 8)"
   ]
  },
  {
   "cell_type": "markdown",
   "id": "41ba1689-d3e2-4021-8362-0a4675d13b1b",
   "metadata": {},
   "source": [
    "PLEASE BE CAREFUL!!!"
   ]
  },
  {
   "cell_type": "code",
   "execution_count": 49,
   "id": "544a5f1e-af41-4655-9184-24cf48268ee3",
   "metadata": {},
   "outputs": [
    {
     "ename": "ValueError",
     "evalue": "cannot reshape array of size 24 into shape (9,newaxis)",
     "output_type": "error",
     "traceback": [
      "\u001b[0;31m---------------------------------------------------------------------------\u001b[0m",
      "\u001b[0;31mValueError\u001b[0m                                Traceback (most recent call last)",
      "Cell \u001b[0;32mIn[49], line 1\u001b[0m\n\u001b[0;32m----> 1\u001b[0m \u001b[43mx\u001b[49m\u001b[38;5;241;43m.\u001b[39;49m\u001b[43mreshape\u001b[49m\u001b[43m(\u001b[49m\u001b[38;5;241;43m9\u001b[39;49m\u001b[43m,\u001b[49m\u001b[43m \u001b[49m\u001b[38;5;241;43m-\u001b[39;49m\u001b[38;5;241;43m1\u001b[39;49m\u001b[43m)\u001b[49m\n",
      "\u001b[0;31mValueError\u001b[0m: cannot reshape array of size 24 into shape (9,newaxis)"
     ]
    }
   ],
   "source": [
    "x.reshape(9, -1)"
   ]
  },
  {
   "cell_type": "code",
   "execution_count": 50,
   "id": "19430b02-f1ab-4425-866b-99b5333cc65e",
   "metadata": {},
   "outputs": [
    {
     "ename": "ValueError",
     "evalue": "cannot reshape array of size 24 into shape (9,3)",
     "output_type": "error",
     "traceback": [
      "\u001b[0;31m---------------------------------------------------------------------------\u001b[0m",
      "\u001b[0;31mValueError\u001b[0m                                Traceback (most recent call last)",
      "Cell \u001b[0;32mIn[50], line 1\u001b[0m\n\u001b[0;32m----> 1\u001b[0m \u001b[43mx\u001b[49m\u001b[38;5;241;43m.\u001b[39;49m\u001b[43mreshape\u001b[49m\u001b[43m(\u001b[49m\u001b[38;5;241;43m9\u001b[39;49m\u001b[43m,\u001b[49m\u001b[38;5;241;43m3\u001b[39;49m\u001b[43m)\u001b[49m\n",
      "\u001b[0;31mValueError\u001b[0m: cannot reshape array of size 24 into shape (9,3)"
     ]
    }
   ],
   "source": [
    "x.reshape(9,3)"
   ]
  },
  {
   "cell_type": "code",
   "execution_count": 51,
   "id": "e5a300aa-2d4d-4149-bafd-6a532daa5f22",
   "metadata": {},
   "outputs": [
    {
     "ename": "ValueError",
     "evalue": "cannot reshape array of size 24 into shape (9,2)",
     "output_type": "error",
     "traceback": [
      "\u001b[0;31m---------------------------------------------------------------------------\u001b[0m",
      "\u001b[0;31mValueError\u001b[0m                                Traceback (most recent call last)",
      "Cell \u001b[0;32mIn[51], line 1\u001b[0m\n\u001b[0;32m----> 1\u001b[0m \u001b[43mx\u001b[49m\u001b[38;5;241;43m.\u001b[39;49m\u001b[43mreshape\u001b[49m\u001b[43m(\u001b[49m\u001b[38;5;241;43m9\u001b[39;49m\u001b[43m,\u001b[49m\u001b[43m \u001b[49m\u001b[38;5;241;43m2\u001b[39;49m\u001b[43m)\u001b[49m\n",
      "\u001b[0;31mValueError\u001b[0m: cannot reshape array of size 24 into shape (9,2)"
     ]
    }
   ],
   "source": [
    "x.reshape(9, 2)"
   ]
  },
  {
   "cell_type": "markdown",
   "id": "bd2b7365-2704-4a94-9734-463c5a322b0f",
   "metadata": {},
   "source": [
    "The SIZE must equal the PRODUCT of the number of rows and columns!"
   ]
  },
  {
   "cell_type": "markdown",
   "id": "6f2f94a6-6f8c-4754-9d3e-118298129fe8",
   "metadata": {},
   "source": [
    "## Other reshaping procedures\n",
    "\n",
    "The most common reshaping technique is the TRANSPOSE of a 2D array.\n",
    "\n",
    "Transposing swaps the rows and columns!\n",
    "\n",
    "To see how transposing works, lets work with a 2D array named `y`."
   ]
  },
  {
   "cell_type": "code",
   "execution_count": 52,
   "id": "eb580c35-a98c-4748-84c7-511a07ec0ade",
   "metadata": {},
   "outputs": [],
   "source": [
    "y = np.arange(1,25).reshape(8,-1)"
   ]
  },
  {
   "cell_type": "code",
   "execution_count": 53,
   "id": "e2613838-9634-436c-b9d3-a723175f0baf",
   "metadata": {},
   "outputs": [
    {
     "data": {
      "text/plain": [
       "array([[ 1,  2,  3],\n",
       "       [ 4,  5,  6],\n",
       "       [ 7,  8,  9],\n",
       "       [10, 11, 12],\n",
       "       [13, 14, 15],\n",
       "       [16, 17, 18],\n",
       "       [19, 20, 21],\n",
       "       [22, 23, 24]])"
      ]
     },
     "execution_count": 53,
     "metadata": {},
     "output_type": "execute_result"
    }
   ],
   "source": [
    "y"
   ]
  },
  {
   "cell_type": "code",
   "execution_count": 54,
   "id": "17c4b42d-9156-4c36-b38d-e90f0c9ddb00",
   "metadata": {},
   "outputs": [
    {
     "data": {
      "text/plain": [
       "2"
      ]
     },
     "execution_count": 54,
     "metadata": {},
     "output_type": "execute_result"
    }
   ],
   "source": [
    "y.ndim"
   ]
  },
  {
   "cell_type": "code",
   "execution_count": 55,
   "id": "a6a1c1fd-1db0-4dad-89d4-4cd1af5912de",
   "metadata": {},
   "outputs": [
    {
     "name": "stdout",
     "output_type": "stream",
     "text": [
      "Variable   Type       Data/Info\n",
      "-------------------------------\n",
      "np         module     <module 'numpy' from '/Ap<...>kages/numpy/__init__.py'>\n",
      "x          ndarray    24: 24 elems, type `int64`, 192 bytes\n",
      "x2         ndarray    12x2: 24 elems, type `int64`, 192 bytes\n",
      "x3         ndarray    12x2: 24 elems, type `int64`, 192 bytes\n",
      "y          ndarray    8x3: 24 elems, type `int64`, 192 bytes\n"
     ]
    }
   ],
   "source": [
    "%whos"
   ]
  },
  {
   "cell_type": "markdown",
   "id": "9632fd95-82fb-4268-a7db-e613e5291ce9",
   "metadata": {},
   "source": [
    "NumPy 2D arrays include the `.T` attribute to EXECUTE a transpose."
   ]
  },
  {
   "cell_type": "code",
   "execution_count": 57,
   "id": "13aaac25-73ed-4875-8ab5-c35c13409e19",
   "metadata": {},
   "outputs": [
    {
     "data": {
      "text/plain": [
       "array([[ 1,  4,  7, 10, 13, 16, 19, 22],\n",
       "       [ 2,  5,  8, 11, 14, 17, 20, 23],\n",
       "       [ 3,  6,  9, 12, 15, 18, 21, 24]])"
      ]
     },
     "execution_count": 57,
     "metadata": {},
     "output_type": "execute_result"
    }
   ],
   "source": [
    "y.T"
   ]
  },
  {
   "cell_type": "code",
   "execution_count": 58,
   "id": "50ecdca1-2ff6-4c55-803f-58d806e2c2ee",
   "metadata": {},
   "outputs": [
    {
     "data": {
      "text/plain": [
       "array([[ 1,  2,  3],\n",
       "       [ 4,  5,  6],\n",
       "       [ 7,  8,  9],\n",
       "       [10, 11, 12],\n",
       "       [13, 14, 15],\n",
       "       [16, 17, 18],\n",
       "       [19, 20, 21],\n",
       "       [22, 23, 24]])"
      ]
     },
     "execution_count": 58,
     "metadata": {},
     "output_type": "execute_result"
    }
   ],
   "source": [
    "y"
   ]
  },
  {
   "cell_type": "code",
   "execution_count": 59,
   "id": "439c2190-f46f-4f7d-a0e4-651a5fb829bd",
   "metadata": {},
   "outputs": [
    {
     "data": {
      "text/plain": [
       "(8, 3)"
      ]
     },
     "execution_count": 59,
     "metadata": {},
     "output_type": "execute_result"
    }
   ],
   "source": [
    "y.shape"
   ]
  },
  {
   "cell_type": "code",
   "execution_count": 60,
   "id": "e1bf0038-d4ef-4cb2-884c-2d9cf4d88e93",
   "metadata": {},
   "outputs": [
    {
     "data": {
      "text/plain": [
       "(3, 8)"
      ]
     },
     "execution_count": 60,
     "metadata": {},
     "output_type": "execute_result"
    }
   ],
   "source": [
    "y.T.shape"
   ]
  },
  {
   "cell_type": "markdown",
   "id": "decd1934-af28-4109-8e0a-0435f3bfc8fe",
   "metadata": {},
   "source": [
    "Transposing is unfortunately what a lot of ppl will think of when you say RESHAPING the array!!\n",
    "\n",
    "But the `.reshape()` method is FAR MORE GENERAL than TRANSPOSING!!"
   ]
  },
  {
   "cell_type": "code",
   "execution_count": 61,
   "id": "1b2c60ab-690a-4a85-baf2-6122ac8702d1",
   "metadata": {},
   "outputs": [
    {
     "data": {
      "text/plain": [
       "array([[ 1,  2,  3],\n",
       "       [ 4,  5,  6],\n",
       "       [ 7,  8,  9],\n",
       "       [10, 11, 12],\n",
       "       [13, 14, 15],\n",
       "       [16, 17, 18],\n",
       "       [19, 20, 21],\n",
       "       [22, 23, 24]])"
      ]
     },
     "execution_count": 61,
     "metadata": {},
     "output_type": "execute_result"
    }
   ],
   "source": [
    "y"
   ]
  },
  {
   "cell_type": "code",
   "execution_count": 62,
   "id": "279020b1-0e2f-4278-a65e-da59022420b9",
   "metadata": {},
   "outputs": [
    {
     "data": {
      "text/plain": [
       "array([[ 1,  4,  7, 10, 13, 16, 19, 22],\n",
       "       [ 2,  5,  8, 11, 14, 17, 20, 23],\n",
       "       [ 3,  6,  9, 12, 15, 18, 21, 24]])"
      ]
     },
     "execution_count": 62,
     "metadata": {},
     "output_type": "execute_result"
    }
   ],
   "source": [
    "y.T"
   ]
  },
  {
   "cell_type": "code",
   "execution_count": 63,
   "id": "e1c4857f-f569-4ebe-a54f-030c9c5c1dfd",
   "metadata": {},
   "outputs": [
    {
     "data": {
      "text/plain": [
       "array([[ 1,  2],\n",
       "       [ 3,  4],\n",
       "       [ 5,  6],\n",
       "       [ 7,  8],\n",
       "       [ 9, 10],\n",
       "       [11, 12],\n",
       "       [13, 14],\n",
       "       [15, 16],\n",
       "       [17, 18],\n",
       "       [19, 20],\n",
       "       [21, 22],\n",
       "       [23, 24]])"
      ]
     },
     "execution_count": 63,
     "metadata": {},
     "output_type": "execute_result"
    }
   ],
   "source": [
    "y.reshape(12,2)"
   ]
  },
  {
   "cell_type": "markdown",
   "id": "8f421e83-e5ce-42b8-a9e6-20b1a0f80222",
   "metadata": {},
   "source": [
    "In fact, the `reshape()` function is so general we can turn a 2D array into a SINGLE ROW or SINGLE COLUMNS object!!!"
   ]
  },
  {
   "cell_type": "code",
   "execution_count": 64,
   "id": "d113cefc-1eea-4bd0-bba1-c0af5dd520ae",
   "metadata": {},
   "outputs": [
    {
     "data": {
      "text/plain": [
       "array([[ 1,  2,  3],\n",
       "       [ 4,  5,  6],\n",
       "       [ 7,  8,  9],\n",
       "       [10, 11, 12],\n",
       "       [13, 14, 15],\n",
       "       [16, 17, 18],\n",
       "       [19, 20, 21],\n",
       "       [22, 23, 24]])"
      ]
     },
     "execution_count": 64,
     "metadata": {},
     "output_type": "execute_result"
    }
   ],
   "source": [
    "y"
   ]
  },
  {
   "cell_type": "code",
   "execution_count": 65,
   "id": "5fe1cdfb-0c02-492d-9b91-6fc89a3b7202",
   "metadata": {},
   "outputs": [
    {
     "data": {
      "text/plain": [
       "array([[ 1,  2,  3,  4,  5,  6,  7,  8,  9, 10, 11, 12, 13, 14, 15, 16,\n",
       "        17, 18, 19, 20, 21, 22, 23, 24]])"
      ]
     },
     "execution_count": 65,
     "metadata": {},
     "output_type": "execute_result"
    }
   ],
   "source": [
    "y.reshape(1, -1)"
   ]
  },
  {
   "cell_type": "code",
   "execution_count": 66,
   "id": "a20d9647-3bf9-45db-b1a2-e8fb4ac03a40",
   "metadata": {},
   "outputs": [
    {
     "data": {
      "text/plain": [
       "array([[ 1],\n",
       "       [ 2],\n",
       "       [ 3],\n",
       "       [ 4],\n",
       "       [ 5],\n",
       "       [ 6],\n",
       "       [ 7],\n",
       "       [ 8],\n",
       "       [ 9],\n",
       "       [10],\n",
       "       [11],\n",
       "       [12],\n",
       "       [13],\n",
       "       [14],\n",
       "       [15],\n",
       "       [16],\n",
       "       [17],\n",
       "       [18],\n",
       "       [19],\n",
       "       [20],\n",
       "       [21],\n",
       "       [22],\n",
       "       [23],\n",
       "       [24]])"
      ]
     },
     "execution_count": 66,
     "metadata": {},
     "output_type": "execute_result"
    }
   ],
   "source": [
    "y.reshape(-1, 1)"
   ]
  },
  {
   "cell_type": "code",
   "execution_count": 67,
   "id": "6fac6b74-3f8d-40a3-86df-32711acfc25b",
   "metadata": {},
   "outputs": [
    {
     "data": {
      "text/plain": [
       "array([ 1,  2,  3,  4,  5,  6,  7,  8,  9, 10, 11, 12, 13, 14, 15, 16, 17,\n",
       "       18, 19, 20, 21, 22, 23, 24])"
      ]
     },
     "execution_count": 67,
     "metadata": {},
     "output_type": "execute_result"
    }
   ],
   "source": [
    "x"
   ]
  },
  {
   "cell_type": "code",
   "execution_count": 68,
   "id": "8bf46d0f-d8ee-462c-a0d6-22d5de16ee12",
   "metadata": {},
   "outputs": [
    {
     "data": {
      "text/plain": [
       "array([[ 1,  2,  3,  4,  5,  6,  7,  8,  9, 10, 11, 12, 13, 14, 15, 16,\n",
       "        17, 18, 19, 20, 21, 22, 23, 24]])"
      ]
     },
     "execution_count": 68,
     "metadata": {},
     "output_type": "execute_result"
    }
   ],
   "source": [
    "y.reshape(1, -1)"
   ]
  },
  {
   "cell_type": "markdown",
   "id": "7961f206-0550-4902-8716-ac6a2652ec6a",
   "metadata": {},
   "source": [
    "But later in the semester and especially in the classes that follow CMPINF 2100...the difference between a TRUE 1D array and a 2D array that is a single column/row will be important...\n",
    "\n",
    "Sometimes we need to DROP a 2D array into a 1D array.\n",
    "\n",
    "We can do that with the `.ravel()` method."
   ]
  },
  {
   "cell_type": "code",
   "execution_count": 69,
   "id": "d41bfc3e-da8b-4776-aa3e-f8d892984717",
   "metadata": {},
   "outputs": [
    {
     "data": {
      "text/plain": [
       "array([ 1,  2,  3,  4,  5,  6,  7,  8,  9, 10, 11, 12, 13, 14, 15, 16, 17,\n",
       "       18, 19, 20, 21, 22, 23, 24])"
      ]
     },
     "execution_count": 69,
     "metadata": {},
     "output_type": "execute_result"
    }
   ],
   "source": [
    "x"
   ]
  },
  {
   "cell_type": "code",
   "execution_count": 70,
   "id": "5fcae21f-f9b7-4aee-b93b-b1d698039f1a",
   "metadata": {},
   "outputs": [
    {
     "data": {
      "text/plain": [
       "1"
      ]
     },
     "execution_count": 70,
     "metadata": {},
     "output_type": "execute_result"
    }
   ],
   "source": [
    "x.ndim"
   ]
  },
  {
   "cell_type": "code",
   "execution_count": 71,
   "id": "ee8ee7b1-8144-43b3-b784-d174fba3906b",
   "metadata": {},
   "outputs": [
    {
     "data": {
      "text/plain": [
       "(1, 24)"
      ]
     },
     "execution_count": 71,
     "metadata": {},
     "output_type": "execute_result"
    }
   ],
   "source": [
    "y.reshape(1, -1).shape"
   ]
  },
  {
   "cell_type": "code",
   "execution_count": 72,
   "id": "54ba2a49-9acf-4eb0-baca-f83f0018d21d",
   "metadata": {},
   "outputs": [
    {
     "data": {
      "text/plain": [
       "array([ 1,  2,  3,  4,  5,  6,  7,  8,  9, 10, 11, 12, 13, 14, 15, 16, 17,\n",
       "       18, 19, 20, 21, 22, 23, 24])"
      ]
     },
     "execution_count": 72,
     "metadata": {},
     "output_type": "execute_result"
    }
   ],
   "source": [
    "y.reshape(1, -1).ravel()"
   ]
  },
  {
   "cell_type": "code",
   "execution_count": 73,
   "id": "f48efe13-2b23-4786-87e8-e723854603b1",
   "metadata": {},
   "outputs": [
    {
     "data": {
      "text/plain": [
       "1"
      ]
     },
     "execution_count": 73,
     "metadata": {},
     "output_type": "execute_result"
    }
   ],
   "source": [
    "y.reshape(1, -1).ravel().ndim"
   ]
  },
  {
   "cell_type": "markdown",
   "id": "ac5441ca-a6e9-415c-8e32-075b87e4941b",
   "metadata": {},
   "source": [
    "## Summary\n",
    "\n",
    "We need to pay attention to the num of ROWS and COLUMNS or the DIMENSIONS and SHAPE of the NumPy array!!\n",
    "\n",
    "We can modify the SHAPE by `.shape()` and we can \"SQUEEZE\" or \"compress\" a 2D array into a 1D array with `.ravel()`."
   ]
  },
  {
   "cell_type": "code",
   "execution_count": null,
   "id": "c907f379-4069-43c3-b558-7114844d4354",
   "metadata": {},
   "outputs": [],
   "source": []
  },
  {
   "cell_type": "code",
   "execution_count": null,
   "id": "aad23b6d-66da-435c-8624-d94d17a8358d",
   "metadata": {},
   "outputs": [],
   "source": []
  },
  {
   "cell_type": "code",
   "execution_count": null,
   "id": "ceb958c3-8919-4ca1-97f4-58b513b7a04a",
   "metadata": {},
   "outputs": [],
   "source": []
  },
  {
   "cell_type": "code",
   "execution_count": null,
   "id": "95c38686-bab1-4beb-8de9-d62ae82dbf4a",
   "metadata": {},
   "outputs": [],
   "source": []
  },
  {
   "cell_type": "code",
   "execution_count": null,
   "id": "8c1c0616-93e4-41be-9d7d-8d1885fb1360",
   "metadata": {},
   "outputs": [],
   "source": []
  },
  {
   "cell_type": "code",
   "execution_count": null,
   "id": "dd9aec4e-5019-453b-a219-e7966ea2c9b7",
   "metadata": {},
   "outputs": [],
   "source": []
  }
 ],
 "metadata": {
  "kernelspec": {
   "display_name": "Python 3 (ipykernel)",
   "language": "python",
   "name": "python3"
  },
  "language_info": {
   "codemirror_mode": {
    "name": "ipython",
    "version": 3
   },
   "file_extension": ".py",
   "mimetype": "text/x-python",
   "name": "python",
   "nbconvert_exporter": "python",
   "pygments_lexer": "ipython3",
   "version": "3.8.19"
  }
 },
 "nbformat": 4,
 "nbformat_minor": 5
}
