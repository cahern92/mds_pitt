{
 "cells": [
  {
   "cell_type": "markdown",
   "id": "d46a86b4-05c5-4677-bb90-a1b77ae94bf9",
   "metadata": {},
   "source": [
    "## CMPINF 2100 Week 04\n",
    "\n",
    "## Attributes and Methods Deep Dive\n",
    "\n",
    "We have used ATRIBUTES and METHODS continuously over the last few weeks. We need them for lists, dicts, NumPy arrays, and also for Pandas DataFrames. \n",
    "\n",
    "We need attributes and methods for ANY object data datype in Python!\n",
    "\n",
    "This example reinforces the diffs between attributes and methods by introducing user defined data types!\n",
    "\n",
    "This example comes from the standard Python 3 `class` example on the main Python support page.\n",
    "\n",
    "## User defined data type\n",
    "The reserved Python keyword `class` creates custom or user defined data types."
   ]
  },
  {
   "cell_type": "code",
   "execution_count": 6,
   "id": "e3200f4c-0e9c-4ec5-a5dc-235d08472843",
   "metadata": {},
   "outputs": [],
   "source": [
    "class MyClass:\n",
    "    \"\"\"\n",
    "    A simple example for showing how to define custom data types.\n",
    "    We will specify our own attributes and methods. \n",
    "    \"\"\"\n",
    "    # This is a comment just like any other Python comment\n",
    "    # an attribute is like an \"internal\" variable\n",
    "    # you can create any kind of attribute that you want\n",
    "\n",
    "    # This class will have an attribute i that is an integer\n",
    "    i = 12345\n",
    "\n",
    "    # Another attribute that is a str named s\n",
    "    s = '12345'\n",
    "\n",
    "    # create an attribute that is a list\n",
    "    l = [1, 2, 'three', 4.0]\n",
    "\n",
    "    # methods are defined internally to the class just as we \n",
    "    # define functions when we program!\n",
    "    # methods are functions linked to specific data types!!\n",
    "    def f(self):\n",
    "        return 'I need an object to work!'\n",
    "\n",
    "    # STATIC methods are different from \"regular\" methods\n",
    "    # even though they are defined similarly to \"regular\" methods\n",
    "    def fstatic():\n",
    "        return \"I work WITHOUT an object defined!\""
   ]
  },
  {
   "cell_type": "code",
   "execution_count": 7,
   "id": "d8c0199b-02bd-4318-a941-ae53565b0f09",
   "metadata": {},
   "outputs": [
    {
     "name": "stdout",
     "output_type": "stream",
     "text": [
      "Variable   Type    Data/Info\n",
      "----------------------------\n",
      "MyClass    type    <class '__main__.MyClass'>\n",
      "Myclass    type    <class '__main__.Myclass'>\n"
     ]
    }
   ],
   "source": [
    "%whos"
   ]
  },
  {
   "cell_type": "markdown",
   "id": "05d17c76-26d1-464d-a79f-2315db703e55",
   "metadata": {},
   "source": [
    "We need to define a variable or object which is of the data type MyClass.\n",
    "\n",
    "We can initialize an object by \"calling\" the `MyClass` and assigning it to a variable."
   ]
  },
  {
   "cell_type": "code",
   "execution_count": 10,
   "id": "96c7c31a-53e9-4c71-83cb-7347743533ed",
   "metadata": {},
   "outputs": [],
   "source": [
    "my_example_class = MyClass()"
   ]
  },
  {
   "cell_type": "code",
   "execution_count": 11,
   "id": "78475d76-2ce7-4be6-a496-04555cdeced0",
   "metadata": {},
   "outputs": [
    {
     "name": "stdout",
     "output_type": "stream",
     "text": [
      "Variable           Type       Data/Info\n",
      "---------------------------------------\n",
      "MyClass            type       <class '__main__.MyClass'>\n",
      "Myclass            type       <class '__main__.Myclass'>\n",
      "my_example_class   MyClass    <__main__.MyClass object at 0x10620f460>\n"
     ]
    }
   ],
   "source": [
    "%whos"
   ]
  },
  {
   "cell_type": "code",
   "execution_count": 12,
   "id": "574b73ba-f829-4561-8388-b25727d46187",
   "metadata": {},
   "outputs": [],
   "source": [
    "my_example_list = [1, 2, 3, 4, 5]"
   ]
  },
  {
   "cell_type": "code",
   "execution_count": 13,
   "id": "929c3dfc-4279-4850-bacf-47e56ccade61",
   "metadata": {},
   "outputs": [
    {
     "name": "stdout",
     "output_type": "stream",
     "text": [
      "Variable           Type       Data/Info\n",
      "---------------------------------------\n",
      "MyClass            type       <class '__main__.MyClass'>\n",
      "Myclass            type       <class '__main__.Myclass'>\n",
      "my_example_class   MyClass    <__main__.MyClass object at 0x10620f460>\n",
      "my_example_list    list       n=5\n"
     ]
    }
   ],
   "source": [
    "%whos"
   ]
  },
  {
   "cell_type": "markdown",
   "id": "0b7b04e6-1d44-4357-b5a5-d3d9da02a12e",
   "metadata": {},
   "source": [
    "All data types have ATTRIBUTES and METHODS!!!\n",
    "\n",
    "We can use the `dir()` function to check the avalable attributes and methods."
   ]
  },
  {
   "cell_type": "code",
   "execution_count": 14,
   "id": "342836e0-5442-4778-a001-50456d5bc9ee",
   "metadata": {},
   "outputs": [
    {
     "data": {
      "text/plain": [
       "['__class__',\n",
       " '__delattr__',\n",
       " '__dict__',\n",
       " '__dir__',\n",
       " '__doc__',\n",
       " '__eq__',\n",
       " '__format__',\n",
       " '__ge__',\n",
       " '__getattribute__',\n",
       " '__gt__',\n",
       " '__hash__',\n",
       " '__init__',\n",
       " '__init_subclass__',\n",
       " '__le__',\n",
       " '__lt__',\n",
       " '__module__',\n",
       " '__ne__',\n",
       " '__new__',\n",
       " '__reduce__',\n",
       " '__reduce_ex__',\n",
       " '__repr__',\n",
       " '__setattr__',\n",
       " '__sizeof__',\n",
       " '__str__',\n",
       " '__subclasshook__',\n",
       " '__weakref__',\n",
       " 'f',\n",
       " 'fstatic',\n",
       " 'i',\n",
       " 'l',\n",
       " 's']"
      ]
     },
     "execution_count": 14,
     "metadata": {},
     "output_type": "execute_result"
    }
   ],
   "source": [
    "dir(my_example_class)"
   ]
  },
  {
   "cell_type": "markdown",
   "id": "1b00a009-474b-4e2b-a978-9f8a6625f3db",
   "metadata": {},
   "source": [
    "Attributes and Methods are accessed via **DOT NOTATION**."
   ]
  },
  {
   "cell_type": "code",
   "execution_count": 16,
   "id": "0520e46e-b469-4b9f-9795-12dc7b4cbf7c",
   "metadata": {},
   "outputs": [
    {
     "data": {
      "text/plain": [
       "12345"
      ]
     },
     "execution_count": 16,
     "metadata": {},
     "output_type": "execute_result"
    }
   ],
   "source": [
    "my_example_class.i"
   ]
  },
  {
   "cell_type": "code",
   "execution_count": 17,
   "id": "b9b478f1-ea02-4ee3-b067-3e525fbff70f",
   "metadata": {},
   "outputs": [
    {
     "data": {
      "text/plain": [
       "[1, 2, 'three', 4.0]"
      ]
     },
     "execution_count": 17,
     "metadata": {},
     "output_type": "execute_result"
    }
   ],
   "source": [
    "my_example_class.l"
   ]
  },
  {
   "cell_type": "code",
   "execution_count": 18,
   "id": "74cafc97-eeef-4167-9faa-5aff4f8475e0",
   "metadata": {},
   "outputs": [
    {
     "data": {
      "text/plain": [
       "'12345'"
      ]
     },
     "execution_count": 18,
     "metadata": {},
     "output_type": "execute_result"
    }
   ],
   "source": [
    "my_example_class.s"
   ]
  },
  {
   "cell_type": "code",
   "execution_count": 19,
   "id": "042c247b-4803-4900-a1dc-c35e26c924e5",
   "metadata": {},
   "outputs": [
    {
     "name": "stdout",
     "output_type": "stream",
     "text": [
      "Variable           Type       Data/Info\n",
      "---------------------------------------\n",
      "MyClass            type       <class '__main__.MyClass'>\n",
      "Myclass            type       <class '__main__.Myclass'>\n",
      "my_example_class   MyClass    <__main__.MyClass object at 0x10620f460>\n",
      "my_example_list    list       n=5\n"
     ]
    }
   ],
   "source": [
    "%whos"
   ]
  },
  {
   "cell_type": "markdown",
   "id": "4b17d4a3-e51e-4efb-a2ff-c4e4557ce3ba",
   "metadata": {},
   "source": [
    "Methods however, are like FUNCTIONS. We need to use parantheses for them to EXECUTE!"
   ]
  },
  {
   "cell_type": "code",
   "execution_count": 20,
   "id": "4b4f73ad-ac4e-4b4e-96b5-ec67aaeff280",
   "metadata": {},
   "outputs": [
    {
     "data": {
      "text/plain": [
       "'I need an object to work!'"
      ]
     },
     "execution_count": 20,
     "metadata": {},
     "output_type": "execute_result"
    }
   ],
   "source": [
    "my_example_class.f()"
   ]
  },
  {
   "cell_type": "markdown",
   "id": "8caed433-d5b8-40e6-abea-1d489ae9a8f4",
   "metadata": {},
   "source": [
    "Static methods vs \"regular\" methods."
   ]
  },
  {
   "cell_type": "code",
   "execution_count": 22,
   "id": "71284ca1-cbb8-4c3c-b8b6-bd5872e82a63",
   "metadata": {},
   "outputs": [
    {
     "ename": "TypeError",
     "evalue": "fstatic() takes 0 positional arguments but 1 was given",
     "output_type": "error",
     "traceback": [
      "\u001b[0;31m---------------------------------------------------------------------------\u001b[0m",
      "\u001b[0;31mTypeError\u001b[0m                                 Traceback (most recent call last)",
      "Cell \u001b[0;32mIn[22], line 1\u001b[0m\n\u001b[0;32m----> 1\u001b[0m \u001b[43mmy_example_class\u001b[49m\u001b[38;5;241;43m.\u001b[39;49m\u001b[43mfstatic\u001b[49m\u001b[43m(\u001b[49m\u001b[43m)\u001b[49m\n",
      "\u001b[0;31mTypeError\u001b[0m: fstatic() takes 0 positional arguments but 1 was given"
     ]
    }
   ],
   "source": [
    "my_example_class.fstatic()"
   ]
  },
  {
   "cell_type": "markdown",
   "id": "5a4ce4e0-81a9-478f-82c7-c9997bdad140",
   "metadata": {},
   "source": [
    "Regular methods want to apply their function to the object!\n",
    "\n",
    "Static methods however, can be thought of as \"functions from a module.\" Meaning, we are accessing them directly from the class rather than a defined variable in the environment."
   ]
  },
  {
   "cell_type": "code",
   "execution_count": 23,
   "id": "80811eda-8b98-44c2-a150-20eafe9bec1b",
   "metadata": {},
   "outputs": [
    {
     "data": {
      "text/plain": [
       "'I work WITHOUT an object defined!'"
      ]
     },
     "execution_count": 23,
     "metadata": {},
     "output_type": "execute_result"
    }
   ],
   "source": [
    "MyClass.fstatic()"
   ]
  },
  {
   "cell_type": "code",
   "execution_count": 24,
   "id": "2227755f-0f94-49eb-b44f-b208a1330810",
   "metadata": {},
   "outputs": [
    {
     "ename": "TypeError",
     "evalue": "f() missing 1 required positional argument: 'self'",
     "output_type": "error",
     "traceback": [
      "\u001b[0;31m---------------------------------------------------------------------------\u001b[0m",
      "\u001b[0;31mTypeError\u001b[0m                                 Traceback (most recent call last)",
      "Cell \u001b[0;32mIn[24], line 1\u001b[0m\n\u001b[0;32m----> 1\u001b[0m \u001b[43mMyClass\u001b[49m\u001b[38;5;241;43m.\u001b[39;49m\u001b[43mf\u001b[49m\u001b[43m(\u001b[49m\u001b[43m)\u001b[49m\n",
      "\u001b[0;31mTypeError\u001b[0m: f() missing 1 required positional argument: 'self'"
     ]
    }
   ],
   "source": [
    "MyClass.f()"
   ]
  },
  {
   "cell_type": "markdown",
   "id": "788595b6-7c2f-4228-94e6-d7c07ee26a9e",
   "metadata": {},
   "source": [
    "## Initialization Methods\n",
    "\n",
    "Initialization methods are executed the moment the object is defined or **initialized**. Initialization methods will be VERY important when we get to working with the scikit-learn later in the semester.\n",
    "\n",
    "Let's define a NEW user defined data type, `Dog`. This data type will have a hard coded attributes AND an attribute that the USER specifies!!"
   ]
  },
  {
   "cell_type": "code",
   "execution_count": 29,
   "id": "c7ddae03-e1de-449f-adf9-28232fd76e8e",
   "metadata": {},
   "outputs": [],
   "source": [
    "class Dog:\n",
    "    kind = 'canine'\n",
    "\n",
    "    feet = 'paws'\n",
    "\n",
    "    has_tail = 'yes'\n",
    "\n",
    "    # initialization methods are like functions\n",
    "    # intialization methods are PRIVATE\n",
    "    # that means we need DUNDERS!!!\n",
    "    def __init__(self, dogs_name):\n",
    "        self.name = dogs_name"
   ]
  },
  {
   "cell_type": "code",
   "execution_count": 30,
   "id": "4642aa2b-8d14-4da6-94b6-00ee50c72c0c",
   "metadata": {},
   "outputs": [
    {
     "name": "stdout",
     "output_type": "stream",
     "text": [
      "Variable           Type       Data/Info\n",
      "---------------------------------------\n",
      "Dog                type       <class '__main__.Dog'>\n",
      "MyClass            type       <class '__main__.MyClass'>\n",
      "Myclass            type       <class '__main__.Myclass'>\n",
      "my_dog             Dog        <__main__.Dog object at 0x106ff2730>\n",
      "my_example_class   MyClass    <__main__.MyClass object at 0x10620f460>\n",
      "my_example_list    list       n=5\n"
     ]
    }
   ],
   "source": [
    "%whos"
   ]
  },
  {
   "cell_type": "markdown",
   "id": "edd21558-e964-476f-ad1e-8f78d44232ca",
   "metadata": {},
   "source": [
    "Assign or crate a new variable/object `my_dog` that is of the `Dog` data type."
   ]
  },
  {
   "cell_type": "code",
   "execution_count": 35,
   "id": "33453cff-4926-41a6-be60-a7ef43d9f783",
   "metadata": {},
   "outputs": [],
   "source": [
    "my_dog = Dog(dogs_name = 'Pepe')"
   ]
  },
  {
   "cell_type": "raw",
   "id": "34108905-19d7-46d1-9aaa-a047bd0c9296",
   "metadata": {},
   "source": [
    "%whos"
   ]
  },
  {
   "cell_type": "code",
   "execution_count": 37,
   "id": "b8ad37d8-1e99-4cf7-a135-0e4f7294f83f",
   "metadata": {},
   "outputs": [
    {
     "data": {
      "text/plain": [
       "['__class__',\n",
       " '__delattr__',\n",
       " '__dict__',\n",
       " '__dir__',\n",
       " '__doc__',\n",
       " '__eq__',\n",
       " '__format__',\n",
       " '__ge__',\n",
       " '__getattribute__',\n",
       " '__gt__',\n",
       " '__hash__',\n",
       " '__init__',\n",
       " '__init_subclass__',\n",
       " '__le__',\n",
       " '__lt__',\n",
       " '__module__',\n",
       " '__ne__',\n",
       " '__new__',\n",
       " '__reduce__',\n",
       " '__reduce_ex__',\n",
       " '__repr__',\n",
       " '__setattr__',\n",
       " '__sizeof__',\n",
       " '__str__',\n",
       " '__subclasshook__',\n",
       " '__weakref__',\n",
       " 'feet',\n",
       " 'has_tail',\n",
       " 'kind',\n",
       " 'name']"
      ]
     },
     "execution_count": 37,
     "metadata": {},
     "output_type": "execute_result"
    }
   ],
   "source": [
    "dir(my_dog)"
   ]
  },
  {
   "cell_type": "code",
   "execution_count": 38,
   "id": "710b48c8-f9a4-4161-a78c-fe23b9384da3",
   "metadata": {},
   "outputs": [
    {
     "data": {
      "text/plain": [
       "'paws'"
      ]
     },
     "execution_count": 38,
     "metadata": {},
     "output_type": "execute_result"
    }
   ],
   "source": [
    "my_dog.feet"
   ]
  },
  {
   "cell_type": "code",
   "execution_count": 39,
   "id": "56092e0f-5619-40b9-a230-0aa4ca3151cf",
   "metadata": {},
   "outputs": [
    {
     "data": {
      "text/plain": [
       "'Pepe'"
      ]
     },
     "execution_count": 39,
     "metadata": {},
     "output_type": "execute_result"
    }
   ],
   "source": [
    "my_dog.name"
   ]
  },
  {
   "cell_type": "code",
   "execution_count": 40,
   "id": "d050b836-e06d-40eb-85de-db9c1c203058",
   "metadata": {},
   "outputs": [
    {
     "data": {
      "text/plain": [
       "'yes'"
      ]
     },
     "execution_count": 40,
     "metadata": {},
     "output_type": "execute_result"
    }
   ],
   "source": [
    "my_dog.has_tail"
   ]
  },
  {
   "cell_type": "code",
   "execution_count": 41,
   "id": "5e06d0d5-3374-4f59-af0f-a6980cb9611e",
   "metadata": {},
   "outputs": [
    {
     "data": {
      "text/plain": [
       "'canine'"
      ]
     },
     "execution_count": 41,
     "metadata": {},
     "output_type": "execute_result"
    }
   ],
   "source": [
    "my_dog.kind"
   ]
  },
  {
   "cell_type": "markdown",
   "id": "2ca5099d-29b6-4424-957d-f34c45302227",
   "metadata": {},
   "source": [
    "Lets make another object of data type `Dog`."
   ]
  },
  {
   "cell_type": "code",
   "execution_count": 42,
   "id": "c463c599-3034-4b42-a46f-c8d3b1f9d36d",
   "metadata": {},
   "outputs": [],
   "source": [
    "my_brothers_dog = Dog (\"Bruce\")"
   ]
  },
  {
   "cell_type": "code",
   "execution_count": 43,
   "id": "25e00ba3-72d0-4c65-bcb8-1b1d0c5ca2a2",
   "metadata": {},
   "outputs": [
    {
     "data": {
      "text/plain": [
       "'Bruce'"
      ]
     },
     "execution_count": 43,
     "metadata": {},
     "output_type": "execute_result"
    }
   ],
   "source": [
    "my_brothers_dog.name"
   ]
  },
  {
   "cell_type": "markdown",
   "id": "e708cdc8-f02a-411d-8bab-4aa3db128bc3",
   "metadata": {},
   "source": [
    "## Define another data type\n",
    "\n",
    "This time lets use a data type `Pet` that has more attributes defined in the initialization method."
   ]
  },
  {
   "cell_type": "code",
   "execution_count": 44,
   "id": "14cb5eb1-c71c-46c4-a76b-e9c2a38490dd",
   "metadata": {},
   "outputs": [],
   "source": [
    "class Pet:\n",
    "    def __init__(self, species, name, the_pets_age):\n",
    "        self.species = species\n",
    "        self.name = name\n",
    "        self.age = the_pets_age"
   ]
  },
  {
   "cell_type": "code",
   "execution_count": 45,
   "id": "9c0aa987-5ad3-4361-ab0a-e75c345c7283",
   "metadata": {},
   "outputs": [],
   "source": [
    "my_brothers_other_dog = Pet(species = \"Dog\", name = \"Rey\", the_pets_age = 4)"
   ]
  },
  {
   "cell_type": "code",
   "execution_count": 46,
   "id": "9ed55810-55a0-454d-bc1f-e01f673c3e50",
   "metadata": {},
   "outputs": [
    {
     "data": {
      "text/plain": [
       "['__class__',\n",
       " '__delattr__',\n",
       " '__dict__',\n",
       " '__dir__',\n",
       " '__doc__',\n",
       " '__eq__',\n",
       " '__format__',\n",
       " '__ge__',\n",
       " '__getattribute__',\n",
       " '__gt__',\n",
       " '__hash__',\n",
       " '__init__',\n",
       " '__init_subclass__',\n",
       " '__le__',\n",
       " '__lt__',\n",
       " '__module__',\n",
       " '__ne__',\n",
       " '__new__',\n",
       " '__reduce__',\n",
       " '__reduce_ex__',\n",
       " '__repr__',\n",
       " '__setattr__',\n",
       " '__sizeof__',\n",
       " '__str__',\n",
       " '__subclasshook__',\n",
       " '__weakref__',\n",
       " 'age',\n",
       " 'name',\n",
       " 'species']"
      ]
     },
     "execution_count": 46,
     "metadata": {},
     "output_type": "execute_result"
    }
   ],
   "source": [
    "dir(my_brothers_other_dog)"
   ]
  },
  {
   "cell_type": "code",
   "execution_count": 48,
   "id": "b5afbf13-6600-4262-9d34-10f86ee7e735",
   "metadata": {},
   "outputs": [
    {
     "data": {
      "text/plain": [
       "'Rey'"
      ]
     },
     "execution_count": 48,
     "metadata": {},
     "output_type": "execute_result"
    }
   ],
   "source": [
    "my_brothers_other_dog.name"
   ]
  },
  {
   "cell_type": "code",
   "execution_count": 50,
   "id": "431fe3c6-1a94-4c52-b3c4-4f06b42c91c2",
   "metadata": {},
   "outputs": [
    {
     "data": {
      "text/plain": [
       "'Dog'"
      ]
     },
     "execution_count": 50,
     "metadata": {},
     "output_type": "execute_result"
    }
   ],
   "source": [
    "my_brothers_other_dog.species"
   ]
  },
  {
   "cell_type": "code",
   "execution_count": 51,
   "id": "7b209057-b6d2-43eb-86e3-e5474e427f7c",
   "metadata": {},
   "outputs": [
    {
     "data": {
      "text/plain": [
       "4"
      ]
     },
     "execution_count": 51,
     "metadata": {},
     "output_type": "execute_result"
    }
   ],
   "source": [
    "my_brothers_other_dog.age"
   ]
  },
  {
   "cell_type": "markdown",
   "id": "5eb24e55-96d2-4d18-95ad-c861ef67a8bd",
   "metadata": {},
   "source": [
    "You do NOT necessarily need to include the argument names when defining the object."
   ]
  },
  {
   "cell_type": "code",
   "execution_count": 54,
   "id": "e3bdb57a-86af-4b52-bdef-0a4d69194544",
   "metadata": {},
   "outputs": [],
   "source": [
    "our_frog = Pet(\"Frog\", \"Wilma\", 21)"
   ]
  },
  {
   "cell_type": "code",
   "execution_count": 55,
   "id": "55d7f244-d63c-4751-addd-45e08affe083",
   "metadata": {},
   "outputs": [
    {
     "data": {
      "text/plain": [
       "'Frog'"
      ]
     },
     "execution_count": 55,
     "metadata": {},
     "output_type": "execute_result"
    }
   ],
   "source": [
    "our_frog.species"
   ]
  },
  {
   "cell_type": "code",
   "execution_count": 56,
   "id": "f6affe14-eb0e-4be5-907c-5c3c29a9af4f",
   "metadata": {},
   "outputs": [
    {
     "data": {
      "text/plain": [
       "'Wilma'"
      ]
     },
     "execution_count": 56,
     "metadata": {},
     "output_type": "execute_result"
    }
   ],
   "source": [
    "our_frog.name"
   ]
  },
  {
   "cell_type": "code",
   "execution_count": 57,
   "id": "3b7c542b-9bb9-48ff-baef-ca2e5fbf202c",
   "metadata": {},
   "outputs": [
    {
     "data": {
      "text/plain": [
       "21"
      ]
     },
     "execution_count": 57,
     "metadata": {},
     "output_type": "execute_result"
    }
   ],
   "source": [
    "our_frog.age"
   ]
  },
  {
   "cell_type": "markdown",
   "id": "6abaee74-5cd8-4a50-973b-ed8c04e4bab0",
   "metadata": {},
   "source": [
    "But if you do NOT use the argument names...be VERY CAREFUL!!!\n",
    "\n",
    "If you forget the POSITIONS, then you wont have the CORRECT attributes!!!"
   ]
  },
  {
   "cell_type": "code",
   "execution_count": 58,
   "id": "19383529-45c7-449e-a63b-c8fd84bbf58c",
   "metadata": {},
   "outputs": [],
   "source": [
    "our_frog_b = Pet(\"Wilma\", \"Frog\", 21)"
   ]
  },
  {
   "cell_type": "code",
   "execution_count": 59,
   "id": "7d58f215-a1f1-4c3c-bf12-44c1af21a2e1",
   "metadata": {},
   "outputs": [
    {
     "data": {
      "text/plain": [
       "21"
      ]
     },
     "execution_count": 59,
     "metadata": {},
     "output_type": "execute_result"
    }
   ],
   "source": [
    "our_frog_b.age"
   ]
  },
  {
   "cell_type": "code",
   "execution_count": 60,
   "id": "bcd05140-de63-4cc3-8215-630d6d8779e9",
   "metadata": {},
   "outputs": [
    {
     "data": {
      "text/plain": [
       "'Wilma'"
      ]
     },
     "execution_count": 60,
     "metadata": {},
     "output_type": "execute_result"
    }
   ],
   "source": [
    "our_frog_b.species"
   ]
  },
  {
   "cell_type": "code",
   "execution_count": 61,
   "id": "8fba8383-3021-404e-803b-c9512a62ad0b",
   "metadata": {},
   "outputs": [
    {
     "data": {
      "text/plain": [
       "'Frog'"
      ]
     },
     "execution_count": 61,
     "metadata": {},
     "output_type": "execute_result"
    }
   ],
   "source": [
    "our_frog_b.name"
   ]
  },
  {
   "cell_type": "markdown",
   "id": "a549c154-4982-45ac-ac53-2506adfcba1d",
   "metadata": {},
   "source": [
    "## Parent and Child classes\n",
    "\n",
    "We can define custom data types that inherit the methods and attributes of already existing data types!\n",
    "\n",
    "The new data type is referred to as the \"CHILD\" and the data type we are basing the new one on, is referred to as the \"PARENT\".\n",
    "\n",
    "Create a new data type, `a_pet` based on `Pet`."
   ]
  },
  {
   "cell_type": "code",
   "execution_count": 62,
   "id": "f76fe902-bf35-4af2-9186-eca7ee073d40",
   "metadata": {},
   "outputs": [],
   "source": [
    "class a_pet(Pet):\n",
    "    # we only need to define NEW attributes and NEW methods\n",
    "    # that exist in the CHILD but not the PARENT!!\n",
    "\n",
    "    def celebrate_birthday(self):\n",
    "        self.age += 1 ## Self.age = self.age + 1"
   ]
  },
  {
   "cell_type": "code",
   "execution_count": 63,
   "id": "6934c25e-2474-46dc-a531-65a904d3d12e",
   "metadata": {},
   "outputs": [
    {
     "data": {
      "text/plain": [
       "['__class__',\n",
       " '__delattr__',\n",
       " '__dict__',\n",
       " '__dir__',\n",
       " '__doc__',\n",
       " '__eq__',\n",
       " '__format__',\n",
       " '__ge__',\n",
       " '__getattribute__',\n",
       " '__gt__',\n",
       " '__hash__',\n",
       " '__init__',\n",
       " '__init_subclass__',\n",
       " '__le__',\n",
       " '__lt__',\n",
       " '__module__',\n",
       " '__ne__',\n",
       " '__new__',\n",
       " '__reduce__',\n",
       " '__reduce_ex__',\n",
       " '__repr__',\n",
       " '__setattr__',\n",
       " '__sizeof__',\n",
       " '__str__',\n",
       " '__subclasshook__',\n",
       " '__weakref__',\n",
       " 'celebrate_birthday']"
      ]
     },
     "execution_count": 63,
     "metadata": {},
     "output_type": "execute_result"
    }
   ],
   "source": [
    "dir(a_pet)"
   ]
  },
  {
   "cell_type": "markdown",
   "id": "15a1bdb1-b9c6-495f-8303-6f78373f0096",
   "metadata": {},
   "source": [
    "Lets define a new object which is `a_pet` data type."
   ]
  },
  {
   "cell_type": "code",
   "execution_count": 64,
   "id": "f79e9c2c-f8e1-4b61-8302-e80aa29f5873",
   "metadata": {},
   "outputs": [],
   "source": [
    "geno = a_pet(species = \"Dog\", name=\"Geno\", the_pets_age=6)"
   ]
  },
  {
   "cell_type": "code",
   "execution_count": 69,
   "id": "d8b903d6-a950-4b8a-9573-88c6344f61b0",
   "metadata": {},
   "outputs": [
    {
     "data": {
      "text/plain": [
       "['__class__',\n",
       " '__delattr__',\n",
       " '__dict__',\n",
       " '__dir__',\n",
       " '__doc__',\n",
       " '__eq__',\n",
       " '__format__',\n",
       " '__ge__',\n",
       " '__getattribute__',\n",
       " '__gt__',\n",
       " '__hash__',\n",
       " '__init__',\n",
       " '__init_subclass__',\n",
       " '__le__',\n",
       " '__lt__',\n",
       " '__module__',\n",
       " '__ne__',\n",
       " '__new__',\n",
       " '__reduce__',\n",
       " '__reduce_ex__',\n",
       " '__repr__',\n",
       " '__setattr__',\n",
       " '__sizeof__',\n",
       " '__str__',\n",
       " '__subclasshook__',\n",
       " '__weakref__',\n",
       " 'age',\n",
       " 'celebrate_birthday',\n",
       " 'name',\n",
       " 'species']"
      ]
     },
     "execution_count": 69,
     "metadata": {},
     "output_type": "execute_result"
    }
   ],
   "source": [
    "dir(geno)"
   ]
  },
  {
   "cell_type": "markdown",
   "id": "d758d00c-366d-4e02-9499-cdddc72a7adc",
   "metadata": {},
   "source": [
    "The `celebrate_birthday()` method MODIFIES IN PLACE!!!"
   ]
  },
  {
   "cell_type": "code",
   "execution_count": 67,
   "id": "8a6bba9e-986d-42ac-9420-3e91b9789694",
   "metadata": {},
   "outputs": [],
   "source": [
    "geno.celebrate_birthday()"
   ]
  },
  {
   "cell_type": "code",
   "execution_count": 68,
   "id": "ab99ee04-5520-4f75-956b-4794aa366971",
   "metadata": {},
   "outputs": [
    {
     "data": {
      "text/plain": [
       "7"
      ]
     },
     "execution_count": 68,
     "metadata": {},
     "output_type": "execute_result"
    }
   ],
   "source": [
    "geno.age"
   ]
  },
  {
   "cell_type": "markdown",
   "id": "e7210177-84a8-4897-99f4-8e6248e15ccd",
   "metadata": {},
   "source": [
    "Methods that modify in place mean that we do NOT need to REASSIGN!!!"
   ]
  },
  {
   "cell_type": "code",
   "execution_count": 70,
   "id": "b9984c46-996d-49b7-9586-b55b54381e06",
   "metadata": {},
   "outputs": [
    {
     "data": {
      "text/plain": [
       "int"
      ]
     },
     "execution_count": 70,
     "metadata": {},
     "output_type": "execute_result"
    }
   ],
   "source": [
    "type(geno.age)"
   ]
  },
  {
   "cell_type": "code",
   "execution_count": 71,
   "id": "434bada4-e647-402b-98dc-9cabc539e207",
   "metadata": {},
   "outputs": [],
   "source": [
    "geno.age += 1"
   ]
  },
  {
   "cell_type": "code",
   "execution_count": 72,
   "id": "b1094774-68dc-47c2-812b-8ce435e5b26d",
   "metadata": {},
   "outputs": [
    {
     "data": {
      "text/plain": [
       "8"
      ]
     },
     "execution_count": 72,
     "metadata": {},
     "output_type": "execute_result"
    }
   ],
   "source": [
    "geno.age"
   ]
  },
  {
   "cell_type": "markdown",
   "id": "c27d4149-c559-4384-b283-bd65b0a96ed7",
   "metadata": {},
   "source": [
    "Lets reassign the value of the `.age` attribute."
   ]
  },
  {
   "cell_type": "code",
   "execution_count": 73,
   "id": "4c374900-ef94-48ff-8dfe-77bbe7da0ab5",
   "metadata": {},
   "outputs": [],
   "source": [
    "geno.age = 1"
   ]
  },
  {
   "cell_type": "code",
   "execution_count": 74,
   "id": "b82fb690-4895-4b3e-b448-0dc6295222b0",
   "metadata": {},
   "outputs": [
    {
     "data": {
      "text/plain": [
       "1"
      ]
     },
     "execution_count": 74,
     "metadata": {},
     "output_type": "execute_result"
    }
   ],
   "source": [
    "geno.age"
   ]
  },
  {
   "cell_type": "code",
   "execution_count": 75,
   "id": "f81ef250-8848-4a3a-8e23-1a9c4d8666fc",
   "metadata": {},
   "outputs": [
    {
     "name": "stdout",
     "output_type": "stream",
     "text": [
      "2\n",
      "3\n",
      "4\n",
      "5\n",
      "6\n",
      "7\n",
      "8\n"
     ]
    }
   ],
   "source": [
    "for n in range(7):\n",
    "    geno.celebrate_birthday()\n",
    "    print(geno.age)"
   ]
  },
  {
   "cell_type": "markdown",
   "id": "99f863e1-b23a-4567-92c9-47dba707e5c2",
   "metadata": {},
   "source": [
    "## Summary\n",
    "Attributes are like vars tied to or BOUND to an object. They are properties.\n",
    "\n",
    "Methods are like functions tied or BOUND to an object. They can modify the object IN PLACE!! They can change the attributes and thus change the properties!"
   ]
  },
  {
   "cell_type": "code",
   "execution_count": null,
   "id": "e76e3d30-248b-4abe-a3b4-2b910ef9011d",
   "metadata": {},
   "outputs": [],
   "source": []
  },
  {
   "cell_type": "code",
   "execution_count": null,
   "id": "fc1b0836-ea92-42fb-b694-5cf36d6ef2de",
   "metadata": {},
   "outputs": [],
   "source": []
  },
  {
   "cell_type": "code",
   "execution_count": null,
   "id": "9052dc3c-0c37-49a1-a6f6-ce72bae82889",
   "metadata": {},
   "outputs": [],
   "source": []
  },
  {
   "cell_type": "code",
   "execution_count": null,
   "id": "276028f6-3e57-446e-a0df-404792f4e145",
   "metadata": {},
   "outputs": [],
   "source": []
  },
  {
   "cell_type": "code",
   "execution_count": null,
   "id": "69790d0d-1e6a-471e-b7e1-7c6a3babeb0b",
   "metadata": {},
   "outputs": [],
   "source": []
  }
 ],
 "metadata": {
  "kernelspec": {
   "display_name": "Python 3 (ipykernel)",
   "language": "python",
   "name": "python3"
  },
  "language_info": {
   "codemirror_mode": {
    "name": "ipython",
    "version": 3
   },
   "file_extension": ".py",
   "mimetype": "text/x-python",
   "name": "python",
   "nbconvert_exporter": "python",
   "pygments_lexer": "ipython3",
   "version": "3.8.19"
  }
 },
 "nbformat": 4,
 "nbformat_minor": 5
}
