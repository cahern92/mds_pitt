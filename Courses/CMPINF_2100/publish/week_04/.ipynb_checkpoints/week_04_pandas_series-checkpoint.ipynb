{
 "cells": [
  {
   "cell_type": "markdown",
   "id": "27369fcd-b2ae-499d-82a4-0201c11edafe",
   "metadata": {},
   "source": [
    "## CMPINF 2100 Week 04\n",
    "\n",
    "### Introduction to Pandas - Series\n",
    "\n",
    "Pandas is built on top of NumPy. So whenever we work with Pandas it is also important to load in NumPy.\n",
    "\n",
    "## Import Modules"
   ]
  },
  {
   "cell_type": "code",
   "execution_count": 1,
   "id": "7bc1142d-8358-4262-a08d-20e8a6d59f43",
   "metadata": {},
   "outputs": [],
   "source": [
    "import numpy as np\n",
    "import pandas as pd"
   ]
  },
  {
   "cell_type": "markdown",
   "id": "749a700a-034e-4478-96ca-1ab8cf8ed7af",
   "metadata": {},
   "source": [
    "## Pandas Series\n",
    "\n",
    "A Pandas Series is similar to, yet different from, Python lists and 1D NumPy arrays. There are certain influences from the DICTIONARIES!!\n",
    "\n",
    "Lets create a Pandas Series FROM a Python list."
   ]
  },
  {
   "cell_type": "code",
   "execution_count": 2,
   "id": "c0b0fc80-261a-47e4-90c9-0f2cf1a46be6",
   "metadata": {},
   "outputs": [],
   "source": [
    "grocery_list = ['milk', 'bananas', 'apples', 'lunch meat', 'soup', 'oreos']"
   ]
  },
  {
   "cell_type": "code",
   "execution_count": 4,
   "id": "e2f7b7d7-fdf6-475e-9490-3439a63f628e",
   "metadata": {},
   "outputs": [
    {
     "data": {
      "text/plain": [
       "6"
      ]
     },
     "execution_count": 4,
     "metadata": {},
     "output_type": "execute_result"
    }
   ],
   "source": [
    "len(grocery_list)"
   ]
  },
  {
   "cell_type": "code",
   "execution_count": 5,
   "id": "fcfc5200-a8cd-4294-bc7e-ab426ab4f6f9",
   "metadata": {},
   "outputs": [
    {
     "data": {
      "text/plain": [
       "list"
      ]
     },
     "execution_count": 5,
     "metadata": {},
     "output_type": "execute_result"
    }
   ],
   "source": [
    "type(grocery_list)"
   ]
  },
  {
   "cell_type": "code",
   "execution_count": 7,
   "id": "8f888fc2-d064-4323-ac87-0db0d275ea56",
   "metadata": {},
   "outputs": [
    {
     "data": {
      "text/plain": [
       "'milk'"
      ]
     },
     "execution_count": 7,
     "metadata": {},
     "output_type": "execute_result"
    }
   ],
   "source": [
    "grocery_list[0]"
   ]
  },
  {
   "cell_type": "markdown",
   "id": "d3c6e862-2f09-4377-a8eb-b66f669d8901",
   "metadata": {},
   "source": [
    "Lets convert the grocery_list to a Pandas Series"
   ]
  },
  {
   "cell_type": "code",
   "execution_count": 8,
   "id": "1788792f-f380-4119-a0bd-27b1ce2d7d79",
   "metadata": {},
   "outputs": [],
   "source": [
    "grocery_series = pd.Series(grocery_list)"
   ]
  },
  {
   "cell_type": "code",
   "execution_count": 9,
   "id": "04b9ed2e-8e3d-4403-9466-073758925409",
   "metadata": {},
   "outputs": [
    {
     "name": "stdout",
     "output_type": "stream",
     "text": [
      "Variable         Type      Data/Info\n",
      "------------------------------------\n",
      "grocery_list     list      n=6\n",
      "grocery_series   Series    0          milk\\n1       <...>     oreos\\ndtype: object\n",
      "np               module    <module 'numpy' from '/Ap<...>kages/numpy/__init__.py'>\n",
      "pd               module    <module 'pandas' from '/A<...>ages/pandas/__init__.py'>\n"
     ]
    }
   ],
   "source": [
    "%whos"
   ]
  },
  {
   "cell_type": "code",
   "execution_count": 10,
   "id": "19044e25-33af-4c28-ada2-d98f2ba06a2c",
   "metadata": {},
   "outputs": [
    {
     "data": {
      "text/plain": [
       "0          milk\n",
       "1       bananas\n",
       "2        apples\n",
       "3    lunch meat\n",
       "4          soup\n",
       "5         oreos\n",
       "dtype: object"
      ]
     },
     "execution_count": 10,
     "metadata": {},
     "output_type": "execute_result"
    }
   ],
   "source": [
    "grocery_series"
   ]
  },
  {
   "cell_type": "code",
   "execution_count": 12,
   "id": "b58ff716-2187-431f-be48-f245b442a17b",
   "metadata": {},
   "outputs": [
    {
     "data": {
      "text/plain": [
       "<bound method Series.unique of 0          milk\n",
       "1       bananas\n",
       "2        apples\n",
       "3    lunch meat\n",
       "4          soup\n",
       "5         oreos\n",
       "dtype: object>"
      ]
     },
     "execution_count": 12,
     "metadata": {},
     "output_type": "execute_result"
    }
   ],
   "source": [
    "grocery_series.unique"
   ]
  },
  {
   "cell_type": "markdown",
   "id": "5d52758d-6cad-4107-baa8-08178fa545e8",
   "metadata": {},
   "source": [
    "Lets focus on the `.index` attribute of the Pandas Series object."
   ]
  },
  {
   "cell_type": "code",
   "execution_count": 13,
   "id": "765e982d-1936-460f-8973-0149ebd28295",
   "metadata": {},
   "outputs": [
    {
     "data": {
      "text/plain": [
       "RangeIndex(start=0, stop=6, step=1)"
      ]
     },
     "execution_count": 13,
     "metadata": {},
     "output_type": "execute_result"
    }
   ],
   "source": [
    "grocery_series.index"
   ]
  },
  {
   "cell_type": "code",
   "execution_count": 14,
   "id": "6457194c-51c2-41b6-8891-e035a4bf8fd6",
   "metadata": {},
   "outputs": [
    {
     "data": {
      "text/plain": [
       "'milk'"
      ]
     },
     "execution_count": 14,
     "metadata": {},
     "output_type": "execute_result"
    }
   ],
   "source": [
    "grocery_series[0]"
   ]
  },
  {
   "cell_type": "code",
   "execution_count": 15,
   "id": "8ecf6c2f-641a-42a3-bfa4-1eba69ec37f1",
   "metadata": {},
   "outputs": [
    {
     "data": {
      "text/plain": [
       "'bananas'"
      ]
     },
     "execution_count": 15,
     "metadata": {},
     "output_type": "execute_result"
    }
   ],
   "source": [
    "grocery_series[1]"
   ]
  },
  {
   "cell_type": "code",
   "execution_count": 16,
   "id": "99c4493d-e5cb-4e2e-a8c8-8ddcda448b81",
   "metadata": {},
   "outputs": [
    {
     "ename": "KeyError",
     "evalue": "-1",
     "output_type": "error",
     "traceback": [
      "\u001b[0;31m---------------------------------------------------------------------------\u001b[0m",
      "\u001b[0;31mValueError\u001b[0m                                Traceback (most recent call last)",
      "File \u001b[0;32m/Applications/anaconda3/envs/cmpinf2100/lib/python3.8/site-packages/pandas/core/indexes/range.py:345\u001b[0m, in \u001b[0;36mRangeIndex.get_loc\u001b[0;34m(self, key)\u001b[0m\n\u001b[1;32m    344\u001b[0m \u001b[38;5;28;01mtry\u001b[39;00m:\n\u001b[0;32m--> 345\u001b[0m     \u001b[38;5;28;01mreturn\u001b[39;00m \u001b[38;5;28;43mself\u001b[39;49m\u001b[38;5;241;43m.\u001b[39;49m\u001b[43m_range\u001b[49m\u001b[38;5;241;43m.\u001b[39;49m\u001b[43mindex\u001b[49m\u001b[43m(\u001b[49m\u001b[43mnew_key\u001b[49m\u001b[43m)\u001b[49m\n\u001b[1;32m    346\u001b[0m \u001b[38;5;28;01mexcept\u001b[39;00m \u001b[38;5;167;01mValueError\u001b[39;00m \u001b[38;5;28;01mas\u001b[39;00m err:\n",
      "\u001b[0;31mValueError\u001b[0m: -1 is not in range",
      "\nThe above exception was the direct cause of the following exception:\n",
      "\u001b[0;31mKeyError\u001b[0m                                  Traceback (most recent call last)",
      "Cell \u001b[0;32mIn[16], line 1\u001b[0m\n\u001b[0;32m----> 1\u001b[0m \u001b[43mgrocery_series\u001b[49m\u001b[43m[\u001b[49m\u001b[38;5;241;43m-\u001b[39;49m\u001b[38;5;241;43m1\u001b[39;49m\u001b[43m]\u001b[49m\n",
      "File \u001b[0;32m/Applications/anaconda3/envs/cmpinf2100/lib/python3.8/site-packages/pandas/core/series.py:1007\u001b[0m, in \u001b[0;36mSeries.__getitem__\u001b[0;34m(self, key)\u001b[0m\n\u001b[1;32m   1004\u001b[0m     \u001b[38;5;28;01mreturn\u001b[39;00m \u001b[38;5;28mself\u001b[39m\u001b[38;5;241m.\u001b[39m_values[key]\n\u001b[1;32m   1006\u001b[0m \u001b[38;5;28;01melif\u001b[39;00m key_is_scalar:\n\u001b[0;32m-> 1007\u001b[0m     \u001b[38;5;28;01mreturn\u001b[39;00m \u001b[38;5;28;43mself\u001b[39;49m\u001b[38;5;241;43m.\u001b[39;49m\u001b[43m_get_value\u001b[49m\u001b[43m(\u001b[49m\u001b[43mkey\u001b[49m\u001b[43m)\u001b[49m\n\u001b[1;32m   1009\u001b[0m \u001b[38;5;28;01mif\u001b[39;00m is_hashable(key):\n\u001b[1;32m   1010\u001b[0m     \u001b[38;5;66;03m# Otherwise index.get_value will raise InvalidIndexError\u001b[39;00m\n\u001b[1;32m   1011\u001b[0m     \u001b[38;5;28;01mtry\u001b[39;00m:\n\u001b[1;32m   1012\u001b[0m         \u001b[38;5;66;03m# For labels that don't resolve as scalars like tuples and frozensets\u001b[39;00m\n",
      "File \u001b[0;32m/Applications/anaconda3/envs/cmpinf2100/lib/python3.8/site-packages/pandas/core/series.py:1116\u001b[0m, in \u001b[0;36mSeries._get_value\u001b[0;34m(self, label, takeable)\u001b[0m\n\u001b[1;32m   1113\u001b[0m     \u001b[38;5;28;01mreturn\u001b[39;00m \u001b[38;5;28mself\u001b[39m\u001b[38;5;241m.\u001b[39m_values[label]\n\u001b[1;32m   1115\u001b[0m \u001b[38;5;66;03m# Similar to Index.get_value, but we do not fall back to positional\u001b[39;00m\n\u001b[0;32m-> 1116\u001b[0m loc \u001b[38;5;241m=\u001b[39m \u001b[38;5;28;43mself\u001b[39;49m\u001b[38;5;241;43m.\u001b[39;49m\u001b[43mindex\u001b[49m\u001b[38;5;241;43m.\u001b[39;49m\u001b[43mget_loc\u001b[49m\u001b[43m(\u001b[49m\u001b[43mlabel\u001b[49m\u001b[43m)\u001b[49m\n\u001b[1;32m   1118\u001b[0m \u001b[38;5;28;01mif\u001b[39;00m is_integer(loc):\n\u001b[1;32m   1119\u001b[0m     \u001b[38;5;28;01mreturn\u001b[39;00m \u001b[38;5;28mself\u001b[39m\u001b[38;5;241m.\u001b[39m_values[loc]\n",
      "File \u001b[0;32m/Applications/anaconda3/envs/cmpinf2100/lib/python3.8/site-packages/pandas/core/indexes/range.py:347\u001b[0m, in \u001b[0;36mRangeIndex.get_loc\u001b[0;34m(self, key)\u001b[0m\n\u001b[1;32m    345\u001b[0m         \u001b[38;5;28;01mreturn\u001b[39;00m \u001b[38;5;28mself\u001b[39m\u001b[38;5;241m.\u001b[39m_range\u001b[38;5;241m.\u001b[39mindex(new_key)\n\u001b[1;32m    346\u001b[0m     \u001b[38;5;28;01mexcept\u001b[39;00m \u001b[38;5;167;01mValueError\u001b[39;00m \u001b[38;5;28;01mas\u001b[39;00m err:\n\u001b[0;32m--> 347\u001b[0m         \u001b[38;5;28;01mraise\u001b[39;00m \u001b[38;5;167;01mKeyError\u001b[39;00m(key) \u001b[38;5;28;01mfrom\u001b[39;00m \u001b[38;5;21;01merr\u001b[39;00m\n\u001b[1;32m    348\u001b[0m \u001b[38;5;28;01mif\u001b[39;00m \u001b[38;5;28misinstance\u001b[39m(key, Hashable):\n\u001b[1;32m    349\u001b[0m     \u001b[38;5;28;01mraise\u001b[39;00m \u001b[38;5;167;01mKeyError\u001b[39;00m(key)\n",
      "\u001b[0;31mKeyError\u001b[0m: -1"
     ]
    }
   ],
   "source": [
    "grocery_series[-1]"
   ]
  },
  {
   "cell_type": "markdown",
   "id": "9471e119-9786-4fde-a0a5-719a8276a9eb",
   "metadata": {},
   "source": [
    "But the `.index` attribute does NOT need to be a range index integer!"
   ]
  },
  {
   "cell_type": "code",
   "execution_count": 17,
   "id": "f085721e-5ed1-4fb5-8720-ce75d78fa248",
   "metadata": {},
   "outputs": [
    {
     "data": {
      "text/plain": [
       "RangeIndex(start=0, stop=6, step=1)"
      ]
     },
     "execution_count": 17,
     "metadata": {},
     "output_type": "execute_result"
    }
   ],
   "source": [
    "grocery_series.index"
   ]
  },
  {
   "cell_type": "code",
   "execution_count": 18,
   "id": "399d1894-e232-48e3-9659-747cbb4088ef",
   "metadata": {},
   "outputs": [],
   "source": [
    "grocery_series.index = [\"zero\", \"one\", \"two\", \"three\", \"four\", \"five\"]"
   ]
  },
  {
   "cell_type": "code",
   "execution_count": 19,
   "id": "97d10c83-b2c9-4106-8146-aa2e41959b06",
   "metadata": {},
   "outputs": [
    {
     "data": {
      "text/plain": [
       "Index(['zero', 'one', 'two', 'three', 'four', 'five'], dtype='object')"
      ]
     },
     "execution_count": 19,
     "metadata": {},
     "output_type": "execute_result"
    }
   ],
   "source": [
    "grocery_series.index"
   ]
  },
  {
   "cell_type": "code",
   "execution_count": 20,
   "id": "facf8dc2-96cf-47de-a91a-02d686b0a83d",
   "metadata": {},
   "outputs": [
    {
     "data": {
      "text/plain": [
       "zero           milk\n",
       "one         bananas\n",
       "two          apples\n",
       "three    lunch meat\n",
       "four           soup\n",
       "five          oreos\n",
       "dtype: object"
      ]
     },
     "execution_count": 20,
     "metadata": {},
     "output_type": "execute_result"
    }
   ],
   "source": [
    "grocery_series"
   ]
  },
  {
   "cell_type": "code",
   "execution_count": 21,
   "id": "d31428c7-75e3-4b82-ac73-4c62f64d57ca",
   "metadata": {},
   "outputs": [
    {
     "data": {
      "text/plain": [
       "['milk', 'bananas', 'apples', 'lunch meat', 'soup', 'oreos']"
      ]
     },
     "execution_count": 21,
     "metadata": {},
     "output_type": "execute_result"
    }
   ],
   "source": [
    "grocery_list"
   ]
  },
  {
   "cell_type": "markdown",
   "id": "2d759ca3-65ca-43d0-9028-ba49a5714f7d",
   "metadata": {},
   "source": [
    "The Panda Series has both INDEX and VALUES!!\n",
    "\n",
    "Kind of like a DICTIONARY and KEY/VALUE defining each ITEM!"
   ]
  },
  {
   "cell_type": "code",
   "execution_count": 22,
   "id": "f0416152-e038-4ca2-b638-ea152a0d1033",
   "metadata": {},
   "outputs": [
    {
     "data": {
      "text/plain": [
       "array(['milk', 'bananas', 'apples', 'lunch meat', 'soup', 'oreos'],\n",
       "      dtype=object)"
      ]
     },
     "execution_count": 22,
     "metadata": {},
     "output_type": "execute_result"
    }
   ],
   "source": [
    "grocery_series.values"
   ]
  },
  {
   "cell_type": "code",
   "execution_count": 23,
   "id": "2ccedf9c-2f7b-4676-b8d9-21e164f02b74",
   "metadata": {},
   "outputs": [
    {
     "data": {
      "text/plain": [
       "Index(['zero', 'one', 'two', 'three', 'four', 'five'], dtype='object')"
      ]
     },
     "execution_count": 23,
     "metadata": {},
     "output_type": "execute_result"
    }
   ],
   "source": [
    "grocery_series.index"
   ]
  },
  {
   "cell_type": "code",
   "execution_count": 24,
   "id": "05b129d2-d07c-4443-bf87-62a29c05b293",
   "metadata": {},
   "outputs": [
    {
     "data": {
      "text/plain": [
       "'bananas'"
      ]
     },
     "execution_count": 24,
     "metadata": {},
     "output_type": "execute_result"
    }
   ],
   "source": [
    "grocery_series[\"one\"]"
   ]
  },
  {
   "cell_type": "code",
   "execution_count": 26,
   "id": "401e5ee6-7d57-4be3-8b9f-6f37bd8a115d",
   "metadata": {},
   "outputs": [
    {
     "data": {
      "text/plain": [
       "'bananas'"
      ]
     },
     "execution_count": 26,
     "metadata": {},
     "output_type": "execute_result"
    }
   ],
   "source": [
    "grocery_series[1]"
   ]
  },
  {
   "cell_type": "markdown",
   "id": "174cae03-b046-415b-87b2-48f4bdad65af",
   "metadata": {},
   "source": [
    "Lets continue to practice by defining a new Series. The Series will define the `.index` attribute when the object is created."
   ]
  },
  {
   "cell_type": "code",
   "execution_count": 27,
   "id": "3c8fec21-f901-49ae-83f0-9d19c6745b9f",
   "metadata": {},
   "outputs": [],
   "source": [
    "more_groceries = pd.Series ([\"apple juice\", \"poptarts\", \"butter\", \"yogurt\"],\n",
    "                            index = [\"item 1\", \"item 2\", \"item 3\", \"top gun\"])"
   ]
  },
  {
   "cell_type": "code",
   "execution_count": 28,
   "id": "6798391d-2ee4-47de-8c8c-360bd3689c48",
   "metadata": {},
   "outputs": [
    {
     "data": {
      "text/plain": [
       "item 1     apple juice\n",
       "item 2        poptarts\n",
       "item 3          butter\n",
       "top gun         yogurt\n",
       "dtype: object"
      ]
     },
     "execution_count": 28,
     "metadata": {},
     "output_type": "execute_result"
    }
   ],
   "source": [
    "more_groceries"
   ]
  },
  {
   "cell_type": "code",
   "execution_count": 31,
   "id": "a573ba63-a0b8-4cdb-a0e7-34557597256a",
   "metadata": {},
   "outputs": [
    {
     "data": {
      "text/plain": [
       "'apple juice'"
      ]
     },
     "execution_count": 31,
     "metadata": {},
     "output_type": "execute_result"
    }
   ],
   "source": [
    "more_groceries[0]"
   ]
  },
  {
   "cell_type": "code",
   "execution_count": 30,
   "id": "7611bbdf-e110-4794-8272-21c69cf61a4a",
   "metadata": {},
   "outputs": [
    {
     "data": {
      "text/plain": [
       "'apple juice'"
      ]
     },
     "execution_count": 30,
     "metadata": {},
     "output_type": "execute_result"
    }
   ],
   "source": [
    "more_groceries[\"item 1\"]"
   ]
  },
  {
   "cell_type": "markdown",
   "id": "c91d7ad1-9f4d-4adc-ae5f-1871a8250a90",
   "metadata": {},
   "source": [
    "IMPORTANT...PLEASE BE CAREFUL...if you define the `.index` attribute manually upon creation of the Series... the number of elements or entries for `index` MUST be the same as the num of entries for the values!!"
   ]
  },
  {
   "cell_type": "code",
   "execution_count": 32,
   "id": "70e2bba7-1ea8-4c11-8f6c-5f3bfcb0f10b",
   "metadata": {},
   "outputs": [
    {
     "ename": "ValueError",
     "evalue": "Length of values (4) does not match length of index (3)",
     "output_type": "error",
     "traceback": [
      "\u001b[0;31m---------------------------------------------------------------------------\u001b[0m",
      "\u001b[0;31mValueError\u001b[0m                                Traceback (most recent call last)",
      "Cell \u001b[0;32mIn[32], line 1\u001b[0m\n\u001b[0;32m----> 1\u001b[0m \u001b[43mpd\u001b[49m\u001b[38;5;241;43m.\u001b[39;49m\u001b[43mSeries\u001b[49m\u001b[43m(\u001b[49m\u001b[43m[\u001b[49m\u001b[38;5;124;43m\"\u001b[39;49m\u001b[38;5;124;43m1\u001b[39;49m\u001b[38;5;124;43m\"\u001b[39;49m\u001b[43m,\u001b[49m\u001b[43m \u001b[49m\u001b[38;5;124;43m\"\u001b[39;49m\u001b[38;5;124;43m2\u001b[39;49m\u001b[38;5;124;43m\"\u001b[39;49m\u001b[43m,\u001b[49m\u001b[43m \u001b[49m\u001b[38;5;124;43m\"\u001b[39;49m\u001b[38;5;124;43m3\u001b[39;49m\u001b[38;5;124;43m\"\u001b[39;49m\u001b[43m,\u001b[49m\u001b[43m \u001b[49m\u001b[38;5;124;43m\"\u001b[39;49m\u001b[38;5;124;43m4\u001b[39;49m\u001b[38;5;124;43m\"\u001b[39;49m\u001b[43m]\u001b[49m\u001b[43m,\u001b[49m\n\u001b[1;32m      2\u001b[0m \u001b[43m          \u001b[49m\u001b[43mindex\u001b[49m\u001b[43m \u001b[49m\u001b[38;5;241;43m=\u001b[39;49m\u001b[43m \u001b[49m\u001b[43m[\u001b[49m\u001b[38;5;124;43m\"\u001b[39;49m\u001b[38;5;124;43ma\u001b[39;49m\u001b[38;5;124;43m\"\u001b[39;49m\u001b[43m,\u001b[49m\u001b[43m \u001b[49m\u001b[38;5;124;43m\"\u001b[39;49m\u001b[38;5;124;43mb\u001b[39;49m\u001b[38;5;124;43m\"\u001b[39;49m\u001b[43m,\u001b[49m\u001b[43m \u001b[49m\u001b[38;5;124;43m\"\u001b[39;49m\u001b[38;5;124;43mc\u001b[39;49m\u001b[38;5;124;43m\"\u001b[39;49m\u001b[43m]\u001b[49m\u001b[43m)\u001b[49m\n",
      "File \u001b[0;32m/Applications/anaconda3/envs/cmpinf2100/lib/python3.8/site-packages/pandas/core/series.py:500\u001b[0m, in \u001b[0;36mSeries.__init__\u001b[0;34m(self, data, index, dtype, name, copy, fastpath)\u001b[0m\n\u001b[1;32m    498\u001b[0m     index \u001b[38;5;241m=\u001b[39m default_index(\u001b[38;5;28mlen\u001b[39m(data))\n\u001b[1;32m    499\u001b[0m \u001b[38;5;28;01melif\u001b[39;00m is_list_like(data):\n\u001b[0;32m--> 500\u001b[0m     \u001b[43mcom\u001b[49m\u001b[38;5;241;43m.\u001b[39;49m\u001b[43mrequire_length_match\u001b[49m\u001b[43m(\u001b[49m\u001b[43mdata\u001b[49m\u001b[43m,\u001b[49m\u001b[43m \u001b[49m\u001b[43mindex\u001b[49m\u001b[43m)\u001b[49m\n\u001b[1;32m    502\u001b[0m \u001b[38;5;66;03m# create/copy the manager\u001b[39;00m\n\u001b[1;32m    503\u001b[0m \u001b[38;5;28;01mif\u001b[39;00m \u001b[38;5;28misinstance\u001b[39m(data, (SingleBlockManager, SingleArrayManager)):\n",
      "File \u001b[0;32m/Applications/anaconda3/envs/cmpinf2100/lib/python3.8/site-packages/pandas/core/common.py:576\u001b[0m, in \u001b[0;36mrequire_length_match\u001b[0;34m(data, index)\u001b[0m\n\u001b[1;32m    572\u001b[0m \u001b[38;5;250m\u001b[39m\u001b[38;5;124;03m\"\"\"\u001b[39;00m\n\u001b[1;32m    573\u001b[0m \u001b[38;5;124;03mCheck the length of data matches the length of the index.\u001b[39;00m\n\u001b[1;32m    574\u001b[0m \u001b[38;5;124;03m\"\"\"\u001b[39;00m\n\u001b[1;32m    575\u001b[0m \u001b[38;5;28;01mif\u001b[39;00m \u001b[38;5;28mlen\u001b[39m(data) \u001b[38;5;241m!=\u001b[39m \u001b[38;5;28mlen\u001b[39m(index):\n\u001b[0;32m--> 576\u001b[0m     \u001b[38;5;28;01mraise\u001b[39;00m \u001b[38;5;167;01mValueError\u001b[39;00m(\n\u001b[1;32m    577\u001b[0m         \u001b[38;5;124m\"\u001b[39m\u001b[38;5;124mLength of values \u001b[39m\u001b[38;5;124m\"\u001b[39m\n\u001b[1;32m    578\u001b[0m         \u001b[38;5;124mf\u001b[39m\u001b[38;5;124m\"\u001b[39m\u001b[38;5;124m(\u001b[39m\u001b[38;5;132;01m{\u001b[39;00m\u001b[38;5;28mlen\u001b[39m(data)\u001b[38;5;132;01m}\u001b[39;00m\u001b[38;5;124m) \u001b[39m\u001b[38;5;124m\"\u001b[39m\n\u001b[1;32m    579\u001b[0m         \u001b[38;5;124m\"\u001b[39m\u001b[38;5;124mdoes not match length of index \u001b[39m\u001b[38;5;124m\"\u001b[39m\n\u001b[1;32m    580\u001b[0m         \u001b[38;5;124mf\u001b[39m\u001b[38;5;124m\"\u001b[39m\u001b[38;5;124m(\u001b[39m\u001b[38;5;132;01m{\u001b[39;00m\u001b[38;5;28mlen\u001b[39m(index)\u001b[38;5;132;01m}\u001b[39;00m\u001b[38;5;124m)\u001b[39m\u001b[38;5;124m\"\u001b[39m\n\u001b[1;32m    581\u001b[0m     )\n",
      "\u001b[0;31mValueError\u001b[0m: Length of values (4) does not match length of index (3)"
     ]
    }
   ],
   "source": [
    "pd.Series([\"1\", \"2\", \"3\", \"4\"],\n",
    "          index = [\"a\", \"b\", \"c\"])"
   ]
  },
  {
   "cell_type": "code",
   "execution_count": 34,
   "id": "3abb479f-104c-4dd0-88cc-413e303c3950",
   "metadata": {},
   "outputs": [
    {
     "data": {
      "text/plain": [
       "a    1\n",
       "b    2\n",
       "c    3\n",
       "d    4\n",
       "dtype: object"
      ]
     },
     "execution_count": 34,
     "metadata": {},
     "output_type": "execute_result"
    }
   ],
   "source": [
    "pd.Series([\"1\", \"2\", \"3\", \"4\"],\n",
    "          index = [\"a\", \"b\", \"c\", \"d\"])"
   ]
  },
  {
   "cell_type": "markdown",
   "id": "f7ce25c5-1e1d-4c7d-a3a9-62df730d8931",
   "metadata": {},
   "source": [
    "I think the `.index` attribute is confusing...because the `index` attribute does not need to be UNIQUE!!!"
   ]
  },
  {
   "cell_type": "code",
   "execution_count": 37,
   "id": "c5950b21-a8ea-4788-b76a-a943631dbc14",
   "metadata": {},
   "outputs": [],
   "source": [
    "another_series = pd.Series([\"a\", \"b\", \"c\"],\n",
    "                           index = [\"1\", \"2\", \"2\"])"
   ]
  },
  {
   "cell_type": "code",
   "execution_count": 38,
   "id": "1b7b5407-69d8-41e0-a335-8f88b99e32ad",
   "metadata": {},
   "outputs": [
    {
     "data": {
      "text/plain": [
       "array(['a', 'b', 'c'], dtype=object)"
      ]
     },
     "execution_count": 38,
     "metadata": {},
     "output_type": "execute_result"
    }
   ],
   "source": [
    "another_series.values"
   ]
  },
  {
   "cell_type": "code",
   "execution_count": 39,
   "id": "3099c8d4-38a4-4d8b-8566-3f44c8c6d338",
   "metadata": {},
   "outputs": [
    {
     "data": {
      "text/plain": [
       "Index(['1', '2', '2'], dtype='object')"
      ]
     },
     "execution_count": 39,
     "metadata": {},
     "output_type": "execute_result"
    }
   ],
   "source": [
    "another_series.index"
   ]
  },
  {
   "cell_type": "markdown",
   "id": "3feaf88a-22f8-41b3-b672-8f3e3da1dcf2",
   "metadata": {},
   "source": [
    "SLICING THE SERIES By given the index...will return MULTIPLE values if the index is NOT unique!!!"
   ]
  },
  {
   "cell_type": "code",
   "execution_count": 40,
   "id": "d3c6d6aa-0811-44e1-b11d-a00bd7ee87df",
   "metadata": {},
   "outputs": [
    {
     "data": {
      "text/plain": [
       "'a'"
      ]
     },
     "execution_count": 40,
     "metadata": {},
     "output_type": "execute_result"
    }
   ],
   "source": [
    "another_series['1']"
   ]
  },
  {
   "cell_type": "code",
   "execution_count": 41,
   "id": "4586cb6b-f1d1-4584-9653-63867cde95a9",
   "metadata": {},
   "outputs": [
    {
     "data": {
      "text/plain": [
       "2    b\n",
       "2    c\n",
       "dtype: object"
      ]
     },
     "execution_count": 41,
     "metadata": {},
     "output_type": "execute_result"
    }
   ],
   "source": [
    "another_series['2']"
   ]
  },
  {
   "cell_type": "code",
   "execution_count": 42,
   "id": "3f116ce2-50fb-4553-91b7-85fddc6b10e3",
   "metadata": {},
   "outputs": [
    {
     "data": {
      "text/plain": [
       "array(['b', 'c'], dtype=object)"
      ]
     },
     "execution_count": 42,
     "metadata": {},
     "output_type": "execute_result"
    }
   ],
   "source": [
    "another_series['2'].values"
   ]
  },
  {
   "cell_type": "code",
   "execution_count": 43,
   "id": "e9667897-ae7e-4a5e-b486-46c591ebf721",
   "metadata": {},
   "outputs": [
    {
     "data": {
      "text/plain": [
       "Index(['2', '2'], dtype='object')"
      ]
     },
     "execution_count": 43,
     "metadata": {},
     "output_type": "execute_result"
    }
   ],
   "source": [
    "another_series['2'].index"
   ]
  },
  {
   "cell_type": "code",
   "execution_count": null,
   "id": "426faa0a-8fe3-4bf0-99b6-88ebb4f56be6",
   "metadata": {},
   "outputs": [],
   "source": [
    "another_series['2'].values"
   ]
  },
  {
   "cell_type": "markdown",
   "id": "6cd758ef-739d-4e1e-b5c7-254c36ec3975",
   "metadata": {},
   "source": [
    "## Combining Series\n",
    "We can APPEND or EXTEND or COMBINE multiple Series together using the `pd.concat()` function."
   ]
  },
  {
   "cell_type": "code",
   "execution_count": 44,
   "id": "a7526e48-bc3c-41ac-ba94-2f8825ccf0c2",
   "metadata": {},
   "outputs": [
    {
     "data": {
      "text/plain": [
       "zero              milk\n",
       "one            bananas\n",
       "two             apples\n",
       "three       lunch meat\n",
       "four              soup\n",
       "five             oreos\n",
       "item 1     apple juice\n",
       "item 2        poptarts\n",
       "item 3          butter\n",
       "top gun         yogurt\n",
       "1                    a\n",
       "2                    b\n",
       "2                    c\n",
       "dtype: object"
      ]
     },
     "execution_count": 44,
     "metadata": {},
     "output_type": "execute_result"
    }
   ],
   "source": [
    "pd.concat([grocery_series, more_groceries, another_series])"
   ]
  },
  {
   "cell_type": "markdown",
   "id": "f532dfa2-64ed-44c6-8c06-9230c52cf1f4",
   "metadata": {},
   "source": [
    "When combining seprate Series ogether, sometimes we want a BRAND NEW `.index` attribute. To do so, we can use the `ignore_index` argument within `pd.concat`."
   ]
  },
  {
   "cell_type": "code",
   "execution_count": 45,
   "id": "df2237e4-460f-4db2-bb8e-a011f9357320",
   "metadata": {},
   "outputs": [
    {
     "data": {
      "text/plain": [
       "0            milk\n",
       "1         bananas\n",
       "2          apples\n",
       "3      lunch meat\n",
       "4            soup\n",
       "5           oreos\n",
       "6     apple juice\n",
       "7        poptarts\n",
       "8          butter\n",
       "9          yogurt\n",
       "10              a\n",
       "11              b\n",
       "12              c\n",
       "dtype: object"
      ]
     },
     "execution_count": 45,
     "metadata": {},
     "output_type": "execute_result"
    }
   ],
   "source": [
    "pd.concat([grocery_series, more_groceries, another_series], ignore_index=True)"
   ]
  },
  {
   "cell_type": "code",
   "execution_count": 51,
   "id": "3cede46c-84a6-42d4-b528-7f67c90d562a",
   "metadata": {},
   "outputs": [],
   "source": [
    "a_bigger_series = pd.concat([grocery_series, more_groceries, another_series], ignore_index=True).copy()"
   ]
  },
  {
   "cell_type": "code",
   "execution_count": 52,
   "id": "fd42bf89-a687-4037-9851-220c3400b710",
   "metadata": {},
   "outputs": [
    {
     "data": {
      "text/plain": [
       "0            milk\n",
       "1         bananas\n",
       "2          apples\n",
       "3      lunch meat\n",
       "4            soup\n",
       "5           oreos\n",
       "6     apple juice\n",
       "7        poptarts\n",
       "8          butter\n",
       "9          yogurt\n",
       "10              a\n",
       "11              b\n",
       "12              c\n",
       "dtype: object"
      ]
     },
     "execution_count": 52,
     "metadata": {},
     "output_type": "execute_result"
    }
   ],
   "source": [
    "a_bigger_series"
   ]
  },
  {
   "cell_type": "code",
   "execution_count": 53,
   "id": "848838ee-e71b-4d98-bb62-6ce9f8704bf6",
   "metadata": {},
   "outputs": [
    {
     "data": {
      "text/plain": [
       "RangeIndex(start=0, stop=13, step=1)"
      ]
     },
     "execution_count": 53,
     "metadata": {},
     "output_type": "execute_result"
    }
   ],
   "source": [
    "a_bigger_series.index"
   ]
  },
  {
   "cell_type": "code",
   "execution_count": 54,
   "id": "f128892c-0077-4db6-a087-5d00d23bb065",
   "metadata": {},
   "outputs": [
    {
     "data": {
      "text/plain": [
       "'milk'"
      ]
     },
     "execution_count": 54,
     "metadata": {},
     "output_type": "execute_result"
    }
   ],
   "source": [
    "a_bigger_series[0]"
   ]
  },
  {
   "cell_type": "code",
   "execution_count": 56,
   "id": "03f0a2a2-e371-4f83-b782-45c8f6bf60a5",
   "metadata": {},
   "outputs": [
    {
     "data": {
      "text/plain": [
       "zero              milk\n",
       "one            bananas\n",
       "two             apples\n",
       "three       lunch meat\n",
       "four              soup\n",
       "five             oreos\n",
       "item 1     apple juice\n",
       "item 2        poptarts\n",
       "item 3          butter\n",
       "top gun         yogurt\n",
       "1                    a\n",
       "2                    b\n",
       "2                    c\n",
       "0                 milk\n",
       "1              bananas\n",
       "2               apples\n",
       "3           lunch meat\n",
       "4                 soup\n",
       "5                oreos\n",
       "6          apple juice\n",
       "7             poptarts\n",
       "8               butter\n",
       "9               yogurt\n",
       "10                   a\n",
       "11                   b\n",
       "12                   c\n",
       "dtype: object"
      ]
     },
     "execution_count": 56,
     "metadata": {},
     "output_type": "execute_result"
    }
   ],
   "source": [
    "pd.concat([grocery_series, more_groceries, another_series, a_bigger_series])"
   ]
  },
  {
   "cell_type": "code",
   "execution_count": 57,
   "id": "576a8814-21d8-4fac-9cfd-1b75b689867c",
   "metadata": {},
   "outputs": [
    {
     "data": {
      "text/plain": [
       "array(['milk', 'bananas', 'apples', 'lunch meat', 'soup', 'oreos',\n",
       "       'apple juice', 'poptarts', 'butter', 'yogurt', 'a', 'b', 'c',\n",
       "       'milk', 'bananas', 'apples', 'lunch meat', 'soup', 'oreos',\n",
       "       'apple juice', 'poptarts', 'butter', 'yogurt', 'a', 'b', 'c'],\n",
       "      dtype=object)"
      ]
     },
     "execution_count": 57,
     "metadata": {},
     "output_type": "execute_result"
    }
   ],
   "source": [
    "pd.concat([grocery_series, more_groceries, another_series, a_bigger_series]).values"
   ]
  },
  {
   "cell_type": "code",
   "execution_count": 61,
   "id": "3487a7dc-7989-42d0-bcd7-2880589426c2",
   "metadata": {},
   "outputs": [
    {
     "data": {
      "text/plain": [
       "Index([   'zero',     'one',     'two',   'three',    'four',    'five',\n",
       "        'item 1',  'item 2',  'item 3', 'top gun',       '1',       '2',\n",
       "             '2',         0,         1,         2,         3,         4,\n",
       "               5,         6,         7,         8,         9,        10,\n",
       "              11,        12],\n",
       "      dtype='object')"
      ]
     },
     "execution_count": 61,
     "metadata": {},
     "output_type": "execute_result"
    }
   ],
   "source": [
    "pd.concat([grocery_series, more_groceries, another_series, a_bigger_series]).index"
   ]
  },
  {
   "cell_type": "code",
   "execution_count": 63,
   "id": "a0ad2ca6-69a8-45b3-80b2-b69841c92ef5",
   "metadata": {},
   "outputs": [
    {
     "data": {
      "text/plain": [
       "0            milk\n",
       "1         bananas\n",
       "2          apples\n",
       "3      lunch meat\n",
       "4            soup\n",
       "5           oreos\n",
       "6     apple juice\n",
       "7        poptarts\n",
       "8          butter\n",
       "9          yogurt\n",
       "10              a\n",
       "11              b\n",
       "12              c\n",
       "13           milk\n",
       "14        bananas\n",
       "15         apples\n",
       "16     lunch meat\n",
       "17           soup\n",
       "18          oreos\n",
       "19    apple juice\n",
       "20       poptarts\n",
       "21         butter\n",
       "22         yogurt\n",
       "23              a\n",
       "24              b\n",
       "25              c\n",
       "dtype: object"
      ]
     },
     "execution_count": 63,
     "metadata": {},
     "output_type": "execute_result"
    }
   ],
   "source": [
    "pd.concat([grocery_series, more_groceries, another_series, a_bigger_series], ignore_index=True)"
   ]
  },
  {
   "cell_type": "markdown",
   "id": "4c6056d2-ad0f-4c54-ba4f-52807bd54fd9",
   "metadata": {},
   "source": [
    "## Summary\n",
    "\n",
    "The Panda Series looks kind of like a mix between lists, 1D NumPy arrays, and Dictionaries.\n",
    "\n",
    "Values are stored and associated with `.index` attribute. The Series can be sliced using the `.index` LOCATION."
   ]
  }
 ],
 "metadata": {
  "kernelspec": {
   "display_name": "Python 3 (ipykernel)",
   "language": "python",
   "name": "python3"
  },
  "language_info": {
   "codemirror_mode": {
    "name": "ipython",
    "version": 3
   },
   "file_extension": ".py",
   "mimetype": "text/x-python",
   "name": "python",
   "nbconvert_exporter": "python",
   "pygments_lexer": "ipython3",
   "version": "3.8.19"
  }
 },
 "nbformat": 4,
 "nbformat_minor": 5
}
