{
 "cells": [
  {
   "cell_type": "markdown",
   "id": "6ba31ec8-cbf7-4ca9-9bf1-8cba59697ad9",
   "metadata": {},
   "source": [
    "## CMPINF 2100 Week 04\n",
    "### Pandas DataFrame Index Deep Dive\n",
    "\n",
    "Lets build on previous video, but focus heavily on the `.index` attribute of a DataFrame.\n",
    "\n",
    "## Import Modules"
   ]
  },
  {
   "cell_type": "code",
   "execution_count": 2,
   "id": "65ea663c-f2fd-498d-b993-1885a244579d",
   "metadata": {},
   "outputs": [],
   "source": [
    "import numpy as np\n",
    "import pandas as pd"
   ]
  },
  {
   "cell_type": "markdown",
   "id": "d138716d-79df-4cdd-b45e-0ae6a56a14f1",
   "metadata": {},
   "source": [
    "## Example DataFrame\n",
    "\n",
    "We will use the same baseball example DataFrame from the previous recording.\n",
    "\n",
    "We will create the DF from a dictionary."
   ]
  },
  {
   "cell_type": "code",
   "execution_count": 3,
   "id": "f74838de-34a2-4483-825e-1f4f285be853",
   "metadata": {},
   "outputs": [],
   "source": [
    "baseball_dict = {\"City\": [\"Pittsburgh\", \"Cincinnati\", \"Chicago\", \"St. Louis\", \"Milwaukee\"],\n",
    "                \"Teams\": [\"Pirates\", \"Reds\", \"Cubs\", \"Cardinals\", \"Brewers\"],\n",
    "                \"Division\": 5*[\"Central\"],\n",
    "                \"League\": 5*[\"NL\"]}"
   ]
  },
  {
   "cell_type": "code",
   "execution_count": 4,
   "id": "580dd7b1-5757-4e44-bda9-9b2068b24b26",
   "metadata": {},
   "outputs": [
    {
     "data": {
      "text/plain": [
       "{'City': ['Pittsburgh', 'Cincinnati', 'Chicago', 'St. Louis', 'Milwaukee'],\n",
       " 'Teams': ['Pirates', 'Reds', 'Cubs', 'Cardinals', 'Brewers'],\n",
       " 'Division': ['Central', 'Central', 'Central', 'Central', 'Central'],\n",
       " 'League': ['NL', 'NL', 'NL', 'NL', 'NL']}"
      ]
     },
     "execution_count": 4,
     "metadata": {},
     "output_type": "execute_result"
    }
   ],
   "source": [
    "baseball_dict"
   ]
  },
  {
   "cell_type": "code",
   "execution_count": 5,
   "id": "f256058b-5102-4477-b0b6-81533940e29e",
   "metadata": {},
   "outputs": [],
   "source": [
    "baseball_df = pd.DataFrame(baseball_dict)"
   ]
  },
  {
   "cell_type": "code",
   "execution_count": 6,
   "id": "46dda0d8-521e-4313-9ec1-92ec47d5f27b",
   "metadata": {},
   "outputs": [
    {
     "data": {
      "text/html": [
       "<div>\n",
       "<style scoped>\n",
       "    .dataframe tbody tr th:only-of-type {\n",
       "        vertical-align: middle;\n",
       "    }\n",
       "\n",
       "    .dataframe tbody tr th {\n",
       "        vertical-align: top;\n",
       "    }\n",
       "\n",
       "    .dataframe thead th {\n",
       "        text-align: right;\n",
       "    }\n",
       "</style>\n",
       "<table border=\"1\" class=\"dataframe\">\n",
       "  <thead>\n",
       "    <tr style=\"text-align: right;\">\n",
       "      <th></th>\n",
       "      <th>City</th>\n",
       "      <th>Teams</th>\n",
       "      <th>Division</th>\n",
       "      <th>League</th>\n",
       "    </tr>\n",
       "  </thead>\n",
       "  <tbody>\n",
       "    <tr>\n",
       "      <th>0</th>\n",
       "      <td>Pittsburgh</td>\n",
       "      <td>Pirates</td>\n",
       "      <td>Central</td>\n",
       "      <td>NL</td>\n",
       "    </tr>\n",
       "    <tr>\n",
       "      <th>1</th>\n",
       "      <td>Cincinnati</td>\n",
       "      <td>Reds</td>\n",
       "      <td>Central</td>\n",
       "      <td>NL</td>\n",
       "    </tr>\n",
       "    <tr>\n",
       "      <th>2</th>\n",
       "      <td>Chicago</td>\n",
       "      <td>Cubs</td>\n",
       "      <td>Central</td>\n",
       "      <td>NL</td>\n",
       "    </tr>\n",
       "    <tr>\n",
       "      <th>3</th>\n",
       "      <td>St. Louis</td>\n",
       "      <td>Cardinals</td>\n",
       "      <td>Central</td>\n",
       "      <td>NL</td>\n",
       "    </tr>\n",
       "    <tr>\n",
       "      <th>4</th>\n",
       "      <td>Milwaukee</td>\n",
       "      <td>Brewers</td>\n",
       "      <td>Central</td>\n",
       "      <td>NL</td>\n",
       "    </tr>\n",
       "  </tbody>\n",
       "</table>\n",
       "</div>"
      ],
      "text/plain": [
       "         City      Teams Division League\n",
       "0  Pittsburgh    Pirates  Central     NL\n",
       "1  Cincinnati       Reds  Central     NL\n",
       "2     Chicago       Cubs  Central     NL\n",
       "3   St. Louis  Cardinals  Central     NL\n",
       "4   Milwaukee    Brewers  Central     NL"
      ]
     },
     "execution_count": 6,
     "metadata": {},
     "output_type": "execute_result"
    }
   ],
   "source": [
    "baseball_df"
   ]
  },
  {
   "cell_type": "markdown",
   "id": "999a8ec6-0408-422c-84f0-7ec2bbe12f24",
   "metadata": {},
   "source": [
    "But this videos is ALL about the `.index` attribute!!!"
   ]
  },
  {
   "cell_type": "code",
   "execution_count": 8,
   "id": "acbd8d79-ff56-4e86-91b4-61622bd3b583",
   "metadata": {},
   "outputs": [
    {
     "data": {
      "text/plain": [
       "RangeIndex(start=0, stop=5, step=1)"
      ]
     },
     "execution_count": 8,
     "metadata": {},
     "output_type": "execute_result"
    }
   ],
   "source": [
    "baseball_df.index"
   ]
  },
  {
   "cell_type": "code",
   "execution_count": 9,
   "id": "682c607b-00ee-47f8-8f91-391b5c1c8bc7",
   "metadata": {},
   "outputs": [
    {
     "name": "stdout",
     "output_type": "stream",
     "text": [
      "<class 'pandas.core.frame.DataFrame'>\n",
      "RangeIndex: 5 entries, 0 to 4\n",
      "Data columns (total 4 columns):\n",
      " #   Column    Non-Null Count  Dtype \n",
      "---  ------    --------------  ----- \n",
      " 0   City      5 non-null      object\n",
      " 1   Teams     5 non-null      object\n",
      " 2   Division  5 non-null      object\n",
      " 3   League    5 non-null      object\n",
      "dtypes: object(4)\n",
      "memory usage: 288.0+ bytes\n"
     ]
    }
   ],
   "source": [
    "baseball_df.info()"
   ]
  },
  {
   "cell_type": "markdown",
   "id": "e2799eab-cc99-4b0e-bf24-bfcfeeec475f",
   "metadata": {},
   "source": [
    "But we can change the `.index` attribute!!\n",
    "\n",
    "I dislike the Pandas allows the `.index` attribute to be ANYTHING!!!\n",
    "\n",
    "I feel like `.index` attribute should simply be a ROW COUNTER.\n",
    "\n",
    "But Pandas lets `.index` be a meaningful quantity! The `.index` attribute can therefore be a separate variable!!\n",
    "\n",
    "For the baseball example, lets change the `.index` to be the NUMBER of GAMES BACK a team is from the division leader"
   ]
  },
  {
   "cell_type": "code",
   "execution_count": 10,
   "id": "f1ab1b19-11b9-4f2c-aaa8-514e987e5c59",
   "metadata": {},
   "outputs": [],
   "source": [
    "baseball_df.index = [31.5, 27.5, 22.5, 0, 7.5]"
   ]
  },
  {
   "cell_type": "code",
   "execution_count": 11,
   "id": "e8950686-f605-448f-86b9-044921697fb1",
   "metadata": {},
   "outputs": [
    {
     "data": {
      "text/plain": [
       "Index([31.5, 27.5, 22.5, 0.0, 7.5], dtype='float64')"
      ]
     },
     "execution_count": 11,
     "metadata": {},
     "output_type": "execute_result"
    }
   ],
   "source": [
    "baseball_df.index"
   ]
  },
  {
   "cell_type": "code",
   "execution_count": 12,
   "id": "52efd932-2496-4c70-8ddd-16ea59482aa9",
   "metadata": {},
   "outputs": [
    {
     "name": "stdout",
     "output_type": "stream",
     "text": [
      "<class 'pandas.core.frame.DataFrame'>\n",
      "Index: 5 entries, 31.5 to 7.5\n",
      "Data columns (total 4 columns):\n",
      " #   Column    Non-Null Count  Dtype \n",
      "---  ------    --------------  ----- \n",
      " 0   City      5 non-null      object\n",
      " 1   Teams     5 non-null      object\n",
      " 2   Division  5 non-null      object\n",
      " 3   League    5 non-null      object\n",
      "dtypes: object(4)\n",
      "memory usage: 200.0+ bytes\n"
     ]
    }
   ],
   "source": [
    "baseball_df.info()"
   ]
  },
  {
   "cell_type": "code",
   "execution_count": 13,
   "id": "2bee7363-0e99-48bc-bb9a-d10e9ead0a12",
   "metadata": {},
   "outputs": [
    {
     "data": {
      "text/html": [
       "<div>\n",
       "<style scoped>\n",
       "    .dataframe tbody tr th:only-of-type {\n",
       "        vertical-align: middle;\n",
       "    }\n",
       "\n",
       "    .dataframe tbody tr th {\n",
       "        vertical-align: top;\n",
       "    }\n",
       "\n",
       "    .dataframe thead th {\n",
       "        text-align: right;\n",
       "    }\n",
       "</style>\n",
       "<table border=\"1\" class=\"dataframe\">\n",
       "  <thead>\n",
       "    <tr style=\"text-align: right;\">\n",
       "      <th></th>\n",
       "      <th>City</th>\n",
       "      <th>Teams</th>\n",
       "      <th>Division</th>\n",
       "      <th>League</th>\n",
       "    </tr>\n",
       "  </thead>\n",
       "  <tbody>\n",
       "    <tr>\n",
       "      <th>31.5</th>\n",
       "      <td>Pittsburgh</td>\n",
       "      <td>Pirates</td>\n",
       "      <td>Central</td>\n",
       "      <td>NL</td>\n",
       "    </tr>\n",
       "    <tr>\n",
       "      <th>27.5</th>\n",
       "      <td>Cincinnati</td>\n",
       "      <td>Reds</td>\n",
       "      <td>Central</td>\n",
       "      <td>NL</td>\n",
       "    </tr>\n",
       "    <tr>\n",
       "      <th>22.5</th>\n",
       "      <td>Chicago</td>\n",
       "      <td>Cubs</td>\n",
       "      <td>Central</td>\n",
       "      <td>NL</td>\n",
       "    </tr>\n",
       "    <tr>\n",
       "      <th>0.0</th>\n",
       "      <td>St. Louis</td>\n",
       "      <td>Cardinals</td>\n",
       "      <td>Central</td>\n",
       "      <td>NL</td>\n",
       "    </tr>\n",
       "    <tr>\n",
       "      <th>7.5</th>\n",
       "      <td>Milwaukee</td>\n",
       "      <td>Brewers</td>\n",
       "      <td>Central</td>\n",
       "      <td>NL</td>\n",
       "    </tr>\n",
       "  </tbody>\n",
       "</table>\n",
       "</div>"
      ],
      "text/plain": [
       "            City      Teams Division League\n",
       "31.5  Pittsburgh    Pirates  Central     NL\n",
       "27.5  Cincinnati       Reds  Central     NL\n",
       "22.5     Chicago       Cubs  Central     NL\n",
       "0.0    St. Louis  Cardinals  Central     NL\n",
       "7.5    Milwaukee    Brewers  Central     NL"
      ]
     },
     "execution_count": 13,
     "metadata": {},
     "output_type": "execute_result"
    }
   ],
   "source": [
    "baseball_df"
   ]
  },
  {
   "cell_type": "markdown",
   "id": "fdfcc61d-34e4-4ce1-b05f-e28d7d1dbc48",
   "metadata": {},
   "source": [
    "How can we find a single row or SELECT a single row from the DataFrame?"
   ]
  },
  {
   "cell_type": "code",
   "execution_count": 14,
   "id": "e6b9820b-5c0d-4b8a-9f8e-d9d6a9db6805",
   "metadata": {},
   "outputs": [
    {
     "ename": "KeyError",
     "evalue": "0",
     "output_type": "error",
     "traceback": [
      "\u001b[0;31m---------------------------------------------------------------------------\u001b[0m",
      "\u001b[0;31mKeyError\u001b[0m                                  Traceback (most recent call last)",
      "File \u001b[0;32m/Applications/anaconda3/envs/cmpinf2100/lib/python3.8/site-packages/pandas/core/indexes/base.py:3653\u001b[0m, in \u001b[0;36mIndex.get_loc\u001b[0;34m(self, key)\u001b[0m\n\u001b[1;32m   3652\u001b[0m \u001b[38;5;28;01mtry\u001b[39;00m:\n\u001b[0;32m-> 3653\u001b[0m     \u001b[38;5;28;01mreturn\u001b[39;00m \u001b[38;5;28;43mself\u001b[39;49m\u001b[38;5;241;43m.\u001b[39;49m\u001b[43m_engine\u001b[49m\u001b[38;5;241;43m.\u001b[39;49m\u001b[43mget_loc\u001b[49m\u001b[43m(\u001b[49m\u001b[43mcasted_key\u001b[49m\u001b[43m)\u001b[49m\n\u001b[1;32m   3654\u001b[0m \u001b[38;5;28;01mexcept\u001b[39;00m \u001b[38;5;167;01mKeyError\u001b[39;00m \u001b[38;5;28;01mas\u001b[39;00m err:\n",
      "File \u001b[0;32m/Applications/anaconda3/envs/cmpinf2100/lib/python3.8/site-packages/pandas/_libs/index.pyx:147\u001b[0m, in \u001b[0;36mpandas._libs.index.IndexEngine.get_loc\u001b[0;34m()\u001b[0m\n",
      "File \u001b[0;32m/Applications/anaconda3/envs/cmpinf2100/lib/python3.8/site-packages/pandas/_libs/index.pyx:176\u001b[0m, in \u001b[0;36mpandas._libs.index.IndexEngine.get_loc\u001b[0;34m()\u001b[0m\n",
      "File \u001b[0;32mpandas/_libs/hashtable_class_helper.pxi:7080\u001b[0m, in \u001b[0;36mpandas._libs.hashtable.PyObjectHashTable.get_item\u001b[0;34m()\u001b[0m\n",
      "File \u001b[0;32mpandas/_libs/hashtable_class_helper.pxi:7088\u001b[0m, in \u001b[0;36mpandas._libs.hashtable.PyObjectHashTable.get_item\u001b[0;34m()\u001b[0m\n",
      "\u001b[0;31mKeyError\u001b[0m: 0",
      "\nThe above exception was the direct cause of the following exception:\n",
      "\u001b[0;31mKeyError\u001b[0m                                  Traceback (most recent call last)",
      "Cell \u001b[0;32mIn[14], line 1\u001b[0m\n\u001b[0;32m----> 1\u001b[0m \u001b[43mbaseball_df\u001b[49m\u001b[43m[\u001b[49m\u001b[38;5;241;43m0\u001b[39;49m\u001b[43m]\u001b[49m\n",
      "File \u001b[0;32m/Applications/anaconda3/envs/cmpinf2100/lib/python3.8/site-packages/pandas/core/frame.py:3761\u001b[0m, in \u001b[0;36mDataFrame.__getitem__\u001b[0;34m(self, key)\u001b[0m\n\u001b[1;32m   3759\u001b[0m \u001b[38;5;28;01mif\u001b[39;00m \u001b[38;5;28mself\u001b[39m\u001b[38;5;241m.\u001b[39mcolumns\u001b[38;5;241m.\u001b[39mnlevels \u001b[38;5;241m>\u001b[39m \u001b[38;5;241m1\u001b[39m:\n\u001b[1;32m   3760\u001b[0m     \u001b[38;5;28;01mreturn\u001b[39;00m \u001b[38;5;28mself\u001b[39m\u001b[38;5;241m.\u001b[39m_getitem_multilevel(key)\n\u001b[0;32m-> 3761\u001b[0m indexer \u001b[38;5;241m=\u001b[39m \u001b[38;5;28;43mself\u001b[39;49m\u001b[38;5;241;43m.\u001b[39;49m\u001b[43mcolumns\u001b[49m\u001b[38;5;241;43m.\u001b[39;49m\u001b[43mget_loc\u001b[49m\u001b[43m(\u001b[49m\u001b[43mkey\u001b[49m\u001b[43m)\u001b[49m\n\u001b[1;32m   3762\u001b[0m \u001b[38;5;28;01mif\u001b[39;00m is_integer(indexer):\n\u001b[1;32m   3763\u001b[0m     indexer \u001b[38;5;241m=\u001b[39m [indexer]\n",
      "File \u001b[0;32m/Applications/anaconda3/envs/cmpinf2100/lib/python3.8/site-packages/pandas/core/indexes/base.py:3655\u001b[0m, in \u001b[0;36mIndex.get_loc\u001b[0;34m(self, key)\u001b[0m\n\u001b[1;32m   3653\u001b[0m     \u001b[38;5;28;01mreturn\u001b[39;00m \u001b[38;5;28mself\u001b[39m\u001b[38;5;241m.\u001b[39m_engine\u001b[38;5;241m.\u001b[39mget_loc(casted_key)\n\u001b[1;32m   3654\u001b[0m \u001b[38;5;28;01mexcept\u001b[39;00m \u001b[38;5;167;01mKeyError\u001b[39;00m \u001b[38;5;28;01mas\u001b[39;00m err:\n\u001b[0;32m-> 3655\u001b[0m     \u001b[38;5;28;01mraise\u001b[39;00m \u001b[38;5;167;01mKeyError\u001b[39;00m(key) \u001b[38;5;28;01mfrom\u001b[39;00m \u001b[38;5;21;01merr\u001b[39;00m\n\u001b[1;32m   3656\u001b[0m \u001b[38;5;28;01mexcept\u001b[39;00m \u001b[38;5;167;01mTypeError\u001b[39;00m:\n\u001b[1;32m   3657\u001b[0m     \u001b[38;5;66;03m# If we have a listlike key, _check_indexing_error will raise\u001b[39;00m\n\u001b[1;32m   3658\u001b[0m     \u001b[38;5;66;03m#  InvalidIndexError. Otherwise we fall through and re-raise\u001b[39;00m\n\u001b[1;32m   3659\u001b[0m     \u001b[38;5;66;03m#  the TypeError.\u001b[39;00m\n\u001b[1;32m   3660\u001b[0m     \u001b[38;5;28mself\u001b[39m\u001b[38;5;241m.\u001b[39m_check_indexing_error(key)\n",
      "\u001b[0;31mKeyError\u001b[0m: 0"
     ]
    }
   ],
   "source": [
    "baseball_df[0] "
   ]
  },
  {
   "cell_type": "code",
   "execution_count": 15,
   "id": "eab257c7-e309-4293-930f-d7c3e73f79e0",
   "metadata": {},
   "outputs": [
    {
     "ename": "KeyError",
     "evalue": "0.0",
     "output_type": "error",
     "traceback": [
      "\u001b[0;31m---------------------------------------------------------------------------\u001b[0m",
      "\u001b[0;31mKeyError\u001b[0m                                  Traceback (most recent call last)",
      "File \u001b[0;32m/Applications/anaconda3/envs/cmpinf2100/lib/python3.8/site-packages/pandas/core/indexes/base.py:3653\u001b[0m, in \u001b[0;36mIndex.get_loc\u001b[0;34m(self, key)\u001b[0m\n\u001b[1;32m   3652\u001b[0m \u001b[38;5;28;01mtry\u001b[39;00m:\n\u001b[0;32m-> 3653\u001b[0m     \u001b[38;5;28;01mreturn\u001b[39;00m \u001b[38;5;28;43mself\u001b[39;49m\u001b[38;5;241;43m.\u001b[39;49m\u001b[43m_engine\u001b[49m\u001b[38;5;241;43m.\u001b[39;49m\u001b[43mget_loc\u001b[49m\u001b[43m(\u001b[49m\u001b[43mcasted_key\u001b[49m\u001b[43m)\u001b[49m\n\u001b[1;32m   3654\u001b[0m \u001b[38;5;28;01mexcept\u001b[39;00m \u001b[38;5;167;01mKeyError\u001b[39;00m \u001b[38;5;28;01mas\u001b[39;00m err:\n",
      "File \u001b[0;32m/Applications/anaconda3/envs/cmpinf2100/lib/python3.8/site-packages/pandas/_libs/index.pyx:147\u001b[0m, in \u001b[0;36mpandas._libs.index.IndexEngine.get_loc\u001b[0;34m()\u001b[0m\n",
      "File \u001b[0;32m/Applications/anaconda3/envs/cmpinf2100/lib/python3.8/site-packages/pandas/_libs/index.pyx:176\u001b[0m, in \u001b[0;36mpandas._libs.index.IndexEngine.get_loc\u001b[0;34m()\u001b[0m\n",
      "File \u001b[0;32mpandas/_libs/hashtable_class_helper.pxi:7080\u001b[0m, in \u001b[0;36mpandas._libs.hashtable.PyObjectHashTable.get_item\u001b[0;34m()\u001b[0m\n",
      "File \u001b[0;32mpandas/_libs/hashtable_class_helper.pxi:7088\u001b[0m, in \u001b[0;36mpandas._libs.hashtable.PyObjectHashTable.get_item\u001b[0;34m()\u001b[0m\n",
      "\u001b[0;31mKeyError\u001b[0m: 0.0",
      "\nThe above exception was the direct cause of the following exception:\n",
      "\u001b[0;31mKeyError\u001b[0m                                  Traceback (most recent call last)",
      "Cell \u001b[0;32mIn[15], line 1\u001b[0m\n\u001b[0;32m----> 1\u001b[0m \u001b[43mbaseball_df\u001b[49m\u001b[43m[\u001b[49m\u001b[38;5;241;43m0.0\u001b[39;49m\u001b[43m]\u001b[49m\n",
      "File \u001b[0;32m/Applications/anaconda3/envs/cmpinf2100/lib/python3.8/site-packages/pandas/core/frame.py:3761\u001b[0m, in \u001b[0;36mDataFrame.__getitem__\u001b[0;34m(self, key)\u001b[0m\n\u001b[1;32m   3759\u001b[0m \u001b[38;5;28;01mif\u001b[39;00m \u001b[38;5;28mself\u001b[39m\u001b[38;5;241m.\u001b[39mcolumns\u001b[38;5;241m.\u001b[39mnlevels \u001b[38;5;241m>\u001b[39m \u001b[38;5;241m1\u001b[39m:\n\u001b[1;32m   3760\u001b[0m     \u001b[38;5;28;01mreturn\u001b[39;00m \u001b[38;5;28mself\u001b[39m\u001b[38;5;241m.\u001b[39m_getitem_multilevel(key)\n\u001b[0;32m-> 3761\u001b[0m indexer \u001b[38;5;241m=\u001b[39m \u001b[38;5;28;43mself\u001b[39;49m\u001b[38;5;241;43m.\u001b[39;49m\u001b[43mcolumns\u001b[49m\u001b[38;5;241;43m.\u001b[39;49m\u001b[43mget_loc\u001b[49m\u001b[43m(\u001b[49m\u001b[43mkey\u001b[49m\u001b[43m)\u001b[49m\n\u001b[1;32m   3762\u001b[0m \u001b[38;5;28;01mif\u001b[39;00m is_integer(indexer):\n\u001b[1;32m   3763\u001b[0m     indexer \u001b[38;5;241m=\u001b[39m [indexer]\n",
      "File \u001b[0;32m/Applications/anaconda3/envs/cmpinf2100/lib/python3.8/site-packages/pandas/core/indexes/base.py:3655\u001b[0m, in \u001b[0;36mIndex.get_loc\u001b[0;34m(self, key)\u001b[0m\n\u001b[1;32m   3653\u001b[0m     \u001b[38;5;28;01mreturn\u001b[39;00m \u001b[38;5;28mself\u001b[39m\u001b[38;5;241m.\u001b[39m_engine\u001b[38;5;241m.\u001b[39mget_loc(casted_key)\n\u001b[1;32m   3654\u001b[0m \u001b[38;5;28;01mexcept\u001b[39;00m \u001b[38;5;167;01mKeyError\u001b[39;00m \u001b[38;5;28;01mas\u001b[39;00m err:\n\u001b[0;32m-> 3655\u001b[0m     \u001b[38;5;28;01mraise\u001b[39;00m \u001b[38;5;167;01mKeyError\u001b[39;00m(key) \u001b[38;5;28;01mfrom\u001b[39;00m \u001b[38;5;21;01merr\u001b[39;00m\n\u001b[1;32m   3656\u001b[0m \u001b[38;5;28;01mexcept\u001b[39;00m \u001b[38;5;167;01mTypeError\u001b[39;00m:\n\u001b[1;32m   3657\u001b[0m     \u001b[38;5;66;03m# If we have a listlike key, _check_indexing_error will raise\u001b[39;00m\n\u001b[1;32m   3658\u001b[0m     \u001b[38;5;66;03m#  InvalidIndexError. Otherwise we fall through and re-raise\u001b[39;00m\n\u001b[1;32m   3659\u001b[0m     \u001b[38;5;66;03m#  the TypeError.\u001b[39;00m\n\u001b[1;32m   3660\u001b[0m     \u001b[38;5;28mself\u001b[39m\u001b[38;5;241m.\u001b[39m_check_indexing_error(key)\n",
      "\u001b[0;31mKeyError\u001b[0m: 0.0"
     ]
    }
   ],
   "source": [
    "baseball_df[0.0] "
   ]
  },
  {
   "cell_type": "markdown",
   "id": "9d1f6c09-a42a-4f38-9005-9c7464c47ccb",
   "metadata": {},
   "source": [
    "Pandas is COLUMN or VARIABLE or field centric!!!"
   ]
  },
  {
   "cell_type": "code",
   "execution_count": 16,
   "id": "1d666a5f-0a48-4d16-aa99-f1e762b47690",
   "metadata": {},
   "outputs": [
    {
     "data": {
      "text/html": [
       "<div>\n",
       "<style scoped>\n",
       "    .dataframe tbody tr th:only-of-type {\n",
       "        vertical-align: middle;\n",
       "    }\n",
       "\n",
       "    .dataframe tbody tr th {\n",
       "        vertical-align: top;\n",
       "    }\n",
       "\n",
       "    .dataframe thead th {\n",
       "        text-align: right;\n",
       "    }\n",
       "</style>\n",
       "<table border=\"1\" class=\"dataframe\">\n",
       "  <thead>\n",
       "    <tr style=\"text-align: right;\">\n",
       "      <th></th>\n",
       "      <th>City</th>\n",
       "      <th>Teams</th>\n",
       "      <th>Division</th>\n",
       "      <th>League</th>\n",
       "    </tr>\n",
       "  </thead>\n",
       "  <tbody>\n",
       "    <tr>\n",
       "      <th>31.5</th>\n",
       "      <td>Pittsburgh</td>\n",
       "      <td>Pirates</td>\n",
       "      <td>Central</td>\n",
       "      <td>NL</td>\n",
       "    </tr>\n",
       "    <tr>\n",
       "      <th>27.5</th>\n",
       "      <td>Cincinnati</td>\n",
       "      <td>Reds</td>\n",
       "      <td>Central</td>\n",
       "      <td>NL</td>\n",
       "    </tr>\n",
       "    <tr>\n",
       "      <th>22.5</th>\n",
       "      <td>Chicago</td>\n",
       "      <td>Cubs</td>\n",
       "      <td>Central</td>\n",
       "      <td>NL</td>\n",
       "    </tr>\n",
       "    <tr>\n",
       "      <th>0.0</th>\n",
       "      <td>St. Louis</td>\n",
       "      <td>Cardinals</td>\n",
       "      <td>Central</td>\n",
       "      <td>NL</td>\n",
       "    </tr>\n",
       "    <tr>\n",
       "      <th>7.5</th>\n",
       "      <td>Milwaukee</td>\n",
       "      <td>Brewers</td>\n",
       "      <td>Central</td>\n",
       "      <td>NL</td>\n",
       "    </tr>\n",
       "  </tbody>\n",
       "</table>\n",
       "</div>"
      ],
      "text/plain": [
       "            City      Teams Division League\n",
       "31.5  Pittsburgh    Pirates  Central     NL\n",
       "27.5  Cincinnati       Reds  Central     NL\n",
       "22.5     Chicago       Cubs  Central     NL\n",
       "0.0    St. Louis  Cardinals  Central     NL\n",
       "7.5    Milwaukee    Brewers  Central     NL"
      ]
     },
     "execution_count": 16,
     "metadata": {},
     "output_type": "execute_result"
    }
   ],
   "source": [
    "baseball_df"
   ]
  },
  {
   "cell_type": "markdown",
   "id": "32d631c0-ffe3-487f-95e5-b3692bcfe162",
   "metadata": {},
   "source": [
    "When we type the `[]` to access something in Pandas DataFrame we need to provide the COLUMN NAMES!!!"
   ]
  },
  {
   "cell_type": "code",
   "execution_count": 17,
   "id": "9ccba1ad-8f18-483d-a025-622d28a32437",
   "metadata": {},
   "outputs": [
    {
     "data": {
      "text/plain": [
       "31.5      Pirates\n",
       "27.5         Reds\n",
       "22.5         Cubs\n",
       "0.0     Cardinals\n",
       "7.5       Brewers\n",
       "Name: Teams, dtype: object"
      ]
     },
     "execution_count": 17,
     "metadata": {},
     "output_type": "execute_result"
    }
   ],
   "source": [
    "baseball_df['Teams']"
   ]
  },
  {
   "cell_type": "markdown",
   "id": "5339846c-112b-4d81-b27e-28e079e4aa86",
   "metadata": {},
   "source": [
    "The column name allows easy SLICING of the DataFrame!"
   ]
  },
  {
   "cell_type": "code",
   "execution_count": 18,
   "id": "1f53f10f-5532-49aa-bf0a-80a234b7e1c0",
   "metadata": {},
   "outputs": [
    {
     "data": {
      "text/plain": [
       "Index(['City', 'Teams', 'Division', 'League'], dtype='object')"
      ]
     },
     "execution_count": 18,
     "metadata": {},
     "output_type": "execute_result"
    }
   ],
   "source": [
    "baseball_df.columns"
   ]
  },
  {
   "cell_type": "markdown",
   "id": "3977fa2b-aed0-4d41-8646-c9806b58f04a",
   "metadata": {},
   "source": [
    "But how does this help us with the ROWS??\n",
    "\n",
    "The `.index` attribute is associated with teh ROWS!!!\n",
    "\n",
    "Pandas uses a SPECIAL ATTRIBUTE to let us manage or select ROWS!\n",
    "\n",
    "There are two flavors.\n",
    "\n",
    "The `.loc[]` attribute allows selecting rows based on the `.index` LOCATION OR KEY!!!\n",
    "\n",
    "The `.iloc[]` attribute allows selecting rows based on the `.index` INTEGER POSITION!!!"
   ]
  },
  {
   "cell_type": "code",
   "execution_count": 19,
   "id": "cacf1293-c0ae-4ea8-a099-fcfb0a6efc04",
   "metadata": {},
   "outputs": [
    {
     "data": {
      "text/html": [
       "<div>\n",
       "<style scoped>\n",
       "    .dataframe tbody tr th:only-of-type {\n",
       "        vertical-align: middle;\n",
       "    }\n",
       "\n",
       "    .dataframe tbody tr th {\n",
       "        vertical-align: top;\n",
       "    }\n",
       "\n",
       "    .dataframe thead th {\n",
       "        text-align: right;\n",
       "    }\n",
       "</style>\n",
       "<table border=\"1\" class=\"dataframe\">\n",
       "  <thead>\n",
       "    <tr style=\"text-align: right;\">\n",
       "      <th></th>\n",
       "      <th>City</th>\n",
       "      <th>Teams</th>\n",
       "      <th>Division</th>\n",
       "      <th>League</th>\n",
       "    </tr>\n",
       "  </thead>\n",
       "  <tbody>\n",
       "    <tr>\n",
       "      <th>31.5</th>\n",
       "      <td>Pittsburgh</td>\n",
       "      <td>Pirates</td>\n",
       "      <td>Central</td>\n",
       "      <td>NL</td>\n",
       "    </tr>\n",
       "    <tr>\n",
       "      <th>27.5</th>\n",
       "      <td>Cincinnati</td>\n",
       "      <td>Reds</td>\n",
       "      <td>Central</td>\n",
       "      <td>NL</td>\n",
       "    </tr>\n",
       "    <tr>\n",
       "      <th>22.5</th>\n",
       "      <td>Chicago</td>\n",
       "      <td>Cubs</td>\n",
       "      <td>Central</td>\n",
       "      <td>NL</td>\n",
       "    </tr>\n",
       "    <tr>\n",
       "      <th>0.0</th>\n",
       "      <td>St. Louis</td>\n",
       "      <td>Cardinals</td>\n",
       "      <td>Central</td>\n",
       "      <td>NL</td>\n",
       "    </tr>\n",
       "    <tr>\n",
       "      <th>7.5</th>\n",
       "      <td>Milwaukee</td>\n",
       "      <td>Brewers</td>\n",
       "      <td>Central</td>\n",
       "      <td>NL</td>\n",
       "    </tr>\n",
       "  </tbody>\n",
       "</table>\n",
       "</div>"
      ],
      "text/plain": [
       "            City      Teams Division League\n",
       "31.5  Pittsburgh    Pirates  Central     NL\n",
       "27.5  Cincinnati       Reds  Central     NL\n",
       "22.5     Chicago       Cubs  Central     NL\n",
       "0.0    St. Louis  Cardinals  Central     NL\n",
       "7.5    Milwaukee    Brewers  Central     NL"
      ]
     },
     "execution_count": 19,
     "metadata": {},
     "output_type": "execute_result"
    }
   ],
   "source": [
    "baseball_df"
   ]
  },
  {
   "cell_type": "code",
   "execution_count": 20,
   "id": "63abe323-e115-4295-9ff2-63d317478235",
   "metadata": {},
   "outputs": [
    {
     "data": {
      "text/plain": [
       "City        St. Louis\n",
       "Teams       Cardinals\n",
       "Division      Central\n",
       "League             NL\n",
       "Name: 0.0, dtype: object"
      ]
     },
     "execution_count": 20,
     "metadata": {},
     "output_type": "execute_result"
    }
   ],
   "source": [
    "baseball_df.loc[0.0]"
   ]
  },
  {
   "cell_type": "code",
   "execution_count": 21,
   "id": "6dba5f87-a505-43a3-a1b0-faeea173b705",
   "metadata": {},
   "outputs": [
    {
     "data": {
      "text/plain": [
       "City        Pittsburgh\n",
       "Teams          Pirates\n",
       "Division       Central\n",
       "League              NL\n",
       "Name: 31.5, dtype: object"
      ]
     },
     "execution_count": 21,
     "metadata": {},
     "output_type": "execute_result"
    }
   ],
   "source": [
    "baseball_df.loc[31.5]"
   ]
  },
  {
   "cell_type": "code",
   "execution_count": 22,
   "id": "45f645b6-d908-44a3-aacf-ffd4dc5fbf7b",
   "metadata": {},
   "outputs": [
    {
     "data": {
      "text/plain": [
       "City        Pittsburgh\n",
       "Teams          Pirates\n",
       "Division       Central\n",
       "League              NL\n",
       "Name: 31.5, dtype: object"
      ]
     },
     "execution_count": 22,
     "metadata": {},
     "output_type": "execute_result"
    }
   ],
   "source": [
    "baseball_df.iloc[0]"
   ]
  },
  {
   "cell_type": "markdown",
   "id": "1d27c987-6174-4a50-abd0-0bb374e67a01",
   "metadata": {},
   "source": [
    "The `.loc[]` selects rows based on the LOCATION or KEY.\n",
    "\n",
    "The `.iloc[]` selects rows based on INTEGER POSITION\n",
    "\n",
    "## Resetting Index\n",
    "I do not like the `.index`. I prefer it to be the REGULAR column if it storing MEANINGFUL VALUES!!!"
   ]
  },
  {
   "cell_type": "markdown",
   "id": "ef711782-274b-4738-9bb6-08be0c1120ac",
   "metadata": {},
   "source": [
    "Lets sort by the `.index`"
   ]
  },
  {
   "cell_type": "code",
   "execution_count": 23,
   "id": "95eab421-8f4b-473b-9238-f4abca21ea05",
   "metadata": {},
   "outputs": [
    {
     "data": {
      "text/html": [
       "<div>\n",
       "<style scoped>\n",
       "    .dataframe tbody tr th:only-of-type {\n",
       "        vertical-align: middle;\n",
       "    }\n",
       "\n",
       "    .dataframe tbody tr th {\n",
       "        vertical-align: top;\n",
       "    }\n",
       "\n",
       "    .dataframe thead th {\n",
       "        text-align: right;\n",
       "    }\n",
       "</style>\n",
       "<table border=\"1\" class=\"dataframe\">\n",
       "  <thead>\n",
       "    <tr style=\"text-align: right;\">\n",
       "      <th></th>\n",
       "      <th>City</th>\n",
       "      <th>Teams</th>\n",
       "      <th>Division</th>\n",
       "      <th>League</th>\n",
       "    </tr>\n",
       "  </thead>\n",
       "  <tbody>\n",
       "    <tr>\n",
       "      <th>0.0</th>\n",
       "      <td>St. Louis</td>\n",
       "      <td>Cardinals</td>\n",
       "      <td>Central</td>\n",
       "      <td>NL</td>\n",
       "    </tr>\n",
       "    <tr>\n",
       "      <th>7.5</th>\n",
       "      <td>Milwaukee</td>\n",
       "      <td>Brewers</td>\n",
       "      <td>Central</td>\n",
       "      <td>NL</td>\n",
       "    </tr>\n",
       "    <tr>\n",
       "      <th>22.5</th>\n",
       "      <td>Chicago</td>\n",
       "      <td>Cubs</td>\n",
       "      <td>Central</td>\n",
       "      <td>NL</td>\n",
       "    </tr>\n",
       "    <tr>\n",
       "      <th>27.5</th>\n",
       "      <td>Cincinnati</td>\n",
       "      <td>Reds</td>\n",
       "      <td>Central</td>\n",
       "      <td>NL</td>\n",
       "    </tr>\n",
       "    <tr>\n",
       "      <th>31.5</th>\n",
       "      <td>Pittsburgh</td>\n",
       "      <td>Pirates</td>\n",
       "      <td>Central</td>\n",
       "      <td>NL</td>\n",
       "    </tr>\n",
       "  </tbody>\n",
       "</table>\n",
       "</div>"
      ],
      "text/plain": [
       "            City      Teams Division League\n",
       "0.0    St. Louis  Cardinals  Central     NL\n",
       "7.5    Milwaukee    Brewers  Central     NL\n",
       "22.5     Chicago       Cubs  Central     NL\n",
       "27.5  Cincinnati       Reds  Central     NL\n",
       "31.5  Pittsburgh    Pirates  Central     NL"
      ]
     },
     "execution_count": 23,
     "metadata": {},
     "output_type": "execute_result"
    }
   ],
   "source": [
    "baseball_df.sort_index()"
   ]
  },
  {
   "cell_type": "code",
   "execution_count": 24,
   "id": "dd450e69-e57a-405b-8c71-514a10e64ea2",
   "metadata": {},
   "outputs": [
    {
     "data": {
      "text/html": [
       "<div>\n",
       "<style scoped>\n",
       "    .dataframe tbody tr th:only-of-type {\n",
       "        vertical-align: middle;\n",
       "    }\n",
       "\n",
       "    .dataframe tbody tr th {\n",
       "        vertical-align: top;\n",
       "    }\n",
       "\n",
       "    .dataframe thead th {\n",
       "        text-align: right;\n",
       "    }\n",
       "</style>\n",
       "<table border=\"1\" class=\"dataframe\">\n",
       "  <thead>\n",
       "    <tr style=\"text-align: right;\">\n",
       "      <th></th>\n",
       "      <th>City</th>\n",
       "      <th>Teams</th>\n",
       "      <th>Division</th>\n",
       "      <th>League</th>\n",
       "    </tr>\n",
       "  </thead>\n",
       "  <tbody>\n",
       "    <tr>\n",
       "      <th>31.5</th>\n",
       "      <td>Pittsburgh</td>\n",
       "      <td>Pirates</td>\n",
       "      <td>Central</td>\n",
       "      <td>NL</td>\n",
       "    </tr>\n",
       "    <tr>\n",
       "      <th>27.5</th>\n",
       "      <td>Cincinnati</td>\n",
       "      <td>Reds</td>\n",
       "      <td>Central</td>\n",
       "      <td>NL</td>\n",
       "    </tr>\n",
       "    <tr>\n",
       "      <th>22.5</th>\n",
       "      <td>Chicago</td>\n",
       "      <td>Cubs</td>\n",
       "      <td>Central</td>\n",
       "      <td>NL</td>\n",
       "    </tr>\n",
       "    <tr>\n",
       "      <th>0.0</th>\n",
       "      <td>St. Louis</td>\n",
       "      <td>Cardinals</td>\n",
       "      <td>Central</td>\n",
       "      <td>NL</td>\n",
       "    </tr>\n",
       "    <tr>\n",
       "      <th>7.5</th>\n",
       "      <td>Milwaukee</td>\n",
       "      <td>Brewers</td>\n",
       "      <td>Central</td>\n",
       "      <td>NL</td>\n",
       "    </tr>\n",
       "  </tbody>\n",
       "</table>\n",
       "</div>"
      ],
      "text/plain": [
       "            City      Teams Division League\n",
       "31.5  Pittsburgh    Pirates  Central     NL\n",
       "27.5  Cincinnati       Reds  Central     NL\n",
       "22.5     Chicago       Cubs  Central     NL\n",
       "0.0    St. Louis  Cardinals  Central     NL\n",
       "7.5    Milwaukee    Brewers  Central     NL"
      ]
     },
     "execution_count": 24,
     "metadata": {},
     "output_type": "execute_result"
    }
   ],
   "source": [
    "baseball_df"
   ]
  },
  {
   "cell_type": "code",
   "execution_count": 25,
   "id": "807df413-e7cd-4d52-9d3a-b71552db707b",
   "metadata": {},
   "outputs": [],
   "source": [
    "baseball_df.sort_index(inplace=True)"
   ]
  },
  {
   "cell_type": "code",
   "execution_count": 26,
   "id": "73a772f9-771a-49cd-9b00-43e231c71e35",
   "metadata": {},
   "outputs": [
    {
     "data": {
      "text/html": [
       "<div>\n",
       "<style scoped>\n",
       "    .dataframe tbody tr th:only-of-type {\n",
       "        vertical-align: middle;\n",
       "    }\n",
       "\n",
       "    .dataframe tbody tr th {\n",
       "        vertical-align: top;\n",
       "    }\n",
       "\n",
       "    .dataframe thead th {\n",
       "        text-align: right;\n",
       "    }\n",
       "</style>\n",
       "<table border=\"1\" class=\"dataframe\">\n",
       "  <thead>\n",
       "    <tr style=\"text-align: right;\">\n",
       "      <th></th>\n",
       "      <th>City</th>\n",
       "      <th>Teams</th>\n",
       "      <th>Division</th>\n",
       "      <th>League</th>\n",
       "    </tr>\n",
       "  </thead>\n",
       "  <tbody>\n",
       "    <tr>\n",
       "      <th>0.0</th>\n",
       "      <td>St. Louis</td>\n",
       "      <td>Cardinals</td>\n",
       "      <td>Central</td>\n",
       "      <td>NL</td>\n",
       "    </tr>\n",
       "    <tr>\n",
       "      <th>7.5</th>\n",
       "      <td>Milwaukee</td>\n",
       "      <td>Brewers</td>\n",
       "      <td>Central</td>\n",
       "      <td>NL</td>\n",
       "    </tr>\n",
       "    <tr>\n",
       "      <th>22.5</th>\n",
       "      <td>Chicago</td>\n",
       "      <td>Cubs</td>\n",
       "      <td>Central</td>\n",
       "      <td>NL</td>\n",
       "    </tr>\n",
       "    <tr>\n",
       "      <th>27.5</th>\n",
       "      <td>Cincinnati</td>\n",
       "      <td>Reds</td>\n",
       "      <td>Central</td>\n",
       "      <td>NL</td>\n",
       "    </tr>\n",
       "    <tr>\n",
       "      <th>31.5</th>\n",
       "      <td>Pittsburgh</td>\n",
       "      <td>Pirates</td>\n",
       "      <td>Central</td>\n",
       "      <td>NL</td>\n",
       "    </tr>\n",
       "  </tbody>\n",
       "</table>\n",
       "</div>"
      ],
      "text/plain": [
       "            City      Teams Division League\n",
       "0.0    St. Louis  Cardinals  Central     NL\n",
       "7.5    Milwaukee    Brewers  Central     NL\n",
       "22.5     Chicago       Cubs  Central     NL\n",
       "27.5  Cincinnati       Reds  Central     NL\n",
       "31.5  Pittsburgh    Pirates  Central     NL"
      ]
     },
     "execution_count": 26,
     "metadata": {},
     "output_type": "execute_result"
    }
   ],
   "source": [
    "baseball_df"
   ]
  },
  {
   "cell_type": "markdown",
   "id": "60642cb1-7aa5-42eb-8d9e-40cb6179578f",
   "metadata": {},
   "source": [
    "We can PULL OUT the `.index` attribute into a REGULAR column using the `.reset_index()` method!"
   ]
  },
  {
   "cell_type": "code",
   "execution_count": 27,
   "id": "698ae41d-2bff-42b4-92c1-867f39da8f53",
   "metadata": {},
   "outputs": [
    {
     "data": {
      "text/html": [
       "<div>\n",
       "<style scoped>\n",
       "    .dataframe tbody tr th:only-of-type {\n",
       "        vertical-align: middle;\n",
       "    }\n",
       "\n",
       "    .dataframe tbody tr th {\n",
       "        vertical-align: top;\n",
       "    }\n",
       "\n",
       "    .dataframe thead th {\n",
       "        text-align: right;\n",
       "    }\n",
       "</style>\n",
       "<table border=\"1\" class=\"dataframe\">\n",
       "  <thead>\n",
       "    <tr style=\"text-align: right;\">\n",
       "      <th></th>\n",
       "      <th>index</th>\n",
       "      <th>City</th>\n",
       "      <th>Teams</th>\n",
       "      <th>Division</th>\n",
       "      <th>League</th>\n",
       "    </tr>\n",
       "  </thead>\n",
       "  <tbody>\n",
       "    <tr>\n",
       "      <th>0</th>\n",
       "      <td>0.0</td>\n",
       "      <td>St. Louis</td>\n",
       "      <td>Cardinals</td>\n",
       "      <td>Central</td>\n",
       "      <td>NL</td>\n",
       "    </tr>\n",
       "    <tr>\n",
       "      <th>1</th>\n",
       "      <td>7.5</td>\n",
       "      <td>Milwaukee</td>\n",
       "      <td>Brewers</td>\n",
       "      <td>Central</td>\n",
       "      <td>NL</td>\n",
       "    </tr>\n",
       "    <tr>\n",
       "      <th>2</th>\n",
       "      <td>22.5</td>\n",
       "      <td>Chicago</td>\n",
       "      <td>Cubs</td>\n",
       "      <td>Central</td>\n",
       "      <td>NL</td>\n",
       "    </tr>\n",
       "    <tr>\n",
       "      <th>3</th>\n",
       "      <td>27.5</td>\n",
       "      <td>Cincinnati</td>\n",
       "      <td>Reds</td>\n",
       "      <td>Central</td>\n",
       "      <td>NL</td>\n",
       "    </tr>\n",
       "    <tr>\n",
       "      <th>4</th>\n",
       "      <td>31.5</td>\n",
       "      <td>Pittsburgh</td>\n",
       "      <td>Pirates</td>\n",
       "      <td>Central</td>\n",
       "      <td>NL</td>\n",
       "    </tr>\n",
       "  </tbody>\n",
       "</table>\n",
       "</div>"
      ],
      "text/plain": [
       "   index        City      Teams Division League\n",
       "0    0.0   St. Louis  Cardinals  Central     NL\n",
       "1    7.5   Milwaukee    Brewers  Central     NL\n",
       "2   22.5     Chicago       Cubs  Central     NL\n",
       "3   27.5  Cincinnati       Reds  Central     NL\n",
       "4   31.5  Pittsburgh    Pirates  Central     NL"
      ]
     },
     "execution_count": 27,
     "metadata": {},
     "output_type": "execute_result"
    }
   ],
   "source": [
    "baseball_df.reset_index()"
   ]
  },
  {
   "cell_type": "code",
   "execution_count": 29,
   "id": "9a0178a6-7749-49d9-91c2-405a373e33a3",
   "metadata": {},
   "outputs": [
    {
     "name": "stdout",
     "output_type": "stream",
     "text": [
      "<class 'pandas.core.frame.DataFrame'>\n",
      "RangeIndex: 5 entries, 0 to 4\n",
      "Data columns (total 5 columns):\n",
      " #   Column    Non-Null Count  Dtype  \n",
      "---  ------    --------------  -----  \n",
      " 0   index     5 non-null      float64\n",
      " 1   City      5 non-null      object \n",
      " 2   Teams     5 non-null      object \n",
      " 3   Division  5 non-null      object \n",
      " 4   League    5 non-null      object \n",
      "dtypes: float64(1), object(4)\n",
      "memory usage: 328.0+ bytes\n"
     ]
    }
   ],
   "source": [
    "baseball_df.reset_index().info()"
   ]
  },
  {
   "cell_type": "markdown",
   "id": "7a0460cf-0826-46f3-ab4f-8e723ad60fe0",
   "metadata": {},
   "source": [
    "If you do not want to KEEP the values within the `.index` attribute when you reset...you can DROP them."
   ]
  },
  {
   "cell_type": "code",
   "execution_count": 30,
   "id": "9c358d53-c225-4f3e-b077-ce424c97c25a",
   "metadata": {},
   "outputs": [
    {
     "data": {
      "text/html": [
       "<div>\n",
       "<style scoped>\n",
       "    .dataframe tbody tr th:only-of-type {\n",
       "        vertical-align: middle;\n",
       "    }\n",
       "\n",
       "    .dataframe tbody tr th {\n",
       "        vertical-align: top;\n",
       "    }\n",
       "\n",
       "    .dataframe thead th {\n",
       "        text-align: right;\n",
       "    }\n",
       "</style>\n",
       "<table border=\"1\" class=\"dataframe\">\n",
       "  <thead>\n",
       "    <tr style=\"text-align: right;\">\n",
       "      <th></th>\n",
       "      <th>City</th>\n",
       "      <th>Teams</th>\n",
       "      <th>Division</th>\n",
       "      <th>League</th>\n",
       "    </tr>\n",
       "  </thead>\n",
       "  <tbody>\n",
       "    <tr>\n",
       "      <th>0</th>\n",
       "      <td>St. Louis</td>\n",
       "      <td>Cardinals</td>\n",
       "      <td>Central</td>\n",
       "      <td>NL</td>\n",
       "    </tr>\n",
       "    <tr>\n",
       "      <th>1</th>\n",
       "      <td>Milwaukee</td>\n",
       "      <td>Brewers</td>\n",
       "      <td>Central</td>\n",
       "      <td>NL</td>\n",
       "    </tr>\n",
       "    <tr>\n",
       "      <th>2</th>\n",
       "      <td>Chicago</td>\n",
       "      <td>Cubs</td>\n",
       "      <td>Central</td>\n",
       "      <td>NL</td>\n",
       "    </tr>\n",
       "    <tr>\n",
       "      <th>3</th>\n",
       "      <td>Cincinnati</td>\n",
       "      <td>Reds</td>\n",
       "      <td>Central</td>\n",
       "      <td>NL</td>\n",
       "    </tr>\n",
       "    <tr>\n",
       "      <th>4</th>\n",
       "      <td>Pittsburgh</td>\n",
       "      <td>Pirates</td>\n",
       "      <td>Central</td>\n",
       "      <td>NL</td>\n",
       "    </tr>\n",
       "  </tbody>\n",
       "</table>\n",
       "</div>"
      ],
      "text/plain": [
       "         City      Teams Division League\n",
       "0   St. Louis  Cardinals  Central     NL\n",
       "1   Milwaukee    Brewers  Central     NL\n",
       "2     Chicago       Cubs  Central     NL\n",
       "3  Cincinnati       Reds  Central     NL\n",
       "4  Pittsburgh    Pirates  Central     NL"
      ]
     },
     "execution_count": 30,
     "metadata": {},
     "output_type": "execute_result"
    }
   ],
   "source": [
    "baseball_df.reset_index(drop=True)"
   ]
  },
  {
   "cell_type": "markdown",
   "id": "a7016dcc-59b7-48b1-9a0e-f909d0aab0df",
   "metadata": {},
   "source": [
    "But if you want to KEEP the `.index` attribute values...the DEFAULT name of the column `index` is VERY vague!!!"
   ]
  },
  {
   "cell_type": "code",
   "execution_count": 32,
   "id": "654c2d4e-0661-4c51-9e08-e166340d9051",
   "metadata": {},
   "outputs": [
    {
     "data": {
      "text/html": [
       "<div>\n",
       "<style scoped>\n",
       "    .dataframe tbody tr th:only-of-type {\n",
       "        vertical-align: middle;\n",
       "    }\n",
       "\n",
       "    .dataframe tbody tr th {\n",
       "        vertical-align: top;\n",
       "    }\n",
       "\n",
       "    .dataframe thead th {\n",
       "        text-align: right;\n",
       "    }\n",
       "</style>\n",
       "<table border=\"1\" class=\"dataframe\">\n",
       "  <thead>\n",
       "    <tr style=\"text-align: right;\">\n",
       "      <th></th>\n",
       "      <th>index</th>\n",
       "      <th>City</th>\n",
       "      <th>Teams</th>\n",
       "      <th>Division</th>\n",
       "      <th>League</th>\n",
       "    </tr>\n",
       "  </thead>\n",
       "  <tbody>\n",
       "    <tr>\n",
       "      <th>0</th>\n",
       "      <td>0.0</td>\n",
       "      <td>St. Louis</td>\n",
       "      <td>Cardinals</td>\n",
       "      <td>Central</td>\n",
       "      <td>NL</td>\n",
       "    </tr>\n",
       "    <tr>\n",
       "      <th>1</th>\n",
       "      <td>7.5</td>\n",
       "      <td>Milwaukee</td>\n",
       "      <td>Brewers</td>\n",
       "      <td>Central</td>\n",
       "      <td>NL</td>\n",
       "    </tr>\n",
       "    <tr>\n",
       "      <th>2</th>\n",
       "      <td>22.5</td>\n",
       "      <td>Chicago</td>\n",
       "      <td>Cubs</td>\n",
       "      <td>Central</td>\n",
       "      <td>NL</td>\n",
       "    </tr>\n",
       "    <tr>\n",
       "      <th>3</th>\n",
       "      <td>27.5</td>\n",
       "      <td>Cincinnati</td>\n",
       "      <td>Reds</td>\n",
       "      <td>Central</td>\n",
       "      <td>NL</td>\n",
       "    </tr>\n",
       "    <tr>\n",
       "      <th>4</th>\n",
       "      <td>31.5</td>\n",
       "      <td>Pittsburgh</td>\n",
       "      <td>Pirates</td>\n",
       "      <td>Central</td>\n",
       "      <td>NL</td>\n",
       "    </tr>\n",
       "  </tbody>\n",
       "</table>\n",
       "</div>"
      ],
      "text/plain": [
       "   index        City      Teams Division League\n",
       "0    0.0   St. Louis  Cardinals  Central     NL\n",
       "1    7.5   Milwaukee    Brewers  Central     NL\n",
       "2   22.5     Chicago       Cubs  Central     NL\n",
       "3   27.5  Cincinnati       Reds  Central     NL\n",
       "4   31.5  Pittsburgh    Pirates  Central     NL"
      ]
     },
     "execution_count": 32,
     "metadata": {},
     "output_type": "execute_result"
    }
   ],
   "source": [
    "baseball_df.reset_index()"
   ]
  },
  {
   "cell_type": "markdown",
   "id": "f66c424d-037d-48af-bfdb-889d7c69eb4e",
   "metadata": {},
   "source": [
    "We can RENAME a column using the `.rename()` method!!!\n",
    "\n",
    "To rename the columns in Pandas DataFrames, we need to use a Dictionary within the `columns` argument of the `.rename()` method!!!\n",
    "\n",
    "The KEY is the original column name and the VALUE is the NEW or desired column name!"
   ]
  },
  {
   "cell_type": "code",
   "execution_count": 33,
   "id": "1253b667-1f7c-4ee0-b3fa-3cd29f6ee63c",
   "metadata": {},
   "outputs": [
    {
     "data": {
      "text/html": [
       "<div>\n",
       "<style scoped>\n",
       "    .dataframe tbody tr th:only-of-type {\n",
       "        vertical-align: middle;\n",
       "    }\n",
       "\n",
       "    .dataframe tbody tr th {\n",
       "        vertical-align: top;\n",
       "    }\n",
       "\n",
       "    .dataframe thead th {\n",
       "        text-align: right;\n",
       "    }\n",
       "</style>\n",
       "<table border=\"1\" class=\"dataframe\">\n",
       "  <thead>\n",
       "    <tr style=\"text-align: right;\">\n",
       "      <th></th>\n",
       "      <th>games_back</th>\n",
       "      <th>City</th>\n",
       "      <th>Teams</th>\n",
       "      <th>Division</th>\n",
       "      <th>League</th>\n",
       "    </tr>\n",
       "  </thead>\n",
       "  <tbody>\n",
       "    <tr>\n",
       "      <th>0</th>\n",
       "      <td>0.0</td>\n",
       "      <td>St. Louis</td>\n",
       "      <td>Cardinals</td>\n",
       "      <td>Central</td>\n",
       "      <td>NL</td>\n",
       "    </tr>\n",
       "    <tr>\n",
       "      <th>1</th>\n",
       "      <td>7.5</td>\n",
       "      <td>Milwaukee</td>\n",
       "      <td>Brewers</td>\n",
       "      <td>Central</td>\n",
       "      <td>NL</td>\n",
       "    </tr>\n",
       "    <tr>\n",
       "      <th>2</th>\n",
       "      <td>22.5</td>\n",
       "      <td>Chicago</td>\n",
       "      <td>Cubs</td>\n",
       "      <td>Central</td>\n",
       "      <td>NL</td>\n",
       "    </tr>\n",
       "    <tr>\n",
       "      <th>3</th>\n",
       "      <td>27.5</td>\n",
       "      <td>Cincinnati</td>\n",
       "      <td>Reds</td>\n",
       "      <td>Central</td>\n",
       "      <td>NL</td>\n",
       "    </tr>\n",
       "    <tr>\n",
       "      <th>4</th>\n",
       "      <td>31.5</td>\n",
       "      <td>Pittsburgh</td>\n",
       "      <td>Pirates</td>\n",
       "      <td>Central</td>\n",
       "      <td>NL</td>\n",
       "    </tr>\n",
       "  </tbody>\n",
       "</table>\n",
       "</div>"
      ],
      "text/plain": [
       "   games_back        City      Teams Division League\n",
       "0         0.0   St. Louis  Cardinals  Central     NL\n",
       "1         7.5   Milwaukee    Brewers  Central     NL\n",
       "2        22.5     Chicago       Cubs  Central     NL\n",
       "3        27.5  Cincinnati       Reds  Central     NL\n",
       "4        31.5  Pittsburgh    Pirates  Central     NL"
      ]
     },
     "execution_count": 33,
     "metadata": {},
     "output_type": "execute_result"
    }
   ],
   "source": [
    "baseball_df.reset_index().rename(columns={'index': 'games_back'})"
   ]
  },
  {
   "cell_type": "code",
   "execution_count": 34,
   "id": "99f05a32-00b7-455a-8680-dcf4eb9e4bc7",
   "metadata": {},
   "outputs": [
    {
     "data": {
      "text/html": [
       "<div>\n",
       "<style scoped>\n",
       "    .dataframe tbody tr th:only-of-type {\n",
       "        vertical-align: middle;\n",
       "    }\n",
       "\n",
       "    .dataframe tbody tr th {\n",
       "        vertical-align: top;\n",
       "    }\n",
       "\n",
       "    .dataframe thead th {\n",
       "        text-align: right;\n",
       "    }\n",
       "</style>\n",
       "<table border=\"1\" class=\"dataframe\">\n",
       "  <thead>\n",
       "    <tr style=\"text-align: right;\">\n",
       "      <th></th>\n",
       "      <th>City</th>\n",
       "      <th>Teams</th>\n",
       "      <th>Division</th>\n",
       "      <th>League</th>\n",
       "    </tr>\n",
       "  </thead>\n",
       "  <tbody>\n",
       "    <tr>\n",
       "      <th>0.0</th>\n",
       "      <td>St. Louis</td>\n",
       "      <td>Cardinals</td>\n",
       "      <td>Central</td>\n",
       "      <td>NL</td>\n",
       "    </tr>\n",
       "    <tr>\n",
       "      <th>7.5</th>\n",
       "      <td>Milwaukee</td>\n",
       "      <td>Brewers</td>\n",
       "      <td>Central</td>\n",
       "      <td>NL</td>\n",
       "    </tr>\n",
       "    <tr>\n",
       "      <th>22.5</th>\n",
       "      <td>Chicago</td>\n",
       "      <td>Cubs</td>\n",
       "      <td>Central</td>\n",
       "      <td>NL</td>\n",
       "    </tr>\n",
       "    <tr>\n",
       "      <th>27.5</th>\n",
       "      <td>Cincinnati</td>\n",
       "      <td>Reds</td>\n",
       "      <td>Central</td>\n",
       "      <td>NL</td>\n",
       "    </tr>\n",
       "    <tr>\n",
       "      <th>31.5</th>\n",
       "      <td>Pittsburgh</td>\n",
       "      <td>Pirates</td>\n",
       "      <td>Central</td>\n",
       "      <td>NL</td>\n",
       "    </tr>\n",
       "  </tbody>\n",
       "</table>\n",
       "</div>"
      ],
      "text/plain": [
       "            City      Teams Division League\n",
       "0.0    St. Louis  Cardinals  Central     NL\n",
       "7.5    Milwaukee    Brewers  Central     NL\n",
       "22.5     Chicago       Cubs  Central     NL\n",
       "27.5  Cincinnati       Reds  Central     NL\n",
       "31.5  Pittsburgh    Pirates  Central     NL"
      ]
     },
     "execution_count": 34,
     "metadata": {},
     "output_type": "execute_result"
    }
   ],
   "source": [
    "baseball_df"
   ]
  },
  {
   "cell_type": "markdown",
   "id": "11058445-de03-455c-ad7c-170d69661760",
   "metadata": {},
   "source": [
    "Sometimes we want to place each step in a PIPELINE or WORKFLOW of actions on a separate line.\n",
    "\n",
    "This makes the code easier to read especially when there are MANY, MANY, actions in the workflow."
   ]
  },
  {
   "cell_type": "code",
   "execution_count": 35,
   "id": "96f3faa0-7eb7-47fb-b2a9-3c1da0a3f9c8",
   "metadata": {},
   "outputs": [],
   "source": [
    "baseball_df_b = baseball_df.\\\n",
    "reset_index().\\\n",
    "rename(columns={'index': 'games_back'}).\\\n",
    "copy()"
   ]
  },
  {
   "cell_type": "code",
   "execution_count": 36,
   "id": "3ddf8e28-912f-4e1e-8064-5bd90a5a7c17",
   "metadata": {},
   "outputs": [
    {
     "data": {
      "text/html": [
       "<div>\n",
       "<style scoped>\n",
       "    .dataframe tbody tr th:only-of-type {\n",
       "        vertical-align: middle;\n",
       "    }\n",
       "\n",
       "    .dataframe tbody tr th {\n",
       "        vertical-align: top;\n",
       "    }\n",
       "\n",
       "    .dataframe thead th {\n",
       "        text-align: right;\n",
       "    }\n",
       "</style>\n",
       "<table border=\"1\" class=\"dataframe\">\n",
       "  <thead>\n",
       "    <tr style=\"text-align: right;\">\n",
       "      <th></th>\n",
       "      <th>games_back</th>\n",
       "      <th>City</th>\n",
       "      <th>Teams</th>\n",
       "      <th>Division</th>\n",
       "      <th>League</th>\n",
       "    </tr>\n",
       "  </thead>\n",
       "  <tbody>\n",
       "    <tr>\n",
       "      <th>0</th>\n",
       "      <td>0.0</td>\n",
       "      <td>St. Louis</td>\n",
       "      <td>Cardinals</td>\n",
       "      <td>Central</td>\n",
       "      <td>NL</td>\n",
       "    </tr>\n",
       "    <tr>\n",
       "      <th>1</th>\n",
       "      <td>7.5</td>\n",
       "      <td>Milwaukee</td>\n",
       "      <td>Brewers</td>\n",
       "      <td>Central</td>\n",
       "      <td>NL</td>\n",
       "    </tr>\n",
       "    <tr>\n",
       "      <th>2</th>\n",
       "      <td>22.5</td>\n",
       "      <td>Chicago</td>\n",
       "      <td>Cubs</td>\n",
       "      <td>Central</td>\n",
       "      <td>NL</td>\n",
       "    </tr>\n",
       "    <tr>\n",
       "      <th>3</th>\n",
       "      <td>27.5</td>\n",
       "      <td>Cincinnati</td>\n",
       "      <td>Reds</td>\n",
       "      <td>Central</td>\n",
       "      <td>NL</td>\n",
       "    </tr>\n",
       "    <tr>\n",
       "      <th>4</th>\n",
       "      <td>31.5</td>\n",
       "      <td>Pittsburgh</td>\n",
       "      <td>Pirates</td>\n",
       "      <td>Central</td>\n",
       "      <td>NL</td>\n",
       "    </tr>\n",
       "  </tbody>\n",
       "</table>\n",
       "</div>"
      ],
      "text/plain": [
       "   games_back        City      Teams Division League\n",
       "0         0.0   St. Louis  Cardinals  Central     NL\n",
       "1         7.5   Milwaukee    Brewers  Central     NL\n",
       "2        22.5     Chicago       Cubs  Central     NL\n",
       "3        27.5  Cincinnati       Reds  Central     NL\n",
       "4        31.5  Pittsburgh    Pirates  Central     NL"
      ]
     },
     "execution_count": 36,
     "metadata": {},
     "output_type": "execute_result"
    }
   ],
   "source": [
    "baseball_df_b"
   ]
  },
  {
   "cell_type": "markdown",
   "id": "cba5c8ee-4c79-4d4f-b22b-ec59e5474eb2",
   "metadata": {},
   "source": [
    "## INDEX upon creation\n",
    "\n",
    "The `.index` attribute can be defined when the DataFrame is created."
   ]
  },
  {
   "cell_type": "code",
   "execution_count": 39,
   "id": "1747ba82-c345-4bc1-ac80-cc09595bf153",
   "metadata": {},
   "outputs": [],
   "source": [
    "baseball_df_c = pd.DataFrame(data=baseball_dict,\n",
    "                             index = [31.5, 27.5, 22.5, 0, 7.5],\n",
    "                             columns = ['League', 'Division', 'City', 'Teams'])"
   ]
  },
  {
   "cell_type": "code",
   "execution_count": 40,
   "id": "5df8ead3-09d7-402f-b579-b05affaa3e8d",
   "metadata": {},
   "outputs": [
    {
     "data": {
      "text/html": [
       "<div>\n",
       "<style scoped>\n",
       "    .dataframe tbody tr th:only-of-type {\n",
       "        vertical-align: middle;\n",
       "    }\n",
       "\n",
       "    .dataframe tbody tr th {\n",
       "        vertical-align: top;\n",
       "    }\n",
       "\n",
       "    .dataframe thead th {\n",
       "        text-align: right;\n",
       "    }\n",
       "</style>\n",
       "<table border=\"1\" class=\"dataframe\">\n",
       "  <thead>\n",
       "    <tr style=\"text-align: right;\">\n",
       "      <th></th>\n",
       "      <th>League</th>\n",
       "      <th>Division</th>\n",
       "      <th>City</th>\n",
       "      <th>Teams</th>\n",
       "    </tr>\n",
       "  </thead>\n",
       "  <tbody>\n",
       "    <tr>\n",
       "      <th>31.5</th>\n",
       "      <td>NL</td>\n",
       "      <td>Central</td>\n",
       "      <td>Pittsburgh</td>\n",
       "      <td>Pirates</td>\n",
       "    </tr>\n",
       "    <tr>\n",
       "      <th>27.5</th>\n",
       "      <td>NL</td>\n",
       "      <td>Central</td>\n",
       "      <td>Cincinnati</td>\n",
       "      <td>Reds</td>\n",
       "    </tr>\n",
       "    <tr>\n",
       "      <th>22.5</th>\n",
       "      <td>NL</td>\n",
       "      <td>Central</td>\n",
       "      <td>Chicago</td>\n",
       "      <td>Cubs</td>\n",
       "    </tr>\n",
       "    <tr>\n",
       "      <th>0.0</th>\n",
       "      <td>NL</td>\n",
       "      <td>Central</td>\n",
       "      <td>St. Louis</td>\n",
       "      <td>Cardinals</td>\n",
       "    </tr>\n",
       "    <tr>\n",
       "      <th>7.5</th>\n",
       "      <td>NL</td>\n",
       "      <td>Central</td>\n",
       "      <td>Milwaukee</td>\n",
       "      <td>Brewers</td>\n",
       "    </tr>\n",
       "  </tbody>\n",
       "</table>\n",
       "</div>"
      ],
      "text/plain": [
       "     League Division        City      Teams\n",
       "31.5     NL  Central  Pittsburgh    Pirates\n",
       "27.5     NL  Central  Cincinnati       Reds\n",
       "22.5     NL  Central     Chicago       Cubs\n",
       "0.0      NL  Central   St. Louis  Cardinals\n",
       "7.5      NL  Central   Milwaukee    Brewers"
      ]
     },
     "execution_count": 40,
     "metadata": {},
     "output_type": "execute_result"
    }
   ],
   "source": [
    "baseball_df_c"
   ]
  },
  {
   "cell_type": "markdown",
   "id": "80bb6195-1665-4ba0-a94e-4bf3f1badecc",
   "metadata": {},
   "source": [
    "## Summary\n",
    "\n",
    "The `.loc[]` and `.iloc[]` attributes allow us to select rows based on the `.index` attribute!\n",
    "\n",
    "We can also reset the index using the `.reset_index()` method.\n",
    "\n",
    "We can change column names using the `.rename()` method."
   ]
  }
 ],
 "metadata": {
  "kernelspec": {
   "display_name": "Python 3 (ipykernel)",
   "language": "python",
   "name": "python3"
  },
  "language_info": {
   "codemirror_mode": {
    "name": "ipython",
    "version": 3
   },
   "file_extension": ".py",
   "mimetype": "text/x-python",
   "name": "python",
   "nbconvert_exporter": "python",
   "pygments_lexer": "ipython3",
   "version": "3.8.19"
  }
 },
 "nbformat": 4,
 "nbformat_minor": 5
}
