{
 "cells": [
  {
   "cell_type": "markdown",
   "id": "a167bfc9-e8f9-4fa2-9f17-2206bf81a4ae",
   "metadata": {},
   "source": [
    "## CMPINF 2100 Week 04\n",
    "### Columns and Rows in the Pandas Data Frame\n",
    "\n",
    "We have seen how to create the DataFrame. We have worked with the `.index` attribute. We now need to practice selecting columns and rows within the DataFrame.\n",
    "\n",
    "## Import Modules"
   ]
  },
  {
   "cell_type": "code",
   "execution_count": 1,
   "id": "d528ef64-97c2-42cd-a3ce-a33d32bc2aa0",
   "metadata": {},
   "outputs": [],
   "source": [
    "import numpy as np\n",
    "import pandas as pd"
   ]
  },
  {
   "cell_type": "markdown",
   "id": "5c875653-4c7d-41b5-9eea-52a7e145b97c",
   "metadata": {},
   "source": [
    "## Create example DataFrame\n",
    "\n",
    "We will make the Dictionary about baseball and then convert that Dict to a DataFrame"
   ]
  },
  {
   "cell_type": "code",
   "execution_count": 2,
   "id": "5cd6c750-2ff0-433e-8ea7-0a37a10f58ea",
   "metadata": {},
   "outputs": [],
   "source": [
    "baseball_dict = {\"City\": [\"Pittsburgh\", \"Cincinatti\", \"Chicago\", \"St. Louis\", \"Milwaukee\"],\n",
    "                 \"Team\": [\"Pirates\", \"Reds\", \"Cubs\", \"Cardinals\", \"Brewers\"],\n",
    "                 \"Division\": 5*[\"Central\"],\n",
    "                 \"League\": 5*[\"NL\"]}"
   ]
  },
  {
   "cell_type": "code",
   "execution_count": 3,
   "id": "3d8598a9-8657-46a0-8ad6-83470bc7ca28",
   "metadata": {},
   "outputs": [
    {
     "data": {
      "text/plain": [
       "{'City': ['Pittsburgh', 'Cincinatti', 'Chicago', 'St. Louis', 'Milwaukee'],\n",
       " 'Team': ['Pirates', 'Reds', 'Cubs', 'Cardinals', 'Brewers'],\n",
       " 'Division': ['Central', 'Central', 'Central', 'Central', 'Central'],\n",
       " 'League': ['NL', 'NL', 'NL', 'NL', 'NL']}"
      ]
     },
     "execution_count": 3,
     "metadata": {},
     "output_type": "execute_result"
    }
   ],
   "source": [
    "baseball_dict"
   ]
  },
  {
   "cell_type": "code",
   "execution_count": 4,
   "id": "ec21e25d-d937-471a-ac21-a19600d63a8d",
   "metadata": {},
   "outputs": [],
   "source": [
    "baseball_df = pd.DataFrame(baseball_dict,\n",
    "                           columns = [\"League\", \"Division\", \"City\", \"Team\"])"
   ]
  },
  {
   "cell_type": "code",
   "execution_count": 5,
   "id": "158d944c-ab5f-4e66-82b1-8b9397a8b211",
   "metadata": {},
   "outputs": [
    {
     "data": {
      "text/html": [
       "<div>\n",
       "<style scoped>\n",
       "    .dataframe tbody tr th:only-of-type {\n",
       "        vertical-align: middle;\n",
       "    }\n",
       "\n",
       "    .dataframe tbody tr th {\n",
       "        vertical-align: top;\n",
       "    }\n",
       "\n",
       "    .dataframe thead th {\n",
       "        text-align: right;\n",
       "    }\n",
       "</style>\n",
       "<table border=\"1\" class=\"dataframe\">\n",
       "  <thead>\n",
       "    <tr style=\"text-align: right;\">\n",
       "      <th></th>\n",
       "      <th>League</th>\n",
       "      <th>Division</th>\n",
       "      <th>City</th>\n",
       "      <th>Team</th>\n",
       "    </tr>\n",
       "  </thead>\n",
       "  <tbody>\n",
       "    <tr>\n",
       "      <th>0</th>\n",
       "      <td>NL</td>\n",
       "      <td>Central</td>\n",
       "      <td>Pittsburgh</td>\n",
       "      <td>Pirates</td>\n",
       "    </tr>\n",
       "    <tr>\n",
       "      <th>1</th>\n",
       "      <td>NL</td>\n",
       "      <td>Central</td>\n",
       "      <td>Cincinatti</td>\n",
       "      <td>Reds</td>\n",
       "    </tr>\n",
       "    <tr>\n",
       "      <th>2</th>\n",
       "      <td>NL</td>\n",
       "      <td>Central</td>\n",
       "      <td>Chicago</td>\n",
       "      <td>Cubs</td>\n",
       "    </tr>\n",
       "    <tr>\n",
       "      <th>3</th>\n",
       "      <td>NL</td>\n",
       "      <td>Central</td>\n",
       "      <td>St. Louis</td>\n",
       "      <td>Cardinals</td>\n",
       "    </tr>\n",
       "    <tr>\n",
       "      <th>4</th>\n",
       "      <td>NL</td>\n",
       "      <td>Central</td>\n",
       "      <td>Milwaukee</td>\n",
       "      <td>Brewers</td>\n",
       "    </tr>\n",
       "  </tbody>\n",
       "</table>\n",
       "</div>"
      ],
      "text/plain": [
       "  League Division        City       Team\n",
       "0     NL  Central  Pittsburgh    Pirates\n",
       "1     NL  Central  Cincinatti       Reds\n",
       "2     NL  Central     Chicago       Cubs\n",
       "3     NL  Central   St. Louis  Cardinals\n",
       "4     NL  Central   Milwaukee    Brewers"
      ]
     },
     "execution_count": 5,
     "metadata": {},
     "output_type": "execute_result"
    }
   ],
   "source": [
    "baseball_df"
   ]
  },
  {
   "cell_type": "code",
   "execution_count": 6,
   "id": "0507b3f1-cad9-4ba4-a55a-da8c05f372eb",
   "metadata": {},
   "outputs": [
    {
     "name": "stdout",
     "output_type": "stream",
     "text": [
      "<class 'pandas.core.frame.DataFrame'>\n",
      "RangeIndex: 5 entries, 0 to 4\n",
      "Data columns (total 4 columns):\n",
      " #   Column    Non-Null Count  Dtype \n",
      "---  ------    --------------  ----- \n",
      " 0   League    5 non-null      object\n",
      " 1   Division  5 non-null      object\n",
      " 2   City      5 non-null      object\n",
      " 3   Team      5 non-null      object\n",
      "dtypes: object(4)\n",
      "memory usage: 288.0+ bytes\n"
     ]
    }
   ],
   "source": [
    "baseball_df.info()"
   ]
  },
  {
   "cell_type": "markdown",
   "id": "2771a506-d181-4b30-8a6b-52a7e76b91fc",
   "metadata": {},
   "source": [
    "## Columns\n",
    "### Selecting columns"
   ]
  },
  {
   "cell_type": "code",
   "execution_count": 7,
   "id": "b9343aee-ec84-4215-a1f6-c5106cd0a42c",
   "metadata": {},
   "outputs": [
    {
     "data": {
      "text/plain": [
       "0      Pirates\n",
       "1         Reds\n",
       "2         Cubs\n",
       "3    Cardinals\n",
       "4      Brewers\n",
       "Name: Team, dtype: object"
      ]
     },
     "execution_count": 7,
     "metadata": {},
     "output_type": "execute_result"
    }
   ],
   "source": [
    "baseball_df[\"Team\"]"
   ]
  },
  {
   "cell_type": "code",
   "execution_count": 8,
   "id": "dce02c98-dfa7-4d4b-94b6-5784a56c0c83",
   "metadata": {},
   "outputs": [
    {
     "data": {
      "text/plain": [
       "0    Central\n",
       "1    Central\n",
       "2    Central\n",
       "3    Central\n",
       "4    Central\n",
       "Name: Division, dtype: object"
      ]
     },
     "execution_count": 8,
     "metadata": {},
     "output_type": "execute_result"
    }
   ],
   "source": [
    "baseball_df[\"Division\"]"
   ]
  },
  {
   "cell_type": "code",
   "execution_count": 9,
   "id": "e0f91f0d-2916-4575-91c8-a184ba1c3797",
   "metadata": {},
   "outputs": [
    {
     "data": {
      "text/plain": [
       "pandas.core.series.Series"
      ]
     },
     "execution_count": 9,
     "metadata": {},
     "output_type": "execute_result"
    }
   ],
   "source": [
    "type(baseball_df[\"Team\"])"
   ]
  },
  {
   "cell_type": "code",
   "execution_count": 10,
   "id": "a1f64d3c-1c96-4ec3-adea-8065cd021d35",
   "metadata": {},
   "outputs": [
    {
     "data": {
      "text/plain": [
       "RangeIndex(start=0, stop=5, step=1)"
      ]
     },
     "execution_count": 10,
     "metadata": {},
     "output_type": "execute_result"
    }
   ],
   "source": [
    "baseball_df[\"Team\"].index"
   ]
  },
  {
   "cell_type": "code",
   "execution_count": 11,
   "id": "16cb456e-ca41-48d3-a686-34a13d0cda28",
   "metadata": {},
   "outputs": [
    {
     "data": {
      "text/plain": [
       "RangeIndex(start=0, stop=5, step=1)"
      ]
     },
     "execution_count": 11,
     "metadata": {},
     "output_type": "execute_result"
    }
   ],
   "source": [
    "baseball_df[\"Division\"].index"
   ]
  },
  {
   "cell_type": "markdown",
   "id": "586d4dc7-1b56-4efe-9572-94e9b3681d07",
   "metadata": {},
   "source": [
    "There is another way to access or select a single COlumn and return it as a series.\n",
    "\n",
    "The previous way is the BRACKET notation.\n",
    "\n",
    "But this other way is known as the DOT NOTATION."
   ]
  },
  {
   "cell_type": "code",
   "execution_count": 12,
   "id": "13142932-f8ec-4948-8e16-dbbed1b9320a",
   "metadata": {},
   "outputs": [
    {
     "data": {
      "text/plain": [
       "0    Central\n",
       "1    Central\n",
       "2    Central\n",
       "3    Central\n",
       "4    Central\n",
       "Name: Division, dtype: object"
      ]
     },
     "execution_count": 12,
     "metadata": {},
     "output_type": "execute_result"
    }
   ],
   "source": [
    "baseball_df.Division"
   ]
  },
  {
   "cell_type": "code",
   "execution_count": 13,
   "id": "1597b8f9-b0c5-4ac7-a55d-0991dc16ab74",
   "metadata": {},
   "outputs": [
    {
     "data": {
      "text/plain": [
       "0      Pirates\n",
       "1         Reds\n",
       "2         Cubs\n",
       "3    Cardinals\n",
       "4      Brewers\n",
       "Name: Team, dtype: object"
      ]
     },
     "execution_count": 13,
     "metadata": {},
     "output_type": "execute_result"
    }
   ],
   "source": [
    "baseball_df.Team"
   ]
  },
  {
   "cell_type": "code",
   "execution_count": 14,
   "id": "b0e695b6-65ab-4b12-a520-1c5fd3a11c06",
   "metadata": {},
   "outputs": [
    {
     "data": {
      "text/plain": [
       "0    NL\n",
       "1    NL\n",
       "2    NL\n",
       "3    NL\n",
       "4    NL\n",
       "Name: League, dtype: object"
      ]
     },
     "execution_count": 14,
     "metadata": {},
     "output_type": "execute_result"
    }
   ],
   "source": [
    "baseball_df.League"
   ]
  },
  {
   "cell_type": "markdown",
   "id": "4f37bc18-9749-41a2-83cc-e6804ee2dc60",
   "metadata": {},
   "source": [
    "Still another approach is to use the FORMAL `.loc[]` attribute for selecting the COLUMN."
   ]
  },
  {
   "cell_type": "code",
   "execution_count": 16,
   "id": "68655635-17f9-4c03-8544-4bb7404464bb",
   "metadata": {},
   "outputs": [
    {
     "data": {
      "text/plain": [
       "0      Pirates\n",
       "1         Reds\n",
       "2         Cubs\n",
       "3    Cardinals\n",
       "4      Brewers\n",
       "Name: Team, dtype: object"
      ]
     },
     "execution_count": 16,
     "metadata": {},
     "output_type": "execute_result"
    }
   ],
   "source": [
    "baseball_df.loc[:, \"Team\"]"
   ]
  },
  {
   "cell_type": "code",
   "execution_count": 17,
   "id": "344ba108-f02c-48b7-abbe-148a1e8126b5",
   "metadata": {},
   "outputs": [
    {
     "data": {
      "text/plain": [
       "0    Central\n",
       "1    Central\n",
       "2    Central\n",
       "3    Central\n",
       "4    Central\n",
       "Name: Division, dtype: object"
      ]
     },
     "execution_count": 17,
     "metadata": {},
     "output_type": "execute_result"
    }
   ],
   "source": [
    "baseball_df.loc[:, \"Division\"]"
   ]
  },
  {
   "cell_type": "code",
   "execution_count": 18,
   "id": "82268e28-fec4-45f4-b057-d2f63c1495c3",
   "metadata": {},
   "outputs": [
    {
     "data": {
      "text/plain": [
       "0    Central\n",
       "1    Central\n",
       "2    Central\n",
       "3    Central\n",
       "4    Central\n",
       "Name: Division, dtype: object"
      ]
     },
     "execution_count": 18,
     "metadata": {},
     "output_type": "execute_result"
    }
   ],
   "source": [
    "baseball_df.iloc[:, 1]"
   ]
  },
  {
   "cell_type": "code",
   "execution_count": 19,
   "id": "56114072-5f73-484f-8cfc-d51ef86e9fc3",
   "metadata": {},
   "outputs": [
    {
     "data": {
      "text/html": [
       "<div>\n",
       "<style scoped>\n",
       "    .dataframe tbody tr th:only-of-type {\n",
       "        vertical-align: middle;\n",
       "    }\n",
       "\n",
       "    .dataframe tbody tr th {\n",
       "        vertical-align: top;\n",
       "    }\n",
       "\n",
       "    .dataframe thead th {\n",
       "        text-align: right;\n",
       "    }\n",
       "</style>\n",
       "<table border=\"1\" class=\"dataframe\">\n",
       "  <thead>\n",
       "    <tr style=\"text-align: right;\">\n",
       "      <th></th>\n",
       "      <th>Team</th>\n",
       "    </tr>\n",
       "  </thead>\n",
       "  <tbody>\n",
       "    <tr>\n",
       "      <th>0</th>\n",
       "      <td>Pirates</td>\n",
       "    </tr>\n",
       "    <tr>\n",
       "      <th>1</th>\n",
       "      <td>Reds</td>\n",
       "    </tr>\n",
       "    <tr>\n",
       "      <th>2</th>\n",
       "      <td>Cubs</td>\n",
       "    </tr>\n",
       "    <tr>\n",
       "      <th>3</th>\n",
       "      <td>Cardinals</td>\n",
       "    </tr>\n",
       "    <tr>\n",
       "      <th>4</th>\n",
       "      <td>Brewers</td>\n",
       "    </tr>\n",
       "  </tbody>\n",
       "</table>\n",
       "</div>"
      ],
      "text/plain": [
       "        Team\n",
       "0    Pirates\n",
       "1       Reds\n",
       "2       Cubs\n",
       "3  Cardinals\n",
       "4    Brewers"
      ]
     },
     "execution_count": 19,
     "metadata": {},
     "output_type": "execute_result"
    }
   ],
   "source": [
    "baseball_df.loc[:, [\"Team\"]]"
   ]
  },
  {
   "cell_type": "code",
   "execution_count": 20,
   "id": "7171305f-c8e5-41cf-a92a-4a3325778497",
   "metadata": {},
   "outputs": [
    {
     "data": {
      "text/plain": [
       "pandas.core.frame.DataFrame"
      ]
     },
     "execution_count": 20,
     "metadata": {},
     "output_type": "execute_result"
    }
   ],
   "source": [
    "type(baseball_df.loc[:, [\"Team\"]])"
   ]
  },
  {
   "cell_type": "markdown",
   "id": "1b41b287-11d5-4045-acc3-6b43053dc190",
   "metadata": {},
   "source": [
    "The reason for the difference in returned data type, is because we MUST use a LIST to select MULTIPLE COLUMNS!!!"
   ]
  },
  {
   "cell_type": "code",
   "execution_count": 21,
   "id": "c49d7ced-bfb1-4710-852a-37dc106d6799",
   "metadata": {},
   "outputs": [
    {
     "data": {
      "text/html": [
       "<div>\n",
       "<style scoped>\n",
       "    .dataframe tbody tr th:only-of-type {\n",
       "        vertical-align: middle;\n",
       "    }\n",
       "\n",
       "    .dataframe tbody tr th {\n",
       "        vertical-align: top;\n",
       "    }\n",
       "\n",
       "    .dataframe thead th {\n",
       "        text-align: right;\n",
       "    }\n",
       "</style>\n",
       "<table border=\"1\" class=\"dataframe\">\n",
       "  <thead>\n",
       "    <tr style=\"text-align: right;\">\n",
       "      <th></th>\n",
       "      <th>City</th>\n",
       "      <th>Team</th>\n",
       "    </tr>\n",
       "  </thead>\n",
       "  <tbody>\n",
       "    <tr>\n",
       "      <th>0</th>\n",
       "      <td>Pittsburgh</td>\n",
       "      <td>Pirates</td>\n",
       "    </tr>\n",
       "    <tr>\n",
       "      <th>1</th>\n",
       "      <td>Cincinatti</td>\n",
       "      <td>Reds</td>\n",
       "    </tr>\n",
       "    <tr>\n",
       "      <th>2</th>\n",
       "      <td>Chicago</td>\n",
       "      <td>Cubs</td>\n",
       "    </tr>\n",
       "    <tr>\n",
       "      <th>3</th>\n",
       "      <td>St. Louis</td>\n",
       "      <td>Cardinals</td>\n",
       "    </tr>\n",
       "    <tr>\n",
       "      <th>4</th>\n",
       "      <td>Milwaukee</td>\n",
       "      <td>Brewers</td>\n",
       "    </tr>\n",
       "  </tbody>\n",
       "</table>\n",
       "</div>"
      ],
      "text/plain": [
       "         City       Team\n",
       "0  Pittsburgh    Pirates\n",
       "1  Cincinatti       Reds\n",
       "2     Chicago       Cubs\n",
       "3   St. Louis  Cardinals\n",
       "4   Milwaukee    Brewers"
      ]
     },
     "execution_count": 21,
     "metadata": {},
     "output_type": "execute_result"
    }
   ],
   "source": [
    "baseball_df.loc[:, [\"City\", \"Team\"]]"
   ]
  },
  {
   "cell_type": "code",
   "execution_count": 22,
   "id": "59e1612c-6752-4f74-8be3-2222eb64c5c3",
   "metadata": {},
   "outputs": [
    {
     "data": {
      "text/html": [
       "<div>\n",
       "<style scoped>\n",
       "    .dataframe tbody tr th:only-of-type {\n",
       "        vertical-align: middle;\n",
       "    }\n",
       "\n",
       "    .dataframe tbody tr th {\n",
       "        vertical-align: top;\n",
       "    }\n",
       "\n",
       "    .dataframe thead th {\n",
       "        text-align: right;\n",
       "    }\n",
       "</style>\n",
       "<table border=\"1\" class=\"dataframe\">\n",
       "  <thead>\n",
       "    <tr style=\"text-align: right;\">\n",
       "      <th></th>\n",
       "      <th>Team</th>\n",
       "      <th>City</th>\n",
       "    </tr>\n",
       "  </thead>\n",
       "  <tbody>\n",
       "    <tr>\n",
       "      <th>0</th>\n",
       "      <td>Pirates</td>\n",
       "      <td>Pittsburgh</td>\n",
       "    </tr>\n",
       "    <tr>\n",
       "      <th>1</th>\n",
       "      <td>Reds</td>\n",
       "      <td>Cincinatti</td>\n",
       "    </tr>\n",
       "    <tr>\n",
       "      <th>2</th>\n",
       "      <td>Cubs</td>\n",
       "      <td>Chicago</td>\n",
       "    </tr>\n",
       "    <tr>\n",
       "      <th>3</th>\n",
       "      <td>Cardinals</td>\n",
       "      <td>St. Louis</td>\n",
       "    </tr>\n",
       "    <tr>\n",
       "      <th>4</th>\n",
       "      <td>Brewers</td>\n",
       "      <td>Milwaukee</td>\n",
       "    </tr>\n",
       "  </tbody>\n",
       "</table>\n",
       "</div>"
      ],
      "text/plain": [
       "        Team        City\n",
       "0    Pirates  Pittsburgh\n",
       "1       Reds  Cincinatti\n",
       "2       Cubs     Chicago\n",
       "3  Cardinals   St. Louis\n",
       "4    Brewers   Milwaukee"
      ]
     },
     "execution_count": 22,
     "metadata": {},
     "output_type": "execute_result"
    }
   ],
   "source": [
    "baseball_df.loc[:, [\"Team\", \"City\"]]"
   ]
  },
  {
   "cell_type": "code",
   "execution_count": 23,
   "id": "43ec7cd9-d389-4fad-8b60-378923ca5391",
   "metadata": {},
   "outputs": [
    {
     "data": {
      "text/html": [
       "<div>\n",
       "<style scoped>\n",
       "    .dataframe tbody tr th:only-of-type {\n",
       "        vertical-align: middle;\n",
       "    }\n",
       "\n",
       "    .dataframe tbody tr th {\n",
       "        vertical-align: top;\n",
       "    }\n",
       "\n",
       "    .dataframe thead th {\n",
       "        text-align: right;\n",
       "    }\n",
       "</style>\n",
       "<table border=\"1\" class=\"dataframe\">\n",
       "  <thead>\n",
       "    <tr style=\"text-align: right;\">\n",
       "      <th></th>\n",
       "      <th>Division</th>\n",
       "      <th>City</th>\n",
       "      <th>Team</th>\n",
       "    </tr>\n",
       "  </thead>\n",
       "  <tbody>\n",
       "    <tr>\n",
       "      <th>0</th>\n",
       "      <td>Central</td>\n",
       "      <td>Pittsburgh</td>\n",
       "      <td>Pirates</td>\n",
       "    </tr>\n",
       "    <tr>\n",
       "      <th>1</th>\n",
       "      <td>Central</td>\n",
       "      <td>Cincinatti</td>\n",
       "      <td>Reds</td>\n",
       "    </tr>\n",
       "    <tr>\n",
       "      <th>2</th>\n",
       "      <td>Central</td>\n",
       "      <td>Chicago</td>\n",
       "      <td>Cubs</td>\n",
       "    </tr>\n",
       "    <tr>\n",
       "      <th>3</th>\n",
       "      <td>Central</td>\n",
       "      <td>St. Louis</td>\n",
       "      <td>Cardinals</td>\n",
       "    </tr>\n",
       "    <tr>\n",
       "      <th>4</th>\n",
       "      <td>Central</td>\n",
       "      <td>Milwaukee</td>\n",
       "      <td>Brewers</td>\n",
       "    </tr>\n",
       "  </tbody>\n",
       "</table>\n",
       "</div>"
      ],
      "text/plain": [
       "  Division        City       Team\n",
       "0  Central  Pittsburgh    Pirates\n",
       "1  Central  Cincinatti       Reds\n",
       "2  Central     Chicago       Cubs\n",
       "3  Central   St. Louis  Cardinals\n",
       "4  Central   Milwaukee    Brewers"
      ]
     },
     "execution_count": 23,
     "metadata": {},
     "output_type": "execute_result"
    }
   ],
   "source": [
    "baseball_df.loc[:, baseball_df.columns[1:]]"
   ]
  },
  {
   "cell_type": "markdown",
   "id": "00543aad-c3c4-44f0-b9b5-9a5615453d8f",
   "metadata": {},
   "source": [
    "We need the base python list to select multiple columns from the DataFrame!\n",
    "\n",
    "## Adding and Deleting Columns\n",
    "\n",
    "Adding columns is similar to how we added new KEY/VALUE pairs to Dictionaries.\n",
    "\n",
    "The VALUE will be assigned to a KEY. The KEY is the NEW columns Name!!!\n",
    "\n",
    "Let's start with the VALUE that will be added."
   ]
  },
  {
   "cell_type": "code",
   "execution_count": 28,
   "id": "9c6ec508-fcfc-4f96-90fd-94fa68d577c4",
   "metadata": {},
   "outputs": [
    {
     "data": {
      "text/html": [
       "<div>\n",
       "<style scoped>\n",
       "    .dataframe tbody tr th:only-of-type {\n",
       "        vertical-align: middle;\n",
       "    }\n",
       "\n",
       "    .dataframe tbody tr th {\n",
       "        vertical-align: top;\n",
       "    }\n",
       "\n",
       "    .dataframe thead th {\n",
       "        text-align: right;\n",
       "    }\n",
       "</style>\n",
       "<table border=\"1\" class=\"dataframe\">\n",
       "  <thead>\n",
       "    <tr style=\"text-align: right;\">\n",
       "      <th></th>\n",
       "      <th>League</th>\n",
       "      <th>Division</th>\n",
       "      <th>City</th>\n",
       "      <th>Team</th>\n",
       "    </tr>\n",
       "  </thead>\n",
       "  <tbody>\n",
       "    <tr>\n",
       "      <th>0</th>\n",
       "      <td>NL</td>\n",
       "      <td>Central</td>\n",
       "      <td>Pittsburgh</td>\n",
       "      <td>Pirates</td>\n",
       "    </tr>\n",
       "    <tr>\n",
       "      <th>1</th>\n",
       "      <td>NL</td>\n",
       "      <td>Central</td>\n",
       "      <td>Cincinatti</td>\n",
       "      <td>Reds</td>\n",
       "    </tr>\n",
       "    <tr>\n",
       "      <th>2</th>\n",
       "      <td>NL</td>\n",
       "      <td>Central</td>\n",
       "      <td>Chicago</td>\n",
       "      <td>Cubs</td>\n",
       "    </tr>\n",
       "    <tr>\n",
       "      <th>3</th>\n",
       "      <td>NL</td>\n",
       "      <td>Central</td>\n",
       "      <td>St. Louis</td>\n",
       "      <td>Cardinals</td>\n",
       "    </tr>\n",
       "    <tr>\n",
       "      <th>4</th>\n",
       "      <td>NL</td>\n",
       "      <td>Central</td>\n",
       "      <td>Milwaukee</td>\n",
       "      <td>Brewers</td>\n",
       "    </tr>\n",
       "  </tbody>\n",
       "</table>\n",
       "</div>"
      ],
      "text/plain": [
       "  League Division        City       Team\n",
       "0     NL  Central  Pittsburgh    Pirates\n",
       "1     NL  Central  Cincinatti       Reds\n",
       "2     NL  Central     Chicago       Cubs\n",
       "3     NL  Central   St. Louis  Cardinals\n",
       "4     NL  Central   Milwaukee    Brewers"
      ]
     },
     "execution_count": 28,
     "metadata": {},
     "output_type": "execute_result"
    }
   ],
   "source": [
    "baseball_df"
   ]
  },
  {
   "cell_type": "code",
   "execution_count": 30,
   "id": "9449f918-ef71-41e2-ad8b-95dbb31cb169",
   "metadata": {},
   "outputs": [],
   "source": [
    "baseball_df['games_back'] = [31.5, 27.5, 22.5, 0, 7.5]"
   ]
  },
  {
   "cell_type": "code",
   "execution_count": 31,
   "id": "f20e927c-2cc1-402c-a359-40dc18655367",
   "metadata": {},
   "outputs": [
    {
     "name": "stdout",
     "output_type": "stream",
     "text": [
      "<class 'pandas.core.frame.DataFrame'>\n",
      "RangeIndex: 5 entries, 0 to 4\n",
      "Data columns (total 5 columns):\n",
      " #   Column      Non-Null Count  Dtype  \n",
      "---  ------      --------------  -----  \n",
      " 0   League      5 non-null      object \n",
      " 1   Division    5 non-null      object \n",
      " 2   City        5 non-null      object \n",
      " 3   Team        5 non-null      object \n",
      " 4   games_back  5 non-null      float64\n",
      "dtypes: float64(1), object(4)\n",
      "memory usage: 328.0+ bytes\n"
     ]
    }
   ],
   "source": [
    "baseball_df.info()"
   ]
  },
  {
   "cell_type": "code",
   "execution_count": 32,
   "id": "0c4aeba3-5657-4d69-8bec-5d42f54c62f3",
   "metadata": {},
   "outputs": [],
   "source": [
    "baseball_df.sort_values(['games_back'], inplace=True)"
   ]
  },
  {
   "cell_type": "code",
   "execution_count": 33,
   "id": "05dff5a8-1f39-4e0d-b6b3-9c4c4a5e90cf",
   "metadata": {},
   "outputs": [
    {
     "data": {
      "text/html": [
       "<div>\n",
       "<style scoped>\n",
       "    .dataframe tbody tr th:only-of-type {\n",
       "        vertical-align: middle;\n",
       "    }\n",
       "\n",
       "    .dataframe tbody tr th {\n",
       "        vertical-align: top;\n",
       "    }\n",
       "\n",
       "    .dataframe thead th {\n",
       "        text-align: right;\n",
       "    }\n",
       "</style>\n",
       "<table border=\"1\" class=\"dataframe\">\n",
       "  <thead>\n",
       "    <tr style=\"text-align: right;\">\n",
       "      <th></th>\n",
       "      <th>League</th>\n",
       "      <th>Division</th>\n",
       "      <th>City</th>\n",
       "      <th>Team</th>\n",
       "      <th>games_back</th>\n",
       "    </tr>\n",
       "  </thead>\n",
       "  <tbody>\n",
       "    <tr>\n",
       "      <th>3</th>\n",
       "      <td>NL</td>\n",
       "      <td>Central</td>\n",
       "      <td>St. Louis</td>\n",
       "      <td>Cardinals</td>\n",
       "      <td>0.0</td>\n",
       "    </tr>\n",
       "    <tr>\n",
       "      <th>4</th>\n",
       "      <td>NL</td>\n",
       "      <td>Central</td>\n",
       "      <td>Milwaukee</td>\n",
       "      <td>Brewers</td>\n",
       "      <td>7.5</td>\n",
       "    </tr>\n",
       "    <tr>\n",
       "      <th>2</th>\n",
       "      <td>NL</td>\n",
       "      <td>Central</td>\n",
       "      <td>Chicago</td>\n",
       "      <td>Cubs</td>\n",
       "      <td>22.5</td>\n",
       "    </tr>\n",
       "    <tr>\n",
       "      <th>1</th>\n",
       "      <td>NL</td>\n",
       "      <td>Central</td>\n",
       "      <td>Cincinatti</td>\n",
       "      <td>Reds</td>\n",
       "      <td>27.5</td>\n",
       "    </tr>\n",
       "    <tr>\n",
       "      <th>0</th>\n",
       "      <td>NL</td>\n",
       "      <td>Central</td>\n",
       "      <td>Pittsburgh</td>\n",
       "      <td>Pirates</td>\n",
       "      <td>31.5</td>\n",
       "    </tr>\n",
       "  </tbody>\n",
       "</table>\n",
       "</div>"
      ],
      "text/plain": [
       "  League Division        City       Team  games_back\n",
       "3     NL  Central   St. Louis  Cardinals         0.0\n",
       "4     NL  Central   Milwaukee    Brewers         7.5\n",
       "2     NL  Central     Chicago       Cubs        22.5\n",
       "1     NL  Central  Cincinatti       Reds        27.5\n",
       "0     NL  Central  Pittsburgh    Pirates        31.5"
      ]
     },
     "execution_count": 33,
     "metadata": {},
     "output_type": "execute_result"
    }
   ],
   "source": [
    "baseball_df"
   ]
  },
  {
   "cell_type": "markdown",
   "id": "41f62926-77c9-404b-9f88-b9795c8049e6",
   "metadata": {},
   "source": [
    "Let's add another column which contains the number of WINS per team.\n",
    "\n",
    "This new columns will be assigned a Pandas Series rather than a list."
   ]
  },
  {
   "cell_type": "code",
   "execution_count": 34,
   "id": "1735a0a9-feab-41fe-bc2a-2f99d3e42620",
   "metadata": {},
   "outputs": [],
   "source": [
    "baseball_df[\"wins\"] = pd.Series([87, 79, 64, 59, 55],\n",
    "                               index=baseball_df.index)"
   ]
  },
  {
   "cell_type": "code",
   "execution_count": 35,
   "id": "3a8ed485-e53b-4b57-acee-9185cc1495c6",
   "metadata": {},
   "outputs": [
    {
     "data": {
      "text/html": [
       "<div>\n",
       "<style scoped>\n",
       "    .dataframe tbody tr th:only-of-type {\n",
       "        vertical-align: middle;\n",
       "    }\n",
       "\n",
       "    .dataframe tbody tr th {\n",
       "        vertical-align: top;\n",
       "    }\n",
       "\n",
       "    .dataframe thead th {\n",
       "        text-align: right;\n",
       "    }\n",
       "</style>\n",
       "<table border=\"1\" class=\"dataframe\">\n",
       "  <thead>\n",
       "    <tr style=\"text-align: right;\">\n",
       "      <th></th>\n",
       "      <th>League</th>\n",
       "      <th>Division</th>\n",
       "      <th>City</th>\n",
       "      <th>Team</th>\n",
       "      <th>games_back</th>\n",
       "      <th>wins</th>\n",
       "    </tr>\n",
       "  </thead>\n",
       "  <tbody>\n",
       "    <tr>\n",
       "      <th>3</th>\n",
       "      <td>NL</td>\n",
       "      <td>Central</td>\n",
       "      <td>St. Louis</td>\n",
       "      <td>Cardinals</td>\n",
       "      <td>0.0</td>\n",
       "      <td>87</td>\n",
       "    </tr>\n",
       "    <tr>\n",
       "      <th>4</th>\n",
       "      <td>NL</td>\n",
       "      <td>Central</td>\n",
       "      <td>Milwaukee</td>\n",
       "      <td>Brewers</td>\n",
       "      <td>7.5</td>\n",
       "      <td>79</td>\n",
       "    </tr>\n",
       "    <tr>\n",
       "      <th>2</th>\n",
       "      <td>NL</td>\n",
       "      <td>Central</td>\n",
       "      <td>Chicago</td>\n",
       "      <td>Cubs</td>\n",
       "      <td>22.5</td>\n",
       "      <td>64</td>\n",
       "    </tr>\n",
       "    <tr>\n",
       "      <th>1</th>\n",
       "      <td>NL</td>\n",
       "      <td>Central</td>\n",
       "      <td>Cincinatti</td>\n",
       "      <td>Reds</td>\n",
       "      <td>27.5</td>\n",
       "      <td>59</td>\n",
       "    </tr>\n",
       "    <tr>\n",
       "      <th>0</th>\n",
       "      <td>NL</td>\n",
       "      <td>Central</td>\n",
       "      <td>Pittsburgh</td>\n",
       "      <td>Pirates</td>\n",
       "      <td>31.5</td>\n",
       "      <td>55</td>\n",
       "    </tr>\n",
       "  </tbody>\n",
       "</table>\n",
       "</div>"
      ],
      "text/plain": [
       "  League Division        City       Team  games_back  wins\n",
       "3     NL  Central   St. Louis  Cardinals         0.0    87\n",
       "4     NL  Central   Milwaukee    Brewers         7.5    79\n",
       "2     NL  Central     Chicago       Cubs        22.5    64\n",
       "1     NL  Central  Cincinatti       Reds        27.5    59\n",
       "0     NL  Central  Pittsburgh    Pirates        31.5    55"
      ]
     },
     "execution_count": 35,
     "metadata": {},
     "output_type": "execute_result"
    }
   ],
   "source": [
    "baseball_df"
   ]
  },
  {
   "cell_type": "markdown",
   "id": "fb39abb8-7945-4c72-99af-8ffcdc9aa1c1",
   "metadata": {},
   "source": [
    "Let's add the number of losses per team."
   ]
  },
  {
   "cell_type": "code",
   "execution_count": 37,
   "id": "b4e89a5e-90b7-421b-9bb4-a7b2cd2b3392",
   "metadata": {},
   "outputs": [],
   "source": [
    "baseball_df[\"losses\"] = pd.Series([63, 70, 85, 90, 94],\n",
    "                               index=baseball_df.index)"
   ]
  },
  {
   "cell_type": "code",
   "execution_count": 38,
   "id": "ddfdf1ba-d932-4fdd-a79a-4682c0ec37ab",
   "metadata": {},
   "outputs": [
    {
     "data": {
      "text/html": [
       "<div>\n",
       "<style scoped>\n",
       "    .dataframe tbody tr th:only-of-type {\n",
       "        vertical-align: middle;\n",
       "    }\n",
       "\n",
       "    .dataframe tbody tr th {\n",
       "        vertical-align: top;\n",
       "    }\n",
       "\n",
       "    .dataframe thead th {\n",
       "        text-align: right;\n",
       "    }\n",
       "</style>\n",
       "<table border=\"1\" class=\"dataframe\">\n",
       "  <thead>\n",
       "    <tr style=\"text-align: right;\">\n",
       "      <th></th>\n",
       "      <th>League</th>\n",
       "      <th>Division</th>\n",
       "      <th>City</th>\n",
       "      <th>Team</th>\n",
       "      <th>games_back</th>\n",
       "      <th>wins</th>\n",
       "      <th>losses</th>\n",
       "    </tr>\n",
       "  </thead>\n",
       "  <tbody>\n",
       "    <tr>\n",
       "      <th>3</th>\n",
       "      <td>NL</td>\n",
       "      <td>Central</td>\n",
       "      <td>St. Louis</td>\n",
       "      <td>Cardinals</td>\n",
       "      <td>0.0</td>\n",
       "      <td>87</td>\n",
       "      <td>63</td>\n",
       "    </tr>\n",
       "    <tr>\n",
       "      <th>4</th>\n",
       "      <td>NL</td>\n",
       "      <td>Central</td>\n",
       "      <td>Milwaukee</td>\n",
       "      <td>Brewers</td>\n",
       "      <td>7.5</td>\n",
       "      <td>79</td>\n",
       "      <td>70</td>\n",
       "    </tr>\n",
       "    <tr>\n",
       "      <th>2</th>\n",
       "      <td>NL</td>\n",
       "      <td>Central</td>\n",
       "      <td>Chicago</td>\n",
       "      <td>Cubs</td>\n",
       "      <td>22.5</td>\n",
       "      <td>64</td>\n",
       "      <td>85</td>\n",
       "    </tr>\n",
       "    <tr>\n",
       "      <th>1</th>\n",
       "      <td>NL</td>\n",
       "      <td>Central</td>\n",
       "      <td>Cincinatti</td>\n",
       "      <td>Reds</td>\n",
       "      <td>27.5</td>\n",
       "      <td>59</td>\n",
       "      <td>90</td>\n",
       "    </tr>\n",
       "    <tr>\n",
       "      <th>0</th>\n",
       "      <td>NL</td>\n",
       "      <td>Central</td>\n",
       "      <td>Pittsburgh</td>\n",
       "      <td>Pirates</td>\n",
       "      <td>31.5</td>\n",
       "      <td>55</td>\n",
       "      <td>94</td>\n",
       "    </tr>\n",
       "  </tbody>\n",
       "</table>\n",
       "</div>"
      ],
      "text/plain": [
       "  League Division        City       Team  games_back  wins  losses\n",
       "3     NL  Central   St. Louis  Cardinals         0.0    87      63\n",
       "4     NL  Central   Milwaukee    Brewers         7.5    79      70\n",
       "2     NL  Central     Chicago       Cubs        22.5    64      85\n",
       "1     NL  Central  Cincinatti       Reds        27.5    59      90\n",
       "0     NL  Central  Pittsburgh    Pirates        31.5    55      94"
      ]
     },
     "execution_count": 38,
     "metadata": {},
     "output_type": "execute_result"
    }
   ],
   "source": [
    "baseball_df"
   ]
  },
  {
   "cell_type": "markdown",
   "id": "23d79c51-7c00-4adc-9e9e-154b49139db8",
   "metadata": {},
   "source": [
    "But what if we want to add a SCALAR or CONSTANT value to the DataFrame?\n",
    "\n",
    "For example, I want a column named `season` to store the year the data came from.\n",
    "\n",
    "At first, we might need to do the following to add the column:"
   ]
  },
  {
   "cell_type": "code",
   "execution_count": 39,
   "id": "7847f92d-7aa5-420c-8d7f-65e042064661",
   "metadata": {},
   "outputs": [
    {
     "data": {
      "text/plain": [
       "3    2022\n",
       "4    2022\n",
       "2    2022\n",
       "1    2022\n",
       "0    2022\n",
       "dtype: int64"
      ]
     },
     "execution_count": 39,
     "metadata": {},
     "output_type": "execute_result"
    }
   ],
   "source": [
    "pd.Series([2022, 2022, 2022, 2022, 2022], index=baseball_df.index)"
   ]
  },
  {
   "cell_type": "code",
   "execution_count": 40,
   "id": "937f52f4-7034-4ab8-91b6-83f4f50498de",
   "metadata": {},
   "outputs": [
    {
     "data": {
      "text/plain": [
       "3    2022\n",
       "4    2022\n",
       "2    2022\n",
       "1    2022\n",
       "0    2022\n",
       "dtype: int64"
      ]
     },
     "execution_count": 40,
     "metadata": {},
     "output_type": "execute_result"
    }
   ],
   "source": [
    "pd.Series(5*[2022], index = baseball_df.index)"
   ]
  },
  {
   "cell_type": "code",
   "execution_count": 41,
   "id": "7031cc93-463f-44d8-842d-5a426a39ae9b",
   "metadata": {},
   "outputs": [],
   "source": [
    "baseball_df['season'] = 2022"
   ]
  },
  {
   "cell_type": "code",
   "execution_count": 42,
   "id": "f905ed66-b8bf-430d-a261-2424d29d51af",
   "metadata": {},
   "outputs": [
    {
     "data": {
      "text/html": [
       "<div>\n",
       "<style scoped>\n",
       "    .dataframe tbody tr th:only-of-type {\n",
       "        vertical-align: middle;\n",
       "    }\n",
       "\n",
       "    .dataframe tbody tr th {\n",
       "        vertical-align: top;\n",
       "    }\n",
       "\n",
       "    .dataframe thead th {\n",
       "        text-align: right;\n",
       "    }\n",
       "</style>\n",
       "<table border=\"1\" class=\"dataframe\">\n",
       "  <thead>\n",
       "    <tr style=\"text-align: right;\">\n",
       "      <th></th>\n",
       "      <th>League</th>\n",
       "      <th>Division</th>\n",
       "      <th>City</th>\n",
       "      <th>Team</th>\n",
       "      <th>games_back</th>\n",
       "      <th>wins</th>\n",
       "      <th>losses</th>\n",
       "      <th>season</th>\n",
       "    </tr>\n",
       "  </thead>\n",
       "  <tbody>\n",
       "    <tr>\n",
       "      <th>3</th>\n",
       "      <td>NL</td>\n",
       "      <td>Central</td>\n",
       "      <td>St. Louis</td>\n",
       "      <td>Cardinals</td>\n",
       "      <td>0.0</td>\n",
       "      <td>87</td>\n",
       "      <td>63</td>\n",
       "      <td>2022</td>\n",
       "    </tr>\n",
       "    <tr>\n",
       "      <th>4</th>\n",
       "      <td>NL</td>\n",
       "      <td>Central</td>\n",
       "      <td>Milwaukee</td>\n",
       "      <td>Brewers</td>\n",
       "      <td>7.5</td>\n",
       "      <td>79</td>\n",
       "      <td>70</td>\n",
       "      <td>2022</td>\n",
       "    </tr>\n",
       "    <tr>\n",
       "      <th>2</th>\n",
       "      <td>NL</td>\n",
       "      <td>Central</td>\n",
       "      <td>Chicago</td>\n",
       "      <td>Cubs</td>\n",
       "      <td>22.5</td>\n",
       "      <td>64</td>\n",
       "      <td>85</td>\n",
       "      <td>2022</td>\n",
       "    </tr>\n",
       "    <tr>\n",
       "      <th>1</th>\n",
       "      <td>NL</td>\n",
       "      <td>Central</td>\n",
       "      <td>Cincinatti</td>\n",
       "      <td>Reds</td>\n",
       "      <td>27.5</td>\n",
       "      <td>59</td>\n",
       "      <td>90</td>\n",
       "      <td>2022</td>\n",
       "    </tr>\n",
       "    <tr>\n",
       "      <th>0</th>\n",
       "      <td>NL</td>\n",
       "      <td>Central</td>\n",
       "      <td>Pittsburgh</td>\n",
       "      <td>Pirates</td>\n",
       "      <td>31.5</td>\n",
       "      <td>55</td>\n",
       "      <td>94</td>\n",
       "      <td>2022</td>\n",
       "    </tr>\n",
       "  </tbody>\n",
       "</table>\n",
       "</div>"
      ],
      "text/plain": [
       "  League Division        City       Team  games_back  wins  losses  season\n",
       "3     NL  Central   St. Louis  Cardinals         0.0    87      63    2022\n",
       "4     NL  Central   Milwaukee    Brewers         7.5    79      70    2022\n",
       "2     NL  Central     Chicago       Cubs        22.5    64      85    2022\n",
       "1     NL  Central  Cincinatti       Reds        27.5    59      90    2022\n",
       "0     NL  Central  Pittsburgh    Pirates        31.5    55      94    2022"
      ]
     },
     "execution_count": 42,
     "metadata": {},
     "output_type": "execute_result"
    }
   ],
   "source": [
    "baseball_df"
   ]
  },
  {
   "cell_type": "markdown",
   "id": "0b09f0d4-bcf2-4282-8e97-661e5f7a0537",
   "metadata": {},
   "source": [
    "Pandas will replicate the constant value down all rows of the new columns!!!"
   ]
  },
  {
   "cell_type": "code",
   "execution_count": 44,
   "id": "a2693c88-91ac-4f34-8ce7-f659575b3af0",
   "metadata": {},
   "outputs": [
    {
     "data": {
      "text/plain": [
       "Index([3, 4, 2, 1, 0], dtype='int64')"
      ]
     },
     "execution_count": 44,
     "metadata": {},
     "output_type": "execute_result"
    }
   ],
   "source": [
    "baseball_df.wins.index"
   ]
  },
  {
   "cell_type": "code",
   "execution_count": 45,
   "id": "b565d9cd-07f2-496b-bf26-de2126e51dd5",
   "metadata": {},
   "outputs": [
    {
     "data": {
      "text/plain": [
       "Index([3, 4, 2, 1, 0], dtype='int64')"
      ]
     },
     "execution_count": 45,
     "metadata": {},
     "output_type": "execute_result"
    }
   ],
   "source": [
    "baseball_df.season.index"
   ]
  },
  {
   "cell_type": "markdown",
   "id": "d361aeb0-95f5-4e64-9e11-dca90e038172",
   "metadata": {},
   "source": [
    "### Deleting or Dropping columns\n",
    "\n",
    "We can remove columns thru the `.drop()` method."
   ]
  },
  {
   "cell_type": "code",
   "execution_count": 46,
   "id": "b6162e14-2d91-49d8-83f9-4c7160b951b9",
   "metadata": {},
   "outputs": [
    {
     "data": {
      "text/html": [
       "<div>\n",
       "<style scoped>\n",
       "    .dataframe tbody tr th:only-of-type {\n",
       "        vertical-align: middle;\n",
       "    }\n",
       "\n",
       "    .dataframe tbody tr th {\n",
       "        vertical-align: top;\n",
       "    }\n",
       "\n",
       "    .dataframe thead th {\n",
       "        text-align: right;\n",
       "    }\n",
       "</style>\n",
       "<table border=\"1\" class=\"dataframe\">\n",
       "  <thead>\n",
       "    <tr style=\"text-align: right;\">\n",
       "      <th></th>\n",
       "      <th>League</th>\n",
       "      <th>Division</th>\n",
       "      <th>City</th>\n",
       "      <th>Team</th>\n",
       "      <th>games_back</th>\n",
       "      <th>wins</th>\n",
       "      <th>losses</th>\n",
       "    </tr>\n",
       "  </thead>\n",
       "  <tbody>\n",
       "    <tr>\n",
       "      <th>3</th>\n",
       "      <td>NL</td>\n",
       "      <td>Central</td>\n",
       "      <td>St. Louis</td>\n",
       "      <td>Cardinals</td>\n",
       "      <td>0.0</td>\n",
       "      <td>87</td>\n",
       "      <td>63</td>\n",
       "    </tr>\n",
       "    <tr>\n",
       "      <th>4</th>\n",
       "      <td>NL</td>\n",
       "      <td>Central</td>\n",
       "      <td>Milwaukee</td>\n",
       "      <td>Brewers</td>\n",
       "      <td>7.5</td>\n",
       "      <td>79</td>\n",
       "      <td>70</td>\n",
       "    </tr>\n",
       "    <tr>\n",
       "      <th>2</th>\n",
       "      <td>NL</td>\n",
       "      <td>Central</td>\n",
       "      <td>Chicago</td>\n",
       "      <td>Cubs</td>\n",
       "      <td>22.5</td>\n",
       "      <td>64</td>\n",
       "      <td>85</td>\n",
       "    </tr>\n",
       "    <tr>\n",
       "      <th>1</th>\n",
       "      <td>NL</td>\n",
       "      <td>Central</td>\n",
       "      <td>Cincinatti</td>\n",
       "      <td>Reds</td>\n",
       "      <td>27.5</td>\n",
       "      <td>59</td>\n",
       "      <td>90</td>\n",
       "    </tr>\n",
       "    <tr>\n",
       "      <th>0</th>\n",
       "      <td>NL</td>\n",
       "      <td>Central</td>\n",
       "      <td>Pittsburgh</td>\n",
       "      <td>Pirates</td>\n",
       "      <td>31.5</td>\n",
       "      <td>55</td>\n",
       "      <td>94</td>\n",
       "    </tr>\n",
       "  </tbody>\n",
       "</table>\n",
       "</div>"
      ],
      "text/plain": [
       "  League Division        City       Team  games_back  wins  losses\n",
       "3     NL  Central   St. Louis  Cardinals         0.0    87      63\n",
       "4     NL  Central   Milwaukee    Brewers         7.5    79      70\n",
       "2     NL  Central     Chicago       Cubs        22.5    64      85\n",
       "1     NL  Central  Cincinatti       Reds        27.5    59      90\n",
       "0     NL  Central  Pittsburgh    Pirates        31.5    55      94"
      ]
     },
     "execution_count": 46,
     "metadata": {},
     "output_type": "execute_result"
    }
   ],
   "source": [
    "baseball_df.drop(columns=[\"season\"])"
   ]
  },
  {
   "cell_type": "code",
   "execution_count": 47,
   "id": "3f9937e7-aee4-4dee-a1e6-fb6b9e19bb20",
   "metadata": {},
   "outputs": [
    {
     "data": {
      "text/html": [
       "<div>\n",
       "<style scoped>\n",
       "    .dataframe tbody tr th:only-of-type {\n",
       "        vertical-align: middle;\n",
       "    }\n",
       "\n",
       "    .dataframe tbody tr th {\n",
       "        vertical-align: top;\n",
       "    }\n",
       "\n",
       "    .dataframe thead th {\n",
       "        text-align: right;\n",
       "    }\n",
       "</style>\n",
       "<table border=\"1\" class=\"dataframe\">\n",
       "  <thead>\n",
       "    <tr style=\"text-align: right;\">\n",
       "      <th></th>\n",
       "      <th>League</th>\n",
       "      <th>Division</th>\n",
       "      <th>City</th>\n",
       "      <th>Team</th>\n",
       "      <th>games_back</th>\n",
       "      <th>wins</th>\n",
       "      <th>losses</th>\n",
       "      <th>season</th>\n",
       "    </tr>\n",
       "  </thead>\n",
       "  <tbody>\n",
       "    <tr>\n",
       "      <th>3</th>\n",
       "      <td>NL</td>\n",
       "      <td>Central</td>\n",
       "      <td>St. Louis</td>\n",
       "      <td>Cardinals</td>\n",
       "      <td>0.0</td>\n",
       "      <td>87</td>\n",
       "      <td>63</td>\n",
       "      <td>2022</td>\n",
       "    </tr>\n",
       "    <tr>\n",
       "      <th>4</th>\n",
       "      <td>NL</td>\n",
       "      <td>Central</td>\n",
       "      <td>Milwaukee</td>\n",
       "      <td>Brewers</td>\n",
       "      <td>7.5</td>\n",
       "      <td>79</td>\n",
       "      <td>70</td>\n",
       "      <td>2022</td>\n",
       "    </tr>\n",
       "    <tr>\n",
       "      <th>2</th>\n",
       "      <td>NL</td>\n",
       "      <td>Central</td>\n",
       "      <td>Chicago</td>\n",
       "      <td>Cubs</td>\n",
       "      <td>22.5</td>\n",
       "      <td>64</td>\n",
       "      <td>85</td>\n",
       "      <td>2022</td>\n",
       "    </tr>\n",
       "    <tr>\n",
       "      <th>1</th>\n",
       "      <td>NL</td>\n",
       "      <td>Central</td>\n",
       "      <td>Cincinatti</td>\n",
       "      <td>Reds</td>\n",
       "      <td>27.5</td>\n",
       "      <td>59</td>\n",
       "      <td>90</td>\n",
       "      <td>2022</td>\n",
       "    </tr>\n",
       "    <tr>\n",
       "      <th>0</th>\n",
       "      <td>NL</td>\n",
       "      <td>Central</td>\n",
       "      <td>Pittsburgh</td>\n",
       "      <td>Pirates</td>\n",
       "      <td>31.5</td>\n",
       "      <td>55</td>\n",
       "      <td>94</td>\n",
       "      <td>2022</td>\n",
       "    </tr>\n",
       "  </tbody>\n",
       "</table>\n",
       "</div>"
      ],
      "text/plain": [
       "  League Division        City       Team  games_back  wins  losses  season\n",
       "3     NL  Central   St. Louis  Cardinals         0.0    87      63    2022\n",
       "4     NL  Central   Milwaukee    Brewers         7.5    79      70    2022\n",
       "2     NL  Central     Chicago       Cubs        22.5    64      85    2022\n",
       "1     NL  Central  Cincinatti       Reds        27.5    59      90    2022\n",
       "0     NL  Central  Pittsburgh    Pirates        31.5    55      94    2022"
      ]
     },
     "execution_count": 47,
     "metadata": {},
     "output_type": "execute_result"
    }
   ],
   "source": [
    "baseball_df"
   ]
  },
  {
   "cell_type": "code",
   "execution_count": 48,
   "id": "006aa606-b4ca-4077-8b94-c0fe936b8618",
   "metadata": {},
   "outputs": [
    {
     "data": {
      "text/html": [
       "<div>\n",
       "<style scoped>\n",
       "    .dataframe tbody tr th:only-of-type {\n",
       "        vertical-align: middle;\n",
       "    }\n",
       "\n",
       "    .dataframe tbody tr th {\n",
       "        vertical-align: top;\n",
       "    }\n",
       "\n",
       "    .dataframe thead th {\n",
       "        text-align: right;\n",
       "    }\n",
       "</style>\n",
       "<table border=\"1\" class=\"dataframe\">\n",
       "  <thead>\n",
       "    <tr style=\"text-align: right;\">\n",
       "      <th></th>\n",
       "      <th>League</th>\n",
       "      <th>Division</th>\n",
       "      <th>City</th>\n",
       "      <th>Team</th>\n",
       "      <th>games_back</th>\n",
       "    </tr>\n",
       "  </thead>\n",
       "  <tbody>\n",
       "    <tr>\n",
       "      <th>3</th>\n",
       "      <td>NL</td>\n",
       "      <td>Central</td>\n",
       "      <td>St. Louis</td>\n",
       "      <td>Cardinals</td>\n",
       "      <td>0.0</td>\n",
       "    </tr>\n",
       "    <tr>\n",
       "      <th>4</th>\n",
       "      <td>NL</td>\n",
       "      <td>Central</td>\n",
       "      <td>Milwaukee</td>\n",
       "      <td>Brewers</td>\n",
       "      <td>7.5</td>\n",
       "    </tr>\n",
       "    <tr>\n",
       "      <th>2</th>\n",
       "      <td>NL</td>\n",
       "      <td>Central</td>\n",
       "      <td>Chicago</td>\n",
       "      <td>Cubs</td>\n",
       "      <td>22.5</td>\n",
       "    </tr>\n",
       "    <tr>\n",
       "      <th>1</th>\n",
       "      <td>NL</td>\n",
       "      <td>Central</td>\n",
       "      <td>Cincinatti</td>\n",
       "      <td>Reds</td>\n",
       "      <td>27.5</td>\n",
       "    </tr>\n",
       "    <tr>\n",
       "      <th>0</th>\n",
       "      <td>NL</td>\n",
       "      <td>Central</td>\n",
       "      <td>Pittsburgh</td>\n",
       "      <td>Pirates</td>\n",
       "      <td>31.5</td>\n",
       "    </tr>\n",
       "  </tbody>\n",
       "</table>\n",
       "</div>"
      ],
      "text/plain": [
       "  League Division        City       Team  games_back\n",
       "3     NL  Central   St. Louis  Cardinals         0.0\n",
       "4     NL  Central   Milwaukee    Brewers         7.5\n",
       "2     NL  Central     Chicago       Cubs        22.5\n",
       "1     NL  Central  Cincinatti       Reds        27.5\n",
       "0     NL  Central  Pittsburgh    Pirates        31.5"
      ]
     },
     "execution_count": 48,
     "metadata": {},
     "output_type": "execute_result"
    }
   ],
   "source": [
    "baseball_df.drop(columns=[\"season\", \"wins\", \"losses\"])"
   ]
  },
  {
   "cell_type": "markdown",
   "id": "f5c31733-8780-4c8c-95bb-eae478f5d8d1",
   "metadata": {},
   "source": [
    "We would need to set the `inplace` argument to TRUE to RETAIN or KEEP the resulting DataFrame that has FEWER columns!!!"
   ]
  },
  {
   "cell_type": "markdown",
   "id": "48cfc35b-4eff-41df-8731-cbf6580a0121",
   "metadata": {},
   "source": [
    "## Selecting Rows\n",
    "\n",
    "We know how to use the `.loc[]` or the `.iloc[]` attributes to select rows based on the `.index` attribute."
   ]
  },
  {
   "cell_type": "code",
   "execution_count": 49,
   "id": "bbd5554d-af19-4f12-9775-7d2014ae242a",
   "metadata": {},
   "outputs": [
    {
     "data": {
      "text/plain": [
       "League               NL\n",
       "Division        Central\n",
       "City          St. Louis\n",
       "Team          Cardinals\n",
       "games_back          0.0\n",
       "wins                 87\n",
       "losses               63\n",
       "season             2022\n",
       "Name: 3, dtype: object"
      ]
     },
     "execution_count": 49,
     "metadata": {},
     "output_type": "execute_result"
    }
   ],
   "source": [
    "baseball_df.loc[3]"
   ]
  },
  {
   "cell_type": "code",
   "execution_count": 50,
   "id": "76f92570-1b0a-48f2-9e05-f8043851c241",
   "metadata": {},
   "outputs": [
    {
     "data": {
      "text/plain": [
       "League                NL\n",
       "Division         Central\n",
       "City          Cincinatti\n",
       "Team                Reds\n",
       "games_back          27.5\n",
       "wins                  59\n",
       "losses                90\n",
       "season              2022\n",
       "Name: 1, dtype: object"
      ]
     },
     "execution_count": 50,
     "metadata": {},
     "output_type": "execute_result"
    }
   ],
   "source": [
    "baseball_df.iloc[3]"
   ]
  },
  {
   "cell_type": "markdown",
   "id": "d6598b76-19bd-411b-bf29-59237dbe24a3",
   "metadata": {},
   "source": [
    "But the most interesting way to SELECT or FILTER rows is based on CONDITIONS!!!\n",
    "\n",
    "We want to CONDITIONALLY SUBSET the rows!!!\n",
    "\n",
    "We must identify or SELECT the column to apply the condition!"
   ]
  },
  {
   "cell_type": "code",
   "execution_count": 53,
   "id": "76ab2f89-6640-462c-8124-184f04d4bcd0",
   "metadata": {},
   "outputs": [
    {
     "data": {
      "text/html": [
       "<div>\n",
       "<style scoped>\n",
       "    .dataframe tbody tr th:only-of-type {\n",
       "        vertical-align: middle;\n",
       "    }\n",
       "\n",
       "    .dataframe tbody tr th {\n",
       "        vertical-align: top;\n",
       "    }\n",
       "\n",
       "    .dataframe thead th {\n",
       "        text-align: right;\n",
       "    }\n",
       "</style>\n",
       "<table border=\"1\" class=\"dataframe\">\n",
       "  <thead>\n",
       "    <tr style=\"text-align: right;\">\n",
       "      <th></th>\n",
       "      <th>League</th>\n",
       "      <th>Division</th>\n",
       "      <th>City</th>\n",
       "      <th>Team</th>\n",
       "      <th>games_back</th>\n",
       "      <th>wins</th>\n",
       "      <th>losses</th>\n",
       "      <th>season</th>\n",
       "    </tr>\n",
       "  </thead>\n",
       "  <tbody>\n",
       "    <tr>\n",
       "      <th>3</th>\n",
       "      <td>NL</td>\n",
       "      <td>Central</td>\n",
       "      <td>St. Louis</td>\n",
       "      <td>Cardinals</td>\n",
       "      <td>0.0</td>\n",
       "      <td>87</td>\n",
       "      <td>63</td>\n",
       "      <td>2022</td>\n",
       "    </tr>\n",
       "    <tr>\n",
       "      <th>4</th>\n",
       "      <td>NL</td>\n",
       "      <td>Central</td>\n",
       "      <td>Milwaukee</td>\n",
       "      <td>Brewers</td>\n",
       "      <td>7.5</td>\n",
       "      <td>79</td>\n",
       "      <td>70</td>\n",
       "      <td>2022</td>\n",
       "    </tr>\n",
       "  </tbody>\n",
       "</table>\n",
       "</div>"
      ],
      "text/plain": [
       "  League Division       City       Team  games_back  wins  losses  season\n",
       "3     NL  Central  St. Louis  Cardinals         0.0    87      63    2022\n",
       "4     NL  Central  Milwaukee    Brewers         7.5    79      70    2022"
      ]
     },
     "execution_count": 53,
     "metadata": {},
     "output_type": "execute_result"
    }
   ],
   "source": [
    "baseball_df[baseball_df.wins > 65]"
   ]
  },
  {
   "cell_type": "code",
   "execution_count": 55,
   "id": "ee4ce7b6-093e-41a4-9324-1952202ee896",
   "metadata": {},
   "outputs": [
    {
     "data": {
      "text/plain": [
       "pandas.core.series.Series"
      ]
     },
     "execution_count": 55,
     "metadata": {},
     "output_type": "execute_result"
    }
   ],
   "source": [
    "type(baseball_df.wins)"
   ]
  },
  {
   "cell_type": "code",
   "execution_count": 65,
   "id": "556a7abe-d5a2-4a31-8dbe-8f1c6fe6c613",
   "metadata": {},
   "outputs": [
    {
     "data": {
      "text/html": [
       "<div>\n",
       "<style scoped>\n",
       "    .dataframe tbody tr th:only-of-type {\n",
       "        vertical-align: middle;\n",
       "    }\n",
       "\n",
       "    .dataframe tbody tr th {\n",
       "        vertical-align: top;\n",
       "    }\n",
       "\n",
       "    .dataframe thead th {\n",
       "        text-align: right;\n",
       "    }\n",
       "</style>\n",
       "<table border=\"1\" class=\"dataframe\">\n",
       "  <thead>\n",
       "    <tr style=\"text-align: right;\">\n",
       "      <th></th>\n",
       "      <th>League</th>\n",
       "      <th>Division</th>\n",
       "      <th>City</th>\n",
       "      <th>Team</th>\n",
       "      <th>games_back</th>\n",
       "      <th>wins</th>\n",
       "      <th>losses</th>\n",
       "      <th>season</th>\n",
       "    </tr>\n",
       "  </thead>\n",
       "  <tbody>\n",
       "    <tr>\n",
       "      <th>3</th>\n",
       "      <td>NL</td>\n",
       "      <td>Central</td>\n",
       "      <td>St. Louis</td>\n",
       "      <td>Cardinals</td>\n",
       "      <td>0.0</td>\n",
       "      <td>87</td>\n",
       "      <td>63</td>\n",
       "      <td>2022</td>\n",
       "    </tr>\n",
       "    <tr>\n",
       "      <th>4</th>\n",
       "      <td>NL</td>\n",
       "      <td>Central</td>\n",
       "      <td>Milwaukee</td>\n",
       "      <td>Brewers</td>\n",
       "      <td>7.5</td>\n",
       "      <td>79</td>\n",
       "      <td>70</td>\n",
       "      <td>2022</td>\n",
       "    </tr>\n",
       "    <tr>\n",
       "      <th>2</th>\n",
       "      <td>NL</td>\n",
       "      <td>Central</td>\n",
       "      <td>Chicago</td>\n",
       "      <td>Cubs</td>\n",
       "      <td>22.5</td>\n",
       "      <td>64</td>\n",
       "      <td>85</td>\n",
       "      <td>2022</td>\n",
       "    </tr>\n",
       "    <tr>\n",
       "      <th>1</th>\n",
       "      <td>NL</td>\n",
       "      <td>Central</td>\n",
       "      <td>Cincinatti</td>\n",
       "      <td>Reds</td>\n",
       "      <td>27.5</td>\n",
       "      <td>59</td>\n",
       "      <td>90</td>\n",
       "      <td>2022</td>\n",
       "    </tr>\n",
       "    <tr>\n",
       "      <th>0</th>\n",
       "      <td>NL</td>\n",
       "      <td>Central</td>\n",
       "      <td>Pittsburgh</td>\n",
       "      <td>Pirates</td>\n",
       "      <td>31.5</td>\n",
       "      <td>55</td>\n",
       "      <td>94</td>\n",
       "      <td>2022</td>\n",
       "    </tr>\n",
       "  </tbody>\n",
       "</table>\n",
       "</div>"
      ],
      "text/plain": [
       "  League Division        City       Team  games_back  wins  losses  season\n",
       "3     NL  Central   St. Louis  Cardinals         0.0    87      63    2022\n",
       "4     NL  Central   Milwaukee    Brewers         7.5    79      70    2022\n",
       "2     NL  Central     Chicago       Cubs        22.5    64      85    2022\n",
       "1     NL  Central  Cincinatti       Reds        27.5    59      90    2022\n",
       "0     NL  Central  Pittsburgh    Pirates        31.5    55      94    2022"
      ]
     },
     "execution_count": 65,
     "metadata": {},
     "output_type": "execute_result"
    }
   ],
   "source": [
    "baseball_df"
   ]
  },
  {
   "cell_type": "code",
   "execution_count": 87,
   "id": "5f0623e5-4f5d-410e-9cb8-86f04a786a1c",
   "metadata": {},
   "outputs": [
    {
     "data": {
      "text/html": [
       "<div>\n",
       "<style scoped>\n",
       "    .dataframe tbody tr th:only-of-type {\n",
       "        vertical-align: middle;\n",
       "    }\n",
       "\n",
       "    .dataframe tbody tr th {\n",
       "        vertical-align: top;\n",
       "    }\n",
       "\n",
       "    .dataframe thead th {\n",
       "        text-align: right;\n",
       "    }\n",
       "</style>\n",
       "<table border=\"1\" class=\"dataframe\">\n",
       "  <thead>\n",
       "    <tr style=\"text-align: right;\">\n",
       "      <th></th>\n",
       "      <th>Team</th>\n",
       "      <th>City</th>\n",
       "    </tr>\n",
       "  </thead>\n",
       "  <tbody>\n",
       "    <tr>\n",
       "      <th>3</th>\n",
       "      <td>Cardinals</td>\n",
       "      <td>St. Louis</td>\n",
       "    </tr>\n",
       "    <tr>\n",
       "      <th>2</th>\n",
       "      <td>Cubs</td>\n",
       "      <td>Chicago</td>\n",
       "    </tr>\n",
       "  </tbody>\n",
       "</table>\n",
       "</div>"
      ],
      "text/plain": [
       "        Team       City\n",
       "3  Cardinals  St. Louis\n",
       "2       Cubs    Chicago"
      ]
     },
     "execution_count": 87,
     "metadata": {},
     "output_type": "execute_result"
    }
   ],
   "source": [
    "baseball_df.loc[[3, 2], [\"Team\", \"City\"]]"
   ]
  },
  {
   "cell_type": "code",
   "execution_count": 92,
   "id": "199c3f24-e05f-41d0-8981-022830ffe2a6",
   "metadata": {},
   "outputs": [
    {
     "data": {
      "text/html": [
       "<div>\n",
       "<style scoped>\n",
       "    .dataframe tbody tr th:only-of-type {\n",
       "        vertical-align: middle;\n",
       "    }\n",
       "\n",
       "    .dataframe tbody tr th {\n",
       "        vertical-align: top;\n",
       "    }\n",
       "\n",
       "    .dataframe thead th {\n",
       "        text-align: right;\n",
       "    }\n",
       "</style>\n",
       "<table border=\"1\" class=\"dataframe\">\n",
       "  <thead>\n",
       "    <tr style=\"text-align: right;\">\n",
       "      <th></th>\n",
       "      <th>League</th>\n",
       "      <th>Division</th>\n",
       "      <th>City</th>\n",
       "      <th>Team</th>\n",
       "      <th>games_back</th>\n",
       "      <th>wins</th>\n",
       "      <th>losses</th>\n",
       "      <th>season</th>\n",
       "    </tr>\n",
       "  </thead>\n",
       "  <tbody>\n",
       "    <tr>\n",
       "      <th>3</th>\n",
       "      <td>NL</td>\n",
       "      <td>Central</td>\n",
       "      <td>St. Louis</td>\n",
       "      <td>Cardinals</td>\n",
       "      <td>0.0</td>\n",
       "      <td>87</td>\n",
       "      <td>63</td>\n",
       "      <td>2022</td>\n",
       "    </tr>\n",
       "    <tr>\n",
       "      <th>4</th>\n",
       "      <td>NL</td>\n",
       "      <td>Central</td>\n",
       "      <td>Milwaukee</td>\n",
       "      <td>Brewers</td>\n",
       "      <td>7.5</td>\n",
       "      <td>79</td>\n",
       "      <td>70</td>\n",
       "      <td>2022</td>\n",
       "    </tr>\n",
       "  </tbody>\n",
       "</table>\n",
       "</div>"
      ],
      "text/plain": [
       "  League Division       City       Team  games_back  wins  losses  season\n",
       "3     NL  Central  St. Louis  Cardinals         0.0    87      63    2022\n",
       "4     NL  Central  Milwaukee    Brewers         7.5    79      70    2022"
      ]
     },
     "execution_count": 92,
     "metadata": {},
     "output_type": "execute_result"
    }
   ],
   "source": [
    "baseball_df.loc[baseball_df.wins > 65]"
   ]
  },
  {
   "cell_type": "code",
   "execution_count": 96,
   "id": "8805fdcf-b892-43a7-abec-be906a18a2f9",
   "metadata": {},
   "outputs": [
    {
     "data": {
      "text/html": [
       "<div>\n",
       "<style scoped>\n",
       "    .dataframe tbody tr th:only-of-type {\n",
       "        vertical-align: middle;\n",
       "    }\n",
       "\n",
       "    .dataframe tbody tr th {\n",
       "        vertical-align: top;\n",
       "    }\n",
       "\n",
       "    .dataframe thead th {\n",
       "        text-align: right;\n",
       "    }\n",
       "</style>\n",
       "<table border=\"1\" class=\"dataframe\">\n",
       "  <thead>\n",
       "    <tr style=\"text-align: right;\">\n",
       "      <th></th>\n",
       "      <th>League</th>\n",
       "      <th>Division</th>\n",
       "      <th>City</th>\n",
       "      <th>Team</th>\n",
       "      <th>games_back</th>\n",
       "      <th>wins</th>\n",
       "      <th>losses</th>\n",
       "      <th>season</th>\n",
       "    </tr>\n",
       "  </thead>\n",
       "  <tbody>\n",
       "    <tr>\n",
       "      <th>3</th>\n",
       "      <td>NL</td>\n",
       "      <td>Central</td>\n",
       "      <td>St. Louis</td>\n",
       "      <td>Cardinals</td>\n",
       "      <td>0.0</td>\n",
       "      <td>87</td>\n",
       "      <td>63</td>\n",
       "      <td>2022</td>\n",
       "    </tr>\n",
       "    <tr>\n",
       "      <th>4</th>\n",
       "      <td>NL</td>\n",
       "      <td>Central</td>\n",
       "      <td>Milwaukee</td>\n",
       "      <td>Brewers</td>\n",
       "      <td>7.5</td>\n",
       "      <td>79</td>\n",
       "      <td>70</td>\n",
       "      <td>2022</td>\n",
       "    </tr>\n",
       "  </tbody>\n",
       "</table>\n",
       "</div>"
      ],
      "text/plain": [
       "  League Division       City       Team  games_back  wins  losses  season\n",
       "3     NL  Central  St. Louis  Cardinals         0.0    87      63    2022\n",
       "4     NL  Central  Milwaukee    Brewers         7.5    79      70    2022"
      ]
     },
     "execution_count": 96,
     "metadata": {},
     "output_type": "execute_result"
    }
   ],
   "source": [
    "baseball_df.loc[baseball_df.wins > 65, :]"
   ]
  },
  {
   "cell_type": "code",
   "execution_count": 99,
   "id": "3d6dab1a-0f29-4a40-a4f4-0e4a140b6b92",
   "metadata": {},
   "outputs": [
    {
     "data": {
      "text/html": [
       "<div>\n",
       "<style scoped>\n",
       "    .dataframe tbody tr th:only-of-type {\n",
       "        vertical-align: middle;\n",
       "    }\n",
       "\n",
       "    .dataframe tbody tr th {\n",
       "        vertical-align: top;\n",
       "    }\n",
       "\n",
       "    .dataframe thead th {\n",
       "        text-align: right;\n",
       "    }\n",
       "</style>\n",
       "<table border=\"1\" class=\"dataframe\">\n",
       "  <thead>\n",
       "    <tr style=\"text-align: right;\">\n",
       "      <th></th>\n",
       "      <th>League</th>\n",
       "      <th>Division</th>\n",
       "      <th>City</th>\n",
       "      <th>Team</th>\n",
       "      <th>games_back</th>\n",
       "      <th>wins</th>\n",
       "      <th>losses</th>\n",
       "      <th>season</th>\n",
       "    </tr>\n",
       "  </thead>\n",
       "  <tbody>\n",
       "    <tr>\n",
       "      <th>3</th>\n",
       "      <td>NL</td>\n",
       "      <td>Central</td>\n",
       "      <td>St. Louis</td>\n",
       "      <td>Cardinals</td>\n",
       "      <td>0.0</td>\n",
       "      <td>87</td>\n",
       "      <td>63</td>\n",
       "      <td>2022</td>\n",
       "    </tr>\n",
       "    <tr>\n",
       "      <th>4</th>\n",
       "      <td>NL</td>\n",
       "      <td>Central</td>\n",
       "      <td>Milwaukee</td>\n",
       "      <td>Brewers</td>\n",
       "      <td>7.5</td>\n",
       "      <td>79</td>\n",
       "      <td>70</td>\n",
       "      <td>2022</td>\n",
       "    </tr>\n",
       "  </tbody>\n",
       "</table>\n",
       "</div>"
      ],
      "text/plain": [
       "  League Division       City       Team  games_back  wins  losses  season\n",
       "3     NL  Central  St. Louis  Cardinals         0.0    87      63    2022\n",
       "4     NL  Central  Milwaukee    Brewers         7.5    79      70    2022"
      ]
     },
     "execution_count": 99,
     "metadata": {},
     "output_type": "execute_result"
    }
   ],
   "source": [
    "baseball_df[baseball_df.wins > 65]"
   ]
  },
  {
   "cell_type": "markdown",
   "id": "7b4c7750-3242-4af2-a497-3a56e344b89a",
   "metadata": {},
   "source": [
    "We can select a subset of the columns by providing a LIST of column names!"
   ]
  },
  {
   "cell_type": "code",
   "execution_count": 100,
   "id": "b70a9d2b-6a59-4f54-bd46-6d85ed51065d",
   "metadata": {},
   "outputs": [
    {
     "data": {
      "text/html": [
       "<div>\n",
       "<style scoped>\n",
       "    .dataframe tbody tr th:only-of-type {\n",
       "        vertical-align: middle;\n",
       "    }\n",
       "\n",
       "    .dataframe tbody tr th {\n",
       "        vertical-align: top;\n",
       "    }\n",
       "\n",
       "    .dataframe thead th {\n",
       "        text-align: right;\n",
       "    }\n",
       "</style>\n",
       "<table border=\"1\" class=\"dataframe\">\n",
       "  <thead>\n",
       "    <tr style=\"text-align: right;\">\n",
       "      <th></th>\n",
       "      <th>Team</th>\n",
       "      <th>wins</th>\n",
       "      <th>losses</th>\n",
       "    </tr>\n",
       "  </thead>\n",
       "  <tbody>\n",
       "    <tr>\n",
       "      <th>3</th>\n",
       "      <td>Cardinals</td>\n",
       "      <td>87</td>\n",
       "      <td>63</td>\n",
       "    </tr>\n",
       "    <tr>\n",
       "      <th>4</th>\n",
       "      <td>Brewers</td>\n",
       "      <td>79</td>\n",
       "      <td>70</td>\n",
       "    </tr>\n",
       "  </tbody>\n",
       "</table>\n",
       "</div>"
      ],
      "text/plain": [
       "        Team  wins  losses\n",
       "3  Cardinals    87      63\n",
       "4    Brewers    79      70"
      ]
     },
     "execution_count": 100,
     "metadata": {},
     "output_type": "execute_result"
    }
   ],
   "source": [
    "baseball_df.loc[baseball_df.wins > 65, [\"Team\", \"wins\", \"losses\"]]"
   ]
  },
  {
   "cell_type": "markdown",
   "id": "109e28b3-1858-4a33-b3f5-804b70d44306",
   "metadata": {},
   "source": [
    "We can also FILTER by strings. For example, let's find the row where the `Team == Brewers`."
   ]
  },
  {
   "cell_type": "code",
   "execution_count": 101,
   "id": "5760619b-b866-4164-89aa-b6d247fc844d",
   "metadata": {},
   "outputs": [
    {
     "data": {
      "text/html": [
       "<div>\n",
       "<style scoped>\n",
       "    .dataframe tbody tr th:only-of-type {\n",
       "        vertical-align: middle;\n",
       "    }\n",
       "\n",
       "    .dataframe tbody tr th {\n",
       "        vertical-align: top;\n",
       "    }\n",
       "\n",
       "    .dataframe thead th {\n",
       "        text-align: right;\n",
       "    }\n",
       "</style>\n",
       "<table border=\"1\" class=\"dataframe\">\n",
       "  <thead>\n",
       "    <tr style=\"text-align: right;\">\n",
       "      <th></th>\n",
       "      <th>League</th>\n",
       "      <th>Division</th>\n",
       "      <th>City</th>\n",
       "      <th>Team</th>\n",
       "      <th>games_back</th>\n",
       "      <th>wins</th>\n",
       "      <th>losses</th>\n",
       "      <th>season</th>\n",
       "    </tr>\n",
       "  </thead>\n",
       "  <tbody>\n",
       "    <tr>\n",
       "      <th>0</th>\n",
       "      <td>NL</td>\n",
       "      <td>Central</td>\n",
       "      <td>Pittsburgh</td>\n",
       "      <td>Pirates</td>\n",
       "      <td>31.5</td>\n",
       "      <td>55</td>\n",
       "      <td>94</td>\n",
       "      <td>2022</td>\n",
       "    </tr>\n",
       "  </tbody>\n",
       "</table>\n",
       "</div>"
      ],
      "text/plain": [
       "  League Division        City     Team  games_back  wins  losses  season\n",
       "0     NL  Central  Pittsburgh  Pirates        31.5    55      94    2022"
      ]
     },
     "execution_count": 101,
     "metadata": {},
     "output_type": "execute_result"
    }
   ],
   "source": [
    "baseball_df.loc[baseball_df.Team == \"Pirates\"]"
   ]
  },
  {
   "cell_type": "markdown",
   "id": "bc15d06f-e2a5-4c4a-ae38-6b1f45b9b3f7",
   "metadata": {},
   "source": [
    "If you want to match or FILTER based on MULTIPLE conditions, you need to use the () to separate each condition!!\n",
    "\n",
    "For example, let's find Brewers or the Cardinals"
   ]
  },
  {
   "cell_type": "code",
   "execution_count": 102,
   "id": "3c934117-26eb-489a-a282-7ce981708071",
   "metadata": {},
   "outputs": [
    {
     "data": {
      "text/html": [
       "<div>\n",
       "<style scoped>\n",
       "    .dataframe tbody tr th:only-of-type {\n",
       "        vertical-align: middle;\n",
       "    }\n",
       "\n",
       "    .dataframe tbody tr th {\n",
       "        vertical-align: top;\n",
       "    }\n",
       "\n",
       "    .dataframe thead th {\n",
       "        text-align: right;\n",
       "    }\n",
       "</style>\n",
       "<table border=\"1\" class=\"dataframe\">\n",
       "  <thead>\n",
       "    <tr style=\"text-align: right;\">\n",
       "      <th></th>\n",
       "      <th>League</th>\n",
       "      <th>Division</th>\n",
       "      <th>City</th>\n",
       "      <th>Team</th>\n",
       "      <th>games_back</th>\n",
       "      <th>wins</th>\n",
       "      <th>losses</th>\n",
       "      <th>season</th>\n",
       "    </tr>\n",
       "  </thead>\n",
       "  <tbody>\n",
       "    <tr>\n",
       "      <th>3</th>\n",
       "      <td>NL</td>\n",
       "      <td>Central</td>\n",
       "      <td>St. Louis</td>\n",
       "      <td>Cardinals</td>\n",
       "      <td>0.0</td>\n",
       "      <td>87</td>\n",
       "      <td>63</td>\n",
       "      <td>2022</td>\n",
       "    </tr>\n",
       "    <tr>\n",
       "      <th>4</th>\n",
       "      <td>NL</td>\n",
       "      <td>Central</td>\n",
       "      <td>Milwaukee</td>\n",
       "      <td>Brewers</td>\n",
       "      <td>7.5</td>\n",
       "      <td>79</td>\n",
       "      <td>70</td>\n",
       "      <td>2022</td>\n",
       "    </tr>\n",
       "  </tbody>\n",
       "</table>\n",
       "</div>"
      ],
      "text/plain": [
       "  League Division       City       Team  games_back  wins  losses  season\n",
       "3     NL  Central  St. Louis  Cardinals         0.0    87      63    2022\n",
       "4     NL  Central  Milwaukee    Brewers         7.5    79      70    2022"
      ]
     },
     "execution_count": 102,
     "metadata": {},
     "output_type": "execute_result"
    }
   ],
   "source": [
    "baseball_df.loc[(baseball_df.Team == \"Brewers\") | (baseball_df.Team == \"Cardinals\"), :]"
   ]
  },
  {
   "cell_type": "markdown",
   "id": "7eb5e50b-44e0-467b-9767-269e72a4780c",
   "metadata": {},
   "source": [
    "We can also have an AND operation.\n",
    "\n",
    "I want to find all the rows where Team is equal to Cardinals AND the wins is greater than 65."
   ]
  },
  {
   "cell_type": "code",
   "execution_count": 103,
   "id": "247e073c-93f6-4636-9fee-6b0f647ff8df",
   "metadata": {},
   "outputs": [
    {
     "data": {
      "text/html": [
       "<div>\n",
       "<style scoped>\n",
       "    .dataframe tbody tr th:only-of-type {\n",
       "        vertical-align: middle;\n",
       "    }\n",
       "\n",
       "    .dataframe tbody tr th {\n",
       "        vertical-align: top;\n",
       "    }\n",
       "\n",
       "    .dataframe thead th {\n",
       "        text-align: right;\n",
       "    }\n",
       "</style>\n",
       "<table border=\"1\" class=\"dataframe\">\n",
       "  <thead>\n",
       "    <tr style=\"text-align: right;\">\n",
       "      <th></th>\n",
       "      <th>League</th>\n",
       "      <th>Division</th>\n",
       "      <th>City</th>\n",
       "      <th>Team</th>\n",
       "      <th>games_back</th>\n",
       "      <th>wins</th>\n",
       "      <th>losses</th>\n",
       "      <th>season</th>\n",
       "    </tr>\n",
       "  </thead>\n",
       "  <tbody>\n",
       "    <tr>\n",
       "      <th>3</th>\n",
       "      <td>NL</td>\n",
       "      <td>Central</td>\n",
       "      <td>St. Louis</td>\n",
       "      <td>Cardinals</td>\n",
       "      <td>0.0</td>\n",
       "      <td>87</td>\n",
       "      <td>63</td>\n",
       "      <td>2022</td>\n",
       "    </tr>\n",
       "  </tbody>\n",
       "</table>\n",
       "</div>"
      ],
      "text/plain": [
       "  League Division       City       Team  games_back  wins  losses  season\n",
       "3     NL  Central  St. Louis  Cardinals         0.0    87      63    2022"
      ]
     },
     "execution_count": 103,
     "metadata": {},
     "output_type": "execute_result"
    }
   ],
   "source": [
    "baseball_df.loc[(baseball_df.Team == \"Cardinals\") & (baseball_df.wins > 65), :]"
   ]
  },
  {
   "cell_type": "markdown",
   "id": "cccba875-7a96-4d7d-88df-3f287fd856ec",
   "metadata": {},
   "source": [
    "## Summary\n",
    "\n",
    "We have seen how to select COLUMNS using BRACKET and DOT notation.\n",
    "\n",
    "We have seen how to select multiple columns.\n",
    "\n",
    "We have seen how to select ROWS based on `.index` attribute via `.loc[]` and `iloc[]`.\n",
    "\n",
    "We have seen how to select ROWS based on CONDITIONS (FILTERING rows).\n",
    "\n",
    "We have seen how to ADD and REMOVE (DROP) COLUMNS."
   ]
  },
  {
   "cell_type": "code",
   "execution_count": null,
   "id": "c4a3ae09-7fa5-4d7e-929e-2a0d97d42ade",
   "metadata": {},
   "outputs": [],
   "source": []
  },
  {
   "cell_type": "code",
   "execution_count": null,
   "id": "cf9b93b3-6b63-4b7a-9587-ce76536a1492",
   "metadata": {},
   "outputs": [],
   "source": []
  },
  {
   "cell_type": "code",
   "execution_count": null,
   "id": "c83ccd06-9000-498a-8791-00dc5cc89aeb",
   "metadata": {},
   "outputs": [],
   "source": []
  },
  {
   "cell_type": "code",
   "execution_count": null,
   "id": "c1984939-73c9-4862-9514-e1957d9e8e03",
   "metadata": {},
   "outputs": [],
   "source": []
  },
  {
   "cell_type": "code",
   "execution_count": null,
   "id": "315b408b-74c7-4e64-9c53-7e183991ff03",
   "metadata": {},
   "outputs": [],
   "source": []
  },
  {
   "cell_type": "code",
   "execution_count": null,
   "id": "30dc2b45-7c51-4e04-9248-5c949e11696e",
   "metadata": {},
   "outputs": [],
   "source": []
  },
  {
   "cell_type": "code",
   "execution_count": null,
   "id": "c14ff9ce-9e13-43da-bed5-810d805ba08c",
   "metadata": {},
   "outputs": [],
   "source": []
  },
  {
   "cell_type": "code",
   "execution_count": null,
   "id": "f846f3ca-badb-424e-bca4-04620ff4322e",
   "metadata": {},
   "outputs": [],
   "source": []
  },
  {
   "cell_type": "code",
   "execution_count": null,
   "id": "35bba8e3-b11a-4bfa-87a0-3651d6a10517",
   "metadata": {},
   "outputs": [],
   "source": []
  },
  {
   "cell_type": "code",
   "execution_count": null,
   "id": "3703f068-6300-4ab0-9ddb-97585428e509",
   "metadata": {},
   "outputs": [],
   "source": []
  },
  {
   "cell_type": "code",
   "execution_count": null,
   "id": "e3011416-1ba2-4a44-9f53-a79e0bc92771",
   "metadata": {},
   "outputs": [],
   "source": []
  },
  {
   "cell_type": "code",
   "execution_count": null,
   "id": "c1f3dae5-d68c-4b80-8ac7-02aea157a4c8",
   "metadata": {},
   "outputs": [],
   "source": []
  },
  {
   "cell_type": "code",
   "execution_count": null,
   "id": "a1685bc1-18d5-4faf-9bf0-0aa2cb69ceaf",
   "metadata": {},
   "outputs": [],
   "source": []
  },
  {
   "cell_type": "code",
   "execution_count": null,
   "id": "91df4510-9769-4366-b79a-9c8b88e54f73",
   "metadata": {},
   "outputs": [],
   "source": []
  },
  {
   "cell_type": "code",
   "execution_count": null,
   "id": "fa4fdd9d-72d3-49e4-b030-506f8f7ab630",
   "metadata": {},
   "outputs": [],
   "source": []
  },
  {
   "cell_type": "code",
   "execution_count": null,
   "id": "770151e7-17e7-42ce-a4c5-b8e1a9325545",
   "metadata": {},
   "outputs": [],
   "source": []
  },
  {
   "cell_type": "code",
   "execution_count": null,
   "id": "169abc47-bead-45f7-bd46-fd2f2c42cc4e",
   "metadata": {},
   "outputs": [],
   "source": []
  },
  {
   "cell_type": "code",
   "execution_count": null,
   "id": "5e96b2a0-3cbb-482b-af55-9c0c7cf22bbf",
   "metadata": {},
   "outputs": [],
   "source": []
  },
  {
   "cell_type": "code",
   "execution_count": null,
   "id": "57f84db4-808e-4fcd-88d3-ea38345bd557",
   "metadata": {},
   "outputs": [],
   "source": []
  },
  {
   "cell_type": "code",
   "execution_count": null,
   "id": "55e8e594-75eb-41d9-b6e9-7e34ae36970c",
   "metadata": {},
   "outputs": [],
   "source": []
  },
  {
   "cell_type": "code",
   "execution_count": null,
   "id": "fedb835a-2b51-4648-9f5e-6a1c64854fbe",
   "metadata": {},
   "outputs": [],
   "source": []
  },
  {
   "cell_type": "code",
   "execution_count": null,
   "id": "551a55a9-816c-4320-9d36-eb0281eaaebb",
   "metadata": {},
   "outputs": [],
   "source": []
  },
  {
   "cell_type": "code",
   "execution_count": null,
   "id": "c9001de4-8641-4b6f-9d8c-f21b7c8642e4",
   "metadata": {},
   "outputs": [],
   "source": []
  },
  {
   "cell_type": "code",
   "execution_count": null,
   "id": "d85f7ed7-7136-4e96-ba3b-f2ecacb56c3d",
   "metadata": {},
   "outputs": [],
   "source": []
  },
  {
   "cell_type": "code",
   "execution_count": null,
   "id": "f39cb1cc-d10f-47ee-94f3-0af66e156214",
   "metadata": {},
   "outputs": [],
   "source": []
  },
  {
   "cell_type": "code",
   "execution_count": null,
   "id": "34ada4a7-7d7a-4c7a-942c-3c5b927de633",
   "metadata": {},
   "outputs": [],
   "source": []
  },
  {
   "cell_type": "code",
   "execution_count": null,
   "id": "5e5a7915-a0c5-4b5c-9255-c55cca02e5a9",
   "metadata": {},
   "outputs": [],
   "source": []
  },
  {
   "cell_type": "code",
   "execution_count": null,
   "id": "e67d640a-9ae6-4fb2-a392-c71ea379181b",
   "metadata": {},
   "outputs": [],
   "source": []
  },
  {
   "cell_type": "code",
   "execution_count": null,
   "id": "5189b4c1-5f32-4a02-b0c3-c6cd127e8c63",
   "metadata": {},
   "outputs": [],
   "source": []
  },
  {
   "cell_type": "code",
   "execution_count": null,
   "id": "cde8b23a-2b34-4256-8a68-f32dfa52c389",
   "metadata": {},
   "outputs": [],
   "source": []
  },
  {
   "cell_type": "code",
   "execution_count": null,
   "id": "cbf235e6-98d1-4623-b454-4b7ec6e85be2",
   "metadata": {},
   "outputs": [],
   "source": []
  },
  {
   "cell_type": "code",
   "execution_count": null,
   "id": "009b1836-4637-40aa-bb46-d00feebbc3a9",
   "metadata": {},
   "outputs": [],
   "source": []
  },
  {
   "cell_type": "code",
   "execution_count": null,
   "id": "2d1be4ac-6cdd-44a5-8fce-886eac5584ae",
   "metadata": {},
   "outputs": [],
   "source": []
  },
  {
   "cell_type": "code",
   "execution_count": null,
   "id": "ed3f73a0-2c3e-437b-88c6-e9f8ec1d454a",
   "metadata": {},
   "outputs": [],
   "source": []
  },
  {
   "cell_type": "code",
   "execution_count": null,
   "id": "94f018e1-51ee-4f0f-89ac-e2aeac4db2a2",
   "metadata": {},
   "outputs": [],
   "source": []
  },
  {
   "cell_type": "code",
   "execution_count": null,
   "id": "9da64afc-2805-43b2-ae87-d72635b51d21",
   "metadata": {},
   "outputs": [],
   "source": []
  },
  {
   "cell_type": "code",
   "execution_count": null,
   "id": "ea425e8e-24a1-4a76-aa20-e72b4f7b9d76",
   "metadata": {},
   "outputs": [],
   "source": []
  },
  {
   "cell_type": "code",
   "execution_count": null,
   "id": "e1a9fce5-d1d4-426d-ab6d-2b417161c698",
   "metadata": {},
   "outputs": [],
   "source": []
  },
  {
   "cell_type": "code",
   "execution_count": null,
   "id": "82193163-fc33-427b-a8c1-ac0f4ddf3e3c",
   "metadata": {},
   "outputs": [],
   "source": []
  },
  {
   "cell_type": "code",
   "execution_count": null,
   "id": "a5ef55ae-4e3d-4d09-876f-b1fd5c441f21",
   "metadata": {},
   "outputs": [],
   "source": []
  },
  {
   "cell_type": "code",
   "execution_count": null,
   "id": "09700358-ad6b-40cb-9d56-ce6c52b8ee50",
   "metadata": {},
   "outputs": [],
   "source": []
  },
  {
   "cell_type": "code",
   "execution_count": null,
   "id": "f36c4bb2-5241-4a10-8648-b695cdfd5826",
   "metadata": {},
   "outputs": [],
   "source": []
  },
  {
   "cell_type": "code",
   "execution_count": null,
   "id": "9160bf9c-7a4f-430f-aed3-dde49d48d81c",
   "metadata": {},
   "outputs": [],
   "source": []
  }
 ],
 "metadata": {
  "kernelspec": {
   "display_name": "Python 3 (ipykernel)",
   "language": "python",
   "name": "python3"
  },
  "language_info": {
   "codemirror_mode": {
    "name": "ipython",
    "version": 3
   },
   "file_extension": ".py",
   "mimetype": "text/x-python",
   "name": "python",
   "nbconvert_exporter": "python",
   "pygments_lexer": "ipython3",
   "version": "3.8.19"
  }
 },
 "nbformat": 4,
 "nbformat_minor": 5
}
