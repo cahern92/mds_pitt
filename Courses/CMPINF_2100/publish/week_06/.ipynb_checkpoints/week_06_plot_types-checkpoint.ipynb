{
 "cells": [
  {
   "cell_type": "markdown",
   "id": "17748660-4ab9-4fbf-9ec2-032a6e7b047c",
   "metadata": {},
   "source": [
    "## CMPINF 2100 Week 06\n",
    "### What type of plot should I use???\n",
    "\n",
    "This is a very common question, but it is often the WRONG question to ask!!!\n",
    "\n",
    "## Import Modules"
   ]
  },
  {
   "cell_type": "code",
   "execution_count": 4,
   "id": "bd073f4f-9ec5-4827-b05a-94e285e9b6c0",
   "metadata": {},
   "outputs": [],
   "source": [
    "import numpy as np\n",
    "import pandas as pd\n",
    "import matplotlib.pyplot as plt\n",
    "\n",
    "import seaborn as sns"
   ]
  },
  {
   "cell_type": "markdown",
   "id": "b82e63fe-e4e4-4bcd-9478-1f7d8fe6d2d2",
   "metadata": {},
   "source": [
    "## Read Data\n",
    "\n",
    "We will use 2 diff data sets this week.\n",
    "\n",
    "The first is the GAPMINDER data. The second is the Palmer Penguins data set."
   ]
  },
  {
   "cell_type": "code",
   "execution_count": 7,
   "id": "adb8a24c-3cf8-4568-bb8d-29643a48c553",
   "metadata": {},
   "outputs": [],
   "source": [
    "gap_df = pd.read_csv(\"gapminder.tsv\", sep=\"\\t\")"
   ]
  },
  {
   "cell_type": "code",
   "execution_count": 10,
   "id": "79d16b24-95d7-47c2-89c0-4bd1bd7cabb8",
   "metadata": {},
   "outputs": [
    {
     "name": "stdout",
     "output_type": "stream",
     "text": [
      "<class 'pandas.core.frame.DataFrame'>\n",
      "RangeIndex: 1704 entries, 0 to 1703\n",
      "Data columns (total 6 columns):\n",
      " #   Column     Non-Null Count  Dtype  \n",
      "---  ------     --------------  -----  \n",
      " 0   country    1704 non-null   object \n",
      " 1   continent  1704 non-null   object \n",
      " 2   year       1704 non-null   int64  \n",
      " 3   lifeExp    1704 non-null   float64\n",
      " 4   pop        1704 non-null   int64  \n",
      " 5   gdpPercap  1704 non-null   float64\n",
      "dtypes: float64(2), int64(2), object(2)\n",
      "memory usage: 80.0+ KB\n"
     ]
    }
   ],
   "source": [
    "gap_df.info()"
   ]
  },
  {
   "cell_type": "markdown",
   "id": "c212c138-2b0e-49d1-8aaa-9e8bc0851e11",
   "metadata": {},
   "source": [
    "The Penguins dataset are read in or loaded from the Seaborn module."
   ]
  },
  {
   "cell_type": "code",
   "execution_count": 11,
   "id": "344da023-746b-474c-8db3-a542e9e343aa",
   "metadata": {},
   "outputs": [],
   "source": [
    "penguins = sns.load_dataset(\"penguins\")"
   ]
  },
  {
   "cell_type": "code",
   "execution_count": 12,
   "id": "574d1396-6656-4e73-84ca-7085f0af0cb5",
   "metadata": {},
   "outputs": [
    {
     "name": "stdout",
     "output_type": "stream",
     "text": [
      "<class 'pandas.core.frame.DataFrame'>\n",
      "RangeIndex: 344 entries, 0 to 343\n",
      "Data columns (total 7 columns):\n",
      " #   Column             Non-Null Count  Dtype  \n",
      "---  ------             --------------  -----  \n",
      " 0   species            344 non-null    object \n",
      " 1   island             344 non-null    object \n",
      " 2   bill_length_mm     342 non-null    float64\n",
      " 3   bill_depth_mm      342 non-null    float64\n",
      " 4   flipper_length_mm  342 non-null    float64\n",
      " 5   body_mass_g        342 non-null    float64\n",
      " 6   sex                333 non-null    object \n",
      "dtypes: float64(4), object(3)\n",
      "memory usage: 18.9+ KB\n"
     ]
    }
   ],
   "source": [
    "penguins.info()"
   ]
  },
  {
   "cell_type": "markdown",
   "id": "3e94dc73-3865-4ac8-bc09-7888675f49c7",
   "metadata": {},
   "source": [
    "## Introduction to Visualization\n",
    "\n",
    "When deciding the type of plot you should use...you must ask yourself the following questions:\n",
    "\n",
    "* Do I have the data?\n",
    "* What data types am I working with?\n",
    "* What are the number of unique values for the variables?\n",
    "* What are my goals?\n",
    "\n",
    "There are specific plots for different purposes. The type of plot is MOSTLY determined by the:\n",
    "* Data type\n",
    "* Number of unique values\n",
    "* Individual variable vs relationship between multiple variables\n",
    "\n",
    "### Influence of data type\n",
    "\n",
    "There are two main data types we need to concern ourselves with:\n",
    "* Categorical - strings, letters, words, or non-numeric values\n",
    "* Continuous - integers, floats or numeric values\n",
    "\n",
    "The most basic type of plot for non-numeric variables is the **BAR CHART**!!! You should ALWAYS start with creating bar charts!! The bar chart shows the **COUNT** for the number of rows per unique value!!!\n",
    "\n",
    "The analog for counts with continuous variables or numeric vars are **DISTRIBUTIONS**. The fundamental type of distribution plot is the **HISTORGRAM**.\n",
    "\n",
    "### Influence of number of unique values\n",
    "\n",
    "Continous vars or numeric vars with FEW unique values can be EXPLORED as if they are categorical vars!\n",
    "\n",
    "For example, the num of cylinders in a car. You will 4, 6, and 8 as a common values for the num of cylinders.\n",
    "\n",
    "### Individual vs relationships\n",
    "\n",
    "A plot focused on individual vars is commonly called a **MARGINAL** plot. Marginal means we are ignoring every other variable. We are focused on a single variable by itself!\n",
    "\n",
    "A MARGINAL histogram is a plot of the distribution of a single continuous (numeric) variable.\n",
    "\n",
    "A MARGINAL bar chart is a plot of the counts of the categories for a single categorical variable.\n",
    "\n",
    "Relationship plots examine how 2 or more variables CHANGE or VARY together!!!\n",
    "\n",
    "## Examples\n",
    "\n",
    "Start with the gap minder data."
   ]
  },
  {
   "cell_type": "code",
   "execution_count": 13,
   "id": "6531ce9e-1fb6-472e-ba02-62383f48a7ad",
   "metadata": {},
   "outputs": [
    {
     "data": {
      "text/plain": [
       "country       object\n",
       "continent     object\n",
       "year           int64\n",
       "lifeExp      float64\n",
       "pop            int64\n",
       "gdpPercap    float64\n",
       "dtype: object"
      ]
     },
     "execution_count": 13,
     "metadata": {},
     "output_type": "execute_result"
    }
   ],
   "source": [
    "gap_df.dtypes"
   ]
  },
  {
   "cell_type": "markdown",
   "id": "e7638770-8974-4744-994f-6c8c8e0effd7",
   "metadata": {},
   "source": [
    "Non-numerics are country and continent we will COUNT their categories with bar charts."
   ]
  },
  {
   "cell_type": "code",
   "execution_count": 14,
   "id": "0d3e227d-ab9e-4979-9991-5cf3340e87ba",
   "metadata": {},
   "outputs": [
    {
     "data": {
      "text/plain": [
       "country       142\n",
       "continent       5\n",
       "year           12\n",
       "lifeExp      1626\n",
       "pop          1704\n",
       "gdpPercap    1704\n",
       "dtype: int64"
      ]
     },
     "execution_count": 14,
     "metadata": {},
     "output_type": "execute_result"
    }
   ],
   "source": [
    "gap_df.nunique()"
   ]
  },
  {
   "cell_type": "markdown",
   "id": "d2cc3579-4e8d-4888-a03f-0e5f8b47bcca",
   "metadata": {},
   "source": [
    "The year col has only 12 unique values in gap_df. Thus, we may want to visually explore year as if it is categorical to simplify the figures.\n",
    "\n",
    "Usually, I will consider a continuous variable with 7 or fewer unique cats when exploring data. But I will make exceptions for 10, 12, and 15 unique values."
   ]
  },
  {
   "cell_type": "code",
   "execution_count": 15,
   "id": "255cec3b-9735-4f20-a2b9-10b5f087f9a3",
   "metadata": {},
   "outputs": [
    {
     "data": {
      "text/plain": [
       "species               object\n",
       "island                object\n",
       "bill_length_mm       float64\n",
       "bill_depth_mm        float64\n",
       "flipper_length_mm    float64\n",
       "body_mass_g          float64\n",
       "sex                   object\n",
       "dtype: object"
      ]
     },
     "execution_count": 15,
     "metadata": {},
     "output_type": "execute_result"
    }
   ],
   "source": [
    "penguins.dtypes"
   ]
  },
  {
   "cell_type": "markdown",
   "id": "59f616e4-1230-4cc4-9fb4-5ac91bc31f94",
   "metadata": {},
   "source": [
    "The species, island and sex columns are categorical vars. We will COUNT the cats for this categorical vars!"
   ]
  },
  {
   "cell_type": "code",
   "execution_count": 16,
   "id": "a9cbd6e1-40ca-4d83-94df-6fbd9fd3b794",
   "metadata": {},
   "outputs": [
    {
     "data": {
      "text/plain": [
       "species                3\n",
       "island                 3\n",
       "bill_length_mm       164\n",
       "bill_depth_mm         80\n",
       "flipper_length_mm     55\n",
       "body_mass_g           94\n",
       "sex                    2\n",
       "dtype: int64"
      ]
     },
     "execution_count": 16,
     "metadata": {},
     "output_type": "execute_result"
    }
   ],
   "source": [
    "penguins.nunique()"
   ]
  },
  {
   "cell_type": "markdown",
   "id": "ab62e176-3e78-4748-aa42-a5b26ceca5ff",
   "metadata": {},
   "source": []
  },
  {
   "cell_type": "code",
   "execution_count": null,
   "id": "edcb26dc-774b-46d7-a832-4887dfda4b8d",
   "metadata": {},
   "outputs": [],
   "source": []
  },
  {
   "cell_type": "code",
   "execution_count": null,
   "id": "91ceddd8-5e1e-44f3-9d5a-c4c853719975",
   "metadata": {},
   "outputs": [],
   "source": []
  }
 ],
 "metadata": {
  "kernelspec": {
   "display_name": "Python 3 (ipykernel)",
   "language": "python",
   "name": "python3"
  },
  "language_info": {
   "codemirror_mode": {
    "name": "ipython",
    "version": 3
   },
   "file_extension": ".py",
   "mimetype": "text/x-python",
   "name": "python",
   "nbconvert_exporter": "python",
   "pygments_lexer": "ipython3",
   "version": "3.8.19"
  }
 },
 "nbformat": 4,
 "nbformat_minor": 5
}
